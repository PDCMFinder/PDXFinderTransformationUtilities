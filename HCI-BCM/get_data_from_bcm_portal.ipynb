{
 "cells": [
  {
   "cell_type": "code",
   "execution_count": 23,
   "id": "initial_id",
   "metadata": {
    "collapsed": true,
    "ExecuteTime": {
     "end_time": "2024-05-21T11:42:06.345651Z",
     "start_time": "2024-05-21T11:42:06.338237Z"
    }
   },
   "outputs": [],
   "source": [
    "from utils import *\n",
    "from pandas import read_csv, DataFrame"
   ]
  },
  {
   "cell_type": "code",
   "outputs": [],
   "source": [
    "metadata_file = 'Breast_collection_models.csv'\n",
    "hci_bcm_provider_path = join(home, 'HCI-BCM')\n",
    "\n",
    "metadata = read_csv(metadata_file)\n",
    "ps = read_metadata_without_fields(join(hci_bcm_provider_path, 'HCI-BCM_metadata-patient_sample.tsv'))[['patient_id', 'sample_id', 'model_id']]\n",
    "mms = read_metadata_without_fields(join(hci_bcm_provider_path, 'HCI-BCM_molecular_metadata-sample.tsv'))\n",
    "mms_template = read_metadata_with_fields(join(hci_bcm_provider_path, 'HCI-BCM_molecular_metadata-sample.tsv')).iloc[0:4,]\n",
    "biomarker_sheet = read_metadata_with_fields(join(hci_bcm_provider_path, 'biomarker/HCI-BCM_biomarker-Sheet1.tsv'))\n",
    "patient_treatment = read_metadata_with_fields(join(hci_bcm_provider_path, 'treatment/HCI-BCM_patienttreatment-Sheet1.tsv'))\n",
    "\n",
    "biomarker_platform = 'cytogenetics_immunohistochemistry'\n",
    "columns_to_extract = ['Patient ER Status', 'Patient PR Status', 'Patient HER2 Status', 'PDX ER Status', 'PDX PR Status', 'PDX HER2 Status']\n",
    "columns_to_marker = {'Patient ER Status': 'ESR1', 'Patient PR Status': 'PGR', 'Patient HER2 Status': 'ERBB2', \n",
    "                     'PDX ER Status': 'ESR1', 'PDX PR Status': 'PGR', 'PDX HER2 Status': 'ERBB2'}\n",
    "models_in_metadata = ps.merge(metadata, left_on='model_id', right_on='Model ID', how='inner')\n",
    "\n",
    "def check_model_in_sheets(sheet, model, so):\n",
    "    if model not in sheet['model_id'].unique():        \n",
    "        return True\n",
    "    sheet_match = sheet[sheet['model_id'] == model].reset_index(drop=True)\n",
    "    sheet_so = sheet_match['sample_origin'][0]\n",
    "    if so != sheet_so:\n",
    "        return True\n",
    "    return False\n",
    "\n",
    "biomarker_df = DataFrame()\n",
    "for model in models_in_metadata.iterrows():\n",
    "    m = model[1]\n",
    "    for column in columns_to_extract:\n",
    "        if column.__contains__('Patient'):\n",
    "            sample_origin = 'patient'\n",
    "        else:\n",
    "            sample_origin = 'xenograft'\n",
    "        if check_model_in_sheets(mms, m['model_id'], sample_origin):\n",
    "            temp = DataFrame(columns=biomarker_sheet.columns)\n",
    "            temp['sample_id'] = [f\"{m['sample_id']}_{sample_origin[0]}\"]\n",
    "            temp['model_id'] = m['model_id']\n",
    "            temp['sample_origin'] = sample_origin\n",
    "            temp['platform_id'] = biomarker_platform\n",
    "            temp['biomarker'] = columns_to_marker[column]\n",
    "            temp['biomarker_status'] = m[column].lower()\n",
    "            biomarker_df = pd.concat([biomarker_df, temp])\n",
    "pd.concat([biomarker_sheet, biomarker_df[biomarker_sheet.columns]]).to_csv(join(hci_bcm_provider_path, 'biomarker/HCI-BCM_biomarker-Sheet1.tsv'), index=False, sep='\\t')\n",
    "biomarker_df[['passage', 'host_strain_name', 'host_strain_nomenclature', 'engrafted_tumor_collection_site', 'raw_data_url']] = ''\n",
    "final_mms = biomarker_df[mms.columns].drop_duplicates()\n",
    "final_mms = pd.concat([mms_template, mms, final_mms])\n",
    "final_mms.to_csv(join(hci_bcm_provider_path, 'HCI-BCM_molecular_metadata-sample.tsv'), sep='\\t', index=False)"
   ],
   "metadata": {
    "collapsed": false,
    "ExecuteTime": {
     "end_time": "2024-05-21T11:58:07.248617Z",
     "start_time": "2024-05-21T11:58:06.432181Z"
    }
   },
   "id": "8cbcac4882241eec",
   "execution_count": 37
  },
  {
   "cell_type": "code",
   "outputs": [],
   "source": [
    "treat = DataFrame()\n",
    "for model in models_in_metadata.iterrows():\n",
    "    m = model[1]\n",
    "    if m['Patient ID'] not in patient_treatment['patient_id'].unique() and m['Patient Treatments'] != '':\n",
    "        temp = DataFrame(columns=patient_treatment.columns)\n",
    "        temp['patient_id'] = [m['Patient ID']]\n",
    "        temp['treatment_name'] = m['Patient Treatments']\n",
    "        temp['model_id'] = m['Model ID']\n",
    "        temp['treatment_name'] = temp['treatment_name'].str.split(',')\n",
    "        temp = temp.explode('treatment_name').reset_index(drop=True)\n",
    "        treat = pd.concat([treat, temp]).reset_index(drop=True).fillna('Not provided')\n",
    "treat['Field'] = ''\n",
    "patient_treatment = pd.concat([patient_treatment, treat]).reset_index(drop=True)"
   ],
   "metadata": {
    "collapsed": false,
    "ExecuteTime": {
     "end_time": "2024-05-21T12:39:54.949490Z",
     "start_time": "2024-05-21T12:39:54.484991Z"
    }
   },
   "id": "2dc2372047288a5a",
   "execution_count": 53
  },
  {
   "cell_type": "code",
   "outputs": [],
   "source": [
    "patient_treatment.to_csv(join(hci_bcm_provider_path, 'treatment/HCI-BCM_patienttreatment-Sheet1.tsv'), sep='\\t', index=False)"
   ],
   "metadata": {
    "collapsed": false,
    "ExecuteTime": {
     "end_time": "2024-05-21T12:40:21.749271Z",
     "start_time": "2024-05-21T12:40:21.724526Z"
    }
   },
   "id": "5953af0204ee7da2",
   "execution_count": 55
  },
  {
   "cell_type": "code",
   "outputs": [
    {
     "data": {
      "text/plain": "            Field patient_id       treatment_name treatment_type  \\\n0    Not provided     0RR2HE               Zometa   Not provided   \n1    Not provided       1366         Capecitabine   Not provided   \n2    Not provided       1366     Cyclophosphamide   Not provided   \n3    Not provided       1366            Docetaxel   Not provided   \n4    Not provided       1366           Epirubicin   Not provided   \n..            ...        ...                  ...            ...   \n255  Not provided     Y0T0JD          Capcitabine   Not provided   \n256  Not provided     Y0T0JD     Cyclophosphamide   Not provided   \n257  Not provided     Y0T0JD          Doxorubicin   Not provided   \n258  Not provided     Y0T0JD            Pacitaxel   Not provided   \n259  Not provided     Y0T0JD  chest wall and scar   Not provided   \n\n    treatment_dose treatment_starting_date treatment_duration treatment_event  \\\n0     Not provided            Not provided       Not provided    Not provided   \n1     Not provided            Not provided       Not provided    Not provided   \n2     Not provided            Not provided       Not provided    Not provided   \n3     Not provided            Not provided       Not provided    Not provided   \n4     Not provided            Not provided       Not provided    Not provided   \n..             ...                     ...                ...             ...   \n255   Not provided            Not provided       Not provided    Not provided   \n256   Not provided            Not provided       Not provided    Not provided   \n257   Not provided            Not provided       Not provided    Not provided   \n258   Not provided            Not provided       Not provided    Not provided   \n259   Not provided            Not provided       Not provided    Not provided   \n\n     elapsed_time treatment_response response_classification  model_id  \n0    Not provided       Not provided            Not provided   HCI-002  \n1    Not provided       Not provided            Not provided  BCM-7649  \n2    Not provided       Not provided            Not provided  BCM-7649  \n3    Not provided       Not provided            Not provided  BCM-7649  \n4    Not provided       Not provided            Not provided  BCM-7649  \n..            ...                ...                     ...       ...  \n255  Not provided       Not provided            Not provided   HCI-011  \n256  Not provided       Not provided            Not provided   HCI-011  \n257  Not provided       Not provided            Not provided   HCI-011  \n258  Not provided       Not provided            Not provided   HCI-011  \n259  Not provided       Not provided            Not provided   HCI-011  \n\n[260 rows x 12 columns]",
      "text/html": "<div>\n<style scoped>\n    .dataframe tbody tr th:only-of-type {\n        vertical-align: middle;\n    }\n\n    .dataframe tbody tr th {\n        vertical-align: top;\n    }\n\n    .dataframe thead th {\n        text-align: right;\n    }\n</style>\n<table border=\"1\" class=\"dataframe\">\n  <thead>\n    <tr style=\"text-align: right;\">\n      <th></th>\n      <th>Field</th>\n      <th>patient_id</th>\n      <th>treatment_name</th>\n      <th>treatment_type</th>\n      <th>treatment_dose</th>\n      <th>treatment_starting_date</th>\n      <th>treatment_duration</th>\n      <th>treatment_event</th>\n      <th>elapsed_time</th>\n      <th>treatment_response</th>\n      <th>response_classification</th>\n      <th>model_id</th>\n    </tr>\n  </thead>\n  <tbody>\n    <tr>\n      <th>0</th>\n      <td>Not provided</td>\n      <td>0RR2HE</td>\n      <td>Zometa</td>\n      <td>Not provided</td>\n      <td>Not provided</td>\n      <td>Not provided</td>\n      <td>Not provided</td>\n      <td>Not provided</td>\n      <td>Not provided</td>\n      <td>Not provided</td>\n      <td>Not provided</td>\n      <td>HCI-002</td>\n    </tr>\n    <tr>\n      <th>1</th>\n      <td>Not provided</td>\n      <td>1366</td>\n      <td>Capecitabine</td>\n      <td>Not provided</td>\n      <td>Not provided</td>\n      <td>Not provided</td>\n      <td>Not provided</td>\n      <td>Not provided</td>\n      <td>Not provided</td>\n      <td>Not provided</td>\n      <td>Not provided</td>\n      <td>BCM-7649</td>\n    </tr>\n    <tr>\n      <th>2</th>\n      <td>Not provided</td>\n      <td>1366</td>\n      <td>Cyclophosphamide</td>\n      <td>Not provided</td>\n      <td>Not provided</td>\n      <td>Not provided</td>\n      <td>Not provided</td>\n      <td>Not provided</td>\n      <td>Not provided</td>\n      <td>Not provided</td>\n      <td>Not provided</td>\n      <td>BCM-7649</td>\n    </tr>\n    <tr>\n      <th>3</th>\n      <td>Not provided</td>\n      <td>1366</td>\n      <td>Docetaxel</td>\n      <td>Not provided</td>\n      <td>Not provided</td>\n      <td>Not provided</td>\n      <td>Not provided</td>\n      <td>Not provided</td>\n      <td>Not provided</td>\n      <td>Not provided</td>\n      <td>Not provided</td>\n      <td>BCM-7649</td>\n    </tr>\n    <tr>\n      <th>4</th>\n      <td>Not provided</td>\n      <td>1366</td>\n      <td>Epirubicin</td>\n      <td>Not provided</td>\n      <td>Not provided</td>\n      <td>Not provided</td>\n      <td>Not provided</td>\n      <td>Not provided</td>\n      <td>Not provided</td>\n      <td>Not provided</td>\n      <td>Not provided</td>\n      <td>BCM-7649</td>\n    </tr>\n    <tr>\n      <th>...</th>\n      <td>...</td>\n      <td>...</td>\n      <td>...</td>\n      <td>...</td>\n      <td>...</td>\n      <td>...</td>\n      <td>...</td>\n      <td>...</td>\n      <td>...</td>\n      <td>...</td>\n      <td>...</td>\n      <td>...</td>\n    </tr>\n    <tr>\n      <th>255</th>\n      <td>Not provided</td>\n      <td>Y0T0JD</td>\n      <td>Capcitabine</td>\n      <td>Not provided</td>\n      <td>Not provided</td>\n      <td>Not provided</td>\n      <td>Not provided</td>\n      <td>Not provided</td>\n      <td>Not provided</td>\n      <td>Not provided</td>\n      <td>Not provided</td>\n      <td>HCI-011</td>\n    </tr>\n    <tr>\n      <th>256</th>\n      <td>Not provided</td>\n      <td>Y0T0JD</td>\n      <td>Cyclophosphamide</td>\n      <td>Not provided</td>\n      <td>Not provided</td>\n      <td>Not provided</td>\n      <td>Not provided</td>\n      <td>Not provided</td>\n      <td>Not provided</td>\n      <td>Not provided</td>\n      <td>Not provided</td>\n      <td>HCI-011</td>\n    </tr>\n    <tr>\n      <th>257</th>\n      <td>Not provided</td>\n      <td>Y0T0JD</td>\n      <td>Doxorubicin</td>\n      <td>Not provided</td>\n      <td>Not provided</td>\n      <td>Not provided</td>\n      <td>Not provided</td>\n      <td>Not provided</td>\n      <td>Not provided</td>\n      <td>Not provided</td>\n      <td>Not provided</td>\n      <td>HCI-011</td>\n    </tr>\n    <tr>\n      <th>258</th>\n      <td>Not provided</td>\n      <td>Y0T0JD</td>\n      <td>Pacitaxel</td>\n      <td>Not provided</td>\n      <td>Not provided</td>\n      <td>Not provided</td>\n      <td>Not provided</td>\n      <td>Not provided</td>\n      <td>Not provided</td>\n      <td>Not provided</td>\n      <td>Not provided</td>\n      <td>HCI-011</td>\n    </tr>\n    <tr>\n      <th>259</th>\n      <td>Not provided</td>\n      <td>Y0T0JD</td>\n      <td>chest wall and scar</td>\n      <td>Not provided</td>\n      <td>Not provided</td>\n      <td>Not provided</td>\n      <td>Not provided</td>\n      <td>Not provided</td>\n      <td>Not provided</td>\n      <td>Not provided</td>\n      <td>Not provided</td>\n      <td>HCI-011</td>\n    </tr>\n  </tbody>\n</table>\n<p>260 rows × 12 columns</p>\n</div>"
     },
     "execution_count": 52,
     "metadata": {},
     "output_type": "execute_result"
    }
   ],
   "source": [
    "treat"
   ],
   "metadata": {
    "collapsed": false,
    "ExecuteTime": {
     "end_time": "2024-05-21T12:36:03.591032Z",
     "start_time": "2024-05-21T12:36:03.579260Z"
    }
   },
   "id": "575e4acec7b414df",
   "execution_count": 52
  },
  {
   "cell_type": "code",
   "outputs": [
    {
     "data": {
      "text/plain": "  Field patient_id treatment_name treatment_type treatment_dose  \\\n0   NaN     0RR2HE         Zometa            NaN            NaN   \n\n  treatment_starting_date treatment_duration treatment_event elapsed_time  \\\n0                     NaN                NaN             NaN          NaN   \n\n  treatment_response response_classification model_id  \n0                NaN                     NaN  HCI-002  ",
      "text/html": "<div>\n<style scoped>\n    .dataframe tbody tr th:only-of-type {\n        vertical-align: middle;\n    }\n\n    .dataframe tbody tr th {\n        vertical-align: top;\n    }\n\n    .dataframe thead th {\n        text-align: right;\n    }\n</style>\n<table border=\"1\" class=\"dataframe\">\n  <thead>\n    <tr style=\"text-align: right;\">\n      <th></th>\n      <th>Field</th>\n      <th>patient_id</th>\n      <th>treatment_name</th>\n      <th>treatment_type</th>\n      <th>treatment_dose</th>\n      <th>treatment_starting_date</th>\n      <th>treatment_duration</th>\n      <th>treatment_event</th>\n      <th>elapsed_time</th>\n      <th>treatment_response</th>\n      <th>response_classification</th>\n      <th>model_id</th>\n    </tr>\n  </thead>\n  <tbody>\n    <tr>\n      <th>0</th>\n      <td>NaN</td>\n      <td>0RR2HE</td>\n      <td>Zometa</td>\n      <td>NaN</td>\n      <td>NaN</td>\n      <td>NaN</td>\n      <td>NaN</td>\n      <td>NaN</td>\n      <td>NaN</td>\n      <td>NaN</td>\n      <td>NaN</td>\n      <td>HCI-002</td>\n    </tr>\n  </tbody>\n</table>\n</div>"
     },
     "execution_count": 46,
     "metadata": {},
     "output_type": "execute_result"
    }
   ],
   "source": [
    "temp.explode('treatment_name').reset_index(drop=True)"
   ],
   "metadata": {
    "collapsed": false,
    "ExecuteTime": {
     "end_time": "2024-05-21T12:34:41.519734Z",
     "start_time": "2024-05-21T12:34:41.497433Z"
    }
   },
   "id": "4927d4a29596ff1a",
   "execution_count": 46
  },
  {
   "cell_type": "code",
   "outputs": [],
   "source": [
    "''"
   ],
   "metadata": {
    "collapsed": false
   },
   "id": "71a67c494ec95240"
  }
 ],
 "metadata": {
  "kernelspec": {
   "display_name": "Python 3",
   "language": "python",
   "name": "python3"
  },
  "language_info": {
   "codemirror_mode": {
    "name": "ipython",
    "version": 2
   },
   "file_extension": ".py",
   "mimetype": "text/x-python",
   "name": "python",
   "nbconvert_exporter": "python",
   "pygments_lexer": "ipython2",
   "version": "2.7.6"
  }
 },
 "nbformat": 4,
 "nbformat_minor": 5
}
