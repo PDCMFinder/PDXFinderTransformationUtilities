{
 "cells": [
  {
   "cell_type": "code",
   "execution_count": null,
   "id": "c3c50b8c",
   "metadata": {},
   "outputs": [],
   "source": [
    "import pandas as pd\n",
    "import numpy as np\n",
    "import sys"
   ]
  },
  {
   "cell_type": "code",
   "execution_count": 20,
   "id": "3d7d3d7d",
   "metadata": {},
   "outputs": [
    {
     "data": {
      "text/html": [
       "<style>.container { width:100% !important; }</style>"
      ],
      "text/plain": [
       "<IPython.core.display.HTML object>"
      ]
     },
     "metadata": {},
     "output_type": "display_data"
    }
   ],
   "source": [
    "from IPython.core.display import display, HTML\n",
    "display(HTML(\"<style>.container { width:100% !important; }</style>\"))"
   ]
  },
  {
   "cell_type": "code",
   "execution_count": 21,
   "id": "2a7de8a4",
   "metadata": {},
   "outputs": [],
   "source": [
    "def align_and_append_sheet(template, other_sheet):\n",
    "    alignment = template.align(other_sheet, join=\"outer\")[1]\n",
    "    return template.append(alignment).dropna(axis=0, how='all')"
   ]
  },
  {
   "cell_type": "code",
   "execution_count": 22,
   "id": "431b253a",
   "metadata": {},
   "outputs": [],
   "source": [
    "def generate_patient_id(model_name):\n",
    "    patient_id = f'{model_name}_patient'\n",
    "    suffix = model_name[-2:]\n",
    "    if suffix == \"-B\" or suffix == \"-A\":\n",
    "        patient_id = f'{model_name[:-2]}_patient'\n",
    "    return patient_id\n",
    "    "
   ]
  },
  {
   "cell_type": "code",
   "execution_count": 40,
   "id": "d81c57ee",
   "metadata": {},
   "outputs": [],
   "source": [
    "def generate_sample_id(model_name):\n",
    "    return f'{model_name}_sample'"
   ]
  },
  {
   "cell_type": "code",
   "execution_count": 41,
   "id": "dbe77b6e",
   "metadata": {},
   "outputs": [],
   "source": [
    "def generate_patient_sheet(hcmiDf, patient_template):\n",
    "    patient_columns = [\"Gender\",\"Race\", \"Age At Diagnosis (Years)\", \"Name\"]\n",
    "    column_name_map = {\"Gender\": \"sex\", \"Race\" : \"ethnicity\",\"Age At Diagnosis (Years)\" :\"age_at_initial_diagnosis\", \"Name\": \"patient_id\"}\n",
    "    HCMI_patient_columns = hcmiDf.loc[:, patient_columns].rename(columns=column_name_map)\n",
    "    HCMI_patient_columns[\"patient_id\"] = HCMI_patient_columns[\"patient_id\"].apply(generate_patient_id)\n",
    "    align_and_append_sheet(patient_template, HCMI_patient_columns).to_csv(\"HCMI_metadata-patient.tsv\", sep='\\t', index=False)"
   ]
  },
  {
   "cell_type": "code",
   "execution_count": 55,
   "id": "d005d32d",
   "metadata": {},
   "outputs": [],
   "source": [
    "def generate_sample_sheet(hcmiDf, samplet_template):\n",
    "    sample_columns = [\"Name\", \"Primary Site\", \"Clinical Tumor Diagnosis\", \"Histological Subtype\", \"Tissue Status\", \"Acquisition Site\", \"Age At Acquisition (Years)\", \"TNM Stage\", \"Histological Grade\"]\n",
    "    sample_name_map = { \"Name\": \"model_id\", \"Primary Site\" : \"primary_site\", \"Tissue Status\" : \"tumour_type\", \"Acquisition Site\" : \"collection_site\", \"Age At Acquisition (Years)\" : \"age_in_years_at_collection\", \"TNM Stage\" : \"stage\", \"Histological Grade\" : \"grade\" }\n",
    "    HCMI_sample_columns = hcmiDf.loc[:, sample_columns].rename(columns=sample_name_map)\n",
    "        HCMI_sample_columns[\"patient_id\"] = HCMI_sample_columns['model_id'].apply(generate_patient_id)\n",
    "    HCMI_sample_columns[\"sample_id\"] = HCMI_sample_columns['model_id'].apply(generate_sample_id)\n",
    "    HCMI_sample_columns[\"diagnosis\"] = HCMI_sample_columns[\"Clinical Tumor Diagnosis\"] + \" \" + HCMI_sample_columns[\"Histological Subtype\"]\n",
    "    HCMI_sample_columns = HCMI_sample_columns.drop([\"Clinical Tumor Diagnosis\",\"Histological Subtype\"], axis=1)\n",
    "    HCMI_sample_columns[\"staging_system\"] = \"TNM staging system\"\n",
    "    HCMI_sample_columns['sharable'] = 'yes'\n",
    "    accepted_tumour_types = [\"Metastasis\", \"Primary\", \"Recurrent\"]\n",
    "    HCMI_sample_columns = HCMI_sample_columns[HCMI_sample_columns.loc[:,'tumour_type'].isin(accepted_tumour_types)]\n",
    "    align_and_append_sheet(sample_template, HCMI_sample_columns).to_csv(\"HCMI_metadata-sample.tsv\", sep='\\t', index=False)"
   ]
  },
  {
   "cell_type": "code",
   "execution_count": 23,
   "id": "9afd2ece",
   "metadata": {},
   "outputs": [],
   "source": [
    "hcmiDf = pd.read_csv(\"model-table.tsv\", sep='\\t')\n",
    "patient_template = pd.read_csv(\"metadata_template-patient.tsv\", sep='\\t').dropna(axis=0, how='all')\n",
    "sample_template = pd.read_csv(\"metadata_template-sample.tsv\", sep='\\t').dropna(axis=0, how='all')"
   ]
  },
  {
   "cell_type": "code",
   "execution_count": 67,
   "id": "e0dfbb28",
   "metadata": {},
   "outputs": [],
   "source": [
    "used_columns_to_drop = [\"Gender\",\"Race\", \"Age At Diagnosis (Years)\",\"Primary Site\", \"Clinical Tumor Diagnosis\", \"Histological Subtype\", \"Tissue Status\", \"Acquisition Site\", \"Age At Acquisition (Years)\", \"TNM Stage\", \"Histological Grade\"]\n",
    "hcmiDf.drop(used_columns_to_drop, axis=1).to_excel(\"leftovers.xlsx\", index=False)"
   ]
  },
  {
   "cell_type": "code",
   "execution_count": null,
   "id": "c9ac9f69",
   "metadata": {},
   "outputs": [],
   "source": []
  }
 ],
 "metadata": {
  "kernelspec": {
   "display_name": "Python 3",
   "language": "python",
   "name": "python3"
  },
  "language_info": {
   "codemirror_mode": {
    "name": "ipython",
    "version": 3
   },
   "file_extension": ".py",
   "mimetype": "text/x-python",
   "name": "python",
   "nbconvert_exporter": "python",
   "pygments_lexer": "ipython3",
   "version": "3.6.9"
  }
 },
 "nbformat": 4,
 "nbformat_minor": 5
}
