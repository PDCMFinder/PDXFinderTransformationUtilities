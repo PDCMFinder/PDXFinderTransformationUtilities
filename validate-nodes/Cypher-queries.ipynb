{
 "cells": [
  {
   "cell_type": "code",
   "execution_count": 27,
   "metadata": {},
   "outputs": [
    {
     "name": "stdout",
     "output_type": "stream",
     "text": [
      "sending incremental file list\n",
      "./\n",
      ".~lock.NKI_metadata.xlsx#\n",
      ".~lock.NKI_samplePlatform.xlsx#\n",
      "NKI_metadata-checklist.tsv\n",
      "NKI_metadata-loader.tsv\n",
      "NKI_metadata-model.tsv\n",
      "NKI_metadata-model_validation.tsv\n",
      "NKI_metadata-patient.tsv\n",
      "NKI_metadata-sample.tsv\n",
      "NKI_metadata-sharing.tsv\n",
      "NKI_metadata.xlsx\n",
      "NKI_samplePlatform-data.tsv\n",
      "NKI_samplePlatform.xlsx\n",
      "cna/\n",
      "cna/NKI_cna.tsv\n",
      "cyto/\n",
      "cyto/NKI_cytogenetics-Sheet1.tsv\n",
      "\n",
      "sent 5,522,828 bytes  received 305 bytes  3,682,088.67 bytes/sec\n",
      "total size is 36,130,453  speedup is 6.54\n"
     ]
    }
   ],
   "source": [
    "%%bash\n",
    "#Rsync your provider folder to this jupyters root\n",
    "mkdir /home/afollette/jupyter_notebooks/validate-nodes/providerData\n",
    "rm -rf /home/afollette/jupyter_notebooks/validate-nodes/providerData/*\n",
    "rsync -avz /home/afollette/Finder_Data_Repositories/pdxfinder-data-release-head/data/UPDOG/NKI/  /home/afollette/jupyter_notebooks/validate-nodes/providerData"
   ]
  },
  {
   "cell_type": "code",
   "execution_count": null,
   "metadata": {},
   "outputs": [],
   "source": [
    "%%bash\n",
    "> patientSampleByMC\n",
    "> xenograftSamplesByMC\n",
    "> allSampleByMc\n",
    "> allSamples\n",
    "> SamplesWithouMC"
   ]
  },
  {
   "cell_type": "code",
   "execution_count": 9,
   "metadata": {},
   "outputs": [],
   "source": [
    "%%bash\n",
    "#All Samples by id. Set has 160 in sample platform \n",
    "bash -c 'cypher-shell -u neo4j -p neo5j \"match (ps:PatientSnapshot)--(s:Sample)-[:IMPLANTED_IN]-(m:ModelCreation)\n",
    "return s.sourceSampleId, m.sourcePdxId;\";' > patientSampleByMC\n"
   ]
  },
  {
   "cell_type": "code",
   "execution_count": 10,
   "metadata": {},
   "outputs": [],
   "source": [
    "%%bash\n",
    "#includes NULLS\n",
    "bash -c 'cypher-shell -u neo4j -p neo5j \"match (mc:ModelCreation)--(s:Sample)--(spe:Specimen)\n",
    "return s.sourceSampleId, mc.sourcePdxId;\"' > xenograftSamplesByMC"
   ]
  },
  {
   "cell_type": "code",
   "execution_count": 12,
   "metadata": {},
   "outputs": [],
   "source": [
    "%%bash\n",
    "bash -c 'cypher-shell -u neo4j -p neo5j \"match (m:ModelCreation)--(s:Sample) return  m.sourcePdxId, s.sourceSampleId\";' > allSampleByMC"
   ]
  },
  {
   "cell_type": "code",
   "execution_count": 13,
   "metadata": {},
   "outputs": [],
   "source": [
    "%%bash\n",
    "bash -c 'cypher-shell -u neo4j -p neo5j \"match (s:Sample)\n",
    "return s.sourceSampleId\";' > allSamples\n",
    "\n"
   ]
  },
  {
   "cell_type": "code",
   "execution_count": 15,
   "metadata": {},
   "outputs": [],
   "source": [
    "%%bash\n",
    "bash -c 'cypher-shell -u neo4j -p neo5j \"match (s:Sample) where not (s)--(:ModelCreation) \n",
    "return s.sourceSampleId\";' > samplesWithouMC"
   ]
  },
  {
   "cell_type": "code",
   "execution_count": 22,
   "metadata": {},
   "outputs": [],
   "source": [
    "%%bash\n",
    "bash -c 'cypher-shell -u neo4j -p neo5j \"match (p:Platform) return distinct p.name\";' > distinctPlatform"
   ]
  },
  {
   "cell_type": "code",
   "execution_count": 24,
   "metadata": {},
   "outputs": [
    {
     "name": "stdout",
     "output_type": "stream",
     "text": [
      "p.name\n",
      "\"Agilent aCGH\"\n",
      "\"immunohistochemistry\"\n"
     ]
    }
   ],
   "source": [
    "cat distinctPlatform"
   ]
  },
  {
   "cell_type": "code",
   "execution_count": 23,
   "metadata": {
    "scrolled": true
   },
   "outputs": [
    {
     "name": "stdout",
     "output_type": "stream",
     "text": [
      "8 patientSampleByMC\n",
      "29 xenograftSamplesByMC\n",
      "43 allSampleByMC\n",
      "36 allSamples\n",
      "0 SamplesWithouMC\n",
      "3 distinctPlatform\n"
     ]
    }
   ],
   "source": [
    "%%bash\n",
    "#values +1 due to title \n",
    "echo \"neo4j data\"\n",
    "wc -l patientSampleByMC;\n",
    "wc -l xenograftSamplesByMC;\n",
    "wc -l allSampleByMC;\n",
    "wc -l allSamples;\n",
    "wc -l SamplesWithouMC;\n",
    "wc -l distinctPlatform;"
   ]
  },
  {
   "cell_type": "code",
   "execution_count": 41,
   "metadata": {},
   "outputs": [
    {
     "name": "stdout",
     "output_type": "stream",
     "text": [
      "T127-xenograft1\txenograft\n",
      "T127-xenograft2\txenograft\n",
      "T127-xenograft3\txenograft\n",
      "T127-xenograft4\txenograft\n",
      "T127-xenograft5\txenograft\n",
      "T127-xenograft6\txenograft\n",
      "T127-xenograft7\txenograft\n",
      "T127-xenograft8\txenograft\n",
      "T127-xenograft9\txenograft\n",
      "T162-xenograft1\txenograft\n",
      "T162-xenograft2\txenograft\n",
      "T162-xenograft3\txenograft\n",
      "T162-xenograft4\txenograft\n",
      "T162-xenograft5\txenograft\n",
      "T162-xenograft6\txenograft\n",
      "T241-xenograft1\txenograft\n",
      "T241-xenograft2\txenograft\n",
      "T241-xenograft3\txenograft\n",
      "T241-xenograft4\txenograft\n",
      "T250-xenograft1\txenograft\n",
      "T250-xenograft2\txenograft\n",
      "T250-xenograft3\txenograft\n",
      "T250-xenograft4\txenograft\n",
      "T250-xenograft5\txenograft\n",
      "T250-xenograft6\txenograft\n",
      "T250-xenograft7\txenograft\n",
      "T250-xenograft8\txenograft\n",
      "T283-xenograft1\txenograft\n",
      "T283-xenograft2\txenograft\n",
      "T283-xenograft3\txenograft\n",
      "T283-xenograft4\txenograft\n",
      "T302-xenograft1\txenograft\n",
      "T302-xenograft2\txenograft\n",
      "T302-xenograft3\txenograft\n",
      "T302-xenograft4\txenograft\n",
      "T336-xenograft1\txenograft\n",
      "T336-xenograft2\txenograft\n",
      "T336-xenograft3\txenograft\n",
      "T336-xenograft4\txenograft\n",
      "T127-xenograft7\txenograft\n",
      "T162-xenograft5\txenograft\n",
      "T241-xenograft5\txenograft\n",
      "T250-xenograft2\txenograft\n",
      "T283-xenograft5\txenograft\n",
      "T302-xenograft5\txenograft\n",
      "T336-xenograft5\txenograft\n"
     ]
    }
   ],
   "source": [
    "%%bash\n",
    "tail -n +6 ./providerData/*samplePlatform-data.tsv > sampleplatform-data\n",
    "cut -f  2,3 sampleplatform-data | grep 'xenograft' | uniq > spXenografts"
   ]
  },
  {
   "cell_type": "code",
   "execution_count": 173,
   "metadata": {},
   "outputs": [],
   "source": [
    "%%bash\n",
    "cat allSampleByMc"
   ]
  },
  {
   "cell_type": "code",
   "execution_count": 224,
   "metadata": {},
   "outputs": [
    {
     "name": "stdout",
     "output_type": "stream",
     "text": [
      "m.sourcePdxId s.sourceSampleId\n",
      "PM3767 NULL\n",
      "PM3767 S-PM3767\n"
     ]
    }
   ],
   "source": [
    "%%bash\n",
    "join -j1 -v2 <( sort -u omicSampleByMc ) <( sort -u allSampleByMC | tr -d \\\" | tr -d \\, ) "
   ]
  },
  {
   "cell_type": "code",
   "execution_count": 83,
   "metadata": {},
   "outputs": [],
   "source": [
    "%%bash \n",
    "xclip -o | sort > spPatients\n"
   ]
  },
  {
   "cell_type": "code",
   "execution_count": 92,
   "metadata": {},
   "outputs": [
    {
     "name": "stdout",
     "output_type": "stream",
     "text": [
      "S-PM10500\n",
      "S-PM14715\n",
      "S-PM25596\n",
      "S-PM28351\n",
      "S-PM36286\n",
      "S-PM58061\n"
     ]
    }
   ],
   "source": [
    "%%bash\n",
    "join -j1 -v1 <( cat hnPatientSP ) <( cat spPatients ) "
   ]
  },
  {
   "cell_type": "code",
   "execution_count": 194,
   "metadata": {},
   "outputs": [],
   "source": []
  },
  {
   "cell_type": "code",
   "execution_count": null,
   "metadata": {},
   "outputs": [],
   "source": []
  }
 ],
 "metadata": {
  "kernelspec": {
   "display_name": "Python 3",
   "language": "python",
   "name": "python3"
  },
  "language_info": {
   "codemirror_mode": {
    "name": "ipython",
    "version": 3
   },
   "file_extension": ".py",
   "mimetype": "text/x-python",
   "name": "python",
   "nbconvert_exporter": "python",
   "pygments_lexer": "ipython3",
   "version": "3.6.9"
  }
 },
 "nbformat": 4,
 "nbformat_minor": 4
}
