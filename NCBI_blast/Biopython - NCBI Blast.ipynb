{
 "cells": [
  {
   "cell_type": "code",
   "execution_count": 5,
   "metadata": {},
   "outputs": [
    {
     "name": "stdout",
     "output_type": "stream",
     "text": [
      "Collecting biopython\n",
      "  Downloading biopython-1.78-cp38-cp38-manylinux1_x86_64.whl (2.3 MB)\n",
      "\u001b[K     |████████████████████████████████| 2.3 MB 345 kB/s eta 0:00:01\n",
      "\u001b[?25hRequirement already satisfied: numpy in /usr/lib/python3/dist-packages (from biopython) (1.17.4)\n",
      "Installing collected packages: biopython\n",
      "Successfully installed biopython-1.78\n"
     ]
    }
   ],
   "source": [
    "import sys\n",
    "!{sys.executable} -m pip install biopython"
   ]
  },
  {
   "cell_type": "markdown",
   "metadata": {},
   "source": [
    "# Biopython - NCBI Blast\n",
    "We live in an interesting time for biologist. With the advances of sequencing technology the cost to sequence the genomes of a species can be low ( approximately $1000 ). While initiatives have been started for many niches on Earth. The most ambitious being the Earth Biogenome project, seeking to sequence the whole genomes of all life on Earth. A local project, the Darwin Tree of Life, a country specific project to sequence all known species in Ireland and the UK. What I am currently interested in is the 1000 Fungi Genomes project which has a very nice portal.\n",
    "\n",
    "Some interesting genes from Fungi Genomes have been recently sequenced. However, as sequencing becomes more and more economical a myriad of fungi genomes will become publicly available. Therefore, I am interested in setting up a pipline to detect new species that harbour the orthologs or xenologs.\n",
    "\n",
    "Orthologs are genes that were shared by the last common ancester and therefore have likely diverged in the species. Xenologs, and this is something unique to the genes we are looking at today, maybe the identical genes moved horizantal between species."
   ]
  },
  {
   "cell_type": "markdown",
   "metadata": {},
   "source": [
    "I will be using python3.8 and biopython for this tutorial. To simply install issue the following command with your prefered python installation\n",
    "```\n",
    "python -m pip install biopython\n",
    "```\n"
   ]
  },
  {
   "cell_type": "markdown",
   "metadata": {},
   "source": [
    "Blast is an acroynm for The Basic Local Alignment Search Tool. Now, when I say I want to BLAST the gene I am refering to using the NCBI web service to check if there are local alignments in Genbank. The amount of knowledge available through this services is mind blowing and can be found <a href=\"https://blast.ncbi.nlm.nih.gov/Blast.cgi?PROGRAM=blastn&PAGE_TYPE=BlastSearch&LINK_LOC=blasthome\">here</a>\n",
    "\n",
    "We will also need the nulceotide gene of our interest. Luckliy the NCBI Nucleotide database has a reference to our gene of choice under reference <a href=\"https://www.ncbi.nlm.nih.gov/nuccore/KY984103.1\"> KY984103.1 </a>\n"
   ]
  },
  {
   "cell_type": "markdown",
   "metadata": {},
   "source": [
    "First lets download the sequence we want to search for. I already found a sequence of my gene of interest from the nucleotide database. Biopython allows for a a SeqIO object to wrap the Genbank record. This makes handling the data very easy\n",
    "```\n",
    "from Bio import Entrez\n",
    "from Bio import SeqIO\n",
    "gbAccession = \"KY984103.1\"\n",
    "response = Entrez.efetch(db=\"nucleotide\",id=gbAccession,rettype=\"gb\", retmode=\"text\")\n",
    "record = SeqIO.parse(response, \"gb\")\n",
    "```"
   ]
  },
  {
   "cell_type": "code",
   "execution_count": 16,
   "metadata": {},
   "outputs": [],
   "source": [
    "from Bio import Entrez\n",
    "from Bio import SeqIO\n",
    "gbAccession = \"KY984103.1\"\n",
    "Entrez.email = \"holyflyingfungi@proton.com\"\n",
    "response = Entrez.efetch(db=\"nucleotide\",id=gbAccession,rettype=\"gb\", retmode=\"text\")\n",
    "seqRecord = SeqIO.read(response, \"gb\")"
   ]
  },
  {
   "cell_type": "markdown",
   "metadata": {},
   "source": [
    "The 'record' object here contains the SeqIO object. It can return a generator that contains the seqRecord we want.\n",
    "```\n",
    "generator = record.records\n",
    "seqRecord = next(generator)\n",
    "seq = seqRecord.seq\n",
    "print(seqRecord.name + \"\\n\" + seq)\n",
    "```"
   ]
  },
  {
   "cell_type": "code",
   "execution_count": 17,
   "metadata": {},
   "outputs": [
    {
     "name": "stdout",
     "output_type": "stream",
     "text": [
      "KY984103\n",
      "ATGCATATCAGGAACCCATACCGCGATGGTGTTGACTACCAAGCACTCGCTGAAGCATTTCCGGCTCTCAAACCACATGTCACAGTAAATTCAGACAATACGACCTCCATCGACTTTGCTGTGCCAGAAGCCCAAAGACTGTATACAGCTGCCCTTCTACACCGGGATTTCGGTCTTACGATCACACTCCCGGAAGACCGTCTTTGTCCGACAGTGCCTAATCGGCTCAACTATGTCCTTTGGGTTGAAGATATCCTTAAAGTCACTTCTGATGCTCTCGGTCTTCCGGATAATCGTCAAGTTAAGGGGATCGATATCGGAACTGGCGCATCAGCGATATATCCCATGCTCGCATGCTCTCGTTTTAAGACATGGTCCATGGTTGCAACAGAGGTAGACCAGAAGTGTATTGACACTGCTCGTCTCAACGTCATTGCCAACAACCTCCAAGAACGTCTCGCAATTATAGCCACCTCCGTCGATGGTCCTATACTTGTCCCCCTCTTGCAGGCGAATTCTGATTTTGAGTACGATTTTACGATGTGTAATCCGCCCTTCTACGATGGGGCATCCGACATGCAGACATCGGATGCTGCGAAGGGGTTTGGATTCGGTGTGAACGCTCCGCATACCGGCACGGTGCTCGAGATGGCCACCGAGGGAGGTGAATCGGCCTTCGTAGCCCAAATGGTCCGCGAAAGTTTGAATCTTCAAACACGATGCAGGTGGTTCACGAGTAATTTGGGGAAATTGAAGTCCTTGTACGAAATTGTGGGGCTGCTGCGAGAACATCAGATAAGTAACTACGCAATCAACGAATACGTCCAAGGAGCCACTCGTCGATATGCGATTGCATGGTCGTTCATCGATGTTCGACTGCCTGATCATTTGTCCCGTCCATCTAACCCCGACCTAAGCTCTCTTTTCTAG\n"
     ]
    }
   ],
   "source": [
    "seq = seqRecord.seq\n",
    "print(seqRecord.name + \"\\n\" + seq)"
   ]
  },
  {
   "cell_type": "markdown",
   "metadata": {},
   "source": [
    "Alright, now we can use that sequence to do a blastn search. A blastn search is a nulceatide input that search for nucleatide matches. The query will take several seconds to complete, but considering the vast amount of searching it is very fast.\n",
    "\n",
    "We use the blasn algorithm over the metablast algorithm because we are looking for gene relations between species. Discontigous megablast could have worked as well and is faster, but we might not find potential matches.\n",
    "```\n",
    "from Bio.Blast import NCBIWWW\n",
    "from Bio.Blast import NCBIXML\n",
    "\n",
    "blastn_handle = NCBIWWW.qblast(program=\"blastn\", \n",
    "                                 database=\"nt\", \n",
    "                                 sequence=seq,\n",
    "                                 megablast=False)\n",
    "                                 \n",
    "blastn_results = blastn_handle.read()\n",
    "with open('results.xml', 'w') as save_file:\n",
    "    save_file.write(blastn_results)\n",
    "    \n",
    "blastn_records = NCBIXML.read(open(\"results.xml\"))\n",
    "for record in blastn_records\n",
    "for description in blastn_records.descriptions:\n",
    "    print(description)\n",
    "```\n",
    "\n",
    "The query takes several minutes. Therefore, it's nice to save the output in case we over write the variable. The last part will print out all the descriptions in our records."
   ]
  },
  {
   "cell_type": "code",
   "execution_count": 18,
   "metadata": {},
   "outputs": [],
   "source": [
    "from Bio.Blast import NCBIWWW\n",
    "from Bio.Blast import NCBIXML\n"
   ]
  },
  {
   "cell_type": "code",
   "execution_count": 19,
   "metadata": {},
   "outputs": [],
   "source": [
    "blastn_handle = NCBIWWW.qblast(program=\"blastn\", \n",
    "                                 database=\"nt\", \n",
    "                                 sequence=seq,\n",
    "                                 megablast=False)\n",
    "blastn_results = blastn_handle.read()\n",
    "with open('results.xml', 'w') as save_file:\n",
    "    save_file.write(blastn_results)"
   ]
  },
  {
   "cell_type": "code",
   "execution_count": 20,
   "metadata": {},
   "outputs": [],
   "source": [
    "blastn_records = NCBIXML.read(open(\"results.xml\"))"
   ]
  },
  {
   "cell_type": "code",
   "execution_count": 42,
   "metadata": {},
   "outputs": [
    {
     "name": "stdout",
     "output_type": "stream",
     "text": [
      "gi|1234153901|gb|KY984103.1| Psilocybe cyanescens strain FSU 12416 norbaeocystin methyltransferase (psiM) mRNA, complete cds 1860.0  0.0\n",
      "gi|1234153895|gb|KY984100.1| Psilocybe cubensis strain FSU 12409 norbaeocystin methyltransferase (psiM) mRNA, complete cds 680.0  3.43231e-171\n",
      "gi|1699065741|gb|MH483014.1| Psilocybe cubensis isolate PC2 norbaeocystin methyltransferase (psiM) gene, partial cds 106.0  2.18138e-15\n",
      "gi|327304099|ref|XM_003236694.1| Trichophyton rubrum CBS 118892 hypothetical protein (TERG_03786) mRNA, complete cds  67.0  0.00015707\n",
      "gi|695566229|ref|XM_009551449.1| Heterobasidion irregulare TC 32-1 hypothetical protein partial mRNA  66.0  0.00015707\n",
      "gi|1768673944|emb|LR732079.1| Armillaria ostoyae strain C18/9 genome assembly, chromosome: LG5  61.0  0.0066788\n",
      "gi|528078200|ref|NM_001281658.1| Mesocricetus auratus aryl hydrocarbon receptor (Ahr), mRNA >gi|9438130|gb|AF275721.1|AF275721 Mesocricetus auratus AH receptor mRNA, complete cds  55.0  0.28399\n",
      "gi|9188538|dbj|AB033505.1| Mesocricetus auratus Ahr mRNA for arylhydrocarbon receptor, complete cds  55.0  0.28399\n",
      "gi|1003335899|emb|LK056687.1| Sporisorium scitamineum strain SscI8 genome assembly, scaffold: SPSC_scaffold_39  53.0  0.991222\n",
      "gi|955479495|ref|XM_014797854.1| Moesziomyces antarcticus s-adenosyl-L-methionine-dependent methyltransferase partial mRNA  53.0  0.991222\n",
      "gi|822490368|gb|CP010928.1| Sporisorium scitamineum strain SSC39 chromosome 16, complete sequence  53.0  0.991222\n",
      "gi|627920694|ref|XM_007694861.1| Bipolaris oryzae ATCC 44560 hypothetical protein partial mRNA  53.0  0.991222\n",
      "gi|597970170|ref|XM_007327090.1| Agaricus bisporus var. burnettii JB137-S8 hypothetical protein (AGABI1DRAFT_36131), partial mRNA  53.0  0.991222\n",
      "gi|1768674615|emb|LR735258.1| Dyadobacter sp. 32 isolate Dyadobacter sp. 32 sample 2 genome assembly, chromosome: 1  52.0  0.991222\n",
      "gi|1085627832|emb|LT629688.1| Auraticoccus monumenti strain MON 2.2 genome assembly, chromosome: I  52.0  0.991222\n",
      "gi|1894903476|emb|LR732074.1| Complete annotated genome sequence of the bacterium Dyadobacter sp. 32  52.0  0.991222\n",
      "gi|914971190|ref|XM_013386532.1| Tilletiaria anomala UBC 951 hypothetical protein partial mRNA  51.0  3.4597\n",
      "gi|346227233|ref|NM_001243990.1| Cricetulus griseus aryl hydrocarbon receptor (Ahr), mRNA >gi|27348123|dbj|AB042238.1| Cricetulus griseus ahr mRNA for Ah receptor, complete cds  51.0  3.4597\n",
      "gi|1774232673|gb|CP045725.1| Raineyella sp. CBA3103 chromosome, complete genome  50.0  3.4597\n",
      "gi|1527187866|gb|CP034161.1| Epilithonimonas vandammei strain F5649 chromosome, complete genome  50.0  3.4597\n",
      "gi|1341268966|emb|LT795074.1| Sporisorium reilianum f. sp. reilianum strain SRS1_H2-8 genome assembly, chromosome: XXI  50.0  3.4597\n",
      "gi|1285007201|ref|XM_023159740.1| PREDICTED: Leptinotarsa decemlineata U6 small nuclear RNA (adenine-(43)-N(6))-methyltransferase (LOC111505005), mRNA  50.0  3.4597\n",
      "gi|1098868597|emb|LT558131.1| Ustilago bromivora strain UB2112 genome assembly, chromosome: XV  50.0  3.4597\n",
      "gi|972178254|ref|XM_015335716.1| PREDICTED: Polistes dominula methyltransferase-like protein 16 homolog (LOC107074358), partial mRNA  50.0  3.4597\n",
      "gi|343427728|emb|FQ311443.1| Sporisorium reilianum SRZ2 chromosome 21 complete DNA sequence  50.0  3.4597\n",
      "gi|330798714|ref|XM_003287348.1| Dictyostelium purpureum hypothetical protein, mRNA  50.0  3.4597\n"
     ]
    }
   ],
   "source": [
    "for description in blastn_records.descriptions:\n",
    "    print(description)\n"
   ]
  },
  {
   "cell_type": "markdown",
   "metadata": {},
   "source": [
    "The last two number are the score and the e value, respectively. Now, what you should know about the score is it is an aligment score and the more correct the alignment the higher the score. As you can see in the first entry has the highest score from any entry. In fact, if you look at the accession KY984103.1 it is infact the seq we downloaded orginally. For those famliar with statistics the e value is a significant score. It is defined as: \n",
    "<em>\n",
    " the number of alignments expected by chance with the calculated score or better. The expect value is the default sorting metric; for significant alignments the E value should be very close to zero.\n",
    " </em>\n",
    " That is, the closer the score is to zero the more likely these sequences are not aligning by chance. For e scores that are not close to one or where the alignment score is very low ( the cut off by default seems to be set to fifty ) are noise. Chance aligments. Trichophyton rubrum is the Ascomycota responsible for athletes foot. Perhaps a very distant ortholog exists here, I'm not sure. I do not understand the origin of this gene well enough, but I would account this to noise. It would be easy to do a basic filter locally. Let's do an aligment score of atleast 100 and an a e score of the .00005. We can pull out the top aligment and display it as well.\n",
    " \n",
    " ```\n",
    "  for description, alignment in zip(blastn_records.descriptions, blastn_records.alignments):\n",
    "    if description.e < .00005 and description.score > 100:\n",
    "            print(description)\n",
    "            print(alignment.hsps[0])\n",
    " ```"
   ]
  },
  {
   "cell_type": "code",
   "execution_count": 44,
   "metadata": {},
   "outputs": [
    {
     "name": "stdout",
     "output_type": "stream",
     "text": [
      "gi|1234153901|gb|KY984103.1| Psilocybe cyanescens strain FSU 12416 norbaeocystin methyltransferase (psiM) mRNA, complete cds 1860.0  0.0\n",
      "Score 1860 (1678 bits), expectation 0.0e+00, alignment length 930\n",
      "Query:       1 ATGCATATCAGGAACCCATACCGCGATGGTGTTGACTACCAAGCA...TAG 930\n",
      "               |||||||||||||||||||||||||||||||||||||||||||||...|||\n",
      "Sbjct:       1 ATGCATATCAGGAACCCATACCGCGATGGTGTTGACTACCAAGCA...TAG 930\n",
      "gi|1234153895|gb|KY984100.1| Psilocybe cubensis strain FSU 12409 norbaeocystin methyltransferase (psiM) mRNA, complete cds 680.0  3.43231e-171\n",
      "Score 680 (614 bits), expectation 3.4e-171, alignment length 930\n",
      "Query:       1 ATGCATATCAGGAACCCATACCGCGATGGTGTTGACTACCAAGCA...TAG 930\n",
      "               ||||||||||| || || |||||        ||||||| ||||||...|||\n",
      "Sbjct:       1 ATGCATATCAGAAATCCTTACCGTACACCAATTGACTATCAAGCA...TAG 930\n",
      "gi|1699065741|gb|MH483014.1| Psilocybe cubensis isolate PC2 norbaeocystin methyltransferase (psiM) gene, partial cds 106.0  2.18138e-15\n",
      "Score 106 (96 bits), expectation 2.2e-15, alignment length 103\n",
      "Query:     625 CCGCATACCGGCACGGTGCTCGAGATGGCCACCGAGGGAGGTGAA...GGT 727\n",
      "               || ||| | || || ||  |||| ||| | || ||||||||||||...|||\n",
      "Sbjct:     546 CCCCATTCTGGAACAGTCATCGAAATGTCGACTGAGGGAGGTGAA...GGT 648\n"
     ]
    }
   ],
   "source": [
    "for description, alignment in zip(blastn_records.descriptions, blastn_records.alignments):\n",
    "    if description.e < .00005 and description.score > 100:\n",
    "            print(description)\n",
    "            print(alignment.hsps[0])"
   ]
  },
  {
   "cell_type": "markdown",
   "metadata": {},
   "source": [
    "We have some basic filtered results. Now lets simplify the code and leverage the features of the library. First, we can use the accession directly in the Blast algorith. We do not need to download it separately. Second, we can pass filter options directly to the Blast agorithm. This is nice if you have thousands of hits. However, there is no fast and hard cut offs. One should discovery these first and then apply them."
   ]
  },
  {
   "cell_type": "code",
   "execution_count": 49,
   "metadata": {},
   "outputs": [],
   "source": [
    "accession = \"KY984103.1\"\n",
    "expectCutOff = .00005\n",
    "blastn_results = NCBIWWW.qblast(program=\"blastn\", \n",
    "                                 database=\"nt\", \n",
    "                                 sequence= accession,\n",
    "                                 expect = expectCutOff,\n",
    "                                 megablast=False)\n",
    "blastn_records = NCBIXML.read(blastn_results)"
   ]
  },
  {
   "cell_type": "code",
   "execution_count": 51,
   "metadata": {},
   "outputs": [
    {
     "name": "stdout",
     "output_type": "stream",
     "text": [
      "gi|1234153901|gb|KY984103.1| Psilocybe cyanescens strain FSU 12416 norbaeocystin methyltransferase (psiM) mRNA, complete cds 1860.0  0.0\n",
      "Score 1860 (1678 bits), expectation 0.0e+00, alignment length 930\n",
      "Query:       1 ATGCATATCAGGAACCCATACCGCGATGGTGTTGACTACCAAGCA...TAG 930\n",
      "               |||||||||||||||||||||||||||||||||||||||||||||...|||\n",
      "Sbjct:       1 ATGCATATCAGGAACCCATACCGCGATGGTGTTGACTACCAAGCA...TAG 930\n",
      "gi|1234153895|gb|KY984100.1| Psilocybe cubensis strain FSU 12409 norbaeocystin methyltransferase (psiM) mRNA, complete cds 680.0  3.43231e-171\n",
      "Score 680 (614 bits), expectation 3.4e-171, alignment length 930\n",
      "Query:       1 ATGCATATCAGGAACCCATACCGCGATGGTGTTGACTACCAAGCA...TAG 930\n",
      "               ||||||||||| || || |||||        ||||||| ||||||...|||\n",
      "Sbjct:       1 ATGCATATCAGAAATCCTTACCGTACACCAATTGACTATCAAGCA...TAG 930\n",
      "gi|1699065741|gb|MH483014.1| Psilocybe cubensis isolate PC2 norbaeocystin methyltransferase (psiM) gene, partial cds 106.0  2.18138e-15\n",
      "Score 106 (96 bits), expectation 2.2e-15, alignment length 103\n",
      "Query:     625 CCGCATACCGGCACGGTGCTCGAGATGGCCACCGAGGGAGGTGAA...GGT 727\n",
      "               || ||| | || || ||  |||| ||| | || ||||||||||||...|||\n",
      "Sbjct:     546 CCCCATTCTGGAACAGTCATCGAAATGTCGACTGAGGGAGGTGAA...GGT 648\n"
     ]
    }
   ],
   "source": [
    "for description, alignment in zip(blastn_records.descriptions, blastn_records.alignments):\n",
    "            print(description)\n",
    "            print(alignment.hsps[0])"
   ]
  }
 ],
 "metadata": {
  "kernelspec": {
   "display_name": "Python 3",
   "language": "python",
   "name": "python3"
  },
  "language_info": {
   "codemirror_mode": {
    "name": "ipython",
    "version": 3
   },
   "file_extension": ".py",
   "mimetype": "text/x-python",
   "name": "python",
   "nbconvert_exporter": "python",
   "pygments_lexer": "ipython3",
   "version": "3.8.5"
  }
 },
 "nbformat": 4,
 "nbformat_minor": 4
}
