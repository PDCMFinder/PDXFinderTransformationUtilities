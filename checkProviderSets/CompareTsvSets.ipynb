{
 "cells": [
  {
   "cell_type": "code",
   "execution_count": 1,
   "metadata": {},
   "outputs": [],
   "source": [
    "%%bash\n",
    "#Change here for the provider you want to test. Files need to be digested to tsv\n",
    "cp -r /home/afollette/Finder_Data_Repositories/pdxfinder-data-release-head/export/PDMR/* ./"
   ]
  },
  {
   "cell_type": "code",
   "execution_count": 2,
   "metadata": {},
   "outputs": [],
   "source": [
    "import pandas as ps"
   ]
  },
  {
   "cell_type": "code",
   "execution_count": 81,
   "metadata": {},
   "outputs": [
    {
     "name": "stdout",
     "output_type": "stream",
     "text": [
      "CompareTsvSets.ipynb    metadata-model_validation.tsv  metadata.xlsx\r\n",
      "metadata-checklist.tsv  metadata-patient.tsv           \u001b[0m\u001b[01;34mmut\u001b[0m/\r\n",
      "metadata-loader.tsv     metadata-sample.tsv            sampleplatform-data.tsv\r\n",
      "metadata-model.tsv      metadata-sharing.tsv           sampleplatform.xlsx\r\n"
     ]
    }
   ],
   "source": [
    "ls"
   ]
  },
  {
   "cell_type": "code",
   "execution_count": 82,
   "metadata": {},
   "outputs": [],
   "source": [
    "patientSamples = ps.read_csv(open('metadata-sample.tsv', 'r'), delimiter='\\t').drop([0,1,2,3])\n",
    "modelsPage = ps.read_csv(open('metadata-model.tsv', 'r'), sep='\\t').drop([0,1,2,3])\n",
    "samplePlatform = ps.read_csv(open('sampleplatform-data.tsv', 'r'), sep='\\t').drop([0,1,2,3])\n"
   ]
  },
  {
   "cell_type": "code",
   "execution_count": 83,
   "metadata": {
    "scrolled": true
   },
   "outputs": [],
   "source": [
    "psModels = patientSamples.model_id.drop_duplicates()\n",
    "mpModels = modelsPage.model_id.drop_duplicates()\n",
    "spModels = samplePlatform.model_id.drop_duplicates()"
   ]
  },
  {
   "cell_type": "code",
   "execution_count": 84,
   "metadata": {},
   "outputs": [
    {
     "data": {
      "text/plain": [
       "((379,), (339,), (3,))"
      ]
     },
     "execution_count": 84,
     "metadata": {},
     "output_type": "execute_result"
    }
   ],
   "source": [
    "psModels.shape, mpModels.shape, spModels.shape"
   ]
  },
  {
   "cell_type": "code",
   "execution_count": 86,
   "metadata": {},
   "outputs": [
    {
     "data": {
      "text/plain": [
       "339"
      ]
     },
     "execution_count": 86,
     "metadata": {},
     "output_type": "execute_result"
    }
   ],
   "source": [
    "len((set(psModels) & set(mpModels)))"
   ]
  },
  {
   "cell_type": "code",
   "execution_count": 90,
   "metadata": {},
   "outputs": [
    {
     "data": {
      "text/plain": [
       "40"
      ]
     },
     "execution_count": 90,
     "metadata": {},
     "output_type": "execute_result"
    }
   ],
   "source": [
    "len(set(psModels) - set(mpModels))"
   ]
  },
  {
   "cell_type": "code",
   "execution_count": null,
   "metadata": {},
   "outputs": [],
   "source": []
  }
 ],
 "metadata": {
  "kernelspec": {
   "display_name": "Python 3",
   "language": "python",
   "name": "python3"
  },
  "language_info": {
   "codemirror_mode": {
    "name": "ipython",
    "version": 3
   },
   "file_extension": ".py",
   "mimetype": "text/x-python",
   "name": "python",
   "nbconvert_exporter": "python",
   "pygments_lexer": "ipython3",
   "version": "3.6.9"
  }
 },
 "nbformat": 4,
 "nbformat_minor": 2
}
