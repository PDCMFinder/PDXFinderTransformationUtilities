{
 "cells": [
  {
   "cell_type": "code",
   "execution_count": 1,
   "metadata": {},
   "outputs": [],
   "source": [
    "import re \n",
    "import biomart as bt\n",
    "import pandas as ps\n",
    "import csv"
   ]
  },
  {
   "cell_type": "code",
   "execution_count": 220,
   "metadata": {},
   "outputs": [],
   "source": [
    "cnaDf = ps.read_csv(\"/home/afollette/Finder_Data_Repositories/pdxfinder-data-release-head/data_quarantine/UPDOG/UOC-BC/cna/UOC-BC_cna.tsv\", sep='\\t')\n",
    "cnaDf[0:0].to_csv(\"UOC-BC_cna.expanded.tsv\", sep='\\t', index=False)\n",
    "cnaDf[0:0].to_csv(\"UOC-BC_cna.dense.tsv\", sep='\\t', index=False)\n",
    "cnaDf.drop_duplicates(inplace=True)\n",
    "cnaDf.sort_values(by=[\"chromosome\",\"seq_start_position\",\"seq_end_position\"], inplace=True)\n",
    "genomicCoor = cnaDf[\"chromosome\"].astype(str) + \":\" + cnaDf[\"seq_start_position\"].astype(str) + \":\" + cnaDf[\"seq_end_position\"].astype(str) + \":1\"\n",
    "uniqGenomicCoor = genomicCoor.drop_duplicates()\n",
    "coorSize = uniqGenomicCoor.size"
   ]
  },
  {
   "cell_type": "code",
   "execution_count": 24,
   "metadata": {
    "scrolled": false
   },
   "outputs": [],
   "source": [
    "server = bt.BiomartServer( \"http://ensembl.org/biomart\" )\n",
    "server.is_alive\n",
    "gene = server.datasets[\"hsapiens_gene_ensembl\"]"
   ]
  },
  {
   "cell_type": "code",
   "execution_count": 25,
   "metadata": {},
   "outputs": [],
   "source": [
    "uniqGenomicCoor= ps.read_csv(\"missingChromoPos\").values\n",
    "coorSize = uniqGenomicCoor.size"
   ]
  },
  {
   "cell_type": "code",
   "execution_count": 26,
   "metadata": {
    "scrolled": true
   },
   "outputs": [
    {
     "name": "stdout",
     "output_type": "stream",
     "text": [
      "FETCHING gene info for set 50 \n",
      "FETCHING gene info for set 100 \n",
      "FETCHING gene info for set 150 \n",
      "FETCHING gene info for set 200 \n",
      "FETCHING gene info for set 250 \n",
      "FETCHING gene info for set 300 \n",
      "FETCHING gene info for set 350 \n",
      "FETCHING gene info for set 400 \n",
      "FETCHING gene info for set 450 \n",
      "FETCHING gene info for set 500 \n",
      "FETCHING gene info for set 550 \n",
      "FETCHING gene info for set 600 \n",
      "FETCHING gene info for set 650 \n",
      "FETCHING gene info for set 700 \n",
      "FETCHING gene info for set 750 \n",
      "FETCHING gene info for set 800 \n",
      "FETCHING gene info for set 850 \n",
      "FETCHING gene info for set 900 \n",
      "FETCHING gene info for set 950 \n",
      "FETCHING gene info for set 1000 \n",
      "FETCHING gene info for set 1050 \n",
      "FETCHING gene info for set 1100 \n",
      "FETCHING gene info for set 1150 \n",
      "FETCHING gene info for set 1200 \n",
      "FETCHING gene info for set 1250 \n",
      "FETCHING gene info for set 1300 \n",
      "FETCHING gene info for set 1350 \n",
      "FETCHING gene info for set 1400 \n",
      "FETCHING gene info for set 1450 \n",
      "FETCHING gene info for set 1500 \n",
      "FETCHING gene info for set 1550 \n",
      "FETCHING gene info for set 1600 \n",
      "FETCHING gene info for set 1650 \n",
      "FETCHING gene info for set 1700 \n",
      "FETCHING gene info for set 1750 \n",
      "FETCHING gene info for set 1800 \n",
      "FETCHING gene info for set 1850 \n"
     ]
    }
   ],
   "source": [
    "for i in range(50,coorSize,50):  \n",
    "    print(\"FETCHING gene info for set {} \".format(i))\n",
    "    response = gene.search({ \n",
    "            'filters' : {\n",
    "                'chromosomal_region' : uniqGenomicCoor[i-49:i].tolist()\n",
    "            },\n",
    "            'attributes': [\n",
    "               'hgnc_symbol', 'chromosome_name', 'start_position', 'end_position' \n",
    "            ]\n",
    "            })\n",
    "    if response.ok:\n",
    "        geneResponses = response.content.decode()\n",
    "        geneResponseList = geneResponses.replace('\\n', '\\t').split('\\t')\n",
    "        with open('symbolByGeneRegion_hgu133plus2_GRCH38.tsv', 'a+') as symbolByGeneRegion:\n",
    "            for j in range(4, len(geneResponseList)-4, 4):\n",
    "                writer = csv.writer(symbolByGeneRegion, quoting=csv.QUOTE_NONE)\n",
    "                row = \"{}\\t{}\\t{}\\t{}\".format(geneResponseList[j],geneResponseList[j+1], geneResponseList[j+2],geneResponseList[j+3])\n",
    "                writer.writerow([row])\n",
    "    else:\n",
    "        print(response)"
   ]
  },
  {
   "cell_type": "code",
   "execution_count": 221,
   "metadata": {
    "scrolled": true
   },
   "outputs": [],
   "source": [
    "symbolResults = ps.read_csv(\"./symbolByGeneRegion.tsv\", sep='\\t', names=['symbol','chromosome', 'start','end', 'region'], dtype={'symbol':str,'chromosome':str,'start':int,'end':int, 'region':str})\n",
    "symbolLookup = symbolResults[~symbolResults['symbol'].isna()]"
   ]
  },
  {
   "cell_type": "code",
   "execution_count": 222,
   "metadata": {},
   "outputs": [],
   "source": [
    "def expandedDataFrameForEachSymbol(row):\n",
    "    chromo = row['chromosome']\n",
    "    lowerBound = row['seq_start_position']\n",
    "    upperBound = row['seq_end_position']\n",
    "    chromoMatch = symbolLookup['chromosome'] == chromo\n",
    "    lowerLimit = symbolLookup['start'] >= lowerBound\n",
    "    upperLimit = symbolLookup['end'] <= upperBound\n",
    "    regionMatches = symbolLookup[chromoMatch & lowerLimit & upperLimit].reset_index()\n",
    "    matchLen = len(regionMatches)\n",
    "    if matchLen == 0:\n",
    "        matchLen = 1\n",
    "    expandedDf = ps.DataFrame()\n",
    "    expandedDf = ps.concat([ps.DataFrame(row).transpose()]*matchLen, ignore_index=True)\n",
    "    expandedDf['symbol'] = regionMatches['symbol']\n",
    "    expandedDf.to_csv('UOC-BC_cna.expanded.tsv',mode='a', header=False, sep='\\t', index=False)"
   ]
  },
  {
   "cell_type": "code",
   "execution_count": 223,
   "metadata": {},
   "outputs": [],
   "source": [
    "def denseDataFrameForEachSymbol(row):\n",
    "    chromo = row['chromosome']\n",
    "    lowerBound = row['seq_start_position']\n",
    "    upperBound = row['seq_end_position']\n",
    "    chromoMatch = symbolLookup['chromosome'] == chromo\n",
    "    lowerLimit = symbolLookup['start'] >= lowerBound\n",
    "    upperLimit = symbolLookup['end'] <= upperBound\n",
    "    regionMatches = symbolLookup[chromoMatch & lowerLimit & upperLimit].reset_index()\n",
    "    row['symbol'] = ', '.join(regionMatches['symbol'].values.tolist())\n",
    "    ps.DataFrame(row).transpose().to_csv('UOC-BC_cna.dense.tsv',mode='a', header=False, sep='\\t', index=False)"
   ]
  },
  {
   "cell_type": "code",
   "execution_count": 224,
   "metadata": {
    "scrolled": false
   },
   "outputs": [
    {
     "data": {
      "text/plain": [
       "439     None\n",
       "0       None\n",
       "1034    None\n",
       "1247    None\n",
       "1406    None\n",
       "        ... \n",
       "904     None\n",
       "2047    None\n",
       "2246    None\n",
       "2487    None\n",
       "2553    None\n",
       "Length: 2554, dtype: object"
      ]
     },
     "execution_count": 224,
     "metadata": {},
     "output_type": "execute_result"
    }
   ],
   "source": [
    "cnaDf.apply(lambda x : denseDataFrameForEachSymbol(x), axis=1)"
   ]
  },
  {
   "cell_type": "code",
   "execution_count": 225,
   "metadata": {},
   "outputs": [
    {
     "data": {
      "text/plain": [
       "439     None\n",
       "0       None\n",
       "1034    None\n",
       "1247    None\n",
       "1406    None\n",
       "        ... \n",
       "904     None\n",
       "2047    None\n",
       "2246    None\n",
       "2487    None\n",
       "2553    None\n",
       "Length: 2554, dtype: object"
      ]
     },
     "execution_count": 225,
     "metadata": {},
     "output_type": "execute_result"
    }
   ],
   "source": [
    "cnaDf.apply(lambda x : expandedDataFrameForEachSymbol(x), axis=1)"
   ]
  },
  {
   "cell_type": "code",
   "execution_count": null,
   "metadata": {},
   "outputs": [],
   "source": []
  }
 ],
 "metadata": {
  "kernelspec": {
   "display_name": "Python 3",
   "language": "python",
   "name": "python3"
  },
  "language_info": {
   "codemirror_mode": {
    "name": "ipython",
    "version": 3
   },
   "file_extension": ".py",
   "mimetype": "text/x-python",
   "name": "python",
   "nbconvert_exporter": "python",
   "pygments_lexer": "ipython3",
   "version": "3.6.9"
  }
 },
 "nbformat": 4,
 "nbformat_minor": 2
}
