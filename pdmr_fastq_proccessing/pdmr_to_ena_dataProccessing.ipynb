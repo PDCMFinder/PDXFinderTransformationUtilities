{
 "cells": [
  {
   "cell_type": "code",
   "execution_count": 65,
   "metadata": {},
   "outputs": [],
   "source": [
    "import pandas\n",
    "import sys\n",
    "import re\n",
    "import os"
   ]
  },
  {
   "cell_type": "code",
   "execution_count": 66,
   "metadata": {},
   "outputs": [],
   "source": [
    "os.chdir(\"/home/afollette/jupyter_notebooks/pdmr_fastq_proccessing\")"
   ]
  },
  {
   "cell_type": "code",
   "execution_count": null,
   "metadata": {},
   "outputs": [],
   "source": []
  },
  {
   "cell_type": "code",
   "execution_count": 67,
   "metadata": {},
   "outputs": [],
   "source": [
    "pdmrData = open(\"proccessedEnaSamplePdmr\", 'r')\n",
    "rawData = open(\"pdmrNeo4jExport.csv\", 'r')\n",
    "rawDf = pandas.read_csv(rawData, sep=',')\n",
    "pdmrDf = pandas.read_csv(pdmrData, sep=',')"
   ]
  },
  {
   "cell_type": "code",
   "execution_count": 69,
   "metadata": {},
   "outputs": [],
   "source": [
    "pdmrDf['sample_title'] = pdmrDf['Unnamed: 0'] + \"-\" + pdmrDf['Unnamed: 1']\n",
    "rawDf['sample_title'] = rawDf['mod.sourcePdxId'] + \"-\" + rawDf['xS.sourceSampleId']"
   ]
  },
  {
   "cell_type": "code",
   "execution_count": 70,
   "metadata": {},
   "outputs": [],
   "source": [
    "genderLookup = pandas.DataFrame([rawDf['sample_title'],rawDf['p.sex']]).transpose().set_index('sample_title')\n",
    "pdmrDf.set_index('sample_title', inplace=True)"
   ]
  },
  {
   "cell_type": "code",
   "execution_count": 71,
   "metadata": {},
   "outputs": [],
   "source": [
    "completedData = pdmrDf.join(genderLookup,on=\"sample_title\").reset_index()\n",
    "completedData.fillna('',inplace=True)\n",
    "completedData['patient tumor type'] = completedData['patient tumor type'] + \" neoplasm\" \n",
    "completedData['sample_title'] = completedData['Unnamed: 0'].str.replace(\"-\",\"~\",n=1) + \"~\" + completedData['Unnamed: 1'].str.replace(\"-\",\"~\")"
   ]
  },
  {
   "cell_type": "code",
   "execution_count": 72,
   "metadata": {},
   "outputs": [],
   "source": [
    "def f(x):\n",
    "    if x==\"Patient\":\n",
    "        return \"Homo sapien\"\n",
    "    elif x==\"xenograft\":\n",
    "        return \"Homo sapien/Mus musculus\" "
   ]
  },
  {
   "cell_type": "code",
   "execution_count": 73,
   "metadata": {},
   "outputs": [],
   "source": [
    "completedData[\"sample taxon name\"] = completedData[\"sample origin\"].apply(lambda x: f(x))"
   ]
  },
  {
   "cell_type": "code",
   "execution_count": 75,
   "metadata": {},
   "outputs": [],
   "source": [
    "completedData.to_csv('completedSampledata',sep='\\t')"
   ]
  },
  {
   "cell_type": "code",
   "execution_count": 76,
   "metadata": {},
   "outputs": [],
   "source": [
    "fastqWes = open('pdmrWesList', 'r')\n",
    "fastqRna = open('pdmrRnaSeqList', 'r')\n",
    "fastqWesDf = pandas.read_csv(fastqWes)\n",
    "fastqRnaDf = pandas.read_csv(fastqRna)\n",
    "fastqWesDf.columns=[\"wesfilename\"]\n",
    "fastqRnaDf.columns=[\"rnafilename\"]"
   ]
  },
  {
   "cell_type": "code",
   "execution_count": 77,
   "metadata": {},
   "outputs": [],
   "source": [
    "fastqRnaDf['sample_title'] = fastqRnaDf['rnafilename'].apply(lambda x: re.findall('^.+\\~v', x).pop()[:-2])\n",
    "fastqRnaDf['sample_id'] = fastqRnaDf['rnafilename'].apply(lambda x: re.findall('\\w+\\~v', x).pop()[:-2])\n",
    "fastqWesDf['sample_title'] = fastqWesDf['wesfilename'].apply(lambda x: re.findall('^.+\\~v', x).pop()[:-2])\n",
    "fastqWesDf['sample_id'] = fastqWesDf['wesfilename'].apply(lambda x: re.findall('\\w+\\~v', x).pop()[:-2])"
   ]
  },
  {
   "cell_type": "code",
   "execution_count": 78,
   "metadata": {},
   "outputs": [],
   "source": [
    "completedData.set_index('sample_title', inplace=True)\n",
    "fastqWesDf.set_index('sample_title', inplace=True)\n",
    "fastqRnaDf.set_index('sample_title', inplace=True)"
   ]
  },
  {
   "cell_type": "code",
   "execution_count": 85,
   "metadata": {},
   "outputs": [],
   "source": [
    "fastqWes = completedData.join(fastqWesDf, on='sample_title', how='left')\n"
   ]
  },
  {
   "cell_type": "code",
   "execution_count": 92,
   "metadata": {},
   "outputs": [],
   "source": [
    "fastqCheck = fastqWes.join(fastqRnaDf, on='sample_title', how='left', lsuffix='wes', rsuffix='rna')"
   ]
  },
  {
   "cell_type": "code",
   "execution_count": 94,
   "metadata": {},
   "outputs": [],
   "source": [
    "fastqCheck.to_csv('completedFastqCheck',sep='\\t')"
   ]
  },
  {
   "cell_type": "code",
   "execution_count": null,
   "metadata": {},
   "outputs": [],
   "source": []
  }
 ],
 "metadata": {
  "kernelspec": {
   "display_name": "Python 3",
   "language": "python",
   "name": "python3"
  },
  "language_info": {
   "codemirror_mode": {
    "name": "ipython",
    "version": 3
   },
   "file_extension": ".py",
   "mimetype": "text/x-python",
   "name": "python",
   "nbconvert_exporter": "python",
   "pygments_lexer": "ipython3",
   "version": "3.6.9"
  }
 },
 "nbformat": 4,
 "nbformat_minor": 4
}
