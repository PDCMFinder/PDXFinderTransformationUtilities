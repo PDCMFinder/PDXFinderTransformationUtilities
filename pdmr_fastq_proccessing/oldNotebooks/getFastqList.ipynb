{
 "cells": [
  {
   "cell_type": "code",
   "execution_count": 1,
   "metadata": {},
   "outputs": [
    {
     "name": "stderr",
     "output_type": "stream",
     "text": [
      "  % Total    % Received % Xferd  Average Speed   Time    Time     Time  Current\n",
      "                                 Dload  Upload   Total   Spent    Left  Speed\n",
      "100 1029k    0 1029k    0     0   158k      0 --:--:--  0:00:06 --:--:--  232k\n"
     ]
    }
   ],
   "source": [
    "%%bash\n",
    "curl --list-only ftp://dctdftp.nci.nih.gov/pub/pdm/ -o pdmrMasterList\n",
    "\n",
    "grep -Ei 'WES\\.R1\\.FASTQ\\.gz' pdmrMasterList | grep -Evi '(organoid|germline|pdc|caf)' -  > pdmrWesListFor\n",
    "grep -Ei 'WES\\.R2\\.FASTQ\\.gz' pdmrMasterList | grep -Evi '(organoid|germline|pdc|caf)' -  > pdmrWesListRev\n",
    "grep -Ei 'RNASEQ\\.R1\\.FASTQ\\.gz' pdmrMasterList | grep -Evi '(organoid|germline|pdc|caf)' -  > pdmrRnaSeqListFor\n",
    "grep -Ei 'RNASEQ\\.R2\\.FASTQ\\.gz' pdmrMasterList | grep -Evi '(organoid|germline|pdc|caf)' -  > pdmrRnaSeqListRev\n"
   ]
  },
  {
   "cell_type": "code",
   "execution_count": 2,
   "metadata": {},
   "outputs": [],
   "source": [
    "import pandas as ps"
   ]
  },
  {
   "cell_type": "code",
   "execution_count": 3,
   "metadata": {},
   "outputs": [],
   "source": [
    "pdmrWesListFor = open('pdmrWesListFor','r')\n",
    "pdmrWesListRev = open('pdmrWesListRev','r')\n",
    "pdmrRnaSeqListFor = open('pdmrRnaSeqListFor','r')\n",
    "pdmrRnaSeqListRev = open('pdmrRnaSeqListRev','r')\n",
    "wesDfFor = ps.read_csv(pdmrWesListFor, names=[\"filenames\"])\n",
    "wesDfRev = ps.read_csv(pdmrWesListRev, names=[\"filenames\"])\n",
    "rnaSeqDfFor = ps.read_csv(pdmrRnaSeqListFor, names=[\"filenames\"])\n",
    "rnaSeqDfRev = ps.read_csv(pdmrRnaSeqListRev, names=[\"filenames\"])"
   ]
  },
  {
   "cell_type": "code",
   "execution_count": 4,
   "metadata": {},
   "outputs": [],
   "source": [
    "def matchFastq(forList, revList):\n",
    "    \n",
    "    matchedFastq = ps.DataFrame(forlist)\n",
    "    for i in forList.index:\n",
    "        potentialReverse = i.replace(\".R1.\",\".R2.\")\n",
    "        reverseStrand = fastqDf[fastqDf['filenames'] == potentialReverse]\n",
    "        matchedFastq['reverseFilename'] = reverseStrand['filenames'].iat[0]\n",
    "        \n",
    "    return matchedFastq"
   ]
  },
  {
   "cell_type": "code",
   "execution_count": 12,
   "metadata": {},
   "outputs": [],
   "source": [
    "matchedWes = matchFastq(wesDf)\n",
    "matchedRna = matchFastq(rnaSeqDf)"
   ]
  },
  {
   "cell_type": "code",
   "execution_count": null,
   "metadata": {},
   "outputs": [],
   "source": []
  }
 ],
 "metadata": {
  "kernelspec": {
   "display_name": "Python 3",
   "language": "python",
   "name": "python3"
  },
  "language_info": {
   "codemirror_mode": {
    "name": "ipython",
    "version": 3
   },
   "file_extension": ".py",
   "mimetype": "text/x-python",
   "name": "python",
   "nbconvert_exporter": "python",
   "pygments_lexer": "ipython3",
   "version": "3.6.9"
  }
 },
 "nbformat": 4,
 "nbformat_minor": 4
}
