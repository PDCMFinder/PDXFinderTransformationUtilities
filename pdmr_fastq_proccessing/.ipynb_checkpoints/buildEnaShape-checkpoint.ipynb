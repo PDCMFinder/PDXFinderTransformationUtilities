{
 "cells": [
  {
   "cell_type": "code",
   "execution_count": 79,
   "metadata": {},
   "outputs": [
    {
     "data": {
      "text/html": [
       "<style>.container { width:100% !important; }</style>"
      ],
      "text/plain": [
       "<IPython.core.display.HTML object>"
      ]
     },
     "metadata": {},
     "output_type": "display_data"
    }
   ],
   "source": [
    "from IPython.core.display import display, HTML\n",
    "display(HTML(\"<style>.container { width:100% !important; }</style>\"))"
   ]
  },
  {
   "cell_type": "code",
   "execution_count": 97,
   "metadata": {},
   "outputs": [],
   "source": [
    "%%bash\n",
    "rm fqData*tsv || echo \"No fqta.tsv's\"\n",
    "rm sampleData*tsv || echo \"No xenoData.tsv's\""
   ]
  },
  {
   "cell_type": "code",
   "execution_count": 7,
   "metadata": {},
   "outputs": [],
   "source": [
    "def buildEnaSampleSubmissionFile(psDf, xenoDf, fqDf):\n",
    "    adjustHeaderNames(psDf, xenoDf)\n",
    "    sampleData = concatonateSamplesAndSetHeaders(psDf, xenoDf)\n",
    "    transformSampleDataAndSave(sampleData)\n",
    "    joinSampleDataAndFastq(sampleData,fqDf)"
   ]
  },
  {
   "cell_type": "code",
   "execution_count": 87,
   "metadata": {},
   "outputs": [],
   "source": [
    "def joinSampleDataAndFastq(sampleData, fqDf):\n",
    "    fqDf.set_index('sample_alias', inplace=True)\n",
    "    sampleData.set_index('sample_alias', inplace=True)\n",
    "    joinedFqDf = sampleData.merge(fqDf, how='inner', on='sample_alias', sort=True).iloc[:, 19:]\n",
    "    joinedSampleData = joinedFqDf.merge(sampleData, how='inner', on='sample_alias', sort=True).to_csv('completedEnaAllSamplesMetadata.tsv', sep='\\t', index=True)\n",
    "    joinedFqDf = joinedFqDf.loc[~joinedFqDf.index.duplicated(keep='last')]\n",
    "    joinedFqDf.to_csv(\"matchFastqs.tsv\", sep='\\t', index=True, header=True)"
   ]
  },
  {
   "cell_type": "code",
   "execution_count": 77,
   "metadata": {},
   "outputs": [],
   "source": [
    "def transformSampleData(sampleData):\n",
    "    sampleData['sample_title'] = sampleData['mod.sourcePdxId'] + '~' + sampleData['sample unique id'] \\\n",
    "        .replace('\"', '', regex=True)\n",
    "    sampleData['sample_title'].replace('~ ', '~', regex=True, inplace=True)\n",
    "    sampleData['sample_title'].replace('(^[A-Za-z0-9]+)-', '\\\\1~', regex=True, inplace=True)\n",
    "    sampleData['sample_alias'] = sampleData['sample_title']\n",
    "    sampleData.loc[\n",
    "        sampleData['sample_title'].str.contains(\"ORIGINATOR\"), 'engrafted tumor sample passage'] = \"not applicable\"\n",
    "    sampleData['patient tumor type'] = sampleData['patient tumor type'].str\\\n",
    "        .replace(r'^(Primary|Metastatic|Recurrent)','\\\\1 Neoplasm', regex=True)\n",
    "    sampleData['patient tumor type'] = sampleData['patient tumor type'].str\\\n",
    "        .replace('Not Specified', 'not provided',regex=True)\n",
    "    sampleData['patient age at collection of tumor'] = sampleData['patient age at collection of tumor'].str\\\n",
    "        .replace('Not Specified', 'not provided', regex=True)\n",
    "    sampleData['tax_id'] = '9606'\n",
    "    sampleData['scientific_name'] = 'Homo sapien'\n",
    "    sampleData['common_name'] = 'human'\n",
    "    sampleData['sample material'] = 'tissue fragment'\n",
    "    sampleData['engraftment host strain name'] = 'NOD.Cg-PrkdcscidIl2rgtm1Wjl/SzJ'\n",
    "    sampleData['was the pdx model humanised?'] = 'No'"
   ]
  },
  {
   "cell_type": "code",
   "execution_count": 10,
   "metadata": {},
   "outputs": [],
   "source": [
    "def adjustHeaderNames(psDf, xenoDf):\n",
    "    psDf['sample origin'] = \"Patient tumor\"\n",
    "    psDf[' sampleId'] = \"ORIGINATOR\"\n",
    "    xenoDf['sample origin'] = \"Engrafted tumor\"\n",
    "    xenoDf['sample taxon name'] = \"Homo sapiens/Mus musculus xenograft\"\n",
    "    psDf['sample taxon name'] = \"Homo sapiens\"\n",
    "    psDf['passage'] = '0'\n",
    "    xenoDf['engrafted tumor collection site'] = \"Not Specified\"\n",
    "    psDf['engrafted tumor collection site'] = \"\""
   ]
  },
  {
   "cell_type": "code",
   "execution_count": 11,
   "metadata": {},
   "outputs": [],
   "source": [
    "def concatonateSamplesAndSetHeaders(psDf, xenoDf):\n",
    "    sampleData = ps.concat([xenoDf, psDf], sort=True)\n",
    "    emptySampleIds = sampleData[sampleData[' sampleId'] == ''].index\n",
    "    sampleData.drop(emptySampleIds, inplace=True)\n",
    "    sampleData.rename(\n",
    "        columns={\n",
    "            ' passage': 'engrafted tumor sample passage',\n",
    "            ' tt.name': 'patient tumor type',\n",
    "            ' sampleId': 'sample unique id',\n",
    "            'ps.ageAtCollection': 'patient age at collection of tumor',\n",
    "            'ot.name': 'patient age at collection of tumor',\n",
    "            ' originTissue.name': 'patient tumor primary site',\n",
    "            ' sex': 'patient sex',\n",
    "            ' age': 'patient age at collection of tumor',\n",
    "            ' diagnosis': 'patient tumor diagnosis at time of collection',\n",
    "            ' sampleTissue.name': 'patient tumor site of collection'\n",
    "        }, inplace=True)\n",
    "    return sampleData"
   ]
  },
  {
   "cell_type": "code",
   "execution_count": 81,
   "metadata": {},
   "outputs": [],
   "source": [
    "%%bash\n",
    "#for sample\n",
    "bash -c 'cypher-shell -u neo4j -p neo5j \"MATCH (p:Patient)--(ps:PatientSnapshot)--(psamp:Sample)\n",
    "-[:MODEL_SAMPLE_RELATION]-(mod:ModelCreation)\n",
    "WHERE mod.dataSource = \\\"PDMR\\\"\n",
    "WITH p,ps, psamp, mod\n",
    "MATCH (psamp)--(on:OntologyTerm)\n",
    "OPTIONAL MATCH (psamp)--(tt:TumorType)\n",
    "OPTIONAL MATCH (psamp)-[:SAMPLE_SITE]-(sampleTissue:Tissue)\n",
    "OPTIONAL MATCH (psamp)-[:ORIGIN_TISSUE]-(originTissue:Tissue)\n",
    "return distinct mod.sourcePdxId, psamp.sourceSampleId as sampleId,sampleTissue.name, tt.name, \n",
    "ps.ageAtCollection, on.label as diagnosis, originTissue.name, p.sex as sex, ps.ageAtCollection as age\";' > patientSamples"
   ]
  },
  {
   "cell_type": "code",
   "execution_count": 82,
   "metadata": {},
   "outputs": [],
   "source": [
    "%%bash\n",
    "#for sample\n",
    "bash -c 'cypher-shell -u neo4j -p neo5j \"MATCH (p:Patient)--(ps:PatientSnapshot)--(psamp:Sample)\n",
    "-[:MODEL_SAMPLE_RELATION]-(mod:ModelCreation)\n",
    "WHERE mod.dataSource = \\\"PDMR\\\"\n",
    "WITH p,ps, psamp, mod\n",
    "MATCH (psamp)--(on:OntologyTerm)\n",
    "OPTIONAL MATCH (psamp)--(tt:TumorType)\n",
    "OPTIONAL MATCH (psamp)-[:SAMPLE_SITE]-(sampleTissue:Tissue)\n",
    "OPTIONAL MATCH (psamp)-[:ORIGIN_TISSUE]-(originTissue:Tissue)\n",
    "WITH p,ps, psamp, mod, on, tt, sampleTissue, originTissue\n",
    "MATCH (mod)--(xenoSample:Sample)--(spe:Specimen)\n",
    "RETURN distinct mod.sourcePdxId, xenoSample.sourceSampleId as sampleId, spe.passage as passage,sampleTissue.name,\n",
    "tt.name, ps.ageAtCollection, on.label as diagnosis, originTissue.name, p.sex as sex, ps.ageAtCollection as age\";' > xenoSamples"
   ]
  },
  {
   "cell_type": "code",
   "execution_count": 83,
   "metadata": {},
   "outputs": [
    {
     "name": "stdout",
     "output_type": "stream",
     "text": [
      "379 patientSamples\n",
      "1118 xenoSamples\n"
     ]
    }
   ],
   "source": [
    "%%bash\n",
    "wc -l patientSamples\n",
    "wc -l xenoSamples"
   ]
  },
  {
   "cell_type": "code",
   "execution_count": 14,
   "metadata": {},
   "outputs": [],
   "source": [
    "import pandas as ps\n",
    "import re"
   ]
  },
  {
   "cell_type": "code",
   "execution_count": 107,
   "metadata": {},
   "outputs": [],
   "source": [
    "patientSampleFile = open('patientSamples', 'r')\n",
    "xenoSampleFile = open('xenoSamples', 'r')\n",
    "fastqMetadata = open('fastqMetadataPdmrRnaSeq_filled.csv', 'r')\n",
    "psDf = ps.read_csv(patientSampleFile).replace('\"', '')\n",
    "xenoDf = ps.read_csv(xenoSampleFile).replace('\"', '')\n",
    "fqDf = ps.read_csv(fastqMetadata, sep='\\t')\n"
   ]
  },
  {
   "cell_type": "code",
   "execution_count": 108,
   "metadata": {},
   "outputs": [],
   "source": [
    "buildEnaSampleSubmissionFile(psDf, xenoDf, fqDf)"
   ]
  },
  {
   "cell_type": "code",
   "execution_count": 109,
   "metadata": {},
   "outputs": [],
   "source": [
    "%%bash\n",
    "head -n1 matchFastqs.tsv > fastqHeaders"
   ]
  },
  {
   "cell_type": "code",
   "execution_count": 110,
   "metadata": {},
   "outputs": [],
   "source": [
    "%%bash\n",
    "tail -n +2 completedEnaAllSamplesMetadata.tsv > headerlessData"
   ]
  },
  {
   "cell_type": "code",
   "execution_count": 111,
   "metadata": {},
   "outputs": [],
   "source": [
    "%%bash\n",
    "tail -n +2 matchFastqs.tsv > headerlessFsData"
   ]
  },
  {
   "cell_type": "code",
   "execution_count": 112,
   "metadata": {},
   "outputs": [],
   "source": [
    "%%bash\n",
    "split -l 200 -d headerlessData sampleData\n",
    "split -l 200 -d headerlessFsData fqData"
   ]
  },
  {
   "cell_type": "code",
   "execution_count": 113,
   "metadata": {
    "scrolled": true
   },
   "outputs": [],
   "source": [
    "%%bash\n",
    "for i in sampleData* ; do cat headers \"$i\" > \"$i\".tsv; done;\n"
   ]
  },
  {
   "cell_type": "code",
   "execution_count": 114,
   "metadata": {},
   "outputs": [],
   "source": [
    "%%bash\n",
    "for i in fqData* ; do cat fastqHeaders \"$i\" > \"$i\".tsv; done;\n"
   ]
  },
  {
   "cell_type": "code",
   "execution_count": 115,
   "metadata": {},
   "outputs": [],
   "source": [
    "%%bash\n",
    "rm fqData??\n",
    "rm sampleData??"
   ]
  },
  {
   "cell_type": "code",
   "execution_count": null,
   "metadata": {},
   "outputs": [],
   "source": []
  }
 ],
 "metadata": {
  "kernelspec": {
   "display_name": "Python 3",
   "language": "python",
   "name": "python3"
  },
  "language_info": {
   "codemirror_mode": {
    "name": "ipython",
    "version": 3
   },
   "file_extension": ".py",
   "mimetype": "text/x-python",
   "name": "python",
   "nbconvert_exporter": "python",
   "pygments_lexer": "ipython3",
   "version": "3.6.9"
  }
 },
 "nbformat": 4,
 "nbformat_minor": 2
}
