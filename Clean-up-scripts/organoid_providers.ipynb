{
 "cells": [
  {
   "cell_type": "code",
   "execution_count": 1,
   "id": "initial_id",
   "metadata": {
    "collapsed": true,
    "ExecuteTime": {
     "end_time": "2023-10-23T12:01:16.406796Z",
     "start_time": "2023-10-23T12:01:15.408560Z"
    }
   },
   "outputs": [],
   "source": [
    "import pandas as pd\n",
    "from utils import *"
   ]
  },
  {
   "cell_type": "code",
   "execution_count": 2,
   "outputs": [],
   "source": [
    "#https://ftp.ensembl.org/pub/current_json/homo_sapiens/homo_sapiens.json\n",
    "start_dir = getcwd()\n",
    "home = \"/Users/tushar/CancerModels/pdxfinder-data/\"\n",
    "out_path = \"/Users/tushar/CancerModels/submission/\"\n",
    "providers = sort_case_insensitive(get_dirs(home))"
   ],
   "metadata": {
    "collapsed": false,
    "ExecuteTime": {
     "end_time": "2023-10-23T12:01:16.978053Z",
     "start_time": "2023-10-23T12:01:16.965467Z"
    }
   },
   "id": "d21a8decb1033f16"
  },
  {
   "cell_type": "markdown",
   "source": [
    "# Data from cBioPortal"
   ],
   "metadata": {
    "collapsed": false
   },
   "id": "3489dcecdf736f05"
  },
  {
   "cell_type": "code",
   "execution_count": 3,
   "outputs": [],
   "source": [
    "def map_gene_to_location(row):\n",
    "    symbol = row['symbol']\n",
    "    match = geneSymbol_location[geneSymbol_location['Symbol'] == symbol].reset_index(drop=True)\n",
    "    if match is not None and len(match)>0:\n",
    "        if len(match) > 1:\n",
    "            match = match.iloc[0]\n",
    "        row['chromosome'], row['strand'], row['seq_start_position'], row['seq_end_position'], row['ncbi_gene_id'], row['ensembl_gene_id'] = match['chromosome'][0], match['strand'][0], match['start'][0], match['end'][0], match['GeneID'][0], match['ensembl_id'][0]\n",
    "    else:\n",
    "        row = get_location_from_synonym(row)\n",
    "    return row\n",
    "\n",
    "def process_cbioportal_files(params, desc):\n",
    "    print(desc)\n",
    "    home, in_path, out_path, study = params[0], params[1], params[2], params[3]\n",
    "    if exists(in_path):\n",
    "        dir_check(out_path)\n",
    "    files = get_files(in_path)\n",
    "    meta_study = pd.read_csv(join(in_path, 'meta_study.txt'), sep='\\t')\n",
    "\n",
    "    clinical = read_clinical_files(home, in_path, out_path, study)\n",
    "    sample_ids = list(clinical['#Sample Identifier'].unique())\n",
    "    read_mol_files(in_path, out_path, files, study, sample_ids)\n",
    "        \n",
    "    return None\n",
    "\n",
    "def get_template(path):\n",
    "    temp = read_metadata_with_fields(path)\n",
    "    cols = temp.columns\n",
    "    return temp, cols\n",
    "    \n",
    "def read_clinical_files(home, in_path, out_path, study):\n",
    "    patient = read_metadata_with_fields(join(in_path, 'data_clinical_patient.txt'))\n",
    "    sample = read_metadata_with_fields(join(in_path, 'data_clinical_sample.txt'))\n",
    "    \n",
    "    sample = sample[sample['Sample Class'] == 'Organoid']\n",
    "    sample = sample[sample['#Sample Identifier'].str.contains('Organoid')].reset_index(drop=True)\n",
    "    clinical = sample.merge(patient, left_on='Patient Identifier', right_on='#Patient Identifier', how='left').reset_index(drop=True)\n",
    "    patient_ids = list(clinical['#Patient Identifier'].unique())\n",
    "    clinical = clinical[clinical['#Patient Identifier'].isin(patient_ids)]\n",
    "    \n",
    "    generate_patient_sheet(clinical).to_csv(join(out_path, study+'_metadata-patient.tsv'), sep='\\t', index=False)\n",
    "    generate_patient_sample_sheet(clinical).to_csv(join(out_path, study+'_metadata-patient-sample.tsv'), sep='\\t', index=False)\n",
    "    generate_cell_sheet(clinical).to_csv(join(out_path, study+'_metadata-cell_model.tsv'), sep='\\t', index=False)\n",
    "    read_metadata_with_fields(join(home, \"template/active_templates/metadata/metadata_template-model_validation.tsv\")).to_csv(join(out_path, study+'_metadata-model_validation.tsv'), sep='\\t', index=False)\n",
    "    generate_sharing_sheet(clinical).to_csv(join(out_path, study+'_metadata-sharing.tsv'), sep='\\t', index=False)\n",
    "    return clinical\n",
    "\n",
    "def generate_patient_sheet(p):\n",
    "    p['patient_id'], p['sex'] = p['#Patient Identifier'], p['Sex'] \n",
    "    p['Field'], p['history'] = '', 'Smoking Status: ' + p['Smoking Status']\n",
    "    p['ethnicity'], p['ethnicity_assessment_method'] = p['Ethinicity'].replace('African-American', 'African American'), 'Not provided'\n",
    "    p['initial_diagnosis'], p['age_at_initial_diagnosis'] = 'Not provided', 'Not provided'\n",
    "    temp_patient, cols = get_template(join(home, \"template/active_templates/metadata/\", \"metadata_template-patient.tsv\"))\n",
    "    \n",
    "    p = p[cols]\n",
    "    p = pd.concat([temp_patient, p]).reset_index(drop=True)\n",
    "    return p\n",
    "\n",
    "def generate_patient_sample_sheet(ps):\n",
    "    temp_ps, cols = get_template(join(home, \"template/active_templates/metadata/\", \"metadata_template-patient_sample.tsv\"))\n",
    "    \n",
    "    \n",
    "    ps['Field'], ps['patient_id'], ps['sample_id'] = '', ps['Patient Identifier'], ps['#Sample Identifier']\n",
    "    ps['age_in_years_at_collection'], ps['diagnosis'] = ps['Age'], ps['Cancer Type Detailed']\n",
    "    ps['tumour_type'] = ps['Sample Type'].replace('Unknown_Tumor', 'Not provided')\n",
    "    ps['primary_site'] = ps['Tissue Site'].fillna('Not provided').str.replace('_', ' ', regex=True)\n",
    "    ps['collection_site'] = ps['primary_site']\n",
    "    ps['stage'], ps['staging_system'] = ps['Tumor Stage'], 'TNM staging system'\n",
    "    ps['grade'] = ps['Pathological Classification of Parental Tumor Sample']\n",
    "    ps['sharable'] = 'Yes'\n",
    "    ps['treatment_naive_at_collection'] = ['Yes' if len(x)<2 else 'No' for x in ps['Prior Intravesical Therapy'].fillna('N')]\n",
    "    ps['treated_at_collection'] = 'No'\n",
    "    ps['treated_prior_to_collection'] = ['Yes' if len(x)>2 else 'No' for x in ps['Prior Intravesical Therapy'].fillna('N')]\n",
    "    empty_cols = ['collection_date', 'collection_event', 'months_since_collection_1', 'grading_system', 'virology_status']\n",
    "    for col_name in empty_cols:\n",
    "        ps[col_name] = 'Not provided'\n",
    "    ps['model_id'] = ps['#Sample Identifier']\n",
    "    \n",
    "    ps = ps[cols]\n",
    "    ps = pd.concat([temp_ps, ps]).reset_index(drop=True)\n",
    "    return ps\n",
    "\n",
    "def generate_cell_sheet(c):\n",
    "    temp_c, cols = get_template(join(home, \"template/active_templates/metadata/\", \"metadata_template-cell_model.tsv\"))\n",
    "    \n",
    "    c['Field'], c[\"model_id\"] = \"\", c['#Sample Identifier']\n",
    "    c['type'], c[\"publications\"] = \"Organoid\", \"PMID: 29625057\"\n",
    "    c[\"comments\"] = \"Specimen Preservation Type: \"+ c[\"Specimen Preservation Type\"] + \"; TMB (nonsynonymous): \" + c[\"TMB (nonsynonymous)\"]\n",
    "    c[\"parent_id\"], c[\"origin_patient_sample_id\"] = \"\", \"\"\n",
    "    empty_cols = [\"name\", \"growth_properties\", \"supplier\", \"external_ids\"]\n",
    "    for col_name in empty_cols:\n",
    "        c[col_name] = 'Not provided'\n",
    "    \n",
    "    c = c[cols]\n",
    "    c = pd.concat([temp_c, c]).reset_index(drop=True)\n",
    "    return c\n",
    "\n",
    "def generate_sharing_sheet(s):\n",
    "    contact = \"mshen@columbia.edu\"\n",
    "    name = \"Michael M. Shen\"\n",
    "    accessibility = \"academia and industry\"\n",
    "    license = \"CC0\"\n",
    "    db_url = \"https://www.cuimc.columbia.edu/news/organoids-created-patients-bladder-cancers-could-guide-treatment#:~:text=Organoids%20created%20from%20the%20bladder,College%20of%20Physicians%20and%20Surgeons.\"\n",
    "    \n",
    "    temp_s, cols = get_template(join(home, \"template/active_templates/metadata/\", \"metadata_template-sharing.tsv\"))\n",
    "    \n",
    "    s['model_id'] = s['#Sample Identifier']\n",
    "    s['accessibility'] = accessibility\n",
    "    s['europdx_access_modality'] = ''\n",
    "    s['email'] = contact\n",
    "    s['name'] = name\n",
    "    s['form_url'] = ''\n",
    "    s['database_url'] = db_url\n",
    "    s['license'] = license\n",
    "    \n",
    "    s = s[cols]\n",
    "    s = pd.concat([temp_s, s]).reset_index(drop=True)\n",
    "    return s     \n",
    "        \n",
    "def convert_matrix_to_df(df, ids, var_name, value_name):\n",
    "    return pd.melt(df, id_vars=[ids], var_name=var_name, value_name=value_name)\n",
    "\n",
    "def extract_mol(df, params, type, mol):\n",
    "    if mol.__contains__(\"COPY\"):\n",
    "        if type == \"DISCRETE\":\n",
    "            df = convert_matrix_to_df(df, \"Hugo_Symbol\", \"sample_id\", \"gistic_value\")\n",
    "            template, col = get_template(join(home, \"template/active_templates/cna/cna_template-sheet.tsv\"))\n",
    "            df['platform_id'] = \"cna_WES_Illumina_2500\"\n",
    "            df['symbol'] = df['Hugo_Symbol']\n",
    "            df = df[df['gistic_value'].fillna('') != '']\n",
    "            df['gistic_value'] = df['gistic_value'].astype(int)\n",
    "            #col = [x.replace(\"platform\", \"platform_id\") for x in col]\n",
    "            for col_name in col:\n",
    "                if col_name not in df.columns:\n",
    "                    # sample_id\tchromosome\tstrand\tseq_start_position\tseq_end_position\tsymbol\tucsc_gene_id\tncbi_gene_id\tensembl_gene_id\tlog10r_cna\tlog2r_cna\tfold_change\tcopy_number_status\tgistic_value\tpicnic_value\tplatform_id\n",
    "                    df[col_name] = ''\n",
    "            df = df[col]\n",
    "    elif mol.__contains__(\"MUTATION\"):\n",
    "        template, col = get_template(join(home, \"template/active_templates/mut/mutation_template_external.tsv\"))\n",
    "        df['sample_id'] = df['Tumor_Sample_Barcode']\n",
    "        df['symbol'] = df['Hugo_Symbol']\n",
    "        df['read_depth'] = ''\n",
    "        df['allele_frequency'] = ''\n",
    "        df['chromosome'] = df['Chromosome']\n",
    "        df['strand'] = df['Strand']\n",
    "        df['seq_start_position'] = df['Start_Position']\n",
    "        df['seq_end_position'] = df['End_Position']\n",
    "        df['ref_allele'] = df['Reference_Allele']\n",
    "        df['alt_allele'] = df['Tumor_Seq_Allele2']\n",
    "        df['variation_id'] = df['dbSNP_RS']\t\t\t\t\t\t\t\t\t\t\n",
    "        df['platform_id'] = \"mutation_WES_Illumina_2500\"\n",
    "        df = df[col]\n",
    "    return df\n",
    "        \n",
    "def read_meta_files(file_path):\n",
    "    # Define a function to parse the text and extract key-value pairs\n",
    "    data = {}\n",
    "    with open(file_path, 'r') as file:\n",
    "        for line in file:\n",
    "            if len(line.strip().split(': ')) > 2:\n",
    "                l = line.strip().split(': ')\n",
    "                key = l[0]\n",
    "                value = ' '.join(l[1:])\n",
    "            else:\n",
    "                key, value = line.strip().split(': ')\n",
    "            data[key] = value\n",
    "    return data\n",
    "\n",
    "def read_mol_files(in_path, out_path, files, study, sample_ids):\n",
    "    mol_plat_sample, mol_cols = get_template(join(home, \"template/active_templates/molecular_metadata/\", \"molecular_metadata-sample.tsv\"))\n",
    "    if 'meta_cna.txt' in files:\n",
    "        meta = read_meta_files(join(in_path, 'meta_cna.txt'))\n",
    "        data = pd.read_csv(join(in_path, 'data_cna.txt'), sep='\\t')\n",
    "        cna_type = meta[\"datatype\"]\n",
    "        mol_type = meta[\"genetic_alteration_type\"]\n",
    "        selected_columns = ['Hugo_Symbol'] + sample_ids\n",
    "        data = data[selected_columns]\n",
    "        data = extract_mol(data, [], cna_type, mol_type)\n",
    "        data = data.apply(map_gene_to_location, axis=1)\n",
    "        cna_path = join(out_path, \"cna\") \n",
    "        dir_check(cna_path)\n",
    "        data.to_csv(join(cna_path, study+'_cna.tsv'), sep='\\t', index=False)\n",
    "        cna_plat = pd.DataFrame([[\"\", samples, samples, \"cell\", \"\",\"\",\"\",\"\",\"\", \"cna_WES_Illumina_2500\"] for samples in sample_ids], columns=mol_cols)\n",
    "        mol_plat_sample = pd.concat([mol_plat_sample, cna_plat]).reset_index(drop=True)\n",
    "    if 'meta_mutations.txt':\n",
    "        meta = read_meta_files(join(in_path, 'meta_mutations.txt'))\n",
    "        data = pd.read_csv(join(in_path, 'data_mutations.txt'), sep='\\t')\n",
    "        data_type = meta[\"datatype\"]\n",
    "        mol_type = meta[\"genetic_alteration_type\"]\n",
    "        data = extract_mol(data, [], data_type, mol_type)\n",
    "        data = data[data['sample_id'].isin(sample_ids)]\n",
    "        mutation_path = join(out_path, \"mut\") \n",
    "        dir_check(mutation_path)\n",
    "        data.to_csv(join(mutation_path, study+'_mut.tsv'), sep='\\t', index=False)\n",
    "        mut_plat = pd.DataFrame([[\"\", samples, samples, \"cell\", \"\",\"\",\"\",\"\",\"\", \"mutation_WES_Illumina_2500\"] for samples in sample_ids], columns=mol_cols)\n",
    "        mol_plat_sample = pd.concat([mol_plat_sample, mut_plat]).reset_index(drop=True)\n",
    "    mol_plat_sample.to_csv(join(out_path, study+'_molecular_metadata-sample.tsv'), sep='\\t', index=False)\n",
    "    return None"
   ],
   "metadata": {
    "collapsed": false,
    "ExecuteTime": {
     "end_time": "2023-10-16T17:01:48.331491Z",
     "start_time": "2023-10-16T17:01:48.300062Z"
    }
   },
   "id": "ad03525b236a73d6"
  },
  {
   "cell_type": "markdown",
   "source": [
    "# Data from Excel files"
   ],
   "metadata": {
    "collapsed": false
   },
   "id": "6b9ab55ab8b4b41d"
  },
  {
   "cell_type": "code",
   "execution_count": 4,
   "outputs": [],
   "source": [
    "def process_excel_files():\n",
    "    return None"
   ],
   "metadata": {
    "collapsed": false,
    "ExecuteTime": {
     "end_time": "2023-10-16T17:01:48.343552Z",
     "start_time": "2023-10-16T17:01:48.332040Z"
    }
   },
   "id": "5c73dbc60ba5af4a"
  },
  {
   "cell_type": "markdown",
   "source": [
    "# Main run"
   ],
   "metadata": {
    "collapsed": false
   },
   "id": "c08a8a7ebb9af0f7"
  },
  {
   "cell_type": "code",
   "execution_count": 5,
   "outputs": [],
   "source": [
    "def main(params, run_type):\n",
    "    if run_type == \"cbio\":\n",
    "        func = process_cbioportal_files\n",
    "        desc = \"Processing cBioPortal files ...\"\n",
    "    elif run_type == \"excel\":\n",
    "        func = process_excel_files\n",
    "        desc = \"Processing excel files ...\"\n",
    "    else:\n",
    "        print(\"No run type found\")\n",
    "        return None\n",
    "    func(params, desc)"
   ],
   "metadata": {
    "collapsed": false,
    "ExecuteTime": {
     "end_time": "2023-10-16T17:01:48.354885Z",
     "start_time": "2023-10-16T17:01:48.347451Z"
    }
   },
   "id": "eaaa981b16145517"
  },
  {
   "cell_type": "markdown",
   "source": [
    "## Bladder Columbia 2018 - Organoids\n",
    "Columbia University Medical Center"
   ],
   "metadata": {
    "collapsed": false
   },
   "id": "649bb0237d5a87ad"
  },
  {
   "cell_type": "code",
   "execution_count": 6,
   "outputs": [
    {
     "name": "stdout",
     "output_type": "stream",
     "text": [
      "Processing cBioPortal files ...\n"
     ]
    },
    {
     "name": "stderr",
     "output_type": "stream",
     "text": [
      "/Users/tushar/CancerModels/utils/PdcmDataTransformers/utils.py:85: UserWarning: This pattern is interpreted as a regular expression, and has match groups. To actually get the groups, use str.extract.\n",
      "  match = geneSymbol_location.loc[geneSymbol_location.Synonyms.str.contains(pattern)].reset_index(drop=True)\n"
     ]
    },
    {
     "name": "stdout",
     "output_type": "stream",
     "text": [
      "BAT-25\n",
      "BAT-26\n",
      "CDKN2Ap14ARF\n",
      "CDKN2Ap16INK4A\n",
      "D17S250\n",
      "D2S123\n",
      "NR-21\n",
      "NR-24\n",
      "BAT-25\n",
      "BAT-26\n",
      "CDKN2Ap14ARF\n",
      "CDKN2Ap16INK4A\n",
      "D17S250\n",
      "D2S123\n",
      "NR-21\n",
      "NR-24\n",
      "BAT-25\n",
      "BAT-26\n",
      "CDKN2Ap14ARF\n",
      "CDKN2Ap16INK4A\n",
      "D17S250\n",
      "D2S123\n",
      "NR-21\n",
      "NR-24\n",
      "BAT-25\n",
      "BAT-26\n",
      "CDKN2Ap14ARF\n",
      "CDKN2Ap16INK4A\n",
      "D17S250\n",
      "D2S123\n",
      "NR-21\n",
      "NR-24\n",
      "BAT-25\n",
      "BAT-26\n",
      "CDKN2Ap14ARF\n",
      "CDKN2Ap16INK4A\n",
      "D17S250\n",
      "D2S123\n",
      "NR-21\n",
      "NR-24\n",
      "BAT-25\n",
      "BAT-26\n",
      "CDKN2Ap14ARF\n",
      "CDKN2Ap16INK4A\n",
      "D17S250\n",
      "D2S123\n",
      "NR-21\n",
      "NR-24\n",
      "BAT-25\n",
      "BAT-26\n",
      "CDKN2Ap14ARF\n",
      "CDKN2Ap16INK4A\n",
      "D17S250\n",
      "D2S123\n",
      "NR-21\n",
      "NR-24\n",
      "BAT-25\n",
      "BAT-26\n",
      "CDKN2Ap14ARF\n",
      "CDKN2Ap16INK4A\n",
      "D17S250\n",
      "D2S123\n",
      "NR-21\n",
      "NR-24\n",
      "BAT-25\n",
      "BAT-26\n",
      "CDKN2Ap14ARF\n",
      "CDKN2Ap16INK4A\n",
      "D17S250\n",
      "D2S123\n",
      "NR-21\n",
      "NR-24\n",
      "BAT-25\n",
      "BAT-26\n",
      "CDKN2Ap14ARF\n",
      "CDKN2Ap16INK4A\n",
      "D17S250\n",
      "D2S123\n",
      "NR-21\n",
      "NR-24\n",
      "BAT-25\n",
      "BAT-26\n",
      "CDKN2Ap14ARF\n",
      "CDKN2Ap16INK4A\n",
      "D17S250\n",
      "D2S123\n",
      "NR-21\n",
      "NR-24\n",
      "BAT-25\n",
      "BAT-26\n",
      "CDKN2Ap14ARF\n",
      "CDKN2Ap16INK4A\n",
      "D17S250\n",
      "D2S123\n",
      "NR-21\n",
      "NR-24\n",
      "BAT-25\n",
      "BAT-26\n",
      "CDKN2Ap14ARF\n",
      "CDKN2Ap16INK4A\n",
      "D17S250\n",
      "D2S123\n",
      "NR-21\n",
      "NR-24\n",
      "BAT-25\n",
      "BAT-26\n",
      "CDKN2Ap14ARF\n",
      "CDKN2Ap16INK4A\n",
      "D17S250\n",
      "D2S123\n",
      "NR-21\n",
      "NR-24\n",
      "BAT-25\n",
      "BAT-26\n",
      "CDKN2Ap14ARF\n",
      "CDKN2Ap16INK4A\n",
      "D17S250\n",
      "D2S123\n",
      "NR-21\n",
      "NR-24\n",
      "BAT-25\n",
      "BAT-26\n",
      "CDKN2Ap14ARF\n",
      "CDKN2Ap16INK4A\n",
      "D17S250\n",
      "D2S123\n",
      "NR-21\n",
      "NR-24\n",
      "BAT-25\n",
      "BAT-26\n",
      "CDKN2Ap14ARF\n",
      "CDKN2Ap16INK4A\n",
      "D17S250\n",
      "D2S123\n",
      "NR-21\n",
      "NR-24\n",
      "BAT-25\n",
      "BAT-26\n",
      "CDKN2Ap14ARF\n",
      "CDKN2Ap16INK4A\n",
      "D17S250\n",
      "D2S123\n",
      "NR-21\n",
      "NR-24\n",
      "BAT-25\n",
      "BAT-26\n",
      "CDKN2Ap14ARF\n",
      "CDKN2Ap16INK4A\n",
      "D17S250\n",
      "D2S123\n",
      "NR-21\n",
      "NR-24\n",
      "BAT-25\n",
      "BAT-26\n",
      "CDKN2Ap14ARF\n",
      "CDKN2Ap16INK4A\n",
      "D17S250\n",
      "D2S123\n",
      "NR-21\n",
      "NR-24\n",
      "BAT-25\n",
      "BAT-26\n",
      "CDKN2Ap14ARF\n",
      "CDKN2Ap16INK4A\n",
      "D17S250\n",
      "D2S123\n",
      "NR-21\n",
      "NR-24\n",
      "BAT-25\n",
      "BAT-26\n",
      "CDKN2Ap14ARF\n",
      "CDKN2Ap16INK4A\n",
      "D17S250\n",
      "D2S123\n",
      "NR-21\n",
      "NR-24\n",
      "BAT-25\n",
      "BAT-26\n",
      "CDKN2Ap14ARF\n",
      "CDKN2Ap16INK4A\n",
      "D17S250\n",
      "D2S123\n",
      "NR-21\n",
      "NR-24\n",
      "BAT-25\n",
      "BAT-26\n",
      "CDKN2Ap14ARF\n",
      "CDKN2Ap16INK4A\n",
      "D17S250\n",
      "D2S123\n",
      "NR-21\n",
      "NR-24\n",
      "BAT-25\n",
      "BAT-26\n",
      "CDKN2Ap14ARF\n",
      "CDKN2Ap16INK4A\n",
      "D17S250\n",
      "D2S123\n",
      "NR-21\n",
      "NR-24\n",
      "BAT-25\n",
      "BAT-26\n",
      "CDKN2Ap14ARF\n",
      "CDKN2Ap16INK4A\n",
      "D17S250\n",
      "D2S123\n",
      "NR-21\n",
      "NR-24\n",
      "BAT-25\n",
      "BAT-26\n",
      "CDKN2Ap14ARF\n",
      "CDKN2Ap16INK4A\n",
      "D17S250\n",
      "D2S123\n",
      "NR-21\n",
      "NR-24\n",
      "BAT-25\n",
      "BAT-26\n",
      "CDKN2Ap14ARF\n",
      "CDKN2Ap16INK4A\n",
      "D17S250\n",
      "D2S123\n",
      "NR-21\n",
      "NR-24\n",
      "BAT-25\n",
      "BAT-26\n",
      "CDKN2Ap14ARF\n",
      "CDKN2Ap16INK4A\n",
      "D17S250\n",
      "D2S123\n",
      "NR-21\n",
      "NR-24\n",
      "BAT-25\n",
      "BAT-26\n",
      "CDKN2Ap14ARF\n",
      "CDKN2Ap16INK4A\n",
      "D17S250\n",
      "D2S123\n",
      "NR-21\n",
      "NR-24\n",
      "CDKN2Ap14ARF\n",
      "CDKN2Ap16INK4A\n",
      "LOC80054\n",
      "CDKN2Ap14ARF\n",
      "CDKN2Ap16INK4A\n",
      "LOC80054\n"
     ]
    }
   ],
   "source": [
    "input_path = \"/Users/tushar/CancerModels/submission/bladder_columbia_msk_2018/\"\n",
    "output_path = \"/Users/tushar/CancerModels/submission/\"\n",
    "study = \"CUMC\"\n",
    "params = [home, input_path, join(output_path, study), study]\n",
    "main(params, 'cbio')"
   ],
   "metadata": {
    "collapsed": false,
    "ExecuteTime": {
     "end_time": "2023-10-16T17:03:40.702771Z",
     "start_time": "2023-10-16T17:01:48.357771Z"
    }
   },
   "id": "88b2722bed3cbe9d"
  },
  {
   "cell_type": "markdown",
   "source": [],
   "metadata": {
    "collapsed": false
   },
   "id": "73f91db500b0a7e"
  },
  {
   "cell_type": "code",
   "execution_count": null,
   "outputs": [],
   "source": [],
   "metadata": {
    "collapsed": false
   },
   "id": "a7cdfb76a53c257e"
  },
  {
   "cell_type": "code",
   "execution_count": null,
   "outputs": [],
   "source": [],
   "metadata": {
    "collapsed": false
   },
   "id": "2c0515ac9a56d3fd"
  },
  {
   "cell_type": "code",
   "execution_count": null,
   "outputs": [],
   "source": [],
   "metadata": {
    "collapsed": false
   },
   "id": "dec9412fb838e272"
  },
  {
   "cell_type": "code",
   "execution_count": null,
   "outputs": [],
   "source": [],
   "metadata": {
    "collapsed": false
   },
   "id": "26becf6825cb6fb4"
  },
  {
   "cell_type": "code",
   "execution_count": null,
   "outputs": [],
   "source": [],
   "metadata": {
    "collapsed": false
   },
   "id": "d2d0355176e17ecd"
  },
  {
   "cell_type": "code",
   "execution_count": 3,
   "outputs": [],
   "source": [
    "expression = pd.read_csv(\"/Users/tushar/Downloads/GSE103990_Normalized_counts.txt\", sep='\\t')\n",
    "sample_ids = pd.read_csv(join(home, 'data/UPDOG/CUIMC/CUIMC_metadata-patient_sample.tsv'),sep='\\t')"
   ],
   "metadata": {
    "collapsed": false,
    "ExecuteTime": {
     "end_time": "2023-10-23T12:01:22.498543Z",
     "start_time": "2023-10-23T12:01:22.077244Z"
    }
   },
   "id": "b022f510b53ae6e4"
  },
  {
   "cell_type": "code",
   "execution_count": 6,
   "outputs": [],
   "source": [
    "samples = list(sample_ids['sample_id'][4:])"
   ],
   "metadata": {
    "collapsed": false,
    "ExecuteTime": {
     "end_time": "2023-10-23T12:01:47.871832Z",
     "start_time": "2023-10-23T12:01:47.856792Z"
    }
   },
   "id": "a7a4c8dea880ed57"
  },
  {
   "cell_type": "code",
   "execution_count": 7,
   "outputs": [],
   "source": [
    "df = pd.melt(expression, id_vars=['Unnamed: 0'], var_name='sample_id', value_name='rnaseq_count')"
   ],
   "metadata": {
    "collapsed": false,
    "ExecuteTime": {
     "end_time": "2023-10-23T12:01:52.008109Z",
     "start_time": "2023-10-23T12:01:51.797766Z"
    }
   },
   "id": "a3097fe71b782ce4"
  },
  {
   "cell_type": "code",
   "execution_count": 10,
   "outputs": [
    {
     "data": {
      "text/plain": "['ENSG00000000003', 'TSPAN6']"
     },
     "execution_count": 10,
     "metadata": {},
     "output_type": "execute_result"
    }
   ],
   "source": [
    "df['Unnamed: 0'].str.split('_')"
   ],
   "metadata": {
    "collapsed": false,
    "ExecuteTime": {
     "end_time": "2023-10-23T12:02:16.629458Z",
     "start_time": "2023-10-23T12:02:12.306699Z"
    }
   },
   "id": "2a6e057c5f14df0f"
  },
  {
   "cell_type": "code",
   "execution_count": 11,
   "outputs": [],
   "source": [
    "df['ensembl_gene_id'] = [x.split('_')[0] for x in df['Unnamed: 0']]\n",
    "df['symbol'] = [x.split('_')[1] for x in df['Unnamed: 0']] "
   ],
   "metadata": {
    "collapsed": false,
    "ExecuteTime": {
     "end_time": "2023-10-23T12:03:27.475554Z",
     "start_time": "2023-10-23T12:03:23.423826Z"
    }
   },
   "id": "1f63322a684a4003"
  },
  {
   "cell_type": "code",
   "execution_count": 15,
   "outputs": [],
   "source": [
    "df[df['sample_id'].isin(samples)].reset_index(drop=True).to_csv('CUIMC_expression.tsv',sep='\\t')"
   ],
   "metadata": {
    "collapsed": false,
    "ExecuteTime": {
     "end_time": "2023-10-23T12:04:44.234434Z",
     "start_time": "2023-10-23T12:04:40.895115Z"
    }
   },
   "id": "98746d016c6d2d80"
  },
  {
   "cell_type": "code",
   "execution_count": 16,
   "outputs": [
    {
     "data": {
      "text/plain": "array(['SCBO-1_Organoid_P7', 'SCBO-9_Organoid_P0', 'SCBO-7_Organoid_P7',\n       'SCBO-8_Organoid_P11', 'SMBO-1_Organoid_P0', 'SCBO-15_Organoid_P8',\n       'SCBO-3_Organoid_P14', 'SCBO-7_2_Organoid_P1'], dtype=object)"
     },
     "execution_count": 16,
     "metadata": {},
     "output_type": "execute_result"
    }
   ],
   "source": [
    "df[df['sample_id'].isin(samples)].sample_id.unique()"
   ],
   "metadata": {
    "collapsed": false,
    "ExecuteTime": {
     "end_time": "2023-10-23T12:04:54.147151Z",
     "start_time": "2023-10-23T12:04:54.060557Z"
    }
   },
   "id": "7e46c7128d1d3290"
  },
  {
   "cell_type": "code",
   "execution_count": null,
   "outputs": [],
   "source": [],
   "metadata": {
    "collapsed": false
   },
   "id": "6e6ff014d298c728"
  }
 ],
 "metadata": {
  "kernelspec": {
   "display_name": "Python 3",
   "language": "python",
   "name": "python3"
  },
  "language_info": {
   "codemirror_mode": {
    "name": "ipython",
    "version": 2
   },
   "file_extension": ".py",
   "mimetype": "text/x-python",
   "name": "python",
   "nbconvert_exporter": "python",
   "pygments_lexer": "ipython2",
   "version": "2.7.6"
  }
 },
 "nbformat": 4,
 "nbformat_minor": 5
}
