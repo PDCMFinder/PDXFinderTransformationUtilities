{
 "cells": [
  {
   "cell_type": "code",
   "execution_count": 20,
   "id": "initial_id",
   "metadata": {
    "collapsed": true,
    "ExecuteTime": {
     "end_time": "2023-08-31T18:04:11.858793Z",
     "start_time": "2023-08-31T18:04:11.798311Z"
    }
   },
   "outputs": [],
   "source": [
    "from os import listdir, getcwd, rename, makedirs\n",
    "from os.path import isfile, join, isdir, exists\n",
    "import pandas as pd\n",
    "import logging\n",
    "from PIL import Image\n",
    "from tqdm import tqdm"
   ]
  },
  {
   "cell_type": "markdown",
   "source": [
    "### Common functions"
   ],
   "metadata": {
    "collapsed": false
   },
   "id": "6bb1b31a7945f1df"
  },
  {
   "cell_type": "code",
   "execution_count": 21,
   "outputs": [],
   "source": [
    "def get_dirs(path):\n",
    "    return [f for f in listdir(path) if isdir(join(path, f))]\n",
    "\n",
    "def get_files(path):\n",
    "    return [f for f in listdir(path) if isfile(join(path, f))]\n",
    "\n",
    "def read_metadata_without_fields(path):\n",
    "    metadata = pd.read_csv(path, sep='\\t', na_values=\"\", low_memory=False)\n",
    "    if 'Field' in metadata.columns:\n",
    "        metadata = metadata.loc[metadata.Field.str.startswith('#') != True,].reset_index(drop=True)\n",
    "        metadata = metadata.drop('Field', axis=1)\n",
    "    return metadata\n",
    "\n",
    "def read_metadata_with_fields(path):\n",
    "    metadata = pd.read_csv(path, sep='\\t', na_values=\"\", low_memory=False)\n",
    "    return metadata\n",
    "\n",
    "\n",
    "def sort_case_insensitive(sort_list):\n",
    "    return sorted(sort_list, key=str.casefold)\n"
   ],
   "metadata": {
    "collapsed": false,
    "ExecuteTime": {
     "end_time": "2023-08-31T18:04:11.889824Z",
     "start_time": "2023-08-31T18:04:11.810354Z"
    }
   },
   "id": "a0aea3aa86a595bc"
  },
  {
   "cell_type": "markdown",
   "source": [
    "### Common env"
   ],
   "metadata": {
    "collapsed": false
   },
   "id": "2a8acee6cfcb14d2"
  },
  {
   "cell_type": "code",
   "execution_count": 55,
   "outputs": [],
   "source": [
    "start_dir = getcwd()\n",
    "home = \"/Users/tushar/CancerModels/pdxfinder-data/data/UPDOG/\"\n",
    "out_path = \"/Users/tushar/CancerModels/utils/cbioportal/cbioportal-docker-compose/study/\"\n",
    "providers = sorted(get_dirs(home))"
   ],
   "metadata": {
    "collapsed": false,
    "ExecuteTime": {
     "end_time": "2023-09-01T14:30:29.487660Z",
     "start_time": "2023-09-01T14:30:29.470502Z"
    }
   },
   "id": "cf49fa885fd3209"
  },
  {
   "cell_type": "markdown",
   "source": [
    "## Generate data for cBioPortal"
   ],
   "metadata": {
    "collapsed": false
   },
   "id": "80a507417a7f573d"
  },
  {
   "cell_type": "code",
   "execution_count": 68,
   "outputs": [],
   "source": [
    "def add_headers_clinical_patient():\n",
    "    # Column headers - The attribute Display Names: The display name for each clinical attribute\n",
    "    column_headers = [\"#Patient Identifier\", \"Sex\", \"Diagnosis Age\", \"Overall Survival (Months)\", \"Overall Survival Status\"]\n",
    "    # Column descriptions - The attribute Descriptions: Long(er) description of each clinical attribute\n",
    "    column_description = [\"#Identifier to uniquely specify a patient.\", \"Sex\", \"Age at which a condition or disease was first diagnosed.\", \"Overall survival in months since initial diagonosis.\", \"Overall patient survival status.\"]\n",
    "    # Column data type - The attribute Datatype: The datatype of each clinical attribute (must be one of: STRING, NUMBER, BOOLEAN)\n",
    "    column_data_type = [\"#STRING\", \"STRING\", \"NUMBER\", \"NUMBER\", \"STRING\"]\n",
    "    # Column priority - A number which indicates the importance of each attribute. A higher number indicates a higher priority.\n",
    "    column_priority = [\"#1\", \"1\", \"1\", \"1\", \"1\"]\n",
    "    # Column headers for validation\n",
    "    column_header_validation = [\"PATIENT_ID\", \"SEX\", \"AGE\", \"OS_MONTHS\", \"OS_STATUS\"]\n",
    "    return [column_headers, column_description, column_data_type, column_priority, column_header_validation]\n",
    "\n",
    "def add_headers_clinical_sample():\n",
    "    # Column headers - The attribute Display Names: The display name for each clinical attribute\n",
    "    column_headers = [\"#Patient Identifier\", \"Sample Identifier\", \"Tumor Type\", \"Cancer Type\", \"Cancer Type Detailed\", \"Primary site\", \"Tumor Grade\"]\n",
    "    # Column descriptions - The attribute Descriptions: Long(er) description of each clinical attribute\n",
    "    column_description = [\"#Identifier to uniquely specify a patient.\", \"A unique sample identifier.\", \"The type of tumour sample (i.e., normal, primary, met, recurrence).\", \"Cancer Type\", \"Cancer Type Detailed\", \"Site of the primary tumor where primary cancer is originating from (may not correspond to the site of the current tissue sample). No abbreviations.\", \"The implanded tumour grade value.\"]\n",
    "    # Column data type - The attribute Datatype: The datatype of each clinical attribute (must be one of: STRING, NUMBER, BOOLEAN)\n",
    "    column_data_type = [\"#STRING\", \"STRING\", \"STRING\", \"STRING\", \"STRING\", \"STRING\", \"STRING\"]\n",
    "    # Column priority - A number which indicates the importance of each attribute. A higher number indicates a higher priority.\n",
    "    column_priority = [\"#1\", \"1\", \"1\", \"1\", \"1\", \"1\", \"1\"]\n",
    "    # Column headers for validation\n",
    "    column_header_validation = [\"PATIENT_ID\", \"SAMPLE_ID\", \"TUMOR_TYPE\", \"CANCER_TYPE\", \"CANCER_TYPE_DETAILED\", \"PRIMARY_SITE\", \"TUMOR_GRADE\"]\n",
    "    return [column_headers, column_description, column_data_type, column_priority, column_header_validation]\n",
    "\n",
    "def generate_clinical_df(headers):\n",
    "    # Generate the df\n",
    "    c_bio_data_clinical = pd.DataFrame(columns = headers[0])\n",
    "    c_bio_data_clinical.loc[0, :] = headers[1]\n",
    "    c_bio_data_clinical.loc[1, :] = headers[2]\n",
    "    c_bio_data_clinical.loc[2, :] = headers[3]\n",
    "    c_bio_data_clinical.loc[3, :] = headers[4]\n",
    "    return c_bio_data_clinical\n",
    "\n",
    "def write_clinical_file(out_df, out_path, file_type):\n",
    "    out_file = join(out_path, \"data_clinical_\"+file_type+\".txt\")\n",
    "    out_df.to_csv(out_file, sep=\"\\t\", index=False)\n",
    "\n",
    "def clinical_patient_data_transformation(data_path, provider):\n",
    "    out_df = generate_clinical_df(add_headers_clinical_patient())\n",
    "    data_path = join(data_path, provider+\"_metadata-patient.tsv\")\n",
    "    \n",
    "    mapper = {\"patient_id\": \"#Patient Identifier\", \"sex\": \"Sex\", \"age_at_initial_diagnosis\": \"Diagnosis Age\"}\n",
    "    temp = read_metadata_without_fields(data_path).rename(columns = mapper)\n",
    "    \n",
    "    temp[\"Overall Survival (Months)\"] = \"\"\n",
    "    temp[\"Overall Survival Status\"] = \"\"\n",
    "    \n",
    "    out_df = pd.concat([out_df, temp[out_df.columns]], ignore_index=True)\n",
    "    return out_df.replace(\"Not collected\", \"\").replace(\"Not Collected\", \"\").replace(\"Not provided\", \"\").replace(\"Not Provided\", \"\")\n",
    "\n",
    "def clinical_patient_sample_data_transformation(data_path, provider):\n",
    "    out_df = generate_clinical_df(add_headers_clinical_sample())\n",
    "    data_path = join(data_path, provider+\"_metadata-patient_sample.tsv\")\n",
    "    \n",
    "    mapper = {\"patient_id\":\"#Patient Identifier\", \"sample_id\":\"Sample Identifier\", \"tumour_type\":\"Tumor Type\", \n",
    "              \"diagnosis\":\"Cancer Type Detailed\", \"primary_site\": \"Primary site\", \"grade\":\"Tumor Grade\"}\n",
    "    temp = read_metadata_without_fields(data_path).rename(columns = mapper)\n",
    "    temp = temp.merge(get_cancer_system(provider), on=\"model_id\", how=\"left\").reset_index(drop=True)\n",
    "    temp[\"Cancer Type\"] = temp[\"cancer_system\"]\n",
    "    \n",
    "    out_df = pd.concat([out_df, temp[out_df.columns]], ignore_index=True)\n",
    "    return out_df.replace(\"Not collected\", \"\").replace(\"Not Collected\", \"\").replace(\"Not provided\", \"\").replace(\"Not Provided\", \"\").drop_duplicates(subset=[\"#Patient Identifier\", \"Sample Identifier\"])\n",
    "\n",
    "def get_cancer_system(provider_name):\n",
    "    df = pd.read_json(\"https://www.cancermodels.org/api/model_metadata?data_source=eq.\"+provider_name)\n",
    "    return df[[\"model_id\", \"cancer_system\"]]\n",
    "\n",
    "def generate_clinical_patient(in_path, out_path, provider):\n",
    "    write_clinical_file(clinical_patient_data_transformation(in_path, provider), out_path, \"patient\")\n",
    "    \n",
    "def generate_clinical_sample(in_path, out_path, provider):\n",
    "    write_clinical_file(clinical_patient_sample_data_transformation(in_path, provider), out_path, \"sample\")\n",
    "    \n",
    "## Molecular data\n",
    "def generate_mutation_files(in_path, out_path):\n",
    "    return None\n",
    "\n",
    "def generate_meta_study_file(study, provider, out_path):\n",
    "    meta_study_df = pd.DataFrame(columns=[0,1])\n",
    "    meta_study_df.loc[0,:] = [\"type_of_cancer:\", \"mixed\"]\n",
    "    meta_study_df.loc[1,:] = [\"cancer_study_identifier:\",  study]\n",
    "    meta_study_df.loc[2,:] = [\"name:\", \"Mixed PDX models from \"+provider]\n",
    "    meta_study_df.loc[3,:] = [\"description:\", \"PDX models from \"+provider+\" for mixed cancer types.\"]\n",
    "    meta_study_df.loc[4,:] = [\"groups:\", \"PUBLIC\"]\n",
    "    #meta_study_df.loc[5,:] = [\"short_name:\", \"PDCMs (\"+provider+\")\"]\n",
    "    meta_study_df.loc[5,:] = [\"reference_genome:\", \"hg38\"]\n",
    "    meta_study_df.loc[6,:] = [\"add_global_case_list:\", \"true\"]\n",
    "    meta_study_df.to_csv(join(out_path, \"meta_study.txt\"), sep=\"\\t\", index=False,header=False)\n",
    "    \n",
    "def generate_meta_clinical_files(study, out_path, type):\n",
    "    meta_df = pd.DataFrame(columns=[0,1])\n",
    "    meta_df.loc[0,:] = [\"cancer_study_identifier:\", study]\n",
    "    meta_df.loc[1,:] = [\"genetic_alteration_type:\", \"CLINICAL\"]\n",
    "    meta_df.loc[2,:] = [\"datatype:\", type.upper()+\"_ATTRIBUTES\"]\n",
    "    meta_df.loc[3,:] = [\"data_filename:\", \"data_clinical_\"+type.upper()+\".txt\"]\n",
    "    meta_df.to_csv(join(out_path, \"meta_clinical_\"+type+\".txt\"), sep=\"\\t\", index=False,header=False)\n",
    "\n",
    "def generate_meta_files(out_path, provider):\n",
    "    study = \"cm_\"+provider.lower()+\"_2023\"\n",
    "    out_path = join(out_path, study)\n",
    "    generate_meta_study_file(study, provider, out_path)\n",
    "    generate_meta_clinical_files(study, out_path, \"patient\")\n",
    "    generate_meta_clinical_files(study, out_path, \"sample\")\n",
    "    return out_path\n",
    "def generate_c_bio_portal_files(in_path, out_path, provider):\n",
    "    out_path = generate_meta_files(out_path, provider)\n",
    "    generate_clinical_patient(in_path, out_path, provider)\n",
    "    generate_clinical_sample(in_path, out_path, provider)\n",
    "    generate_mutation_files(in_path, out_path)"
   ],
   "metadata": {
    "collapsed": false,
    "ExecuteTime": {
     "end_time": "2023-09-01T15:44:26.308437Z",
     "start_time": "2023-09-01T15:44:26.216270Z"
    }
   },
   "id": "7a87bdaebec9d3c6"
  },
  {
   "cell_type": "code",
   "execution_count": 69,
   "outputs": [
    {
     "name": "stderr",
     "output_type": "stream",
     "text": [
      "Generating cBioPortal data:   0%|          | 0/34 [00:00<?, ?it/s]"
     ]
    },
    {
     "name": "stdout",
     "output_type": "stream",
     "text": [
      "Working on provider: JAX\n"
     ]
    },
    {
     "name": "stderr",
     "output_type": "stream",
     "text": [
      "Generating cBioPortal data: 100%|██████████| 34/34 [00:02<00:00, 16.03it/s]\n"
     ]
    }
   ],
   "source": [
    "for i in tqdm(range(0, len(providers)), desc =\"Generating cBioPortal data: \"): ## get_dirs will get the provider dirs in updog\n",
    "    provider = providers[i]\n",
    "    if provider == \"JAX\":\n",
    "        print(\"Working on provider: \"+provider)\n",
    "        generate_c_bio_portal_files(join(home, provider), out_path, provider) "
   ],
   "metadata": {
    "collapsed": false,
    "ExecuteTime": {
     "end_time": "2023-09-01T15:44:29.054821Z",
     "start_time": "2023-09-01T15:44:26.913835Z"
    }
   },
   "id": "768d65aeff0443ab"
  },
  {
   "cell_type": "code",
   "execution_count": null,
   "outputs": [],
   "source": [],
   "metadata": {
    "collapsed": false
   },
   "id": "e424bc17934a9fb0"
  }
 ],
 "metadata": {
  "kernelspec": {
   "display_name": "Python 3",
   "language": "python",
   "name": "python3"
  },
  "language_info": {
   "codemirror_mode": {
    "name": "ipython",
    "version": 2
   },
   "file_extension": ".py",
   "mimetype": "text/x-python",
   "name": "python",
   "nbconvert_exporter": "python",
   "pygments_lexer": "ipython2",
   "version": "2.7.6"
  }
 },
 "nbformat": 4,
 "nbformat_minor": 5
}
