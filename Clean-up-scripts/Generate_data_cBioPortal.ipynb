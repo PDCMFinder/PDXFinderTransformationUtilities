{
 "cells": [
  {
   "cell_type": "code",
   "execution_count": 38,
   "id": "initial_id",
   "metadata": {
    "collapsed": true,
    "ExecuteTime": {
     "end_time": "2023-09-06T10:33:39.439582Z",
     "start_time": "2023-09-06T10:33:39.393289Z"
    }
   },
   "outputs": [],
   "source": [
    "from os import listdir, getcwd, rename, makedirs\n",
    "from os.path import isfile, join, isdir, exists\n",
    "\n",
    "import numpy as np\n",
    "import pandas as pd\n",
    "from tqdm import tqdm\n",
    "import subprocess as sp"
   ]
  },
  {
   "cell_type": "markdown",
   "source": [
    "### Common functions"
   ],
   "metadata": {
    "collapsed": false
   },
   "id": "6bb1b31a7945f1df"
  },
  {
   "cell_type": "code",
   "execution_count": 39,
   "outputs": [],
   "source": [
    "def get_dirs(path):\n",
    "    return [f for f in listdir(path) if isdir(join(path, f))]\n",
    "\n",
    "def get_files(path):\n",
    "    return [join(path, f) for f in listdir(path) if isfile(join(path, f)) and f.endswith(\".tsv\")]\n",
    "\n",
    "def read_metadata_without_fields(path):\n",
    "    metadata = pd.read_csv(path, sep='\\t', na_values=\"\", low_memory=False)\n",
    "    if 'Field' in metadata.columns:\n",
    "        metadata = metadata.loc[metadata.Field.str.startswith('#') != True,].reset_index(drop=True)\n",
    "        metadata = metadata.drop('Field', axis=1)\n",
    "    return metadata\n",
    "\n",
    "def read_metadata_with_fields(path):\n",
    "    metadata = pd.read_csv(path, sep='\\t', na_values=\"\", low_memory=False)\n",
    "    return metadata\n",
    "\n",
    "\n",
    "def sort_case_insensitive(sort_list):\n",
    "    return sorted(sort_list, key=str.casefold)\n"
   ],
   "metadata": {
    "collapsed": false,
    "ExecuteTime": {
     "end_time": "2023-09-06T10:33:39.505605Z",
     "start_time": "2023-09-06T10:33:39.405879Z"
    }
   },
   "id": "a0aea3aa86a595bc"
  },
  {
   "cell_type": "markdown",
   "source": [
    "### Common env"
   ],
   "metadata": {
    "collapsed": false
   },
   "id": "2a8acee6cfcb14d2"
  },
  {
   "cell_type": "code",
   "execution_count": 40,
   "outputs": [],
   "source": [
    "start_dir = getcwd()\n",
    "home = \"/Users/tushar/CancerModels/pdxfinder-data/data/UPDOG/\"\n",
    "out_path = \"/Users/tushar/CancerModels/utils/cbioportal/pdcm-cbioportal/study/\"\n",
    "providers = sorted(get_dirs(home))"
   ],
   "metadata": {
    "collapsed": false,
    "ExecuteTime": {
     "end_time": "2023-09-06T10:33:39.532059Z",
     "start_time": "2023-09-06T10:33:39.414555Z"
    }
   },
   "id": "cf49fa885fd3209"
  },
  {
   "cell_type": "markdown",
   "source": [
    "## Generate data for cBioPortal"
   ],
   "metadata": {
    "collapsed": false
   },
   "id": "80a507417a7f573d"
  },
  {
   "cell_type": "markdown",
   "source": [
    "### Clinical files"
   ],
   "metadata": {
    "collapsed": false
   },
   "id": "89db2700e60714bc"
  },
  {
   "cell_type": "code",
   "execution_count": 41,
   "outputs": [],
   "source": [
    "def add_headers_clinical_patient():\n",
    "    # Column headers - The attribute Display Names: The display name for each clinical attribute\n",
    "    column_headers = [\"#Patient Identifier\", \"Sex\", \"Diagnosis Age\", \"Overall Survival (Months)\", \"Overall Survival Status\"]\n",
    "    # Column descriptions - The attribute Descriptions: Long(er) description of each clinical attribute\n",
    "    column_description = [\"#Identifier to uniquely specify a patient.\", \"Sex\", \"Age at which a condition or disease was first diagnosed.\", \"Overall survival in months since initial diagonosis.\", \"Overall patient survival status.\"]\n",
    "    # Column data type - The attribute Datatype: The datatype of each clinical attribute (must be one of: STRING, NUMBER, BOOLEAN)\n",
    "    column_data_type = [\"#STRING\", \"STRING\", \"NUMBER\", \"NUMBER\", \"STRING\"]\n",
    "    # Column priority - A number which indicates the importance of each attribute. A higher number indicates a higher priority.\n",
    "    column_priority = [\"#1\", \"1\", \"1\", \"1\", \"1\"]\n",
    "    # Column headers for validation\n",
    "    column_header_validation = [\"PATIENT_ID\", \"SEX\", \"AGE\", \"OS_MONTHS\", \"OS_STATUS\"]\n",
    "    return [column_headers, column_description, column_data_type, column_priority, column_header_validation]\n",
    "\n",
    "def add_headers_clinical_sample():\n",
    "    # Column headers - The attribute Display Names: The display name for each clinical attribute\n",
    "    column_headers = [\"#Patient Identifier\", \"Sample Identifier\", \"Tumor Type\", \"Cancer Type\", \"Cancer Type Detailed\", \"Primary site\", \"Tumor Grade\", \"Model type\", \"Model ID\"]\n",
    "    # Column descriptions - The attribute Descriptions: Long(er) description of each clinical attribute\n",
    "    column_description = [\"#Identifier to uniquely specify a patient.\", \"A unique sample identifier.\", \"The type of tumour sample (i.e., normal, primary, met, recurrence).\", \"Cancer Type\", \"Cancer Type Detailed\", \"Site of the primary tumor where primary cancer is originating from (may not correspond to the site of the current tissue sample). No abbreviations.\", \"The implanded tumour grade value.\", \"Type of patient derived cancer model\", \"Unique identifier for the PDCMs\"]\n",
    "    # Column data type - The attribute Datatype: The datatype of each clinical attribute (must be one of: STRING, NUMBER, BOOLEAN)\n",
    "    column_data_type = [\"#STRING\", \"STRING\", \"STRING\", \"STRING\", \"STRING\", \"STRING\", \"STRING\", \"STRING\", \"STRING\"]\n",
    "    # Column priority - A number which indicates the importance of each attribute. A higher number indicates a higher priority.\n",
    "    column_priority = [\"#1\", \"1\", \"1\", \"1\", \"1\", \"1\", \"1\", \"1\", \"1\"]\n",
    "    # Column headers for validation\n",
    "    column_header_validation = [\"PATIENT_ID\", \"SAMPLE_ID\", \"TUMOR_TYPE\", \"CANCER_TYPE\", \"CANCER_TYPE_DETAILED\", \"PRIMARY_SITE\", \"TUMOR_GRADE\", \"MODEL_TYPE\", \"MODEL_ID\"]\n",
    "    return [column_headers, column_description, column_data_type, column_priority, column_header_validation]\n",
    "\n",
    "def generate_clinical_df(headers):\n",
    "    # Generate the df\n",
    "    c_bio_data_clinical = pd.DataFrame(columns = headers[0])\n",
    "    c_bio_data_clinical.loc[0, :] = headers[1]\n",
    "    c_bio_data_clinical.loc[1, :] = headers[2]\n",
    "    c_bio_data_clinical.loc[2, :] = headers[3]\n",
    "    c_bio_data_clinical.loc[3, :] = headers[4]\n",
    "    return c_bio_data_clinical\n",
    "\n",
    "def write_clinical_file(out_df, out_path, file_type):\n",
    "    out_file = join(out_path, \"data_clinical_\"+file_type+\".txt\")\n",
    "    out_df.to_csv(out_file, sep=\"\\t\", index=False)\n",
    "\n",
    "def clinical_patient_data_transformation(data_path, provider):\n",
    "    out_df = generate_clinical_df(add_headers_clinical_patient())\n",
    "    data_path = join(data_path, provider+\"_metadata-patient.tsv\")\n",
    "    \n",
    "    mapper = {\"patient_id\": \"#Patient Identifier\", \"sex\": \"Sex\", \"age_at_initial_diagnosis\": \"Diagnosis Age\"}\n",
    "    temp = read_metadata_without_fields(data_path).rename(columns = mapper)\n",
    "    \n",
    "    temp[\"Overall Survival (Months)\"] = \"\"\n",
    "    temp[\"Overall Survival Status\"] = \"\"\n",
    "    \n",
    "    out_df = pd.concat([out_df, temp[out_df.columns]], ignore_index=True)\n",
    "    patient_ids = list(pd.read_csv(join(out_path, \"data_clinical_sample.txt\"), sep=\"\\t\")[\"#Patient Identifier\"])\n",
    "    out_df = out_df[out_df[\"#Patient Identifier\"].isin(patient_ids)]\n",
    "    return out_df.replace(\"(?i)Not collected\", \"\", regex=True).replace(\"(?i)Not provided\", \"\", regex=True)\n",
    "\n",
    "def clinical_patient_sample_data_transformation(data_path, provider):\n",
    "    out_df = generate_clinical_df(add_headers_clinical_sample())\n",
    "    data_path = join(data_path, provider+\"_metadata-patient_sample.tsv\")\n",
    "    \n",
    "    mapper = {\"patient_id\":\"#Patient Identifier\", \"sample_id\":\"Sample Identifier\", \"tumour_type\":\"Tumor Type OG\", \n",
    "              \"primary_site\": \"Primary site OG\", \"grade\":\"Tumor Grade\"}\n",
    "    temp = read_metadata_without_fields(data_path).rename(columns = mapper)\n",
    "    temp = temp.merge(get_meta_from_api(provider), on=\"model_id\", how=\"inner\").reset_index(drop=True)\n",
    "    temp[\"Cancer Type\"] = temp[\"cancer_system\"]\n",
    "    temp[\"Cancer Type Detailed\"] = temp[\"histology\"]\n",
    "    temp[\"Model type\"] = temp[\"type\"]\n",
    "    temp[\"Tumor Type\"] = temp[\"tumor_type\"]\n",
    "    temp[\"Primary site\"] = temp[\"primary_site\"]\n",
    "    temp[\"Model ID\"] = temp[\"model_id\"]\n",
    "    out_df = pd.concat([out_df, temp[out_df.columns]], ignore_index=True)\n",
    "    return out_df.replace(\"(?i)not collected\", \"\", regex=True).replace(\"(?i)not provided\", \"\", regex=True).drop_duplicates(subset=[\"#Patient Identifier\", \"Sample Identifier\"])\n",
    "\n",
    "def get_meta_from_api(provider_name):\n",
    "    df = pd.read_json(\"https://www.cancermodels.org/api/model_metadata?data_source=eq.\"+provider_name)\n",
    "    return df[[\"model_id\", \"cancer_system\", \"histology\", \"type\", \"tumor_type\", \"primary_site\"]]\n",
    "\n",
    "def generate_clinical_patient(in_path, out_path, provider):\n",
    "    write_clinical_file(clinical_patient_data_transformation(in_path, provider), out_path, \"patient\")\n",
    "    \n",
    "def generate_clinical_sample(in_path, out_path, provider):\n",
    "    write_clinical_file(clinical_patient_sample_data_transformation(in_path, provider), out_path, \"sample\")"
   ],
   "metadata": {
    "collapsed": false,
    "ExecuteTime": {
     "end_time": "2023-09-06T10:33:39.537230Z",
     "start_time": "2023-09-06T10:33:39.443466Z"
    }
   },
   "id": "e104df4ab4a8f04a"
  },
  {
   "cell_type": "markdown",
   "source": [
    "### Molecular data"
   ],
   "metadata": {
    "collapsed": false
   },
   "id": "c6a05e1da3fa0f6b"
  },
  {
   "cell_type": "code",
   "execution_count": 42,
   "outputs": [],
   "source": [
    "def get_platform(path, type):\n",
    "    df = read_metadata_without_fields(path).fillna(\"\")\n",
    "    df = df[df[\"molecular_characterisation_type\"]==type]\n",
    "    df[\"platform_name\"] = df[\"library_strategy\"]+ \" -  \" +df[\"instrument_model\"]\n",
    "    if path.__contains__(\"JAX\"):\n",
    "        if type==\"mutation\":\n",
    "            return \"WES\"\n",
    "        if type==\"expression\":\n",
    "            return \"RNA-Seq\"\n",
    "        if type==\"copy number alteration\":\n",
    "            return \"SNP\"\n",
    "    return \", \".join(df[\"platform_name\"])\n",
    "\n",
    "def read_mol_data(path):\n",
    "    files = get_files(path)\n",
    "    if len(files) == 0:\n",
    "        dirs = get_dirs(path)\n",
    "        for dir in dirs:\n",
    "            files.append(get_files(join(path,dir)))\n",
    "        files = [item for sublist in files for item in sublist]\n",
    "    df = pd.DataFrame()\n",
    "    for file in files:\n",
    "        temp = pd.read_csv(file, sep=\"\\t\").fillna(\"\")\n",
    "        df = pd.concat([df, temp], ignore_index=True)\n",
    "    return df\n",
    "\n",
    "def compute_end_pos(df):\n",
    "    df[\"End_Position\"] = pd.to_numeric(df[\"Start_Position\"]) + np.where(df.Reference_Allele.str.len()>=df.Tumor_Seq_Allele2.str.len(), df.Reference_Allele.str.len(), df.Tumor_Seq_Allele2.str.len())\n",
    "    return df\n",
    "\n",
    "def handle_frameshift(row):\n",
    "    if not row[\"Consequence\"].__contains__(\"frameshift\"):\n",
    "        return row\n",
    "    variant = row[\"variant_class\"]\n",
    "    if variant.__contains__(\"frameshift\"):\n",
    "        if row[\"coding_sequence_change\"].__contains__(\"ins\"):\n",
    "            variant = \"insertion\"\n",
    "        elif row[\"coding_sequence_change\"].__contains__(\"del\"):\n",
    "            variant = \"deletion\"\n",
    "    row[\"Consequence\"] = \"frameshift_variation_\" + variant\n",
    "    return row\n",
    "\n",
    "def generate_variation_classification(df):\n",
    "    mapper = {\"frameshift_variant_deletion\":\"Frame_Shift_Del\", \n",
    "              \"frameshift_variant_insertion\":\"Frame_Shift_Ins\", \n",
    "              \"inframe_deletion\":\"In_Frame_Del\", \n",
    "              \"inframe_insertion\": \"In_Frame_Ins\", \n",
    "              \"missense_variant\": \"Missense_Mutation\", \n",
    "              \"stop_gained\": \"Nonsense_Mutation\", \n",
    "              \"5_prime_UTR_variant\": \"5'UTR\", \n",
    "              \"upstream_gene_variant\": \"5'Flank\", \n",
    "              \"downstream_gene_variant\": \"3'Flank\", \n",
    "              \"3_prime_UTR_variant\": \"3'UTR\", \n",
    "              \"non_coding_transcript_variant\": \"RNA\", \n",
    "              \"intron_variant\": \"Intron\", \n",
    "              \"splice_region_variant\": \"Splice_Region\", \n",
    "              \"synonymous_variant\": \"Silent\", \n",
    "              \"stop_lost\": \"Nonstop_Mutation\",\n",
    "              \"start_retained_variant\": \"Translation_Start_Site\",\n",
    "              \"intergenic_variant\": \"IGR\"}\n",
    "    # Targeted_Region, De_novo_Start_InFrame, De_novo_Start_OutOfFrame, Splice_Site (dup) }\n",
    "    #df[\"temp_cons\"] = np.where(df[\"Consequence\"].str.contains(\"frameshift\"), df[\"Consequence\"], df[\"Consequence\"])\n",
    "    df = df.apply(lambda x: handle_frameshift(x), axis=1)\n",
    "    df[\"Variant_Classification\"] = df[\"Consequence\"].apply(lambda x: mapper.get(x, \"Unknown\"))\n",
    "        #np.where(df[\"Consequence\"].to_list() in mapper.keys(), df[\"Consequence\"], \"Unknown\"))\n",
    "    df[\"Variant_Classification\"] = df[\"Variant_Classification\"].replace(mapper)\n",
    "    return df\n",
    "\n",
    "def generate_meta_mutation(study, out_path, platform):\n",
    "    meta_df = pd.DataFrame(columns=[0,1])\n",
    "    meta_df.loc[0,:] = [\"cancer_study_identifier:\", study]\n",
    "    meta_df.loc[1,:] = [\"genetic_alteration_type:\", \"MUTATION_EXTENDED\"]\n",
    "    meta_df.loc[2,:] = [\"datatype:\", \"MAF\"]\n",
    "    meta_df.loc[3,:] = [\"stable_id:\", \"mutations\"]\n",
    "    meta_df.loc[4,:] = [\"show_profile_in_analysis_tab:\", \"true\"]\n",
    "    meta_df.loc[5,:] = [\"profile_description:\", \"Mutation data from \"+platform]\n",
    "    meta_df.loc[6,:] = [\"profile_name:\", \"Mutations\"]\n",
    "    meta_df.loc[7,:] = [\"data_filename:\", \"data_mutation_extended.txt\"]\n",
    "    meta_df.to_csv(join(out_path, \"meta_mutation_extended.txt\"), sep=\"\\t\", index=False,header=False)\n",
    "\n",
    "def generate_mutation_data(path, out_path):\n",
    "    mapper={\"sample_id\": \"Tumor_Sample_Barcode\", \"seq_start_position\": \"Start_Position\", \"chromosome\":\"Chromosome\",\n",
    "            \"ref_allele\":\"Reference_Allele\", \"alt_allele\": \"Tumor_Seq_Allele2\", \"symbol\":\"Hugo_Symbol\",\n",
    "            \"consequence\":\"Consequence\", \"amino_acid_change\":\"HGVSp_Short\", \n",
    "            \"ensembl_gene_id\": \"Gene\",\"ensembl_transcript_id\":\"Transcript_ID\", \"codon_change\": \"Codons\"}\n",
    "    mut_df = read_mol_data(path).rename(columns = mapper)\n",
    "    out_column = [\"Tumor_Sample_Barcode\",\"Hugo_Symbol\", \"HGVSp_Short\", \"Consequence\", \"Variant_Classification\", \"Chromosome\", \"Start_Position\", \"End_Position\", \"Reference_Allele\", \"Tumor_Seq_Allele2\", \"Gene\", \"Transcript_ID\",\"NCBI_Build\", \"Codons\", \"Variant_Type\"]\n",
    "    mut_df = compute_end_pos(mut_df)\n",
    "    mut_df[\"NCBI_Build\"] = \"GRCh38\"\n",
    "    mut_df[\"HGVSp_Short\"] = mut_df[\"HGVSp_Short\"].str.replace('.0', '')\n",
    "    mut_df = generate_variation_classification(mut_df)\n",
    "    sample_ids = list(pd.read_csv(join(out_path, \"data_clinical_sample.txt\"), sep=\"\\t\")[\"Sample Identifier\"])\n",
    "    mut_df = mut_df[mut_df[\"Tumor_Sample_Barcode\"].isin(sample_ids)]\n",
    "    mut_df[\"Variant_Type\"] = mut_df[\"variant_class\"].replace(\"SNV\", \"SNP\").replace(\"insertion\", \"INS\").replace(\"deletion\", \"DEL\")\n",
    "    mut_df[out_column].to_csv(join(out_path, \"data_mutation_extended.txt\"), index=False, sep=\"\\t\")\n",
    "    #sp.call(\"docker run -v \"+out_path+\":/wd genomenexus/gn-annotation-pipeline:master --filename /wd/data_mutation_extended_raw.txt  --output-filename /wd/data_mutation_extended.txt\")\n",
    "\n",
    "def generate_meta_cna(study, out_path, platform):\n",
    "    meta_df = pd.DataFrame(columns=[0,1])\n",
    "    meta_df.loc[0,:] = [\"cancer_study_identifier:\", study]\n",
    "    meta_df.loc[1,:] = [\"genetic_alteration_type:\", \"COPY_NUMBER_ALTERATION\"]\n",
    "    meta_df.loc[2,:] = [\"datatype:\", \"LOG2-VALUE\"]\n",
    "    meta_df.loc[3,:] = [\"stable_id:\", \"log2CNA\"]        \n",
    "    meta_df.loc[4,:] = [\"show_profile_in_analysis_tab:\", \"false\"]\n",
    "    meta_df.loc[5,:] = [\"profile_description:\", \"Log2 copy-number data from \"+platform]\n",
    "    meta_df.loc[6,:] = [\"profile_name:\", \"Log2 copy-number values\"]\n",
    "    meta_df.loc[7,:] = [\"data_filename:\", \"data_log2_cna.txt\"]\n",
    "    meta_df.to_csv(join(out_path, \"meta_log2_cna.txt\"), sep=\"\\t\", index=False,header=False)\n",
    "\n",
    "def generate_cna_data(path, out_path):\n",
    "    df = read_mol_data(path)[[\"sample_id\", \"symbol\", \"log2r_cna\"]]\n",
    "    sample_ids = list(pd.read_csv(join(out_path, \"data_clinical_sample.txt\"), sep=\"\\t\")[\"Sample Identifier\"])\n",
    "    df = df[df[\"sample_id\"].isin(sample_ids)]\n",
    "    df['Hugo_Symbol'] = df['symbol']\n",
    "    df = df.pivot_table(index='Hugo_Symbol', columns='sample_id', values=\"log2r_cna\", aggfunc='first')\n",
    "    df.to_csv(join(out_path, \"data_log2_cna.txt\"), sep=\"\\t\")\n",
    "\n",
    "def generate_meta_expression(study, out_path, platform, datatype):\n",
    "    meta_df = pd.DataFrame(columns=[0,1])\n",
    "    meta_df.loc[0,:] = [\"cancer_study_identifier:\", study]\n",
    "    meta_df.loc[1,:] = [\"genetic_alteration_type:\", \"MRNA_EXPRESSION\"]\n",
    "    if datatype==\"mrna\":\n",
    "        meta_df.loc[2,:] = [\"datatype:\", \"CONTINUOUS\"]\n",
    "        meta_df.loc[3,:] = [\"stable_id:\", \"rna_seq_mrna\"]\n",
    "    elif datatype==\"Zscore\":\n",
    "        meta_df.loc[2,:] = [\"datatype:\", \"Z-SCORE\"]\n",
    "        meta_df.loc[3,:] = [\"stable_id:\", \"mrna_median_Zscores\"]        \n",
    "    meta_df.loc[4,:] = [\"show_profile_in_analysis_tab:\", \"true\"]\n",
    "    meta_df.loc[5,:] = [\"profile_description:\", \"Expression data from \"+platform]\n",
    "    meta_df.loc[6,:] = [\"profile_name:\", \"Expression\"]\n",
    "    meta_df.loc[7,:] = [\"data_filename:\", \"data_expression.txt\"]\n",
    "    meta_df.to_csv(join(out_path, \"meta_expression.txt\"), sep=\"\\t\", index=False,header=False)\n",
    "\n",
    "def generate_expression_data(path, out_path, platform, study):\n",
    "    df = read_mol_data(path)[[\"sample_id\", \"symbol\", \"rnaseq_fpkm\", \"z_score\"]]\n",
    "    sample_ids = list(pd.read_csv(join(out_path, \"data_clinical_sample.txt\"), sep=\"\\t\")[\"Sample Identifier\"])\n",
    "    df = df[df[\"sample_id\"].isin(sample_ids)]\n",
    "    df[\"Hugo_Symbol\"] = df[\"symbol\"]\n",
    "    no_fpkm = df['rnaseq_fpkm'].isna().all()\n",
    "    datatype=\"mrna\"\n",
    "    value_column = \"rnaseq_fpkm\"\n",
    "    if no_fpkm:\n",
    "        print(\"Using Z score: \"+path)\n",
    "        datatype = \"Zscore\"\n",
    "        value_column = \"z_score\"\n",
    "    df = df[[\"sample_id\", \"Hugo_Symbol\", value_column]]\n",
    "    df = df.pivot_table(index='Hugo_Symbol', columns='sample_id', values=value_column, aggfunc='first')\n",
    "    generate_meta_expression(study, out_path, platform, datatype)\n",
    "    df.to_csv(join(out_path, \"data_expression.txt\"), sep=\"\\t\")\n",
    "    \n",
    "def generate_cna_files(in_path, study, provider, out_path):\n",
    "    platform = get_platform(join(in_path, provider+\"_molecular_metadata-platform.tsv\"), \"mutation\")\n",
    "    generate_meta_cna(study, out_path, platform)\n",
    "    generate_cna_data(join(in_path, \"cna\"), out_path)\n",
    "def generate_mutation_files(in_path, study, provider, out_path):\n",
    "    platform = get_platform(join(in_path, provider+\"_molecular_metadata-platform.tsv\"), \"mutation\")\n",
    "    generate_meta_mutation(study, out_path, platform)\n",
    "    generate_mutation_data(join(in_path, \"mut\"), out_path)\n",
    "def generate_expression_files(in_path, study, provider, out_path):\n",
    "    platform = get_platform(join(in_path, provider+\"_molecular_metadata-platform.tsv\"), \"expression\")\n",
    "    generate_expression_data(join(in_path, \"expression\"), out_path, platform, study)"
   ],
   "metadata": {
    "collapsed": false,
    "ExecuteTime": {
     "end_time": "2023-09-06T10:33:39.539100Z",
     "start_time": "2023-09-06T10:33:39.487022Z"
    }
   },
   "id": "7a87bdaebec9d3c6"
  },
  {
   "cell_type": "markdown",
   "source": [
    "### Timeline data"
   ],
   "metadata": {
    "collapsed": false
   },
   "id": "55c12c360965f278"
  },
  {
   "cell_type": "code",
   "execution_count": null,
   "outputs": [],
   "source": [
    "def generate_timeline_data(in_path, out_path, study):\n",
    "    return None"
   ],
   "metadata": {
    "collapsed": false
   },
   "id": "60be0ec6fb7762c"
  },
  {
   "cell_type": "markdown",
   "source": [
    "### Meta files"
   ],
   "metadata": {
    "collapsed": false
   },
   "id": "c02b5bf8a670cf8b"
  },
  {
   "cell_type": "code",
   "execution_count": 43,
   "outputs": [],
   "source": [
    "def get_provider_description(provider_name):\n",
    "    if provider_name==\"DFCI-CPDM\":\n",
    "        return \"The Center for Patient Derived Models (CPDM) at Dana-Farber  Cancer Institute (DFCI) is a strategic collaborative research center with the expertise  to generate and characterize patient derived xenografts (PDX), patient derived cell  lines (PDCL - 3D organoid/spheroid and 2D adherent cultures), and acute cell models  drug testing. Through collaboration with major disease groups in the Dana-Farber Cancer Institute, Brigham and Women's Hospital, and Boston Children Hospital Cancer Centers, we have made a large collection of patient derived models of brain tumors, hematologic tumors, and many other solid tumors available to academic and industrial researchers worldwide.\"\n",
    "    df = pd.read_json(\"https://www.cancermodels.org/api/provider_group?abbreviation=eq.\"+provider_name)    \n",
    "    description = str(df[\"description\"][0]).replace(\"\\n\\n\", \" \").replace(\"\\n\", \" \")\n",
    "    if len(description)>=1024:\n",
    "        description = description[0:1020]\n",
    "    return description\n",
    "\n",
    "def generate_meta_study_file(study, provider, out_path):\n",
    "    meta_study_df = pd.DataFrame(columns=[0,1])\n",
    "    meta_study_df.loc[0,:] = [\"type_of_cancer:\", \"mixed\"]\n",
    "    meta_study_df.loc[1,:] = [\"cancer_study_identifier:\",  study]\n",
    "    meta_study_df.loc[2,:] = [\"name:\", provider + \" - Patient derived cancer models\"]\n",
    "    meta_study_df.loc[3,:] = [\"description:\", get_provider_description(provider)]\n",
    "    meta_study_df.loc[4,:] = [\"groups:\", \"PUBLIC\"]\n",
    "    #meta_study_df.loc[5,:] = [\"short_name:\", \"PDCMs (\"+provider+\")\"]\n",
    "    meta_study_df.loc[5,:] = [\"reference_genome:\", \"hg38\"]\n",
    "    meta_study_df.loc[6,:] = [\"add_global_case_list:\", \"true\"]\n",
    "    meta_study_df.to_csv(join(out_path, \"meta_study.txt\"), sep=\"\\t\", index=False,header=False)\n",
    "    \n",
    "def generate_meta_clinical_files(study, out_path, type):\n",
    "    meta_df = pd.DataFrame(columns=[0,1])\n",
    "    meta_df.loc[0,:] = [\"cancer_study_identifier:\", study]\n",
    "    meta_df.loc[1,:] = [\"genetic_alteration_type:\", \"CLINICAL\"]\n",
    "    meta_df.loc[2,:] = [\"datatype:\", type.upper()+\"_ATTRIBUTES\"]\n",
    "    meta_df.loc[3,:] = [\"data_filename:\", \"data_clinical_\"+type+\".txt\"]\n",
    "    meta_df.to_csv(join(out_path, \"meta_clinical_\"+type+\".txt\"), sep=\"\\t\", index=False,header=False)\n",
    "\n",
    "def generate_meta_files(out_path, provider, study):\n",
    "    generate_meta_study_file(study, provider, out_path)\n",
    "    generate_meta_clinical_files(study, out_path, \"sample\")\n",
    "    generate_meta_clinical_files(study, out_path, \"patient\")"
   ],
   "metadata": {
    "collapsed": false,
    "ExecuteTime": {
     "end_time": "2023-09-06T10:33:39.540038Z",
     "start_time": "2023-09-06T10:33:39.513279Z"
    }
   },
   "id": "2c2c9c8c2d5770a5"
  },
  {
   "cell_type": "markdown",
   "source": [
    "### main()"
   ],
   "metadata": {
    "collapsed": false
   },
   "id": "a2d4c9796a59c948"
  },
  {
   "cell_type": "code",
   "execution_count": 44,
   "outputs": [],
   "source": [
    "def generate_c_bio_portal_files(in_path, out_path, provider):\n",
    "    study = \"cm_\"+provider.lower()+\"_2023\"\n",
    "    out_path = join(out_path, study)\n",
    "    if not exists(out_path):\n",
    "        makedirs(out_path)\n",
    "    generate_meta_files(out_path, provider, study)\n",
    "    generate_clinical_patient(in_path, out_path, provider)\n",
    "    generate_clinical_sample(in_path, out_path, provider)\n",
    "    if exists(join(in_path, \"mut\")):\n",
    "        generate_mutation_files(in_path, study, provider, out_path)\n",
    "    if exists(join(in_path, \"expression\")):\n",
    "        generate_expression_files(in_path, study, provider, out_path)\n",
    "    if exists(join(in_path, \"cna\")):\n",
    "        generate_cna_files(in_path, study, provider, out_path)"
   ],
   "metadata": {
    "collapsed": false,
    "ExecuteTime": {
     "end_time": "2023-09-06T10:33:39.569053Z",
     "start_time": "2023-09-06T10:33:39.525169Z"
    }
   },
   "id": "c2f1db2a24993f40"
  },
  {
   "cell_type": "markdown",
   "source": [
    "### Per provider"
   ],
   "metadata": {
    "collapsed": false
   },
   "id": "5760ecc26dc9f49f"
  },
  {
   "cell_type": "code",
   "execution_count": 45,
   "outputs": [
    {
     "name": "stderr",
     "output_type": "stream",
     "text": [
      "Generating cBioPortal data:   9%|▉         | 3/34 [02:14<23:46, 46.01s/it]/var/folders/_2/g5d3zf4s41g0tvlqkc3_8wjr0000gp/T/ipykernel_44371/1519587897.py:23: DtypeWarning: Columns (11) have mixed types. Specify dtype option on import or set low_memory=False.\n",
      "  temp = pd.read_csv(file, sep=\"\\t\").fillna(\"\")\n",
      "Generating cBioPortal data:  38%|███▊      | 13/34 [1:40:41<1:32:34, 264.50s/it] "
     ]
    },
    {
     "name": "stdout",
     "output_type": "stream",
     "text": [
      "Using Z score: /Users/tushar/CancerModels/pdxfinder-data/data/UPDOG/IRCC-CRC/expression\n"
     ]
    },
    {
     "name": "stderr",
     "output_type": "stream",
     "text": [
      "Generating cBioPortal data:  41%|████      | 14/34 [1:40:43<1:07:01, 201.07s/it]"
     ]
    },
    {
     "name": "stdout",
     "output_type": "stream",
     "text": [
      "Using Z score: /Users/tushar/CancerModels/pdxfinder-data/data/UPDOG/JAX/expression\n"
     ]
    },
    {
     "name": "stderr",
     "output_type": "stream",
     "text": [
      "Generating cBioPortal data:  44%|████▍     | 15/34 [1:41:30<51:03, 161.24s/it]  "
     ]
    },
    {
     "name": "stdout",
     "output_type": "stream",
     "text": [
      "Using Z score: /Users/tushar/CancerModels/pdxfinder-data/data/UPDOG/LIH/expression\n"
     ]
    },
    {
     "name": "stderr",
     "output_type": "stream",
     "text": [
      "Generating cBioPortal data:  56%|█████▌    | 19/34 [1:42:12<12:26, 49.78s/it] /var/folders/_2/g5d3zf4s41g0tvlqkc3_8wjr0000gp/T/ipykernel_44371/1519587897.py:23: DtypeWarning: Columns (11) have mixed types. Specify dtype option on import or set low_memory=False.\n",
      "  temp = pd.read_csv(file, sep=\"\\t\").fillna(\"\")\n",
      "/var/folders/_2/g5d3zf4s41g0tvlqkc3_8wjr0000gp/T/ipykernel_44371/1519587897.py:23: DtypeWarning: Columns (11) have mixed types. Specify dtype option on import or set low_memory=False.\n",
      "  temp = pd.read_csv(file, sep=\"\\t\").fillna(\"\")\n",
      "Generating cBioPortal data:  62%|██████▏   | 21/34 [1:42:54<07:22, 34.03s/it]/var/folders/_2/g5d3zf4s41g0tvlqkc3_8wjr0000gp/T/ipykernel_44371/1519587897.py:23: DtypeWarning: Columns (18) have mixed types. Specify dtype option on import or set low_memory=False.\n",
      "  temp = pd.read_csv(file, sep=\"\\t\").fillna(\"\")\n",
      "Generating cBioPortal data:  79%|███████▉  | 27/34 [1:45:08<01:20, 11.46s/it]/var/folders/_2/g5d3zf4s41g0tvlqkc3_8wjr0000gp/T/ipykernel_44371/1519587897.py:23: DtypeWarning: Columns (1) have mixed types. Specify dtype option on import or set low_memory=False.\n",
      "  temp = pd.read_csv(file, sep=\"\\t\").fillna(\"\")\n",
      "Generating cBioPortal data:  85%|████████▌ | 29/34 [1:45:20<00:42,  8.58s/it]"
     ]
    },
    {
     "name": "stdout",
     "output_type": "stream",
     "text": [
      "Using Z score: /Users/tushar/CancerModels/pdxfinder-data/data/UPDOG/UOM-BC/expression\n"
     ]
    },
    {
     "name": "stderr",
     "output_type": "stream",
     "text": [
      "Generating cBioPortal data: 100%|██████████| 34/34 [1:45:27<00:00, 186.12s/it]\n"
     ]
    }
   ],
   "source": [
    "for i in tqdm(range(0, len(providers)), desc =\"Generating cBioPortal data: \"): ## get_dirs will get the provider dirs in updog\n",
    "    provider = providers[i]\n",
    "    if provider!=\"CRL\" and not provider.__contains__(\"Curie\"):\n",
    "        generate_c_bio_portal_files(join(home, provider), out_path, provider) "
   ],
   "metadata": {
    "collapsed": false,
    "ExecuteTime": {
     "end_time": "2023-09-06T12:19:07.476333Z",
     "start_time": "2023-09-06T10:33:39.537426Z"
    }
   },
   "id": "768d65aeff0443ab"
  },
  {
   "cell_type": "code",
   "execution_count": 46,
   "outputs": [
    {
     "data": {
      "text/plain": "'\\nfor i in range(0, len(providers)): ## get_dirs will get the provider dirs in updog\\n    provider = providers[i]\\n    print(provider)\\n    path = join(home, provider, provider+\"_molecular_metadata-platform.tsv\")\\n    if exists(path):\\n        type = \"expression\"\\n        print(\"Expression:\")\\n        print(get_platform(path, type))\\n        type = \"mutation\"\\n        print(\"Mutation:\")\\n        print(get_platform(path, type))\\n        type = \"copy number alteration\"\\n        print(\"copy number alteration:\")\\n        print(get_platform(path, type))\\n'"
     },
     "execution_count": 46,
     "metadata": {},
     "output_type": "execute_result"
    }
   ],
   "source": [
    "'''\n",
    "for i in range(0, len(providers)): ## get_dirs will get the provider dirs in updog\n",
    "    provider = providers[i]\n",
    "    print(provider)\n",
    "    path = join(home, provider, provider+\"_molecular_metadata-platform.tsv\")\n",
    "    if exists(path):\n",
    "        type = \"expression\"\n",
    "        print(\"Expression:\")\n",
    "        print(get_platform(path, type))\n",
    "        type = \"mutation\"\n",
    "        print(\"Mutation:\")\n",
    "        print(get_platform(path, type))\n",
    "        type = \"copy number alteration\"\n",
    "        print(\"copy number alteration:\")\n",
    "        print(get_platform(path, type))\n",
    "'''"
   ],
   "metadata": {
    "collapsed": false,
    "ExecuteTime": {
     "end_time": "2023-09-06T12:19:07.513323Z",
     "start_time": "2023-09-06T12:19:07.489954Z"
    }
   },
   "id": "d3cbc05658731ba8"
  },
  {
   "cell_type": "code",
   "execution_count": 47,
   "outputs": [
    {
     "data": {
      "text/plain": "'Wistar-MDAnderson-Penn'"
     },
     "execution_count": 47,
     "metadata": {},
     "output_type": "execute_result"
    }
   ],
   "source": [
    "provider"
   ],
   "metadata": {
    "collapsed": false,
    "ExecuteTime": {
     "end_time": "2023-09-06T12:19:07.572128Z",
     "start_time": "2023-09-06T12:19:07.492113Z"
    }
   },
   "id": "60808f4ba23884ca"
  },
  {
   "cell_type": "code",
   "execution_count": 47,
   "outputs": [],
   "source": [],
   "metadata": {
    "collapsed": false,
    "ExecuteTime": {
     "end_time": "2023-09-06T12:19:07.572441Z",
     "start_time": "2023-09-06T12:19:07.501715Z"
    }
   },
   "id": "1553867bc048c749"
  }
 ],
 "metadata": {
  "kernelspec": {
   "display_name": "Python 3",
   "language": "python",
   "name": "python3"
  },
  "language_info": {
   "codemirror_mode": {
    "name": "ipython",
    "version": 2
   },
   "file_extension": ".py",
   "mimetype": "text/x-python",
   "name": "python",
   "nbconvert_exporter": "python",
   "pygments_lexer": "ipython2",
   "version": "2.7.6"
  }
 },
 "nbformat": 4,
 "nbformat_minor": 5
}
