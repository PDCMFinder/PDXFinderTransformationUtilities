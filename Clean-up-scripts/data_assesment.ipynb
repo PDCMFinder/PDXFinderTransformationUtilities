{
 "cells": [
  {
   "cell_type": "code",
   "execution_count": 74,
   "id": "initial_id",
   "metadata": {
    "collapsed": true,
    "ExecuteTime": {
     "end_time": "2023-09-19T10:49:38.073525Z",
     "start_time": "2023-09-19T10:49:37.999859Z"
    }
   },
   "outputs": [],
   "source": [
    "from os import listdir, getcwd, rename, makedirs, remove\n",
    "from os.path import isfile, join, isdir, exists\n",
    "import re\n",
    "import numpy as np\n",
    "import pandas as pd\n",
    "from tqdm import tqdm\n",
    "import json\n",
    "import requests"
   ]
  },
  {
   "cell_type": "markdown",
   "source": [
    "### Common functions"
   ],
   "metadata": {
    "collapsed": false
   },
   "id": "9668d48308f0dffb"
  },
  {
   "cell_type": "code",
   "execution_count": 75,
   "outputs": [],
   "source": [
    "def get_dirs(path):\n",
    "    return [f for f in listdir(path) if isdir(join(path, f))]\n",
    "\n",
    "def get_files(path):\n",
    "    return [join(path, f) for f in listdir(path) if isfile(join(path, f)) and f.endswith(\".tsv\")]\n",
    "\n",
    "def read_metadata_without_fields(path):\n",
    "    metadata = pd.read_csv(path, sep='\\t', na_values=\"\", low_memory=False)\n",
    "    if 'Field' in metadata.columns:\n",
    "        metadata = metadata.loc[metadata.Field.str.startswith('#') != True,].reset_index(drop=True)\n",
    "        metadata = metadata.drop('Field', axis=1)\n",
    "    return metadata\n",
    "\n",
    "def read_metadata_with_fields(path):\n",
    "    metadata = pd.read_csv(path, sep='\\t', na_values=\"\", low_memory=False)\n",
    "    return metadata\n",
    "\n",
    "def sort_case_insensitive(sort_list):\n",
    "    return sorted(sort_list, key=str.casefold)\n"
   ],
   "metadata": {
    "collapsed": false,
    "ExecuteTime": {
     "end_time": "2023-09-19T10:49:38.102839Z",
     "start_time": "2023-09-19T10:49:38.015797Z"
    }
   },
   "id": "d3f9f575ce4743db"
  },
  {
   "cell_type": "code",
   "execution_count": 76,
   "outputs": [],
   "source": [
    "start_dir = getcwd()\n",
    "home = \"/Users/tushar/CancerModels/pdxfinder-data/data/UPDOG/\"\n",
    "providers = sorted(get_dirs(home))\n",
    "API_scores = \"https://www.cancermodels.org/api/search_index?data_source=eq.\"\n",
    "API_select = \"&select=pdcm_model_id,external_model_id,patient_sample_id,data_source,scores,model_type,dataset_available\""
   ],
   "metadata": {
    "collapsed": false,
    "ExecuteTime": {
     "end_time": "2023-09-19T10:49:38.105634Z",
     "start_time": "2023-09-19T10:49:38.026553Z"
    }
   },
   "id": "eaab767a2d4c62d9"
  },
  {
   "cell_type": "code",
   "execution_count": 77,
   "outputs": [],
   "source": [
    "def fetch(url):\n",
    "    response = requests.get(url)\n",
    "    # Check if the API request was successful (status code 200)\n",
    "    if response.status_code != 200:\n",
    "        return None\n",
    "    # Flatten the JSON data\n",
    "    data = json.loads(response.text)\n",
    "    flattened_data = pd.json_normalize(data)\n",
    "    # Create a DataFrame from the flattened JSON data\n",
    "    df = pd.DataFrame(flattened_data)\n",
    "    return df\n",
    "\n",
    "def group_df(df):\n",
    "    # Group by \"model_type\" and calculate counts, min, and max scores\n",
    "    grouped = df.groupby(\"model_type\").agg(\n",
    "        data_source=pd.NamedAgg(column=\"data_source\", aggfunc=lambda x: x.value_counts().idxmax()),\n",
    "        model_count=pd.NamedAgg(column=\"model_type\", aggfunc=\"count\"),\n",
    "        min_data_score=pd.NamedAgg(column=\"scores.data_score\", aggfunc=\"min\"),\n",
    "        max_data_score=pd.NamedAgg(column=\"scores.data_score\", aggfunc=\"max\"),\n",
    "        min_pdx_metadata_score=pd.NamedAgg(column=\"scores.pdx_metadata_score\", aggfunc=\"min\"),\n",
    "        max_pdx_metadata_score=pd.NamedAgg(column=\"scores.pdx_metadata_score\", aggfunc=\"max\"),\n",
    "        dataset_available=pd.NamedAgg(column=\"dataset_available\", aggfunc=lambda x: x.value_counts().idxmax())\n",
    "    )\n",
    "    # Reset the index for a cleaner DataFrame\n",
    "    grouped = grouped.reset_index()\n",
    "    return grouped.sort_values(by=[\"max_data_score\", \"max_pdx_metadata_score\"], ascending=[False, False])"
   ],
   "metadata": {
    "collapsed": false,
    "ExecuteTime": {
     "end_time": "2023-09-19T10:49:38.106460Z",
     "start_time": "2023-09-19T10:49:38.039479Z"
    }
   },
   "id": "8503a706d97f15fc"
  },
  {
   "cell_type": "code",
   "execution_count": 78,
   "outputs": [],
   "source": [
    "def assess(api_url):\n",
    "    assessment = fetch(api_url).fillna(\"\")\n",
    "    if assessment is None:\n",
    "        return None\n",
    "    return group_df(assessment)\n",
    "\n",
    "def get_dataset_assessment(providers, scores, select):\n",
    "    da = pd.DataFrame()\n",
    "    for i in tqdm(range(0, len(providers)), desc =\"Generating data assessment report: \"): ## get_dirs will get the provider dirs in updog\n",
    "        provider = providers[i]\n",
    "        url = scores+provider+select\n",
    "        da = pd.concat([da, assess(url)], ignore_index=True)\n",
    "    return da"
   ],
   "metadata": {
    "collapsed": false,
    "ExecuteTime": {
     "end_time": "2023-09-19T10:49:38.107081Z",
     "start_time": "2023-09-19T10:49:38.053427Z"
    }
   },
   "id": "2c2640bec8767e90"
  },
  {
   "cell_type": "code",
   "execution_count": 79,
   "outputs": [
    {
     "name": "stderr",
     "output_type": "stream",
     "text": [
      "Generating data assessment report: 100%|██████████| 34/34 [00:06<00:00,  5.33it/s]\n"
     ]
    },
    {
     "data": {
      "text/plain": "   model_type             data_source  model_count  min_data_score  \\\n0    organoid                    BROD           23               0   \n1       other                    BROD           65               0   \n2         PDX                    CCIA           90              28   \n3         PDX                    CHOP           34              57   \n4   cell line                     CMP         1500               0   \n5    organoid                     CMP           41               0   \n6         PDX                     CRL          540               0   \n7    organoid                    CSHL           53               0   \n8         PDX                Curie-BC           34              28   \n9    organoid                Curie-BC           15               0   \n10        PDX                Curie-LC            6              28   \n11        PDX                Curie-OC            5              14   \n12        PDX               DFCI-CPDM          721               0   \n13        PDX                   GCCRI           79              28   \n14        PDX                 HCI-BCM           67               0   \n15        PDX                IRCC-CRC          639               0   \n16        PDX                 IRCC-GC           76               0   \n17        PDX                     JAX          426               0   \n18        PDX                     LIH           45              14   \n19        PDX          LurieChildrens           43              14   \n20        PDX              MDAnderson          316               0   \n21        PDX          MDAnderson-CCH            8              42   \n22        PDX                     NKI            7              57   \n23        PDX                    PDMR          666               0   \n24   organoid                    PDMR          225              14   \n25      other                    PDMR          216               0   \n26        PDX                    PMLB          415               0   \n27   organoid                    SANG           23               0   \n28        PDX                   SJCRH          157              14   \n29        PDX                   TRACE           31              14   \n30        PDX                     UCD           27               0   \n31        PDX                    UMCG            8              14   \n32        PDX                  UOC-BC           59               0   \n33        PDX                  UOM-BC           12              42   \n34        PDX                 VHIO-BC            7              14   \n35        PDX                VHIO-CRC           38               0   \n36        PDX                 VHIO-PC           43               0   \n37        PDX                   WUSTL          119               0   \n38        PDX  Wistar-MDAnderson-Penn          256               0   \n\n    max_data_score  min_pdx_metadata_score  max_pdx_metadata_score  \\\n0               14                       0                       0   \n1               14                       0                       0   \n2               57                      60                      71   \n3               57                      66                      86   \n4               42                       0                       0   \n5               42                       0                       0   \n6               71                      57                      90   \n7               14                       0                       0   \n8               57                      83                      89   \n9               14                       0                       0   \n10              71                      88                      88   \n11              14                      87                      87   \n12              28                      41                      68   \n13              57                      49                      73   \n14              42                      37                      78   \n15              71                      37                      53   \n16              42                      88                      93   \n17              71                      46                      77   \n18              85                      54                      86   \n19              57                      59                      71   \n20              14                      41                      65   \n21              57                      60                      66   \n22              71                      95                      95   \n23              28                      54                      73   \n24              28                       0                       0   \n25              14                       0                       0   \n26              42                      60                      88   \n27               0                       0                       0   \n28              14                      79                      87   \n29              42                      74                      89   \n30               0                      21                      32   \n31              14                      87                      87   \n32              71                      60                      90   \n33              71                      69                      90   \n34              28                      71                      80   \n35              28                      65                      93   \n36              14                      54                      63   \n37               0                      13                      57   \n38               0                      35                      50   \n\n                                    dataset_available  \n0                                                      \n1                                          [mutation]  \n2   [mutation, copy number alteration, expression,...  \n3   [mutation, copy number alteration, expression,...  \n4      [mutation, copy number alteration, expression]  \n5      [mutation, copy number alteration, expression]  \n6      [mutation, copy number alteration, expression]  \n7                                          [mutation]  \n8               [mutation, cytogenetics, publication]  \n9                                                      \n10  [mutation, cytogenetics, copy number alteratio...  \n11                                      [publication]  \n12                                                     \n13  [mutation, copy number alteration, expression,...  \n14                                                     \n15                                         [mutation]  \n16                 [mutation, copy number alteration]  \n17     [mutation, copy number alteration, expression]  \n18  [mutation, copy number alteration, expression,...  \n19  [mutation, copy number alteration, expression,...  \n20                                                     \n21  [mutation, copy number alteration, expression,...  \n22  [mutation, cytogenetics, copy number alteratio...  \n23                                         [mutation]  \n24                                         [mutation]  \n25                                                     \n26    [mutation, copy number alteration, publication]  \n27                                                     \n28                                      [publication]  \n29                   [patient treatment, publication]  \n30                                                     \n31                                      [publication]  \n32                                     [cytogenetics]  \n33            [cytogenetics, expression, publication]  \n34                        [cytogenetics, publication]  \n35                                                     \n36                                                     \n37                                                     \n38                                                     ",
      "text/html": "<div>\n<style scoped>\n    .dataframe tbody tr th:only-of-type {\n        vertical-align: middle;\n    }\n\n    .dataframe tbody tr th {\n        vertical-align: top;\n    }\n\n    .dataframe thead th {\n        text-align: right;\n    }\n</style>\n<table border=\"1\" class=\"dataframe\">\n  <thead>\n    <tr style=\"text-align: right;\">\n      <th></th>\n      <th>model_type</th>\n      <th>data_source</th>\n      <th>model_count</th>\n      <th>min_data_score</th>\n      <th>max_data_score</th>\n      <th>min_pdx_metadata_score</th>\n      <th>max_pdx_metadata_score</th>\n      <th>dataset_available</th>\n    </tr>\n  </thead>\n  <tbody>\n    <tr>\n      <th>0</th>\n      <td>organoid</td>\n      <td>BROD</td>\n      <td>23</td>\n      <td>0</td>\n      <td>14</td>\n      <td>0</td>\n      <td>0</td>\n      <td></td>\n    </tr>\n    <tr>\n      <th>1</th>\n      <td>other</td>\n      <td>BROD</td>\n      <td>65</td>\n      <td>0</td>\n      <td>14</td>\n      <td>0</td>\n      <td>0</td>\n      <td>[mutation]</td>\n    </tr>\n    <tr>\n      <th>2</th>\n      <td>PDX</td>\n      <td>CCIA</td>\n      <td>90</td>\n      <td>28</td>\n      <td>57</td>\n      <td>60</td>\n      <td>71</td>\n      <td>[mutation, copy number alteration, expression,...</td>\n    </tr>\n    <tr>\n      <th>3</th>\n      <td>PDX</td>\n      <td>CHOP</td>\n      <td>34</td>\n      <td>57</td>\n      <td>57</td>\n      <td>66</td>\n      <td>86</td>\n      <td>[mutation, copy number alteration, expression,...</td>\n    </tr>\n    <tr>\n      <th>4</th>\n      <td>cell line</td>\n      <td>CMP</td>\n      <td>1500</td>\n      <td>0</td>\n      <td>42</td>\n      <td>0</td>\n      <td>0</td>\n      <td>[mutation, copy number alteration, expression]</td>\n    </tr>\n    <tr>\n      <th>5</th>\n      <td>organoid</td>\n      <td>CMP</td>\n      <td>41</td>\n      <td>0</td>\n      <td>42</td>\n      <td>0</td>\n      <td>0</td>\n      <td>[mutation, copy number alteration, expression]</td>\n    </tr>\n    <tr>\n      <th>6</th>\n      <td>PDX</td>\n      <td>CRL</td>\n      <td>540</td>\n      <td>0</td>\n      <td>71</td>\n      <td>57</td>\n      <td>90</td>\n      <td>[mutation, copy number alteration, expression]</td>\n    </tr>\n    <tr>\n      <th>7</th>\n      <td>organoid</td>\n      <td>CSHL</td>\n      <td>53</td>\n      <td>0</td>\n      <td>14</td>\n      <td>0</td>\n      <td>0</td>\n      <td>[mutation]</td>\n    </tr>\n    <tr>\n      <th>8</th>\n      <td>PDX</td>\n      <td>Curie-BC</td>\n      <td>34</td>\n      <td>28</td>\n      <td>57</td>\n      <td>83</td>\n      <td>89</td>\n      <td>[mutation, cytogenetics, publication]</td>\n    </tr>\n    <tr>\n      <th>9</th>\n      <td>organoid</td>\n      <td>Curie-BC</td>\n      <td>15</td>\n      <td>0</td>\n      <td>14</td>\n      <td>0</td>\n      <td>0</td>\n      <td></td>\n    </tr>\n    <tr>\n      <th>10</th>\n      <td>PDX</td>\n      <td>Curie-LC</td>\n      <td>6</td>\n      <td>28</td>\n      <td>71</td>\n      <td>88</td>\n      <td>88</td>\n      <td>[mutation, cytogenetics, copy number alteratio...</td>\n    </tr>\n    <tr>\n      <th>11</th>\n      <td>PDX</td>\n      <td>Curie-OC</td>\n      <td>5</td>\n      <td>14</td>\n      <td>14</td>\n      <td>87</td>\n      <td>87</td>\n      <td>[publication]</td>\n    </tr>\n    <tr>\n      <th>12</th>\n      <td>PDX</td>\n      <td>DFCI-CPDM</td>\n      <td>721</td>\n      <td>0</td>\n      <td>28</td>\n      <td>41</td>\n      <td>68</td>\n      <td></td>\n    </tr>\n    <tr>\n      <th>13</th>\n      <td>PDX</td>\n      <td>GCCRI</td>\n      <td>79</td>\n      <td>28</td>\n      <td>57</td>\n      <td>49</td>\n      <td>73</td>\n      <td>[mutation, copy number alteration, expression,...</td>\n    </tr>\n    <tr>\n      <th>14</th>\n      <td>PDX</td>\n      <td>HCI-BCM</td>\n      <td>67</td>\n      <td>0</td>\n      <td>42</td>\n      <td>37</td>\n      <td>78</td>\n      <td></td>\n    </tr>\n    <tr>\n      <th>15</th>\n      <td>PDX</td>\n      <td>IRCC-CRC</td>\n      <td>639</td>\n      <td>0</td>\n      <td>71</td>\n      <td>37</td>\n      <td>53</td>\n      <td>[mutation]</td>\n    </tr>\n    <tr>\n      <th>16</th>\n      <td>PDX</td>\n      <td>IRCC-GC</td>\n      <td>76</td>\n      <td>0</td>\n      <td>42</td>\n      <td>88</td>\n      <td>93</td>\n      <td>[mutation, copy number alteration]</td>\n    </tr>\n    <tr>\n      <th>17</th>\n      <td>PDX</td>\n      <td>JAX</td>\n      <td>426</td>\n      <td>0</td>\n      <td>71</td>\n      <td>46</td>\n      <td>77</td>\n      <td>[mutation, copy number alteration, expression]</td>\n    </tr>\n    <tr>\n      <th>18</th>\n      <td>PDX</td>\n      <td>LIH</td>\n      <td>45</td>\n      <td>14</td>\n      <td>85</td>\n      <td>54</td>\n      <td>86</td>\n      <td>[mutation, copy number alteration, expression,...</td>\n    </tr>\n    <tr>\n      <th>19</th>\n      <td>PDX</td>\n      <td>LurieChildrens</td>\n      <td>43</td>\n      <td>14</td>\n      <td>57</td>\n      <td>59</td>\n      <td>71</td>\n      <td>[mutation, copy number alteration, expression,...</td>\n    </tr>\n    <tr>\n      <th>20</th>\n      <td>PDX</td>\n      <td>MDAnderson</td>\n      <td>316</td>\n      <td>0</td>\n      <td>14</td>\n      <td>41</td>\n      <td>65</td>\n      <td></td>\n    </tr>\n    <tr>\n      <th>21</th>\n      <td>PDX</td>\n      <td>MDAnderson-CCH</td>\n      <td>8</td>\n      <td>42</td>\n      <td>57</td>\n      <td>60</td>\n      <td>66</td>\n      <td>[mutation, copy number alteration, expression,...</td>\n    </tr>\n    <tr>\n      <th>22</th>\n      <td>PDX</td>\n      <td>NKI</td>\n      <td>7</td>\n      <td>57</td>\n      <td>71</td>\n      <td>95</td>\n      <td>95</td>\n      <td>[mutation, cytogenetics, copy number alteratio...</td>\n    </tr>\n    <tr>\n      <th>23</th>\n      <td>PDX</td>\n      <td>PDMR</td>\n      <td>666</td>\n      <td>0</td>\n      <td>28</td>\n      <td>54</td>\n      <td>73</td>\n      <td>[mutation]</td>\n    </tr>\n    <tr>\n      <th>24</th>\n      <td>organoid</td>\n      <td>PDMR</td>\n      <td>225</td>\n      <td>14</td>\n      <td>28</td>\n      <td>0</td>\n      <td>0</td>\n      <td>[mutation]</td>\n    </tr>\n    <tr>\n      <th>25</th>\n      <td>other</td>\n      <td>PDMR</td>\n      <td>216</td>\n      <td>0</td>\n      <td>14</td>\n      <td>0</td>\n      <td>0</td>\n      <td></td>\n    </tr>\n    <tr>\n      <th>26</th>\n      <td>PDX</td>\n      <td>PMLB</td>\n      <td>415</td>\n      <td>0</td>\n      <td>42</td>\n      <td>60</td>\n      <td>88</td>\n      <td>[mutation, copy number alteration, publication]</td>\n    </tr>\n    <tr>\n      <th>27</th>\n      <td>organoid</td>\n      <td>SANG</td>\n      <td>23</td>\n      <td>0</td>\n      <td>0</td>\n      <td>0</td>\n      <td>0</td>\n      <td></td>\n    </tr>\n    <tr>\n      <th>28</th>\n      <td>PDX</td>\n      <td>SJCRH</td>\n      <td>157</td>\n      <td>14</td>\n      <td>14</td>\n      <td>79</td>\n      <td>87</td>\n      <td>[publication]</td>\n    </tr>\n    <tr>\n      <th>29</th>\n      <td>PDX</td>\n      <td>TRACE</td>\n      <td>31</td>\n      <td>14</td>\n      <td>42</td>\n      <td>74</td>\n      <td>89</td>\n      <td>[patient treatment, publication]</td>\n    </tr>\n    <tr>\n      <th>30</th>\n      <td>PDX</td>\n      <td>UCD</td>\n      <td>27</td>\n      <td>0</td>\n      <td>0</td>\n      <td>21</td>\n      <td>32</td>\n      <td></td>\n    </tr>\n    <tr>\n      <th>31</th>\n      <td>PDX</td>\n      <td>UMCG</td>\n      <td>8</td>\n      <td>14</td>\n      <td>14</td>\n      <td>87</td>\n      <td>87</td>\n      <td>[publication]</td>\n    </tr>\n    <tr>\n      <th>32</th>\n      <td>PDX</td>\n      <td>UOC-BC</td>\n      <td>59</td>\n      <td>0</td>\n      <td>71</td>\n      <td>60</td>\n      <td>90</td>\n      <td>[cytogenetics]</td>\n    </tr>\n    <tr>\n      <th>33</th>\n      <td>PDX</td>\n      <td>UOM-BC</td>\n      <td>12</td>\n      <td>42</td>\n      <td>71</td>\n      <td>69</td>\n      <td>90</td>\n      <td>[cytogenetics, expression, publication]</td>\n    </tr>\n    <tr>\n      <th>34</th>\n      <td>PDX</td>\n      <td>VHIO-BC</td>\n      <td>7</td>\n      <td>14</td>\n      <td>28</td>\n      <td>71</td>\n      <td>80</td>\n      <td>[cytogenetics, publication]</td>\n    </tr>\n    <tr>\n      <th>35</th>\n      <td>PDX</td>\n      <td>VHIO-CRC</td>\n      <td>38</td>\n      <td>0</td>\n      <td>28</td>\n      <td>65</td>\n      <td>93</td>\n      <td></td>\n    </tr>\n    <tr>\n      <th>36</th>\n      <td>PDX</td>\n      <td>VHIO-PC</td>\n      <td>43</td>\n      <td>0</td>\n      <td>14</td>\n      <td>54</td>\n      <td>63</td>\n      <td></td>\n    </tr>\n    <tr>\n      <th>37</th>\n      <td>PDX</td>\n      <td>WUSTL</td>\n      <td>119</td>\n      <td>0</td>\n      <td>0</td>\n      <td>13</td>\n      <td>57</td>\n      <td></td>\n    </tr>\n    <tr>\n      <th>38</th>\n      <td>PDX</td>\n      <td>Wistar-MDAnderson-Penn</td>\n      <td>256</td>\n      <td>0</td>\n      <td>0</td>\n      <td>35</td>\n      <td>50</td>\n      <td></td>\n    </tr>\n  </tbody>\n</table>\n</div>"
     },
     "execution_count": 79,
     "metadata": {},
     "output_type": "execute_result"
    }
   ],
   "source": [
    "assessment = get_dataset_assessment(providers, API_scores, API_select)\n",
    "assessment"
   ],
   "metadata": {
    "collapsed": false,
    "ExecuteTime": {
     "end_time": "2023-09-19T10:49:44.492684Z",
     "start_time": "2023-09-19T10:49:38.061705Z"
    }
   },
   "id": "32a3c90cdd2a8ae3"
  },
  {
   "cell_type": "code",
   "execution_count": 79,
   "outputs": [],
   "source": [],
   "metadata": {
    "collapsed": false,
    "ExecuteTime": {
     "end_time": "2023-09-19T10:49:44.493084Z",
     "start_time": "2023-09-19T10:49:44.478958Z"
    }
   },
   "id": "4d1d3567c8c605e6"
  }
 ],
 "metadata": {
  "kernelspec": {
   "display_name": "Python 3",
   "language": "python",
   "name": "python3"
  },
  "language_info": {
   "codemirror_mode": {
    "name": "ipython",
    "version": 2
   },
   "file_extension": ".py",
   "mimetype": "text/x-python",
   "name": "python",
   "nbconvert_exporter": "python",
   "pygments_lexer": "ipython2",
   "version": "2.7.6"
  }
 },
 "nbformat": 4,
 "nbformat_minor": 5
}
