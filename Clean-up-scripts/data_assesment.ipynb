{
 "cells": [
  {
   "cell_type": "code",
   "id": "initial_id",
   "metadata": {
    "collapsed": true,
    "ExecuteTime": {
     "end_time": "2024-06-12T08:18:52.923244Z",
     "start_time": "2024-06-12T08:18:52.687684Z"
    }
   },
   "source": [
    "from os import listdir, getcwd, rename, makedirs, remove\n",
    "from os.path import isfile, join, isdir, exists\n",
    "import re\n",
    "import numpy as np\n",
    "import pandas as pd\n",
    "from tqdm import tqdm\n",
    "import json\n",
    "import requests\n",
    "from utils import *"
   ],
   "outputs": [],
   "execution_count": 1
  },
  {
   "cell_type": "markdown",
   "source": [
    "### Common functions"
   ],
   "metadata": {
    "collapsed": false
   },
   "id": "9668d48308f0dffb"
  },
  {
   "cell_type": "code",
   "execution_count": 2,
   "outputs": [],
   "source": [
    "def get_dirs(path):\n",
    "    return [f for f in listdir(path) if isdir(join(path, f))]\n",
    "\n",
    "def get_files(path):\n",
    "    return [join(path, f) for f in listdir(path) if isfile(join(path, f)) and f.endswith(\".tsv\")]\n",
    "\n",
    "def read_metadata_without_fields(path):\n",
    "    metadata = pd.read_csv(path, sep='\\t', na_values=\"\", low_memory=False)\n",
    "    if 'Field' in metadata.columns:\n",
    "        metadata = metadata.loc[metadata.Field.str.startswith('#') != True,].reset_index(drop=True)\n",
    "        metadata = metadata.drop('Field', axis=1)\n",
    "    return metadata\n",
    "\n",
    "def read_metadata_with_fields(path):\n",
    "    metadata = pd.read_csv(path, sep='\\t', na_values=\"\", low_memory=False)\n",
    "    return metadata\n",
    "\n",
    "def sort_case_insensitive(sort_list):\n",
    "    return sorted(sort_list, key=str.casefold)\n"
   ],
   "metadata": {
    "collapsed": false,
    "ExecuteTime": {
     "end_time": "2024-05-30T09:28:09.638119Z",
     "start_time": "2024-05-30T09:28:09.622814Z"
    }
   },
   "id": "d3f9f575ce4743db"
  },
  {
   "cell_type": "code",
   "execution_count": 2,
   "outputs": [],
   "source": [
    "start_dir = getcwd()\n",
    "home = \"/Users/tushar/CancerModels/pdxfinder-data/data/UPDOG/\"\n",
    "providers = sorted(get_dirs(home))\n",
    "API_scores = \"https://www.cancermodels.org/api/search_index?data_source=eq.\"\n",
    "API_select = \"&select=pdcm_model_id,external_model_id,patient_sample_id,data_source,scores,model_type,dataset_available\""
   ],
   "metadata": {
    "collapsed": false,
    "ExecuteTime": {
     "end_time": "2024-05-31T09:55:09.133263Z",
     "start_time": "2024-05-31T09:55:09.115970Z"
    }
   },
   "id": "eaab767a2d4c62d9"
  },
  {
   "cell_type": "code",
   "execution_count": 4,
   "outputs": [],
   "source": [
    "def fetch(url):\n",
    "    response = requests.get(url)\n",
    "    # Check if the API request was successful (status code 200)\n",
    "    if response.status_code != 200:\n",
    "        return None\n",
    "    # Flatten the JSON data\n",
    "    data = json.loads(response.text)\n",
    "    flattened_data = pd.json_normalize(data)\n",
    "    # Create a DataFrame from the flattened JSON data\n",
    "    df = pd.DataFrame(flattened_data)\n",
    "    return df\n",
    "\n",
    "def group_df(df):\n",
    "    # Group by \"model_type\" and calculate counts, min, and max scores\n",
    "    grouped = df.groupby(\"model_type\").agg(\n",
    "        data_source=pd.NamedAgg(column=\"data_source\", aggfunc=lambda x: x.value_counts().idxmax()),\n",
    "        model_count=pd.NamedAgg(column=\"model_type\", aggfunc=\"count\"),\n",
    "        min_data_score=pd.NamedAgg(column=\"scores.data_score\", aggfunc=\"min\"),\n",
    "        max_data_score=pd.NamedAgg(column=\"scores.data_score\", aggfunc=\"max\"),\n",
    "        min_pdx_metadata_score=pd.NamedAgg(column=\"scores.pdx_metadata_score\", aggfunc=\"min\"),\n",
    "        max_pdx_metadata_score=pd.NamedAgg(column=\"scores.pdx_metadata_score\", aggfunc=\"max\"),\n",
    "        dataset_available=pd.NamedAgg(column=\"dataset_available\", aggfunc=lambda x: x.value_counts().idxmax())\n",
    "    )\n",
    "    # Reset the index for a cleaner DataFrame\n",
    "    grouped = grouped.reset_index()\n",
    "    return grouped.sort_values(by=[\"max_data_score\", \"max_pdx_metadata_score\"], ascending=[False, False])"
   ],
   "metadata": {
    "collapsed": false,
    "ExecuteTime": {
     "end_time": "2024-05-30T09:28:09.663745Z",
     "start_time": "2024-05-30T09:28:09.649264Z"
    }
   },
   "id": "8503a706d97f15fc"
  },
  {
   "cell_type": "code",
   "execution_count": 5,
   "outputs": [],
   "source": [
    "def assess(api_url):\n",
    "    assessment = fetch(api_url).fillna(\"\")\n",
    "    if assessment is None:\n",
    "        return None\n",
    "    return group_df(assessment)\n",
    "\n",
    "def get_dataset_assessment(providers, scores, select):\n",
    "    da = pd.DataFrame()\n",
    "    for i in tqdm(range(0, len(providers)), desc =\"Generating data assessment report: \"): ## get_dirs will get the provider dirs in updog\n",
    "        provider = providers[i]\n",
    "        url = scores+provider+select\n",
    "        da = pd.concat([da, assess(url)], ignore_index=True)\n",
    "    return da"
   ],
   "metadata": {
    "collapsed": false,
    "ExecuteTime": {
     "end_time": "2024-05-30T09:28:09.697317Z",
     "start_time": "2024-05-30T09:28:09.665005Z"
    }
   },
   "id": "2c2640bec8767e90"
  },
  {
   "cell_type": "code",
   "execution_count": 6,
   "outputs": [
    {
     "name": "stderr",
     "output_type": "stream",
     "text": [
      "Generating data assessment report: 100%|██████████| 38/38 [00:06<00:00,  5.87it/s]\n"
     ]
    },
    {
     "data": {
      "text/plain": "   model_type             data_source  model_count  min_data_score  \\\n0   cell line                    BROD          107               0   \n1       other                    BROD           30               0   \n2    organoid                    BROD           94               0   \n3         PDX                    CCIA           90              42   \n4         PDX                    CHOP           35              57   \n5   cell line                     CMP         1881               0   \n6    organoid                     CMP           44              28   \n7         PDX                     CRL          539               0   \n8    organoid                    CSHL          221               0   \n9    organoid                   CUIMC           32              57   \n10        PDX                Curie-BC           34              28   \n11   organoid                Curie-BC           15              14   \n12        PDX                Curie-LC            6              28   \n13        PDX                Curie-OC            5              14   \n14        PDX               DFCI-CPDM          735               0   \n15        PDX                   GCCRI           54              42   \n16        PDX                 HCI-BCM           86               0   \n17   organoid                     HKU           34              14   \n18        PDX                IRCC-CRC          639               0   \n19        PDX                 IRCC-GC           76               0   \n20        PDX                     JAX          426               0   \n21        PDX                     LIH           45              14   \n22        PDX          LurieChildrens           47              14   \n23        PDX              MDAnderson          316               0   \n24        PDX          MDAnderson-CCH           38              28   \n25        PDX                     NKI            7              57   \n26        PDX                    PDMR          681               0   \n27   organoid                    PDMR          227              28   \n28  cell line                    PDMR          223              14   \n29        PDX                    PMLB          417               0   \n30   organoid           PMLB-Organoid          252               0   \n31   organoid                    SANG          116               0   \n32        PDX                   SJCRH          284              14   \n33        PDX                   TRACE           31               0   \n34        PDX                     UCD           27               0   \n35        PDX                    UMCG            8              14   \n36        PDX                  UOC-BC           59               0   \n37        PDX                  UOM-BC           12              42   \n38        PDX                 VHIO-BC            7              14   \n39        PDX                VHIO-CRC           39               0   \n40        PDX                 VHIO-PC           43               0   \n41   organoid                    WCMC           15               0   \n42        PDX                   WUSTL          119               0   \n43        PDX  Wistar-MDAnderson-Penn          256               0   \n\n    max_data_score  min_pdx_metadata_score  max_pdx_metadata_score  \\\n0               71                       0                       0   \n1               71                       0                       0   \n2               57                       0                       0   \n3               71                      62                      69   \n4               71                      65                      86   \n5               71                       0                       0   \n6               42                       0                       0   \n7               85                      59                      90   \n8               71                       0                       0   \n9               71                       0                       0   \n10              85                      84                      90   \n11              14                       0                       0   \n12              71                      88                      88   \n13              14                      87                      87   \n14              28                      41                      66   \n15              71                      51                      72   \n16              71                      46                      88   \n17              14                       0                       0   \n18              71                      39                      56   \n19              42                      88                      93   \n20              85                      48                      76   \n21              85                      65                      88   \n22              57                      61                      69   \n23              14                      43                      69   \n24              71                      58                      72   \n25              71                      95                      95   \n26              57                      59                      76   \n27              57                       0                       0   \n28              42                       0                       0   \n29              42                      59                      88   \n30              14                       0                       0   \n31              57                       0                       0   \n32              57                      64                      86   \n33              42                      78                      88   \n34               0                      23                      34   \n35              14                      87                      87   \n36              71                      63                      90   \n37              71                      67                      90   \n38              28                      74                      79   \n39              28                      64                      93   \n40              14                      57                      66   \n41              71                       0                       0   \n42               0                      13                      59   \n43               0                      36                      53   \n\n                                    dataset_available  \n0      [mutation, copy number alteration, expression]  \n1      [mutation, copy number alteration, expression]  \n2                                                      \n3   [mutation, copy number alteration, expression,...  \n4   [mutation, copy number alteration, expression,...  \n5   [mutation, copy number alteration, expression,...  \n6              [mutation, expression, immune markers]  \n7   [mutation, copy number alteration, expression,...  \n8                                                      \n9   [mutation, copy number alteration, immune mark...  \n10  [mutation, copy number alteration, bio markers...  \n11                                [patient treatment]  \n12  [mutation, copy number alteration, bio markers...  \n13                                      [publication]  \n14                                                     \n15  [mutation, copy number alteration, expression,...  \n16      [bio markers, patient treatment, publication]  \n17                                      [publication]  \n18                                         [mutation]  \n19                 [mutation, copy number alteration]  \n20  [mutation, copy number alteration, expression,...  \n21  [mutation, copy number alteration, expression,...  \n22  [mutation, copy number alteration, expression,...  \n23                                                     \n24  [mutation, copy number alteration, expression,...  \n25  [mutation, copy number alteration, bio markers...  \n26                             [mutation, expression]  \n27  [mutation, expression, immune markers, patient...  \n28    [expression, immune markers, patient treatment]  \n29    [mutation, copy number alteration, publication]  \n30                                                     \n31                                                     \n32            [mutation, immune markers, publication]  \n33                   [patient treatment, publication]  \n34                                                     \n35                                      [publication]  \n36                                      [bio markers]  \n37             [bio markers, expression, publication]  \n38                         [bio markers, publication]  \n39                                                     \n40                                                     \n41     [mutation, copy number alteration, expression]  \n42                                                     \n43                                                     ",
      "text/html": "<div>\n<style scoped>\n    .dataframe tbody tr th:only-of-type {\n        vertical-align: middle;\n    }\n\n    .dataframe tbody tr th {\n        vertical-align: top;\n    }\n\n    .dataframe thead th {\n        text-align: right;\n    }\n</style>\n<table border=\"1\" class=\"dataframe\">\n  <thead>\n    <tr style=\"text-align: right;\">\n      <th></th>\n      <th>model_type</th>\n      <th>data_source</th>\n      <th>model_count</th>\n      <th>min_data_score</th>\n      <th>max_data_score</th>\n      <th>min_pdx_metadata_score</th>\n      <th>max_pdx_metadata_score</th>\n      <th>dataset_available</th>\n    </tr>\n  </thead>\n  <tbody>\n    <tr>\n      <th>0</th>\n      <td>cell line</td>\n      <td>BROD</td>\n      <td>107</td>\n      <td>0</td>\n      <td>71</td>\n      <td>0</td>\n      <td>0</td>\n      <td>[mutation, copy number alteration, expression]</td>\n    </tr>\n    <tr>\n      <th>1</th>\n      <td>other</td>\n      <td>BROD</td>\n      <td>30</td>\n      <td>0</td>\n      <td>71</td>\n      <td>0</td>\n      <td>0</td>\n      <td>[mutation, copy number alteration, expression]</td>\n    </tr>\n    <tr>\n      <th>2</th>\n      <td>organoid</td>\n      <td>BROD</td>\n      <td>94</td>\n      <td>0</td>\n      <td>57</td>\n      <td>0</td>\n      <td>0</td>\n      <td></td>\n    </tr>\n    <tr>\n      <th>3</th>\n      <td>PDX</td>\n      <td>CCIA</td>\n      <td>90</td>\n      <td>42</td>\n      <td>71</td>\n      <td>62</td>\n      <td>69</td>\n      <td>[mutation, copy number alteration, expression,...</td>\n    </tr>\n    <tr>\n      <th>4</th>\n      <td>PDX</td>\n      <td>CHOP</td>\n      <td>35</td>\n      <td>57</td>\n      <td>71</td>\n      <td>65</td>\n      <td>86</td>\n      <td>[mutation, copy number alteration, expression,...</td>\n    </tr>\n    <tr>\n      <th>5</th>\n      <td>cell line</td>\n      <td>CMP</td>\n      <td>1881</td>\n      <td>0</td>\n      <td>71</td>\n      <td>0</td>\n      <td>0</td>\n      <td>[mutation, copy number alteration, expression,...</td>\n    </tr>\n    <tr>\n      <th>6</th>\n      <td>organoid</td>\n      <td>CMP</td>\n      <td>44</td>\n      <td>28</td>\n      <td>42</td>\n      <td>0</td>\n      <td>0</td>\n      <td>[mutation, expression, immune markers]</td>\n    </tr>\n    <tr>\n      <th>7</th>\n      <td>PDX</td>\n      <td>CRL</td>\n      <td>539</td>\n      <td>0</td>\n      <td>85</td>\n      <td>59</td>\n      <td>90</td>\n      <td>[mutation, copy number alteration, expression,...</td>\n    </tr>\n    <tr>\n      <th>8</th>\n      <td>organoid</td>\n      <td>CSHL</td>\n      <td>221</td>\n      <td>0</td>\n      <td>71</td>\n      <td>0</td>\n      <td>0</td>\n      <td></td>\n    </tr>\n    <tr>\n      <th>9</th>\n      <td>organoid</td>\n      <td>CUIMC</td>\n      <td>32</td>\n      <td>57</td>\n      <td>71</td>\n      <td>0</td>\n      <td>0</td>\n      <td>[mutation, copy number alteration, immune mark...</td>\n    </tr>\n    <tr>\n      <th>10</th>\n      <td>PDX</td>\n      <td>Curie-BC</td>\n      <td>34</td>\n      <td>28</td>\n      <td>85</td>\n      <td>84</td>\n      <td>90</td>\n      <td>[mutation, copy number alteration, bio markers...</td>\n    </tr>\n    <tr>\n      <th>11</th>\n      <td>organoid</td>\n      <td>Curie-BC</td>\n      <td>15</td>\n      <td>14</td>\n      <td>14</td>\n      <td>0</td>\n      <td>0</td>\n      <td>[patient treatment]</td>\n    </tr>\n    <tr>\n      <th>12</th>\n      <td>PDX</td>\n      <td>Curie-LC</td>\n      <td>6</td>\n      <td>28</td>\n      <td>71</td>\n      <td>88</td>\n      <td>88</td>\n      <td>[mutation, copy number alteration, bio markers...</td>\n    </tr>\n    <tr>\n      <th>13</th>\n      <td>PDX</td>\n      <td>Curie-OC</td>\n      <td>5</td>\n      <td>14</td>\n      <td>14</td>\n      <td>87</td>\n      <td>87</td>\n      <td>[publication]</td>\n    </tr>\n    <tr>\n      <th>14</th>\n      <td>PDX</td>\n      <td>DFCI-CPDM</td>\n      <td>735</td>\n      <td>0</td>\n      <td>28</td>\n      <td>41</td>\n      <td>66</td>\n      <td></td>\n    </tr>\n    <tr>\n      <th>15</th>\n      <td>PDX</td>\n      <td>GCCRI</td>\n      <td>54</td>\n      <td>42</td>\n      <td>71</td>\n      <td>51</td>\n      <td>72</td>\n      <td>[mutation, copy number alteration, expression,...</td>\n    </tr>\n    <tr>\n      <th>16</th>\n      <td>PDX</td>\n      <td>HCI-BCM</td>\n      <td>86</td>\n      <td>0</td>\n      <td>71</td>\n      <td>46</td>\n      <td>88</td>\n      <td>[bio markers, patient treatment, publication]</td>\n    </tr>\n    <tr>\n      <th>17</th>\n      <td>organoid</td>\n      <td>HKU</td>\n      <td>34</td>\n      <td>14</td>\n      <td>14</td>\n      <td>0</td>\n      <td>0</td>\n      <td>[publication]</td>\n    </tr>\n    <tr>\n      <th>18</th>\n      <td>PDX</td>\n      <td>IRCC-CRC</td>\n      <td>639</td>\n      <td>0</td>\n      <td>71</td>\n      <td>39</td>\n      <td>56</td>\n      <td>[mutation]</td>\n    </tr>\n    <tr>\n      <th>19</th>\n      <td>PDX</td>\n      <td>IRCC-GC</td>\n      <td>76</td>\n      <td>0</td>\n      <td>42</td>\n      <td>88</td>\n      <td>93</td>\n      <td>[mutation, copy number alteration]</td>\n    </tr>\n    <tr>\n      <th>20</th>\n      <td>PDX</td>\n      <td>JAX</td>\n      <td>426</td>\n      <td>0</td>\n      <td>85</td>\n      <td>48</td>\n      <td>76</td>\n      <td>[mutation, copy number alteration, expression,...</td>\n    </tr>\n    <tr>\n      <th>21</th>\n      <td>PDX</td>\n      <td>LIH</td>\n      <td>45</td>\n      <td>14</td>\n      <td>85</td>\n      <td>65</td>\n      <td>88</td>\n      <td>[mutation, copy number alteration, expression,...</td>\n    </tr>\n    <tr>\n      <th>22</th>\n      <td>PDX</td>\n      <td>LurieChildrens</td>\n      <td>47</td>\n      <td>14</td>\n      <td>57</td>\n      <td>61</td>\n      <td>69</td>\n      <td>[mutation, copy number alteration, expression,...</td>\n    </tr>\n    <tr>\n      <th>23</th>\n      <td>PDX</td>\n      <td>MDAnderson</td>\n      <td>316</td>\n      <td>0</td>\n      <td>14</td>\n      <td>43</td>\n      <td>69</td>\n      <td></td>\n    </tr>\n    <tr>\n      <th>24</th>\n      <td>PDX</td>\n      <td>MDAnderson-CCH</td>\n      <td>38</td>\n      <td>28</td>\n      <td>71</td>\n      <td>58</td>\n      <td>72</td>\n      <td>[mutation, copy number alteration, expression,...</td>\n    </tr>\n    <tr>\n      <th>25</th>\n      <td>PDX</td>\n      <td>NKI</td>\n      <td>7</td>\n      <td>57</td>\n      <td>71</td>\n      <td>95</td>\n      <td>95</td>\n      <td>[mutation, copy number alteration, bio markers...</td>\n    </tr>\n    <tr>\n      <th>26</th>\n      <td>PDX</td>\n      <td>PDMR</td>\n      <td>681</td>\n      <td>0</td>\n      <td>57</td>\n      <td>59</td>\n      <td>76</td>\n      <td>[mutation, expression]</td>\n    </tr>\n    <tr>\n      <th>27</th>\n      <td>organoid</td>\n      <td>PDMR</td>\n      <td>227</td>\n      <td>28</td>\n      <td>57</td>\n      <td>0</td>\n      <td>0</td>\n      <td>[mutation, expression, immune markers, patient...</td>\n    </tr>\n    <tr>\n      <th>28</th>\n      <td>cell line</td>\n      <td>PDMR</td>\n      <td>223</td>\n      <td>14</td>\n      <td>42</td>\n      <td>0</td>\n      <td>0</td>\n      <td>[expression, immune markers, patient treatment]</td>\n    </tr>\n    <tr>\n      <th>29</th>\n      <td>PDX</td>\n      <td>PMLB</td>\n      <td>417</td>\n      <td>0</td>\n      <td>42</td>\n      <td>59</td>\n      <td>88</td>\n      <td>[mutation, copy number alteration, publication]</td>\n    </tr>\n    <tr>\n      <th>30</th>\n      <td>organoid</td>\n      <td>PMLB-Organoid</td>\n      <td>252</td>\n      <td>0</td>\n      <td>14</td>\n      <td>0</td>\n      <td>0</td>\n      <td></td>\n    </tr>\n    <tr>\n      <th>31</th>\n      <td>organoid</td>\n      <td>SANG</td>\n      <td>116</td>\n      <td>0</td>\n      <td>57</td>\n      <td>0</td>\n      <td>0</td>\n      <td></td>\n    </tr>\n    <tr>\n      <th>32</th>\n      <td>PDX</td>\n      <td>SJCRH</td>\n      <td>284</td>\n      <td>14</td>\n      <td>57</td>\n      <td>64</td>\n      <td>86</td>\n      <td>[mutation, immune markers, publication]</td>\n    </tr>\n    <tr>\n      <th>33</th>\n      <td>PDX</td>\n      <td>TRACE</td>\n      <td>31</td>\n      <td>0</td>\n      <td>42</td>\n      <td>78</td>\n      <td>88</td>\n      <td>[patient treatment, publication]</td>\n    </tr>\n    <tr>\n      <th>34</th>\n      <td>PDX</td>\n      <td>UCD</td>\n      <td>27</td>\n      <td>0</td>\n      <td>0</td>\n      <td>23</td>\n      <td>34</td>\n      <td></td>\n    </tr>\n    <tr>\n      <th>35</th>\n      <td>PDX</td>\n      <td>UMCG</td>\n      <td>8</td>\n      <td>14</td>\n      <td>14</td>\n      <td>87</td>\n      <td>87</td>\n      <td>[publication]</td>\n    </tr>\n    <tr>\n      <th>36</th>\n      <td>PDX</td>\n      <td>UOC-BC</td>\n      <td>59</td>\n      <td>0</td>\n      <td>71</td>\n      <td>63</td>\n      <td>90</td>\n      <td>[bio markers]</td>\n    </tr>\n    <tr>\n      <th>37</th>\n      <td>PDX</td>\n      <td>UOM-BC</td>\n      <td>12</td>\n      <td>42</td>\n      <td>71</td>\n      <td>67</td>\n      <td>90</td>\n      <td>[bio markers, expression, publication]</td>\n    </tr>\n    <tr>\n      <th>38</th>\n      <td>PDX</td>\n      <td>VHIO-BC</td>\n      <td>7</td>\n      <td>14</td>\n      <td>28</td>\n      <td>74</td>\n      <td>79</td>\n      <td>[bio markers, publication]</td>\n    </tr>\n    <tr>\n      <th>39</th>\n      <td>PDX</td>\n      <td>VHIO-CRC</td>\n      <td>39</td>\n      <td>0</td>\n      <td>28</td>\n      <td>64</td>\n      <td>93</td>\n      <td></td>\n    </tr>\n    <tr>\n      <th>40</th>\n      <td>PDX</td>\n      <td>VHIO-PC</td>\n      <td>43</td>\n      <td>0</td>\n      <td>14</td>\n      <td>57</td>\n      <td>66</td>\n      <td></td>\n    </tr>\n    <tr>\n      <th>41</th>\n      <td>organoid</td>\n      <td>WCMC</td>\n      <td>15</td>\n      <td>0</td>\n      <td>71</td>\n      <td>0</td>\n      <td>0</td>\n      <td>[mutation, copy number alteration, expression]</td>\n    </tr>\n    <tr>\n      <th>42</th>\n      <td>PDX</td>\n      <td>WUSTL</td>\n      <td>119</td>\n      <td>0</td>\n      <td>0</td>\n      <td>13</td>\n      <td>59</td>\n      <td></td>\n    </tr>\n    <tr>\n      <th>43</th>\n      <td>PDX</td>\n      <td>Wistar-MDAnderson-Penn</td>\n      <td>256</td>\n      <td>0</td>\n      <td>0</td>\n      <td>36</td>\n      <td>53</td>\n      <td></td>\n    </tr>\n  </tbody>\n</table>\n</div>"
     },
     "execution_count": 6,
     "metadata": {},
     "output_type": "execute_result"
    }
   ],
   "source": [
    "assessment = get_dataset_assessment(providers, API_scores, API_select)\n",
    "assessment"
   ],
   "metadata": {
    "collapsed": false,
    "ExecuteTime": {
     "end_time": "2024-05-30T09:28:16.272229Z",
     "start_time": "2024-05-30T09:28:09.682781Z"
    }
   },
   "id": "32a3c90cdd2a8ae3"
  },
  {
   "cell_type": "code",
   "execution_count": 5,
   "outputs": [
    {
     "data": {
      "text/plain": "                                              email  \\\n0                                 RLock@ccia.org.au   \n1  patrick.reynolds@ttuhsc.edu,maris@email.chop.edu   \n2                             HoughtonP@uthscsa.edu   \n3                            xli@luriechildrens.org   \n4                           RGorlick@mdanderson.org   \n5                                   cstn@stjude.org   \n\n                            name        provider  \n0                   Richard Lock            CCIA  \n1                Reynolds, Maris            CHOP  \n2               Peter J Houghton           GCCRI  \n3                    Li Xiao-Nan  LurieChildrens  \n4                Richard Gorlick  MDAnderson-CCH  \n5  Childhood Solid Tumor Network           SJCRH  ",
      "text/html": "<div>\n<style scoped>\n    .dataframe tbody tr th:only-of-type {\n        vertical-align: middle;\n    }\n\n    .dataframe tbody tr th {\n        vertical-align: top;\n    }\n\n    .dataframe thead th {\n        text-align: right;\n    }\n</style>\n<table border=\"1\" class=\"dataframe\">\n  <thead>\n    <tr style=\"text-align: right;\">\n      <th></th>\n      <th>email</th>\n      <th>name</th>\n      <th>provider</th>\n    </tr>\n  </thead>\n  <tbody>\n    <tr>\n      <th>0</th>\n      <td>RLock@ccia.org.au</td>\n      <td>Richard Lock</td>\n      <td>CCIA</td>\n    </tr>\n    <tr>\n      <th>1</th>\n      <td>patrick.reynolds@ttuhsc.edu,maris@email.chop.edu</td>\n      <td>Reynolds, Maris</td>\n      <td>CHOP</td>\n    </tr>\n    <tr>\n      <th>2</th>\n      <td>HoughtonP@uthscsa.edu</td>\n      <td>Peter J Houghton</td>\n      <td>GCCRI</td>\n    </tr>\n    <tr>\n      <th>3</th>\n      <td>xli@luriechildrens.org</td>\n      <td>Li Xiao-Nan</td>\n      <td>LurieChildrens</td>\n    </tr>\n    <tr>\n      <th>4</th>\n      <td>RGorlick@mdanderson.org</td>\n      <td>Richard Gorlick</td>\n      <td>MDAnderson-CCH</td>\n    </tr>\n    <tr>\n      <th>5</th>\n      <td>cstn@stjude.org</td>\n      <td>Childhood Solid Tumor Network</td>\n      <td>SJCRH</td>\n    </tr>\n  </tbody>\n</table>\n</div>"
     },
     "execution_count": 5,
     "metadata": {},
     "output_type": "execute_result"
    }
   ],
   "source": [
    "pivot = [\"GCCRI\", \"CHOP\", \"CCIA\", \"LurieChildrens\", \"MDAnderson-CCH\", \"SJCRH\"]\n",
    "contacts = pd.DataFrame()\n",
    "for provider in sorted(pivot):\n",
    "    provider_path = join(home, provider)\n",
    "    contact = read_metadata_without_fields(join(provider_path, f\"{provider}_metadata-sharing.tsv\"))[['email', 'name']].drop_duplicates()\n",
    "    contact['provider'] = provider\n",
    "    contacts = pd.concat([contacts, contact]).reset_index(drop=True)\n",
    "contacts"
   ],
   "metadata": {
    "collapsed": false,
    "ExecuteTime": {
     "end_time": "2024-05-31T09:57:31.481230Z",
     "start_time": "2024-05-31T09:57:31.342389Z"
    }
   },
   "id": "4d1d3567c8c605e6"
  },
  {
   "cell_type": "code",
   "source": [
    "cna_symbol_locations = pd.DataFrame()\n",
    "for provider in sorted(get_dirs(home)):\n",
    "    if exists(join(home, provider, 'cna')):\n",
    "        files = [f for f in get_files(join(home, provider, 'cna')) if f.endswith(\".tsv\")]\n",
    "        if len(files) == 0:\n",
    "            dir = get_dirs(join(home, provider, 'cna'))\n",
    "            files = [get_files(join(home, provider, 'cna', d)) for d in dir]\n",
    "            files = [x for xs in files for x in xs]\n",
    "            files = [f for f in files if f.endswith(\".tsv\")]\n",
    "        for file in files:\n",
    "            temp = read_metadata_with_fields(join(home, provider, 'cna', file))[['symbol', 'chromosome', 'strand','seq_start_position', 'seq_end_position', 'ncbi_gene_id', 'ensembl_gene_id']]\n",
    "            cna_symbol_locations = pd.concat([cna_symbol_locations, temp]).drop_duplicates(subset=['symbol']).reset_index(drop=True)\n",
    "cna_symbol_locations"
   ],
   "metadata": {
    "collapsed": false,
    "ExecuteTime": {
     "end_time": "2024-06-12T08:46:10.799384Z",
     "start_time": "2024-06-12T08:45:19.192132Z"
    }
   },
   "id": "31307591665933db",
   "outputs": [
    {
     "ename": "AttributeError",
     "evalue": "'list' object has no attribute 'endswith'",
     "output_type": "error",
     "traceback": [
      "\u001B[0;31m---------------------------------------------------------------------------\u001B[0m",
      "\u001B[0;31mAttributeError\u001B[0m                            Traceback (most recent call last)",
      "Cell \u001B[0;32mIn[4], line 8\u001B[0m\n\u001B[1;32m      6\u001B[0m     \u001B[38;5;28mdir\u001B[39m \u001B[38;5;241m=\u001B[39m get_dirs(join(home, provider, \u001B[38;5;124m'\u001B[39m\u001B[38;5;124mcna\u001B[39m\u001B[38;5;124m'\u001B[39m))\n\u001B[1;32m      7\u001B[0m     files \u001B[38;5;241m=\u001B[39m [get_files(join(home, provider, \u001B[38;5;124m'\u001B[39m\u001B[38;5;124mcna\u001B[39m\u001B[38;5;124m'\u001B[39m, d)) \u001B[38;5;28;01mfor\u001B[39;00m d \u001B[38;5;129;01min\u001B[39;00m \u001B[38;5;28mdir\u001B[39m]\n\u001B[0;32m----> 8\u001B[0m     files \u001B[38;5;241m=\u001B[39m [f \u001B[38;5;28;01mfor\u001B[39;00m f \u001B[38;5;129;01min\u001B[39;00m files \u001B[38;5;28;01mif\u001B[39;00m f\u001B[38;5;241m.\u001B[39mendswith(\u001B[38;5;124m\"\u001B[39m\u001B[38;5;124m.tsv\u001B[39m\u001B[38;5;124m\"\u001B[39m)]\n\u001B[1;32m      9\u001B[0m \u001B[38;5;28;01mfor\u001B[39;00m file \u001B[38;5;129;01min\u001B[39;00m files:\n\u001B[1;32m     10\u001B[0m     temp \u001B[38;5;241m=\u001B[39m read_metadata_with_fields(join(home, provider, \u001B[38;5;124m'\u001B[39m\u001B[38;5;124mcna\u001B[39m\u001B[38;5;124m'\u001B[39m, file))[[\u001B[38;5;124m'\u001B[39m\u001B[38;5;124msymbol\u001B[39m\u001B[38;5;124m'\u001B[39m, \u001B[38;5;124m'\u001B[39m\u001B[38;5;124mchromosome\u001B[39m\u001B[38;5;124m'\u001B[39m, \u001B[38;5;124m'\u001B[39m\u001B[38;5;124mstrand\u001B[39m\u001B[38;5;124m'\u001B[39m,\u001B[38;5;124m'\u001B[39m\u001B[38;5;124mseq_start_position\u001B[39m\u001B[38;5;124m'\u001B[39m, \u001B[38;5;124m'\u001B[39m\u001B[38;5;124mseq_end_position\u001B[39m\u001B[38;5;124m'\u001B[39m, \u001B[38;5;124m'\u001B[39m\u001B[38;5;124mncbi_gene_id\u001B[39m\u001B[38;5;124m'\u001B[39m, \u001B[38;5;124m'\u001B[39m\u001B[38;5;124mensembl_gene_id\u001B[39m\u001B[38;5;124m'\u001B[39m]]\n",
      "Cell \u001B[0;32mIn[4], line 8\u001B[0m, in \u001B[0;36m<listcomp>\u001B[0;34m(.0)\u001B[0m\n\u001B[1;32m      6\u001B[0m     \u001B[38;5;28mdir\u001B[39m \u001B[38;5;241m=\u001B[39m get_dirs(join(home, provider, \u001B[38;5;124m'\u001B[39m\u001B[38;5;124mcna\u001B[39m\u001B[38;5;124m'\u001B[39m))\n\u001B[1;32m      7\u001B[0m     files \u001B[38;5;241m=\u001B[39m [get_files(join(home, provider, \u001B[38;5;124m'\u001B[39m\u001B[38;5;124mcna\u001B[39m\u001B[38;5;124m'\u001B[39m, d)) \u001B[38;5;28;01mfor\u001B[39;00m d \u001B[38;5;129;01min\u001B[39;00m \u001B[38;5;28mdir\u001B[39m]\n\u001B[0;32m----> 8\u001B[0m     files \u001B[38;5;241m=\u001B[39m [f \u001B[38;5;28;01mfor\u001B[39;00m f \u001B[38;5;129;01min\u001B[39;00m files \u001B[38;5;28;01mif\u001B[39;00m \u001B[43mf\u001B[49m\u001B[38;5;241;43m.\u001B[39;49m\u001B[43mendswith\u001B[49m(\u001B[38;5;124m\"\u001B[39m\u001B[38;5;124m.tsv\u001B[39m\u001B[38;5;124m\"\u001B[39m)]\n\u001B[1;32m      9\u001B[0m \u001B[38;5;28;01mfor\u001B[39;00m file \u001B[38;5;129;01min\u001B[39;00m files:\n\u001B[1;32m     10\u001B[0m     temp \u001B[38;5;241m=\u001B[39m read_metadata_with_fields(join(home, provider, \u001B[38;5;124m'\u001B[39m\u001B[38;5;124mcna\u001B[39m\u001B[38;5;124m'\u001B[39m, file))[[\u001B[38;5;124m'\u001B[39m\u001B[38;5;124msymbol\u001B[39m\u001B[38;5;124m'\u001B[39m, \u001B[38;5;124m'\u001B[39m\u001B[38;5;124mchromosome\u001B[39m\u001B[38;5;124m'\u001B[39m, \u001B[38;5;124m'\u001B[39m\u001B[38;5;124mstrand\u001B[39m\u001B[38;5;124m'\u001B[39m,\u001B[38;5;124m'\u001B[39m\u001B[38;5;124mseq_start_position\u001B[39m\u001B[38;5;124m'\u001B[39m, \u001B[38;5;124m'\u001B[39m\u001B[38;5;124mseq_end_position\u001B[39m\u001B[38;5;124m'\u001B[39m, \u001B[38;5;124m'\u001B[39m\u001B[38;5;124mncbi_gene_id\u001B[39m\u001B[38;5;124m'\u001B[39m, \u001B[38;5;124m'\u001B[39m\u001B[38;5;124mensembl_gene_id\u001B[39m\u001B[38;5;124m'\u001B[39m]]\n",
      "\u001B[0;31mAttributeError\u001B[0m: 'list' object has no attribute 'endswith'"
     ]
    }
   ],
   "execution_count": 4
  },
  {
   "metadata": {},
   "cell_type": "code",
   "outputs": [],
   "execution_count": null,
   "source": "",
   "id": "5fe49d0ea429303c"
  }
 ],
 "metadata": {
  "kernelspec": {
   "display_name": "Python 3",
   "language": "python",
   "name": "python3"
  },
  "language_info": {
   "codemirror_mode": {
    "name": "ipython",
    "version": 2
   },
   "file_extension": ".py",
   "mimetype": "text/x-python",
   "name": "python",
   "nbconvert_exporter": "python",
   "pygments_lexer": "ipython2",
   "version": "2.7.6"
  }
 },
 "nbformat": 4,
 "nbformat_minor": 5
}
