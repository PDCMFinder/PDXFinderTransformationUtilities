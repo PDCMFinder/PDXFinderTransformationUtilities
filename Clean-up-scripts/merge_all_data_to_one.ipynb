{
 "cells": [
  {
   "cell_type": "code",
   "execution_count": 1,
   "metadata": {
    "collapsed": true,
    "ExecuteTime": {
     "end_time": "2023-05-22T14:20:15.070475Z",
     "start_time": "2023-05-22T14:20:12.401391Z"
    }
   },
   "outputs": [],
   "source": [
    "from os import listdir, getcwd, rename, makedirs\n",
    "from os.path import isfile, join, isdir, exists\n",
    "import pandas as pd\n",
    "import logging\n",
    "\n",
    "log = logging.getLogger(__name__)\n",
    "logging.basicConfig(filename='merge_all_data_to_one.log', level=logging.INFO, format='%(levelname)s:%(asctime)s: %(message)s', datefmt='%d/%m/%Y %I:%M %p')\n",
    "start_dir = getcwd()\n",
    "home = \"/Users/tushar/PDX/pdxfinder-data/data/UPDOG\""
   ]
  },
  {
   "cell_type": "code",
   "execution_count": 2,
   "outputs": [],
   "source": [
    "def get_dirs(path):\n",
    "    return [f for f in listdir(path) if isdir(join(path, f))]\n",
    "\n",
    "def get_files(path):\n",
    "    return [f for f in listdir(path) if isfile(join(path, f))]\n",
    "\n",
    "def merge_data(path, data):\n",
    "    tsv_files = [f for f in get_files(path) if f.endswith('.tsv')]\n",
    "    if len(tsv_files)>0:\n",
    "        for f in tsv_files:\n",
    "            if f.__contains__('patient.tsv') or f.__contains__('patient_sample.tsv') or f.__contains__('pdx_model.tsv') or f.__contains__('model_validation.tsv') or f.__contains__('cell_model.tsv') or f.__contains__('sharing.tsv'):\n",
    "                #log.info(\"\\t\\tReading File: \"+ f)\n",
    "                metadata = pd.read_csv(join(path,f), sep='\\t', na_values=\"\", low_memory=False)\n",
    "                if 'Field' in metadata.columns:\n",
    "                    metadata = metadata.loc[metadata.Field.astype('str').str.startswith('#') != True,].reset_index(drop=True)\n",
    "                    metadata = metadata.drop('Field', axis=1)\n",
    "                #metadata = metadata.iloc[4:,]\n",
    "                if f.__contains__('patient.tsv'):\n",
    "                    data[0] = data[0]._append(metadata)\n",
    "                    log.info(\"\\tFile: \"+ f)\n",
    "                elif f.__contains__('patient_sample.tsv'):\n",
    "                    data[1] = data[1]._append(metadata)\n",
    "                    log.info(\"\\tFile: \"+ f)\n",
    "                elif f.__contains__('pdx_model.tsv'):\n",
    "                    data[2] = data[2]._append(metadata)\n",
    "                    log.info(\"\\tFile: \"+ f)\n",
    "                elif f.__contains__('model_validation.tsv'):\n",
    "                    data[3] = data[3]._append(metadata)\n",
    "                    log.info(\"\\tFile: \"+ f)\n",
    "                elif f.__contains__('cell_model.tsv'):\n",
    "                    data[4] = data[4]._append(metadata)\n",
    "                    log.info(\"\\tFile: \"+ f)\n",
    "                elif f.__contains__('sharing.tsv'):\n",
    "                    data[5] = data[5]._append(metadata)\n",
    "                    log.info(\"\\tFile: \"+ f)\n",
    "                metadata = pd.DataFrame()\n",
    "\n",
    "    else:\n",
    "        log.info(\"No .xlsx file found.\")\n",
    "    return  data\n",
    "\n",
    "patient, ps, pdx, mv, cm, share = pd.DataFrame(), pd.DataFrame(), pd.DataFrame(), pd.DataFrame(), pd.DataFrame(), pd.DataFrame()\n",
    "data = [patient, ps, pdx, mv, cm, share]\n",
    "for provider in get_dirs(home): ## get_dirs will get the provider dirs in updog\n",
    "    log.info(\"Working on provider: \"+provider)\n",
    "    data = merge_data(join(home, provider), data)"
   ],
   "metadata": {
    "collapsed": false,
    "ExecuteTime": {
     "end_time": "2023-05-22T14:20:16.087687Z",
     "start_time": "2023-05-22T14:20:15.097472Z"
    }
   }
  },
  {
   "cell_type": "code",
   "execution_count": 3,
   "outputs": [],
   "source": [
    "with pd.ExcelWriter('/Users/tushar/PDX/SA-Y3/validation_all_data.xlsx') as writer:\n",
    "    data[0].to_excel(writer, sheet_name='patient', index=False)\n",
    "    data[1].to_excel(writer, sheet_name='patient_sample', index=False)\n",
    "    data[2].to_excel(writer, sheet_name='pdx_model', index=False)\n",
    "    data[3].to_excel(writer, sheet_name='model_validation', index=False)\n",
    "    data[4].to_excel(writer, sheet_name='cell_model', index=False)\n",
    "    data[5].to_excel(writer, sheet_name='sharing', index=False)"
   ],
   "metadata": {
    "collapsed": false,
    "ExecuteTime": {
     "end_time": "2023-05-22T14:20:27.410924Z",
     "start_time": "2023-05-22T14:20:16.091507Z"
    }
   }
  },
  {
   "cell_type": "code",
   "execution_count": null,
   "outputs": [],
   "source": [],
   "metadata": {
    "collapsed": false
   }
  }
 ],
 "metadata": {
  "kernelspec": {
   "display_name": "Python 3",
   "language": "python",
   "name": "python3"
  },
  "language_info": {
   "codemirror_mode": {
    "name": "ipython",
    "version": 2
   },
   "file_extension": ".py",
   "mimetype": "text/x-python",
   "name": "python",
   "nbconvert_exporter": "python",
   "pygments_lexer": "ipython2",
   "version": "2.7.6"
  }
 },
 "nbformat": 4,
 "nbformat_minor": 0
}
