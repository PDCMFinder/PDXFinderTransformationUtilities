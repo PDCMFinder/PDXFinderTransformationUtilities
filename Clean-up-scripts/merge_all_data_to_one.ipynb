{
 "cells": [
  {
   "cell_type": "code",
   "execution_count": 1,
   "metadata": {
    "collapsed": true,
    "ExecuteTime": {
     "end_time": "2023-10-25T10:48:18.456007Z",
     "start_time": "2023-10-25T10:48:16.824023Z"
    }
   },
   "outputs": [],
   "source": [
    "from os import listdir, getcwd, rename, makedirs\n",
    "from os.path import isfile, join, isdir, exists\n",
    "import pandas as pd\n",
    "import logging\n",
    "\n",
    "log = logging.getLogger(__name__)\n",
    "logging.basicConfig(filename='merge_all_data_to_one.log', level=logging.INFO, format='%(levelname)s:%(asctime)s: %(message)s', datefmt='%d/%m/%Y %I:%M %p')\n",
    "start_dir = getcwd()\n",
    "home = \"/Users/tushar/CancerModels/pdxfinder-data/data/UPDOG\""
   ]
  },
  {
   "cell_type": "code",
   "execution_count": 2,
   "outputs": [
    {
     "name": "stderr",
     "output_type": "stream",
     "text": [
      "/var/folders/_2/g5d3zf4s41g0tvlqkc3_8wjr0000gp/T/ipykernel_83681/1666804938.py:25: DtypeWarning: Columns (11) have mixed types. Specify dtype option on import or set low_memory=False.\n",
      "  data = pd.read_csv(join(path, dir, files[0]), sep='\\t')\n",
      "/var/folders/_2/g5d3zf4s41g0tvlqkc3_8wjr0000gp/T/ipykernel_83681/1666804938.py:25: DtypeWarning: Columns (18) have mixed types. Specify dtype option on import or set low_memory=False.\n",
      "  data = pd.read_csv(join(path, dir, files[0]), sep='\\t')\n",
      "/var/folders/_2/g5d3zf4s41g0tvlqkc3_8wjr0000gp/T/ipykernel_83681/1666804938.py:25: DtypeWarning: Columns (1) have mixed types. Specify dtype option on import or set low_memory=False.\n",
      "  data = pd.read_csv(join(path, dir, files[0]), sep='\\t')\n"
     ]
    }
   ],
   "source": [
    "def get_dirs(path):\n",
    "    return [f for f in listdir(path) if isdir(join(path, f))]\n",
    "\n",
    "def get_files(path):\n",
    "    return [f for f in listdir(path) if isfile(join(path, f))]\n",
    "\n",
    "def read_mol_data(types, path, mol_sample):\n",
    "    for mct in types:\n",
    "        dir = \"\"\n",
    "        if mct == 'expression':\n",
    "            dir = 'expression'\n",
    "        elif mct == 'copy number alteration':\n",
    "            dir = 'cna'\n",
    "        elif mct == 'mutation':\n",
    "            dir = 'mut'\n",
    "        elif mct == 'biomarker':\n",
    "            dir = 'biomarker'\n",
    "            \n",
    "        if dir != \"\":\n",
    "            files = [f for f in get_files(join(path, dir)) if f.endswith('.tsv')]\n",
    "            if len(files) == 0:\n",
    "                for d in get_dirs(join(path, dir)):\n",
    "                    files = files + [join(d, f) for f in get_files(join(path, dir, d)) if f.endswith('.tsv')]\n",
    "            if len(files) == 1:\n",
    "                data = pd.read_csv(join(path, dir, files[0]), sep='\\t')\n",
    "                sample_ids = list(data['sample_id'].unique())\n",
    "                mol_sample[dir] = sample_ids\n",
    "            elif len(files) > 1:\n",
    "                mol_sample[dir] = files\n",
    "\n",
    "    return mol_sample    \n",
    "\n",
    "def get_mol_files(row, mol_sample):\n",
    "    dir = \"\"\n",
    "    if row['molecular_characterisation_type'] == 'expression':\n",
    "        dir = 'expression'\n",
    "    elif row['molecular_characterisation_type'] == 'copy number alteration':\n",
    "        dir = 'cna'\n",
    "    elif row['molecular_characterisation_type'] == 'mutation':\n",
    "        dir = 'mut'\n",
    "    elif row['molecular_characterisation_type'] == 'biomarker':\n",
    "        dir = 'biomarker'\n",
    "    if dir != \"\":\n",
    "        if row['sample_id'] in mol_sample[dir]:\n",
    "            return [True, dir]\n",
    "        else:\n",
    "            for f in mol_sample[dir]:\n",
    "                if str(f).__contains__(str(row['sample_id'])):\n",
    "                    return [True, f]\n",
    "                elif str(f).__contains__(str(row['model_id'])):\n",
    "                    return [True, f]\n",
    "    return [False, '']\n",
    "    \n",
    "\n",
    "def merge_data(path, data):\n",
    "    tsv_files = sorted([f for f in get_files(path) if f.endswith('.tsv')])\n",
    "    if len(tsv_files)>0:\n",
    "        for f in tsv_files:\n",
    "            if f.__contains__('patient.tsv') or f.__contains__('patient_sample.tsv') or f.__contains__('pdx_model.tsv') or f.__contains__('model_validation.tsv') or f.__contains__('cell_model.tsv') or f.__contains__('sharing.tsv'):\n",
    "                #log.info(\"\\t\\tReading File: \"+ f)\n",
    "                #print(f)\n",
    "                metadata = pd.read_csv(join(path,f), sep='\\t', na_values=\"\", low_memory=False)\n",
    "                if 'Field' in metadata.columns:\n",
    "                    metadata = metadata.loc[metadata.Field.astype('str').str.startswith('#') != True,].reset_index(drop=True)\n",
    "                    metadata = metadata.drop('Field', axis=1)\n",
    "                #metadata = metadata.iloc[4:,]\n",
    "                if f.__contains__('patient.tsv'):\n",
    "                    data[0] = data[0]._append(metadata)\n",
    "                    log.info(\"\\tFile: \"+ f)\n",
    "                elif f.__contains__('patient_sample.tsv'):\n",
    "                    data[1] = data[1]._append(metadata)\n",
    "                    log.info(\"\\tFile: \"+ f)\n",
    "                elif f.__contains__('pdx_model.tsv'):\n",
    "                    metadata['provider'] = path.replace(home, '')\n",
    "                    data[2] = data[2]._append(metadata)\n",
    "                    log.info(\"\\tFile: \"+ f)\n",
    "                elif f.__contains__('model_validation.tsv'):\n",
    "                    data[3] = data[3]._append(metadata)\n",
    "                    log.info(\"\\tFile: \"+ f)\n",
    "                elif f.__contains__('cell_model.tsv'):\n",
    "                    data[4] = data[4]._append(metadata)\n",
    "                    log.info(\"\\tFile: \"+ f)\n",
    "                elif f.__contains__('sharing.tsv'):\n",
    "                    data[5] = data[5]._append(metadata)\n",
    "                    log.info(\"\\tFile: \"+ f)\n",
    "                metadata = pd.DataFrame()\n",
    "            if f.__contains__('_molecular_metadata-sample.tsv'):\n",
    "                metadata = pd.read_csv(join(path,f), sep='\\t', na_values=\"\", low_memory=False)\n",
    "                provider = path.replace(home+'/', '')\n",
    "                platform = pd.read_csv(join(path,provider+'_molecular_metadata-platform.tsv'), sep='\\t', na_values=\"\", low_memory=False)\n",
    "                if 'Field' in metadata.columns:\n",
    "                    metadata = metadata.loc[metadata.Field.astype('str').str.startswith('#') != True,].reset_index(drop=True)\n",
    "                    metadata = metadata.drop('Field', axis=1)\n",
    "                if 'Field' in platform.columns:\n",
    "                    platform = platform.loc[platform.Field.astype('str').str.startswith('#') != True,].reset_index(drop=True)\n",
    "                    platform = platform.drop('Field', axis=1)\n",
    "                metadata = metadata.merge(platform, on='platform_id', how='outer')\n",
    "                mol_sample = {}\n",
    "                mol_sample = read_mol_data(metadata['molecular_characterisation_type'].unique(), path, mol_sample)\n",
    "                metadata['files'] = metadata.apply(get_mol_files, mol_sample=mol_sample, axis=1)\n",
    "                metadata['provider'] = provider\n",
    "                data[6] = data[6]._append(metadata)\n",
    "                metadata = pd.DataFrame()\n",
    "    else:\n",
    "        log.info(\"No .xlsx file found.\")\n",
    "    \n",
    "    return  data\n",
    "\n",
    "patient, ps, pdx, mv, cm, share, files = pd.DataFrame(), pd.DataFrame(), pd.DataFrame(), pd.DataFrame(), pd.DataFrame(), pd.DataFrame() , pd.DataFrame()\n",
    "data = [patient, ps, pdx, mv, cm, share, files]\n",
    "for provider in sorted(get_dirs(home)): ## get_dirs will get the provider dirs in updog\n",
    "    log.info(\"Working on provider: \"+provider)\n",
    "    data = merge_data(join(home, provider), data)"
   ],
   "metadata": {
    "collapsed": false,
    "ExecuteTime": {
     "end_time": "2023-10-25T10:48:56.679431Z",
     "start_time": "2023-10-25T10:48:18.492653Z"
    }
   }
  },
  {
   "cell_type": "code",
   "execution_count": 5,
   "outputs": [],
   "source": [
    "with pd.ExcelWriter('/Users/tushar/CancerModels/validation_all_data.xlsx') as writer:\n",
    "    data[0].to_excel(writer, sheet_name='patient', index=False)\n",
    "    data[1].to_excel(writer, sheet_name='patient_sample', index=False)\n",
    "    data[2].to_excel(writer, sheet_name='pdx_model', index=False)\n",
    "    data[3].to_excel(writer, sheet_name='model_validation', index=False)\n",
    "    data[4].to_excel(writer, sheet_name='cell_model', index=False)\n",
    "    data[5].to_excel(writer, sheet_name='sharing', index=False)"
   ],
   "metadata": {
    "collapsed": false,
    "ExecuteTime": {
     "end_time": "2023-10-19T12:55:53.987686Z",
     "start_time": "2023-10-19T12:55:41.648556Z"
    }
   }
  },
  {
   "cell_type": "code",
   "execution_count": 12,
   "outputs": [],
   "source": [
    "merged = pd.DataFrame\n",
    "for i in range(5):\n",
    "        if i == 0:\n",
    "            merged = data[0].merge(data[1], on='patient_id', how='outer').reset_index(drop=True)     \n",
    "        else:\n",
    "            merged = merged.merge(data[i+1], on='model_id', how='outer').reset_index(drop=True)              "
   ],
   "metadata": {
    "collapsed": false,
    "ExecuteTime": {
     "end_time": "2023-10-23T16:09:41.737987Z",
     "start_time": "2023-10-23T16:09:41.493576Z"
    }
   }
  },
  {
   "cell_type": "code",
   "execution_count": 16,
   "outputs": [],
   "source": [
    "merged.to_csv('/Users/tushar/CancerModels/merged_all_data.tsv', sep='\\t', index=False)"
   ],
   "metadata": {
    "collapsed": false,
    "ExecuteTime": {
     "end_time": "2023-10-23T16:10:46.315880Z",
     "start_time": "2023-10-23T16:10:45.794379Z"
    }
   }
  },
  {
   "cell_type": "code",
   "execution_count": null,
   "outputs": [],
   "source": [],
   "metadata": {
    "collapsed": false
   }
  },
  {
   "cell_type": "code",
   "execution_count": 3,
   "outputs": [
    {
     "data": {
      "text/plain": "      provider      model_id                   sample_id  \\\n52    Curie-BC        HBCx-2                        BC51   \n53    Curie-BC        HBCx-8                       BC138   \n54    Curie-BC       HBCx-30                       BC291   \n55    Curie-BC       HBCx-31                       BC297   \n56    Curie-BC       HBCx-39                       BC408   \n...        ...           ...                         ...   \n3423      PDMR  K79811-243-R            K79811-243-R-M96   \n3424      PDMR  K79811-243-R    K79811-243-R-M94M108M143   \n47        PMLB     PMLB27459                       27459   \n24       TRACE     MEL0005CM  MEL0005CMH0000000000VT9900   \n30       TRACE     MEL0062CM  MEL0062CMH0000000000VT9900   \n\n     molecular_characterisation_type  \\\n52                          mutation   \n53                          mutation   \n54                          mutation   \n55                          mutation   \n56                          mutation   \n...                              ...   \n3423                        mutation   \n3424                        mutation   \n47            copy number alteration   \n24                          mutation   \n30                          mutation   \n\n                                            platform_id  \n52                                   mutation_NGS_ESOPE  \n53                                   mutation_NGS_ESOPE  \n54                                   mutation_NGS_ESOPE  \n55                                   mutation_NGS_ESOPE  \n56                                   mutation_NGS_ESOPE  \n...                                                 ...  \n3423                         mutation_OncoKB_Gene_Panel  \n3424                         mutation_OncoKB_Gene_Panel  \n47    copy_number_alteration_Targeted_Next_generatio...  \n24                              mutation_RNA_sequencing  \n30                              mutation_RNA_sequencing  \n\n[107 rows x 5 columns]",
      "text/html": "<div>\n<style scoped>\n    .dataframe tbody tr th:only-of-type {\n        vertical-align: middle;\n    }\n\n    .dataframe tbody tr th {\n        vertical-align: top;\n    }\n\n    .dataframe thead th {\n        text-align: right;\n    }\n</style>\n<table border=\"1\" class=\"dataframe\">\n  <thead>\n    <tr style=\"text-align: right;\">\n      <th></th>\n      <th>provider</th>\n      <th>model_id</th>\n      <th>sample_id</th>\n      <th>molecular_characterisation_type</th>\n      <th>platform_id</th>\n    </tr>\n  </thead>\n  <tbody>\n    <tr>\n      <th>52</th>\n      <td>Curie-BC</td>\n      <td>HBCx-2</td>\n      <td>BC51</td>\n      <td>mutation</td>\n      <td>mutation_NGS_ESOPE</td>\n    </tr>\n    <tr>\n      <th>53</th>\n      <td>Curie-BC</td>\n      <td>HBCx-8</td>\n      <td>BC138</td>\n      <td>mutation</td>\n      <td>mutation_NGS_ESOPE</td>\n    </tr>\n    <tr>\n      <th>54</th>\n      <td>Curie-BC</td>\n      <td>HBCx-30</td>\n      <td>BC291</td>\n      <td>mutation</td>\n      <td>mutation_NGS_ESOPE</td>\n    </tr>\n    <tr>\n      <th>55</th>\n      <td>Curie-BC</td>\n      <td>HBCx-31</td>\n      <td>BC297</td>\n      <td>mutation</td>\n      <td>mutation_NGS_ESOPE</td>\n    </tr>\n    <tr>\n      <th>56</th>\n      <td>Curie-BC</td>\n      <td>HBCx-39</td>\n      <td>BC408</td>\n      <td>mutation</td>\n      <td>mutation_NGS_ESOPE</td>\n    </tr>\n    <tr>\n      <th>...</th>\n      <td>...</td>\n      <td>...</td>\n      <td>...</td>\n      <td>...</td>\n      <td>...</td>\n    </tr>\n    <tr>\n      <th>3423</th>\n      <td>PDMR</td>\n      <td>K79811-243-R</td>\n      <td>K79811-243-R-M96</td>\n      <td>mutation</td>\n      <td>mutation_OncoKB_Gene_Panel</td>\n    </tr>\n    <tr>\n      <th>3424</th>\n      <td>PDMR</td>\n      <td>K79811-243-R</td>\n      <td>K79811-243-R-M94M108M143</td>\n      <td>mutation</td>\n      <td>mutation_OncoKB_Gene_Panel</td>\n    </tr>\n    <tr>\n      <th>47</th>\n      <td>PMLB</td>\n      <td>PMLB27459</td>\n      <td>27459</td>\n      <td>copy number alteration</td>\n      <td>copy_number_alteration_Targeted_Next_generatio...</td>\n    </tr>\n    <tr>\n      <th>24</th>\n      <td>TRACE</td>\n      <td>MEL0005CM</td>\n      <td>MEL0005CMH0000000000VT9900</td>\n      <td>mutation</td>\n      <td>mutation_RNA_sequencing</td>\n    </tr>\n    <tr>\n      <th>30</th>\n      <td>TRACE</td>\n      <td>MEL0062CM</td>\n      <td>MEL0062CMH0000000000VT9900</td>\n      <td>mutation</td>\n      <td>mutation_RNA_sequencing</td>\n    </tr>\n  </tbody>\n</table>\n<p>107 rows × 5 columns</p>\n</div>"
     },
     "execution_count": 3,
     "metadata": {},
     "output_type": "execute_result"
    }
   ],
   "source": [
    "data[6][[True if t[0] == False else False for t in data[6]['files']]][['provider', 'model_id', 'sample_id', 'molecular_characterisation_type', 'platform_id']]"
   ],
   "metadata": {
    "collapsed": false,
    "ExecuteTime": {
     "end_time": "2023-10-25T10:48:56.741027Z",
     "start_time": "2023-10-25T10:48:56.685974Z"
    }
   }
  },
  {
   "cell_type": "code",
   "execution_count": null,
   "outputs": [],
   "source": [],
   "metadata": {
    "collapsed": false
   }
  }
 ],
 "metadata": {
  "kernelspec": {
   "display_name": "Python 3",
   "language": "python",
   "name": "python3"
  },
  "language_info": {
   "codemirror_mode": {
    "name": "ipython",
    "version": 2
   },
   "file_extension": ".py",
   "mimetype": "text/x-python",
   "name": "python",
   "nbconvert_exporter": "python",
   "pygments_lexer": "ipython2",
   "version": "2.7.6"
  }
 },
 "nbformat": 4,
 "nbformat_minor": 0
}
