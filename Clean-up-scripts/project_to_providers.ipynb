{
 "cells": [
  {
   "cell_type": "code",
   "execution_count": 2,
   "metadata": {
    "collapsed": true
   },
   "outputs": [],
   "source": [
    "import pandas as pd\n",
    "import os\n",
    "from os.path import isfile, join, isdir, exists\n",
    "import shutil\n",
    "from tqdm import tqdm\n",
    "import seaborn as sns\n",
    "import seaborn.objects as so\n",
    "import matplotlib.pyplot as plt"
   ]
  },
  {
   "cell_type": "code",
   "execution_count": 18,
   "outputs": [],
   "source": [
    "out_path = \"/Users/tushar/pdx/pdxfinder-data/data/UPDOG/\"\n",
    "\n",
    "def get_files(path, files):\n",
    " [files.append(join(path, f)) if isfile(join(path, f)) else get_files(join(path,f), files) for f in os.listdir(path)]\n",
    " return files\n",
    "\n",
    "def get_models(path, model_list):\n",
    " model_sheet = pd.read_csv(path, sep='\\t')\n",
    " out_models_sheet = model_sheet[model_sheet['model_id'].isin(model_list)]\n",
    " return pd.concat([model_sheet.iloc[0:4, :], out_models_sheet]).reset_index(drop=True)\n",
    "\n",
    "def get_patients(path_p, path_ps, out_path, provider_short, model_list):\n",
    " patient_sheet = pd.read_csv(path_p, sep='\\t')\n",
    " patient_sample_sheet = pd.read_csv(path_ps, sep='\\t')\n",
    " out_ps_sheet = patient_sample_sheet[patient_sample_sheet['model_id'].isin(model_list)]\n",
    " # Patient sheet\n",
    " p_ids = list(out_ps_sheet['patient_id'])\n",
    " out_patient_sheet = patient_sheet[patient_sheet['patient_id'].isin(p_ids)]\n",
    " out_patient_sheet = pd.concat([patient_sheet.iloc[0:4, :], out_patient_sheet]).reset_index(drop=True)\n",
    " out_patient_sheet.to_csv(join(out_path, provider_short+'_metadata-patient.tsv'), sep='\\t', index=False)\n",
    " # Patient sample sheet\n",
    " out_ps_sheet = pd.concat([patient_sample_sheet.iloc[0:4, :], out_ps_sheet]).reset_index(drop=True)\n",
    " out_ps_sheet.to_csv(join(out_path, provider_short+'_metadata-patient_sample.tsv'), sep='\\t', index=False)\n",
    "\n",
    "def get_molecular_files(path, out_path, project, provider_short, model_list, data_type):\n",
    " if not exists(join(out_path, data_type)):\n",
    "  os.mkdir(join(out_path, data_type))\n",
    " for model in model_list:\n",
    "  file = join(path, data_type, project+'_'+data_type+'_'+ model +'.tsv')\n",
    "  dest = join(out_path, data_type, provider_short+'_'+data_type+'_'+ model +'.tsv')\n",
    "  try:\n",
    "    shutil.copy(file, dest)\n",
    "  # If source and destination are same\n",
    "  except shutil.SameFileError:\n",
    "     print(\"Source and destination represents the same file.\")\n",
    "  # If there is any permission issue\n",
    "  except PermissionError:\n",
    "     print(\"Permission denied.\")\n",
    "  # For other errors\n",
    "  except:\n",
    "     print(\"Error occurred while copying file: \"+ dest)\n",
    "\n",
    "def get_molecular_data(path, out_path, project, provider_short, model_list):\n",
    " mol_sample_sheet = pd.read_csv(join(path, project +\"_molecular_metadata-sample.tsv\"), sep='\\t')\n",
    " shutil.copy(join(path, project +\"_molecular_metadata-platform.tsv\"), join(out_path, provider_short+'_molecular_metadata-platform.tsv'))\n",
    " shutil.copy(join(path, project +\"_molecular_metadata-platform_web.tsv\"), join(out_path, provider_short+'_molecular_metadata-platform_web.tsv'))\n",
    " out_mol_sample_sheet = mol_sample_sheet[mol_sample_sheet['model_id'].isin(model_list)]\n",
    " model_list = list(out_mol_sample_sheet['model_id'])\n",
    " sample_list = list(out_mol_sample_sheet['sample_id'])\n",
    " out_mol_sample_sheet = pd.concat([mol_sample_sheet.iloc[0:4, :], out_mol_sample_sheet]).reset_index(drop=True)\n",
    " out_mol_sample_sheet.to_csv(join(out_path, provider_short+'_molecular_metadata-sample.tsv'), sep='\\t', index=False)\n",
    "\n",
    " if exists(join(path, 'cna')):\n",
    "  get_molecular_files(path, out_path, project, provider_short, model_list, 'cna')\n",
    " if exists(join(path, 'expression')):\n",
    "  get_molecular_files(path, out_path, project, provider_short, model_list, 'expression')\n",
    "\n",
    " if not exists(join(out_path, 'mut')):\n",
    "  os.mkdir(join(out_path, 'mut'))\n",
    "\n",
    " if exists(join(path, 'mut', project+'_mut.tsv')):\n",
    "  mut = pd.read_csv(join(path, 'mut', project+'_mut.tsv'), sep='\\t')\n",
    "  out_mut = mut[mut['sample_id'].isin(sample_list)]\n",
    "  out_mut.to_csv(join(out_path, 'mut', provider_short+'_mut.tsv'), sep='\\t', index=False)\n",
    " else:\n",
    "  get_molecular_files(path, out_path, project, provider_short, model_list, 'mut')\n",
    " if not exists(join(out_path, 'treatment')):\n",
    "   os.mkdir(join(out_path, 'treatment'))\n",
    "\n",
    " if exists(join(path, 'treatment', project+'_patienttreatment-Sheet1.tsv')):\n",
    "  treatment = pd.read_csv(join(path, 'treatment', project+'_patienttreatment-Sheet1.tsv'), sep='\\t')\n",
    "  out_treatment = treatment[treatment['model_id'].isin(model_list)]\n",
    "  out_treatment.to_csv(join(out_path, 'treatment', provider_short+'_patienttreatment-Sheet1.tsv'), sep='\\t', index=False)\n"
   ],
   "metadata": {
    "collapsed": false
   }
  },
  {
   "cell_type": "markdown",
   "source": [
    "# PIVOT\n"
   ],
   "metadata": {
    "collapsed": false
   }
  },
  {
   "cell_type": "code",
   "execution_count": 3,
   "outputs": [],
   "source": [
    "providers = pd.read_csv(\"/Users/tushar/pdx/pdxfinder-data/data/UPDOG/PIVOT/PIVOT_metadata-sharing.tsv\", sep='\\t', skiprows=[1,2,3,4])\n",
    "provider_name = list(providers.name.unique())\n",
    "\n",
    "provider_contact_abrv = {provider_name[0]: \"CCIA\", provider_name[1]: \"GCCRI\", provider_name[2]: \"CHOP\", provider_name[3]: \"LurieChildrens\", provider_name[4]: \"MDAnderson-CCH\"}\n",
    "\n",
    "provider_contact_dictionary = {provider_name[0]: \"Children’s Cancer Institute\", provider_name[1]: \"Greehey Children’s Cancer Research Institute\",\n",
    " provider_name[2]: \"Children’s Hospital of Philadelphia\", provider_name[3]: \"Ann & Robert H. Lurie Children's Hospital of Chicago\",\n",
    " provider_name[4]: \"The University of Texas MD Anderson Children's Cancer Hospital\"}"
   ],
   "metadata": {
    "collapsed": false
   }
  },
  {
   "cell_type": "code",
   "execution_count": 13,
   "outputs": [
    {
     "name": "stdout",
     "output_type": "stream",
     "text": [
      "Error occurred while copying file: /Users/tushar/pdx/pdxfinder-data/data/UPDOG/CCIA/cna/CCIA_cna_ALL-17.tsv\n",
      "Error occurred while copying file: /Users/tushar/pdx/pdxfinder-data/data/UPDOG/CCIA/expression/CCIA_expression_ALL-17.tsv\n",
      "Error occurred while copying file: /Users/tushar/pdx/pdxfinder-data/data/UPDOG/GCCRI/cna/GCCRI_cna_KT-5.tsv\n",
      "Error occurred while copying file: /Users/tushar/pdx/pdxfinder-data/data/UPDOG/GCCRI/cna/GCCRI_cna_OS-25.tsv\n",
      "Error occurred while copying file: /Users/tushar/pdx/pdxfinder-data/data/UPDOG/GCCRI/cna/GCCRI_cna_OS-36.tsv\n",
      "Error occurred while copying file: /Users/tushar/pdx/pdxfinder-data/data/UPDOG/GCCRI/expression/GCCRI_expression_KT-5.tsv\n",
      "Error occurred while copying file: /Users/tushar/pdx/pdxfinder-data/data/UPDOG/GCCRI/expression/GCCRI_expression_OS-25.tsv\n",
      "Error occurred while copying file: /Users/tushar/pdx/pdxfinder-data/data/UPDOG/GCCRI/expression/GCCRI_expression_OS-36.tsv\n",
      "Error occurred while copying file: /Users/tushar/pdx/pdxfinder-data/data/UPDOG/LurieChildrens/cna/LurieChildrens_cna_IC-3704GBM.tsv\n",
      "Error occurred while copying file: /Users/tushar/pdx/pdxfinder-data/data/UPDOG/LurieChildrens/cna/LurieChildrens_cna_ICb-1338MB.tsv\n",
      "Error occurred while copying file: /Users/tushar/pdx/pdxfinder-data/data/UPDOG/LurieChildrens/cna/LurieChildrens_cna_ICb-2123MB.tsv\n",
      "Error occurred while copying file: /Users/tushar/pdx/pdxfinder-data/data/UPDOG/LurieChildrens/cna/LurieChildrens_cna_ICb-S1129MB.tsv\n",
      "Error occurred while copying file: /Users/tushar/pdx/pdxfinder-data/data/UPDOG/LurieChildrens/expression/LurieChildrens_expression_IC-3704GBM.tsv\n",
      "Error occurred while copying file: /Users/tushar/pdx/pdxfinder-data/data/UPDOG/LurieChildrens/expression/LurieChildrens_expression_ICb-1338MB.tsv\n",
      "Error occurred while copying file: /Users/tushar/pdx/pdxfinder-data/data/UPDOG/LurieChildrens/expression/LurieChildrens_expression_ICb-2123MB.tsv\n",
      "Error occurred while copying file: /Users/tushar/pdx/pdxfinder-data/data/UPDOG/LurieChildrens/expression/LurieChildrens_expression_ICb-S1129MB.tsv\n"
     ]
    }
   ],
   "source": [
    "for provider in provider_name:\n",
    " provider_dir = join(out_path, provider_contact_abrv[provider])\n",
    " if not exists(provider_dir):\n",
    "  os.mkdir(provider_dir)\n",
    " model_ids = list(providers[providers['name'] == provider]['model_id'])\n",
    " # PDX models sheet\n",
    " pdx_path = join(out_path, \"PIVOT/PIVOT_metadata-pdx_model.tsv\")\n",
    " get_models(pdx_path, model_ids).to_csv(join(provider_dir, provider_contact_abrv[provider]+'_metadata-pdx_model.tsv'), sep='\\t', index=False)\n",
    " # Model validation sheet\n",
    " model_val_path = join(out_path, \"PIVOT/PIVOT_metadata-model_validation.tsv\")\n",
    " get_models(model_val_path, model_ids).to_csv(join(provider_dir, provider_contact_abrv[provider]+'_metadata-model_validation.tsv'), sep='\\t', index=False)\n",
    " # Sharing sheet\n",
    " sharing_sheet_path = join(out_path, \"PIVOT/PIVOT_metadata-sharing.tsv\")\n",
    " get_models(sharing_sheet_path, model_ids).to_csv(join(provider_dir, provider_contact_abrv[provider]+'_metadata-sharing.tsv'), sep='\\t', index=False)\n",
    " # Patient and patient sample sheet\n",
    " patient_sheet_path = join(out_path, \"PIVOT/PIVOT_metadata-patient.tsv\")\n",
    " patient_sample_sheet_path = join(out_path, \"PIVOT/PIVOT_metadata-patient_sample.tsv\")\n",
    " get_patients(patient_sheet_path, patient_sample_sheet_path, provider_dir, provider_contact_abrv[provider], model_ids)\n",
    " # Molecular data\n",
    " get_molecular_data(join(out_path, \"PIVOT\"), provider_dir, 'PIVOT', provider_contact_abrv[provider],  model_ids)"
   ],
   "metadata": {
    "collapsed": false
   }
  },
  {
   "cell_type": "code",
   "execution_count": null,
   "outputs": [],
   "source": [],
   "metadata": {
    "collapsed": false
   }
  },
  {
   "cell_type": "markdown",
   "source": [
    "# HCMI"
   ],
   "metadata": {
    "collapsed": false
   }
  },
  {
   "cell_type": "code",
   "execution_count": 14,
   "outputs": [
    {
     "data": {
      "text/plain": "['BROD', 'CSHL', 'SANG']"
     },
     "execution_count": 14,
     "metadata": {},
     "output_type": "execute_result"
    }
   ],
   "source": [
    "providers = pd.read_csv(\"/Users/tushar/pdx/pdxfinder-data/data/UPDOG/HCMI/HCMI_metadata-sharing.tsv\", sep='\\t', skiprows=[1,2,3,4])\n",
    "provider_abrv = list(set([x[1] for x in providers.model_id.str.split('-')]))\n",
    "provider_abrv\n",
    "# CSHL: Cold Spring Harbor Laboratory\n",
    "# BROD: Broad Institute of MIT and Harvard\n",
    "# SANG: Wellcome Sanger Institute"
   ],
   "metadata": {
    "collapsed": false
   }
  },
  {
   "cell_type": "code",
   "execution_count": 19,
   "outputs": [],
   "source": [
    "for source in provider_abrv:\n",
    " model_ids = list(providers.model_id[providers.model_id.str.contains('-'+source+'-')])\n",
    "\n",
    " provider_dir = join(out_path, source)\n",
    " if not exists(provider_dir):\n",
    "  os.mkdir(provider_dir)\n",
    " # cell models sheet\n",
    " pdx_path = join(out_path, \"HCMI/HCMI_metadata-cell_model.tsv\")\n",
    " get_models(pdx_path, model_ids).to_csv(join(provider_dir, source+'_metadata-cell_model.tsv'), sep='\\t', index=False)\n",
    " # Model validation sheet\n",
    " model_val_path = join(out_path, \"HCMI/HCMI_metadata-model_validation.tsv\")\n",
    " get_models(model_val_path, model_ids).to_csv(join(provider_dir, source+'_metadata-model_validation.tsv'), sep='\\t', index=False)\n",
    " # Sharing sheet\n",
    " sharing_sheet_path = join(out_path, \"HCMI/HCMI_metadata-sharing.tsv\")\n",
    " get_models(sharing_sheet_path, model_ids).to_csv(join(provider_dir, source+'_metadata-sharing.tsv'), sep='\\t', index=False)\n",
    " # Patient and patient sample sheet\n",
    " patient_sheet_path = join(out_path, \"HCMI/HCMI_metadata-patient.tsv\")\n",
    " patient_sample_sheet_path = join(out_path, \"HCMI/HCMI_metadata-patient_sample.tsv\")\n",
    " get_patients(patient_sheet_path, patient_sample_sheet_path, provider_dir, source, model_ids)\n",
    "# Molecular data\n",
    " get_molecular_data(join(out_path, \"HCMI\"), provider_dir, 'HCMI', source,  model_ids)"
   ],
   "metadata": {
    "collapsed": false
   }
  },
  {
   "cell_type": "code",
   "execution_count": null,
   "outputs": [],
   "source": [],
   "metadata": {
    "collapsed": false
   }
  }
 ],
 "metadata": {
  "kernelspec": {
   "display_name": "Python 3",
   "language": "python",
   "name": "python3"
  },
  "language_info": {
   "codemirror_mode": {
    "name": "ipython",
    "version": 2
   },
   "file_extension": ".py",
   "mimetype": "text/x-python",
   "name": "python",
   "nbconvert_exporter": "python",
   "pygments_lexer": "ipython2",
   "version": "2.7.6"
  }
 },
 "nbformat": 4,
 "nbformat_minor": 0
}
