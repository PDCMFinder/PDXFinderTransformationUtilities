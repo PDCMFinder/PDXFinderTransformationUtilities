{
 "cells": [
  {
   "cell_type": "markdown",
   "metadata": {
    "collapsed": false
   },
   "source": [
    "### Package imports"
   ]
  },
  {
   "cell_type": "code",
   "execution_count": 3,
   "metadata": {
    "collapsed": false,
    "ExecuteTime": {
     "end_time": "2023-08-24T16:08:48.494796Z",
     "start_time": "2023-08-24T16:08:45.242027Z"
    }
   },
   "outputs": [],
   "source": [
    "from os import listdir, getcwd, rename, makedirs\n",
    "from os.path import isfile, join, isdir, exists\n",
    "import pandas as pd\n",
    "import logging\n",
    "from PIL import Image\n",
    "from tqdm import tqdm"
   ]
  },
  {
   "cell_type": "markdown",
   "metadata": {
    "collapsed": false
   },
   "source": [
    "### Common functions"
   ]
  },
  {
   "cell_type": "code",
   "execution_count": 4,
   "metadata": {
    "collapsed": false,
    "ExecuteTime": {
     "end_time": "2023-08-24T16:08:49.271128Z",
     "start_time": "2023-08-24T16:08:49.251262Z"
    }
   },
   "outputs": [],
   "source": [
    "def get_dirs(path):\n",
    "    return [f for f in listdir(path) if isdir(join(path, f))]\n",
    "\n",
    "def get_files(path):\n",
    "    return [f for f in listdir(path) if isfile(join(path, f))]\n",
    "\n",
    "def read_metadata_without_fields(path):\n",
    "    metadata = pd.read_csv(path, sep='\\t', na_values=\"\", low_memory=False)\n",
    "    if 'Field' in metadata.columns:\n",
    "        metadata = metadata.loc[metadata.Field.str.startswith('#') != True,].reset_index(drop=True)\n",
    "        metadata = metadata.drop('Field', axis=1)\n",
    "    return metadata\n",
    "\n",
    "def read_metadata_with_fields(path):\n",
    "    metadata = pd.read_csv(path, sep='\\t', na_values=\"\", low_memory=False)\n",
    "    return metadata\n",
    "\n",
    "\n",
    "def sort_case_insensitive(sort_list):\n",
    "    return sorted(sort_list, key=str.casefold)\n"
   ]
  },
  {
   "cell_type": "markdown",
   "metadata": {
    "collapsed": false
   },
   "source": [
    "### Common env"
   ]
  },
  {
   "cell_type": "code",
   "execution_count": 5,
   "metadata": {
    "collapsed": false,
    "ExecuteTime": {
     "end_time": "2023-08-24T16:08:50.449191Z",
     "start_time": "2023-08-24T16:08:50.435695Z"
    }
   },
   "outputs": [],
   "source": [
    "start_dir = getcwd()\n",
    "home = \"/Users/tushar/CancerModels/pdxfinder-data/data/UPDOG/\""
   ]
  },
  {
   "cell_type": "markdown",
   "source": [
    "## Generate XLSX"
   ],
   "metadata": {
    "collapsed": false
   }
  },
  {
   "cell_type": "code",
   "execution_count": 6,
   "outputs": [],
   "source": [
    "def generate_xlsx(path, provider):\n",
    "    file_list = get_files(path)\n",
    "    new_path = path.replace('/Users/tushar/CancerModels/pdxfinder-data/data/UPDOG/', '/Users/tushar/CancerModels/pdxfinder-data/data/data-submission/')\n",
    "    if not exists(new_path):\n",
    "        makedirs(new_path)\n",
    "    files_to_extract = [f for f in file_list if f.endswith('.tsv') and f.__contains__(provider+'_metadata-')]\n",
    "    if len(files_to_extract)>0:\n",
    "        print(\"writing excel for: \"+ provider)\n",
    "        with pd.ExcelWriter(join(new_path, provider+\"_metadata.xlsx\")) as writer:\n",
    "            for f in files_to_extract:\n",
    "                metadata = read_metadata_with_fields(join(path, f))\n",
    "                sheetname = f.replace(provider+\"_metadata-\", \"\").replace(\".tsv\", \"\")\n",
    "                metadata.to_excel(writer, sheet_name=sheetname, index=False)\n",
    "                print(\"\\tSheet added: \" + f)\n",
    "    else:\n",
    "        print(\"No .xlsx file found.\")"
   ],
   "metadata": {
    "collapsed": false,
    "ExecuteTime": {
     "end_time": "2023-08-07T15:44:54.256106Z",
     "start_time": "2023-08-07T15:44:54.246527Z"
    }
   }
  },
  {
   "cell_type": "code",
   "execution_count": 7,
   "outputs": [
    {
     "name": "stdout",
     "output_type": "stream",
     "text": [
      "writing excel for: BROD\n",
      "\tSheet added: BROD_metadata-patient_sample.tsv\n",
      "\tSheet added: BROD_metadata-model_validation.tsv\n",
      "\tSheet added: BROD_metadata-cell_model.tsv\n",
      "\tSheet added: BROD_metadata-patient.tsv\n",
      "\tSheet added: BROD_metadata-sharing.tsv\n",
      "writing excel for: CCIA\n",
      "\tSheet added: CCIA_metadata-model_validation.tsv\n",
      "\tSheet added: CCIA_metadata-pdx_model.tsv\n",
      "\tSheet added: CCIA_metadata-patient_sample.tsv\n",
      "\tSheet added: CCIA_metadata-sharing.tsv\n",
      "\tSheet added: CCIA_metadata-patient.tsv\n",
      "writing excel for: CHOP\n",
      "\tSheet added: CHOP_metadata-patient_sample.tsv\n",
      "\tSheet added: CHOP_metadata-pdx_model.tsv\n",
      "\tSheet added: CHOP_metadata-model_validation.tsv\n",
      "\tSheet added: CHOP_metadata-sharing.tsv\n",
      "\tSheet added: CHOP_metadata-patient.tsv\n",
      "writing excel for: CMP\n",
      "\tSheet added: CMP_metadata-patient_sample.tsv\n",
      "\tSheet added: CMP_metadata-sharing.tsv\n",
      "\tSheet added: CMP_metadata-patient.tsv\n",
      "\tSheet added: CMP_metadata-model_validation.tsv\n",
      "\tSheet added: CMP_metadata-cell_model.tsv\n",
      "writing excel for: CRL\n",
      "\tSheet added: CRL_metadata-model_validation.tsv\n",
      "\tSheet added: CRL_metadata-patient_sample.tsv\n",
      "\tSheet added: CRL_metadata-sharing.tsv\n",
      "\tSheet added: CRL_metadata-patient.tsv\n",
      "\tSheet added: CRL_metadata-pdx_model.tsv\n",
      "writing excel for: CSHL\n",
      "\tSheet added: CSHL_metadata-patient.tsv\n",
      "\tSheet added: CSHL_metadata-sharing.tsv\n",
      "\tSheet added: CSHL_metadata-patient_sample.tsv\n",
      "\tSheet added: CSHL_metadata-model_validation.tsv\n",
      "\tSheet added: CSHL_metadata-cell_model.tsv\n",
      "writing excel for: Curie-BC\n",
      "\tSheet added: Curie-BC_metadata-pdx_model.tsv\n",
      "\tSheet added: Curie-BC_metadata-model_validation.tsv\n",
      "\tSheet added: Curie-BC_metadata-patient.tsv\n",
      "\tSheet added: Curie-BC_metadata-sharing.tsv\n",
      "\tSheet added: Curie-BC_metadata-patient_sample.tsv\n",
      "writing excel for: Curie-LC\n",
      "\tSheet added: Curie-LC_metadata-sharing.tsv\n",
      "\tSheet added: Curie-LC_metadata-patient.tsv\n",
      "\tSheet added: Curie-LC_metadata-model_validation.tsv\n",
      "\tSheet added: Curie-LC_metadata-pdx_model.tsv\n",
      "\tSheet added: Curie-LC_metadata-patient_sample.tsv\n",
      "writing excel for: Curie-OC\n",
      "\tSheet added: Curie-OC_metadata-model_validation.tsv\n",
      "\tSheet added: Curie-OC_metadata-pdx_model.tsv\n",
      "\tSheet added: Curie-OC_metadata-patient_sample.tsv\n",
      "\tSheet added: Curie-OC_metadata-patient.tsv\n",
      "\tSheet added: Curie-OC_metadata-sharing.tsv\n",
      "writing excel for: DFCI-CPDM\n",
      "\tSheet added: DFCI-CPDM_metadata-pdx_model.tsv\n",
      "\tSheet added: DFCI-CPDM_metadata-patient.tsv\n",
      "\tSheet added: DFCI-CPDM_metadata-sharing.tsv\n",
      "\tSheet added: DFCI-CPDM_metadata-patient_sample.tsv\n",
      "\tSheet added: DFCI-CPDM_metadata-model_validation.tsv\n",
      "writing excel for: GCCRI\n",
      "\tSheet added: GCCRI_metadata-pdx_model.tsv\n",
      "\tSheet added: GCCRI_metadata-patient.tsv\n",
      "\tSheet added: GCCRI_metadata-sharing.tsv\n",
      "\tSheet added: GCCRI_metadata-patient_sample.tsv\n",
      "\tSheet added: GCCRI_metadata-model_validation.tsv\n",
      "writing excel for: HCI-BCM\n",
      "\tSheet added: HCI-BCM_metadata-model_validation.tsv\n",
      "\tSheet added: HCI-BCM_metadata-patient_sample.tsv\n",
      "\tSheet added: HCI-BCM_metadata-pdx_model.tsv\n",
      "\tSheet added: HCI-BCM_metadata-patient.tsv\n",
      "\tSheet added: HCI-BCM_metadata-sharing.tsv\n",
      "writing excel for: IRCC-CRC\n",
      "\tSheet added: IRCC-CRC_metadata-model_validation.tsv\n",
      "\tSheet added: IRCC-CRC_metadata-sharing.tsv\n",
      "\tSheet added: IRCC-CRC_metadata-patient.tsv\n",
      "\tSheet added: IRCC-CRC_metadata-patient_sample.tsv\n",
      "\tSheet added: IRCC-CRC_metadata-pdx_model.tsv\n",
      "writing excel for: IRCC-GC\n",
      "\tSheet added: IRCC-GC_metadata-patient_sample.tsv\n",
      "\tSheet added: IRCC-GC_metadata-model_validation.tsv\n",
      "\tSheet added: IRCC-GC_metadata-patient.tsv\n",
      "\tSheet added: IRCC-GC_metadata-sharing.tsv\n",
      "\tSheet added: IRCC-GC_metadata-pdx_model.tsv\n",
      "writing excel for: JAX\n",
      "\tSheet added: JAX_metadata-model_validation.tsv\n",
      "\tSheet added: JAX_metadata-patient_sample.tsv\n",
      "\tSheet added: JAX_metadata-patient.tsv\n",
      "\tSheet added: JAX_metadata-pdx_model.tsv\n",
      "\tSheet added: JAX_metadata-sharing.tsv\n",
      "writing excel for: LIH\n",
      "\tSheet added: LIH_metadata-model_validation.tsv\n",
      "\tSheet added: LIH_metadata-patient_sample.tsv\n",
      "\tSheet added: LIH_metadata-sharing.tsv\n",
      "\tSheet added: LIH_metadata-patient.tsv\n",
      "\tSheet added: LIH_metadata-pdx_model.tsv\n",
      "writing excel for: LurieChildrens\n",
      "\tSheet added: LurieChildrens_metadata-sharing.tsv\n",
      "\tSheet added: LurieChildrens_metadata-patient.tsv\n",
      "\tSheet added: LurieChildrens_metadata-pdx_model.tsv\n",
      "\tSheet added: LurieChildrens_metadata-patient_sample.tsv\n",
      "\tSheet added: LurieChildrens_metadata-model_validation.tsv\n",
      "writing excel for: MDAnderson\n",
      "\tSheet added: MDAnderson_metadata-pdx_model.tsv\n",
      "\tSheet added: MDAnderson_metadata-model_validation.tsv\n",
      "\tSheet added: MDAnderson_metadata-patient.tsv\n",
      "\tSheet added: MDAnderson_metadata-sharing.tsv\n",
      "\tSheet added: MDAnderson_metadata-patient_sample.tsv\n",
      "writing excel for: MDAnderson-CCH\n",
      "\tSheet added: MDAnderson-CCH_metadata-model_validation.tsv\n",
      "\tSheet added: MDAnderson-CCH_metadata-pdx_model.tsv\n",
      "\tSheet added: MDAnderson-CCH_metadata-sharing.tsv\n",
      "\tSheet added: MDAnderson-CCH_metadata-patient.tsv\n",
      "\tSheet added: MDAnderson-CCH_metadata-patient_sample.tsv\n",
      "writing excel for: NKI\n",
      "\tSheet added: NKI_metadata-model_validation.tsv\n",
      "\tSheet added: NKI_metadata-pdx_model.tsv\n",
      "\tSheet added: NKI_metadata-patient_sample.tsv\n",
      "\tSheet added: NKI_metadata-sharing.tsv\n",
      "\tSheet added: NKI_metadata-patient.tsv\n",
      "writing excel for: PDMR\n",
      "\tSheet added: PDMR_metadata-model_validation.tsv\n",
      "\tSheet added: PDMR_metadata-pdx_model.tsv\n",
      "\tSheet added: PDMR_metadata-cell_model.tsv\n",
      "\tSheet added: PDMR_metadata-patient_sample.tsv\n",
      "\tSheet added: PDMR_metadata-sharing.tsv\n",
      "\tSheet added: PDMR_metadata-patient.tsv\n",
      "writing excel for: PMLB\n",
      "\tSheet added: PMLB_metadata-sharing.tsv\n",
      "\tSheet added: PMLB_metadata-patient.tsv\n",
      "\tSheet added: PMLB_metadata-pdx_model.tsv\n",
      "\tSheet added: PMLB_metadata-model_validation.tsv\n",
      "\tSheet added: PMLB_metadata-patient_sample.tsv\n",
      "writing excel for: SANG\n",
      "\tSheet added: SANG_metadata-patient.tsv\n",
      "\tSheet added: SANG_metadata-sharing.tsv\n",
      "\tSheet added: SANG_metadata-patient_sample.tsv\n",
      "\tSheet added: SANG_metadata-cell_model.tsv\n",
      "\tSheet added: SANG_metadata-model_validation.tsv\n",
      "writing excel for: SJCRH\n",
      "\tSheet added: SJCRH_metadata-pdx_model.tsv\n",
      "\tSheet added: SJCRH_metadata-patient_sample.tsv\n",
      "\tSheet added: SJCRH_metadata-model_validation.tsv\n",
      "\tSheet added: SJCRH_metadata-patient.tsv\n",
      "\tSheet added: SJCRH_metadata-sharing.tsv\n",
      "writing excel for: TRACE\n",
      "\tSheet added: TRACE_metadata-patient.tsv\n",
      "\tSheet added: TRACE_metadata-sharing.tsv\n",
      "\tSheet added: TRACE_metadata-model_validation.tsv\n",
      "\tSheet added: TRACE_metadata-patient_sample.tsv\n",
      "\tSheet added: TRACE_metadata-pdx_model.tsv\n",
      "writing excel for: UCD\n",
      "\tSheet added: UCD_metadata-pdx_model.tsv\n",
      "\tSheet added: UCD_metadata-patient_sample.tsv\n",
      "\tSheet added: UCD_metadata-model_validation.tsv\n",
      "\tSheet added: UCD_metadata-sharing.tsv\n",
      "\tSheet added: UCD_metadata-patient.tsv\n",
      "writing excel for: UMCG\n",
      "\tSheet added: UMCG_metadata-pdx_model.tsv\n",
      "\tSheet added: UMCG_metadata-sharing.tsv\n",
      "\tSheet added: UMCG_metadata-patient.tsv\n",
      "\tSheet added: UMCG_metadata-model_validation.tsv\n",
      "\tSheet added: UMCG_metadata-patient_sample.tsv\n",
      "writing excel for: UOC-BC\n",
      "\tSheet added: UOC-BC_metadata-model_validation.tsv\n",
      "\tSheet added: UOC-BC_metadata-patient.tsv\n",
      "\tSheet added: UOC-BC_metadata-sharing.tsv\n",
      "\tSheet added: UOC-BC_metadata-patient_sample.tsv\n",
      "\tSheet added: UOC-BC_metadata-pdx_model.tsv\n",
      "writing excel for: UOM-BC\n",
      "\tSheet added: UOM-BC_metadata-pdx_model.tsv\n",
      "\tSheet added: UOM-BC_metadata-model_validation.tsv\n",
      "\tSheet added: UOM-BC_metadata-patient_sample.tsv\n",
      "\tSheet added: UOM-BC_metadata-patient.tsv\n",
      "\tSheet added: UOM-BC_metadata-sharing.tsv\n",
      "writing excel for: VHIO-BC\n",
      "\tSheet added: VHIO-BC_metadata-model_validation.tsv\n",
      "\tSheet added: VHIO-BC_metadata-pdx_model.tsv\n",
      "\tSheet added: VHIO-BC_metadata-patient_sample.tsv\n",
      "\tSheet added: VHIO-BC_metadata-patient.tsv\n",
      "\tSheet added: VHIO-BC_metadata-sharing.tsv\n",
      "writing excel for: VHIO-CRC\n",
      "\tSheet added: VHIO-CRC_metadata-pdx_model.tsv\n",
      "\tSheet added: VHIO-CRC_metadata-model_validation.tsv\n",
      "\tSheet added: VHIO-CRC_metadata-patient_sample.tsv\n",
      "\tSheet added: VHIO-CRC_metadata-patient.tsv\n",
      "\tSheet added: VHIO-CRC_metadata-sharing.tsv\n",
      "writing excel for: VHIO-PC\n",
      "\tSheet added: VHIO-PC_metadata-patient.tsv\n",
      "\tSheet added: VHIO-PC_metadata-sharing.tsv\n",
      "\tSheet added: VHIO-PC_metadata-pdx_model.tsv\n",
      "\tSheet added: VHIO-PC_metadata-patient_sample.tsv\n",
      "\tSheet added: VHIO-PC_metadata-model_validation.tsv\n",
      "writing excel for: WUSTL\n",
      "\tSheet added: WUSTL_metadata-patient_sample.tsv\n",
      "\tSheet added: WUSTL_metadata-patient.tsv\n",
      "\tSheet added: WUSTL_metadata-sharing.tsv\n",
      "\tSheet added: WUSTL_metadata-pdx_model.tsv\n",
      "\tSheet added: WUSTL_metadata-model_validation.tsv\n",
      "writing excel for: Wistar-MDAnderson-Penn\n",
      "\tSheet added: Wistar-MDAnderson-Penn_metadata-pdx_model.tsv\n",
      "\tSheet added: Wistar-MDAnderson-Penn_metadata-patient.tsv\n",
      "\tSheet added: Wistar-MDAnderson-Penn_metadata-sharing.tsv\n",
      "\tSheet added: Wistar-MDAnderson-Penn_metadata-patient_sample.tsv\n",
      "\tSheet added: Wistar-MDAnderson-Penn_metadata-model_validation.tsv\n"
     ]
    }
   ],
   "source": [
    "for provider in sorted(get_dirs(home)): ## get_dirs will get the provider dirs in updog\n",
    "    #print(\"Working on provider: \"+provider)\n",
    "    generate_xlsx(join(home, provider), provider) ## File rename: pdx_models to pdx_model using the provider path"
   ],
   "metadata": {
    "collapsed": false,
    "ExecuteTime": {
     "end_time": "2023-08-07T15:45:11.821992Z",
     "start_time": "2023-08-07T15:44:54.648733Z"
    }
   }
  },
  {
   "cell_type": "code",
   "execution_count": null,
   "outputs": [],
   "source": [],
   "metadata": {
    "collapsed": false
   }
  },
  {
   "cell_type": "markdown",
   "metadata": {
    "collapsed": false
   },
   "source": [
    "## Collection site typo\n"
   ]
  },
  {
   "cell_type": "code",
   "execution_count": 24,
   "metadata": {
    "collapsed": false,
    "ExecuteTime": {
     "end_time": "2023-07-28T10:34:31.784469Z",
     "start_time": "2023-07-28T10:34:31.748925Z"
    }
   },
   "outputs": [],
   "source": [
    "def get_collection_site(path, provider, cs_df):\n",
    "    file_list = get_files(path)\n",
    "    files_to_extract = [f for f in file_list if f.endswith('_metadata-patient_sample.tsv')]\n",
    "    if len(files_to_extract)>0:\n",
    "        #print(\"Reading Patient sample for: \"+ provider)\n",
    "        for f in files_to_extract:\n",
    "            metadata = read_metadata_without_fields(join(path, f))\n",
    "            metadata['provider'] = provider\n",
    "            cs_df = pd.concat([cs_df, metadata[['collection_site', 'provider']]]).reset_index(drop=True)\n",
    "    else:\n",
    "        print(\"No file found.\")\n",
    "    return cs_df"
   ]
  },
  {
   "cell_type": "code",
   "execution_count": 58,
   "metadata": {
    "collapsed": false,
    "ExecuteTime": {
     "end_time": "2023-07-28T12:12:49.698244Z",
     "start_time": "2023-07-28T12:12:49.340528Z"
    }
   },
   "outputs": [],
   "source": [
    "PS_collection_site = pd.DataFrame()\n",
    "for provider in sorted(get_dirs(home)): ## get_dirs will get the provider dirs in updog\n",
    "    PS_collection_site = get_collection_site(join(home, provider), provider, PS_collection_site) ## File rename: pdx_models to pdx_model using the provider path\n",
    "Unique_CS = PS_collection_site.sort_values(by=['collection_site'], key=lambda col: col.str.lower()).drop_duplicates(subset=['provider', 'collection_site'], keep='first').reset_index(drop=True)"
   ]
  },
  {
   "cell_type": "code",
   "execution_count": 59,
   "outputs": [
    {
     "data": {
      "text/plain": "['4th ventricle',\n 'Abdomen',\n 'Abdomen Ascites',\n 'Abdominal',\n 'Abdominal Cavity',\n 'Abdominal Mass',\n 'Abdominal Wall',\n 'Abdominopelvic Cavity',\n 'Adrenal',\n 'Adrenal Cortex',\n 'Adrenal Gland',\n 'Adrenal Mass',\n 'Adrenal Resection',\n 'Adrenal Tissue',\n 'Alveolus',\n 'Ampulla',\n 'Ampulla of Vater',\n 'Anal',\n 'Anus',\n 'Aortocaval',\n 'Arm',\n 'Ascending Colon',\n 'Ascites',\n 'Ascites fluid',\n 'Axilla',\n 'Axillary Lymph Node',\n 'Back',\n 'Back Mass',\n 'Back soft tissue',\n 'Base Of Tongue',\n 'Bilateral',\n 'Bile Duct',\n 'Biliary Tract',\n 'Bladder',\n 'Bladder Dome',\n 'Blood',\n 'Bone',\n 'Bone (Left Proximal Humerus)',\n 'Bone (right humerus)',\n 'Bone Marrow',\n 'Bowel',\n 'Brachial Muscle',\n 'Brain',\n 'Brain (Right Cerebellum, Right Parietal)',\n 'Brain Stem',\n 'Breast',\n 'Bronchus',\n 'Buccal Mucosa',\n 'Buttock',\n 'Caecum',\n 'Calf',\n 'Cecum',\n 'Cerebellar Tentorium',\n 'Cerebellum',\n 'Cerebral hemisphere',\n 'Cerebrospinal fluid ',\n 'Cerebrum',\n 'Cervical endometrium',\n 'Cervical Lymph Node',\n 'Cervical lymph node',\n 'Cervical node',\n 'Cervical oesophagus',\n 'Cervix',\n 'Chest',\n 'Chest Mass',\n 'Chest wall',\n 'Chest Wall',\n 'Chest Wall/Subcutaneous Mass Ribs 3-6',\n 'Clivus',\n 'CNS',\n 'Colon',\n 'Colon NOS',\n 'Colon, Sigmoid',\n 'Common Bile Duct',\n 'Common duct node',\n 'Connective Tissue',\n 'Descending Colon',\n 'Diaphragm',\n 'Digestive/Gastrointestinal',\n 'Distal Esophagus (Lower Thoracic Esophagus)',\n 'Distal Esophagus And Proximal Stomach',\n 'Distal femur',\n 'Distal pancreas/spleen',\n 'Distal Transverse Colon',\n 'Duodenum',\n 'Endometrium',\n 'Erythroleukemia blasts',\n 'Eso-Intrathorasic Lymph Node',\n 'Esophagastric Junction',\n 'Esophageal',\n 'Esophageal Lymph Node',\n 'Esophagus',\n 'Esophagus - distal third',\n 'Esophagus / Lung',\n 'Esophagus Supraclavicular Lymph Node',\n 'Extrahepatic bile duct',\n 'Eye',\n 'Eye ',\n 'Femalelank Mass',\n 'Femur',\n 'Femur ',\n 'Floor Of Mouth',\n 'Frontal Brain lobe',\n 'Frontal Cortex',\n 'Frontal Lobe',\n 'Gall Bladder',\n 'Gastric',\n 'gastric fundus',\n 'Gastric Peritoneal Noule',\n 'Gastro-oesophageal junction (cardia)',\n 'Gastroesophageal Junction',\n 'Gastroesophageal Junction ',\n 'Genitourinary',\n 'Glottis',\n 'Groin lymph node',\n 'Hard Palate',\n 'HCI-032 PDX',\n 'HCI-040 PDX',\n 'Head',\n 'Hepatic Duct Bifurcation',\n 'Hepatic Flexure of Colon',\n 'Hollow Bone',\n 'Humerus',\n 'Humerus ',\n 'Hypopharynx',\n 'Ileocecal Valve',\n 'Ileum',\n 'Iliac Node (Groin)',\n 'Ilium',\n 'Inferior leg ',\n 'Infratemporal fossa',\n 'Inguinal Lymph Node',\n 'Inguinal Mass',\n 'Innominate Bone',\n 'Intracranial',\n 'Intrahepatic Duct',\n 'intraperitoneal cavity',\n 'Jaw',\n 'Jejunum/Ilium',\n 'Kidney',\n 'Kidney  ',\n 'Larynx',\n 'Larynx (Glottic)',\n 'Larynx (Subglottic)',\n 'Left Breast',\n 'Left Colon',\n 'Left Distal Femur',\n 'Left Femur',\n 'Left Kidney',\n 'Left Knee',\n 'Left Leg',\n 'Left Lower Lobe Lung',\n 'Left Lower Lung Lobe',\n 'Left Lung',\n 'Left Occipital mass',\n 'Left parieto-occipital lobe',\n 'Left Posterior Shoulder',\n 'Left Proximal Tibia',\n 'Left supraclavicular lymph node',\n 'Left supraclavicular region',\n 'Left Temple',\n 'Left temporal lobe',\n 'Left thigh',\n 'Left Upper And Lower Lobe Lung',\n 'Left Upper Lobe Lung',\n 'Left Upper Lobe Lung Invasive Into Bronchus And Lower Lobe',\n 'Left ureter',\n 'Left Vulva',\n 'Leg',\n 'Leukapheresis',\n 'Liver',\n 'Liver ',\n 'Liver & Lung',\n 'Liver metastasis',\n 'Liver, Left Lobe',\n 'Local Lymph Node',\n 'Lower Alveolus And Gingiva',\n 'Lower Back',\n 'Lower Extremity',\n 'Lower Gingiva',\n 'Lower intrathoracic oesophagus',\n 'Lower Left Lobe Lung',\n 'Lower Lobe, Lung',\n 'Lower right lung lobe',\n 'Lung',\n 'Lung ',\n 'Lung Lymph Node',\n 'Lung mass',\n 'Lung metastasis',\n 'lung metastasis',\n 'Lung/pleura',\n 'Lymph Node',\n 'Lymph Node ',\n 'Lymphatic system',\n 'Mammary gland',\n 'Mammary Gland',\n 'Mammary gland/duct',\n 'Maxilla',\n 'Mediastinal Lymph Node',\n 'Mediastinum',\n 'Mesenteric Lymph Node',\n 'Mesenterium',\n 'Middle intrathoracic oesophagus',\n 'Middle Lobe, Lung',\n 'Mouth',\n 'Mouth floor',\n 'Mouth Floor',\n 'Muscle',\n 'Neck',\n 'Neck ',\n 'Neck Mass',\n 'Neck of the urinary bladder',\n 'NET / Axillary Lymph Node',\n 'Neural',\n 'Not collected',\n 'Not Collected',\n 'Not Provided',\n 'Not provided',\n 'Not reported',\n 'Occipital Lobe',\n 'Oesophagus',\n 'Omentum',\n 'Oral Alveolus',\n 'Oral Cavity',\n 'Oral floor',\n 'Oral, gingiva',\n 'Orbit',\n 'Orbit ',\n 'Oropharynx',\n 'Os frontalis',\n 'Other',\n 'Ovary',\n 'Pancreas',\n 'Pancreas ',\n 'Pancreatic body',\n 'Pancreatic duct',\n 'Pancreatic head',\n 'Pancreatic NET & Liver',\n 'Pancreatic tail',\n 'Paracaval Lymph Node',\n 'Paracentesis',\n 'Paragastric Lymph Node',\n 'Parapharyngeal',\n 'Pararenal lymph node',\n 'Paraspinal mass',\n 'Paraspinal mass ',\n 'Paraspinal mass resection',\n 'Paratesticular',\n 'Parathyroid / Neck',\n 'Paratracheal Lymph Node',\n 'Parietal Lobe',\n 'Pelvic',\n 'Pelvic Mass',\n 'Pelvis',\n 'Peri-Rectal Mass',\n 'Pericardial Effusion',\n 'Pericardial fluid',\n 'Pericardium',\n 'Perineum',\n 'Peripheral Blood',\n 'Peripheral Fluid',\n 'Peritoneal',\n 'Peritoneal & Ascites',\n 'Peritoneal Ascites',\n 'Peritoneal ascitic fluid ',\n 'Peritoneal Cavity',\n 'Peritoneal cavity',\n 'Peritoneal Effusion',\n 'Peritoneal Fluid',\n 'Peritoneal mass',\n 'Peritoneum',\n 'Peritracheal ',\n 'Pharynx',\n 'Pineal',\n 'Placenta',\n 'Pleura',\n 'Pleural cavity',\n 'Pleural Cavity',\n 'Pleural Effusion',\n 'Pleural effusion',\n 'Pleural Effusion fluid',\n 'Pleural Fluid',\n 'Pleural fluid',\n 'Pontine meninges ',\n 'Post Mortem Blood',\n 'Post Mortem Liver ',\n 'Post-Cricoid',\n 'Posterior Fossa',\n 'Posterior mediastinum',\n 'Primary Colon',\n 'Primary Colon & Liver',\n 'Primary Colon L',\n 'Primary Colon R',\n 'Primary Colon Recto-Sigmoid',\n 'Primary Colon Sigmoid',\n 'Primary Tumour',\n 'Prostate',\n 'Prostate gland',\n 'Pyloric lymph nodes',\n 'Rectal / Abdomen',\n 'Rectosigmoid junction',\n 'Rectum',\n 'Rectum And Distal Sigmoid',\n 'Renal',\n 'Renal Pelvis',\n 'Renal pelvis',\n 'Respiratory/Thoracic',\n 'Retro-peritoneal Lymph Node',\n 'Retromolar Trigone',\n 'Retroperitoneal embroyonal tumour',\n 'Retroperitoneal Lymph Node',\n 'Retroperitoneal Mass',\n 'Retroperitoneum',\n 'Retroperitoneum ',\n 'Right Axillary lymph node',\n 'Right Axillary Lymph Node',\n 'Right Breast',\n 'Right Breast metastasis',\n 'Right Buttock',\n 'Right Cheek',\n 'Right colon',\n 'Right Colon',\n 'Right Distal Femur',\n 'Right femur/rib/vertebra',\n 'Right frontal parieto-occipital cortex',\n 'Right Humerus',\n 'Right Inguinal Mass',\n 'Right Kidney',\n 'Right Lower Lobe',\n 'Right Lower Lobe Lung',\n 'Right Neck mass',\n 'Right parietal lobe',\n 'Right Parietal Lobe',\n 'Right Popliteal',\n 'Right Proximal Ulna',\n 'Right Sylvian Fissure',\n 'Right temporal lobe',\n 'Right upper lobe lung',\n 'Right Upper Lobe Lung',\n 'Sacral bone',\n 'Sacral Bone',\n 'Sacral Vertebrae',\n 'Salivary gland',\n 'Scalp',\n 'Scalp And Right Parotid',\n 'Scapula',\n 'Shoulder',\n 'Shoulder Tumour',\n 'Sigmoid',\n 'Sigmoid Colon',\n 'Sigmoid colon',\n 'Sigmoid Colon And Distal Anastomotic Margin',\n 'Sigmoid/Rectum',\n 'Skeletal Muscle',\n 'Skin',\n 'Skin  ',\n 'Skin (Lower Leg)',\n 'Skin Back',\n 'Skin Of Breast',\n 'Skin, Left Thigh',\n 'Skin, Left Upper Back',\n 'Skin, Right Leg',\n 'Skin, Right Posterior Arm',\n 'Small intestine',\n 'Small Intestine',\n 'Soft tissue',\n 'Soft Tissue',\n 'Soft Tissue, Left Lateral Mallelos',\n 'Spinal Fluid',\n 'Spine',\n 'Spleen',\n 'Splenic Flexure Of Colon',\n 'Splenic Flexure of Colon',\n 'Sternal Mass',\n 'Stomach',\n 'stomach',\n 'Stomach ',\n 'Stomach (NOS)',\n 'Subcutaneous Plasmacytoma',\n 'Subcutaneous tissue',\n 'Submaxillary salivary gland',\n 'subserosa of fallopian tube',\n 'Superior leg ',\n 'Supra-orbital area',\n 'Supra-Orbital Area',\n 'Supraclavicular',\n 'Supraclavicular Fossa',\n 'Supraclavicular lymph node',\n 'Supraglottis',\n 'Synovium',\n 'Temporal Cortex',\n 'Temporal Lobe',\n 'Temporo-Occipital Lobe',\n 'Testes ',\n 'Testis',\n 'Thalamus',\n 'Thigh',\n 'Thigh ',\n 'Thigh muscle',\n 'Thoracic Lymph Node',\n 'Thoracic Mass',\n 'Thorax',\n 'Thumb ',\n 'Thyroid',\n 'Thyroid (Retrosternal mass)',\n 'Tibia',\n 'Tongue',\n 'Tonsil',\n 'Transverse',\n 'Transverse And Left Colon',\n 'Transverse colon',\n 'Transverse Colon',\n 'Umbilicus',\n 'Under Finger Nail',\n 'Upper (cervical) oesophagus',\n 'Upper Limb NOS',\n 'Upper Lobe, Lung',\n 'Upper maxilla',\n 'Upper Mid Descending Colon',\n 'Urinary Bladder',\n 'Uterine Body',\n 'Uterine cervix',\n 'Uterine Cervix',\n 'Uterine Corpus',\n 'Uterus',\n 'Uveal Melanoma',\n 'Vagina',\n 'Ventricular mass',\n 'Vertebral bone',\n 'Vulva']"
     },
     "execution_count": 59,
     "metadata": {},
     "output_type": "execute_result"
    }
   ],
   "source": [
    "sort_case_insensitive(list(PS_collection_site.collection_site.unique()))"
   ],
   "metadata": {
    "collapsed": false,
    "ExecuteTime": {
     "end_time": "2023-07-28T12:12:49.811209Z",
     "start_time": "2023-07-28T12:12:49.794138Z"
    }
   }
  },
  {
   "cell_type": "code",
   "execution_count": 56,
   "outputs": [
    {
     "data": {
      "text/plain": "['4th ventricle',\n 'Abdomen',\n 'Abdomen Ascites',\n 'Abdominal',\n 'Abdominal Cavity',\n 'Abdominal Mass',\n 'Abdominal Wall',\n 'Abdominopelvic Cavity',\n 'Adrenal',\n 'Adrenal Cortex',\n 'Adrenal Gland',\n 'Adrenal Mass',\n 'Adrenal Resection',\n 'Adrenal Tissue',\n 'Alveolus',\n 'Ampulla',\n 'Ampulla of Vater',\n 'Anal',\n 'Anus',\n 'Aortocaval',\n 'Arm',\n 'Ascending Colon',\n 'Ascites',\n 'Ascites ',\n 'Ascites fluid',\n 'Axilla',\n 'Axillary Lymph Node',\n 'Back',\n 'Back Mass',\n 'Back soft tissue',\n 'Base Of Tongue',\n 'Bilateral',\n 'Bile Duct',\n 'Biliary Tract',\n 'Bladder',\n 'Bladder Dome',\n 'Blood',\n 'Bone',\n 'Bone (Left Proximal Humerus)',\n 'Bone (right humerus)',\n 'Bone Marrow',\n 'Bowel',\n 'Brachial Muscle',\n 'Brain',\n 'Brain (Right Cerebellum, Right Parietal)',\n 'Brain Stem',\n 'Breast',\n 'Bronchus',\n 'Buccal Mucosa',\n 'Buttock',\n 'Caecum',\n 'Calf',\n 'Cecum',\n 'Cerebellar Tentorium',\n 'Cerebellum',\n 'Cerebral hemisphere',\n 'Cerebrospinal fluid ',\n 'Cerebrum',\n 'Cervical endometrium',\n 'Cervical Lymph Node',\n 'Cervical lymph node',\n 'Cervical node',\n 'Cervical oesophagus',\n 'Cervix',\n 'Chest',\n 'Chest Mass',\n 'Chest Wall',\n 'Chest wall',\n 'Chest Wall/Subcutaneous Mass Ribs 3-6',\n 'Clivus',\n 'CNS',\n 'Colon',\n 'Colon NOS',\n 'Colon, Sigmoid',\n 'Common Bile Duct',\n 'Common duct node',\n 'Connective Tissue',\n 'Descending Colon',\n 'Diaphragm',\n 'Digestive/Gastrointestinal',\n 'Distal Esophagus (Lower Thoracic Esophagus)',\n 'Distal Esophagus And Proximal Stomach',\n 'Distal femur',\n 'Distal pancreas/spleen',\n 'Distal Transverse Colon',\n 'Duodenum',\n 'Endometrium',\n 'Erythroleukemia blasts',\n 'Eso-Intrathorasic Lymph Node',\n 'Esophagastric Junction',\n 'Esophageal',\n 'Esophageal Lymph Node',\n 'Esophagus',\n 'Esophagus - distal third',\n 'Esophagus / Lung',\n 'Esophagus Supraclavicular Lymph Node',\n 'Extrahepatic bile duct',\n 'Eye',\n 'Eye ',\n 'Femalelank Mass',\n 'Femur',\n 'Femur ',\n 'Floor Of Mouth',\n 'Frontal Brain lobe',\n 'Frontal Cortex',\n 'Frontal Lobe',\n 'Gall Bladder',\n 'Gastric',\n 'gastric fundus',\n 'Gastric Peritoneal Noule',\n 'Gastro-oesophageal junction (cardia)',\n 'Gastroesophageal Junction',\n 'Gastroesophageal Junction ',\n 'Gastroesophagel Junction',\n 'Genitourinary',\n 'Glottis',\n 'Groin lymph node',\n 'Hard Palate',\n 'HCI-032 PDX',\n 'HCI-040 PDX',\n 'Head',\n 'Hepatic Duct Bifurcation',\n 'Hepatic Flexure of Colon',\n 'Hollow Bone',\n 'Humerus',\n 'Humerus ',\n 'Hypopharynx',\n 'Ileocecal Valve',\n 'Ileum',\n 'Iliac Node (Groin)',\n 'Ilium',\n 'Inferior leg ',\n 'Infratemporal fossa',\n 'Inguinal Lymph Node',\n 'Inguinal Mass',\n 'Innominate Bone',\n 'Intracranial',\n 'Intrahepatic Duct',\n 'intraperitoneal cavity',\n 'Jaw',\n 'Jejunum/Ilium',\n 'Kidney',\n 'Kidney  ',\n 'Larynx',\n 'Larynx (Glottic)',\n 'Larynx (Subglottic)',\n 'Left Breast',\n 'Left Colon',\n 'Left Distal Femur',\n 'Left Femur',\n 'Left Kidney',\n 'Left Knee',\n 'Left Leg',\n 'Left Lower Lobe Lung',\n 'Left Lower Lung Lobe',\n 'Left Lung',\n 'Left Occipital mass',\n 'Left parieto-occipital lobe',\n 'Left Posterior Shoulder',\n 'Left Proximal Tibia',\n 'Left supraclavicular lymph node',\n 'Left supraclavicular region',\n 'Left Temple',\n 'Left temporal lobe',\n 'Left thigh',\n 'Left Upper And Lower Lobe Lung',\n 'Left Upper Lobe Lung',\n 'Left Upper Lobe Lung Invasive Into Bronchus And Lower Lobe',\n 'Left ureter',\n 'Left Vulva',\n 'Leg',\n 'Leukapheresis',\n 'Liver',\n 'Liver ',\n 'Liver & Lung',\n 'Liver metastasis',\n 'Liver, Left Lobe',\n 'Local Lymph Node',\n 'Lower Alveolus And Gingiva',\n 'Lower Back',\n 'Lower Extremity',\n 'Lower Gingiva',\n 'Lower intrathoracic oesophagus',\n 'Lower Left Lobe Lung',\n 'Lower Lobe, Lung',\n 'Lower right lung lobe',\n 'Lung',\n 'Lung ',\n 'Lung Lymph Node',\n 'Lung mass',\n 'Lung metastasis',\n 'lung metastasis',\n 'Lung/pleura',\n 'Lymph Node',\n 'Lymph Node ',\n 'Lymphatic system',\n 'Mammary gland',\n 'Mammary Gland',\n 'Mammary gland/duct',\n 'Maxilla',\n 'Mediastinal Lymph Node',\n 'Mediastinum',\n 'Mesenteric Lymph Node',\n 'Mesenterium',\n 'Middle intrathoracic oesophagus',\n 'Middle Lobe, Lung',\n 'Mouth',\n 'Mouth floor',\n 'Mouth Floor',\n 'Muscle',\n 'Neck',\n 'Neck ',\n 'Neck Mass',\n 'Neck of the urinary bladder',\n 'NET / Axillary Lymph Node',\n 'Neural',\n 'Not collected',\n 'Not Collected',\n 'Not provided',\n 'Not Provided',\n 'Not reported',\n 'NS',\n 'Occipital Lobe',\n 'Oesophagus',\n 'Omentum',\n 'Oral Aveolus',\n 'Oral Cavity',\n 'Oral floor',\n 'Oral, gingiva',\n 'Orbit',\n 'Orbit ',\n 'Oropharynx',\n 'Os frontalis',\n 'Other',\n 'Ovary',\n 'Pancreas',\n 'Pancreas ',\n 'Pancreatic body',\n 'Pancreatic duct',\n 'Pancreatic head',\n 'Pancreatic NET & Liver',\n 'Pancreatic tail',\n 'Paracaval Lymph Node',\n 'Paracentesis',\n 'Paragastric Lymph Node',\n 'Parapharyngeal',\n 'Pararenal lymph node',\n 'Paraspinal mass',\n 'Paraspinal mass ',\n 'Paraspinal mass resection',\n 'Paratesticular',\n 'Parathyroid / Neck',\n 'Paratracheal Lymph Node',\n 'Parietal Lobe',\n 'Pelvic',\n 'Pelvic Mass',\n 'Pelvis',\n 'Peri-Rectal Mass',\n 'Pericardial Effusion',\n 'Pericardial fluid',\n 'Pericardium',\n 'Perineum',\n 'Peripheral Blood',\n 'Peripheral Fluid',\n 'Peritoneal',\n 'Peritoneal & Ascites',\n 'Peritoneal Ascites',\n 'Peritoneal ascitic fluid ',\n 'Peritoneal cavity',\n 'Peritoneal Cavity',\n 'Peritoneal Effusion',\n 'Peritoneal Fluid',\n 'Peritoneal mass',\n 'Peritoneum',\n 'Peritracheal ',\n 'Pharynx',\n 'Pineal',\n 'Placenta',\n 'Pleura',\n 'Pleural cavity',\n 'Pleural Cavity',\n 'Pleural effusion',\n 'Pleural Effusion',\n 'Pleural Effusion fluid',\n 'Pleural fluid',\n 'Pleural Fluid',\n 'Plueral Effusion',\n 'Pontine meninges ',\n 'Post Mortem Blood',\n 'Post Mortem Liver ',\n 'Post-Cricoid',\n 'Posterior Fossa',\n 'Posterior mediastinum',\n 'Primary Colon',\n 'Primary Colon & Liver',\n 'Primary Colon L',\n 'Primary Colon R',\n 'Primary Colon Recto-Sigmoid',\n 'Primary Colon Sigmoid',\n 'Primary Tumour',\n 'Prostate',\n 'Prostate gland',\n 'Pyloric lymph nodes',\n 'Rectal / Abdomen',\n 'Rectosigmoid junction',\n 'Rectum',\n 'Rectum And Distal Sigmoid',\n 'Renal',\n 'Renal pelvis',\n 'Renal Pelvis',\n 'Respiratory/Thoracic',\n 'Retro-peritoneal Lymph Node',\n 'Retromolar Trigone',\n 'Retroperitoneal embroyonal tumour',\n 'Retroperitoneal Lymph Node',\n 'Retroperitoneal Mass',\n 'Retroperitoneum',\n 'Retroperitoneum ',\n 'Right Axillary lymph node',\n 'Right Axillary Lymph Node',\n 'Right Breast',\n 'Right Breast metastasis',\n 'Right Buttock',\n 'Right Cheek',\n 'Right colon',\n 'Right Colon',\n 'Right Distal Femur',\n 'Right femur/rib/vertebra',\n 'Right frontal parieto-occipital cortex',\n 'Right Humerus',\n 'Right Inguinal Mass',\n 'Right Kidney',\n 'Right Lower Lobe',\n 'Right Lower Lobe Lung',\n 'Right Neck mass',\n 'Right parietal lobe',\n 'Right Parietal Lobe',\n 'Right Popliteal',\n 'Right Proximal Ulna',\n 'Right Sylvian Fissure',\n 'Right temporal lobe',\n 'Right Upper Lobe Lung',\n 'Right upper lobe lung',\n 'Sacral bone',\n 'Sacral Bone',\n 'Sacral Vertebrae',\n 'Salivary gland',\n 'Scalp',\n 'Scalp And Right Parotid',\n 'Scapula',\n 'Shoulder',\n 'Shoulder Tumour',\n 'Sigmoid',\n 'Sigmoid Colon',\n 'Sigmoid colon',\n 'Sigmoid Colon And Distal Anastomotic Margin',\n 'Sigmoid/Rectum',\n 'Skeletal Muscle',\n 'Skin',\n 'Skin  ',\n 'Skin (Lower Leg)',\n 'Skin Back',\n 'Skin Of Breast',\n 'Skin, Left Thigh',\n 'Skin, Left Upper Back',\n 'Skin, Right Leg',\n 'Skin, Right Posterior Arm',\n 'Small Intestine',\n 'Small intestine',\n 'Soft tissue',\n 'Soft Tissue',\n 'Soft Tissue, Left Lateral Mallelos',\n 'Spinal Fluid',\n 'Spine',\n 'Spleen',\n 'Splenic Flexure of Colon',\n 'Splenic Flexure Of Colon',\n 'Sternal Mass',\n 'stomach',\n 'Stomach',\n 'Stomach ',\n 'Stomach (NOS)',\n 'Subcutaneous Plasmacytoma',\n 'Subcutaneous tissue',\n 'Submaxillary salivary gland',\n 'subserosa of fallopian tube',\n 'Superior leg ',\n 'Supra-orbital area',\n 'Supra-Orbital Area',\n 'Supraclavicular',\n 'Supraclavicular Fossa',\n 'Supraclavicular lymph node',\n 'Supraglottis',\n 'Synovium',\n 'Temporal Cortex',\n 'Temporal Lobe',\n 'Temporo-Occipital Lobe',\n 'Testes ',\n 'Testis',\n 'Thalamus',\n 'Thigh',\n 'Thigh ',\n 'Thigh muscle',\n 'Thoracic Lymph Node',\n 'Thoracic Mass',\n 'Thorax',\n 'Thumb ',\n 'Thyroid',\n 'Thyroid (Retrosternal mass)',\n 'Tibia',\n 'Tongue',\n 'Tonsil',\n 'Transverse',\n 'Transverse And Left Colon',\n 'Transverse Colon',\n 'Transverse colon',\n 'Umbilicus',\n 'Under Finger Nail',\n 'Upper (cervical) oesophagus',\n 'Upper Limb NOS',\n 'Upper Lobe, Lung',\n 'Upper maxilla',\n 'Upper Mid Descending Colon',\n 'Urinary Bladder',\n 'Uterine Body',\n 'Uterine cervix',\n 'Uterine Cervix',\n 'Uterine Corpus',\n 'Uterus',\n 'Uveal Melanoma',\n 'Vagina',\n 'Ventricular mass',\n 'Vertebral bone',\n 'Vulva']"
     },
     "execution_count": 56,
     "metadata": {},
     "output_type": "execute_result"
    }
   ],
   "source": [
    "list(Unique_CS.collection_site.unique())"
   ],
   "metadata": {
    "collapsed": false,
    "ExecuteTime": {
     "end_time": "2023-07-28T12:05:43.217048Z",
     "start_time": "2023-07-28T12:05:43.201344Z"
    }
   }
  },
  {
   "cell_type": "code",
   "execution_count": null,
   "outputs": [],
   "source": [],
   "metadata": {
    "collapsed": false
   }
  },
  {
   "cell_type": "markdown",
   "source": [
    "## Data type STRING to Number"
   ],
   "metadata": {
    "collapsed": false
   }
  },
  {
   "cell_type": "code",
   "execution_count": null,
   "outputs": [],
   "source": [
    "def change_data_type(path, provider, mol_type):\n",
    "    cols = {\"cna\": [\"log10r_cna\", \"log2r_cna\"],\n",
    "            \"mut\": [\"read_depth\"], ## \"allele_frequency\" and \"seq_start_position: cant be set as 0\n",
    "            \"expression\": [\"z_score\", \"rnaseq_tpm\", \"rnaseq_fpkm\", \"rnaseq_count\",\n",
    "                           \"affy_hgea_expression_value\", \"illumina_hgea_expression_value\"]} ## \"rnaseq_coverage\" cant be set as 0\n",
    "\n",
    "    file_list = get_files(path)\n",
    "    files_to_extract = [f for f in file_list if f.endswith('.tsv')]\n",
    "    fillcols = cols[mol_type]\n",
    "    if len(files_to_extract)>0:\n",
    "        print(\"Reading Patient sample for: \"+ provider)\n",
    "        for f in files_to_extract:\n",
    "            ## Implement some checks for expression columns\n",
    "            file_path = join(path, f)\n",
    "            metadata = read_metadata_without_fields(file_path)\n",
    "            metadata[fillcols] = metadata[fillcols].fillna(0)\n",
    "            metadata.to_csv(file_path, sep='\\t', index=False)\n",
    "    else:\n",
    "        print(provider + \": No file found.\")"
   ],
   "metadata": {
    "collapsed": false
   }
  },
  {
   "cell_type": "code",
   "execution_count": null,
   "outputs": [],
   "source": [
    "mol_types = [\"cna\", \"mut\", \"expression\"]\n",
    "for mol_type in mol_types:\n",
    "    for provider in sorted(get_dirs(home)): ## get_dirs will get the provider dirs in updog\n",
    "        change_data_type(join(home, provider, mol_type), provider, mol_type) ## File rename: pdx_models to pdx_model using the"
   ],
   "metadata": {
    "collapsed": false
   }
  },
  {
   "cell_type": "code",
   "execution_count": null,
   "outputs": [],
   "source": [],
   "metadata": {
    "collapsed": false
   }
  },
  {
   "cell_type": "code",
   "execution_count": null,
   "outputs": [],
   "source": [],
   "metadata": {
    "collapsed": false
   }
  },
  {
   "cell_type": "markdown",
   "source": [
    "## JAX Histology Images\n",
    "### Generate file list"
   ],
   "metadata": {
    "collapsed": false
   }
  },
  {
   "cell_type": "code",
   "execution_count": 55,
   "outputs": [],
   "source": [
    "JAX_Image_file_path = \"/Users/tushar/CancerModels/submission/JAX - BIA/JAXPDXHistologyImageDetails.xlsx\"\n",
    "JAX_BIA_fileList_path = \"/Users/tushar/CancerModels/submission/JAX - BIA/JAX_PDX_BIA_fileList.xlsx\"\n",
    "input_path = \"/Users/tushar/CancerModels/submission/JAX - BIA/uploads\"\n",
    "output_path = \"/Users/tushar/CancerModels/submission/JAX - BIA/submission\""
   ],
   "metadata": {
    "collapsed": false,
    "ExecuteTime": {
     "end_time": "2023-08-16T20:53:47.645645Z",
     "start_time": "2023-08-16T20:53:47.632413Z"
    }
   }
  },
  {
   "cell_type": "code",
   "execution_count": 64,
   "outputs": [],
   "source": [
    "def process_JAX_histology_excel(excel_in):\n",
    "    JAX_BIA_file = pd.read_excel(excel_in).sort_values(\"model_id\").reset_index(drop=True)\n",
    "    JAX_BIA_file.loc[JAX_BIA_file.description.str.contains(\"PDX\"), \"sample_type\"] = \"pdx\"\n",
    "    JAX_BIA_file.loc[JAX_BIA_file.description.str.contains(\"Patient\"), \"sample_type\"] = \"patient\"\n",
    "    JAX_BIA_file['passage'] = JAX_BIA_file['description'].str[:2]\n",
    "    JAX_BIA_file.loc[JAX_BIA_file.sample_type == 'patient', \"passage\"] = \"-\"\n",
    "    JAX_BIA_file = JAX_BIA_file[JAX_BIA_file.sample_type == \"pdx\"]\n",
    "    return JAX_BIA_file\n",
    "\n",
    "def convert_JPEG_to_TIFF(in_file, out_file):\n",
    "    im = Image.open(in_file)\n",
    "    im.save(out_file, 'TIFF')\n",
    "\n",
    "\n",
    "def generate_TIFF_and_fileList(dataframe, in_path, out_path, df_out_file):\n",
    "    if not exists(out_path):\n",
    "        makedirs(out_path)\n",
    "    dataframe['Files'] = 'submission/'+ dataframe['model_id'] +\"/\"+ dataframe['file'].str.replace(\".jpg\", \".tiff\")\n",
    "    unique_models = dataframe.model_id.unique()\n",
    "    for i in tqdm(range(0, len(unique_models)), desc =\"Processing model images: \"):\n",
    "        model = unique_models[i]\n",
    "        new_path = join(out_path, model)\n",
    "        if not exists(new_path):\n",
    "            makedirs(new_path)\n",
    "        subset = dataframe[dataframe.model_id == model]\n",
    "        files = list(subset.file)\n",
    "        for file in files:\n",
    "            out_file = file.replace(\".jpg\", \".tiff\")\n",
    "            convert_JPEG_to_TIFF(join(in_path, file), join(new_path, out_file))\n",
    "    dataframe.to_excel(df_out_file, index=False)\n",
    "\n",
    "def organise_data_for_BIA_submission(excel_in, excel_out, file_in, file_out):\n",
    "    dataframe = process_JAX_histology_excel(excel_in)\n",
    "    generate_TIFF_and_fileList(dataframe, file_in, file_out, excel_out)\n"
   ],
   "metadata": {
    "collapsed": false,
    "ExecuteTime": {
     "end_time": "2023-08-16T21:00:22.134116Z",
     "start_time": "2023-08-16T21:00:22.116768Z"
    }
   }
  },
  {
   "cell_type": "code",
   "execution_count": 65,
   "outputs": [
    {
     "name": "stderr",
     "output_type": "stream",
     "text": [
      "Processing model images: 100%|██████████| 433/433 [00:30<00:00, 14.18it/s]\n"
     ]
    }
   ],
   "source": [
    "organise_data_for_BIA_submission(JAX_Image_file_path, JAX_BIA_fileList_path, input_path, output_path)"
   ],
   "metadata": {
    "collapsed": false,
    "ExecuteTime": {
     "end_time": "2023-08-16T21:00:54.788025Z",
     "start_time": "2023-08-16T21:00:23.038962Z"
    }
   }
  },
  {
   "cell_type": "code",
   "execution_count": 63,
   "outputs": [
    {
     "data": {
      "text/plain": "0       J000077451180207133606.tiff\n1       J000077451180207134927.tiff\n2       J000077451170412111437.tiff\n3       J000077451170412111512.tiff\n4       J000077451170412111321.tiff\n                   ...             \n2974       TM01634180706134907.tiff\n2975       TM01634180706135125.tiff\n2976       TM01634180706134831.tiff\n2977       TM01634180706135058.tiff\n2978       TM01634180706135036.tiff\nName: file, Length: 2676, dtype: object"
     },
     "execution_count": 63,
     "metadata": {},
     "output_type": "execute_result"
    }
   ],
   "source": [
    "JAX_BIA_file['file'].str.replace(\".jpg\", \".tiff\")"
   ],
   "metadata": {
    "collapsed": false,
    "ExecuteTime": {
     "end_time": "2023-08-16T21:00:15.958328Z",
     "start_time": "2023-08-16T21:00:15.952307Z"
    }
   }
  },
  {
   "cell_type": "code",
   "execution_count": null,
   "outputs": [],
   "source": [],
   "metadata": {
    "collapsed": false
   }
  },
  {
   "cell_type": "markdown",
   "source": [
    "## LIH Gene expression data"
   ],
   "metadata": {
    "collapsed": false
   }
  },
  {
   "cell_type": "code",
   "execution_count": 30,
   "outputs": [],
   "source": [
    "path = \"/Users/tushar/CancerModels/submission/LIH/NORLUX_PDOX_gene_Expression/\"\n",
    "files = get_files(path)\n",
    "mol_sample = pd.read_csv(\"/Users/tushar/CancerModels/pdxfinder-data/data/UPDOG/LIH/LIH_molecular_metadata-sample.tsv\", sep='\\t')"
   ],
   "metadata": {
    "collapsed": false,
    "ExecuteTime": {
     "end_time": "2023-08-24T16:30:56.972051Z",
     "start_time": "2023-08-24T16:30:56.952096Z"
    }
   }
  },
  {
   "cell_type": "code",
   "execution_count": 34,
   "outputs": [
    {
     "name": "stderr",
     "output_type": "stream",
     "text": [
      "Processing gene expression data: 100%|██████████| 28/28 [04:00<00:00,  8.60s/it]\n"
     ]
    }
   ],
   "source": [
    "for i in tqdm(range(0, len(files)), desc =\"Processing gene expression data: \"):\n",
    "    f = files[i]\n",
    "    out_data = pd.read_csv(\"/Users/tushar/CancerModels/pdxfinder-data/template/active_templates/expression/expression_template-sheet.tsv\", sep=\"\\t\")\n",
    "    model = pd.read_excel(join(path, f))\n",
    "    out_data[out_data.columns] = model[out_data.columns]\n",
    "    out_data[\"platform_id\"] = \"expression_NovaSeq_6000\"\n",
    "    out_data.drop(['platform'], axis=1).to_csv( join(path, \"LIH_expression_\" + f.replace(\".xlsx\", \".tsv\")), sep=\"\\t\", index=False)\n",
    "    #print(model.iloc[0, [\"model_id\", \"sample_id\", \"sample_origin\", \"passage\", \"host_strain_nomenclature\"]])"
   ],
   "metadata": {
    "collapsed": false,
    "ExecuteTime": {
     "end_time": "2023-08-24T16:43:51.155037Z",
     "start_time": "2023-08-24T16:39:50.372193Z"
    }
   }
  },
  {
   "cell_type": "code",
   "execution_count": null,
   "outputs": [],
   "source": [],
   "metadata": {
    "collapsed": false
   }
  }
 ],
 "metadata": {
  "kernelspec": {
   "display_name": "Python 3",
   "language": "python",
   "name": "python3"
  },
  "language_info": {
   "codemirror_mode": {
    "name": "ipython",
    "version": 2
   },
   "file_extension": ".py",
   "mimetype": "text/x-python",
   "name": "python",
   "nbconvert_exporter": "python",
   "pygments_lexer": "ipython2",
   "version": "2.7.6"
  }
 },
 "nbformat": 4,
 "nbformat_minor": 4
}
