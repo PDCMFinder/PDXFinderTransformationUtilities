{
 "cells": [
  {
   "cell_type": "markdown",
   "metadata": {
    "collapsed": false
   },
   "source": [
    "### Package imports"
   ]
  },
  {
   "cell_type": "code",
   "execution_count": 1,
   "metadata": {
    "collapsed": false,
    "ExecuteTime": {
     "end_time": "2024-04-05T08:48:16.043064Z",
     "start_time": "2024-04-05T08:48:15.953074Z"
    }
   },
   "outputs": [],
   "source": [
    "from os import listdir, getcwd, rename, makedirs\n",
    "from os.path import isfile, join, isdir, exists\n",
    "import pandas as pd\n",
    "import logging\n",
    "from PIL import Image\n",
    "from tqdm import tqdm"
   ]
  },
  {
   "cell_type": "markdown",
   "metadata": {
    "collapsed": false
   },
   "source": [
    "### Common functions"
   ]
  },
  {
   "cell_type": "code",
   "execution_count": 2,
   "metadata": {
    "collapsed": false,
    "ExecuteTime": {
     "end_time": "2024-04-05T08:48:16.806027Z",
     "start_time": "2024-04-05T08:48:16.720413Z"
    }
   },
   "outputs": [],
   "source": [
    "def get_dirs(path):\n",
    "    return [f for f in listdir(path) if isdir(join(path, f))]\n",
    "\n",
    "def get_files(path):\n",
    "    return [f for f in listdir(path) if isfile(join(path, f))]\n",
    "\n",
    "def read_metadata_without_fields(path):\n",
    "    metadata = pd.read_csv(path, sep='\\t', na_values=\"\", low_memory=False)\n",
    "    if 'Field' in metadata.columns:\n",
    "        metadata = metadata.loc[metadata.Field.str.startswith('#') != True,].reset_index(drop=True)\n",
    "        metadata = metadata.drop('Field', axis=1)\n",
    "    return metadata\n",
    "\n",
    "def read_metadata_with_fields(path):\n",
    "    metadata = pd.read_csv(path, sep='\\t', na_values=\"\", low_memory=False)\n",
    "    return metadata\n",
    "\n",
    "\n",
    "def sort_case_insensitive(sort_list):\n",
    "    return sorted(sort_list, key=str.casefold)\n",
    "\n",
    "def read_excel_sheets_merged(path):\n",
    "    return pd.concat(pd.read_excel(path, sheet_name=None, engine='openpyxl').values(), ignore_index=True)\n",
    "    "
   ]
  },
  {
   "cell_type": "markdown",
   "metadata": {
    "collapsed": false
   },
   "source": [
    "### Common env"
   ]
  },
  {
   "cell_type": "code",
   "execution_count": 3,
   "metadata": {
    "collapsed": false,
    "ExecuteTime": {
     "end_time": "2024-04-05T08:48:17.934708Z",
     "start_time": "2024-04-05T08:48:17.829652Z"
    }
   },
   "outputs": [],
   "source": [
    "start_dir = getcwd()\n",
    "home = \"/Users/tushar/CancerModels/pdxfinder-data/data/UPDOG/\""
   ]
  },
  {
   "cell_type": "markdown",
   "source": [
    "## Generate XLSX"
   ],
   "metadata": {
    "collapsed": false
   }
  },
  {
   "cell_type": "code",
   "execution_count": 6,
   "outputs": [],
   "source": [
    "def generate_xlsx(path, provider):\n",
    "    file_list = get_files(path)\n",
    "    new_path = path.replace('/Users/tushar/CancerModels/pdxfinder-data/data/UPDOG/', '/Users/tushar/CancerModels/pdxfinder-data/data/data-submission/')\n",
    "    if not exists(new_path):\n",
    "        makedirs(new_path)\n",
    "    files_to_extract = [f for f in file_list if f.endswith('.tsv') and f.__contains__(provider+'_metadata-')]\n",
    "    if len(files_to_extract)>0:\n",
    "        print(\"writing excel for: \"+ provider)\n",
    "        with pd.ExcelWriter(join(new_path, provider+\"_metadata.xlsx\")) as writer:\n",
    "            for f in files_to_extract:\n",
    "                print(\"\\tSheet added: \" + f)\n",
    "                metadata = read_metadata_with_fields(join(path, f))\n",
    "                sheetname = f.replace(provider+\"_metadata-\", \"\").replace(\".tsv\", \"\")\n",
    "                metadata.to_excel(writer, sheet_name=sheetname, index=False)\n",
    "                \n",
    "    else:\n",
    "        print(\"No .xlsx file found.\")"
   ],
   "metadata": {
    "collapsed": false,
    "ExecuteTime": {
     "end_time": "2023-09-25T09:45:56.511555Z",
     "start_time": "2023-09-25T09:45:56.496742Z"
    }
   }
  },
  {
   "cell_type": "code",
   "execution_count": 9,
   "outputs": [
    {
     "name": "stdout",
     "output_type": "stream",
     "text": [
      "writing excel for: BROD\n",
      "\tSheet added: BROD_metadata-patient_sample.tsv\n",
      "\tSheet added: BROD_metadata-model_validation.tsv\n",
      "\tSheet added: BROD_metadata-cell_model.tsv\n",
      "\tSheet added: BROD_metadata-patient.tsv\n",
      "\tSheet added: BROD_metadata-sharing.tsv\n",
      "writing excel for: CCIA\n",
      "\tSheet added: CCIA_metadata-model_validation.tsv\n",
      "\tSheet added: CCIA_metadata-pdx_model.tsv\n",
      "\tSheet added: CCIA_metadata-patient_sample.tsv\n",
      "\tSheet added: CCIA_metadata-sharing.tsv\n",
      "\tSheet added: CCIA_metadata-patient.tsv\n",
      "writing excel for: CHOP\n",
      "\tSheet added: CHOP_metadata-patient_sample.tsv\n",
      "\tSheet added: CHOP_metadata-pdx_model.tsv\n",
      "\tSheet added: CHOP_metadata-model_validation.tsv\n",
      "\tSheet added: CHOP_metadata-sharing.tsv\n",
      "\tSheet added: CHOP_metadata-patient.tsv\n",
      "writing excel for: CMP\n",
      "\tSheet added: CMP_metadata-patient_sample.tsv\n",
      "\tSheet added: CMP_metadata-sharing.tsv\n",
      "\tSheet added: CMP_metadata-patient.tsv\n",
      "\tSheet added: CMP_metadata-model_validation.tsv\n",
      "\tSheet added: CMP_metadata-cell_model.tsv\n",
      "writing excel for: CRL\n",
      "\tSheet added: CRL_metadata-model_validation.tsv\n",
      "\tSheet added: CRL_metadata-patient_sample.tsv\n",
      "\tSheet added: CRL_metadata-sharing.tsv\n",
      "\tSheet added: CRL_metadata-patient.tsv\n",
      "\tSheet added: CRL_metadata-pdx_model.tsv\n",
      "writing excel for: CSHL\n",
      "\tSheet added: CSHL_metadata-patient.tsv\n",
      "\tSheet added: CSHL_metadata-sharing.tsv\n",
      "\tSheet added: CSHL_metadata-patient_sample.tsv\n",
      "\tSheet added: CSHL_metadata-model_validation.tsv\n",
      "\tSheet added: CSHL_metadata-cell_model.tsv\n",
      "writing excel for: Curie-BC\n",
      "\tSheet added: Curie-BC_metadata-pdx_model.tsv\n",
      "\tSheet added: Curie-BC_metadata-model_validation.tsv\n",
      "\tSheet added: Curie-BC_metadata-patient.tsv\n",
      "\tSheet added: Curie-BC_metadata-sharing.tsv\n",
      "\tSheet added: Curie-BC_metadata-cell_model.tsv\n",
      "\tSheet added: Curie-BC_metadata-patient_sample.tsv\n",
      "writing excel for: Curie-LC\n",
      "\tSheet added: Curie-LC_metadata-sharing.tsv\n",
      "\tSheet added: Curie-LC_metadata-patient.tsv\n",
      "\tSheet added: Curie-LC_metadata-model_validation.tsv\n",
      "\tSheet added: Curie-LC_metadata-pdx_model.tsv\n",
      "\tSheet added: Curie-LC_metadata-patient_sample.tsv\n",
      "writing excel for: Curie-OC\n",
      "\tSheet added: Curie-OC_metadata-model_validation.tsv\n",
      "\tSheet added: Curie-OC_metadata-pdx_model.tsv\n",
      "\tSheet added: Curie-OC_metadata-patient_sample.tsv\n",
      "\tSheet added: Curie-OC_metadata-patient.tsv\n",
      "\tSheet added: Curie-OC_metadata-sharing.tsv\n",
      "writing excel for: DFCI-CPDM\n",
      "\tSheet added: DFCI-CPDM_metadata-pdx_model.tsv\n",
      "\tSheet added: DFCI-CPDM_metadata-patient.tsv\n",
      "\tSheet added: DFCI-CPDM_metadata-sharing.tsv\n",
      "\tSheet added: DFCI-CPDM_metadata-patient_sample.tsv\n",
      "\tSheet added: DFCI-CPDM_metadata-model_validation.tsv\n",
      "writing excel for: GCCRI\n",
      "\tSheet added: GCCRI_metadata-pdx_model.tsv\n",
      "\tSheet added: GCCRI_metadata-patient.tsv\n",
      "\tSheet added: GCCRI_metadata-sharing.tsv\n",
      "\tSheet added: GCCRI_metadata-patient_sample.tsv\n",
      "\tSheet added: GCCRI_metadata-model_validation.tsv\n",
      "writing excel for: HCI-BCM\n",
      "\tSheet added: HCI-BCM_metadata-model_validation.tsv\n",
      "\tSheet added: HCI-BCM_metadata-patient_sample.tsv\n",
      "\tSheet added: HCI-BCM_metadata-pdx_model.tsv\n",
      "\tSheet added: HCI-BCM_metadata-patient.tsv\n",
      "\tSheet added: HCI-BCM_metadata-sharing.tsv\n",
      "writing excel for: IRCC-CRC\n",
      "\tSheet added: IRCC-CRC_metadata-model_validation.tsv\n",
      "\tSheet added: IRCC-CRC_metadata-sharing.tsv\n",
      "\tSheet added: IRCC-CRC_metadata-patient.tsv\n",
      "\tSheet added: IRCC-CRC_metadata-patient_sample.tsv\n",
      "\tSheet added: IRCC-CRC_metadata-pdx_model.tsv\n",
      "writing excel for: IRCC-GC\n",
      "\tSheet added: IRCC-GC_metadata-patient_sample.tsv\n",
      "\tSheet added: IRCC-GC_metadata-model_validation.tsv\n",
      "\tSheet added: IRCC-GC_metadata-patient.tsv\n",
      "\tSheet added: IRCC-GC_metadata-sharing.tsv\n",
      "\tSheet added: IRCC-GC_metadata-pdx_model.tsv\n",
      "writing excel for: JAX\n",
      "\tSheet added: JAX_metadata-model_validation.tsv\n",
      "\tSheet added: JAX_metadata-patient_sample.tsv\n",
      "\tSheet added: JAX_metadata-image_study.tsv\n",
      "\tSheet added: JAX_metadata-model_image.tsv\n",
      "\tSheet added: JAX_metadata-patient.tsv\n",
      "\tSheet added: JAX_metadata-pdx_model.tsv\n",
      "\tSheet added: JAX_metadata-sharing.tsv\n",
      "writing excel for: LIH\n",
      "\tSheet added: LIH_metadata-model_validation.tsv\n",
      "\tSheet added: LIH_metadata-patient_sample.tsv\n",
      "\tSheet added: LIH_metadata-sharing.tsv\n",
      "\tSheet added: LIH_metadata-patient.tsv\n",
      "\tSheet added: LIH_metadata-pdx_model.tsv\n",
      "writing excel for: LurieChildrens\n",
      "\tSheet added: LurieChildrens_metadata-sharing.tsv\n",
      "\tSheet added: LurieChildrens_metadata-patient.tsv\n",
      "\tSheet added: LurieChildrens_metadata-pdx_model.tsv\n",
      "\tSheet added: LurieChildrens_metadata-patient_sample.tsv\n",
      "\tSheet added: LurieChildrens_metadata-model_validation.tsv\n",
      "writing excel for: MDAnderson\n",
      "\tSheet added: MDAnderson_metadata-pdx_model.tsv\n",
      "\tSheet added: MDAnderson_metadata-model_validation.tsv\n",
      "\tSheet added: MDAnderson_metadata-patient.tsv\n",
      "\tSheet added: MDAnderson_metadata-sharing.tsv\n",
      "\tSheet added: MDAnderson_metadata-patient_sample.tsv\n",
      "writing excel for: MDAnderson-CCH\n",
      "\tSheet added: MDAnderson-CCH_metadata-model_validation.tsv\n",
      "\tSheet added: MDAnderson-CCH_metadata-pdx_model.tsv\n",
      "\tSheet added: MDAnderson-CCH_metadata-sharing.tsv\n",
      "\tSheet added: MDAnderson-CCH_metadata-patient.tsv\n",
      "\tSheet added: MDAnderson-CCH_metadata-patient_sample.tsv\n",
      "writing excel for: NKI\n",
      "\tSheet added: NKI_metadata-model_validation.tsv\n",
      "\tSheet added: NKI_metadata-pdx_model.tsv\n",
      "\tSheet added: NKI_metadata-patient_sample.tsv\n",
      "\tSheet added: NKI_metadata-sharing.tsv\n",
      "\tSheet added: NKI_metadata-patient.tsv\n",
      "writing excel for: PDMR\n",
      "\tSheet added: PDMR_metadata-model_validation.tsv\n",
      "\tSheet added: PDMR_metadata-pdx_model.tsv\n",
      "\tSheet added: PDMR_metadata-cell_model.tsv\n",
      "\tSheet added: PDMR_metadata-patient_sample.tsv\n",
      "\tSheet added: PDMR_metadata-sharing.tsv\n",
      "\tSheet added: PDMR_metadata-patient.tsv\n",
      "writing excel for: PMLB\n",
      "\tSheet added: PMLB_metadata-sharing.tsv\n",
      "\tSheet added: PMLB_metadata-patient.tsv\n",
      "\tSheet added: PMLB_metadata-pdx_model.tsv\n",
      "\tSheet added: PMLB_metadata-model_validation.tsv\n",
      "\tSheet added: PMLB_metadata-patient_sample.tsv\n",
      "writing excel for: SANG\n",
      "\tSheet added: SANG_metadata-patient.tsv\n",
      "\tSheet added: SANG_metadata-sharing.tsv\n",
      "\tSheet added: SANG_metadata-patient_sample.tsv\n",
      "\tSheet added: SANG_metadata-cell_model.tsv\n",
      "\tSheet added: SANG_metadata-model_validation.tsv\n",
      "writing excel for: SJCRH\n",
      "\tSheet added: SJCRH_metadata-pdx_model.tsv\n",
      "\tSheet added: SJCRH_metadata-patient_sample.tsv\n",
      "\tSheet added: SJCRH_metadata-model_validation.tsv\n",
      "\tSheet added: SJCRH_metadata-patient.tsv\n",
      "\tSheet added: SJCRH_metadata-sharing.tsv\n",
      "writing excel for: TRACE\n",
      "\tSheet added: TRACE_metadata-patient.tsv\n",
      "\tSheet added: TRACE_metadata-sharing.tsv\n",
      "\tSheet added: TRACE_metadata-model_validation.tsv\n",
      "\tSheet added: TRACE_metadata-patient_sample.tsv\n",
      "\tSheet added: TRACE_metadata-pdx_model.tsv\n",
      "writing excel for: UCD\n",
      "\tSheet added: UCD_metadata-pdx_model.tsv\n",
      "\tSheet added: UCD_metadata-patient_sample.tsv\n",
      "\tSheet added: UCD_metadata-model_validation.tsv\n",
      "\tSheet added: UCD_metadata-sharing.tsv\n",
      "\tSheet added: UCD_metadata-patient.tsv\n",
      "writing excel for: UMCG\n",
      "\tSheet added: UMCG_metadata-pdx_model.tsv\n",
      "\tSheet added: UMCG_metadata-sharing.tsv\n",
      "\tSheet added: UMCG_metadata-patient.tsv\n",
      "\tSheet added: UMCG_metadata-model_validation.tsv\n",
      "\tSheet added: UMCG_metadata-patient_sample.tsv\n",
      "writing excel for: UOC-BC\n",
      "\tSheet added: UOC-BC_metadata-model_validation.tsv\n",
      "\tSheet added: UOC-BC_metadata-patient.tsv\n",
      "\tSheet added: UOC-BC_metadata-sharing.tsv\n",
      "\tSheet added: UOC-BC_metadata-patient_sample.tsv\n",
      "\tSheet added: UOC-BC_metadata-pdx_model.tsv\n",
      "writing excel for: UOM-BC\n",
      "\tSheet added: UOM-BC_metadata-pdx_model.tsv\n",
      "\tSheet added: UOM-BC_metadata-model_validation.tsv\n",
      "\tSheet added: UOM-BC_metadata-patient_sample.tsv\n",
      "\tSheet added: UOM-BC_metadata-patient.tsv\n",
      "\tSheet added: UOM-BC_metadata-sharing.tsv\n",
      "writing excel for: VHIO-BC\n",
      "\tSheet added: VHIO-BC_metadata-model_validation.tsv\n",
      "\tSheet added: VHIO-BC_metadata-pdx_model.tsv\n",
      "\tSheet added: VHIO-BC_metadata-patient_sample.tsv\n",
      "\tSheet added: VHIO-BC_metadata-patient.tsv\n",
      "\tSheet added: VHIO-BC_metadata-sharing.tsv\n",
      "writing excel for: VHIO-CRC\n",
      "\tSheet added: VHIO-CRC_metadata-pdx_model.tsv\n",
      "\tSheet added: VHIO-CRC_metadata-model_validation.tsv\n",
      "\tSheet added: VHIO-CRC_metadata-patient_sample.tsv\n",
      "\tSheet added: VHIO-CRC_metadata-patient.tsv\n",
      "\tSheet added: VHIO-CRC_metadata-sharing.tsv\n",
      "writing excel for: VHIO-PC\n",
      "\tSheet added: VHIO-PC_metadata-patient.tsv\n",
      "\tSheet added: VHIO-PC_metadata-sharing.tsv\n",
      "\tSheet added: VHIO-PC_metadata-pdx_model.tsv\n",
      "\tSheet added: VHIO-PC_metadata-patient_sample.tsv\n",
      "\tSheet added: VHIO-PC_metadata-model_validation.tsv\n",
      "writing excel for: WUSTL\n",
      "\tSheet added: WUSTL_metadata-patient_sample.tsv\n",
      "\tSheet added: WUSTL_metadata-patient.tsv\n",
      "\tSheet added: WUSTL_metadata-sharing.tsv\n",
      "\tSheet added: WUSTL_metadata-pdx_model.tsv\n",
      "\tSheet added: WUSTL_metadata-model_validation.tsv\n",
      "writing excel for: Wistar-MDAnderson-Penn\n",
      "\tSheet added: Wistar-MDAnderson-Penn_metadata-pdx_model.tsv\n",
      "\tSheet added: Wistar-MDAnderson-Penn_metadata-patient.tsv\n",
      "\tSheet added: Wistar-MDAnderson-Penn_metadata-sharing.tsv\n",
      "\tSheet added: Wistar-MDAnderson-Penn_metadata-patient_sample.tsv\n",
      "\tSheet added: Wistar-MDAnderson-Penn_metadata-model_validation.tsv\n"
     ]
    }
   ],
   "source": [
    "for provider in sorted(get_dirs(home)): ## get_dirs will get the provider dirs in updog\n",
    "    #print(\"Working on provider: \"+provider)\n",
    "    generate_xlsx(join(home, provider), provider) ## File rename: pdx_models to pdx_model using the provider path"
   ],
   "metadata": {
    "collapsed": false,
    "ExecuteTime": {
     "end_time": "2023-09-25T09:48:26.443296Z",
     "start_time": "2023-09-25T09:48:07.702119Z"
    }
   }
  },
  {
   "cell_type": "code",
   "execution_count": null,
   "outputs": [],
   "source": [],
   "metadata": {
    "collapsed": false
   }
  },
  {
   "cell_type": "markdown",
   "metadata": {
    "collapsed": false
   },
   "source": [
    "## Collection site typo\n"
   ]
  },
  {
   "cell_type": "code",
   "execution_count": 24,
   "metadata": {
    "collapsed": false,
    "ExecuteTime": {
     "end_time": "2023-07-28T10:34:31.784469Z",
     "start_time": "2023-07-28T10:34:31.748925Z"
    }
   },
   "outputs": [],
   "source": [
    "def get_collection_site(path, provider, cs_df):\n",
    "    file_list = get_files(path)\n",
    "    files_to_extract = [f for f in file_list if f.endswith('_metadata-patient_sample.tsv')]\n",
    "    if len(files_to_extract)>0:\n",
    "        #print(\"Reading Patient sample for: \"+ provider)\n",
    "        for f in files_to_extract:\n",
    "            metadata = read_metadata_without_fields(join(path, f))\n",
    "            metadata['provider'] = provider\n",
    "            cs_df = pd.concat([cs_df, metadata[['collection_site', 'provider']]]).reset_index(drop=True)\n",
    "    else:\n",
    "        print(\"No file found.\")\n",
    "    return cs_df"
   ]
  },
  {
   "cell_type": "code",
   "execution_count": 58,
   "metadata": {
    "collapsed": false,
    "ExecuteTime": {
     "end_time": "2023-07-28T12:12:49.698244Z",
     "start_time": "2023-07-28T12:12:49.340528Z"
    }
   },
   "outputs": [],
   "source": [
    "PS_collection_site = pd.DataFrame()\n",
    "for provider in sorted(get_dirs(home)): ## get_dirs will get the provider dirs in updog\n",
    "    PS_collection_site = get_collection_site(join(home, provider), provider, PS_collection_site) ## File rename: pdx_models to pdx_model using the provider path\n",
    "Unique_CS = PS_collection_site.sort_values(by=['collection_site'], key=lambda col: col.str.lower()).drop_duplicates(subset=['provider', 'collection_site'], keep='first').reset_index(drop=True)"
   ]
  },
  {
   "cell_type": "code",
   "execution_count": 59,
   "outputs": [
    {
     "data": {
      "text/plain": "['4th ventricle',\n 'Abdomen',\n 'Abdomen Ascites',\n 'Abdominal',\n 'Abdominal Cavity',\n 'Abdominal Mass',\n 'Abdominal Wall',\n 'Abdominopelvic Cavity',\n 'Adrenal',\n 'Adrenal Cortex',\n 'Adrenal Gland',\n 'Adrenal Mass',\n 'Adrenal Resection',\n 'Adrenal Tissue',\n 'Alveolus',\n 'Ampulla',\n 'Ampulla of Vater',\n 'Anal',\n 'Anus',\n 'Aortocaval',\n 'Arm',\n 'Ascending Colon',\n 'Ascites',\n 'Ascites fluid',\n 'Axilla',\n 'Axillary Lymph Node',\n 'Back',\n 'Back Mass',\n 'Back soft tissue',\n 'Base Of Tongue',\n 'Bilateral',\n 'Bile Duct',\n 'Biliary Tract',\n 'Bladder',\n 'Bladder Dome',\n 'Blood',\n 'Bone',\n 'Bone (Left Proximal Humerus)',\n 'Bone (right humerus)',\n 'Bone Marrow',\n 'Bowel',\n 'Brachial Muscle',\n 'Brain',\n 'Brain (Right Cerebellum, Right Parietal)',\n 'Brain Stem',\n 'Breast',\n 'Bronchus',\n 'Buccal Mucosa',\n 'Buttock',\n 'Caecum',\n 'Calf',\n 'Cecum',\n 'Cerebellar Tentorium',\n 'Cerebellum',\n 'Cerebral hemisphere',\n 'Cerebrospinal fluid ',\n 'Cerebrum',\n 'Cervical endometrium',\n 'Cervical Lymph Node',\n 'Cervical lymph node',\n 'Cervical node',\n 'Cervical oesophagus',\n 'Cervix',\n 'Chest',\n 'Chest Mass',\n 'Chest wall',\n 'Chest Wall',\n 'Chest Wall/Subcutaneous Mass Ribs 3-6',\n 'Clivus',\n 'CNS',\n 'Colon',\n 'Colon NOS',\n 'Colon, Sigmoid',\n 'Common Bile Duct',\n 'Common duct node',\n 'Connective Tissue',\n 'Descending Colon',\n 'Diaphragm',\n 'Digestive/Gastrointestinal',\n 'Distal Esophagus (Lower Thoracic Esophagus)',\n 'Distal Esophagus And Proximal Stomach',\n 'Distal femur',\n 'Distal pancreas/spleen',\n 'Distal Transverse Colon',\n 'Duodenum',\n 'Endometrium',\n 'Erythroleukemia blasts',\n 'Eso-Intrathorasic Lymph Node',\n 'Esophagastric Junction',\n 'Esophageal',\n 'Esophageal Lymph Node',\n 'Esophagus',\n 'Esophagus - distal third',\n 'Esophagus / Lung',\n 'Esophagus Supraclavicular Lymph Node',\n 'Extrahepatic bile duct',\n 'Eye',\n 'Eye ',\n 'Femalelank Mass',\n 'Femur',\n 'Femur ',\n 'Floor Of Mouth',\n 'Frontal Brain lobe',\n 'Frontal Cortex',\n 'Frontal Lobe',\n 'Gall Bladder',\n 'Gastric',\n 'gastric fundus',\n 'Gastric Peritoneal Noule',\n 'Gastro-oesophageal junction (cardia)',\n 'Gastroesophageal Junction',\n 'Gastroesophageal Junction ',\n 'Genitourinary',\n 'Glottis',\n 'Groin lymph node',\n 'Hard Palate',\n 'HCI-032 PDX',\n 'HCI-040 PDX',\n 'Head',\n 'Hepatic Duct Bifurcation',\n 'Hepatic Flexure of Colon',\n 'Hollow Bone',\n 'Humerus',\n 'Humerus ',\n 'Hypopharynx',\n 'Ileocecal Valve',\n 'Ileum',\n 'Iliac Node (Groin)',\n 'Ilium',\n 'Inferior leg ',\n 'Infratemporal fossa',\n 'Inguinal Lymph Node',\n 'Inguinal Mass',\n 'Innominate Bone',\n 'Intracranial',\n 'Intrahepatic Duct',\n 'intraperitoneal cavity',\n 'Jaw',\n 'Jejunum/Ilium',\n 'Kidney',\n 'Kidney  ',\n 'Larynx',\n 'Larynx (Glottic)',\n 'Larynx (Subglottic)',\n 'Left Breast',\n 'Left Colon',\n 'Left Distal Femur',\n 'Left Femur',\n 'Left Kidney',\n 'Left Knee',\n 'Left Leg',\n 'Left Lower Lobe Lung',\n 'Left Lower Lung Lobe',\n 'Left Lung',\n 'Left Occipital mass',\n 'Left parieto-occipital lobe',\n 'Left Posterior Shoulder',\n 'Left Proximal Tibia',\n 'Left supraclavicular lymph node',\n 'Left supraclavicular region',\n 'Left Temple',\n 'Left temporal lobe',\n 'Left thigh',\n 'Left Upper And Lower Lobe Lung',\n 'Left Upper Lobe Lung',\n 'Left Upper Lobe Lung Invasive Into Bronchus And Lower Lobe',\n 'Left ureter',\n 'Left Vulva',\n 'Leg',\n 'Leukapheresis',\n 'Liver',\n 'Liver ',\n 'Liver & Lung',\n 'Liver metastasis',\n 'Liver, Left Lobe',\n 'Local Lymph Node',\n 'Lower Alveolus And Gingiva',\n 'Lower Back',\n 'Lower Extremity',\n 'Lower Gingiva',\n 'Lower intrathoracic oesophagus',\n 'Lower Left Lobe Lung',\n 'Lower Lobe, Lung',\n 'Lower right lung lobe',\n 'Lung',\n 'Lung ',\n 'Lung Lymph Node',\n 'Lung mass',\n 'Lung metastasis',\n 'lung metastasis',\n 'Lung/pleura',\n 'Lymph Node',\n 'Lymph Node ',\n 'Lymphatic system',\n 'Mammary gland',\n 'Mammary Gland',\n 'Mammary gland/duct',\n 'Maxilla',\n 'Mediastinal Lymph Node',\n 'Mediastinum',\n 'Mesenteric Lymph Node',\n 'Mesenterium',\n 'Middle intrathoracic oesophagus',\n 'Middle Lobe, Lung',\n 'Mouth',\n 'Mouth floor',\n 'Mouth Floor',\n 'Muscle',\n 'Neck',\n 'Neck ',\n 'Neck Mass',\n 'Neck of the urinary bladder',\n 'NET / Axillary Lymph Node',\n 'Neural',\n 'Not collected',\n 'Not Collected',\n 'Not Provided',\n 'Not provided',\n 'Not reported',\n 'Occipital Lobe',\n 'Oesophagus',\n 'Omentum',\n 'Oral Alveolus',\n 'Oral Cavity',\n 'Oral floor',\n 'Oral, gingiva',\n 'Orbit',\n 'Orbit ',\n 'Oropharynx',\n 'Os frontalis',\n 'Other',\n 'Ovary',\n 'Pancreas',\n 'Pancreas ',\n 'Pancreatic body',\n 'Pancreatic duct',\n 'Pancreatic head',\n 'Pancreatic NET & Liver',\n 'Pancreatic tail',\n 'Paracaval Lymph Node',\n 'Paracentesis',\n 'Paragastric Lymph Node',\n 'Parapharyngeal',\n 'Pararenal lymph node',\n 'Paraspinal mass',\n 'Paraspinal mass ',\n 'Paraspinal mass resection',\n 'Paratesticular',\n 'Parathyroid / Neck',\n 'Paratracheal Lymph Node',\n 'Parietal Lobe',\n 'Pelvic',\n 'Pelvic Mass',\n 'Pelvis',\n 'Peri-Rectal Mass',\n 'Pericardial Effusion',\n 'Pericardial fluid',\n 'Pericardium',\n 'Perineum',\n 'Peripheral Blood',\n 'Peripheral Fluid',\n 'Peritoneal',\n 'Peritoneal & Ascites',\n 'Peritoneal Ascites',\n 'Peritoneal ascitic fluid ',\n 'Peritoneal Cavity',\n 'Peritoneal cavity',\n 'Peritoneal Effusion',\n 'Peritoneal Fluid',\n 'Peritoneal mass',\n 'Peritoneum',\n 'Peritracheal ',\n 'Pharynx',\n 'Pineal',\n 'Placenta',\n 'Pleura',\n 'Pleural cavity',\n 'Pleural Cavity',\n 'Pleural Effusion',\n 'Pleural effusion',\n 'Pleural Effusion fluid',\n 'Pleural Fluid',\n 'Pleural fluid',\n 'Pontine meninges ',\n 'Post Mortem Blood',\n 'Post Mortem Liver ',\n 'Post-Cricoid',\n 'Posterior Fossa',\n 'Posterior mediastinum',\n 'Primary Colon',\n 'Primary Colon & Liver',\n 'Primary Colon L',\n 'Primary Colon R',\n 'Primary Colon Recto-Sigmoid',\n 'Primary Colon Sigmoid',\n 'Primary Tumour',\n 'Prostate',\n 'Prostate gland',\n 'Pyloric lymph nodes',\n 'Rectal / Abdomen',\n 'Rectosigmoid junction',\n 'Rectum',\n 'Rectum And Distal Sigmoid',\n 'Renal',\n 'Renal Pelvis',\n 'Renal pelvis',\n 'Respiratory/Thoracic',\n 'Retro-peritoneal Lymph Node',\n 'Retromolar Trigone',\n 'Retroperitoneal embroyonal tumour',\n 'Retroperitoneal Lymph Node',\n 'Retroperitoneal Mass',\n 'Retroperitoneum',\n 'Retroperitoneum ',\n 'Right Axillary lymph node',\n 'Right Axillary Lymph Node',\n 'Right Breast',\n 'Right Breast metastasis',\n 'Right Buttock',\n 'Right Cheek',\n 'Right colon',\n 'Right Colon',\n 'Right Distal Femur',\n 'Right femur/rib/vertebra',\n 'Right frontal parieto-occipital cortex',\n 'Right Humerus',\n 'Right Inguinal Mass',\n 'Right Kidney',\n 'Right Lower Lobe',\n 'Right Lower Lobe Lung',\n 'Right Neck mass',\n 'Right parietal lobe',\n 'Right Parietal Lobe',\n 'Right Popliteal',\n 'Right Proximal Ulna',\n 'Right Sylvian Fissure',\n 'Right temporal lobe',\n 'Right upper lobe lung',\n 'Right Upper Lobe Lung',\n 'Sacral bone',\n 'Sacral Bone',\n 'Sacral Vertebrae',\n 'Salivary gland',\n 'Scalp',\n 'Scalp And Right Parotid',\n 'Scapula',\n 'Shoulder',\n 'Shoulder Tumour',\n 'Sigmoid',\n 'Sigmoid Colon',\n 'Sigmoid colon',\n 'Sigmoid Colon And Distal Anastomotic Margin',\n 'Sigmoid/Rectum',\n 'Skeletal Muscle',\n 'Skin',\n 'Skin  ',\n 'Skin (Lower Leg)',\n 'Skin Back',\n 'Skin Of Breast',\n 'Skin, Left Thigh',\n 'Skin, Left Upper Back',\n 'Skin, Right Leg',\n 'Skin, Right Posterior Arm',\n 'Small intestine',\n 'Small Intestine',\n 'Soft tissue',\n 'Soft Tissue',\n 'Soft Tissue, Left Lateral Mallelos',\n 'Spinal Fluid',\n 'Spine',\n 'Spleen',\n 'Splenic Flexure Of Colon',\n 'Splenic Flexure of Colon',\n 'Sternal Mass',\n 'Stomach',\n 'stomach',\n 'Stomach ',\n 'Stomach (NOS)',\n 'Subcutaneous Plasmacytoma',\n 'Subcutaneous tissue',\n 'Submaxillary salivary gland',\n 'subserosa of fallopian tube',\n 'Superior leg ',\n 'Supra-orbital area',\n 'Supra-Orbital Area',\n 'Supraclavicular',\n 'Supraclavicular Fossa',\n 'Supraclavicular lymph node',\n 'Supraglottis',\n 'Synovium',\n 'Temporal Cortex',\n 'Temporal Lobe',\n 'Temporo-Occipital Lobe',\n 'Testes ',\n 'Testis',\n 'Thalamus',\n 'Thigh',\n 'Thigh ',\n 'Thigh muscle',\n 'Thoracic Lymph Node',\n 'Thoracic Mass',\n 'Thorax',\n 'Thumb ',\n 'Thyroid',\n 'Thyroid (Retrosternal mass)',\n 'Tibia',\n 'Tongue',\n 'Tonsil',\n 'Transverse',\n 'Transverse And Left Colon',\n 'Transverse colon',\n 'Transverse Colon',\n 'Umbilicus',\n 'Under Finger Nail',\n 'Upper (cervical) oesophagus',\n 'Upper Limb NOS',\n 'Upper Lobe, Lung',\n 'Upper maxilla',\n 'Upper Mid Descending Colon',\n 'Urinary Bladder',\n 'Uterine Body',\n 'Uterine cervix',\n 'Uterine Cervix',\n 'Uterine Corpus',\n 'Uterus',\n 'Uveal Melanoma',\n 'Vagina',\n 'Ventricular mass',\n 'Vertebral bone',\n 'Vulva']"
     },
     "execution_count": 59,
     "metadata": {},
     "output_type": "execute_result"
    }
   ],
   "source": [
    "sort_case_insensitive(list(PS_collection_site.collection_site.unique()))"
   ],
   "metadata": {
    "collapsed": false,
    "ExecuteTime": {
     "end_time": "2023-07-28T12:12:49.811209Z",
     "start_time": "2023-07-28T12:12:49.794138Z"
    }
   }
  },
  {
   "cell_type": "code",
   "execution_count": 56,
   "outputs": [
    {
     "data": {
      "text/plain": "['4th ventricle',\n 'Abdomen',\n 'Abdomen Ascites',\n 'Abdominal',\n 'Abdominal Cavity',\n 'Abdominal Mass',\n 'Abdominal Wall',\n 'Abdominopelvic Cavity',\n 'Adrenal',\n 'Adrenal Cortex',\n 'Adrenal Gland',\n 'Adrenal Mass',\n 'Adrenal Resection',\n 'Adrenal Tissue',\n 'Alveolus',\n 'Ampulla',\n 'Ampulla of Vater',\n 'Anal',\n 'Anus',\n 'Aortocaval',\n 'Arm',\n 'Ascending Colon',\n 'Ascites',\n 'Ascites ',\n 'Ascites fluid',\n 'Axilla',\n 'Axillary Lymph Node',\n 'Back',\n 'Back Mass',\n 'Back soft tissue',\n 'Base Of Tongue',\n 'Bilateral',\n 'Bile Duct',\n 'Biliary Tract',\n 'Bladder',\n 'Bladder Dome',\n 'Blood',\n 'Bone',\n 'Bone (Left Proximal Humerus)',\n 'Bone (right humerus)',\n 'Bone Marrow',\n 'Bowel',\n 'Brachial Muscle',\n 'Brain',\n 'Brain (Right Cerebellum, Right Parietal)',\n 'Brain Stem',\n 'Breast',\n 'Bronchus',\n 'Buccal Mucosa',\n 'Buttock',\n 'Caecum',\n 'Calf',\n 'Cecum',\n 'Cerebellar Tentorium',\n 'Cerebellum',\n 'Cerebral hemisphere',\n 'Cerebrospinal fluid ',\n 'Cerebrum',\n 'Cervical endometrium',\n 'Cervical Lymph Node',\n 'Cervical lymph node',\n 'Cervical node',\n 'Cervical oesophagus',\n 'Cervix',\n 'Chest',\n 'Chest Mass',\n 'Chest Wall',\n 'Chest wall',\n 'Chest Wall/Subcutaneous Mass Ribs 3-6',\n 'Clivus',\n 'CNS',\n 'Colon',\n 'Colon NOS',\n 'Colon, Sigmoid',\n 'Common Bile Duct',\n 'Common duct node',\n 'Connective Tissue',\n 'Descending Colon',\n 'Diaphragm',\n 'Digestive/Gastrointestinal',\n 'Distal Esophagus (Lower Thoracic Esophagus)',\n 'Distal Esophagus And Proximal Stomach',\n 'Distal femur',\n 'Distal pancreas/spleen',\n 'Distal Transverse Colon',\n 'Duodenum',\n 'Endometrium',\n 'Erythroleukemia blasts',\n 'Eso-Intrathorasic Lymph Node',\n 'Esophagastric Junction',\n 'Esophageal',\n 'Esophageal Lymph Node',\n 'Esophagus',\n 'Esophagus - distal third',\n 'Esophagus / Lung',\n 'Esophagus Supraclavicular Lymph Node',\n 'Extrahepatic bile duct',\n 'Eye',\n 'Eye ',\n 'Femalelank Mass',\n 'Femur',\n 'Femur ',\n 'Floor Of Mouth',\n 'Frontal Brain lobe',\n 'Frontal Cortex',\n 'Frontal Lobe',\n 'Gall Bladder',\n 'Gastric',\n 'gastric fundus',\n 'Gastric Peritoneal Noule',\n 'Gastro-oesophageal junction (cardia)',\n 'Gastroesophageal Junction',\n 'Gastroesophageal Junction ',\n 'Gastroesophagel Junction',\n 'Genitourinary',\n 'Glottis',\n 'Groin lymph node',\n 'Hard Palate',\n 'HCI-032 PDX',\n 'HCI-040 PDX',\n 'Head',\n 'Hepatic Duct Bifurcation',\n 'Hepatic Flexure of Colon',\n 'Hollow Bone',\n 'Humerus',\n 'Humerus ',\n 'Hypopharynx',\n 'Ileocecal Valve',\n 'Ileum',\n 'Iliac Node (Groin)',\n 'Ilium',\n 'Inferior leg ',\n 'Infratemporal fossa',\n 'Inguinal Lymph Node',\n 'Inguinal Mass',\n 'Innominate Bone',\n 'Intracranial',\n 'Intrahepatic Duct',\n 'intraperitoneal cavity',\n 'Jaw',\n 'Jejunum/Ilium',\n 'Kidney',\n 'Kidney  ',\n 'Larynx',\n 'Larynx (Glottic)',\n 'Larynx (Subglottic)',\n 'Left Breast',\n 'Left Colon',\n 'Left Distal Femur',\n 'Left Femur',\n 'Left Kidney',\n 'Left Knee',\n 'Left Leg',\n 'Left Lower Lobe Lung',\n 'Left Lower Lung Lobe',\n 'Left Lung',\n 'Left Occipital mass',\n 'Left parieto-occipital lobe',\n 'Left Posterior Shoulder',\n 'Left Proximal Tibia',\n 'Left supraclavicular lymph node',\n 'Left supraclavicular region',\n 'Left Temple',\n 'Left temporal lobe',\n 'Left thigh',\n 'Left Upper And Lower Lobe Lung',\n 'Left Upper Lobe Lung',\n 'Left Upper Lobe Lung Invasive Into Bronchus And Lower Lobe',\n 'Left ureter',\n 'Left Vulva',\n 'Leg',\n 'Leukapheresis',\n 'Liver',\n 'Liver ',\n 'Liver & Lung',\n 'Liver metastasis',\n 'Liver, Left Lobe',\n 'Local Lymph Node',\n 'Lower Alveolus And Gingiva',\n 'Lower Back',\n 'Lower Extremity',\n 'Lower Gingiva',\n 'Lower intrathoracic oesophagus',\n 'Lower Left Lobe Lung',\n 'Lower Lobe, Lung',\n 'Lower right lung lobe',\n 'Lung',\n 'Lung ',\n 'Lung Lymph Node',\n 'Lung mass',\n 'Lung metastasis',\n 'lung metastasis',\n 'Lung/pleura',\n 'Lymph Node',\n 'Lymph Node ',\n 'Lymphatic system',\n 'Mammary gland',\n 'Mammary Gland',\n 'Mammary gland/duct',\n 'Maxilla',\n 'Mediastinal Lymph Node',\n 'Mediastinum',\n 'Mesenteric Lymph Node',\n 'Mesenterium',\n 'Middle intrathoracic oesophagus',\n 'Middle Lobe, Lung',\n 'Mouth',\n 'Mouth floor',\n 'Mouth Floor',\n 'Muscle',\n 'Neck',\n 'Neck ',\n 'Neck Mass',\n 'Neck of the urinary bladder',\n 'NET / Axillary Lymph Node',\n 'Neural',\n 'Not collected',\n 'Not Collected',\n 'Not provided',\n 'Not Provided',\n 'Not reported',\n 'NS',\n 'Occipital Lobe',\n 'Oesophagus',\n 'Omentum',\n 'Oral Aveolus',\n 'Oral Cavity',\n 'Oral floor',\n 'Oral, gingiva',\n 'Orbit',\n 'Orbit ',\n 'Oropharynx',\n 'Os frontalis',\n 'Other',\n 'Ovary',\n 'Pancreas',\n 'Pancreas ',\n 'Pancreatic body',\n 'Pancreatic duct',\n 'Pancreatic head',\n 'Pancreatic NET & Liver',\n 'Pancreatic tail',\n 'Paracaval Lymph Node',\n 'Paracentesis',\n 'Paragastric Lymph Node',\n 'Parapharyngeal',\n 'Pararenal lymph node',\n 'Paraspinal mass',\n 'Paraspinal mass ',\n 'Paraspinal mass resection',\n 'Paratesticular',\n 'Parathyroid / Neck',\n 'Paratracheal Lymph Node',\n 'Parietal Lobe',\n 'Pelvic',\n 'Pelvic Mass',\n 'Pelvis',\n 'Peri-Rectal Mass',\n 'Pericardial Effusion',\n 'Pericardial fluid',\n 'Pericardium',\n 'Perineum',\n 'Peripheral Blood',\n 'Peripheral Fluid',\n 'Peritoneal',\n 'Peritoneal & Ascites',\n 'Peritoneal Ascites',\n 'Peritoneal ascitic fluid ',\n 'Peritoneal cavity',\n 'Peritoneal Cavity',\n 'Peritoneal Effusion',\n 'Peritoneal Fluid',\n 'Peritoneal mass',\n 'Peritoneum',\n 'Peritracheal ',\n 'Pharynx',\n 'Pineal',\n 'Placenta',\n 'Pleura',\n 'Pleural cavity',\n 'Pleural Cavity',\n 'Pleural effusion',\n 'Pleural Effusion',\n 'Pleural Effusion fluid',\n 'Pleural fluid',\n 'Pleural Fluid',\n 'Plueral Effusion',\n 'Pontine meninges ',\n 'Post Mortem Blood',\n 'Post Mortem Liver ',\n 'Post-Cricoid',\n 'Posterior Fossa',\n 'Posterior mediastinum',\n 'Primary Colon',\n 'Primary Colon & Liver',\n 'Primary Colon L',\n 'Primary Colon R',\n 'Primary Colon Recto-Sigmoid',\n 'Primary Colon Sigmoid',\n 'Primary Tumour',\n 'Prostate',\n 'Prostate gland',\n 'Pyloric lymph nodes',\n 'Rectal / Abdomen',\n 'Rectosigmoid junction',\n 'Rectum',\n 'Rectum And Distal Sigmoid',\n 'Renal',\n 'Renal pelvis',\n 'Renal Pelvis',\n 'Respiratory/Thoracic',\n 'Retro-peritoneal Lymph Node',\n 'Retromolar Trigone',\n 'Retroperitoneal embroyonal tumour',\n 'Retroperitoneal Lymph Node',\n 'Retroperitoneal Mass',\n 'Retroperitoneum',\n 'Retroperitoneum ',\n 'Right Axillary lymph node',\n 'Right Axillary Lymph Node',\n 'Right Breast',\n 'Right Breast metastasis',\n 'Right Buttock',\n 'Right Cheek',\n 'Right colon',\n 'Right Colon',\n 'Right Distal Femur',\n 'Right femur/rib/vertebra',\n 'Right frontal parieto-occipital cortex',\n 'Right Humerus',\n 'Right Inguinal Mass',\n 'Right Kidney',\n 'Right Lower Lobe',\n 'Right Lower Lobe Lung',\n 'Right Neck mass',\n 'Right parietal lobe',\n 'Right Parietal Lobe',\n 'Right Popliteal',\n 'Right Proximal Ulna',\n 'Right Sylvian Fissure',\n 'Right temporal lobe',\n 'Right Upper Lobe Lung',\n 'Right upper lobe lung',\n 'Sacral bone',\n 'Sacral Bone',\n 'Sacral Vertebrae',\n 'Salivary gland',\n 'Scalp',\n 'Scalp And Right Parotid',\n 'Scapula',\n 'Shoulder',\n 'Shoulder Tumour',\n 'Sigmoid',\n 'Sigmoid Colon',\n 'Sigmoid colon',\n 'Sigmoid Colon And Distal Anastomotic Margin',\n 'Sigmoid/Rectum',\n 'Skeletal Muscle',\n 'Skin',\n 'Skin  ',\n 'Skin (Lower Leg)',\n 'Skin Back',\n 'Skin Of Breast',\n 'Skin, Left Thigh',\n 'Skin, Left Upper Back',\n 'Skin, Right Leg',\n 'Skin, Right Posterior Arm',\n 'Small Intestine',\n 'Small intestine',\n 'Soft tissue',\n 'Soft Tissue',\n 'Soft Tissue, Left Lateral Mallelos',\n 'Spinal Fluid',\n 'Spine',\n 'Spleen',\n 'Splenic Flexure of Colon',\n 'Splenic Flexure Of Colon',\n 'Sternal Mass',\n 'stomach',\n 'Stomach',\n 'Stomach ',\n 'Stomach (NOS)',\n 'Subcutaneous Plasmacytoma',\n 'Subcutaneous tissue',\n 'Submaxillary salivary gland',\n 'subserosa of fallopian tube',\n 'Superior leg ',\n 'Supra-orbital area',\n 'Supra-Orbital Area',\n 'Supraclavicular',\n 'Supraclavicular Fossa',\n 'Supraclavicular lymph node',\n 'Supraglottis',\n 'Synovium',\n 'Temporal Cortex',\n 'Temporal Lobe',\n 'Temporo-Occipital Lobe',\n 'Testes ',\n 'Testis',\n 'Thalamus',\n 'Thigh',\n 'Thigh ',\n 'Thigh muscle',\n 'Thoracic Lymph Node',\n 'Thoracic Mass',\n 'Thorax',\n 'Thumb ',\n 'Thyroid',\n 'Thyroid (Retrosternal mass)',\n 'Tibia',\n 'Tongue',\n 'Tonsil',\n 'Transverse',\n 'Transverse And Left Colon',\n 'Transverse Colon',\n 'Transverse colon',\n 'Umbilicus',\n 'Under Finger Nail',\n 'Upper (cervical) oesophagus',\n 'Upper Limb NOS',\n 'Upper Lobe, Lung',\n 'Upper maxilla',\n 'Upper Mid Descending Colon',\n 'Urinary Bladder',\n 'Uterine Body',\n 'Uterine cervix',\n 'Uterine Cervix',\n 'Uterine Corpus',\n 'Uterus',\n 'Uveal Melanoma',\n 'Vagina',\n 'Ventricular mass',\n 'Vertebral bone',\n 'Vulva']"
     },
     "execution_count": 56,
     "metadata": {},
     "output_type": "execute_result"
    }
   ],
   "source": [
    "list(Unique_CS.collection_site.unique())"
   ],
   "metadata": {
    "collapsed": false,
    "ExecuteTime": {
     "end_time": "2023-07-28T12:05:43.217048Z",
     "start_time": "2023-07-28T12:05:43.201344Z"
    }
   }
  },
  {
   "cell_type": "code",
   "execution_count": null,
   "outputs": [],
   "source": [],
   "metadata": {
    "collapsed": false
   }
  },
  {
   "cell_type": "markdown",
   "source": [
    "## Data type STRING to Number"
   ],
   "metadata": {
    "collapsed": false
   }
  },
  {
   "cell_type": "code",
   "execution_count": 32,
   "outputs": [],
   "source": [
    "def change_data_type(path, provider, mol_type):\n",
    "    cols = {\"cna\": [\"log10r_cna\", \"log2r_cna\"],\n",
    "            \"mut\": [\"read_depth\"], ## \"allele_frequency\" and \"seq_start_position: cant be set as 0\n",
    "            \"expression\": [\"z_score\", \"rnaseq_tpm\", \"rnaseq_fpkm\", \"rnaseq_count\",\n",
    "                           \"affy_hgea_expression_value\", \"illumina_hgea_expression_value\"]} ## \"rnaseq_coverage\" cant be set as 0\n",
    "\n",
    "    file_list = get_files(path)\n",
    "    files_to_extract = [f for f in file_list if f.endswith('.tsv')]\n",
    "    fillcols = cols[mol_type]\n",
    "    if len(files_to_extract)>0:\n",
    "        print(\"Reading Patient sample for: \"+ provider)\n",
    "        for f in files_to_extract:\n",
    "            ## Implement some checks for expression columns\n",
    "            file_path = join(path, f)\n",
    "            metadata = read_metadata_without_fields(file_path)\n",
    "            metadata[fillcols] = metadata[fillcols].fillna(0)\n",
    "            metadata.to_csv(file_path, sep='\\t', index=False)\n",
    "    else:\n",
    "        print(provider + \": No file found.\")"
   ],
   "metadata": {
    "collapsed": false,
    "ExecuteTime": {
     "end_time": "2023-11-13T12:27:37.698155Z",
     "start_time": "2023-11-13T12:27:37.667453Z"
    }
   }
  },
  {
   "cell_type": "code",
   "execution_count": 33,
   "outputs": [
    {
     "name": "stdout",
     "output_type": "stream",
     "text": [
      "BROD: No file found.\n",
      "Reading Patient sample for: CCIA\n",
      "Reading Patient sample for: CHOP\n",
      "Reading Patient sample for: CMP\n",
      "Reading Patient sample for: CRL\n",
      "CSHL: No file found.\n",
      "Reading Patient sample for: CUIMC\n",
      "Curie-BC: No file found.\n",
      "Reading Patient sample for: Curie-LC\n",
      "Curie-OC: No file found.\n",
      "DFCI-CPDM: No file found.\n",
      "Reading Patient sample for: GCCRI\n",
      "HCI-BCM: No file found.\n",
      "HKU: No file found.\n",
      "Reading Patient sample for: IRCC-CRC\n",
      "Reading Patient sample for: IRCC-GC\n",
      "Reading Patient sample for: JAX\n",
      "Reading Patient sample for: LIH\n",
      "Reading Patient sample for: LurieChildrens\n",
      "MDAnderson: No file found.\n",
      "Reading Patient sample for: MDAnderson-CCH\n",
      "Reading Patient sample for: NKI\n",
      "PDMR: No file found.\n",
      "Reading Patient sample for: PMLB\n",
      "PMLB-Organoid: No file found.\n",
      "SANG: No file found.\n",
      "SJCRH: No file found.\n",
      "TRACE: No file found.\n",
      "UCD: No file found.\n",
      "UMCG: No file found.\n",
      "Reading Patient sample for: UOC-BC\n",
      "UOM-BC: No file found.\n",
      "VHIO-BC: No file found.\n",
      "VHIO-CRC: No file found.\n",
      "VHIO-PC: No file found.\n",
      "WUSTL: No file found.\n",
      "Wistar-MDAnderson-Penn: No file found.\n",
      "BROD: No file found.\n",
      "Reading Patient sample for: CCIA\n",
      "Reading Patient sample for: CHOP\n",
      "Reading Patient sample for: CMP\n",
      "Reading Patient sample for: CRL\n",
      "CSHL: No file found.\n",
      "Reading Patient sample for: CUIMC\n",
      "Curie-BC: No file found.\n",
      "Curie-LC: No file found.\n",
      "Curie-OC: No file found.\n",
      "DFCI-CPDM: No file found.\n",
      "Reading Patient sample for: GCCRI\n",
      "HCI-BCM: No file found.\n",
      "HKU: No file found.\n",
      "Reading Patient sample for: IRCC-CRC\n",
      "IRCC-GC: No file found.\n",
      "Reading Patient sample for: JAX\n",
      "Reading Patient sample for: LIH\n",
      "Reading Patient sample for: LurieChildrens\n",
      "MDAnderson: No file found.\n",
      "Reading Patient sample for: MDAnderson-CCH\n",
      "Reading Patient sample for: NKI\n",
      "Reading Patient sample for: PDMR\n",
      "PMLB: No file found.\n",
      "PMLB-Organoid: No file found.\n",
      "SANG: No file found.\n",
      "SJCRH: No file found.\n",
      "TRACE: No file found.\n",
      "UCD: No file found.\n",
      "UMCG: No file found.\n",
      "Reading Patient sample for: UOC-BC\n",
      "Reading Patient sample for: UOM-BC\n",
      "VHIO-BC: No file found.\n",
      "VHIO-CRC: No file found.\n",
      "VHIO-PC: No file found.\n",
      "WUSTL: No file found.\n",
      "Wistar-MDAnderson-Penn: No file found.\n"
     ]
    }
   ],
   "source": [
    "mol_types = [\"cna\", \"mut\", \"expression\"]\n",
    "for mol_type in mol_types:\n",
    "    for provider in sorted(get_dirs(home)): ## get_dirs will get the provider dirs in updog\n",
    "        change_data_type(join(home, provider, mol_type), provider, mol_type) ## File rename: pdx_models to pdx_model using the"
   ],
   "metadata": {
    "collapsed": false,
    "ExecuteTime": {
     "end_time": "2023-11-13T13:20:54.361359Z",
     "start_time": "2023-11-13T12:27:38.031933Z"
    }
   }
  },
  {
   "cell_type": "code",
   "execution_count": 41,
   "outputs": [
    {
     "name": "stdout",
     "output_type": "stream",
     "text": [
      "1. BROD: 42\n",
      "2. CCIA: 1\n",
      "3. CHOP: 1\n",
      "4. CMP: 2\n",
      "5. CRL: 1\n",
      "6. CSHL: 38\n",
      "7. CUIMC: 2\n",
      "8. Curie-BC: 5\n",
      "9. Curie-LC: 2\n",
      "10. GCCRI: 1\n",
      "11. IRCC-CRC: 1\n",
      "12. IRCC-GC: 1\n",
      "13. JAX: 354\n",
      "14. LIH: 2\n",
      "15. LurieChildrens: 1\n",
      "16. MDAnderson-CCH: 1\n",
      "17. NKI: 7\n",
      "18. PDMR: 2\n",
      "19. PMLB: 3\n",
      "20. TRACE: 2\n",
      "21. UOC-BC: 2\n",
      "22. UOM-BC: 1\n",
      "23. VHIO-CRC: 2\n",
      "49.375\n"
     ]
    }
   ],
   "source": [],
   "metadata": {
    "collapsed": false,
    "ExecuteTime": {
     "end_time": "2023-11-13T15:14:23.146850Z",
     "start_time": "2023-11-13T15:14:23.089394Z"
    }
   }
  },
  {
   "cell_type": "code",
   "execution_count": null,
   "outputs": [],
   "source": [],
   "metadata": {
    "collapsed": false
   }
  },
  {
   "cell_type": "markdown",
   "source": [
    "## JAX Histology Images\n",
    "### Generate file list"
   ],
   "metadata": {
    "collapsed": false
   }
  },
  {
   "cell_type": "code",
   "execution_count": 55,
   "outputs": [],
   "source": [
    "JAX_Image_file_path = \"/Users/tushar/CancerModels/submission/JAX - BIA/JAXPDXHistologyImageDetails.xlsx\"\n",
    "JAX_BIA_fileList_path = \"/Users/tushar/CancerModels/submission/JAX - BIA/JAX_PDX_BIA_fileList.xlsx\"\n",
    "input_path = \"/Users/tushar/CancerModels/submission/JAX - BIA/uploads\"\n",
    "output_path = \"/Users/tushar/CancerModels/submission/JAX - BIA/submission\""
   ],
   "metadata": {
    "collapsed": false,
    "ExecuteTime": {
     "end_time": "2023-08-16T20:53:47.645645Z",
     "start_time": "2023-08-16T20:53:47.632413Z"
    }
   }
  },
  {
   "cell_type": "code",
   "execution_count": 45,
   "outputs": [],
   "source": [
    "def process_JAX_histology_excel(excel_in):\n",
    "    JAX_BIA_file = pd.read_excel(excel_in).sort_values(\"model_id\").reset_index(drop=True)\n",
    "    JAX_BIA_file.loc[JAX_BIA_file.description.str.contains(\"PDX\"), \"sample_type\"] = \"pdx\"\n",
    "    JAX_BIA_file.loc[JAX_BIA_file.description.str.contains(\"Patient\"), \"sample_type\"] = \"patient\"\n",
    "    JAX_BIA_file['passage'] = JAX_BIA_file['description'].str[:2]\n",
    "    JAX_BIA_file.loc[JAX_BIA_file.sample_type == 'patient', \"passage\"] = \"-\"\n",
    "    JAX_BIA_file = JAX_BIA_file[JAX_BIA_file.sample_type == \"pdx\"]\n",
    "    return JAX_BIA_file\n",
    "\n",
    "def convert_JPEG_to_TIFF(in_file, out_file):\n",
    "    im = Image.open(in_file)\n",
    "    im.save(out_file, 'TIFF')\n",
    "\n",
    "\n",
    "def generate_TIFF_and_fileList(dataframe, in_path, out_path, df_out_file):\n",
    "    if not exists(out_path):\n",
    "        makedirs(out_path)\n",
    "    dataframe['Files'] = 'submission/'+ dataframe['model_id'] +\"/\"+ dataframe['file'].str.replace(\".jpg\", \".tiff\")\n",
    "    unique_models = dataframe.model_id.unique()\n",
    "    for i in tqdm(range(0, len(unique_models)), desc =\"Processing model images: \"):\n",
    "        model = unique_models[i]\n",
    "        new_path = join(out_path, model)\n",
    "        if not exists(new_path):\n",
    "            makedirs(new_path)\n",
    "        subset = dataframe[dataframe.model_id == model]\n",
    "        files = list(subset.file)\n",
    "        for file in files:\n",
    "            out_file = file.replace(\".jpg\", \".tiff\")\n",
    "            convert_JPEG_to_TIFF(join(in_path, file), join(new_path, out_file))\n",
    "    dataframe.to_excel(df_out_file, index=False)\n",
    "\n",
    "def organise_data_for_BIA_submission(excel_in, excel_out, file_in, file_out):\n",
    "    dataframe = process_JAX_histology_excel(excel_in)\n",
    "    generate_TIFF_and_fileList(dataframe, file_in, file_out, excel_out)\n"
   ],
   "metadata": {
    "collapsed": false,
    "ExecuteTime": {
     "end_time": "2023-11-22T11:32:57.756818Z",
     "start_time": "2023-11-22T11:32:57.721794Z"
    }
   }
  },
  {
   "cell_type": "code",
   "execution_count": 52,
   "outputs": [],
   "source": [
    "organise_data_for_BIA_submission(JAX_Image_file_path, JAX_BIA_fileList_path, input_path, output_path)"
   ],
   "metadata": {
    "collapsed": false,
    "ExecuteTime": {
     "end_time": "2023-11-23T16:45:05.129955Z",
     "start_time": "2023-11-23T16:45:05.052844Z"
    }
   }
  },
  {
   "cell_type": "code",
   "execution_count": 53,
   "outputs": [
    {
     "name": "stderr",
     "output_type": "stream",
     "text": [
      "Processing model images: 100%|██████████| 433/433 [00:56<00:00,  7.73it/s]\n"
     ]
    }
   ],
   "source": [
    "JAX_BIA_file['file'].str.replace(\".jpg\", \".tiff\")"
   ],
   "metadata": {
    "collapsed": false,
    "ExecuteTime": {
     "end_time": "2023-11-23T16:46:05.782253Z",
     "start_time": "2023-11-23T16:45:05.891257Z"
    }
   }
  },
  {
   "cell_type": "code",
   "execution_count": null,
   "outputs": [],
   "source": [],
   "metadata": {
    "collapsed": false,
    "ExecuteTime": {
     "end_time": "2023-11-23T16:44:56.638715Z",
     "start_time": "2023-11-23T16:44:56.610369Z"
    }
   }
  },
  {
   "cell_type": "markdown",
   "source": [
    "## LIH Gene expression data"
   ],
   "metadata": {
    "collapsed": false
   }
  },
  {
   "cell_type": "code",
   "execution_count": 18,
   "outputs": [],
   "source": [
    "path = \"/Users/tushar/CancerModels/submission/LIH/NORLUX_PDOX_gene_Expression/\"\n",
    "files = [f for f in get_files(path) if f.endswith('.xlsx')]\n",
    "mol_sample = pd.read_csv(\"/Users/tushar/CancerModels/pdxfinder-data/data/UPDOG/LIH/LIH_molecular_metadata-sample.tsv\", sep='\\t')"
   ],
   "metadata": {
    "collapsed": false,
    "ExecuteTime": {
     "end_time": "2024-01-30T19:58:45.330995Z",
     "start_time": "2024-01-30T19:58:45.189179Z"
    }
   }
  },
  {
   "cell_type": "code",
   "execution_count": 21,
   "outputs": [
    {
     "name": "stderr",
     "output_type": "stream",
     "text": [
      "Processing gene expression data: 100%|██████████| 28/28 [09:43<00:00, 20.84s/it]\n"
     ]
    }
   ],
   "source": [
    "for i in tqdm(range(0, len(files)), desc =\"Processing gene expression data: \"):\n",
    "    f = files[i]\n",
    "    out_data = pd.read_csv(\"/Users/tushar/CancerModels/pdxfinder-data/template/active_templates/expression/expression_template-sheet.tsv\", sep=\"\\t\")\n",
    "    model = pd.read_excel(join(path, f), sheet_name=None, engine='openpyxl')\n",
    "    model = pd.concat(model.values(), ignore_index=True)\n",
    "    out_data[out_data.columns] = model[out_data.columns]\n",
    "    out_data[\"platform_id\"] = \"expression_NovaSeq_6000\"\n",
    "    out_data.drop(['platform'], axis=1).to_csv( join(path, \"LIH_expression_\" + f.replace(\".xlsx\", \".tsv\")), sep=\"\\t\", index=False)\n",
    "    #print(model.iloc[0, [\"model_id\", \"sample_id\", \"sample_origin\", \"passage\", \"host_strain_nomenclature\"]])"
   ],
   "metadata": {
    "collapsed": false,
    "ExecuteTime": {
     "end_time": "2024-01-30T20:08:43.716852Z",
     "start_time": "2024-01-30T19:59:00.132669Z"
    }
   }
  },
  {
   "cell_type": "code",
   "outputs": [],
   "source": [
    "import math"
   ],
   "metadata": {
    "collapsed": false,
    "ExecuteTime": {
     "end_time": "2024-01-31T10:40:44.021523Z",
     "start_time": "2024-01-31T10:40:43.953216Z"
    }
   },
   "execution_count": 102
  },
  {
   "cell_type": "markdown",
   "source": [
    "# Curie BC CNA data"
   ],
   "metadata": {
    "collapsed": false
   }
  },
  {
   "cell_type": "code",
   "outputs": [],
   "source": [
    "cna_data_path = '/Users/tushar/CancerModels/submission/Curie/mol'\n",
    "curie_bc_ps = '/Users/tushar/CancerModels/pdxfinder-data/data/UPDOG/Curie-BC/Curie-BC_metadata-patient_sample.tsv'\n",
    "curie_bc_mms = '/Users/tushar/CancerModels/pdxfinder-data/data/UPDOG/Curie-BC/Curie-BC_molecular_metadata-sample.tsv'\n",
    "curie_bc_mms = read_metadata_with_fields(curie_bc_mms)\n",
    "platform = {\"cytoscan array\": \"cna_cytoscan_array\", \"SNP6 array\": \"cna_snp6\"}\n",
    "files = [[platform[d], f.replace(' Cytoscan.xls', '').replace(' SNP6.xls', ''), join(cna_data_path, d, f)] for d in get_dirs(cna_data_path) for f in get_files(join(cna_data_path, d)) if f.__contains__('xls')]\n",
    "\n",
    "mol_sample = '/Users/tushar/CancerModels/submission/Curie/mol/cna_template_CGH_CN.xlsx'\n",
    "mol_sample = read_excel_sheets_merged(mol_sample)\n",
    "mol_sample = mol_sample[['model_id', 'sample_id', 'sample_origin', 'passage', 'host_strain_nomenclature', 'platform']] \n",
    "mol_sample['platform'] = mol_sample['platform'].str.replace(' HD', '').replace(platform).str.lower().replace(platform)\n",
    "mol_sample = mol_sample[mol_sample.platform.isin(platform.values())].drop_duplicates()\n",
    "mol_sample = mol_sample.merge(pd.DataFrame(files, columns=['platform', 'sample_id', 'filename']), on='sample_id', how='right')\n",
    "mol_sample['sample_origin'] = 'xenograft'\n",
    "mol_sample['passage'] = mol_sample['passage'].fillna(0).astype(int)\n",
    "mol_sample['host_strain_nomenclature'] = mol_sample['host_strain_nomenclature'].fillna('Crl:NU(Ico)-Foxn1nu').str.replace('Crl:NU(Ico)-Foxn1nu', 'Crl:NU(Ico)-Foxn1<sup>nu</sup>')\n",
    "mol_sample['platform_id'] = mol_sample['platform_y']\n",
    "mol_sample = mol_sample.rename(columns={'sample_id': 'model_id', 'model_id': 'sample_id'}).drop(['platform_y', 'platform_x'], axis=1)\n",
    "mol_sample.loc[mol_sample['model_id'] == 'HBCx-176', 'sample_id'] = 'BC1254'\n",
    "mol_sample.loc[mol_sample['model_id'] == 'HBCx-8', 'sample_id'] = 'BC138'"
   ],
   "metadata": {
    "collapsed": false,
    "ExecuteTime": {
     "end_time": "2024-01-31T11:03:55.296103Z",
     "start_time": "2024-01-31T11:03:55.211480Z"
    }
   },
   "execution_count": 112
  },
  {
   "cell_type": "code",
   "outputs": [
    {
     "name": "stdout",
     "output_type": "stream",
     "text": [
      "/Users/tushar/CancerModels/submission/Curie/mol/cytoscan array/HBCx-176 Cytoscan.xls\n",
      "/Users/tushar/CancerModels/submission/Curie/mol/cytoscan array/HBCx-124 Cytoscan.xls\n",
      "/Users/tushar/CancerModels/submission/Curie/mol/cytoscan array/HBCx-131 Cytoscan.xls\n",
      "/Users/tushar/CancerModels/submission/Curie/mol/cytoscan array/HBCx-137 Cytoscan.xls\n",
      "/Users/tushar/CancerModels/submission/Curie/mol/cytoscan array/HBCx-106 Cytoscan.xls\n",
      "/Users/tushar/CancerModels/submission/Curie/mol/cytoscan array/HBCx-92 Cytoscan.xls\n",
      "/Users/tushar/CancerModels/submission/Curie/mol/cytoscan array/HBCx-118 Cytoscan.xls\n",
      "/Users/tushar/CancerModels/submission/Curie/mol/cytoscan array/HBCx-139 Cytoscan.xls\n",
      "/Users/tushar/CancerModels/submission/Curie/mol/cytoscan array/HBCx-149 Cytoscan.xls\n",
      "/Users/tushar/CancerModels/submission/Curie/mol/cytoscan array/HBCx-180 Cytoscan.xls\n",
      "/Users/tushar/CancerModels/submission/Curie/mol/cytoscan array/HBCx-151 Cytoscan.xls\n",
      "/Users/tushar/CancerModels/submission/Curie/mol/cytoscan array/HBCx-134 Cytoscan.xls\n",
      "/Users/tushar/CancerModels/submission/Curie/mol/cytoscan array/HBCx-150 Cytoscan.xls\n",
      "/Users/tushar/CancerModels/submission/Curie/mol/cytoscan array/HBCx-142 Cytoscan.xls\n",
      "/Users/tushar/CancerModels/submission/Curie/mol/SNP6 array/HBCx-2 SNP6.xls\n",
      "/Users/tushar/CancerModels/submission/Curie/mol/SNP6 array/HBCx-8 SNP6.xls\n",
      "/Users/tushar/CancerModels/submission/Curie/mol/SNP6 array/HBCx-39 SNP6.xls\n",
      "/Users/tushar/CancerModels/submission/Curie/mol/SNP6 array/HBCx-30 SNP6.xls\n",
      "/Users/tushar/CancerModels/submission/Curie/mol/SNP6 array/HBCx-31 SNP6.xls\n"
     ]
    }
   ],
   "source": [
    "cna_template = pd.read_csv(\"/Users/tushar/CancerModels/pdxfinder-data/template/active_templates/cna/cna_template-sheet.tsv\", sep='\\t')\n",
    "mapper = {'chr': 'chromosome', 'chrStart': 'seq_start_position', 'chrEnd': 'seq_end_position', 'entrezid': 'ncbi_gene_id', 'Log2Ratio': 'log2r_cna'}\n",
    "for f in files:\n",
    "    pid, mid, fp = f\n",
    "    print(fp)\n",
    "    sid = mol_sample.loc[mol_sample['model_id'] == mid, 'sample_id'].reset_index(drop=True)[0]\n",
    "    if sid != None:\n",
    "        cna = pd.read_excel(fp, engine='xlrd')\n",
    "        cna['sample_id'] = sid\n",
    "        cna['platform_id'] = pid\n",
    "        cna.rename(columns=mapper, inplace=True)\n",
    "        cna['fold_change'] = 2**cna['log2r_cna']\n",
    "        cna['log10r_cna'] = cna['log2r_cna'] / math.log2(10)\n",
    "        for c in cna_template.columns:\n",
    "            if c not in cna.columns:\n",
    "                cna[c] = ''\n",
    "        cna = cna[cna_template.columns]\n",
    "        out_file = f'Curie-BC_cna_{mid}.tsv'\n",
    "        cna.to_csv(join('/Users/tushar/CancerModels/submission/Curie/cna', out_file), sep='\\t', index=False)\n",
    "    else:\n",
    "        print('No SID')"
   ],
   "metadata": {
    "collapsed": false,
    "ExecuteTime": {
     "end_time": "2024-01-31T11:01:04.473278Z",
     "start_time": "2024-01-31T11:00:41.169096Z"
    }
   },
   "execution_count": 109
  },
  {
   "cell_type": "code",
   "outputs": [
    {
     "data": {
      "text/plain": "                   Field                                           model_id  \\\n0           #Description  Unique identifier for all the PDXs derived fro...   \n1               #Example                                          CRC0228PR   \n2   #Format Requirements                                free alphanumerical   \n3            #Essential?                                          essential   \n4                    NaN                                             HBCx-3   \n..                   ...                                                ...   \n70                                                                   HBCx-2   \n71                                                                   HBCx-8   \n72                                                                  HBCx-39   \n73                                                                  HBCx-30   \n74                                                                  HBCx-31   \n\n                                            sample_id  \\\n0   Identifier of the sample from any patient tiss...   \n1                          CRC0228PRH0000000000D01000   \n2                                 free alphanumerical   \n3                                           essential   \n4                                            HBCx-3_S   \n..                                                ...   \n70                                               BC51   \n71                                              BC138   \n72                                              BC408   \n73                                              BC291   \n74                                              BC297   \n\n                                        sample_origin  \\\n0   The orgin of the sample - xenograft (extracted...   \n1                                           xenograft   \n2                                  xenograft, patient   \n3                                           essential   \n4                                           xenograft   \n..                                                ...   \n70                                          xenograft   \n71                                          xenograft   \n72                                          xenograft   \n73                                          xenograft   \n74                                          xenograft   \n\n                                              passage  \\\n0   Indicate the passage number of the sample wher...   \n1                                                   0   \n2                                 numerical, or blank   \n3                                           essential   \n4                                                   1   \n..                                                ...   \n70                                                 10   \n71                                                  0   \n72                                                  7   \n73                                                  8   \n74                                                  1   \n\n                                     host_strain_name  \\\n0   Host mouse strain name (e.g. NOD-SCID, NSG, et...   \n1                                            NOD SCID   \n2    follow strain name or Not Specified (if unknown)   \n3                                           essential   \n4                                                 NaN   \n..                                                ...   \n70                                                      \n71                                                      \n72                                                      \n73                                                      \n74                                                      \n\n                             host_strain_nomenclature  \\\n0   The full nomenclature form of the host mouse s...   \n1                    NOD.Cg-Prkdcscid Il2rgtm1Wjl/SzJ   \n2   https://www.jax.org/jax-mice-and-services/cust...   \n3                                           essential   \n4                      Crl:NU(Ico)-Foxn1<sup>nu</sup>   \n..                                                ...   \n70                     Crl:NU(Ico)-Foxn1<sup>nu</sup>   \n71                     Crl:NU(Ico)-Foxn1<sup>nu</sup>   \n72                     Crl:NU(Ico)-Foxn1<sup>nu</sup>   \n73                     Crl:NU(Ico)-Foxn1<sup>nu</sup>   \n74                     Crl:NU(Ico)-Foxn1<sup>nu</sup>   \n\n                      engrafted_tumor_collection_site  \\\n0   The anatomical site from which the xenograft s...   \n1                                        mammary glad   \n2                                 free alphanumerical   \n3                                           desirable   \n4                                      inter-scapular   \n..                                                ...   \n70                                                      \n71                                                      \n72                                                      \n73                                                      \n74                                                      \n\n                                         raw_data_url  \\\n0   Unique identify to platform metadata between s...   \n1                                           mutation1   \n2                                                 NaN   \n3                                           desirable   \n4                                                 NaN   \n..                                                ...   \n70                                                      \n71                                                      \n72                                                      \n73                                                      \n74                                                      \n\n                                          platform_id  \n0   Unique identify to platform metadata between s...  \n1                                           mutation1  \n2                                                 NaN  \n3                                           essential  \n4                   cytogenetics_immunohistochemistry  \n..                                                ...  \n70                                           cna_snp6  \n71                                           cna_snp6  \n72                                           cna_snp6  \n73                                           cna_snp6  \n74                                           cna_snp6  \n\n[75 rows x 10 columns]",
      "text/html": "<div>\n<style scoped>\n    .dataframe tbody tr th:only-of-type {\n        vertical-align: middle;\n    }\n\n    .dataframe tbody tr th {\n        vertical-align: top;\n    }\n\n    .dataframe thead th {\n        text-align: right;\n    }\n</style>\n<table border=\"1\" class=\"dataframe\">\n  <thead>\n    <tr style=\"text-align: right;\">\n      <th></th>\n      <th>Field</th>\n      <th>model_id</th>\n      <th>sample_id</th>\n      <th>sample_origin</th>\n      <th>passage</th>\n      <th>host_strain_name</th>\n      <th>host_strain_nomenclature</th>\n      <th>engrafted_tumor_collection_site</th>\n      <th>raw_data_url</th>\n      <th>platform_id</th>\n    </tr>\n  </thead>\n  <tbody>\n    <tr>\n      <th>0</th>\n      <td>#Description</td>\n      <td>Unique identifier for all the PDXs derived fro...</td>\n      <td>Identifier of the sample from any patient tiss...</td>\n      <td>The orgin of the sample - xenograft (extracted...</td>\n      <td>Indicate the passage number of the sample wher...</td>\n      <td>Host mouse strain name (e.g. NOD-SCID, NSG, et...</td>\n      <td>The full nomenclature form of the host mouse s...</td>\n      <td>The anatomical site from which the xenograft s...</td>\n      <td>Unique identify to platform metadata between s...</td>\n      <td>Unique identify to platform metadata between s...</td>\n    </tr>\n    <tr>\n      <th>1</th>\n      <td>#Example</td>\n      <td>CRC0228PR</td>\n      <td>CRC0228PRH0000000000D01000</td>\n      <td>xenograft</td>\n      <td>0</td>\n      <td>NOD SCID</td>\n      <td>NOD.Cg-Prkdcscid Il2rgtm1Wjl/SzJ</td>\n      <td>mammary glad</td>\n      <td>mutation1</td>\n      <td>mutation1</td>\n    </tr>\n    <tr>\n      <th>2</th>\n      <td>#Format Requirements</td>\n      <td>free alphanumerical</td>\n      <td>free alphanumerical</td>\n      <td>xenograft, patient</td>\n      <td>numerical, or blank</td>\n      <td>follow strain name or Not Specified (if unknown)</td>\n      <td>https://www.jax.org/jax-mice-and-services/cust...</td>\n      <td>free alphanumerical</td>\n      <td>NaN</td>\n      <td>NaN</td>\n    </tr>\n    <tr>\n      <th>3</th>\n      <td>#Essential?</td>\n      <td>essential</td>\n      <td>essential</td>\n      <td>essential</td>\n      <td>essential</td>\n      <td>essential</td>\n      <td>essential</td>\n      <td>desirable</td>\n      <td>desirable</td>\n      <td>essential</td>\n    </tr>\n    <tr>\n      <th>4</th>\n      <td>NaN</td>\n      <td>HBCx-3</td>\n      <td>HBCx-3_S</td>\n      <td>xenograft</td>\n      <td>1</td>\n      <td>NaN</td>\n      <td>Crl:NU(Ico)-Foxn1&lt;sup&gt;nu&lt;/sup&gt;</td>\n      <td>inter-scapular</td>\n      <td>NaN</td>\n      <td>cytogenetics_immunohistochemistry</td>\n    </tr>\n    <tr>\n      <th>...</th>\n      <td>...</td>\n      <td>...</td>\n      <td>...</td>\n      <td>...</td>\n      <td>...</td>\n      <td>...</td>\n      <td>...</td>\n      <td>...</td>\n      <td>...</td>\n      <td>...</td>\n    </tr>\n    <tr>\n      <th>70</th>\n      <td></td>\n      <td>HBCx-2</td>\n      <td>BC51</td>\n      <td>xenograft</td>\n      <td>10</td>\n      <td></td>\n      <td>Crl:NU(Ico)-Foxn1&lt;sup&gt;nu&lt;/sup&gt;</td>\n      <td></td>\n      <td></td>\n      <td>cna_snp6</td>\n    </tr>\n    <tr>\n      <th>71</th>\n      <td></td>\n      <td>HBCx-8</td>\n      <td>BC138</td>\n      <td>xenograft</td>\n      <td>0</td>\n      <td></td>\n      <td>Crl:NU(Ico)-Foxn1&lt;sup&gt;nu&lt;/sup&gt;</td>\n      <td></td>\n      <td></td>\n      <td>cna_snp6</td>\n    </tr>\n    <tr>\n      <th>72</th>\n      <td></td>\n      <td>HBCx-39</td>\n      <td>BC408</td>\n      <td>xenograft</td>\n      <td>7</td>\n      <td></td>\n      <td>Crl:NU(Ico)-Foxn1&lt;sup&gt;nu&lt;/sup&gt;</td>\n      <td></td>\n      <td></td>\n      <td>cna_snp6</td>\n    </tr>\n    <tr>\n      <th>73</th>\n      <td></td>\n      <td>HBCx-30</td>\n      <td>BC291</td>\n      <td>xenograft</td>\n      <td>8</td>\n      <td></td>\n      <td>Crl:NU(Ico)-Foxn1&lt;sup&gt;nu&lt;/sup&gt;</td>\n      <td></td>\n      <td></td>\n      <td>cna_snp6</td>\n    </tr>\n    <tr>\n      <th>74</th>\n      <td></td>\n      <td>HBCx-31</td>\n      <td>BC297</td>\n      <td>xenograft</td>\n      <td>1</td>\n      <td></td>\n      <td>Crl:NU(Ico)-Foxn1&lt;sup&gt;nu&lt;/sup&gt;</td>\n      <td></td>\n      <td></td>\n      <td>cna_snp6</td>\n    </tr>\n  </tbody>\n</table>\n<p>75 rows × 10 columns</p>\n</div>"
     },
     "execution_count": 114,
     "metadata": {},
     "output_type": "execute_result"
    }
   ],
   "source": [
    "for c in curie_bc_mms.columns:\n",
    "    if c not in mol_sample.columns:\n",
    "        mol_sample[c] = ''\n",
    "final_mms = pd.concat([curie_bc_mms, mol_sample[curie_bc_mms.columns]]).reset_index(drop=True)\n",
    "final_mms"
   ],
   "metadata": {
    "collapsed": false,
    "ExecuteTime": {
     "end_time": "2024-01-31T11:05:30.081371Z",
     "start_time": "2024-01-31T11:05:29.995535Z"
    }
   },
   "execution_count": 114
  },
  {
   "cell_type": "code",
   "outputs": [
    {
     "data": {
      "text/plain": "['BC51',\n 'BC138',\n 'BC297',\n 'BC408',\n 'BC965',\n 'BC1006',\n 'BC1060',\n 'BC1111',\n 'BC1115',\n 'BC1117',\n 'BC1128',\n 'BC1145',\n 'BC1151',\n 'BC1153',\n 'BC1254']"
     },
     "execution_count": 117,
     "metadata": {},
     "output_type": "execute_result"
    }
   ],
   "source": [
    "mut = read_metadata_with_fields(\"/Users/tushar/CancerModels/pdxfinder-data/data/UPDOG/Curie-BC/mut/Curie-BC_mut.tsv\")\n",
    "\n"
   ],
   "metadata": {
    "collapsed": false,
    "ExecuteTime": {
     "end_time": "2024-01-31T11:08:04.602888Z",
     "start_time": "2024-01-31T11:08:04.526522Z"
    }
   },
   "execution_count": 117
  },
  {
   "cell_type": "code",
   "outputs": [
    {
     "data": {
      "text/plain": "{'BC1080', 'BC1101', 'BC1270', 'BC291'}"
     },
     "execution_count": 122,
     "metadata": {},
     "output_type": "execute_result"
    }
   ],
   "source": [
    "set(mol_sample['sample_id'].unique()) - set(mut['sample_id'].unique()) "
   ],
   "metadata": {
    "collapsed": false,
    "ExecuteTime": {
     "end_time": "2024-01-31T11:09:26.580710Z",
     "start_time": "2024-01-31T11:09:26.524188Z"
    }
   },
   "execution_count": 122
  },
  {
   "cell_type": "code",
   "outputs": [
    {
     "data": {
      "text/plain": "{'mutation_NGS_ESOPE'}"
     },
     "execution_count": 126,
     "metadata": {},
     "output_type": "execute_result"
    }
   ],
   "source": [
    "set(mut['platform_id'].unique())"
   ],
   "metadata": {
    "collapsed": false,
    "ExecuteTime": {
     "end_time": "2024-01-31T11:18:39.259461Z",
     "start_time": "2024-01-31T11:18:39.205958Z"
    }
   },
   "execution_count": 126
  },
  {
   "cell_type": "code",
   "outputs": [
    {
     "name": "stderr",
     "output_type": "stream",
     "text": [
      "/var/folders/_2/g5d3zf4s41g0tvlqkc3_8wjr0000gp/T/ipykernel_81977/3867220052.py:2: SettingWithCopyWarning: \n",
      "A value is trying to be set on a copy of a slice from a DataFrame.\n",
      "Try using .loc[row_indexer,col_indexer] = value instead\n",
      "\n",
      "See the caveats in the documentation: https://pandas.pydata.org/pandas-docs/stable/user_guide/indexing.html#returning-a-view-versus-a-copy\n",
      "  mut_mms['platform_id'] = 'mutation_NGS_ESOPE'\n"
     ]
    }
   ],
   "source": [
    "mut_mms = mol_sample[mol_sample['sample_id'].isin(mut['sample_id'].unique())]\n",
    "mut_mms['platform_id'] = 'mutation_NGS_ESOPE'\n",
    "final_mms = pd.concat([final_mms, mut_mms[curie_bc_mms.columns]]).reset_index(drop=True)"
   ],
   "metadata": {
    "collapsed": false,
    "ExecuteTime": {
     "end_time": "2024-01-31T11:19:21.054364Z",
     "start_time": "2024-01-31T11:19:21.003017Z"
    }
   },
   "execution_count": 128
  },
  {
   "cell_type": "code",
   "outputs": [],
   "source": [
    "final_mms.to_csv('/Users/tushar/CancerModels/pdxfinder-data/data/UPDOG/Curie-BC/Curie-BC_molecular_metadata-sample.tsv', sep='\\t', index=False)"
   ],
   "metadata": {
    "collapsed": false,
    "ExecuteTime": {
     "end_time": "2024-01-31T11:20:27.493708Z",
     "start_time": "2024-01-31T11:20:27.423716Z"
    }
   },
   "execution_count": 130
  },
  {
   "cell_type": "markdown",
   "source": [
    "# PIVOT mol data cleanup"
   ],
   "metadata": {
    "collapsed": false
   }
  },
  {
   "cell_type": "code",
   "execution_count": 7,
   "outputs": [],
   "source": [
    "PIVOT = [\"CCIA\",\"CHOP\", \"GCCRI\", \"LurieChildrens\", \"MDAnderson-CCH\"]"
   ],
   "metadata": {
    "collapsed": false,
    "ExecuteTime": {
     "end_time": "2023-10-13T15:32:41.605138Z",
     "start_time": "2023-10-13T15:32:41.541747Z"
    }
   }
  },
  {
   "cell_type": "code",
   "execution_count": 8,
   "outputs": [],
   "source": [
    "def float_2_int(col):\n",
    "    return [int(x) if x!= '' else x for x in col.fillna('')]\n",
    "def convert_amino_acid_position(value):\n",
    "    if isinstance(value, str):\n",
    "        # Split the string by non-numeric characters and take the first part\n",
    "        position_str = value[1:-1]  \n",
    "        if position_str.__contains__('-'):\n",
    "            return value[0] + str(position_str) + value[-1]\n",
    "        return value[0] + str(int(float(position_str))) + value[-1]\n",
    "    # Return NaN for non-matching or NaN values\n",
    "    return ''\n",
    "\n",
    "def drop_dec(path, dt):\n",
    "    for file in get_files(path):\n",
    "        fp = join(path, file)\n",
    "        data = pd.read_csv(fp, sep='\\t')\n",
    "        if dt == 'cna':\n",
    "          data.strand = data.strand.fillna(1.0).astype(int)\n",
    "          data.seq_start_position = float_2_int(data.seq_start_position)\n",
    "          data.seq_end_position = float_2_int(data.seq_end_position)\n",
    "          data.ncbi_gene_id = float_2_int(data.ncbi_gene_id)\n",
    "        elif dt == 'expression':\n",
    "            data.ensembl_gene_id = float_2_int(data.ensembl_gene_id)\n",
    "        elif dt == 'mut':\n",
    "            data['amino_acid_change'] = data['amino_acid_change'].apply(convert_amino_acid_position)\n",
    "        data = data.iloc[:, 1:]\n",
    "        data.to_csv(fp, sep='\\t', index=False)\n",
    "def drop_decimal(provider):\n",
    "    dirs = get_dirs(provider)\n",
    "    dt = ['cna', 'expression', 'mut']\n",
    "    for d in dt:\n",
    "        if d in dirs:\n",
    "            new_path = join(provider, d)\n",
    "            drop_dec(new_path, d)    "
   ],
   "metadata": {
    "collapsed": false,
    "ExecuteTime": {
     "end_time": "2023-10-13T15:32:42.012480Z",
     "start_time": "2023-10-13T15:32:41.981820Z"
    }
   }
  },
  {
   "cell_type": "code",
   "execution_count": 9,
   "outputs": [
    {
     "name": "stderr",
     "output_type": "stream",
     "text": [
      "Processing PIVOT data: 100%|██████████| 5/5 [03:29<00:00, 41.87s/it]\n"
     ]
    }
   ],
   "source": [
    "for i in tqdm(range(0, len(PIVOT)), desc =\"Processing PIVOT data: \"):\n",
    "    provider = PIVOT[i]\n",
    "    drop_decimal(join(home, provider))"
   ],
   "metadata": {
    "collapsed": false,
    "ExecuteTime": {
     "end_time": "2023-10-13T15:36:56.321656Z",
     "start_time": "2023-10-13T15:33:26.907669Z"
    }
   }
  },
  {
   "cell_type": "code",
   "execution_count": null,
   "outputs": [],
   "source": [],
   "metadata": {
    "collapsed": false
   }
  },
  {
   "cell_type": "code",
   "execution_count": 10,
   "outputs": [],
   "source": [
    "PDMR_path = join(home, \"PDMR/expression/\")"
   ],
   "metadata": {
    "collapsed": false,
    "ExecuteTime": {
     "end_time": "2023-10-30T12:50:06.814445Z",
     "start_time": "2023-10-30T12:50:06.788487Z"
    }
   }
  },
  {
   "cell_type": "code",
   "execution_count": 12,
   "outputs": [],
   "source": [
    "for f in get_files(PDMR_path):\n",
    "    data = read_metadata_with_fields(join(PDMR_path, f))\n",
    "    data.drop(\"platform\", axis=1, inplace=True)\n",
    "    data.to_csv(join(PDMR_path, f), index=False, sep='\\t')"
   ],
   "metadata": {
    "collapsed": false,
    "ExecuteTime": {
     "end_time": "2023-10-30T12:58:29.224985Z",
     "start_time": "2023-10-30T12:55:38.323354Z"
    }
   }
  },
  {
   "cell_type": "code",
   "execution_count": null,
   "outputs": [],
   "source": [],
   "metadata": {
    "collapsed": false
   }
  },
  {
   "cell_type": "code",
   "execution_count": 11,
   "outputs": [],
   "source": [
    "missing_ids = \"/Users/tushar/Downloads/model_molecular_metadata_202310301437.csv\"\n",
    "missing_ids = pd.read_csv(missing_ids).sort_values(\"data_source\").reset_index(drop=True)"
   ],
   "metadata": {
    "collapsed": false,
    "ExecuteTime": {
     "end_time": "2023-10-31T10:55:02.126004Z",
     "start_time": "2023-10-31T10:55:02.093397Z"
    }
   }
  },
  {
   "cell_type": "code",
   "execution_count": 36,
   "outputs": [
    {
     "data": {
      "text/plain": "          model_id data_source     source                sample_id  \\\n0         CRL-3044         CRL  xenograft  A4632_(GenomeWideSNP_6)   \n1         CRL-3039         CRL  xenograft  A6297_(GenomeWideSNP_6)   \n2         CRL-3040         CRL  xenograft  A8251_(GenomeWideSNP_6)   \n3         CRL-3036         CRL  xenograft  A9492_(GenomeWideSNP_6)   \n4         CRL-3039         CRL  xenograft  A8445_(GenomeWideSNP_6)   \n..             ...         ...        ...                      ...   \n240   834989-109-R        PDMR  xenograft      834989-109-R-G5YVH2   \n241   395191-088-T        PDMR  xenograft   395191-088-T-H5QU77W68   \n242  K41856-061-R2        PDMR  xenograft     K41856-061-R2-C61FU2   \n243   428932-153-R        PDMR    patient             428932-153-R   \n244   355891-322-R        PDMR  xenograft      355891-322-R-G9UG85   \n\n     xenograft_passage                 raw_data_url               data_type  \\\n0                  2.0  A4632_(GenomeWideSNP_6).CEL  copy number alteration   \n1                  0.0  A6297_(GenomeWideSNP_6).CEL  copy number alteration   \n2                  0.0  A8251_(GenomeWideSNP_6).CEL  copy number alteration   \n3                  1.0  A9492_(GenomeWideSNP_6).CEL  copy number alteration   \n4                  2.0  A8445_(GenomeWideSNP_6).CEL  copy number alteration   \n..                 ...                          ...                     ...   \n240                1.0                          NaN                mutation   \n241                2.0                          NaN                mutation   \n242               25.0                          NaN                mutation   \n243                NaN                   ERR4627966                mutation   \n244                1.0                          NaN                mutation   \n\n                                  platform_name  data_exists  data_restricted  \\\n0    Affymetrix Genome-Wide Human SNP Array 6.0        False             True   \n1    Affymetrix Genome-Wide Human SNP Array 6.0        False             True   \n2    Affymetrix Genome-Wide Human SNP Array 6.0        False             True   \n3    Affymetrix Genome-Wide Human SNP Array 6.0        False             True   \n4    Affymetrix Genome-Wide Human SNP Array 6.0        False             True   \n..                                          ...          ...              ...   \n240                    Illumina HiSeq 2000/2500        False            False   \n241                    Illumina HiSeq 2000/2500        False            False   \n242                    Illumina HiSeq 2000/2500        False            False   \n243                    Illumina HiSeq 2000/2500        False            False   \n244                    Illumina HiSeq 2000/2500        False            False   \n\n     molecular_characterization_id  \\\n0                    1726576853006   \n1                    3281355014163   \n2                    2972117368850   \n3                    3083786518542   \n4                    3118146256916   \n..                             ...   \n240                  3350074490895   \n241                  3375844294660   \n242                  1812476198916   \n243                   816043786241   \n244                  2336462209028   \n\n                                     external_db_links  \n0                                                   []  \n1                                                   []  \n2                                                   []  \n3                                                   []  \n4                                                   []  \n..                                                 ...  \n240                                                NaN  \n241                                                NaN  \n242                                                NaN  \n243  [{\"column\": \"raw_data_url\", \"resource\": \"ENA\",...  \n244                                                NaN  \n\n[245 rows x 12 columns]",
      "text/html": "<div>\n<style scoped>\n    .dataframe tbody tr th:only-of-type {\n        vertical-align: middle;\n    }\n\n    .dataframe tbody tr th {\n        vertical-align: top;\n    }\n\n    .dataframe thead th {\n        text-align: right;\n    }\n</style>\n<table border=\"1\" class=\"dataframe\">\n  <thead>\n    <tr style=\"text-align: right;\">\n      <th></th>\n      <th>model_id</th>\n      <th>data_source</th>\n      <th>source</th>\n      <th>sample_id</th>\n      <th>xenograft_passage</th>\n      <th>raw_data_url</th>\n      <th>data_type</th>\n      <th>platform_name</th>\n      <th>data_exists</th>\n      <th>data_restricted</th>\n      <th>molecular_characterization_id</th>\n      <th>external_db_links</th>\n    </tr>\n  </thead>\n  <tbody>\n    <tr>\n      <th>0</th>\n      <td>CRL-3044</td>\n      <td>CRL</td>\n      <td>xenograft</td>\n      <td>A4632_(GenomeWideSNP_6)</td>\n      <td>2.0</td>\n      <td>A4632_(GenomeWideSNP_6).CEL</td>\n      <td>copy number alteration</td>\n      <td>Affymetrix Genome-Wide Human SNP Array 6.0</td>\n      <td>False</td>\n      <td>True</td>\n      <td>1726576853006</td>\n      <td>[]</td>\n    </tr>\n    <tr>\n      <th>1</th>\n      <td>CRL-3039</td>\n      <td>CRL</td>\n      <td>xenograft</td>\n      <td>A6297_(GenomeWideSNP_6)</td>\n      <td>0.0</td>\n      <td>A6297_(GenomeWideSNP_6).CEL</td>\n      <td>copy number alteration</td>\n      <td>Affymetrix Genome-Wide Human SNP Array 6.0</td>\n      <td>False</td>\n      <td>True</td>\n      <td>3281355014163</td>\n      <td>[]</td>\n    </tr>\n    <tr>\n      <th>2</th>\n      <td>CRL-3040</td>\n      <td>CRL</td>\n      <td>xenograft</td>\n      <td>A8251_(GenomeWideSNP_6)</td>\n      <td>0.0</td>\n      <td>A8251_(GenomeWideSNP_6).CEL</td>\n      <td>copy number alteration</td>\n      <td>Affymetrix Genome-Wide Human SNP Array 6.0</td>\n      <td>False</td>\n      <td>True</td>\n      <td>2972117368850</td>\n      <td>[]</td>\n    </tr>\n    <tr>\n      <th>3</th>\n      <td>CRL-3036</td>\n      <td>CRL</td>\n      <td>xenograft</td>\n      <td>A9492_(GenomeWideSNP_6)</td>\n      <td>1.0</td>\n      <td>A9492_(GenomeWideSNP_6).CEL</td>\n      <td>copy number alteration</td>\n      <td>Affymetrix Genome-Wide Human SNP Array 6.0</td>\n      <td>False</td>\n      <td>True</td>\n      <td>3083786518542</td>\n      <td>[]</td>\n    </tr>\n    <tr>\n      <th>4</th>\n      <td>CRL-3039</td>\n      <td>CRL</td>\n      <td>xenograft</td>\n      <td>A8445_(GenomeWideSNP_6)</td>\n      <td>2.0</td>\n      <td>A8445_(GenomeWideSNP_6).CEL</td>\n      <td>copy number alteration</td>\n      <td>Affymetrix Genome-Wide Human SNP Array 6.0</td>\n      <td>False</td>\n      <td>True</td>\n      <td>3118146256916</td>\n      <td>[]</td>\n    </tr>\n    <tr>\n      <th>...</th>\n      <td>...</td>\n      <td>...</td>\n      <td>...</td>\n      <td>...</td>\n      <td>...</td>\n      <td>...</td>\n      <td>...</td>\n      <td>...</td>\n      <td>...</td>\n      <td>...</td>\n      <td>...</td>\n      <td>...</td>\n    </tr>\n    <tr>\n      <th>240</th>\n      <td>834989-109-R</td>\n      <td>PDMR</td>\n      <td>xenograft</td>\n      <td>834989-109-R-G5YVH2</td>\n      <td>1.0</td>\n      <td>NaN</td>\n      <td>mutation</td>\n      <td>Illumina HiSeq 2000/2500</td>\n      <td>False</td>\n      <td>False</td>\n      <td>3350074490895</td>\n      <td>NaN</td>\n    </tr>\n    <tr>\n      <th>241</th>\n      <td>395191-088-T</td>\n      <td>PDMR</td>\n      <td>xenograft</td>\n      <td>395191-088-T-H5QU77W68</td>\n      <td>2.0</td>\n      <td>NaN</td>\n      <td>mutation</td>\n      <td>Illumina HiSeq 2000/2500</td>\n      <td>False</td>\n      <td>False</td>\n      <td>3375844294660</td>\n      <td>NaN</td>\n    </tr>\n    <tr>\n      <th>242</th>\n      <td>K41856-061-R2</td>\n      <td>PDMR</td>\n      <td>xenograft</td>\n      <td>K41856-061-R2-C61FU2</td>\n      <td>25.0</td>\n      <td>NaN</td>\n      <td>mutation</td>\n      <td>Illumina HiSeq 2000/2500</td>\n      <td>False</td>\n      <td>False</td>\n      <td>1812476198916</td>\n      <td>NaN</td>\n    </tr>\n    <tr>\n      <th>243</th>\n      <td>428932-153-R</td>\n      <td>PDMR</td>\n      <td>patient</td>\n      <td>428932-153-R</td>\n      <td>NaN</td>\n      <td>ERR4627966</td>\n      <td>mutation</td>\n      <td>Illumina HiSeq 2000/2500</td>\n      <td>False</td>\n      <td>False</td>\n      <td>816043786241</td>\n      <td>[{\"column\": \"raw_data_url\", \"resource\": \"ENA\",...</td>\n    </tr>\n    <tr>\n      <th>244</th>\n      <td>355891-322-R</td>\n      <td>PDMR</td>\n      <td>xenograft</td>\n      <td>355891-322-R-G9UG85</td>\n      <td>1.0</td>\n      <td>NaN</td>\n      <td>mutation</td>\n      <td>Illumina HiSeq 2000/2500</td>\n      <td>False</td>\n      <td>False</td>\n      <td>2336462209028</td>\n      <td>NaN</td>\n    </tr>\n  </tbody>\n</table>\n<p>245 rows × 12 columns</p>\n</div>"
     },
     "execution_count": 36,
     "metadata": {},
     "output_type": "execute_result"
    }
   ],
   "source": [
    "missing_ids"
   ],
   "metadata": {
    "collapsed": false,
    "ExecuteTime": {
     "end_time": "2023-11-01T11:26:44.984698Z",
     "start_time": "2023-11-01T11:26:44.935096Z"
    }
   }
  },
  {
   "cell_type": "code",
   "execution_count": 57,
   "outputs": [
    {
     "name": "stdout",
     "output_type": "stream",
     "text": [
      "CRL\n",
      "Curie-BC\n",
      "IRCC-CRC\n",
      "JAX\n",
      "LIH\n",
      "PDMR\n"
     ]
    },
    {
     "name": "stderr",
     "output_type": "stream",
     "text": [
      "/var/folders/_2/g5d3zf4s41g0tvlqkc3_8wjr0000gp/T/ipykernel_23946/4241553392.py:8: SettingWithCopyWarning: \n",
      "A value is trying to be set on a copy of a slice from a DataFrame.\n",
      "Try using .loc[row_indexer,col_indexer] = value instead\n",
      "\n",
      "See the caveats in the documentation: https://pandas.pydata.org/pandas-docs/stable/user_guide/indexing.html#returning-a-view-versus-a-copy\n",
      "  missing_meta['molecular_characterisation_type'], missing_meta['instrument_model'] = missing_meta['data_type'], missing_meta['platform_name']\n",
      "/var/folders/_2/g5d3zf4s41g0tvlqkc3_8wjr0000gp/T/ipykernel_23946/4241553392.py:8: SettingWithCopyWarning: \n",
      "A value is trying to be set on a copy of a slice from a DataFrame.\n",
      "Try using .loc[row_indexer,col_indexer] = value instead\n",
      "\n",
      "See the caveats in the documentation: https://pandas.pydata.org/pandas-docs/stable/user_guide/indexing.html#returning-a-view-versus-a-copy\n",
      "  missing_meta['molecular_characterisation_type'], missing_meta['instrument_model'] = missing_meta['data_type'], missing_meta['platform_name']\n",
      "/var/folders/_2/g5d3zf4s41g0tvlqkc3_8wjr0000gp/T/ipykernel_23946/4241553392.py:8: SettingWithCopyWarning: \n",
      "A value is trying to be set on a copy of a slice from a DataFrame.\n",
      "Try using .loc[row_indexer,col_indexer] = value instead\n",
      "\n",
      "See the caveats in the documentation: https://pandas.pydata.org/pandas-docs/stable/user_guide/indexing.html#returning-a-view-versus-a-copy\n",
      "  missing_meta['molecular_characterisation_type'], missing_meta['instrument_model'] = missing_meta['data_type'], missing_meta['platform_name']\n",
      "/var/folders/_2/g5d3zf4s41g0tvlqkc3_8wjr0000gp/T/ipykernel_23946/4241553392.py:8: SettingWithCopyWarning: \n",
      "A value is trying to be set on a copy of a slice from a DataFrame.\n",
      "Try using .loc[row_indexer,col_indexer] = value instead\n",
      "\n",
      "See the caveats in the documentation: https://pandas.pydata.org/pandas-docs/stable/user_guide/indexing.html#returning-a-view-versus-a-copy\n",
      "  missing_meta['molecular_characterisation_type'], missing_meta['instrument_model'] = missing_meta['data_type'], missing_meta['platform_name']\n",
      "/var/folders/_2/g5d3zf4s41g0tvlqkc3_8wjr0000gp/T/ipykernel_23946/4241553392.py:8: SettingWithCopyWarning: \n",
      "A value is trying to be set on a copy of a slice from a DataFrame.\n",
      "Try using .loc[row_indexer,col_indexer] = value instead\n",
      "\n",
      "See the caveats in the documentation: https://pandas.pydata.org/pandas-docs/stable/user_guide/indexing.html#returning-a-view-versus-a-copy\n",
      "  missing_meta['molecular_characterisation_type'], missing_meta['instrument_model'] = missing_meta['data_type'], missing_meta['platform_name']\n",
      "/var/folders/_2/g5d3zf4s41g0tvlqkc3_8wjr0000gp/T/ipykernel_23946/4241553392.py:8: SettingWithCopyWarning: \n",
      "A value is trying to be set on a copy of a slice from a DataFrame.\n",
      "Try using .loc[row_indexer,col_indexer] = value instead\n",
      "\n",
      "See the caveats in the documentation: https://pandas.pydata.org/pandas-docs/stable/user_guide/indexing.html#returning-a-view-versus-a-copy\n",
      "  missing_meta['molecular_characterisation_type'], missing_meta['instrument_model'] = missing_meta['data_type'], missing_meta['platform_name']\n",
      "/var/folders/_2/g5d3zf4s41g0tvlqkc3_8wjr0000gp/T/ipykernel_23946/4241553392.py:8: SettingWithCopyWarning: \n",
      "A value is trying to be set on a copy of a slice from a DataFrame.\n",
      "Try using .loc[row_indexer,col_indexer] = value instead\n",
      "\n",
      "See the caveats in the documentation: https://pandas.pydata.org/pandas-docs/stable/user_guide/indexing.html#returning-a-view-versus-a-copy\n",
      "  missing_meta['molecular_characterisation_type'], missing_meta['instrument_model'] = missing_meta['data_type'], missing_meta['platform_name']\n",
      "/var/folders/_2/g5d3zf4s41g0tvlqkc3_8wjr0000gp/T/ipykernel_23946/4241553392.py:8: SettingWithCopyWarning: \n",
      "A value is trying to be set on a copy of a slice from a DataFrame.\n",
      "Try using .loc[row_indexer,col_indexer] = value instead\n",
      "\n",
      "See the caveats in the documentation: https://pandas.pydata.org/pandas-docs/stable/user_guide/indexing.html#returning-a-view-versus-a-copy\n",
      "  missing_meta['molecular_characterisation_type'], missing_meta['instrument_model'] = missing_meta['data_type'], missing_meta['platform_name']\n",
      "/var/folders/_2/g5d3zf4s41g0tvlqkc3_8wjr0000gp/T/ipykernel_23946/4241553392.py:8: SettingWithCopyWarning: \n",
      "A value is trying to be set on a copy of a slice from a DataFrame.\n",
      "Try using .loc[row_indexer,col_indexer] = value instead\n",
      "\n",
      "See the caveats in the documentation: https://pandas.pydata.org/pandas-docs/stable/user_guide/indexing.html#returning-a-view-versus-a-copy\n",
      "  missing_meta['molecular_characterisation_type'], missing_meta['instrument_model'] = missing_meta['data_type'], missing_meta['platform_name']\n",
      "/var/folders/_2/g5d3zf4s41g0tvlqkc3_8wjr0000gp/T/ipykernel_23946/4241553392.py:8: SettingWithCopyWarning: \n",
      "A value is trying to be set on a copy of a slice from a DataFrame.\n",
      "Try using .loc[row_indexer,col_indexer] = value instead\n",
      "\n",
      "See the caveats in the documentation: https://pandas.pydata.org/pandas-docs/stable/user_guide/indexing.html#returning-a-view-versus-a-copy\n",
      "  missing_meta['molecular_characterisation_type'], missing_meta['instrument_model'] = missing_meta['data_type'], missing_meta['platform_name']\n",
      "/var/folders/_2/g5d3zf4s41g0tvlqkc3_8wjr0000gp/T/ipykernel_23946/4241553392.py:8: SettingWithCopyWarning: \n",
      "A value is trying to be set on a copy of a slice from a DataFrame.\n",
      "Try using .loc[row_indexer,col_indexer] = value instead\n",
      "\n",
      "See the caveats in the documentation: https://pandas.pydata.org/pandas-docs/stable/user_guide/indexing.html#returning-a-view-versus-a-copy\n",
      "  missing_meta['molecular_characterisation_type'], missing_meta['instrument_model'] = missing_meta['data_type'], missing_meta['platform_name']\n",
      "/var/folders/_2/g5d3zf4s41g0tvlqkc3_8wjr0000gp/T/ipykernel_23946/4241553392.py:8: SettingWithCopyWarning: \n",
      "A value is trying to be set on a copy of a slice from a DataFrame.\n",
      "Try using .loc[row_indexer,col_indexer] = value instead\n",
      "\n",
      "See the caveats in the documentation: https://pandas.pydata.org/pandas-docs/stable/user_guide/indexing.html#returning-a-view-versus-a-copy\n",
      "  missing_meta['molecular_characterisation_type'], missing_meta['instrument_model'] = missing_meta['data_type'], missing_meta['platform_name']\n"
     ]
    }
   ],
   "source": [
    "for pro in missing_ids.data_source.unique():\n",
    "    pro_path = join(home, pro)\n",
    "    print(pro)\n",
    "    missing_meta = missing_ids[missing_ids['data_source'] == pro]\n",
    "    sample = read_metadata_with_fields(join(pro_path, pro+\"_molecular_metadata-sample.tsv\"))\n",
    "    platform = read_metadata_with_fields(join(pro_path, pro+\"_molecular_metadata-platform.tsv\"))\n",
    "    joined = sample.merge(platform[[\"platform_id\", \"molecular_characterisation_type\", \"instrument_model\"]], on='platform_id', how='left')\n",
    "    missing_meta['molecular_characterisation_type'], missing_meta['instrument_model'] = missing_meta['data_type'], missing_meta['platform_name']\n",
    "    joined = joined.merge(missing_meta[['sample_id', 'molecular_characterisation_type', 'instrument_model', 'data_exists']], on =['sample_id', 'molecular_characterisation_type', 'instrument_model'], how='left', indicator=True)\n",
    "    joined = joined[joined['_merge'] == 'left_only']    #joined = joined[~joined['sample_id'].isin(missing_meta['sample_id'])]\n",
    "    joined = joined[sample.columns].reset_index(drop=True)\n",
    "    joined.to_csv(join(pro_path, pro+\"_molecular_metadata-sample.tsv\"), sep='\\t', index=False)"
   ],
   "metadata": {
    "collapsed": false,
    "ExecuteTime": {
     "end_time": "2023-11-01T11:48:54.381852Z",
     "start_time": "2023-11-01T11:48:54.113054Z"
    }
   }
  },
  {
   "cell_type": "code",
   "execution_count": 55,
   "outputs": [
    {
     "name": "stdout",
     "output_type": "stream",
     "text": [
      "CRL\n",
      "['mutation_Illumina_WES' 'copy_number_alteration_Affymetrix_SNP6.0'\n",
      " 'mutation_RNA_sequencing' 'expression_Affymetrix_HGU133plus2'\n",
      " 'expression_ILLUMINA' 'cytogenetics_Immunohistochemistry']\n",
      "(1910, 10)\n",
      "(1910, 12)\n",
      "(1895, 10)\n",
      "Curie-BC\n",
      "['cytogenetics_immunohistochemistry' 'mutation_NGS_ESOPE'\n",
      " 'mutation_NGS_DRAGON']\n",
      "(85, 10)\n",
      "(85, 12)\n",
      "(56, 10)\n",
      "IRCC-CRC\n",
      "['expression_Illumina_HT-12_v4_microarray' 'mutation_TargetedNGS_MUT'\n",
      " 'mutation_whole_exome_sequencing'\n",
      " 'copy_number_alteration_whole_exome_sequencing']\n",
      "(1407, 10)\n",
      "(1407, 12)\n",
      "(1404, 10)\n",
      "JAX\n",
      "['mutation_CTP' 'mutation_Whole_Exome' 'mutation_Truseq_JAX'\n",
      " 'mutation_Other:_ddPCR' 'mutation_Actionseq20' 'mutation_Other:_FISH'\n",
      " 'mutation_TEX_DFCI' 'mutation_CTPTN' 'mutation_Other:_DFCI_RHP20'\n",
      " 'copy_number_alteration_SNP' 'expression_RNA_Seq' 'expression_stRNA_Seq'\n",
      " 'expression_hg10st' 'expression_hu133']\n",
      "(1722, 10)\n",
      "(1722, 12)\n",
      "(1605, 10)\n",
      "LIH\n",
      "['copy_number_alteration_Agilent_aCGH_2x400k'\n",
      " 'copy_number_alteration_Agilent_aCGH_4x180k' 'mutation_MiSeq_panel1'\n",
      " 'mutation_MiSeq_panel2' 'cytogenetics_NORLUX_IHC'\n",
      " 'expression_NovaSeq_6000']\n",
      "(158, 10)\n",
      "(158, 12)\n",
      "(156, 10)\n",
      "PDMR\n",
      "['mutation_OncoKB_Gene_Panel' 'expression_RNASEQ_Illumina_NGS']\n",
      "(3816, 10)\n",
      "(3816, 12)\n",
      "(3786, 10)\n"
     ]
    },
    {
     "name": "stderr",
     "output_type": "stream",
     "text": [
      "/var/folders/_2/g5d3zf4s41g0tvlqkc3_8wjr0000gp/T/ipykernel_23946/2803976612.py:11: SettingWithCopyWarning: \n",
      "A value is trying to be set on a copy of a slice from a DataFrame.\n",
      "Try using .loc[row_indexer,col_indexer] = value instead\n",
      "\n",
      "See the caveats in the documentation: https://pandas.pydata.org/pandas-docs/stable/user_guide/indexing.html#returning-a-view-versus-a-copy\n",
      "  missing_meta['molecular_characterisation_type'], missing_meta['instrument_model'] = missing_meta['data_type'], missing_meta['platform_name']\n",
      "/var/folders/_2/g5d3zf4s41g0tvlqkc3_8wjr0000gp/T/ipykernel_23946/2803976612.py:11: SettingWithCopyWarning: \n",
      "A value is trying to be set on a copy of a slice from a DataFrame.\n",
      "Try using .loc[row_indexer,col_indexer] = value instead\n",
      "\n",
      "See the caveats in the documentation: https://pandas.pydata.org/pandas-docs/stable/user_guide/indexing.html#returning-a-view-versus-a-copy\n",
      "  missing_meta['molecular_characterisation_type'], missing_meta['instrument_model'] = missing_meta['data_type'], missing_meta['platform_name']\n",
      "/var/folders/_2/g5d3zf4s41g0tvlqkc3_8wjr0000gp/T/ipykernel_23946/2803976612.py:11: SettingWithCopyWarning: \n",
      "A value is trying to be set on a copy of a slice from a DataFrame.\n",
      "Try using .loc[row_indexer,col_indexer] = value instead\n",
      "\n",
      "See the caveats in the documentation: https://pandas.pydata.org/pandas-docs/stable/user_guide/indexing.html#returning-a-view-versus-a-copy\n",
      "  missing_meta['molecular_characterisation_type'], missing_meta['instrument_model'] = missing_meta['data_type'], missing_meta['platform_name']\n",
      "/var/folders/_2/g5d3zf4s41g0tvlqkc3_8wjr0000gp/T/ipykernel_23946/2803976612.py:11: SettingWithCopyWarning: \n",
      "A value is trying to be set on a copy of a slice from a DataFrame.\n",
      "Try using .loc[row_indexer,col_indexer] = value instead\n",
      "\n",
      "See the caveats in the documentation: https://pandas.pydata.org/pandas-docs/stable/user_guide/indexing.html#returning-a-view-versus-a-copy\n",
      "  missing_meta['molecular_characterisation_type'], missing_meta['instrument_model'] = missing_meta['data_type'], missing_meta['platform_name']\n",
      "/var/folders/_2/g5d3zf4s41g0tvlqkc3_8wjr0000gp/T/ipykernel_23946/2803976612.py:11: SettingWithCopyWarning: \n",
      "A value is trying to be set on a copy of a slice from a DataFrame.\n",
      "Try using .loc[row_indexer,col_indexer] = value instead\n",
      "\n",
      "See the caveats in the documentation: https://pandas.pydata.org/pandas-docs/stable/user_guide/indexing.html#returning-a-view-versus-a-copy\n",
      "  missing_meta['molecular_characterisation_type'], missing_meta['instrument_model'] = missing_meta['data_type'], missing_meta['platform_name']\n",
      "/var/folders/_2/g5d3zf4s41g0tvlqkc3_8wjr0000gp/T/ipykernel_23946/2803976612.py:11: SettingWithCopyWarning: \n",
      "A value is trying to be set on a copy of a slice from a DataFrame.\n",
      "Try using .loc[row_indexer,col_indexer] = value instead\n",
      "\n",
      "See the caveats in the documentation: https://pandas.pydata.org/pandas-docs/stable/user_guide/indexing.html#returning-a-view-versus-a-copy\n",
      "  missing_meta['molecular_characterisation_type'], missing_meta['instrument_model'] = missing_meta['data_type'], missing_meta['platform_name']\n",
      "/var/folders/_2/g5d3zf4s41g0tvlqkc3_8wjr0000gp/T/ipykernel_23946/2803976612.py:11: SettingWithCopyWarning: \n",
      "A value is trying to be set on a copy of a slice from a DataFrame.\n",
      "Try using .loc[row_indexer,col_indexer] = value instead\n",
      "\n",
      "See the caveats in the documentation: https://pandas.pydata.org/pandas-docs/stable/user_guide/indexing.html#returning-a-view-versus-a-copy\n",
      "  missing_meta['molecular_characterisation_type'], missing_meta['instrument_model'] = missing_meta['data_type'], missing_meta['platform_name']\n",
      "/var/folders/_2/g5d3zf4s41g0tvlqkc3_8wjr0000gp/T/ipykernel_23946/2803976612.py:11: SettingWithCopyWarning: \n",
      "A value is trying to be set on a copy of a slice from a DataFrame.\n",
      "Try using .loc[row_indexer,col_indexer] = value instead\n",
      "\n",
      "See the caveats in the documentation: https://pandas.pydata.org/pandas-docs/stable/user_guide/indexing.html#returning-a-view-versus-a-copy\n",
      "  missing_meta['molecular_characterisation_type'], missing_meta['instrument_model'] = missing_meta['data_type'], missing_meta['platform_name']\n",
      "/var/folders/_2/g5d3zf4s41g0tvlqkc3_8wjr0000gp/T/ipykernel_23946/2803976612.py:11: SettingWithCopyWarning: \n",
      "A value is trying to be set on a copy of a slice from a DataFrame.\n",
      "Try using .loc[row_indexer,col_indexer] = value instead\n",
      "\n",
      "See the caveats in the documentation: https://pandas.pydata.org/pandas-docs/stable/user_guide/indexing.html#returning-a-view-versus-a-copy\n",
      "  missing_meta['molecular_characterisation_type'], missing_meta['instrument_model'] = missing_meta['data_type'], missing_meta['platform_name']\n",
      "/var/folders/_2/g5d3zf4s41g0tvlqkc3_8wjr0000gp/T/ipykernel_23946/2803976612.py:11: SettingWithCopyWarning: \n",
      "A value is trying to be set on a copy of a slice from a DataFrame.\n",
      "Try using .loc[row_indexer,col_indexer] = value instead\n",
      "\n",
      "See the caveats in the documentation: https://pandas.pydata.org/pandas-docs/stable/user_guide/indexing.html#returning-a-view-versus-a-copy\n",
      "  missing_meta['molecular_characterisation_type'], missing_meta['instrument_model'] = missing_meta['data_type'], missing_meta['platform_name']\n",
      "/var/folders/_2/g5d3zf4s41g0tvlqkc3_8wjr0000gp/T/ipykernel_23946/2803976612.py:11: SettingWithCopyWarning: \n",
      "A value is trying to be set on a copy of a slice from a DataFrame.\n",
      "Try using .loc[row_indexer,col_indexer] = value instead\n",
      "\n",
      "See the caveats in the documentation: https://pandas.pydata.org/pandas-docs/stable/user_guide/indexing.html#returning-a-view-versus-a-copy\n",
      "  missing_meta['molecular_characterisation_type'], missing_meta['instrument_model'] = missing_meta['data_type'], missing_meta['platform_name']\n",
      "/var/folders/_2/g5d3zf4s41g0tvlqkc3_8wjr0000gp/T/ipykernel_23946/2803976612.py:11: SettingWithCopyWarning: \n",
      "A value is trying to be set on a copy of a slice from a DataFrame.\n",
      "Try using .loc[row_indexer,col_indexer] = value instead\n",
      "\n",
      "See the caveats in the documentation: https://pandas.pydata.org/pandas-docs/stable/user_guide/indexing.html#returning-a-view-versus-a-copy\n",
      "  missing_meta['molecular_characterisation_type'], missing_meta['instrument_model'] = missing_meta['data_type'], missing_meta['platform_name']\n"
     ]
    }
   ],
   "source": [
    "for pro in missing_ids.data_source.unique():\n",
    "    pro_path = join(home, pro)\n",
    "    print(pro)\n",
    "    missing_meta = missing_ids[missing_ids['data_source'] == pro]\n",
    "    sample = read_metadata_with_fields(join(pro_path, pro+\"_molecular_metadata-sample.tsv\"))\n",
    "    platform = read_metadata_with_fields(join(pro_path, pro+\"_molecular_metadata-platform.tsv\"))\n",
    "    joined = sample.merge(platform[[\"platform_id\", \"molecular_characterisation_type\", \"instrument_model\"]], on='platform_id', how='left')\n",
    "    missing_meta['molecular_characterisation_type'], missing_meta['instrument_model'] = missing_meta['data_type'], missing_meta['platform_name']\n",
    "    joined = joined.merge(missing_meta[['sample_id', 'molecular_characterisation_type', 'instrument_model', 'data_exists']], on =['sample_id', 'molecular_characterisation_type', 'instrument_model'], how='left', indicator=True)\n",
    "    joined = joined[joined['_merge'] == 'left_only']    #joined = joined[~joined['sample_id'].isin(missing_meta['sample_id'])]\n",
    "    joined = joined[sample.columns].reset_index(drop=True)\n",
    "    joined.to_csv(join(pro_path, pro+\"_molecular_metadata-sample.tsv\"), sep='\\t', index=False)"
   ],
   "metadata": {
    "collapsed": false,
    "ExecuteTime": {
     "end_time": "2023-11-01T11:47:05.797275Z",
     "start_time": "2023-11-01T11:47:05.524847Z"
    }
   }
  },
  {
   "cell_type": "code",
   "execution_count": null,
   "outputs": [],
   "source": [],
   "metadata": {
    "collapsed": false
   }
  },
  {
   "cell_type": "code",
   "execution_count": null,
   "outputs": [],
   "source": [],
   "metadata": {
    "collapsed": false
   }
  },
  {
   "cell_type": "code",
   "execution_count": 9,
   "outputs": [],
   "source": [
    "normal = pd.read_csv(\"/Users/tushar/Downloads/TCGA-LUAD.htseq_fpkm.tsv\", sep='\\t').iloc[:,0:15]"
   ],
   "metadata": {
    "collapsed": false,
    "ExecuteTime": {
     "end_time": "2023-11-03T07:38:47.987006Z",
     "start_time": "2023-11-03T07:38:44.609493Z"
    }
   }
  },
  {
   "cell_type": "code",
   "execution_count": 14,
   "outputs": [],
   "source": [
    "normal[normal['Ensembl_ID'].str.contains(\"133703\")].reset_index(drop=True).to_csv(\"/Users/tushar/Downloads/Normal-FPKM-COLON.tsv\",sep='\\t',index=False)"
   ],
   "metadata": {
    "collapsed": false,
    "ExecuteTime": {
     "end_time": "2023-11-03T07:41:00.020644Z",
     "start_time": "2023-11-03T07:41:00.005727Z"
    }
   }
  },
  {
   "cell_type": "code",
   "execution_count": null,
   "outputs": [],
   "source": [
    "ENSG00000146648.14\n",
    "ENSG00000171094.14\n"
   ],
   "metadata": {
    "collapsed": false
   }
  },
  {
   "cell_type": "code",
   "execution_count": 12,
   "outputs": [],
   "source": [
    "normal[normal['Ensembl_ID'].isin([\"ENSG00000146648.14\", \"ENSG00000171094.14\"])].reset_index(drop=True).to_csv(\"/Users/tushar/Downloads/Normal-FPKM-LUNG.tsv\",sep='\\t',index=False)"
   ],
   "metadata": {
    "collapsed": false,
    "ExecuteTime": {
     "end_time": "2023-11-03T07:40:26.767131Z",
     "start_time": "2023-11-03T07:40:26.743595Z"
    }
   }
  },
  {
   "cell_type": "markdown",
   "source": [
    "# Immune markers \n",
    "### Addition of immune markers -specifically model genomics in the data as not provided\n",
    "MSI, TMB, MMR, Ploidy, Mutations per mb\n",
    "- MSI: immune_msi\n",
    "- MMR: immune_mmr \n",
    "- TMB: immune_tmb\n",
    "- MPM: immune_mpm\n",
    "- Ploidy: immune_ploidy\n",
    "\n",
    "[['PDMR', ['immune_msi', 'immune_HLA_type']],\n",
    " ['JAX', ['immune_tmb', 'immune_msi']],\n",
    " ['CMP', ['immune_mpm', 'immune_ploidy', 'immune_msi']],\n",
    " ['CUIMC', ['immune_tmb']]]\n",
    " \n",
    "\n",
    "[['PDMR', ['immune_msi', 'immune_HLA_type']],\n",
    " ['CRL', ['immune_HLA_type']],\n",
    " ['JAX', ['immune_tmb', 'immune_msi']],\n",
    " ['SJCRH', ['immune_hla_type']],\n",
    " ['CMP', ['immune_mpm', 'immune_ploidy', 'immune_msi']],\n",
    " ['DFCI-CPDM', ['immune_HLA_type']],\n",
    " ['CUIMC', ['immune_tmb']]]\n"
   ],
   "metadata": {
    "collapsed": false
   }
  },
  {
   "cell_type": "code",
   "execution_count": 93,
   "outputs": [],
   "source": [
    "model_genomics_markers = pd.read_json('https://dev.cancermodels.org/api/immunemarker_data_extended?marker_type=eq.Model%20Genomics')"
   ],
   "metadata": {
    "collapsed": false,
    "ExecuteTime": {
     "end_time": "2023-12-06T14:53:19.194850Z",
     "start_time": "2023-12-06T14:53:18.852757Z"
    }
   }
  },
  {
   "cell_type": "code",
   "execution_count": 95,
   "outputs": [],
   "source": [
    "marker_type = list(model_genomics_markers.marker_name.unique())\n",
    "na_str = \"Not provided\"\n",
    "marker_type.append('MMR')\n",
    "marker_type_platform_dict = {'MSI': 'immune_msi', 'MMR': 'immune_mmr', \n",
    "                             'TMB': 'immune_tmb', 'Mutations per mb': 'immune_mpm', \n",
    "                             'Ploidy': 'immune_ploidy'}\n",
    "platform_marker_type_dict = dict(zip(marker_type_platform_dict.values(), marker_type_platform_dict.keys()))\n",
    "providers = list(model_genomics_markers.data_source.unique())\n",
    "platform_ids = []"
   ],
   "metadata": {
    "collapsed": false,
    "ExecuteTime": {
     "end_time": "2023-12-06T14:53:29.192506Z",
     "start_time": "2023-12-06T14:53:29.168001Z"
    }
   }
  },
  {
   "cell_type": "code",
   "execution_count": 134,
   "outputs": [
    {
     "name": "stdout",
     "output_type": "stream",
     "text": [
      "PDMR\n",
      "['immune_mmr', 'immune_tmb', 'immune_mpm', 'immune_ploidy']\n"
     ]
    },
    {
     "name": "stderr",
     "output_type": "stream",
     "text": [
      "Adding immune marker data for PDMR: 100%|██████████| 510/510 [00:22<00:00, 23.17it/s]\n"
     ]
    },
    {
     "name": "stdout",
     "output_type": "stream",
     "text": [
      "JAX\n",
      "['immune_mmr', 'immune_mpm', 'immune_ploidy']\n"
     ]
    },
    {
     "name": "stderr",
     "output_type": "stream",
     "text": [
      "Adding immune marker data for JAX: 100%|██████████| 296/296 [00:06<00:00, 43.74it/s]\n"
     ]
    },
    {
     "name": "stdout",
     "output_type": "stream",
     "text": [
      "CMP\n",
      "['immune_mmr', 'immune_tmb']\n"
     ]
    },
    {
     "name": "stderr",
     "output_type": "stream",
     "text": [
      "Adding immune marker data for CMP: 100%|██████████| 1174/1174 [00:32<00:00, 36.55it/s]\n"
     ]
    },
    {
     "name": "stdout",
     "output_type": "stream",
     "text": [
      "CUIMC\n",
      "['immune_msi', 'immune_mmr', 'immune_mpm', 'immune_ploidy']\n"
     ]
    },
    {
     "name": "stderr",
     "output_type": "stream",
     "text": [
      "Adding immune marker data for CUIMC: 100%|██████████| 32/32 [00:00<00:00, 35.11it/s]\n"
     ]
    }
   ],
   "source": [
    "def get_available_marker_for_sample_id(sample_id, df, platform_list):\n",
    "    temp = df[df['sample_id'] == sample_id]\n",
    "    pids = temp['platform_id'].unique()\n",
    "    add_markers = [x for x in platform_list if x not in pids]\n",
    "    return [[sample_id, x] for x in add_markers]\n",
    "    \n",
    "    \n",
    "def get_ms_row(sample_id, df, platform):\n",
    "    df2 = df\n",
    "    df = df.drop_duplicates(subset=['model_id', 'sample_id']).reset_index(drop=True)\n",
    "    df = df[df['sample_id'] == sample_id].reset_index(drop=True)\n",
    "    try:\n",
    "        mid = df['model_id'][0]\n",
    "    except:\n",
    "        print(df)\n",
    "        print(sample_id)\n",
    "        print(df2[sample_id].unique())\n",
    "    so = df['sample_origin'][0]\n",
    "    pa = df['passage'][0]\n",
    "    hsn = df['host_strain_name'][0]\n",
    "    hsno = df['host_strain_nomenclature'][0]\n",
    "    etcs = df['engrafted_tumor_collection_site'][0]\n",
    "    rdu = df['raw_data_url'][0]\n",
    "    #print(mid)\n",
    "    \n",
    "    # ['Field', 'model_id', 'sample_id', 'sample_origin', 'passage', 'host_strain_name', 'host_strain_nomenclature', 'engrafted_tumor_collection_site', 'raw_data_url', 'platform_id']\n",
    "    temp = ['', mid, sample_id, so, pa, hsn, hsno, etcs, rdu, platform]\n",
    "    return temp\n",
    "    \n",
    "def get_im_row(sample_id, na_str, marker_dict, platform):\n",
    "    #['Field', 'sample_id', 'marker_type', 'marker_name', 'marker_value', 'essential_or_additional_details', 'platform_id']\n",
    "    marker_name = marker_dict[platform]\n",
    "    temp = ['', sample_id, 'Model Genomics', marker_name, na_str, '', platform]\n",
    "    return temp\n",
    "    \n",
    "def append_to_df(row, df):\n",
    "    row = pd.DataFrame([row], columns=df.columns)\n",
    "    return pd.concat([df, row]).reset_index(drop=True)\n",
    "            \n",
    "for i in range(len(providers)):\n",
    "    provider = providers[i]\n",
    "    print(provider)\n",
    "    provider_path = join(home, provider)\n",
    "    mol_sample_sheet = read_metadata_with_fields(join(provider_path, provider+\"_molecular_metadata-sample.tsv\"))\n",
    "    mol_platform = read_metadata_with_fields(join(provider_path, provider+\"_molecular_metadata-platform.tsv\"))\n",
    "    mol_platform_web = read_metadata_with_fields(join(provider_path, provider+\"_molecular_metadata-platform_web.tsv\"))\n",
    "    immunemarker = read_metadata_with_fields(join(provider_path, 'immunemarker', provider+\"_immunemarker-Sheet1.tsv\"))\n",
    "\n",
    "    pids_in_sheet = list(immunemarker.platform_id.unique())\n",
    "    add_markers = [x for x in marker_type_platform_dict.values() if x not in pids_in_sheet]\n",
    "    print(add_markers)\n",
    "    if len(add_markers)>0:\n",
    "        sample_ids = immunemarker['sample_id'].unique()\n",
    "        for j in tqdm(range(len(sample_ids)), f'Adding immune marker data for {provider}: '):\n",
    "            sample_id = sample_ids[j]\n",
    "            to_be_added = get_available_marker_for_sample_id(sample_id, immunemarker, marker_type_platform_dict.values())\n",
    "            for row in to_be_added:\n",
    "                immunemarker = append_to_df(get_im_row(row[0], na_str, platform_marker_type_dict, row[1]), immunemarker)            \n",
    "                mol_sample_sheet = append_to_df(get_ms_row(row[0], mol_sample_sheet, row[1]), mol_sample_sheet)\n",
    "        for mark in add_markers:\n",
    "            mol_platform = append_to_df(['', mark, 'immunemarker', na_str, na_str, '', '', ''], mol_platform)\n",
    "            mol_platform_web = append_to_df(['', mark, '', '', ''], mol_platform_web)\n",
    "    \n",
    "    mol_sample_sheet.to_csv(join(provider_path, provider+\"_molecular_metadata-sample.tsv\"), sep='\\t', index=False)\n",
    "    mol_platform.to_csv(join(provider_path, provider+\"_molecular_metadata-platform.tsv\"), sep='\\t', index=False)\n",
    "    mol_platform_web.to_csv(join(provider_path, provider+\"_molecular_metadata-platform_web.tsv\"), sep='\\t', index=False)\n",
    "    immunemarker.to_csv(join(provider_path, 'immunemarker', provider+\"_immunemarker-Sheet1.tsv\"), sep='\\t', index=False)\n",
    "    \n",
    "        \n",
    "    platform_id = mol_sample_sheet['platform_id'].iloc[4:].unique()\n",
    "    platform_id =  [x for x in platform_id if x.__contains__('immune')]\n",
    "    platform_ids.append([provider, platform_id])"
   ],
   "metadata": {
    "collapsed": false,
    "ExecuteTime": {
     "end_time": "2023-12-06T15:38:15.792120Z",
     "start_time": "2023-12-06T15:37:13.613905Z"
    }
   }
  },
  {
   "cell_type": "code",
   "execution_count": 130,
   "outputs": [
    {
     "data": {
      "text/plain": "Index(['Field', 'platform_id', 'molecular_methods_description',\n       'analysis_description', 'data_acquisition_description', 'table'],\n      dtype='object')"
     },
     "execution_count": 130,
     "metadata": {},
     "output_type": "execute_result"
    }
   ],
   "source": [
    "mol_platform_web.columns"
   ],
   "metadata": {
    "collapsed": false,
    "ExecuteTime": {
     "end_time": "2023-12-06T15:27:16.066167Z",
     "start_time": "2023-12-06T15:27:15.986681Z"
    }
   }
  },
  {
   "cell_type": "code",
   "execution_count": 132,
   "outputs": [
    {
     "data": {
      "text/plain": "['PDMR', 'JAX', 'CMP', 'CUIMC']"
     },
     "execution_count": 132,
     "metadata": {},
     "output_type": "execute_result"
    }
   ],
   "source": [
    "providers"
   ],
   "metadata": {
    "collapsed": false,
    "ExecuteTime": {
     "end_time": "2023-12-06T15:28:39.118389Z",
     "start_time": "2023-12-06T15:28:39.037451Z"
    }
   }
  },
  {
   "cell_type": "code",
   "execution_count": 71,
   "outputs": [
    {
     "ename": "FileNotFoundError",
     "evalue": "[Errno 2] No such file or directory: '/hps/nobackup/tudor/pdcm/pdxfinder-data/data/UPDOG/CMP/CMP_molecular_metadata-sample.tsv'",
     "output_type": "error",
     "traceback": [
      "\u001B[0;31m---------------------------------------------------------------------------\u001B[0m",
      "\u001B[0;31mFileNotFoundError\u001B[0m                         Traceback (most recent call last)",
      "Cell \u001B[0;32mIn[71], line 26\u001B[0m\n\u001B[1;32m     20\u001B[0m     \u001B[38;5;28;01mreturn\u001B[39;00m metadata\n\u001B[1;32m     22\u001B[0m \u001B[38;5;66;03m#mms_header = read_metadata_with_fields(join(CMP_path, 'CMP_molecular_metadata-sample.tsv')).iloc[0:4]\u001B[39;00m\n\u001B[1;32m     23\u001B[0m \u001B[38;5;66;03m#ps = read_metadata_without_fields(join(CMP_path, 'CMP_molecular_metadata-sample.tsv'))[['sample_id', 'model_id']]\u001B[39;00m\n\u001B[1;32m     24\u001B[0m \u001B[38;5;66;03m#ps = ps.drop_duplicates().reset_index(drop=True)\u001B[39;00m\n\u001B[1;32m     25\u001B[0m \u001B[38;5;66;03m#ps = dict(zip(ps['sample_id'], ps['model_id']))\u001B[39;00m\n\u001B[0;32m---> 26\u001B[0m mms \u001B[38;5;241m=\u001B[39m \u001B[43mread_metadata_without_fields\u001B[49m\u001B[43m(\u001B[49m\u001B[43mjoin\u001B[49m\u001B[43m(\u001B[49m\u001B[43mCMP_path\u001B[49m\u001B[43m,\u001B[49m\u001B[43m \u001B[49m\u001B[38;5;124;43m'\u001B[39;49m\u001B[38;5;124;43mCMP_molecular_metadata-sample.tsv\u001B[39;49m\u001B[38;5;124;43m'\u001B[39;49m\u001B[43m)\u001B[49m\u001B[43m)\u001B[49m[[\u001B[38;5;124m'\u001B[39m\u001B[38;5;124msample_id\u001B[39m\u001B[38;5;124m'\u001B[39m, \u001B[38;5;124m'\u001B[39m\u001B[38;5;124mmodel_id\u001B[39m\u001B[38;5;124m'\u001B[39m]]\n\u001B[1;32m     27\u001B[0m mms \u001B[38;5;241m=\u001B[39m mms\u001B[38;5;241m.\u001B[39mdrop_duplicates()\u001B[38;5;241m.\u001B[39mreset_index(drop\u001B[38;5;241m=\u001B[39m\u001B[38;5;28;01mTrue\u001B[39;00m)\n\u001B[1;32m     28\u001B[0m mms_mapper \u001B[38;5;241m=\u001B[39m \u001B[38;5;28mdict\u001B[39m(\u001B[38;5;28mzip\u001B[39m(mms[\u001B[38;5;124m'\u001B[39m\u001B[38;5;124msample_id\u001B[39m\u001B[38;5;124m'\u001B[39m], mms[\u001B[38;5;124m'\u001B[39m\u001B[38;5;124mmodel_id\u001B[39m\u001B[38;5;124m'\u001B[39m]))\n",
      "Cell \u001B[0;32mIn[71], line 16\u001B[0m, in \u001B[0;36mread_metadata_without_fields\u001B[0;34m(path)\u001B[0m\n\u001B[1;32m     15\u001B[0m \u001B[38;5;28;01mdef\u001B[39;00m \u001B[38;5;21mread_metadata_without_fields\u001B[39m(path):\n\u001B[0;32m---> 16\u001B[0m     metadata \u001B[38;5;241m=\u001B[39m \u001B[43mpd\u001B[49m\u001B[38;5;241;43m.\u001B[39;49m\u001B[43mread_csv\u001B[49m\u001B[43m(\u001B[49m\u001B[43mpath\u001B[49m\u001B[43m,\u001B[49m\u001B[43m \u001B[49m\u001B[43msep\u001B[49m\u001B[38;5;241;43m=\u001B[39;49m\u001B[38;5;124;43m'\u001B[39;49m\u001B[38;5;130;43;01m\\t\u001B[39;49;00m\u001B[38;5;124;43m'\u001B[39;49m\u001B[43m,\u001B[49m\u001B[43m \u001B[49m\u001B[43mna_values\u001B[49m\u001B[38;5;241;43m=\u001B[39;49m\u001B[38;5;124;43m\"\u001B[39;49m\u001B[38;5;124;43m\"\u001B[39;49m\u001B[43m,\u001B[49m\u001B[43m \u001B[49m\u001B[43mlow_memory\u001B[49m\u001B[38;5;241;43m=\u001B[39;49m\u001B[38;5;28;43;01mFalse\u001B[39;49;00m\u001B[43m)\u001B[49m\n\u001B[1;32m     17\u001B[0m     \u001B[38;5;28;01mif\u001B[39;00m \u001B[38;5;124m'\u001B[39m\u001B[38;5;124mField\u001B[39m\u001B[38;5;124m'\u001B[39m \u001B[38;5;129;01min\u001B[39;00m metadata\u001B[38;5;241m.\u001B[39mcolumns:\n\u001B[1;32m     18\u001B[0m         metadata \u001B[38;5;241m=\u001B[39m metadata\u001B[38;5;241m.\u001B[39mloc[metadata\u001B[38;5;241m.\u001B[39mField\u001B[38;5;241m.\u001B[39mstr\u001B[38;5;241m.\u001B[39mstartswith(\u001B[38;5;124m'\u001B[39m\u001B[38;5;124m#\u001B[39m\u001B[38;5;124m'\u001B[39m) \u001B[38;5;241m!=\u001B[39m \u001B[38;5;28;01mTrue\u001B[39;00m,]\u001B[38;5;241m.\u001B[39mreset_index(drop\u001B[38;5;241m=\u001B[39m\u001B[38;5;28;01mTrue\u001B[39;00m)\n",
      "File \u001B[0;32m~/Library/Python/3.9/lib/python/site-packages/pandas/io/parsers/readers.py:912\u001B[0m, in \u001B[0;36mread_csv\u001B[0;34m(filepath_or_buffer, sep, delimiter, header, names, index_col, usecols, dtype, engine, converters, true_values, false_values, skipinitialspace, skiprows, skipfooter, nrows, na_values, keep_default_na, na_filter, verbose, skip_blank_lines, parse_dates, infer_datetime_format, keep_date_col, date_parser, date_format, dayfirst, cache_dates, iterator, chunksize, compression, thousands, decimal, lineterminator, quotechar, quoting, doublequote, escapechar, comment, encoding, encoding_errors, dialect, on_bad_lines, delim_whitespace, low_memory, memory_map, float_precision, storage_options, dtype_backend)\u001B[0m\n\u001B[1;32m    899\u001B[0m kwds_defaults \u001B[38;5;241m=\u001B[39m _refine_defaults_read(\n\u001B[1;32m    900\u001B[0m     dialect,\n\u001B[1;32m    901\u001B[0m     delimiter,\n\u001B[0;32m   (...)\u001B[0m\n\u001B[1;32m    908\u001B[0m     dtype_backend\u001B[38;5;241m=\u001B[39mdtype_backend,\n\u001B[1;32m    909\u001B[0m )\n\u001B[1;32m    910\u001B[0m kwds\u001B[38;5;241m.\u001B[39mupdate(kwds_defaults)\n\u001B[0;32m--> 912\u001B[0m \u001B[38;5;28;01mreturn\u001B[39;00m \u001B[43m_read\u001B[49m\u001B[43m(\u001B[49m\u001B[43mfilepath_or_buffer\u001B[49m\u001B[43m,\u001B[49m\u001B[43m \u001B[49m\u001B[43mkwds\u001B[49m\u001B[43m)\u001B[49m\n",
      "File \u001B[0;32m~/Library/Python/3.9/lib/python/site-packages/pandas/io/parsers/readers.py:577\u001B[0m, in \u001B[0;36m_read\u001B[0;34m(filepath_or_buffer, kwds)\u001B[0m\n\u001B[1;32m    574\u001B[0m _validate_names(kwds\u001B[38;5;241m.\u001B[39mget(\u001B[38;5;124m\"\u001B[39m\u001B[38;5;124mnames\u001B[39m\u001B[38;5;124m\"\u001B[39m, \u001B[38;5;28;01mNone\u001B[39;00m))\n\u001B[1;32m    576\u001B[0m \u001B[38;5;66;03m# Create the parser.\u001B[39;00m\n\u001B[0;32m--> 577\u001B[0m parser \u001B[38;5;241m=\u001B[39m \u001B[43mTextFileReader\u001B[49m\u001B[43m(\u001B[49m\u001B[43mfilepath_or_buffer\u001B[49m\u001B[43m,\u001B[49m\u001B[43m \u001B[49m\u001B[38;5;241;43m*\u001B[39;49m\u001B[38;5;241;43m*\u001B[39;49m\u001B[43mkwds\u001B[49m\u001B[43m)\u001B[49m\n\u001B[1;32m    579\u001B[0m \u001B[38;5;28;01mif\u001B[39;00m chunksize \u001B[38;5;129;01mor\u001B[39;00m iterator:\n\u001B[1;32m    580\u001B[0m     \u001B[38;5;28;01mreturn\u001B[39;00m parser\n",
      "File \u001B[0;32m~/Library/Python/3.9/lib/python/site-packages/pandas/io/parsers/readers.py:1407\u001B[0m, in \u001B[0;36mTextFileReader.__init__\u001B[0;34m(self, f, engine, **kwds)\u001B[0m\n\u001B[1;32m   1404\u001B[0m     \u001B[38;5;28mself\u001B[39m\u001B[38;5;241m.\u001B[39moptions[\u001B[38;5;124m\"\u001B[39m\u001B[38;5;124mhas_index_names\u001B[39m\u001B[38;5;124m\"\u001B[39m] \u001B[38;5;241m=\u001B[39m kwds[\u001B[38;5;124m\"\u001B[39m\u001B[38;5;124mhas_index_names\u001B[39m\u001B[38;5;124m\"\u001B[39m]\n\u001B[1;32m   1406\u001B[0m \u001B[38;5;28mself\u001B[39m\u001B[38;5;241m.\u001B[39mhandles: IOHandles \u001B[38;5;241m|\u001B[39m \u001B[38;5;28;01mNone\u001B[39;00m \u001B[38;5;241m=\u001B[39m \u001B[38;5;28;01mNone\u001B[39;00m\n\u001B[0;32m-> 1407\u001B[0m \u001B[38;5;28mself\u001B[39m\u001B[38;5;241m.\u001B[39m_engine \u001B[38;5;241m=\u001B[39m \u001B[38;5;28;43mself\u001B[39;49m\u001B[38;5;241;43m.\u001B[39;49m\u001B[43m_make_engine\u001B[49m\u001B[43m(\u001B[49m\u001B[43mf\u001B[49m\u001B[43m,\u001B[49m\u001B[43m \u001B[49m\u001B[38;5;28;43mself\u001B[39;49m\u001B[38;5;241;43m.\u001B[39;49m\u001B[43mengine\u001B[49m\u001B[43m)\u001B[49m\n",
      "File \u001B[0;32m~/Library/Python/3.9/lib/python/site-packages/pandas/io/parsers/readers.py:1661\u001B[0m, in \u001B[0;36mTextFileReader._make_engine\u001B[0;34m(self, f, engine)\u001B[0m\n\u001B[1;32m   1659\u001B[0m     \u001B[38;5;28;01mif\u001B[39;00m \u001B[38;5;124m\"\u001B[39m\u001B[38;5;124mb\u001B[39m\u001B[38;5;124m\"\u001B[39m \u001B[38;5;129;01mnot\u001B[39;00m \u001B[38;5;129;01min\u001B[39;00m mode:\n\u001B[1;32m   1660\u001B[0m         mode \u001B[38;5;241m+\u001B[39m\u001B[38;5;241m=\u001B[39m \u001B[38;5;124m\"\u001B[39m\u001B[38;5;124mb\u001B[39m\u001B[38;5;124m\"\u001B[39m\n\u001B[0;32m-> 1661\u001B[0m \u001B[38;5;28mself\u001B[39m\u001B[38;5;241m.\u001B[39mhandles \u001B[38;5;241m=\u001B[39m \u001B[43mget_handle\u001B[49m\u001B[43m(\u001B[49m\n\u001B[1;32m   1662\u001B[0m \u001B[43m    \u001B[49m\u001B[43mf\u001B[49m\u001B[43m,\u001B[49m\n\u001B[1;32m   1663\u001B[0m \u001B[43m    \u001B[49m\u001B[43mmode\u001B[49m\u001B[43m,\u001B[49m\n\u001B[1;32m   1664\u001B[0m \u001B[43m    \u001B[49m\u001B[43mencoding\u001B[49m\u001B[38;5;241;43m=\u001B[39;49m\u001B[38;5;28;43mself\u001B[39;49m\u001B[38;5;241;43m.\u001B[39;49m\u001B[43moptions\u001B[49m\u001B[38;5;241;43m.\u001B[39;49m\u001B[43mget\u001B[49m\u001B[43m(\u001B[49m\u001B[38;5;124;43m\"\u001B[39;49m\u001B[38;5;124;43mencoding\u001B[39;49m\u001B[38;5;124;43m\"\u001B[39;49m\u001B[43m,\u001B[49m\u001B[43m \u001B[49m\u001B[38;5;28;43;01mNone\u001B[39;49;00m\u001B[43m)\u001B[49m\u001B[43m,\u001B[49m\n\u001B[1;32m   1665\u001B[0m \u001B[43m    \u001B[49m\u001B[43mcompression\u001B[49m\u001B[38;5;241;43m=\u001B[39;49m\u001B[38;5;28;43mself\u001B[39;49m\u001B[38;5;241;43m.\u001B[39;49m\u001B[43moptions\u001B[49m\u001B[38;5;241;43m.\u001B[39;49m\u001B[43mget\u001B[49m\u001B[43m(\u001B[49m\u001B[38;5;124;43m\"\u001B[39;49m\u001B[38;5;124;43mcompression\u001B[39;49m\u001B[38;5;124;43m\"\u001B[39;49m\u001B[43m,\u001B[49m\u001B[43m \u001B[49m\u001B[38;5;28;43;01mNone\u001B[39;49;00m\u001B[43m)\u001B[49m\u001B[43m,\u001B[49m\n\u001B[1;32m   1666\u001B[0m \u001B[43m    \u001B[49m\u001B[43mmemory_map\u001B[49m\u001B[38;5;241;43m=\u001B[39;49m\u001B[38;5;28;43mself\u001B[39;49m\u001B[38;5;241;43m.\u001B[39;49m\u001B[43moptions\u001B[49m\u001B[38;5;241;43m.\u001B[39;49m\u001B[43mget\u001B[49m\u001B[43m(\u001B[49m\u001B[38;5;124;43m\"\u001B[39;49m\u001B[38;5;124;43mmemory_map\u001B[39;49m\u001B[38;5;124;43m\"\u001B[39;49m\u001B[43m,\u001B[49m\u001B[43m \u001B[49m\u001B[38;5;28;43;01mFalse\u001B[39;49;00m\u001B[43m)\u001B[49m\u001B[43m,\u001B[49m\n\u001B[1;32m   1667\u001B[0m \u001B[43m    \u001B[49m\u001B[43mis_text\u001B[49m\u001B[38;5;241;43m=\u001B[39;49m\u001B[43mis_text\u001B[49m\u001B[43m,\u001B[49m\n\u001B[1;32m   1668\u001B[0m \u001B[43m    \u001B[49m\u001B[43merrors\u001B[49m\u001B[38;5;241;43m=\u001B[39;49m\u001B[38;5;28;43mself\u001B[39;49m\u001B[38;5;241;43m.\u001B[39;49m\u001B[43moptions\u001B[49m\u001B[38;5;241;43m.\u001B[39;49m\u001B[43mget\u001B[49m\u001B[43m(\u001B[49m\u001B[38;5;124;43m\"\u001B[39;49m\u001B[38;5;124;43mencoding_errors\u001B[39;49m\u001B[38;5;124;43m\"\u001B[39;49m\u001B[43m,\u001B[49m\u001B[43m \u001B[49m\u001B[38;5;124;43m\"\u001B[39;49m\u001B[38;5;124;43mstrict\u001B[39;49m\u001B[38;5;124;43m\"\u001B[39;49m\u001B[43m)\u001B[49m\u001B[43m,\u001B[49m\n\u001B[1;32m   1669\u001B[0m \u001B[43m    \u001B[49m\u001B[43mstorage_options\u001B[49m\u001B[38;5;241;43m=\u001B[39;49m\u001B[38;5;28;43mself\u001B[39;49m\u001B[38;5;241;43m.\u001B[39;49m\u001B[43moptions\u001B[49m\u001B[38;5;241;43m.\u001B[39;49m\u001B[43mget\u001B[49m\u001B[43m(\u001B[49m\u001B[38;5;124;43m\"\u001B[39;49m\u001B[38;5;124;43mstorage_options\u001B[39;49m\u001B[38;5;124;43m\"\u001B[39;49m\u001B[43m,\u001B[49m\u001B[43m \u001B[49m\u001B[38;5;28;43;01mNone\u001B[39;49;00m\u001B[43m)\u001B[49m\u001B[43m,\u001B[49m\n\u001B[1;32m   1670\u001B[0m \u001B[43m\u001B[49m\u001B[43m)\u001B[49m\n\u001B[1;32m   1671\u001B[0m \u001B[38;5;28;01massert\u001B[39;00m \u001B[38;5;28mself\u001B[39m\u001B[38;5;241m.\u001B[39mhandles \u001B[38;5;129;01mis\u001B[39;00m \u001B[38;5;129;01mnot\u001B[39;00m \u001B[38;5;28;01mNone\u001B[39;00m\n\u001B[1;32m   1672\u001B[0m f \u001B[38;5;241m=\u001B[39m \u001B[38;5;28mself\u001B[39m\u001B[38;5;241m.\u001B[39mhandles\u001B[38;5;241m.\u001B[39mhandle\n",
      "File \u001B[0;32m~/Library/Python/3.9/lib/python/site-packages/pandas/io/common.py:859\u001B[0m, in \u001B[0;36mget_handle\u001B[0;34m(path_or_buf, mode, encoding, compression, memory_map, is_text, errors, storage_options)\u001B[0m\n\u001B[1;32m    854\u001B[0m \u001B[38;5;28;01melif\u001B[39;00m \u001B[38;5;28misinstance\u001B[39m(handle, \u001B[38;5;28mstr\u001B[39m):\n\u001B[1;32m    855\u001B[0m     \u001B[38;5;66;03m# Check whether the filename is to be opened in binary mode.\u001B[39;00m\n\u001B[1;32m    856\u001B[0m     \u001B[38;5;66;03m# Binary mode does not support 'encoding' and 'newline'.\u001B[39;00m\n\u001B[1;32m    857\u001B[0m     \u001B[38;5;28;01mif\u001B[39;00m ioargs\u001B[38;5;241m.\u001B[39mencoding \u001B[38;5;129;01mand\u001B[39;00m \u001B[38;5;124m\"\u001B[39m\u001B[38;5;124mb\u001B[39m\u001B[38;5;124m\"\u001B[39m \u001B[38;5;129;01mnot\u001B[39;00m \u001B[38;5;129;01min\u001B[39;00m ioargs\u001B[38;5;241m.\u001B[39mmode:\n\u001B[1;32m    858\u001B[0m         \u001B[38;5;66;03m# Encoding\u001B[39;00m\n\u001B[0;32m--> 859\u001B[0m         handle \u001B[38;5;241m=\u001B[39m \u001B[38;5;28;43mopen\u001B[39;49m\u001B[43m(\u001B[49m\n\u001B[1;32m    860\u001B[0m \u001B[43m            \u001B[49m\u001B[43mhandle\u001B[49m\u001B[43m,\u001B[49m\n\u001B[1;32m    861\u001B[0m \u001B[43m            \u001B[49m\u001B[43mioargs\u001B[49m\u001B[38;5;241;43m.\u001B[39;49m\u001B[43mmode\u001B[49m\u001B[43m,\u001B[49m\n\u001B[1;32m    862\u001B[0m \u001B[43m            \u001B[49m\u001B[43mencoding\u001B[49m\u001B[38;5;241;43m=\u001B[39;49m\u001B[43mioargs\u001B[49m\u001B[38;5;241;43m.\u001B[39;49m\u001B[43mencoding\u001B[49m\u001B[43m,\u001B[49m\n\u001B[1;32m    863\u001B[0m \u001B[43m            \u001B[49m\u001B[43merrors\u001B[49m\u001B[38;5;241;43m=\u001B[39;49m\u001B[43merrors\u001B[49m\u001B[43m,\u001B[49m\n\u001B[1;32m    864\u001B[0m \u001B[43m            \u001B[49m\u001B[43mnewline\u001B[49m\u001B[38;5;241;43m=\u001B[39;49m\u001B[38;5;124;43m\"\u001B[39;49m\u001B[38;5;124;43m\"\u001B[39;49m\u001B[43m,\u001B[49m\n\u001B[1;32m    865\u001B[0m \u001B[43m        \u001B[49m\u001B[43m)\u001B[49m\n\u001B[1;32m    866\u001B[0m     \u001B[38;5;28;01melse\u001B[39;00m:\n\u001B[1;32m    867\u001B[0m         \u001B[38;5;66;03m# Binary mode\u001B[39;00m\n\u001B[1;32m    868\u001B[0m         handle \u001B[38;5;241m=\u001B[39m \u001B[38;5;28mopen\u001B[39m(handle, ioargs\u001B[38;5;241m.\u001B[39mmode)\n",
      "\u001B[0;31mFileNotFoundError\u001B[0m: [Errno 2] No such file or directory: '/hps/nobackup/tudor/pdcm/pdxfinder-data/data/UPDOG/CMP/CMP_molecular_metadata-sample.tsv'"
     ]
    }
   ],
   "source": [
    "from os import listdir\n",
    "from os.path import isfile, join\n",
    "import pandas as pd\n",
    "\n",
    "CMP_path = '/hps/nobackup/tudor/pdcm/pdxfinder-data/data/UPDOG/CMP/'\n",
    "CMP_mut_path = '/hps/nobackup/tudor/pdcm/pdxfinder-data/data/UPDOG/CMP/mut'\n",
    "\n",
    "def get_files(path):\n",
    "    return [join(path, f) for f in listdir(path) if isfile(join(path, f))]\n",
    "\n",
    "def read_metadata_with_fields(path):\n",
    "    metadata = pd.read_csv(path, sep='\\t', na_values=\"\", low_memory=False)\n",
    "    return metadata\n",
    "\n",
    "def read_metadata_without_fields(path):\n",
    "    metadata = pd.read_csv(path, sep='\\t', na_values=\"\", low_memory=False)\n",
    "    if 'Field' in metadata.columns:\n",
    "        metadata = metadata.loc[metadata.Field.str.startswith('#') != True,].reset_index(drop=True)\n",
    "        metadata = metadata.drop('Field', axis=1)\n",
    "    return metadata\n",
    "\n",
    "#mms_header = read_metadata_with_fields(join(CMP_path, 'CMP_molecular_metadata-sample.tsv')).iloc[0:4]\n",
    "#ps = read_metadata_without_fields(join(CMP_path, 'CMP_molecular_metadata-sample.tsv'))[['sample_id', 'model_id']]\n",
    "#ps = ps.drop_duplicates().reset_index(drop=True)\n",
    "#ps = dict(zip(ps['sample_id'], ps['model_id']))\n",
    "mms = read_metadata_without_fields(join(CMP_path, 'CMP_molecular_metadata-sample.tsv'))[['sample_id', 'model_id']]\n",
    "mms = mms.drop_duplicates().reset_index(drop=True)\n",
    "mms_mapper = dict(zip(mms['sample_id'], mms['model_id']))\n",
    "#replaced_mms = mms[['model_id', 'sample_id']].replace(ps)\n",
    "#mms['model_id'] = replaced_mms['sample_id']\n",
    "mut_file = read_metadata_with_fields(join(CMP_mut_path, 'CMP_mut.tsv'))\n",
    "samples = mms['sample_id'].unique()\n",
    "for i in tqdm(range(len(samples))):\n",
    "    s = samples[i]\n",
    "    temp = mut_file[mut_file['sample_id'] == s].reset_index(drop=True)\n",
    "    if len(temp) > 0:\n",
    "        file_name = join(CMP_mut_path, f\"CMP_mut_{s}.tsv\")\n",
    "        temp.to_csv(file_name, sep='\\t', index=False)"
   ],
   "metadata": {
    "collapsed": false,
    "ExecuteTime": {
     "end_time": "2024-03-12T16:29:37.483444Z",
     "start_time": "2024-03-12T16:29:36.819661Z"
    }
   }
  },
  {
   "cell_type": "code",
   "outputs": [],
   "source": [
    "from utils import read_metadata_with_fields, read_metadata_without_fields, get_files\n",
    "from os.path import join, exists\n",
    "from os import remove\n",
    "from pandas import read_csv as read, concat, to_numeric\n",
    "GCCRI_path = '/Users/tushar/CancerModels/pdxfinder-data/data/UPDOG/GCCRI'"
   ],
   "metadata": {
    "collapsed": false,
    "ExecuteTime": {
     "end_time": "2024-01-18T22:21:15.043990Z",
     "start_time": "2024-01-18T22:21:14.944108Z"
    }
   },
   "execution_count": 20
  },
  {
   "cell_type": "code",
   "outputs": [],
   "source": [
    "pivot_id_path = '~/CancerModels/submission/PIVOT_IDs.csv'\n",
    "pivot_ids = read(pivot_id_path, encoding='utf-8')\n",
    "mapper = {'LURIE': 'LurieChildrens', 'MDA': 'MDAnderson-CCH', 'UTHSCSA': 'GCCRI'}\n",
    "pivot_ids['provider'] = pivot_ids['PIVOT Center (Model Originator)'].replace(mapper)\n",
    "pivot_providers = list(pivot_ids['provider'].unique())\n",
    "GCCRI = pivot_ids[pivot_ids['provider'] == 'GCCRI']"
   ],
   "metadata": {
    "collapsed": false,
    "ExecuteTime": {
     "end_time": "2024-01-18T14:43:03.997951Z",
     "start_time": "2024-01-18T14:43:03.949097Z"
    }
   },
   "execution_count": 30
  },
  {
   "cell_type": "code",
   "outputs": [],
   "source": [
    "pdx = read_metadata_without_fields(join(GCCRI_path, 'GCCRI_metadata-pdx_model.tsv'))\n",
    "new_model_id = [mid.replace('-', '').replace('NCH', 'NCH-').replace('1NCH', '1-NCH').replace('2NCH', '2-NCH') for mid in pdx['model_id']]\n",
    "new_model_id = [mid.replace('S13', '-S13_').replace('--', '-') for mid in new_model_id]\n",
    "mapper = dict(zip(list(pdx['model_id']), new_model_id))\n",
    "ps_mapper = dict(zip(list(pdx['model_id'] + '_P'), [n + '_P' for n in new_model_id]))\n",
    "#pdx.replace(mapper).to_csv(join(GCCRI_path, 'GCCRI_metadata-pdx_model.tsv'), sep='\\t', index=False)"
   ],
   "metadata": {
    "collapsed": false,
    "ExecuteTime": {
     "end_time": "2024-01-18T21:46:57.623484Z",
     "start_time": "2024-01-18T21:46:57.518641Z"
    }
   },
   "execution_count": 8
  },
  {
   "cell_type": "code",
   "outputs": [],
   "source": [
    "def fix_ids(path, mapper):\n",
    "    df = read_metadata_without_fields(path).replace(mapper)\n",
    "    header = read_metadata_with_fields(path).iloc[0:4]\n",
    "    return concat([header, df]).reset_index(drop=True) "
   ],
   "metadata": {
    "collapsed": false,
    "ExecuteTime": {
     "end_time": "2024-01-18T21:47:26.841500Z",
     "start_time": "2024-01-18T21:47:26.768119Z"
    }
   },
   "execution_count": 9
  },
  {
   "cell_type": "code",
   "outputs": [],
   "source": [
    "fix_ids(join(GCCRI_path, 'GCCRI_metadata-pdx_model.tsv'), mapper).to_csv(join(GCCRI_path, 'GCCRI_metadata-pdx_model.tsv'), sep='\\t', index=False)"
   ],
   "metadata": {
    "collapsed": false,
    "ExecuteTime": {
     "end_time": "2024-01-18T21:48:07.542924Z",
     "start_time": "2024-01-18T21:48:07.442386Z"
    }
   },
   "execution_count": 10
  },
  {
   "cell_type": "code",
   "outputs": [],
   "source": [
    "fix_ids(join(GCCRI_path, 'GCCRI_metadata-sharing.tsv'), mapper).to_csv(join(GCCRI_path, 'GCCRI_metadata-sharing.tsv'), sep='\\t', index=False)"
   ],
   "metadata": {
    "collapsed": false,
    "ExecuteTime": {
     "end_time": "2024-01-18T21:20:08.300713Z",
     "start_time": "2024-01-18T21:20:08.203141Z"
    }
   },
   "execution_count": 67
  },
  {
   "cell_type": "code",
   "outputs": [
    {
     "data": {
      "text/plain": "                   Field                                           model_id  \\\n0           #Description  Unique identifier for all the PDXs derived fro...   \n1               #Example                                          CRC0228PR   \n2   #Format Requirements                                          free text   \n3            #Essential?                                          essential   \n4                    NaN                                             ASPSKY   \n5                    NaN                                               BT27   \n6                    NaN                                               BT29   \n7                    NaN                                                ES1   \n8                    NaN                                                ES4   \n9                    NaN                                                ES6   \n10                   NaN                                                ES8   \n11                   NaN                                                EW5   \n12                   NaN                                                EW8   \n13                   NaN                                               G401   \n14                   NaN                                              IRS56   \n15                   NaN                                              IRS68   \n16                   NaN                                               KT10   \n17                   NaN                                               KT11   \n18                   NaN                                               KT12   \n19                   NaN                                               KT13   \n20                   NaN                                               KT14   \n21                   NaN                                               KT18   \n22                   NaN                                                KT5   \n23                   NaN                                                KT6   \n24                   NaN                                                KT8   \n25                   NaN                                                KT9   \n26                   NaN                             NCH-ARMS2-NCH-S13_7484   \n27                   NaN                                            NCH-CA1   \n28                   NaN                                            NCH-CA2   \n29                   NaN                                            NCH-CA3   \n30                   NaN                                           NCH-CCS1   \n31                   NaN                                 NCH-ERMS1-NCH-RMS1   \n32                   NaN                                           NCH-EWS1   \n33                   NaN                                           NCH-HEP1   \n34                   NaN                                            NCH-MB1   \n35                   NaN                                            NCH-MN1   \n36                   NaN                                            NCH-NB1   \n37                   NaN                                            NCH-OS1   \n38                   NaN                                           NCH-PXA1   \n39                   NaN                                           NCH-RBD1   \n40                   NaN                                           NCH-RBD2   \n41                   NaN                                           NCH-RBD4   \n42                   NaN                                            NCH-WT4   \n43                   NaN                                            NCH-WT5   \n44                   NaN                                   NCH-WT6-S13_1506   \n45                   NaN                                            NCH-WT7   \n46                   NaN                                   NCH-WT8-S13_3700   \n47                   NaN                                            NCIASPS   \n48                   NaN                                               Rh10   \n49                   NaN                                               Rh12   \n50                   NaN                                               Rh30   \n51                   NaN                                              Rh30R   \n52                   NaN                                               Rh36   \n53                   NaN                                               Rh41   \n54                   NaN                                               Rh65   \n55                   NaN                                               Rh70   \n56                   NaN                                             SKNEP1   \n57                   NaN                                               TC71   \n\n                                 validation_technique  \\\n0   Any technique used to validate PDX against the...   \n1                                      fingerprinting   \n2                                           free text   \n3                                           essential   \n4                                     Fingerprinting    \n5                                     Fingerprinting    \n6                                     Fingerprinting    \n7                                     Fingerprinting    \n8                                     Fingerprinting    \n9                                     Fingerprinting    \n10                                    Fingerprinting    \n11                                    Fingerprinting    \n12                                    Fingerprinting    \n13                                    Fingerprinting    \n14                                    Fingerprinting    \n15                                    Fingerprinting    \n16                                    Fingerprinting    \n17                                    Fingerprinting    \n18                                    Fingerprinting    \n19                                    Fingerprinting    \n20                                    Fingerprinting    \n21                                    Fingerprinting    \n22                                    Fingerprinting    \n23                                    Fingerprinting    \n24                                    Fingerprinting    \n25                                    Fingerprinting    \n26                                    Fingerprinting    \n27                                    Fingerprinting    \n28                                    Fingerprinting    \n29                                    Fingerprinting    \n30                                    Fingerprinting    \n31                                    Fingerprinting    \n32                                    Fingerprinting    \n33                                    Fingerprinting    \n34                                    Fingerprinting    \n35                                    Fingerprinting    \n36                                    Fingerprinting    \n37                                    Fingerprinting    \n38                                    Fingerprinting    \n39                                    Fingerprinting    \n40                                    Fingerprinting    \n41                                    Fingerprinting    \n42                                    Fingerprinting    \n43                                    Fingerprinting    \n44                                    Fingerprinting    \n45                                    Fingerprinting    \n46                                    Fingerprinting    \n47                                    Fingerprinting    \n48                                    Fingerprinting    \n49                                    Fingerprinting    \n50                                    Fingerprinting    \n51                                    Fingerprinting    \n52                                    Fingerprinting    \n53                                    Fingerprinting    \n54                                    Fingerprinting    \n55                                    Fingerprinting    \n56                                    Fingerprinting    \n57                                    Fingerprinting    \n\n                                          description  \\\n0   Short description of what was compared and wha...   \n1   high concordance between xenograft and  patien...   \n2                                           free text   \n3                                           essential   \n4                                        Not provided   \n5                                        Not provided   \n6                                        Not provided   \n7                                        Not provided   \n8                                        Not provided   \n9                                        Not provided   \n10                                       Not provided   \n11                                       Not provided   \n12                                       Not provided   \n13                                       Not provided   \n14                                       Not provided   \n15                                       Not provided   \n16                                       Not provided   \n17                                       Not provided   \n18                                       Not provided   \n19                                       Not provided   \n20                                       Not provided   \n21                                       Not provided   \n22                                       Not provided   \n23                                       Not provided   \n24                                       Not provided   \n25                                       Not provided   \n26                                       Not provided   \n27                                       Not provided   \n28                                       Not provided   \n29                                       Not provided   \n30                                       Not provided   \n31                                       Not provided   \n32                                       Not provided   \n33                                       Not provided   \n34                                       Not provided   \n35                                       Not provided   \n36                                       Not provided   \n37                                       Not provided   \n38                                       Not provided   \n39                                       Not provided   \n40                                       Not provided   \n41                                       Not provided   \n42                                       Not provided   \n43                                       Not provided   \n44                                       Not provided   \n45                                       Not provided   \n46                                       Not provided   \n47                                       Not provided   \n48                                       Not provided   \n49                                       Not provided   \n50                                       Not provided   \n51                                       Not provided   \n52                                       Not provided   \n53                                       Not provided   \n54                                       Not provided   \n55                                       Not provided   \n56                                       Not provided   \n57                                       Not provided   \n\n                                      passages_tested  \\\n0   Provide a list of all passages where validatio...   \n1                                                 1,2   \n2                  list of numbers separted by commas   \n3                                           essential   \n4                                        Not provided   \n5                                        Not provided   \n6                                        Not provided   \n7                                        Not provided   \n8                                        Not provided   \n9                                        Not provided   \n10                                       Not provided   \n11                                       Not provided   \n12                                       Not provided   \n13                                       Not provided   \n14                                       Not provided   \n15                                       Not provided   \n16                                       Not provided   \n17                                       Not provided   \n18                                       Not provided   \n19                                       Not provided   \n20                                       Not provided   \n21                                       Not provided   \n22                                       Not provided   \n23                                       Not provided   \n24                                       Not provided   \n25                                       Not provided   \n26                                       Not provided   \n27                                       Not provided   \n28                                       Not provided   \n29                                       Not provided   \n30                                       Not provided   \n31                                       Not provided   \n32                                       Not provided   \n33                                       Not provided   \n34                                       Not provided   \n35                                       Not provided   \n36                                       Not provided   \n37                                       Not provided   \n38                                       Not provided   \n39                                       Not provided   \n40                                       Not provided   \n41                                       Not provided   \n42                                       Not provided   \n43                                       Not provided   \n44                                       Not provided   \n45                                       Not provided   \n46                                       Not provided   \n47                                       Not provided   \n48                                       Not provided   \n49                                       Not provided   \n50                                       Not provided   \n51                                       Not provided   \n52                                       Not provided   \n53                                       Not provided   \n54                                       Not provided   \n55                                       Not provided   \n56                                       Not provided   \n57                                       Not provided   \n\n                  validation_host_strain_nomenclature  \n0   Validation host mouse strain, following mouse ...  \n1                   NOD.Cg-Prkdcscid Il2rgtm1Wjl/SzJ   \n2               full host strain name or Not provided  \n3                                           essential  \n4              C.B-Igh-1b/IcrTac-Prkdc<sup>scid</sup>  \n5              C.B-Igh-1b/IcrTac-Prkdc<sup>scid</sup>  \n6              C.B-Igh-1b/IcrTac-Prkdc<sup>scid</sup>  \n7              C.B-Igh-1b/IcrTac-Prkdc<sup>scid</sup>  \n8              C.B-Igh-1b/IcrTac-Prkdc<sup>scid</sup>  \n9              C.B-Igh-1b/IcrTac-Prkdc<sup>scid</sup>  \n10             C.B-Igh-1b/IcrTac-Prkdc<sup>scid</sup>  \n11             C.B-Igh-1b/IcrTac-Prkdc<sup>scid</sup>  \n12             C.B-Igh-1b/IcrTac-Prkdc<sup>scid</sup>  \n13             C.B-Igh-1b/IcrTac-Prkdc<sup>scid</sup>  \n14             C.B-Igh-1b/IcrTac-Prkdc<sup>scid</sup>  \n15             C.B-Igh-1b/IcrTac-Prkdc<sup>scid</sup>  \n16             C.B-Igh-1b/IcrTac-Prkdc<sup>scid</sup>  \n17             C.B-Igh-1b/IcrTac-Prkdc<sup>scid</sup>  \n18             C.B-Igh-1b/IcrTac-Prkdc<sup>scid</sup>  \n19             C.B-Igh-1b/IcrTac-Prkdc<sup>scid</sup>  \n20             C.B-Igh-1b/IcrTac-Prkdc<sup>scid</sup>  \n21             C.B-Igh-1b/IcrTac-Prkdc<sup>scid</sup>  \n22             C.B-Igh-1b/IcrTac-Prkdc<sup>scid</sup>  \n23             C.B-Igh-1b/IcrTac-Prkdc<sup>scid</sup>  \n24             C.B-Igh-1b/IcrTac-Prkdc<sup>scid</sup>  \n25             C.B-Igh-1b/IcrTac-Prkdc<sup>scid</sup>  \n26             C.B-Igh-1b/IcrTac-Prkdc<sup>scid</sup>  \n27             C.B-Igh-1b/IcrTac-Prkdc<sup>scid</sup>  \n28             C.B-Igh-1b/IcrTac-Prkdc<sup>scid</sup>  \n29             C.B-Igh-1b/IcrTac-Prkdc<sup>scid</sup>  \n30             C.B-Igh-1b/IcrTac-Prkdc<sup>scid</sup>  \n31             C.B-Igh-1b/IcrTac-Prkdc<sup>scid</sup>  \n32             C.B-Igh-1b/IcrTac-Prkdc<sup>scid</sup>  \n33             C.B-Igh-1b/IcrTac-Prkdc<sup>scid</sup>  \n34             C.B-Igh-1b/IcrTac-Prkdc<sup>scid</sup>  \n35             C.B-Igh-1b/IcrTac-Prkdc<sup>scid</sup>  \n36             C.B-Igh-1b/IcrTac-Prkdc<sup>scid</sup>  \n37             C.B-Igh-1b/IcrTac-Prkdc<sup>scid</sup>  \n38             C.B-Igh-1b/IcrTac-Prkdc<sup>scid</sup>  \n39             C.B-Igh-1b/IcrTac-Prkdc<sup>scid</sup>  \n40             C.B-Igh-1b/IcrTac-Prkdc<sup>scid</sup>  \n41             C.B-Igh-1b/IcrTac-Prkdc<sup>scid</sup>  \n42             C.B-Igh-1b/IcrTac-Prkdc<sup>scid</sup>  \n43             C.B-Igh-1b/IcrTac-Prkdc<sup>scid</sup>  \n44             C.B-Igh-1b/IcrTac-Prkdc<sup>scid</sup>  \n45             C.B-Igh-1b/IcrTac-Prkdc<sup>scid</sup>  \n46             C.B-Igh-1b/IcrTac-Prkdc<sup>scid</sup>  \n47             C.B-Igh-1b/IcrTac-Prkdc<sup>scid</sup>  \n48             C.B-Igh-1b/IcrTac-Prkdc<sup>scid</sup>  \n49             C.B-Igh-1b/IcrTac-Prkdc<sup>scid</sup>  \n50             C.B-Igh-1b/IcrTac-Prkdc<sup>scid</sup>  \n51             C.B-Igh-1b/IcrTac-Prkdc<sup>scid</sup>  \n52             C.B-Igh-1b/IcrTac-Prkdc<sup>scid</sup>  \n53             C.B-Igh-1b/IcrTac-Prkdc<sup>scid</sup>  \n54             C.B-Igh-1b/IcrTac-Prkdc<sup>scid</sup>  \n55             C.B-Igh-1b/IcrTac-Prkdc<sup>scid</sup>  \n56             C.B-Igh-1b/IcrTac-Prkdc<sup>scid</sup>  \n57             C.B-Igh-1b/IcrTac-Prkdc<sup>scid</sup>  ",
      "text/html": "<div>\n<style scoped>\n    .dataframe tbody tr th:only-of-type {\n        vertical-align: middle;\n    }\n\n    .dataframe tbody tr th {\n        vertical-align: top;\n    }\n\n    .dataframe thead th {\n        text-align: right;\n    }\n</style>\n<table border=\"1\" class=\"dataframe\">\n  <thead>\n    <tr style=\"text-align: right;\">\n      <th></th>\n      <th>Field</th>\n      <th>model_id</th>\n      <th>validation_technique</th>\n      <th>description</th>\n      <th>passages_tested</th>\n      <th>validation_host_strain_nomenclature</th>\n    </tr>\n  </thead>\n  <tbody>\n    <tr>\n      <th>0</th>\n      <td>#Description</td>\n      <td>Unique identifier for all the PDXs derived fro...</td>\n      <td>Any technique used to validate PDX against the...</td>\n      <td>Short description of what was compared and wha...</td>\n      <td>Provide a list of all passages where validatio...</td>\n      <td>Validation host mouse strain, following mouse ...</td>\n    </tr>\n    <tr>\n      <th>1</th>\n      <td>#Example</td>\n      <td>CRC0228PR</td>\n      <td>fingerprinting</td>\n      <td>high concordance between xenograft and  patien...</td>\n      <td>1,2</td>\n      <td>NOD.Cg-Prkdcscid Il2rgtm1Wjl/SzJ</td>\n    </tr>\n    <tr>\n      <th>2</th>\n      <td>#Format Requirements</td>\n      <td>free text</td>\n      <td>free text</td>\n      <td>free text</td>\n      <td>list of numbers separted by commas</td>\n      <td>full host strain name or Not provided</td>\n    </tr>\n    <tr>\n      <th>3</th>\n      <td>#Essential?</td>\n      <td>essential</td>\n      <td>essential</td>\n      <td>essential</td>\n      <td>essential</td>\n      <td>essential</td>\n    </tr>\n    <tr>\n      <th>4</th>\n      <td>NaN</td>\n      <td>ASPSKY</td>\n      <td>Fingerprinting</td>\n      <td>Not provided</td>\n      <td>Not provided</td>\n      <td>C.B-Igh-1b/IcrTac-Prkdc&lt;sup&gt;scid&lt;/sup&gt;</td>\n    </tr>\n    <tr>\n      <th>5</th>\n      <td>NaN</td>\n      <td>BT27</td>\n      <td>Fingerprinting</td>\n      <td>Not provided</td>\n      <td>Not provided</td>\n      <td>C.B-Igh-1b/IcrTac-Prkdc&lt;sup&gt;scid&lt;/sup&gt;</td>\n    </tr>\n    <tr>\n      <th>6</th>\n      <td>NaN</td>\n      <td>BT29</td>\n      <td>Fingerprinting</td>\n      <td>Not provided</td>\n      <td>Not provided</td>\n      <td>C.B-Igh-1b/IcrTac-Prkdc&lt;sup&gt;scid&lt;/sup&gt;</td>\n    </tr>\n    <tr>\n      <th>7</th>\n      <td>NaN</td>\n      <td>ES1</td>\n      <td>Fingerprinting</td>\n      <td>Not provided</td>\n      <td>Not provided</td>\n      <td>C.B-Igh-1b/IcrTac-Prkdc&lt;sup&gt;scid&lt;/sup&gt;</td>\n    </tr>\n    <tr>\n      <th>8</th>\n      <td>NaN</td>\n      <td>ES4</td>\n      <td>Fingerprinting</td>\n      <td>Not provided</td>\n      <td>Not provided</td>\n      <td>C.B-Igh-1b/IcrTac-Prkdc&lt;sup&gt;scid&lt;/sup&gt;</td>\n    </tr>\n    <tr>\n      <th>9</th>\n      <td>NaN</td>\n      <td>ES6</td>\n      <td>Fingerprinting</td>\n      <td>Not provided</td>\n      <td>Not provided</td>\n      <td>C.B-Igh-1b/IcrTac-Prkdc&lt;sup&gt;scid&lt;/sup&gt;</td>\n    </tr>\n    <tr>\n      <th>10</th>\n      <td>NaN</td>\n      <td>ES8</td>\n      <td>Fingerprinting</td>\n      <td>Not provided</td>\n      <td>Not provided</td>\n      <td>C.B-Igh-1b/IcrTac-Prkdc&lt;sup&gt;scid&lt;/sup&gt;</td>\n    </tr>\n    <tr>\n      <th>11</th>\n      <td>NaN</td>\n      <td>EW5</td>\n      <td>Fingerprinting</td>\n      <td>Not provided</td>\n      <td>Not provided</td>\n      <td>C.B-Igh-1b/IcrTac-Prkdc&lt;sup&gt;scid&lt;/sup&gt;</td>\n    </tr>\n    <tr>\n      <th>12</th>\n      <td>NaN</td>\n      <td>EW8</td>\n      <td>Fingerprinting</td>\n      <td>Not provided</td>\n      <td>Not provided</td>\n      <td>C.B-Igh-1b/IcrTac-Prkdc&lt;sup&gt;scid&lt;/sup&gt;</td>\n    </tr>\n    <tr>\n      <th>13</th>\n      <td>NaN</td>\n      <td>G401</td>\n      <td>Fingerprinting</td>\n      <td>Not provided</td>\n      <td>Not provided</td>\n      <td>C.B-Igh-1b/IcrTac-Prkdc&lt;sup&gt;scid&lt;/sup&gt;</td>\n    </tr>\n    <tr>\n      <th>14</th>\n      <td>NaN</td>\n      <td>IRS56</td>\n      <td>Fingerprinting</td>\n      <td>Not provided</td>\n      <td>Not provided</td>\n      <td>C.B-Igh-1b/IcrTac-Prkdc&lt;sup&gt;scid&lt;/sup&gt;</td>\n    </tr>\n    <tr>\n      <th>15</th>\n      <td>NaN</td>\n      <td>IRS68</td>\n      <td>Fingerprinting</td>\n      <td>Not provided</td>\n      <td>Not provided</td>\n      <td>C.B-Igh-1b/IcrTac-Prkdc&lt;sup&gt;scid&lt;/sup&gt;</td>\n    </tr>\n    <tr>\n      <th>16</th>\n      <td>NaN</td>\n      <td>KT10</td>\n      <td>Fingerprinting</td>\n      <td>Not provided</td>\n      <td>Not provided</td>\n      <td>C.B-Igh-1b/IcrTac-Prkdc&lt;sup&gt;scid&lt;/sup&gt;</td>\n    </tr>\n    <tr>\n      <th>17</th>\n      <td>NaN</td>\n      <td>KT11</td>\n      <td>Fingerprinting</td>\n      <td>Not provided</td>\n      <td>Not provided</td>\n      <td>C.B-Igh-1b/IcrTac-Prkdc&lt;sup&gt;scid&lt;/sup&gt;</td>\n    </tr>\n    <tr>\n      <th>18</th>\n      <td>NaN</td>\n      <td>KT12</td>\n      <td>Fingerprinting</td>\n      <td>Not provided</td>\n      <td>Not provided</td>\n      <td>C.B-Igh-1b/IcrTac-Prkdc&lt;sup&gt;scid&lt;/sup&gt;</td>\n    </tr>\n    <tr>\n      <th>19</th>\n      <td>NaN</td>\n      <td>KT13</td>\n      <td>Fingerprinting</td>\n      <td>Not provided</td>\n      <td>Not provided</td>\n      <td>C.B-Igh-1b/IcrTac-Prkdc&lt;sup&gt;scid&lt;/sup&gt;</td>\n    </tr>\n    <tr>\n      <th>20</th>\n      <td>NaN</td>\n      <td>KT14</td>\n      <td>Fingerprinting</td>\n      <td>Not provided</td>\n      <td>Not provided</td>\n      <td>C.B-Igh-1b/IcrTac-Prkdc&lt;sup&gt;scid&lt;/sup&gt;</td>\n    </tr>\n    <tr>\n      <th>21</th>\n      <td>NaN</td>\n      <td>KT18</td>\n      <td>Fingerprinting</td>\n      <td>Not provided</td>\n      <td>Not provided</td>\n      <td>C.B-Igh-1b/IcrTac-Prkdc&lt;sup&gt;scid&lt;/sup&gt;</td>\n    </tr>\n    <tr>\n      <th>22</th>\n      <td>NaN</td>\n      <td>KT5</td>\n      <td>Fingerprinting</td>\n      <td>Not provided</td>\n      <td>Not provided</td>\n      <td>C.B-Igh-1b/IcrTac-Prkdc&lt;sup&gt;scid&lt;/sup&gt;</td>\n    </tr>\n    <tr>\n      <th>23</th>\n      <td>NaN</td>\n      <td>KT6</td>\n      <td>Fingerprinting</td>\n      <td>Not provided</td>\n      <td>Not provided</td>\n      <td>C.B-Igh-1b/IcrTac-Prkdc&lt;sup&gt;scid&lt;/sup&gt;</td>\n    </tr>\n    <tr>\n      <th>24</th>\n      <td>NaN</td>\n      <td>KT8</td>\n      <td>Fingerprinting</td>\n      <td>Not provided</td>\n      <td>Not provided</td>\n      <td>C.B-Igh-1b/IcrTac-Prkdc&lt;sup&gt;scid&lt;/sup&gt;</td>\n    </tr>\n    <tr>\n      <th>25</th>\n      <td>NaN</td>\n      <td>KT9</td>\n      <td>Fingerprinting</td>\n      <td>Not provided</td>\n      <td>Not provided</td>\n      <td>C.B-Igh-1b/IcrTac-Prkdc&lt;sup&gt;scid&lt;/sup&gt;</td>\n    </tr>\n    <tr>\n      <th>26</th>\n      <td>NaN</td>\n      <td>NCH-ARMS2-NCH-S13_7484</td>\n      <td>Fingerprinting</td>\n      <td>Not provided</td>\n      <td>Not provided</td>\n      <td>C.B-Igh-1b/IcrTac-Prkdc&lt;sup&gt;scid&lt;/sup&gt;</td>\n    </tr>\n    <tr>\n      <th>27</th>\n      <td>NaN</td>\n      <td>NCH-CA1</td>\n      <td>Fingerprinting</td>\n      <td>Not provided</td>\n      <td>Not provided</td>\n      <td>C.B-Igh-1b/IcrTac-Prkdc&lt;sup&gt;scid&lt;/sup&gt;</td>\n    </tr>\n    <tr>\n      <th>28</th>\n      <td>NaN</td>\n      <td>NCH-CA2</td>\n      <td>Fingerprinting</td>\n      <td>Not provided</td>\n      <td>Not provided</td>\n      <td>C.B-Igh-1b/IcrTac-Prkdc&lt;sup&gt;scid&lt;/sup&gt;</td>\n    </tr>\n    <tr>\n      <th>29</th>\n      <td>NaN</td>\n      <td>NCH-CA3</td>\n      <td>Fingerprinting</td>\n      <td>Not provided</td>\n      <td>Not provided</td>\n      <td>C.B-Igh-1b/IcrTac-Prkdc&lt;sup&gt;scid&lt;/sup&gt;</td>\n    </tr>\n    <tr>\n      <th>30</th>\n      <td>NaN</td>\n      <td>NCH-CCS1</td>\n      <td>Fingerprinting</td>\n      <td>Not provided</td>\n      <td>Not provided</td>\n      <td>C.B-Igh-1b/IcrTac-Prkdc&lt;sup&gt;scid&lt;/sup&gt;</td>\n    </tr>\n    <tr>\n      <th>31</th>\n      <td>NaN</td>\n      <td>NCH-ERMS1-NCH-RMS1</td>\n      <td>Fingerprinting</td>\n      <td>Not provided</td>\n      <td>Not provided</td>\n      <td>C.B-Igh-1b/IcrTac-Prkdc&lt;sup&gt;scid&lt;/sup&gt;</td>\n    </tr>\n    <tr>\n      <th>32</th>\n      <td>NaN</td>\n      <td>NCH-EWS1</td>\n      <td>Fingerprinting</td>\n      <td>Not provided</td>\n      <td>Not provided</td>\n      <td>C.B-Igh-1b/IcrTac-Prkdc&lt;sup&gt;scid&lt;/sup&gt;</td>\n    </tr>\n    <tr>\n      <th>33</th>\n      <td>NaN</td>\n      <td>NCH-HEP1</td>\n      <td>Fingerprinting</td>\n      <td>Not provided</td>\n      <td>Not provided</td>\n      <td>C.B-Igh-1b/IcrTac-Prkdc&lt;sup&gt;scid&lt;/sup&gt;</td>\n    </tr>\n    <tr>\n      <th>34</th>\n      <td>NaN</td>\n      <td>NCH-MB1</td>\n      <td>Fingerprinting</td>\n      <td>Not provided</td>\n      <td>Not provided</td>\n      <td>C.B-Igh-1b/IcrTac-Prkdc&lt;sup&gt;scid&lt;/sup&gt;</td>\n    </tr>\n    <tr>\n      <th>35</th>\n      <td>NaN</td>\n      <td>NCH-MN1</td>\n      <td>Fingerprinting</td>\n      <td>Not provided</td>\n      <td>Not provided</td>\n      <td>C.B-Igh-1b/IcrTac-Prkdc&lt;sup&gt;scid&lt;/sup&gt;</td>\n    </tr>\n    <tr>\n      <th>36</th>\n      <td>NaN</td>\n      <td>NCH-NB1</td>\n      <td>Fingerprinting</td>\n      <td>Not provided</td>\n      <td>Not provided</td>\n      <td>C.B-Igh-1b/IcrTac-Prkdc&lt;sup&gt;scid&lt;/sup&gt;</td>\n    </tr>\n    <tr>\n      <th>37</th>\n      <td>NaN</td>\n      <td>NCH-OS1</td>\n      <td>Fingerprinting</td>\n      <td>Not provided</td>\n      <td>Not provided</td>\n      <td>C.B-Igh-1b/IcrTac-Prkdc&lt;sup&gt;scid&lt;/sup&gt;</td>\n    </tr>\n    <tr>\n      <th>38</th>\n      <td>NaN</td>\n      <td>NCH-PXA1</td>\n      <td>Fingerprinting</td>\n      <td>Not provided</td>\n      <td>Not provided</td>\n      <td>C.B-Igh-1b/IcrTac-Prkdc&lt;sup&gt;scid&lt;/sup&gt;</td>\n    </tr>\n    <tr>\n      <th>39</th>\n      <td>NaN</td>\n      <td>NCH-RBD1</td>\n      <td>Fingerprinting</td>\n      <td>Not provided</td>\n      <td>Not provided</td>\n      <td>C.B-Igh-1b/IcrTac-Prkdc&lt;sup&gt;scid&lt;/sup&gt;</td>\n    </tr>\n    <tr>\n      <th>40</th>\n      <td>NaN</td>\n      <td>NCH-RBD2</td>\n      <td>Fingerprinting</td>\n      <td>Not provided</td>\n      <td>Not provided</td>\n      <td>C.B-Igh-1b/IcrTac-Prkdc&lt;sup&gt;scid&lt;/sup&gt;</td>\n    </tr>\n    <tr>\n      <th>41</th>\n      <td>NaN</td>\n      <td>NCH-RBD4</td>\n      <td>Fingerprinting</td>\n      <td>Not provided</td>\n      <td>Not provided</td>\n      <td>C.B-Igh-1b/IcrTac-Prkdc&lt;sup&gt;scid&lt;/sup&gt;</td>\n    </tr>\n    <tr>\n      <th>42</th>\n      <td>NaN</td>\n      <td>NCH-WT4</td>\n      <td>Fingerprinting</td>\n      <td>Not provided</td>\n      <td>Not provided</td>\n      <td>C.B-Igh-1b/IcrTac-Prkdc&lt;sup&gt;scid&lt;/sup&gt;</td>\n    </tr>\n    <tr>\n      <th>43</th>\n      <td>NaN</td>\n      <td>NCH-WT5</td>\n      <td>Fingerprinting</td>\n      <td>Not provided</td>\n      <td>Not provided</td>\n      <td>C.B-Igh-1b/IcrTac-Prkdc&lt;sup&gt;scid&lt;/sup&gt;</td>\n    </tr>\n    <tr>\n      <th>44</th>\n      <td>NaN</td>\n      <td>NCH-WT6-S13_1506</td>\n      <td>Fingerprinting</td>\n      <td>Not provided</td>\n      <td>Not provided</td>\n      <td>C.B-Igh-1b/IcrTac-Prkdc&lt;sup&gt;scid&lt;/sup&gt;</td>\n    </tr>\n    <tr>\n      <th>45</th>\n      <td>NaN</td>\n      <td>NCH-WT7</td>\n      <td>Fingerprinting</td>\n      <td>Not provided</td>\n      <td>Not provided</td>\n      <td>C.B-Igh-1b/IcrTac-Prkdc&lt;sup&gt;scid&lt;/sup&gt;</td>\n    </tr>\n    <tr>\n      <th>46</th>\n      <td>NaN</td>\n      <td>NCH-WT8-S13_3700</td>\n      <td>Fingerprinting</td>\n      <td>Not provided</td>\n      <td>Not provided</td>\n      <td>C.B-Igh-1b/IcrTac-Prkdc&lt;sup&gt;scid&lt;/sup&gt;</td>\n    </tr>\n    <tr>\n      <th>47</th>\n      <td>NaN</td>\n      <td>NCIASPS</td>\n      <td>Fingerprinting</td>\n      <td>Not provided</td>\n      <td>Not provided</td>\n      <td>C.B-Igh-1b/IcrTac-Prkdc&lt;sup&gt;scid&lt;/sup&gt;</td>\n    </tr>\n    <tr>\n      <th>48</th>\n      <td>NaN</td>\n      <td>Rh10</td>\n      <td>Fingerprinting</td>\n      <td>Not provided</td>\n      <td>Not provided</td>\n      <td>C.B-Igh-1b/IcrTac-Prkdc&lt;sup&gt;scid&lt;/sup&gt;</td>\n    </tr>\n    <tr>\n      <th>49</th>\n      <td>NaN</td>\n      <td>Rh12</td>\n      <td>Fingerprinting</td>\n      <td>Not provided</td>\n      <td>Not provided</td>\n      <td>C.B-Igh-1b/IcrTac-Prkdc&lt;sup&gt;scid&lt;/sup&gt;</td>\n    </tr>\n    <tr>\n      <th>50</th>\n      <td>NaN</td>\n      <td>Rh30</td>\n      <td>Fingerprinting</td>\n      <td>Not provided</td>\n      <td>Not provided</td>\n      <td>C.B-Igh-1b/IcrTac-Prkdc&lt;sup&gt;scid&lt;/sup&gt;</td>\n    </tr>\n    <tr>\n      <th>51</th>\n      <td>NaN</td>\n      <td>Rh30R</td>\n      <td>Fingerprinting</td>\n      <td>Not provided</td>\n      <td>Not provided</td>\n      <td>C.B-Igh-1b/IcrTac-Prkdc&lt;sup&gt;scid&lt;/sup&gt;</td>\n    </tr>\n    <tr>\n      <th>52</th>\n      <td>NaN</td>\n      <td>Rh36</td>\n      <td>Fingerprinting</td>\n      <td>Not provided</td>\n      <td>Not provided</td>\n      <td>C.B-Igh-1b/IcrTac-Prkdc&lt;sup&gt;scid&lt;/sup&gt;</td>\n    </tr>\n    <tr>\n      <th>53</th>\n      <td>NaN</td>\n      <td>Rh41</td>\n      <td>Fingerprinting</td>\n      <td>Not provided</td>\n      <td>Not provided</td>\n      <td>C.B-Igh-1b/IcrTac-Prkdc&lt;sup&gt;scid&lt;/sup&gt;</td>\n    </tr>\n    <tr>\n      <th>54</th>\n      <td>NaN</td>\n      <td>Rh65</td>\n      <td>Fingerprinting</td>\n      <td>Not provided</td>\n      <td>Not provided</td>\n      <td>C.B-Igh-1b/IcrTac-Prkdc&lt;sup&gt;scid&lt;/sup&gt;</td>\n    </tr>\n    <tr>\n      <th>55</th>\n      <td>NaN</td>\n      <td>Rh70</td>\n      <td>Fingerprinting</td>\n      <td>Not provided</td>\n      <td>Not provided</td>\n      <td>C.B-Igh-1b/IcrTac-Prkdc&lt;sup&gt;scid&lt;/sup&gt;</td>\n    </tr>\n    <tr>\n      <th>56</th>\n      <td>NaN</td>\n      <td>SKNEP1</td>\n      <td>Fingerprinting</td>\n      <td>Not provided</td>\n      <td>Not provided</td>\n      <td>C.B-Igh-1b/IcrTac-Prkdc&lt;sup&gt;scid&lt;/sup&gt;</td>\n    </tr>\n    <tr>\n      <th>57</th>\n      <td>NaN</td>\n      <td>TC71</td>\n      <td>Fingerprinting</td>\n      <td>Not provided</td>\n      <td>Not provided</td>\n      <td>C.B-Igh-1b/IcrTac-Prkdc&lt;sup&gt;scid&lt;/sup&gt;</td>\n    </tr>\n  </tbody>\n</table>\n</div>"
     },
     "execution_count": 71,
     "metadata": {},
     "output_type": "execute_result"
    }
   ],
   "source": [
    "fix_ids(join(GCCRI_path, 'GCCRI_metadata-model_validation.tsv'), mapper).to_csv(join(GCCRI_path, 'GCCRI_metadata-model_validation.tsv'), sep='\\t', index=False)"
   ],
   "metadata": {
    "collapsed": false,
    "ExecuteTime": {
     "end_time": "2024-01-18T21:21:49.964353Z",
     "start_time": "2024-01-18T21:21:49.892007Z"
    }
   },
   "execution_count": 71
  },
  {
   "cell_type": "code",
   "outputs": [],
   "source": [
    "ps_mapper = dict(zip(list(pdx['model_id'] + '_P'), [n + '_P' for n in new_model_id]))\n",
    "out = fix_ids(join(GCCRI_path, 'GCCRI_metadata-patient_sample.tsv'), mapper)\n",
    "out.replace(ps_mapper).to_csv(join(GCCRI_path, 'GCCRI_metadata-patient_sample.tsv'), sep='\\t', index=False)"
   ],
   "metadata": {
    "collapsed": false,
    "ExecuteTime": {
     "end_time": "2024-01-18T21:24:58.628388Z",
     "start_time": "2024-01-18T21:24:58.547358Z"
    }
   },
   "execution_count": 82
  },
  {
   "cell_type": "code",
   "outputs": [],
   "source": [
    "out = fix_ids(join(GCCRI_path, 'GCCRI_molecular_metadata-sample.tsv'), mapper)\n",
    "out.replace(ps_mapper).to_csv(join(GCCRI_path, 'GCCRI_molecular_metadata-sample.tsv'), sep='\\t', index=False)"
   ],
   "metadata": {
    "collapsed": false,
    "ExecuteTime": {
     "end_time": "2024-01-18T21:26:02.931492Z",
     "start_time": "2024-01-18T21:26:02.847326Z"
    }
   },
   "execution_count": 83
  },
  {
   "cell_type": "code",
   "outputs": [],
   "source": [
    "mut = read(join(GCCRI_path, 'mut/GCCRI_mut.tsv'), sep='\\t').replace(ps_mapper)\n",
    "mut.to_csv(join(GCCRI_path, 'mut/GCCRI_mut.tsv'), sep='\\t', index=False)"
   ],
   "metadata": {
    "collapsed": false,
    "ExecuteTime": {
     "end_time": "2024-01-18T21:28:04.651167Z",
     "start_time": "2024-01-18T21:28:04.074809Z"
    }
   },
   "execution_count": 87
  },
  {
   "cell_type": "code",
   "outputs": [
    {
     "data": {
      "text/plain": "      sample_id  symbol         biotype coding_sequence_change variant_class  \\\n0     ASPS-KY_P   ACAD8  protein_coding                 557A>G           SNV   \n1     ASPS-KY_P    ACHE  protein_coding                 827G>A           SNV   \n2     ASPS-KY_P   ACOX3  protein_coding                1306C>T           SNV   \n3     ASPS-KY_P   ACTN1  protein_coding                1822C>T           SNV   \n4     ASPS-KY_P  ADARB2  protein_coding                 283G>T           SNV   \n...         ...     ...             ...                    ...           ...   \n7002    TC-71_P  LRRC55  protein_coding                 407C>T           SNV   \n7003    TC-71_P  ZNF728  protein_coding                 143C>T           SNV   \n7004    TC-71_P  IL27RA  protein_coding                    NaN           SNV   \n7005    TC-71_P    FLG2  protein_coding                5830G>A           SNV   \n7006    TC-71_P  SHISA9  protein_coding                 890C>A           SNV   \n\n     codon_change amino_acid_change              consequence  \\\n0         aAt/aGt             N186S         missense_variant   \n1         cGt/cAt             R276H         missense_variant   \n2         Cgg/Tgg             R436W         missense_variant   \n3         Cgg/Tgg             R608W         missense_variant   \n4         Ggc/Tgc              G95C         missense_variant   \n...           ...               ...                      ...   \n7002      gCc/gTc             A136V         missense_variant   \n7003      cCt/cTt              P48L         missense_variant   \n7004          NaN               NaN  downstream_gene_variant   \n7005      Ggg/Agg            G1944R         missense_variant   \n7006      cCa/cAa             P297Q         missense_variant   \n\n      functional_prediction  read_depth  ...  seq_start_position ref_allele  \\\n0                       NaN         NaN  ...           134259074          A   \n1                       NaN         NaN  ...           100893406          C   \n2                       NaN         NaN  ...             8389729          G   \n3                       NaN         NaN  ...            68882589          G   \n4                       NaN         NaN  ...             1363822          C   \n...                     ...         ...  ...                 ...        ...   \n7002                    NaN         NaN  ...            57182429          C   \n7003                    NaN         NaN  ...            22987391          G   \n7004                    NaN         NaN  ...            14055064          G   \n7005                    NaN         NaN  ...           152351956          C   \n7006                    NaN         NaN  ...            13213295          C   \n\n      alt_allele  ucsc_gene_id ncbi_gene_id ncbi_transcript_id  \\\n0              G           NaN          NaN                NaN   \n1              T           NaN          NaN                NaN   \n2              A           NaN          NaN                NaN   \n3              A           NaN          NaN                NaN   \n4              A           NaN          NaN                NaN   \n...          ...           ...          ...                ...   \n7002           T           NaN          NaN                NaN   \n7003           A           NaN          NaN                NaN   \n7004           A           NaN          NaN                NaN   \n7005           T           NaN          NaN                NaN   \n7006           A           NaN          NaN                NaN   \n\n      ensembl_gene_id  ensembl_transcript_id  \\\n0     ENSG00000151498        ENST00000281182   \n1     ENSG00000087085        ENST00000241069   \n2     ENSG00000087008        ENST00000356406   \n3     ENSG00000072110        ENST00000394419   \n4     ENSG00000185736        ENST00000381312   \n...               ...                    ...   \n7002  ENSG00000183908        ENST00000497933   \n7003  ENSG00000269067        ENST00000594710   \n7004  ENSG00000104998        ENST00000263379   \n7005  ENSG00000143520        ENST00000388718   \n7006  ENSG00000237515        ENST00000558583   \n\n                                variation_id   platform_id  \n0                                rs200170162  mutation_WES  \n1                                rs533264163  mutation_WES  \n2                   rs146052311&COSV62712425  mutation_WES  \n3                  rs1468329163&COSV99518838  mutation_WES  \n4     rs748408152&COSV105323616&COSV67231399  mutation_WES  \n...                                      ...           ...  \n7002                            COSV73006284  mutation_WES  \n7003                            rs1157096293  mutation_WES  \n7004                rs201934041&COSV54602528  mutation_WES  \n7005                             rs200946758  mutation_WES  \n7006                                     NaN  mutation_WES  \n\n[7007 rows x 23 columns]",
      "text/html": "<div>\n<style scoped>\n    .dataframe tbody tr th:only-of-type {\n        vertical-align: middle;\n    }\n\n    .dataframe tbody tr th {\n        vertical-align: top;\n    }\n\n    .dataframe thead th {\n        text-align: right;\n    }\n</style>\n<table border=\"1\" class=\"dataframe\">\n  <thead>\n    <tr style=\"text-align: right;\">\n      <th></th>\n      <th>sample_id</th>\n      <th>symbol</th>\n      <th>biotype</th>\n      <th>coding_sequence_change</th>\n      <th>variant_class</th>\n      <th>codon_change</th>\n      <th>amino_acid_change</th>\n      <th>consequence</th>\n      <th>functional_prediction</th>\n      <th>read_depth</th>\n      <th>...</th>\n      <th>seq_start_position</th>\n      <th>ref_allele</th>\n      <th>alt_allele</th>\n      <th>ucsc_gene_id</th>\n      <th>ncbi_gene_id</th>\n      <th>ncbi_transcript_id</th>\n      <th>ensembl_gene_id</th>\n      <th>ensembl_transcript_id</th>\n      <th>variation_id</th>\n      <th>platform_id</th>\n    </tr>\n  </thead>\n  <tbody>\n    <tr>\n      <th>0</th>\n      <td>ASPS-KY_P</td>\n      <td>ACAD8</td>\n      <td>protein_coding</td>\n      <td>557A&gt;G</td>\n      <td>SNV</td>\n      <td>aAt/aGt</td>\n      <td>N186S</td>\n      <td>missense_variant</td>\n      <td>NaN</td>\n      <td>NaN</td>\n      <td>...</td>\n      <td>134259074</td>\n      <td>A</td>\n      <td>G</td>\n      <td>NaN</td>\n      <td>NaN</td>\n      <td>NaN</td>\n      <td>ENSG00000151498</td>\n      <td>ENST00000281182</td>\n      <td>rs200170162</td>\n      <td>mutation_WES</td>\n    </tr>\n    <tr>\n      <th>1</th>\n      <td>ASPS-KY_P</td>\n      <td>ACHE</td>\n      <td>protein_coding</td>\n      <td>827G&gt;A</td>\n      <td>SNV</td>\n      <td>cGt/cAt</td>\n      <td>R276H</td>\n      <td>missense_variant</td>\n      <td>NaN</td>\n      <td>NaN</td>\n      <td>...</td>\n      <td>100893406</td>\n      <td>C</td>\n      <td>T</td>\n      <td>NaN</td>\n      <td>NaN</td>\n      <td>NaN</td>\n      <td>ENSG00000087085</td>\n      <td>ENST00000241069</td>\n      <td>rs533264163</td>\n      <td>mutation_WES</td>\n    </tr>\n    <tr>\n      <th>2</th>\n      <td>ASPS-KY_P</td>\n      <td>ACOX3</td>\n      <td>protein_coding</td>\n      <td>1306C&gt;T</td>\n      <td>SNV</td>\n      <td>Cgg/Tgg</td>\n      <td>R436W</td>\n      <td>missense_variant</td>\n      <td>NaN</td>\n      <td>NaN</td>\n      <td>...</td>\n      <td>8389729</td>\n      <td>G</td>\n      <td>A</td>\n      <td>NaN</td>\n      <td>NaN</td>\n      <td>NaN</td>\n      <td>ENSG00000087008</td>\n      <td>ENST00000356406</td>\n      <td>rs146052311&amp;COSV62712425</td>\n      <td>mutation_WES</td>\n    </tr>\n    <tr>\n      <th>3</th>\n      <td>ASPS-KY_P</td>\n      <td>ACTN1</td>\n      <td>protein_coding</td>\n      <td>1822C&gt;T</td>\n      <td>SNV</td>\n      <td>Cgg/Tgg</td>\n      <td>R608W</td>\n      <td>missense_variant</td>\n      <td>NaN</td>\n      <td>NaN</td>\n      <td>...</td>\n      <td>68882589</td>\n      <td>G</td>\n      <td>A</td>\n      <td>NaN</td>\n      <td>NaN</td>\n      <td>NaN</td>\n      <td>ENSG00000072110</td>\n      <td>ENST00000394419</td>\n      <td>rs1468329163&amp;COSV99518838</td>\n      <td>mutation_WES</td>\n    </tr>\n    <tr>\n      <th>4</th>\n      <td>ASPS-KY_P</td>\n      <td>ADARB2</td>\n      <td>protein_coding</td>\n      <td>283G&gt;T</td>\n      <td>SNV</td>\n      <td>Ggc/Tgc</td>\n      <td>G95C</td>\n      <td>missense_variant</td>\n      <td>NaN</td>\n      <td>NaN</td>\n      <td>...</td>\n      <td>1363822</td>\n      <td>C</td>\n      <td>A</td>\n      <td>NaN</td>\n      <td>NaN</td>\n      <td>NaN</td>\n      <td>ENSG00000185736</td>\n      <td>ENST00000381312</td>\n      <td>rs748408152&amp;COSV105323616&amp;COSV67231399</td>\n      <td>mutation_WES</td>\n    </tr>\n    <tr>\n      <th>...</th>\n      <td>...</td>\n      <td>...</td>\n      <td>...</td>\n      <td>...</td>\n      <td>...</td>\n      <td>...</td>\n      <td>...</td>\n      <td>...</td>\n      <td>...</td>\n      <td>...</td>\n      <td>...</td>\n      <td>...</td>\n      <td>...</td>\n      <td>...</td>\n      <td>...</td>\n      <td>...</td>\n      <td>...</td>\n      <td>...</td>\n      <td>...</td>\n      <td>...</td>\n      <td>...</td>\n    </tr>\n    <tr>\n      <th>7002</th>\n      <td>TC-71_P</td>\n      <td>LRRC55</td>\n      <td>protein_coding</td>\n      <td>407C&gt;T</td>\n      <td>SNV</td>\n      <td>gCc/gTc</td>\n      <td>A136V</td>\n      <td>missense_variant</td>\n      <td>NaN</td>\n      <td>NaN</td>\n      <td>...</td>\n      <td>57182429</td>\n      <td>C</td>\n      <td>T</td>\n      <td>NaN</td>\n      <td>NaN</td>\n      <td>NaN</td>\n      <td>ENSG00000183908</td>\n      <td>ENST00000497933</td>\n      <td>COSV73006284</td>\n      <td>mutation_WES</td>\n    </tr>\n    <tr>\n      <th>7003</th>\n      <td>TC-71_P</td>\n      <td>ZNF728</td>\n      <td>protein_coding</td>\n      <td>143C&gt;T</td>\n      <td>SNV</td>\n      <td>cCt/cTt</td>\n      <td>P48L</td>\n      <td>missense_variant</td>\n      <td>NaN</td>\n      <td>NaN</td>\n      <td>...</td>\n      <td>22987391</td>\n      <td>G</td>\n      <td>A</td>\n      <td>NaN</td>\n      <td>NaN</td>\n      <td>NaN</td>\n      <td>ENSG00000269067</td>\n      <td>ENST00000594710</td>\n      <td>rs1157096293</td>\n      <td>mutation_WES</td>\n    </tr>\n    <tr>\n      <th>7004</th>\n      <td>TC-71_P</td>\n      <td>IL27RA</td>\n      <td>protein_coding</td>\n      <td>NaN</td>\n      <td>SNV</td>\n      <td>NaN</td>\n      <td>NaN</td>\n      <td>downstream_gene_variant</td>\n      <td>NaN</td>\n      <td>NaN</td>\n      <td>...</td>\n      <td>14055064</td>\n      <td>G</td>\n      <td>A</td>\n      <td>NaN</td>\n      <td>NaN</td>\n      <td>NaN</td>\n      <td>ENSG00000104998</td>\n      <td>ENST00000263379</td>\n      <td>rs201934041&amp;COSV54602528</td>\n      <td>mutation_WES</td>\n    </tr>\n    <tr>\n      <th>7005</th>\n      <td>TC-71_P</td>\n      <td>FLG2</td>\n      <td>protein_coding</td>\n      <td>5830G&gt;A</td>\n      <td>SNV</td>\n      <td>Ggg/Agg</td>\n      <td>G1944R</td>\n      <td>missense_variant</td>\n      <td>NaN</td>\n      <td>NaN</td>\n      <td>...</td>\n      <td>152351956</td>\n      <td>C</td>\n      <td>T</td>\n      <td>NaN</td>\n      <td>NaN</td>\n      <td>NaN</td>\n      <td>ENSG00000143520</td>\n      <td>ENST00000388718</td>\n      <td>rs200946758</td>\n      <td>mutation_WES</td>\n    </tr>\n    <tr>\n      <th>7006</th>\n      <td>TC-71_P</td>\n      <td>SHISA9</td>\n      <td>protein_coding</td>\n      <td>890C&gt;A</td>\n      <td>SNV</td>\n      <td>cCa/cAa</td>\n      <td>P297Q</td>\n      <td>missense_variant</td>\n      <td>NaN</td>\n      <td>NaN</td>\n      <td>...</td>\n      <td>13213295</td>\n      <td>C</td>\n      <td>A</td>\n      <td>NaN</td>\n      <td>NaN</td>\n      <td>NaN</td>\n      <td>ENSG00000237515</td>\n      <td>ENST00000558583</td>\n      <td>NaN</td>\n      <td>mutation_WES</td>\n    </tr>\n  </tbody>\n</table>\n<p>7007 rows × 23 columns</p>\n</div>"
     },
     "execution_count": 85,
     "metadata": {},
     "output_type": "execute_result"
    }
   ],
   "source": [
    "mut"
   ],
   "metadata": {
    "collapsed": false,
    "ExecuteTime": {
     "end_time": "2024-01-18T21:27:10.177333Z",
     "start_time": "2024-01-18T21:27:10.105701Z"
    }
   },
   "execution_count": 85
  },
  {
   "cell_type": "code",
   "outputs": [],
   "source": [
    "treatment = read(join(GCCRI_path, 'treatment/GCCRI_patienttreatment-Sheet1.tsv'), sep='\\t').replace(mapper)\n",
    "treatment.to_csv(join(GCCRI_path, 'treatment/GCCRI_patienttreatment-Sheet1.tsv'), sep='\\t', index=False)"
   ],
   "metadata": {
    "collapsed": false,
    "ExecuteTime": {
     "end_time": "2024-01-18T21:29:50.204028Z",
     "start_time": "2024-01-18T21:29:50.119271Z"
    }
   },
   "execution_count": 89
  },
  {
   "cell_type": "code",
   "outputs": [
    {
     "data": {
      "text/plain": "True"
     },
     "execution_count": 102,
     "metadata": {},
     "output_type": "execute_result"
    }
   ],
   "source": [
    "exists(join(GCCRI_path, 'mut'))"
   ],
   "metadata": {
    "collapsed": false,
    "ExecuteTime": {
     "end_time": "2024-01-18T21:36:54.691800Z",
     "start_time": "2024-01-18T21:36:54.622456Z"
    }
   },
   "execution_count": 102
  },
  {
   "cell_type": "code",
   "outputs": [],
   "source": [
    "def convert_to_int_or_blank(value):\n",
    "    try:\n",
    "        return int(float(value))\n",
    "    except ValueError:\n",
    "        return ''\n",
    "    \n",
    "exp = get_files(join(GCCRI_path, 'expression'))\n",
    "exp = [f for f in exp if f.endswith('.tsv')]\n",
    "for f in exp:\n",
    "    temp = read(join(GCCRI_path, 'expression', f), sep='\\t')\n",
    "    new_f = mapper[f.split('_')[2].replace('.tsv', '')]\n",
    "    new_f = 'GCCRI_expression_' + new_f + '.tsv'\n",
    "    new_f = join(GCCRI_path, 'expression', new_f)\n",
    "    temp['ensembl_gene_id'] = [convert_to_int_or_blank(p)  for p in temp['ensembl_gene_id']]\n",
    "    temp.replace(ps_mapper).to_csv(new_f, sep='\\t', index=False)\n",
    "    remove(join(GCCRI_path, 'expression', f))"
   ],
   "metadata": {
    "collapsed": false,
    "ExecuteTime": {
     "end_time": "2024-01-18T22:25:23.177674Z",
     "start_time": "2024-01-18T22:24:32.958120Z"
    }
   },
   "execution_count": 27
  },
  {
   "cell_type": "code",
   "outputs": [],
   "source": [
    "cna = get_files(join(GCCRI_path, 'cna'))\n",
    "cna = [f for f in cna if f.endswith('.tsv')]\n",
    "for f in cna:\n",
    "    temp = read(join(GCCRI_path, 'cna', f), sep='\\t')\n",
    "    new_f = mapper[f.split('_')[2].replace('.tsv', '')]\n",
    "    new_f = 'GCCRI_cna_' + new_f + '.tsv'\n",
    "    new_f = join(GCCRI_path, 'cna', new_f)\n",
    "    #temp['ensembl_gene_id'] = [convert_to_int_or_blank(p)  for p in temp['ensembl_gene_id']]\n",
    "    temp.replace(ps_mapper).to_csv(new_f, sep='\\t', index=False)\n",
    "    remove(join(GCCRI_path, 'cna', f))"
   ],
   "metadata": {
    "collapsed": false,
    "ExecuteTime": {
     "end_time": "2024-01-18T22:30:14.524470Z",
     "start_time": "2024-01-18T22:29:31.771814Z"
    }
   },
   "execution_count": 33
  },
  {
   "cell_type": "code",
   "outputs": [
    {
     "data": {
      "text/plain": "'GCCRI_cna_Rh-30R.tsv'"
     },
     "execution_count": 31,
     "metadata": {},
     "output_type": "execute_result"
    }
   ],
   "source": [
    "f"
   ],
   "metadata": {
    "collapsed": false,
    "ExecuteTime": {
     "end_time": "2024-01-18T22:28:44.081356Z",
     "start_time": "2024-01-18T22:28:43.998099Z"
    }
   },
   "execution_count": 31
  },
  {
   "cell_type": "code",
   "outputs": [
    {
     "data": {
      "text/plain": "                 data_source  \\\n0                        JAX   \n1                       PDMR   \n2                  DFCI-CPDM   \n4                 MDAnderson   \n6                        CRL   \n9                   IRCC-CRC   \n11                     GCCRI   \n12                  VHIO-CRC   \n14                       CRL   \n26    Wistar-MDAnderson-Penn   \n27                      PMLB   \n30                     WUSTL   \n31                      CCIA   \n34                       CMP   \n37                      BROD   \n41             PMLB-Organoid   \n45                      SANG   \n48                      CSHL   \n56                       NKI   \n74                   IRCC-GC   \n113                 Curie-BC   \n115           LurieChildrens   \n117                   UOC-BC   \n126                    TRACE   \n140                    SJCRH   \n167                  HCI-BCM   \n174                 Curie-LC   \n177                     PMLB   \n179                      LIH   \n194                      HKU   \n216                      UCD   \n253                     CHOP   \n409                  VHIO-PC   \n541                   UOM-BC   \n627                 Curie-OC   \n634           MDAnderson-CCH   \n657                    CUIMC   \n659                     WCMC   \n1223                    UMCG   \n4771                   SJCRH   \n5100                   SJCRH   \n5143                 VHIO-BC   \n\n                                          provider_name  \\\n0                                The Jackson laboratory   \n1                      Patient-Derived Model Repository   \n2     Center for Patient Derived Models, Dana-Farber...   \n4                             MD Anderson Cancer Center   \n6                            Charles River Laboratories   \n9                Candiolo Cancer Institute - Colorectal   \n11    UT Health San Antonio Greehey Children's Cance...   \n12            Val D'Hebron Cancer Institute- colorectal   \n14                           Charles River Laboratories   \n26                               Wistar-MDAnderson-Penn   \n27                     Princess Margaret Living Biobank   \n30                   Washington University in St. Louis   \n31                          Children's Cancer Institute   \n34                                 Cell Model Passports   \n37                                      Broad Institute   \n41    Princess Margaret Living Biobank - Organoid Ce...   \n45                            Wellcome Sanger Institute   \n48                        Cold Spring Harbor Laboratory   \n56                         Netherlands Cancer Institute   \n74                    Candiolo Cancer Institute-Gastric   \n113                           Institut Curie - LIP - BC   \n115   Ann & Robert H Lurie Children's Hospital of Ch...   \n117                Caldas Lab - University of Cambridge   \n126                                 TRACE-PDTX platform   \n140               St. Jude Children's Research Hospital   \n167                      HCI-Baylor College of Medicine   \n174                           Institut Curie - LIP - LC   \n177                    Princess Margaret Living Biobank   \n179               Luxembourg Institute of Health-Glioma   \n194    The University of Hong Kong, Queen Mary Hospital   \n216                    University of California - Davis   \n253                 Children's Hospital of Philadelphia   \n409                 Vall d'Hebron Institute of Oncology   \n541                        The University of Manchester   \n627                           Institut Curie - LIP - OC   \n634              MD Anderson Children's Cancer Hospital   \n657           Columbia University Irving Medical Center   \n659                       Weill Cornell Medical College   \n1223                University Medical Center Groningen   \n4771              St. Jude Children's Research Hospital   \n5100              St. Jude Children's Research Hospital   \n5143                Vall d'Hebron Institute of Oncology   \n\n                                    contact_name_list  \\\n0                                            micetech   \n1                                       Pete Hilfiker   \n2                                       Abigail Ossip   \n4                                        Not Provided   \n6                         Julia Schueler, Hagen Klett   \n9                                     andrea bertotti   \n11                                   Peter J Houghton   \n12    Lorena Ramírez, Irene Chicote, Héctor G. Palmer   \n14                                     Julia Schueler   \n26                 Meenhard Herlyn, Michael A. Davies   \n27                   Princess Margaret Living Biobank   \n30                                       Not Provided   \n31                                       Richard Lock   \n34                                      Sanger DepMap   \n37                                    NCI CC Genomics   \n41                                Nikolina Radulovich   \n45                                    NCI CC Genomics   \n48                                    NCI CC Genomics   \n56                Roebi de Bruijn; Marieke van de Ven   \n74                      Silvia Giordano; Simona Corso   \n113                              Elisabetta Marangoni   \n115                                       Li Xiao-Nan   \n117                                             BCaPE   \n126          Eleonora Leucci, Maria Francesca Baietti   \n140                     Childhood Solid Tumor Network   \n167                                        Alana Welm   \n174                 Didier Decaudin; Elodie Montaudon   \n177                                              None   \n179                                  Anna Golebiewska   \n194                                     Suet Yi Leung   \n216          Chong-Xian Pan, Luis G. Carvajal-Carmona   \n253                                   Reynolds, Maris   \n409                   Joaquin Arribas; Enrique Arenas   \n541                                     Robert Clarke   \n627                                   Didier Decaudin   \n634                                   Richard Gorlick   \n657                                   Michael M. Shen   \n659                                   NCI CC Genomics   \n1223                                   Steven de Jong   \n4771                Childhood Solid Tumor Network+B27   \n5100                Childhood Solid Tumor Network+B44   \n5143                  Joaquin Arribas; Enrique Arenas   \n\n                                     contact_email_list  \\\n0                                      micetech@jax.org   \n1                                hilfikerp@mail.nih.gov   \n2                 dfcipatientderivedmodels@partners.org   \n4                                  bfang@mdanderson.org   \n6                        tumor-model-compendium@crl.com   \n9                               andrea.bertotti@ircc.it   \n11                                HoughtonP@uthscsa.edu   \n12    lramirez@vhio.net, ichicote@vhio.net, hgpalmer...   \n14                       tumor-model-compendium@crl.com   \n26            herlynm@Wistar.org,MDavies@mdanderson.org   \n27                                  pmlb@uhnresearch.ca   \n30    bvantine@wustl.edu,rcfields@wustl.edu,jmudd@wu...   \n31                                    RLock@ccia.org.au   \n34                                  depmap@sanger.ac.uk   \n37                           NCICCGenomics@mail.nih.gov   \n41                                          PMLB@uhn.ca   \n45                           NCICCGenomics@mail.nih.gov   \n48                           NCICCGenomics@mail.nih.gov   \n56                  ro.d.bruijn@nki.nl, m.vd.ven@nki.nl   \n74        silvia.giordano@ircc.it, simona.corso@ircc.it   \n113                       elisabetta.marangoni@curie.fr   \n115                              xli@luriechildrens.org   \n117                                bcape@cruk.cam.ac.uk   \n126   eleonora.leucci@kuleuven.be, mariafrancesca.ba...   \n140                                        Not Provided   \n167                             Alana.Welm@hci.utah.edu   \n174   didier.decaudin@curie.fr, elodie.montaudon@cur...   \n177                                                None   \n179                             anna.golebiewska@lih.lu   \n194                                       suetyi@hku.hk   \n216           cxpan@ucdavis.edu, lgcarvajal@ucdavis.edu   \n253    patrick.reynolds@ttuhsc.edu,maris@email.chop.edu   \n409                 jarribas@vhio.net, earenas@vhio.net   \n541                      robert.clarke@manchester.ac.uk   \n627                            didier.decaudin@curie.fr   \n634                             RGorlick@mdanderson.org   \n657                                  mshen@columbia.edu   \n659                          NCICCGenomics@mail.nih.gov   \n1223                                  s.de.jong@umcg.nl   \n4771                                       Not Provided   \n5100                                       Not Provided   \n5143                jarribas@vhio.net, earenas@vhio.net   \n\n                                       contact_form_url  \n0     http://tumor.informatics.jax.org/mtbwi/pdxRequ...  \n1           https://pdmr.cancer.gov/request/default.htm  \n2     https://www.dana-farber.org/research/departmen...  \n4                                                  None  \n6     https://www.criver.com/resources/tumor-model-d...  \n9                                                  None  \n11             https://preclinicalpivot.org/contact-us/  \n12                                                 None  \n14    https://www.criver.com/resources/tumor-model-d...  \n26                                                 None  \n27                                                 None  \n30                                                 None  \n31             https://preclinicalpivot.org/contact-us/  \n34                                                 None  \n37                                                 None  \n41                                                 None  \n45                                                 None  \n48                                                 None  \n56                                                 None  \n74                                                 None  \n113                                                None  \n115            https://preclinicalpivot.org/contact-us/  \n117                                                None  \n126   https://gbiomed.kuleuven.be/english/research/5...  \n140   https://hospital.stjude.org/apps/forms/fb/dbst...  \n167                                                None  \n174                                                None  \n177                                                None  \n179                                                None  \n194                                                None  \n216                                                None  \n253            https://preclinicalpivot.org/contact-us/  \n409                                                None  \n541                                                None  \n627                                                None  \n634            https://preclinicalpivot.org/contact-us/  \n657                                                None  \n659                                                None  \n1223                                               None  \n4771  https://hospital.stjude.org/apps/forms/fb/dbst...  \n5100  https://hospital.stjude.org/apps/forms/fb/dbst...  \n5143                                               None  ",
      "text/html": "<div>\n<style scoped>\n    .dataframe tbody tr th:only-of-type {\n        vertical-align: middle;\n    }\n\n    .dataframe tbody tr th {\n        vertical-align: top;\n    }\n\n    .dataframe thead th {\n        text-align: right;\n    }\n</style>\n<table border=\"1\" class=\"dataframe\">\n  <thead>\n    <tr style=\"text-align: right;\">\n      <th></th>\n      <th>data_source</th>\n      <th>provider_name</th>\n      <th>contact_name_list</th>\n      <th>contact_email_list</th>\n      <th>contact_form_url</th>\n    </tr>\n  </thead>\n  <tbody>\n    <tr>\n      <th>0</th>\n      <td>JAX</td>\n      <td>The Jackson laboratory</td>\n      <td>micetech</td>\n      <td>micetech@jax.org</td>\n      <td>http://tumor.informatics.jax.org/mtbwi/pdxRequ...</td>\n    </tr>\n    <tr>\n      <th>1</th>\n      <td>PDMR</td>\n      <td>Patient-Derived Model Repository</td>\n      <td>Pete Hilfiker</td>\n      <td>hilfikerp@mail.nih.gov</td>\n      <td>https://pdmr.cancer.gov/request/default.htm</td>\n    </tr>\n    <tr>\n      <th>2</th>\n      <td>DFCI-CPDM</td>\n      <td>Center for Patient Derived Models, Dana-Farber...</td>\n      <td>Abigail Ossip</td>\n      <td>dfcipatientderivedmodels@partners.org</td>\n      <td>https://www.dana-farber.org/research/departmen...</td>\n    </tr>\n    <tr>\n      <th>4</th>\n      <td>MDAnderson</td>\n      <td>MD Anderson Cancer Center</td>\n      <td>Not Provided</td>\n      <td>bfang@mdanderson.org</td>\n      <td>None</td>\n    </tr>\n    <tr>\n      <th>6</th>\n      <td>CRL</td>\n      <td>Charles River Laboratories</td>\n      <td>Julia Schueler, Hagen Klett</td>\n      <td>tumor-model-compendium@crl.com</td>\n      <td>https://www.criver.com/resources/tumor-model-d...</td>\n    </tr>\n    <tr>\n      <th>9</th>\n      <td>IRCC-CRC</td>\n      <td>Candiolo Cancer Institute - Colorectal</td>\n      <td>andrea bertotti</td>\n      <td>andrea.bertotti@ircc.it</td>\n      <td>None</td>\n    </tr>\n    <tr>\n      <th>11</th>\n      <td>GCCRI</td>\n      <td>UT Health San Antonio Greehey Children's Cance...</td>\n      <td>Peter J Houghton</td>\n      <td>HoughtonP@uthscsa.edu</td>\n      <td>https://preclinicalpivot.org/contact-us/</td>\n    </tr>\n    <tr>\n      <th>12</th>\n      <td>VHIO-CRC</td>\n      <td>Val D'Hebron Cancer Institute- colorectal</td>\n      <td>Lorena Ramírez, Irene Chicote, Héctor G. Palmer</td>\n      <td>lramirez@vhio.net, ichicote@vhio.net, hgpalmer...</td>\n      <td>None</td>\n    </tr>\n    <tr>\n      <th>14</th>\n      <td>CRL</td>\n      <td>Charles River Laboratories</td>\n      <td>Julia Schueler</td>\n      <td>tumor-model-compendium@crl.com</td>\n      <td>https://www.criver.com/resources/tumor-model-d...</td>\n    </tr>\n    <tr>\n      <th>26</th>\n      <td>Wistar-MDAnderson-Penn</td>\n      <td>Wistar-MDAnderson-Penn</td>\n      <td>Meenhard Herlyn, Michael A. Davies</td>\n      <td>herlynm@Wistar.org,MDavies@mdanderson.org</td>\n      <td>None</td>\n    </tr>\n    <tr>\n      <th>27</th>\n      <td>PMLB</td>\n      <td>Princess Margaret Living Biobank</td>\n      <td>Princess Margaret Living Biobank</td>\n      <td>pmlb@uhnresearch.ca</td>\n      <td>None</td>\n    </tr>\n    <tr>\n      <th>30</th>\n      <td>WUSTL</td>\n      <td>Washington University in St. Louis</td>\n      <td>Not Provided</td>\n      <td>bvantine@wustl.edu,rcfields@wustl.edu,jmudd@wu...</td>\n      <td>None</td>\n    </tr>\n    <tr>\n      <th>31</th>\n      <td>CCIA</td>\n      <td>Children's Cancer Institute</td>\n      <td>Richard Lock</td>\n      <td>RLock@ccia.org.au</td>\n      <td>https://preclinicalpivot.org/contact-us/</td>\n    </tr>\n    <tr>\n      <th>34</th>\n      <td>CMP</td>\n      <td>Cell Model Passports</td>\n      <td>Sanger DepMap</td>\n      <td>depmap@sanger.ac.uk</td>\n      <td>None</td>\n    </tr>\n    <tr>\n      <th>37</th>\n      <td>BROD</td>\n      <td>Broad Institute</td>\n      <td>NCI CC Genomics</td>\n      <td>NCICCGenomics@mail.nih.gov</td>\n      <td>None</td>\n    </tr>\n    <tr>\n      <th>41</th>\n      <td>PMLB-Organoid</td>\n      <td>Princess Margaret Living Biobank - Organoid Ce...</td>\n      <td>Nikolina Radulovich</td>\n      <td>PMLB@uhn.ca</td>\n      <td>None</td>\n    </tr>\n    <tr>\n      <th>45</th>\n      <td>SANG</td>\n      <td>Wellcome Sanger Institute</td>\n      <td>NCI CC Genomics</td>\n      <td>NCICCGenomics@mail.nih.gov</td>\n      <td>None</td>\n    </tr>\n    <tr>\n      <th>48</th>\n      <td>CSHL</td>\n      <td>Cold Spring Harbor Laboratory</td>\n      <td>NCI CC Genomics</td>\n      <td>NCICCGenomics@mail.nih.gov</td>\n      <td>None</td>\n    </tr>\n    <tr>\n      <th>56</th>\n      <td>NKI</td>\n      <td>Netherlands Cancer Institute</td>\n      <td>Roebi de Bruijn; Marieke van de Ven</td>\n      <td>ro.d.bruijn@nki.nl, m.vd.ven@nki.nl</td>\n      <td>None</td>\n    </tr>\n    <tr>\n      <th>74</th>\n      <td>IRCC-GC</td>\n      <td>Candiolo Cancer Institute-Gastric</td>\n      <td>Silvia Giordano; Simona Corso</td>\n      <td>silvia.giordano@ircc.it, simona.corso@ircc.it</td>\n      <td>None</td>\n    </tr>\n    <tr>\n      <th>113</th>\n      <td>Curie-BC</td>\n      <td>Institut Curie - LIP - BC</td>\n      <td>Elisabetta Marangoni</td>\n      <td>elisabetta.marangoni@curie.fr</td>\n      <td>None</td>\n    </tr>\n    <tr>\n      <th>115</th>\n      <td>LurieChildrens</td>\n      <td>Ann &amp; Robert H Lurie Children's Hospital of Ch...</td>\n      <td>Li Xiao-Nan</td>\n      <td>xli@luriechildrens.org</td>\n      <td>https://preclinicalpivot.org/contact-us/</td>\n    </tr>\n    <tr>\n      <th>117</th>\n      <td>UOC-BC</td>\n      <td>Caldas Lab - University of Cambridge</td>\n      <td>BCaPE</td>\n      <td>bcape@cruk.cam.ac.uk</td>\n      <td>None</td>\n    </tr>\n    <tr>\n      <th>126</th>\n      <td>TRACE</td>\n      <td>TRACE-PDTX platform</td>\n      <td>Eleonora Leucci, Maria Francesca Baietti</td>\n      <td>eleonora.leucci@kuleuven.be, mariafrancesca.ba...</td>\n      <td>https://gbiomed.kuleuven.be/english/research/5...</td>\n    </tr>\n    <tr>\n      <th>140</th>\n      <td>SJCRH</td>\n      <td>St. Jude Children's Research Hospital</td>\n      <td>Childhood Solid Tumor Network</td>\n      <td>Not Provided</td>\n      <td>https://hospital.stjude.org/apps/forms/fb/dbst...</td>\n    </tr>\n    <tr>\n      <th>167</th>\n      <td>HCI-BCM</td>\n      <td>HCI-Baylor College of Medicine</td>\n      <td>Alana Welm</td>\n      <td>Alana.Welm@hci.utah.edu</td>\n      <td>None</td>\n    </tr>\n    <tr>\n      <th>174</th>\n      <td>Curie-LC</td>\n      <td>Institut Curie - LIP - LC</td>\n      <td>Didier Decaudin; Elodie Montaudon</td>\n      <td>didier.decaudin@curie.fr, elodie.montaudon@cur...</td>\n      <td>None</td>\n    </tr>\n    <tr>\n      <th>177</th>\n      <td>PMLB</td>\n      <td>Princess Margaret Living Biobank</td>\n      <td>None</td>\n      <td>None</td>\n      <td>None</td>\n    </tr>\n    <tr>\n      <th>179</th>\n      <td>LIH</td>\n      <td>Luxembourg Institute of Health-Glioma</td>\n      <td>Anna Golebiewska</td>\n      <td>anna.golebiewska@lih.lu</td>\n      <td>None</td>\n    </tr>\n    <tr>\n      <th>194</th>\n      <td>HKU</td>\n      <td>The University of Hong Kong, Queen Mary Hospital</td>\n      <td>Suet Yi Leung</td>\n      <td>suetyi@hku.hk</td>\n      <td>None</td>\n    </tr>\n    <tr>\n      <th>216</th>\n      <td>UCD</td>\n      <td>University of California - Davis</td>\n      <td>Chong-Xian Pan, Luis G. Carvajal-Carmona</td>\n      <td>cxpan@ucdavis.edu, lgcarvajal@ucdavis.edu</td>\n      <td>None</td>\n    </tr>\n    <tr>\n      <th>253</th>\n      <td>CHOP</td>\n      <td>Children's Hospital of Philadelphia</td>\n      <td>Reynolds, Maris</td>\n      <td>patrick.reynolds@ttuhsc.edu,maris@email.chop.edu</td>\n      <td>https://preclinicalpivot.org/contact-us/</td>\n    </tr>\n    <tr>\n      <th>409</th>\n      <td>VHIO-PC</td>\n      <td>Vall d'Hebron Institute of Oncology</td>\n      <td>Joaquin Arribas; Enrique Arenas</td>\n      <td>jarribas@vhio.net, earenas@vhio.net</td>\n      <td>None</td>\n    </tr>\n    <tr>\n      <th>541</th>\n      <td>UOM-BC</td>\n      <td>The University of Manchester</td>\n      <td>Robert Clarke</td>\n      <td>robert.clarke@manchester.ac.uk</td>\n      <td>None</td>\n    </tr>\n    <tr>\n      <th>627</th>\n      <td>Curie-OC</td>\n      <td>Institut Curie - LIP - OC</td>\n      <td>Didier Decaudin</td>\n      <td>didier.decaudin@curie.fr</td>\n      <td>None</td>\n    </tr>\n    <tr>\n      <th>634</th>\n      <td>MDAnderson-CCH</td>\n      <td>MD Anderson Children's Cancer Hospital</td>\n      <td>Richard Gorlick</td>\n      <td>RGorlick@mdanderson.org</td>\n      <td>https://preclinicalpivot.org/contact-us/</td>\n    </tr>\n    <tr>\n      <th>657</th>\n      <td>CUIMC</td>\n      <td>Columbia University Irving Medical Center</td>\n      <td>Michael M. Shen</td>\n      <td>mshen@columbia.edu</td>\n      <td>None</td>\n    </tr>\n    <tr>\n      <th>659</th>\n      <td>WCMC</td>\n      <td>Weill Cornell Medical College</td>\n      <td>NCI CC Genomics</td>\n      <td>NCICCGenomics@mail.nih.gov</td>\n      <td>None</td>\n    </tr>\n    <tr>\n      <th>1223</th>\n      <td>UMCG</td>\n      <td>University Medical Center Groningen</td>\n      <td>Steven de Jong</td>\n      <td>s.de.jong@umcg.nl</td>\n      <td>None</td>\n    </tr>\n    <tr>\n      <th>4771</th>\n      <td>SJCRH</td>\n      <td>St. Jude Children's Research Hospital</td>\n      <td>Childhood Solid Tumor Network+B27</td>\n      <td>Not Provided</td>\n      <td>https://hospital.stjude.org/apps/forms/fb/dbst...</td>\n    </tr>\n    <tr>\n      <th>5100</th>\n      <td>SJCRH</td>\n      <td>St. Jude Children's Research Hospital</td>\n      <td>Childhood Solid Tumor Network+B44</td>\n      <td>Not Provided</td>\n      <td>https://hospital.stjude.org/apps/forms/fb/dbst...</td>\n    </tr>\n    <tr>\n      <th>5143</th>\n      <td>VHIO-BC</td>\n      <td>Vall d'Hebron Institute of Oncology</td>\n      <td>Joaquin Arribas; Enrique Arenas</td>\n      <td>jarribas@vhio.net, earenas@vhio.net</td>\n      <td>None</td>\n    </tr>\n  </tbody>\n</table>\n</div>"
     },
     "execution_count": 4,
     "metadata": {},
     "output_type": "execute_result"
    }
   ],
   "source": [
    "import pandas as pd\n",
    "df = pd.read_json('https://www.cancermodels.org/api/model_metadata?select=data_source,provider_name,contact_name_list,contact_email_list,contact_form_url').drop_duplicates(subset=['data_source', 'contact_name_list'])\n",
    "df"
   ],
   "metadata": {
    "collapsed": false,
    "ExecuteTime": {
     "end_time": "2024-01-29T16:09:28.913148Z",
     "start_time": "2024-01-29T16:09:27.403683Z"
    }
   },
   "execution_count": 4
  },
  {
   "cell_type": "code",
   "outputs": [
    {
     "data": {
      "text/plain": "               data_source                                      provider_name  \\\n0                     BROD                                    Broad Institute   \n1                     CCIA                        Children's Cancer Institute   \n2                     CHOP                Children's Hospital of Philadelphia   \n3                      CMP                               Cell Model Passports   \n4                      CRL                         Charles River Laboratories   \n5                      CRL                         Charles River Laboratories   \n6                     CSHL                      Cold Spring Harbor Laboratory   \n7                    CUIMC          Columbia University Irving Medical Center   \n8                 Curie-BC                          Institut Curie - LIP - BC   \n9                 Curie-LC                          Institut Curie - LIP - LC   \n10                Curie-OC                          Institut Curie - LIP - OC   \n11               DFCI-CPDM  Center for Patient Derived Models, Dana-Farber...   \n12                   GCCRI  UT Health San Antonio Greehey Children's Cance...   \n13                 HCI-BCM                     HCI-Baylor College of Medicine   \n14                     HKU   The University of Hong Kong, Queen Mary Hospital   \n15                IRCC-CRC             Candiolo Cancer Institute - Colorectal   \n16                 IRCC-GC                  Candiolo Cancer Institute-Gastric   \n17                     JAX                             The Jackson laboratory   \n18                     LIH              Luxembourg Institute of Health-Glioma   \n19          LurieChildrens  Ann & Robert H Lurie Children's Hospital of Ch...   \n20              MDAnderson                          MD Anderson Cancer Center   \n21          MDAnderson-CCH             MD Anderson Children's Cancer Hospital   \n22                     NKI                       Netherlands Cancer Institute   \n23                    PDMR                   Patient-Derived Model Repository   \n24                    PMLB                   Princess Margaret Living Biobank   \n25                    PMLB                   Princess Margaret Living Biobank   \n26           PMLB-Organoid  Princess Margaret Living Biobank - Organoid Ce...   \n27                    SANG                          Wellcome Sanger Institute   \n28                   SJCRH              St. Jude Children's Research Hospital   \n29                   SJCRH              St. Jude Children's Research Hospital   \n30                   SJCRH              St. Jude Children's Research Hospital   \n31                   TRACE                                TRACE-PDTX platform   \n32                     UCD                   University of California - Davis   \n33                    UMCG                University Medical Center Groningen   \n34                  UOC-BC               Caldas Lab - University of Cambridge   \n35                  UOM-BC                       The University of Manchester   \n36                 VHIO-BC                Vall d'Hebron Institute of Oncology   \n37                VHIO-CRC          Val D'Hebron Cancer Institute- colorectal   \n38                 VHIO-PC                Vall d'Hebron Institute of Oncology   \n39                    WCMC                      Weill Cornell Medical College   \n40                   WUSTL                 Washington University in St. Louis   \n41  Wistar-MDAnderson-Penn                             Wistar-MDAnderson-Penn   \n\n                                  contact_name_list  \\\n0                                   NCI CC Genomics   \n1                                      Richard Lock   \n2                                   Reynolds, Maris   \n3                                     Sanger DepMap   \n4                                    Julia Schueler   \n5                       Julia Schueler, Hagen Klett   \n6                                   NCI CC Genomics   \n7                                   Michael M. Shen   \n8                              Elisabetta Marangoni   \n9                 Didier Decaudin; Elodie Montaudon   \n10                                  Didier Decaudin   \n11                                    Abigail Ossip   \n12                                 Peter J Houghton   \n13                                       Alana Welm   \n14                                    Suet Yi Leung   \n15                                  andrea bertotti   \n16                    Silvia Giordano; Simona Corso   \n17                                         micetech   \n18                                 Anna Golebiewska   \n19                                      Li Xiao-Nan   \n20                                     Not Provided   \n21                                  Richard Gorlick   \n22              Roebi de Bruijn; Marieke van de Ven   \n23                                    Pete Hilfiker   \n24                                             None   \n25                 Princess Margaret Living Biobank   \n26                              Nikolina Radulovich   \n27                                  NCI CC Genomics   \n28                    Childhood Solid Tumor Network   \n29                Childhood Solid Tumor Network+B27   \n30                Childhood Solid Tumor Network+B44   \n31         Eleonora Leucci, Maria Francesca Baietti   \n32         Chong-Xian Pan, Luis G. Carvajal-Carmona   \n33                                   Steven de Jong   \n34                                            BCaPE   \n35                                    Robert Clarke   \n36                  Joaquin Arribas; Enrique Arenas   \n37  Lorena Ramírez, Irene Chicote, Héctor G. Palmer   \n38                  Joaquin Arribas; Enrique Arenas   \n39                                  NCI CC Genomics   \n40                                     Not Provided   \n41               Meenhard Herlyn, Michael A. Davies   \n\n                                   contact_email_list  \\\n0                          NCICCGenomics@mail.nih.gov   \n1                                   RLock@ccia.org.au   \n2    patrick.reynolds@ttuhsc.edu,maris@email.chop.edu   \n3                                 depmap@sanger.ac.uk   \n4                      tumor-model-compendium@crl.com   \n5                      tumor-model-compendium@crl.com   \n6                          NCICCGenomics@mail.nih.gov   \n7                                  mshen@columbia.edu   \n8                       elisabetta.marangoni@curie.fr   \n9   didier.decaudin@curie.fr, elodie.montaudon@cur...   \n10                           didier.decaudin@curie.fr   \n11              dfcipatientderivedmodels@partners.org   \n12                              HoughtonP@uthscsa.edu   \n13                            Alana.Welm@hci.utah.edu   \n14                                      suetyi@hku.hk   \n15                            andrea.bertotti@ircc.it   \n16      silvia.giordano@ircc.it, simona.corso@ircc.it   \n17                                   micetech@jax.org   \n18                            anna.golebiewska@lih.lu   \n19                             xli@luriechildrens.org   \n20                               bfang@mdanderson.org   \n21                            RGorlick@mdanderson.org   \n22                ro.d.bruijn@nki.nl, m.vd.ven@nki.nl   \n23                             hilfikerp@mail.nih.gov   \n24                                               None   \n25                                pmlb@uhnresearch.ca   \n26                                        PMLB@uhn.ca   \n27                         NCICCGenomics@mail.nih.gov   \n28                                       Not Provided   \n29                                       Not Provided   \n30                                       Not Provided   \n31  eleonora.leucci@kuleuven.be, mariafrancesca.ba...   \n32          cxpan@ucdavis.edu, lgcarvajal@ucdavis.edu   \n33                                  s.de.jong@umcg.nl   \n34                               bcape@cruk.cam.ac.uk   \n35                     robert.clarke@manchester.ac.uk   \n36                jarribas@vhio.net, earenas@vhio.net   \n37  lramirez@vhio.net, ichicote@vhio.net, hgpalmer...   \n38                jarribas@vhio.net, earenas@vhio.net   \n39                         NCICCGenomics@mail.nih.gov   \n40  bvantine@wustl.edu,rcfields@wustl.edu,jmudd@wu...   \n41          herlynm@Wistar.org,MDavies@mdanderson.org   \n\n                                     contact_form_url  \n0                                                None  \n1            https://preclinicalpivot.org/contact-us/  \n2            https://preclinicalpivot.org/contact-us/  \n3                                                None  \n4   https://www.criver.com/resources/tumor-model-d...  \n5   https://www.criver.com/resources/tumor-model-d...  \n6                                                None  \n7                                                None  \n8                                                None  \n9                                                None  \n10                                               None  \n11  https://www.dana-farber.org/research/departmen...  \n12           https://preclinicalpivot.org/contact-us/  \n13                                               None  \n14                                               None  \n15                                               None  \n16                                               None  \n17  http://tumor.informatics.jax.org/mtbwi/pdxRequ...  \n18                                               None  \n19           https://preclinicalpivot.org/contact-us/  \n20                                               None  \n21           https://preclinicalpivot.org/contact-us/  \n22                                               None  \n23        https://pdmr.cancer.gov/request/default.htm  \n24                                               None  \n25                                               None  \n26                                               None  \n27                                               None  \n28  https://hospital.stjude.org/apps/forms/fb/dbst...  \n29  https://hospital.stjude.org/apps/forms/fb/dbst...  \n30  https://hospital.stjude.org/apps/forms/fb/dbst...  \n31  https://gbiomed.kuleuven.be/english/research/5...  \n32                                               None  \n33                                               None  \n34                                               None  \n35                                               None  \n36                                               None  \n37                                               None  \n38                                               None  \n39                                               None  \n40                                               None  \n41                                               None  ",
      "text/html": "<div>\n<style scoped>\n    .dataframe tbody tr th:only-of-type {\n        vertical-align: middle;\n    }\n\n    .dataframe tbody tr th {\n        vertical-align: top;\n    }\n\n    .dataframe thead th {\n        text-align: right;\n    }\n</style>\n<table border=\"1\" class=\"dataframe\">\n  <thead>\n    <tr style=\"text-align: right;\">\n      <th></th>\n      <th>data_source</th>\n      <th>provider_name</th>\n      <th>contact_name_list</th>\n      <th>contact_email_list</th>\n      <th>contact_form_url</th>\n    </tr>\n  </thead>\n  <tbody>\n    <tr>\n      <th>0</th>\n      <td>BROD</td>\n      <td>Broad Institute</td>\n      <td>NCI CC Genomics</td>\n      <td>NCICCGenomics@mail.nih.gov</td>\n      <td>None</td>\n    </tr>\n    <tr>\n      <th>1</th>\n      <td>CCIA</td>\n      <td>Children's Cancer Institute</td>\n      <td>Richard Lock</td>\n      <td>RLock@ccia.org.au</td>\n      <td>https://preclinicalpivot.org/contact-us/</td>\n    </tr>\n    <tr>\n      <th>2</th>\n      <td>CHOP</td>\n      <td>Children's Hospital of Philadelphia</td>\n      <td>Reynolds, Maris</td>\n      <td>patrick.reynolds@ttuhsc.edu,maris@email.chop.edu</td>\n      <td>https://preclinicalpivot.org/contact-us/</td>\n    </tr>\n    <tr>\n      <th>3</th>\n      <td>CMP</td>\n      <td>Cell Model Passports</td>\n      <td>Sanger DepMap</td>\n      <td>depmap@sanger.ac.uk</td>\n      <td>None</td>\n    </tr>\n    <tr>\n      <th>4</th>\n      <td>CRL</td>\n      <td>Charles River Laboratories</td>\n      <td>Julia Schueler</td>\n      <td>tumor-model-compendium@crl.com</td>\n      <td>https://www.criver.com/resources/tumor-model-d...</td>\n    </tr>\n    <tr>\n      <th>5</th>\n      <td>CRL</td>\n      <td>Charles River Laboratories</td>\n      <td>Julia Schueler, Hagen Klett</td>\n      <td>tumor-model-compendium@crl.com</td>\n      <td>https://www.criver.com/resources/tumor-model-d...</td>\n    </tr>\n    <tr>\n      <th>6</th>\n      <td>CSHL</td>\n      <td>Cold Spring Harbor Laboratory</td>\n      <td>NCI CC Genomics</td>\n      <td>NCICCGenomics@mail.nih.gov</td>\n      <td>None</td>\n    </tr>\n    <tr>\n      <th>7</th>\n      <td>CUIMC</td>\n      <td>Columbia University Irving Medical Center</td>\n      <td>Michael M. Shen</td>\n      <td>mshen@columbia.edu</td>\n      <td>None</td>\n    </tr>\n    <tr>\n      <th>8</th>\n      <td>Curie-BC</td>\n      <td>Institut Curie - LIP - BC</td>\n      <td>Elisabetta Marangoni</td>\n      <td>elisabetta.marangoni@curie.fr</td>\n      <td>None</td>\n    </tr>\n    <tr>\n      <th>9</th>\n      <td>Curie-LC</td>\n      <td>Institut Curie - LIP - LC</td>\n      <td>Didier Decaudin; Elodie Montaudon</td>\n      <td>didier.decaudin@curie.fr, elodie.montaudon@cur...</td>\n      <td>None</td>\n    </tr>\n    <tr>\n      <th>10</th>\n      <td>Curie-OC</td>\n      <td>Institut Curie - LIP - OC</td>\n      <td>Didier Decaudin</td>\n      <td>didier.decaudin@curie.fr</td>\n      <td>None</td>\n    </tr>\n    <tr>\n      <th>11</th>\n      <td>DFCI-CPDM</td>\n      <td>Center for Patient Derived Models, Dana-Farber...</td>\n      <td>Abigail Ossip</td>\n      <td>dfcipatientderivedmodels@partners.org</td>\n      <td>https://www.dana-farber.org/research/departmen...</td>\n    </tr>\n    <tr>\n      <th>12</th>\n      <td>GCCRI</td>\n      <td>UT Health San Antonio Greehey Children's Cance...</td>\n      <td>Peter J Houghton</td>\n      <td>HoughtonP@uthscsa.edu</td>\n      <td>https://preclinicalpivot.org/contact-us/</td>\n    </tr>\n    <tr>\n      <th>13</th>\n      <td>HCI-BCM</td>\n      <td>HCI-Baylor College of Medicine</td>\n      <td>Alana Welm</td>\n      <td>Alana.Welm@hci.utah.edu</td>\n      <td>None</td>\n    </tr>\n    <tr>\n      <th>14</th>\n      <td>HKU</td>\n      <td>The University of Hong Kong, Queen Mary Hospital</td>\n      <td>Suet Yi Leung</td>\n      <td>suetyi@hku.hk</td>\n      <td>None</td>\n    </tr>\n    <tr>\n      <th>15</th>\n      <td>IRCC-CRC</td>\n      <td>Candiolo Cancer Institute - Colorectal</td>\n      <td>andrea bertotti</td>\n      <td>andrea.bertotti@ircc.it</td>\n      <td>None</td>\n    </tr>\n    <tr>\n      <th>16</th>\n      <td>IRCC-GC</td>\n      <td>Candiolo Cancer Institute-Gastric</td>\n      <td>Silvia Giordano; Simona Corso</td>\n      <td>silvia.giordano@ircc.it, simona.corso@ircc.it</td>\n      <td>None</td>\n    </tr>\n    <tr>\n      <th>17</th>\n      <td>JAX</td>\n      <td>The Jackson laboratory</td>\n      <td>micetech</td>\n      <td>micetech@jax.org</td>\n      <td>http://tumor.informatics.jax.org/mtbwi/pdxRequ...</td>\n    </tr>\n    <tr>\n      <th>18</th>\n      <td>LIH</td>\n      <td>Luxembourg Institute of Health-Glioma</td>\n      <td>Anna Golebiewska</td>\n      <td>anna.golebiewska@lih.lu</td>\n      <td>None</td>\n    </tr>\n    <tr>\n      <th>19</th>\n      <td>LurieChildrens</td>\n      <td>Ann &amp; Robert H Lurie Children's Hospital of Ch...</td>\n      <td>Li Xiao-Nan</td>\n      <td>xli@luriechildrens.org</td>\n      <td>https://preclinicalpivot.org/contact-us/</td>\n    </tr>\n    <tr>\n      <th>20</th>\n      <td>MDAnderson</td>\n      <td>MD Anderson Cancer Center</td>\n      <td>Not Provided</td>\n      <td>bfang@mdanderson.org</td>\n      <td>None</td>\n    </tr>\n    <tr>\n      <th>21</th>\n      <td>MDAnderson-CCH</td>\n      <td>MD Anderson Children's Cancer Hospital</td>\n      <td>Richard Gorlick</td>\n      <td>RGorlick@mdanderson.org</td>\n      <td>https://preclinicalpivot.org/contact-us/</td>\n    </tr>\n    <tr>\n      <th>22</th>\n      <td>NKI</td>\n      <td>Netherlands Cancer Institute</td>\n      <td>Roebi de Bruijn; Marieke van de Ven</td>\n      <td>ro.d.bruijn@nki.nl, m.vd.ven@nki.nl</td>\n      <td>None</td>\n    </tr>\n    <tr>\n      <th>23</th>\n      <td>PDMR</td>\n      <td>Patient-Derived Model Repository</td>\n      <td>Pete Hilfiker</td>\n      <td>hilfikerp@mail.nih.gov</td>\n      <td>https://pdmr.cancer.gov/request/default.htm</td>\n    </tr>\n    <tr>\n      <th>24</th>\n      <td>PMLB</td>\n      <td>Princess Margaret Living Biobank</td>\n      <td>None</td>\n      <td>None</td>\n      <td>None</td>\n    </tr>\n    <tr>\n      <th>25</th>\n      <td>PMLB</td>\n      <td>Princess Margaret Living Biobank</td>\n      <td>Princess Margaret Living Biobank</td>\n      <td>pmlb@uhnresearch.ca</td>\n      <td>None</td>\n    </tr>\n    <tr>\n      <th>26</th>\n      <td>PMLB-Organoid</td>\n      <td>Princess Margaret Living Biobank - Organoid Ce...</td>\n      <td>Nikolina Radulovich</td>\n      <td>PMLB@uhn.ca</td>\n      <td>None</td>\n    </tr>\n    <tr>\n      <th>27</th>\n      <td>SANG</td>\n      <td>Wellcome Sanger Institute</td>\n      <td>NCI CC Genomics</td>\n      <td>NCICCGenomics@mail.nih.gov</td>\n      <td>None</td>\n    </tr>\n    <tr>\n      <th>28</th>\n      <td>SJCRH</td>\n      <td>St. Jude Children's Research Hospital</td>\n      <td>Childhood Solid Tumor Network</td>\n      <td>Not Provided</td>\n      <td>https://hospital.stjude.org/apps/forms/fb/dbst...</td>\n    </tr>\n    <tr>\n      <th>29</th>\n      <td>SJCRH</td>\n      <td>St. Jude Children's Research Hospital</td>\n      <td>Childhood Solid Tumor Network+B27</td>\n      <td>Not Provided</td>\n      <td>https://hospital.stjude.org/apps/forms/fb/dbst...</td>\n    </tr>\n    <tr>\n      <th>30</th>\n      <td>SJCRH</td>\n      <td>St. Jude Children's Research Hospital</td>\n      <td>Childhood Solid Tumor Network+B44</td>\n      <td>Not Provided</td>\n      <td>https://hospital.stjude.org/apps/forms/fb/dbst...</td>\n    </tr>\n    <tr>\n      <th>31</th>\n      <td>TRACE</td>\n      <td>TRACE-PDTX platform</td>\n      <td>Eleonora Leucci, Maria Francesca Baietti</td>\n      <td>eleonora.leucci@kuleuven.be, mariafrancesca.ba...</td>\n      <td>https://gbiomed.kuleuven.be/english/research/5...</td>\n    </tr>\n    <tr>\n      <th>32</th>\n      <td>UCD</td>\n      <td>University of California - Davis</td>\n      <td>Chong-Xian Pan, Luis G. Carvajal-Carmona</td>\n      <td>cxpan@ucdavis.edu, lgcarvajal@ucdavis.edu</td>\n      <td>None</td>\n    </tr>\n    <tr>\n      <th>33</th>\n      <td>UMCG</td>\n      <td>University Medical Center Groningen</td>\n      <td>Steven de Jong</td>\n      <td>s.de.jong@umcg.nl</td>\n      <td>None</td>\n    </tr>\n    <tr>\n      <th>34</th>\n      <td>UOC-BC</td>\n      <td>Caldas Lab - University of Cambridge</td>\n      <td>BCaPE</td>\n      <td>bcape@cruk.cam.ac.uk</td>\n      <td>None</td>\n    </tr>\n    <tr>\n      <th>35</th>\n      <td>UOM-BC</td>\n      <td>The University of Manchester</td>\n      <td>Robert Clarke</td>\n      <td>robert.clarke@manchester.ac.uk</td>\n      <td>None</td>\n    </tr>\n    <tr>\n      <th>36</th>\n      <td>VHIO-BC</td>\n      <td>Vall d'Hebron Institute of Oncology</td>\n      <td>Joaquin Arribas; Enrique Arenas</td>\n      <td>jarribas@vhio.net, earenas@vhio.net</td>\n      <td>None</td>\n    </tr>\n    <tr>\n      <th>37</th>\n      <td>VHIO-CRC</td>\n      <td>Val D'Hebron Cancer Institute- colorectal</td>\n      <td>Lorena Ramírez, Irene Chicote, Héctor G. Palmer</td>\n      <td>lramirez@vhio.net, ichicote@vhio.net, hgpalmer...</td>\n      <td>None</td>\n    </tr>\n    <tr>\n      <th>38</th>\n      <td>VHIO-PC</td>\n      <td>Vall d'Hebron Institute of Oncology</td>\n      <td>Joaquin Arribas; Enrique Arenas</td>\n      <td>jarribas@vhio.net, earenas@vhio.net</td>\n      <td>None</td>\n    </tr>\n    <tr>\n      <th>39</th>\n      <td>WCMC</td>\n      <td>Weill Cornell Medical College</td>\n      <td>NCI CC Genomics</td>\n      <td>NCICCGenomics@mail.nih.gov</td>\n      <td>None</td>\n    </tr>\n    <tr>\n      <th>40</th>\n      <td>WUSTL</td>\n      <td>Washington University in St. Louis</td>\n      <td>Not Provided</td>\n      <td>bvantine@wustl.edu,rcfields@wustl.edu,jmudd@wu...</td>\n      <td>None</td>\n    </tr>\n    <tr>\n      <th>41</th>\n      <td>Wistar-MDAnderson-Penn</td>\n      <td>Wistar-MDAnderson-Penn</td>\n      <td>Meenhard Herlyn, Michael A. Davies</td>\n      <td>herlynm@Wistar.org,MDavies@mdanderson.org</td>\n      <td>None</td>\n    </tr>\n  </tbody>\n</table>\n</div>"
     },
     "execution_count": 8,
     "metadata": {},
     "output_type": "execute_result"
    }
   ],
   "source": [
    "df.sort_values(by='data_source').reset_index(drop=True)"
   ],
   "metadata": {
    "collapsed": false,
    "ExecuteTime": {
     "end_time": "2024-01-29T16:10:04.380981Z",
     "start_time": "2024-01-29T16:10:04.327355Z"
    }
   },
   "execution_count": 8
  },
  {
   "cell_type": "code",
   "outputs": [],
   "source": [
    "providers = sorted(get_dirs(home))\n",
    "cbioportal_case_lists = \"/Users/tushar/CancerModels/utils/cbioportal/pdcm-cbioportal/study\"\n",
    "for provider in providers:\n",
    "    case_list = join(cbioportal_case_lists, provider, 'case_lists/cases_all.txt')\n",
    "    case_file = pd.DataFrame(pd.read_csv(case_list, sep=': ', engine='python', skiprows=range(0, 4)).iloc[0,1].split('\\t'), columns=['sample_id'])\n",
    "    if not exists(join(home, provider, 'case_lists')):\n",
    "        makedirs(join(home, provider, 'case_lists'))\n",
    "    out_case_list = join(home, provider, 'case_lists/cases_all.tsv')\n",
    "    case_file.to_csv(out_case_list, sep='\\t', index=False)"
   ],
   "metadata": {
    "collapsed": false,
    "ExecuteTime": {
     "end_time": "2024-02-14T09:26:38.898223Z",
     "start_time": "2024-02-14T09:26:38.620420Z"
    }
   },
   "execution_count": 32
  },
  {
   "cell_type": "code",
   "outputs": [
    {
     "data": {
      "text/plain": "                                     0\n0    HCM-BROD-0781-C71-85A-01R-A88J-41\n1    HCM-BROD-0676-C71-85R-01R-A85D-41\n2    HCM-BROD-0003-C71-86A-01R-A78N-41\n3             HCM-BROD-0783-C71_sample\n4    HCM-BROD-0449-C34-85M-01R-A82J-41\n..                                 ...\n466           HCM-BROD-0199-C71_sample\n467  HCM-BROD-0122-C25-85A-01D-A79L-36\n468           HCM-BROD-0477-C16_sample\n469           HCM-BROD-0013-C71_sample\n470  HCM-BROD-0019-C25-85A-01D-A80U-36\n\n[471 rows x 1 columns]",
      "text/html": "<div>\n<style scoped>\n    .dataframe tbody tr th:only-of-type {\n        vertical-align: middle;\n    }\n\n    .dataframe tbody tr th {\n        vertical-align: top;\n    }\n\n    .dataframe thead th {\n        text-align: right;\n    }\n</style>\n<table border=\"1\" class=\"dataframe\">\n  <thead>\n    <tr style=\"text-align: right;\">\n      <th></th>\n      <th>0</th>\n    </tr>\n  </thead>\n  <tbody>\n    <tr>\n      <th>0</th>\n      <td>HCM-BROD-0781-C71-85A-01R-A88J-41</td>\n    </tr>\n    <tr>\n      <th>1</th>\n      <td>HCM-BROD-0676-C71-85R-01R-A85D-41</td>\n    </tr>\n    <tr>\n      <th>2</th>\n      <td>HCM-BROD-0003-C71-86A-01R-A78N-41</td>\n    </tr>\n    <tr>\n      <th>3</th>\n      <td>HCM-BROD-0783-C71_sample</td>\n    </tr>\n    <tr>\n      <th>4</th>\n      <td>HCM-BROD-0449-C34-85M-01R-A82J-41</td>\n    </tr>\n    <tr>\n      <th>...</th>\n      <td>...</td>\n    </tr>\n    <tr>\n      <th>466</th>\n      <td>HCM-BROD-0199-C71_sample</td>\n    </tr>\n    <tr>\n      <th>467</th>\n      <td>HCM-BROD-0122-C25-85A-01D-A79L-36</td>\n    </tr>\n    <tr>\n      <th>468</th>\n      <td>HCM-BROD-0477-C16_sample</td>\n    </tr>\n    <tr>\n      <th>469</th>\n      <td>HCM-BROD-0013-C71_sample</td>\n    </tr>\n    <tr>\n      <th>470</th>\n      <td>HCM-BROD-0019-C25-85A-01D-A80U-36</td>\n    </tr>\n  </tbody>\n</table>\n<p>471 rows × 1 columns</p>\n</div>"
     },
     "execution_count": 27,
     "metadata": {},
     "output_type": "execute_result"
    }
   ],
   "source": [
    "case_file"
   ],
   "metadata": {
    "collapsed": false,
    "ExecuteTime": {
     "end_time": "2024-02-14T09:22:26.454549Z",
     "start_time": "2024-02-14T09:22:26.399711Z"
    }
   },
   "execution_count": 27
  },
  {
   "cell_type": "code",
   "outputs": [],
   "source": [],
   "metadata": {
    "collapsed": false
   }
  },
  {
   "cell_type": "markdown",
   "source": [
    "## Data model changes"
   ],
   "metadata": {
    "collapsed": false
   }
  },
  {
   "cell_type": "code",
   "outputs": [],
   "source": [
    "providers = sorted(get_dirs(home))\n",
    "template_path = \"/Users/tushar/CancerModels/pdxfinder-data/template/active_templates/metadata\"\n",
    "templates = [f for f in sorted(get_files(template_path)) if f.endswith('tsv') and not f.__contains__('image') and not f.__contains__('sharing')]\n",
    "for provider in providers:\n",
    "    for template in templates:\n",
    "        template_df = read_metadata_with_fields(join(template_path, template))\n",
    "        sheet_name = join(home, provider, f\"{provider}_{template.replace('_template', '')}\")\n",
    "        if exists(sheet_name):\n",
    "            sheet_df = read_metadata_without_fields(sheet_name)\n",
    "            sheet_df['Field'] = \"\"\n",
    "            if sheet_df.shape[0] == 0 and template.__contains__('validation'):\n",
    "                sheet_df = template_df\n",
    "            else:\n",
    "                for col in template_df.columns:\n",
    "                    if col not in sheet_df.columns:\n",
    "                        if col == 'parent_id' or col ==\t'origin_patient_sample_id':\n",
    "                            sheet_df.loc[:, col] = \"\"\n",
    "                        else:\n",
    "                            sheet_df.loc[:, col] = \"Not provided\"\n",
    "                #if sheet_name.__contains__(\"cell\"):\n",
    "                #    sheet_df['model_name'] = sheet_df['name']\n",
    "                sheet_df = pd.concat([template_df, sheet_df[template_df.columns]])\n",
    "            sheet_df.to_csv(sheet_name, sep='\\t', index=False)"
   ],
   "metadata": {
    "collapsed": false,
    "ExecuteTime": {
     "end_time": "2024-03-06T09:18:54.442778Z",
     "start_time": "2024-03-06T09:18:47.818460Z"
    }
   },
   "execution_count": 5
  },
  {
   "cell_type": "code",
   "outputs": [
    {
     "data": {
      "text/plain": "'metadata_template-patient_sample.tsv'"
     },
     "execution_count": 7,
     "metadata": {},
     "output_type": "execute_result"
    }
   ],
   "source": [
    "template"
   ],
   "metadata": {
    "collapsed": false,
    "ExecuteTime": {
     "end_time": "2024-03-04T15:19:31.775186Z",
     "start_time": "2024-03-04T15:19:31.625524Z"
    }
   },
   "execution_count": 7
  },
  {
   "cell_type": "code",
   "outputs": [
    {
     "data": {
      "text/plain": "'/Users/tushar/CancerModels/pdxfinder-data/template/active_templates/metadata'"
     },
     "execution_count": 17,
     "metadata": {},
     "output_type": "execute_result"
    }
   ],
   "source": [
    "template_path"
   ],
   "metadata": {
    "collapsed": false,
    "ExecuteTime": {
     "end_time": "2024-02-15T15:41:38.976152Z",
     "start_time": "2024-02-15T15:41:38.917503Z"
    }
   },
   "execution_count": 17
  },
  {
   "cell_type": "code",
   "outputs": [
    {
     "data": {
      "text/plain": "['BROD',\n 'CCIA',\n 'CHOP',\n 'CMP',\n 'CRL',\n 'CSHL',\n 'CUIMC',\n 'Curie-BC',\n 'Curie-LC',\n 'Curie-OC',\n 'DFCI-CPDM',\n 'GCCRI',\n 'HCI-BCM',\n 'HKU',\n 'IRCC-CRC',\n 'IRCC-GC',\n 'JAX',\n 'LIH',\n 'LurieChildrens',\n 'MDAnderson',\n 'MDAnderson-CCH',\n 'NKI',\n 'PDMR',\n 'PMLB',\n 'PMLB-Organoid',\n 'SANG',\n 'SJCRH',\n 'TRACE',\n 'UCD',\n 'UMCG',\n 'UOC-BC',\n 'UOM-BC',\n 'VHIO-BC',\n 'VHIO-CRC',\n 'VHIO-PC',\n 'WCMC',\n 'WUSTL',\n 'Wistar-MDAnderson-Penn']"
     },
     "execution_count": 18,
     "metadata": {},
     "output_type": "execute_result"
    }
   ],
   "source": [
    "providers"
   ],
   "metadata": {
    "collapsed": false,
    "ExecuteTime": {
     "end_time": "2024-02-15T15:42:10.025037Z",
     "start_time": "2024-02-15T15:42:09.962910Z"
    }
   },
   "execution_count": 18
  },
  {
   "cell_type": "code",
   "outputs": [],
   "source": [
    "from requests import post\n",
    "import json"
   ],
   "metadata": {
    "collapsed": false,
    "ExecuteTime": {
     "end_time": "2024-03-11T17:10:21.650086Z",
     "start_time": "2024-03-11T17:10:21.551543Z"
    }
   },
   "execution_count": 17
  },
  {
   "cell_type": "code",
   "outputs": [],
   "source": [
    "normal_data = pd.read_csv(\"/Users/tushar/Downloads/tcga_normal_fpkm.tsv\", sep='\\t')\n",
    "normal_samples = pd.read_csv(\"/Users/tushar/Downloads/TCGA_phenotype_denseDataOnlyDownload.tsv\", sep='\\t')\n",
    "url = \"https://biotools.fr/human/ensembl_symbol_converter/\"\n",
    "response = post(url, data={'api':1, 'ids':str(list(normal_data['sample'].str.split('.').str[0])).replace('\\'', '\\\"')})\n",
    "ensembl2genesymbol = response.json()\n",
    "normal_data['gene_symbol'] = normal_data['sample'].str.split('.').str[0].replace(ensembl2genesymbol)"
   ],
   "metadata": {
    "collapsed": false,
    "ExecuteTime": {
     "end_time": "2024-03-11T16:59:58.304232Z",
     "start_time": "2024-03-11T16:59:48.490473Z"
    }
   },
   "execution_count": 4
  },
  {
   "cell_type": "code",
   "outputs": [
    {
     "data": {
      "text/plain": "['bladder urothelial carcinoma',\n 'breast invasive carcinoma',\n 'cervical & endocervical cancer',\n 'cholangiocarcinoma',\n 'colon adenocarcinoma',\n 'esophageal carcinoma',\n 'glioblastoma multiforme',\n 'head & neck squamous cell carcinoma',\n 'kidney chromophobe',\n 'kidney clear cell carcinoma',\n 'kidney papillary cell carcinoma',\n 'liver hepatocellular carcinoma',\n 'lung adenocarcinoma',\n 'lung squamous cell carcinoma',\n 'ovarian serous cystadenocarcinoma',\n 'pancreatic adenocarcinoma',\n 'pheochromocytoma & paraganglioma',\n 'prostate adenocarcinoma',\n 'rectum adenocarcinoma',\n 'sarcoma',\n 'skin cutaneous melanoma',\n 'stomach adenocarcinoma',\n 'thymoma',\n 'thyroid carcinoma',\n 'uterine corpus endometrioid carcinoma']"
     },
     "execution_count": 5,
     "metadata": {},
     "output_type": "execute_result"
    }
   ],
   "source": [
    "sorted(normal_samples['_primary_disease'].unique())"
   ],
   "metadata": {
    "collapsed": false,
    "ExecuteTime": {
     "end_time": "2024-03-11T17:00:00.724025Z",
     "start_time": "2024-03-11T17:00:00.619766Z"
    }
   },
   "execution_count": 5
  },
  {
   "cell_type": "code",
   "outputs": [],
   "source": [
    "normal_data['gene_symbol'] = normal_data['sample'].str.split('.').str[0].replace(ensembl2genesymbol) "
   ],
   "metadata": {
    "collapsed": false,
    "ExecuteTime": {
     "end_time": "2024-03-12T09:45:34.395289Z",
     "start_time": "2024-03-12T09:40:16.553045Z"
    }
   },
   "execution_count": 64
  },
  {
   "cell_type": "code",
   "outputs": [],
   "source": [
    "breast_samples = ['gene_symbol'] + list(normal_samples[normal_samples[\"_primary_disease\"] == \"breast invasive carcinoma\"]['sample'])\n",
    "breast_samples = [c for c in breast_samples if c in normal_data.columns]\n",
    "normal_data[breast_samples].dropna().to_csv(\"/Users/tushar/Downloads/tcga_brca_normal_fpkm.tsv\", sep='\\t',index=False)"
   ],
   "metadata": {
    "collapsed": false,
    "ExecuteTime": {
     "end_time": "2024-03-12T09:48:45.284600Z",
     "start_time": "2024-03-12T09:48:32.382283Z"
    }
   },
   "execution_count": 70
  },
  {
   "cell_type": "code",
   "outputs": [],
   "source": [
    "lung_samples = ['gene_symbol'] + list(normal_samples[normal_samples[\"_primary_disease\"] == \"lung adenocarcinoma\"]['sample'])\n",
    "lung_samples = [c for c in lung_samples if c in normal_data.columns]\n",
    "normal_data[lung_samples].dropna().to_csv(\"/Users/tushar/Downloads/tcga_lung_normal_fpkm.tsv\", sep='\\t',index=False)"
   ],
   "metadata": {
    "collapsed": false,
    "ExecuteTime": {
     "end_time": "2024-03-12T09:48:32.030026Z",
     "start_time": "2024-03-12T09:48:26.733679Z"
    }
   },
   "execution_count": 69
  },
  {
   "cell_type": "code",
   "outputs": [],
   "source": [
    "colon = ['gene_symbol'] + list(normal_samples[normal_samples[\"_primary_disease\"] == \"colon adenocarcinoma\"]['sample'])\n",
    "colon = [c for c in colon if c in normal_data.columns]\n",
    "normal_data[colon].dropna().to_csv(\"/Users/tushar/Downloads/tcga_colon_normal_fpkm.tsv\", sep='\\t',index=False)"
   ],
   "metadata": {
    "collapsed": false,
    "ExecuteTime": {
     "end_time": "2024-03-12T09:48:08.526067Z",
     "start_time": "2024-03-12T09:48:02.881337Z"
    }
   },
   "execution_count": 68
  },
  {
   "cell_type": "code",
   "outputs": [],
   "source": [],
   "metadata": {
    "collapsed": false,
    "ExecuteTime": {
     "end_time": "2024-03-12T09:35:19.554926Z",
     "start_time": "2024-03-12T09:35:13.590342Z"
    }
   },
   "execution_count": 61
  },
  {
   "cell_type": "code",
   "outputs": [],
   "source": [
    "mms = read_metadata_without_fields(join(home, \"CMP/CMP_molecular_metadata-sample.tsv\"))\n",
    "ps = read_metadata_without_fields(join(home, \"CMP/CMP_metadata-patient_sample.tsv\"))"
   ],
   "metadata": {
    "collapsed": false,
    "ExecuteTime": {
     "end_time": "2024-03-12T16:40:59.622962Z",
     "start_time": "2024-03-12T16:40:59.470717Z"
    }
   },
   "execution_count": 93
  },
  {
   "cell_type": "code",
   "outputs": [],
   "source": [
    "#model_sample_mapper = mms[~mms['model_id'].str.contains(\"immune\")][['model_id', 'sample_id']].drop_duplicates()\n",
    "model_sample_mapper = dict(zip(ps['sample_id'], ps['model_id']))\n",
    "\n",
    "missing = list()\n",
    "for i in range(mms.shape[0]):\n",
    "    if str(mms['model_id'][i]).__contains__('immune'):\n",
    "        if mms['sample_id'][i] not in model_sample_mapper.keys():\n",
    "            #print(mms['sample_id'][i])\n",
    "            missing.append(mms['sample_id'][i])\n",
    "        else:\n",
    "            mms['model_id'][i] = model_sample_mapper[mms['sample_id'][i]]\n"
   ],
   "metadata": {
    "collapsed": false,
    "ExecuteTime": {
     "end_time": "2024-03-12T16:41:21.715776Z",
     "start_time": "2024-03-12T16:41:18.203260Z"
    }
   },
   "execution_count": 94
  },
  {
   "cell_type": "code",
   "outputs": [
    {
     "data": {
      "text/plain": "0"
     },
     "execution_count": 95,
     "metadata": {},
     "output_type": "execute_result"
    }
   ],
   "source": [
    "len(set(missing))    "
   ],
   "metadata": {
    "collapsed": false,
    "ExecuteTime": {
     "end_time": "2024-03-12T16:41:23.032695Z",
     "start_time": "2024-03-12T16:41:22.926310Z"
    }
   },
   "execution_count": 95
  },
  {
   "cell_type": "code",
   "outputs": [
    {
     "data": {
      "text/plain": "set()"
     },
     "execution_count": 96,
     "metadata": {},
     "output_type": "execute_result"
    }
   ],
   "source": [
    "set(missing)"
   ],
   "metadata": {
    "collapsed": false,
    "ExecuteTime": {
     "end_time": "2024-03-12T16:41:24.642675Z",
     "start_time": "2024-03-12T16:41:24.550721Z"
    }
   },
   "execution_count": 96
  },
  {
   "cell_type": "code",
   "outputs": [
    {
     "data": {
      "text/plain": "        model_id  sample_id sample_origin passage host_strain_name  \\\n0      SIDM00993  SIDS00452          cell     NaN              NaN   \n1      SIDM00993  SIDS00452          cell     NaN              NaN   \n2      SIDM00993  SIDS00452          cell     NaN              NaN   \n3      SIDM00993  SIDS00452          cell     NaN              NaN   \n4      SIDM00993  SIDS00452          cell     NaN              NaN   \n...          ...        ...           ...     ...              ...   \n13076  SIDM01779  SIDS01654          cell     NaN              NaN   \n13077  SIDM01780  SIDS01653          cell     NaN              NaN   \n13078  SIDM01781  SIDS01664          cell     NaN              NaN   \n13079  SIDM01782  SIDS01678          cell     NaN              NaN   \n13080  SIDM01986  SIDS00075          cell     NaN              NaN   \n\n      host_strain_nomenclature engrafted_tumor_collection_site raw_data_url  \\\n0                          NaN                             NaN          NaN   \n1                          NaN                             NaN          NaN   \n2                          NaN                             NaN          NaN   \n3                          NaN                             NaN          NaN   \n4                          NaN                             NaN          NaN   \n...                        ...                             ...          ...   \n13076                      NaN                             NaN          NaN   \n13077                      NaN                             NaN          NaN   \n13078                      NaN                             NaN          NaN   \n13079                      NaN                             NaN          NaN   \n13080                      NaN                             NaN          NaN   \n\n             platform_id  \n0             immune_msi  \n1             immune_mpm  \n2      immune_ploidy_wes  \n3        immune_HLA_type  \n4             immune_tmb  \n...                  ...  \n13076   cna_WGS_organoid  \n13077   cna_WGS_organoid  \n13078   cna_WGS_organoid  \n13079   cna_WGS_organoid  \n13080   cna_WGS_organoid  \n\n[13081 rows x 9 columns]",
      "text/html": "<div>\n<style scoped>\n    .dataframe tbody tr th:only-of-type {\n        vertical-align: middle;\n    }\n\n    .dataframe tbody tr th {\n        vertical-align: top;\n    }\n\n    .dataframe thead th {\n        text-align: right;\n    }\n</style>\n<table border=\"1\" class=\"dataframe\">\n  <thead>\n    <tr style=\"text-align: right;\">\n      <th></th>\n      <th>model_id</th>\n      <th>sample_id</th>\n      <th>sample_origin</th>\n      <th>passage</th>\n      <th>host_strain_name</th>\n      <th>host_strain_nomenclature</th>\n      <th>engrafted_tumor_collection_site</th>\n      <th>raw_data_url</th>\n      <th>platform_id</th>\n    </tr>\n  </thead>\n  <tbody>\n    <tr>\n      <th>0</th>\n      <td>SIDM00993</td>\n      <td>SIDS00452</td>\n      <td>cell</td>\n      <td>NaN</td>\n      <td>NaN</td>\n      <td>NaN</td>\n      <td>NaN</td>\n      <td>NaN</td>\n      <td>immune_msi</td>\n    </tr>\n    <tr>\n      <th>1</th>\n      <td>SIDM00993</td>\n      <td>SIDS00452</td>\n      <td>cell</td>\n      <td>NaN</td>\n      <td>NaN</td>\n      <td>NaN</td>\n      <td>NaN</td>\n      <td>NaN</td>\n      <td>immune_mpm</td>\n    </tr>\n    <tr>\n      <th>2</th>\n      <td>SIDM00993</td>\n      <td>SIDS00452</td>\n      <td>cell</td>\n      <td>NaN</td>\n      <td>NaN</td>\n      <td>NaN</td>\n      <td>NaN</td>\n      <td>NaN</td>\n      <td>immune_ploidy_wes</td>\n    </tr>\n    <tr>\n      <th>3</th>\n      <td>SIDM00993</td>\n      <td>SIDS00452</td>\n      <td>cell</td>\n      <td>NaN</td>\n      <td>NaN</td>\n      <td>NaN</td>\n      <td>NaN</td>\n      <td>NaN</td>\n      <td>immune_HLA_type</td>\n    </tr>\n    <tr>\n      <th>4</th>\n      <td>SIDM00993</td>\n      <td>SIDS00452</td>\n      <td>cell</td>\n      <td>NaN</td>\n      <td>NaN</td>\n      <td>NaN</td>\n      <td>NaN</td>\n      <td>NaN</td>\n      <td>immune_tmb</td>\n    </tr>\n    <tr>\n      <th>...</th>\n      <td>...</td>\n      <td>...</td>\n      <td>...</td>\n      <td>...</td>\n      <td>...</td>\n      <td>...</td>\n      <td>...</td>\n      <td>...</td>\n      <td>...</td>\n    </tr>\n    <tr>\n      <th>13076</th>\n      <td>SIDM01779</td>\n      <td>SIDS01654</td>\n      <td>cell</td>\n      <td>NaN</td>\n      <td>NaN</td>\n      <td>NaN</td>\n      <td>NaN</td>\n      <td>NaN</td>\n      <td>cna_WGS_organoid</td>\n    </tr>\n    <tr>\n      <th>13077</th>\n      <td>SIDM01780</td>\n      <td>SIDS01653</td>\n      <td>cell</td>\n      <td>NaN</td>\n      <td>NaN</td>\n      <td>NaN</td>\n      <td>NaN</td>\n      <td>NaN</td>\n      <td>cna_WGS_organoid</td>\n    </tr>\n    <tr>\n      <th>13078</th>\n      <td>SIDM01781</td>\n      <td>SIDS01664</td>\n      <td>cell</td>\n      <td>NaN</td>\n      <td>NaN</td>\n      <td>NaN</td>\n      <td>NaN</td>\n      <td>NaN</td>\n      <td>cna_WGS_organoid</td>\n    </tr>\n    <tr>\n      <th>13079</th>\n      <td>SIDM01782</td>\n      <td>SIDS01678</td>\n      <td>cell</td>\n      <td>NaN</td>\n      <td>NaN</td>\n      <td>NaN</td>\n      <td>NaN</td>\n      <td>NaN</td>\n      <td>cna_WGS_organoid</td>\n    </tr>\n    <tr>\n      <th>13080</th>\n      <td>SIDM01986</td>\n      <td>SIDS00075</td>\n      <td>cell</td>\n      <td>NaN</td>\n      <td>NaN</td>\n      <td>NaN</td>\n      <td>NaN</td>\n      <td>NaN</td>\n      <td>cna_WGS_organoid</td>\n    </tr>\n  </tbody>\n</table>\n<p>13081 rows × 9 columns</p>\n</div>"
     },
     "execution_count": 97,
     "metadata": {},
     "output_type": "execute_result"
    }
   ],
   "source": [
    "mms"
   ],
   "metadata": {
    "collapsed": false,
    "ExecuteTime": {
     "end_time": "2024-03-12T16:41:27.236990Z",
     "start_time": "2024-03-12T16:41:27.123156Z"
    }
   },
   "execution_count": 97
  },
  {
   "cell_type": "code",
   "outputs": [],
   "source": [
    "out_mms = read_metadata_with_fields(join(home, \"CMP/CMP_molecular_metadata-sample.tsv\"))"
   ],
   "metadata": {
    "collapsed": false,
    "ExecuteTime": {
     "end_time": "2024-03-12T16:41:55.490117Z",
     "start_time": "2024-03-12T16:41:55.361943Z"
    }
   },
   "execution_count": 98
  },
  {
   "cell_type": "code",
   "outputs": [
    {
     "data": {
      "text/plain": "                  Field                                           model_id  \\\n0          #Description  Unique identifier for all the PDXs derived fro...   \n1              #Example                                          CRC0228PR   \n2  #Format Requirements                                free alphanumerical   \n3           #Essential?                                          essential   \n\n                                           sample_id  \\\n0  Identifier of the sample from any patient tiss...   \n1                         CRC0228PRH0000000000D01000   \n2                                free alphanumerical   \n3                                          essential   \n\n                                       sample_origin  \\\n0  The orgin of the sample - xenograft (extracted...   \n1                                          xenograft   \n2                                 xenograft, patient   \n3                                          essential   \n\n                                             passage  \\\n0  Indicate the passage number of the sample wher...   \n1                                                  0   \n2                                numerical, or blank   \n3                                          essential   \n\n                                    host_strain_name  \\\n0  Host mouse strain name (e.g. NOD-SCID, NSG, et...   \n1                                           NOD SCID   \n2   follow strain name or Not Specified (if unknown)   \n3                                          essential   \n\n                            host_strain_nomenclature  \\\n0  The full nomenclature form of the host mouse s...   \n1                   NOD.Cg-Prkdcscid Il2rgtm1Wjl/SzJ   \n2  https://www.jax.org/jax-mice-and-services/cust...   \n3                                          essential   \n\n                     engrafted_tumor_collection_site  \\\n0  The anatomical site from which the xenograft s...   \n1                                       mammary glad   \n2                                free alphanumerical   \n3                                          desirable   \n\n                                        raw_data_url  \\\n0  Unique identify to platform metadata between s...   \n1                                          mutation1   \n2                                                NaN   \n3                                          desirable   \n\n                                         platform_id  \n0  Unique identify to platform metadata between s...  \n1                                          mutation1  \n2                                                NaN  \n3                                          essential  ",
      "text/html": "<div>\n<style scoped>\n    .dataframe tbody tr th:only-of-type {\n        vertical-align: middle;\n    }\n\n    .dataframe tbody tr th {\n        vertical-align: top;\n    }\n\n    .dataframe thead th {\n        text-align: right;\n    }\n</style>\n<table border=\"1\" class=\"dataframe\">\n  <thead>\n    <tr style=\"text-align: right;\">\n      <th></th>\n      <th>Field</th>\n      <th>model_id</th>\n      <th>sample_id</th>\n      <th>sample_origin</th>\n      <th>passage</th>\n      <th>host_strain_name</th>\n      <th>host_strain_nomenclature</th>\n      <th>engrafted_tumor_collection_site</th>\n      <th>raw_data_url</th>\n      <th>platform_id</th>\n    </tr>\n  </thead>\n  <tbody>\n    <tr>\n      <th>0</th>\n      <td>#Description</td>\n      <td>Unique identifier for all the PDXs derived fro...</td>\n      <td>Identifier of the sample from any patient tiss...</td>\n      <td>The orgin of the sample - xenograft (extracted...</td>\n      <td>Indicate the passage number of the sample wher...</td>\n      <td>Host mouse strain name (e.g. NOD-SCID, NSG, et...</td>\n      <td>The full nomenclature form of the host mouse s...</td>\n      <td>The anatomical site from which the xenograft s...</td>\n      <td>Unique identify to platform metadata between s...</td>\n      <td>Unique identify to platform metadata between s...</td>\n    </tr>\n    <tr>\n      <th>1</th>\n      <td>#Example</td>\n      <td>CRC0228PR</td>\n      <td>CRC0228PRH0000000000D01000</td>\n      <td>xenograft</td>\n      <td>0</td>\n      <td>NOD SCID</td>\n      <td>NOD.Cg-Prkdcscid Il2rgtm1Wjl/SzJ</td>\n      <td>mammary glad</td>\n      <td>mutation1</td>\n      <td>mutation1</td>\n    </tr>\n    <tr>\n      <th>2</th>\n      <td>#Format Requirements</td>\n      <td>free alphanumerical</td>\n      <td>free alphanumerical</td>\n      <td>xenograft, patient</td>\n      <td>numerical, or blank</td>\n      <td>follow strain name or Not Specified (if unknown)</td>\n      <td>https://www.jax.org/jax-mice-and-services/cust...</td>\n      <td>free alphanumerical</td>\n      <td>NaN</td>\n      <td>NaN</td>\n    </tr>\n    <tr>\n      <th>3</th>\n      <td>#Essential?</td>\n      <td>essential</td>\n      <td>essential</td>\n      <td>essential</td>\n      <td>essential</td>\n      <td>essential</td>\n      <td>essential</td>\n      <td>desirable</td>\n      <td>desirable</td>\n      <td>essential</td>\n    </tr>\n  </tbody>\n</table>\n</div>"
     },
     "execution_count": 100,
     "metadata": {},
     "output_type": "execute_result"
    }
   ],
   "source": [
    "out_mms.iloc[0:4]"
   ],
   "metadata": {
    "collapsed": false,
    "ExecuteTime": {
     "end_time": "2024-03-12T16:42:23.267448Z",
     "start_time": "2024-03-12T16:42:23.172525Z"
    }
   },
   "execution_count": 100
  },
  {
   "cell_type": "code",
   "outputs": [],
   "source": [
    "mms['Field'] = \"\""
   ],
   "metadata": {
    "collapsed": false,
    "ExecuteTime": {
     "end_time": "2024-03-12T16:42:33.928863Z",
     "start_time": "2024-03-12T16:42:33.826674Z"
    }
   },
   "execution_count": 101
  },
  {
   "cell_type": "code",
   "outputs": [],
   "source": [
    "pd.concat([out_mms.iloc[0:4], mms]).to_csv(join(home, \"CMP/CMP_molecular_metadata-sample.tsv\"), sep='\\t', index=False)"
   ],
   "metadata": {
    "collapsed": false,
    "ExecuteTime": {
     "end_time": "2024-03-12T16:43:44.393008Z",
     "start_time": "2024-03-12T16:43:44.237254Z"
    }
   },
   "execution_count": 106
  },
  {
   "cell_type": "code",
   "outputs": [
    {
     "data": {
      "text/plain": "                      Field  \\\n0              #Description   \n1                  #Example   \n2      #Format Requirements   \n3               #Essential?   \n4                       NaN   \n...                     ...   \n13080                   NaN   \n13081                   NaN   \n13082                   NaN   \n13083                   NaN   \n13084                   NaN   \n\n                                                model_id  \\\n0      Unique identifier for all the PDXs derived fro...   \n1                                              CRC0228PR   \n2                                    free alphanumerical   \n3                                              essential   \n4                                             immune_msi   \n...                                                  ...   \n13080                                          SIDM01779   \n13081                                          SIDM01780   \n13082                                          SIDM01781   \n13083                                          SIDM01782   \n13084                                          SIDM01986   \n\n                                               sample_id  \\\n0      Identifier of the sample from any patient tiss...   \n1                             CRC0228PRH0000000000D01000   \n2                                    free alphanumerical   \n3                                              essential   \n4                                              SIDS00452   \n...                                                  ...   \n13080                                          SIDS01654   \n13081                                          SIDS01653   \n13082                                          SIDS01664   \n13083                                          SIDS01678   \n13084                                          SIDS00075   \n\n                                           sample_origin  \\\n0      The orgin of the sample - xenograft (extracted...   \n1                                              xenograft   \n2                                     xenograft, patient   \n3                                              essential   \n4                                                   cell   \n...                                                  ...   \n13080                                               cell   \n13081                                               cell   \n13082                                               cell   \n13083                                               cell   \n13084                                               cell   \n\n                                                 passage  \\\n0      Indicate the passage number of the sample wher...   \n1                                                      0   \n2                                    numerical, or blank   \n3                                              essential   \n4                                                    NaN   \n...                                                  ...   \n13080                                                NaN   \n13081                                                NaN   \n13082                                                NaN   \n13083                                                NaN   \n13084                                                NaN   \n\n                                        host_strain_name  \\\n0      Host mouse strain name (e.g. NOD-SCID, NSG, et...   \n1                                               NOD SCID   \n2       follow strain name or Not Specified (if unknown)   \n3                                              essential   \n4                                                    NaN   \n...                                                  ...   \n13080                                                NaN   \n13081                                                NaN   \n13082                                                NaN   \n13083                                                NaN   \n13084                                                NaN   \n\n                                host_strain_nomenclature  \\\n0      The full nomenclature form of the host mouse s...   \n1                       NOD.Cg-Prkdcscid Il2rgtm1Wjl/SzJ   \n2      https://www.jax.org/jax-mice-and-services/cust...   \n3                                              essential   \n4                                                    NaN   \n...                                                  ...   \n13080                                                NaN   \n13081                                                NaN   \n13082                                                NaN   \n13083                                                NaN   \n13084                                                NaN   \n\n                         engrafted_tumor_collection_site  \\\n0      The anatomical site from which the xenograft s...   \n1                                           mammary glad   \n2                                    free alphanumerical   \n3                                              desirable   \n4                                                    NaN   \n...                                                  ...   \n13080                                                NaN   \n13081                                                NaN   \n13082                                                NaN   \n13083                                                NaN   \n13084                                                NaN   \n\n                                            raw_data_url  \\\n0      Unique identify to platform metadata between s...   \n1                                              mutation1   \n2                                                    NaN   \n3                                              desirable   \n4                                                    NaN   \n...                                                  ...   \n13080                                                NaN   \n13081                                                NaN   \n13082                                                NaN   \n13083                                                NaN   \n13084                                                NaN   \n\n                                             platform_id  \n0      Unique identify to platform metadata between s...  \n1                                              mutation1  \n2                                                    NaN  \n3                                              essential  \n4                                             immune_msi  \n...                                                  ...  \n13080                                   cna_WGS_organoid  \n13081                                   cna_WGS_organoid  \n13082                                   cna_WGS_organoid  \n13083                                   cna_WGS_organoid  \n13084                                   cna_WGS_organoid  \n\n[13085 rows x 10 columns]",
      "text/html": "<div>\n<style scoped>\n    .dataframe tbody tr th:only-of-type {\n        vertical-align: middle;\n    }\n\n    .dataframe tbody tr th {\n        vertical-align: top;\n    }\n\n    .dataframe thead th {\n        text-align: right;\n    }\n</style>\n<table border=\"1\" class=\"dataframe\">\n  <thead>\n    <tr style=\"text-align: right;\">\n      <th></th>\n      <th>Field</th>\n      <th>model_id</th>\n      <th>sample_id</th>\n      <th>sample_origin</th>\n      <th>passage</th>\n      <th>host_strain_name</th>\n      <th>host_strain_nomenclature</th>\n      <th>engrafted_tumor_collection_site</th>\n      <th>raw_data_url</th>\n      <th>platform_id</th>\n    </tr>\n  </thead>\n  <tbody>\n    <tr>\n      <th>0</th>\n      <td>#Description</td>\n      <td>Unique identifier for all the PDXs derived fro...</td>\n      <td>Identifier of the sample from any patient tiss...</td>\n      <td>The orgin of the sample - xenograft (extracted...</td>\n      <td>Indicate the passage number of the sample wher...</td>\n      <td>Host mouse strain name (e.g. NOD-SCID, NSG, et...</td>\n      <td>The full nomenclature form of the host mouse s...</td>\n      <td>The anatomical site from which the xenograft s...</td>\n      <td>Unique identify to platform metadata between s...</td>\n      <td>Unique identify to platform metadata between s...</td>\n    </tr>\n    <tr>\n      <th>1</th>\n      <td>#Example</td>\n      <td>CRC0228PR</td>\n      <td>CRC0228PRH0000000000D01000</td>\n      <td>xenograft</td>\n      <td>0</td>\n      <td>NOD SCID</td>\n      <td>NOD.Cg-Prkdcscid Il2rgtm1Wjl/SzJ</td>\n      <td>mammary glad</td>\n      <td>mutation1</td>\n      <td>mutation1</td>\n    </tr>\n    <tr>\n      <th>2</th>\n      <td>#Format Requirements</td>\n      <td>free alphanumerical</td>\n      <td>free alphanumerical</td>\n      <td>xenograft, patient</td>\n      <td>numerical, or blank</td>\n      <td>follow strain name or Not Specified (if unknown)</td>\n      <td>https://www.jax.org/jax-mice-and-services/cust...</td>\n      <td>free alphanumerical</td>\n      <td>NaN</td>\n      <td>NaN</td>\n    </tr>\n    <tr>\n      <th>3</th>\n      <td>#Essential?</td>\n      <td>essential</td>\n      <td>essential</td>\n      <td>essential</td>\n      <td>essential</td>\n      <td>essential</td>\n      <td>essential</td>\n      <td>desirable</td>\n      <td>desirable</td>\n      <td>essential</td>\n    </tr>\n    <tr>\n      <th>4</th>\n      <td>NaN</td>\n      <td>immune_msi</td>\n      <td>SIDS00452</td>\n      <td>cell</td>\n      <td>NaN</td>\n      <td>NaN</td>\n      <td>NaN</td>\n      <td>NaN</td>\n      <td>NaN</td>\n      <td>immune_msi</td>\n    </tr>\n    <tr>\n      <th>...</th>\n      <td>...</td>\n      <td>...</td>\n      <td>...</td>\n      <td>...</td>\n      <td>...</td>\n      <td>...</td>\n      <td>...</td>\n      <td>...</td>\n      <td>...</td>\n      <td>...</td>\n    </tr>\n    <tr>\n      <th>13080</th>\n      <td>NaN</td>\n      <td>SIDM01779</td>\n      <td>SIDS01654</td>\n      <td>cell</td>\n      <td>NaN</td>\n      <td>NaN</td>\n      <td>NaN</td>\n      <td>NaN</td>\n      <td>NaN</td>\n      <td>cna_WGS_organoid</td>\n    </tr>\n    <tr>\n      <th>13081</th>\n      <td>NaN</td>\n      <td>SIDM01780</td>\n      <td>SIDS01653</td>\n      <td>cell</td>\n      <td>NaN</td>\n      <td>NaN</td>\n      <td>NaN</td>\n      <td>NaN</td>\n      <td>NaN</td>\n      <td>cna_WGS_organoid</td>\n    </tr>\n    <tr>\n      <th>13082</th>\n      <td>NaN</td>\n      <td>SIDM01781</td>\n      <td>SIDS01664</td>\n      <td>cell</td>\n      <td>NaN</td>\n      <td>NaN</td>\n      <td>NaN</td>\n      <td>NaN</td>\n      <td>NaN</td>\n      <td>cna_WGS_organoid</td>\n    </tr>\n    <tr>\n      <th>13083</th>\n      <td>NaN</td>\n      <td>SIDM01782</td>\n      <td>SIDS01678</td>\n      <td>cell</td>\n      <td>NaN</td>\n      <td>NaN</td>\n      <td>NaN</td>\n      <td>NaN</td>\n      <td>NaN</td>\n      <td>cna_WGS_organoid</td>\n    </tr>\n    <tr>\n      <th>13084</th>\n      <td>NaN</td>\n      <td>SIDM01986</td>\n      <td>SIDS00075</td>\n      <td>cell</td>\n      <td>NaN</td>\n      <td>NaN</td>\n      <td>NaN</td>\n      <td>NaN</td>\n      <td>NaN</td>\n      <td>cna_WGS_organoid</td>\n    </tr>\n  </tbody>\n</table>\n<p>13085 rows × 10 columns</p>\n</div>"
     },
     "execution_count": 105,
     "metadata": {},
     "output_type": "execute_result"
    }
   ],
   "source": [
    "out_mms"
   ],
   "metadata": {
    "collapsed": false,
    "ExecuteTime": {
     "end_time": "2024-03-12T16:43:18.096163Z",
     "start_time": "2024-03-12T16:43:18.002121Z"
    }
   },
   "execution_count": 105
  },
  {
   "cell_type": "code",
   "outputs": [],
   "source": [],
   "metadata": {
    "collapsed": false
   }
  },
  {
   "cell_type": "markdown",
   "source": [
    "## MI Organoids"
   ],
   "metadata": {
    "collapsed": false
   }
  },
  {
   "cell_type": "code",
   "outputs": [],
   "source": [
    "from requests import get\n",
    "from re import search, sub\n",
    "from time import sleep\n",
    "from selenium import webdriver\n",
    "from selenium.webdriver.common.by import By\n",
    "from selenium.webdriver.support.ui import WebDriverWait\n",
    "from selenium.webdriver.support import expected_conditions as EC\n",
    "from selenium.webdriver.chrome.service import Service\n",
    "from webdriver_manager.chrome import ChromeDriverManager\n",
    "from bs4 import BeautifulSoup\n",
    "import numpy as np"
   ],
   "metadata": {
    "collapsed": false,
    "ExecuteTime": {
     "end_time": "2024-04-10T12:47:27.343032Z",
     "start_time": "2024-04-10T12:47:27.224938Z"
    }
   },
   "execution_count": 560
  },
  {
   "cell_type": "code",
   "outputs": [
    {
     "data": {
      "text/plain": "0       https://www.atcc.org/products/PDM-18\n1       https://www.atcc.org/products/PDM-17\n2       https://www.atcc.org/products/PDM-19\n3       https://www.atcc.org/products/PDM-23\n4       https://www.atcc.org/products/PDM-22\n                       ...                  \n226    https://www.atcc.org/products/PDM-171\n227    https://www.atcc.org/products/PDM-166\n228    https://www.atcc.org/products/PDM-173\n229    https://www.atcc.org/products/PDM-495\n230    https://www.atcc.org/products/PDM-165\nName: vendor_link, Length: 231, dtype: object"
     },
     "execution_count": 5,
     "metadata": {},
     "output_type": "execute_result"
    }
   ],
   "source": [
    "in_vitro_models = read_metadata_without_fields(join(home, 'BROD', 'BROD_metadata-cell_model.tsv'))"
   ],
   "metadata": {
    "collapsed": false,
    "ExecuteTime": {
     "end_time": "2024-04-05T08:48:29.241700Z",
     "start_time": "2024-04-05T08:48:29.149290Z"
    }
   },
   "execution_count": 5
  },
  {
   "cell_type": "code",
   "outputs": [],
   "source": [
    "url = in_vitro_models['vendor_link'][0].lower()"
   ],
   "metadata": {
    "collapsed": false,
    "ExecuteTime": {
     "end_time": "2024-04-04T14:53:52.415048Z",
     "start_time": "2024-04-04T14:53:52.283672Z"
    }
   },
   "execution_count": 18
  },
  {
   "cell_type": "code",
   "outputs": [],
   "source": [],
   "metadata": {
    "collapsed": false,
    "ExecuteTime": {
     "end_time": "2024-04-05T11:55:23.187586Z",
     "start_time": "2024-04-05T11:55:23.045312Z"
    }
   },
   "execution_count": 61
  },
  {
   "cell_type": "code",
   "outputs": [],
   "source": [
    "def fetch_from_atcc(in_vitro_models):\n",
    "    chrome_options = webdriver.ChromeOptions()\n",
    "    chrome_options.add_argument(\"--headless\")  # Run Chrome in headless mode if desired\n",
    "    chrome_options.add_argument('--no-sandbox')\n",
    "    chrome_options.add_argument('--disable-dev-shm-usage')\n",
    "    driver = webdriver.Chrome(service=Service(ChromeDriverManager().install()), options=chrome_options)\n",
    "    first = True\n",
    "    text = pd.DataFrame()\n",
    "    #attributes = list()\n",
    "    for url in in_vitro_models['vendor_link'].str.lower():\n",
    "        if url == 'not provided':\n",
    "            continue\n",
    "        driver.get(url)\n",
    "        if first:\n",
    "            WebDriverWait(driver, 10).until(EC.presence_of_element_located((By.XPATH, \"//a[text()='Allow all cookies']\"))).click()\n",
    "            first = False\n",
    "        #print('Expand')\n",
    "        sleep(2)\n",
    "        WebDriverWait(driver, 30).until(EC.presence_of_element_located((By.XPATH, \"//a[contains(text(), 'Expand all')]\"))).click()\n",
    "        headers = list()\n",
    "        h3 = driver.find_elements(By.XPATH, \"//h3\")\n",
    "        append_it = False\n",
    "        for h in h3:\n",
    "            if len(headers) == 0:\n",
    "                headers.append('Product Information')\n",
    "            if h.text == \"General\" or h.text == 'Characteristics' or append_it:\n",
    "                headers.append(h.text)\n",
    "                append_it = True\n",
    "            if h.text == \"Legal disclaimers\":\n",
    "                append_it = False\n",
    "        \n",
    "        dls = driver.find_elements(By.XPATH, \"//dl\")\n",
    "        i = 0\n",
    "        df = pd.DataFrame()\n",
    "        df['atcc'] = [url.replace('https://www.atcc.org/products/', '').upper()]\n",
    "        df['url'] = url\n",
    "        for dl in dls:\n",
    "            soup = BeautifulSoup(dl.get_attribute(\"outerHTML\"), 'html.parser')\n",
    "            dt_elements = soup.find_all('dt', class_='product-information__title')\n",
    "            dd_elements = soup.find_all('dd', class_='product-information__data')\n",
    "            dt_values = [headers[i].replace(' ', '_').lower()+'.'+dt.get_text(strip=True).replace(' ', '_').lower() for dt in dt_elements]\n",
    "            i = i+1\n",
    "            dd_values = [dd.get_text(strip=True) for dd in dd_elements]\n",
    "            for j in range(len(dt_values)):\n",
    "                df[dt_values[j]] = dd_values[j]  \n",
    "        text = pd.concat([text, df]).reset_index(drop=True)\n",
    "    driver.quit()\n",
    "    return text"
   ],
   "metadata": {
    "collapsed": false,
    "ExecuteTime": {
     "end_time": "2024-04-09T08:42:22.534383Z",
     "start_time": "2024-04-09T08:42:22.454594Z"
    }
   },
   "execution_count": 263
  },
  {
   "cell_type": "code",
   "outputs": [
    {
     "data": {
      "text/plain": "        atcc                                    url  \\\n0     PDM-18   https://www.atcc.org/products/pdm-18   \n1     PDM-17   https://www.atcc.org/products/pdm-17   \n2     PDM-19   https://www.atcc.org/products/pdm-19   \n3     PDM-23   https://www.atcc.org/products/pdm-23   \n4     PDM-22   https://www.atcc.org/products/pdm-22   \n..       ...                                    ...   \n139  PDM-171  https://www.atcc.org/products/pdm-171   \n140  PDM-166  https://www.atcc.org/products/pdm-166   \n141  PDM-173  https://www.atcc.org/products/pdm-173   \n142  PDM-495  https://www.atcc.org/products/pdm-495   \n143  PDM-165  https://www.atcc.org/products/pdm-165   \n\n    product_information.product_category product_information.product_type  \\\n0                            Human cells                       Cell model   \n1                            Human cells                       Cell model   \n2                            Human cells                       Cell model   \n3                            Human cells                       Cell model   \n4                            Human cells                       Cell model   \n..                                   ...                              ...   \n139                          Human cells               Cell modelOrganoid   \n140                          Human cells               Cell modelOrganoid   \n141                          Human cells               Cell modelOrganoid   \n142                          Human cells                       Cell model   \n143                          Human cells               Cell modelOrganoid   \n\n    product_information.organism  \\\n0            Homo sapiens, human   \n1            Homo sapiens, human   \n2            Homo sapiens, human   \n3            Homo sapiens, human   \n4            Homo sapiens, human   \n..                           ...   \n139          Homo sapiens, human   \n140          Homo sapiens, human   \n141          Homo sapiens, human   \n142          Homo sapiens, human   \n143          Homo sapiens, human   \n\n                        product_information.morphology  \\\n0                                             neuronal   \n1      neuronal; conditionally reprogrammed cell (CRC)   \n2                                             neuronal   \n3                                             neuronal   \n4                                                  NaN   \n..                                                 ...   \n139                                           Organoid   \n140                                           Organoid   \n141                                           Organoid   \n142                                    epithelial-like   \n143  organoid.Note:This model has highly unusual mo...   \n\n    product_information.tissue product_information.disease  \\\n0                        Brain       Glioblastoma; Primary   \n1                        Brain       Glioblastoma; Primary   \n2                        Brain     Glioblastoma; Recurrent   \n3                        Brain     Glioblastoma; Recurrent   \n4                        Brain     Glioblastoma; Recurrent   \n..                         ...                         ...   \n139                   Pancreas  Adenocarcinoma; Metastatic   \n140                   Pancreas     Adenocarcinoma; Primary   \n141                   Pancreas     Adenocarcinoma; Primary   \n142                       Skin        Melanoma; Metastatic   \n143                   Pancreas  Adenocarcinoma; Metastatic   \n\n               product_information.applications  \\\n0    3D cell cultureCancer researchNeuroscience   \n1    3D cell cultureCancer researchNeuroscience   \n2    3D cell cultureCancer researchNeuroscience   \n3    3D cell cultureCancer researchNeuroscience   \n4    3D cell cultureCancer researchNeuroscience   \n..                                          ...   \n139              3D cell cultureCancer research   \n140              3D cell cultureCancer research   \n141              3D cell cultureCancer research   \n142                             Cancer research   \n143              3D cell cultureCancer research   \n\n    product_information.product_format  ... history.depositors  \\\n0                               Frozen  ...    Broad Institute   \n1                               Frozen  ...    Broad Institute   \n2                               Frozen  ...    Broad Institute   \n3                               Frozen  ...    Broad Institute   \n4                               Frozen  ...    Broad Institute   \n..                                 ...  ...                ...   \n139                             Frozen  ...    Broad Institute   \n140                             Frozen  ...    Broad Institute   \n141                             Frozen  ...    Broad Institute   \n142                             Frozen  ...    Broad Institute   \n143                             Frozen  ...    Broad Institute   \n\n    history.year_of_origin             history.special_collection  \\\n0                     2018  Human Cancer Models Initiative (HCMI)   \n1                     2018  Human Cancer Models Initiative (HCMI)   \n2                     2018  Human Cancer Models Initiative (HCMI)   \n3                     2018  Human Cancer Models Initiative (HCMI)   \n4                     2018  Human Cancer Models Initiative (HCMI)   \n..                     ...                                    ...   \n139                   2021  Human Cancer Models Initiative (HCMI)   \n140                   2021  Human Cancer Models Initiative (HCMI)   \n141                   2021  Human Cancer Models Initiative (HCMI)   \n142                   2021  Human Cancer Models Initiative (HCMI)   \n143                   2021  Human Cancer Models Initiative (HCMI)   \n\n                        legal_disclaimers.intended_use  \\\n0    This product is intended for laboratory resear...   \n1    This product is intended for laboratory resear...   \n2    This product is intended for laboratory resear...   \n3    This product is intended for laboratory resear...   \n4    This product is intended for laboratory resear...   \n..                                                 ...   \n139  This product is intended for laboratory resear...   \n140  This product is intended for laboratory resear...   \n141  This product is intended for laboratory resear...   \n142  This product is intended for laboratory resear...   \n143  This product is intended for laboratory resear...   \n\n                            legal_disclaimers.warranty  \\\n0    The product is provided 'AS IS' and the viabil...   \n1    The product is provided 'AS IS' and the viabil...   \n2    The product is provided 'AS IS' and the viabil...   \n3    The product is provided 'AS IS' and the viabil...   \n4    The product is provided 'AS IS' and the viabil...   \n..                                                 ...   \n139  The product is provided 'AS IS' and the viabil...   \n140  The product is provided 'AS IS' and the viabil...   \n141  The product is provided 'AS IS' and the viabil...   \n142  The product is provided 'AS IS' and the viabil...   \n143  The product is provided 'AS IS' and the viabil...   \n\n                         legal_disclaimers.disclaimers characteristics.gender  \\\n0    This product is intended for laboratory resear...                    NaN   \n1    This product is intended for laboratory resear...                    NaN   \n2    This product is intended for laboratory resear...                 Female   \n3    This product is intended for laboratory resear...                    NaN   \n4    This product is intended for laboratory resear...                   Male   \n..                                                 ...                    ...   \n139  This product is intended for laboratory resear...                    NaN   \n140  This product is intended for laboratory resear...                    NaN   \n141  This product is intended for laboratory resear...                    NaN   \n142  This product is intended for laboratory resear...                    NaN   \n143  This product is intended for laboratory resear...                    NaN   \n\n     characteristics.metastatic  \\\n0                           NaN   \n1                           NaN   \n2                           NaN   \n3                           NaN   \n4                           NaN   \n..                          ...   \n139                  Metastatic   \n140                         NaN   \n141                         NaN   \n142      Metastatic; Lymph node   \n143  Metastatic; Pleural cavity   \n\n                 handling_information.cryopreservation  \\\n0                                                  NaN   \n1                                                  NaN   \n2                                                  NaN   \n3                                                  NaN   \n4                                                  NaN   \n..                                                 ...   \n139  For a brief overview of the cryopreservation p...   \n140  For a brief overview of the cryopreservation p...   \n141  For a brief overview of the cryopreservation p...   \n142                                                NaN   \n143  For a brief overview of the cryopreservation p...   \n\n    characteristics.passage_history  \n0                               NaN  \n1                               NaN  \n2                               NaN  \n3                               NaN  \n4                               NaN  \n..                              ...  \n139                             NaN  \n140                             NaN  \n141                             NaN  \n142                             NaN  \n143                             NaN  \n\n[144 rows x 38 columns]",
      "text/html": "<div>\n<style scoped>\n    .dataframe tbody tr th:only-of-type {\n        vertical-align: middle;\n    }\n\n    .dataframe tbody tr th {\n        vertical-align: top;\n    }\n\n    .dataframe thead th {\n        text-align: right;\n    }\n</style>\n<table border=\"1\" class=\"dataframe\">\n  <thead>\n    <tr style=\"text-align: right;\">\n      <th></th>\n      <th>atcc</th>\n      <th>url</th>\n      <th>product_information.product_category</th>\n      <th>product_information.product_type</th>\n      <th>product_information.organism</th>\n      <th>product_information.morphology</th>\n      <th>product_information.tissue</th>\n      <th>product_information.disease</th>\n      <th>product_information.applications</th>\n      <th>product_information.product_format</th>\n      <th>...</th>\n      <th>history.depositors</th>\n      <th>history.year_of_origin</th>\n      <th>history.special_collection</th>\n      <th>legal_disclaimers.intended_use</th>\n      <th>legal_disclaimers.warranty</th>\n      <th>legal_disclaimers.disclaimers</th>\n      <th>characteristics.gender</th>\n      <th>characteristics.metastatic</th>\n      <th>handling_information.cryopreservation</th>\n      <th>characteristics.passage_history</th>\n    </tr>\n  </thead>\n  <tbody>\n    <tr>\n      <th>0</th>\n      <td>PDM-18</td>\n      <td>https://www.atcc.org/products/pdm-18</td>\n      <td>Human cells</td>\n      <td>Cell model</td>\n      <td>Homo sapiens, human</td>\n      <td>neuronal</td>\n      <td>Brain</td>\n      <td>Glioblastoma; Primary</td>\n      <td>3D cell cultureCancer researchNeuroscience</td>\n      <td>Frozen</td>\n      <td>...</td>\n      <td>Broad Institute</td>\n      <td>2018</td>\n      <td>Human Cancer Models Initiative (HCMI)</td>\n      <td>This product is intended for laboratory resear...</td>\n      <td>The product is provided 'AS IS' and the viabil...</td>\n      <td>This product is intended for laboratory resear...</td>\n      <td>NaN</td>\n      <td>NaN</td>\n      <td>NaN</td>\n      <td>NaN</td>\n    </tr>\n    <tr>\n      <th>1</th>\n      <td>PDM-17</td>\n      <td>https://www.atcc.org/products/pdm-17</td>\n      <td>Human cells</td>\n      <td>Cell model</td>\n      <td>Homo sapiens, human</td>\n      <td>neuronal; conditionally reprogrammed cell (CRC)</td>\n      <td>Brain</td>\n      <td>Glioblastoma; Primary</td>\n      <td>3D cell cultureCancer researchNeuroscience</td>\n      <td>Frozen</td>\n      <td>...</td>\n      <td>Broad Institute</td>\n      <td>2018</td>\n      <td>Human Cancer Models Initiative (HCMI)</td>\n      <td>This product is intended for laboratory resear...</td>\n      <td>The product is provided 'AS IS' and the viabil...</td>\n      <td>This product is intended for laboratory resear...</td>\n      <td>NaN</td>\n      <td>NaN</td>\n      <td>NaN</td>\n      <td>NaN</td>\n    </tr>\n    <tr>\n      <th>2</th>\n      <td>PDM-19</td>\n      <td>https://www.atcc.org/products/pdm-19</td>\n      <td>Human cells</td>\n      <td>Cell model</td>\n      <td>Homo sapiens, human</td>\n      <td>neuronal</td>\n      <td>Brain</td>\n      <td>Glioblastoma; Recurrent</td>\n      <td>3D cell cultureCancer researchNeuroscience</td>\n      <td>Frozen</td>\n      <td>...</td>\n      <td>Broad Institute</td>\n      <td>2018</td>\n      <td>Human Cancer Models Initiative (HCMI)</td>\n      <td>This product is intended for laboratory resear...</td>\n      <td>The product is provided 'AS IS' and the viabil...</td>\n      <td>This product is intended for laboratory resear...</td>\n      <td>Female</td>\n      <td>NaN</td>\n      <td>NaN</td>\n      <td>NaN</td>\n    </tr>\n    <tr>\n      <th>3</th>\n      <td>PDM-23</td>\n      <td>https://www.atcc.org/products/pdm-23</td>\n      <td>Human cells</td>\n      <td>Cell model</td>\n      <td>Homo sapiens, human</td>\n      <td>neuronal</td>\n      <td>Brain</td>\n      <td>Glioblastoma; Recurrent</td>\n      <td>3D cell cultureCancer researchNeuroscience</td>\n      <td>Frozen</td>\n      <td>...</td>\n      <td>Broad Institute</td>\n      <td>2018</td>\n      <td>Human Cancer Models Initiative (HCMI)</td>\n      <td>This product is intended for laboratory resear...</td>\n      <td>The product is provided 'AS IS' and the viabil...</td>\n      <td>This product is intended for laboratory resear...</td>\n      <td>NaN</td>\n      <td>NaN</td>\n      <td>NaN</td>\n      <td>NaN</td>\n    </tr>\n    <tr>\n      <th>4</th>\n      <td>PDM-22</td>\n      <td>https://www.atcc.org/products/pdm-22</td>\n      <td>Human cells</td>\n      <td>Cell model</td>\n      <td>Homo sapiens, human</td>\n      <td>NaN</td>\n      <td>Brain</td>\n      <td>Glioblastoma; Recurrent</td>\n      <td>3D cell cultureCancer researchNeuroscience</td>\n      <td>Frozen</td>\n      <td>...</td>\n      <td>Broad Institute</td>\n      <td>2018</td>\n      <td>Human Cancer Models Initiative (HCMI)</td>\n      <td>This product is intended for laboratory resear...</td>\n      <td>The product is provided 'AS IS' and the viabil...</td>\n      <td>This product is intended for laboratory resear...</td>\n      <td>Male</td>\n      <td>NaN</td>\n      <td>NaN</td>\n      <td>NaN</td>\n    </tr>\n    <tr>\n      <th>...</th>\n      <td>...</td>\n      <td>...</td>\n      <td>...</td>\n      <td>...</td>\n      <td>...</td>\n      <td>...</td>\n      <td>...</td>\n      <td>...</td>\n      <td>...</td>\n      <td>...</td>\n      <td>...</td>\n      <td>...</td>\n      <td>...</td>\n      <td>...</td>\n      <td>...</td>\n      <td>...</td>\n      <td>...</td>\n      <td>...</td>\n      <td>...</td>\n      <td>...</td>\n      <td>...</td>\n    </tr>\n    <tr>\n      <th>139</th>\n      <td>PDM-171</td>\n      <td>https://www.atcc.org/products/pdm-171</td>\n      <td>Human cells</td>\n      <td>Cell modelOrganoid</td>\n      <td>Homo sapiens, human</td>\n      <td>Organoid</td>\n      <td>Pancreas</td>\n      <td>Adenocarcinoma; Metastatic</td>\n      <td>3D cell cultureCancer research</td>\n      <td>Frozen</td>\n      <td>...</td>\n      <td>Broad Institute</td>\n      <td>2021</td>\n      <td>Human Cancer Models Initiative (HCMI)</td>\n      <td>This product is intended for laboratory resear...</td>\n      <td>The product is provided 'AS IS' and the viabil...</td>\n      <td>This product is intended for laboratory resear...</td>\n      <td>NaN</td>\n      <td>Metastatic</td>\n      <td>For a brief overview of the cryopreservation p...</td>\n      <td>NaN</td>\n    </tr>\n    <tr>\n      <th>140</th>\n      <td>PDM-166</td>\n      <td>https://www.atcc.org/products/pdm-166</td>\n      <td>Human cells</td>\n      <td>Cell modelOrganoid</td>\n      <td>Homo sapiens, human</td>\n      <td>Organoid</td>\n      <td>Pancreas</td>\n      <td>Adenocarcinoma; Primary</td>\n      <td>3D cell cultureCancer research</td>\n      <td>Frozen</td>\n      <td>...</td>\n      <td>Broad Institute</td>\n      <td>2021</td>\n      <td>Human Cancer Models Initiative (HCMI)</td>\n      <td>This product is intended for laboratory resear...</td>\n      <td>The product is provided 'AS IS' and the viabil...</td>\n      <td>This product is intended for laboratory resear...</td>\n      <td>NaN</td>\n      <td>NaN</td>\n      <td>For a brief overview of the cryopreservation p...</td>\n      <td>NaN</td>\n    </tr>\n    <tr>\n      <th>141</th>\n      <td>PDM-173</td>\n      <td>https://www.atcc.org/products/pdm-173</td>\n      <td>Human cells</td>\n      <td>Cell modelOrganoid</td>\n      <td>Homo sapiens, human</td>\n      <td>Organoid</td>\n      <td>Pancreas</td>\n      <td>Adenocarcinoma; Primary</td>\n      <td>3D cell cultureCancer research</td>\n      <td>Frozen</td>\n      <td>...</td>\n      <td>Broad Institute</td>\n      <td>2021</td>\n      <td>Human Cancer Models Initiative (HCMI)</td>\n      <td>This product is intended for laboratory resear...</td>\n      <td>The product is provided 'AS IS' and the viabil...</td>\n      <td>This product is intended for laboratory resear...</td>\n      <td>NaN</td>\n      <td>NaN</td>\n      <td>For a brief overview of the cryopreservation p...</td>\n      <td>NaN</td>\n    </tr>\n    <tr>\n      <th>142</th>\n      <td>PDM-495</td>\n      <td>https://www.atcc.org/products/pdm-495</td>\n      <td>Human cells</td>\n      <td>Cell model</td>\n      <td>Homo sapiens, human</td>\n      <td>epithelial-like</td>\n      <td>Skin</td>\n      <td>Melanoma; Metastatic</td>\n      <td>Cancer research</td>\n      <td>Frozen</td>\n      <td>...</td>\n      <td>Broad Institute</td>\n      <td>2021</td>\n      <td>Human Cancer Models Initiative (HCMI)</td>\n      <td>This product is intended for laboratory resear...</td>\n      <td>The product is provided 'AS IS' and the viabil...</td>\n      <td>This product is intended for laboratory resear...</td>\n      <td>NaN</td>\n      <td>Metastatic; Lymph node</td>\n      <td>NaN</td>\n      <td>NaN</td>\n    </tr>\n    <tr>\n      <th>143</th>\n      <td>PDM-165</td>\n      <td>https://www.atcc.org/products/pdm-165</td>\n      <td>Human cells</td>\n      <td>Cell modelOrganoid</td>\n      <td>Homo sapiens, human</td>\n      <td>organoid.Note:This model has highly unusual mo...</td>\n      <td>Pancreas</td>\n      <td>Adenocarcinoma; Metastatic</td>\n      <td>3D cell cultureCancer research</td>\n      <td>Frozen</td>\n      <td>...</td>\n      <td>Broad Institute</td>\n      <td>2021</td>\n      <td>Human Cancer Models Initiative (HCMI)</td>\n      <td>This product is intended for laboratory resear...</td>\n      <td>The product is provided 'AS IS' and the viabil...</td>\n      <td>This product is intended for laboratory resear...</td>\n      <td>NaN</td>\n      <td>Metastatic; Pleural cavity</td>\n      <td>For a brief overview of the cryopreservation p...</td>\n      <td>NaN</td>\n    </tr>\n  </tbody>\n</table>\n<p>144 rows × 38 columns</p>\n</div>"
     },
     "execution_count": 90,
     "metadata": {},
     "output_type": "execute_result"
    }
   ],
   "source": [
    "text"
   ],
   "metadata": {
    "collapsed": false,
    "ExecuteTime": {
     "end_time": "2024-04-05T15:47:27.747105Z",
     "start_time": "2024-04-05T15:47:27.715597Z"
    }
   },
   "execution_count": 90
  },
  {
   "cell_type": "code",
   "outputs": [],
   "source": [
    "conditions = [text['handling_information.complete_medium'].str.contains('NeuroCult'), \n",
    "              text['handling_information.complete_medium'].str.contains('Propagenix'), \n",
    "              text['handling_information.complete_medium'].str.contains('Renaissance'), \n",
    "              text['handling_information.complete_medium'].str.contains('theOrganoid Media Formulation #3'), text['handling_information.complete_medium'].str.contains('Lonza SmGM'), \n",
    "              text['handling_information.complete_medium'].str.contains('ATCC 30-2001'), \n",
    "              text['handling_information.complete_medium'].str.contains('AR5 Media with 5% FBS'),\n",
    "              text['handling_information.complete_medium'].str.contains('HCM-BROD-0051-C64'), \n",
    "              text['handling_information.complete_medium'].str.contains('Dulbecco'), \n",
    "              text['handling_information.complete_medium'].str.contains('theOrganoid Media Formulation #5')]\n",
    "\n",
    "\n",
    "replacements = ['Stem Cell Technologies - 5751', 'Propagenix 256-100', 'Cellaria Bio CM-0001', 'ATCC ACS-7101', 'Lonza CC-3182', 'ATCC 30-2001', 'Not provided', 'Propagenix 256-10', 'ATCC 30-2002', 'ATCC ACS-7104']\n",
    "\n",
    "\n",
    "growth_media = ['NeuroCult™ NS-A Proliferation Kit (Human)', 'Propagenix Conditioned Medium', 'Renaissance Essential Tumor Medium', 'Organoid Growth Kit 1B', 'SmGM - 2 Smooth Muscle Cell Growth Medium - 2 BulletKit', 'RPMI-1640 Medium', 'AR5 Media with 5% FBS', 'Propagenix Conditioned Medium', 'DMEM', 'Organoid Growth Kit 1E']\n",
    "\n",
    "supplements = ['NS-A Proliferation Supplement (StemCell Technologies #05754) + 20 ng/mL EGF (StemCell Technologies #78003.1) + 20 ng/mL bFGF (Peprotech #AF-100-15) + 2 µg/mL Heparin (StemCell Technologies #07980)',\n",
    "                 '9.0 ng/mL cholera toxin (Sigma Aldrich C8052)', \n",
    "                 '5% Fetal Bovine Serum (FBS; ATCC 30-2020) and 25 ng/mL Cholera Toxin (Sigma Aldrich cat# C8052)', \n",
    "                 'Not provided', \n",
    "                 'Not provided', \n",
    "                 'Fetal Bovine Serum (FBS; ATCC 30-2020)', \n",
    "                 'RPMI with L-Glutamine: 5% FBS, 1% HEPES (1 M), 2 mg/mL BSA, 500 µMm Sodium Pyruvate, 20 µg/mL Insulin, 10 µM Ethanolamine, 0.1 nM 3,3’,5-Triiodo-LThyronine (T3), 30 nM Sodium Selenite, 10 µg/mL Transferrin, 10 ng/mL EGF, 10 µM O-Phosphorylethanolamine (PHOS), 50 nM Hydrocortisone',\n",
    "                 '9.0 ng/mL cholera toxin',\n",
    "                 '10% Fetal Bovine Serum (FBS;ATCC 30-2020)',\n",
    "                 'Not provided']\n",
    "\n",
    "text['media_id'] = np.select(conditions, replacements, default='Not provided')\n",
    "text['growth_media'] = np.select(conditions, growth_media, default='Not provided')\n",
    "text['supplements'] = np.select(conditions, supplements, default='Not provided')\n",
    "text['growth_properties'] = text['characteristics.growth_properties']\n",
    "text['contaminated'] = np.where((text['quality_control_specifications.bacterial_and_fungal_testing'] == 'Not detected') & (text['quality_control_specifications.mycoplasma_contamination'] == 'Not detected'), 'Yes', 'No')\n",
    "\n",
    "text['contamination_details'] = np.where((text['quality_control_specifications.bacterial_and_fungal_testing'] == 'Not detected') & (text['quality_control_specifications.mycoplasma_contamination'] == 'Not detected'), 'No contamination detected', 'Not provided')\n",
    "\n",
    "text['model_purity'] = np.where(text['characteristics.metastatic'].fillna('Not provided') == 'Not provided', 'Not provided', 'Tumor cells')\n",
    "\n",
    "text['STR_analysis'] = np.where(text['quality_control_specifications.str_profiling'].fillna('Not provided') == 'Not provided', 'No', 'Yes')\n",
    "\n",
    "text['morphological_features'] = text['product_information.morphology'].fillna('Not provided')\n",
    "\n",
    "text['virology_status'] = np.where(text['quality_control_specifications.virus_testing'].str.lower().str.replace('detected', 'detected, ').str.replace('not detected', '').str.contains('detected'), 'Detected', 'Not detected')"
   ],
   "metadata": {
    "collapsed": false,
    "ExecuteTime": {
     "end_time": "2024-04-08T12:25:04.164329Z",
     "start_time": "2024-04-08T12:25:04.054604Z"
    }
   },
   "execution_count": 215
  },
  {
   "cell_type": "code",
   "outputs": [],
   "source": [],
   "metadata": {
    "collapsed": false
   }
  },
  {
   "cell_type": "code",
   "outputs": [],
   "source": [
    "cell_sheet = read_metadata_without_fields(join(home, 'BROD', 'BROD_metadata-cell_model.tsv'))\n",
    "cell_template = read_metadata_with_fields(join(home, 'BROD', 'BROD_metadata-cell_model.tsv')).iloc[0:4]\n",
    "merged = cell_sheet.merge(text, left_on='catalog_number', right_on='atcc', how='left', suffixes=('_og', '_supplier'))\n",
    "merged['growth_properties'] = merged['growth_properties_supplier']\n",
    "merged['media_id'] = merged['media_id_supplier']\n",
    "merged['growth_media'] = merged['growth_media_supplier']\n",
    "merged['contaminated'] = merged['contaminated_supplier']\n",
    "merged['contamination_details'] = merged['contamination_details_supplier']\n",
    "merged['supplements'] = merged['supplements_supplier']\n",
    "pd.concat([cell_template, merged[cell_sheet.columns]]).reset_index(drop=True).to_csv(join(home, 'BROD', 'BROD_metadata-cell_model.tsv'), sep='\\t', index=False)"
   ],
   "metadata": {
    "collapsed": false,
    "ExecuteTime": {
     "end_time": "2024-04-08T12:25:52.946415Z",
     "start_time": "2024-04-08T12:25:52.812224Z"
    }
   },
   "execution_count": 216
  },
  {
   "cell_type": "code",
   "outputs": [
    {
     "data": {
      "text/plain": "Index(['model_id', 'model_name', 'model_name_aliases', 'type', 'parent_id',\n       'origin_patient_sample_id', 'growth_properties_og', 'media_id_og',\n       'growth_media_og', 'plate_coating', 'other_plate_coating',\n       'passage_number', 'contaminated_og', 'contamination_details_og',\n       'supplements_og', 'drug', 'drug_concentration', 'publications',\n       'supplier', 'supplier_type', 'catalog_number', 'vendor_link', 'rrid',\n       'external_ids', 'comments', 'atcc', 'url',\n       'product_information.product_category',\n       'product_information.product_type', 'product_information.organism',\n       'product_information.morphology', 'product_information.tissue',\n       'product_information.disease', 'product_information.applications',\n       'product_information.product_format',\n       'product_information.storage_conditions',\n       'general.specific_applications', 'characteristics.cells_per_vial',\n       'characteristics.volume', 'characteristics.growth_properties',\n       'characteristics.clinical_data', 'characteristics.comments',\n       'handling_information.unpacking_and_storage_instructions',\n       'handling_information.complete_medium',\n       'handling_information.temperature', 'handling_information.atmosphere',\n       'handling_information.handling_procedure',\n       'handling_information.subculturing_procedure',\n       'handling_information.reagents_for_cryopreservation',\n       'quality_control_specifications.bacterial_and_fungal_testing',\n       'quality_control_specifications.mycoplasma_contamination',\n       'quality_control_specifications.virus_testing',\n       'quality_control_specifications.str_profiling', 'history.depositors',\n       'history.year_of_origin', 'history.special_collection',\n       'legal_disclaimers.intended_use', 'legal_disclaimers.warranty',\n       'legal_disclaimers.disclaimers', 'characteristics.gender',\n       'characteristics.metastatic', 'handling_information.cryopreservation',\n       'characteristics.passage_history', 'media_id_supplier',\n       'growth_media_supplier', 'supplements_supplier',\n       'growth_properties_supplier', 'contaminated_supplier',\n       'contamination_details_supplier', 'model_purity', 'STR_analysis',\n       'morphological_features', 'virology_status'],\n      dtype='object')"
     },
     "execution_count": 222,
     "metadata": {},
     "output_type": "execute_result"
    }
   ],
   "source": [],
   "metadata": {
    "collapsed": false,
    "ExecuteTime": {
     "end_time": "2024-04-08T12:34:21.991237Z",
     "start_time": "2024-04-08T12:34:21.851154Z"
    }
   },
   "execution_count": 222
  },
  {
   "cell_type": "code",
   "outputs": [
    {
     "data": {
      "text/plain": "Index(['model_id', 'model_name', 'model_name_aliases', 'type', 'parent_id',\n       'origin_patient_sample_id', 'growth_properties', 'media_id',\n       'growth_media', 'plate_coating', 'other_plate_coating',\n       'passage_number', 'contaminated', 'contamination_details',\n       'supplements', 'drug', 'drug_concentration', 'publications', 'supplier',\n       'supplier_type', 'catalog_number', 'vendor_link', 'rrid',\n       'external_ids', 'comments'],\n      dtype='object')"
     },
     "execution_count": 221,
     "metadata": {},
     "output_type": "execute_result"
    }
   ],
   "source": [
    "cell_sheet.columns"
   ],
   "metadata": {
    "collapsed": false,
    "ExecuteTime": {
     "end_time": "2024-04-08T12:34:01.851274Z",
     "start_time": "2024-04-08T12:34:01.743187Z"
    }
   },
   "execution_count": 221
  },
  {
   "cell_type": "code",
   "outputs": [
    {
     "data": {
      "text/plain": "              model_id         model_name model_name_aliases  \\\n0    HCM-BROD-0011-C71  HCM-BROD-0011-C71       Not provided   \n1    HCM-BROD-0003-C71  HCM-BROD-0003-C71       Not provided   \n2    HCM-BROD-0012-C71  HCM-BROD-0012-C71       Not provided   \n3    HCM-BROD-0047-C71  HCM-BROD-0047-C71       Not provided   \n4    HCM-BROD-0029-C71  HCM-BROD-0029-C71       Not provided   \n..                 ...                ...                ...   \n226  HCM-BROD-0230-C25  HCM-BROD-0230-C25       Not provided   \n227  HCM-BROD-0019-C25  HCM-BROD-0019-C25       Not provided   \n228  HCM-BROD-0204-C25  HCM-BROD-0204-C25       Not provided   \n229  HCM-BROD-0594-C43  HCM-BROD-0594-C43       Not provided   \n230  HCM-BROD-0111-C25  HCM-BROD-0111-C25       Not provided   \n\n                                                  type parent_id  \\\n0    3-D: Other (e.g. neurosphere, air-liquid inter...       NaN   \n1                                            Cell Line       NaN   \n2                                            Cell Line       NaN   \n3                                            Cell Line       NaN   \n4    3-D: Other (e.g. neurosphere, air-liquid inter...       NaN   \n..                                                 ...       ...   \n226                                      3-D: Organoid       NaN   \n227                                      3-D: Organoid       NaN   \n228                                      3-D: Organoid       NaN   \n229                                          Cell Line       NaN   \n230                                      3-D: Organoid       NaN   \n\n    origin_patient_sample_id                growth_properties  \\\n0                        NaN  Mixed: suspension and aggregate   \n1                        NaN                         Adherent   \n2                        NaN                         Adherent   \n3                        NaN                         Adherent   \n4                        NaN  Mixed: suspension and aggregate   \n..                       ...                              ...   \n226                      NaN              Embedded 3D culture   \n227                      NaN              Embedded 3D culture   \n228                      NaN              Embedded 3D culture   \n229                      NaN                         Adherent   \n230                      NaN              Embedded 3D culture   \n\n                          media_id                               growth_media  \\\n0    Stem Cell Technologies - 5751  NeuroCult™ NS-A Proliferation Kit (Human)   \n1               Propagenix 256-100              Propagenix Conditioned Medium   \n2    Stem Cell Technologies - 5751  NeuroCult™ NS-A Proliferation Kit (Human)   \n3             Cellaria Bio CM-0001         Renaissance Essential Tumor Medium   \n4    Stem Cell Technologies - 5751  NeuroCult™ NS-A Proliferation Kit (Human)   \n..                             ...                                        ...   \n226                  ATCC ACS-7101                     Organoid Growth Kit 1B   \n227                  ATCC ACS-7101                     Organoid Growth Kit 1B   \n228                  ATCC ACS-7101                     Organoid Growth Kit 1B   \n229             Propagenix 256-100              Propagenix Conditioned Medium   \n230                  ATCC ACS-7101                     Organoid Growth Kit 1B   \n\n    plate_coating  ...          drug drug_concentration publications supplier  \\\n0    Not provided  ...  Not provided       Not provided          NaN     ATCC   \n1    Not provided  ...  Not provided       Not provided          NaN     ATCC   \n2    Not provided  ...  Not provided       Not provided          NaN     ATCC   \n3    Not provided  ...  Not provided       Not provided          NaN     ATCC   \n4    Not provided  ...  Not provided       Not provided          NaN     ATCC   \n..            ...  ...           ...                ...          ...      ...   \n226  Not provided  ...  Not provided       Not provided          NaN     ATCC   \n227  Not provided  ...  Not provided       Not provided          NaN     ATCC   \n228  Not provided  ...  Not provided       Not provided          NaN     ATCC   \n229  Not provided  ...  Not provided       Not provided          NaN     ATCC   \n230  Not provided  ...  Not provided       Not provided          NaN     ATCC   \n\n    supplier_type catalog_number                            vendor_link  \\\n0      Commercial         PDM-18   https://www.atcc.org/products/PDM-18   \n1      Commercial         PDM-17   https://www.atcc.org/products/PDM-17   \n2      Commercial         PDM-19   https://www.atcc.org/products/PDM-19   \n3      Commercial         PDM-23   https://www.atcc.org/products/PDM-23   \n4      Commercial         PDM-22   https://www.atcc.org/products/PDM-22   \n..            ...            ...                                    ...   \n226    Commercial        PDM-171  https://www.atcc.org/products/PDM-171   \n227    Commercial        PDM-166  https://www.atcc.org/products/PDM-166   \n228    Commercial        PDM-173  https://www.atcc.org/products/PDM-173   \n229    Commercial        PDM-495  https://www.atcc.org/products/PDM-495   \n230    Commercial        PDM-165  https://www.atcc.org/products/PDM-165   \n\n             rrid external_ids      comments  \n0    Not provided          NaN  Not provided  \n1    Not provided          NaN  Not provided  \n2    Not provided          NaN  Not provided  \n3    Not provided          NaN  Not provided  \n4    Not provided          NaN  Not provided  \n..            ...          ...           ...  \n226  Not provided          NaN  Not provided  \n227  Not provided          NaN  Not provided  \n228  Not provided          NaN  Not provided  \n229  Not provided          NaN  Not provided  \n230  Not provided          NaN  Not provided  \n\n[231 rows x 25 columns]",
      "text/html": "<div>\n<style scoped>\n    .dataframe tbody tr th:only-of-type {\n        vertical-align: middle;\n    }\n\n    .dataframe tbody tr th {\n        vertical-align: top;\n    }\n\n    .dataframe thead th {\n        text-align: right;\n    }\n</style>\n<table border=\"1\" class=\"dataframe\">\n  <thead>\n    <tr style=\"text-align: right;\">\n      <th></th>\n      <th>model_id</th>\n      <th>model_name</th>\n      <th>model_name_aliases</th>\n      <th>type</th>\n      <th>parent_id</th>\n      <th>origin_patient_sample_id</th>\n      <th>growth_properties</th>\n      <th>media_id</th>\n      <th>growth_media</th>\n      <th>plate_coating</th>\n      <th>...</th>\n      <th>drug</th>\n      <th>drug_concentration</th>\n      <th>publications</th>\n      <th>supplier</th>\n      <th>supplier_type</th>\n      <th>catalog_number</th>\n      <th>vendor_link</th>\n      <th>rrid</th>\n      <th>external_ids</th>\n      <th>comments</th>\n    </tr>\n  </thead>\n  <tbody>\n    <tr>\n      <th>0</th>\n      <td>HCM-BROD-0011-C71</td>\n      <td>HCM-BROD-0011-C71</td>\n      <td>Not provided</td>\n      <td>3-D: Other (e.g. neurosphere, air-liquid inter...</td>\n      <td>NaN</td>\n      <td>NaN</td>\n      <td>Mixed: suspension and aggregate</td>\n      <td>Stem Cell Technologies - 5751</td>\n      <td>NeuroCult™ NS-A Proliferation Kit (Human)</td>\n      <td>Not provided</td>\n      <td>...</td>\n      <td>Not provided</td>\n      <td>Not provided</td>\n      <td>NaN</td>\n      <td>ATCC</td>\n      <td>Commercial</td>\n      <td>PDM-18</td>\n      <td>https://www.atcc.org/products/PDM-18</td>\n      <td>Not provided</td>\n      <td>NaN</td>\n      <td>Not provided</td>\n    </tr>\n    <tr>\n      <th>1</th>\n      <td>HCM-BROD-0003-C71</td>\n      <td>HCM-BROD-0003-C71</td>\n      <td>Not provided</td>\n      <td>Cell Line</td>\n      <td>NaN</td>\n      <td>NaN</td>\n      <td>Adherent</td>\n      <td>Propagenix 256-100</td>\n      <td>Propagenix Conditioned Medium</td>\n      <td>Not provided</td>\n      <td>...</td>\n      <td>Not provided</td>\n      <td>Not provided</td>\n      <td>NaN</td>\n      <td>ATCC</td>\n      <td>Commercial</td>\n      <td>PDM-17</td>\n      <td>https://www.atcc.org/products/PDM-17</td>\n      <td>Not provided</td>\n      <td>NaN</td>\n      <td>Not provided</td>\n    </tr>\n    <tr>\n      <th>2</th>\n      <td>HCM-BROD-0012-C71</td>\n      <td>HCM-BROD-0012-C71</td>\n      <td>Not provided</td>\n      <td>Cell Line</td>\n      <td>NaN</td>\n      <td>NaN</td>\n      <td>Adherent</td>\n      <td>Stem Cell Technologies - 5751</td>\n      <td>NeuroCult™ NS-A Proliferation Kit (Human)</td>\n      <td>Not provided</td>\n      <td>...</td>\n      <td>Not provided</td>\n      <td>Not provided</td>\n      <td>NaN</td>\n      <td>ATCC</td>\n      <td>Commercial</td>\n      <td>PDM-19</td>\n      <td>https://www.atcc.org/products/PDM-19</td>\n      <td>Not provided</td>\n      <td>NaN</td>\n      <td>Not provided</td>\n    </tr>\n    <tr>\n      <th>3</th>\n      <td>HCM-BROD-0047-C71</td>\n      <td>HCM-BROD-0047-C71</td>\n      <td>Not provided</td>\n      <td>Cell Line</td>\n      <td>NaN</td>\n      <td>NaN</td>\n      <td>Adherent</td>\n      <td>Cellaria Bio CM-0001</td>\n      <td>Renaissance Essential Tumor Medium</td>\n      <td>Not provided</td>\n      <td>...</td>\n      <td>Not provided</td>\n      <td>Not provided</td>\n      <td>NaN</td>\n      <td>ATCC</td>\n      <td>Commercial</td>\n      <td>PDM-23</td>\n      <td>https://www.atcc.org/products/PDM-23</td>\n      <td>Not provided</td>\n      <td>NaN</td>\n      <td>Not provided</td>\n    </tr>\n    <tr>\n      <th>4</th>\n      <td>HCM-BROD-0029-C71</td>\n      <td>HCM-BROD-0029-C71</td>\n      <td>Not provided</td>\n      <td>3-D: Other (e.g. neurosphere, air-liquid inter...</td>\n      <td>NaN</td>\n      <td>NaN</td>\n      <td>Mixed: suspension and aggregate</td>\n      <td>Stem Cell Technologies - 5751</td>\n      <td>NeuroCult™ NS-A Proliferation Kit (Human)</td>\n      <td>Not provided</td>\n      <td>...</td>\n      <td>Not provided</td>\n      <td>Not provided</td>\n      <td>NaN</td>\n      <td>ATCC</td>\n      <td>Commercial</td>\n      <td>PDM-22</td>\n      <td>https://www.atcc.org/products/PDM-22</td>\n      <td>Not provided</td>\n      <td>NaN</td>\n      <td>Not provided</td>\n    </tr>\n    <tr>\n      <th>...</th>\n      <td>...</td>\n      <td>...</td>\n      <td>...</td>\n      <td>...</td>\n      <td>...</td>\n      <td>...</td>\n      <td>...</td>\n      <td>...</td>\n      <td>...</td>\n      <td>...</td>\n      <td>...</td>\n      <td>...</td>\n      <td>...</td>\n      <td>...</td>\n      <td>...</td>\n      <td>...</td>\n      <td>...</td>\n      <td>...</td>\n      <td>...</td>\n      <td>...</td>\n      <td>...</td>\n    </tr>\n    <tr>\n      <th>226</th>\n      <td>HCM-BROD-0230-C25</td>\n      <td>HCM-BROD-0230-C25</td>\n      <td>Not provided</td>\n      <td>3-D: Organoid</td>\n      <td>NaN</td>\n      <td>NaN</td>\n      <td>Embedded 3D culture</td>\n      <td>ATCC ACS-7101</td>\n      <td>Organoid Growth Kit 1B</td>\n      <td>Not provided</td>\n      <td>...</td>\n      <td>Not provided</td>\n      <td>Not provided</td>\n      <td>NaN</td>\n      <td>ATCC</td>\n      <td>Commercial</td>\n      <td>PDM-171</td>\n      <td>https://www.atcc.org/products/PDM-171</td>\n      <td>Not provided</td>\n      <td>NaN</td>\n      <td>Not provided</td>\n    </tr>\n    <tr>\n      <th>227</th>\n      <td>HCM-BROD-0019-C25</td>\n      <td>HCM-BROD-0019-C25</td>\n      <td>Not provided</td>\n      <td>3-D: Organoid</td>\n      <td>NaN</td>\n      <td>NaN</td>\n      <td>Embedded 3D culture</td>\n      <td>ATCC ACS-7101</td>\n      <td>Organoid Growth Kit 1B</td>\n      <td>Not provided</td>\n      <td>...</td>\n      <td>Not provided</td>\n      <td>Not provided</td>\n      <td>NaN</td>\n      <td>ATCC</td>\n      <td>Commercial</td>\n      <td>PDM-166</td>\n      <td>https://www.atcc.org/products/PDM-166</td>\n      <td>Not provided</td>\n      <td>NaN</td>\n      <td>Not provided</td>\n    </tr>\n    <tr>\n      <th>228</th>\n      <td>HCM-BROD-0204-C25</td>\n      <td>HCM-BROD-0204-C25</td>\n      <td>Not provided</td>\n      <td>3-D: Organoid</td>\n      <td>NaN</td>\n      <td>NaN</td>\n      <td>Embedded 3D culture</td>\n      <td>ATCC ACS-7101</td>\n      <td>Organoid Growth Kit 1B</td>\n      <td>Not provided</td>\n      <td>...</td>\n      <td>Not provided</td>\n      <td>Not provided</td>\n      <td>NaN</td>\n      <td>ATCC</td>\n      <td>Commercial</td>\n      <td>PDM-173</td>\n      <td>https://www.atcc.org/products/PDM-173</td>\n      <td>Not provided</td>\n      <td>NaN</td>\n      <td>Not provided</td>\n    </tr>\n    <tr>\n      <th>229</th>\n      <td>HCM-BROD-0594-C43</td>\n      <td>HCM-BROD-0594-C43</td>\n      <td>Not provided</td>\n      <td>Cell Line</td>\n      <td>NaN</td>\n      <td>NaN</td>\n      <td>Adherent</td>\n      <td>Propagenix 256-100</td>\n      <td>Propagenix Conditioned Medium</td>\n      <td>Not provided</td>\n      <td>...</td>\n      <td>Not provided</td>\n      <td>Not provided</td>\n      <td>NaN</td>\n      <td>ATCC</td>\n      <td>Commercial</td>\n      <td>PDM-495</td>\n      <td>https://www.atcc.org/products/PDM-495</td>\n      <td>Not provided</td>\n      <td>NaN</td>\n      <td>Not provided</td>\n    </tr>\n    <tr>\n      <th>230</th>\n      <td>HCM-BROD-0111-C25</td>\n      <td>HCM-BROD-0111-C25</td>\n      <td>Not provided</td>\n      <td>3-D: Organoid</td>\n      <td>NaN</td>\n      <td>NaN</td>\n      <td>Embedded 3D culture</td>\n      <td>ATCC ACS-7101</td>\n      <td>Organoid Growth Kit 1B</td>\n      <td>Not provided</td>\n      <td>...</td>\n      <td>Not provided</td>\n      <td>Not provided</td>\n      <td>NaN</td>\n      <td>ATCC</td>\n      <td>Commercial</td>\n      <td>PDM-165</td>\n      <td>https://www.atcc.org/products/PDM-165</td>\n      <td>Not provided</td>\n      <td>NaN</td>\n      <td>Not provided</td>\n    </tr>\n  </tbody>\n</table>\n<p>231 rows × 25 columns</p>\n</div>"
     },
     "execution_count": 224,
     "metadata": {},
     "output_type": "execute_result"
    }
   ],
   "source": [],
   "metadata": {
    "collapsed": false,
    "ExecuteTime": {
     "end_time": "2024-04-08T12:36:45.402480Z",
     "start_time": "2024-04-08T12:36:45.229387Z"
    }
   },
   "execution_count": 224
  },
  {
   "cell_type": "code",
   "outputs": [],
   "source": [],
   "metadata": {
    "collapsed": false,
    "ExecuteTime": {
     "end_time": "2024-04-08T12:38:28.915454Z",
     "start_time": "2024-04-08T12:38:28.747755Z"
    }
   },
   "execution_count": 226
  },
  {
   "cell_type": "code",
   "outputs": [],
   "source": [
    "mv_sheet = read_metadata_without_fields(join(home, 'BROD', 'BROD_metadata-model_validation.tsv'))\n",
    "mv_template = read_metadata_with_fields(join(home, 'BROD', 'BROD_metadata-model_validation.tsv')).iloc[0:4]\n",
    "x = merged[['model_id', 'morphological_features', 'STR_analysis', 'model_purity']]\n",
    "mv_sheet['model_id'] = merged['model_id']\n",
    "mv_sheet = mv_sheet.fillna('Not provided')\n",
    "mv_sheet['morphological_features'] = merged['morphological_features']\n",
    "mv_sheet['STR_analysis'] = merged['STR_analysis']\n",
    "mv_sheet['model_purity'] = merged['model_purity']\n",
    "pd.concat([mv_template, mv_sheet[mv_sheet.columns]]).reset_index(drop=True).to_csv(join(home, 'BROD', 'BROD_metadata-model_validation.tsv'), sep='\\t', index=False)"
   ],
   "metadata": {
    "collapsed": false,
    "ExecuteTime": {
     "end_time": "2024-04-08T12:57:15.735349Z",
     "start_time": "2024-04-08T12:57:15.614636Z"
    }
   },
   "execution_count": 227
  },
  {
   "cell_type": "code",
   "outputs": [],
   "source": [
    "patient_sheet = read_metadata_without_fields(join(home, 'BROD', 'BROD_metadata-patient.tsv'))\n",
    "patient_template = read_metadata_with_fields(join(home, 'BROD', 'BROD_metadata-patient.tsv')).iloc[0:4]\n",
    "patient_sheet['age_category'] = ['Adult' if int(r) > 21 else 'Paediatric' for r in patient_sheet['age_at_initial_diagnosis']]\n",
    "pd.concat([patient_template, patient_sheet[patient_sheet.columns]]).reset_index(drop=True).to_csv(join(home, 'BROD', 'BROD_metadata-patient.tsv'), sep='\\t', index=False)"
   ],
   "metadata": {
    "collapsed": false,
    "ExecuteTime": {
     "end_time": "2024-04-08T14:17:06.909909Z",
     "start_time": "2024-04-08T14:17:06.824992Z"
    }
   },
   "execution_count": 252
  },
  {
   "cell_type": "code",
   "outputs": [],
   "source": [
    "ps_sheet = read_metadata_without_fields(join(home, 'BROD', 'BROD_metadata-patient_sample.tsv'))\n",
    "ps_template = read_metadata_with_fields(join(home, 'BROD', 'BROD_metadata-patient_sample.tsv')).iloc[0:4]\n",
    "ps_sheet['virology_status'] = 'Not detected'\n",
    "pd.concat([ps_template, ps_sheet[ps_sheet.columns]]).reset_index(drop=True).to_csv(join(home, 'BROD', 'BROD_metadata-patient_sample.tsv'), sep='\\t', index=False)"
   ],
   "metadata": {
    "collapsed": false,
    "ExecuteTime": {
     "end_time": "2024-04-08T14:22:01.067377Z",
     "start_time": "2024-04-08T14:22:00.967018Z"
    }
   },
   "execution_count": 262
  },
  {
   "cell_type": "code",
   "outputs": [
    {
     "data": {
      "text/plain": "Index(['model_id', 'model_name', 'model_name_aliases', 'type', 'parent_id',\n       'origin_patient_sample_id', 'growth_properties_og', 'media_id_og',\n       'growth_media_og', 'plate_coating', 'other_plate_coating',\n       'passage_number', 'contaminated_og', 'contamination_details_og',\n       'supplements_og', 'drug', 'drug_concentration', 'publications',\n       'supplier', 'supplier_type', 'catalog_number', 'vendor_link', 'rrid',\n       'external_ids', 'comments', 'atcc', 'url',\n       'product_information.product_category',\n       'product_information.product_type', 'product_information.organism',\n       'product_information.morphology', 'product_information.tissue',\n       'product_information.disease', 'product_information.applications',\n       'product_information.product_format',\n       'product_information.storage_conditions',\n       'general.specific_applications', 'characteristics.cells_per_vial',\n       'characteristics.volume', 'characteristics.growth_properties',\n       'characteristics.clinical_data', 'characteristics.comments',\n       'handling_information.unpacking_and_storage_instructions',\n       'handling_information.complete_medium',\n       'handling_information.temperature', 'handling_information.atmosphere',\n       'handling_information.handling_procedure',\n       'handling_information.subculturing_procedure',\n       'handling_information.reagents_for_cryopreservation',\n       'quality_control_specifications.bacterial_and_fungal_testing',\n       'quality_control_specifications.mycoplasma_contamination',\n       'quality_control_specifications.virus_testing',\n       'quality_control_specifications.str_profiling', 'history.depositors',\n       'history.year_of_origin', 'history.special_collection',\n       'legal_disclaimers.intended_use', 'legal_disclaimers.warranty',\n       'legal_disclaimers.disclaimers', 'characteristics.gender',\n       'characteristics.metastatic', 'handling_information.cryopreservation',\n       'characteristics.passage_history', 'media_id_supplier',\n       'growth_media_supplier', 'supplements_supplier',\n       'growth_properties_supplier', 'contaminated_supplier',\n       'contamination_details_supplier', 'model_purity', 'STR_analysis',\n       'morphological_features', 'virology_status', 'growth_properties',\n       'media_id', 'growth_media', 'contaminated', 'contamination_details',\n       'supplements'],\n      dtype='object')"
     },
     "execution_count": 260,
     "metadata": {},
     "output_type": "execute_result"
    }
   ],
   "source": [
    "merged.columns"
   ],
   "metadata": {
    "collapsed": false,
    "ExecuteTime": {
     "end_time": "2024-04-08T14:20:45.194259Z",
     "start_time": "2024-04-08T14:20:45.122477Z"
    }
   },
   "execution_count": 260
  },
  {
   "cell_type": "code",
   "outputs": [
    {
     "data": {
      "text/plain": "              model_id virology_status\n0    HCM-BROD-0011-C71    Not detected\n1    HCM-BROD-0003-C71    Not detected\n2    HCM-BROD-0012-C71    Not detected\n3    HCM-BROD-0047-C71    Not detected\n4    HCM-BROD-0029-C71    Not detected\n..                 ...             ...\n226  HCM-BROD-0230-C25    Not detected\n227  HCM-BROD-0019-C25    Not detected\n228  HCM-BROD-0204-C25    Not detected\n229  HCM-BROD-0594-C43    Not detected\n230  HCM-BROD-0111-C25    Not detected\n\n[231 rows x 2 columns]",
      "text/html": "<div>\n<style scoped>\n    .dataframe tbody tr th:only-of-type {\n        vertical-align: middle;\n    }\n\n    .dataframe tbody tr th {\n        vertical-align: top;\n    }\n\n    .dataframe thead th {\n        text-align: right;\n    }\n</style>\n<table border=\"1\" class=\"dataframe\">\n  <thead>\n    <tr style=\"text-align: right;\">\n      <th></th>\n      <th>model_id</th>\n      <th>virology_status</th>\n    </tr>\n  </thead>\n  <tbody>\n    <tr>\n      <th>0</th>\n      <td>HCM-BROD-0011-C71</td>\n      <td>Not detected</td>\n    </tr>\n    <tr>\n      <th>1</th>\n      <td>HCM-BROD-0003-C71</td>\n      <td>Not detected</td>\n    </tr>\n    <tr>\n      <th>2</th>\n      <td>HCM-BROD-0012-C71</td>\n      <td>Not detected</td>\n    </tr>\n    <tr>\n      <th>3</th>\n      <td>HCM-BROD-0047-C71</td>\n      <td>Not detected</td>\n    </tr>\n    <tr>\n      <th>4</th>\n      <td>HCM-BROD-0029-C71</td>\n      <td>Not detected</td>\n    </tr>\n    <tr>\n      <th>...</th>\n      <td>...</td>\n      <td>...</td>\n    </tr>\n    <tr>\n      <th>226</th>\n      <td>HCM-BROD-0230-C25</td>\n      <td>Not detected</td>\n    </tr>\n    <tr>\n      <th>227</th>\n      <td>HCM-BROD-0019-C25</td>\n      <td>Not detected</td>\n    </tr>\n    <tr>\n      <th>228</th>\n      <td>HCM-BROD-0204-C25</td>\n      <td>Not detected</td>\n    </tr>\n    <tr>\n      <th>229</th>\n      <td>HCM-BROD-0594-C43</td>\n      <td>Not detected</td>\n    </tr>\n    <tr>\n      <th>230</th>\n      <td>HCM-BROD-0111-C25</td>\n      <td>Not detected</td>\n    </tr>\n  </tbody>\n</table>\n<p>231 rows × 2 columns</p>\n</div>"
     },
     "execution_count": 261,
     "metadata": {},
     "output_type": "execute_result"
    }
   ],
   "source": [
    "merged[['model_id', 'virology_status']]"
   ],
   "metadata": {
    "collapsed": false,
    "ExecuteTime": {
     "end_time": "2024-04-08T14:21:16.788264Z",
     "start_time": "2024-04-08T14:21:16.700017Z"
    }
   },
   "execution_count": 261
  },
  {
   "cell_type": "code",
   "outputs": [
    {
     "ename": "IndexError",
     "evalue": "list index out of range",
     "output_type": "error",
     "traceback": [
      "\u001B[0;31m---------------------------------------------------------------------------\u001B[0m",
      "\u001B[0;31mIndexError\u001B[0m                                Traceback (most recent call last)",
      "Cell \u001B[0;32mIn[266], line 1\u001B[0m\n\u001B[0;32m----> 1\u001B[0m cshl_atcc \u001B[38;5;241m=\u001B[39m \u001B[43mfetch_from_atcc\u001B[49m\u001B[43m(\u001B[49m\u001B[43mread_metadata_without_fields\u001B[49m\u001B[43m(\u001B[49m\u001B[43mjoin\u001B[49m\u001B[43m(\u001B[49m\u001B[43mhome\u001B[49m\u001B[43m,\u001B[49m\u001B[43m \u001B[49m\u001B[38;5;124;43m'\u001B[39;49m\u001B[38;5;124;43mCSHL\u001B[39;49m\u001B[38;5;124;43m'\u001B[39;49m\u001B[43m,\u001B[49m\u001B[43m \u001B[49m\u001B[38;5;124;43m'\u001B[39;49m\u001B[38;5;124;43mCSHL_metadata-cell_model.tsv\u001B[39;49m\u001B[38;5;124;43m'\u001B[39;49m\u001B[43m)\u001B[49m\u001B[43m)\u001B[49m\u001B[43m)\u001B[49m\n",
      "Cell \u001B[0;32mIn[263], line 41\u001B[0m, in \u001B[0;36mfetch_from_atcc\u001B[0;34m(in_vitro_models)\u001B[0m\n\u001B[1;32m     39\u001B[0m dt_elements \u001B[38;5;241m=\u001B[39m soup\u001B[38;5;241m.\u001B[39mfind_all(\u001B[38;5;124m'\u001B[39m\u001B[38;5;124mdt\u001B[39m\u001B[38;5;124m'\u001B[39m, class_\u001B[38;5;241m=\u001B[39m\u001B[38;5;124m'\u001B[39m\u001B[38;5;124mproduct-information__title\u001B[39m\u001B[38;5;124m'\u001B[39m)\n\u001B[1;32m     40\u001B[0m dd_elements \u001B[38;5;241m=\u001B[39m soup\u001B[38;5;241m.\u001B[39mfind_all(\u001B[38;5;124m'\u001B[39m\u001B[38;5;124mdd\u001B[39m\u001B[38;5;124m'\u001B[39m, class_\u001B[38;5;241m=\u001B[39m\u001B[38;5;124m'\u001B[39m\u001B[38;5;124mproduct-information__data\u001B[39m\u001B[38;5;124m'\u001B[39m)\n\u001B[0;32m---> 41\u001B[0m dt_values \u001B[38;5;241m=\u001B[39m [headers[i]\u001B[38;5;241m.\u001B[39mreplace(\u001B[38;5;124m'\u001B[39m\u001B[38;5;124m \u001B[39m\u001B[38;5;124m'\u001B[39m, \u001B[38;5;124m'\u001B[39m\u001B[38;5;124m_\u001B[39m\u001B[38;5;124m'\u001B[39m)\u001B[38;5;241m.\u001B[39mlower()\u001B[38;5;241m+\u001B[39m\u001B[38;5;124m'\u001B[39m\u001B[38;5;124m.\u001B[39m\u001B[38;5;124m'\u001B[39m\u001B[38;5;241m+\u001B[39mdt\u001B[38;5;241m.\u001B[39mget_text(strip\u001B[38;5;241m=\u001B[39m\u001B[38;5;28;01mTrue\u001B[39;00m)\u001B[38;5;241m.\u001B[39mreplace(\u001B[38;5;124m'\u001B[39m\u001B[38;5;124m \u001B[39m\u001B[38;5;124m'\u001B[39m, \u001B[38;5;124m'\u001B[39m\u001B[38;5;124m_\u001B[39m\u001B[38;5;124m'\u001B[39m)\u001B[38;5;241m.\u001B[39mlower() \u001B[38;5;28;01mfor\u001B[39;00m dt \u001B[38;5;129;01min\u001B[39;00m dt_elements]\n\u001B[1;32m     42\u001B[0m i \u001B[38;5;241m=\u001B[39m i\u001B[38;5;241m+\u001B[39m\u001B[38;5;241m1\u001B[39m\n\u001B[1;32m     43\u001B[0m dd_values \u001B[38;5;241m=\u001B[39m [dd\u001B[38;5;241m.\u001B[39mget_text(strip\u001B[38;5;241m=\u001B[39m\u001B[38;5;28;01mTrue\u001B[39;00m) \u001B[38;5;28;01mfor\u001B[39;00m dd \u001B[38;5;129;01min\u001B[39;00m dd_elements]\n",
      "Cell \u001B[0;32mIn[263], line 41\u001B[0m, in \u001B[0;36m<listcomp>\u001B[0;34m(.0)\u001B[0m\n\u001B[1;32m     39\u001B[0m dt_elements \u001B[38;5;241m=\u001B[39m soup\u001B[38;5;241m.\u001B[39mfind_all(\u001B[38;5;124m'\u001B[39m\u001B[38;5;124mdt\u001B[39m\u001B[38;5;124m'\u001B[39m, class_\u001B[38;5;241m=\u001B[39m\u001B[38;5;124m'\u001B[39m\u001B[38;5;124mproduct-information__title\u001B[39m\u001B[38;5;124m'\u001B[39m)\n\u001B[1;32m     40\u001B[0m dd_elements \u001B[38;5;241m=\u001B[39m soup\u001B[38;5;241m.\u001B[39mfind_all(\u001B[38;5;124m'\u001B[39m\u001B[38;5;124mdd\u001B[39m\u001B[38;5;124m'\u001B[39m, class_\u001B[38;5;241m=\u001B[39m\u001B[38;5;124m'\u001B[39m\u001B[38;5;124mproduct-information__data\u001B[39m\u001B[38;5;124m'\u001B[39m)\n\u001B[0;32m---> 41\u001B[0m dt_values \u001B[38;5;241m=\u001B[39m [\u001B[43mheaders\u001B[49m\u001B[43m[\u001B[49m\u001B[43mi\u001B[49m\u001B[43m]\u001B[49m\u001B[38;5;241m.\u001B[39mreplace(\u001B[38;5;124m'\u001B[39m\u001B[38;5;124m \u001B[39m\u001B[38;5;124m'\u001B[39m, \u001B[38;5;124m'\u001B[39m\u001B[38;5;124m_\u001B[39m\u001B[38;5;124m'\u001B[39m)\u001B[38;5;241m.\u001B[39mlower()\u001B[38;5;241m+\u001B[39m\u001B[38;5;124m'\u001B[39m\u001B[38;5;124m.\u001B[39m\u001B[38;5;124m'\u001B[39m\u001B[38;5;241m+\u001B[39mdt\u001B[38;5;241m.\u001B[39mget_text(strip\u001B[38;5;241m=\u001B[39m\u001B[38;5;28;01mTrue\u001B[39;00m)\u001B[38;5;241m.\u001B[39mreplace(\u001B[38;5;124m'\u001B[39m\u001B[38;5;124m \u001B[39m\u001B[38;5;124m'\u001B[39m, \u001B[38;5;124m'\u001B[39m\u001B[38;5;124m_\u001B[39m\u001B[38;5;124m'\u001B[39m)\u001B[38;5;241m.\u001B[39mlower() \u001B[38;5;28;01mfor\u001B[39;00m dt \u001B[38;5;129;01min\u001B[39;00m dt_elements]\n\u001B[1;32m     42\u001B[0m i \u001B[38;5;241m=\u001B[39m i\u001B[38;5;241m+\u001B[39m\u001B[38;5;241m1\u001B[39m\n\u001B[1;32m     43\u001B[0m dd_values \u001B[38;5;241m=\u001B[39m [dd\u001B[38;5;241m.\u001B[39mget_text(strip\u001B[38;5;241m=\u001B[39m\u001B[38;5;28;01mTrue\u001B[39;00m) \u001B[38;5;28;01mfor\u001B[39;00m dd \u001B[38;5;129;01min\u001B[39;00m dd_elements]\n",
      "\u001B[0;31mIndexError\u001B[0m: list index out of range"
     ]
    }
   ],
   "source": [
    "cshl_atcc = fetch_from_atcc(read_metadata_without_fields(join(home, 'CSHL', 'CSHL_metadata-cell_model.tsv')))"
   ],
   "metadata": {
    "collapsed": false,
    "ExecuteTime": {
     "end_time": "2024-04-09T08:57:49.726809Z",
     "start_time": "2024-04-09T08:47:26.269739Z"
    }
   },
   "execution_count": 266
  },
  {
   "cell_type": "code",
   "outputs": [],
   "source": [
    "in_vitro_models = read_metadata_without_fields(join(home, 'CSHL', 'CSHL_metadata-cell_model.tsv'))"
   ],
   "metadata": {
    "collapsed": false,
    "ExecuteTime": {
     "end_time": "2024-04-09T08:59:39.309074Z",
     "start_time": "2024-04-09T08:59:39.176887Z"
    }
   },
   "execution_count": 267
  },
  {
   "cell_type": "code",
   "outputs": [],
   "source": [
    "chrome_options = webdriver.ChromeOptions()\n",
    "chrome_options.add_argument(\"--headless\")  # Run Chrome in headless mode if desired\n",
    "chrome_options.add_argument('--no-sandbox')\n",
    "chrome_options.add_argument('--disable-dev-shm-usage')\n",
    "driver = webdriver.Chrome(service=Service(ChromeDriverManager().install()), options=chrome_options)\n",
    "first = True\n",
    "text = pd.DataFrame()\n",
    "#attributes = list()\n",
    "for url in in_vitro_models['vendor_link'].str.lower():\n",
    "    if url == 'not provided':\n",
    "        continue\n",
    "    driver.get(url)\n",
    "    if first:\n",
    "        WebDriverWait(driver, 10).until(EC.presence_of_element_located((By.XPATH, \"//a[text()='Allow all cookies']\"))).click()\n",
    "        first = False\n",
    "    #print('Expand')\n",
    "    sleep(2)\n",
    "    WebDriverWait(driver, 30).until(EC.presence_of_element_located((By.XPATH, \"//a[contains(text(), 'Expand all')]\"))).click()\n",
    "    headers = list()\n",
    "    h3 = driver.find_elements(By.XPATH, \"//h3\")\n",
    "    append_it = False\n",
    "    for h in h3:\n",
    "        if len(headers) == 0:\n",
    "            headers.append('Product Information')\n",
    "        if h.text == \"General\" or h.text == 'Characteristics' or append_it:\n",
    "            headers.append(h.text)\n",
    "            append_it = True\n",
    "        if h.text == \"Legal disclaimers\":\n",
    "            append_it = False\n",
    "\n",
    "    dls = driver.find_elements(By.XPATH, \"//dl\")\n",
    "    i = 0\n",
    "    df = pd.DataFrame()\n",
    "    df['atcc'] = [url.replace('https://www.atcc.org/products/', '').upper()]\n",
    "    df['url'] = url\n",
    "    for dl in dls:\n",
    "        soup = BeautifulSoup(dl.get_attribute(\"outerHTML\"), 'html.parser')\n",
    "        dt_elements = soup.find_all('dt', class_='product-information__title')\n",
    "        dd_elements = soup.find_all('dd', class_='product-information__data')\n",
    "        dt_values = [headers[i].replace(' ', '_').lower()+'.'+dt.get_text(strip=True).replace(' ', '_').lower() for dt in dt_elements]\n",
    "        i = i+1\n",
    "        dd_values = [dd.get_text(strip=True) for dd in dd_elements]\n",
    "        for j in range(len(dt_values)):\n",
    "            df[dt_values[j]] = dd_values[j]  \n",
    "    text = pd.concat([text, df]).reset_index(drop=True)\n",
    "driver.quit()"
   ],
   "metadata": {
    "collapsed": false,
    "ExecuteTime": {
     "end_time": "2024-04-09T09:43:08.677691Z",
     "start_time": "2024-04-09T09:23:26.547748Z"
    }
   },
   "execution_count": 278
  },
  {
   "cell_type": "code",
   "outputs": [
    {
     "data": {
      "text/plain": "       atcc                                    url  \\\n0     PDM-1    https://www.atcc.org/products/pdm-1   \n1     PDM-2    https://www.atcc.org/products/pdm-2   \n2     PDM-6    https://www.atcc.org/products/pdm-6   \n3     PDM-7    https://www.atcc.org/products/pdm-7   \n4     PDM-5    https://www.atcc.org/products/pdm-5   \n..      ...                                    ...   \n93  PDM-528  https://www.atcc.org/products/pdm-528   \n94  PDM-440  https://www.atcc.org/products/pdm-440   \n95  PDM-589  https://www.atcc.org/products/pdm-589   \n96  PDM-411  https://www.atcc.org/products/pdm-411   \n97  PDM-431  https://www.atcc.org/products/pdm-431   \n\n   product_information.product_category product_information.product_type  \\\n0                           Human cells               Cell modelOrganoid   \n1                           Human cells               Cell modelOrganoid   \n2                           Human cells               Cell modelOrganoid   \n3                           Human cells               Cell modelOrganoid   \n4                           Human cells               Cell modelOrganoid   \n..                                  ...                              ...   \n93                          Human cells               Cell modelOrganoid   \n94                          Human cells               Cell modelOrganoid   \n95                          Human cells               Cell modelOrganoid   \n96                          Human cells               Cell modelOrganoid   \n97                          Human cells               Cell modelOrganoid   \n\n   product_information.organism product_information.morphology  \\\n0           Homo sapiens, human                       organoid   \n1           Homo sapiens, human                       organoid   \n2           Homo sapiens, human                       organoid   \n3           Homo sapiens, human                       organoid   \n4           Homo sapiens, human                       organoid   \n..                          ...                            ...   \n93          Homo sapiens, human                       Organoid   \n94          Homo sapiens, human                       organoid   \n95          Homo sapiens, human                       organoid   \n96          Homo sapiens, human                       organoid   \n97          Homo sapiens, human                       organoid   \n\n                product_information.tissue product_information.disease  \\\n0                   Large intestine; Cecum     Adenocarcinoma; Primary   \n1           Large intestine; Sigmoid colon     Adenocarcinoma; Primary   \n2   Large intestine; Rectosigmoid junction     Adenocarcinoma; Primary   \n3           Large intestine; Sigmoid colon     Adenocarcinoma; Primary   \n4           Large intestine; Sigmoid colon     Adenocarcinoma; Primary   \n..                                     ...                         ...   \n93                                  Uterus             Cancer; Primary   \n94                                    Neck             Cancer; Primary   \n95                     Uterus; Endometrium             Cancer; Primary   \n96                                  Breast          Cancer; Metastatic   \n97                                    Neck             Cancer; Primary   \n\n   product_information.applications product_information.product_format  ...  \\\n0    3D cell cultureCancer research                             Frozen  ...   \n1    3D cell cultureCancer research                             Frozen  ...   \n2    3D cell cultureCancer research                             Frozen  ...   \n3    3D cell cultureCancer research                             Frozen  ...   \n4    3D cell cultureCancer research                             Frozen  ...   \n..                              ...                                ...  ...   \n93   Cancer research3D cell culture                             Frozen  ...   \n94   3D cell cultureCancer research                             Frozen  ...   \n95   3D cell cultureCancer research                             Frozen  ...   \n96   3D cell cultureCancer research                             Frozen  ...   \n97   3D cell cultureCancer research                             Frozen  ...   \n\n   quality_control_specifications.mycoplasma_contamination  \\\n0                                        Not detected        \n1                                        Not detected        \n2                                        Not detected        \n3                                        Not detected        \n4                                        Not detected        \n..                                                ...        \n93                                       Not detected        \n94                                       Not detected        \n95                                       Not detected        \n96                                       Not detected        \n97                                       Not detected        \n\n         quality_control_specifications.virus_testing  \\\n0   Cytomegalovirus (CMV): Not detectedHuman papil...   \n1   Cytomegalovirus (CMV): Not detectedHuman papil...   \n2   Cytomegalovirus (CMV): Not detectedHuman papil...   \n3   Cytomegalovirus (CMV): Not detectedHuman papil...   \n4   Cytomegalovirus (CMV): Not detectedHuman papil...   \n..                                                ...   \n93  Cytomegalovirus (CMV): Not detectedEpstein-Bar...   \n94  Cytomegalovirus (CMV): Not detectedEpstein-Bar...   \n95  Cytomegalovirus (CMV): Not detectedEpstein-Bar...   \n96  Cytomegalovirus (CMV): Not detectedEpstein-Bar...   \n97  Cytomegalovirus (CMV): Not detectedEpstein-Bar...   \n\n               history.depositors history.year_of_origin  \\\n0   Cold Spring Harbor Laboratory                   2017   \n1   Cold Spring Harbor Laboratory                   2017   \n2   Cold Spring Harbor Laboratory                   2017   \n3   Cold Spring Harbor Laboratory                   2017   \n4   Cold Spring Harbor Laboratory                   2017   \n..                            ...                    ...   \n93  Cold Spring Harbor Laboratory                   2021   \n94  Cold Spring Harbor Laboratory                   2022   \n95  Cold Spring Harbor Laboratory                   2021   \n96  Cold Spring Harbor Laboratory                   2021   \n97  Cold Spring Harbor Laboratory                   2021   \n\n               history.special_collection  \\\n0   Human Cancer Models Initiative (HCMI)   \n1   Human Cancer Models Initiative (HCMI)   \n2   Human Cancer Models Initiative (HCMI)   \n3   Human Cancer Models Initiative (HCMI)   \n4   Human Cancer Models Initiative (HCMI)   \n..                                    ...   \n93  Human Cancer Models Initiative (HCMI)   \n94  Human Cancer Models Initiative (HCMI)   \n95  Human Cancer Models Initiative (HCMI)   \n96  Human Cancer Models Initiative (HCMI)   \n97  Human Cancer Models Initiative (HCMI)   \n\n                       legal_disclaimers.intended_use  \\\n0   This product is intended for laboratory resear...   \n1   This product is intended for laboratory resear...   \n2   This product is intended for laboratory resear...   \n3   This product is intended for laboratory resear...   \n4   This product is intended for laboratory resear...   \n..                                                ...   \n93  This product is intended for laboratory resear...   \n94  This product is intended for laboratory resear...   \n95  This product is intended for laboratory resear...   \n96  This product is intended for laboratory resear...   \n97  This product is intended for laboratory resear...   \n\n                           legal_disclaimers.warranty  \\\n0   The product is provided 'AS IS' and the viabil...   \n1   The product is provided 'AS IS' and the viabil...   \n2   The product is provided 'AS IS' and the viabil...   \n3   The product is provided 'AS IS' and the viabil...   \n4   The product is provided 'AS IS' and the viabil...   \n..                                                ...   \n93  The product is provided 'AS IS' and the viabil...   \n94  The product is provided 'AS IS' and the viabil...   \n95  The product is provided 'AS IS' and the viabil...   \n96  The product is provided 'AS IS' and the viabil...   \n97  The product is provided 'AS IS' and the viabil...   \n\n                        legal_disclaimers.disclaimers  \\\n0   This product is intended for laboratory resear...   \n1   This product is intended for laboratory resear...   \n2   This product is intended for laboratory resear...   \n3   This product is intended for laboratory resear...   \n4   This product is intended for laboratory resear...   \n..                                                ...   \n93  This product is intended for laboratory resear...   \n94  This product is intended for laboratory resear...   \n95  This product is intended for laboratory resear...   \n96  This product is intended for laboratory resear...   \n97  This product is intended for laboratory resear...   \n\n   characteristics.metastatic characteristics.oncogene  \n0                         NaN                      NaN  \n1                         NaN                      NaN  \n2                         NaN                      NaN  \n3                         NaN                      NaN  \n4                         NaN                      NaN  \n..                        ...                      ...  \n93                        NaN                      NaN  \n94                        NaN                      NaN  \n95                        NaN                      NaN  \n96                        NaN                      NaN  \n97                        NaN                      NaN  \n\n[98 rows x 37 columns]",
      "text/html": "<div>\n<style scoped>\n    .dataframe tbody tr th:only-of-type {\n        vertical-align: middle;\n    }\n\n    .dataframe tbody tr th {\n        vertical-align: top;\n    }\n\n    .dataframe thead th {\n        text-align: right;\n    }\n</style>\n<table border=\"1\" class=\"dataframe\">\n  <thead>\n    <tr style=\"text-align: right;\">\n      <th></th>\n      <th>atcc</th>\n      <th>url</th>\n      <th>product_information.product_category</th>\n      <th>product_information.product_type</th>\n      <th>product_information.organism</th>\n      <th>product_information.morphology</th>\n      <th>product_information.tissue</th>\n      <th>product_information.disease</th>\n      <th>product_information.applications</th>\n      <th>product_information.product_format</th>\n      <th>...</th>\n      <th>quality_control_specifications.mycoplasma_contamination</th>\n      <th>quality_control_specifications.virus_testing</th>\n      <th>history.depositors</th>\n      <th>history.year_of_origin</th>\n      <th>history.special_collection</th>\n      <th>legal_disclaimers.intended_use</th>\n      <th>legal_disclaimers.warranty</th>\n      <th>legal_disclaimers.disclaimers</th>\n      <th>characteristics.metastatic</th>\n      <th>characteristics.oncogene</th>\n    </tr>\n  </thead>\n  <tbody>\n    <tr>\n      <th>0</th>\n      <td>PDM-1</td>\n      <td>https://www.atcc.org/products/pdm-1</td>\n      <td>Human cells</td>\n      <td>Cell modelOrganoid</td>\n      <td>Homo sapiens, human</td>\n      <td>organoid</td>\n      <td>Large intestine; Cecum</td>\n      <td>Adenocarcinoma; Primary</td>\n      <td>3D cell cultureCancer research</td>\n      <td>Frozen</td>\n      <td>...</td>\n      <td>Not detected</td>\n      <td>Cytomegalovirus (CMV): Not detectedHuman papil...</td>\n      <td>Cold Spring Harbor Laboratory</td>\n      <td>2017</td>\n      <td>Human Cancer Models Initiative (HCMI)</td>\n      <td>This product is intended for laboratory resear...</td>\n      <td>The product is provided 'AS IS' and the viabil...</td>\n      <td>This product is intended for laboratory resear...</td>\n      <td>NaN</td>\n      <td>NaN</td>\n    </tr>\n    <tr>\n      <th>1</th>\n      <td>PDM-2</td>\n      <td>https://www.atcc.org/products/pdm-2</td>\n      <td>Human cells</td>\n      <td>Cell modelOrganoid</td>\n      <td>Homo sapiens, human</td>\n      <td>organoid</td>\n      <td>Large intestine; Sigmoid colon</td>\n      <td>Adenocarcinoma; Primary</td>\n      <td>3D cell cultureCancer research</td>\n      <td>Frozen</td>\n      <td>...</td>\n      <td>Not detected</td>\n      <td>Cytomegalovirus (CMV): Not detectedHuman papil...</td>\n      <td>Cold Spring Harbor Laboratory</td>\n      <td>2017</td>\n      <td>Human Cancer Models Initiative (HCMI)</td>\n      <td>This product is intended for laboratory resear...</td>\n      <td>The product is provided 'AS IS' and the viabil...</td>\n      <td>This product is intended for laboratory resear...</td>\n      <td>NaN</td>\n      <td>NaN</td>\n    </tr>\n    <tr>\n      <th>2</th>\n      <td>PDM-6</td>\n      <td>https://www.atcc.org/products/pdm-6</td>\n      <td>Human cells</td>\n      <td>Cell modelOrganoid</td>\n      <td>Homo sapiens, human</td>\n      <td>organoid</td>\n      <td>Large intestine; Rectosigmoid junction</td>\n      <td>Adenocarcinoma; Primary</td>\n      <td>3D cell cultureCancer research</td>\n      <td>Frozen</td>\n      <td>...</td>\n      <td>Not detected</td>\n      <td>Cytomegalovirus (CMV): Not detectedHuman papil...</td>\n      <td>Cold Spring Harbor Laboratory</td>\n      <td>2017</td>\n      <td>Human Cancer Models Initiative (HCMI)</td>\n      <td>This product is intended for laboratory resear...</td>\n      <td>The product is provided 'AS IS' and the viabil...</td>\n      <td>This product is intended for laboratory resear...</td>\n      <td>NaN</td>\n      <td>NaN</td>\n    </tr>\n    <tr>\n      <th>3</th>\n      <td>PDM-7</td>\n      <td>https://www.atcc.org/products/pdm-7</td>\n      <td>Human cells</td>\n      <td>Cell modelOrganoid</td>\n      <td>Homo sapiens, human</td>\n      <td>organoid</td>\n      <td>Large intestine; Sigmoid colon</td>\n      <td>Adenocarcinoma; Primary</td>\n      <td>3D cell cultureCancer research</td>\n      <td>Frozen</td>\n      <td>...</td>\n      <td>Not detected</td>\n      <td>Cytomegalovirus (CMV): Not detectedHuman papil...</td>\n      <td>Cold Spring Harbor Laboratory</td>\n      <td>2017</td>\n      <td>Human Cancer Models Initiative (HCMI)</td>\n      <td>This product is intended for laboratory resear...</td>\n      <td>The product is provided 'AS IS' and the viabil...</td>\n      <td>This product is intended for laboratory resear...</td>\n      <td>NaN</td>\n      <td>NaN</td>\n    </tr>\n    <tr>\n      <th>4</th>\n      <td>PDM-5</td>\n      <td>https://www.atcc.org/products/pdm-5</td>\n      <td>Human cells</td>\n      <td>Cell modelOrganoid</td>\n      <td>Homo sapiens, human</td>\n      <td>organoid</td>\n      <td>Large intestine; Sigmoid colon</td>\n      <td>Adenocarcinoma; Primary</td>\n      <td>3D cell cultureCancer research</td>\n      <td>Frozen</td>\n      <td>...</td>\n      <td>Not detected</td>\n      <td>Cytomegalovirus (CMV): Not detectedHuman papil...</td>\n      <td>Cold Spring Harbor Laboratory</td>\n      <td>2017</td>\n      <td>Human Cancer Models Initiative (HCMI)</td>\n      <td>This product is intended for laboratory resear...</td>\n      <td>The product is provided 'AS IS' and the viabil...</td>\n      <td>This product is intended for laboratory resear...</td>\n      <td>NaN</td>\n      <td>NaN</td>\n    </tr>\n    <tr>\n      <th>...</th>\n      <td>...</td>\n      <td>...</td>\n      <td>...</td>\n      <td>...</td>\n      <td>...</td>\n      <td>...</td>\n      <td>...</td>\n      <td>...</td>\n      <td>...</td>\n      <td>...</td>\n      <td>...</td>\n      <td>...</td>\n      <td>...</td>\n      <td>...</td>\n      <td>...</td>\n      <td>...</td>\n      <td>...</td>\n      <td>...</td>\n      <td>...</td>\n      <td>...</td>\n      <td>...</td>\n    </tr>\n    <tr>\n      <th>93</th>\n      <td>PDM-528</td>\n      <td>https://www.atcc.org/products/pdm-528</td>\n      <td>Human cells</td>\n      <td>Cell modelOrganoid</td>\n      <td>Homo sapiens, human</td>\n      <td>Organoid</td>\n      <td>Uterus</td>\n      <td>Cancer; Primary</td>\n      <td>Cancer research3D cell culture</td>\n      <td>Frozen</td>\n      <td>...</td>\n      <td>Not detected</td>\n      <td>Cytomegalovirus (CMV): Not detectedEpstein-Bar...</td>\n      <td>Cold Spring Harbor Laboratory</td>\n      <td>2021</td>\n      <td>Human Cancer Models Initiative (HCMI)</td>\n      <td>This product is intended for laboratory resear...</td>\n      <td>The product is provided 'AS IS' and the viabil...</td>\n      <td>This product is intended for laboratory resear...</td>\n      <td>NaN</td>\n      <td>NaN</td>\n    </tr>\n    <tr>\n      <th>94</th>\n      <td>PDM-440</td>\n      <td>https://www.atcc.org/products/pdm-440</td>\n      <td>Human cells</td>\n      <td>Cell modelOrganoid</td>\n      <td>Homo sapiens, human</td>\n      <td>organoid</td>\n      <td>Neck</td>\n      <td>Cancer; Primary</td>\n      <td>3D cell cultureCancer research</td>\n      <td>Frozen</td>\n      <td>...</td>\n      <td>Not detected</td>\n      <td>Cytomegalovirus (CMV): Not detectedEpstein-Bar...</td>\n      <td>Cold Spring Harbor Laboratory</td>\n      <td>2022</td>\n      <td>Human Cancer Models Initiative (HCMI)</td>\n      <td>This product is intended for laboratory resear...</td>\n      <td>The product is provided 'AS IS' and the viabil...</td>\n      <td>This product is intended for laboratory resear...</td>\n      <td>NaN</td>\n      <td>NaN</td>\n    </tr>\n    <tr>\n      <th>95</th>\n      <td>PDM-589</td>\n      <td>https://www.atcc.org/products/pdm-589</td>\n      <td>Human cells</td>\n      <td>Cell modelOrganoid</td>\n      <td>Homo sapiens, human</td>\n      <td>organoid</td>\n      <td>Uterus; Endometrium</td>\n      <td>Cancer; Primary</td>\n      <td>3D cell cultureCancer research</td>\n      <td>Frozen</td>\n      <td>...</td>\n      <td>Not detected</td>\n      <td>Cytomegalovirus (CMV): Not detectedEpstein-Bar...</td>\n      <td>Cold Spring Harbor Laboratory</td>\n      <td>2021</td>\n      <td>Human Cancer Models Initiative (HCMI)</td>\n      <td>This product is intended for laboratory resear...</td>\n      <td>The product is provided 'AS IS' and the viabil...</td>\n      <td>This product is intended for laboratory resear...</td>\n      <td>NaN</td>\n      <td>NaN</td>\n    </tr>\n    <tr>\n      <th>96</th>\n      <td>PDM-411</td>\n      <td>https://www.atcc.org/products/pdm-411</td>\n      <td>Human cells</td>\n      <td>Cell modelOrganoid</td>\n      <td>Homo sapiens, human</td>\n      <td>organoid</td>\n      <td>Breast</td>\n      <td>Cancer; Metastatic</td>\n      <td>3D cell cultureCancer research</td>\n      <td>Frozen</td>\n      <td>...</td>\n      <td>Not detected</td>\n      <td>Cytomegalovirus (CMV): Not detectedEpstein-Bar...</td>\n      <td>Cold Spring Harbor Laboratory</td>\n      <td>2021</td>\n      <td>Human Cancer Models Initiative (HCMI)</td>\n      <td>This product is intended for laboratory resear...</td>\n      <td>The product is provided 'AS IS' and the viabil...</td>\n      <td>This product is intended for laboratory resear...</td>\n      <td>NaN</td>\n      <td>NaN</td>\n    </tr>\n    <tr>\n      <th>97</th>\n      <td>PDM-431</td>\n      <td>https://www.atcc.org/products/pdm-431</td>\n      <td>Human cells</td>\n      <td>Cell modelOrganoid</td>\n      <td>Homo sapiens, human</td>\n      <td>organoid</td>\n      <td>Neck</td>\n      <td>Cancer; Primary</td>\n      <td>3D cell cultureCancer research</td>\n      <td>Frozen</td>\n      <td>...</td>\n      <td>Not detected</td>\n      <td>Cytomegalovirus (CMV): Not detectedEpstein-Bar...</td>\n      <td>Cold Spring Harbor Laboratory</td>\n      <td>2021</td>\n      <td>Human Cancer Models Initiative (HCMI)</td>\n      <td>This product is intended for laboratory resear...</td>\n      <td>The product is provided 'AS IS' and the viabil...</td>\n      <td>This product is intended for laboratory resear...</td>\n      <td>NaN</td>\n      <td>NaN</td>\n    </tr>\n  </tbody>\n</table>\n<p>98 rows × 37 columns</p>\n</div>"
     },
     "execution_count": 279,
     "metadata": {},
     "output_type": "execute_result"
    }
   ],
   "source": [
    "text"
   ],
   "metadata": {
    "collapsed": false,
    "ExecuteTime": {
     "end_time": "2024-04-09T09:45:59.515440Z",
     "start_time": "2024-04-09T09:45:59.402642Z"
    }
   },
   "execution_count": 279
  },
  {
   "cell_type": "code",
   "outputs": [
    {
     "data": {
      "text/plain": "array(['To prepare the complete medium for this organoid please refer to theOrganoid Media Formulation #1.ATCC offers the recombinant proteins, small molecules and other supplements to make this complete medium; CoreKit 1A (ATCC ACS-7100) provides these supplements in convenient, pre-portioned, ready-to-reconstitute format that does not require aliquoting or storage once prepared.',\n       'To prepare the complete medium for this organoid please refer to theOrganoid Media Formulation #3.ATCC offers the recombinant proteins, small molecules and other supplements to make this complete medium; CoreKit 1B (ATCC ACS-7101) provides these supplements in convenient, pre-portioned, ready-to-reconstitute format that does not require aliquoting or storage once prepared.',\n       'To prepare the complete medium for this organoid please refer to theOrganoid Media Formulation #2. ATCC offers the recombinant proteins, small molecules and other supplements to make this complete medium; CoreKit 1C (ATCC ACS-7102) provides these supplements in convenient, pre-portioned, ready-to-reconstitute format that does not require aliquoting or storage once prepared.',\n       'To prepare the complete medium for this organoid model please refer to theOrganoid Media Formulation #6. ATCC offers the recombinant proteins, small molecules and other supplements to make this complete medium; CoreKit 1G (ATCC ACS-7106) provides these supplements in convenient, pre-portioned, ready-to-reconstitute format that does not require aliquoting or storage once prepared.',\n       'To prepare the complete medium for this organoid model please refer to theOrganoid Media Formulation #8.ATCC offers the recombinant proteins, small molecules and other supplements to make this complete medium; CoreKit 1F (ATCC ACS-7105) provides these supplements in convenient, pre-portioned, ready-to-reconstitute format that does not require aliquoting or storage once prepared.',\n       'To prepare the complete medium for this organoid please refer to theOrganoid Media Formulation #3.',\n       'To prepare the complete medium for this organoid model please refer to theOrganoid Media Formulation #6.ATCC offers the recombinant proteins, small molecules and other supplements to make this complete medium; CoreKit 1G (ATCC ACS-7106) provides these supplements in convenient, pre-portioned, ready-to-reconstitute format that does not require aliquoting or storage once prepared.',\n       'To prepare the complete medium for this organoid please refer to theOrganoid Media Formulation #1.',\n       'To prepare the complete medium for this organoid model please refer to theOrganoid Media Formulation #3.ATCC offers the recombinant proteins, small molecules and other supplements to make this complete medium; CoreKit 1B (ATCC ACS-7101) provides these supplements in convenient, pre-portioned, ready-to-reconstitute format that does not require aliquoting or storage once prepared.',\n       'To prepare the complete medium for this organoid please refer to theOrganoid Media Formulation #8.ATCC offers the recombinant proteins, small molecules and other supplements to make this complete medium; CoreKit 1F (ATCC ACS-7105) provides these supplements in convenient, pre-portioned, ready-to-reconstitute format that does not require aliquoting or storage once prepared.',\n       'To prepare the complete medium for this organoid model please refer to theOrganoid Media Formulation #3.',\n       'To prepare the complete medium for this organoid model please refer to theOrganoid Media Formulation #3.ATCC offers the recombinant proteins, small molecules and other supplements to make this complete medium; Organoid Growth Kit 1B (ATCC ACS-7101) provides these supplements in convenient, pre-portioned, ready-to-reconstitute format that does not require aliquoting or storage once prepared.',\n       'To prepare the complete medium for this organoid model please refer to theOrganoid Media Formulation #3.ATCC offers the recombinant proteins, small molecules and other supplements to make this complete medium; Organoid Media Kit 1B (ATCC ACS-7101) provides these supplements in convenient, pre-portioned, ready-to-reconstitute format that does not require aliquoting or storage once prepared.',\n       'To prepare the complete medium for this organoid model please refer to theOrganoid Media Formulation #11.',\n       'To prepare the complete medium for this organoid model please refer to theOrganoid Media Formulation #12.'],\n      dtype=object)"
     },
     "execution_count": 280,
     "metadata": {},
     "output_type": "execute_result"
    }
   ],
   "source": [
    "text['handling_information.complete_medium'].unique()"
   ],
   "metadata": {
    "collapsed": false,
    "ExecuteTime": {
     "end_time": "2024-04-09T09:46:46.503994Z",
     "start_time": "2024-04-09T09:46:46.402283Z"
    }
   },
   "execution_count": 280
  },
  {
   "cell_type": "code",
   "outputs": [
    {
     "data": {
      "text/plain": "array(['https://www.atcc.org/products/pdm-428',\n       'https://www.atcc.org/products/pdm-440',\n       'https://www.atcc.org/products/pdm-431'], dtype=object)"
     },
     "execution_count": 304,
     "metadata": {},
     "output_type": "execute_result"
    }
   ],
   "source": [
    "text[text['handling_information.complete_medium'].str.contains('theOrganoid Media Formulation #12')]['url'].unique()"
   ],
   "metadata": {
    "collapsed": false,
    "ExecuteTime": {
     "end_time": "2024-04-09T10:01:43.221525Z",
     "start_time": "2024-04-09T10:01:43.062192Z"
    }
   },
   "execution_count": 304
  },
  {
   "cell_type": "code",
   "outputs": [],
   "source": [
    "conditions = [text['handling_information.complete_medium'].str.contains('theOrganoid Media Formulation #3'),\n",
    "              text['handling_information.complete_medium'].str.contains('theOrganoid Media Formulation #6'),\n",
    "              text['handling_information.complete_medium'].str.contains('theOrganoid Media Formulation #8'),\n",
    "              text['handling_information.complete_medium'].str.contains('theOrganoid Media Formulation #11'),\n",
    "              text['handling_information.complete_medium'].str.contains('theOrganoid Media Formulation #12'),\n",
    "              text['handling_information.complete_medium'].str.contains('theOrganoid Media Formulation #2'),\n",
    "              text['handling_information.complete_medium'].str.contains('theOrganoid Media Formulation #1\\.')]\n",
    "\n",
    "\n",
    "replacements = ['ATCC ACS-7101', 'ATCC ACS-7106', 'ATCC ACS-7105', 'ATCC Organoid media 11a', 'ATCC Organoid media 12a', 'ATCC ACS-7102', 'ATCC ACS-7100']\n",
    "\n",
    "\n",
    "growth_media = ['Organoid Growth Kit 1B', 'Organoid Growth Kit 1G', 'Organoid Growth Kit 1F', 'ATCC Organoid media 11a', 'ATCC Organoid media 12a', 'Organoid Growth Kit 1C', 'Organoid Growth Kit 1A']\n",
    "\n",
    "supplements = ['Not provided', 'Not provided', 'Not provided', 'Not provided', 'Not provided', 'Not provided', 'Not provided']\n",
    "\n",
    "text['media_id'] = np.select(conditions, replacements, default='Not provided')\n",
    "text['growth_media'] = np.select(conditions, growth_media, default='Not provided')\n",
    "text['supplements'] = np.select(conditions, supplements, default='Not provided')\n",
    "text['growth_properties'] = text['characteristics.growth_properties']\n",
    "text['contaminated'] = np.where((text['quality_control_specifications.bacterial_and_fungal_testing'] == 'Not detected') & (text['quality_control_specifications.mycoplasma_contamination'] == 'Not detected'), 'No', 'Yes')\n",
    "\n",
    "text['contamination_details'] = np.where((text['quality_control_specifications.bacterial_and_fungal_testing'] == 'Not detected') & (text['quality_control_specifications.mycoplasma_contamination'] == 'Not detected'), 'No contamination detected', 'Not provided')\n",
    "\n",
    "text['model_purity'] = np.where(text['characteristics.metastatic'].fillna('Not provided') == 'Not provided', 'Not provided', 'Tumor cells')\n",
    "\n",
    "text['STR_analysis'] = 'Not provided'#np.where(text['quality_control_specifications.str_profiling'].fillna('Not provided') == 'Not provided', 'No', 'Yes')\n",
    "\n",
    "text['morphological_features'] = text['product_information.morphology'].fillna('Not provided')\n",
    "\n",
    "text['virology_status'] = np.where(text['quality_control_specifications.virus_testing'].str.lower().str.replace('detected', 'detected, ').str.replace('not detected', '').str.contains('detected'), 'Detected', 'Not detected')"
   ],
   "metadata": {
    "collapsed": false,
    "ExecuteTime": {
     "end_time": "2024-04-09T10:04:36.699405Z",
     "start_time": "2024-04-09T10:04:36.577410Z"
    }
   },
   "execution_count": 307
  },
  {
   "cell_type": "code",
   "outputs": [
    {
     "data": {
      "text/plain": "       atcc                                    url  \\\n54   PDM-29   https://www.atcc.org/products/pdm-29   \n78  PDM-198  https://www.atcc.org/products/pdm-198   \n\n   product_information.product_category product_information.product_type  \\\n54                          Human cells               Cell modelOrganoid   \n78                          Human cells               Cell modelOrganoid   \n\n   product_information.organism product_information.morphology  \\\n54          Homo sapiens, human                       organoid   \n78          Homo sapiens, human                       organoid   \n\n   product_information.tissue product_information.disease  \\\n54                   Pancreas     Adenocarcinoma; Primary   \n78                   Pancreas     Adenocarcinoma; Primary   \n\n   product_information.applications product_information.product_format  ...  \\\n54   3D cell cultureCancer research                             Frozen  ...   \n78   3D cell cultureCancer research                             Frozen  ...   \n\n         media_id            growth_media   supplements    growth_properties  \\\n54  ATCC ACS-7101  Organoid Growth Kit 1B  Not provided  Embedded 3D culture   \n78  ATCC ACS-7101  Organoid Growth Kit 1B  Not provided  Embedded 3D culture   \n\n   contaminated      contamination_details  model_purity  STR_analysis  \\\n54          Yes  No contamination detected  Not provided  Not provided   \n78          Yes  No contamination detected  Not provided  Not provided   \n\n   morphological_features virology_status  \n54               organoid        Detected  \n78               organoid        Detected  \n\n[2 rows x 47 columns]",
      "text/html": "<div>\n<style scoped>\n    .dataframe tbody tr th:only-of-type {\n        vertical-align: middle;\n    }\n\n    .dataframe tbody tr th {\n        vertical-align: top;\n    }\n\n    .dataframe thead th {\n        text-align: right;\n    }\n</style>\n<table border=\"1\" class=\"dataframe\">\n  <thead>\n    <tr style=\"text-align: right;\">\n      <th></th>\n      <th>atcc</th>\n      <th>url</th>\n      <th>product_information.product_category</th>\n      <th>product_information.product_type</th>\n      <th>product_information.organism</th>\n      <th>product_information.morphology</th>\n      <th>product_information.tissue</th>\n      <th>product_information.disease</th>\n      <th>product_information.applications</th>\n      <th>product_information.product_format</th>\n      <th>...</th>\n      <th>media_id</th>\n      <th>growth_media</th>\n      <th>supplements</th>\n      <th>growth_properties</th>\n      <th>contaminated</th>\n      <th>contamination_details</th>\n      <th>model_purity</th>\n      <th>STR_analysis</th>\n      <th>morphological_features</th>\n      <th>virology_status</th>\n    </tr>\n  </thead>\n  <tbody>\n    <tr>\n      <th>54</th>\n      <td>PDM-29</td>\n      <td>https://www.atcc.org/products/pdm-29</td>\n      <td>Human cells</td>\n      <td>Cell modelOrganoid</td>\n      <td>Homo sapiens, human</td>\n      <td>organoid</td>\n      <td>Pancreas</td>\n      <td>Adenocarcinoma; Primary</td>\n      <td>3D cell cultureCancer research</td>\n      <td>Frozen</td>\n      <td>...</td>\n      <td>ATCC ACS-7101</td>\n      <td>Organoid Growth Kit 1B</td>\n      <td>Not provided</td>\n      <td>Embedded 3D culture</td>\n      <td>Yes</td>\n      <td>No contamination detected</td>\n      <td>Not provided</td>\n      <td>Not provided</td>\n      <td>organoid</td>\n      <td>Detected</td>\n    </tr>\n    <tr>\n      <th>78</th>\n      <td>PDM-198</td>\n      <td>https://www.atcc.org/products/pdm-198</td>\n      <td>Human cells</td>\n      <td>Cell modelOrganoid</td>\n      <td>Homo sapiens, human</td>\n      <td>organoid</td>\n      <td>Pancreas</td>\n      <td>Adenocarcinoma; Primary</td>\n      <td>3D cell cultureCancer research</td>\n      <td>Frozen</td>\n      <td>...</td>\n      <td>ATCC ACS-7101</td>\n      <td>Organoid Growth Kit 1B</td>\n      <td>Not provided</td>\n      <td>Embedded 3D culture</td>\n      <td>Yes</td>\n      <td>No contamination detected</td>\n      <td>Not provided</td>\n      <td>Not provided</td>\n      <td>organoid</td>\n      <td>Detected</td>\n    </tr>\n  </tbody>\n</table>\n<p>2 rows × 47 columns</p>\n</div>"
     },
     "execution_count": 314,
     "metadata": {},
     "output_type": "execute_result"
    }
   ],
   "source": [
    "text[np.where(text['quality_control_specifications.virus_testing'].str.lower().str.replace('detected', 'detected, ').str.replace('not detected', '').str.contains('detected'), True, False)]"
   ],
   "metadata": {
    "collapsed": false,
    "ExecuteTime": {
     "end_time": "2024-04-09T10:17:45.287057Z",
     "start_time": "2024-04-09T10:17:45.113906Z"
    }
   },
   "execution_count": 314
  },
  {
   "cell_type": "code",
   "outputs": [],
   "source": [
    "cell_sheet = read_metadata_without_fields(join(home, 'CSHL', 'CSHL_metadata-cell_model.tsv'))\n",
    "cell_template = read_metadata_with_fields(join(home, 'CSHL', 'CSHL_metadata-cell_model.tsv')).iloc[0:4]\n",
    "merged = cell_sheet.merge(text, left_on='catalog_number', right_on='atcc', how='left', suffixes=('_og', '_supplier'))\n",
    "merged['growth_properties'] = merged['growth_properties_supplier']\n",
    "merged['media_id'] = merged['media_id_supplier']\n",
    "merged['growth_media'] = merged['growth_media_supplier']\n",
    "merged['contaminated'] = merged['contaminated_supplier']\n",
    "merged['contamination_details'] = merged['contamination_details_supplier']\n",
    "merged['supplements'] = merged['supplements_supplier']\n",
    "pd.concat([cell_template, merged[cell_sheet.columns]]).reset_index(drop=True).to_csv(join(home, 'CSHL', 'CSHL_metadata-cell_model.tsv'), sep='\\t', index=False)"
   ],
   "metadata": {
    "collapsed": false,
    "ExecuteTime": {
     "end_time": "2024-04-09T10:11:08.926575Z",
     "start_time": "2024-04-09T10:11:08.790952Z"
    }
   },
   "execution_count": 309
  },
  {
   "cell_type": "code",
   "outputs": [],
   "source": [
    "mv_sheet = read_metadata_without_fields(join(home, 'CSHL', 'CSHL_metadata-model_validation.tsv'))\n",
    "mv_template = read_metadata_with_fields(join(home, 'CSHL', 'CSHL_metadata-model_validation.tsv')).iloc[0:4]\n",
    "x = merged[['model_id', 'morphological_features', 'STR_analysis', 'model_purity']]\n",
    "mv_sheet['model_id'] = merged['model_id']\n",
    "mv_sheet = mv_sheet.fillna('Not provided')\n",
    "mv_sheet['morphological_features'] = merged['morphological_features']\n",
    "mv_sheet['STR_analysis'] = merged['STR_analysis']\n",
    "mv_sheet['model_purity'] = merged['model_purity']\n",
    "pd.concat([mv_template, mv_sheet[mv_sheet.columns]]).reset_index(drop=True).to_csv(join(home, 'CSHL', 'CSHL_metadata-model_validation.tsv'), sep='\\t', index=False)"
   ],
   "metadata": {
    "collapsed": false,
    "ExecuteTime": {
     "end_time": "2024-04-09T10:13:37.362928Z",
     "start_time": "2024-04-09T10:13:37.206870Z"
    }
   },
   "execution_count": 310
  },
  {
   "cell_type": "code",
   "outputs": [],
   "source": [
    "patient_sheet = read_metadata_without_fields(join(home, 'CSHL', 'CSHL_metadata-patient.tsv'))\n",
    "patient_template = read_metadata_with_fields(join(home, 'CSHL', 'CSHL_metadata-patient.tsv')).iloc[0:4]\n",
    "patient_sheet['age_category'] = ['Not provided' if r.__contains__('Not') else 'Adult' if int(r) > 21 else 'Paediatric' for r in patient_sheet['age_at_initial_diagnosis']]\n",
    "pd.concat([patient_template, patient_sheet[patient_sheet.columns]]).reset_index(drop=True).to_csv(join(home, 'CSHL', 'CSHL_metadata-patient.tsv'), sep='\\t', index=False)"
   ],
   "metadata": {
    "collapsed": false,
    "ExecuteTime": {
     "end_time": "2024-04-09T10:15:35.405969Z",
     "start_time": "2024-04-09T10:15:35.257394Z"
    }
   },
   "execution_count": 312
  },
  {
   "cell_type": "code",
   "outputs": [],
   "source": [
    "ps_sheet = read_metadata_without_fields(join(home, 'CSHL', 'CSHL_metadata-patient_sample.tsv'))\n",
    "ps_template = read_metadata_with_fields(join(home, 'CSHL', 'CSHL_metadata-patient_sample.tsv')).iloc[0:4]\n",
    "ps_sheet['virology_status'] = 'Not detected'\n",
    "pd.concat([ps_template, ps_sheet[ps_sheet.columns]]).reset_index(drop=True).to_csv(join(home, 'CSHL', 'CSHL_metadata-patient_sample.tsv'), sep='\\t', index=False)"
   ],
   "metadata": {
    "collapsed": false
   }
  },
  {
   "cell_type": "code",
   "outputs": [],
   "source": [
    "sang_atcc = fetch_from_atcc(read_metadata_without_fields(join(home, 'SANG', 'SANG_metadata-cell_model.tsv')))"
   ],
   "metadata": {
    "collapsed": false,
    "ExecuteTime": {
     "end_time": "2024-04-09T10:39:07.265658Z",
     "start_time": "2024-04-09T10:30:03.211556Z"
    }
   },
   "execution_count": 317
  },
  {
   "cell_type": "code",
   "outputs": [
    {
     "data": {
      "text/plain": "       atcc                                    url  \\\n0    PDM-44   https://www.atcc.org/products/pdm-44   \n1    PDM-43   https://www.atcc.org/products/pdm-43   \n2    PDM-67   https://www.atcc.org/products/pdm-67   \n3    PDM-71   https://www.atcc.org/products/pdm-71   \n4    PDM-47   https://www.atcc.org/products/pdm-47   \n5    PDM-46   https://www.atcc.org/products/pdm-46   \n6    PDM-90   https://www.atcc.org/products/pdm-90   \n7    PDM-58   https://www.atcc.org/products/pdm-58   \n8    PDM-73   https://www.atcc.org/products/pdm-73   \n9    PDM-79   https://www.atcc.org/products/pdm-79   \n10   PDM-50   https://www.atcc.org/products/pdm-50   \n11   PDM-65   https://www.atcc.org/products/pdm-65   \n12   PDM-72   https://www.atcc.org/products/pdm-72   \n13   PDM-53   https://www.atcc.org/products/pdm-53   \n14   PDM-83   https://www.atcc.org/products/pdm-83   \n15   PDM-45   https://www.atcc.org/products/pdm-45   \n16   PDM-42   https://www.atcc.org/products/pdm-42   \n17   PDM-48   https://www.atcc.org/products/pdm-48   \n18   PDM-51   https://www.atcc.org/products/pdm-51   \n19   PDM-57   https://www.atcc.org/products/pdm-57   \n20   PDM-74   https://www.atcc.org/products/pdm-74   \n21   PDM-70   https://www.atcc.org/products/pdm-70   \n22   PDM-59   https://www.atcc.org/products/pdm-59   \n23   PDM-68   https://www.atcc.org/products/pdm-68   \n24   PDM-60   https://www.atcc.org/products/pdm-60   \n25   PDM-61   https://www.atcc.org/products/pdm-61   \n26   PDM-62   https://www.atcc.org/products/pdm-62   \n27   PDM-78   https://www.atcc.org/products/pdm-78   \n28   PDM-64   https://www.atcc.org/products/pdm-64   \n29   PDM-76   https://www.atcc.org/products/pdm-76   \n30   PDM-77   https://www.atcc.org/products/pdm-77   \n31   PDM-82   https://www.atcc.org/products/pdm-82   \n32   PDM-63   https://www.atcc.org/products/pdm-63   \n33   PDM-81   https://www.atcc.org/products/pdm-81   \n34   PDM-55   https://www.atcc.org/products/pdm-55   \n35   PDM-75   https://www.atcc.org/products/pdm-75   \n36  PDM-330  https://www.atcc.org/products/pdm-330   \n37   PDM-80   https://www.atcc.org/products/pdm-80   \n38  PDM-331  https://www.atcc.org/products/pdm-331   \n39   PDM-86   https://www.atcc.org/products/pdm-86   \n40   PDM-49   https://www.atcc.org/products/pdm-49   \n41   PDM-84   https://www.atcc.org/products/pdm-84   \n42   PDM-87   https://www.atcc.org/products/pdm-87   \n43  PDM-339  https://www.atcc.org/products/pdm-339   \n44   PDM-85   https://www.atcc.org/products/pdm-85   \n45   PDM-52   https://www.atcc.org/products/pdm-52   \n46   PDM-54   https://www.atcc.org/products/pdm-54   \n47   PDM-56   https://www.atcc.org/products/pdm-56   \n\n   product_information.product_category product_information.product_type  \\\n0                           Human cells               Cell modelOrganoid   \n1                           Human cells               Cell modelOrganoid   \n2                           Human cells               Cell modelOrganoid   \n3                           Human cells               Cell modelOrganoid   \n4                           Human cells               Cell modelOrganoid   \n5                           Human cells               Cell modelOrganoid   \n6                           Human cells               Cell modelOrganoid   \n7                           Human cells               Cell modelOrganoid   \n8                           Human cells               Cell modelOrganoid   \n9                           Human cells               Cell modelOrganoid   \n10                          Human cells               Cell modelOrganoid   \n11                          Human cells               Cell modelOrganoid   \n12                          Human cells               Cell modelOrganoid   \n13                          Human cells               Cell modelOrganoid   \n14                          Human cells               Cell modelOrganoid   \n15                          Human cells               Cell modelOrganoid   \n16                          Human cells               Cell modelOrganoid   \n17                          Human cells               Cell modelOrganoid   \n18                          Human cells               Cell modelOrganoid   \n19                          Human cells               Cell modelOrganoid   \n20                          Human cells               Cell modelOrganoid   \n21                          Human cells               Cell modelOrganoid   \n22                          Human cells               Cell modelOrganoid   \n23                          Human cells               Cell modelOrganoid   \n24                          Human cells               Cell modelOrganoid   \n25                          Human cells               Cell modelOrganoid   \n26                          Human cells               Cell modelOrganoid   \n27                          Human cells               Cell modelOrganoid   \n28                          Human cells               Cell modelOrganoid   \n29                          Human cells               Cell modelOrganoid   \n30                          Human cells               Cell modelOrganoid   \n31                          Human cells               Cell modelOrganoid   \n32                          Human cells               Cell modelOrganoid   \n33                          Human cells               Cell modelOrganoid   \n34                          Human cells               OrganoidCell model   \n35                          Human cells               OrganoidCell model   \n36                          Human cells               Cell modelOrganoid   \n37                          Human cells               Cell modelOrganoid   \n38                          Human cells               Cell modelOrganoid   \n39                          Human cells               Cell modelOrganoid   \n40                          Human cells               Cell modelOrganoid   \n41                          Human cells               Cell modelOrganoid   \n42                          Human cells               Cell modelOrganoid   \n43                          Human cells               Cell modelOrganoid   \n44                          Human cells               Cell modelOrganoid   \n45                          Human cells               Cell modelOrganoid   \n46                          Human cells               Cell modelOrganoid   \n47                          Human cells               Cell modelOrganoid   \n\n   product_information.organism product_information.morphology  \\\n0           Homo sapiens, human                       organoid   \n1           Homo sapiens, human                       organoid   \n2           Homo sapiens, human                       organoid   \n3           Homo sapiens, human                       organoid   \n4           Homo sapiens, human                       organoid   \n5           Homo sapiens, human                       organoid   \n6           Homo sapiens, human                       organoid   \n7           Homo sapiens, human                       organoid   \n8           Homo sapiens, human                       organoid   \n9           Homo sapiens, human                       organoid   \n10          Homo sapiens, human                       organoid   \n11          Homo sapiens, human                       organoid   \n12          Homo sapiens, human                       organoid   \n13          Homo sapiens, human                       organoid   \n14          Homo sapiens, human                       organoid   \n15          Homo sapiens, human                       organoid   \n16          Homo sapiens, human                       Organoid   \n17          Homo sapiens, human                       Organoid   \n18          Homo sapiens, human                       organoid   \n19          Homo sapiens, human                       organoid   \n20          Homo sapiens, human                       organoid   \n21          Homo sapiens, human                       organoid   \n22          Homo sapiens, human                       organoid   \n23          Homo sapiens, human                       organoid   \n24          Homo sapiens, human                       organoid   \n25          Homo sapiens, human                       organoid   \n26          Homo sapiens, human                       organoid   \n27          Homo sapiens, human                       organoid   \n28          Homo sapiens, human                       organoid   \n29          Homo sapiens, human                       organoid   \n30          Homo sapiens, human                       organoid   \n31          Homo sapiens, human                       Organoid   \n32          Homo sapiens, human                       Organoid   \n33          Homo sapiens, human                       Organoid   \n34          Homo sapiens, human                       Organoid   \n35          Homo sapiens, human                       Organoid   \n36          Homo sapiens, human                       organoid   \n37          Homo sapiens, human                       organoid   \n38          Homo sapiens, human                       organoid   \n39          Homo sapiens, human                       organoid   \n40          Homo sapiens, human                       organoid   \n41          Homo sapiens, human                       Organoid   \n42          Homo sapiens, human                       organoid   \n43          Homo sapiens, human                       Organoid   \n44          Homo sapiens, human                       organoid   \n45          Homo sapiens, human                       organoid   \n46          Homo sapiens, human                       organoid   \n47          Homo sapiens, human                       organoid   \n\n          product_information.tissue       product_information.disease  \\\n0            Large intestine; Rectum            Adenoma; Pre-malignant   \n1            Large intestine; Rectum           Adenocarcinoma; Primary   \n2                          Esophagus           Adenocarcinoma; Primary   \n3                          Esophagus           Adenocarcinoma; Primary   \n4            Large intestine; Rectum           Adenocarcinoma; Primary   \n5             Large intestine; Colon           Adenocarcinoma; Primary   \n6                           Pancreas           Adenocarcinoma; Primary   \n7             Large intestine; Colon           Adenocarcinoma; Primary   \n8                          Esophagus                Malignant neoplasm   \n9                          Esophagus           Adenocarcinoma; Primary   \n10  Large intestine; Ascending colon                Malignant neoplasm   \n11                         Esophagus                Malignant neoplasm   \n12                         Esophagus           Adenocarcinoma; Primary   \n13            Large intestine; Colon           Adenocarcinoma; Primary   \n14                         Esophagus                Malignant neoplasm   \n15            Large intestine; Colon           Adenocarcinoma; Primary   \n16            Large intestine; Colon        Adenocarcinoma; Metastatic   \n17            Large intestine; Colon            Adenoma; Pre-malignant   \n18            Large intestine; Colon           Adenocarcinoma; Primary   \n19            Large intestine; Colon           Adenocarcinoma; Primary   \n20                         Esophagus           Adenocarcinoma; Primary   \n21                         Esophagus  Malignant neoplasmAdenocarcinoma   \n22            Large intestine; Colon           Adenocarcinoma; Primary   \n23                         Esophagus           Adenocarcinoma; Primary   \n24            Large intestine; Colon           Adenocarcinoma; Primary   \n25            Small intestine; Colon           Adenocarcinoma; Primary   \n26           Small intestine; Rectum           Adenocarcinoma; Primary   \n27                         Esophagus           Adenocarcinoma; Primary   \n28            Large intestine; Colon           Adenocarcinoma; Primary   \n29                         Esophagus           Adenocarcinoma; Primary   \n30                         Esophagus           Adenocarcinoma; Primary   \n31                         Esophagus           Adenocarcinoma; Primary   \n32           Large intestine; Rectum           Adenocarcinoma; Primary   \n33                         Esophagus           Adenocarcinoma; Primary   \n34           Large intestine; Rectum           Adenocarcinoma; Primary   \n35                         Esophagus           Adenocarcinoma; Primary   \n36           Large intestine; Rectum                   Cancer; Primary   \n37                         Esophagus           Adenocarcinoma; Primary   \n38           Large intestine; Rectum                   Cancer; Primary   \n39                         Esophagus           Adenocarcinoma; Primary   \n40           Large intestine; Rectum           Adenocarcinoma; Primary   \n41                         Esophagus           Adenocarcinoma; Primary   \n42                         Esophagus           Adenocarcinoma; Primary   \n43                         Esophagus                   Cancer; Primary   \n44                         Esophagus           Adenocarcinoma; Primary   \n45            Large intestine; Colon           Adenocarcinoma; Primary   \n46            Large intestine; Colon           Adenocarcinoma; Primary   \n47            Large intestine; Colon           Adenocarcinoma; Primary   \n\n   product_information.applications product_information.product_format  ...  \\\n0    3D cell cultureCancer research                             Frozen  ...   \n1    3D cell cultureCancer research                             Frozen  ...   \n2    3D cell cultureCancer research                             Frozen  ...   \n3    3D cell cultureCancer research                             Frozen  ...   \n4    3D cell cultureCancer research                             Frozen  ...   \n5    3D cell cultureCancer research                             Frozen  ...   \n6    3D cell cultureCancer research                             Frozen  ...   \n7    3D cell cultureCancer research                             Frozen  ...   \n8    3D cell cultureCancer research                             Frozen  ...   \n9    3D cell cultureCancer research                             Frozen  ...   \n10   3D cell cultureCancer research                             Frozen  ...   \n11   3D cell cultureCancer research                             Frozen  ...   \n12   3D cell cultureCancer research                             Frozen  ...   \n13   3D cell cultureCancer research                             Frozen  ...   \n14   3D cell cultureCancer research                             Frozen  ...   \n15   3D cell cultureCancer research                             Frozen  ...   \n16   3D cell cultureCancer research                             Frozen  ...   \n17   3D cell cultureCancer research                             Frozen  ...   \n18   3D cell cultureCancer research                             Frozen  ...   \n19   3D cell cultureCancer research                             Frozen  ...   \n20   3D cell cultureCancer research                             Frozen  ...   \n21   3D cell cultureCancer research                             Frozen  ...   \n22   3D cell cultureCancer research                             Frozen  ...   \n23   3D cell cultureCancer research                             Frozen  ...   \n24   3D cell cultureCancer research                             Frozen  ...   \n25   3D cell cultureCancer research                             Frozen  ...   \n26   3D cell cultureCancer research                             Frozen  ...   \n27   3D cell cultureCancer research                             Frozen  ...   \n28   Cancer research3D cell culture                             Frozen  ...   \n29   3D cell cultureCancer research                             Frozen  ...   \n30   3D cell cultureCancer research                             Frozen  ...   \n31   Cancer research3D cell culture                             Frozen  ...   \n32   Cancer research3D cell culture                             Frozen  ...   \n33   Cancer research3D cell culture                             Frozen  ...   \n34   Cancer research3D cell culture                             Frozen  ...   \n35   Cancer research3D cell culture                             Frozen  ...   \n36   3D cell cultureCancer research                             Frozen  ...   \n37   Cancer research3D cell culture                             Frozen  ...   \n38   3D cell cultureCancer research                             Frozen  ...   \n39   3D cell cultureCancer research                             Frozen  ...   \n40   3D cell cultureCancer research                             Frozen  ...   \n41   3D cell cultureCancer research                             Frozen  ...   \n42   3D cell cultureCancer research                             Frozen  ...   \n43   3D cell cultureCancer research                             Frozen  ...   \n44   3D cell cultureCancer research                             Frozen  ...   \n45   3D cell cultureCancer research                             Frozen  ...   \n46   3D cell cultureCancer research                             Frozen  ...   \n47   3D cell cultureCancer research                             Frozen  ...   \n\n   quality_control_specifications.mycoplasma_contamination  \\\n0                                        Not detected        \n1                                        Not detected        \n2                                        Not detected        \n3                                        Not detected        \n4                                        Not detected        \n5                                        Not detected        \n6                                        Not detected        \n7                                        Not detected        \n8                                        Not detected        \n9                                        Not detected        \n10                                       Not detected        \n11                                       Not detected        \n12                                       Not detected        \n13                                       Not detected        \n14                                       Not detected        \n15                                       Not detected        \n16                                       Not detected        \n17                                       Not detected        \n18                                       Not detected        \n19                                       Not detected        \n20                                       Not detected        \n21                                       Not detected        \n22                                       Not detected        \n23                                       Not detected        \n24                                       Not detected        \n25                                       Not detected        \n26                                       Not detected        \n27                                       Not detected        \n28                                       Not detected        \n29                                       Not detected        \n30                                       Not detected        \n31                                       Not detected        \n32                                       Not detected        \n33                                       Not detected        \n34                                       Not detected        \n35                                       Not detected        \n36                                       Not detected        \n37                                       Not detected        \n38                                       Not detected        \n39                                       Not detected        \n40                                       Not detected        \n41                                       Not detected        \n42                                       Not detected        \n43                                       Not detected        \n44                                       Not detected        \n45                                       Not detected        \n46                                       Not detected        \n47                                       Not detected        \n\n         quality_control_specifications.virus_testing  \\\n0   Hepatitis B virus (HBV): Not detectedCytomegal...   \n1   Hepatitis B virus (HBV): Not detectedCytomegal...   \n2   Hepatitis B virus (HBV): Not detectedCytomegal...   \n3   Hepatitis B virus (HBV): Not detectedCytomegal...   \n4   Hepatitis B virus (HBV): Not detectedCytomegal...   \n5   Hepatitis B virus (HBV): Not detectedCytomegal...   \n6   Hepatitis B virus (HBV): Not detectedCytomegal...   \n7   Hepatitis B virus (HBV): Not detectedCytomegal...   \n8   Hepatitis B virus (HBV): Not detectedCytomegal...   \n9   Hepatitis B virus (HBV): Not detectedCytomegal...   \n10  Hepatitis B virus (HBV): Not detectedCytomegal...   \n11  Hepatitis B virus (HBV): Not detectedCytomegal...   \n12  Hepatitis B virus (HBV): Not detectedCytomegal...   \n13  Hepatitis B virus (HBV): Not detectedCytomegal...   \n14  Hepatitis B virus (HBV): Not detectedCytomegal...   \n15  Hepatitis B virus (HBV): Not detectedCytomegal...   \n16  Hepatitis B virus (HBV): Not detectedCytomegal...   \n17  Hepatitis B virus (HBV): Not detectedCytomegal...   \n18  Cytomegalovirus (CMV): Not detectedEpstein-Bar...   \n19  Cytomegalovirus (CMV): Not detectedEpstein-Bar...   \n20  Cytomegalovirus (CMV): Not detectedEpstein-Bar...   \n21  Cytomegalovirus (CMV): Not detectedEpstein-Bar...   \n22  Cytomegalovirus (CMV): Not detectedEpstein-Bar...   \n23  Cytomegalovirus (CMV): Not detectedEpstein-Bar...   \n24  Cytomegalovirus (CMV): Not detectedEpstein-Bar...   \n25  Cytomegalovirus (CMV): Not detectedEpstein-Bar...   \n26  Cytomegalovirus (CMV): Not detectedEpstein-Bar...   \n27  Cytomegalovirus (CMV): Not detectedEpstein-Bar...   \n28  Cytomegalovirus (CMV): Not detectedEpstein-Bar...   \n29  Cytomegalovirus (CMV): Not detectedEpstein-Bar...   \n30  Cytomegalovirus (CMV): Not detectedEpstein-Bar...   \n31  Cytomegalovirus (CMV): Not detectedEpstein-Bar...   \n32  Cytomegalovirus (CMV): Not detectedEpstein-Bar...   \n33  Cytomegalovirus (CMV): Not detectedEpstein-Bar...   \n34  Cytomegalovirus (CMV): Not detectedEpstein-Bar...   \n35  Cytomegalovirus (CMV): Not detectedEpstein-Bar...   \n36  Cytomegalovirus (CMV): Not detectedEpstein-Bar...   \n37  Cytomegalovirus (CMV): Not detectedEpstein-Bar...   \n38  Cytomegalovirus (CMV): Not detectedEpstein-Bar...   \n39  Cytomegalovirus (CMV): Not detectedEpstein-Bar...   \n40  Cytomegalovirus (CMV): Not detectedEpstein-Bar...   \n41  Cytomegalovirus (CMV): Not detectedEpstein-Bar...   \n42  Cytomegalovirus (CMV): Not detectedEpstein-Bar...   \n43  Cytomegalovirus (CMV): Not detectedEpstein-Bar...   \n44  Cytomegalovirus (CMV): Not detectedEpstein-Bar...   \n45  Cytomegalovirus (CMV): Not detectedEpstein-Bar...   \n46  Cytomegalovirus (CMV): Not detectedEpstein-Bar...   \n47  Cytomegalovirus (CMV): Not detectedEpstein-Bar...   \n\n               history.depositors history.year_of_origin  \\\n0       Wellcome Sanger Institute                   2017   \n1       Wellcome Sanger Institute                   2017   \n2       Wellcome Sanger Institute                   2017   \n3       Wellcome Sanger Institute                   2017   \n4       Wellcome Sanger Institute                   2017   \n5       Wellcome Sanger Institute                    NaN   \n6       Wellcome Sanger Institute                   2017   \n7       Wellcome Sanger Institute                   2017   \n8       Wellcome Sanger Institute                   2017   \n9       Wellcome Sanger Institute                   2017   \n10      Wellcome Sanger Institute                   2018   \n11      Wellcome Sanger Institute                   2016   \n12      Wellcome Sanger Institute                   2018   \n13      Wellcome Sanger Institute                   2018   \n14      Wellcome Sanger Institute                   2018   \n15      Wellcome Sanger Institute                   2018   \n16      Wellcome Sanger Institute                    NaN   \n17      Wellcome Sanger Institute                   2018   \n18      Wellcome Sanger Institute                   2018   \n19      Wellcome Sanger Institute                   2018   \n20      Wellcome Sanger Institute                    NaN   \n21      Wellcome Sanger Institute                   2018   \n22      Wellcome Sanger Institute                   2018   \n23      Wellcome Sanger Institute                   2018   \n24      Wellcome Sanger Institute                   2018   \n25      Wellcome Sanger Institute                   2018   \n26      Wellcome Sanger Institute                   2018   \n27      Wellcome Sanger Institute                   2018   \n28  The Wellcome Sanger Institute                   2021   \n29      Wellcome Sanger Institute                   2021   \n30      Wellcome Sanger Institute                   2021   \n31      Wellcome Sanger Institute                   2021   \n32      Wellcome Sanger Institute                   2021   \n33      Wellcome Sanger Institute                   2021   \n34      Wellcome Sanger Institute                   2021   \n35      Wellcome Sanger Institute                   2021   \n36      Wellcome Sanger Institute                    NaN   \n37      Wellcome Sanger Institute                   2021   \n38      Wellcome Sanger Institute                   2021   \n39      Wellcome Sanger Institute                   2021   \n40      Wellcome Sanger Institute                   2021   \n41      Wellcome Sanger Institute                   2021   \n42      Wellcome Sanger Institute                   2021   \n43      Wellcome Sanger Institute                   2021   \n44      Wellcome Sanger Institute                   2021   \n45      Wellcome Sanger Institute                   2022   \n46      Wellcome Sanger Institute                   2022   \n47      Wellcome Sanger Institute                   2022   \n\n               history.special_collection  \\\n0   Human Cancer Models Initiative (HCMI)   \n1   Human Cancer Models Initiative (HCMI)   \n2   Human Cancer Models Initiative (HCMI)   \n3   Human Cancer Models Initiative (HCMI)   \n4   Human Cancer Models Initiative (HCMI)   \n5   Human Cancer Models Initiative (HCMI)   \n6   Human Cancer Models Initiative (HCMI)   \n7   Human Cancer Models Initiative (HCMI)   \n8   Human Cancer Models Initiative (HCMI)   \n9   Human Cancer Models Initiative (HCMI)   \n10  Human Cancer Models Initiative (HCMI)   \n11  Human Cancer Models Initiative (HCMI)   \n12  Human Cancer Models Initiative (HCMI)   \n13  Human Cancer Models Initiative (HCMI)   \n14  Human Cancer Models Initiative (HCMI)   \n15  Human Cancer Models Initiative (HCMI)   \n16  Human Cancer Models Initiative (HCMI)   \n17  Human Cancer Models Initiative (HCMI)   \n18  Human Cancer Models Initiative (HCMI)   \n19  Human Cancer Models Initiative (HCMI)   \n20  Human Cancer Models Initiative (HCMI)   \n21  Human Cancer Models Initiative (HCMI)   \n22  Human Cancer Models Initiative (HCMI)   \n23  Human Cancer Models Initiative (HCMI)   \n24  Human Cancer Models Initiative (HCMI)   \n25  Human Cancer Models Initiative (HCMI)   \n26  Human Cancer Models Initiative (HCMI)   \n27  Human Cancer Models Initiative (HCMI)   \n28  Human Cancer Models Initiative (HCMI)   \n29  Human Cancer Models Initiative (HCMI)   \n30  Human Cancer Models Initiative (HCMI)   \n31  Human Cancer Models Initiative (HCMI)   \n32  Human Cancer Models Initiative (HCMI)   \n33  Human Cancer Models Initiative (HCMI)   \n34  Human Cancer Models Initiative (HCMI)   \n35  Human Cancer Models Initiative (HCMI)   \n36  Human Cancer Models Initiative (HCMI)   \n37  Human Cancer Models Initiative (HCMI)   \n38  Human Cancer Models Initiative (HCMI)   \n39  Human Cancer Models Initiative (HCMI)   \n40  Human Cancer Models Initiative (HCMI)   \n41  Human Cancer Models Initiative (HCMI)   \n42  Human Cancer Models Initiative (HCMI)   \n43                                    NaN   \n44  Human Cancer Models Initiative (HCMI)   \n45  Human Cancer Models Initiative (HCMI)   \n46  Human Cancer Models Initiative (HCMI)   \n47  Human Cancer Models Initiative (HCMI)   \n\n                       legal_disclaimers.intended_use  \\\n0   This product is intended for laboratory resear...   \n1   This product is intended for laboratory resear...   \n2   This product is intended for laboratory resear...   \n3   This product is intended for laboratory resear...   \n4   This product is intended for laboratory resear...   \n5   This product is intended for laboratory resear...   \n6   This product is intended for laboratory resear...   \n7   This product is intended for laboratory resear...   \n8   This product is intended for laboratory resear...   \n9   This product is intended for laboratory resear...   \n10  This product is intended for laboratory resear...   \n11  This product is intended for laboratory resear...   \n12  This product is intended for laboratory resear...   \n13  This product is intended for laboratory resear...   \n14  This product is intended for laboratory resear...   \n15  This product is intended for laboratory resear...   \n16  This product is intended for laboratory resear...   \n17  This product is intended for laboratory resear...   \n18  This product is intended for laboratory resear...   \n19  This product is intended for laboratory resear...   \n20  This product is intended for laboratory resear...   \n21  This product is intended for laboratory resear...   \n22  This product is intended for laboratory resear...   \n23  This product is intended for laboratory resear...   \n24  This product is intended for laboratory resear...   \n25  This product is intended for laboratory resear...   \n26  This product is intended for laboratory resear...   \n27  This product is intended for laboratory resear...   \n28  This product is intended for laboratory resear...   \n29  This product is intended for laboratory resear...   \n30  This product is intended for laboratory resear...   \n31  This product is intended for laboratory resear...   \n32  This product is intended for laboratory resear...   \n33  This product is intended for laboratory resear...   \n34  This product is intended for laboratory resear...   \n35  This product is intended for laboratory resear...   \n36  This product is intended for laboratory resear...   \n37  This product is intended for laboratory resear...   \n38  This product is intended for laboratory resear...   \n39  This product is intended for laboratory resear...   \n40  This product is intended for laboratory resear...   \n41  This product is intended for laboratory resear...   \n42  This product is intended for laboratory resear...   \n43  This product is intended for laboratory resear...   \n44  This product is intended for laboratory resear...   \n45  This product is intended for laboratory resear...   \n46  This product is intended for laboratory resear...   \n47  This product is intended for laboratory resear...   \n\n                           legal_disclaimers.warranty  \\\n0   The product is provided 'AS IS' and the viabil...   \n1   The product is provided 'AS IS' and the viabil...   \n2   The product is provided 'AS IS' and the viabil...   \n3   The product is provided 'AS IS' and the viabil...   \n4   The product is provided 'AS IS' and the viabil...   \n5   The product is provided 'AS IS' and the viabil...   \n6   The product is provided 'AS IS' and the viabil...   \n7   The product is provided 'AS IS' and the viabil...   \n8   The product is provided 'AS IS' and the viabil...   \n9   The product is provided 'AS IS' and the viabil...   \n10  The product is provided 'AS IS' and the viabil...   \n11  The product is provided 'AS IS' and the viabil...   \n12  The product is provided 'AS IS' and the viabil...   \n13  The product is provided 'AS IS' and the viabil...   \n14  The product is provided 'AS IS' and the viabil...   \n15  The product is provided 'AS IS' and the viabil...   \n16  The product is provided 'AS IS' and the viabil...   \n17  The product is provided 'AS IS' and the viabil...   \n18  The product is provided 'AS IS' and the viabil...   \n19  The product is provided 'AS IS' and the viabil...   \n20  The product is provided 'AS IS' and the viabil...   \n21  The product is provided 'AS IS' and the viabil...   \n22  The product is provided 'AS IS' and the viabil...   \n23  The product is provided 'AS IS' and the viabil...   \n24  The product is provided 'AS IS' and the viabil...   \n25  The product is provided 'AS IS' and the viabil...   \n26  The product is provided 'AS IS' and the viabil...   \n27  The product is provided 'AS IS' and the viabil...   \n28  The product is provided 'AS IS' and the viabil...   \n29  The product is provided 'AS IS' and the viabil...   \n30  The product is provided 'AS IS' and the viabil...   \n31  The product is provided 'AS IS' and the viabil...   \n32  The product is provided 'AS IS' and the viabil...   \n33  The product is provided 'AS IS' and the viabil...   \n34  The product is provided 'AS IS' and the viabil...   \n35  The product is provided 'AS IS' and the viabil...   \n36  The product is provided 'AS IS' and the viabil...   \n37  The product is provided 'AS IS' and the viabil...   \n38  The product is provided 'AS IS' and the viabil...   \n39  The product is provided 'AS IS' and the viabil...   \n40  The product is provided 'AS IS' and the viabil...   \n41  The product is provided 'AS IS' and the viabil...   \n42  The product is provided 'AS IS' and the viabil...   \n43  The product is provided 'AS IS' and the viabil...   \n44  The product is provided 'AS IS' and the viabil...   \n45  The product is provided 'AS IS' and the viabil...   \n46  The product is provided 'AS IS' and the viabil...   \n47  The product is provided 'AS IS' and the viabil...   \n\n                        legal_disclaimers.disclaimers  \\\n0   This product is intended for laboratory resear...   \n1   This product is intended for laboratory resear...   \n2   This product is intended for laboratory resear...   \n3   This product is intended for laboratory resear...   \n4   This product is intended for laboratory resear...   \n5   This product is intended for laboratory resear...   \n6   This product is intended for laboratory resear...   \n7   This product is intended for laboratory resear...   \n8   This product is intended for laboratory resear...   \n9   This product is intended for laboratory resear...   \n10  This product is intended for laboratory resear...   \n11  This product is intended for laboratory resear...   \n12  This product is intended for laboratory resear...   \n13  This product is intended for laboratory resear...   \n14  This product is intended for laboratory resear...   \n15  This product is intended for laboratory resear...   \n16  This product is intended for laboratory resear...   \n17  This product is intended for laboratory resear...   \n18  This product is intended for laboratory resear...   \n19  This product is intended for laboratory resear...   \n20  This product is intended for laboratory resear...   \n21  This product is intended for laboratory resear...   \n22  This product is intended for laboratory resear...   \n23  This product is intended for laboratory resear...   \n24  This product is intended for laboratory resear...   \n25  This product is intended for laboratory resear...   \n26  This product is intended for laboratory resear...   \n27  This product is intended for laboratory resear...   \n28  This product is intended for laboratory resear...   \n29  This product is intended for laboratory resear...   \n30  This product is intended for laboratory resear...   \n31  This product is intended for laboratory resear...   \n32  This product is intended for laboratory resear...   \n33  This product is intended for laboratory resear...   \n34  This product is intended for laboratory resear...   \n35  This product is intended for laboratory resear...   \n36  This product is intended for laboratory resear...   \n37  This product is intended for laboratory resear...   \n38  This product is intended for laboratory resear...   \n39  This product is intended for laboratory resear...   \n40  This product is intended for laboratory resear...   \n41  This product is intended for laboratory resear...   \n42  This product is intended for laboratory resear...   \n43  This product is intended for laboratory resear...   \n44  This product is intended for laboratory resear...   \n45  This product is intended for laboratory resear...   \n46  This product is intended for laboratory resear...   \n47  This product is intended for laboratory resear...   \n\n                  handling_information.handling_notes  \\\n0                                                 NaN   \n1                                                 NaN   \n2                                                 NaN   \n3   Seeding density:We recommend seeding this mode...   \n4                                                 NaN   \n5                                                 NaN   \n6                                                 NaN   \n7                                                 NaN   \n8                                                 NaN   \n9   Seeding density:We recommend seeding this mode...   \n10                                                NaN   \n11                                                NaN   \n12                                                NaN   \n13                                                NaN   \n14                                                NaN   \n15                                                NaN   \n16                                                NaN   \n17                                                NaN   \n18                                                NaN   \n19                                                NaN   \n20  Seeding density:We recommend seeding this mode...   \n21                                                NaN   \n22                                                NaN   \n23                                                NaN   \n24                                                NaN   \n25                                                NaN   \n26                                                NaN   \n27                                                NaN   \n28                                                NaN   \n29                                                NaN   \n30                                                NaN   \n31                                                NaN   \n32                                                NaN   \n33                                                NaN   \n34                                                NaN   \n35                                                NaN   \n36                                                NaN   \n37                                                NaN   \n38                                                NaN   \n39                                                NaN   \n40                                                NaN   \n41                                                NaN   \n42                                                NaN   \n43                                                NaN   \n44                                                NaN   \n45                                                NaN   \n46                                                NaN   \n47                                                NaN   \n\n   characteristics.metastatic  \n0                         NaN  \n1                         NaN  \n2                         NaN  \n3                         NaN  \n4                         NaN  \n5                         NaN  \n6                         NaN  \n7                         NaN  \n8                         NaN  \n9                         NaN  \n10                        NaN  \n11                        NaN  \n12                        NaN  \n13                        NaN  \n14                        NaN  \n15                        NaN  \n16          Metastatic; Liver  \n17                        NaN  \n18                        NaN  \n19                        NaN  \n20                        NaN  \n21                        NaN  \n22                        NaN  \n23                        NaN  \n24                        NaN  \n25                        NaN  \n26                        NaN  \n27                        NaN  \n28                        NaN  \n29                        NaN  \n30                        NaN  \n31                        NaN  \n32                        NaN  \n33                        NaN  \n34                        NaN  \n35                        NaN  \n36                        NaN  \n37                        NaN  \n38                        NaN  \n39                        NaN  \n40                        NaN  \n41                        NaN  \n42                        NaN  \n43                        NaN  \n44                        NaN  \n45                        NaN  \n46                        NaN  \n47                        NaN  \n\n[48 rows x 36 columns]",
      "text/html": "<div>\n<style scoped>\n    .dataframe tbody tr th:only-of-type {\n        vertical-align: middle;\n    }\n\n    .dataframe tbody tr th {\n        vertical-align: top;\n    }\n\n    .dataframe thead th {\n        text-align: right;\n    }\n</style>\n<table border=\"1\" class=\"dataframe\">\n  <thead>\n    <tr style=\"text-align: right;\">\n      <th></th>\n      <th>atcc</th>\n      <th>url</th>\n      <th>product_information.product_category</th>\n      <th>product_information.product_type</th>\n      <th>product_information.organism</th>\n      <th>product_information.morphology</th>\n      <th>product_information.tissue</th>\n      <th>product_information.disease</th>\n      <th>product_information.applications</th>\n      <th>product_information.product_format</th>\n      <th>...</th>\n      <th>quality_control_specifications.mycoplasma_contamination</th>\n      <th>quality_control_specifications.virus_testing</th>\n      <th>history.depositors</th>\n      <th>history.year_of_origin</th>\n      <th>history.special_collection</th>\n      <th>legal_disclaimers.intended_use</th>\n      <th>legal_disclaimers.warranty</th>\n      <th>legal_disclaimers.disclaimers</th>\n      <th>handling_information.handling_notes</th>\n      <th>characteristics.metastatic</th>\n    </tr>\n  </thead>\n  <tbody>\n    <tr>\n      <th>0</th>\n      <td>PDM-44</td>\n      <td>https://www.atcc.org/products/pdm-44</td>\n      <td>Human cells</td>\n      <td>Cell modelOrganoid</td>\n      <td>Homo sapiens, human</td>\n      <td>organoid</td>\n      <td>Large intestine; Rectum</td>\n      <td>Adenoma; Pre-malignant</td>\n      <td>3D cell cultureCancer research</td>\n      <td>Frozen</td>\n      <td>...</td>\n      <td>Not detected</td>\n      <td>Hepatitis B virus (HBV): Not detectedCytomegal...</td>\n      <td>Wellcome Sanger Institute</td>\n      <td>2017</td>\n      <td>Human Cancer Models Initiative (HCMI)</td>\n      <td>This product is intended for laboratory resear...</td>\n      <td>The product is provided 'AS IS' and the viabil...</td>\n      <td>This product is intended for laboratory resear...</td>\n      <td>NaN</td>\n      <td>NaN</td>\n    </tr>\n    <tr>\n      <th>1</th>\n      <td>PDM-43</td>\n      <td>https://www.atcc.org/products/pdm-43</td>\n      <td>Human cells</td>\n      <td>Cell modelOrganoid</td>\n      <td>Homo sapiens, human</td>\n      <td>organoid</td>\n      <td>Large intestine; Rectum</td>\n      <td>Adenocarcinoma; Primary</td>\n      <td>3D cell cultureCancer research</td>\n      <td>Frozen</td>\n      <td>...</td>\n      <td>Not detected</td>\n      <td>Hepatitis B virus (HBV): Not detectedCytomegal...</td>\n      <td>Wellcome Sanger Institute</td>\n      <td>2017</td>\n      <td>Human Cancer Models Initiative (HCMI)</td>\n      <td>This product is intended for laboratory resear...</td>\n      <td>The product is provided 'AS IS' and the viabil...</td>\n      <td>This product is intended for laboratory resear...</td>\n      <td>NaN</td>\n      <td>NaN</td>\n    </tr>\n    <tr>\n      <th>2</th>\n      <td>PDM-67</td>\n      <td>https://www.atcc.org/products/pdm-67</td>\n      <td>Human cells</td>\n      <td>Cell modelOrganoid</td>\n      <td>Homo sapiens, human</td>\n      <td>organoid</td>\n      <td>Esophagus</td>\n      <td>Adenocarcinoma; Primary</td>\n      <td>3D cell cultureCancer research</td>\n      <td>Frozen</td>\n      <td>...</td>\n      <td>Not detected</td>\n      <td>Hepatitis B virus (HBV): Not detectedCytomegal...</td>\n      <td>Wellcome Sanger Institute</td>\n      <td>2017</td>\n      <td>Human Cancer Models Initiative (HCMI)</td>\n      <td>This product is intended for laboratory resear...</td>\n      <td>The product is provided 'AS IS' and the viabil...</td>\n      <td>This product is intended for laboratory resear...</td>\n      <td>NaN</td>\n      <td>NaN</td>\n    </tr>\n    <tr>\n      <th>3</th>\n      <td>PDM-71</td>\n      <td>https://www.atcc.org/products/pdm-71</td>\n      <td>Human cells</td>\n      <td>Cell modelOrganoid</td>\n      <td>Homo sapiens, human</td>\n      <td>organoid</td>\n      <td>Esophagus</td>\n      <td>Adenocarcinoma; Primary</td>\n      <td>3D cell cultureCancer research</td>\n      <td>Frozen</td>\n      <td>...</td>\n      <td>Not detected</td>\n      <td>Hepatitis B virus (HBV): Not detectedCytomegal...</td>\n      <td>Wellcome Sanger Institute</td>\n      <td>2017</td>\n      <td>Human Cancer Models Initiative (HCMI)</td>\n      <td>This product is intended for laboratory resear...</td>\n      <td>The product is provided 'AS IS' and the viabil...</td>\n      <td>This product is intended for laboratory resear...</td>\n      <td>Seeding density:We recommend seeding this mode...</td>\n      <td>NaN</td>\n    </tr>\n    <tr>\n      <th>4</th>\n      <td>PDM-47</td>\n      <td>https://www.atcc.org/products/pdm-47</td>\n      <td>Human cells</td>\n      <td>Cell modelOrganoid</td>\n      <td>Homo sapiens, human</td>\n      <td>organoid</td>\n      <td>Large intestine; Rectum</td>\n      <td>Adenocarcinoma; Primary</td>\n      <td>3D cell cultureCancer research</td>\n      <td>Frozen</td>\n      <td>...</td>\n      <td>Not detected</td>\n      <td>Hepatitis B virus (HBV): Not detectedCytomegal...</td>\n      <td>Wellcome Sanger Institute</td>\n      <td>2017</td>\n      <td>Human Cancer Models Initiative (HCMI)</td>\n      <td>This product is intended for laboratory resear...</td>\n      <td>The product is provided 'AS IS' and the viabil...</td>\n      <td>This product is intended for laboratory resear...</td>\n      <td>NaN</td>\n      <td>NaN</td>\n    </tr>\n    <tr>\n      <th>5</th>\n      <td>PDM-46</td>\n      <td>https://www.atcc.org/products/pdm-46</td>\n      <td>Human cells</td>\n      <td>Cell modelOrganoid</td>\n      <td>Homo sapiens, human</td>\n      <td>organoid</td>\n      <td>Large intestine; Colon</td>\n      <td>Adenocarcinoma; Primary</td>\n      <td>3D cell cultureCancer research</td>\n      <td>Frozen</td>\n      <td>...</td>\n      <td>Not detected</td>\n      <td>Hepatitis B virus (HBV): Not detectedCytomegal...</td>\n      <td>Wellcome Sanger Institute</td>\n      <td>NaN</td>\n      <td>Human Cancer Models Initiative (HCMI)</td>\n      <td>This product is intended for laboratory resear...</td>\n      <td>The product is provided 'AS IS' and the viabil...</td>\n      <td>This product is intended for laboratory resear...</td>\n      <td>NaN</td>\n      <td>NaN</td>\n    </tr>\n    <tr>\n      <th>6</th>\n      <td>PDM-90</td>\n      <td>https://www.atcc.org/products/pdm-90</td>\n      <td>Human cells</td>\n      <td>Cell modelOrganoid</td>\n      <td>Homo sapiens, human</td>\n      <td>organoid</td>\n      <td>Pancreas</td>\n      <td>Adenocarcinoma; Primary</td>\n      <td>3D cell cultureCancer research</td>\n      <td>Frozen</td>\n      <td>...</td>\n      <td>Not detected</td>\n      <td>Hepatitis B virus (HBV): Not detectedCytomegal...</td>\n      <td>Wellcome Sanger Institute</td>\n      <td>2017</td>\n      <td>Human Cancer Models Initiative (HCMI)</td>\n      <td>This product is intended for laboratory resear...</td>\n      <td>The product is provided 'AS IS' and the viabil...</td>\n      <td>This product is intended for laboratory resear...</td>\n      <td>NaN</td>\n      <td>NaN</td>\n    </tr>\n    <tr>\n      <th>7</th>\n      <td>PDM-58</td>\n      <td>https://www.atcc.org/products/pdm-58</td>\n      <td>Human cells</td>\n      <td>Cell modelOrganoid</td>\n      <td>Homo sapiens, human</td>\n      <td>organoid</td>\n      <td>Large intestine; Colon</td>\n      <td>Adenocarcinoma; Primary</td>\n      <td>3D cell cultureCancer research</td>\n      <td>Frozen</td>\n      <td>...</td>\n      <td>Not detected</td>\n      <td>Hepatitis B virus (HBV): Not detectedCytomegal...</td>\n      <td>Wellcome Sanger Institute</td>\n      <td>2017</td>\n      <td>Human Cancer Models Initiative (HCMI)</td>\n      <td>This product is intended for laboratory resear...</td>\n      <td>The product is provided 'AS IS' and the viabil...</td>\n      <td>This product is intended for laboratory resear...</td>\n      <td>NaN</td>\n      <td>NaN</td>\n    </tr>\n    <tr>\n      <th>8</th>\n      <td>PDM-73</td>\n      <td>https://www.atcc.org/products/pdm-73</td>\n      <td>Human cells</td>\n      <td>Cell modelOrganoid</td>\n      <td>Homo sapiens, human</td>\n      <td>organoid</td>\n      <td>Esophagus</td>\n      <td>Malignant neoplasm</td>\n      <td>3D cell cultureCancer research</td>\n      <td>Frozen</td>\n      <td>...</td>\n      <td>Not detected</td>\n      <td>Hepatitis B virus (HBV): Not detectedCytomegal...</td>\n      <td>Wellcome Sanger Institute</td>\n      <td>2017</td>\n      <td>Human Cancer Models Initiative (HCMI)</td>\n      <td>This product is intended for laboratory resear...</td>\n      <td>The product is provided 'AS IS' and the viabil...</td>\n      <td>This product is intended for laboratory resear...</td>\n      <td>NaN</td>\n      <td>NaN</td>\n    </tr>\n    <tr>\n      <th>9</th>\n      <td>PDM-79</td>\n      <td>https://www.atcc.org/products/pdm-79</td>\n      <td>Human cells</td>\n      <td>Cell modelOrganoid</td>\n      <td>Homo sapiens, human</td>\n      <td>organoid</td>\n      <td>Esophagus</td>\n      <td>Adenocarcinoma; Primary</td>\n      <td>3D cell cultureCancer research</td>\n      <td>Frozen</td>\n      <td>...</td>\n      <td>Not detected</td>\n      <td>Hepatitis B virus (HBV): Not detectedCytomegal...</td>\n      <td>Wellcome Sanger Institute</td>\n      <td>2017</td>\n      <td>Human Cancer Models Initiative (HCMI)</td>\n      <td>This product is intended for laboratory resear...</td>\n      <td>The product is provided 'AS IS' and the viabil...</td>\n      <td>This product is intended for laboratory resear...</td>\n      <td>Seeding density:We recommend seeding this mode...</td>\n      <td>NaN</td>\n    </tr>\n    <tr>\n      <th>10</th>\n      <td>PDM-50</td>\n      <td>https://www.atcc.org/products/pdm-50</td>\n      <td>Human cells</td>\n      <td>Cell modelOrganoid</td>\n      <td>Homo sapiens, human</td>\n      <td>organoid</td>\n      <td>Large intestine; Ascending colon</td>\n      <td>Malignant neoplasm</td>\n      <td>3D cell cultureCancer research</td>\n      <td>Frozen</td>\n      <td>...</td>\n      <td>Not detected</td>\n      <td>Hepatitis B virus (HBV): Not detectedCytomegal...</td>\n      <td>Wellcome Sanger Institute</td>\n      <td>2018</td>\n      <td>Human Cancer Models Initiative (HCMI)</td>\n      <td>This product is intended for laboratory resear...</td>\n      <td>The product is provided 'AS IS' and the viabil...</td>\n      <td>This product is intended for laboratory resear...</td>\n      <td>NaN</td>\n      <td>NaN</td>\n    </tr>\n    <tr>\n      <th>11</th>\n      <td>PDM-65</td>\n      <td>https://www.atcc.org/products/pdm-65</td>\n      <td>Human cells</td>\n      <td>Cell modelOrganoid</td>\n      <td>Homo sapiens, human</td>\n      <td>organoid</td>\n      <td>Esophagus</td>\n      <td>Malignant neoplasm</td>\n      <td>3D cell cultureCancer research</td>\n      <td>Frozen</td>\n      <td>...</td>\n      <td>Not detected</td>\n      <td>Hepatitis B virus (HBV): Not detectedCytomegal...</td>\n      <td>Wellcome Sanger Institute</td>\n      <td>2016</td>\n      <td>Human Cancer Models Initiative (HCMI)</td>\n      <td>This product is intended for laboratory resear...</td>\n      <td>The product is provided 'AS IS' and the viabil...</td>\n      <td>This product is intended for laboratory resear...</td>\n      <td>NaN</td>\n      <td>NaN</td>\n    </tr>\n    <tr>\n      <th>12</th>\n      <td>PDM-72</td>\n      <td>https://www.atcc.org/products/pdm-72</td>\n      <td>Human cells</td>\n      <td>Cell modelOrganoid</td>\n      <td>Homo sapiens, human</td>\n      <td>organoid</td>\n      <td>Esophagus</td>\n      <td>Adenocarcinoma; Primary</td>\n      <td>3D cell cultureCancer research</td>\n      <td>Frozen</td>\n      <td>...</td>\n      <td>Not detected</td>\n      <td>Hepatitis B virus (HBV): Not detectedCytomegal...</td>\n      <td>Wellcome Sanger Institute</td>\n      <td>2018</td>\n      <td>Human Cancer Models Initiative (HCMI)</td>\n      <td>This product is intended for laboratory resear...</td>\n      <td>The product is provided 'AS IS' and the viabil...</td>\n      <td>This product is intended for laboratory resear...</td>\n      <td>NaN</td>\n      <td>NaN</td>\n    </tr>\n    <tr>\n      <th>13</th>\n      <td>PDM-53</td>\n      <td>https://www.atcc.org/products/pdm-53</td>\n      <td>Human cells</td>\n      <td>Cell modelOrganoid</td>\n      <td>Homo sapiens, human</td>\n      <td>organoid</td>\n      <td>Large intestine; Colon</td>\n      <td>Adenocarcinoma; Primary</td>\n      <td>3D cell cultureCancer research</td>\n      <td>Frozen</td>\n      <td>...</td>\n      <td>Not detected</td>\n      <td>Hepatitis B virus (HBV): Not detectedCytomegal...</td>\n      <td>Wellcome Sanger Institute</td>\n      <td>2018</td>\n      <td>Human Cancer Models Initiative (HCMI)</td>\n      <td>This product is intended for laboratory resear...</td>\n      <td>The product is provided 'AS IS' and the viabil...</td>\n      <td>This product is intended for laboratory resear...</td>\n      <td>NaN</td>\n      <td>NaN</td>\n    </tr>\n    <tr>\n      <th>14</th>\n      <td>PDM-83</td>\n      <td>https://www.atcc.org/products/pdm-83</td>\n      <td>Human cells</td>\n      <td>Cell modelOrganoid</td>\n      <td>Homo sapiens, human</td>\n      <td>organoid</td>\n      <td>Esophagus</td>\n      <td>Malignant neoplasm</td>\n      <td>3D cell cultureCancer research</td>\n      <td>Frozen</td>\n      <td>...</td>\n      <td>Not detected</td>\n      <td>Hepatitis B virus (HBV): Not detectedCytomegal...</td>\n      <td>Wellcome Sanger Institute</td>\n      <td>2018</td>\n      <td>Human Cancer Models Initiative (HCMI)</td>\n      <td>This product is intended for laboratory resear...</td>\n      <td>The product is provided 'AS IS' and the viabil...</td>\n      <td>This product is intended for laboratory resear...</td>\n      <td>NaN</td>\n      <td>NaN</td>\n    </tr>\n    <tr>\n      <th>15</th>\n      <td>PDM-45</td>\n      <td>https://www.atcc.org/products/pdm-45</td>\n      <td>Human cells</td>\n      <td>Cell modelOrganoid</td>\n      <td>Homo sapiens, human</td>\n      <td>organoid</td>\n      <td>Large intestine; Colon</td>\n      <td>Adenocarcinoma; Primary</td>\n      <td>3D cell cultureCancer research</td>\n      <td>Frozen</td>\n      <td>...</td>\n      <td>Not detected</td>\n      <td>Hepatitis B virus (HBV): Not detectedCytomegal...</td>\n      <td>Wellcome Sanger Institute</td>\n      <td>2018</td>\n      <td>Human Cancer Models Initiative (HCMI)</td>\n      <td>This product is intended for laboratory resear...</td>\n      <td>The product is provided 'AS IS' and the viabil...</td>\n      <td>This product is intended for laboratory resear...</td>\n      <td>NaN</td>\n      <td>NaN</td>\n    </tr>\n    <tr>\n      <th>16</th>\n      <td>PDM-42</td>\n      <td>https://www.atcc.org/products/pdm-42</td>\n      <td>Human cells</td>\n      <td>Cell modelOrganoid</td>\n      <td>Homo sapiens, human</td>\n      <td>Organoid</td>\n      <td>Large intestine; Colon</td>\n      <td>Adenocarcinoma; Metastatic</td>\n      <td>3D cell cultureCancer research</td>\n      <td>Frozen</td>\n      <td>...</td>\n      <td>Not detected</td>\n      <td>Hepatitis B virus (HBV): Not detectedCytomegal...</td>\n      <td>Wellcome Sanger Institute</td>\n      <td>NaN</td>\n      <td>Human Cancer Models Initiative (HCMI)</td>\n      <td>This product is intended for laboratory resear...</td>\n      <td>The product is provided 'AS IS' and the viabil...</td>\n      <td>This product is intended for laboratory resear...</td>\n      <td>NaN</td>\n      <td>Metastatic; Liver</td>\n    </tr>\n    <tr>\n      <th>17</th>\n      <td>PDM-48</td>\n      <td>https://www.atcc.org/products/pdm-48</td>\n      <td>Human cells</td>\n      <td>Cell modelOrganoid</td>\n      <td>Homo sapiens, human</td>\n      <td>Organoid</td>\n      <td>Large intestine; Colon</td>\n      <td>Adenoma; Pre-malignant</td>\n      <td>3D cell cultureCancer research</td>\n      <td>Frozen</td>\n      <td>...</td>\n      <td>Not detected</td>\n      <td>Hepatitis B virus (HBV): Not detectedCytomegal...</td>\n      <td>Wellcome Sanger Institute</td>\n      <td>2018</td>\n      <td>Human Cancer Models Initiative (HCMI)</td>\n      <td>This product is intended for laboratory resear...</td>\n      <td>The product is provided 'AS IS' and the viabil...</td>\n      <td>This product is intended for laboratory resear...</td>\n      <td>NaN</td>\n      <td>NaN</td>\n    </tr>\n    <tr>\n      <th>18</th>\n      <td>PDM-51</td>\n      <td>https://www.atcc.org/products/pdm-51</td>\n      <td>Human cells</td>\n      <td>Cell modelOrganoid</td>\n      <td>Homo sapiens, human</td>\n      <td>organoid</td>\n      <td>Large intestine; Colon</td>\n      <td>Adenocarcinoma; Primary</td>\n      <td>3D cell cultureCancer research</td>\n      <td>Frozen</td>\n      <td>...</td>\n      <td>Not detected</td>\n      <td>Cytomegalovirus (CMV): Not detectedEpstein-Bar...</td>\n      <td>Wellcome Sanger Institute</td>\n      <td>2018</td>\n      <td>Human Cancer Models Initiative (HCMI)</td>\n      <td>This product is intended for laboratory resear...</td>\n      <td>The product is provided 'AS IS' and the viabil...</td>\n      <td>This product is intended for laboratory resear...</td>\n      <td>NaN</td>\n      <td>NaN</td>\n    </tr>\n    <tr>\n      <th>19</th>\n      <td>PDM-57</td>\n      <td>https://www.atcc.org/products/pdm-57</td>\n      <td>Human cells</td>\n      <td>Cell modelOrganoid</td>\n      <td>Homo sapiens, human</td>\n      <td>organoid</td>\n      <td>Large intestine; Colon</td>\n      <td>Adenocarcinoma; Primary</td>\n      <td>3D cell cultureCancer research</td>\n      <td>Frozen</td>\n      <td>...</td>\n      <td>Not detected</td>\n      <td>Cytomegalovirus (CMV): Not detectedEpstein-Bar...</td>\n      <td>Wellcome Sanger Institute</td>\n      <td>2018</td>\n      <td>Human Cancer Models Initiative (HCMI)</td>\n      <td>This product is intended for laboratory resear...</td>\n      <td>The product is provided 'AS IS' and the viabil...</td>\n      <td>This product is intended for laboratory resear...</td>\n      <td>NaN</td>\n      <td>NaN</td>\n    </tr>\n    <tr>\n      <th>20</th>\n      <td>PDM-74</td>\n      <td>https://www.atcc.org/products/pdm-74</td>\n      <td>Human cells</td>\n      <td>Cell modelOrganoid</td>\n      <td>Homo sapiens, human</td>\n      <td>organoid</td>\n      <td>Esophagus</td>\n      <td>Adenocarcinoma; Primary</td>\n      <td>3D cell cultureCancer research</td>\n      <td>Frozen</td>\n      <td>...</td>\n      <td>Not detected</td>\n      <td>Cytomegalovirus (CMV): Not detectedEpstein-Bar...</td>\n      <td>Wellcome Sanger Institute</td>\n      <td>NaN</td>\n      <td>Human Cancer Models Initiative (HCMI)</td>\n      <td>This product is intended for laboratory resear...</td>\n      <td>The product is provided 'AS IS' and the viabil...</td>\n      <td>This product is intended for laboratory resear...</td>\n      <td>Seeding density:We recommend seeding this mode...</td>\n      <td>NaN</td>\n    </tr>\n    <tr>\n      <th>21</th>\n      <td>PDM-70</td>\n      <td>https://www.atcc.org/products/pdm-70</td>\n      <td>Human cells</td>\n      <td>Cell modelOrganoid</td>\n      <td>Homo sapiens, human</td>\n      <td>organoid</td>\n      <td>Esophagus</td>\n      <td>Malignant neoplasmAdenocarcinoma</td>\n      <td>3D cell cultureCancer research</td>\n      <td>Frozen</td>\n      <td>...</td>\n      <td>Not detected</td>\n      <td>Cytomegalovirus (CMV): Not detectedEpstein-Bar...</td>\n      <td>Wellcome Sanger Institute</td>\n      <td>2018</td>\n      <td>Human Cancer Models Initiative (HCMI)</td>\n      <td>This product is intended for laboratory resear...</td>\n      <td>The product is provided 'AS IS' and the viabil...</td>\n      <td>This product is intended for laboratory resear...</td>\n      <td>NaN</td>\n      <td>NaN</td>\n    </tr>\n    <tr>\n      <th>22</th>\n      <td>PDM-59</td>\n      <td>https://www.atcc.org/products/pdm-59</td>\n      <td>Human cells</td>\n      <td>Cell modelOrganoid</td>\n      <td>Homo sapiens, human</td>\n      <td>organoid</td>\n      <td>Large intestine; Colon</td>\n      <td>Adenocarcinoma; Primary</td>\n      <td>3D cell cultureCancer research</td>\n      <td>Frozen</td>\n      <td>...</td>\n      <td>Not detected</td>\n      <td>Cytomegalovirus (CMV): Not detectedEpstein-Bar...</td>\n      <td>Wellcome Sanger Institute</td>\n      <td>2018</td>\n      <td>Human Cancer Models Initiative (HCMI)</td>\n      <td>This product is intended for laboratory resear...</td>\n      <td>The product is provided 'AS IS' and the viabil...</td>\n      <td>This product is intended for laboratory resear...</td>\n      <td>NaN</td>\n      <td>NaN</td>\n    </tr>\n    <tr>\n      <th>23</th>\n      <td>PDM-68</td>\n      <td>https://www.atcc.org/products/pdm-68</td>\n      <td>Human cells</td>\n      <td>Cell modelOrganoid</td>\n      <td>Homo sapiens, human</td>\n      <td>organoid</td>\n      <td>Esophagus</td>\n      <td>Adenocarcinoma; Primary</td>\n      <td>3D cell cultureCancer research</td>\n      <td>Frozen</td>\n      <td>...</td>\n      <td>Not detected</td>\n      <td>Cytomegalovirus (CMV): Not detectedEpstein-Bar...</td>\n      <td>Wellcome Sanger Institute</td>\n      <td>2018</td>\n      <td>Human Cancer Models Initiative (HCMI)</td>\n      <td>This product is intended for laboratory resear...</td>\n      <td>The product is provided 'AS IS' and the viabil...</td>\n      <td>This product is intended for laboratory resear...</td>\n      <td>NaN</td>\n      <td>NaN</td>\n    </tr>\n    <tr>\n      <th>24</th>\n      <td>PDM-60</td>\n      <td>https://www.atcc.org/products/pdm-60</td>\n      <td>Human cells</td>\n      <td>Cell modelOrganoid</td>\n      <td>Homo sapiens, human</td>\n      <td>organoid</td>\n      <td>Large intestine; Colon</td>\n      <td>Adenocarcinoma; Primary</td>\n      <td>3D cell cultureCancer research</td>\n      <td>Frozen</td>\n      <td>...</td>\n      <td>Not detected</td>\n      <td>Cytomegalovirus (CMV): Not detectedEpstein-Bar...</td>\n      <td>Wellcome Sanger Institute</td>\n      <td>2018</td>\n      <td>Human Cancer Models Initiative (HCMI)</td>\n      <td>This product is intended for laboratory resear...</td>\n      <td>The product is provided 'AS IS' and the viabil...</td>\n      <td>This product is intended for laboratory resear...</td>\n      <td>NaN</td>\n      <td>NaN</td>\n    </tr>\n    <tr>\n      <th>25</th>\n      <td>PDM-61</td>\n      <td>https://www.atcc.org/products/pdm-61</td>\n      <td>Human cells</td>\n      <td>Cell modelOrganoid</td>\n      <td>Homo sapiens, human</td>\n      <td>organoid</td>\n      <td>Small intestine; Colon</td>\n      <td>Adenocarcinoma; Primary</td>\n      <td>3D cell cultureCancer research</td>\n      <td>Frozen</td>\n      <td>...</td>\n      <td>Not detected</td>\n      <td>Cytomegalovirus (CMV): Not detectedEpstein-Bar...</td>\n      <td>Wellcome Sanger Institute</td>\n      <td>2018</td>\n      <td>Human Cancer Models Initiative (HCMI)</td>\n      <td>This product is intended for laboratory resear...</td>\n      <td>The product is provided 'AS IS' and the viabil...</td>\n      <td>This product is intended for laboratory resear...</td>\n      <td>NaN</td>\n      <td>NaN</td>\n    </tr>\n    <tr>\n      <th>26</th>\n      <td>PDM-62</td>\n      <td>https://www.atcc.org/products/pdm-62</td>\n      <td>Human cells</td>\n      <td>Cell modelOrganoid</td>\n      <td>Homo sapiens, human</td>\n      <td>organoid</td>\n      <td>Small intestine; Rectum</td>\n      <td>Adenocarcinoma; Primary</td>\n      <td>3D cell cultureCancer research</td>\n      <td>Frozen</td>\n      <td>...</td>\n      <td>Not detected</td>\n      <td>Cytomegalovirus (CMV): Not detectedEpstein-Bar...</td>\n      <td>Wellcome Sanger Institute</td>\n      <td>2018</td>\n      <td>Human Cancer Models Initiative (HCMI)</td>\n      <td>This product is intended for laboratory resear...</td>\n      <td>The product is provided 'AS IS' and the viabil...</td>\n      <td>This product is intended for laboratory resear...</td>\n      <td>NaN</td>\n      <td>NaN</td>\n    </tr>\n    <tr>\n      <th>27</th>\n      <td>PDM-78</td>\n      <td>https://www.atcc.org/products/pdm-78</td>\n      <td>Human cells</td>\n      <td>Cell modelOrganoid</td>\n      <td>Homo sapiens, human</td>\n      <td>organoid</td>\n      <td>Esophagus</td>\n      <td>Adenocarcinoma; Primary</td>\n      <td>3D cell cultureCancer research</td>\n      <td>Frozen</td>\n      <td>...</td>\n      <td>Not detected</td>\n      <td>Cytomegalovirus (CMV): Not detectedEpstein-Bar...</td>\n      <td>Wellcome Sanger Institute</td>\n      <td>2018</td>\n      <td>Human Cancer Models Initiative (HCMI)</td>\n      <td>This product is intended for laboratory resear...</td>\n      <td>The product is provided 'AS IS' and the viabil...</td>\n      <td>This product is intended for laboratory resear...</td>\n      <td>NaN</td>\n      <td>NaN</td>\n    </tr>\n    <tr>\n      <th>28</th>\n      <td>PDM-64</td>\n      <td>https://www.atcc.org/products/pdm-64</td>\n      <td>Human cells</td>\n      <td>Cell modelOrganoid</td>\n      <td>Homo sapiens, human</td>\n      <td>organoid</td>\n      <td>Large intestine; Colon</td>\n      <td>Adenocarcinoma; Primary</td>\n      <td>Cancer research3D cell culture</td>\n      <td>Frozen</td>\n      <td>...</td>\n      <td>Not detected</td>\n      <td>Cytomegalovirus (CMV): Not detectedEpstein-Bar...</td>\n      <td>The Wellcome Sanger Institute</td>\n      <td>2021</td>\n      <td>Human Cancer Models Initiative (HCMI)</td>\n      <td>This product is intended for laboratory resear...</td>\n      <td>The product is provided 'AS IS' and the viabil...</td>\n      <td>This product is intended for laboratory resear...</td>\n      <td>NaN</td>\n      <td>NaN</td>\n    </tr>\n    <tr>\n      <th>29</th>\n      <td>PDM-76</td>\n      <td>https://www.atcc.org/products/pdm-76</td>\n      <td>Human cells</td>\n      <td>Cell modelOrganoid</td>\n      <td>Homo sapiens, human</td>\n      <td>organoid</td>\n      <td>Esophagus</td>\n      <td>Adenocarcinoma; Primary</td>\n      <td>3D cell cultureCancer research</td>\n      <td>Frozen</td>\n      <td>...</td>\n      <td>Not detected</td>\n      <td>Cytomegalovirus (CMV): Not detectedEpstein-Bar...</td>\n      <td>Wellcome Sanger Institute</td>\n      <td>2021</td>\n      <td>Human Cancer Models Initiative (HCMI)</td>\n      <td>This product is intended for laboratory resear...</td>\n      <td>The product is provided 'AS IS' and the viabil...</td>\n      <td>This product is intended for laboratory resear...</td>\n      <td>NaN</td>\n      <td>NaN</td>\n    </tr>\n    <tr>\n      <th>30</th>\n      <td>PDM-77</td>\n      <td>https://www.atcc.org/products/pdm-77</td>\n      <td>Human cells</td>\n      <td>Cell modelOrganoid</td>\n      <td>Homo sapiens, human</td>\n      <td>organoid</td>\n      <td>Esophagus</td>\n      <td>Adenocarcinoma; Primary</td>\n      <td>3D cell cultureCancer research</td>\n      <td>Frozen</td>\n      <td>...</td>\n      <td>Not detected</td>\n      <td>Cytomegalovirus (CMV): Not detectedEpstein-Bar...</td>\n      <td>Wellcome Sanger Institute</td>\n      <td>2021</td>\n      <td>Human Cancer Models Initiative (HCMI)</td>\n      <td>This product is intended for laboratory resear...</td>\n      <td>The product is provided 'AS IS' and the viabil...</td>\n      <td>This product is intended for laboratory resear...</td>\n      <td>NaN</td>\n      <td>NaN</td>\n    </tr>\n    <tr>\n      <th>31</th>\n      <td>PDM-82</td>\n      <td>https://www.atcc.org/products/pdm-82</td>\n      <td>Human cells</td>\n      <td>Cell modelOrganoid</td>\n      <td>Homo sapiens, human</td>\n      <td>Organoid</td>\n      <td>Esophagus</td>\n      <td>Adenocarcinoma; Primary</td>\n      <td>Cancer research3D cell culture</td>\n      <td>Frozen</td>\n      <td>...</td>\n      <td>Not detected</td>\n      <td>Cytomegalovirus (CMV): Not detectedEpstein-Bar...</td>\n      <td>Wellcome Sanger Institute</td>\n      <td>2021</td>\n      <td>Human Cancer Models Initiative (HCMI)</td>\n      <td>This product is intended for laboratory resear...</td>\n      <td>The product is provided 'AS IS' and the viabil...</td>\n      <td>This product is intended for laboratory resear...</td>\n      <td>NaN</td>\n      <td>NaN</td>\n    </tr>\n    <tr>\n      <th>32</th>\n      <td>PDM-63</td>\n      <td>https://www.atcc.org/products/pdm-63</td>\n      <td>Human cells</td>\n      <td>Cell modelOrganoid</td>\n      <td>Homo sapiens, human</td>\n      <td>Organoid</td>\n      <td>Large intestine; Rectum</td>\n      <td>Adenocarcinoma; Primary</td>\n      <td>Cancer research3D cell culture</td>\n      <td>Frozen</td>\n      <td>...</td>\n      <td>Not detected</td>\n      <td>Cytomegalovirus (CMV): Not detectedEpstein-Bar...</td>\n      <td>Wellcome Sanger Institute</td>\n      <td>2021</td>\n      <td>Human Cancer Models Initiative (HCMI)</td>\n      <td>This product is intended for laboratory resear...</td>\n      <td>The product is provided 'AS IS' and the viabil...</td>\n      <td>This product is intended for laboratory resear...</td>\n      <td>NaN</td>\n      <td>NaN</td>\n    </tr>\n    <tr>\n      <th>33</th>\n      <td>PDM-81</td>\n      <td>https://www.atcc.org/products/pdm-81</td>\n      <td>Human cells</td>\n      <td>Cell modelOrganoid</td>\n      <td>Homo sapiens, human</td>\n      <td>Organoid</td>\n      <td>Esophagus</td>\n      <td>Adenocarcinoma; Primary</td>\n      <td>Cancer research3D cell culture</td>\n      <td>Frozen</td>\n      <td>...</td>\n      <td>Not detected</td>\n      <td>Cytomegalovirus (CMV): Not detectedEpstein-Bar...</td>\n      <td>Wellcome Sanger Institute</td>\n      <td>2021</td>\n      <td>Human Cancer Models Initiative (HCMI)</td>\n      <td>This product is intended for laboratory resear...</td>\n      <td>The product is provided 'AS IS' and the viabil...</td>\n      <td>This product is intended for laboratory resear...</td>\n      <td>NaN</td>\n      <td>NaN</td>\n    </tr>\n    <tr>\n      <th>34</th>\n      <td>PDM-55</td>\n      <td>https://www.atcc.org/products/pdm-55</td>\n      <td>Human cells</td>\n      <td>OrganoidCell model</td>\n      <td>Homo sapiens, human</td>\n      <td>Organoid</td>\n      <td>Large intestine; Rectum</td>\n      <td>Adenocarcinoma; Primary</td>\n      <td>Cancer research3D cell culture</td>\n      <td>Frozen</td>\n      <td>...</td>\n      <td>Not detected</td>\n      <td>Cytomegalovirus (CMV): Not detectedEpstein-Bar...</td>\n      <td>Wellcome Sanger Institute</td>\n      <td>2021</td>\n      <td>Human Cancer Models Initiative (HCMI)</td>\n      <td>This product is intended for laboratory resear...</td>\n      <td>The product is provided 'AS IS' and the viabil...</td>\n      <td>This product is intended for laboratory resear...</td>\n      <td>NaN</td>\n      <td>NaN</td>\n    </tr>\n    <tr>\n      <th>35</th>\n      <td>PDM-75</td>\n      <td>https://www.atcc.org/products/pdm-75</td>\n      <td>Human cells</td>\n      <td>OrganoidCell model</td>\n      <td>Homo sapiens, human</td>\n      <td>Organoid</td>\n      <td>Esophagus</td>\n      <td>Adenocarcinoma; Primary</td>\n      <td>Cancer research3D cell culture</td>\n      <td>Frozen</td>\n      <td>...</td>\n      <td>Not detected</td>\n      <td>Cytomegalovirus (CMV): Not detectedEpstein-Bar...</td>\n      <td>Wellcome Sanger Institute</td>\n      <td>2021</td>\n      <td>Human Cancer Models Initiative (HCMI)</td>\n      <td>This product is intended for laboratory resear...</td>\n      <td>The product is provided 'AS IS' and the viabil...</td>\n      <td>This product is intended for laboratory resear...</td>\n      <td>NaN</td>\n      <td>NaN</td>\n    </tr>\n    <tr>\n      <th>36</th>\n      <td>PDM-330</td>\n      <td>https://www.atcc.org/products/pdm-330</td>\n      <td>Human cells</td>\n      <td>Cell modelOrganoid</td>\n      <td>Homo sapiens, human</td>\n      <td>organoid</td>\n      <td>Large intestine; Rectum</td>\n      <td>Cancer; Primary</td>\n      <td>3D cell cultureCancer research</td>\n      <td>Frozen</td>\n      <td>...</td>\n      <td>Not detected</td>\n      <td>Cytomegalovirus (CMV): Not detectedEpstein-Bar...</td>\n      <td>Wellcome Sanger Institute</td>\n      <td>NaN</td>\n      <td>Human Cancer Models Initiative (HCMI)</td>\n      <td>This product is intended for laboratory resear...</td>\n      <td>The product is provided 'AS IS' and the viabil...</td>\n      <td>This product is intended for laboratory resear...</td>\n      <td>NaN</td>\n      <td>NaN</td>\n    </tr>\n    <tr>\n      <th>37</th>\n      <td>PDM-80</td>\n      <td>https://www.atcc.org/products/pdm-80</td>\n      <td>Human cells</td>\n      <td>Cell modelOrganoid</td>\n      <td>Homo sapiens, human</td>\n      <td>organoid</td>\n      <td>Esophagus</td>\n      <td>Adenocarcinoma; Primary</td>\n      <td>Cancer research3D cell culture</td>\n      <td>Frozen</td>\n      <td>...</td>\n      <td>Not detected</td>\n      <td>Cytomegalovirus (CMV): Not detectedEpstein-Bar...</td>\n      <td>Wellcome Sanger Institute</td>\n      <td>2021</td>\n      <td>Human Cancer Models Initiative (HCMI)</td>\n      <td>This product is intended for laboratory resear...</td>\n      <td>The product is provided 'AS IS' and the viabil...</td>\n      <td>This product is intended for laboratory resear...</td>\n      <td>NaN</td>\n      <td>NaN</td>\n    </tr>\n    <tr>\n      <th>38</th>\n      <td>PDM-331</td>\n      <td>https://www.atcc.org/products/pdm-331</td>\n      <td>Human cells</td>\n      <td>Cell modelOrganoid</td>\n      <td>Homo sapiens, human</td>\n      <td>organoid</td>\n      <td>Large intestine; Rectum</td>\n      <td>Cancer; Primary</td>\n      <td>3D cell cultureCancer research</td>\n      <td>Frozen</td>\n      <td>...</td>\n      <td>Not detected</td>\n      <td>Cytomegalovirus (CMV): Not detectedEpstein-Bar...</td>\n      <td>Wellcome Sanger Institute</td>\n      <td>2021</td>\n      <td>Human Cancer Models Initiative (HCMI)</td>\n      <td>This product is intended for laboratory resear...</td>\n      <td>The product is provided 'AS IS' and the viabil...</td>\n      <td>This product is intended for laboratory resear...</td>\n      <td>NaN</td>\n      <td>NaN</td>\n    </tr>\n    <tr>\n      <th>39</th>\n      <td>PDM-86</td>\n      <td>https://www.atcc.org/products/pdm-86</td>\n      <td>Human cells</td>\n      <td>Cell modelOrganoid</td>\n      <td>Homo sapiens, human</td>\n      <td>organoid</td>\n      <td>Esophagus</td>\n      <td>Adenocarcinoma; Primary</td>\n      <td>3D cell cultureCancer research</td>\n      <td>Frozen</td>\n      <td>...</td>\n      <td>Not detected</td>\n      <td>Cytomegalovirus (CMV): Not detectedEpstein-Bar...</td>\n      <td>Wellcome Sanger Institute</td>\n      <td>2021</td>\n      <td>Human Cancer Models Initiative (HCMI)</td>\n      <td>This product is intended for laboratory resear...</td>\n      <td>The product is provided 'AS IS' and the viabil...</td>\n      <td>This product is intended for laboratory resear...</td>\n      <td>NaN</td>\n      <td>NaN</td>\n    </tr>\n    <tr>\n      <th>40</th>\n      <td>PDM-49</td>\n      <td>https://www.atcc.org/products/pdm-49</td>\n      <td>Human cells</td>\n      <td>Cell modelOrganoid</td>\n      <td>Homo sapiens, human</td>\n      <td>organoid</td>\n      <td>Large intestine; Rectum</td>\n      <td>Adenocarcinoma; Primary</td>\n      <td>3D cell cultureCancer research</td>\n      <td>Frozen</td>\n      <td>...</td>\n      <td>Not detected</td>\n      <td>Cytomegalovirus (CMV): Not detectedEpstein-Bar...</td>\n      <td>Wellcome Sanger Institute</td>\n      <td>2021</td>\n      <td>Human Cancer Models Initiative (HCMI)</td>\n      <td>This product is intended for laboratory resear...</td>\n      <td>The product is provided 'AS IS' and the viabil...</td>\n      <td>This product is intended for laboratory resear...</td>\n      <td>NaN</td>\n      <td>NaN</td>\n    </tr>\n    <tr>\n      <th>41</th>\n      <td>PDM-84</td>\n      <td>https://www.atcc.org/products/pdm-84</td>\n      <td>Human cells</td>\n      <td>Cell modelOrganoid</td>\n      <td>Homo sapiens, human</td>\n      <td>Organoid</td>\n      <td>Esophagus</td>\n      <td>Adenocarcinoma; Primary</td>\n      <td>3D cell cultureCancer research</td>\n      <td>Frozen</td>\n      <td>...</td>\n      <td>Not detected</td>\n      <td>Cytomegalovirus (CMV): Not detectedEpstein-Bar...</td>\n      <td>Wellcome Sanger Institute</td>\n      <td>2021</td>\n      <td>Human Cancer Models Initiative (HCMI)</td>\n      <td>This product is intended for laboratory resear...</td>\n      <td>The product is provided 'AS IS' and the viabil...</td>\n      <td>This product is intended for laboratory resear...</td>\n      <td>NaN</td>\n      <td>NaN</td>\n    </tr>\n    <tr>\n      <th>42</th>\n      <td>PDM-87</td>\n      <td>https://www.atcc.org/products/pdm-87</td>\n      <td>Human cells</td>\n      <td>Cell modelOrganoid</td>\n      <td>Homo sapiens, human</td>\n      <td>organoid</td>\n      <td>Esophagus</td>\n      <td>Adenocarcinoma; Primary</td>\n      <td>3D cell cultureCancer research</td>\n      <td>Frozen</td>\n      <td>...</td>\n      <td>Not detected</td>\n      <td>Cytomegalovirus (CMV): Not detectedEpstein-Bar...</td>\n      <td>Wellcome Sanger Institute</td>\n      <td>2021</td>\n      <td>Human Cancer Models Initiative (HCMI)</td>\n      <td>This product is intended for laboratory resear...</td>\n      <td>The product is provided 'AS IS' and the viabil...</td>\n      <td>This product is intended for laboratory resear...</td>\n      <td>NaN</td>\n      <td>NaN</td>\n    </tr>\n    <tr>\n      <th>43</th>\n      <td>PDM-339</td>\n      <td>https://www.atcc.org/products/pdm-339</td>\n      <td>Human cells</td>\n      <td>Cell modelOrganoid</td>\n      <td>Homo sapiens, human</td>\n      <td>Organoid</td>\n      <td>Esophagus</td>\n      <td>Cancer; Primary</td>\n      <td>3D cell cultureCancer research</td>\n      <td>Frozen</td>\n      <td>...</td>\n      <td>Not detected</td>\n      <td>Cytomegalovirus (CMV): Not detectedEpstein-Bar...</td>\n      <td>Wellcome Sanger Institute</td>\n      <td>2021</td>\n      <td>NaN</td>\n      <td>This product is intended for laboratory resear...</td>\n      <td>The product is provided 'AS IS' and the viabil...</td>\n      <td>This product is intended for laboratory resear...</td>\n      <td>NaN</td>\n      <td>NaN</td>\n    </tr>\n    <tr>\n      <th>44</th>\n      <td>PDM-85</td>\n      <td>https://www.atcc.org/products/pdm-85</td>\n      <td>Human cells</td>\n      <td>Cell modelOrganoid</td>\n      <td>Homo sapiens, human</td>\n      <td>organoid</td>\n      <td>Esophagus</td>\n      <td>Adenocarcinoma; Primary</td>\n      <td>3D cell cultureCancer research</td>\n      <td>Frozen</td>\n      <td>...</td>\n      <td>Not detected</td>\n      <td>Cytomegalovirus (CMV): Not detectedEpstein-Bar...</td>\n      <td>Wellcome Sanger Institute</td>\n      <td>2021</td>\n      <td>Human Cancer Models Initiative (HCMI)</td>\n      <td>This product is intended for laboratory resear...</td>\n      <td>The product is provided 'AS IS' and the viabil...</td>\n      <td>This product is intended for laboratory resear...</td>\n      <td>NaN</td>\n      <td>NaN</td>\n    </tr>\n    <tr>\n      <th>45</th>\n      <td>PDM-52</td>\n      <td>https://www.atcc.org/products/pdm-52</td>\n      <td>Human cells</td>\n      <td>Cell modelOrganoid</td>\n      <td>Homo sapiens, human</td>\n      <td>organoid</td>\n      <td>Large intestine; Colon</td>\n      <td>Adenocarcinoma; Primary</td>\n      <td>3D cell cultureCancer research</td>\n      <td>Frozen</td>\n      <td>...</td>\n      <td>Not detected</td>\n      <td>Cytomegalovirus (CMV): Not detectedEpstein-Bar...</td>\n      <td>Wellcome Sanger Institute</td>\n      <td>2022</td>\n      <td>Human Cancer Models Initiative (HCMI)</td>\n      <td>This product is intended for laboratory resear...</td>\n      <td>The product is provided 'AS IS' and the viabil...</td>\n      <td>This product is intended for laboratory resear...</td>\n      <td>NaN</td>\n      <td>NaN</td>\n    </tr>\n    <tr>\n      <th>46</th>\n      <td>PDM-54</td>\n      <td>https://www.atcc.org/products/pdm-54</td>\n      <td>Human cells</td>\n      <td>Cell modelOrganoid</td>\n      <td>Homo sapiens, human</td>\n      <td>organoid</td>\n      <td>Large intestine; Colon</td>\n      <td>Adenocarcinoma; Primary</td>\n      <td>3D cell cultureCancer research</td>\n      <td>Frozen</td>\n      <td>...</td>\n      <td>Not detected</td>\n      <td>Cytomegalovirus (CMV): Not detectedEpstein-Bar...</td>\n      <td>Wellcome Sanger Institute</td>\n      <td>2022</td>\n      <td>Human Cancer Models Initiative (HCMI)</td>\n      <td>This product is intended for laboratory resear...</td>\n      <td>The product is provided 'AS IS' and the viabil...</td>\n      <td>This product is intended for laboratory resear...</td>\n      <td>NaN</td>\n      <td>NaN</td>\n    </tr>\n    <tr>\n      <th>47</th>\n      <td>PDM-56</td>\n      <td>https://www.atcc.org/products/pdm-56</td>\n      <td>Human cells</td>\n      <td>Cell modelOrganoid</td>\n      <td>Homo sapiens, human</td>\n      <td>organoid</td>\n      <td>Large intestine; Colon</td>\n      <td>Adenocarcinoma; Primary</td>\n      <td>3D cell cultureCancer research</td>\n      <td>Frozen</td>\n      <td>...</td>\n      <td>Not detected</td>\n      <td>Cytomegalovirus (CMV): Not detectedEpstein-Bar...</td>\n      <td>Wellcome Sanger Institute</td>\n      <td>2022</td>\n      <td>Human Cancer Models Initiative (HCMI)</td>\n      <td>This product is intended for laboratory resear...</td>\n      <td>The product is provided 'AS IS' and the viabil...</td>\n      <td>This product is intended for laboratory resear...</td>\n      <td>NaN</td>\n      <td>NaN</td>\n    </tr>\n  </tbody>\n</table>\n<p>48 rows × 36 columns</p>\n</div>"
     },
     "execution_count": 327,
     "metadata": {},
     "output_type": "execute_result"
    }
   ],
   "source": [
    "text = sang_atcc\n",
    "text['handling_information.complete_medium'].unique()"
   ],
   "metadata": {
    "collapsed": false,
    "ExecuteTime": {
     "end_time": "2024-04-09T11:01:39.817583Z",
     "start_time": "2024-04-09T11:01:39.731166Z"
    }
   },
   "execution_count": 327
  },
  {
   "cell_type": "code",
   "outputs": [
    {
     "data": {
      "text/plain": "'To prepare the complete medium for this organoid please refer to theOrganoid Media Formulation #1.ATCC offers the recombinant proteins, small molecules and other supplements to make this complete medium; CoreKit 1A (ATCC ACS-7100) provides these supplements in convenient, pre-portioned, ready-to-reconstitute format that does not require aliquoting or storage once prepared.'"
     },
     "execution_count": 326,
     "metadata": {},
     "output_type": "execute_result"
    }
   ],
   "source": [
    "text[text['handling_information.complete_medium'].str.contains('theOrganoid Media Formulation #1')]['handling_information.complete_medium'].unique()[0]"
   ],
   "metadata": {
    "collapsed": false,
    "ExecuteTime": {
     "end_time": "2024-04-09T11:00:12.964247Z",
     "start_time": "2024-04-09T11:00:12.880295Z"
    }
   },
   "execution_count": 326
  },
  {
   "cell_type": "code",
   "outputs": [],
   "source": [
    "conditions = [text['handling_information.complete_medium'].str.contains('theOrganoid Media Formulation #4'),\n",
    "              text['handling_information.complete_medium'].str.contains('theOrganoid Media Formulation #5'),\n",
    "              text['handling_information.complete_medium'].str.contains('theOrganoid Media Formulation #7'),\n",
    "              text['handling_information.complete_medium'].str.contains('theOrganoid Media Formulation #1'),\n",
    "              ]\n",
    "\n",
    "\n",
    "replacements = ['ATCC ACS-7103', 'ATCC ACS-7104', 'ATCC ACS-7101', 'ATCC ACS-7100',]\n",
    "\n",
    "\n",
    "growth_media = ['Organoid Growth Kit 1D', 'Organoid Growth Kit 1E', 'Organoid Growth Kit 1B', 'Organoid Growth Kit 1A',]\n",
    "\n",
    "supplements = ['Not provided', 'Not provided', 'Not provided', 'Not provided']\n",
    "\n",
    "text['media_id'] = np.select(conditions, replacements, default='Not provided')\n",
    "text['growth_media'] = np.select(conditions, growth_media, default='Not provided')\n",
    "text['supplements'] = np.select(conditions, supplements, default='Not provided')\n",
    "text['growth_properties'] = text['characteristics.growth_properties']\n",
    "text['contaminated'] = np.where((text['quality_control_specifications.bacterial_and_fungal_testing'] == 'Not detected') & (text['quality_control_specifications.mycoplasma_contamination'] == 'Not detected'), 'No', 'Yes')\n",
    "\n",
    "text['contamination_details'] = np.where((text['quality_control_specifications.bacterial_and_fungal_testing'] == 'Not detected') & (text['quality_control_specifications.mycoplasma_contamination'] == 'Not detected'), 'No contamination detected', 'Not provided')\n",
    "\n",
    "text['model_purity'] = np.where(text['characteristics.metastatic'].fillna('Not provided') == 'Not provided', 'Not provided', 'Tumor cells')\n",
    "\n",
    "text['STR_analysis'] = 'Not provided'#np.where(text['quality_control_specifications.str_profiling'].fillna('Not provided') == 'Not provided', 'No', 'Yes')\n",
    "\n",
    "text['morphological_features'] = text['product_information.morphology'].fillna('Not provided')\n",
    "\n",
    "text['virology_status'] = np.where(text['quality_control_specifications.virus_testing'].str.lower().str.replace('detected', 'detected, ').str.replace('not detected', '').str.contains('detected'), 'Detected', 'Not detected')"
   ],
   "metadata": {
    "collapsed": false,
    "ExecuteTime": {
     "end_time": "2024-04-09T11:01:54.435150Z",
     "start_time": "2024-04-09T11:01:54.335074Z"
    }
   },
   "execution_count": 328
  },
  {
   "cell_type": "code",
   "outputs": [
    {
     "data": {
      "text/plain": "array(['Organoid Growth Kit 1D', 'Organoid Growth Kit 1E',\n       'Organoid Growth Kit 1B', 'Organoid Growth Kit 1A'], dtype=object)"
     },
     "execution_count": 330,
     "metadata": {},
     "output_type": "execute_result"
    }
   ],
   "source": [
    "text['growth_media'].unique()"
   ],
   "metadata": {
    "collapsed": false,
    "ExecuteTime": {
     "end_time": "2024-04-09T11:02:19.553302Z",
     "start_time": "2024-04-09T11:02:19.454779Z"
    }
   },
   "execution_count": 330
  },
  {
   "cell_type": "code",
   "outputs": [],
   "source": [
    "cell_sheet = read_metadata_without_fields(join(home, 'SANG', 'SANG_metadata-cell_model.tsv'))\n",
    "cell_template = read_metadata_with_fields(join(home, 'SANG', 'SANG_metadata-cell_model.tsv')).iloc[0:4]\n",
    "merged = cell_sheet.merge(text, left_on='catalog_number', right_on='atcc', how='left', suffixes=('_og', '_supplier'))\n",
    "merged['growth_properties'] = merged['growth_properties_supplier']\n",
    "merged['media_id'] = merged['media_id_supplier']\n",
    "merged['growth_media'] = merged['growth_media_supplier']\n",
    "merged['contaminated'] = merged['contaminated_supplier']\n",
    "merged['contamination_details'] = merged['contamination_details_supplier']\n",
    "merged['supplements'] = merged['supplements_supplier']\n",
    "pd.concat([cell_template, merged[cell_sheet.columns]]).reset_index(drop=True).to_csv(join(home, 'SANG', 'SANG_metadata-cell_model.tsv'), sep='\\t', index=False)"
   ],
   "metadata": {
    "collapsed": false,
    "ExecuteTime": {
     "end_time": "2024-04-09T11:03:55.793592Z",
     "start_time": "2024-04-09T11:03:55.665805Z"
    }
   },
   "execution_count": 331
  },
  {
   "cell_type": "code",
   "outputs": [],
   "source": [
    "mv_sheet = read_metadata_without_fields(join(home, 'SANG', 'SANG_metadata-model_validation.tsv'))\n",
    "mv_template = read_metadata_with_fields(join(home, 'SANG', 'SANG_metadata-model_validation.tsv')).iloc[0:4]\n",
    "x = merged[['model_id', 'morphological_features', 'STR_analysis', 'model_purity']]\n",
    "mv_sheet['model_id'] = merged['model_id']\n",
    "mv_sheet = mv_sheet.fillna('Not provided')\n",
    "mv_sheet['morphological_features'] = merged['morphological_features']\n",
    "mv_sheet['STR_analysis'] = merged['STR_analysis']\n",
    "mv_sheet['model_purity'] = merged['model_purity']\n",
    "pd.concat([mv_template, mv_sheet[mv_sheet.columns]]).reset_index(drop=True).to_csv(join(home, 'SANG', 'SANG_metadata-model_validation.tsv'), sep='\\t', index=False)"
   ],
   "metadata": {
    "collapsed": false,
    "ExecuteTime": {
     "end_time": "2024-04-09T11:05:35.485549Z",
     "start_time": "2024-04-09T11:05:35.379423Z"
    }
   },
   "execution_count": 332
  },
  {
   "cell_type": "code",
   "outputs": [],
   "source": [
    "patient_sheet = read_metadata_without_fields(join(home, 'SANG', 'SANG_metadata-patient.tsv'))\n",
    "patient_template = read_metadata_with_fields(join(home, 'SANG', 'SANG_metadata-patient.tsv')).iloc[0:4]\n",
    "patient_sheet['age_category'] = ['Not provided' if r.__contains__('Not') else 'Adult' if int(r) > 21 else 'Paediatric' for r in patient_sheet['age_at_initial_diagnosis']]\n",
    "pd.concat([patient_template, patient_sheet[patient_sheet.columns]]).reset_index(drop=True).to_csv(join(home, 'SANG', 'SANG_metadata-patient.tsv'), sep='\\t', index=False)"
   ],
   "metadata": {
    "collapsed": false,
    "ExecuteTime": {
     "end_time": "2024-04-09T11:08:33.803144Z",
     "start_time": "2024-04-09T11:08:33.710966Z"
    }
   },
   "execution_count": 333
  },
  {
   "cell_type": "code",
   "outputs": [
    {
     "data": {
      "text/plain": "       atcc                                    url  \\\n0    PDM-44   https://www.atcc.org/products/pdm-44   \n1    PDM-43   https://www.atcc.org/products/pdm-43   \n2    PDM-67   https://www.atcc.org/products/pdm-67   \n3    PDM-71   https://www.atcc.org/products/pdm-71   \n4    PDM-47   https://www.atcc.org/products/pdm-47   \n5    PDM-46   https://www.atcc.org/products/pdm-46   \n6    PDM-90   https://www.atcc.org/products/pdm-90   \n7    PDM-58   https://www.atcc.org/products/pdm-58   \n8    PDM-73   https://www.atcc.org/products/pdm-73   \n9    PDM-79   https://www.atcc.org/products/pdm-79   \n10   PDM-50   https://www.atcc.org/products/pdm-50   \n11   PDM-65   https://www.atcc.org/products/pdm-65   \n12   PDM-72   https://www.atcc.org/products/pdm-72   \n13   PDM-53   https://www.atcc.org/products/pdm-53   \n14   PDM-83   https://www.atcc.org/products/pdm-83   \n15   PDM-45   https://www.atcc.org/products/pdm-45   \n16   PDM-42   https://www.atcc.org/products/pdm-42   \n17   PDM-48   https://www.atcc.org/products/pdm-48   \n18   PDM-51   https://www.atcc.org/products/pdm-51   \n19   PDM-57   https://www.atcc.org/products/pdm-57   \n20   PDM-74   https://www.atcc.org/products/pdm-74   \n21   PDM-70   https://www.atcc.org/products/pdm-70   \n22   PDM-59   https://www.atcc.org/products/pdm-59   \n23   PDM-68   https://www.atcc.org/products/pdm-68   \n24   PDM-60   https://www.atcc.org/products/pdm-60   \n25   PDM-61   https://www.atcc.org/products/pdm-61   \n26   PDM-62   https://www.atcc.org/products/pdm-62   \n27   PDM-78   https://www.atcc.org/products/pdm-78   \n28   PDM-64   https://www.atcc.org/products/pdm-64   \n29   PDM-76   https://www.atcc.org/products/pdm-76   \n30   PDM-77   https://www.atcc.org/products/pdm-77   \n31   PDM-82   https://www.atcc.org/products/pdm-82   \n32   PDM-63   https://www.atcc.org/products/pdm-63   \n33   PDM-81   https://www.atcc.org/products/pdm-81   \n34   PDM-55   https://www.atcc.org/products/pdm-55   \n35   PDM-75   https://www.atcc.org/products/pdm-75   \n36  PDM-330  https://www.atcc.org/products/pdm-330   \n37   PDM-80   https://www.atcc.org/products/pdm-80   \n38  PDM-331  https://www.atcc.org/products/pdm-331   \n39   PDM-86   https://www.atcc.org/products/pdm-86   \n40   PDM-49   https://www.atcc.org/products/pdm-49   \n41   PDM-84   https://www.atcc.org/products/pdm-84   \n42   PDM-87   https://www.atcc.org/products/pdm-87   \n43  PDM-339  https://www.atcc.org/products/pdm-339   \n44   PDM-85   https://www.atcc.org/products/pdm-85   \n45   PDM-52   https://www.atcc.org/products/pdm-52   \n46   PDM-54   https://www.atcc.org/products/pdm-54   \n47   PDM-56   https://www.atcc.org/products/pdm-56   \n\n   product_information.product_category product_information.product_type  \\\n0                           Human cells               Cell modelOrganoid   \n1                           Human cells               Cell modelOrganoid   \n2                           Human cells               Cell modelOrganoid   \n3                           Human cells               Cell modelOrganoid   \n4                           Human cells               Cell modelOrganoid   \n5                           Human cells               Cell modelOrganoid   \n6                           Human cells               Cell modelOrganoid   \n7                           Human cells               Cell modelOrganoid   \n8                           Human cells               Cell modelOrganoid   \n9                           Human cells               Cell modelOrganoid   \n10                          Human cells               Cell modelOrganoid   \n11                          Human cells               Cell modelOrganoid   \n12                          Human cells               Cell modelOrganoid   \n13                          Human cells               Cell modelOrganoid   \n14                          Human cells               Cell modelOrganoid   \n15                          Human cells               Cell modelOrganoid   \n16                          Human cells               Cell modelOrganoid   \n17                          Human cells               Cell modelOrganoid   \n18                          Human cells               Cell modelOrganoid   \n19                          Human cells               Cell modelOrganoid   \n20                          Human cells               Cell modelOrganoid   \n21                          Human cells               Cell modelOrganoid   \n22                          Human cells               Cell modelOrganoid   \n23                          Human cells               Cell modelOrganoid   \n24                          Human cells               Cell modelOrganoid   \n25                          Human cells               Cell modelOrganoid   \n26                          Human cells               Cell modelOrganoid   \n27                          Human cells               Cell modelOrganoid   \n28                          Human cells               Cell modelOrganoid   \n29                          Human cells               Cell modelOrganoid   \n30                          Human cells               Cell modelOrganoid   \n31                          Human cells               Cell modelOrganoid   \n32                          Human cells               Cell modelOrganoid   \n33                          Human cells               Cell modelOrganoid   \n34                          Human cells               OrganoidCell model   \n35                          Human cells               OrganoidCell model   \n36                          Human cells               Cell modelOrganoid   \n37                          Human cells               Cell modelOrganoid   \n38                          Human cells               Cell modelOrganoid   \n39                          Human cells               Cell modelOrganoid   \n40                          Human cells               Cell modelOrganoid   \n41                          Human cells               Cell modelOrganoid   \n42                          Human cells               Cell modelOrganoid   \n43                          Human cells               Cell modelOrganoid   \n44                          Human cells               Cell modelOrganoid   \n45                          Human cells               Cell modelOrganoid   \n46                          Human cells               Cell modelOrganoid   \n47                          Human cells               Cell modelOrganoid   \n\n   product_information.organism product_information.morphology  \\\n0           Homo sapiens, human                       organoid   \n1           Homo sapiens, human                       organoid   \n2           Homo sapiens, human                       organoid   \n3           Homo sapiens, human                       organoid   \n4           Homo sapiens, human                       organoid   \n5           Homo sapiens, human                       organoid   \n6           Homo sapiens, human                       organoid   \n7           Homo sapiens, human                       organoid   \n8           Homo sapiens, human                       organoid   \n9           Homo sapiens, human                       organoid   \n10          Homo sapiens, human                       organoid   \n11          Homo sapiens, human                       organoid   \n12          Homo sapiens, human                       organoid   \n13          Homo sapiens, human                       organoid   \n14          Homo sapiens, human                       organoid   \n15          Homo sapiens, human                       organoid   \n16          Homo sapiens, human                       Organoid   \n17          Homo sapiens, human                       Organoid   \n18          Homo sapiens, human                       organoid   \n19          Homo sapiens, human                       organoid   \n20          Homo sapiens, human                       organoid   \n21          Homo sapiens, human                       organoid   \n22          Homo sapiens, human                       organoid   \n23          Homo sapiens, human                       organoid   \n24          Homo sapiens, human                       organoid   \n25          Homo sapiens, human                       organoid   \n26          Homo sapiens, human                       organoid   \n27          Homo sapiens, human                       organoid   \n28          Homo sapiens, human                       organoid   \n29          Homo sapiens, human                       organoid   \n30          Homo sapiens, human                       organoid   \n31          Homo sapiens, human                       Organoid   \n32          Homo sapiens, human                       Organoid   \n33          Homo sapiens, human                       Organoid   \n34          Homo sapiens, human                       Organoid   \n35          Homo sapiens, human                       Organoid   \n36          Homo sapiens, human                       organoid   \n37          Homo sapiens, human                       organoid   \n38          Homo sapiens, human                       organoid   \n39          Homo sapiens, human                       organoid   \n40          Homo sapiens, human                       organoid   \n41          Homo sapiens, human                       Organoid   \n42          Homo sapiens, human                       organoid   \n43          Homo sapiens, human                       Organoid   \n44          Homo sapiens, human                       organoid   \n45          Homo sapiens, human                       organoid   \n46          Homo sapiens, human                       organoid   \n47          Homo sapiens, human                       organoid   \n\n          product_information.tissue       product_information.disease  \\\n0            Large intestine; Rectum            Adenoma; Pre-malignant   \n1            Large intestine; Rectum           Adenocarcinoma; Primary   \n2                          Esophagus           Adenocarcinoma; Primary   \n3                          Esophagus           Adenocarcinoma; Primary   \n4            Large intestine; Rectum           Adenocarcinoma; Primary   \n5             Large intestine; Colon           Adenocarcinoma; Primary   \n6                           Pancreas           Adenocarcinoma; Primary   \n7             Large intestine; Colon           Adenocarcinoma; Primary   \n8                          Esophagus                Malignant neoplasm   \n9                          Esophagus           Adenocarcinoma; Primary   \n10  Large intestine; Ascending colon                Malignant neoplasm   \n11                         Esophagus                Malignant neoplasm   \n12                         Esophagus           Adenocarcinoma; Primary   \n13            Large intestine; Colon           Adenocarcinoma; Primary   \n14                         Esophagus                Malignant neoplasm   \n15            Large intestine; Colon           Adenocarcinoma; Primary   \n16            Large intestine; Colon        Adenocarcinoma; Metastatic   \n17            Large intestine; Colon            Adenoma; Pre-malignant   \n18            Large intestine; Colon           Adenocarcinoma; Primary   \n19            Large intestine; Colon           Adenocarcinoma; Primary   \n20                         Esophagus           Adenocarcinoma; Primary   \n21                         Esophagus  Malignant neoplasmAdenocarcinoma   \n22            Large intestine; Colon           Adenocarcinoma; Primary   \n23                         Esophagus           Adenocarcinoma; Primary   \n24            Large intestine; Colon           Adenocarcinoma; Primary   \n25            Small intestine; Colon           Adenocarcinoma; Primary   \n26           Small intestine; Rectum           Adenocarcinoma; Primary   \n27                         Esophagus           Adenocarcinoma; Primary   \n28            Large intestine; Colon           Adenocarcinoma; Primary   \n29                         Esophagus           Adenocarcinoma; Primary   \n30                         Esophagus           Adenocarcinoma; Primary   \n31                         Esophagus           Adenocarcinoma; Primary   \n32           Large intestine; Rectum           Adenocarcinoma; Primary   \n33                         Esophagus           Adenocarcinoma; Primary   \n34           Large intestine; Rectum           Adenocarcinoma; Primary   \n35                         Esophagus           Adenocarcinoma; Primary   \n36           Large intestine; Rectum                   Cancer; Primary   \n37                         Esophagus           Adenocarcinoma; Primary   \n38           Large intestine; Rectum                   Cancer; Primary   \n39                         Esophagus           Adenocarcinoma; Primary   \n40           Large intestine; Rectum           Adenocarcinoma; Primary   \n41                         Esophagus           Adenocarcinoma; Primary   \n42                         Esophagus           Adenocarcinoma; Primary   \n43                         Esophagus                   Cancer; Primary   \n44                         Esophagus           Adenocarcinoma; Primary   \n45            Large intestine; Colon           Adenocarcinoma; Primary   \n46            Large intestine; Colon           Adenocarcinoma; Primary   \n47            Large intestine; Colon           Adenocarcinoma; Primary   \n\n   product_information.applications product_information.product_format  ...  \\\n0    3D cell cultureCancer research                             Frozen  ...   \n1    3D cell cultureCancer research                             Frozen  ...   \n2    3D cell cultureCancer research                             Frozen  ...   \n3    3D cell cultureCancer research                             Frozen  ...   \n4    3D cell cultureCancer research                             Frozen  ...   \n5    3D cell cultureCancer research                             Frozen  ...   \n6    3D cell cultureCancer research                             Frozen  ...   \n7    3D cell cultureCancer research                             Frozen  ...   \n8    3D cell cultureCancer research                             Frozen  ...   \n9    3D cell cultureCancer research                             Frozen  ...   \n10   3D cell cultureCancer research                             Frozen  ...   \n11   3D cell cultureCancer research                             Frozen  ...   \n12   3D cell cultureCancer research                             Frozen  ...   \n13   3D cell cultureCancer research                             Frozen  ...   \n14   3D cell cultureCancer research                             Frozen  ...   \n15   3D cell cultureCancer research                             Frozen  ...   \n16   3D cell cultureCancer research                             Frozen  ...   \n17   3D cell cultureCancer research                             Frozen  ...   \n18   3D cell cultureCancer research                             Frozen  ...   \n19   3D cell cultureCancer research                             Frozen  ...   \n20   3D cell cultureCancer research                             Frozen  ...   \n21   3D cell cultureCancer research                             Frozen  ...   \n22   3D cell cultureCancer research                             Frozen  ...   \n23   3D cell cultureCancer research                             Frozen  ...   \n24   3D cell cultureCancer research                             Frozen  ...   \n25   3D cell cultureCancer research                             Frozen  ...   \n26   3D cell cultureCancer research                             Frozen  ...   \n27   3D cell cultureCancer research                             Frozen  ...   \n28   Cancer research3D cell culture                             Frozen  ...   \n29   3D cell cultureCancer research                             Frozen  ...   \n30   3D cell cultureCancer research                             Frozen  ...   \n31   Cancer research3D cell culture                             Frozen  ...   \n32   Cancer research3D cell culture                             Frozen  ...   \n33   Cancer research3D cell culture                             Frozen  ...   \n34   Cancer research3D cell culture                             Frozen  ...   \n35   Cancer research3D cell culture                             Frozen  ...   \n36   3D cell cultureCancer research                             Frozen  ...   \n37   Cancer research3D cell culture                             Frozen  ...   \n38   3D cell cultureCancer research                             Frozen  ...   \n39   3D cell cultureCancer research                             Frozen  ...   \n40   3D cell cultureCancer research                             Frozen  ...   \n41   3D cell cultureCancer research                             Frozen  ...   \n42   3D cell cultureCancer research                             Frozen  ...   \n43   3D cell cultureCancer research                             Frozen  ...   \n44   3D cell cultureCancer research                             Frozen  ...   \n45   3D cell cultureCancer research                             Frozen  ...   \n46   3D cell cultureCancer research                             Frozen  ...   \n47   3D cell cultureCancer research                             Frozen  ...   \n\n         media_id            growth_media   supplements    growth_properties  \\\n0   ATCC ACS-7103  Organoid Growth Kit 1D  Not provided  Embedded 3D culture   \n1   ATCC ACS-7103  Organoid Growth Kit 1D  Not provided  Embedded 3D culture   \n2   ATCC ACS-7104  Organoid Growth Kit 1E  Not provided  Embedded 3D culture   \n3   ATCC ACS-7104  Organoid Growth Kit 1E  Not provided  Embedded 3D culture   \n4   ATCC ACS-7103  Organoid Growth Kit 1D  Not provided  Embedded 3D culture   \n5   ATCC ACS-7103  Organoid Growth Kit 1D  Not provided  Embedded 3D culture   \n6   ATCC ACS-7101  Organoid Growth Kit 1B  Not provided  Embedded 3D culture   \n7   ATCC ACS-7103  Organoid Growth Kit 1D  Not provided  Embedded 3D culture   \n8   ATCC ACS-7104  Organoid Growth Kit 1E  Not provided  Embedded 3D culture   \n9   ATCC ACS-7104  Organoid Growth Kit 1E  Not provided  Embedded 3D culture   \n10  ATCC ACS-7103  Organoid Growth Kit 1D  Not provided  Embedded 3D culture   \n11  ATCC ACS-7104  Organoid Growth Kit 1E  Not provided  Embedded 3D culture   \n12  ATCC ACS-7104  Organoid Growth Kit 1E  Not provided  Embedded 3D culture   \n13  ATCC ACS-7103  Organoid Growth Kit 1D  Not provided  Embedded 3D culture   \n14  ATCC ACS-7104  Organoid Growth Kit 1E  Not provided  Embedded 3D culture   \n15  ATCC ACS-7103  Organoid Growth Kit 1D  Not provided  Embedded 3D culture   \n16  ATCC ACS-7103  Organoid Growth Kit 1D  Not provided  Embedded 3D culture   \n17  ATCC ACS-7103  Organoid Growth Kit 1D  Not provided  Embedded 3D culture   \n18  ATCC ACS-7103  Organoid Growth Kit 1D  Not provided  Embedded 3D culture   \n19  ATCC ACS-7103  Organoid Growth Kit 1D  Not provided  Embedded 3D culture   \n20  ATCC ACS-7104  Organoid Growth Kit 1E  Not provided  Embedded 3D culture   \n21  ATCC ACS-7104  Organoid Growth Kit 1E  Not provided  Embedded 3D culture   \n22  ATCC ACS-7103  Organoid Growth Kit 1D  Not provided  Embedded 3D culture   \n23  ATCC ACS-7103  Organoid Growth Kit 1D  Not provided  Embedded 3D culture   \n24  ATCC ACS-7103  Organoid Growth Kit 1D  Not provided  Embedded 3D culture   \n25  ATCC ACS-7103  Organoid Growth Kit 1D  Not provided  Embedded 3D culture   \n26  ATCC ACS-7103  Organoid Growth Kit 1D  Not provided  Embedded 3D culture   \n27  ATCC ACS-7104  Organoid Growth Kit 1E  Not provided  Embedded 3D culture   \n28  ATCC ACS-7100  Organoid Growth Kit 1A  Not provided  Embedded 3D culture   \n29  ATCC ACS-7104  Organoid Growth Kit 1E  Not provided  Embedded 3D culture   \n30  ATCC ACS-7104  Organoid Growth Kit 1E  Not provided  Embedded 3D culture   \n31  ATCC ACS-7104  Organoid Growth Kit 1E  Not provided  Embedded 3D culture   \n32  ATCC ACS-7103  Organoid Growth Kit 1D  Not provided  Embedded 3D culture   \n33  ATCC ACS-7104  Organoid Growth Kit 1E  Not provided  Embedded 3D culture   \n34  ATCC ACS-7103  Organoid Growth Kit 1D  Not provided  Embedded 3D culture   \n35  ATCC ACS-7104  Organoid Growth Kit 1E  Not provided  Embedded 3D culture   \n36  ATCC ACS-7103  Organoid Growth Kit 1D  Not provided  Embedded 3D culture   \n37  ATCC ACS-7104  Organoid Growth Kit 1E  Not provided  Embedded 3D culture   \n38  ATCC ACS-7103  Organoid Growth Kit 1D  Not provided  Embedded 3D culture   \n39  ATCC ACS-7104  Organoid Growth Kit 1E  Not provided  Embedded 3D culture   \n40  ATCC ACS-7103  Organoid Growth Kit 1D  Not provided  Embedded 3D culture   \n41  ATCC ACS-7104  Organoid Growth Kit 1E  Not provided  Embedded 3D culture   \n42  ATCC ACS-7104  Organoid Growth Kit 1E  Not provided  Embedded 3D culture   \n43  ATCC ACS-7104  Organoid Growth Kit 1E  Not provided  Embedded 3D culture   \n44  ATCC ACS-7104  Organoid Growth Kit 1E  Not provided  Embedded 3D culture   \n45  ATCC ACS-7103  Organoid Growth Kit 1D  Not provided  Embedded 3D culture   \n46  ATCC ACS-7103  Organoid Growth Kit 1D  Not provided  Embedded 3D culture   \n47  ATCC ACS-7103  Organoid Growth Kit 1D  Not provided  Embedded 3D culture   \n\n   contaminated      contamination_details  model_purity  STR_analysis  \\\n0            No  No contamination detected  Not provided  Not provided   \n1            No  No contamination detected  Not provided  Not provided   \n2            No  No contamination detected  Not provided  Not provided   \n3            No  No contamination detected  Not provided  Not provided   \n4            No  No contamination detected  Not provided  Not provided   \n5            No  No contamination detected  Not provided  Not provided   \n6            No  No contamination detected  Not provided  Not provided   \n7            No  No contamination detected  Not provided  Not provided   \n8            No  No contamination detected  Not provided  Not provided   \n9            No  No contamination detected  Not provided  Not provided   \n10           No  No contamination detected  Not provided  Not provided   \n11           No  No contamination detected  Not provided  Not provided   \n12           No  No contamination detected  Not provided  Not provided   \n13           No  No contamination detected  Not provided  Not provided   \n14           No  No contamination detected  Not provided  Not provided   \n15           No  No contamination detected  Not provided  Not provided   \n16           No  No contamination detected   Tumor cells  Not provided   \n17           No  No contamination detected  Not provided  Not provided   \n18           No  No contamination detected  Not provided  Not provided   \n19           No  No contamination detected  Not provided  Not provided   \n20           No  No contamination detected  Not provided  Not provided   \n21           No  No contamination detected  Not provided  Not provided   \n22           No  No contamination detected  Not provided  Not provided   \n23           No  No contamination detected  Not provided  Not provided   \n24           No  No contamination detected  Not provided  Not provided   \n25           No  No contamination detected  Not provided  Not provided   \n26           No  No contamination detected  Not provided  Not provided   \n27           No  No contamination detected  Not provided  Not provided   \n28           No  No contamination detected  Not provided  Not provided   \n29           No  No contamination detected  Not provided  Not provided   \n30           No  No contamination detected  Not provided  Not provided   \n31           No  No contamination detected  Not provided  Not provided   \n32           No  No contamination detected  Not provided  Not provided   \n33           No  No contamination detected  Not provided  Not provided   \n34           No  No contamination detected  Not provided  Not provided   \n35           No  No contamination detected  Not provided  Not provided   \n36           No  No contamination detected  Not provided  Not provided   \n37           No  No contamination detected  Not provided  Not provided   \n38           No  No contamination detected  Not provided  Not provided   \n39           No  No contamination detected  Not provided  Not provided   \n40           No  No contamination detected  Not provided  Not provided   \n41           No  No contamination detected  Not provided  Not provided   \n42           No  No contamination detected  Not provided  Not provided   \n43           No  No contamination detected  Not provided  Not provided   \n44           No  No contamination detected  Not provided  Not provided   \n45           No  No contamination detected  Not provided  Not provided   \n46           No  No contamination detected  Not provided  Not provided   \n47           No  No contamination detected  Not provided  Not provided   \n\n   morphological_features virology_status  \n0                organoid    Not detected  \n1                organoid    Not detected  \n2                organoid    Not detected  \n3                organoid    Not detected  \n4                organoid    Not detected  \n5                organoid    Not detected  \n6                organoid    Not detected  \n7                organoid    Not detected  \n8                organoid    Not detected  \n9                organoid    Not detected  \n10               organoid    Not detected  \n11               organoid    Not detected  \n12               organoid    Not detected  \n13               organoid    Not detected  \n14               organoid    Not detected  \n15               organoid    Not detected  \n16               Organoid    Not detected  \n17               Organoid    Not detected  \n18               organoid    Not detected  \n19               organoid    Not detected  \n20               organoid    Not detected  \n21               organoid    Not detected  \n22               organoid    Not detected  \n23               organoid    Not detected  \n24               organoid    Not detected  \n25               organoid    Not detected  \n26               organoid    Not detected  \n27               organoid    Not detected  \n28               organoid    Not detected  \n29               organoid    Not detected  \n30               organoid    Not detected  \n31               Organoid    Not detected  \n32               Organoid    Not detected  \n33               Organoid    Not detected  \n34               Organoid    Not detected  \n35               Organoid    Not detected  \n36               organoid    Not detected  \n37               organoid    Not detected  \n38               organoid    Not detected  \n39               organoid    Not detected  \n40               organoid    Not detected  \n41               Organoid    Not detected  \n42               organoid    Not detected  \n43               Organoid    Not detected  \n44               organoid    Not detected  \n45               organoid    Not detected  \n46               organoid    Not detected  \n47               organoid    Not detected  \n\n[48 rows x 46 columns]",
      "text/html": "<div>\n<style scoped>\n    .dataframe tbody tr th:only-of-type {\n        vertical-align: middle;\n    }\n\n    .dataframe tbody tr th {\n        vertical-align: top;\n    }\n\n    .dataframe thead th {\n        text-align: right;\n    }\n</style>\n<table border=\"1\" class=\"dataframe\">\n  <thead>\n    <tr style=\"text-align: right;\">\n      <th></th>\n      <th>atcc</th>\n      <th>url</th>\n      <th>product_information.product_category</th>\n      <th>product_information.product_type</th>\n      <th>product_information.organism</th>\n      <th>product_information.morphology</th>\n      <th>product_information.tissue</th>\n      <th>product_information.disease</th>\n      <th>product_information.applications</th>\n      <th>product_information.product_format</th>\n      <th>...</th>\n      <th>media_id</th>\n      <th>growth_media</th>\n      <th>supplements</th>\n      <th>growth_properties</th>\n      <th>contaminated</th>\n      <th>contamination_details</th>\n      <th>model_purity</th>\n      <th>STR_analysis</th>\n      <th>morphological_features</th>\n      <th>virology_status</th>\n    </tr>\n  </thead>\n  <tbody>\n    <tr>\n      <th>0</th>\n      <td>PDM-44</td>\n      <td>https://www.atcc.org/products/pdm-44</td>\n      <td>Human cells</td>\n      <td>Cell modelOrganoid</td>\n      <td>Homo sapiens, human</td>\n      <td>organoid</td>\n      <td>Large intestine; Rectum</td>\n      <td>Adenoma; Pre-malignant</td>\n      <td>3D cell cultureCancer research</td>\n      <td>Frozen</td>\n      <td>...</td>\n      <td>ATCC ACS-7103</td>\n      <td>Organoid Growth Kit 1D</td>\n      <td>Not provided</td>\n      <td>Embedded 3D culture</td>\n      <td>No</td>\n      <td>No contamination detected</td>\n      <td>Not provided</td>\n      <td>Not provided</td>\n      <td>organoid</td>\n      <td>Not detected</td>\n    </tr>\n    <tr>\n      <th>1</th>\n      <td>PDM-43</td>\n      <td>https://www.atcc.org/products/pdm-43</td>\n      <td>Human cells</td>\n      <td>Cell modelOrganoid</td>\n      <td>Homo sapiens, human</td>\n      <td>organoid</td>\n      <td>Large intestine; Rectum</td>\n      <td>Adenocarcinoma; Primary</td>\n      <td>3D cell cultureCancer research</td>\n      <td>Frozen</td>\n      <td>...</td>\n      <td>ATCC ACS-7103</td>\n      <td>Organoid Growth Kit 1D</td>\n      <td>Not provided</td>\n      <td>Embedded 3D culture</td>\n      <td>No</td>\n      <td>No contamination detected</td>\n      <td>Not provided</td>\n      <td>Not provided</td>\n      <td>organoid</td>\n      <td>Not detected</td>\n    </tr>\n    <tr>\n      <th>2</th>\n      <td>PDM-67</td>\n      <td>https://www.atcc.org/products/pdm-67</td>\n      <td>Human cells</td>\n      <td>Cell modelOrganoid</td>\n      <td>Homo sapiens, human</td>\n      <td>organoid</td>\n      <td>Esophagus</td>\n      <td>Adenocarcinoma; Primary</td>\n      <td>3D cell cultureCancer research</td>\n      <td>Frozen</td>\n      <td>...</td>\n      <td>ATCC ACS-7104</td>\n      <td>Organoid Growth Kit 1E</td>\n      <td>Not provided</td>\n      <td>Embedded 3D culture</td>\n      <td>No</td>\n      <td>No contamination detected</td>\n      <td>Not provided</td>\n      <td>Not provided</td>\n      <td>organoid</td>\n      <td>Not detected</td>\n    </tr>\n    <tr>\n      <th>3</th>\n      <td>PDM-71</td>\n      <td>https://www.atcc.org/products/pdm-71</td>\n      <td>Human cells</td>\n      <td>Cell modelOrganoid</td>\n      <td>Homo sapiens, human</td>\n      <td>organoid</td>\n      <td>Esophagus</td>\n      <td>Adenocarcinoma; Primary</td>\n      <td>3D cell cultureCancer research</td>\n      <td>Frozen</td>\n      <td>...</td>\n      <td>ATCC ACS-7104</td>\n      <td>Organoid Growth Kit 1E</td>\n      <td>Not provided</td>\n      <td>Embedded 3D culture</td>\n      <td>No</td>\n      <td>No contamination detected</td>\n      <td>Not provided</td>\n      <td>Not provided</td>\n      <td>organoid</td>\n      <td>Not detected</td>\n    </tr>\n    <tr>\n      <th>4</th>\n      <td>PDM-47</td>\n      <td>https://www.atcc.org/products/pdm-47</td>\n      <td>Human cells</td>\n      <td>Cell modelOrganoid</td>\n      <td>Homo sapiens, human</td>\n      <td>organoid</td>\n      <td>Large intestine; Rectum</td>\n      <td>Adenocarcinoma; Primary</td>\n      <td>3D cell cultureCancer research</td>\n      <td>Frozen</td>\n      <td>...</td>\n      <td>ATCC ACS-7103</td>\n      <td>Organoid Growth Kit 1D</td>\n      <td>Not provided</td>\n      <td>Embedded 3D culture</td>\n      <td>No</td>\n      <td>No contamination detected</td>\n      <td>Not provided</td>\n      <td>Not provided</td>\n      <td>organoid</td>\n      <td>Not detected</td>\n    </tr>\n    <tr>\n      <th>5</th>\n      <td>PDM-46</td>\n      <td>https://www.atcc.org/products/pdm-46</td>\n      <td>Human cells</td>\n      <td>Cell modelOrganoid</td>\n      <td>Homo sapiens, human</td>\n      <td>organoid</td>\n      <td>Large intestine; Colon</td>\n      <td>Adenocarcinoma; Primary</td>\n      <td>3D cell cultureCancer research</td>\n      <td>Frozen</td>\n      <td>...</td>\n      <td>ATCC ACS-7103</td>\n      <td>Organoid Growth Kit 1D</td>\n      <td>Not provided</td>\n      <td>Embedded 3D culture</td>\n      <td>No</td>\n      <td>No contamination detected</td>\n      <td>Not provided</td>\n      <td>Not provided</td>\n      <td>organoid</td>\n      <td>Not detected</td>\n    </tr>\n    <tr>\n      <th>6</th>\n      <td>PDM-90</td>\n      <td>https://www.atcc.org/products/pdm-90</td>\n      <td>Human cells</td>\n      <td>Cell modelOrganoid</td>\n      <td>Homo sapiens, human</td>\n      <td>organoid</td>\n      <td>Pancreas</td>\n      <td>Adenocarcinoma; Primary</td>\n      <td>3D cell cultureCancer research</td>\n      <td>Frozen</td>\n      <td>...</td>\n      <td>ATCC ACS-7101</td>\n      <td>Organoid Growth Kit 1B</td>\n      <td>Not provided</td>\n      <td>Embedded 3D culture</td>\n      <td>No</td>\n      <td>No contamination detected</td>\n      <td>Not provided</td>\n      <td>Not provided</td>\n      <td>organoid</td>\n      <td>Not detected</td>\n    </tr>\n    <tr>\n      <th>7</th>\n      <td>PDM-58</td>\n      <td>https://www.atcc.org/products/pdm-58</td>\n      <td>Human cells</td>\n      <td>Cell modelOrganoid</td>\n      <td>Homo sapiens, human</td>\n      <td>organoid</td>\n      <td>Large intestine; Colon</td>\n      <td>Adenocarcinoma; Primary</td>\n      <td>3D cell cultureCancer research</td>\n      <td>Frozen</td>\n      <td>...</td>\n      <td>ATCC ACS-7103</td>\n      <td>Organoid Growth Kit 1D</td>\n      <td>Not provided</td>\n      <td>Embedded 3D culture</td>\n      <td>No</td>\n      <td>No contamination detected</td>\n      <td>Not provided</td>\n      <td>Not provided</td>\n      <td>organoid</td>\n      <td>Not detected</td>\n    </tr>\n    <tr>\n      <th>8</th>\n      <td>PDM-73</td>\n      <td>https://www.atcc.org/products/pdm-73</td>\n      <td>Human cells</td>\n      <td>Cell modelOrganoid</td>\n      <td>Homo sapiens, human</td>\n      <td>organoid</td>\n      <td>Esophagus</td>\n      <td>Malignant neoplasm</td>\n      <td>3D cell cultureCancer research</td>\n      <td>Frozen</td>\n      <td>...</td>\n      <td>ATCC ACS-7104</td>\n      <td>Organoid Growth Kit 1E</td>\n      <td>Not provided</td>\n      <td>Embedded 3D culture</td>\n      <td>No</td>\n      <td>No contamination detected</td>\n      <td>Not provided</td>\n      <td>Not provided</td>\n      <td>organoid</td>\n      <td>Not detected</td>\n    </tr>\n    <tr>\n      <th>9</th>\n      <td>PDM-79</td>\n      <td>https://www.atcc.org/products/pdm-79</td>\n      <td>Human cells</td>\n      <td>Cell modelOrganoid</td>\n      <td>Homo sapiens, human</td>\n      <td>organoid</td>\n      <td>Esophagus</td>\n      <td>Adenocarcinoma; Primary</td>\n      <td>3D cell cultureCancer research</td>\n      <td>Frozen</td>\n      <td>...</td>\n      <td>ATCC ACS-7104</td>\n      <td>Organoid Growth Kit 1E</td>\n      <td>Not provided</td>\n      <td>Embedded 3D culture</td>\n      <td>No</td>\n      <td>No contamination detected</td>\n      <td>Not provided</td>\n      <td>Not provided</td>\n      <td>organoid</td>\n      <td>Not detected</td>\n    </tr>\n    <tr>\n      <th>10</th>\n      <td>PDM-50</td>\n      <td>https://www.atcc.org/products/pdm-50</td>\n      <td>Human cells</td>\n      <td>Cell modelOrganoid</td>\n      <td>Homo sapiens, human</td>\n      <td>organoid</td>\n      <td>Large intestine; Ascending colon</td>\n      <td>Malignant neoplasm</td>\n      <td>3D cell cultureCancer research</td>\n      <td>Frozen</td>\n      <td>...</td>\n      <td>ATCC ACS-7103</td>\n      <td>Organoid Growth Kit 1D</td>\n      <td>Not provided</td>\n      <td>Embedded 3D culture</td>\n      <td>No</td>\n      <td>No contamination detected</td>\n      <td>Not provided</td>\n      <td>Not provided</td>\n      <td>organoid</td>\n      <td>Not detected</td>\n    </tr>\n    <tr>\n      <th>11</th>\n      <td>PDM-65</td>\n      <td>https://www.atcc.org/products/pdm-65</td>\n      <td>Human cells</td>\n      <td>Cell modelOrganoid</td>\n      <td>Homo sapiens, human</td>\n      <td>organoid</td>\n      <td>Esophagus</td>\n      <td>Malignant neoplasm</td>\n      <td>3D cell cultureCancer research</td>\n      <td>Frozen</td>\n      <td>...</td>\n      <td>ATCC ACS-7104</td>\n      <td>Organoid Growth Kit 1E</td>\n      <td>Not provided</td>\n      <td>Embedded 3D culture</td>\n      <td>No</td>\n      <td>No contamination detected</td>\n      <td>Not provided</td>\n      <td>Not provided</td>\n      <td>organoid</td>\n      <td>Not detected</td>\n    </tr>\n    <tr>\n      <th>12</th>\n      <td>PDM-72</td>\n      <td>https://www.atcc.org/products/pdm-72</td>\n      <td>Human cells</td>\n      <td>Cell modelOrganoid</td>\n      <td>Homo sapiens, human</td>\n      <td>organoid</td>\n      <td>Esophagus</td>\n      <td>Adenocarcinoma; Primary</td>\n      <td>3D cell cultureCancer research</td>\n      <td>Frozen</td>\n      <td>...</td>\n      <td>ATCC ACS-7104</td>\n      <td>Organoid Growth Kit 1E</td>\n      <td>Not provided</td>\n      <td>Embedded 3D culture</td>\n      <td>No</td>\n      <td>No contamination detected</td>\n      <td>Not provided</td>\n      <td>Not provided</td>\n      <td>organoid</td>\n      <td>Not detected</td>\n    </tr>\n    <tr>\n      <th>13</th>\n      <td>PDM-53</td>\n      <td>https://www.atcc.org/products/pdm-53</td>\n      <td>Human cells</td>\n      <td>Cell modelOrganoid</td>\n      <td>Homo sapiens, human</td>\n      <td>organoid</td>\n      <td>Large intestine; Colon</td>\n      <td>Adenocarcinoma; Primary</td>\n      <td>3D cell cultureCancer research</td>\n      <td>Frozen</td>\n      <td>...</td>\n      <td>ATCC ACS-7103</td>\n      <td>Organoid Growth Kit 1D</td>\n      <td>Not provided</td>\n      <td>Embedded 3D culture</td>\n      <td>No</td>\n      <td>No contamination detected</td>\n      <td>Not provided</td>\n      <td>Not provided</td>\n      <td>organoid</td>\n      <td>Not detected</td>\n    </tr>\n    <tr>\n      <th>14</th>\n      <td>PDM-83</td>\n      <td>https://www.atcc.org/products/pdm-83</td>\n      <td>Human cells</td>\n      <td>Cell modelOrganoid</td>\n      <td>Homo sapiens, human</td>\n      <td>organoid</td>\n      <td>Esophagus</td>\n      <td>Malignant neoplasm</td>\n      <td>3D cell cultureCancer research</td>\n      <td>Frozen</td>\n      <td>...</td>\n      <td>ATCC ACS-7104</td>\n      <td>Organoid Growth Kit 1E</td>\n      <td>Not provided</td>\n      <td>Embedded 3D culture</td>\n      <td>No</td>\n      <td>No contamination detected</td>\n      <td>Not provided</td>\n      <td>Not provided</td>\n      <td>organoid</td>\n      <td>Not detected</td>\n    </tr>\n    <tr>\n      <th>15</th>\n      <td>PDM-45</td>\n      <td>https://www.atcc.org/products/pdm-45</td>\n      <td>Human cells</td>\n      <td>Cell modelOrganoid</td>\n      <td>Homo sapiens, human</td>\n      <td>organoid</td>\n      <td>Large intestine; Colon</td>\n      <td>Adenocarcinoma; Primary</td>\n      <td>3D cell cultureCancer research</td>\n      <td>Frozen</td>\n      <td>...</td>\n      <td>ATCC ACS-7103</td>\n      <td>Organoid Growth Kit 1D</td>\n      <td>Not provided</td>\n      <td>Embedded 3D culture</td>\n      <td>No</td>\n      <td>No contamination detected</td>\n      <td>Not provided</td>\n      <td>Not provided</td>\n      <td>organoid</td>\n      <td>Not detected</td>\n    </tr>\n    <tr>\n      <th>16</th>\n      <td>PDM-42</td>\n      <td>https://www.atcc.org/products/pdm-42</td>\n      <td>Human cells</td>\n      <td>Cell modelOrganoid</td>\n      <td>Homo sapiens, human</td>\n      <td>Organoid</td>\n      <td>Large intestine; Colon</td>\n      <td>Adenocarcinoma; Metastatic</td>\n      <td>3D cell cultureCancer research</td>\n      <td>Frozen</td>\n      <td>...</td>\n      <td>ATCC ACS-7103</td>\n      <td>Organoid Growth Kit 1D</td>\n      <td>Not provided</td>\n      <td>Embedded 3D culture</td>\n      <td>No</td>\n      <td>No contamination detected</td>\n      <td>Tumor cells</td>\n      <td>Not provided</td>\n      <td>Organoid</td>\n      <td>Not detected</td>\n    </tr>\n    <tr>\n      <th>17</th>\n      <td>PDM-48</td>\n      <td>https://www.atcc.org/products/pdm-48</td>\n      <td>Human cells</td>\n      <td>Cell modelOrganoid</td>\n      <td>Homo sapiens, human</td>\n      <td>Organoid</td>\n      <td>Large intestine; Colon</td>\n      <td>Adenoma; Pre-malignant</td>\n      <td>3D cell cultureCancer research</td>\n      <td>Frozen</td>\n      <td>...</td>\n      <td>ATCC ACS-7103</td>\n      <td>Organoid Growth Kit 1D</td>\n      <td>Not provided</td>\n      <td>Embedded 3D culture</td>\n      <td>No</td>\n      <td>No contamination detected</td>\n      <td>Not provided</td>\n      <td>Not provided</td>\n      <td>Organoid</td>\n      <td>Not detected</td>\n    </tr>\n    <tr>\n      <th>18</th>\n      <td>PDM-51</td>\n      <td>https://www.atcc.org/products/pdm-51</td>\n      <td>Human cells</td>\n      <td>Cell modelOrganoid</td>\n      <td>Homo sapiens, human</td>\n      <td>organoid</td>\n      <td>Large intestine; Colon</td>\n      <td>Adenocarcinoma; Primary</td>\n      <td>3D cell cultureCancer research</td>\n      <td>Frozen</td>\n      <td>...</td>\n      <td>ATCC ACS-7103</td>\n      <td>Organoid Growth Kit 1D</td>\n      <td>Not provided</td>\n      <td>Embedded 3D culture</td>\n      <td>No</td>\n      <td>No contamination detected</td>\n      <td>Not provided</td>\n      <td>Not provided</td>\n      <td>organoid</td>\n      <td>Not detected</td>\n    </tr>\n    <tr>\n      <th>19</th>\n      <td>PDM-57</td>\n      <td>https://www.atcc.org/products/pdm-57</td>\n      <td>Human cells</td>\n      <td>Cell modelOrganoid</td>\n      <td>Homo sapiens, human</td>\n      <td>organoid</td>\n      <td>Large intestine; Colon</td>\n      <td>Adenocarcinoma; Primary</td>\n      <td>3D cell cultureCancer research</td>\n      <td>Frozen</td>\n      <td>...</td>\n      <td>ATCC ACS-7103</td>\n      <td>Organoid Growth Kit 1D</td>\n      <td>Not provided</td>\n      <td>Embedded 3D culture</td>\n      <td>No</td>\n      <td>No contamination detected</td>\n      <td>Not provided</td>\n      <td>Not provided</td>\n      <td>organoid</td>\n      <td>Not detected</td>\n    </tr>\n    <tr>\n      <th>20</th>\n      <td>PDM-74</td>\n      <td>https://www.atcc.org/products/pdm-74</td>\n      <td>Human cells</td>\n      <td>Cell modelOrganoid</td>\n      <td>Homo sapiens, human</td>\n      <td>organoid</td>\n      <td>Esophagus</td>\n      <td>Adenocarcinoma; Primary</td>\n      <td>3D cell cultureCancer research</td>\n      <td>Frozen</td>\n      <td>...</td>\n      <td>ATCC ACS-7104</td>\n      <td>Organoid Growth Kit 1E</td>\n      <td>Not provided</td>\n      <td>Embedded 3D culture</td>\n      <td>No</td>\n      <td>No contamination detected</td>\n      <td>Not provided</td>\n      <td>Not provided</td>\n      <td>organoid</td>\n      <td>Not detected</td>\n    </tr>\n    <tr>\n      <th>21</th>\n      <td>PDM-70</td>\n      <td>https://www.atcc.org/products/pdm-70</td>\n      <td>Human cells</td>\n      <td>Cell modelOrganoid</td>\n      <td>Homo sapiens, human</td>\n      <td>organoid</td>\n      <td>Esophagus</td>\n      <td>Malignant neoplasmAdenocarcinoma</td>\n      <td>3D cell cultureCancer research</td>\n      <td>Frozen</td>\n      <td>...</td>\n      <td>ATCC ACS-7104</td>\n      <td>Organoid Growth Kit 1E</td>\n      <td>Not provided</td>\n      <td>Embedded 3D culture</td>\n      <td>No</td>\n      <td>No contamination detected</td>\n      <td>Not provided</td>\n      <td>Not provided</td>\n      <td>organoid</td>\n      <td>Not detected</td>\n    </tr>\n    <tr>\n      <th>22</th>\n      <td>PDM-59</td>\n      <td>https://www.atcc.org/products/pdm-59</td>\n      <td>Human cells</td>\n      <td>Cell modelOrganoid</td>\n      <td>Homo sapiens, human</td>\n      <td>organoid</td>\n      <td>Large intestine; Colon</td>\n      <td>Adenocarcinoma; Primary</td>\n      <td>3D cell cultureCancer research</td>\n      <td>Frozen</td>\n      <td>...</td>\n      <td>ATCC ACS-7103</td>\n      <td>Organoid Growth Kit 1D</td>\n      <td>Not provided</td>\n      <td>Embedded 3D culture</td>\n      <td>No</td>\n      <td>No contamination detected</td>\n      <td>Not provided</td>\n      <td>Not provided</td>\n      <td>organoid</td>\n      <td>Not detected</td>\n    </tr>\n    <tr>\n      <th>23</th>\n      <td>PDM-68</td>\n      <td>https://www.atcc.org/products/pdm-68</td>\n      <td>Human cells</td>\n      <td>Cell modelOrganoid</td>\n      <td>Homo sapiens, human</td>\n      <td>organoid</td>\n      <td>Esophagus</td>\n      <td>Adenocarcinoma; Primary</td>\n      <td>3D cell cultureCancer research</td>\n      <td>Frozen</td>\n      <td>...</td>\n      <td>ATCC ACS-7103</td>\n      <td>Organoid Growth Kit 1D</td>\n      <td>Not provided</td>\n      <td>Embedded 3D culture</td>\n      <td>No</td>\n      <td>No contamination detected</td>\n      <td>Not provided</td>\n      <td>Not provided</td>\n      <td>organoid</td>\n      <td>Not detected</td>\n    </tr>\n    <tr>\n      <th>24</th>\n      <td>PDM-60</td>\n      <td>https://www.atcc.org/products/pdm-60</td>\n      <td>Human cells</td>\n      <td>Cell modelOrganoid</td>\n      <td>Homo sapiens, human</td>\n      <td>organoid</td>\n      <td>Large intestine; Colon</td>\n      <td>Adenocarcinoma; Primary</td>\n      <td>3D cell cultureCancer research</td>\n      <td>Frozen</td>\n      <td>...</td>\n      <td>ATCC ACS-7103</td>\n      <td>Organoid Growth Kit 1D</td>\n      <td>Not provided</td>\n      <td>Embedded 3D culture</td>\n      <td>No</td>\n      <td>No contamination detected</td>\n      <td>Not provided</td>\n      <td>Not provided</td>\n      <td>organoid</td>\n      <td>Not detected</td>\n    </tr>\n    <tr>\n      <th>25</th>\n      <td>PDM-61</td>\n      <td>https://www.atcc.org/products/pdm-61</td>\n      <td>Human cells</td>\n      <td>Cell modelOrganoid</td>\n      <td>Homo sapiens, human</td>\n      <td>organoid</td>\n      <td>Small intestine; Colon</td>\n      <td>Adenocarcinoma; Primary</td>\n      <td>3D cell cultureCancer research</td>\n      <td>Frozen</td>\n      <td>...</td>\n      <td>ATCC ACS-7103</td>\n      <td>Organoid Growth Kit 1D</td>\n      <td>Not provided</td>\n      <td>Embedded 3D culture</td>\n      <td>No</td>\n      <td>No contamination detected</td>\n      <td>Not provided</td>\n      <td>Not provided</td>\n      <td>organoid</td>\n      <td>Not detected</td>\n    </tr>\n    <tr>\n      <th>26</th>\n      <td>PDM-62</td>\n      <td>https://www.atcc.org/products/pdm-62</td>\n      <td>Human cells</td>\n      <td>Cell modelOrganoid</td>\n      <td>Homo sapiens, human</td>\n      <td>organoid</td>\n      <td>Small intestine; Rectum</td>\n      <td>Adenocarcinoma; Primary</td>\n      <td>3D cell cultureCancer research</td>\n      <td>Frozen</td>\n      <td>...</td>\n      <td>ATCC ACS-7103</td>\n      <td>Organoid Growth Kit 1D</td>\n      <td>Not provided</td>\n      <td>Embedded 3D culture</td>\n      <td>No</td>\n      <td>No contamination detected</td>\n      <td>Not provided</td>\n      <td>Not provided</td>\n      <td>organoid</td>\n      <td>Not detected</td>\n    </tr>\n    <tr>\n      <th>27</th>\n      <td>PDM-78</td>\n      <td>https://www.atcc.org/products/pdm-78</td>\n      <td>Human cells</td>\n      <td>Cell modelOrganoid</td>\n      <td>Homo sapiens, human</td>\n      <td>organoid</td>\n      <td>Esophagus</td>\n      <td>Adenocarcinoma; Primary</td>\n      <td>3D cell cultureCancer research</td>\n      <td>Frozen</td>\n      <td>...</td>\n      <td>ATCC ACS-7104</td>\n      <td>Organoid Growth Kit 1E</td>\n      <td>Not provided</td>\n      <td>Embedded 3D culture</td>\n      <td>No</td>\n      <td>No contamination detected</td>\n      <td>Not provided</td>\n      <td>Not provided</td>\n      <td>organoid</td>\n      <td>Not detected</td>\n    </tr>\n    <tr>\n      <th>28</th>\n      <td>PDM-64</td>\n      <td>https://www.atcc.org/products/pdm-64</td>\n      <td>Human cells</td>\n      <td>Cell modelOrganoid</td>\n      <td>Homo sapiens, human</td>\n      <td>organoid</td>\n      <td>Large intestine; Colon</td>\n      <td>Adenocarcinoma; Primary</td>\n      <td>Cancer research3D cell culture</td>\n      <td>Frozen</td>\n      <td>...</td>\n      <td>ATCC ACS-7100</td>\n      <td>Organoid Growth Kit 1A</td>\n      <td>Not provided</td>\n      <td>Embedded 3D culture</td>\n      <td>No</td>\n      <td>No contamination detected</td>\n      <td>Not provided</td>\n      <td>Not provided</td>\n      <td>organoid</td>\n      <td>Not detected</td>\n    </tr>\n    <tr>\n      <th>29</th>\n      <td>PDM-76</td>\n      <td>https://www.atcc.org/products/pdm-76</td>\n      <td>Human cells</td>\n      <td>Cell modelOrganoid</td>\n      <td>Homo sapiens, human</td>\n      <td>organoid</td>\n      <td>Esophagus</td>\n      <td>Adenocarcinoma; Primary</td>\n      <td>3D cell cultureCancer research</td>\n      <td>Frozen</td>\n      <td>...</td>\n      <td>ATCC ACS-7104</td>\n      <td>Organoid Growth Kit 1E</td>\n      <td>Not provided</td>\n      <td>Embedded 3D culture</td>\n      <td>No</td>\n      <td>No contamination detected</td>\n      <td>Not provided</td>\n      <td>Not provided</td>\n      <td>organoid</td>\n      <td>Not detected</td>\n    </tr>\n    <tr>\n      <th>30</th>\n      <td>PDM-77</td>\n      <td>https://www.atcc.org/products/pdm-77</td>\n      <td>Human cells</td>\n      <td>Cell modelOrganoid</td>\n      <td>Homo sapiens, human</td>\n      <td>organoid</td>\n      <td>Esophagus</td>\n      <td>Adenocarcinoma; Primary</td>\n      <td>3D cell cultureCancer research</td>\n      <td>Frozen</td>\n      <td>...</td>\n      <td>ATCC ACS-7104</td>\n      <td>Organoid Growth Kit 1E</td>\n      <td>Not provided</td>\n      <td>Embedded 3D culture</td>\n      <td>No</td>\n      <td>No contamination detected</td>\n      <td>Not provided</td>\n      <td>Not provided</td>\n      <td>organoid</td>\n      <td>Not detected</td>\n    </tr>\n    <tr>\n      <th>31</th>\n      <td>PDM-82</td>\n      <td>https://www.atcc.org/products/pdm-82</td>\n      <td>Human cells</td>\n      <td>Cell modelOrganoid</td>\n      <td>Homo sapiens, human</td>\n      <td>Organoid</td>\n      <td>Esophagus</td>\n      <td>Adenocarcinoma; Primary</td>\n      <td>Cancer research3D cell culture</td>\n      <td>Frozen</td>\n      <td>...</td>\n      <td>ATCC ACS-7104</td>\n      <td>Organoid Growth Kit 1E</td>\n      <td>Not provided</td>\n      <td>Embedded 3D culture</td>\n      <td>No</td>\n      <td>No contamination detected</td>\n      <td>Not provided</td>\n      <td>Not provided</td>\n      <td>Organoid</td>\n      <td>Not detected</td>\n    </tr>\n    <tr>\n      <th>32</th>\n      <td>PDM-63</td>\n      <td>https://www.atcc.org/products/pdm-63</td>\n      <td>Human cells</td>\n      <td>Cell modelOrganoid</td>\n      <td>Homo sapiens, human</td>\n      <td>Organoid</td>\n      <td>Large intestine; Rectum</td>\n      <td>Adenocarcinoma; Primary</td>\n      <td>Cancer research3D cell culture</td>\n      <td>Frozen</td>\n      <td>...</td>\n      <td>ATCC ACS-7103</td>\n      <td>Organoid Growth Kit 1D</td>\n      <td>Not provided</td>\n      <td>Embedded 3D culture</td>\n      <td>No</td>\n      <td>No contamination detected</td>\n      <td>Not provided</td>\n      <td>Not provided</td>\n      <td>Organoid</td>\n      <td>Not detected</td>\n    </tr>\n    <tr>\n      <th>33</th>\n      <td>PDM-81</td>\n      <td>https://www.atcc.org/products/pdm-81</td>\n      <td>Human cells</td>\n      <td>Cell modelOrganoid</td>\n      <td>Homo sapiens, human</td>\n      <td>Organoid</td>\n      <td>Esophagus</td>\n      <td>Adenocarcinoma; Primary</td>\n      <td>Cancer research3D cell culture</td>\n      <td>Frozen</td>\n      <td>...</td>\n      <td>ATCC ACS-7104</td>\n      <td>Organoid Growth Kit 1E</td>\n      <td>Not provided</td>\n      <td>Embedded 3D culture</td>\n      <td>No</td>\n      <td>No contamination detected</td>\n      <td>Not provided</td>\n      <td>Not provided</td>\n      <td>Organoid</td>\n      <td>Not detected</td>\n    </tr>\n    <tr>\n      <th>34</th>\n      <td>PDM-55</td>\n      <td>https://www.atcc.org/products/pdm-55</td>\n      <td>Human cells</td>\n      <td>OrganoidCell model</td>\n      <td>Homo sapiens, human</td>\n      <td>Organoid</td>\n      <td>Large intestine; Rectum</td>\n      <td>Adenocarcinoma; Primary</td>\n      <td>Cancer research3D cell culture</td>\n      <td>Frozen</td>\n      <td>...</td>\n      <td>ATCC ACS-7103</td>\n      <td>Organoid Growth Kit 1D</td>\n      <td>Not provided</td>\n      <td>Embedded 3D culture</td>\n      <td>No</td>\n      <td>No contamination detected</td>\n      <td>Not provided</td>\n      <td>Not provided</td>\n      <td>Organoid</td>\n      <td>Not detected</td>\n    </tr>\n    <tr>\n      <th>35</th>\n      <td>PDM-75</td>\n      <td>https://www.atcc.org/products/pdm-75</td>\n      <td>Human cells</td>\n      <td>OrganoidCell model</td>\n      <td>Homo sapiens, human</td>\n      <td>Organoid</td>\n      <td>Esophagus</td>\n      <td>Adenocarcinoma; Primary</td>\n      <td>Cancer research3D cell culture</td>\n      <td>Frozen</td>\n      <td>...</td>\n      <td>ATCC ACS-7104</td>\n      <td>Organoid Growth Kit 1E</td>\n      <td>Not provided</td>\n      <td>Embedded 3D culture</td>\n      <td>No</td>\n      <td>No contamination detected</td>\n      <td>Not provided</td>\n      <td>Not provided</td>\n      <td>Organoid</td>\n      <td>Not detected</td>\n    </tr>\n    <tr>\n      <th>36</th>\n      <td>PDM-330</td>\n      <td>https://www.atcc.org/products/pdm-330</td>\n      <td>Human cells</td>\n      <td>Cell modelOrganoid</td>\n      <td>Homo sapiens, human</td>\n      <td>organoid</td>\n      <td>Large intestine; Rectum</td>\n      <td>Cancer; Primary</td>\n      <td>3D cell cultureCancer research</td>\n      <td>Frozen</td>\n      <td>...</td>\n      <td>ATCC ACS-7103</td>\n      <td>Organoid Growth Kit 1D</td>\n      <td>Not provided</td>\n      <td>Embedded 3D culture</td>\n      <td>No</td>\n      <td>No contamination detected</td>\n      <td>Not provided</td>\n      <td>Not provided</td>\n      <td>organoid</td>\n      <td>Not detected</td>\n    </tr>\n    <tr>\n      <th>37</th>\n      <td>PDM-80</td>\n      <td>https://www.atcc.org/products/pdm-80</td>\n      <td>Human cells</td>\n      <td>Cell modelOrganoid</td>\n      <td>Homo sapiens, human</td>\n      <td>organoid</td>\n      <td>Esophagus</td>\n      <td>Adenocarcinoma; Primary</td>\n      <td>Cancer research3D cell culture</td>\n      <td>Frozen</td>\n      <td>...</td>\n      <td>ATCC ACS-7104</td>\n      <td>Organoid Growth Kit 1E</td>\n      <td>Not provided</td>\n      <td>Embedded 3D culture</td>\n      <td>No</td>\n      <td>No contamination detected</td>\n      <td>Not provided</td>\n      <td>Not provided</td>\n      <td>organoid</td>\n      <td>Not detected</td>\n    </tr>\n    <tr>\n      <th>38</th>\n      <td>PDM-331</td>\n      <td>https://www.atcc.org/products/pdm-331</td>\n      <td>Human cells</td>\n      <td>Cell modelOrganoid</td>\n      <td>Homo sapiens, human</td>\n      <td>organoid</td>\n      <td>Large intestine; Rectum</td>\n      <td>Cancer; Primary</td>\n      <td>3D cell cultureCancer research</td>\n      <td>Frozen</td>\n      <td>...</td>\n      <td>ATCC ACS-7103</td>\n      <td>Organoid Growth Kit 1D</td>\n      <td>Not provided</td>\n      <td>Embedded 3D culture</td>\n      <td>No</td>\n      <td>No contamination detected</td>\n      <td>Not provided</td>\n      <td>Not provided</td>\n      <td>organoid</td>\n      <td>Not detected</td>\n    </tr>\n    <tr>\n      <th>39</th>\n      <td>PDM-86</td>\n      <td>https://www.atcc.org/products/pdm-86</td>\n      <td>Human cells</td>\n      <td>Cell modelOrganoid</td>\n      <td>Homo sapiens, human</td>\n      <td>organoid</td>\n      <td>Esophagus</td>\n      <td>Adenocarcinoma; Primary</td>\n      <td>3D cell cultureCancer research</td>\n      <td>Frozen</td>\n      <td>...</td>\n      <td>ATCC ACS-7104</td>\n      <td>Organoid Growth Kit 1E</td>\n      <td>Not provided</td>\n      <td>Embedded 3D culture</td>\n      <td>No</td>\n      <td>No contamination detected</td>\n      <td>Not provided</td>\n      <td>Not provided</td>\n      <td>organoid</td>\n      <td>Not detected</td>\n    </tr>\n    <tr>\n      <th>40</th>\n      <td>PDM-49</td>\n      <td>https://www.atcc.org/products/pdm-49</td>\n      <td>Human cells</td>\n      <td>Cell modelOrganoid</td>\n      <td>Homo sapiens, human</td>\n      <td>organoid</td>\n      <td>Large intestine; Rectum</td>\n      <td>Adenocarcinoma; Primary</td>\n      <td>3D cell cultureCancer research</td>\n      <td>Frozen</td>\n      <td>...</td>\n      <td>ATCC ACS-7103</td>\n      <td>Organoid Growth Kit 1D</td>\n      <td>Not provided</td>\n      <td>Embedded 3D culture</td>\n      <td>No</td>\n      <td>No contamination detected</td>\n      <td>Not provided</td>\n      <td>Not provided</td>\n      <td>organoid</td>\n      <td>Not detected</td>\n    </tr>\n    <tr>\n      <th>41</th>\n      <td>PDM-84</td>\n      <td>https://www.atcc.org/products/pdm-84</td>\n      <td>Human cells</td>\n      <td>Cell modelOrganoid</td>\n      <td>Homo sapiens, human</td>\n      <td>Organoid</td>\n      <td>Esophagus</td>\n      <td>Adenocarcinoma; Primary</td>\n      <td>3D cell cultureCancer research</td>\n      <td>Frozen</td>\n      <td>...</td>\n      <td>ATCC ACS-7104</td>\n      <td>Organoid Growth Kit 1E</td>\n      <td>Not provided</td>\n      <td>Embedded 3D culture</td>\n      <td>No</td>\n      <td>No contamination detected</td>\n      <td>Not provided</td>\n      <td>Not provided</td>\n      <td>Organoid</td>\n      <td>Not detected</td>\n    </tr>\n    <tr>\n      <th>42</th>\n      <td>PDM-87</td>\n      <td>https://www.atcc.org/products/pdm-87</td>\n      <td>Human cells</td>\n      <td>Cell modelOrganoid</td>\n      <td>Homo sapiens, human</td>\n      <td>organoid</td>\n      <td>Esophagus</td>\n      <td>Adenocarcinoma; Primary</td>\n      <td>3D cell cultureCancer research</td>\n      <td>Frozen</td>\n      <td>...</td>\n      <td>ATCC ACS-7104</td>\n      <td>Organoid Growth Kit 1E</td>\n      <td>Not provided</td>\n      <td>Embedded 3D culture</td>\n      <td>No</td>\n      <td>No contamination detected</td>\n      <td>Not provided</td>\n      <td>Not provided</td>\n      <td>organoid</td>\n      <td>Not detected</td>\n    </tr>\n    <tr>\n      <th>43</th>\n      <td>PDM-339</td>\n      <td>https://www.atcc.org/products/pdm-339</td>\n      <td>Human cells</td>\n      <td>Cell modelOrganoid</td>\n      <td>Homo sapiens, human</td>\n      <td>Organoid</td>\n      <td>Esophagus</td>\n      <td>Cancer; Primary</td>\n      <td>3D cell cultureCancer research</td>\n      <td>Frozen</td>\n      <td>...</td>\n      <td>ATCC ACS-7104</td>\n      <td>Organoid Growth Kit 1E</td>\n      <td>Not provided</td>\n      <td>Embedded 3D culture</td>\n      <td>No</td>\n      <td>No contamination detected</td>\n      <td>Not provided</td>\n      <td>Not provided</td>\n      <td>Organoid</td>\n      <td>Not detected</td>\n    </tr>\n    <tr>\n      <th>44</th>\n      <td>PDM-85</td>\n      <td>https://www.atcc.org/products/pdm-85</td>\n      <td>Human cells</td>\n      <td>Cell modelOrganoid</td>\n      <td>Homo sapiens, human</td>\n      <td>organoid</td>\n      <td>Esophagus</td>\n      <td>Adenocarcinoma; Primary</td>\n      <td>3D cell cultureCancer research</td>\n      <td>Frozen</td>\n      <td>...</td>\n      <td>ATCC ACS-7104</td>\n      <td>Organoid Growth Kit 1E</td>\n      <td>Not provided</td>\n      <td>Embedded 3D culture</td>\n      <td>No</td>\n      <td>No contamination detected</td>\n      <td>Not provided</td>\n      <td>Not provided</td>\n      <td>organoid</td>\n      <td>Not detected</td>\n    </tr>\n    <tr>\n      <th>45</th>\n      <td>PDM-52</td>\n      <td>https://www.atcc.org/products/pdm-52</td>\n      <td>Human cells</td>\n      <td>Cell modelOrganoid</td>\n      <td>Homo sapiens, human</td>\n      <td>organoid</td>\n      <td>Large intestine; Colon</td>\n      <td>Adenocarcinoma; Primary</td>\n      <td>3D cell cultureCancer research</td>\n      <td>Frozen</td>\n      <td>...</td>\n      <td>ATCC ACS-7103</td>\n      <td>Organoid Growth Kit 1D</td>\n      <td>Not provided</td>\n      <td>Embedded 3D culture</td>\n      <td>No</td>\n      <td>No contamination detected</td>\n      <td>Not provided</td>\n      <td>Not provided</td>\n      <td>organoid</td>\n      <td>Not detected</td>\n    </tr>\n    <tr>\n      <th>46</th>\n      <td>PDM-54</td>\n      <td>https://www.atcc.org/products/pdm-54</td>\n      <td>Human cells</td>\n      <td>Cell modelOrganoid</td>\n      <td>Homo sapiens, human</td>\n      <td>organoid</td>\n      <td>Large intestine; Colon</td>\n      <td>Adenocarcinoma; Primary</td>\n      <td>3D cell cultureCancer research</td>\n      <td>Frozen</td>\n      <td>...</td>\n      <td>ATCC ACS-7103</td>\n      <td>Organoid Growth Kit 1D</td>\n      <td>Not provided</td>\n      <td>Embedded 3D culture</td>\n      <td>No</td>\n      <td>No contamination detected</td>\n      <td>Not provided</td>\n      <td>Not provided</td>\n      <td>organoid</td>\n      <td>Not detected</td>\n    </tr>\n    <tr>\n      <th>47</th>\n      <td>PDM-56</td>\n      <td>https://www.atcc.org/products/pdm-56</td>\n      <td>Human cells</td>\n      <td>Cell modelOrganoid</td>\n      <td>Homo sapiens, human</td>\n      <td>organoid</td>\n      <td>Large intestine; Colon</td>\n      <td>Adenocarcinoma; Primary</td>\n      <td>3D cell cultureCancer research</td>\n      <td>Frozen</td>\n      <td>...</td>\n      <td>ATCC ACS-7103</td>\n      <td>Organoid Growth Kit 1D</td>\n      <td>Not provided</td>\n      <td>Embedded 3D culture</td>\n      <td>No</td>\n      <td>No contamination detected</td>\n      <td>Not provided</td>\n      <td>Not provided</td>\n      <td>organoid</td>\n      <td>Not detected</td>\n    </tr>\n  </tbody>\n</table>\n<p>48 rows × 46 columns</p>\n</div>"
     },
     "execution_count": 334,
     "metadata": {},
     "output_type": "execute_result"
    }
   ],
   "source": [
    "text"
   ],
   "metadata": {
    "collapsed": false,
    "ExecuteTime": {
     "end_time": "2024-04-09T11:09:00.371468Z",
     "start_time": "2024-04-09T11:09:00.303754Z"
    }
   },
   "execution_count": 334
  },
  {
   "cell_type": "code",
   "outputs": [],
   "source": [
    "wcmc_atcc = fetch_from_atcc(read_metadata_without_fields(join(home, 'WCMC', 'WCMC_metadata-cell_model.tsv')))"
   ],
   "metadata": {
    "collapsed": false,
    "ExecuteTime": {
     "end_time": "2024-04-09T11:33:20.784456Z",
     "start_time": "2024-04-09T11:31:13.496448Z"
    }
   },
   "execution_count": 335
  },
  {
   "cell_type": "code",
   "outputs": [],
   "source": [
    "text = wcmc_atcc\n",
    "text['handling_information.complete_medium'] = text['handling_information.complete_medium'].fillna('Not provided')"
   ],
   "metadata": {
    "collapsed": false,
    "ExecuteTime": {
     "end_time": "2024-04-09T12:10:24.933708Z",
     "start_time": "2024-04-09T12:10:24.788181Z"
    }
   },
   "execution_count": 341
  },
  {
   "cell_type": "code",
   "outputs": [
    {
     "data": {
      "text/plain": "      atcc                                    url  \\\n0  PDM-513  https://www.atcc.org/products/pdm-513   \n1  PDM-515  https://www.atcc.org/products/pdm-515   \n2  PDM-514  https://www.atcc.org/products/pdm-514   \n3  PDM-375  https://www.atcc.org/products/pdm-375   \n4  PDM-683  https://www.atcc.org/products/pdm-683   \n5  PDM-685  https://www.atcc.org/products/pdm-685   \n6  PDM-376  https://www.atcc.org/products/pdm-376   \n7  PDM-512  https://www.atcc.org/products/pdm-512   \n8  PDM-519  https://www.atcc.org/products/pdm-519   \n9  PDM-377  https://www.atcc.org/products/pdm-377   \n\n  product_information.product_category product_information.product_type  \\\n0                          Human cells               Cell modelOrganoid   \n1                          Human cells               Cell modelOrganoid   \n2                          Human cells               Cell modelOrganoid   \n3                          Human cells               Cell modelOrganoid   \n4                          Human cells               Cell modelOrganoid   \n5                          Human cells               Cell modelOrganoid   \n6                          Human cells               OrganoidCell model   \n7                          Human cells               Cell modelOrganoid   \n8                          Human cells               Cell modelOrganoid   \n9                          Human cells               Cell modelOrganoid   \n\n  product_information.organism product_information.morphology  \\\n0          Homo sapiens, human                       organoid   \n1          Homo sapiens, human                       organoid   \n2          Homo sapiens, human                       organoid   \n3          Homo sapiens, human                       Organoid   \n4          Homo sapiens, human                       organoid   \n5          Homo sapiens, human                       organoid   \n6          Homo sapiens, human                       Organoid   \n7          Homo sapiens, human                       Organoid   \n8          Homo sapiens, human                       Organoid   \n9          Homo sapiens, human                       organoid   \n\n  product_information.tissue product_information.disease  \\\n0     Large intestine; Colon             Cancer; Primary   \n1                      Ovary             Cancer; Primary   \n2                      Ovary             Cancer; Primary   \n3     Large intestine; Colon             Cancer; Primary   \n4                       Lung             Cancer; Primary   \n5                       Lung             Cancer; Primary   \n6                    Stomach             Cancer; Primary   \n7                  Esophagus             Cancer; Primary   \n8                    Stomach                         NaN   \n9                    Stomach             Cancer; Primary   \n\n  product_information.applications product_information.product_format  ...  \\\n0   Cancer research3D cell culture                             Frozen  ...   \n1   Cancer research3D cell culture                             Frozen  ...   \n2   Cancer research3D cell culture                             Frozen  ...   \n3   3D cell cultureCancer research                             Frozen  ...   \n4   3D cell cultureCancer research                             Frozen  ...   \n5   3D cell cultureCancer research                             Frozen  ...   \n6   3D cell cultureCancer research                             Frozen  ...   \n7   3D cell cultureCancer research                             Frozen  ...   \n8   3D cell cultureCancer research                             Frozen  ...   \n9   3D cell cultureCancer research                             Frozen  ...   \n\n                  media_id                    growth_media   supplements  \\\n0            ATCC ACS-7105          Organoid Growth Kit 1F  Not provided   \n1  ATCC Organoid Media #10  Organoid Media Formulation #10  Not provided   \n2  ATCC Organoid Media #10  Organoid Media Formulation #10  Not provided   \n3            ATCC ACS-7105          Organoid Growth Kit 1F  Not provided   \n4  ATCC Organoid Media #10  Organoid Media Formulation #10  Not provided   \n5  ATCC Organoid Media #10  Organoid Media Formulation #10  Not provided   \n6            ATCC ACS-7105          Organoid Growth Kit 1F  Not provided   \n7            ATCC ACS-7105          Organoid Growth Kit 1F  Not provided   \n8            ATCC ACS-7105          Organoid Growth Kit 1F  Not provided   \n9             Not provided                    Not provided  Not provided   \n\n     growth_properties contaminated      contamination_details  model_purity  \\\n0  Embedded 3D culture           No  No contamination detected  Not provided   \n1  Embedded 3D culture           No  No contamination detected  Not provided   \n2  Embedded 3D culture           No  No contamination detected  Not provided   \n3  Embedded 3D culture           No  No contamination detected  Not provided   \n4  Embedded 3D culture           No  No contamination detected  Not provided   \n5  Embedded 3D culture           No  No contamination detected  Not provided   \n6  Embedded 3D culture           No  No contamination detected  Not provided   \n7  Embedded 3D culture           No  No contamination detected  Not provided   \n8  Embedded 3D culture           No  No contamination detected  Not provided   \n9  Embedded 3D culture           No  No contamination detected  Not provided   \n\n   STR_analysis morphological_features virology_status  \n0  Not provided               organoid    Not detected  \n1  Not provided               organoid    Not detected  \n2  Not provided               organoid    Not detected  \n3  Not provided               Organoid    Not detected  \n4  Not provided               organoid    Not detected  \n5  Not provided               organoid    Not detected  \n6  Not provided               Organoid    Not detected  \n7  Not provided               Organoid    Not detected  \n8  Not provided               Organoid    Not detected  \n9  Not provided               organoid    Not detected  \n\n[10 rows x 43 columns]",
      "text/html": "<div>\n<style scoped>\n    .dataframe tbody tr th:only-of-type {\n        vertical-align: middle;\n    }\n\n    .dataframe tbody tr th {\n        vertical-align: top;\n    }\n\n    .dataframe thead th {\n        text-align: right;\n    }\n</style>\n<table border=\"1\" class=\"dataframe\">\n  <thead>\n    <tr style=\"text-align: right;\">\n      <th></th>\n      <th>atcc</th>\n      <th>url</th>\n      <th>product_information.product_category</th>\n      <th>product_information.product_type</th>\n      <th>product_information.organism</th>\n      <th>product_information.morphology</th>\n      <th>product_information.tissue</th>\n      <th>product_information.disease</th>\n      <th>product_information.applications</th>\n      <th>product_information.product_format</th>\n      <th>...</th>\n      <th>media_id</th>\n      <th>growth_media</th>\n      <th>supplements</th>\n      <th>growth_properties</th>\n      <th>contaminated</th>\n      <th>contamination_details</th>\n      <th>model_purity</th>\n      <th>STR_analysis</th>\n      <th>morphological_features</th>\n      <th>virology_status</th>\n    </tr>\n  </thead>\n  <tbody>\n    <tr>\n      <th>0</th>\n      <td>PDM-513</td>\n      <td>https://www.atcc.org/products/pdm-513</td>\n      <td>Human cells</td>\n      <td>Cell modelOrganoid</td>\n      <td>Homo sapiens, human</td>\n      <td>organoid</td>\n      <td>Large intestine; Colon</td>\n      <td>Cancer; Primary</td>\n      <td>Cancer research3D cell culture</td>\n      <td>Frozen</td>\n      <td>...</td>\n      <td>ATCC ACS-7105</td>\n      <td>Organoid Growth Kit 1F</td>\n      <td>Not provided</td>\n      <td>Embedded 3D culture</td>\n      <td>No</td>\n      <td>No contamination detected</td>\n      <td>Not provided</td>\n      <td>Not provided</td>\n      <td>organoid</td>\n      <td>Not detected</td>\n    </tr>\n    <tr>\n      <th>1</th>\n      <td>PDM-515</td>\n      <td>https://www.atcc.org/products/pdm-515</td>\n      <td>Human cells</td>\n      <td>Cell modelOrganoid</td>\n      <td>Homo sapiens, human</td>\n      <td>organoid</td>\n      <td>Ovary</td>\n      <td>Cancer; Primary</td>\n      <td>Cancer research3D cell culture</td>\n      <td>Frozen</td>\n      <td>...</td>\n      <td>ATCC Organoid Media #10</td>\n      <td>Organoid Media Formulation #10</td>\n      <td>Not provided</td>\n      <td>Embedded 3D culture</td>\n      <td>No</td>\n      <td>No contamination detected</td>\n      <td>Not provided</td>\n      <td>Not provided</td>\n      <td>organoid</td>\n      <td>Not detected</td>\n    </tr>\n    <tr>\n      <th>2</th>\n      <td>PDM-514</td>\n      <td>https://www.atcc.org/products/pdm-514</td>\n      <td>Human cells</td>\n      <td>Cell modelOrganoid</td>\n      <td>Homo sapiens, human</td>\n      <td>organoid</td>\n      <td>Ovary</td>\n      <td>Cancer; Primary</td>\n      <td>Cancer research3D cell culture</td>\n      <td>Frozen</td>\n      <td>...</td>\n      <td>ATCC Organoid Media #10</td>\n      <td>Organoid Media Formulation #10</td>\n      <td>Not provided</td>\n      <td>Embedded 3D culture</td>\n      <td>No</td>\n      <td>No contamination detected</td>\n      <td>Not provided</td>\n      <td>Not provided</td>\n      <td>organoid</td>\n      <td>Not detected</td>\n    </tr>\n    <tr>\n      <th>3</th>\n      <td>PDM-375</td>\n      <td>https://www.atcc.org/products/pdm-375</td>\n      <td>Human cells</td>\n      <td>Cell modelOrganoid</td>\n      <td>Homo sapiens, human</td>\n      <td>Organoid</td>\n      <td>Large intestine; Colon</td>\n      <td>Cancer; Primary</td>\n      <td>3D cell cultureCancer research</td>\n      <td>Frozen</td>\n      <td>...</td>\n      <td>ATCC ACS-7105</td>\n      <td>Organoid Growth Kit 1F</td>\n      <td>Not provided</td>\n      <td>Embedded 3D culture</td>\n      <td>No</td>\n      <td>No contamination detected</td>\n      <td>Not provided</td>\n      <td>Not provided</td>\n      <td>Organoid</td>\n      <td>Not detected</td>\n    </tr>\n    <tr>\n      <th>4</th>\n      <td>PDM-683</td>\n      <td>https://www.atcc.org/products/pdm-683</td>\n      <td>Human cells</td>\n      <td>Cell modelOrganoid</td>\n      <td>Homo sapiens, human</td>\n      <td>organoid</td>\n      <td>Lung</td>\n      <td>Cancer; Primary</td>\n      <td>3D cell cultureCancer research</td>\n      <td>Frozen</td>\n      <td>...</td>\n      <td>ATCC Organoid Media #10</td>\n      <td>Organoid Media Formulation #10</td>\n      <td>Not provided</td>\n      <td>Embedded 3D culture</td>\n      <td>No</td>\n      <td>No contamination detected</td>\n      <td>Not provided</td>\n      <td>Not provided</td>\n      <td>organoid</td>\n      <td>Not detected</td>\n    </tr>\n    <tr>\n      <th>5</th>\n      <td>PDM-685</td>\n      <td>https://www.atcc.org/products/pdm-685</td>\n      <td>Human cells</td>\n      <td>Cell modelOrganoid</td>\n      <td>Homo sapiens, human</td>\n      <td>organoid</td>\n      <td>Lung</td>\n      <td>Cancer; Primary</td>\n      <td>3D cell cultureCancer research</td>\n      <td>Frozen</td>\n      <td>...</td>\n      <td>ATCC Organoid Media #10</td>\n      <td>Organoid Media Formulation #10</td>\n      <td>Not provided</td>\n      <td>Embedded 3D culture</td>\n      <td>No</td>\n      <td>No contamination detected</td>\n      <td>Not provided</td>\n      <td>Not provided</td>\n      <td>organoid</td>\n      <td>Not detected</td>\n    </tr>\n    <tr>\n      <th>6</th>\n      <td>PDM-376</td>\n      <td>https://www.atcc.org/products/pdm-376</td>\n      <td>Human cells</td>\n      <td>OrganoidCell model</td>\n      <td>Homo sapiens, human</td>\n      <td>Organoid</td>\n      <td>Stomach</td>\n      <td>Cancer; Primary</td>\n      <td>3D cell cultureCancer research</td>\n      <td>Frozen</td>\n      <td>...</td>\n      <td>ATCC ACS-7105</td>\n      <td>Organoid Growth Kit 1F</td>\n      <td>Not provided</td>\n      <td>Embedded 3D culture</td>\n      <td>No</td>\n      <td>No contamination detected</td>\n      <td>Not provided</td>\n      <td>Not provided</td>\n      <td>Organoid</td>\n      <td>Not detected</td>\n    </tr>\n    <tr>\n      <th>7</th>\n      <td>PDM-512</td>\n      <td>https://www.atcc.org/products/pdm-512</td>\n      <td>Human cells</td>\n      <td>Cell modelOrganoid</td>\n      <td>Homo sapiens, human</td>\n      <td>Organoid</td>\n      <td>Esophagus</td>\n      <td>Cancer; Primary</td>\n      <td>3D cell cultureCancer research</td>\n      <td>Frozen</td>\n      <td>...</td>\n      <td>ATCC ACS-7105</td>\n      <td>Organoid Growth Kit 1F</td>\n      <td>Not provided</td>\n      <td>Embedded 3D culture</td>\n      <td>No</td>\n      <td>No contamination detected</td>\n      <td>Not provided</td>\n      <td>Not provided</td>\n      <td>Organoid</td>\n      <td>Not detected</td>\n    </tr>\n    <tr>\n      <th>8</th>\n      <td>PDM-519</td>\n      <td>https://www.atcc.org/products/pdm-519</td>\n      <td>Human cells</td>\n      <td>Cell modelOrganoid</td>\n      <td>Homo sapiens, human</td>\n      <td>Organoid</td>\n      <td>Stomach</td>\n      <td>NaN</td>\n      <td>3D cell cultureCancer research</td>\n      <td>Frozen</td>\n      <td>...</td>\n      <td>ATCC ACS-7105</td>\n      <td>Organoid Growth Kit 1F</td>\n      <td>Not provided</td>\n      <td>Embedded 3D culture</td>\n      <td>No</td>\n      <td>No contamination detected</td>\n      <td>Not provided</td>\n      <td>Not provided</td>\n      <td>Organoid</td>\n      <td>Not detected</td>\n    </tr>\n    <tr>\n      <th>9</th>\n      <td>PDM-377</td>\n      <td>https://www.atcc.org/products/pdm-377</td>\n      <td>Human cells</td>\n      <td>Cell modelOrganoid</td>\n      <td>Homo sapiens, human</td>\n      <td>organoid</td>\n      <td>Stomach</td>\n      <td>Cancer; Primary</td>\n      <td>3D cell cultureCancer research</td>\n      <td>Frozen</td>\n      <td>...</td>\n      <td>Not provided</td>\n      <td>Not provided</td>\n      <td>Not provided</td>\n      <td>Embedded 3D culture</td>\n      <td>No</td>\n      <td>No contamination detected</td>\n      <td>Not provided</td>\n      <td>Not provided</td>\n      <td>organoid</td>\n      <td>Not detected</td>\n    </tr>\n  </tbody>\n</table>\n<p>10 rows × 43 columns</p>\n</div>"
     },
     "execution_count": 348,
     "metadata": {},
     "output_type": "execute_result"
    }
   ],
   "source": [
    "text"
   ],
   "metadata": {
    "collapsed": false,
    "ExecuteTime": {
     "end_time": "2024-04-09T12:14:28.462672Z",
     "start_time": "2024-04-09T12:14:28.318851Z"
    }
   },
   "execution_count": 348
  },
  {
   "cell_type": "code",
   "outputs": [],
   "source": [
    "conditions = [text['handling_information.complete_medium'].str.contains('theOrganoid Media Formulation #9'),\n",
    "              text['handling_information.complete_medium'].str.contains('theOrganoid Media Formulation #10'),\n",
    "              ]\n",
    "\n",
    "\n",
    "replacements = ['ATCC ACS-7105', 'ATCC Organoid Media #10']\n",
    "\n",
    "\n",
    "growth_media = ['Organoid Growth Kit 1F', 'Organoid Media Formulation #10']\n",
    "\n",
    "supplements = ['Not provided', 'Not provided']\n",
    "\n",
    "text['media_id'] = np.select(conditions, replacements, default='Not provided')\n",
    "text['growth_media'] = np.select(conditions, growth_media, default='Not provided')\n",
    "text['supplements'] = np.select(conditions, supplements, default='Not provided')\n",
    "text['growth_properties'] = text['characteristics.growth_properties']\n",
    "text['contaminated'] = np.where((text['quality_control_specifications.bacterial_and_fungal_testing'] == 'Not detected') & (text['quality_control_specifications.mycoplasma_contamination'] == 'Not detected'), 'No', 'Yes')\n",
    "\n",
    "text['contamination_details'] = np.where((text['quality_control_specifications.bacterial_and_fungal_testing'] == 'Not detected') & (text['quality_control_specifications.mycoplasma_contamination'] == 'Not detected'), 'No contamination detected', 'Not provided')\n",
    "\n",
    "text['model_purity'] = 'Not provided'#np.where(text['characteristics.metastatic'].fillna('Not provided') == 'Not provided', 'Not provided', 'Tumor cells')\n",
    "\n",
    "text['STR_analysis'] = 'Not provided'#np.where(text['quality_control_specifications.str_profiling'].fillna('Not provided') == 'Not provided', 'No', 'Yes')\n",
    "\n",
    "text['morphological_features'] = text['product_information.morphology'].fillna('Not provided')\n",
    "\n",
    "text['virology_status'] = np.where(text['quality_control_specifications.virus_testing'].str.lower().str.replace('detected', 'detected, ').str.replace('not detected', '').str.contains('detected'), 'Detected', 'Not detected')"
   ],
   "metadata": {
    "collapsed": false,
    "ExecuteTime": {
     "end_time": "2024-04-09T12:11:19.901707Z",
     "start_time": "2024-04-09T12:11:19.787242Z"
    }
   },
   "execution_count": 343
  },
  {
   "cell_type": "code",
   "outputs": [
    {
     "data": {
      "text/plain": "array(['Organoid Growth Kit 1F', 'Organoid Media Formulation #10',\n       'Not provided'], dtype=object)"
     },
     "execution_count": 344,
     "metadata": {},
     "output_type": "execute_result"
    }
   ],
   "source": [
    "text['growth_media'].unique()"
   ],
   "metadata": {
    "collapsed": false,
    "ExecuteTime": {
     "end_time": "2024-04-09T12:11:41.133192Z",
     "start_time": "2024-04-09T12:11:41.002088Z"
    }
   },
   "execution_count": 344
  },
  {
   "cell_type": "code",
   "outputs": [],
   "source": [
    "cell_sheet = read_metadata_without_fields(join(home, 'WCMC', 'WCMC_metadata-cell_model.tsv'))\n",
    "cell_template = read_metadata_with_fields(join(home, 'WCMC', 'WCMC_metadata-cell_model.tsv')).iloc[0:4]\n",
    "merged = cell_sheet.merge(text, left_on='catalog_number', right_on='atcc', how='left', suffixes=('_og', '_supplier'))\n",
    "merged['growth_properties'] = merged['growth_properties_supplier']\n",
    "merged['media_id'] = merged['media_id_supplier']\n",
    "merged['growth_media'] = merged['growth_media_supplier']\n",
    "merged['contaminated'] = merged['contaminated_supplier']\n",
    "merged['contamination_details'] = merged['contamination_details_supplier']\n",
    "merged['supplements'] = merged['supplements_supplier']\n",
    "pd.concat([cell_template, merged[cell_sheet.columns]]).reset_index(drop=True).to_csv(join(home, 'WCMC', 'WCMC_metadata-cell_model.tsv'), sep='\\t', index=False)"
   ],
   "metadata": {
    "collapsed": false,
    "ExecuteTime": {
     "end_time": "2024-04-09T12:12:05.543423Z",
     "start_time": "2024-04-09T12:12:05.308750Z"
    }
   },
   "execution_count": 345
  },
  {
   "cell_type": "code",
   "outputs": [],
   "source": [
    "mv_sheet = read_metadata_without_fields(join(home, 'WCMC', 'WCMC_metadata-model_validation.tsv'))\n",
    "mv_template = read_metadata_with_fields(join(home, 'WCMC', 'WCMC_metadata-model_validation.tsv')).iloc[0:4]\n",
    "x = merged[['model_id', 'morphological_features', 'STR_analysis', 'model_purity']]\n",
    "mv_sheet['model_id'] = merged['model_id']\n",
    "mv_sheet = mv_sheet.fillna('Not provided')\n",
    "mv_sheet['morphological_features'] = merged['morphological_features']\n",
    "mv_sheet['STR_analysis'] = merged['STR_analysis']\n",
    "mv_sheet['model_purity'] = merged['model_purity']\n",
    "pd.concat([mv_template, mv_sheet[mv_sheet.columns]]).reset_index(drop=True).to_csv(join(home, 'WCMC', 'WCMC_metadata-model_validation.tsv'), sep='\\t', index=False)"
   ],
   "metadata": {
    "collapsed": false,
    "ExecuteTime": {
     "end_time": "2024-04-09T12:13:50.561567Z",
     "start_time": "2024-04-09T12:13:50.373392Z"
    }
   },
   "execution_count": 347
  },
  {
   "cell_type": "code",
   "outputs": [],
   "source": [
    "patient_sheet = read_metadata_without_fields(join(home, 'WCMC', 'WCMC_metadata-patient.tsv'))\n",
    "patient_template = read_metadata_with_fields(join(home, 'WCMC', 'WCMC_metadata-patient.tsv')).iloc[0:4]\n",
    "patient_sheet['age_category'] = ['Not provided' if r.__contains__('Not') else 'Adult' if int(r) > 21 else 'Paediatric' for r in patient_sheet['age_at_initial_diagnosis']]\n",
    "pd.concat([patient_template, patient_sheet[patient_sheet.columns]]).reset_index(drop=True).to_csv(join(home, 'WCMC', 'WCMC_metadata-patient.tsv'), sep='\\t', index=False)"
   ],
   "metadata": {
    "collapsed": false,
    "ExecuteTime": {
     "end_time": "2024-04-09T12:15:36.991048Z",
     "start_time": "2024-04-09T12:15:36.810050Z"
    }
   },
   "execution_count": 349
  },
  {
   "cell_type": "code",
   "outputs": [],
   "source": [],
   "metadata": {
    "collapsed": false
   }
  },
  {
   "cell_type": "code",
   "outputs": [],
   "source": [],
   "metadata": {
    "collapsed": false
   }
  },
  {
   "cell_type": "code",
   "outputs": [],
   "source": [],
   "metadata": {
    "collapsed": false
   }
  },
  {
   "cell_type": "code",
   "outputs": [],
   "source": [],
   "metadata": {
    "collapsed": false
   }
  },
  {
   "cell_type": "code",
   "outputs": [],
   "source": [
    "supplier_dict = {'': '',\n",
    "                 'ATCC':'https://www.atcc.org/products/',\n",
    "                 'AddexBio': f'https://www.cellosaurus.org/{RRID}',\n",
    "                 'BioIVT': '',\n",
    "                 'CLS': f'https://www.cellosaurus.org/{RRID}',\n",
    "                 'CellBank Australia': f'https://www.cellosaurus.org/{RRID}',\n",
    "                 'Childhood Cancer Repository': '',\n",
    "                 'DSMZ': f'https://www.dsmz.de/catalogues/details/culture/{model_number}.html',\n",
    "                 'ECACC': f'https://www.phe-culturecollections.org.uk/products/celllines/generalcell/detail.jsp?refId={model_number}&collection=ecacc_gc',\n",
    "                 'ECACC;DSMZ': f'https://www.dsmz.de/catalogues/details/culture/{model_number}.html',\n",
    "                 'Horizon Discovery': '',\n",
    "                 'ICLC': '',\n",
    "                 'JCRB': f'https://cellbank.nibiohn.go.jp/~cellbank/en/search_res_det.cgi?RNO={model_number}',\n",
    "                 'KCLB': f'https://cellbank.snu.ac.kr/main/tmpl/sub_main.php?m_cd=6&m_id=0201&strQ={model_number}',\n",
    "                 'Lonza': '',\n",
    "                 'Mesobank': '',\n",
    "                 'NCI': f'https://www.cellosaurus.org/{RRID}',\n",
    "                 'NCI-Navy Medical Oncology Branch': '',\n",
    "                 'RIKEN': f'https://cellbank.brc.riken.jp/cell_bank/CellInfo/?cellNo={model_number}&lang=En',\n",
    "                 'Rockland': '',\n",
    "                 'TKG': '',\n",
    "                 'Ximbio': '',\n",
    "                 'unknown': ''}"
   ],
   "metadata": {
    "collapsed": false
   }
  },
  {
   "cell_type": "code",
   "outputs": [
    {
     "name": "stderr",
     "output_type": "stream",
     "text": [
      "  0%|          | 0/1932 [00:00<?, ?it/s]/var/folders/_2/g5d3zf4s41g0tvlqkc3_8wjr0000gp/T/ipykernel_35478/3579978440.py:18: DeprecationWarning: The 'text' argument to find()-type methods is deprecated. Use 'string' instead.\n",
      "  publications = soup.find('th', text='Publications')\n",
      "/var/folders/_2/g5d3zf4s41g0tvlqkc3_8wjr0000gp/T/ipykernel_35478/3579978440.py:35: DeprecationWarning: The 'text' argument to find()-type methods is deprecated. Use 'string' instead.\n",
      "  str_profile = soup.find('th', text='STR profile')\n",
      "/var/folders/_2/g5d3zf4s41g0tvlqkc3_8wjr0000gp/T/ipykernel_35478/3579978440.py:54: DeprecationWarning: The 'text' argument to find()-type methods is deprecated. Use 'string' instead.\n",
      "  supplier_section = soup.find('th', text='Cell line collections (Providers)')\n",
      "  0%|          | 1/1932 [00:01<37:56,  1.18s/it]/var/folders/_2/g5d3zf4s41g0tvlqkc3_8wjr0000gp/T/ipykernel_35478/3579978440.py:18: DeprecationWarning: The 'text' argument to find()-type methods is deprecated. Use 'string' instead.\n",
      "  publications = soup.find('th', text='Publications')\n",
      "/var/folders/_2/g5d3zf4s41g0tvlqkc3_8wjr0000gp/T/ipykernel_35478/3579978440.py:35: DeprecationWarning: The 'text' argument to find()-type methods is deprecated. Use 'string' instead.\n",
      "  str_profile = soup.find('th', text='STR profile')\n",
      "/var/folders/_2/g5d3zf4s41g0tvlqkc3_8wjr0000gp/T/ipykernel_35478/3579978440.py:54: DeprecationWarning: The 'text' argument to find()-type methods is deprecated. Use 'string' instead.\n",
      "  supplier_section = soup.find('th', text='Cell line collections (Providers)')\n",
      " 53%|█████▎    | 1026/1932 [24:06<14:16,  1.06it/s] /var/folders/_2/g5d3zf4s41g0tvlqkc3_8wjr0000gp/T/ipykernel_35478/3579978440.py:63: DeprecationWarning: The 'text' argument to find()-type methods is deprecated. Use 'string' instead.\n",
      "  values_and_links = soup.find('th', text='Web pages').find_next('td')\n",
      "100%|██████████| 1932/1932 [38:50<00:00,  1.21s/it]\n"
     ]
    }
   ],
   "source": [
    "cmp_sheet = read_metadata_without_fields(join(home, 'CMP', 'CMP_metadata-cell_model.tsv'))\n",
    "cmp_template = read_metadata_with_fields(join(home, 'CMP', 'CMP_metadata-cell_model.tsv')).iloc[0:4]\n",
    "cmp_sheet[['supplier', 'catalog_number']] = cmp_sheet['supplier'].fillna('Not provided').str.replace('ATCC:CR:', 'ATCC:CR').str.replace('ECACC:96090513;DSMZ:ACC-558', 'ECACC;DSMZ:96090513;ACC-558').str.split(':', expand=True).fillna('Not provided')\n",
    "cmp_sheet['supplier_type'] = ['Not provided' if r.lower() == 'not provided' else 'Commercial' for r in cmp_sheet['supplier']]\n",
    "cmp_sheet['rrid'] = cmp_sheet['external_ids'].str.extract(r'(CVCL_.{4})').fillna('Not provided')\n",
    "cmp_sheet['STR_analysis'] = ''\n",
    "#cmp_sheet['cell_line_provider_url'] = list()\n",
    "for i in tqdm(range(cmp_sheet.shape[0])):\n",
    "    rrid = cmp_sheet['rrid'][i]\n",
    "    supplier_name = cmp_sheet['supplier'][i]\n",
    "    catalog_number = cmp_sheet['catalog_number'][i]\n",
    "    if rrid == 'Not provided':\n",
    "        continue\n",
    "    cellosaurus = f'https://www.cellosaurus.org/{rrid}'\n",
    "    response = get(cellosaurus)\n",
    "    if response.status_code == 200: \n",
    "        soup = BeautifulSoup(response.text, 'html.parser')\n",
    "        publications = soup.find('th', text='Publications')\n",
    "        if publications is not None:\n",
    "            publications = publications.find_next('td')\n",
    "            pmids = ''\n",
    "            if publications is not None:\n",
    "                for pubmed in publications.find_all('a'):\n",
    "                    if pubmed['href'].__contains__('pubmed'):\n",
    "                        pmids += 'PMID: ' + pubmed.text + ','\n",
    "                pmids = pmids[:-1]\n",
    "                if cmp_sheet.loc[i, 'publications'] is not str:\n",
    "                    cmp_sheet.loc[i, 'publications'] = pmids\n",
    "                else:\n",
    "                    cmp_sheet.loc[i, 'publications'] += ',' + pmids\n",
    "                pmid_list = cmp_sheet.loc[i, 'publications'].split(',')\n",
    "                unique_pmids = set(pmid_list)\n",
    "                cmp_sheet.loc[i, 'publications'] = ','.join(unique_pmids)    \n",
    "                \n",
    "        str_profile = soup.find('th', text='STR profile')\n",
    "        if str_profile is not None:\n",
    "            str_profile = str_profile.find_next('table')\n",
    "            result = ''\n",
    "            for row in str_profile.find_all('tr'):\n",
    "                j = 0\n",
    "                for cell in row.find_all('td'):\n",
    "                    result += cell.get_text()\n",
    "                    if j == 0:\n",
    "                        result += ': '\n",
    "                        j+=1\n",
    "                result += '; '\n",
    "            if len(result) > 0:\n",
    "                result = result[:-2]\n",
    "                if cmp_sheet.loc[i, 'comments'] is not str:\n",
    "                    cmp_sheet.loc[i, 'comments'] = 'STR Profile: ' + result\n",
    "                else:\n",
    "                    cmp_sheet.loc[i, 'comments'] += ', STR Profile: ' + result\n",
    "                cmp_sheet.loc[i, 'STR_analysis'] = 'Yes' \n",
    "        supplier_section = soup.find('th', text='Cell line collections (Providers)')\n",
    "        links = None\n",
    "        if supplier_section:\n",
    "            values_and_links = supplier_section.find_next('td')\n",
    "            links = [link['href'] for link in values_and_links.find_all('a', href=True) if len(link['href']) > 0]\n",
    "            if len(links) == 0:\n",
    "                links = None\n",
    "        if links is None:\n",
    "            if supplier_name == \"Childhood Cancer Repository\" or supplier_name == \"BioIVT\":\n",
    "                values_and_links = soup.find('th', text='Web pages').find_next('td')\n",
    "                links = [link['href'] for link in values_and_links.find_all('a', href=True) if len(link['href']) > 0]\n",
    "            if supplier_name == \"DSMZ\" or supplier_name == \"ECACC;DSMZ\":\n",
    "                links = [f'https://www.dsmz.de/collection/catalogue/details/culture/{catalog_number}']\n",
    "            if supplier_name == \"ECACC\":\n",
    "                links = [f'https://www.phe-culturecollections.org.uk/products/celllines/generalcell/detail.jsp?refId={catalog_number}1&collection=ecacc_gc']\n",
    "        if links is None:\n",
    "            links = ['Not provided']\n",
    "        cmp_sheet.loc[i, 'cell_line_provider_url'] = links[0]\n",
    "cmp_sheet['vendor_link'] = cmp_sheet['cell_line_provider_url'].fillna('Not provided')"
   ],
   "metadata": {
    "collapsed": false,
    "ExecuteTime": {
     "end_time": "2024-04-10T10:35:00.975171Z",
     "start_time": "2024-04-10T09:56:10.556091Z"
    }
   },
   "execution_count": 469
  },
  {
   "cell_type": "code",
   "outputs": [
    {
     "data": {
      "text/plain": "       model_id model_name model_name_aliases       type  parent_id  \\\n0     SIDM01774      PK-59       Not provided  Cell Line        NaN   \n1     SIDM00192   SNU-1033       Not provided  Cell Line        NaN   \n2     SIDM01447    SNU-466       Not provided  Cell Line        NaN   \n3     SIDM01554  IST-MES-2       Not provided  Cell Line        NaN   \n4     SIDM01689     MUTZ-5       Not provided  Cell Line        NaN   \n...         ...        ...                ...        ...        ...   \n1927  SIDM02153      MM485       Not provided  Cell Line        NaN   \n1928  SIDM02155       NZM3       Not provided  Cell Line        NaN   \n1929  SIDM02157    WM3772F       Not provided  Cell Line        NaN   \n1930  SIDM02159       HAP1       Not provided  Cell Line  SIDM02121   \n1931  SIDM01339      SLR24       Not provided  Cell Line  SIDM01851   \n\n     origin_patient_sample_id growth_properties      media_id  growth_media  \\\n0                         NaN          Adherent  Not provided  Not provided   \n1                         NaN          Adherent  Not provided  Not provided   \n2                         NaN          Adherent  Not provided  Not provided   \n3                         NaN          Adherent  Not provided  Not provided   \n4                         NaN        Suspension  Not provided  Not provided   \n...                       ...               ...           ...           ...   \n1927                      NaN          Adherent  Not provided  Not provided   \n1928                      NaN          Adherent  Not provided  Not provided   \n1929                      NaN          Adherent  Not provided  Not provided   \n1930                SIDS02033          Adherent  Not provided  Not provided   \n1931                SIDS01788          Adherent  Not provided  Not provided   \n\n     plate_coating  ...                                       publications  \\\n0     Not provided  ...  PMID: 26589293,PMID: 25877200,PMID: 22460905,P...   \n1     Not provided  ...  PMID: 26589293,PMID: 10674020,PMID: 19956504,P...   \n2     Not provided  ...  PMID: 26589293,PMID: 22460905,PMID: 19956504,P...   \n3     Not provided  ...  PMID: 26589293,PMID: 22460905,PMID: 10232421,P...   \n4     Not provided  ...  PMID: 26589293,PMID: 22460905,PMID: 30285677,P...   \n...            ...  ...                                                ...   \n1927  Not provided  ...                                      PMID: 3127479   \n1928  Not provided  ...                                                NaN   \n1929  Not provided  ...                                                NaN   \n1930  Not provided  ...                                                NaN   \n1931  Not provided  ...  PMID: 25984343,PMID: 19470766,PMID: 12907621,P...   \n\n               supplier supplier_type   catalog_number   vendor_link  \\\n0                 RIKEN    Commercial          RCB1901  Not provided   \n1                  KCLB    Commercial            01033  Not provided   \n2                  KCLB    Commercial            00466  Not provided   \n3                  ICLC    Commercial         HTL01007  Not provided   \n4                  DSMZ    Commercial          ACC-490  Not provided   \n...                 ...           ...              ...           ...   \n1927              ECACC    Commercial         11072803  Not provided   \n1928              ECACC    Commercial         17020204  Not provided   \n1929           Rockland    Commercial  WM3772F-01-0001  Not provided   \n1930  Horizon Discovery    Commercial             C631  Not provided   \n1931       Not provided  Not provided     Not provided  Not provided   \n\n              rrid                                       external_ids  \\\n0        CVCL_4897       ACH-000205,CVCL_4897,CCLE_Name:PK59_PANCREAS   \n1        CVCL_5002  ACH-000286,CVCL_5002,CCLE_Name:SNU1033_LARGE_I...   \n2        CVCL_5064  ACH-000289,CVCL_5064,CCLE_Name:SNU466_CENTRAL_...   \n3        CVCL_1312      ACH-000331,CVCL_1312,CCLE_Name:ISTMES2_PLEURA   \n4        CVCL_1873  ACH-000492,CVCL_1873,CCLE_Name:MUTZ5_HAEMATOPO...   \n...            ...                                                ...   \n1927  Not provided                           COSMIC1206009,ACH-001973   \n1928  Not provided                           COSMIC1660299,ACH-001982   \n1929  Not provided                                         ACH-002687   \n1930  Not provided                                         ACH-002475   \n1931     CVCL_V610        ACH-000272,CVCL_V610,CCLE_Name:SLR24_KIDNEY   \n\n                                               comments STR_analysis  \\\n0     STR Profile: Amelogenin: X; CSF1PO: 10; D3S135...          Yes   \n1     STR Profile: Amelogenin: X; CSF1PO: 10; D1S165...          Yes   \n2     STR Profile: Amelogenin: X,Y; CSF1PO: 12; D3S1...          Yes   \n3     STR Profile: Amelogenin: X,Y; CSF1PO: 10,11; D...          Yes   \n4     STR Profile: Amelogenin: X; CSF1PO: 8,9; D2S13...          Yes   \n...                                                 ...          ...   \n1927                                                NaN                \n1928                                                NaN                \n1929                                                NaN                \n1930  HAP1 is a subclone of KBM7 which is haploid ex...                \n1931  STR Profile: Amelogenin: X; CSF1PO: 10,12; D5S...          Yes   \n\n                                 cell_line_provider_url  \n0     http://cellbank.brc.riken.jp/cell_bank/CellInf...  \n1     https://cellbank.snu.ac.kr/main/tmpl/sub_main....  \n2     https://cellbank.snu.ac.kr/main/tmpl/sub_main....  \n3     http://www.iclc.it/details/det_list.php?line_i...  \n4     https://www.dsmz.de/collection/catalogue/detai...  \n...                                                 ...  \n1927                                                NaN  \n1928                                                NaN  \n1929                                                NaN  \n1930                                                NaN  \n1931                                       Not provided  \n\n[1932 rows x 27 columns]",
      "text/html": "<div>\n<style scoped>\n    .dataframe tbody tr th:only-of-type {\n        vertical-align: middle;\n    }\n\n    .dataframe tbody tr th {\n        vertical-align: top;\n    }\n\n    .dataframe thead th {\n        text-align: right;\n    }\n</style>\n<table border=\"1\" class=\"dataframe\">\n  <thead>\n    <tr style=\"text-align: right;\">\n      <th></th>\n      <th>model_id</th>\n      <th>model_name</th>\n      <th>model_name_aliases</th>\n      <th>type</th>\n      <th>parent_id</th>\n      <th>origin_patient_sample_id</th>\n      <th>growth_properties</th>\n      <th>media_id</th>\n      <th>growth_media</th>\n      <th>plate_coating</th>\n      <th>...</th>\n      <th>publications</th>\n      <th>supplier</th>\n      <th>supplier_type</th>\n      <th>catalog_number</th>\n      <th>vendor_link</th>\n      <th>rrid</th>\n      <th>external_ids</th>\n      <th>comments</th>\n      <th>STR_analysis</th>\n      <th>cell_line_provider_url</th>\n    </tr>\n  </thead>\n  <tbody>\n    <tr>\n      <th>0</th>\n      <td>SIDM01774</td>\n      <td>PK-59</td>\n      <td>Not provided</td>\n      <td>Cell Line</td>\n      <td>NaN</td>\n      <td>NaN</td>\n      <td>Adherent</td>\n      <td>Not provided</td>\n      <td>Not provided</td>\n      <td>Not provided</td>\n      <td>...</td>\n      <td>PMID: 26589293,PMID: 25877200,PMID: 22460905,P...</td>\n      <td>RIKEN</td>\n      <td>Commercial</td>\n      <td>RCB1901</td>\n      <td>Not provided</td>\n      <td>CVCL_4897</td>\n      <td>ACH-000205,CVCL_4897,CCLE_Name:PK59_PANCREAS</td>\n      <td>STR Profile: Amelogenin: X; CSF1PO: 10; D3S135...</td>\n      <td>Yes</td>\n      <td>http://cellbank.brc.riken.jp/cell_bank/CellInf...</td>\n    </tr>\n    <tr>\n      <th>1</th>\n      <td>SIDM00192</td>\n      <td>SNU-1033</td>\n      <td>Not provided</td>\n      <td>Cell Line</td>\n      <td>NaN</td>\n      <td>NaN</td>\n      <td>Adherent</td>\n      <td>Not provided</td>\n      <td>Not provided</td>\n      <td>Not provided</td>\n      <td>...</td>\n      <td>PMID: 26589293,PMID: 10674020,PMID: 19956504,P...</td>\n      <td>KCLB</td>\n      <td>Commercial</td>\n      <td>01033</td>\n      <td>Not provided</td>\n      <td>CVCL_5002</td>\n      <td>ACH-000286,CVCL_5002,CCLE_Name:SNU1033_LARGE_I...</td>\n      <td>STR Profile: Amelogenin: X; CSF1PO: 10; D1S165...</td>\n      <td>Yes</td>\n      <td>https://cellbank.snu.ac.kr/main/tmpl/sub_main....</td>\n    </tr>\n    <tr>\n      <th>2</th>\n      <td>SIDM01447</td>\n      <td>SNU-466</td>\n      <td>Not provided</td>\n      <td>Cell Line</td>\n      <td>NaN</td>\n      <td>NaN</td>\n      <td>Adherent</td>\n      <td>Not provided</td>\n      <td>Not provided</td>\n      <td>Not provided</td>\n      <td>...</td>\n      <td>PMID: 26589293,PMID: 22460905,PMID: 19956504,P...</td>\n      <td>KCLB</td>\n      <td>Commercial</td>\n      <td>00466</td>\n      <td>Not provided</td>\n      <td>CVCL_5064</td>\n      <td>ACH-000289,CVCL_5064,CCLE_Name:SNU466_CENTRAL_...</td>\n      <td>STR Profile: Amelogenin: X,Y; CSF1PO: 12; D3S1...</td>\n      <td>Yes</td>\n      <td>https://cellbank.snu.ac.kr/main/tmpl/sub_main....</td>\n    </tr>\n    <tr>\n      <th>3</th>\n      <td>SIDM01554</td>\n      <td>IST-MES-2</td>\n      <td>Not provided</td>\n      <td>Cell Line</td>\n      <td>NaN</td>\n      <td>NaN</td>\n      <td>Adherent</td>\n      <td>Not provided</td>\n      <td>Not provided</td>\n      <td>Not provided</td>\n      <td>...</td>\n      <td>PMID: 26589293,PMID: 22460905,PMID: 10232421,P...</td>\n      <td>ICLC</td>\n      <td>Commercial</td>\n      <td>HTL01007</td>\n      <td>Not provided</td>\n      <td>CVCL_1312</td>\n      <td>ACH-000331,CVCL_1312,CCLE_Name:ISTMES2_PLEURA</td>\n      <td>STR Profile: Amelogenin: X,Y; CSF1PO: 10,11; D...</td>\n      <td>Yes</td>\n      <td>http://www.iclc.it/details/det_list.php?line_i...</td>\n    </tr>\n    <tr>\n      <th>4</th>\n      <td>SIDM01689</td>\n      <td>MUTZ-5</td>\n      <td>Not provided</td>\n      <td>Cell Line</td>\n      <td>NaN</td>\n      <td>NaN</td>\n      <td>Suspension</td>\n      <td>Not provided</td>\n      <td>Not provided</td>\n      <td>Not provided</td>\n      <td>...</td>\n      <td>PMID: 26589293,PMID: 22460905,PMID: 30285677,P...</td>\n      <td>DSMZ</td>\n      <td>Commercial</td>\n      <td>ACC-490</td>\n      <td>Not provided</td>\n      <td>CVCL_1873</td>\n      <td>ACH-000492,CVCL_1873,CCLE_Name:MUTZ5_HAEMATOPO...</td>\n      <td>STR Profile: Amelogenin: X; CSF1PO: 8,9; D2S13...</td>\n      <td>Yes</td>\n      <td>https://www.dsmz.de/collection/catalogue/detai...</td>\n    </tr>\n    <tr>\n      <th>...</th>\n      <td>...</td>\n      <td>...</td>\n      <td>...</td>\n      <td>...</td>\n      <td>...</td>\n      <td>...</td>\n      <td>...</td>\n      <td>...</td>\n      <td>...</td>\n      <td>...</td>\n      <td>...</td>\n      <td>...</td>\n      <td>...</td>\n      <td>...</td>\n      <td>...</td>\n      <td>...</td>\n      <td>...</td>\n      <td>...</td>\n      <td>...</td>\n      <td>...</td>\n      <td>...</td>\n    </tr>\n    <tr>\n      <th>1927</th>\n      <td>SIDM02153</td>\n      <td>MM485</td>\n      <td>Not provided</td>\n      <td>Cell Line</td>\n      <td>NaN</td>\n      <td>NaN</td>\n      <td>Adherent</td>\n      <td>Not provided</td>\n      <td>Not provided</td>\n      <td>Not provided</td>\n      <td>...</td>\n      <td>PMID: 3127479</td>\n      <td>ECACC</td>\n      <td>Commercial</td>\n      <td>11072803</td>\n      <td>Not provided</td>\n      <td>Not provided</td>\n      <td>COSMIC1206009,ACH-001973</td>\n      <td>NaN</td>\n      <td></td>\n      <td>NaN</td>\n    </tr>\n    <tr>\n      <th>1928</th>\n      <td>SIDM02155</td>\n      <td>NZM3</td>\n      <td>Not provided</td>\n      <td>Cell Line</td>\n      <td>NaN</td>\n      <td>NaN</td>\n      <td>Adherent</td>\n      <td>Not provided</td>\n      <td>Not provided</td>\n      <td>Not provided</td>\n      <td>...</td>\n      <td>NaN</td>\n      <td>ECACC</td>\n      <td>Commercial</td>\n      <td>17020204</td>\n      <td>Not provided</td>\n      <td>Not provided</td>\n      <td>COSMIC1660299,ACH-001982</td>\n      <td>NaN</td>\n      <td></td>\n      <td>NaN</td>\n    </tr>\n    <tr>\n      <th>1929</th>\n      <td>SIDM02157</td>\n      <td>WM3772F</td>\n      <td>Not provided</td>\n      <td>Cell Line</td>\n      <td>NaN</td>\n      <td>NaN</td>\n      <td>Adherent</td>\n      <td>Not provided</td>\n      <td>Not provided</td>\n      <td>Not provided</td>\n      <td>...</td>\n      <td>NaN</td>\n      <td>Rockland</td>\n      <td>Commercial</td>\n      <td>WM3772F-01-0001</td>\n      <td>Not provided</td>\n      <td>Not provided</td>\n      <td>ACH-002687</td>\n      <td>NaN</td>\n      <td></td>\n      <td>NaN</td>\n    </tr>\n    <tr>\n      <th>1930</th>\n      <td>SIDM02159</td>\n      <td>HAP1</td>\n      <td>Not provided</td>\n      <td>Cell Line</td>\n      <td>SIDM02121</td>\n      <td>SIDS02033</td>\n      <td>Adherent</td>\n      <td>Not provided</td>\n      <td>Not provided</td>\n      <td>Not provided</td>\n      <td>...</td>\n      <td>NaN</td>\n      <td>Horizon Discovery</td>\n      <td>Commercial</td>\n      <td>C631</td>\n      <td>Not provided</td>\n      <td>Not provided</td>\n      <td>ACH-002475</td>\n      <td>HAP1 is a subclone of KBM7 which is haploid ex...</td>\n      <td></td>\n      <td>NaN</td>\n    </tr>\n    <tr>\n      <th>1931</th>\n      <td>SIDM01339</td>\n      <td>SLR24</td>\n      <td>Not provided</td>\n      <td>Cell Line</td>\n      <td>SIDM01851</td>\n      <td>SIDS01788</td>\n      <td>Adherent</td>\n      <td>Not provided</td>\n      <td>Not provided</td>\n      <td>Not provided</td>\n      <td>...</td>\n      <td>PMID: 25984343,PMID: 19470766,PMID: 12907621,P...</td>\n      <td>Not provided</td>\n      <td>Not provided</td>\n      <td>Not provided</td>\n      <td>Not provided</td>\n      <td>CVCL_V610</td>\n      <td>ACH-000272,CVCL_V610,CCLE_Name:SLR24_KIDNEY</td>\n      <td>STR Profile: Amelogenin: X; CSF1PO: 10,12; D5S...</td>\n      <td>Yes</td>\n      <td>Not provided</td>\n    </tr>\n  </tbody>\n</table>\n<p>1932 rows × 27 columns</p>\n</div>"
     },
     "execution_count": 470,
     "metadata": {},
     "output_type": "execute_result"
    }
   ],
   "source": [
    "cmp_sheet"
   ],
   "metadata": {
    "collapsed": false,
    "ExecuteTime": {
     "end_time": "2024-04-10T10:35:04.915269Z",
     "start_time": "2024-04-10T10:35:04.769702Z"
    }
   },
   "execution_count": 470
  },
  {
   "cell_type": "code",
   "outputs": [
    {
     "data": {
      "text/plain": "       model_id         model_name model_name_aliases       type  parent_id  \\\n13    SIDM01387          NCI-H1339       Not provided  Cell Line        NaN   \n24    SIDM01752               L3-3       Not provided  Cell Line  SIDM01654   \n30    SIDM00128            JHU-011       Not provided  Cell Line        NaN   \n39    SIDM01287  HCM-SANG-0290-C15       Not provided   Organoid        NaN   \n54    SIDM00205               EW-1       Not provided  Cell Line        NaN   \n...         ...                ...                ...        ...        ...   \n1927  SIDM02153              MM485       Not provided  Cell Line        NaN   \n1928  SIDM02155               NZM3       Not provided  Cell Line        NaN   \n1929  SIDM02157            WM3772F       Not provided  Cell Line        NaN   \n1930  SIDM02159               HAP1       Not provided  Cell Line  SIDM02121   \n1931  SIDM01339              SLR24       Not provided  Cell Line  SIDM01851   \n\n     origin_patient_sample_id growth_properties      media_id  growth_media  \\\n13                        NaN      Not provided  Not provided  Not provided   \n24                  SIDS01608          Adherent  Not provided  Not provided   \n30                        NaN      Not provided  Not provided  Not provided   \n39                        NaN      Not provided  Not provided  Not provided   \n54                        NaN      Not provided  Not provided  Not provided   \n...                       ...               ...           ...           ...   \n1927                      NaN          Adherent  Not provided  Not provided   \n1928                      NaN          Adherent  Not provided  Not provided   \n1929                      NaN          Adherent  Not provided  Not provided   \n1930                SIDS02033          Adherent  Not provided  Not provided   \n1931                SIDS01788          Adherent  Not provided  Not provided   \n\n     plate_coating  ...                                       publications  \\\n13    Not provided  ...  PMID: 19472407,PMID: 25877200,PMID: 1312696,PM...   \n24    Not provided  ...  PMID: 26589293,PMID: 25984343,PMID: 22460905,P...   \n30    Not provided  ...  PMID: 21868764,PMID: 35839778,PMID: 12925955,P...   \n39    Not provided  ...                                                NaN   \n54    Not provided  ...  PMID: 6713356,PMID: 35839778,PMID: 11423975,PM...   \n...            ...  ...                                                ...   \n1927  Not provided  ...                                      PMID: 3127479   \n1928  Not provided  ...                                                NaN   \n1929  Not provided  ...                                                NaN   \n1930  Not provided  ...                                                NaN   \n1931  Not provided  ...  PMID: 25984343,PMID: 19470766,PMID: 12907621,P...   \n\n               supplier supplier_type   catalog_number   vendor_link  \\\n13         Not provided  Not provided     Not provided  Not provided   \n24         Not provided  Not provided     Not provided  Not provided   \n30         Not provided  Not provided     Not provided  Not provided   \n39         Not provided  Not provided     Not provided  Not provided   \n54         Not provided  Not provided     Not provided  Not provided   \n...                 ...           ...              ...           ...   \n1927              ECACC    Commercial         11072803  Not provided   \n1928              ECACC    Commercial         17020204  Not provided   \n1929           Rockland    Commercial  WM3772F-01-0001  Not provided   \n1930  Horizon Discovery    Commercial             C631  Not provided   \n1931       Not provided  Not provided     Not provided  Not provided   \n\n              rrid                                       external_ids  \\\n13       CVCL_A472       ACH-000921,CVCL_A472,CCLE_Name:NCIH1339_LUNG   \n24       CVCL_8147        ACH-000685,CVCL_8147,CCLE_Name:L33_PANCREAS   \n30       CVCL_5986  COSMIC1240161,ACH-002249,CVCL_5986,CCLE_Name:J...   \n39    Not provided                                                NaN   \n54       CVCL_1208  COSMIC949163,ACH-002110,CVCL_1208,CCLE_Name:EW...   \n...            ...                                                ...   \n1927  Not provided                           COSMIC1206009,ACH-001973   \n1928  Not provided                           COSMIC1660299,ACH-001982   \n1929  Not provided                                         ACH-002687   \n1930  Not provided                                         ACH-002475   \n1931     CVCL_V610        ACH-000272,CVCL_V610,CCLE_Name:SLR24_KIDNEY   \n\n                                               comments STR_analysis  \\\n13    STR Profile: Amelogenin: X; CSF1PO: 12; D2S133...          Yes   \n24    Derived through sequential passaging in nude m...                \n30    STR Profile: Amelogenin: X; CSF1PO: 10,12; D5S...          Yes   \n39                                                  NaN                \n54    STR Profile: Amelogenin: X,Y; CSF1PO: 11; D5S8...          Yes   \n...                                                 ...          ...   \n1927                                                NaN                \n1928                                                NaN                \n1929                                                NaN                \n1930  HAP1 is a subclone of KBM7 which is haploid ex...                \n1931  STR Profile: Amelogenin: X; CSF1PO: 10,12; D5S...          Yes   \n\n     cell_line_provider_url  \n13             Not provided  \n24             Not provided  \n30             Not provided  \n39                      NaN  \n54             Not provided  \n...                     ...  \n1927                    NaN  \n1928                    NaN  \n1929                    NaN  \n1930                    NaN  \n1931           Not provided  \n\n[454 rows x 27 columns]",
      "text/html": "<div>\n<style scoped>\n    .dataframe tbody tr th:only-of-type {\n        vertical-align: middle;\n    }\n\n    .dataframe tbody tr th {\n        vertical-align: top;\n    }\n\n    .dataframe thead th {\n        text-align: right;\n    }\n</style>\n<table border=\"1\" class=\"dataframe\">\n  <thead>\n    <tr style=\"text-align: right;\">\n      <th></th>\n      <th>model_id</th>\n      <th>model_name</th>\n      <th>model_name_aliases</th>\n      <th>type</th>\n      <th>parent_id</th>\n      <th>origin_patient_sample_id</th>\n      <th>growth_properties</th>\n      <th>media_id</th>\n      <th>growth_media</th>\n      <th>plate_coating</th>\n      <th>...</th>\n      <th>publications</th>\n      <th>supplier</th>\n      <th>supplier_type</th>\n      <th>catalog_number</th>\n      <th>vendor_link</th>\n      <th>rrid</th>\n      <th>external_ids</th>\n      <th>comments</th>\n      <th>STR_analysis</th>\n      <th>cell_line_provider_url</th>\n    </tr>\n  </thead>\n  <tbody>\n    <tr>\n      <th>13</th>\n      <td>SIDM01387</td>\n      <td>NCI-H1339</td>\n      <td>Not provided</td>\n      <td>Cell Line</td>\n      <td>NaN</td>\n      <td>NaN</td>\n      <td>Not provided</td>\n      <td>Not provided</td>\n      <td>Not provided</td>\n      <td>Not provided</td>\n      <td>...</td>\n      <td>PMID: 19472407,PMID: 25877200,PMID: 1312696,PM...</td>\n      <td>Not provided</td>\n      <td>Not provided</td>\n      <td>Not provided</td>\n      <td>Not provided</td>\n      <td>CVCL_A472</td>\n      <td>ACH-000921,CVCL_A472,CCLE_Name:NCIH1339_LUNG</td>\n      <td>STR Profile: Amelogenin: X; CSF1PO: 12; D2S133...</td>\n      <td>Yes</td>\n      <td>Not provided</td>\n    </tr>\n    <tr>\n      <th>24</th>\n      <td>SIDM01752</td>\n      <td>L3-3</td>\n      <td>Not provided</td>\n      <td>Cell Line</td>\n      <td>SIDM01654</td>\n      <td>SIDS01608</td>\n      <td>Adherent</td>\n      <td>Not provided</td>\n      <td>Not provided</td>\n      <td>Not provided</td>\n      <td>...</td>\n      <td>PMID: 26589293,PMID: 25984343,PMID: 22460905,P...</td>\n      <td>Not provided</td>\n      <td>Not provided</td>\n      <td>Not provided</td>\n      <td>Not provided</td>\n      <td>CVCL_8147</td>\n      <td>ACH-000685,CVCL_8147,CCLE_Name:L33_PANCREAS</td>\n      <td>Derived through sequential passaging in nude m...</td>\n      <td></td>\n      <td>Not provided</td>\n    </tr>\n    <tr>\n      <th>30</th>\n      <td>SIDM00128</td>\n      <td>JHU-011</td>\n      <td>Not provided</td>\n      <td>Cell Line</td>\n      <td>NaN</td>\n      <td>NaN</td>\n      <td>Not provided</td>\n      <td>Not provided</td>\n      <td>Not provided</td>\n      <td>Not provided</td>\n      <td>...</td>\n      <td>PMID: 21868764,PMID: 35839778,PMID: 12925955,P...</td>\n      <td>Not provided</td>\n      <td>Not provided</td>\n      <td>Not provided</td>\n      <td>Not provided</td>\n      <td>CVCL_5986</td>\n      <td>COSMIC1240161,ACH-002249,CVCL_5986,CCLE_Name:J...</td>\n      <td>STR Profile: Amelogenin: X; CSF1PO: 10,12; D5S...</td>\n      <td>Yes</td>\n      <td>Not provided</td>\n    </tr>\n    <tr>\n      <th>39</th>\n      <td>SIDM01287</td>\n      <td>HCM-SANG-0290-C15</td>\n      <td>Not provided</td>\n      <td>Organoid</td>\n      <td>NaN</td>\n      <td>NaN</td>\n      <td>Not provided</td>\n      <td>Not provided</td>\n      <td>Not provided</td>\n      <td>Not provided</td>\n      <td>...</td>\n      <td>NaN</td>\n      <td>Not provided</td>\n      <td>Not provided</td>\n      <td>Not provided</td>\n      <td>Not provided</td>\n      <td>Not provided</td>\n      <td>NaN</td>\n      <td>NaN</td>\n      <td></td>\n      <td>NaN</td>\n    </tr>\n    <tr>\n      <th>54</th>\n      <td>SIDM00205</td>\n      <td>EW-1</td>\n      <td>Not provided</td>\n      <td>Cell Line</td>\n      <td>NaN</td>\n      <td>NaN</td>\n      <td>Not provided</td>\n      <td>Not provided</td>\n      <td>Not provided</td>\n      <td>Not provided</td>\n      <td>...</td>\n      <td>PMID: 6713356,PMID: 35839778,PMID: 11423975,PM...</td>\n      <td>Not provided</td>\n      <td>Not provided</td>\n      <td>Not provided</td>\n      <td>Not provided</td>\n      <td>CVCL_1208</td>\n      <td>COSMIC949163,ACH-002110,CVCL_1208,CCLE_Name:EW...</td>\n      <td>STR Profile: Amelogenin: X,Y; CSF1PO: 11; D5S8...</td>\n      <td>Yes</td>\n      <td>Not provided</td>\n    </tr>\n    <tr>\n      <th>...</th>\n      <td>...</td>\n      <td>...</td>\n      <td>...</td>\n      <td>...</td>\n      <td>...</td>\n      <td>...</td>\n      <td>...</td>\n      <td>...</td>\n      <td>...</td>\n      <td>...</td>\n      <td>...</td>\n      <td>...</td>\n      <td>...</td>\n      <td>...</td>\n      <td>...</td>\n      <td>...</td>\n      <td>...</td>\n      <td>...</td>\n      <td>...</td>\n      <td>...</td>\n      <td>...</td>\n    </tr>\n    <tr>\n      <th>1927</th>\n      <td>SIDM02153</td>\n      <td>MM485</td>\n      <td>Not provided</td>\n      <td>Cell Line</td>\n      <td>NaN</td>\n      <td>NaN</td>\n      <td>Adherent</td>\n      <td>Not provided</td>\n      <td>Not provided</td>\n      <td>Not provided</td>\n      <td>...</td>\n      <td>PMID: 3127479</td>\n      <td>ECACC</td>\n      <td>Commercial</td>\n      <td>11072803</td>\n      <td>Not provided</td>\n      <td>Not provided</td>\n      <td>COSMIC1206009,ACH-001973</td>\n      <td>NaN</td>\n      <td></td>\n      <td>NaN</td>\n    </tr>\n    <tr>\n      <th>1928</th>\n      <td>SIDM02155</td>\n      <td>NZM3</td>\n      <td>Not provided</td>\n      <td>Cell Line</td>\n      <td>NaN</td>\n      <td>NaN</td>\n      <td>Adherent</td>\n      <td>Not provided</td>\n      <td>Not provided</td>\n      <td>Not provided</td>\n      <td>...</td>\n      <td>NaN</td>\n      <td>ECACC</td>\n      <td>Commercial</td>\n      <td>17020204</td>\n      <td>Not provided</td>\n      <td>Not provided</td>\n      <td>COSMIC1660299,ACH-001982</td>\n      <td>NaN</td>\n      <td></td>\n      <td>NaN</td>\n    </tr>\n    <tr>\n      <th>1929</th>\n      <td>SIDM02157</td>\n      <td>WM3772F</td>\n      <td>Not provided</td>\n      <td>Cell Line</td>\n      <td>NaN</td>\n      <td>NaN</td>\n      <td>Adherent</td>\n      <td>Not provided</td>\n      <td>Not provided</td>\n      <td>Not provided</td>\n      <td>...</td>\n      <td>NaN</td>\n      <td>Rockland</td>\n      <td>Commercial</td>\n      <td>WM3772F-01-0001</td>\n      <td>Not provided</td>\n      <td>Not provided</td>\n      <td>ACH-002687</td>\n      <td>NaN</td>\n      <td></td>\n      <td>NaN</td>\n    </tr>\n    <tr>\n      <th>1930</th>\n      <td>SIDM02159</td>\n      <td>HAP1</td>\n      <td>Not provided</td>\n      <td>Cell Line</td>\n      <td>SIDM02121</td>\n      <td>SIDS02033</td>\n      <td>Adherent</td>\n      <td>Not provided</td>\n      <td>Not provided</td>\n      <td>Not provided</td>\n      <td>...</td>\n      <td>NaN</td>\n      <td>Horizon Discovery</td>\n      <td>Commercial</td>\n      <td>C631</td>\n      <td>Not provided</td>\n      <td>Not provided</td>\n      <td>ACH-002475</td>\n      <td>HAP1 is a subclone of KBM7 which is haploid ex...</td>\n      <td></td>\n      <td>NaN</td>\n    </tr>\n    <tr>\n      <th>1931</th>\n      <td>SIDM01339</td>\n      <td>SLR24</td>\n      <td>Not provided</td>\n      <td>Cell Line</td>\n      <td>SIDM01851</td>\n      <td>SIDS01788</td>\n      <td>Adherent</td>\n      <td>Not provided</td>\n      <td>Not provided</td>\n      <td>Not provided</td>\n      <td>...</td>\n      <td>PMID: 25984343,PMID: 19470766,PMID: 12907621,P...</td>\n      <td>Not provided</td>\n      <td>Not provided</td>\n      <td>Not provided</td>\n      <td>Not provided</td>\n      <td>CVCL_V610</td>\n      <td>ACH-000272,CVCL_V610,CCLE_Name:SLR24_KIDNEY</td>\n      <td>STR Profile: Amelogenin: X; CSF1PO: 10,12; D5S...</td>\n      <td>Yes</td>\n      <td>Not provided</td>\n    </tr>\n  </tbody>\n</table>\n<p>454 rows × 27 columns</p>\n</div>"
     },
     "execution_count": 472,
     "metadata": {},
     "output_type": "execute_result"
    }
   ],
   "source": [
    "cmp_sheet[cmp_sheet['cell_line_provider_url'].fillna('Not provided') == 'Not provided']"
   ],
   "metadata": {
    "collapsed": false,
    "ExecuteTime": {
     "end_time": "2024-04-10T10:36:36.451295Z",
     "start_time": "2024-04-10T10:36:36.336037Z"
    }
   },
   "execution_count": 472
  },
  {
   "cell_type": "code",
   "outputs": [
    {
     "data": {
      "text/plain": "array(['cellbank.brc.riken.jp', 'cellbank.snu.ac.kr', 'www.iclc.it',\n       'www.dsmz.de', 'bcrj.org.br', 'www.addexbio.com',\n       'cellbank.nibiohn.go.jp', None, 'www.atcc.org', 'www.rockland.com',\n       'www.cctcc.org', 'dtp.cancer.gov',\n       'www.phe-culturecollections.org.uk', 'cls.shop',\n       'www.cancertools.org', 'www.abcam.com', 'ximbio.com',\n       'www.merckmillipore.com', 'catalog.coriell.org', 'www.fli.de',\n       'www.ibvr.org', 'catalog.bcrc.firdi.org.tw',\n       'www.cellbankaustralia.com', 'www.cccells.org',\n       'www.cellosaurus.org', 'bioivt.com', 'www.kmcellbank.com',\n       'www.ubigene.us'], dtype=object)"
     },
     "execution_count": 776,
     "metadata": {},
     "output_type": "execute_result"
    }
   ],
   "source": [
    "cmp_sheet['vendor_link'].str.split('://', expand=True)[1].str.split('/',expand=True)[0].unique()"
   ],
   "metadata": {
    "collapsed": false,
    "ExecuteTime": {
     "end_time": "2024-04-11T09:14:21.297530Z",
     "start_time": "2024-04-11T09:14:21.102220Z"
    }
   },
   "execution_count": 776
  },
  {
   "cell_type": "code",
   "outputs": [
    {
     "data": {
      "text/plain": "       model_id  model_name model_name_aliases       type parent_id  \\\n4     SIDM01689      MUTZ-5       Not provided  Cell Line       NaN   \n8     SIDM01587      JMSU-1       Not provided  Cell Line       NaN   \n11    SIDM00074       BL-70       Not provided  Cell Line       NaN   \n16    SIDM00993       AMO-1       Not provided  Cell Line       NaN   \n18    SIDM00990         BEN       Not provided  Cell Line       NaN   \n...         ...         ...                ...        ...       ...   \n1855  SIDM01785         NGP       Not provided  Cell Line       NaN   \n1862  SIDM01061          HN       Not provided  Cell Line       NaN   \n1864  SIDM00985       BL-41       Not provided  Cell Line       NaN   \n1867  SIDM01029    KYSE-270       Not provided  Cell Line       NaN   \n1868  SIDM00331  MHH-CALL-2       Not provided  Cell Line       NaN   \n\n     origin_patient_sample_id growth_properties      media_id  growth_media  \\\n4                         NaN        Suspension  Not provided  Not provided   \n8                         NaN          Adherent  Not provided  Not provided   \n11                        NaN      Not provided  Not provided  Not provided   \n16                        NaN        Suspension  Not provided  Not provided   \n18                        NaN          Adherent  Not provided  Not provided   \n...                       ...               ...           ...           ...   \n1855                      NaN          Adherent  Not provided  Not provided   \n1862                      NaN          Adherent  Not provided  Not provided   \n1864                      NaN        Suspension  Not provided  Not provided   \n1867                      NaN          Adherent  Not provided  Not provided   \n1868                      NaN        Suspension  Not provided  Not provided   \n\n     plate_coating  ...                                       publications  \\\n4     Not provided  ...  PMID: 26589293,PMID: 22460905,PMID: 30285677,P...   \n8     Not provided  ...  PMID: 7483139,PMID: 26589293,PMID: 22460905,PM...   \n11    Not provided  ...  PMID: 26589293,PMID: 3905596,PMID: 25355872,PM...   \n16    Not provided  ...  PMID: 10936422,PMID: 26589293,PMID: 9738977,PM...   \n18    Not provided  ...  PMID: 26589293,PMID: 25877200,PMID: 35839778,P...   \n...            ...  ...                                                ...   \n1855  Not provided  ...  PMID: 15892104,PMID: 28350380,PMID: 16822308,P...   \n1862  Not provided  ...  PMID: 26589293,PMID: 25877200,PMID: 22460905,P...   \n1864  Not provided  ...  PMID: 2645221,PMID: 26589293,PMID: 3905596,PMI...   \n1867  Not provided  ...  PMID: 15172977,PMID: 1728357,PMID: 25877200,PM...   \n1868  Not provided  ...  PMID: 26589293,PMID: 35354797,PMID: 30894373,P...   \n\n     supplier supplier_type catalog_number  \\\n4        DSMZ    Commercial        ACC-490   \n8        DSMZ    Commercial        ACC-505   \n11       DSMZ    Commercial        ACC-233   \n16       DSMZ    Commercial        ACC-538   \n18       DSMZ    Commercial        ACC-254   \n...       ...           ...            ...   \n1855     DSMZ    Commercial        ACC-676   \n1862     DSMZ    Commercial        ACC-417   \n1864     DSMZ    Commercial        ACC-160   \n1867     DSMZ    Commercial        ACC-380   \n1868     DSMZ    Commercial        ACC-341   \n\n                                            vendor_link       rrid  \\\n4     https://www.dsmz.de/collection/catalogue/detai...  CVCL_1873   \n8     https://www.dsmz.de/collection/catalogue/detai...  CVCL_2081   \n11    https://www.dsmz.de/collection/catalogue/detai...  CVCL_1088   \n16    https://www.dsmz.de/collection/catalogue/detai...  CVCL_1806   \n18    https://www.dsmz.de/collection/catalogue/detai...  CVCL_1082   \n...                                                 ...        ...   \n1855  https://www.dsmz.de/collection/catalogue/detai...  CVCL_2141   \n1862  https://www.dsmz.de/collection/catalogue/detai...  CVCL_1283   \n1864  https://www.dsmz.de/collection/catalogue/detai...  CVCL_1087   \n1867  https://www.dsmz.de/collection/catalogue/detai...  CVCL_1350   \n1868  https://www.dsmz.de/collection/catalogue/detai...  CVCL_1409   \n\n                                           external_ids  \\\n4     ACH-000492,CVCL_1873,CCLE_Name:MUTZ5_HAEMATOPO...   \n8     ACH-000753,CVCL_2081,CCLE_Name:JMSU1_URINARY_T...   \n11    COSMIC910707,ACH-000402,CVCL_1088,CCLE_Name:BL...   \n16    COSMIC1295741,ACH-000838,CVCL_1806,CCLE_Name:A...   \n18    COSMIC753534,ACH-000603,CVCL_1082,CCLE_Name:BE...   \n...                                                 ...   \n1855  ACH-001366,CVCL_2141,CCLE_Name:NGP_AUTONOMIC_G...   \n1862  COSMIC907059,ACH-001090,CVCL_1283,CCLE_Name:HN...   \n1864  COSMIC910706,ACH-000245,CVCL_1087,CCLE_Name:BL...   \n1867  COSMIC907319,ACH-000873,CVCL_1350,CCLE_Name:KY...   \n1868  COSMIC908132,ACH-000020,CVCL_1409,CCLE_Name:MH...   \n\n                                               comments STR_analysis  \\\n4     STR Profile: Amelogenin: X; CSF1PO: 8,9; D2S13...          Yes   \n8     STR Profile: Amelogenin: X; CSF1PO: 11; D2S133...          Yes   \n11    STR Profile: Amelogenin: X,Y; CSF1PO: 11; D2S1...          Yes   \n16    STR Profile: Amelogenin: X; CSF1PO: 12; D2S133...          Yes   \n18    STR Profile: Amelogenin: X (DSMZ)  X,Y (Cosmic...          Yes   \n...                                                 ...          ...   \n1855  STR Profile: Amelogenin: X,Y; CSF1PO: 11,12; D...          Yes   \n1862  STR Profile: Amelogenin: X; CSF1PO: 11; D2S133...          Yes   \n1864  STR Profile: Amelogenin: X,Y; CSF1PO: 10,11 (C...          Yes   \n1867  STR Profile: Amelogenin: X,Y; CSF1PO: 12; D2S1...          Yes   \n1868  STR Profile: Amelogenin: X; CSF1PO: 14; D2S133...          Yes   \n\n                                 cell_line_provider_url  \n4     https://www.dsmz.de/collection/catalogue/detai...  \n8     https://www.dsmz.de/collection/catalogue/detai...  \n11    https://www.dsmz.de/collection/catalogue/detai...  \n16    https://www.dsmz.de/collection/catalogue/detai...  \n18    https://www.dsmz.de/collection/catalogue/detai...  \n...                                                 ...  \n1855  https://www.dsmz.de/collection/catalogue/detai...  \n1862  https://www.dsmz.de/collection/catalogue/detai...  \n1864  https://www.dsmz.de/collection/catalogue/detai...  \n1867  https://www.dsmz.de/collection/catalogue/detai...  \n1868  https://www.dsmz.de/collection/catalogue/detai...  \n\n[254 rows x 27 columns]",
      "text/html": "<div>\n<style scoped>\n    .dataframe tbody tr th:only-of-type {\n        vertical-align: middle;\n    }\n\n    .dataframe tbody tr th {\n        vertical-align: top;\n    }\n\n    .dataframe thead th {\n        text-align: right;\n    }\n</style>\n<table border=\"1\" class=\"dataframe\">\n  <thead>\n    <tr style=\"text-align: right;\">\n      <th></th>\n      <th>model_id</th>\n      <th>model_name</th>\n      <th>model_name_aliases</th>\n      <th>type</th>\n      <th>parent_id</th>\n      <th>origin_patient_sample_id</th>\n      <th>growth_properties</th>\n      <th>media_id</th>\n      <th>growth_media</th>\n      <th>plate_coating</th>\n      <th>...</th>\n      <th>publications</th>\n      <th>supplier</th>\n      <th>supplier_type</th>\n      <th>catalog_number</th>\n      <th>vendor_link</th>\n      <th>rrid</th>\n      <th>external_ids</th>\n      <th>comments</th>\n      <th>STR_analysis</th>\n      <th>cell_line_provider_url</th>\n    </tr>\n  </thead>\n  <tbody>\n    <tr>\n      <th>4</th>\n      <td>SIDM01689</td>\n      <td>MUTZ-5</td>\n      <td>Not provided</td>\n      <td>Cell Line</td>\n      <td>NaN</td>\n      <td>NaN</td>\n      <td>Suspension</td>\n      <td>Not provided</td>\n      <td>Not provided</td>\n      <td>Not provided</td>\n      <td>...</td>\n      <td>PMID: 26589293,PMID: 22460905,PMID: 30285677,P...</td>\n      <td>DSMZ</td>\n      <td>Commercial</td>\n      <td>ACC-490</td>\n      <td>https://www.dsmz.de/collection/catalogue/detai...</td>\n      <td>CVCL_1873</td>\n      <td>ACH-000492,CVCL_1873,CCLE_Name:MUTZ5_HAEMATOPO...</td>\n      <td>STR Profile: Amelogenin: X; CSF1PO: 8,9; D2S13...</td>\n      <td>Yes</td>\n      <td>https://www.dsmz.de/collection/catalogue/detai...</td>\n    </tr>\n    <tr>\n      <th>8</th>\n      <td>SIDM01587</td>\n      <td>JMSU-1</td>\n      <td>Not provided</td>\n      <td>Cell Line</td>\n      <td>NaN</td>\n      <td>NaN</td>\n      <td>Adherent</td>\n      <td>Not provided</td>\n      <td>Not provided</td>\n      <td>Not provided</td>\n      <td>...</td>\n      <td>PMID: 7483139,PMID: 26589293,PMID: 22460905,PM...</td>\n      <td>DSMZ</td>\n      <td>Commercial</td>\n      <td>ACC-505</td>\n      <td>https://www.dsmz.de/collection/catalogue/detai...</td>\n      <td>CVCL_2081</td>\n      <td>ACH-000753,CVCL_2081,CCLE_Name:JMSU1_URINARY_T...</td>\n      <td>STR Profile: Amelogenin: X; CSF1PO: 11; D2S133...</td>\n      <td>Yes</td>\n      <td>https://www.dsmz.de/collection/catalogue/detai...</td>\n    </tr>\n    <tr>\n      <th>11</th>\n      <td>SIDM00074</td>\n      <td>BL-70</td>\n      <td>Not provided</td>\n      <td>Cell Line</td>\n      <td>NaN</td>\n      <td>NaN</td>\n      <td>Not provided</td>\n      <td>Not provided</td>\n      <td>Not provided</td>\n      <td>Not provided</td>\n      <td>...</td>\n      <td>PMID: 26589293,PMID: 3905596,PMID: 25355872,PM...</td>\n      <td>DSMZ</td>\n      <td>Commercial</td>\n      <td>ACC-233</td>\n      <td>https://www.dsmz.de/collection/catalogue/detai...</td>\n      <td>CVCL_1088</td>\n      <td>COSMIC910707,ACH-000402,CVCL_1088,CCLE_Name:BL...</td>\n      <td>STR Profile: Amelogenin: X,Y; CSF1PO: 11; D2S1...</td>\n      <td>Yes</td>\n      <td>https://www.dsmz.de/collection/catalogue/detai...</td>\n    </tr>\n    <tr>\n      <th>16</th>\n      <td>SIDM00993</td>\n      <td>AMO-1</td>\n      <td>Not provided</td>\n      <td>Cell Line</td>\n      <td>NaN</td>\n      <td>NaN</td>\n      <td>Suspension</td>\n      <td>Not provided</td>\n      <td>Not provided</td>\n      <td>Not provided</td>\n      <td>...</td>\n      <td>PMID: 10936422,PMID: 26589293,PMID: 9738977,PM...</td>\n      <td>DSMZ</td>\n      <td>Commercial</td>\n      <td>ACC-538</td>\n      <td>https://www.dsmz.de/collection/catalogue/detai...</td>\n      <td>CVCL_1806</td>\n      <td>COSMIC1295741,ACH-000838,CVCL_1806,CCLE_Name:A...</td>\n      <td>STR Profile: Amelogenin: X; CSF1PO: 12; D2S133...</td>\n      <td>Yes</td>\n      <td>https://www.dsmz.de/collection/catalogue/detai...</td>\n    </tr>\n    <tr>\n      <th>18</th>\n      <td>SIDM00990</td>\n      <td>BEN</td>\n      <td>Not provided</td>\n      <td>Cell Line</td>\n      <td>NaN</td>\n      <td>NaN</td>\n      <td>Adherent</td>\n      <td>Not provided</td>\n      <td>Not provided</td>\n      <td>Not provided</td>\n      <td>...</td>\n      <td>PMID: 26589293,PMID: 25877200,PMID: 35839778,P...</td>\n      <td>DSMZ</td>\n      <td>Commercial</td>\n      <td>ACC-254</td>\n      <td>https://www.dsmz.de/collection/catalogue/detai...</td>\n      <td>CVCL_1082</td>\n      <td>COSMIC753534,ACH-000603,CVCL_1082,CCLE_Name:BE...</td>\n      <td>STR Profile: Amelogenin: X (DSMZ)  X,Y (Cosmic...</td>\n      <td>Yes</td>\n      <td>https://www.dsmz.de/collection/catalogue/detai...</td>\n    </tr>\n    <tr>\n      <th>...</th>\n      <td>...</td>\n      <td>...</td>\n      <td>...</td>\n      <td>...</td>\n      <td>...</td>\n      <td>...</td>\n      <td>...</td>\n      <td>...</td>\n      <td>...</td>\n      <td>...</td>\n      <td>...</td>\n      <td>...</td>\n      <td>...</td>\n      <td>...</td>\n      <td>...</td>\n      <td>...</td>\n      <td>...</td>\n      <td>...</td>\n      <td>...</td>\n      <td>...</td>\n      <td>...</td>\n    </tr>\n    <tr>\n      <th>1855</th>\n      <td>SIDM01785</td>\n      <td>NGP</td>\n      <td>Not provided</td>\n      <td>Cell Line</td>\n      <td>NaN</td>\n      <td>NaN</td>\n      <td>Adherent</td>\n      <td>Not provided</td>\n      <td>Not provided</td>\n      <td>Not provided</td>\n      <td>...</td>\n      <td>PMID: 15892104,PMID: 28350380,PMID: 16822308,P...</td>\n      <td>DSMZ</td>\n      <td>Commercial</td>\n      <td>ACC-676</td>\n      <td>https://www.dsmz.de/collection/catalogue/detai...</td>\n      <td>CVCL_2141</td>\n      <td>ACH-001366,CVCL_2141,CCLE_Name:NGP_AUTONOMIC_G...</td>\n      <td>STR Profile: Amelogenin: X,Y; CSF1PO: 11,12; D...</td>\n      <td>Yes</td>\n      <td>https://www.dsmz.de/collection/catalogue/detai...</td>\n    </tr>\n    <tr>\n      <th>1862</th>\n      <td>SIDM01061</td>\n      <td>HN</td>\n      <td>Not provided</td>\n      <td>Cell Line</td>\n      <td>NaN</td>\n      <td>NaN</td>\n      <td>Adherent</td>\n      <td>Not provided</td>\n      <td>Not provided</td>\n      <td>Not provided</td>\n      <td>...</td>\n      <td>PMID: 26589293,PMID: 25877200,PMID: 22460905,P...</td>\n      <td>DSMZ</td>\n      <td>Commercial</td>\n      <td>ACC-417</td>\n      <td>https://www.dsmz.de/collection/catalogue/detai...</td>\n      <td>CVCL_1283</td>\n      <td>COSMIC907059,ACH-001090,CVCL_1283,CCLE_Name:HN...</td>\n      <td>STR Profile: Amelogenin: X; CSF1PO: 11; D2S133...</td>\n      <td>Yes</td>\n      <td>https://www.dsmz.de/collection/catalogue/detai...</td>\n    </tr>\n    <tr>\n      <th>1864</th>\n      <td>SIDM00985</td>\n      <td>BL-41</td>\n      <td>Not provided</td>\n      <td>Cell Line</td>\n      <td>NaN</td>\n      <td>NaN</td>\n      <td>Suspension</td>\n      <td>Not provided</td>\n      <td>Not provided</td>\n      <td>Not provided</td>\n      <td>...</td>\n      <td>PMID: 2645221,PMID: 26589293,PMID: 3905596,PMI...</td>\n      <td>DSMZ</td>\n      <td>Commercial</td>\n      <td>ACC-160</td>\n      <td>https://www.dsmz.de/collection/catalogue/detai...</td>\n      <td>CVCL_1087</td>\n      <td>COSMIC910706,ACH-000245,CVCL_1087,CCLE_Name:BL...</td>\n      <td>STR Profile: Amelogenin: X,Y; CSF1PO: 10,11 (C...</td>\n      <td>Yes</td>\n      <td>https://www.dsmz.de/collection/catalogue/detai...</td>\n    </tr>\n    <tr>\n      <th>1867</th>\n      <td>SIDM01029</td>\n      <td>KYSE-270</td>\n      <td>Not provided</td>\n      <td>Cell Line</td>\n      <td>NaN</td>\n      <td>NaN</td>\n      <td>Adherent</td>\n      <td>Not provided</td>\n      <td>Not provided</td>\n      <td>Not provided</td>\n      <td>...</td>\n      <td>PMID: 15172977,PMID: 1728357,PMID: 25877200,PM...</td>\n      <td>DSMZ</td>\n      <td>Commercial</td>\n      <td>ACC-380</td>\n      <td>https://www.dsmz.de/collection/catalogue/detai...</td>\n      <td>CVCL_1350</td>\n      <td>COSMIC907319,ACH-000873,CVCL_1350,CCLE_Name:KY...</td>\n      <td>STR Profile: Amelogenin: X,Y; CSF1PO: 12; D2S1...</td>\n      <td>Yes</td>\n      <td>https://www.dsmz.de/collection/catalogue/detai...</td>\n    </tr>\n    <tr>\n      <th>1868</th>\n      <td>SIDM00331</td>\n      <td>MHH-CALL-2</td>\n      <td>Not provided</td>\n      <td>Cell Line</td>\n      <td>NaN</td>\n      <td>NaN</td>\n      <td>Suspension</td>\n      <td>Not provided</td>\n      <td>Not provided</td>\n      <td>Not provided</td>\n      <td>...</td>\n      <td>PMID: 26589293,PMID: 35354797,PMID: 30894373,P...</td>\n      <td>DSMZ</td>\n      <td>Commercial</td>\n      <td>ACC-341</td>\n      <td>https://www.dsmz.de/collection/catalogue/detai...</td>\n      <td>CVCL_1409</td>\n      <td>COSMIC908132,ACH-000020,CVCL_1409,CCLE_Name:MH...</td>\n      <td>STR Profile: Amelogenin: X; CSF1PO: 14; D2S133...</td>\n      <td>Yes</td>\n      <td>https://www.dsmz.de/collection/catalogue/detai...</td>\n    </tr>\n  </tbody>\n</table>\n<p>254 rows × 27 columns</p>\n</div>"
     },
     "execution_count": 1286,
     "metadata": {},
     "output_type": "execute_result"
    }
   ],
   "source": [
    "cmp_sheet[cmp_sheet['vendor_link'].str.contains('dsmz')]"
   ],
   "metadata": {
    "collapsed": false,
    "ExecuteTime": {
     "end_time": "2024-04-17T12:22:14.992925Z",
     "start_time": "2024-04-17T12:22:14.843205Z"
    }
   },
   "execution_count": 1286
  },
  {
   "cell_type": "code",
   "outputs": [
    {
     "data": {
      "text/plain": "'RIKEN'"
     },
     "execution_count": 385,
     "metadata": {},
     "output_type": "execute_result"
    }
   ],
   "source": [
    "supplier_name"
   ],
   "metadata": {
    "collapsed": false,
    "ExecuteTime": {
     "end_time": "2024-04-09T14:43:25.030140Z",
     "start_time": "2024-04-09T14:43:24.900538Z"
    }
   },
   "execution_count": 385
  },
  {
   "cell_type": "code",
   "outputs": [],
   "source": [
    "def fetch_attribute_cultcol(driver, df):\n",
    "    for art in driver.find_elements(By.CLASS_NAME, 'pcg-product-info'):\n",
    "        if art.text.strip() == '':\n",
    "            continue\n",
    "        row = BeautifulSoup(art.get_attribute(\"outerHTML\"), 'html.parser')\n",
    "        h = [r.text.strip() for r in row.find_all('h2')]\n",
    "        d = [r.text.strip() for r in row.find_all('div')]\n",
    "        hd = list(zip(h,d))\n",
    "        for r in hd:\n",
    "            df[r[0].lower().replace(' ', '_')] = r[1]\n",
    "    return df\n",
    "\n",
    "def get_atcc_attributes(first, driver, text, model_id):\n",
    "    if first:\n",
    "        WebDriverWait(driver, 10).until(EC.presence_of_element_located((By.XPATH, \"//a[text()='Allow all cookies']\"))).click()\n",
    "        first = False\n",
    "    sleep(2)\n",
    "    try: \n",
    "        WebDriverWait(driver, 30).until(EC.presence_of_element_located((By.XPATH, \"//a[contains(text(), 'Expand all')]\"))).click()\n",
    "        headers = list()\n",
    "        h3 = driver.find_elements(By.XPATH, \"//h3\")\n",
    "        append_it = False\n",
    "        for h in h3:\n",
    "            if len(headers) == 0:\n",
    "                headers.append('Product Information')\n",
    "            if h.text == \"General\" or h.text == 'Characteristics' or append_it:\n",
    "                headers.append(h.text)\n",
    "                append_it = True\n",
    "            if h.text == \"Legal disclaimers\":\n",
    "                append_it = False\n",
    "        \n",
    "        dls = driver.find_elements(By.XPATH, \"//dl\")\n",
    "        i = 0\n",
    "        df = pd.DataFrame()\n",
    "        df['catalog'] = [url.replace('https://www.atcc.org/products/', '').upper()]\n",
    "        df['model_id'] = model_id\n",
    "        for dl in dls:\n",
    "            soup = BeautifulSoup(dl.get_attribute(\"outerHTML\"), 'html.parser')\n",
    "            dt_elements = soup.find_all('dt', class_='product-information__title')\n",
    "            dd_elements = soup.find_all('dd', class_='product-information__data')\n",
    "            dt_values = [headers[i].replace(' ', '_').lower()+'.'+dt.get_text(strip=True).replace(' ', '_').lower() for dt in dt_elements]\n",
    "            i = i+1\n",
    "            dd_values = [dd.get_text(strip=True) for dd in dd_elements]\n",
    "            for j in range(len(dt_values)):\n",
    "                df[dt_values[j]] = dd_values[j]  \n",
    "        text = pd.concat([text, df]).reset_index(drop=True)\n",
    "    except:\n",
    "        pass\n",
    "    return first, text\n",
    "\n",
    "def get_cellbank_riken(driver, text, model_id, model_number):\n",
    "    tables = driver.find_elements(By.XPATH, \"//table\")\n",
    "    main_table = tables[0]\n",
    "    for table in tables:\n",
    "        if table.text.startswith('Reference'):\n",
    "            reference_table = table.text\n",
    "            break\n",
    "    main_table = BeautifulSoup(main_table.get_attribute(\"outerHTML\"), 'html.parser')\n",
    "    rows = main_table.find_all('tr')\n",
    "    df = pd.DataFrame()\n",
    "    df['catalog'] = [model_number]\n",
    "    df['model_id'] = model_id\n",
    "    output = list()\n",
    "    column_names = [\"Depositor\", \"Originator\", \"Year of deposit\", \"Animal\", \"Genus\", \"Species\", \"Race\", \"Gender\", \"Age at sampling\", \"Tissue\", \"Disease name\", \"Metastatic ability\", \"Metastatic tissue\", \"Classification\", \"Year of origin\", \"Lifespan\", \"Morphology\", \"Cellosaurus(Expasy)\", \"Medium\", \"Culture type\", \"Culture medium\", \"Culture method\", \"Antibiotics\", \"Passage method\", \"SC frequency\", \"Temperature\", \"CO2 concentration\", \"Freeze medium\", \"Freezing method\", \"Mycoplasma\", \"Virus (HIV)\", \"Isozyme\", \"Chromosome mode\", \"STR(human)\"]\n",
    "    column_names = [f.lower() for f in column_names]\n",
    "    for row in rows:\n",
    "        values = row.find_all('td')\n",
    "        if len(values) > 0:\n",
    "            if int(values[0].get('colspan', 1)) > 1:\n",
    "                continue \n",
    "            for val in values:\n",
    "                val_t = val.text.replace('\\t', '').replace('\\n', '').lower()\n",
    "                if (int(val.get('rowspan', 1)) > 1 and val.text != '\\n') or val_t == \"\" or val_t == 'deposit info' or val_t == 'lot info':\n",
    "                    continue\n",
    "                if len(output) > 0 and output[-1] in column_names and val_t in column_names:\n",
    "                    output.append('')\n",
    "                output.append(val_t)\n",
    "    for iter in range(0, len(output), 2):\n",
    "        df[output[iter]] = output[iter+1]\n",
    "    pattern = r'PubMed ID:\\s*(\\d+)'\n",
    "    match = search(pattern, reference_table)\n",
    "    if match:\n",
    "        pubmed_id = match.group(1)\n",
    "        pubmed_id = 'PMID: '+ pubmed_id\n",
    "    else:\n",
    "        pubmed_id = ''\n",
    "    df['publications'] = pubmed_id\n",
    "    text = pd.concat([text, df]).reset_index(drop=True)\n",
    "    return text\n",
    "\n",
    "def get_kclb_attributes(driver, text, model_id, model_number, model_name):\n",
    "    try:\n",
    "        element = WebDriverWait(driver, 10).until(EC.presence_of_element_located((By.XPATH, f\"//a[contains(text(), 'SNU-{sub('^0*', '', model_number)}')]\")))\n",
    "        sleep(3)\n",
    "        element.click()\n",
    "    except Exception as e:\n",
    "        try:\n",
    "            element = WebDriverWait(driver, 10).until(EC.presence_of_element_located((By.XPATH, f\"//a[contains(text(), '{model_name}')]\")))\n",
    "            sleep(3)\n",
    "            element.click()\n",
    "        except Exception as e:\n",
    "            print(f'{model_id}: KCLB:{model_number}: Click error')\n",
    "            pass\n",
    "    if len(driver.find_elements(By.CLASS_NAME, \"cell_con_tab_wrap\")) > 0:\n",
    "        table = BeautifulSoup(driver.find_elements(By.CLASS_NAME, \"cell_con_tab_wrap\")[0].get_attribute(\"outerHTML\").replace('\\t','').replace('\\n',''), 'html.parser')\n",
    "        headers = table.find('ul').find_all('li')\n",
    "        headers = [[h['data-ref'], h.text] for h in headers]\n",
    "        table = table.find_all('div')\n",
    "        df = pd.DataFrame()\n",
    "        df['catalog'] = [model_number]\n",
    "        df['model_id'] = model_id\n",
    "        tab = list()\n",
    "        for t in table:\n",
    "            if \"id\" in t.attrs.keys():\n",
    "                tab.append(t)\n",
    "        table = tab\n",
    "        for i in range(0, len(table)):\n",
    "            head = headers[i][0]\n",
    "            tab = table[i]\n",
    "            if tab is not None and \"id\" in tab.attrs.keys() and tab['id'] == head:\n",
    "                tab = tab.find('table')\n",
    "                if tab is not None:\n",
    "                    tab = tab.find_all('tr')\n",
    "                    if tab is not None:\n",
    "                        for j in range(len(tab)):\n",
    "                            if head == 'str' or tab[j].find('th') is None:\n",
    "                                col = head\n",
    "                            elif head == 'morphology':\n",
    "                                continue\n",
    "                            else:\n",
    "                                col = head+'.'+ tab[j].find('th').text.replace(' ', '_').lower() \n",
    "                            df[col] = tab[j].find('td').text \n",
    "            else:\n",
    "                print(f'{model_id}: KCLB:{model_number}: Missmatch id for table and header {tab.attrs}, {head}')\n",
    "        text = pd.concat([text, df]).reset_index(drop=True)\n",
    "    return text\n",
    "\n",
    "def get_iclc_attributes( driver, text, model_id, model_number, model_name):\n",
    "    tables = driver.find_elements(By.XPATH, \"//table\")\n",
    "    table = BeautifulSoup(tables[1].get_attribute(\"outerHTML\"), 'html.parser')\n",
    "    table = table.find_all('tr')\n",
    "    df = pd.DataFrame()\n",
    "    df['catalog'] = [model_number]\n",
    "    df['model_id'] = model_id\n",
    "    for t in table:\n",
    "        if t.text.replace('\\n', '').__contains__('Close window'):\n",
    "            continue\n",
    "        data = t.find_all('td')\n",
    "        if data[0].text.replace('\\xa0', ' ').replace(' ','_').lower().__contains__('bibliography'):\n",
    "            pattern = r'PMID:\\s*(\\d+)'\n",
    "            match = search(pattern, data[1].text.replace('\\xa0', ' ').replace('\\t',' ').replace('\\n',' '))\n",
    "            if match:\n",
    "                pubmed_id = match.group(1)\n",
    "                pubmed_id = 'PMID: '+ pubmed_id\n",
    "            else:\n",
    "                pubmed_id = ''\n",
    "            df['publications'] = pubmed_id\n",
    "        else:\n",
    "            df[data[0].text.replace('\\xa0', ' ').replace(' ','_').lower()] = data[1].text.replace('\\xa0', ' ').replace('\\t',' ').replace('\\n',' ')\n",
    "    text = pd.concat([text, df]).reset_index(drop=True)\n",
    "    return text\n",
    "\n",
    "def get_dsmz_attributes( driver, text, model_id, model_number):\n",
    "    divs = driver.find_elements(By.CLASS_NAME, \"field\")\n",
    "    df = pd.DataFrame()\n",
    "    df['catalog'] = [model_number]\n",
    "    df['model_id'] = model_id\n",
    "    for div in divs:\n",
    "        soup = BeautifulSoup(div.get_attribute(\"outerHTML\"), 'html.parser')\n",
    "        label_element = soup.find(class_='label')\n",
    "        value_element = soup.find(class_='value')\n",
    "        label = label_element.text.strip().replace(':', '').replace(' ', '_').replace('.', '').lower()\n",
    "        value = value_element.text.strip()\n",
    "        if label.__contains__('nbsp') or label.__contains__('Supplied'):\n",
    "            continue\n",
    "        df[label] = value\n",
    "    text = pd.concat([text, df]).reset_index(drop=True)\n",
    "    return text\n",
    "\n",
    "def get_addexbio_attributes(driver, text, model_id, model_number):\n",
    "    divs = driver.find_elements(By.ID, \"recommended\")\n",
    "    publications = driver.find_elements(By.ID, \"ref\")\n",
    "    df = pd.DataFrame()\n",
    "    df['catalog'] = [model_number]\n",
    "    df['model_id'] = model_id\n",
    "    if len(publications)>0:\n",
    "        df['publications'] = publications[0].text\n",
    "    string = sub('<font.*blue\\\">|</font>|<font face=\"arial\">|\\n', '', divs[0].get_attribute(\"outerHTML\"))\n",
    "    string = sub('</p><h2>','$',string)\n",
    "    string = sub('</h2><p>','',string)\n",
    "    string = sub('<div id=\"recommended\"><h2>','',string)\n",
    "    string = sub('</h2> <p>','',string)\n",
    "    string = string.split('$')\n",
    "    output = list()\n",
    "    for s in string:\n",
    "        if s.startswith('Mutations') or s.startswith('Related cells by') or s.startswith('Citation'):\n",
    "            continue\n",
    "        if s.startswith('Sterility'):\n",
    "            s = s.replace('Sterility:', '').replace(': ', ':').replace(': ', ':').replace('</p><p>', ';')\n",
    "            s = s.split(';')\n",
    "            for ss in s:\n",
    "                output.append(\"sterility.\"+ss)\n",
    "            continue\n",
    "        if s.startswith('Pathogens'):\n",
    "            s = s.replace('Pathogens:', '').replace(': ', ':').replace(': ', ':').replace('</p><p>', ';')\n",
    "            s = s.split(';')\n",
    "            for ss in s:\n",
    "                output.append(\"pathogens.\"+ss)\n",
    "            continue\n",
    "        output.append(s.replace('</p><p>', ';').replace(': ', ':').replace(': ', ':'))\n",
    "    for s in output:\n",
    "        out = s.split(':')\n",
    "        df[out[0].lower()] = out[1]\n",
    "    text = pd.concat([text, df]).reset_index(drop=True)\n",
    "    return text\n",
    "\n",
    "def get_cellbank_jp_attributes(driver, text, model_id, model_number):\n",
    "    try:\n",
    "        WebDriverWait(driver, 10).until(EC.presence_of_element_located((By.XPATH, \"//span[contains(text(), 'submit')]\"))).click()\n",
    "    except Exception as e:\n",
    "        pass\n",
    "    tables = driver.find_elements(By.XPATH, \"//table\")\n",
    "    lot = True\n",
    "    df = pd.DataFrame()\n",
    "    df['catalog'] = [model_number]\n",
    "    df['model_id'] = model_id\n",
    "    for t in tables:\n",
    "        if (t.text.__contains__('Detection of virus genome') or t.text.__contains__('Reference') or t.text.__contains__('Cell Name')) and lot:            \n",
    "            tab = BeautifulSoup(t.get_attribute(\"outerHTML\"), 'html.parser')\n",
    "            trs = tab.find_all('tr')\n",
    "            for tr in trs:\n",
    "                h = [h.text.strip() for h in tr.find_all('th')]\n",
    "                d = [d.text.strip() for d in tr.find_all('td')]\n",
    "                row = list(zip(h,d))\n",
    "                for r in row:\n",
    "                    df[r[0]] = r[1]\n",
    "        if t.text.__contains__('Lot Specification'):\n",
    "            tab = BeautifulSoup(t.get_attribute(\"outerHTML\"), 'html.parser')\n",
    "            trs = tab.find_all('tr')\n",
    "            for tr in trs:\n",
    "                h = [h.text.strip() for h in tr.find_all('th')]\n",
    "                d = [d.text.strip() for d in tr.find_all('td')]\n",
    "                row = list(zip(h,d))\n",
    "                for r in row:\n",
    "                    df[r[0]] = r[1]\n",
    "            lot = False\n",
    "    text = pd.concat([text, df]).reset_index(drop=True)\n",
    "    return text\n",
    "\n",
    "def get_cellbank_australia_attributes(driver, text, model_id, model_number):\n",
    "    df = pd.DataFrame()\n",
    "    df['catalog'] = [model_number]\n",
    "    df['model_id'] = model_id\n",
    "    div = driver.find_elements(By.ID, 'content_description')[0]\n",
    "    div = BeautifulSoup(div.get_attribute(\"outerHTML\"), 'html.parser')\n",
    "    df['publications'] = 'PMID: '+div.text.strip().split('PubMed ')[1][0:8].replace('\\n', '')\n",
    "    div = [r for r in div.find_all('p') if r.text.strip() != '']\n",
    "    div = [r.text.strip().replace(\"\\xa0\", \"\").replace(\": \", \":\").replace('PubMed ', 'PMID:').replace('Reference:', '').split(\":\") for r in div if not r.text.__contains__('Ratio') or r.text.__contains__(';')]\n",
    "    div = [r for r in div if len(r)>1]\n",
    "    for r in div:\n",
    "        df[r[0].lower().replace(' ', '_')] = r[1]\n",
    "    text = pd.concat([text, df]).reset_index(drop=True)\n",
    "    return text\n",
    "\n",
    "def get_phe_culture_attributes(driver, text, model_id, model_number):\n",
    "    df = pd.DataFrame()\n",
    "    df['catalog'] = [model_number]\n",
    "    df['model_id'] = model_id\n",
    "    try:\n",
    "        WebDriverWait(driver, 10).until(EC.presence_of_element_located((By.XPATH, \"//span[contains(text(), 'Recommended Settings')]\"))).click()\n",
    "    except Exception as e:\n",
    "        pass\n",
    "    try:\n",
    "        WebDriverWait(driver, 10).until(EC.presence_of_element_located((By.XPATH, \"//a[contains(text(), 'Characteristics')]\"))).click()\n",
    "        df = fetch_attribute_cultcol(driver, df)\n",
    "    except Exception as e:\n",
    "        pass\n",
    "    try:\n",
    "        WebDriverWait(driver, 10).until(EC.presence_of_element_located((By.XPATH, \"//a[contains(text(), 'Culture Conditions')]\"))).click()\n",
    "        df = fetch_attribute_cultcol(driver, df)\n",
    "    except Exception as e:\n",
    "        pass\n",
    "    try:\n",
    "        WebDriverWait(driver, 10).until(EC.presence_of_element_located((By.XPATH, \"//a[contains(text(), 'Applications')]\"))).click()\n",
    "        df = fetch_attribute_cultcol(driver, df)\n",
    "    except Exception as e:\n",
    "        pass    \n",
    "    text = pd.concat([text, df]).reset_index(drop=True)\n",
    "    return text\n",
    "\n",
    "def get_cancertools_attributes(driver, text, model_id, model_number):\n",
    "    try:\n",
    "        WebDriverWait(driver, 10).until(EC.presence_of_element_located((By.XPATH, \"//button[text()='Allow all']\"))).click()\n",
    "    except Exception as e:\n",
    "        pass\n",
    "    df = pd.DataFrame()\n",
    "    df['catalog'] = [model_number]\n",
    "    df['model_id'] = model_id   \n",
    "    div = driver.find_elements(By.CLASS_NAME, 'product-tabs-content')[0]\n",
    "    div = BeautifulSoup(div.get_attribute(\"outerHTML\"), 'html.parser')\n",
    "    div = div.find_all('div')[0].find_all('div')\n",
    "    for d in div:\n",
    "        if d.text.strip() == '':\n",
    "            continue\n",
    "        title = d.find('h4').text.strip().replace(' ', '_').lower()\n",
    "        rows = d.find_all('li')\n",
    "        pmid = ''\n",
    "        for r in rows:\n",
    "            if title == 'references':\n",
    "                pattern = r'PMID:\\s*(\\d+)'\n",
    "                match = search(pattern, r.find('strong').text.strip())\n",
    "                if match:\n",
    "                    pubmed_id = match.group(1)\n",
    "                    pubmed_id = 'PMID: '+ pubmed_id\n",
    "                else:\n",
    "                    pubmed_id = ''\n",
    "                if pubmed_id != '':\n",
    "                    pmid = f\"{pmid},{pubmed_id}\"\n",
    "                continue\n",
    "            else:\n",
    "                col = f\"{title}.{r.find('strong').text.strip().replace(':', '').replace(' ', '_').lower()}\"            \n",
    "                entry = f\"{r.find('strong').find_next_sibling(text=True).strip()}\"\n",
    "            df[col] = entry\n",
    "    df['publications'] = pmid[1:]\n",
    "    text = pd.concat([text, df]).reset_index(drop=True)\n",
    "    return text\n",
    "\n",
    "def get_cls_attributes(driver, text, model_id, model_number):\n",
    "    df = pd.DataFrame()\n",
    "    df['catalog'] = [model_number]\n",
    "    df['model_id'] = model_id\n",
    "    divs = driver.find_elements(By.ID, 'collapseFooter3')\n",
    "    for div in divs:\n",
    "        if div.text.strip() == \"\":\n",
    "            continue\n",
    "        table = BeautifulSoup(div.get_attribute(\"outerHTML\"), 'html.parser').find('table')\n",
    "        if table is None:\n",
    "            continue\n",
    "        h = [h.text.strip().replace(' ', '').lower() for h in table.find_all('th')]\n",
    "        d = [d.text.strip() for d in table.find_all('td')]\n",
    "        row = list(zip(h,d))\n",
    "        for r in row:\n",
    "            df[r[0]] = r[1]\n",
    "    text = pd.concat([text, df]).reset_index(drop=True)\n",
    "    return text\n"
   ],
   "metadata": {
    "collapsed": false,
    "ExecuteTime": {
     "end_time": "2024-04-15T14:15:58.075313Z",
     "start_time": "2024-04-15T14:15:57.898127Z"
    }
   },
   "execution_count": 1108
  },
  {
   "cell_type": "code",
   "outputs": [],
   "source": [
    "def fetch_in_vitro_attributes(in_vitro_models):\n",
    "    chrome_options = webdriver.ChromeOptions()\n",
    "    chrome_options.add_argument(\"--headless\")  # Run Chrome in headless mode if desired\n",
    "    chrome_options.add_argument('--no-sandbox')\n",
    "    chrome_options.add_argument('--disable-dev-shm-usage')\n",
    "    driver = webdriver.Chrome(service=Service(ChromeDriverManager().install()), options=chrome_options)\n",
    "    first = True\n",
    "    atcc, riken, kclb, dsmz  = pd.DataFrame(), pd.DataFrame(), pd.DataFrame(), pd.DataFrame()\n",
    "    iclc, addexbio, cellbankaus, cellbankjp  = pd.DataFrame(), pd.DataFrame(), pd.DataFrame(), pd.DataFrame()\n",
    "    cls, pheuk, cancertools  = pd.DataFrame(), pd.DataFrame(), pd.DataFrame()\n",
    "    for i in tqdm(range(in_vitro_models.shape[0])):\n",
    "        url = in_vitro_models['vendor_link'][i]\n",
    "        model_id = in_vitro_models['model_id'][i]\n",
    "        model_number = in_vitro_models['catalog_number'][i]\n",
    "        model_name = in_vitro_models['model_name'][i]\n",
    "        if (url == 'Not provided' or url.__contains__('bcrj.org.br') or url.__contains__('www.rockland.com') or \n",
    "                url.__contains__('www.cctcc.org') or url.__contains__('dtp.cancer.gov') or url.__contains__('ximbio.com') or url.__contains__('www.merckmillipore.com') or url.__contains__('catalog.coriell.org') or url.__contains__('www.fli.de') or url.__contains__('www.ibvr.org') or url.__contains__('catalog.bcrc.firdi.org.tw') or url.__contains__('www.cccells.org') or url.__contains__('www.cellosaurus.org') or url.__contains__('bioivt.com') or url.__contains__('www.kmcellbank.com') or url.__contains__('www.ubigene.us') or url.__contains__('www.abcam.com')):\n",
    "            continue\n",
    "        driver.get(url)\n",
    "        try:\n",
    "            if url.__contains__('atcc.org'):\n",
    "                first, atcc = get_atcc_attributes(first, driver, atcc, model_id)\n",
    "            elif url.__contains__('cellbank.snu.ac.kr'):\n",
    "                kclb = get_kclb_attributes(driver, kclb, model_id, model_number, model_name)\n",
    "            elif url.__contains__('cellbank.brc.riken.jp'):\n",
    "                riken = get_cellbank_riken(driver, riken, model_id, model_number)\n",
    "            elif url.__contains__('www.iclc.it'):\n",
    "                iclc = get_iclc_attributes(driver, iclc, model_id, model_number, model_name)\n",
    "            elif url.__contains__('dsmz.de'):\n",
    "                dsmz = get_dsmz_attributes(driver, dsmz, model_id, model_number)\n",
    "            elif url.__contains__('addexbio.com'):\n",
    "                addexbio = get_addexbio_attributes(driver, addexbio, model_id, model_number)\n",
    "            elif url.__contains__('cellbank.nibiohn.go.jp'):\n",
    "                cellbankjp = get_cellbank_jp_attributes(driver, cellbankjp, model_id, model_number)\n",
    "            elif url.__contains__('www.cellbankaustralia.com'):\n",
    "                cellbankaus = get_cellbank_australia_attributes(driver, cellbankaus, model_id, model_number)\n",
    "            elif url.__contains__('www.phe-culturecollections.org.uk'):\n",
    "                pheuk = get_phe_culture_attributes(driver, pheuk, model_id, model_number)\n",
    "            elif url.__contains__('www.cancertools.org'):\n",
    "                cancertools = get_cancertools_attributes(driver, cancertools, model_id, model_number)\n",
    "            elif url.__contains__('cls.shop'):\n",
    "                cls = get_cls_attributes(driver, cls, model_id, model_number)\n",
    "        except Exception as e:\n",
    "            print('Error')\n",
    "    driver.quit()\n",
    "    return [atcc, riken, kclb, dsmz, iclc, addexbio, cellbankaus, cellbankjp, cls, pheuk, cancertools]"
   ],
   "metadata": {
    "collapsed": false,
    "ExecuteTime": {
     "end_time": "2024-04-16T09:23:20.047109Z",
     "start_time": "2024-04-16T09:23:19.828141Z"
    }
   },
   "execution_count": 1126
  },
  {
   "cell_type": "code",
   "outputs": [],
   "source": [
    "attributes_dfs = fetch_in_vitro_attributes(cmp_sheet)\n",
    "attributes_dfs"
   ],
   "metadata": {
    "collapsed": false
   },
   "execution_count": null
  },
  {
   "cell_type": "code",
   "outputs": [],
   "source": [
    "[atcc, riken, kclb, dsmz, iclc, addexbio, cellbankaus, cellbankjp, cls, pheuk, cancertools] = attributes_dfs\n",
    "out_cols = ['model_id', 'morphology', 'growth_properties',\n",
    "       'growth_media', 'morphological_features',\n",
    "       'validation_technique', 'virology_status', 'other_publications',\n",
    "       'other_comments', 'contaminated', 'contamination_details',\n",
    "       'supplements', 'media_id', 'tumour_status', 'model_purity', 'SNP_analysis', 'passage_number']"
   ],
   "metadata": {
    "collapsed": false,
    "ExecuteTime": {
     "end_time": "2024-04-17T13:25:30.090596Z",
     "start_time": "2024-04-17T13:25:29.949314Z"
    }
   },
   "execution_count": 1313
  },
  {
   "cell_type": "code",
   "outputs": [],
   "source": [
    "riken['growth_properties'] = riken['culture type'].fillna('Not provided').str.replace(' cells', '')\n",
    "riken['growth_media'] = riken['culture medium'].str.replace(' + ', '+').str.split('+', n=1, expand=True)[0].str.upper()\n",
    "riken['supplements'] = riken['culture medium'].str.replace(' + ', '+').str.split('+', n=1, expand=True)[1].str.upper().str.replace('+', ' + ').fillna('Not provided')\n",
    "riken['media_id'] = riken['culture medium'].str.replace(' + ', '+').str.split('+', n=1, expand=True)[0].str.upper().replace({\"RPMI1640\": \"ATCC 30-2001\", \"MEM\": \"SIGMA M4655\", \"DMEM (LOW GLUCOSE)\": \"GIBCO 11885-084\", \"HAMF10\": \"SIGMA N6908\", \"(HAMF12 : RPMI1640 = 1 : 1)\": \"SIGMA N6658\",\n",
    "\"HAMF12\": \"SIGMA N6658\", \"DMEM/HAMF12\": \"GIBCO 11320-033\", \"GIT\": \"Kohjin-bio Co.,Ltd 637-25715\", \"MCCOY'S 5A\": \"GIBCO 16600-082\", \"HUMEDIA-KG2\": \"KURABO KK-2150S\"\n",
    "})\n",
    "riken['morphological_features'] = riken['morphology']\n",
    "#riken['STR_analysis'] = ['Yes' if r != 'No' else r for r in riken['str(human)'].fillna('No')]\n",
    "riken['validation_technique'] = \"PCR\"\n",
    "na_str = \"Not provided\"\n",
    "virus = list()\n",
    "for x, y, z, a, b in zip(\n",
    "        [\"HIV: Not detected\" if r == \"(-)\" else r if r == na_str else f\"HIV: {r}\" for r in riken['virus (hiv)'].fillna(na_str)],\n",
    "        [\"HCV: Not detected\" if r == \"(-)\" else r if r == na_str else f\"HCV: {r}\" for r in riken['virus (hcv)'].fillna(na_str)],\n",
    "        [\"HBV: Not detected\" if r == \"(-)\" else r if r == na_str else f\"HBV: {r}\" for r in riken['virus (hbv)'].fillna(na_str)],\n",
    "        [\"EBV: Not detected\" if r == \"(-)\" else r if r == na_str else f\"EBV: {r.replace('(+)', 'Detected')}\" for r in riken['virus (ebv)'].fillna(na_str)],\n",
    "        [\"HTLV: Not detected\" if r == \"(-)\" else r if r == na_str else f\"HTLV: {r.replace('dna (+)', 'Detected')}\" for r in riken['virus (htlv-1)'].fillna(na_str)] ):\n",
    "    out = ''\n",
    "    if x != na_str:\n",
    "        out += x + ','\n",
    "    if y != na_str:\n",
    "        out += y + ','\n",
    "    if z != na_str:\n",
    "        out += z + ','\n",
    "    if a != na_str:\n",
    "        out += a + ','\n",
    "    if b != na_str:\n",
    "        out += b + ','\n",
    "    out = out[:-1]\n",
    "    if out == '':\n",
    "        out = na_str\n",
    "    virus.append(out)\n",
    "riken['virology_status'] = virus\n",
    "riken['other_publications'] = riken['publications']\n",
    "riken['other_comments'] = \"Passage method: \" + riken['passage method']+ \", Passage ratio: \" + riken['passage ratio'] + \", Isozyme: \" + riken['isozyme'].str.upper() \n",
    "riken['contaminated'] = [\"No\" if r == \"(-)\" else r if r == na_str else \"Yes\" for r in riken['mycoplasma'].fillna(na_str)]\n",
    "riken['contamination_details'] = [\"No contamination\" if r == \"(-)\" else r if r == na_str else \"mycoplasma\" for r in riken['mycoplasma'].fillna(na_str)]\n",
    "riken['model_purity'] = riken['metastatic ability'].fillna('no')\n",
    "riken['tumour_status'] = na_str\n",
    "riken['SNP_analysis'] = na_str\n",
    "riken['passage_number'] = na_str\n",
    "riken = riken[out_cols]\n",
    "\n",
    "kclb['growth_properties'] = kclb['info.growth_pattern'].fillna(na_str)\n",
    "kclb['growth_properties'] = ['monolayer' if gp.__contains__('monolayer') else gp for gp in kclb['growth_properties']]\n",
    "kclb['growth_media'] = kclb['method.kclb_media'].str.replace('  ', ' ').str.replace('Eagle', 'DMEM').str.replace('Dulbecco', 'DMEM').fillna(na_str).split(';', expand=True)[0].fillna(na_str)\n",
    "kclb['supplements'] = kclb['method.kclb_media'].str.replace('  ', ' ').str.replace('Eagle', 'DMEM').str.replace('Dulbecco', 'DMEM').fillna(na_str).str.split(';', expand=True)[1].fillna(na_str)\n",
    "kclb['media_id'] = [\"ATCC 30-2002\" if r.__contains__('DMEM') else \"ATCC 30-2001\" if r.__contains__('RPMI1640') else na_str for r in kclb['growth_media']]\n",
    "kclb['morphological_features'] = kclb['info.cellular_morphology'].fillna(\"Not provided\")\n",
    "kclb['validation_technique'] = \"PCR\"\n",
    "kclb['virology_status'] = na_str\n",
    "kclb['other_comments'] = \"Growth rate: \" + kclb['info.growth_rate'].fillna(na_str)  + \", Split ratio: \" + kclb['method.split_ratio'].fillna(na_str) + \", Doubling time: \" + kclb['method.populaton_doubling_time'].fillna(na_str)\n",
    "kclb['other_publications'] = kclb['references']\n",
    "kclb['contaminated'] = na_str\n",
    "kclb['contamination_details'] = na_str\n",
    "riken['tumour_status'] = na_str\n",
    "riken['model_purity'] = na_str\n",
    "riken['SNP_analysis'] = na_str\n",
    "riken['passage_number'] = na_str\n",
    "kclb = kclb[out_cols]\n",
    "\n",
    "dsmz['morphological_features'] = dsmz['morphology'].str.replace('image', '').str.replace('; ', '')\n",
    "dsmz['growth_properties'] = ['suspension' if gp.__contains__('suspension') else 'adherent' if gp.__contains__('adherent') else 'monolayer' if gp.__contains__('monolayer') else 'Not provided' for gp in dsmz['morphological_features'].str.lower().fillna(na_str)]\n",
    "dsmz['growth_media'] = dsmz['medium'].str.replace(' + ', '+').str.split('+', n=1, expand=True)[0].fillna(na_str)\n",
    "dsmz['supplements'] = dsmz['medium'].str.replace(' + ', '+').str.split('+', n=1, expand=True)[1].str.replace('+', ' + ').fillna(na_str)\n",
    "dsmz['media_id'] = ['DMEM' if med.__contains__('DMEM') else 'RPMI1640' if med.__contains__('RPMI 1640') else \"HamF12\" if med.__contains__(\"Ham's F12\") else  'MEM' if med.__contains__('MEM') and med != 'DMEM' and not med.__contains__('alpha') else med \n",
    "                    for med in dsmz['medium'].str.replace(' + ', '+').str.split('+', n=1, expand=True)[0].str.replace('\\d+-?\\d*\\.?\\d+\\%\\s', '',regex=True).fillna(na_str)]\n",
    "dsmz['media_id'] = dsmz['media_id'].replace({\"McCoy's 5A\": \"SIGMA M9309\", \"RPMI1640\": \"ATCC 30-2001\", \"DMEM\": \"ATCC 30-2002\", \"Iscove's MDM\": \"SIGMA I3390\", \"alpha-MEM (with ribo- and deoxyribonucleosides)\": \"SIGMA M4526\", \"HamF12\": \"SIGMA N6658\", \"MEM\": \"SIGMA M4655\", \"Ham's F10\": \"SIGMA N6908\", \"NCTC-109\": \"SIGMA N1140\"})\n",
    "dsmz['validation_technique'] = \"PCR assays/ELISA/RNA Hybridization\"\n",
    "dsmz['virology_status'] = dsmz['viruses'].str.replace(' -', ': Not detected').str.replace(' negative', ': Not detected').str.replace('PCR:|ELISA:', '',regex=True).str.replace(' +', ': Detected').str.replace(';', ',').fillna(na_str)\n",
    "dsmz['other_comment'] = \"Doubling time: \" + dsmz['doubling_time'] + \", Harvest: \" + dsmz['harvest']\n",
    "dsmz['other_publications'] = ''\n",
    "dsmz['contaminated'] = 'No'\n",
    "dsmz['contamination_details'] = dsmz['mycoplasma']\n",
    "dsmz['model_purity'] = na_str\n",
    "dsmz['passage_number'] = na_str\n",
    "dsmz['tumour_status'] = ['Yes' if f.__contains__('expression') else 'No' for f in dsmz['molec_genetics'].str.lower().fillna(na_str)]\n",
    "dsmz['SNP_analysis'] = ['Yes' if f.__contains__('mutations') else 'No' for f in dsmz['molec_genetics'].str.lower().fillna(na_str)]\n",
    "dsmz = dsmz[out_cols]\n",
    "\n",
    "iclc['growth_properties'] = iclc['morphology_and_growth'].str.replace('continuous culture, ', '').str.replace('in|as|grown| ', '',regex=True).str.split(',',n=1,expand=True)[0].fillna(na_str)\n",
    "iclc['morphological_features'] = iclc['morphology_and_growth'].str.replace('continuous culture, ', '').str.replace('morphology ', '',regex=True).str.replace('neuroblastic-like', 'neuroblast-like').str.split(',',n=1,expand=True)[1].fillna(na_str)\n",
    "media = {\"DMEM\": \"\", \"RPMI 1640\": \"\", \"Ham's F10\": \"\"}\n",
    "iclc['growth_media'] = [f if f in media.keys() else na_str for f in iclc['culture_conditions'].str.replace(' + ', '+').str.split('+', n=1, expand=True).fillna(na_str)[0]]\n",
    "iclc['media_id'] = iclc['growth_media'].replace({\"RPMI 1640\": \"ATCC 30-2001\", \"DMEM\": \"ATCC 30-2002\", \"Ham's F10\": \"SIGMA N6908\"})\n",
    "iclc['supplements'] = iclc['culture_conditions'].str.replace(' + ', '+').str.split('+', n=1, expand=True).fillna(na_str)[1].str.replace('+', ' + ').str.replace(';.*', '',regex=True)\n",
    "iclc['validation_technique'] = 'PCR'\n",
    "iclc['other_comments'] = 'Culture notes: ' + iclc['culture_conditions'].str.split('; ', n=1, expand=True).fillna(na_str)[1]\n",
    "iclc['other_comments'] = iclc['comments'].fillna('') + iclc['other_comments']\n",
    "iclc['virology_status'] = na_str\n",
    "iclc['other_publications'] = iclc['publications']\n",
    "iclc['contaminated'] = na_str\n",
    "iclc['contamination_details'] = na_str\n",
    "iclc['model_purity'] = na_str\n",
    "iclc['tumour_status'] = na_str\n",
    "iclc['SNP_analysis'] = na_str\n",
    "iclc['passage_number'] = iclc['passage_number'].fillna(na_str)\n",
    "iclc = iclc[out_cols]\n",
    "\n",
    "addexbio['growth_properties'] = ['Mix of adherent and suspension' if f.__contains__('mixed') else 'Adherent' if f.__contains__('adherent') else 'Suspension' if f.__contains__('suspension') else na_str for f in addexbio['properties'].str.lower().fillna(na_str)]\n",
    "addexbio['morphological_features'] = addexbio['morphology'].str.replace('(;|\\.).*|, epithelial-like', '', regex=True).str.replace(' $', '', regex=True)\n",
    "addexbio['growth_media'] = addexbio['medium'].str.replace('\\s*\\(.*', '', regex=True).str.replace(' Medium', '').str.replace(' + ', '+').str.split('+', n=1, expand=True).fillna(na_str)[0].str.replace('^\\s|\\s$', '', regex=True).str.replace('RPMI1640', 'RPMI-1640').str.replace('AddexBio-Formulated DMEM', 'AddexBio-formulated DMEM').str.replace(\"Iscove's Modified Dulbecco's\", \"IMDM\")\n",
    "addexbio['media_id'] = addexbio['growth_media'].replace({\"AddexBio-formulated DMEM\": \"AddexBio C0003-01\", \"AddexBio-formulated EMEM\": \"AddexBio C0005-01\", \"AddexBio-formulated Leibovitz's L-15\": \"AddexBio C0006-01\", \"AddexBio-formulated RPMI-1640\": \"AddexBio C0004-01\", \"EMEM\": \"AddexBio C0005-01\", \"DMEM/F12\": na_str, \"DMEM/F12\": \"GIBCO 11320-033\", \"F12K\": \"SIGMA N3520\", \"Ham's F-12\": \"SIGMA N6658\", \"IMDM\": \"SIGMA I3390\", \"McCoy's 5a\": \"SIGMA M9309\", \"RPMI-1640\": \"AddexBio C0004-01\"})\n",
    "addexbio['supplements'] = addexbio['medium'].str.replace('\\s*\\(.*', '', regex=True).str.replace(' Medium', '').str.replace(' + ', '+').str.split('+', n=1, expand=True).fillna(na_str)[1].str.replace('^\\s|\\s$', '', regex=True).str.replace('+', ' + ')\n",
    "addexbio['validation_technique'] = 'PCR'\n",
    "addexbio['other_comments'] = ''\n",
    "addexbio['virology_status'] = ['HIV: resitant' if a or b or c or d or e or f else 'Not detected' for a,b,c,d,e,f in zip([False if f == 'Negative' else True for f in addexbio['pathogens.cmv'].str.replace('\\t|</p></div>', '', regex=True).fillna('Negative')],\n",
    "[False if f == 'Negative' else True for f in addexbio['pathogens.hiv'].str.replace('\\t|</p></div>', '', regex=True).fillna('Negative')],\n",
    "[False if f == 'Negative' else True for f in addexbio['pathogens.hepatitis b'].str.replace('\\t|</p></div>', '', regex=True).fillna('Negative')],\n",
    "[False if f == 'Negative' else True for f in addexbio['pathogens.hepatitis c'].str.replace('\\t|</p></div>', '', regex=True).fillna('Negative')],\n",
    "[False if f == 'Negative' else True for f in addexbio['pathogens.hpv'].str.replace('\\t|</p></div>', '', regex=True).fillna('Negative')],\n",
    "[False if f == 'Negative' else True for f in addexbio['pathogens.ebv'].str.replace('\\t|</p></div>', '', regex=True).fillna('Negative')])]\n",
    "addexbio['other_publications'] = ''\n",
    "\n",
    "addexbio['contaminated'] = ['Yes' if x or y or z else 'No' for x,y,z in zip([False if f == 'Negative' else True for f in addexbio['sterility.bacteria'].fillna('Negative')],\n",
    "[False if f == 'Negative' else True for f in addexbio['sterility.yeast'].fillna('Negative')],\n",
    "[False if f == 'Negative' else True for f in addexbio['sterility.mycoplasma'].fillna('Negative')])]\n",
    "addexbio['contamination_details'] = [f\"{x}, {y}, {z}\"for x,y,z in zip(['Bacteria: Not detected' if f == 'Negative' else 'Bacteria: Detected' for f in addexbio['sterility.bacteria'].fillna('Negative')],\n",
    "['Yeast: Not detected' if f == 'Negative' else 'Yeast: Detected' for f in addexbio['sterility.yeast'].fillna('Negative')],\n",
    "['Mycoplasma: Not detected' if f == 'Negative' else 'Mycoplasma: Detected' for f in addexbio['sterility.mycoplasma'].fillna('Negative')])]\n",
    "\n",
    "addexbio['model_purity'] = na_str\n",
    "addexbio['tumour_status'] = na_str\n",
    "addexbio['SNP_analysis'] = na_str\n",
    "addexbio['passage_number'] = na_str\n",
    "addexbio = addexbio[out_cols]"
   ],
   "metadata": {
    "collapsed": false,
    "ExecuteTime": {
     "end_time": "2024-04-17T10:44:23.436241Z",
     "start_time": "2024-04-17T10:44:23.301982Z"
    }
   },
   "execution_count": 1262
  },
  {
   "cell_type": "code",
   "outputs": [
    {
     "data": {
      "text/plain": "    catalog   model_id   publications  \\\n0  10092302  SIDM00007  PMID: 7814141   \n1  10092301  SIDM00014  PMID: 3857372   \n2  10092303  SIDM01360  PMID: 7814141   \n\n                                         description  \\\n0  MCC13 is a merkel cell carcinoma cell line; it...   \n1  LIM1215 is a human colorectal carcinoma cell l...   \n2              Human merkel cell carcinoma cell line   \n\n         description_key_words   also_known_as              organism strain  \\\n0   Humanmerkel cell carcinoma  No other names  Human (Homo sapiens)    N/A   \n1   Human colorectal carcinoma  No other names  Human (Homo sapiens)    N/A   \n2  Human merkel cell carcinoma  No other names  Human (Homo sapiens)    NaN   \n\n               tissue                                  growth_properties  ...  \\\n0                Skin                                           Adherent  ...   \n1  Omental metastasis  LIM1215 is loosely adherent and grows in islan...  ...   \n2                Skin                                           Adherent  ...   \n\n  references int._j_cancer,_60     pmid other_references  \\\n0               100-107, 1995.  7814141                    \n1        NaN               NaN  3857372              NaN   \n2               100-107, 1995.  7814141              NaN   \n\n  leonard_j.h.,_ramsay,_j.r.,_kearsley,_j.h._and_birrell,_g.w._radiation_sensitivity_of_merkel_cell_carcinoma_cell_lines._int._j._rad._oncol._biol._phys.,_32  \\\n0                                   1401-1407, 1995.                                                                                                            \n1                                                NaN                                                                                                            \n2                                                NaN                                                                                                            \n\n  leonard,_j.h,_cook,_a.l,_van_gele,_m,_boyle,_g.m,_inglis,_k.j,_speleman,_f.,_and_sturm,_r.a._proneural_and_proneuroendocrine_transcription_factor_expression_in_cutaneous_mechanoreceptor_(merkel)_cells_and_merkel_cell_carcinoma._int_j_cancer,_2002;_101  \\\n0                                           103B110.                                                                                                                                                                                                            \n1                                                NaN                                                                                                                                                                                                            \n2                                                NaN                                                                                                                                                                                                            \n\n  k._m._garneski,_a._h._warcola,,_j._h._leonard,_paul_nghiem._merkel_cell_polyomavirus_is_more_frequently_present_in_north_american_than_australian_merkel_cell_carcinoma_tumors._j._invest_dermatol._2009_jan;129(1)  \\\n0                                             246-8.                                                                                                                                                                    \n1                                                NaN                                                                                                                                                                    \n2                                                NaN                                                                                                                                                                    \n\n  cellosaurus                             additional_information  \\\n0   CVCL_2583                                                NaN   \n1   CVCL_2574  Colorectal cancer from HPNCC patient, mutated ...   \n2   CVCL_2584                                                NaN   \n\n  j_natl_cancer_inst._1985_apr;74(4)  \n0                                NaN  \n1                             759-65  \n2                                NaN  \n\n[3 rows x 29 columns]",
      "text/html": "<div>\n<style scoped>\n    .dataframe tbody tr th:only-of-type {\n        vertical-align: middle;\n    }\n\n    .dataframe tbody tr th {\n        vertical-align: top;\n    }\n\n    .dataframe thead th {\n        text-align: right;\n    }\n</style>\n<table border=\"1\" class=\"dataframe\">\n  <thead>\n    <tr style=\"text-align: right;\">\n      <th></th>\n      <th>catalog</th>\n      <th>model_id</th>\n      <th>publications</th>\n      <th>description</th>\n      <th>description_key_words</th>\n      <th>also_known_as</th>\n      <th>organism</th>\n      <th>strain</th>\n      <th>tissue</th>\n      <th>growth_properties</th>\n      <th>...</th>\n      <th>references</th>\n      <th>int._j_cancer,_60</th>\n      <th>pmid</th>\n      <th>other_references</th>\n      <th>leonard_j.h.,_ramsay,_j.r.,_kearsley,_j.h._and_birrell,_g.w._radiation_sensitivity_of_merkel_cell_carcinoma_cell_lines._int._j._rad._oncol._biol._phys.,_32</th>\n      <th>leonard,_j.h,_cook,_a.l,_van_gele,_m,_boyle,_g.m,_inglis,_k.j,_speleman,_f.,_and_sturm,_r.a._proneural_and_proneuroendocrine_transcription_factor_expression_in_cutaneous_mechanoreceptor_(merkel)_cells_and_merkel_cell_carcinoma._int_j_cancer,_2002;_101</th>\n      <th>k._m._garneski,_a._h._warcola,,_j._h._leonard,_paul_nghiem._merkel_cell_polyomavirus_is_more_frequently_present_in_north_american_than_australian_merkel_cell_carcinoma_tumors._j._invest_dermatol._2009_jan;129(1)</th>\n      <th>cellosaurus</th>\n      <th>additional_information</th>\n      <th>j_natl_cancer_inst._1985_apr;74(4)</th>\n    </tr>\n  </thead>\n  <tbody>\n    <tr>\n      <th>0</th>\n      <td>10092302</td>\n      <td>SIDM00007</td>\n      <td>PMID: 7814141</td>\n      <td>MCC13 is a merkel cell carcinoma cell line; it...</td>\n      <td>Humanmerkel cell carcinoma</td>\n      <td>No other names</td>\n      <td>Human (Homo sapiens)</td>\n      <td>N/A</td>\n      <td>Skin</td>\n      <td>Adherent</td>\n      <td>...</td>\n      <td></td>\n      <td>100-107, 1995.</td>\n      <td>7814141</td>\n      <td></td>\n      <td>1401-1407, 1995.</td>\n      <td>103B110.</td>\n      <td>246-8.</td>\n      <td>CVCL_2583</td>\n      <td>NaN</td>\n      <td>NaN</td>\n    </tr>\n    <tr>\n      <th>1</th>\n      <td>10092301</td>\n      <td>SIDM00014</td>\n      <td>PMID: 3857372</td>\n      <td>LIM1215 is a human colorectal carcinoma cell l...</td>\n      <td>Human colorectal carcinoma</td>\n      <td>No other names</td>\n      <td>Human (Homo sapiens)</td>\n      <td>N/A</td>\n      <td>Omental metastasis</td>\n      <td>LIM1215 is loosely adherent and grows in islan...</td>\n      <td>...</td>\n      <td>NaN</td>\n      <td>NaN</td>\n      <td>3857372</td>\n      <td>NaN</td>\n      <td>NaN</td>\n      <td>NaN</td>\n      <td>NaN</td>\n      <td>CVCL_2574</td>\n      <td>Colorectal cancer from HPNCC patient, mutated ...</td>\n      <td>759-65</td>\n    </tr>\n    <tr>\n      <th>2</th>\n      <td>10092303</td>\n      <td>SIDM01360</td>\n      <td>PMID: 7814141</td>\n      <td>Human merkel cell carcinoma cell line</td>\n      <td>Human merkel cell carcinoma</td>\n      <td>No other names</td>\n      <td>Human (Homo sapiens)</td>\n      <td>NaN</td>\n      <td>Skin</td>\n      <td>Adherent</td>\n      <td>...</td>\n      <td></td>\n      <td>100-107, 1995.</td>\n      <td>7814141</td>\n      <td>NaN</td>\n      <td>NaN</td>\n      <td>NaN</td>\n      <td>NaN</td>\n      <td>CVCL_2584</td>\n      <td>NaN</td>\n      <td>NaN</td>\n    </tr>\n  </tbody>\n</table>\n<p>3 rows × 29 columns</p>\n</div>"
     },
     "execution_count": 1405,
     "metadata": {},
     "output_type": "execute_result"
    }
   ],
   "source": [
    "cellbankaus"
   ],
   "metadata": {
    "collapsed": false,
    "ExecuteTime": {
     "end_time": "2024-04-17T15:22:41.044336Z",
     "start_time": "2024-04-17T15:22:40.919104Z"
    }
   },
   "execution_count": 1405
  },
  {
   "cell_type": "code",
   "outputs": [
    {
     "data": {
      "text/plain": "      catalog   model_id  JCRB No.   Cell Name  \\\n0    JCRB1142  SIDM01612  JCRB1142     HEC-265   \n1    JCRB1185  SIDM01658  JCRB1185    KMS-21BM   \n2    JCRB0426  SIDM01735  JCRB0426       HuH28   \n3    JCRB1180  SIDM01577  JCRB1180               \n4     RCB0466  SIDM00296  JCRB0235  Lu-134-A-H   \n..        ...        ...       ...         ...   \n201  JCRB1022  SIDM00036  JCRB1022     OUMS-23   \n202  JCRB1020  SIDM01331  JCRB1020               \n203  JCRB1145  SIDM01614  JCRB1145     HEC-50B   \n204  JCRB0192  SIDM00568  JCRB0192               \n205  JCRB0091  SIDM00363  JCRB0091     P31/FUJ   \n\n                                               Profile Other Name Animal  \\\n0    Human endometrioid adenocarcinoma, G1 from ute...             human   \n1                             human myeloma cell line.             human   \n2          Human liver, bile duct carcinoma cell line.             human   \n3                              human myeloma cell line             human   \n4                   small cell carcinoma, classic type             human   \n..                                                 ...        ...    ...   \n201  A human colon carcinoma cell line established ...             human   \n202       Human lung cancer cell line, adenocarcinoma.             human   \n203  Human endometrioid adenocarcinoma (G3) from ja...     HEC-50  human   \n204  Human gastric cancer cell line from poorly dif...             human   \n205                          leukemia, acute monocytic    Fujioka  human   \n\n    Strain Genus  Species  ... Pubmed id:4056530 Pubmed id:3782955  \\\n0           Homo  sapiens  ...               NaN               NaN   \n1           Homo  sapiens  ...               NaN               NaN   \n2           Homo  sapiens  ...               NaN               NaN   \n3           Homo  sapiens  ...               NaN               NaN   \n4           Homo  sapiens  ...               NaN               NaN   \n..     ...   ...      ...  ...               ...               ...   \n201         Homo  sapiens  ...               NaN               NaN   \n202         Homo  sapiens  ...               NaN               NaN   \n203         Homo  sapiens  ...               NaN               NaN   \n204         Homo  sapiens  ...               NaN               NaN   \n205         Homo  sapiens  ...               NaN               NaN   \n\n    Pubmed id:2833349 Pubmed id:2820569 Pubmed id:3731124 Pubmed id:8314315  \\\n0                 NaN               NaN               NaN               NaN   \n1                 NaN               NaN               NaN               NaN   \n2                 NaN               NaN               NaN               NaN   \n3                 NaN               NaN               NaN               NaN   \n4                 NaN               NaN               NaN               NaN   \n..                ...               ...               ...               ...   \n201               NaN               NaN               NaN               NaN   \n202               NaN               NaN               NaN               NaN   \n203               NaN               NaN               NaN               NaN   \n204               NaN               NaN               NaN               NaN   \n205               NaN               NaN               NaN               NaN   \n\n                                     Pubmed id:8576285  \\\n0                                                  NaN   \n1                                                  NaN   \n2                                                  NaN   \n3                                                  NaN   \n4                                                  NaN   \n..                                                 ...   \n201  Establishment and characterization of a human ...   \n202                                                NaN   \n203                                                NaN   \n204                                                NaN   \n205                                                NaN   \n\n                                     Pubmed id:1922102  \\\n0                                                  NaN   \n1                                                  NaN   \n2                                                  NaN   \n3                                                  NaN   \n4                                                  NaN   \n..                                                 ...   \n201                                                NaN   \n202                                                NaN   \n203                                                NaN   \n204  Molecular characterization of monoclonal anti-...   \n205                                                NaN   \n\n                                     Pubmed id:1961183  \\\n0                                                  NaN   \n1                                                  NaN   \n2                                                  NaN   \n3                                                  NaN   \n4                                                  NaN   \n..                                                 ...   \n201                                                NaN   \n202                                                NaN   \n203                                                NaN   \n204  [Establishment and characterization of a new g...   \n205                                                NaN   \n\n                                     Pubmed id:6962783  \n0                                                  NaN  \n1                                                  NaN  \n2                                                  NaN  \n3                                                  NaN  \n4                                                  NaN  \n..                                                 ...  \n201                                                NaN  \n202                                                NaN  \n203                                                NaN  \n204                                                NaN  \n205  A novel monocytoid cultured cell line, P31/Fuj...  \n\n[206 rows x 264 columns]",
      "text/html": "<div>\n<style scoped>\n    .dataframe tbody tr th:only-of-type {\n        vertical-align: middle;\n    }\n\n    .dataframe tbody tr th {\n        vertical-align: top;\n    }\n\n    .dataframe thead th {\n        text-align: right;\n    }\n</style>\n<table border=\"1\" class=\"dataframe\">\n  <thead>\n    <tr style=\"text-align: right;\">\n      <th></th>\n      <th>catalog</th>\n      <th>model_id</th>\n      <th>JCRB No.</th>\n      <th>Cell Name</th>\n      <th>Profile</th>\n      <th>Other Name</th>\n      <th>Animal</th>\n      <th>Strain</th>\n      <th>Genus</th>\n      <th>Species</th>\n      <th>...</th>\n      <th>Pubmed id:4056530</th>\n      <th>Pubmed id:3782955</th>\n      <th>Pubmed id:2833349</th>\n      <th>Pubmed id:2820569</th>\n      <th>Pubmed id:3731124</th>\n      <th>Pubmed id:8314315</th>\n      <th>Pubmed id:8576285</th>\n      <th>Pubmed id:1922102</th>\n      <th>Pubmed id:1961183</th>\n      <th>Pubmed id:6962783</th>\n    </tr>\n  </thead>\n  <tbody>\n    <tr>\n      <th>0</th>\n      <td>JCRB1142</td>\n      <td>SIDM01612</td>\n      <td>JCRB1142</td>\n      <td>HEC-265</td>\n      <td>Human endometrioid adenocarcinoma, G1 from ute...</td>\n      <td></td>\n      <td>human</td>\n      <td></td>\n      <td>Homo</td>\n      <td>sapiens</td>\n      <td>...</td>\n      <td>NaN</td>\n      <td>NaN</td>\n      <td>NaN</td>\n      <td>NaN</td>\n      <td>NaN</td>\n      <td>NaN</td>\n      <td>NaN</td>\n      <td>NaN</td>\n      <td>NaN</td>\n      <td>NaN</td>\n    </tr>\n    <tr>\n      <th>1</th>\n      <td>JCRB1185</td>\n      <td>SIDM01658</td>\n      <td>JCRB1185</td>\n      <td>KMS-21BM</td>\n      <td>human myeloma cell line.</td>\n      <td></td>\n      <td>human</td>\n      <td></td>\n      <td>Homo</td>\n      <td>sapiens</td>\n      <td>...</td>\n      <td>NaN</td>\n      <td>NaN</td>\n      <td>NaN</td>\n      <td>NaN</td>\n      <td>NaN</td>\n      <td>NaN</td>\n      <td>NaN</td>\n      <td>NaN</td>\n      <td>NaN</td>\n      <td>NaN</td>\n    </tr>\n    <tr>\n      <th>2</th>\n      <td>JCRB0426</td>\n      <td>SIDM01735</td>\n      <td>JCRB0426</td>\n      <td>HuH28</td>\n      <td>Human liver, bile duct carcinoma cell line.</td>\n      <td></td>\n      <td>human</td>\n      <td></td>\n      <td>Homo</td>\n      <td>sapiens</td>\n      <td>...</td>\n      <td>NaN</td>\n      <td>NaN</td>\n      <td>NaN</td>\n      <td>NaN</td>\n      <td>NaN</td>\n      <td>NaN</td>\n      <td>NaN</td>\n      <td>NaN</td>\n      <td>NaN</td>\n      <td>NaN</td>\n    </tr>\n    <tr>\n      <th>3</th>\n      <td>JCRB1180</td>\n      <td>SIDM01577</td>\n      <td>JCRB1180</td>\n      <td></td>\n      <td>human myeloma cell line</td>\n      <td></td>\n      <td>human</td>\n      <td></td>\n      <td>Homo</td>\n      <td>sapiens</td>\n      <td>...</td>\n      <td>NaN</td>\n      <td>NaN</td>\n      <td>NaN</td>\n      <td>NaN</td>\n      <td>NaN</td>\n      <td>NaN</td>\n      <td>NaN</td>\n      <td>NaN</td>\n      <td>NaN</td>\n      <td>NaN</td>\n    </tr>\n    <tr>\n      <th>4</th>\n      <td>RCB0466</td>\n      <td>SIDM00296</td>\n      <td>JCRB0235</td>\n      <td>Lu-134-A-H</td>\n      <td>small cell carcinoma, classic type</td>\n      <td></td>\n      <td>human</td>\n      <td></td>\n      <td>Homo</td>\n      <td>sapiens</td>\n      <td>...</td>\n      <td>NaN</td>\n      <td>NaN</td>\n      <td>NaN</td>\n      <td>NaN</td>\n      <td>NaN</td>\n      <td>NaN</td>\n      <td>NaN</td>\n      <td>NaN</td>\n      <td>NaN</td>\n      <td>NaN</td>\n    </tr>\n    <tr>\n      <th>...</th>\n      <td>...</td>\n      <td>...</td>\n      <td>...</td>\n      <td>...</td>\n      <td>...</td>\n      <td>...</td>\n      <td>...</td>\n      <td>...</td>\n      <td>...</td>\n      <td>...</td>\n      <td>...</td>\n      <td>...</td>\n      <td>...</td>\n      <td>...</td>\n      <td>...</td>\n      <td>...</td>\n      <td>...</td>\n      <td>...</td>\n      <td>...</td>\n      <td>...</td>\n      <td>...</td>\n    </tr>\n    <tr>\n      <th>201</th>\n      <td>JCRB1022</td>\n      <td>SIDM00036</td>\n      <td>JCRB1022</td>\n      <td>OUMS-23</td>\n      <td>A human colon carcinoma cell line established ...</td>\n      <td></td>\n      <td>human</td>\n      <td></td>\n      <td>Homo</td>\n      <td>sapiens</td>\n      <td>...</td>\n      <td>NaN</td>\n      <td>NaN</td>\n      <td>NaN</td>\n      <td>NaN</td>\n      <td>NaN</td>\n      <td>NaN</td>\n      <td>Establishment and characterization of a human ...</td>\n      <td>NaN</td>\n      <td>NaN</td>\n      <td>NaN</td>\n    </tr>\n    <tr>\n      <th>202</th>\n      <td>JCRB1020</td>\n      <td>SIDM01331</td>\n      <td>JCRB1020</td>\n      <td></td>\n      <td>Human lung cancer cell line, adenocarcinoma.</td>\n      <td></td>\n      <td>human</td>\n      <td></td>\n      <td>Homo</td>\n      <td>sapiens</td>\n      <td>...</td>\n      <td>NaN</td>\n      <td>NaN</td>\n      <td>NaN</td>\n      <td>NaN</td>\n      <td>NaN</td>\n      <td>NaN</td>\n      <td>NaN</td>\n      <td>NaN</td>\n      <td>NaN</td>\n      <td>NaN</td>\n    </tr>\n    <tr>\n      <th>203</th>\n      <td>JCRB1145</td>\n      <td>SIDM01614</td>\n      <td>JCRB1145</td>\n      <td>HEC-50B</td>\n      <td>Human endometrioid adenocarcinoma (G3) from ja...</td>\n      <td>HEC-50</td>\n      <td>human</td>\n      <td></td>\n      <td>Homo</td>\n      <td>sapiens</td>\n      <td>...</td>\n      <td>NaN</td>\n      <td>NaN</td>\n      <td>NaN</td>\n      <td>NaN</td>\n      <td>NaN</td>\n      <td>NaN</td>\n      <td>NaN</td>\n      <td>NaN</td>\n      <td>NaN</td>\n      <td>NaN</td>\n    </tr>\n    <tr>\n      <th>204</th>\n      <td>JCRB0192</td>\n      <td>SIDM00568</td>\n      <td>JCRB0192</td>\n      <td></td>\n      <td>Human gastric cancer cell line from poorly dif...</td>\n      <td></td>\n      <td>human</td>\n      <td></td>\n      <td>Homo</td>\n      <td>sapiens</td>\n      <td>...</td>\n      <td>NaN</td>\n      <td>NaN</td>\n      <td>NaN</td>\n      <td>NaN</td>\n      <td>NaN</td>\n      <td>NaN</td>\n      <td>NaN</td>\n      <td>Molecular characterization of monoclonal anti-...</td>\n      <td>[Establishment and characterization of a new g...</td>\n      <td>NaN</td>\n    </tr>\n    <tr>\n      <th>205</th>\n      <td>JCRB0091</td>\n      <td>SIDM00363</td>\n      <td>JCRB0091</td>\n      <td>P31/FUJ</td>\n      <td>leukemia, acute monocytic</td>\n      <td>Fujioka</td>\n      <td>human</td>\n      <td></td>\n      <td>Homo</td>\n      <td>sapiens</td>\n      <td>...</td>\n      <td>NaN</td>\n      <td>NaN</td>\n      <td>NaN</td>\n      <td>NaN</td>\n      <td>NaN</td>\n      <td>NaN</td>\n      <td>NaN</td>\n      <td>NaN</td>\n      <td>NaN</td>\n      <td>A novel monocytoid cultured cell line, P31/Fuj...</td>\n    </tr>\n  </tbody>\n</table>\n<p>206 rows × 264 columns</p>\n</div>"
     },
     "execution_count": 1406,
     "metadata": {},
     "output_type": "execute_result"
    }
   ],
   "source": [
    "cellbankjp"
   ],
   "metadata": {
    "collapsed": false,
    "ExecuteTime": {
     "end_time": "2024-04-17T15:22:50.102127Z",
     "start_time": "2024-04-17T15:22:49.982489Z"
    }
   },
   "execution_count": 1406
  },
  {
   "cell_type": "code",
   "outputs": [
    {
     "data": {
      "text/plain": "         catalog   model_id organism                     tissue  \\\n0        ACC-373  SIDM00028    Human                       Lung   \n1        RCB1367  SIDM00062    Human                      Liver   \n2       JCRB0255  SIDM00248    Human                    Stomach   \n3      NCI-H3122  SIDM00137    Human                       Lung   \n4       HTL98011  SIDM00227    Human                      Brain   \n5        RCB0735  SIDM00239    Human                     Kidney   \n6        RCB0256  SIDM00287    Human               B Lymphocyte   \n7        RCB0540  SIDM00289    Human  B Cell Precursor Leukemia   \n8         ACC-72  SIDM00329      NaN                        NaN   \n9        ACC-168  SIDM00346    Human                      Blood   \n10       ACC-418  SIDM00402    Human                    Bladder   \n11       ACC-265  SIDM00339    Human                       Lung   \n12       ACC-167  SIDM00386    Human                       Bone   \n13      ACC--207  SIDM00428    Human                Bone marrow   \n14       ACC-162  SIDM00453    Human                   Pancreas   \n15      JCRB0425  SIDM00587    Human                      Liver   \n16      JCRB1066  SIDM00619    Human                    Thyroid   \n17       ACC-492  SIDM01070      NaN                        NaN   \n18        RCC-ER  SIDM00820    Human                     Kidney   \n19        RCC-JF  SIDM00818    Human                     Kidney   \n20        RCC-JW  SIDM00817    Human                     Kidney   \n21       ACC-279  SIDM00987    Human                    Thyroid   \n22       ACC-448  SIDM00931    Human                    Thyroid   \n23       ACC-249  SIDM00950    Human                   Pancreas   \n24  Not provided  SIDM00968    Human                      Ovary   \n25      JCRB0824  SIDM00997    Human                    Thyroid   \n26       ACC-255  SIDM00961    Human                       Bone   \n27       ACC-182  SIDM00956    Human                  Esophagus   \n28       ACC-200  SIDM00954    Human      Breast, mammary gland   \n29       ACC-355  SIDM01009    Human                      Brain   \n30       ACC-273  SIDM00992    Human                    Thyroid   \n31       ACC-236  SIDM01060    Human                       Skin   \n32       ACC-375  SIDM01031    Human                  Esophagus   \n33       ACC-381  SIDM01028    Human                  Esophagus   \n34       ACC-372  SIDM00029    Human                       Lung   \n35        RCC-MF  SIDM00816    Human                     Kidney   \n36       ACC-266  SIDM00035    Human                  Thyroidea   \n37     SUM-159PT  SIDM01452    Human                     Breast   \n38     SUM-149PT  SIDM01441    Human                     Breast   \n39      RCB1941   SIDM01472    Human                      Liver   \n40      JCRB1018  SIDM01623    Human                       Skin   \n41       RCB0778  SIDM00282    Human                      Colon   \n42       ACC-197  SIDM00327    Human           Pleural effusion   \n43  Not provided  SIDM01421    Human                      Brain   \n44  Not provided  SIDM01640    Human           Peripheral blood   \n45      JCRB1025  SIDM00560    Human                    Stomach   \n46       RCC-FG2  SIDM00819    Human                     Kidney   \n47       RCB1292  SIDM01850    Human                  Bile duct   \n48       ACC-388  SIDM00344    Human                       Lung   \n49       ACC-563  SIDM01068      NaN                        NaN   \n50       ACC-569  SIDM00434    Human                Bone marrow   \n51      IFO50286  SIDM00382    Human   Brain, left frontal lobe   \n52       ACC-384  SIDM00345    Human                       Lung   \n53      85073102  SIDM00480    Human                      Ovary   \n\n                                              disease  \\\n0                                Small cell carcinoma   \n1                                      Hepatoblastoma   \n2                      Gastric tubular adenocarcinoma   \n3                                      Adenocarcinoma   \n4                                       Neuroblastoma   \n5                     Clear cell renal cell carcinoma   \n6                 B-cell acute lymphoblastic leukemia   \n7                                                 NaN   \n8                                                 NaN   \n9                            Chronic myeloid leukemia   \n10                                          Carcinoma   \n11                                     Adenocarcinoma   \n12                                    Ewing's Sarcoma   \n13                       Acute promyelocytic leukemia   \n14                          Pancreatic adenocarcinoma   \n15                    Intrahepatic cholangiocarcinoma   \n16                 Thyroid gland anaplastic carcinoma   \n17                                                NaN   \n18  Clear cell renal cell carcinoma, pT3a,\\nN1, Mx...   \n19                    Clear cell renal cell carcinoma   \n20                    Clear cell renal cell carcinoma   \n21                       Anaplastic thyroid carcinoma   \n22                 Thyroid gland anaplastic carcinoma   \n23                                     Adenocarcinoma   \n24           High grade ovarian serous adenocarcinoma   \n25                 Thyroid gland anaplastic carcinoma   \n26                                    Ewing's Sarcoma   \n27                            Squamous cell carcinoma   \n28                            Squamous cell carcinoma   \n29                                      Neuroblastoma   \n30                                  Thyroid carcinoma   \n31                                 Malignant melanoma   \n32                 Esophageal squamous cell carcinoma   \n33                 Esophageal squamous cell carcinoma   \n34                                          Carcinoma   \n35  Clear cell renal cell carcinoma, pT2,\\nN1, Mx/...   \n36                                            Sarcoma   \n37                       Breast pleomorphic carcinoma   \n38                      Breast inflammatory carcinoma   \n39                     Adult hepatocellular carcinoma   \n40                                           Melanoma   \n41                               Colon adenocarcinoma   \n42                                   Hodgkin lymphoma   \n43                                       Glioblastoma   \n44          Childhood acute megakaryoblastic leukemia   \n45                     Gastric tubular adenocarcinoma   \n46  Clear cell renal cell carcinoma, pT2a,\\nNx, M1...   \n47                    Intrahepatic cholangiocarcinoma   \n48                               Large cell carcinoma   \n49                                                NaN   \n50                                   Multiple myeloma   \n51                                       Glioblastoma   \n52                               Large cell carcinoma   \n53                                 Cystadenocarcinoma   \n\n              metastaticsite  \\\n0       Pericardial effusion   \n1                        NaN   \n2                      Liver   \n3                        NaN   \n4                Bone marrow   \n5                        NaN   \n6                        NaN   \n7                        NaN   \n8                        NaN   \n9                        NaN   \n10                       NaN   \n11                       NaN   \n12                   Ascites   \n13                       NaN   \n14                       NaN   \n15                   Ascites   \n16          Pleural effusion   \n17                       NaN   \n18                       NaN   \n19                       NaN   \n20                       NaN   \n21                Lymph node   \n22                       NaN   \n23                       NaN   \n24                       NaN   \n25                       NaN   \n26                       NaN   \n27                       NaN   \n28          Pleural effusion   \n29                       NaN   \n30                       NaN   \n31          Groin lymph node   \n32                       NaN   \n33                       NaN   \n34          Pleural effusion   \n35                       NaN   \n36                       NaN   \n37                       NaN   \n38                       NaN   \n39                       NaN   \n40  Left inguinal lymph node   \n41                       NaN   \n42                       NaN   \n43                       NaN   \n44                       NaN   \n45                Lymph node   \n46                       NaN   \n47                       NaN   \n48                       NaN   \n49                       NaN   \n50          Peripheral blood   \n51                       NaN   \n52          Pleural effusion   \n53                   Ascites   \n\n                                             synonyms  \\\n0                                             SCLC22H   \n1                      HUH-6, HuH 6, HuH6, HUH6, Huh6   \n2                                       MKN74, MKN 74   \n3                         NCI-H3122, H-3122, NCIH3122   \n4   Gi-ME-N, Gi-MEN, GI-ME-N, Gimen, Gimen1, Gasli...   \n5                                         OSRC2, RC-2   \n6   Ball-1, Ball 1, BALL1, B-cell Acute Lymphoblas...   \n7                                        HAL01, HAL-1   \n8                                                 NaN   \n9                             LAMA-84, LAMA84, Lama84   \n10                                      RT 112, RT112   \n11                          LxF289, LxF 289, LxF 289L   \n12                                   MHH-ES-1, MHHES1   \n13                                          NB4, NB.4   \n14  PA-TU-8988T, PaTu8988t, PaTu8988T, PATU8988T, ...   \n15          HuCCT-1, HUCCT-1, HUCC-T1, HUCCT1, HuCCT1   \n16                                     KMHDASH2, KMH2   \n17                                                NaN   \n18                 KTCTL-13, KTCTL13, KTCTL 13, RCCER   \n19                         KTCTL-140, KTCTL140, RCCJF   \n20                         KTCTL-195, KTCTL195, RCCJW   \n21                                            BHT-101   \n22  Cal-62, CAL 62, Cal 62, CAL62, Centre Antoine ...   \n23                                  Dan-G, DanG, DANG   \n24                                                HEY   \n25                             8305c, 8305-C, 8305C_1   \n26  CADO-ES-1, CADO ES1, CADOES1, CADO-ES, Cado-ES...   \n27     COLO 680N, COLO #680N, COLO680N, Colorado 680N   \n28  COLO-824, COLO 824, Colo 824, COLO #824, COLO8...   \n29                     KELLY, NB19, NB-19, NB19-RIKEN   \n30                                      BC-PAP, BCPAP   \n31             IGR 1, IGR1, Institut Gustave Roussy-1   \n32                  KYSE 150, KYSE150, Kyse150, KY150   \n33               KYSE 410, KYSE410, Kyse410, KYSE0410   \n34                                            SCLC21H   \n35                           KTCTL-1M, KTCTL1M, RCCMF   \n36                                        S-117, S117   \n37  SUM-159-PT, SUM-159PT, SUM 159PT, SUM-159, SUM...   \n38  SUM-149PT, SUM 149PT, SUM149-PT, SUM149, SUM-1...   \n39                                   LI7, Li7, C-Li-7   \n40                                               HMY1   \n41                                                CW2   \n42                                       L-428, L 428   \n43  U-343MG, U-343-MG, U343MG, U-343, U343, 343 MG...   \n44  M-07E, M-O7e, M07-e, M07e, Mo7e, MO7e, M07E, MO7E   \n45                                       MKN-7, MKN 7   \n46             KTCTL-26A, KTCTL-26a, KTCTL26A, RCCFG2   \n47                                                NaN   \n48                                          LCLC97TM1   \n49                                                NaN   \n50                                              MOLP8   \n51                                     SF-126, SF 126   \n52              LCLC103H, Large Cell Lung Cancer-103H   \n53                                      OAW42, OAW 42   \n\n                                          description  \\\n0                                                 NaN   \n1   HuH-6 cells, short for Human Hepatoma 6 cells,...   \n2   This cell line was established from tubular ad...   \n3                                                 NaN   \n4   GIMEN Cells: Unlocking the Potential of Neurob...   \n5                                                 NaN   \n6   This cell line was established in 1976 from th...   \n7   This cell line was established in 1990 from th...   \n8                                                 NaN   \n9   The LAMA-84 cell line has been established fro...   \n10  This cell line was established by Dr. Carol Ri...   \n11  In vitro etablished from the primary lung aden...   \n12  Established from the malignant ascites (with p...   \n13  NB-4 cells are a human acute promyelocytic leu...   \n14  This cell line was established in 1985 from th...   \n15                                                NaN   \n16                                                NaN   \n17                                                NaN   \n18  This cell line was established from the clear ...   \n19  Established from the kidney clear cell carcino...   \n20  Established from the kidney clear cell carcino...   \n21  This cell line was established from the lymph ...   \n22  The CAL-62 cell line, originally derived from ...   \n23  The line was derived from nude mouse xenograft...   \n24  HEY Cells, derived from a human ovarian cancer...   \n25  The 8305C cell line is derived from a 67-year-...   \n26  Established from the malignant pleural effusio...   \n27  The COLO-680N cell line was established in 198...   \n28  The cells do not tolerate DMSO. Upon thawing, ...   \n29  The Kelly cell line has been established from ...   \n30  This cell line was established from the tumor ...   \n31  The IGR-1 cell line has been established from ...   \n32  This cell line was established from the poorly...   \n33  This cell line was established from the poorly...   \n34                                                NaN   \n35  Established from the Renal clear cell carcinom...   \n36  Established in vitro from the primary sarcoma ...   \n37                                                NaN   \n38                                                NaN   \n39  Li-7 cell is a human liver cancer cell line es...   \n40  Introducing HMY-1 Cells: a Japanese melanoma c...   \n41                                                NaN   \n42  The L428 cell line was established in 1978 fro...   \n43  Comparison of STR-data has revealed, that the ...   \n44  Established from the peripheral blood of a 6-m...   \n45  This cell line was established from tubular ad...   \n46  Established from the renal clear cell carcinom...   \n47                                                NaN   \n48  In vitro etablished fro the primary lung large...   \n49                                                NaN   \n50                                                NaN   \n51                                                NaN   \n52  LCLC-103H were established from the pleural ef...   \n53  The OAW-42 cell line was established from the ...   \n\n                                         applications  \n0                                                 NaN  \n1                                                 NaN  \n2                                                 NaN  \n3                                                 NaN  \n4                                                 NaN  \n5                                                 NaN  \n6                                                 NaN  \n7                                                 NaN  \n8                                                 NaN  \n9                                                 NaN  \n10                                                NaN  \n11                                                NaN  \n12                                                NaN  \n13                                                NaN  \n14                                                NaN  \n15  Studies of the mechanism of tumor marker secre...  \n16                                                NaN  \n17                                                NaN  \n18                                                NaN  \n19                                                NaN  \n20                                                NaN  \n21                                                NaN  \n22                                                NaN  \n23                                                NaN  \n24                                                NaN  \n25                                                NaN  \n26                                                NaN  \n27  BMP-6 expression can be used as a co-indicator...  \n28                                                NaN  \n29                                                NaN  \n30                                                NaN  \n31                                                NaN  \n32                                                NaN  \n33                                                NaN  \n34                                                NaN  \n35                                                NaN  \n36                                                NaN  \n37                                                NaN  \n38                                                NaN  \n39                                                NaN  \n40                                                NaN  \n41                                                NaN  \n42                                                NaN  \n43                                                NaN  \n44                                                NaN  \n45                                                NaN  \n46                                                NaN  \n47                                                NaN  \n48                                                NaN  \n49                                                NaN  \n50                                                NaN  \n51                    cell biology studies of gliomas  \n52                                                NaN  \n53                                                NaN  ",
      "text/html": "<div>\n<style scoped>\n    .dataframe tbody tr th:only-of-type {\n        vertical-align: middle;\n    }\n\n    .dataframe tbody tr th {\n        vertical-align: top;\n    }\n\n    .dataframe thead th {\n        text-align: right;\n    }\n</style>\n<table border=\"1\" class=\"dataframe\">\n  <thead>\n    <tr style=\"text-align: right;\">\n      <th></th>\n      <th>catalog</th>\n      <th>model_id</th>\n      <th>organism</th>\n      <th>tissue</th>\n      <th>disease</th>\n      <th>metastaticsite</th>\n      <th>synonyms</th>\n      <th>description</th>\n      <th>applications</th>\n    </tr>\n  </thead>\n  <tbody>\n    <tr>\n      <th>0</th>\n      <td>ACC-373</td>\n      <td>SIDM00028</td>\n      <td>Human</td>\n      <td>Lung</td>\n      <td>Small cell carcinoma</td>\n      <td>Pericardial effusion</td>\n      <td>SCLC22H</td>\n      <td>NaN</td>\n      <td>NaN</td>\n    </tr>\n    <tr>\n      <th>1</th>\n      <td>RCB1367</td>\n      <td>SIDM00062</td>\n      <td>Human</td>\n      <td>Liver</td>\n      <td>Hepatoblastoma</td>\n      <td>NaN</td>\n      <td>HUH-6, HuH 6, HuH6, HUH6, Huh6</td>\n      <td>HuH-6 cells, short for Human Hepatoma 6 cells,...</td>\n      <td>NaN</td>\n    </tr>\n    <tr>\n      <th>2</th>\n      <td>JCRB0255</td>\n      <td>SIDM00248</td>\n      <td>Human</td>\n      <td>Stomach</td>\n      <td>Gastric tubular adenocarcinoma</td>\n      <td>Liver</td>\n      <td>MKN74, MKN 74</td>\n      <td>This cell line was established from tubular ad...</td>\n      <td>NaN</td>\n    </tr>\n    <tr>\n      <th>3</th>\n      <td>NCI-H3122</td>\n      <td>SIDM00137</td>\n      <td>Human</td>\n      <td>Lung</td>\n      <td>Adenocarcinoma</td>\n      <td>NaN</td>\n      <td>NCI-H3122, H-3122, NCIH3122</td>\n      <td>NaN</td>\n      <td>NaN</td>\n    </tr>\n    <tr>\n      <th>4</th>\n      <td>HTL98011</td>\n      <td>SIDM00227</td>\n      <td>Human</td>\n      <td>Brain</td>\n      <td>Neuroblastoma</td>\n      <td>Bone marrow</td>\n      <td>Gi-ME-N, Gi-MEN, GI-ME-N, Gimen, Gimen1, Gasli...</td>\n      <td>GIMEN Cells: Unlocking the Potential of Neurob...</td>\n      <td>NaN</td>\n    </tr>\n    <tr>\n      <th>5</th>\n      <td>RCB0735</td>\n      <td>SIDM00239</td>\n      <td>Human</td>\n      <td>Kidney</td>\n      <td>Clear cell renal cell carcinoma</td>\n      <td>NaN</td>\n      <td>OSRC2, RC-2</td>\n      <td>NaN</td>\n      <td>NaN</td>\n    </tr>\n    <tr>\n      <th>6</th>\n      <td>RCB0256</td>\n      <td>SIDM00287</td>\n      <td>Human</td>\n      <td>B Lymphocyte</td>\n      <td>B-cell acute lymphoblastic leukemia</td>\n      <td>NaN</td>\n      <td>Ball-1, Ball 1, BALL1, B-cell Acute Lymphoblas...</td>\n      <td>This cell line was established in 1976 from th...</td>\n      <td>NaN</td>\n    </tr>\n    <tr>\n      <th>7</th>\n      <td>RCB0540</td>\n      <td>SIDM00289</td>\n      <td>Human</td>\n      <td>B Cell Precursor Leukemia</td>\n      <td>NaN</td>\n      <td>NaN</td>\n      <td>HAL01, HAL-1</td>\n      <td>This cell line was established in 1990 from th...</td>\n      <td>NaN</td>\n    </tr>\n    <tr>\n      <th>8</th>\n      <td>ACC-72</td>\n      <td>SIDM00329</td>\n      <td>NaN</td>\n      <td>NaN</td>\n      <td>NaN</td>\n      <td>NaN</td>\n      <td>NaN</td>\n      <td>NaN</td>\n      <td>NaN</td>\n    </tr>\n    <tr>\n      <th>9</th>\n      <td>ACC-168</td>\n      <td>SIDM00346</td>\n      <td>Human</td>\n      <td>Blood</td>\n      <td>Chronic myeloid leukemia</td>\n      <td>NaN</td>\n      <td>LAMA-84, LAMA84, Lama84</td>\n      <td>The LAMA-84 cell line has been established fro...</td>\n      <td>NaN</td>\n    </tr>\n    <tr>\n      <th>10</th>\n      <td>ACC-418</td>\n      <td>SIDM00402</td>\n      <td>Human</td>\n      <td>Bladder</td>\n      <td>Carcinoma</td>\n      <td>NaN</td>\n      <td>RT 112, RT112</td>\n      <td>This cell line was established by Dr. Carol Ri...</td>\n      <td>NaN</td>\n    </tr>\n    <tr>\n      <th>11</th>\n      <td>ACC-265</td>\n      <td>SIDM00339</td>\n      <td>Human</td>\n      <td>Lung</td>\n      <td>Adenocarcinoma</td>\n      <td>NaN</td>\n      <td>LxF289, LxF 289, LxF 289L</td>\n      <td>In vitro etablished from the primary lung aden...</td>\n      <td>NaN</td>\n    </tr>\n    <tr>\n      <th>12</th>\n      <td>ACC-167</td>\n      <td>SIDM00386</td>\n      <td>Human</td>\n      <td>Bone</td>\n      <td>Ewing's Sarcoma</td>\n      <td>Ascites</td>\n      <td>MHH-ES-1, MHHES1</td>\n      <td>Established from the malignant ascites (with p...</td>\n      <td>NaN</td>\n    </tr>\n    <tr>\n      <th>13</th>\n      <td>ACC--207</td>\n      <td>SIDM00428</td>\n      <td>Human</td>\n      <td>Bone marrow</td>\n      <td>Acute promyelocytic leukemia</td>\n      <td>NaN</td>\n      <td>NB4, NB.4</td>\n      <td>NB-4 cells are a human acute promyelocytic leu...</td>\n      <td>NaN</td>\n    </tr>\n    <tr>\n      <th>14</th>\n      <td>ACC-162</td>\n      <td>SIDM00453</td>\n      <td>Human</td>\n      <td>Pancreas</td>\n      <td>Pancreatic adenocarcinoma</td>\n      <td>NaN</td>\n      <td>PA-TU-8988T, PaTu8988t, PaTu8988T, PATU8988T, ...</td>\n      <td>This cell line was established in 1985 from th...</td>\n      <td>NaN</td>\n    </tr>\n    <tr>\n      <th>15</th>\n      <td>JCRB0425</td>\n      <td>SIDM00587</td>\n      <td>Human</td>\n      <td>Liver</td>\n      <td>Intrahepatic cholangiocarcinoma</td>\n      <td>Ascites</td>\n      <td>HuCCT-1, HUCCT-1, HUCC-T1, HUCCT1, HuCCT1</td>\n      <td>NaN</td>\n      <td>Studies of the mechanism of tumor marker secre...</td>\n    </tr>\n    <tr>\n      <th>16</th>\n      <td>JCRB1066</td>\n      <td>SIDM00619</td>\n      <td>Human</td>\n      <td>Thyroid</td>\n      <td>Thyroid gland anaplastic carcinoma</td>\n      <td>Pleural effusion</td>\n      <td>KMHDASH2, KMH2</td>\n      <td>NaN</td>\n      <td>NaN</td>\n    </tr>\n    <tr>\n      <th>17</th>\n      <td>ACC-492</td>\n      <td>SIDM01070</td>\n      <td>NaN</td>\n      <td>NaN</td>\n      <td>NaN</td>\n      <td>NaN</td>\n      <td>NaN</td>\n      <td>NaN</td>\n      <td>NaN</td>\n    </tr>\n    <tr>\n      <th>18</th>\n      <td>RCC-ER</td>\n      <td>SIDM00820</td>\n      <td>Human</td>\n      <td>Kidney</td>\n      <td>Clear cell renal cell carcinoma, pT3a,\\nN1, Mx...</td>\n      <td>NaN</td>\n      <td>KTCTL-13, KTCTL13, KTCTL 13, RCCER</td>\n      <td>This cell line was established from the clear ...</td>\n      <td>NaN</td>\n    </tr>\n    <tr>\n      <th>19</th>\n      <td>RCC-JF</td>\n      <td>SIDM00818</td>\n      <td>Human</td>\n      <td>Kidney</td>\n      <td>Clear cell renal cell carcinoma</td>\n      <td>NaN</td>\n      <td>KTCTL-140, KTCTL140, RCCJF</td>\n      <td>Established from the kidney clear cell carcino...</td>\n      <td>NaN</td>\n    </tr>\n    <tr>\n      <th>20</th>\n      <td>RCC-JW</td>\n      <td>SIDM00817</td>\n      <td>Human</td>\n      <td>Kidney</td>\n      <td>Clear cell renal cell carcinoma</td>\n      <td>NaN</td>\n      <td>KTCTL-195, KTCTL195, RCCJW</td>\n      <td>Established from the kidney clear cell carcino...</td>\n      <td>NaN</td>\n    </tr>\n    <tr>\n      <th>21</th>\n      <td>ACC-279</td>\n      <td>SIDM00987</td>\n      <td>Human</td>\n      <td>Thyroid</td>\n      <td>Anaplastic thyroid carcinoma</td>\n      <td>Lymph node</td>\n      <td>BHT-101</td>\n      <td>This cell line was established from the lymph ...</td>\n      <td>NaN</td>\n    </tr>\n    <tr>\n      <th>22</th>\n      <td>ACC-448</td>\n      <td>SIDM00931</td>\n      <td>Human</td>\n      <td>Thyroid</td>\n      <td>Thyroid gland anaplastic carcinoma</td>\n      <td>NaN</td>\n      <td>Cal-62, CAL 62, Cal 62, CAL62, Centre Antoine ...</td>\n      <td>The CAL-62 cell line, originally derived from ...</td>\n      <td>NaN</td>\n    </tr>\n    <tr>\n      <th>23</th>\n      <td>ACC-249</td>\n      <td>SIDM00950</td>\n      <td>Human</td>\n      <td>Pancreas</td>\n      <td>Adenocarcinoma</td>\n      <td>NaN</td>\n      <td>Dan-G, DanG, DANG</td>\n      <td>The line was derived from nude mouse xenograft...</td>\n      <td>NaN</td>\n    </tr>\n    <tr>\n      <th>24</th>\n      <td>Not provided</td>\n      <td>SIDM00968</td>\n      <td>Human</td>\n      <td>Ovary</td>\n      <td>High grade ovarian serous adenocarcinoma</td>\n      <td>NaN</td>\n      <td>HEY</td>\n      <td>HEY Cells, derived from a human ovarian cancer...</td>\n      <td>NaN</td>\n    </tr>\n    <tr>\n      <th>25</th>\n      <td>JCRB0824</td>\n      <td>SIDM00997</td>\n      <td>Human</td>\n      <td>Thyroid</td>\n      <td>Thyroid gland anaplastic carcinoma</td>\n      <td>NaN</td>\n      <td>8305c, 8305-C, 8305C_1</td>\n      <td>The 8305C cell line is derived from a 67-year-...</td>\n      <td>NaN</td>\n    </tr>\n    <tr>\n      <th>26</th>\n      <td>ACC-255</td>\n      <td>SIDM00961</td>\n      <td>Human</td>\n      <td>Bone</td>\n      <td>Ewing's Sarcoma</td>\n      <td>NaN</td>\n      <td>CADO-ES-1, CADO ES1, CADOES1, CADO-ES, Cado-ES...</td>\n      <td>Established from the malignant pleural effusio...</td>\n      <td>NaN</td>\n    </tr>\n    <tr>\n      <th>27</th>\n      <td>ACC-182</td>\n      <td>SIDM00956</td>\n      <td>Human</td>\n      <td>Esophagus</td>\n      <td>Squamous cell carcinoma</td>\n      <td>NaN</td>\n      <td>COLO 680N, COLO #680N, COLO680N, Colorado 680N</td>\n      <td>The COLO-680N cell line was established in 198...</td>\n      <td>BMP-6 expression can be used as a co-indicator...</td>\n    </tr>\n    <tr>\n      <th>28</th>\n      <td>ACC-200</td>\n      <td>SIDM00954</td>\n      <td>Human</td>\n      <td>Breast, mammary gland</td>\n      <td>Squamous cell carcinoma</td>\n      <td>Pleural effusion</td>\n      <td>COLO-824, COLO 824, Colo 824, COLO #824, COLO8...</td>\n      <td>The cells do not tolerate DMSO. Upon thawing, ...</td>\n      <td>NaN</td>\n    </tr>\n    <tr>\n      <th>29</th>\n      <td>ACC-355</td>\n      <td>SIDM01009</td>\n      <td>Human</td>\n      <td>Brain</td>\n      <td>Neuroblastoma</td>\n      <td>NaN</td>\n      <td>KELLY, NB19, NB-19, NB19-RIKEN</td>\n      <td>The Kelly cell line has been established from ...</td>\n      <td>NaN</td>\n    </tr>\n    <tr>\n      <th>30</th>\n      <td>ACC-273</td>\n      <td>SIDM00992</td>\n      <td>Human</td>\n      <td>Thyroid</td>\n      <td>Thyroid carcinoma</td>\n      <td>NaN</td>\n      <td>BC-PAP, BCPAP</td>\n      <td>This cell line was established from the tumor ...</td>\n      <td>NaN</td>\n    </tr>\n    <tr>\n      <th>31</th>\n      <td>ACC-236</td>\n      <td>SIDM01060</td>\n      <td>Human</td>\n      <td>Skin</td>\n      <td>Malignant melanoma</td>\n      <td>Groin lymph node</td>\n      <td>IGR 1, IGR1, Institut Gustave Roussy-1</td>\n      <td>The IGR-1 cell line has been established from ...</td>\n      <td>NaN</td>\n    </tr>\n    <tr>\n      <th>32</th>\n      <td>ACC-375</td>\n      <td>SIDM01031</td>\n      <td>Human</td>\n      <td>Esophagus</td>\n      <td>Esophageal squamous cell carcinoma</td>\n      <td>NaN</td>\n      <td>KYSE 150, KYSE150, Kyse150, KY150</td>\n      <td>This cell line was established from the poorly...</td>\n      <td>NaN</td>\n    </tr>\n    <tr>\n      <th>33</th>\n      <td>ACC-381</td>\n      <td>SIDM01028</td>\n      <td>Human</td>\n      <td>Esophagus</td>\n      <td>Esophageal squamous cell carcinoma</td>\n      <td>NaN</td>\n      <td>KYSE 410, KYSE410, Kyse410, KYSE0410</td>\n      <td>This cell line was established from the poorly...</td>\n      <td>NaN</td>\n    </tr>\n    <tr>\n      <th>34</th>\n      <td>ACC-372</td>\n      <td>SIDM00029</td>\n      <td>Human</td>\n      <td>Lung</td>\n      <td>Carcinoma</td>\n      <td>Pleural effusion</td>\n      <td>SCLC21H</td>\n      <td>NaN</td>\n      <td>NaN</td>\n    </tr>\n    <tr>\n      <th>35</th>\n      <td>RCC-MF</td>\n      <td>SIDM00816</td>\n      <td>Human</td>\n      <td>Kidney</td>\n      <td>Clear cell renal cell carcinoma, pT2,\\nN1, Mx/...</td>\n      <td>NaN</td>\n      <td>KTCTL-1M, KTCTL1M, RCCMF</td>\n      <td>Established from the Renal clear cell carcinom...</td>\n      <td>NaN</td>\n    </tr>\n    <tr>\n      <th>36</th>\n      <td>ACC-266</td>\n      <td>SIDM00035</td>\n      <td>Human</td>\n      <td>Thyroidea</td>\n      <td>Sarcoma</td>\n      <td>NaN</td>\n      <td>S-117, S117</td>\n      <td>Established in vitro from the primary sarcoma ...</td>\n      <td>NaN</td>\n    </tr>\n    <tr>\n      <th>37</th>\n      <td>SUM-159PT</td>\n      <td>SIDM01452</td>\n      <td>Human</td>\n      <td>Breast</td>\n      <td>Breast pleomorphic carcinoma</td>\n      <td>NaN</td>\n      <td>SUM-159-PT, SUM-159PT, SUM 159PT, SUM-159, SUM...</td>\n      <td>NaN</td>\n      <td>NaN</td>\n    </tr>\n    <tr>\n      <th>38</th>\n      <td>SUM-149PT</td>\n      <td>SIDM01441</td>\n      <td>Human</td>\n      <td>Breast</td>\n      <td>Breast inflammatory carcinoma</td>\n      <td>NaN</td>\n      <td>SUM-149PT, SUM 149PT, SUM149-PT, SUM149, SUM-1...</td>\n      <td>NaN</td>\n      <td>NaN</td>\n    </tr>\n    <tr>\n      <th>39</th>\n      <td>RCB1941</td>\n      <td>SIDM01472</td>\n      <td>Human</td>\n      <td>Liver</td>\n      <td>Adult hepatocellular carcinoma</td>\n      <td>NaN</td>\n      <td>LI7, Li7, C-Li-7</td>\n      <td>Li-7 cell is a human liver cancer cell line es...</td>\n      <td>NaN</td>\n    </tr>\n    <tr>\n      <th>40</th>\n      <td>JCRB1018</td>\n      <td>SIDM01623</td>\n      <td>Human</td>\n      <td>Skin</td>\n      <td>Melanoma</td>\n      <td>Left inguinal lymph node</td>\n      <td>HMY1</td>\n      <td>Introducing HMY-1 Cells: a Japanese melanoma c...</td>\n      <td>NaN</td>\n    </tr>\n    <tr>\n      <th>41</th>\n      <td>RCB0778</td>\n      <td>SIDM00282</td>\n      <td>Human</td>\n      <td>Colon</td>\n      <td>Colon adenocarcinoma</td>\n      <td>NaN</td>\n      <td>CW2</td>\n      <td>NaN</td>\n      <td>NaN</td>\n    </tr>\n    <tr>\n      <th>42</th>\n      <td>ACC-197</td>\n      <td>SIDM00327</td>\n      <td>Human</td>\n      <td>Pleural effusion</td>\n      <td>Hodgkin lymphoma</td>\n      <td>NaN</td>\n      <td>L-428, L 428</td>\n      <td>The L428 cell line was established in 1978 fro...</td>\n      <td>NaN</td>\n    </tr>\n    <tr>\n      <th>43</th>\n      <td>Not provided</td>\n      <td>SIDM01421</td>\n      <td>Human</td>\n      <td>Brain</td>\n      <td>Glioblastoma</td>\n      <td>NaN</td>\n      <td>U-343MG, U-343-MG, U343MG, U-343, U343, 343 MG...</td>\n      <td>Comparison of STR-data has revealed, that the ...</td>\n      <td>NaN</td>\n    </tr>\n    <tr>\n      <th>44</th>\n      <td>Not provided</td>\n      <td>SIDM01640</td>\n      <td>Human</td>\n      <td>Peripheral blood</td>\n      <td>Childhood acute megakaryoblastic leukemia</td>\n      <td>NaN</td>\n      <td>M-07E, M-O7e, M07-e, M07e, Mo7e, MO7e, M07E, MO7E</td>\n      <td>Established from the peripheral blood of a 6-m...</td>\n      <td>NaN</td>\n    </tr>\n    <tr>\n      <th>45</th>\n      <td>JCRB1025</td>\n      <td>SIDM00560</td>\n      <td>Human</td>\n      <td>Stomach</td>\n      <td>Gastric tubular adenocarcinoma</td>\n      <td>Lymph node</td>\n      <td>MKN-7, MKN 7</td>\n      <td>This cell line was established from tubular ad...</td>\n      <td>NaN</td>\n    </tr>\n    <tr>\n      <th>46</th>\n      <td>RCC-FG2</td>\n      <td>SIDM00819</td>\n      <td>Human</td>\n      <td>Kidney</td>\n      <td>Clear cell renal cell carcinoma, pT2a,\\nNx, M1...</td>\n      <td>NaN</td>\n      <td>KTCTL-26A, KTCTL-26a, KTCTL26A, RCCFG2</td>\n      <td>Established from the renal clear cell carcinom...</td>\n      <td>NaN</td>\n    </tr>\n    <tr>\n      <th>47</th>\n      <td>RCB1292</td>\n      <td>SIDM01850</td>\n      <td>Human</td>\n      <td>Bile duct</td>\n      <td>Intrahepatic cholangiocarcinoma</td>\n      <td>NaN</td>\n      <td>NaN</td>\n      <td>NaN</td>\n      <td>NaN</td>\n    </tr>\n    <tr>\n      <th>48</th>\n      <td>ACC-388</td>\n      <td>SIDM00344</td>\n      <td>Human</td>\n      <td>Lung</td>\n      <td>Large cell carcinoma</td>\n      <td>NaN</td>\n      <td>LCLC97TM1</td>\n      <td>In vitro etablished fro the primary lung large...</td>\n      <td>NaN</td>\n    </tr>\n    <tr>\n      <th>49</th>\n      <td>ACC-563</td>\n      <td>SIDM01068</td>\n      <td>NaN</td>\n      <td>NaN</td>\n      <td>NaN</td>\n      <td>NaN</td>\n      <td>NaN</td>\n      <td>NaN</td>\n      <td>NaN</td>\n    </tr>\n    <tr>\n      <th>50</th>\n      <td>ACC-569</td>\n      <td>SIDM00434</td>\n      <td>Human</td>\n      <td>Bone marrow</td>\n      <td>Multiple myeloma</td>\n      <td>Peripheral blood</td>\n      <td>MOLP8</td>\n      <td>NaN</td>\n      <td>NaN</td>\n    </tr>\n    <tr>\n      <th>51</th>\n      <td>IFO50286</td>\n      <td>SIDM00382</td>\n      <td>Human</td>\n      <td>Brain, left frontal lobe</td>\n      <td>Glioblastoma</td>\n      <td>NaN</td>\n      <td>SF-126, SF 126</td>\n      <td>NaN</td>\n      <td>cell biology studies of gliomas</td>\n    </tr>\n    <tr>\n      <th>52</th>\n      <td>ACC-384</td>\n      <td>SIDM00345</td>\n      <td>Human</td>\n      <td>Lung</td>\n      <td>Large cell carcinoma</td>\n      <td>Pleural effusion</td>\n      <td>LCLC103H, Large Cell Lung Cancer-103H</td>\n      <td>LCLC-103H were established from the pleural ef...</td>\n      <td>NaN</td>\n    </tr>\n    <tr>\n      <th>53</th>\n      <td>85073102</td>\n      <td>SIDM00480</td>\n      <td>Human</td>\n      <td>Ovary</td>\n      <td>Cystadenocarcinoma</td>\n      <td>Ascites</td>\n      <td>OAW42, OAW 42</td>\n      <td>The OAW-42 cell line was established from the ...</td>\n      <td>NaN</td>\n    </tr>\n  </tbody>\n</table>\n</div>"
     },
     "execution_count": 1407,
     "metadata": {},
     "output_type": "execute_result"
    }
   ],
   "source": [
    "cls"
   ],
   "metadata": {
    "collapsed": false,
    "ExecuteTime": {
     "end_time": "2024-04-17T15:22:57.930411Z",
     "start_time": "2024-04-17T15:22:57.797499Z"
    }
   },
   "execution_count": 1407
  },
  {
   "cell_type": "code",
   "outputs": [
    {
     "data": {
      "text/plain": "      catalog   model_id catalogue_no. cell_line_name  \\\n0    86022703  SIDM00504      86022703      MOG-G-UVW   \n1    87061206  SIDM00141      87061206       COLO 685   \n2    06030202  SIDM00229      06030202        FTC-236   \n3    94072237  SIDM00514      94072237       COLO 794   \n4    87061209  SIDM00143      87061209       COLO 668   \n..        ...        ...           ...            ...   \n96   94072246  SIDM00916      94072246      RPMI 7932   \n97   08090508  SIDM01406      08090508       UM-UC-13   \n98   09100108  SIDM01906      09100108        Mero-95   \n99    RCB0480  SIDM00244      99072802           NB69   \n100  96020721  SIDM00509      96020721       COR-L311   \n\n                                 cell_line_description  \\\n0    Established from an anaplastic astrocytoma of ...   \n1    Established from a 63 year old female with ade...   \n2    Derived from a neck lymph node metastasis of a...   \n3    Colo 794 was established from a 14 year old ma...   \n4    Derived from a brain metastasis of a 47 year o...   \n..                                                 ...   \n96   Derived from the pleural effusion of a 36 year...   \n97   UM-UC-13 was produced from a lymphatic metasta...   \n98   Mero-95 was derived from a pleural effusion   ...   \n99   Sample was isolated from a 16 month old male  ...   \n100  COR-L311 has been isolated from a 63 year-old ...   \n\n                    tissue_of_origin                    karyotype  \\\n0                              Brain                Not specified   \n1                             Uterus                Not specified   \n2    Thyroid (lymph node metastasis)                          NaN   \n3                               Skin                Not specified   \n4            Lung (brain metastasis)                      2n = 46   \n..                               ...                          ...   \n96                  Pleural effusion                Not specified   \n97                        Lymph node                          NaN   \n98                    Pleural cavity  Number of chromosomes 54-58   \n99                             Brain                Not specified   \n100                             Lung                Not specified   \n\n                                          applications               disease  \\\n0               Tumourigenicity and virus studies: HIV           Astrocytoma   \n1                              Tumourigenicity studies        Adenocarcinoma   \n2                                                  NaN             Carcinoma   \n3                                       Cancer studies              Melanoma   \n4                              Tumourigenicity studies  Small Cell Carcinoma   \n..                                                 ...                   ...   \n96                             Tumourigenicity studies              Melanoma   \n97         Cell model for research into bladder cancer             Carcinoma   \n98   Investigation of the properties of malignant m...          Mesothelioma   \n99                                                 NaN         Neuroblastoma   \n100                          Human lung cancer studies     Small Cell Cancer   \n\n           cell_type                                 subculture_routine  \\\n0        Astrocytoma  Split sub-confluent cultures (70-80%) 1:2 to 1...   \n1         Epithelial  Maintain cultures between 3-9x100,000 cells/ml...   \n2        Endothelial  Split sub-confluent cultures (70-80%) 1:2 to 1...   \n3         Melanocyte  Split sub-confluent cultures (70-80%) 1:2 to 1...   \n4         Epithelial  In standard cell culture flasks some cells may...   \n..               ...                                                ...   \n96   Epithelial-like  Split sub-confluent cultures (70-80%) 1:2 to 1...   \n97        Epithelial  Split sub-confluent cultures (70-80%) 1:3 to 1...   \n98        Epithelial  Split sub-confluent cultures (70-80%) 1:4 to 1...   \n99               NaN  Cells can grow in aggregates as well as attach...   \n100        Carcinoma  Maintain cultures between 3-9 x 100,000 cells/...   \n\n                                        culture_medium  \\\n0    Ham's F10: DMEM (1:1) + 2mM Glutamine + 10% Fo...   \n1    RPMI 1640 + 2mM Glutamine + 10% Foetal Bovine ...   \n2    DMEM and Ham's F12 (1:1 mixture) + 10ug/ml Ins...   \n3    RPMI 1640+ 2mM Glutamine + 10% Foetal Bovine S...   \n4    RPMI 1640 + 2mM Glutamine + 10% Foetal Bovine ...   \n..                                                 ...   \n96   RPMI 1640 + 2mM Glutamine + 10% Foetal Bovine ...   \n97   EMEM (EBSS) + 2mM Glutamine + 1% Non Essential...   \n98                  Hams F10 + 15% FCS + 2mM Glutamine   \n99   RPMI 1640 + 2mM Glutamine + 15% Foetal Bovine ...   \n100  RPMI 1640 + 2mM Glutamine + 10% Foetal Bovine ...   \n\n                        growth_mode  \\\n0                          Adherent   \n1                        Suspension   \n2                          Adherent   \n3                          Adherent   \n4           Suspension and attached   \n..                              ...   \n96                         Adherent   \n97                         Adherent   \n98                         Adherent   \n99                    Semi-adherent   \n100  Large Aggregates in suspension   \n\n                                            references          morphology  \\\n0    Frame MC, Freshney RI, Vaughan PF, Graham DI, ...                 NaN   \n1                                          Unpublished  Round & Refractile   \n2    Demeure MJ, Damsky CH, Elfman F, Goretzki PE, ...                 NaN   \n3                                          Unpublished          Melanocyte   \n4                          None specified by depositor  Round & Refractile   \n..                                                 ...                 ...   \n96                         None specified by depositor                 NaN   \n97   Sabichi et al., 2006, Characterization of a pa...                 NaN   \n98   Versnel et al., 1989 Establishment of human ma...                 NaN   \n99                         None specified by depositor                 NaN   \n100                        None specified by depositor                 NaN   \n\n                             dna_profile_(str_profile)  \\\n0                                                  NaN   \n1    Amelogenin: XCSF1PO: 11D5S818: 12,13D7S820: 11...   \n2    Amelogenin: XCSF1PO: 10,11D5S818: 11,12D7S820:...   \n3    Amelogenin: X,YCSF1PO: 10D5S818: 11D7S820: 10,...   \n4    Amelogenin: XCSF1PO: 10D5S818: 11D7S820: 8.2,1...   \n..                                                 ...   \n96                                                 NaN   \n97   Amelogenin: X,YCSF1PO: 10,12D5S818: 9,13D7S820...   \n98   Amelogenin: X,YCSF1PO: 10,12D5S818: 11,14D7S82...   \n99   Amelogenin: X,YCSF1PO: 11,12D5S818: 11,12D7S82...   \n100  Amelogenin: XCSF1PO: 12D5S818: 14D7S820: 8,10D...   \n\n                                          bibliography receptors  \\\n0                                                  NaN       NaN   \n1                                        Not specified       NaN   \n2    HÃ¶lting T, Zielke A, Siperstein AE, Clark OH,...       NaN   \n3                                                  NaN       NaN   \n4    Barretina J, et al., 2012 The Cancer Cell Line...       NaN   \n..                                                 ...       ...   \n96                                                 NaN       NaN   \n97                                                 NaN       NaN   \n98                                                 NaN       NaN   \n99                                                 NaN       NaN   \n100  Barretina J, et al., 2012 The Cancer Cell Line...       NaN   \n\n                              products  \n0                                  NaN  \n1                                  NaN  \n2                                  NaN  \n3                                  NaN  \n4                                  NaN  \n..                                 ...  \n96               Plasminogen activator  \n97                                 NaN  \n98   Epithelial membrane antigen (EMA)  \n99                                 NaN  \n100                                NaN  \n\n[101 rows x 19 columns]",
      "text/html": "<div>\n<style scoped>\n    .dataframe tbody tr th:only-of-type {\n        vertical-align: middle;\n    }\n\n    .dataframe tbody tr th {\n        vertical-align: top;\n    }\n\n    .dataframe thead th {\n        text-align: right;\n    }\n</style>\n<table border=\"1\" class=\"dataframe\">\n  <thead>\n    <tr style=\"text-align: right;\">\n      <th></th>\n      <th>catalog</th>\n      <th>model_id</th>\n      <th>catalogue_no.</th>\n      <th>cell_line_name</th>\n      <th>cell_line_description</th>\n      <th>tissue_of_origin</th>\n      <th>karyotype</th>\n      <th>applications</th>\n      <th>disease</th>\n      <th>cell_type</th>\n      <th>subculture_routine</th>\n      <th>culture_medium</th>\n      <th>growth_mode</th>\n      <th>references</th>\n      <th>morphology</th>\n      <th>dna_profile_(str_profile)</th>\n      <th>bibliography</th>\n      <th>receptors</th>\n      <th>products</th>\n    </tr>\n  </thead>\n  <tbody>\n    <tr>\n      <th>0</th>\n      <td>86022703</td>\n      <td>SIDM00504</td>\n      <td>86022703</td>\n      <td>MOG-G-UVW</td>\n      <td>Established from an anaplastic astrocytoma of ...</td>\n      <td>Brain</td>\n      <td>Not specified</td>\n      <td>Tumourigenicity and virus studies: HIV</td>\n      <td>Astrocytoma</td>\n      <td>Astrocytoma</td>\n      <td>Split sub-confluent cultures (70-80%) 1:2 to 1...</td>\n      <td>Ham's F10: DMEM (1:1) + 2mM Glutamine + 10% Fo...</td>\n      <td>Adherent</td>\n      <td>Frame MC, Freshney RI, Vaughan PF, Graham DI, ...</td>\n      <td>NaN</td>\n      <td>NaN</td>\n      <td>NaN</td>\n      <td>NaN</td>\n      <td>NaN</td>\n    </tr>\n    <tr>\n      <th>1</th>\n      <td>87061206</td>\n      <td>SIDM00141</td>\n      <td>87061206</td>\n      <td>COLO 685</td>\n      <td>Established from a 63 year old female with ade...</td>\n      <td>Uterus</td>\n      <td>Not specified</td>\n      <td>Tumourigenicity studies</td>\n      <td>Adenocarcinoma</td>\n      <td>Epithelial</td>\n      <td>Maintain cultures between 3-9x100,000 cells/ml...</td>\n      <td>RPMI 1640 + 2mM Glutamine + 10% Foetal Bovine ...</td>\n      <td>Suspension</td>\n      <td>Unpublished</td>\n      <td>Round &amp; Refractile</td>\n      <td>Amelogenin: XCSF1PO: 11D5S818: 12,13D7S820: 11...</td>\n      <td>Not specified</td>\n      <td>NaN</td>\n      <td>NaN</td>\n    </tr>\n    <tr>\n      <th>2</th>\n      <td>06030202</td>\n      <td>SIDM00229</td>\n      <td>06030202</td>\n      <td>FTC-236</td>\n      <td>Derived from a neck lymph node metastasis of a...</td>\n      <td>Thyroid (lymph node metastasis)</td>\n      <td>NaN</td>\n      <td>NaN</td>\n      <td>Carcinoma</td>\n      <td>Endothelial</td>\n      <td>Split sub-confluent cultures (70-80%) 1:2 to 1...</td>\n      <td>DMEM and Ham's F12 (1:1 mixture) + 10ug/ml Ins...</td>\n      <td>Adherent</td>\n      <td>Demeure MJ, Damsky CH, Elfman F, Goretzki PE, ...</td>\n      <td>NaN</td>\n      <td>Amelogenin: XCSF1PO: 10,11D5S818: 11,12D7S820:...</td>\n      <td>HÃ¶lting T, Zielke A, Siperstein AE, Clark OH,...</td>\n      <td>NaN</td>\n      <td>NaN</td>\n    </tr>\n    <tr>\n      <th>3</th>\n      <td>94072237</td>\n      <td>SIDM00514</td>\n      <td>94072237</td>\n      <td>COLO 794</td>\n      <td>Colo 794 was established from a 14 year old ma...</td>\n      <td>Skin</td>\n      <td>Not specified</td>\n      <td>Cancer studies</td>\n      <td>Melanoma</td>\n      <td>Melanocyte</td>\n      <td>Split sub-confluent cultures (70-80%) 1:2 to 1...</td>\n      <td>RPMI 1640+ 2mM Glutamine + 10% Foetal Bovine S...</td>\n      <td>Adherent</td>\n      <td>Unpublished</td>\n      <td>Melanocyte</td>\n      <td>Amelogenin: X,YCSF1PO: 10D5S818: 11D7S820: 10,...</td>\n      <td>NaN</td>\n      <td>NaN</td>\n      <td>NaN</td>\n    </tr>\n    <tr>\n      <th>4</th>\n      <td>87061209</td>\n      <td>SIDM00143</td>\n      <td>87061209</td>\n      <td>COLO 668</td>\n      <td>Derived from a brain metastasis of a 47 year o...</td>\n      <td>Lung (brain metastasis)</td>\n      <td>2n = 46</td>\n      <td>Tumourigenicity studies</td>\n      <td>Small Cell Carcinoma</td>\n      <td>Epithelial</td>\n      <td>In standard cell culture flasks some cells may...</td>\n      <td>RPMI 1640 + 2mM Glutamine + 10% Foetal Bovine ...</td>\n      <td>Suspension and attached</td>\n      <td>None specified by depositor</td>\n      <td>Round &amp; Refractile</td>\n      <td>Amelogenin: XCSF1PO: 10D5S818: 11D7S820: 8.2,1...</td>\n      <td>Barretina J, et al., 2012 The Cancer Cell Line...</td>\n      <td>NaN</td>\n      <td>NaN</td>\n    </tr>\n    <tr>\n      <th>...</th>\n      <td>...</td>\n      <td>...</td>\n      <td>...</td>\n      <td>...</td>\n      <td>...</td>\n      <td>...</td>\n      <td>...</td>\n      <td>...</td>\n      <td>...</td>\n      <td>...</td>\n      <td>...</td>\n      <td>...</td>\n      <td>...</td>\n      <td>...</td>\n      <td>...</td>\n      <td>...</td>\n      <td>...</td>\n      <td>...</td>\n      <td>...</td>\n    </tr>\n    <tr>\n      <th>96</th>\n      <td>94072246</td>\n      <td>SIDM00916</td>\n      <td>94072246</td>\n      <td>RPMI 7932</td>\n      <td>Derived from the pleural effusion of a 36 year...</td>\n      <td>Pleural effusion</td>\n      <td>Not specified</td>\n      <td>Tumourigenicity studies</td>\n      <td>Melanoma</td>\n      <td>Epithelial-like</td>\n      <td>Split sub-confluent cultures (70-80%) 1:2 to 1...</td>\n      <td>RPMI 1640 + 2mM Glutamine + 10% Foetal Bovine ...</td>\n      <td>Adherent</td>\n      <td>None specified by depositor</td>\n      <td>NaN</td>\n      <td>NaN</td>\n      <td>NaN</td>\n      <td>NaN</td>\n      <td>Plasminogen activator</td>\n    </tr>\n    <tr>\n      <th>97</th>\n      <td>08090508</td>\n      <td>SIDM01406</td>\n      <td>08090508</td>\n      <td>UM-UC-13</td>\n      <td>UM-UC-13 was produced from a lymphatic metasta...</td>\n      <td>Lymph node</td>\n      <td>NaN</td>\n      <td>Cell model for research into bladder cancer</td>\n      <td>Carcinoma</td>\n      <td>Epithelial</td>\n      <td>Split sub-confluent cultures (70-80%) 1:3 to 1...</td>\n      <td>EMEM (EBSS) + 2mM Glutamine + 1% Non Essential...</td>\n      <td>Adherent</td>\n      <td>Sabichi et al., 2006, Characterization of a pa...</td>\n      <td>NaN</td>\n      <td>Amelogenin: X,YCSF1PO: 10,12D5S818: 9,13D7S820...</td>\n      <td>NaN</td>\n      <td>NaN</td>\n      <td>NaN</td>\n    </tr>\n    <tr>\n      <th>98</th>\n      <td>09100108</td>\n      <td>SIDM01906</td>\n      <td>09100108</td>\n      <td>Mero-95</td>\n      <td>Mero-95 was derived from a pleural effusion   ...</td>\n      <td>Pleural cavity</td>\n      <td>Number of chromosomes 54-58</td>\n      <td>Investigation of the properties of malignant m...</td>\n      <td>Mesothelioma</td>\n      <td>Epithelial</td>\n      <td>Split sub-confluent cultures (70-80%) 1:4 to 1...</td>\n      <td>Hams F10 + 15% FCS + 2mM Glutamine</td>\n      <td>Adherent</td>\n      <td>Versnel et al., 1989 Establishment of human ma...</td>\n      <td>NaN</td>\n      <td>Amelogenin: X,YCSF1PO: 10,12D5S818: 11,14D7S82...</td>\n      <td>NaN</td>\n      <td>NaN</td>\n      <td>Epithelial membrane antigen (EMA)</td>\n    </tr>\n    <tr>\n      <th>99</th>\n      <td>RCB0480</td>\n      <td>SIDM00244</td>\n      <td>99072802</td>\n      <td>NB69</td>\n      <td>Sample was isolated from a 16 month old male  ...</td>\n      <td>Brain</td>\n      <td>Not specified</td>\n      <td>NaN</td>\n      <td>Neuroblastoma</td>\n      <td>NaN</td>\n      <td>Cells can grow in aggregates as well as attach...</td>\n      <td>RPMI 1640 + 2mM Glutamine + 15% Foetal Bovine ...</td>\n      <td>Semi-adherent</td>\n      <td>None specified by depositor</td>\n      <td>NaN</td>\n      <td>Amelogenin: X,YCSF1PO: 11,12D5S818: 11,12D7S82...</td>\n      <td>NaN</td>\n      <td>NaN</td>\n      <td>NaN</td>\n    </tr>\n    <tr>\n      <th>100</th>\n      <td>96020721</td>\n      <td>SIDM00509</td>\n      <td>96020721</td>\n      <td>COR-L311</td>\n      <td>COR-L311 has been isolated from a 63 year-old ...</td>\n      <td>Lung</td>\n      <td>Not specified</td>\n      <td>Human lung cancer studies</td>\n      <td>Small Cell Cancer</td>\n      <td>Carcinoma</td>\n      <td>Maintain cultures between 3-9 x 100,000 cells/...</td>\n      <td>RPMI 1640 + 2mM Glutamine + 10% Foetal Bovine ...</td>\n      <td>Large Aggregates in suspension</td>\n      <td>None specified by depositor</td>\n      <td>NaN</td>\n      <td>Amelogenin: XCSF1PO: 12D5S818: 14D7S820: 8,10D...</td>\n      <td>Barretina J, et al., 2012 The Cancer Cell Line...</td>\n      <td>NaN</td>\n      <td>NaN</td>\n    </tr>\n  </tbody>\n</table>\n<p>101 rows × 19 columns</p>\n</div>"
     },
     "execution_count": 1408,
     "metadata": {},
     "output_type": "execute_result"
    }
   ],
   "source": [
    "pheuk"
   ],
   "metadata": {
    "collapsed": false,
    "ExecuteTime": {
     "end_time": "2024-04-17T15:23:11.393060Z",
     "start_time": "2024-04-17T15:23:11.296388Z"
    }
   },
   "execution_count": 1408
  },
  {
   "cell_type": "code",
   "outputs": [
    {
     "data": {
      "text/plain": "         catalog   model_id                          tool_details.name  \\\n0       04072107  SIDM00078                          BICR 31 Cell Line   \n1       04072103  SIDM00077                          BICR 10 Cell Line   \n2       10032310  SIDM00470                             PEO6 Cell Line   \n3       10032309  SIDM00471                             PEO4 Cell Line   \n4       04072106  SIDM00485                          BICR 22 Cell Line   \n5       10032308  SIDM00472                             PEO1 Cell Line   \n6       04072111  SIDM00501                          BICR 78 Cell Line   \n7       94122104  SIDM00540                              DOK Cell Line   \n8       85061106  SIDM01202                         RT112/84 Cell Line   \n9       93112520  SIDM01211                         A2780ADR Cell Line   \n10  Not provided  SIDM01419                            PEO14 Cell Line   \n11      10032307  SIDM01425                             PEA2 Cell Line   \n12  Not provided  SIDM01418                            PEO23 Cell Line   \n13      10081203  SIDM01420                             TO14 Cell Line   \n14      10032306  SIDM01426                             PEA1 Cell Line   \n15      12022907  SIDM01533    C75 Colorectal adenocarcinoma Cell Line   \n16      12022909  SIDM01541                C125PM Colorectal Cell Line   \n17      12022901  SIDM01532                   C10 Colorectal Cell Line   \n18      12022902  SIDM01548    C84 Colorectal adenocarcinoma Cell Line   \n19       6092001  SIDM01568                             H103 Cell Line   \n20      12022905  SIDM01547    C99 Colorectal adenocarcinoma Cell Line   \n21      12022904  SIDM01549    C80 Colorectal adenocarcinoma Cell Line   \n22      05070501  SIDM01517                           BICR 6 Cell Line   \n23       6031001  SIDM01520                          BICR 16 Cell Line   \n24       6031002  SIDM01518                          BICR 56 Cell Line   \n25      06051601  SIDM01519                          BICR 18 Cell Line   \n26      07030901  SIDM01808                             H157 Cell Line   \n27      06092004  SIDM01810                             H357 Cell Line   \n28      08090511  SIDM01830  UM-RC-2 (Human renal carcinoma) cell line   \n29      06092007  SIDM01811                             H413 Cell Line   \n30      08090513  SIDM01829  UM-RC-6 (Human renal carcinoma) cell line   \n31      06092005  SIDM01857                             H376 Cell Line   \n\n   tool_details.organism tool_details.tissue tool_details.disease  \\\n0                  Human              Tongue               Cancer   \n1                  Human       Buccal mucosa               Cancer   \n2                  Human               Ovary               Cancer   \n3                  Human               Ovary               Cancer   \n4                  Human              Tongue               Cancer   \n5                  Human               Ovary               Cancer   \n6                  Human            Alveolus               Cancer   \n7                  Human              Tongue               Cancer   \n8                  Human             Bladder               Cancer   \n9                  Human               Ovary               Cancer   \n10                 Human               Ovary               Cancer   \n11                 Human               Ovary               Cancer   \n12                 Human               Ovary               Cancer   \n13                 Human               Ovary               Cancer   \n14                 Human               Ovary                  NaN   \n15                 Human               Colon               Cancer   \n16                 Human               Colon               Cancer   \n17                 Human               Colon               Cancer   \n18                 Human               Colon                  NaN   \n19                   NaN              Tongue               Cancer   \n20                 Human               Colon               Cancer   \n21                 Human               Colon               Cancer   \n22                 Human         Hypopharynx               Cancer   \n23                 Human              Tongue               Cancer   \n24                 Human              Tongue               Cancer   \n25                 Human              Larynx               Cancer   \n26                   NaN       Buccal mucosa               Cancer   \n27                   NaN              Tongue               Cancer   \n28                 Human             Bladder               Cancer   \n29                   NaN       Buccal mucosa               Cancer   \n30                 Human             Bladder               Cancer   \n31                   NaN         Oral Cavity               Cancer   \n\n   tool_details.growth_properties tool_details.model tool_details.conditional  \\\n0                        Adherent        Tumour line                      Yes   \n1                        Adherent        Tumour line                      NaN   \n2                        Adherent        Tumour line                      Yes   \n3                        Adherent        Tumour line                      Yes   \n4                        Adherent        Tumour line                      Yes   \n5                        Adherent       Tumourigenic                      Yes   \n6                        Adherent        Tumour line                      NaN   \n7                        Adherent        Tumour line                      Yes   \n8                        Adherent        Tumour line                      Yes   \n9                        Adherent        Tumour line                      Yes   \n10                       Adherent        Tumour line                      Yes   \n11                       Adherent        Tumour line                      Yes   \n12                       Adherent        Tumour line                      Yes   \n13                       Adherent                NaN                      Yes   \n14                       Adherent        Tumour line                      NaN   \n15                            NaN        Tumour line                      Yes   \n16                            NaN        Tumour line                      Yes   \n17                            NaN        Tumour line                      Yes   \n18                            NaN        Tumour line                      Yes   \n19                       Adherent        Tumour line                      NaN   \n20                            NaN        Tumour line                      Yes   \n21                            NaN        Tumour line                      Yes   \n22                       Adherent        Tumour line                      Yes   \n23                       Adherent        Tumour line                      Yes   \n24                       Adherent        Tumour line                      Yes   \n25                       Adherent        Tumour line                      Yes   \n26                       Adherent        Tumour line                      Yes   \n27                       Adherent        Tumour line                      Yes   \n28                       Adherent       Cancer Model                       No   \n29                       Adherent        Tumour line                      NaN   \n30                       Adherent       Cancer Model                       No   \n31                       Adherent        Tumour line                      Yes   \n\n                             tool_details.description  ... handling.volume  \\\n0   Adherent cell line derived from a squamous cel...  ...             NaN   \n1   Adherent keratinocyte cell line derived from a...  ...             NaN   \n2   The PEO6 cell line is an adherent cell line de...  ...             NaN   \n3   The PEO4 cell line is one of nine from the PE ...  ...             NaN   \n4   Adherent cell line derived from a lymph node m...  ...             NaN   \n5   The PEO1 Cell Line is one of nine from the PE ...  ...            1 ml   \n6   Adherent keratinocyte cell line derived from a...  ...             NaN   \n7   The degree of dysplasia in the patient was des...  ...             NaN   \n8   A slow growing tumour which does not form colo...  ...             NaN   \n9   The adriamycin-resistant cell line A2780ADR ha...  ...             NaN   \n10  The PEO14 cell line is one of nine from the PE...  ...             NaN   \n11  The PEA2 cell line is one of nine from the PE ...  ...             NaN   \n12  The PEO23 cell line is one of nine from the PE...  ...             NaN   \n13  The TO14 cell line is one of nine from the PE ...  ...             NaN   \n14                                                NaN  ...             NaN   \n15  The C75 cell line was established from a 56-ye...  ...             NaN   \n16  C125PM is a human colorectal adenocarcinoma ce...  ...             NaN   \n17  The C10 cell line was established from a 71-ye...  ...             NaN   \n18  The C84 cell line was established from a 67-ye...  ...             NaN   \n19  Established from a small squamous cell carcino...  ...             NaN   \n20  The C99 cell line was established from a 69-ye...  ...             NaN   \n21  The C80 cell line was established from a 69-ye...  ...             NaN   \n22  Adherent keratinocyte cell line derived from a...  ...             NaN   \n23  Adherent cell line derived from a recurrent sq...  ...             NaN   \n24  Adherent keratinocyte cell line derived from a...  ...             NaN   \n25  Adherent keratinocyte cell line derived from a...  ...             NaN   \n26  Established from a squamous cell carcinoma (SC...  ...             NaN   \n27  Established from a squamous cell carcinoma (SC...  ...             NaN   \n28  UM-RC-2 are a renal carcinoma cell line, estab...  ...             NaN   \n29  Established from a squamous cell carcinoma (SC...  ...             NaN   \n30  UM-RC-6 are a renal carcinoma cell line, estab...  ...             NaN   \n31  Established from a squamous cell carcinoma (SC...  ...             NaN   \n\n   handling.temperature handling.storage_conditions  \\\n0                   NaN                         NaN   \n1                   NaN                         NaN   \n2                   NaN                         NaN   \n3                   NaN                         NaN   \n4                   NaN                         NaN   \n5                 37° C             Liquid Nitrogen   \n6                   NaN                         NaN   \n7                   NaN                         NaN   \n8                   NaN                         NaN   \n9                   NaN                         NaN   \n10                  NaN                         NaN   \n11                  NaN                         NaN   \n12                  NaN                         NaN   \n13                  NaN                         NaN   \n14                  NaN                         NaN   \n15                37° C                         NaN   \n16                  NaN                         NaN   \n17                37° C                         NaN   \n18                  NaN                         NaN   \n19                  NaN                         NaN   \n20                  NaN                         NaN   \n21                  NaN                         NaN   \n22                  NaN                         NaN   \n23                  NaN                         NaN   \n24                  NaN                         NaN   \n25                  NaN                         NaN   \n26                  NaN                         NaN   \n27                  NaN                         NaN   \n28                  NaN                         NaN   \n29                  NaN                         NaN   \n30                  NaN                         NaN   \n31                  NaN                         NaN   \n\n                          handling.subculture_routine  \\\n0                                                 NaN   \n1                                                 NaN   \n2                                                 NaN   \n3                                                 NaN   \n4                                                 NaN   \n5   Split sub-confluent cultures (70-80%) 1:4 to 1...   \n6                                                 NaN   \n7                                                 NaN   \n8                                                 NaN   \n9                                                 NaN   \n10                                                NaN   \n11                                                NaN   \n12                                                NaN   \n13                                                NaN   \n14                                                NaN   \n15  Split sub-confluent cultures (70-80%) 1:3 to 1...   \n16                                                NaN   \n17  Split sub-confluent cultures (70-80%) 1:3 to 1...   \n18                                                NaN   \n19                                                NaN   \n20                                                NaN   \n21                                                NaN   \n22                                                NaN   \n23                                                NaN   \n24                                                NaN   \n25                                                NaN   \n26                                                NaN   \n27                                                NaN   \n28                                                NaN   \n29                                                NaN   \n30                                                NaN   \n31                                                NaN   \n\n   handling.mycoplasma_free  \\\n0                       NaN   \n1                       NaN   \n2                       NaN   \n3                       NaN   \n4                       NaN   \n5                       Yes   \n6                       NaN   \n7                       NaN   \n8                       NaN   \n9                       NaN   \n10                      NaN   \n11                      NaN   \n12                      NaN   \n13                      NaN   \n14                      NaN   \n15                      Yes   \n16                      NaN   \n17                      NaN   \n18                      NaN   \n19                      NaN   \n20                      NaN   \n21                      NaN   \n22                      NaN   \n23                      NaN   \n24                      NaN   \n25                      NaN   \n26                      NaN   \n27                      NaN   \n28                      NaN   \n29                      NaN   \n30                      NaN   \n31                      NaN   \n\n                      tool_details.production_details  \\\n0                                                 NaN   \n1                                                 NaN   \n2                                                 NaN   \n3                                                 NaN   \n4                                                 NaN   \n5                                                 NaN   \n6                                                 NaN   \n7   The dysplastic oral keratinocyte cell line DOK...   \n8                                                 NaN   \n9   Split sub-confluent cultures (70-80%) 1:5 to 1...   \n10                                                NaN   \n11                                                NaN   \n12                                                NaN   \n13                                                NaN   \n14                                                NaN   \n15                                                NaN   \n16                                                NaN   \n17  This colorectal cell line was established from...   \n18                                                NaN   \n19                                                NaN   \n20                                                NaN   \n21                                                NaN   \n22                                                NaN   \n23                                                NaN   \n24                                                NaN   \n25                                                NaN   \n26                                                NaN   \n27                                                NaN   \n28                                                NaN   \n29                                                NaN   \n30                                                NaN   \n31                                                NaN   \n\n   tool_details.tool_sub_type tool_details.parental_cell  \\\n0                         NaN                        NaN   \n1                         NaN                        NaN   \n2                         NaN                        NaN   \n3                         NaN                        NaN   \n4                         NaN                        NaN   \n5                         NaN                        NaN   \n6                         NaN                        NaN   \n7                         NaN                        NaN   \n8                         NaN                        NaN   \n9                  Continuous                      A2780   \n10                        NaN                        NaN   \n11                        NaN                        NaN   \n12                        NaN                        NaN   \n13                        NaN                        NaN   \n14                        NaN                        NaN   \n15                        NaN                        NaN   \n16                        NaN                        NaN   \n17                        NaN                        NaN   \n18                        NaN                        NaN   \n19                        NaN                        NaN   \n20                        NaN                        NaN   \n21                        NaN                        NaN   \n22                        NaN                        NaN   \n23                        NaN                        NaN   \n24                        NaN                        NaN   \n25                        NaN                        NaN   \n26                        NaN                        NaN   \n27                        NaN                        NaN   \n28                        NaN                        NaN   \n29                        NaN                        NaN   \n30                        NaN                        NaN   \n31                        NaN                        NaN   \n\n                                target_details.target handling.atmosphere  \n0                                                 NaN                 NaN  \n1                                                 NaN                 NaN  \n2                                                 NaN                 NaN  \n3                                                 NaN                 NaN  \n4                                                 NaN                 NaN  \n5                                                 NaN                 NaN  \n6                                                 NaN                 NaN  \n7                                                 NaN                 NaN  \n8                                                 NaN                 NaN  \n9                               Adriamycin resistance                 NaN  \n10                                                NaN                 NaN  \n11                                                NaN                 NaN  \n12                                                NaN                 NaN  \n13                                                NaN                 NaN  \n14                                                NaN                 NaN  \n15                                                NaN              5% CO2  \n16                                                NaN                 NaN  \n17                                                NaN              5% CO2  \n18                                                NaN                 NaN  \n19         Human oral squamous cell carcinoma, tongue                 NaN  \n20                                                NaN                 NaN  \n21                                                NaN                 NaN  \n22                                                NaN                 NaN  \n23                                                NaN                 NaN  \n24                                                NaN                 NaN  \n25                                                NaN                 NaN  \n26                 Human oral squamous cell carcinoma                 NaN  \n27         Human oral squamous cell carcinoma, tongue                 NaN  \n28                                            UM-RC-2                 NaN  \n29  Human oral squamous cell carcinoma, buccal mucosa                 NaN  \n30                                            UM-RC-6                 NaN  \n31  Human oral squamous cell carcinoma, floor of m...                 NaN  \n\n[32 rows x 32 columns]",
      "text/html": "<div>\n<style scoped>\n    .dataframe tbody tr th:only-of-type {\n        vertical-align: middle;\n    }\n\n    .dataframe tbody tr th {\n        vertical-align: top;\n    }\n\n    .dataframe thead th {\n        text-align: right;\n    }\n</style>\n<table border=\"1\" class=\"dataframe\">\n  <thead>\n    <tr style=\"text-align: right;\">\n      <th></th>\n      <th>catalog</th>\n      <th>model_id</th>\n      <th>tool_details.name</th>\n      <th>tool_details.organism</th>\n      <th>tool_details.tissue</th>\n      <th>tool_details.disease</th>\n      <th>tool_details.growth_properties</th>\n      <th>tool_details.model</th>\n      <th>tool_details.conditional</th>\n      <th>tool_details.description</th>\n      <th>...</th>\n      <th>handling.volume</th>\n      <th>handling.temperature</th>\n      <th>handling.storage_conditions</th>\n      <th>handling.subculture_routine</th>\n      <th>handling.mycoplasma_free</th>\n      <th>tool_details.production_details</th>\n      <th>tool_details.tool_sub_type</th>\n      <th>tool_details.parental_cell</th>\n      <th>target_details.target</th>\n      <th>handling.atmosphere</th>\n    </tr>\n  </thead>\n  <tbody>\n    <tr>\n      <th>0</th>\n      <td>04072107</td>\n      <td>SIDM00078</td>\n      <td>BICR 31 Cell Line</td>\n      <td>Human</td>\n      <td>Tongue</td>\n      <td>Cancer</td>\n      <td>Adherent</td>\n      <td>Tumour line</td>\n      <td>Yes</td>\n      <td>Adherent cell line derived from a squamous cel...</td>\n      <td>...</td>\n      <td>NaN</td>\n      <td>NaN</td>\n      <td>NaN</td>\n      <td>NaN</td>\n      <td>NaN</td>\n      <td>NaN</td>\n      <td>NaN</td>\n      <td>NaN</td>\n      <td>NaN</td>\n      <td>NaN</td>\n    </tr>\n    <tr>\n      <th>1</th>\n      <td>04072103</td>\n      <td>SIDM00077</td>\n      <td>BICR 10 Cell Line</td>\n      <td>Human</td>\n      <td>Buccal mucosa</td>\n      <td>Cancer</td>\n      <td>Adherent</td>\n      <td>Tumour line</td>\n      <td>NaN</td>\n      <td>Adherent keratinocyte cell line derived from a...</td>\n      <td>...</td>\n      <td>NaN</td>\n      <td>NaN</td>\n      <td>NaN</td>\n      <td>NaN</td>\n      <td>NaN</td>\n      <td>NaN</td>\n      <td>NaN</td>\n      <td>NaN</td>\n      <td>NaN</td>\n      <td>NaN</td>\n    </tr>\n    <tr>\n      <th>2</th>\n      <td>10032310</td>\n      <td>SIDM00470</td>\n      <td>PEO6 Cell Line</td>\n      <td>Human</td>\n      <td>Ovary</td>\n      <td>Cancer</td>\n      <td>Adherent</td>\n      <td>Tumour line</td>\n      <td>Yes</td>\n      <td>The PEO6 cell line is an adherent cell line de...</td>\n      <td>...</td>\n      <td>NaN</td>\n      <td>NaN</td>\n      <td>NaN</td>\n      <td>NaN</td>\n      <td>NaN</td>\n      <td>NaN</td>\n      <td>NaN</td>\n      <td>NaN</td>\n      <td>NaN</td>\n      <td>NaN</td>\n    </tr>\n    <tr>\n      <th>3</th>\n      <td>10032309</td>\n      <td>SIDM00471</td>\n      <td>PEO4 Cell Line</td>\n      <td>Human</td>\n      <td>Ovary</td>\n      <td>Cancer</td>\n      <td>Adherent</td>\n      <td>Tumour line</td>\n      <td>Yes</td>\n      <td>The PEO4 cell line is one of nine from the PE ...</td>\n      <td>...</td>\n      <td>NaN</td>\n      <td>NaN</td>\n      <td>NaN</td>\n      <td>NaN</td>\n      <td>NaN</td>\n      <td>NaN</td>\n      <td>NaN</td>\n      <td>NaN</td>\n      <td>NaN</td>\n      <td>NaN</td>\n    </tr>\n    <tr>\n      <th>4</th>\n      <td>04072106</td>\n      <td>SIDM00485</td>\n      <td>BICR 22 Cell Line</td>\n      <td>Human</td>\n      <td>Tongue</td>\n      <td>Cancer</td>\n      <td>Adherent</td>\n      <td>Tumour line</td>\n      <td>Yes</td>\n      <td>Adherent cell line derived from a lymph node m...</td>\n      <td>...</td>\n      <td>NaN</td>\n      <td>NaN</td>\n      <td>NaN</td>\n      <td>NaN</td>\n      <td>NaN</td>\n      <td>NaN</td>\n      <td>NaN</td>\n      <td>NaN</td>\n      <td>NaN</td>\n      <td>NaN</td>\n    </tr>\n    <tr>\n      <th>5</th>\n      <td>10032308</td>\n      <td>SIDM00472</td>\n      <td>PEO1 Cell Line</td>\n      <td>Human</td>\n      <td>Ovary</td>\n      <td>Cancer</td>\n      <td>Adherent</td>\n      <td>Tumourigenic</td>\n      <td>Yes</td>\n      <td>The PEO1 Cell Line is one of nine from the PE ...</td>\n      <td>...</td>\n      <td>1 ml</td>\n      <td>37° C</td>\n      <td>Liquid Nitrogen</td>\n      <td>Split sub-confluent cultures (70-80%) 1:4 to 1...</td>\n      <td>Yes</td>\n      <td>NaN</td>\n      <td>NaN</td>\n      <td>NaN</td>\n      <td>NaN</td>\n      <td>NaN</td>\n    </tr>\n    <tr>\n      <th>6</th>\n      <td>04072111</td>\n      <td>SIDM00501</td>\n      <td>BICR 78 Cell Line</td>\n      <td>Human</td>\n      <td>Alveolus</td>\n      <td>Cancer</td>\n      <td>Adherent</td>\n      <td>Tumour line</td>\n      <td>NaN</td>\n      <td>Adherent keratinocyte cell line derived from a...</td>\n      <td>...</td>\n      <td>NaN</td>\n      <td>NaN</td>\n      <td>NaN</td>\n      <td>NaN</td>\n      <td>NaN</td>\n      <td>NaN</td>\n      <td>NaN</td>\n      <td>NaN</td>\n      <td>NaN</td>\n      <td>NaN</td>\n    </tr>\n    <tr>\n      <th>7</th>\n      <td>94122104</td>\n      <td>SIDM00540</td>\n      <td>DOK Cell Line</td>\n      <td>Human</td>\n      <td>Tongue</td>\n      <td>Cancer</td>\n      <td>Adherent</td>\n      <td>Tumour line</td>\n      <td>Yes</td>\n      <td>The degree of dysplasia in the patient was des...</td>\n      <td>...</td>\n      <td>NaN</td>\n      <td>NaN</td>\n      <td>NaN</td>\n      <td>NaN</td>\n      <td>NaN</td>\n      <td>The dysplastic oral keratinocyte cell line DOK...</td>\n      <td>NaN</td>\n      <td>NaN</td>\n      <td>NaN</td>\n      <td>NaN</td>\n    </tr>\n    <tr>\n      <th>8</th>\n      <td>85061106</td>\n      <td>SIDM01202</td>\n      <td>RT112/84 Cell Line</td>\n      <td>Human</td>\n      <td>Bladder</td>\n      <td>Cancer</td>\n      <td>Adherent</td>\n      <td>Tumour line</td>\n      <td>Yes</td>\n      <td>A slow growing tumour which does not form colo...</td>\n      <td>...</td>\n      <td>NaN</td>\n      <td>NaN</td>\n      <td>NaN</td>\n      <td>NaN</td>\n      <td>NaN</td>\n      <td>NaN</td>\n      <td>NaN</td>\n      <td>NaN</td>\n      <td>NaN</td>\n      <td>NaN</td>\n    </tr>\n    <tr>\n      <th>9</th>\n      <td>93112520</td>\n      <td>SIDM01211</td>\n      <td>A2780ADR Cell Line</td>\n      <td>Human</td>\n      <td>Ovary</td>\n      <td>Cancer</td>\n      <td>Adherent</td>\n      <td>Tumour line</td>\n      <td>Yes</td>\n      <td>The adriamycin-resistant cell line A2780ADR ha...</td>\n      <td>...</td>\n      <td>NaN</td>\n      <td>NaN</td>\n      <td>NaN</td>\n      <td>NaN</td>\n      <td>NaN</td>\n      <td>Split sub-confluent cultures (70-80%) 1:5 to 1...</td>\n      <td>Continuous</td>\n      <td>A2780</td>\n      <td>Adriamycin resistance</td>\n      <td>NaN</td>\n    </tr>\n    <tr>\n      <th>10</th>\n      <td>Not provided</td>\n      <td>SIDM01419</td>\n      <td>PEO14 Cell Line</td>\n      <td>Human</td>\n      <td>Ovary</td>\n      <td>Cancer</td>\n      <td>Adherent</td>\n      <td>Tumour line</td>\n      <td>Yes</td>\n      <td>The PEO14 cell line is one of nine from the PE...</td>\n      <td>...</td>\n      <td>NaN</td>\n      <td>NaN</td>\n      <td>NaN</td>\n      <td>NaN</td>\n      <td>NaN</td>\n      <td>NaN</td>\n      <td>NaN</td>\n      <td>NaN</td>\n      <td>NaN</td>\n      <td>NaN</td>\n    </tr>\n    <tr>\n      <th>11</th>\n      <td>10032307</td>\n      <td>SIDM01425</td>\n      <td>PEA2 Cell Line</td>\n      <td>Human</td>\n      <td>Ovary</td>\n      <td>Cancer</td>\n      <td>Adherent</td>\n      <td>Tumour line</td>\n      <td>Yes</td>\n      <td>The PEA2 cell line is one of nine from the PE ...</td>\n      <td>...</td>\n      <td>NaN</td>\n      <td>NaN</td>\n      <td>NaN</td>\n      <td>NaN</td>\n      <td>NaN</td>\n      <td>NaN</td>\n      <td>NaN</td>\n      <td>NaN</td>\n      <td>NaN</td>\n      <td>NaN</td>\n    </tr>\n    <tr>\n      <th>12</th>\n      <td>Not provided</td>\n      <td>SIDM01418</td>\n      <td>PEO23 Cell Line</td>\n      <td>Human</td>\n      <td>Ovary</td>\n      <td>Cancer</td>\n      <td>Adherent</td>\n      <td>Tumour line</td>\n      <td>Yes</td>\n      <td>The PEO23 cell line is one of nine from the PE...</td>\n      <td>...</td>\n      <td>NaN</td>\n      <td>NaN</td>\n      <td>NaN</td>\n      <td>NaN</td>\n      <td>NaN</td>\n      <td>NaN</td>\n      <td>NaN</td>\n      <td>NaN</td>\n      <td>NaN</td>\n      <td>NaN</td>\n    </tr>\n    <tr>\n      <th>13</th>\n      <td>10081203</td>\n      <td>SIDM01420</td>\n      <td>TO14 Cell Line</td>\n      <td>Human</td>\n      <td>Ovary</td>\n      <td>Cancer</td>\n      <td>Adherent</td>\n      <td>NaN</td>\n      <td>Yes</td>\n      <td>The TO14 cell line is one of nine from the PE ...</td>\n      <td>...</td>\n      <td>NaN</td>\n      <td>NaN</td>\n      <td>NaN</td>\n      <td>NaN</td>\n      <td>NaN</td>\n      <td>NaN</td>\n      <td>NaN</td>\n      <td>NaN</td>\n      <td>NaN</td>\n      <td>NaN</td>\n    </tr>\n    <tr>\n      <th>14</th>\n      <td>10032306</td>\n      <td>SIDM01426</td>\n      <td>PEA1 Cell Line</td>\n      <td>Human</td>\n      <td>Ovary</td>\n      <td>NaN</td>\n      <td>Adherent</td>\n      <td>Tumour line</td>\n      <td>NaN</td>\n      <td>NaN</td>\n      <td>...</td>\n      <td>NaN</td>\n      <td>NaN</td>\n      <td>NaN</td>\n      <td>NaN</td>\n      <td>NaN</td>\n      <td>NaN</td>\n      <td>NaN</td>\n      <td>NaN</td>\n      <td>NaN</td>\n      <td>NaN</td>\n    </tr>\n    <tr>\n      <th>15</th>\n      <td>12022907</td>\n      <td>SIDM01533</td>\n      <td>C75 Colorectal adenocarcinoma Cell Line</td>\n      <td>Human</td>\n      <td>Colon</td>\n      <td>Cancer</td>\n      <td>NaN</td>\n      <td>Tumour line</td>\n      <td>Yes</td>\n      <td>The C75 cell line was established from a 56-ye...</td>\n      <td>...</td>\n      <td>NaN</td>\n      <td>37° C</td>\n      <td>NaN</td>\n      <td>Split sub-confluent cultures (70-80%) 1:3 to 1...</td>\n      <td>Yes</td>\n      <td>NaN</td>\n      <td>NaN</td>\n      <td>NaN</td>\n      <td>NaN</td>\n      <td>5% CO2</td>\n    </tr>\n    <tr>\n      <th>16</th>\n      <td>12022909</td>\n      <td>SIDM01541</td>\n      <td>C125PM Colorectal Cell Line</td>\n      <td>Human</td>\n      <td>Colon</td>\n      <td>Cancer</td>\n      <td>NaN</td>\n      <td>Tumour line</td>\n      <td>Yes</td>\n      <td>C125PM is a human colorectal adenocarcinoma ce...</td>\n      <td>...</td>\n      <td>NaN</td>\n      <td>NaN</td>\n      <td>NaN</td>\n      <td>NaN</td>\n      <td>NaN</td>\n      <td>NaN</td>\n      <td>NaN</td>\n      <td>NaN</td>\n      <td>NaN</td>\n      <td>NaN</td>\n    </tr>\n    <tr>\n      <th>17</th>\n      <td>12022901</td>\n      <td>SIDM01532</td>\n      <td>C10 Colorectal Cell Line</td>\n      <td>Human</td>\n      <td>Colon</td>\n      <td>Cancer</td>\n      <td>NaN</td>\n      <td>Tumour line</td>\n      <td>Yes</td>\n      <td>The C10 cell line was established from a 71-ye...</td>\n      <td>...</td>\n      <td>NaN</td>\n      <td>37° C</td>\n      <td>NaN</td>\n      <td>Split sub-confluent cultures (70-80%) 1:3 to 1...</td>\n      <td>NaN</td>\n      <td>This colorectal cell line was established from...</td>\n      <td>NaN</td>\n      <td>NaN</td>\n      <td>NaN</td>\n      <td>5% CO2</td>\n    </tr>\n    <tr>\n      <th>18</th>\n      <td>12022902</td>\n      <td>SIDM01548</td>\n      <td>C84 Colorectal adenocarcinoma Cell Line</td>\n      <td>Human</td>\n      <td>Colon</td>\n      <td>NaN</td>\n      <td>NaN</td>\n      <td>Tumour line</td>\n      <td>Yes</td>\n      <td>The C84 cell line was established from a 67-ye...</td>\n      <td>...</td>\n      <td>NaN</td>\n      <td>NaN</td>\n      <td>NaN</td>\n      <td>NaN</td>\n      <td>NaN</td>\n      <td>NaN</td>\n      <td>NaN</td>\n      <td>NaN</td>\n      <td>NaN</td>\n      <td>NaN</td>\n    </tr>\n    <tr>\n      <th>19</th>\n      <td>6092001</td>\n      <td>SIDM01568</td>\n      <td>H103 Cell Line</td>\n      <td>NaN</td>\n      <td>Tongue</td>\n      <td>Cancer</td>\n      <td>Adherent</td>\n      <td>Tumour line</td>\n      <td>NaN</td>\n      <td>Established from a small squamous cell carcino...</td>\n      <td>...</td>\n      <td>NaN</td>\n      <td>NaN</td>\n      <td>NaN</td>\n      <td>NaN</td>\n      <td>NaN</td>\n      <td>NaN</td>\n      <td>NaN</td>\n      <td>NaN</td>\n      <td>Human oral squamous cell carcinoma, tongue</td>\n      <td>NaN</td>\n    </tr>\n    <tr>\n      <th>20</th>\n      <td>12022905</td>\n      <td>SIDM01547</td>\n      <td>C99 Colorectal adenocarcinoma Cell Line</td>\n      <td>Human</td>\n      <td>Colon</td>\n      <td>Cancer</td>\n      <td>NaN</td>\n      <td>Tumour line</td>\n      <td>Yes</td>\n      <td>The C99 cell line was established from a 69-ye...</td>\n      <td>...</td>\n      <td>NaN</td>\n      <td>NaN</td>\n      <td>NaN</td>\n      <td>NaN</td>\n      <td>NaN</td>\n      <td>NaN</td>\n      <td>NaN</td>\n      <td>NaN</td>\n      <td>NaN</td>\n      <td>NaN</td>\n    </tr>\n    <tr>\n      <th>21</th>\n      <td>12022904</td>\n      <td>SIDM01549</td>\n      <td>C80 Colorectal adenocarcinoma Cell Line</td>\n      <td>Human</td>\n      <td>Colon</td>\n      <td>Cancer</td>\n      <td>NaN</td>\n      <td>Tumour line</td>\n      <td>Yes</td>\n      <td>The C80 cell line was established from a 69-ye...</td>\n      <td>...</td>\n      <td>NaN</td>\n      <td>NaN</td>\n      <td>NaN</td>\n      <td>NaN</td>\n      <td>NaN</td>\n      <td>NaN</td>\n      <td>NaN</td>\n      <td>NaN</td>\n      <td>NaN</td>\n      <td>NaN</td>\n    </tr>\n    <tr>\n      <th>22</th>\n      <td>05070501</td>\n      <td>SIDM01517</td>\n      <td>BICR 6 Cell Line</td>\n      <td>Human</td>\n      <td>Hypopharynx</td>\n      <td>Cancer</td>\n      <td>Adherent</td>\n      <td>Tumour line</td>\n      <td>Yes</td>\n      <td>Adherent keratinocyte cell line derived from a...</td>\n      <td>...</td>\n      <td>NaN</td>\n      <td>NaN</td>\n      <td>NaN</td>\n      <td>NaN</td>\n      <td>NaN</td>\n      <td>NaN</td>\n      <td>NaN</td>\n      <td>NaN</td>\n      <td>NaN</td>\n      <td>NaN</td>\n    </tr>\n    <tr>\n      <th>23</th>\n      <td>6031001</td>\n      <td>SIDM01520</td>\n      <td>BICR 16 Cell Line</td>\n      <td>Human</td>\n      <td>Tongue</td>\n      <td>Cancer</td>\n      <td>Adherent</td>\n      <td>Tumour line</td>\n      <td>Yes</td>\n      <td>Adherent cell line derived from a recurrent sq...</td>\n      <td>...</td>\n      <td>NaN</td>\n      <td>NaN</td>\n      <td>NaN</td>\n      <td>NaN</td>\n      <td>NaN</td>\n      <td>NaN</td>\n      <td>NaN</td>\n      <td>NaN</td>\n      <td>NaN</td>\n      <td>NaN</td>\n    </tr>\n    <tr>\n      <th>24</th>\n      <td>6031002</td>\n      <td>SIDM01518</td>\n      <td>BICR 56 Cell Line</td>\n      <td>Human</td>\n      <td>Tongue</td>\n      <td>Cancer</td>\n      <td>Adherent</td>\n      <td>Tumour line</td>\n      <td>Yes</td>\n      <td>Adherent keratinocyte cell line derived from a...</td>\n      <td>...</td>\n      <td>NaN</td>\n      <td>NaN</td>\n      <td>NaN</td>\n      <td>NaN</td>\n      <td>NaN</td>\n      <td>NaN</td>\n      <td>NaN</td>\n      <td>NaN</td>\n      <td>NaN</td>\n      <td>NaN</td>\n    </tr>\n    <tr>\n      <th>25</th>\n      <td>06051601</td>\n      <td>SIDM01519</td>\n      <td>BICR 18 Cell Line</td>\n      <td>Human</td>\n      <td>Larynx</td>\n      <td>Cancer</td>\n      <td>Adherent</td>\n      <td>Tumour line</td>\n      <td>Yes</td>\n      <td>Adherent keratinocyte cell line derived from a...</td>\n      <td>...</td>\n      <td>NaN</td>\n      <td>NaN</td>\n      <td>NaN</td>\n      <td>NaN</td>\n      <td>NaN</td>\n      <td>NaN</td>\n      <td>NaN</td>\n      <td>NaN</td>\n      <td>NaN</td>\n      <td>NaN</td>\n    </tr>\n    <tr>\n      <th>26</th>\n      <td>07030901</td>\n      <td>SIDM01808</td>\n      <td>H157 Cell Line</td>\n      <td>NaN</td>\n      <td>Buccal mucosa</td>\n      <td>Cancer</td>\n      <td>Adherent</td>\n      <td>Tumour line</td>\n      <td>Yes</td>\n      <td>Established from a squamous cell carcinoma (SC...</td>\n      <td>...</td>\n      <td>NaN</td>\n      <td>NaN</td>\n      <td>NaN</td>\n      <td>NaN</td>\n      <td>NaN</td>\n      <td>NaN</td>\n      <td>NaN</td>\n      <td>NaN</td>\n      <td>Human oral squamous cell carcinoma</td>\n      <td>NaN</td>\n    </tr>\n    <tr>\n      <th>27</th>\n      <td>06092004</td>\n      <td>SIDM01810</td>\n      <td>H357 Cell Line</td>\n      <td>NaN</td>\n      <td>Tongue</td>\n      <td>Cancer</td>\n      <td>Adherent</td>\n      <td>Tumour line</td>\n      <td>Yes</td>\n      <td>Established from a squamous cell carcinoma (SC...</td>\n      <td>...</td>\n      <td>NaN</td>\n      <td>NaN</td>\n      <td>NaN</td>\n      <td>NaN</td>\n      <td>NaN</td>\n      <td>NaN</td>\n      <td>NaN</td>\n      <td>NaN</td>\n      <td>Human oral squamous cell carcinoma, tongue</td>\n      <td>NaN</td>\n    </tr>\n    <tr>\n      <th>28</th>\n      <td>08090511</td>\n      <td>SIDM01830</td>\n      <td>UM-RC-2 (Human renal carcinoma) cell line</td>\n      <td>Human</td>\n      <td>Bladder</td>\n      <td>Cancer</td>\n      <td>Adherent</td>\n      <td>Cancer Model</td>\n      <td>No</td>\n      <td>UM-RC-2 are a renal carcinoma cell line, estab...</td>\n      <td>...</td>\n      <td>NaN</td>\n      <td>NaN</td>\n      <td>NaN</td>\n      <td>NaN</td>\n      <td>NaN</td>\n      <td>NaN</td>\n      <td>NaN</td>\n      <td>NaN</td>\n      <td>UM-RC-2</td>\n      <td>NaN</td>\n    </tr>\n    <tr>\n      <th>29</th>\n      <td>06092007</td>\n      <td>SIDM01811</td>\n      <td>H413 Cell Line</td>\n      <td>NaN</td>\n      <td>Buccal mucosa</td>\n      <td>Cancer</td>\n      <td>Adherent</td>\n      <td>Tumour line</td>\n      <td>NaN</td>\n      <td>Established from a squamous cell carcinoma (SC...</td>\n      <td>...</td>\n      <td>NaN</td>\n      <td>NaN</td>\n      <td>NaN</td>\n      <td>NaN</td>\n      <td>NaN</td>\n      <td>NaN</td>\n      <td>NaN</td>\n      <td>NaN</td>\n      <td>Human oral squamous cell carcinoma, buccal mucosa</td>\n      <td>NaN</td>\n    </tr>\n    <tr>\n      <th>30</th>\n      <td>08090513</td>\n      <td>SIDM01829</td>\n      <td>UM-RC-6 (Human renal carcinoma) cell line</td>\n      <td>Human</td>\n      <td>Bladder</td>\n      <td>Cancer</td>\n      <td>Adherent</td>\n      <td>Cancer Model</td>\n      <td>No</td>\n      <td>UM-RC-6 are a renal carcinoma cell line, estab...</td>\n      <td>...</td>\n      <td>NaN</td>\n      <td>NaN</td>\n      <td>NaN</td>\n      <td>NaN</td>\n      <td>NaN</td>\n      <td>NaN</td>\n      <td>NaN</td>\n      <td>NaN</td>\n      <td>UM-RC-6</td>\n      <td>NaN</td>\n    </tr>\n    <tr>\n      <th>31</th>\n      <td>06092005</td>\n      <td>SIDM01857</td>\n      <td>H376 Cell Line</td>\n      <td>NaN</td>\n      <td>Oral Cavity</td>\n      <td>Cancer</td>\n      <td>Adherent</td>\n      <td>Tumour line</td>\n      <td>Yes</td>\n      <td>Established from a squamous cell carcinoma (SC...</td>\n      <td>...</td>\n      <td>NaN</td>\n      <td>NaN</td>\n      <td>NaN</td>\n      <td>NaN</td>\n      <td>NaN</td>\n      <td>NaN</td>\n      <td>NaN</td>\n      <td>NaN</td>\n      <td>Human oral squamous cell carcinoma, floor of m...</td>\n      <td>NaN</td>\n    </tr>\n  </tbody>\n</table>\n<p>32 rows × 32 columns</p>\n</div>"
     },
     "execution_count": 1409,
     "metadata": {},
     "output_type": "execute_result"
    }
   ],
   "source": [
    "cancertools"
   ],
   "metadata": {
    "collapsed": false,
    "ExecuteTime": {
     "end_time": "2024-04-17T15:23:21.985610Z",
     "start_time": "2024-04-17T15:23:21.851132Z"
    }
   },
   "execution_count": 1409
  },
  {
   "cell_type": "code",
   "outputs": [
    {
     "data": {
      "text/plain": "                     catalog   model_id product_information.product_category  \\\n0    HTTPS://CLS.SHOP/300490  SIDM01229                          Human cells   \n1    HTTPS://CLS.SHOP/300490  SIDM00019                          Human cells   \n2    HTTPS://CLS.SHOP/300490  SIDM01168                          Human cells   \n3    HTTPS://CLS.SHOP/300490  SIDM01183                          Human cells   \n4    HTTPS://CLS.SHOP/300490  SIDM00849                          Human cells   \n..                       ...        ...                                  ...   \n420  HTTPS://CLS.SHOP/300490  SIDM00404                          Human cells   \n421  HTTPS://CLS.SHOP/300490  SIDM00836                          Human cells   \n422  HTTPS://CLS.SHOP/300490  SIDM00737                          Human cells   \n423  HTTPS://CLS.SHOP/300490  SIDM00096                          Human cells   \n424  HTTPS://CLS.SHOP/300490  SIDM01522                          Human cells   \n\n    product_information.organism product_information.cell_type  \\\n0            Homo sapiens, human                    neuroblast   \n1            Homo sapiens, human                           NaN   \n2            Homo sapiens, human                           NaN   \n3            Homo sapiens, human                           NaN   \n4            Homo sapiens, human                           NaN   \n..                           ...                           ...   \n420          Homo sapiens, human                           NaN   \n421          Homo sapiens, human                           NaN   \n422          Homo sapiens, human           neuroendocrine cell   \n423          Homo sapiens, human                   lymphoblast   \n424          Homo sapiens, human                 B lymphoblast   \n\n    product_information.morphology product_information.tissue  \\\n0                       neuroblast                      Brain   \n1                       epithelial                       Lung   \n2                       epithelial                      Ovary   \n3                       epithelial                       Lung   \n4                       epithelial                     kidney   \n..                             ...                        ...   \n420               lymphoblast-like                 Lymph node   \n421                     epithelial     Large intestine; Colon   \n422                            NaN                       Lung   \n423                    lymphoblast           Pleural effusion   \n424                    lymphoblast           Peripheral blood   \n\n                           product_information.disease  \\\n0                                        Neuroblastoma   \n1                             Papillary Adenocarcinoma   \n2                                       Adenocarcinoma   \n3                                            Carcinoid   \n4                                       Adenocarcinoma   \n..                                                 ...   \n420                                Large Cell Lymphoma   \n421  Adenocarcinoma; Colorectal; Dukes' type C, gra...   \n422     Carcinoma; Non-small cell lung cancer; Stage 4   \n423                  Large Cell Immunoblastic Lymphoma   \n424                         Acute myelogenous leukemia   \n\n                      product_information.applications  \\\n0    3D cell cultureHigh-throughput screeningImmuno...   \n1                                      3D cell culture   \n2                                      3D cell culture   \n3                                      3D cell culture   \n4                                      3D cell culture   \n..                                                 ...   \n420                          3D cell cultureImmunology   \n421                                    3D cell culture   \n422                                    3D cell culture   \n423                          3D cell cultureImmunology   \n424  3D cell cultureImmune system disorder research...   \n\n    product_information.product_format  ...  \\\n0                               Frozen  ...   \n1                               Frozen  ...   \n2                               Frozen  ...   \n3                               Frozen  ...   \n4                               Frozen  ...   \n..                                 ...  ...   \n420                             Frozen  ...   \n421                             Frozen  ...   \n422                             Frozen  ...   \n423                             Frozen  ...   \n424                             Frozen  ...   \n\n    handling_information.seeding_density  \\\n0                                    NaN   \n1                                    NaN   \n2                                    NaN   \n3                                    NaN   \n4                                    NaN   \n..                                   ...   \n420                                  NaN   \n421                                  NaN   \n422                                  NaN   \n423                                  NaN   \n424                                  NaN   \n\n    handling_information.culture_maintenance history.patent_number  \\\n0                                        NaN                   NaN   \n1                                        NaN                   NaN   \n2                                        NaN                   NaN   \n3                                        NaN                   NaN   \n4                                        NaN                   NaN   \n..                                       ...                   ...   \n420                                      NaN                   NaN   \n421                                      NaN                   NaN   \n422                                      NaN                   NaN   \n423                                      NaN                   NaN   \n424                                      NaN                   NaN   \n\n    characteristics.passage_number characteristics.virus_susceptibility  \\\n0                              NaN                                  NaN   \n1                              NaN                                  NaN   \n2                              NaN                                  NaN   \n3                              NaN                                  NaN   \n4                              NaN                                  NaN   \n..                             ...                                  ...   \n420                            NaN                                  NaN   \n421                            NaN                                  NaN   \n422                            NaN                                  NaN   \n423                            NaN                                  NaN   \n424                            NaN                                  NaN   \n\n    characteristics.immortalization_method  \\\n0                                      NaN   \n1                                      NaN   \n2                                      NaN   \n3                                      NaN   \n4                                      NaN   \n..                                     ...   \n420                                    NaN   \n421                                    NaN   \n422                                    NaN   \n423                                    NaN   \n424                                    NaN   \n\n    quality_control_specifications.bacterial_and_fungal_testing  \\\n0                                                  NaN            \n1                                                  NaN            \n2                                                  NaN            \n3                                                  NaN            \n4                                                  NaN            \n..                                                 ...            \n420                                                NaN            \n421                                                NaN            \n422                                                NaN            \n423                                                NaN            \n424                                                NaN            \n\n    characteristics.cells_per_vial quality_control_specifications.viability  \\\n0                              NaN                                      NaN   \n1                              NaN                                      NaN   \n2                              NaN                                      NaN   \n3                              NaN                                      NaN   \n4                              NaN                                      NaN   \n..                             ...                                      ...   \n420                            NaN                                      NaN   \n421                            NaN                                      NaN   \n422                            NaN                                      NaN   \n423                            NaN                                      NaN   \n424                            NaN                                      NaN   \n\n    history.chain_of_custody  \n0                        NaN  \n1                        NaN  \n2                        NaN  \n3                        NaN  \n4                        NaN  \n..                       ...  \n420                      NaN  \n421                      NaN  \n422                      NaN  \n423                      NaN  \n424             R A Steinman  \n\n[425 rows x 62 columns]",
      "text/html": "<div>\n<style scoped>\n    .dataframe tbody tr th:only-of-type {\n        vertical-align: middle;\n    }\n\n    .dataframe tbody tr th {\n        vertical-align: top;\n    }\n\n    .dataframe thead th {\n        text-align: right;\n    }\n</style>\n<table border=\"1\" class=\"dataframe\">\n  <thead>\n    <tr style=\"text-align: right;\">\n      <th></th>\n      <th>catalog</th>\n      <th>model_id</th>\n      <th>product_information.product_category</th>\n      <th>product_information.organism</th>\n      <th>product_information.cell_type</th>\n      <th>product_information.morphology</th>\n      <th>product_information.tissue</th>\n      <th>product_information.disease</th>\n      <th>product_information.applications</th>\n      <th>product_information.product_format</th>\n      <th>...</th>\n      <th>handling_information.seeding_density</th>\n      <th>handling_information.culture_maintenance</th>\n      <th>history.patent_number</th>\n      <th>characteristics.passage_number</th>\n      <th>characteristics.virus_susceptibility</th>\n      <th>characteristics.immortalization_method</th>\n      <th>quality_control_specifications.bacterial_and_fungal_testing</th>\n      <th>characteristics.cells_per_vial</th>\n      <th>quality_control_specifications.viability</th>\n      <th>history.chain_of_custody</th>\n    </tr>\n  </thead>\n  <tbody>\n    <tr>\n      <th>0</th>\n      <td>HTTPS://CLS.SHOP/300490</td>\n      <td>SIDM01229</td>\n      <td>Human cells</td>\n      <td>Homo sapiens, human</td>\n      <td>neuroblast</td>\n      <td>neuroblast</td>\n      <td>Brain</td>\n      <td>Neuroblastoma</td>\n      <td>3D cell cultureHigh-throughput screeningImmuno...</td>\n      <td>Frozen</td>\n      <td>...</td>\n      <td>NaN</td>\n      <td>NaN</td>\n      <td>NaN</td>\n      <td>NaN</td>\n      <td>NaN</td>\n      <td>NaN</td>\n      <td>NaN</td>\n      <td>NaN</td>\n      <td>NaN</td>\n      <td>NaN</td>\n    </tr>\n    <tr>\n      <th>1</th>\n      <td>HTTPS://CLS.SHOP/300490</td>\n      <td>SIDM00019</td>\n      <td>Human cells</td>\n      <td>Homo sapiens, human</td>\n      <td>NaN</td>\n      <td>epithelial</td>\n      <td>Lung</td>\n      <td>Papillary Adenocarcinoma</td>\n      <td>3D cell culture</td>\n      <td>Frozen</td>\n      <td>...</td>\n      <td>NaN</td>\n      <td>NaN</td>\n      <td>NaN</td>\n      <td>NaN</td>\n      <td>NaN</td>\n      <td>NaN</td>\n      <td>NaN</td>\n      <td>NaN</td>\n      <td>NaN</td>\n      <td>NaN</td>\n    </tr>\n    <tr>\n      <th>2</th>\n      <td>HTTPS://CLS.SHOP/300490</td>\n      <td>SIDM01168</td>\n      <td>Human cells</td>\n      <td>Homo sapiens, human</td>\n      <td>NaN</td>\n      <td>epithelial</td>\n      <td>Ovary</td>\n      <td>Adenocarcinoma</td>\n      <td>3D cell culture</td>\n      <td>Frozen</td>\n      <td>...</td>\n      <td>NaN</td>\n      <td>NaN</td>\n      <td>NaN</td>\n      <td>NaN</td>\n      <td>NaN</td>\n      <td>NaN</td>\n      <td>NaN</td>\n      <td>NaN</td>\n      <td>NaN</td>\n      <td>NaN</td>\n    </tr>\n    <tr>\n      <th>3</th>\n      <td>HTTPS://CLS.SHOP/300490</td>\n      <td>SIDM01183</td>\n      <td>Human cells</td>\n      <td>Homo sapiens, human</td>\n      <td>NaN</td>\n      <td>epithelial</td>\n      <td>Lung</td>\n      <td>Carcinoid</td>\n      <td>3D cell culture</td>\n      <td>Frozen</td>\n      <td>...</td>\n      <td>NaN</td>\n      <td>NaN</td>\n      <td>NaN</td>\n      <td>NaN</td>\n      <td>NaN</td>\n      <td>NaN</td>\n      <td>NaN</td>\n      <td>NaN</td>\n      <td>NaN</td>\n      <td>NaN</td>\n    </tr>\n    <tr>\n      <th>4</th>\n      <td>HTTPS://CLS.SHOP/300490</td>\n      <td>SIDM00849</td>\n      <td>Human cells</td>\n      <td>Homo sapiens, human</td>\n      <td>NaN</td>\n      <td>epithelial</td>\n      <td>kidney</td>\n      <td>Adenocarcinoma</td>\n      <td>3D cell culture</td>\n      <td>Frozen</td>\n      <td>...</td>\n      <td>NaN</td>\n      <td>NaN</td>\n      <td>NaN</td>\n      <td>NaN</td>\n      <td>NaN</td>\n      <td>NaN</td>\n      <td>NaN</td>\n      <td>NaN</td>\n      <td>NaN</td>\n      <td>NaN</td>\n    </tr>\n    <tr>\n      <th>...</th>\n      <td>...</td>\n      <td>...</td>\n      <td>...</td>\n      <td>...</td>\n      <td>...</td>\n      <td>...</td>\n      <td>...</td>\n      <td>...</td>\n      <td>...</td>\n      <td>...</td>\n      <td>...</td>\n      <td>...</td>\n      <td>...</td>\n      <td>...</td>\n      <td>...</td>\n      <td>...</td>\n      <td>...</td>\n      <td>...</td>\n      <td>...</td>\n      <td>...</td>\n      <td>...</td>\n    </tr>\n    <tr>\n      <th>420</th>\n      <td>HTTPS://CLS.SHOP/300490</td>\n      <td>SIDM00404</td>\n      <td>Human cells</td>\n      <td>Homo sapiens, human</td>\n      <td>NaN</td>\n      <td>lymphoblast-like</td>\n      <td>Lymph node</td>\n      <td>Large Cell Lymphoma</td>\n      <td>3D cell cultureImmunology</td>\n      <td>Frozen</td>\n      <td>...</td>\n      <td>NaN</td>\n      <td>NaN</td>\n      <td>NaN</td>\n      <td>NaN</td>\n      <td>NaN</td>\n      <td>NaN</td>\n      <td>NaN</td>\n      <td>NaN</td>\n      <td>NaN</td>\n      <td>NaN</td>\n    </tr>\n    <tr>\n      <th>421</th>\n      <td>HTTPS://CLS.SHOP/300490</td>\n      <td>SIDM00836</td>\n      <td>Human cells</td>\n      <td>Homo sapiens, human</td>\n      <td>NaN</td>\n      <td>epithelial</td>\n      <td>Large intestine; Colon</td>\n      <td>Adenocarcinoma; Colorectal; Dukes' type C, gra...</td>\n      <td>3D cell culture</td>\n      <td>Frozen</td>\n      <td>...</td>\n      <td>NaN</td>\n      <td>NaN</td>\n      <td>NaN</td>\n      <td>NaN</td>\n      <td>NaN</td>\n      <td>NaN</td>\n      <td>NaN</td>\n      <td>NaN</td>\n      <td>NaN</td>\n      <td>NaN</td>\n    </tr>\n    <tr>\n      <th>422</th>\n      <td>HTTPS://CLS.SHOP/300490</td>\n      <td>SIDM00737</td>\n      <td>Human cells</td>\n      <td>Homo sapiens, human</td>\n      <td>neuroendocrine cell</td>\n      <td>NaN</td>\n      <td>Lung</td>\n      <td>Carcinoma; Non-small cell lung cancer; Stage 4</td>\n      <td>3D cell culture</td>\n      <td>Frozen</td>\n      <td>...</td>\n      <td>NaN</td>\n      <td>NaN</td>\n      <td>NaN</td>\n      <td>NaN</td>\n      <td>NaN</td>\n      <td>NaN</td>\n      <td>NaN</td>\n      <td>NaN</td>\n      <td>NaN</td>\n      <td>NaN</td>\n    </tr>\n    <tr>\n      <th>423</th>\n      <td>HTTPS://CLS.SHOP/300490</td>\n      <td>SIDM00096</td>\n      <td>Human cells</td>\n      <td>Homo sapiens, human</td>\n      <td>lymphoblast</td>\n      <td>lymphoblast</td>\n      <td>Pleural effusion</td>\n      <td>Large Cell Immunoblastic Lymphoma</td>\n      <td>3D cell cultureImmunology</td>\n      <td>Frozen</td>\n      <td>...</td>\n      <td>NaN</td>\n      <td>NaN</td>\n      <td>NaN</td>\n      <td>NaN</td>\n      <td>NaN</td>\n      <td>NaN</td>\n      <td>NaN</td>\n      <td>NaN</td>\n      <td>NaN</td>\n      <td>NaN</td>\n    </tr>\n    <tr>\n      <th>424</th>\n      <td>HTTPS://CLS.SHOP/300490</td>\n      <td>SIDM01522</td>\n      <td>Human cells</td>\n      <td>Homo sapiens, human</td>\n      <td>B lymphoblast</td>\n      <td>lymphoblast</td>\n      <td>Peripheral blood</td>\n      <td>Acute myelogenous leukemia</td>\n      <td>3D cell cultureImmune system disorder research...</td>\n      <td>Frozen</td>\n      <td>...</td>\n      <td>NaN</td>\n      <td>NaN</td>\n      <td>NaN</td>\n      <td>NaN</td>\n      <td>NaN</td>\n      <td>NaN</td>\n      <td>NaN</td>\n      <td>NaN</td>\n      <td>NaN</td>\n      <td>R A Steinman</td>\n    </tr>\n  </tbody>\n</table>\n<p>425 rows × 62 columns</p>\n</div>"
     },
     "execution_count": 1129,
     "metadata": {},
     "output_type": "execute_result"
    }
   ],
   "source": [
    "atcc "
   ],
   "metadata": {
    "collapsed": false,
    "ExecuteTime": {
     "end_time": "2024-04-16T13:18:10.276386Z",
     "start_time": "2024-04-16T13:18:10.161113Z"
    }
   },
   "execution_count": 1129
  },
  {
   "cell_type": "code",
   "outputs": [
    {
     "data": {
      "text/plain": "array(['cellbank.brc.riken.jp', 'cellbank.snu.ac.kr', 'www.iclc.it',\n       'www.dsmz.de', 'www.addexbio.com', 'cellbank.nibiohn.go.jp',\n       'www.atcc.org', 'www.phe-culturecollections.org.uk', 'cls.shop',\n       'www.cancertools.org', 'www.cellbankaustralia.com'], dtype=object)"
     },
     "execution_count": 1123,
     "metadata": {},
     "output_type": "execute_result"
    }
   ],
   "source": [
    "merged = text.merge(cmp_sheet[['model_id', 'vendor_link']], on='model_id', how='left')\n",
    "merged['vendor_link'].str.split('://', expand=True)[1].str.split('/',expand=True)[0].unique()"
   ],
   "metadata": {
    "collapsed": false,
    "ExecuteTime": {
     "end_time": "2024-04-16T09:07:38.090420Z",
     "start_time": "2024-04-16T09:07:37.884972Z"
    }
   },
   "execution_count": 1123
  },
  {
   "cell_type": "code",
   "outputs": [
    {
     "data": {
      "text/plain": "       catalog   model_id                depositor  \\\n0      RCB1901  SIDM01774           obinata, masuo   \n32     RCB0443  SIDM00234        ichimura, hiroshi   \n41     RCB0444  SIDM00307         akiyama, mitoshi   \n58     RCB1129  SIDM00252  todoroki, t. & ohno, t.   \n87    RCB1062   SIDM01368           okabe, tetsuro   \n...        ...        ...                      ...   \n1197   RCB1182  SIDM01259       tsuchiya, hiroyuki   \n1202   RCB1200  SIDM01242        katayama, hiroshi   \n1210   RCB1179  SIDM01753       imanishi, hiroyasu   \n1262   RCB0469  SIDM00293          terasaki, takeo   \n1278   RCB1951  SIDM00249           obinata, masuo   \n\n                             originator year of deposit original cell  \\\n0                         kobari, masao            2004       tkg0492   \n32                    ichimura, hiroshi            1989           NaN   \n41                     akiyama, mitoshi            1989           NaN   \n58    todoroki, t. & ohno, t. & kim, b.            1994           NaN   \n87                       okabe, tetsuro            1994           NaN   \n...                                 ...             ...           ...   \n1197               soheir s. el-sonbaty            1995        tanoue   \n1202                  katayama, hiroshi            1996           NaN   \n1210                 imanishi, hiroyasu            1995           NaN   \n1262       tsumuraya, m. & nakajima, t.            1990           NaN   \n1278   nishihira, tetsuro (akaishi, t.)            2004       tkg0266   \n\n                     animal genus  species                        tissue  ...  \\\n0       _human   < mammals   homo  sapiens                      pancreas  ...   \n32      _human   < mammals   homo  sapiens                        cervix  ...   \n41      _human   < mammals   homo  sapiens                          lung  ...   \n58      _human   < mammals   homo  sapiens  gallbladder, lymph node meta  ...   \n87      _human   < mammals   homo  sapiens      stomach, lymph node meta  ...   \n...                     ...   ...      ...                           ...  ...   \n1197    _human   < mammals   homo  sapiens                         blood  ...   \n1202    _human   < mammals   homo  sapiens        melanoma, ascites meta  ...   \n1210    _human   < mammals   homo  sapiens         stomach, ascites meta  ...   \n1262    _human   < mammals   homo  sapiens                          lung  ...   \n1278    _human   < mammals   homo  sapiens                     esophagus  ...   \n\n     Pubmed id:2833349 Pubmed id:2820569 Pubmed id:3731124 Pubmed id:8314315  \\\n0                  NaN               NaN               NaN               NaN   \n32                 NaN               NaN               NaN               NaN   \n41                 NaN               NaN               NaN               NaN   \n58                 NaN               NaN               NaN               NaN   \n87                 NaN               NaN               NaN               NaN   \n...                ...               ...               ...               ...   \n1197               NaN               NaN               NaN               NaN   \n1202               NaN               NaN               NaN               NaN   \n1210               NaN               NaN               NaN               NaN   \n1262               NaN               NaN               NaN               NaN   \n1278               NaN               NaN               NaN               NaN   \n\n     Pubmed id:8576285 Pubmed id:1922102 Pubmed id:1961183 Pubmed id:6962783  \\\n0                  NaN               NaN               NaN               NaN   \n32                 NaN               NaN               NaN               NaN   \n41                 NaN               NaN               NaN               NaN   \n58                 NaN               NaN               NaN               NaN   \n87                 NaN               NaN               NaN               NaN   \n...                ...               ...               ...               ...   \n1197               NaN               NaN               NaN               NaN   \n1202               NaN               NaN               NaN               NaN   \n1210               NaN               NaN               NaN               NaN   \n1262               NaN               NaN               NaN               NaN   \n1278               NaN               NaN               NaN               NaN   \n\n     history.chain_of_custody  \\\n0                         NaN   \n32                        NaN   \n41                        NaN   \n58                        NaN   \n87                        NaN   \n...                       ...   \n1197                      NaN   \n1202                      NaN   \n1210                      NaN   \n1262                      NaN   \n1278                      NaN   \n\n                                            vendor_link  \n0     http://cellbank.brc.riken.jp/cell_bank/CellInf...  \n32    http://cellbank.brc.riken.jp/cell_bank/CellInf...  \n41    http://cellbank.brc.riken.jp/cell_bank/CellInf...  \n58    http://cellbank.brc.riken.jp/cell_bank/CellInf...  \n87    http://cellbank.brc.riken.jp/cell_bank/CellInf...  \n...                                                 ...  \n1197  http://cellbank.brc.riken.jp/cell_bank/CellInf...  \n1202  http://cellbank.brc.riken.jp/cell_bank/CellInf...  \n1210  http://cellbank.brc.riken.jp/cell_bank/CellInf...  \n1262  http://cellbank.brc.riken.jp/cell_bank/CellInf...  \n1278  http://cellbank.brc.riken.jp/cell_bank/CellInf...  \n\n[71 rows x 522 columns]",
      "text/html": "<div>\n<style scoped>\n    .dataframe tbody tr th:only-of-type {\n        vertical-align: middle;\n    }\n\n    .dataframe tbody tr th {\n        vertical-align: top;\n    }\n\n    .dataframe thead th {\n        text-align: right;\n    }\n</style>\n<table border=\"1\" class=\"dataframe\">\n  <thead>\n    <tr style=\"text-align: right;\">\n      <th></th>\n      <th>catalog</th>\n      <th>model_id</th>\n      <th>depositor</th>\n      <th>originator</th>\n      <th>year of deposit</th>\n      <th>original cell</th>\n      <th>animal</th>\n      <th>genus</th>\n      <th>species</th>\n      <th>tissue</th>\n      <th>...</th>\n      <th>Pubmed id:2833349</th>\n      <th>Pubmed id:2820569</th>\n      <th>Pubmed id:3731124</th>\n      <th>Pubmed id:8314315</th>\n      <th>Pubmed id:8576285</th>\n      <th>Pubmed id:1922102</th>\n      <th>Pubmed id:1961183</th>\n      <th>Pubmed id:6962783</th>\n      <th>history.chain_of_custody</th>\n      <th>vendor_link</th>\n    </tr>\n  </thead>\n  <tbody>\n    <tr>\n      <th>0</th>\n      <td>RCB1901</td>\n      <td>SIDM01774</td>\n      <td>obinata, masuo</td>\n      <td>kobari, masao</td>\n      <td>2004</td>\n      <td>tkg0492</td>\n      <td>_human   &lt; mammals</td>\n      <td>homo</td>\n      <td>sapiens</td>\n      <td>pancreas</td>\n      <td>...</td>\n      <td>NaN</td>\n      <td>NaN</td>\n      <td>NaN</td>\n      <td>NaN</td>\n      <td>NaN</td>\n      <td>NaN</td>\n      <td>NaN</td>\n      <td>NaN</td>\n      <td>NaN</td>\n      <td>http://cellbank.brc.riken.jp/cell_bank/CellInf...</td>\n    </tr>\n    <tr>\n      <th>32</th>\n      <td>RCB0443</td>\n      <td>SIDM00234</td>\n      <td>ichimura, hiroshi</td>\n      <td>ichimura, hiroshi</td>\n      <td>1989</td>\n      <td>NaN</td>\n      <td>_human   &lt; mammals</td>\n      <td>homo</td>\n      <td>sapiens</td>\n      <td>cervix</td>\n      <td>...</td>\n      <td>NaN</td>\n      <td>NaN</td>\n      <td>NaN</td>\n      <td>NaN</td>\n      <td>NaN</td>\n      <td>NaN</td>\n      <td>NaN</td>\n      <td>NaN</td>\n      <td>NaN</td>\n      <td>http://cellbank.brc.riken.jp/cell_bank/CellInf...</td>\n    </tr>\n    <tr>\n      <th>41</th>\n      <td>RCB0444</td>\n      <td>SIDM00307</td>\n      <td>akiyama, mitoshi</td>\n      <td>akiyama, mitoshi</td>\n      <td>1989</td>\n      <td>NaN</td>\n      <td>_human   &lt; mammals</td>\n      <td>homo</td>\n      <td>sapiens</td>\n      <td>lung</td>\n      <td>...</td>\n      <td>NaN</td>\n      <td>NaN</td>\n      <td>NaN</td>\n      <td>NaN</td>\n      <td>NaN</td>\n      <td>NaN</td>\n      <td>NaN</td>\n      <td>NaN</td>\n      <td>NaN</td>\n      <td>http://cellbank.brc.riken.jp/cell_bank/CellInf...</td>\n    </tr>\n    <tr>\n      <th>58</th>\n      <td>RCB1129</td>\n      <td>SIDM00252</td>\n      <td>todoroki, t. &amp; ohno, t.</td>\n      <td>todoroki, t. &amp; ohno, t. &amp; kim, b.</td>\n      <td>1994</td>\n      <td>NaN</td>\n      <td>_human   &lt; mammals</td>\n      <td>homo</td>\n      <td>sapiens</td>\n      <td>gallbladder, lymph node meta</td>\n      <td>...</td>\n      <td>NaN</td>\n      <td>NaN</td>\n      <td>NaN</td>\n      <td>NaN</td>\n      <td>NaN</td>\n      <td>NaN</td>\n      <td>NaN</td>\n      <td>NaN</td>\n      <td>NaN</td>\n      <td>http://cellbank.brc.riken.jp/cell_bank/CellInf...</td>\n    </tr>\n    <tr>\n      <th>87</th>\n      <td>RCB1062</td>\n      <td>SIDM01368</td>\n      <td>okabe, tetsuro</td>\n      <td>okabe, tetsuro</td>\n      <td>1994</td>\n      <td>NaN</td>\n      <td>_human   &lt; mammals</td>\n      <td>homo</td>\n      <td>sapiens</td>\n      <td>stomach, lymph node meta</td>\n      <td>...</td>\n      <td>NaN</td>\n      <td>NaN</td>\n      <td>NaN</td>\n      <td>NaN</td>\n      <td>NaN</td>\n      <td>NaN</td>\n      <td>NaN</td>\n      <td>NaN</td>\n      <td>NaN</td>\n      <td>http://cellbank.brc.riken.jp/cell_bank/CellInf...</td>\n    </tr>\n    <tr>\n      <th>...</th>\n      <td>...</td>\n      <td>...</td>\n      <td>...</td>\n      <td>...</td>\n      <td>...</td>\n      <td>...</td>\n      <td>...</td>\n      <td>...</td>\n      <td>...</td>\n      <td>...</td>\n      <td>...</td>\n      <td>...</td>\n      <td>...</td>\n      <td>...</td>\n      <td>...</td>\n      <td>...</td>\n      <td>...</td>\n      <td>...</td>\n      <td>...</td>\n      <td>...</td>\n      <td>...</td>\n    </tr>\n    <tr>\n      <th>1197</th>\n      <td>RCB1182</td>\n      <td>SIDM01259</td>\n      <td>tsuchiya, hiroyuki</td>\n      <td>soheir s. el-sonbaty</td>\n      <td>1995</td>\n      <td>tanoue</td>\n      <td>_human   &lt; mammals</td>\n      <td>homo</td>\n      <td>sapiens</td>\n      <td>blood</td>\n      <td>...</td>\n      <td>NaN</td>\n      <td>NaN</td>\n      <td>NaN</td>\n      <td>NaN</td>\n      <td>NaN</td>\n      <td>NaN</td>\n      <td>NaN</td>\n      <td>NaN</td>\n      <td>NaN</td>\n      <td>http://cellbank.brc.riken.jp/cell_bank/CellInf...</td>\n    </tr>\n    <tr>\n      <th>1202</th>\n      <td>RCB1200</td>\n      <td>SIDM01242</td>\n      <td>katayama, hiroshi</td>\n      <td>katayama, hiroshi</td>\n      <td>1996</td>\n      <td>NaN</td>\n      <td>_human   &lt; mammals</td>\n      <td>homo</td>\n      <td>sapiens</td>\n      <td>melanoma, ascites meta</td>\n      <td>...</td>\n      <td>NaN</td>\n      <td>NaN</td>\n      <td>NaN</td>\n      <td>NaN</td>\n      <td>NaN</td>\n      <td>NaN</td>\n      <td>NaN</td>\n      <td>NaN</td>\n      <td>NaN</td>\n      <td>http://cellbank.brc.riken.jp/cell_bank/CellInf...</td>\n    </tr>\n    <tr>\n      <th>1210</th>\n      <td>RCB1179</td>\n      <td>SIDM01753</td>\n      <td>imanishi, hiroyasu</td>\n      <td>imanishi, hiroyasu</td>\n      <td>1995</td>\n      <td>NaN</td>\n      <td>_human   &lt; mammals</td>\n      <td>homo</td>\n      <td>sapiens</td>\n      <td>stomach, ascites meta</td>\n      <td>...</td>\n      <td>NaN</td>\n      <td>NaN</td>\n      <td>NaN</td>\n      <td>NaN</td>\n      <td>NaN</td>\n      <td>NaN</td>\n      <td>NaN</td>\n      <td>NaN</td>\n      <td>NaN</td>\n      <td>http://cellbank.brc.riken.jp/cell_bank/CellInf...</td>\n    </tr>\n    <tr>\n      <th>1262</th>\n      <td>RCB0469</td>\n      <td>SIDM00293</td>\n      <td>terasaki, takeo</td>\n      <td>tsumuraya, m. &amp; nakajima, t.</td>\n      <td>1990</td>\n      <td>NaN</td>\n      <td>_human   &lt; mammals</td>\n      <td>homo</td>\n      <td>sapiens</td>\n      <td>lung</td>\n      <td>...</td>\n      <td>NaN</td>\n      <td>NaN</td>\n      <td>NaN</td>\n      <td>NaN</td>\n      <td>NaN</td>\n      <td>NaN</td>\n      <td>NaN</td>\n      <td>NaN</td>\n      <td>NaN</td>\n      <td>http://cellbank.brc.riken.jp/cell_bank/CellInf...</td>\n    </tr>\n    <tr>\n      <th>1278</th>\n      <td>RCB1951</td>\n      <td>SIDM00249</td>\n      <td>obinata, masuo</td>\n      <td>nishihira, tetsuro (akaishi, t.)</td>\n      <td>2004</td>\n      <td>tkg0266</td>\n      <td>_human   &lt; mammals</td>\n      <td>homo</td>\n      <td>sapiens</td>\n      <td>esophagus</td>\n      <td>...</td>\n      <td>NaN</td>\n      <td>NaN</td>\n      <td>NaN</td>\n      <td>NaN</td>\n      <td>NaN</td>\n      <td>NaN</td>\n      <td>NaN</td>\n      <td>NaN</td>\n      <td>NaN</td>\n      <td>http://cellbank.brc.riken.jp/cell_bank/CellInf...</td>\n    </tr>\n  </tbody>\n</table>\n<p>71 rows × 522 columns</p>\n</div>"
     },
     "execution_count": 1124,
     "metadata": {},
     "output_type": "execute_result"
    }
   ],
   "source": [
    "merged[merged['vendor_link'].str.contains('cellbank.brc.riken.jp')]"
   ],
   "metadata": {
    "collapsed": false,
    "ExecuteTime": {
     "end_time": "2024-04-16T09:08:07.404198Z",
     "start_time": "2024-04-16T09:08:07.234735Z"
    }
   },
   "execution_count": 1124
  },
  {
   "cell_type": "code",
   "outputs": [
    {
     "data": {
      "text/plain": "       model_id model_name model_name_aliases       type  parent_id  \\\n0     SIDM01774      PK-59       Not provided  Cell Line        NaN   \n1     SIDM00192   SNU-1033       Not provided  Cell Line        NaN   \n2     SIDM01447    SNU-466       Not provided  Cell Line        NaN   \n3     SIDM01554  IST-MES-2       Not provided  Cell Line        NaN   \n4     SIDM01689     MUTZ-5       Not provided  Cell Line        NaN   \n...         ...        ...                ...        ...        ...   \n1927  SIDM02153      MM485       Not provided  Cell Line        NaN   \n1928  SIDM02155       NZM3       Not provided  Cell Line        NaN   \n1929  SIDM02157    WM3772F       Not provided  Cell Line        NaN   \n1930  SIDM02159       HAP1       Not provided  Cell Line  SIDM02121   \n1931  SIDM01339      SLR24       Not provided  Cell Line  SIDM01851   \n\n     origin_patient_sample_id growth_properties      media_id  growth_media  \\\n0                         NaN          Adherent  Not provided  Not provided   \n1                         NaN          Adherent  Not provided  Not provided   \n2                         NaN          Adherent  Not provided  Not provided   \n3                         NaN          Adherent  Not provided  Not provided   \n4                         NaN        Suspension  Not provided  Not provided   \n...                       ...               ...           ...           ...   \n1927                      NaN          Adherent  Not provided  Not provided   \n1928                      NaN          Adherent  Not provided  Not provided   \n1929                      NaN          Adherent  Not provided  Not provided   \n1930                SIDS02033          Adherent  Not provided  Not provided   \n1931                SIDS01788          Adherent  Not provided  Not provided   \n\n     plate_coating  ...                                       publications  \\\n0     Not provided  ...  PMID: 26589293,PMID: 25877200,PMID: 22460905,P...   \n1     Not provided  ...  PMID: 26589293,PMID: 10674020,PMID: 19956504,P...   \n2     Not provided  ...  PMID: 26589293,PMID: 22460905,PMID: 19956504,P...   \n3     Not provided  ...  PMID: 26589293,PMID: 22460905,PMID: 10232421,P...   \n4     Not provided  ...  PMID: 26589293,PMID: 22460905,PMID: 30285677,P...   \n...            ...  ...                                                ...   \n1927  Not provided  ...                                      PMID: 3127479   \n1928  Not provided  ...                                                NaN   \n1929  Not provided  ...                                                NaN   \n1930  Not provided  ...                                                NaN   \n1931  Not provided  ...  PMID: 25984343,PMID: 19470766,PMID: 12907621,P...   \n\n               supplier supplier_type   catalog_number  \\\n0                 RIKEN    Commercial          RCB1901   \n1                  KCLB    Commercial            01033   \n2                  KCLB    Commercial            00466   \n3                  ICLC    Commercial         HTL01007   \n4                  DSMZ    Commercial          ACC-490   \n...                 ...           ...              ...   \n1927              ECACC    Commercial         11072803   \n1928              ECACC    Commercial         17020204   \n1929           Rockland    Commercial  WM3772F-01-0001   \n1930  Horizon Discovery    Commercial             C631   \n1931       Not provided  Not provided     Not provided   \n\n                                            vendor_link          rrid  \\\n0     http://cellbank.brc.riken.jp/cell_bank/CellInf...     CVCL_4897   \n1     https://cellbank.snu.ac.kr/main/tmpl/sub_main....     CVCL_5002   \n2     https://cellbank.snu.ac.kr/main/tmpl/sub_main....     CVCL_5064   \n3     http://www.iclc.it/details/det_list.php?line_i...     CVCL_1312   \n4     https://www.dsmz.de/collection/catalogue/detai...     CVCL_1873   \n...                                                 ...           ...   \n1927                                       Not provided  Not provided   \n1928                                       Not provided  Not provided   \n1929                                       Not provided  Not provided   \n1930                                       Not provided  Not provided   \n1931                                       Not provided     CVCL_V610   \n\n                                           external_ids  \\\n0          ACH-000205,CVCL_4897,CCLE_Name:PK59_PANCREAS   \n1     ACH-000286,CVCL_5002,CCLE_Name:SNU1033_LARGE_I...   \n2     ACH-000289,CVCL_5064,CCLE_Name:SNU466_CENTRAL_...   \n3         ACH-000331,CVCL_1312,CCLE_Name:ISTMES2_PLEURA   \n4     ACH-000492,CVCL_1873,CCLE_Name:MUTZ5_HAEMATOPO...   \n...                                                 ...   \n1927                           COSMIC1206009,ACH-001973   \n1928                           COSMIC1660299,ACH-001982   \n1929                                         ACH-002687   \n1930                                         ACH-002475   \n1931        ACH-000272,CVCL_V610,CCLE_Name:SLR24_KIDNEY   \n\n                                               comments STR_analysis  \\\n0     STR Profile: Amelogenin: X; CSF1PO: 10; D3S135...          Yes   \n1     STR Profile: Amelogenin: X; CSF1PO: 10; D1S165...          Yes   \n2     STR Profile: Amelogenin: X,Y; CSF1PO: 12; D3S1...          Yes   \n3     STR Profile: Amelogenin: X,Y; CSF1PO: 10,11; D...          Yes   \n4     STR Profile: Amelogenin: X; CSF1PO: 8,9; D2S13...          Yes   \n...                                                 ...          ...   \n1927                                                NaN                \n1928                                                NaN                \n1929                                                NaN                \n1930  HAP1 is a subclone of KBM7 which is haploid ex...                \n1931  STR Profile: Amelogenin: X; CSF1PO: 10,12; D5S...          Yes   \n\n                                 cell_line_provider_url  \n0     http://cellbank.brc.riken.jp/cell_bank/CellInf...  \n1     https://cellbank.snu.ac.kr/main/tmpl/sub_main....  \n2     https://cellbank.snu.ac.kr/main/tmpl/sub_main....  \n3     http://www.iclc.it/details/det_list.php?line_i...  \n4     https://www.dsmz.de/collection/catalogue/detai...  \n...                                                 ...  \n1927                                                NaN  \n1928                                                NaN  \n1929                                                NaN  \n1930                                                NaN  \n1931                                       Not provided  \n\n[1932 rows x 27 columns]",
      "text/html": "<div>\n<style scoped>\n    .dataframe tbody tr th:only-of-type {\n        vertical-align: middle;\n    }\n\n    .dataframe tbody tr th {\n        vertical-align: top;\n    }\n\n    .dataframe thead th {\n        text-align: right;\n    }\n</style>\n<table border=\"1\" class=\"dataframe\">\n  <thead>\n    <tr style=\"text-align: right;\">\n      <th></th>\n      <th>model_id</th>\n      <th>model_name</th>\n      <th>model_name_aliases</th>\n      <th>type</th>\n      <th>parent_id</th>\n      <th>origin_patient_sample_id</th>\n      <th>growth_properties</th>\n      <th>media_id</th>\n      <th>growth_media</th>\n      <th>plate_coating</th>\n      <th>...</th>\n      <th>publications</th>\n      <th>supplier</th>\n      <th>supplier_type</th>\n      <th>catalog_number</th>\n      <th>vendor_link</th>\n      <th>rrid</th>\n      <th>external_ids</th>\n      <th>comments</th>\n      <th>STR_analysis</th>\n      <th>cell_line_provider_url</th>\n    </tr>\n  </thead>\n  <tbody>\n    <tr>\n      <th>0</th>\n      <td>SIDM01774</td>\n      <td>PK-59</td>\n      <td>Not provided</td>\n      <td>Cell Line</td>\n      <td>NaN</td>\n      <td>NaN</td>\n      <td>Adherent</td>\n      <td>Not provided</td>\n      <td>Not provided</td>\n      <td>Not provided</td>\n      <td>...</td>\n      <td>PMID: 26589293,PMID: 25877200,PMID: 22460905,P...</td>\n      <td>RIKEN</td>\n      <td>Commercial</td>\n      <td>RCB1901</td>\n      <td>http://cellbank.brc.riken.jp/cell_bank/CellInf...</td>\n      <td>CVCL_4897</td>\n      <td>ACH-000205,CVCL_4897,CCLE_Name:PK59_PANCREAS</td>\n      <td>STR Profile: Amelogenin: X; CSF1PO: 10; D3S135...</td>\n      <td>Yes</td>\n      <td>http://cellbank.brc.riken.jp/cell_bank/CellInf...</td>\n    </tr>\n    <tr>\n      <th>1</th>\n      <td>SIDM00192</td>\n      <td>SNU-1033</td>\n      <td>Not provided</td>\n      <td>Cell Line</td>\n      <td>NaN</td>\n      <td>NaN</td>\n      <td>Adherent</td>\n      <td>Not provided</td>\n      <td>Not provided</td>\n      <td>Not provided</td>\n      <td>...</td>\n      <td>PMID: 26589293,PMID: 10674020,PMID: 19956504,P...</td>\n      <td>KCLB</td>\n      <td>Commercial</td>\n      <td>01033</td>\n      <td>https://cellbank.snu.ac.kr/main/tmpl/sub_main....</td>\n      <td>CVCL_5002</td>\n      <td>ACH-000286,CVCL_5002,CCLE_Name:SNU1033_LARGE_I...</td>\n      <td>STR Profile: Amelogenin: X; CSF1PO: 10; D1S165...</td>\n      <td>Yes</td>\n      <td>https://cellbank.snu.ac.kr/main/tmpl/sub_main....</td>\n    </tr>\n    <tr>\n      <th>2</th>\n      <td>SIDM01447</td>\n      <td>SNU-466</td>\n      <td>Not provided</td>\n      <td>Cell Line</td>\n      <td>NaN</td>\n      <td>NaN</td>\n      <td>Adherent</td>\n      <td>Not provided</td>\n      <td>Not provided</td>\n      <td>Not provided</td>\n      <td>...</td>\n      <td>PMID: 26589293,PMID: 22460905,PMID: 19956504,P...</td>\n      <td>KCLB</td>\n      <td>Commercial</td>\n      <td>00466</td>\n      <td>https://cellbank.snu.ac.kr/main/tmpl/sub_main....</td>\n      <td>CVCL_5064</td>\n      <td>ACH-000289,CVCL_5064,CCLE_Name:SNU466_CENTRAL_...</td>\n      <td>STR Profile: Amelogenin: X,Y; CSF1PO: 12; D3S1...</td>\n      <td>Yes</td>\n      <td>https://cellbank.snu.ac.kr/main/tmpl/sub_main....</td>\n    </tr>\n    <tr>\n      <th>3</th>\n      <td>SIDM01554</td>\n      <td>IST-MES-2</td>\n      <td>Not provided</td>\n      <td>Cell Line</td>\n      <td>NaN</td>\n      <td>NaN</td>\n      <td>Adherent</td>\n      <td>Not provided</td>\n      <td>Not provided</td>\n      <td>Not provided</td>\n      <td>...</td>\n      <td>PMID: 26589293,PMID: 22460905,PMID: 10232421,P...</td>\n      <td>ICLC</td>\n      <td>Commercial</td>\n      <td>HTL01007</td>\n      <td>http://www.iclc.it/details/det_list.php?line_i...</td>\n      <td>CVCL_1312</td>\n      <td>ACH-000331,CVCL_1312,CCLE_Name:ISTMES2_PLEURA</td>\n      <td>STR Profile: Amelogenin: X,Y; CSF1PO: 10,11; D...</td>\n      <td>Yes</td>\n      <td>http://www.iclc.it/details/det_list.php?line_i...</td>\n    </tr>\n    <tr>\n      <th>4</th>\n      <td>SIDM01689</td>\n      <td>MUTZ-5</td>\n      <td>Not provided</td>\n      <td>Cell Line</td>\n      <td>NaN</td>\n      <td>NaN</td>\n      <td>Suspension</td>\n      <td>Not provided</td>\n      <td>Not provided</td>\n      <td>Not provided</td>\n      <td>...</td>\n      <td>PMID: 26589293,PMID: 22460905,PMID: 30285677,P...</td>\n      <td>DSMZ</td>\n      <td>Commercial</td>\n      <td>ACC-490</td>\n      <td>https://www.dsmz.de/collection/catalogue/detai...</td>\n      <td>CVCL_1873</td>\n      <td>ACH-000492,CVCL_1873,CCLE_Name:MUTZ5_HAEMATOPO...</td>\n      <td>STR Profile: Amelogenin: X; CSF1PO: 8,9; D2S13...</td>\n      <td>Yes</td>\n      <td>https://www.dsmz.de/collection/catalogue/detai...</td>\n    </tr>\n    <tr>\n      <th>...</th>\n      <td>...</td>\n      <td>...</td>\n      <td>...</td>\n      <td>...</td>\n      <td>...</td>\n      <td>...</td>\n      <td>...</td>\n      <td>...</td>\n      <td>...</td>\n      <td>...</td>\n      <td>...</td>\n      <td>...</td>\n      <td>...</td>\n      <td>...</td>\n      <td>...</td>\n      <td>...</td>\n      <td>...</td>\n      <td>...</td>\n      <td>...</td>\n      <td>...</td>\n      <td>...</td>\n    </tr>\n    <tr>\n      <th>1927</th>\n      <td>SIDM02153</td>\n      <td>MM485</td>\n      <td>Not provided</td>\n      <td>Cell Line</td>\n      <td>NaN</td>\n      <td>NaN</td>\n      <td>Adherent</td>\n      <td>Not provided</td>\n      <td>Not provided</td>\n      <td>Not provided</td>\n      <td>...</td>\n      <td>PMID: 3127479</td>\n      <td>ECACC</td>\n      <td>Commercial</td>\n      <td>11072803</td>\n      <td>Not provided</td>\n      <td>Not provided</td>\n      <td>COSMIC1206009,ACH-001973</td>\n      <td>NaN</td>\n      <td></td>\n      <td>NaN</td>\n    </tr>\n    <tr>\n      <th>1928</th>\n      <td>SIDM02155</td>\n      <td>NZM3</td>\n      <td>Not provided</td>\n      <td>Cell Line</td>\n      <td>NaN</td>\n      <td>NaN</td>\n      <td>Adherent</td>\n      <td>Not provided</td>\n      <td>Not provided</td>\n      <td>Not provided</td>\n      <td>...</td>\n      <td>NaN</td>\n      <td>ECACC</td>\n      <td>Commercial</td>\n      <td>17020204</td>\n      <td>Not provided</td>\n      <td>Not provided</td>\n      <td>COSMIC1660299,ACH-001982</td>\n      <td>NaN</td>\n      <td></td>\n      <td>NaN</td>\n    </tr>\n    <tr>\n      <th>1929</th>\n      <td>SIDM02157</td>\n      <td>WM3772F</td>\n      <td>Not provided</td>\n      <td>Cell Line</td>\n      <td>NaN</td>\n      <td>NaN</td>\n      <td>Adherent</td>\n      <td>Not provided</td>\n      <td>Not provided</td>\n      <td>Not provided</td>\n      <td>...</td>\n      <td>NaN</td>\n      <td>Rockland</td>\n      <td>Commercial</td>\n      <td>WM3772F-01-0001</td>\n      <td>Not provided</td>\n      <td>Not provided</td>\n      <td>ACH-002687</td>\n      <td>NaN</td>\n      <td></td>\n      <td>NaN</td>\n    </tr>\n    <tr>\n      <th>1930</th>\n      <td>SIDM02159</td>\n      <td>HAP1</td>\n      <td>Not provided</td>\n      <td>Cell Line</td>\n      <td>SIDM02121</td>\n      <td>SIDS02033</td>\n      <td>Adherent</td>\n      <td>Not provided</td>\n      <td>Not provided</td>\n      <td>Not provided</td>\n      <td>...</td>\n      <td>NaN</td>\n      <td>Horizon Discovery</td>\n      <td>Commercial</td>\n      <td>C631</td>\n      <td>Not provided</td>\n      <td>Not provided</td>\n      <td>ACH-002475</td>\n      <td>HAP1 is a subclone of KBM7 which is haploid ex...</td>\n      <td></td>\n      <td>NaN</td>\n    </tr>\n    <tr>\n      <th>1931</th>\n      <td>SIDM01339</td>\n      <td>SLR24</td>\n      <td>Not provided</td>\n      <td>Cell Line</td>\n      <td>SIDM01851</td>\n      <td>SIDS01788</td>\n      <td>Adherent</td>\n      <td>Not provided</td>\n      <td>Not provided</td>\n      <td>Not provided</td>\n      <td>...</td>\n      <td>PMID: 25984343,PMID: 19470766,PMID: 12907621,P...</td>\n      <td>Not provided</td>\n      <td>Not provided</td>\n      <td>Not provided</td>\n      <td>Not provided</td>\n      <td>CVCL_V610</td>\n      <td>ACH-000272,CVCL_V610,CCLE_Name:SLR24_KIDNEY</td>\n      <td>STR Profile: Amelogenin: X; CSF1PO: 10,12; D5S...</td>\n      <td>Yes</td>\n      <td>Not provided</td>\n    </tr>\n  </tbody>\n</table>\n<p>1932 rows × 27 columns</p>\n</div>"
     },
     "execution_count": 1161,
     "metadata": {},
     "output_type": "execute_result"
    }
   ],
   "source": [
    "cmp_sheet"
   ],
   "metadata": {
    "collapsed": false,
    "ExecuteTime": {
     "end_time": "2024-04-17T08:04:13.828353Z",
     "start_time": "2024-04-17T08:04:13.675247Z"
    }
   },
   "execution_count": 1161
  },
  {
   "cell_type": "code",
   "outputs": [],
   "source": [],
   "metadata": {
    "collapsed": false
   }
  }
 ],
 "metadata": {
  "kernelspec": {
   "display_name": "Python 3",
   "language": "python",
   "name": "python3"
  },
  "language_info": {
   "codemirror_mode": {
    "name": "ipython",
    "version": 2
   },
   "file_extension": ".py",
   "mimetype": "text/x-python",
   "name": "python",
   "nbconvert_exporter": "python",
   "pygments_lexer": "ipython2",
   "version": "2.7.6"
  }
 },
 "nbformat": 4,
 "nbformat_minor": 4
}
