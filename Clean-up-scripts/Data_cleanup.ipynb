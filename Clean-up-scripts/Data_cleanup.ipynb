{
 "cells": [
  {
   "cell_type": "markdown",
   "metadata": {
    "collapsed": false
   },
   "source": [
    "### Package imports"
   ]
  },
  {
   "cell_type": "code",
   "execution_count": 4,
   "metadata": {
    "collapsed": false,
    "ExecuteTime": {
     "end_time": "2023-12-12T11:55:21.729686Z",
     "start_time": "2023-12-12T11:55:21.723768Z"
    }
   },
   "outputs": [],
   "source": [
    "from os import listdir, getcwd, rename, makedirs\n",
    "from os.path import isfile, join, isdir, exists\n",
    "import pandas as pd\n",
    "import logging\n",
    "from PIL import Image\n",
    "from tqdm import tqdm"
   ]
  },
  {
   "cell_type": "markdown",
   "metadata": {
    "collapsed": false
   },
   "source": [
    "### Common functions"
   ]
  },
  {
   "cell_type": "code",
   "execution_count": 2,
   "metadata": {
    "collapsed": false,
    "ExecuteTime": {
     "end_time": "2023-12-12T11:55:21.714086Z",
     "start_time": "2023-12-12T11:55:21.709013Z"
    }
   },
   "outputs": [],
   "source": [
    "def get_dirs(path):\n",
    "    return [f for f in listdir(path) if isdir(join(path, f))]\n",
    "\n",
    "def get_files(path):\n",
    "    return [f for f in listdir(path) if isfile(join(path, f))]\n",
    "\n",
    "def read_metadata_without_fields(path):\n",
    "    metadata = pd.read_csv(path, sep='\\t', na_values=\"\", low_memory=False)\n",
    "    if 'Field' in metadata.columns:\n",
    "        metadata = metadata.loc[metadata.Field.str.startswith('#') != True,].reset_index(drop=True)\n",
    "        metadata = metadata.drop('Field', axis=1)\n",
    "    return metadata\n",
    "\n",
    "def read_metadata_with_fields(path):\n",
    "    metadata = pd.read_csv(path, sep='\\t', na_values=\"\", low_memory=False)\n",
    "    return metadata\n",
    "\n",
    "\n",
    "def sort_case_insensitive(sort_list):\n",
    "    return sorted(sort_list, key=str.casefold)\n"
   ]
  },
  {
   "cell_type": "markdown",
   "metadata": {
    "collapsed": false
   },
   "source": [
    "### Common env"
   ]
  },
  {
   "cell_type": "code",
   "execution_count": 3,
   "metadata": {
    "collapsed": false,
    "ExecuteTime": {
     "end_time": "2023-12-12T11:55:21.729304Z",
     "start_time": "2023-12-12T11:55:21.716373Z"
    }
   },
   "outputs": [],
   "source": [
    "start_dir = getcwd()\n",
    "home = \"/Users/tushar/CancerModels/pdxfinder-data/data/UPDOG/\""
   ]
  },
  {
   "cell_type": "markdown",
   "source": [
    "## Generate XLSX"
   ],
   "metadata": {
    "collapsed": false
   }
  },
  {
   "cell_type": "code",
   "execution_count": 6,
   "outputs": [],
   "source": [
    "def generate_xlsx(path, provider):\n",
    "    file_list = get_files(path)\n",
    "    new_path = path.replace('/Users/tushar/CancerModels/pdxfinder-data/data/UPDOG/', '/Users/tushar/CancerModels/pdxfinder-data/data/data-submission/')\n",
    "    if not exists(new_path):\n",
    "        makedirs(new_path)\n",
    "    files_to_extract = [f for f in file_list if f.endswith('.tsv') and f.__contains__(provider+'_metadata-')]\n",
    "    if len(files_to_extract)>0:\n",
    "        print(\"writing excel for: \"+ provider)\n",
    "        with pd.ExcelWriter(join(new_path, provider+\"_metadata.xlsx\")) as writer:\n",
    "            for f in files_to_extract:\n",
    "                print(\"\\tSheet added: \" + f)\n",
    "                metadata = read_metadata_with_fields(join(path, f))\n",
    "                sheetname = f.replace(provider+\"_metadata-\", \"\").replace(\".tsv\", \"\")\n",
    "                metadata.to_excel(writer, sheet_name=sheetname, index=False)\n",
    "                \n",
    "    else:\n",
    "        print(\"No .xlsx file found.\")"
   ],
   "metadata": {
    "collapsed": false,
    "ExecuteTime": {
     "end_time": "2023-09-25T09:45:56.511555Z",
     "start_time": "2023-09-25T09:45:56.496742Z"
    }
   }
  },
  {
   "cell_type": "code",
   "execution_count": 9,
   "outputs": [
    {
     "name": "stdout",
     "output_type": "stream",
     "text": [
      "writing excel for: BROD\n",
      "\tSheet added: BROD_metadata-patient_sample.tsv\n",
      "\tSheet added: BROD_metadata-model_validation.tsv\n",
      "\tSheet added: BROD_metadata-cell_model.tsv\n",
      "\tSheet added: BROD_metadata-patient.tsv\n",
      "\tSheet added: BROD_metadata-sharing.tsv\n",
      "writing excel for: CCIA\n",
      "\tSheet added: CCIA_metadata-model_validation.tsv\n",
      "\tSheet added: CCIA_metadata-pdx_model.tsv\n",
      "\tSheet added: CCIA_metadata-patient_sample.tsv\n",
      "\tSheet added: CCIA_metadata-sharing.tsv\n",
      "\tSheet added: CCIA_metadata-patient.tsv\n",
      "writing excel for: CHOP\n",
      "\tSheet added: CHOP_metadata-patient_sample.tsv\n",
      "\tSheet added: CHOP_metadata-pdx_model.tsv\n",
      "\tSheet added: CHOP_metadata-model_validation.tsv\n",
      "\tSheet added: CHOP_metadata-sharing.tsv\n",
      "\tSheet added: CHOP_metadata-patient.tsv\n",
      "writing excel for: CMP\n",
      "\tSheet added: CMP_metadata-patient_sample.tsv\n",
      "\tSheet added: CMP_metadata-sharing.tsv\n",
      "\tSheet added: CMP_metadata-patient.tsv\n",
      "\tSheet added: CMP_metadata-model_validation.tsv\n",
      "\tSheet added: CMP_metadata-cell_model.tsv\n",
      "writing excel for: CRL\n",
      "\tSheet added: CRL_metadata-model_validation.tsv\n",
      "\tSheet added: CRL_metadata-patient_sample.tsv\n",
      "\tSheet added: CRL_metadata-sharing.tsv\n",
      "\tSheet added: CRL_metadata-patient.tsv\n",
      "\tSheet added: CRL_metadata-pdx_model.tsv\n",
      "writing excel for: CSHL\n",
      "\tSheet added: CSHL_metadata-patient.tsv\n",
      "\tSheet added: CSHL_metadata-sharing.tsv\n",
      "\tSheet added: CSHL_metadata-patient_sample.tsv\n",
      "\tSheet added: CSHL_metadata-model_validation.tsv\n",
      "\tSheet added: CSHL_metadata-cell_model.tsv\n",
      "writing excel for: Curie-BC\n",
      "\tSheet added: Curie-BC_metadata-pdx_model.tsv\n",
      "\tSheet added: Curie-BC_metadata-model_validation.tsv\n",
      "\tSheet added: Curie-BC_metadata-patient.tsv\n",
      "\tSheet added: Curie-BC_metadata-sharing.tsv\n",
      "\tSheet added: Curie-BC_metadata-cell_model.tsv\n",
      "\tSheet added: Curie-BC_metadata-patient_sample.tsv\n",
      "writing excel for: Curie-LC\n",
      "\tSheet added: Curie-LC_metadata-sharing.tsv\n",
      "\tSheet added: Curie-LC_metadata-patient.tsv\n",
      "\tSheet added: Curie-LC_metadata-model_validation.tsv\n",
      "\tSheet added: Curie-LC_metadata-pdx_model.tsv\n",
      "\tSheet added: Curie-LC_metadata-patient_sample.tsv\n",
      "writing excel for: Curie-OC\n",
      "\tSheet added: Curie-OC_metadata-model_validation.tsv\n",
      "\tSheet added: Curie-OC_metadata-pdx_model.tsv\n",
      "\tSheet added: Curie-OC_metadata-patient_sample.tsv\n",
      "\tSheet added: Curie-OC_metadata-patient.tsv\n",
      "\tSheet added: Curie-OC_metadata-sharing.tsv\n",
      "writing excel for: DFCI-CPDM\n",
      "\tSheet added: DFCI-CPDM_metadata-pdx_model.tsv\n",
      "\tSheet added: DFCI-CPDM_metadata-patient.tsv\n",
      "\tSheet added: DFCI-CPDM_metadata-sharing.tsv\n",
      "\tSheet added: DFCI-CPDM_metadata-patient_sample.tsv\n",
      "\tSheet added: DFCI-CPDM_metadata-model_validation.tsv\n",
      "writing excel for: GCCRI\n",
      "\tSheet added: GCCRI_metadata-pdx_model.tsv\n",
      "\tSheet added: GCCRI_metadata-patient.tsv\n",
      "\tSheet added: GCCRI_metadata-sharing.tsv\n",
      "\tSheet added: GCCRI_metadata-patient_sample.tsv\n",
      "\tSheet added: GCCRI_metadata-model_validation.tsv\n",
      "writing excel for: HCI-BCM\n",
      "\tSheet added: HCI-BCM_metadata-model_validation.tsv\n",
      "\tSheet added: HCI-BCM_metadata-patient_sample.tsv\n",
      "\tSheet added: HCI-BCM_metadata-pdx_model.tsv\n",
      "\tSheet added: HCI-BCM_metadata-patient.tsv\n",
      "\tSheet added: HCI-BCM_metadata-sharing.tsv\n",
      "writing excel for: IRCC-CRC\n",
      "\tSheet added: IRCC-CRC_metadata-model_validation.tsv\n",
      "\tSheet added: IRCC-CRC_metadata-sharing.tsv\n",
      "\tSheet added: IRCC-CRC_metadata-patient.tsv\n",
      "\tSheet added: IRCC-CRC_metadata-patient_sample.tsv\n",
      "\tSheet added: IRCC-CRC_metadata-pdx_model.tsv\n",
      "writing excel for: IRCC-GC\n",
      "\tSheet added: IRCC-GC_metadata-patient_sample.tsv\n",
      "\tSheet added: IRCC-GC_metadata-model_validation.tsv\n",
      "\tSheet added: IRCC-GC_metadata-patient.tsv\n",
      "\tSheet added: IRCC-GC_metadata-sharing.tsv\n",
      "\tSheet added: IRCC-GC_metadata-pdx_model.tsv\n",
      "writing excel for: JAX\n",
      "\tSheet added: JAX_metadata-model_validation.tsv\n",
      "\tSheet added: JAX_metadata-patient_sample.tsv\n",
      "\tSheet added: JAX_metadata-image_study.tsv\n",
      "\tSheet added: JAX_metadata-model_image.tsv\n",
      "\tSheet added: JAX_metadata-patient.tsv\n",
      "\tSheet added: JAX_metadata-pdx_model.tsv\n",
      "\tSheet added: JAX_metadata-sharing.tsv\n",
      "writing excel for: LIH\n",
      "\tSheet added: LIH_metadata-model_validation.tsv\n",
      "\tSheet added: LIH_metadata-patient_sample.tsv\n",
      "\tSheet added: LIH_metadata-sharing.tsv\n",
      "\tSheet added: LIH_metadata-patient.tsv\n",
      "\tSheet added: LIH_metadata-pdx_model.tsv\n",
      "writing excel for: LurieChildrens\n",
      "\tSheet added: LurieChildrens_metadata-sharing.tsv\n",
      "\tSheet added: LurieChildrens_metadata-patient.tsv\n",
      "\tSheet added: LurieChildrens_metadata-pdx_model.tsv\n",
      "\tSheet added: LurieChildrens_metadata-patient_sample.tsv\n",
      "\tSheet added: LurieChildrens_metadata-model_validation.tsv\n",
      "writing excel for: MDAnderson\n",
      "\tSheet added: MDAnderson_metadata-pdx_model.tsv\n",
      "\tSheet added: MDAnderson_metadata-model_validation.tsv\n",
      "\tSheet added: MDAnderson_metadata-patient.tsv\n",
      "\tSheet added: MDAnderson_metadata-sharing.tsv\n",
      "\tSheet added: MDAnderson_metadata-patient_sample.tsv\n",
      "writing excel for: MDAnderson-CCH\n",
      "\tSheet added: MDAnderson-CCH_metadata-model_validation.tsv\n",
      "\tSheet added: MDAnderson-CCH_metadata-pdx_model.tsv\n",
      "\tSheet added: MDAnderson-CCH_metadata-sharing.tsv\n",
      "\tSheet added: MDAnderson-CCH_metadata-patient.tsv\n",
      "\tSheet added: MDAnderson-CCH_metadata-patient_sample.tsv\n",
      "writing excel for: NKI\n",
      "\tSheet added: NKI_metadata-model_validation.tsv\n",
      "\tSheet added: NKI_metadata-pdx_model.tsv\n",
      "\tSheet added: NKI_metadata-patient_sample.tsv\n",
      "\tSheet added: NKI_metadata-sharing.tsv\n",
      "\tSheet added: NKI_metadata-patient.tsv\n",
      "writing excel for: PDMR\n",
      "\tSheet added: PDMR_metadata-model_validation.tsv\n",
      "\tSheet added: PDMR_metadata-pdx_model.tsv\n",
      "\tSheet added: PDMR_metadata-cell_model.tsv\n",
      "\tSheet added: PDMR_metadata-patient_sample.tsv\n",
      "\tSheet added: PDMR_metadata-sharing.tsv\n",
      "\tSheet added: PDMR_metadata-patient.tsv\n",
      "writing excel for: PMLB\n",
      "\tSheet added: PMLB_metadata-sharing.tsv\n",
      "\tSheet added: PMLB_metadata-patient.tsv\n",
      "\tSheet added: PMLB_metadata-pdx_model.tsv\n",
      "\tSheet added: PMLB_metadata-model_validation.tsv\n",
      "\tSheet added: PMLB_metadata-patient_sample.tsv\n",
      "writing excel for: SANG\n",
      "\tSheet added: SANG_metadata-patient.tsv\n",
      "\tSheet added: SANG_metadata-sharing.tsv\n",
      "\tSheet added: SANG_metadata-patient_sample.tsv\n",
      "\tSheet added: SANG_metadata-cell_model.tsv\n",
      "\tSheet added: SANG_metadata-model_validation.tsv\n",
      "writing excel for: SJCRH\n",
      "\tSheet added: SJCRH_metadata-pdx_model.tsv\n",
      "\tSheet added: SJCRH_metadata-patient_sample.tsv\n",
      "\tSheet added: SJCRH_metadata-model_validation.tsv\n",
      "\tSheet added: SJCRH_metadata-patient.tsv\n",
      "\tSheet added: SJCRH_metadata-sharing.tsv\n",
      "writing excel for: TRACE\n",
      "\tSheet added: TRACE_metadata-patient.tsv\n",
      "\tSheet added: TRACE_metadata-sharing.tsv\n",
      "\tSheet added: TRACE_metadata-model_validation.tsv\n",
      "\tSheet added: TRACE_metadata-patient_sample.tsv\n",
      "\tSheet added: TRACE_metadata-pdx_model.tsv\n",
      "writing excel for: UCD\n",
      "\tSheet added: UCD_metadata-pdx_model.tsv\n",
      "\tSheet added: UCD_metadata-patient_sample.tsv\n",
      "\tSheet added: UCD_metadata-model_validation.tsv\n",
      "\tSheet added: UCD_metadata-sharing.tsv\n",
      "\tSheet added: UCD_metadata-patient.tsv\n",
      "writing excel for: UMCG\n",
      "\tSheet added: UMCG_metadata-pdx_model.tsv\n",
      "\tSheet added: UMCG_metadata-sharing.tsv\n",
      "\tSheet added: UMCG_metadata-patient.tsv\n",
      "\tSheet added: UMCG_metadata-model_validation.tsv\n",
      "\tSheet added: UMCG_metadata-patient_sample.tsv\n",
      "writing excel for: UOC-BC\n",
      "\tSheet added: UOC-BC_metadata-model_validation.tsv\n",
      "\tSheet added: UOC-BC_metadata-patient.tsv\n",
      "\tSheet added: UOC-BC_metadata-sharing.tsv\n",
      "\tSheet added: UOC-BC_metadata-patient_sample.tsv\n",
      "\tSheet added: UOC-BC_metadata-pdx_model.tsv\n",
      "writing excel for: UOM-BC\n",
      "\tSheet added: UOM-BC_metadata-pdx_model.tsv\n",
      "\tSheet added: UOM-BC_metadata-model_validation.tsv\n",
      "\tSheet added: UOM-BC_metadata-patient_sample.tsv\n",
      "\tSheet added: UOM-BC_metadata-patient.tsv\n",
      "\tSheet added: UOM-BC_metadata-sharing.tsv\n",
      "writing excel for: VHIO-BC\n",
      "\tSheet added: VHIO-BC_metadata-model_validation.tsv\n",
      "\tSheet added: VHIO-BC_metadata-pdx_model.tsv\n",
      "\tSheet added: VHIO-BC_metadata-patient_sample.tsv\n",
      "\tSheet added: VHIO-BC_metadata-patient.tsv\n",
      "\tSheet added: VHIO-BC_metadata-sharing.tsv\n",
      "writing excel for: VHIO-CRC\n",
      "\tSheet added: VHIO-CRC_metadata-pdx_model.tsv\n",
      "\tSheet added: VHIO-CRC_metadata-model_validation.tsv\n",
      "\tSheet added: VHIO-CRC_metadata-patient_sample.tsv\n",
      "\tSheet added: VHIO-CRC_metadata-patient.tsv\n",
      "\tSheet added: VHIO-CRC_metadata-sharing.tsv\n",
      "writing excel for: VHIO-PC\n",
      "\tSheet added: VHIO-PC_metadata-patient.tsv\n",
      "\tSheet added: VHIO-PC_metadata-sharing.tsv\n",
      "\tSheet added: VHIO-PC_metadata-pdx_model.tsv\n",
      "\tSheet added: VHIO-PC_metadata-patient_sample.tsv\n",
      "\tSheet added: VHIO-PC_metadata-model_validation.tsv\n",
      "writing excel for: WUSTL\n",
      "\tSheet added: WUSTL_metadata-patient_sample.tsv\n",
      "\tSheet added: WUSTL_metadata-patient.tsv\n",
      "\tSheet added: WUSTL_metadata-sharing.tsv\n",
      "\tSheet added: WUSTL_metadata-pdx_model.tsv\n",
      "\tSheet added: WUSTL_metadata-model_validation.tsv\n",
      "writing excel for: Wistar-MDAnderson-Penn\n",
      "\tSheet added: Wistar-MDAnderson-Penn_metadata-pdx_model.tsv\n",
      "\tSheet added: Wistar-MDAnderson-Penn_metadata-patient.tsv\n",
      "\tSheet added: Wistar-MDAnderson-Penn_metadata-sharing.tsv\n",
      "\tSheet added: Wistar-MDAnderson-Penn_metadata-patient_sample.tsv\n",
      "\tSheet added: Wistar-MDAnderson-Penn_metadata-model_validation.tsv\n"
     ]
    }
   ],
   "source": [
    "for provider in sorted(get_dirs(home)): ## get_dirs will get the provider dirs in updog\n",
    "    #print(\"Working on provider: \"+provider)\n",
    "    generate_xlsx(join(home, provider), provider) ## File rename: pdx_models to pdx_model using the provider path"
   ],
   "metadata": {
    "collapsed": false,
    "ExecuteTime": {
     "end_time": "2023-09-25T09:48:26.443296Z",
     "start_time": "2023-09-25T09:48:07.702119Z"
    }
   }
  },
  {
   "cell_type": "code",
   "execution_count": null,
   "outputs": [],
   "source": [],
   "metadata": {
    "collapsed": false
   }
  },
  {
   "cell_type": "markdown",
   "metadata": {
    "collapsed": false
   },
   "source": [
    "## Collection site typo\n"
   ]
  },
  {
   "cell_type": "code",
   "execution_count": 24,
   "metadata": {
    "collapsed": false,
    "ExecuteTime": {
     "end_time": "2023-07-28T10:34:31.784469Z",
     "start_time": "2023-07-28T10:34:31.748925Z"
    }
   },
   "outputs": [],
   "source": [
    "def get_collection_site(path, provider, cs_df):\n",
    "    file_list = get_files(path)\n",
    "    files_to_extract = [f for f in file_list if f.endswith('_metadata-patient_sample.tsv')]\n",
    "    if len(files_to_extract)>0:\n",
    "        #print(\"Reading Patient sample for: \"+ provider)\n",
    "        for f in files_to_extract:\n",
    "            metadata = read_metadata_without_fields(join(path, f))\n",
    "            metadata['provider'] = provider\n",
    "            cs_df = pd.concat([cs_df, metadata[['collection_site', 'provider']]]).reset_index(drop=True)\n",
    "    else:\n",
    "        print(\"No file found.\")\n",
    "    return cs_df"
   ]
  },
  {
   "cell_type": "code",
   "execution_count": 58,
   "metadata": {
    "collapsed": false,
    "ExecuteTime": {
     "end_time": "2023-07-28T12:12:49.698244Z",
     "start_time": "2023-07-28T12:12:49.340528Z"
    }
   },
   "outputs": [],
   "source": [
    "PS_collection_site = pd.DataFrame()\n",
    "for provider in sorted(get_dirs(home)): ## get_dirs will get the provider dirs in updog\n",
    "    PS_collection_site = get_collection_site(join(home, provider), provider, PS_collection_site) ## File rename: pdx_models to pdx_model using the provider path\n",
    "Unique_CS = PS_collection_site.sort_values(by=['collection_site'], key=lambda col: col.str.lower()).drop_duplicates(subset=['provider', 'collection_site'], keep='first').reset_index(drop=True)"
   ]
  },
  {
   "cell_type": "code",
   "execution_count": 59,
   "outputs": [
    {
     "data": {
      "text/plain": "['4th ventricle',\n 'Abdomen',\n 'Abdomen Ascites',\n 'Abdominal',\n 'Abdominal Cavity',\n 'Abdominal Mass',\n 'Abdominal Wall',\n 'Abdominopelvic Cavity',\n 'Adrenal',\n 'Adrenal Cortex',\n 'Adrenal Gland',\n 'Adrenal Mass',\n 'Adrenal Resection',\n 'Adrenal Tissue',\n 'Alveolus',\n 'Ampulla',\n 'Ampulla of Vater',\n 'Anal',\n 'Anus',\n 'Aortocaval',\n 'Arm',\n 'Ascending Colon',\n 'Ascites',\n 'Ascites fluid',\n 'Axilla',\n 'Axillary Lymph Node',\n 'Back',\n 'Back Mass',\n 'Back soft tissue',\n 'Base Of Tongue',\n 'Bilateral',\n 'Bile Duct',\n 'Biliary Tract',\n 'Bladder',\n 'Bladder Dome',\n 'Blood',\n 'Bone',\n 'Bone (Left Proximal Humerus)',\n 'Bone (right humerus)',\n 'Bone Marrow',\n 'Bowel',\n 'Brachial Muscle',\n 'Brain',\n 'Brain (Right Cerebellum, Right Parietal)',\n 'Brain Stem',\n 'Breast',\n 'Bronchus',\n 'Buccal Mucosa',\n 'Buttock',\n 'Caecum',\n 'Calf',\n 'Cecum',\n 'Cerebellar Tentorium',\n 'Cerebellum',\n 'Cerebral hemisphere',\n 'Cerebrospinal fluid ',\n 'Cerebrum',\n 'Cervical endometrium',\n 'Cervical Lymph Node',\n 'Cervical lymph node',\n 'Cervical node',\n 'Cervical oesophagus',\n 'Cervix',\n 'Chest',\n 'Chest Mass',\n 'Chest wall',\n 'Chest Wall',\n 'Chest Wall/Subcutaneous Mass Ribs 3-6',\n 'Clivus',\n 'CNS',\n 'Colon',\n 'Colon NOS',\n 'Colon, Sigmoid',\n 'Common Bile Duct',\n 'Common duct node',\n 'Connective Tissue',\n 'Descending Colon',\n 'Diaphragm',\n 'Digestive/Gastrointestinal',\n 'Distal Esophagus (Lower Thoracic Esophagus)',\n 'Distal Esophagus And Proximal Stomach',\n 'Distal femur',\n 'Distal pancreas/spleen',\n 'Distal Transverse Colon',\n 'Duodenum',\n 'Endometrium',\n 'Erythroleukemia blasts',\n 'Eso-Intrathorasic Lymph Node',\n 'Esophagastric Junction',\n 'Esophageal',\n 'Esophageal Lymph Node',\n 'Esophagus',\n 'Esophagus - distal third',\n 'Esophagus / Lung',\n 'Esophagus Supraclavicular Lymph Node',\n 'Extrahepatic bile duct',\n 'Eye',\n 'Eye ',\n 'Femalelank Mass',\n 'Femur',\n 'Femur ',\n 'Floor Of Mouth',\n 'Frontal Brain lobe',\n 'Frontal Cortex',\n 'Frontal Lobe',\n 'Gall Bladder',\n 'Gastric',\n 'gastric fundus',\n 'Gastric Peritoneal Noule',\n 'Gastro-oesophageal junction (cardia)',\n 'Gastroesophageal Junction',\n 'Gastroesophageal Junction ',\n 'Genitourinary',\n 'Glottis',\n 'Groin lymph node',\n 'Hard Palate',\n 'HCI-032 PDX',\n 'HCI-040 PDX',\n 'Head',\n 'Hepatic Duct Bifurcation',\n 'Hepatic Flexure of Colon',\n 'Hollow Bone',\n 'Humerus',\n 'Humerus ',\n 'Hypopharynx',\n 'Ileocecal Valve',\n 'Ileum',\n 'Iliac Node (Groin)',\n 'Ilium',\n 'Inferior leg ',\n 'Infratemporal fossa',\n 'Inguinal Lymph Node',\n 'Inguinal Mass',\n 'Innominate Bone',\n 'Intracranial',\n 'Intrahepatic Duct',\n 'intraperitoneal cavity',\n 'Jaw',\n 'Jejunum/Ilium',\n 'Kidney',\n 'Kidney  ',\n 'Larynx',\n 'Larynx (Glottic)',\n 'Larynx (Subglottic)',\n 'Left Breast',\n 'Left Colon',\n 'Left Distal Femur',\n 'Left Femur',\n 'Left Kidney',\n 'Left Knee',\n 'Left Leg',\n 'Left Lower Lobe Lung',\n 'Left Lower Lung Lobe',\n 'Left Lung',\n 'Left Occipital mass',\n 'Left parieto-occipital lobe',\n 'Left Posterior Shoulder',\n 'Left Proximal Tibia',\n 'Left supraclavicular lymph node',\n 'Left supraclavicular region',\n 'Left Temple',\n 'Left temporal lobe',\n 'Left thigh',\n 'Left Upper And Lower Lobe Lung',\n 'Left Upper Lobe Lung',\n 'Left Upper Lobe Lung Invasive Into Bronchus And Lower Lobe',\n 'Left ureter',\n 'Left Vulva',\n 'Leg',\n 'Leukapheresis',\n 'Liver',\n 'Liver ',\n 'Liver & Lung',\n 'Liver metastasis',\n 'Liver, Left Lobe',\n 'Local Lymph Node',\n 'Lower Alveolus And Gingiva',\n 'Lower Back',\n 'Lower Extremity',\n 'Lower Gingiva',\n 'Lower intrathoracic oesophagus',\n 'Lower Left Lobe Lung',\n 'Lower Lobe, Lung',\n 'Lower right lung lobe',\n 'Lung',\n 'Lung ',\n 'Lung Lymph Node',\n 'Lung mass',\n 'Lung metastasis',\n 'lung metastasis',\n 'Lung/pleura',\n 'Lymph Node',\n 'Lymph Node ',\n 'Lymphatic system',\n 'Mammary gland',\n 'Mammary Gland',\n 'Mammary gland/duct',\n 'Maxilla',\n 'Mediastinal Lymph Node',\n 'Mediastinum',\n 'Mesenteric Lymph Node',\n 'Mesenterium',\n 'Middle intrathoracic oesophagus',\n 'Middle Lobe, Lung',\n 'Mouth',\n 'Mouth floor',\n 'Mouth Floor',\n 'Muscle',\n 'Neck',\n 'Neck ',\n 'Neck Mass',\n 'Neck of the urinary bladder',\n 'NET / Axillary Lymph Node',\n 'Neural',\n 'Not collected',\n 'Not Collected',\n 'Not Provided',\n 'Not provided',\n 'Not reported',\n 'Occipital Lobe',\n 'Oesophagus',\n 'Omentum',\n 'Oral Alveolus',\n 'Oral Cavity',\n 'Oral floor',\n 'Oral, gingiva',\n 'Orbit',\n 'Orbit ',\n 'Oropharynx',\n 'Os frontalis',\n 'Other',\n 'Ovary',\n 'Pancreas',\n 'Pancreas ',\n 'Pancreatic body',\n 'Pancreatic duct',\n 'Pancreatic head',\n 'Pancreatic NET & Liver',\n 'Pancreatic tail',\n 'Paracaval Lymph Node',\n 'Paracentesis',\n 'Paragastric Lymph Node',\n 'Parapharyngeal',\n 'Pararenal lymph node',\n 'Paraspinal mass',\n 'Paraspinal mass ',\n 'Paraspinal mass resection',\n 'Paratesticular',\n 'Parathyroid / Neck',\n 'Paratracheal Lymph Node',\n 'Parietal Lobe',\n 'Pelvic',\n 'Pelvic Mass',\n 'Pelvis',\n 'Peri-Rectal Mass',\n 'Pericardial Effusion',\n 'Pericardial fluid',\n 'Pericardium',\n 'Perineum',\n 'Peripheral Blood',\n 'Peripheral Fluid',\n 'Peritoneal',\n 'Peritoneal & Ascites',\n 'Peritoneal Ascites',\n 'Peritoneal ascitic fluid ',\n 'Peritoneal Cavity',\n 'Peritoneal cavity',\n 'Peritoneal Effusion',\n 'Peritoneal Fluid',\n 'Peritoneal mass',\n 'Peritoneum',\n 'Peritracheal ',\n 'Pharynx',\n 'Pineal',\n 'Placenta',\n 'Pleura',\n 'Pleural cavity',\n 'Pleural Cavity',\n 'Pleural Effusion',\n 'Pleural effusion',\n 'Pleural Effusion fluid',\n 'Pleural Fluid',\n 'Pleural fluid',\n 'Pontine meninges ',\n 'Post Mortem Blood',\n 'Post Mortem Liver ',\n 'Post-Cricoid',\n 'Posterior Fossa',\n 'Posterior mediastinum',\n 'Primary Colon',\n 'Primary Colon & Liver',\n 'Primary Colon L',\n 'Primary Colon R',\n 'Primary Colon Recto-Sigmoid',\n 'Primary Colon Sigmoid',\n 'Primary Tumour',\n 'Prostate',\n 'Prostate gland',\n 'Pyloric lymph nodes',\n 'Rectal / Abdomen',\n 'Rectosigmoid junction',\n 'Rectum',\n 'Rectum And Distal Sigmoid',\n 'Renal',\n 'Renal Pelvis',\n 'Renal pelvis',\n 'Respiratory/Thoracic',\n 'Retro-peritoneal Lymph Node',\n 'Retromolar Trigone',\n 'Retroperitoneal embroyonal tumour',\n 'Retroperitoneal Lymph Node',\n 'Retroperitoneal Mass',\n 'Retroperitoneum',\n 'Retroperitoneum ',\n 'Right Axillary lymph node',\n 'Right Axillary Lymph Node',\n 'Right Breast',\n 'Right Breast metastasis',\n 'Right Buttock',\n 'Right Cheek',\n 'Right colon',\n 'Right Colon',\n 'Right Distal Femur',\n 'Right femur/rib/vertebra',\n 'Right frontal parieto-occipital cortex',\n 'Right Humerus',\n 'Right Inguinal Mass',\n 'Right Kidney',\n 'Right Lower Lobe',\n 'Right Lower Lobe Lung',\n 'Right Neck mass',\n 'Right parietal lobe',\n 'Right Parietal Lobe',\n 'Right Popliteal',\n 'Right Proximal Ulna',\n 'Right Sylvian Fissure',\n 'Right temporal lobe',\n 'Right upper lobe lung',\n 'Right Upper Lobe Lung',\n 'Sacral bone',\n 'Sacral Bone',\n 'Sacral Vertebrae',\n 'Salivary gland',\n 'Scalp',\n 'Scalp And Right Parotid',\n 'Scapula',\n 'Shoulder',\n 'Shoulder Tumour',\n 'Sigmoid',\n 'Sigmoid Colon',\n 'Sigmoid colon',\n 'Sigmoid Colon And Distal Anastomotic Margin',\n 'Sigmoid/Rectum',\n 'Skeletal Muscle',\n 'Skin',\n 'Skin  ',\n 'Skin (Lower Leg)',\n 'Skin Back',\n 'Skin Of Breast',\n 'Skin, Left Thigh',\n 'Skin, Left Upper Back',\n 'Skin, Right Leg',\n 'Skin, Right Posterior Arm',\n 'Small intestine',\n 'Small Intestine',\n 'Soft tissue',\n 'Soft Tissue',\n 'Soft Tissue, Left Lateral Mallelos',\n 'Spinal Fluid',\n 'Spine',\n 'Spleen',\n 'Splenic Flexure Of Colon',\n 'Splenic Flexure of Colon',\n 'Sternal Mass',\n 'Stomach',\n 'stomach',\n 'Stomach ',\n 'Stomach (NOS)',\n 'Subcutaneous Plasmacytoma',\n 'Subcutaneous tissue',\n 'Submaxillary salivary gland',\n 'subserosa of fallopian tube',\n 'Superior leg ',\n 'Supra-orbital area',\n 'Supra-Orbital Area',\n 'Supraclavicular',\n 'Supraclavicular Fossa',\n 'Supraclavicular lymph node',\n 'Supraglottis',\n 'Synovium',\n 'Temporal Cortex',\n 'Temporal Lobe',\n 'Temporo-Occipital Lobe',\n 'Testes ',\n 'Testis',\n 'Thalamus',\n 'Thigh',\n 'Thigh ',\n 'Thigh muscle',\n 'Thoracic Lymph Node',\n 'Thoracic Mass',\n 'Thorax',\n 'Thumb ',\n 'Thyroid',\n 'Thyroid (Retrosternal mass)',\n 'Tibia',\n 'Tongue',\n 'Tonsil',\n 'Transverse',\n 'Transverse And Left Colon',\n 'Transverse colon',\n 'Transverse Colon',\n 'Umbilicus',\n 'Under Finger Nail',\n 'Upper (cervical) oesophagus',\n 'Upper Limb NOS',\n 'Upper Lobe, Lung',\n 'Upper maxilla',\n 'Upper Mid Descending Colon',\n 'Urinary Bladder',\n 'Uterine Body',\n 'Uterine cervix',\n 'Uterine Cervix',\n 'Uterine Corpus',\n 'Uterus',\n 'Uveal Melanoma',\n 'Vagina',\n 'Ventricular mass',\n 'Vertebral bone',\n 'Vulva']"
     },
     "execution_count": 59,
     "metadata": {},
     "output_type": "execute_result"
    }
   ],
   "source": [
    "sort_case_insensitive(list(PS_collection_site.collection_site.unique()))"
   ],
   "metadata": {
    "collapsed": false,
    "ExecuteTime": {
     "end_time": "2023-07-28T12:12:49.811209Z",
     "start_time": "2023-07-28T12:12:49.794138Z"
    }
   }
  },
  {
   "cell_type": "code",
   "execution_count": 56,
   "outputs": [
    {
     "data": {
      "text/plain": "['4th ventricle',\n 'Abdomen',\n 'Abdomen Ascites',\n 'Abdominal',\n 'Abdominal Cavity',\n 'Abdominal Mass',\n 'Abdominal Wall',\n 'Abdominopelvic Cavity',\n 'Adrenal',\n 'Adrenal Cortex',\n 'Adrenal Gland',\n 'Adrenal Mass',\n 'Adrenal Resection',\n 'Adrenal Tissue',\n 'Alveolus',\n 'Ampulla',\n 'Ampulla of Vater',\n 'Anal',\n 'Anus',\n 'Aortocaval',\n 'Arm',\n 'Ascending Colon',\n 'Ascites',\n 'Ascites ',\n 'Ascites fluid',\n 'Axilla',\n 'Axillary Lymph Node',\n 'Back',\n 'Back Mass',\n 'Back soft tissue',\n 'Base Of Tongue',\n 'Bilateral',\n 'Bile Duct',\n 'Biliary Tract',\n 'Bladder',\n 'Bladder Dome',\n 'Blood',\n 'Bone',\n 'Bone (Left Proximal Humerus)',\n 'Bone (right humerus)',\n 'Bone Marrow',\n 'Bowel',\n 'Brachial Muscle',\n 'Brain',\n 'Brain (Right Cerebellum, Right Parietal)',\n 'Brain Stem',\n 'Breast',\n 'Bronchus',\n 'Buccal Mucosa',\n 'Buttock',\n 'Caecum',\n 'Calf',\n 'Cecum',\n 'Cerebellar Tentorium',\n 'Cerebellum',\n 'Cerebral hemisphere',\n 'Cerebrospinal fluid ',\n 'Cerebrum',\n 'Cervical endometrium',\n 'Cervical Lymph Node',\n 'Cervical lymph node',\n 'Cervical node',\n 'Cervical oesophagus',\n 'Cervix',\n 'Chest',\n 'Chest Mass',\n 'Chest Wall',\n 'Chest wall',\n 'Chest Wall/Subcutaneous Mass Ribs 3-6',\n 'Clivus',\n 'CNS',\n 'Colon',\n 'Colon NOS',\n 'Colon, Sigmoid',\n 'Common Bile Duct',\n 'Common duct node',\n 'Connective Tissue',\n 'Descending Colon',\n 'Diaphragm',\n 'Digestive/Gastrointestinal',\n 'Distal Esophagus (Lower Thoracic Esophagus)',\n 'Distal Esophagus And Proximal Stomach',\n 'Distal femur',\n 'Distal pancreas/spleen',\n 'Distal Transverse Colon',\n 'Duodenum',\n 'Endometrium',\n 'Erythroleukemia blasts',\n 'Eso-Intrathorasic Lymph Node',\n 'Esophagastric Junction',\n 'Esophageal',\n 'Esophageal Lymph Node',\n 'Esophagus',\n 'Esophagus - distal third',\n 'Esophagus / Lung',\n 'Esophagus Supraclavicular Lymph Node',\n 'Extrahepatic bile duct',\n 'Eye',\n 'Eye ',\n 'Femalelank Mass',\n 'Femur',\n 'Femur ',\n 'Floor Of Mouth',\n 'Frontal Brain lobe',\n 'Frontal Cortex',\n 'Frontal Lobe',\n 'Gall Bladder',\n 'Gastric',\n 'gastric fundus',\n 'Gastric Peritoneal Noule',\n 'Gastro-oesophageal junction (cardia)',\n 'Gastroesophageal Junction',\n 'Gastroesophageal Junction ',\n 'Gastroesophagel Junction',\n 'Genitourinary',\n 'Glottis',\n 'Groin lymph node',\n 'Hard Palate',\n 'HCI-032 PDX',\n 'HCI-040 PDX',\n 'Head',\n 'Hepatic Duct Bifurcation',\n 'Hepatic Flexure of Colon',\n 'Hollow Bone',\n 'Humerus',\n 'Humerus ',\n 'Hypopharynx',\n 'Ileocecal Valve',\n 'Ileum',\n 'Iliac Node (Groin)',\n 'Ilium',\n 'Inferior leg ',\n 'Infratemporal fossa',\n 'Inguinal Lymph Node',\n 'Inguinal Mass',\n 'Innominate Bone',\n 'Intracranial',\n 'Intrahepatic Duct',\n 'intraperitoneal cavity',\n 'Jaw',\n 'Jejunum/Ilium',\n 'Kidney',\n 'Kidney  ',\n 'Larynx',\n 'Larynx (Glottic)',\n 'Larynx (Subglottic)',\n 'Left Breast',\n 'Left Colon',\n 'Left Distal Femur',\n 'Left Femur',\n 'Left Kidney',\n 'Left Knee',\n 'Left Leg',\n 'Left Lower Lobe Lung',\n 'Left Lower Lung Lobe',\n 'Left Lung',\n 'Left Occipital mass',\n 'Left parieto-occipital lobe',\n 'Left Posterior Shoulder',\n 'Left Proximal Tibia',\n 'Left supraclavicular lymph node',\n 'Left supraclavicular region',\n 'Left Temple',\n 'Left temporal lobe',\n 'Left thigh',\n 'Left Upper And Lower Lobe Lung',\n 'Left Upper Lobe Lung',\n 'Left Upper Lobe Lung Invasive Into Bronchus And Lower Lobe',\n 'Left ureter',\n 'Left Vulva',\n 'Leg',\n 'Leukapheresis',\n 'Liver',\n 'Liver ',\n 'Liver & Lung',\n 'Liver metastasis',\n 'Liver, Left Lobe',\n 'Local Lymph Node',\n 'Lower Alveolus And Gingiva',\n 'Lower Back',\n 'Lower Extremity',\n 'Lower Gingiva',\n 'Lower intrathoracic oesophagus',\n 'Lower Left Lobe Lung',\n 'Lower Lobe, Lung',\n 'Lower right lung lobe',\n 'Lung',\n 'Lung ',\n 'Lung Lymph Node',\n 'Lung mass',\n 'Lung metastasis',\n 'lung metastasis',\n 'Lung/pleura',\n 'Lymph Node',\n 'Lymph Node ',\n 'Lymphatic system',\n 'Mammary gland',\n 'Mammary Gland',\n 'Mammary gland/duct',\n 'Maxilla',\n 'Mediastinal Lymph Node',\n 'Mediastinum',\n 'Mesenteric Lymph Node',\n 'Mesenterium',\n 'Middle intrathoracic oesophagus',\n 'Middle Lobe, Lung',\n 'Mouth',\n 'Mouth floor',\n 'Mouth Floor',\n 'Muscle',\n 'Neck',\n 'Neck ',\n 'Neck Mass',\n 'Neck of the urinary bladder',\n 'NET / Axillary Lymph Node',\n 'Neural',\n 'Not collected',\n 'Not Collected',\n 'Not provided',\n 'Not Provided',\n 'Not reported',\n 'NS',\n 'Occipital Lobe',\n 'Oesophagus',\n 'Omentum',\n 'Oral Aveolus',\n 'Oral Cavity',\n 'Oral floor',\n 'Oral, gingiva',\n 'Orbit',\n 'Orbit ',\n 'Oropharynx',\n 'Os frontalis',\n 'Other',\n 'Ovary',\n 'Pancreas',\n 'Pancreas ',\n 'Pancreatic body',\n 'Pancreatic duct',\n 'Pancreatic head',\n 'Pancreatic NET & Liver',\n 'Pancreatic tail',\n 'Paracaval Lymph Node',\n 'Paracentesis',\n 'Paragastric Lymph Node',\n 'Parapharyngeal',\n 'Pararenal lymph node',\n 'Paraspinal mass',\n 'Paraspinal mass ',\n 'Paraspinal mass resection',\n 'Paratesticular',\n 'Parathyroid / Neck',\n 'Paratracheal Lymph Node',\n 'Parietal Lobe',\n 'Pelvic',\n 'Pelvic Mass',\n 'Pelvis',\n 'Peri-Rectal Mass',\n 'Pericardial Effusion',\n 'Pericardial fluid',\n 'Pericardium',\n 'Perineum',\n 'Peripheral Blood',\n 'Peripheral Fluid',\n 'Peritoneal',\n 'Peritoneal & Ascites',\n 'Peritoneal Ascites',\n 'Peritoneal ascitic fluid ',\n 'Peritoneal cavity',\n 'Peritoneal Cavity',\n 'Peritoneal Effusion',\n 'Peritoneal Fluid',\n 'Peritoneal mass',\n 'Peritoneum',\n 'Peritracheal ',\n 'Pharynx',\n 'Pineal',\n 'Placenta',\n 'Pleura',\n 'Pleural cavity',\n 'Pleural Cavity',\n 'Pleural effusion',\n 'Pleural Effusion',\n 'Pleural Effusion fluid',\n 'Pleural fluid',\n 'Pleural Fluid',\n 'Plueral Effusion',\n 'Pontine meninges ',\n 'Post Mortem Blood',\n 'Post Mortem Liver ',\n 'Post-Cricoid',\n 'Posterior Fossa',\n 'Posterior mediastinum',\n 'Primary Colon',\n 'Primary Colon & Liver',\n 'Primary Colon L',\n 'Primary Colon R',\n 'Primary Colon Recto-Sigmoid',\n 'Primary Colon Sigmoid',\n 'Primary Tumour',\n 'Prostate',\n 'Prostate gland',\n 'Pyloric lymph nodes',\n 'Rectal / Abdomen',\n 'Rectosigmoid junction',\n 'Rectum',\n 'Rectum And Distal Sigmoid',\n 'Renal',\n 'Renal pelvis',\n 'Renal Pelvis',\n 'Respiratory/Thoracic',\n 'Retro-peritoneal Lymph Node',\n 'Retromolar Trigone',\n 'Retroperitoneal embroyonal tumour',\n 'Retroperitoneal Lymph Node',\n 'Retroperitoneal Mass',\n 'Retroperitoneum',\n 'Retroperitoneum ',\n 'Right Axillary lymph node',\n 'Right Axillary Lymph Node',\n 'Right Breast',\n 'Right Breast metastasis',\n 'Right Buttock',\n 'Right Cheek',\n 'Right colon',\n 'Right Colon',\n 'Right Distal Femur',\n 'Right femur/rib/vertebra',\n 'Right frontal parieto-occipital cortex',\n 'Right Humerus',\n 'Right Inguinal Mass',\n 'Right Kidney',\n 'Right Lower Lobe',\n 'Right Lower Lobe Lung',\n 'Right Neck mass',\n 'Right parietal lobe',\n 'Right Parietal Lobe',\n 'Right Popliteal',\n 'Right Proximal Ulna',\n 'Right Sylvian Fissure',\n 'Right temporal lobe',\n 'Right Upper Lobe Lung',\n 'Right upper lobe lung',\n 'Sacral bone',\n 'Sacral Bone',\n 'Sacral Vertebrae',\n 'Salivary gland',\n 'Scalp',\n 'Scalp And Right Parotid',\n 'Scapula',\n 'Shoulder',\n 'Shoulder Tumour',\n 'Sigmoid',\n 'Sigmoid Colon',\n 'Sigmoid colon',\n 'Sigmoid Colon And Distal Anastomotic Margin',\n 'Sigmoid/Rectum',\n 'Skeletal Muscle',\n 'Skin',\n 'Skin  ',\n 'Skin (Lower Leg)',\n 'Skin Back',\n 'Skin Of Breast',\n 'Skin, Left Thigh',\n 'Skin, Left Upper Back',\n 'Skin, Right Leg',\n 'Skin, Right Posterior Arm',\n 'Small Intestine',\n 'Small intestine',\n 'Soft tissue',\n 'Soft Tissue',\n 'Soft Tissue, Left Lateral Mallelos',\n 'Spinal Fluid',\n 'Spine',\n 'Spleen',\n 'Splenic Flexure of Colon',\n 'Splenic Flexure Of Colon',\n 'Sternal Mass',\n 'stomach',\n 'Stomach',\n 'Stomach ',\n 'Stomach (NOS)',\n 'Subcutaneous Plasmacytoma',\n 'Subcutaneous tissue',\n 'Submaxillary salivary gland',\n 'subserosa of fallopian tube',\n 'Superior leg ',\n 'Supra-orbital area',\n 'Supra-Orbital Area',\n 'Supraclavicular',\n 'Supraclavicular Fossa',\n 'Supraclavicular lymph node',\n 'Supraglottis',\n 'Synovium',\n 'Temporal Cortex',\n 'Temporal Lobe',\n 'Temporo-Occipital Lobe',\n 'Testes ',\n 'Testis',\n 'Thalamus',\n 'Thigh',\n 'Thigh ',\n 'Thigh muscle',\n 'Thoracic Lymph Node',\n 'Thoracic Mass',\n 'Thorax',\n 'Thumb ',\n 'Thyroid',\n 'Thyroid (Retrosternal mass)',\n 'Tibia',\n 'Tongue',\n 'Tonsil',\n 'Transverse',\n 'Transverse And Left Colon',\n 'Transverse Colon',\n 'Transverse colon',\n 'Umbilicus',\n 'Under Finger Nail',\n 'Upper (cervical) oesophagus',\n 'Upper Limb NOS',\n 'Upper Lobe, Lung',\n 'Upper maxilla',\n 'Upper Mid Descending Colon',\n 'Urinary Bladder',\n 'Uterine Body',\n 'Uterine cervix',\n 'Uterine Cervix',\n 'Uterine Corpus',\n 'Uterus',\n 'Uveal Melanoma',\n 'Vagina',\n 'Ventricular mass',\n 'Vertebral bone',\n 'Vulva']"
     },
     "execution_count": 56,
     "metadata": {},
     "output_type": "execute_result"
    }
   ],
   "source": [
    "list(Unique_CS.collection_site.unique())"
   ],
   "metadata": {
    "collapsed": false,
    "ExecuteTime": {
     "end_time": "2023-07-28T12:05:43.217048Z",
     "start_time": "2023-07-28T12:05:43.201344Z"
    }
   }
  },
  {
   "cell_type": "code",
   "execution_count": null,
   "outputs": [],
   "source": [],
   "metadata": {
    "collapsed": false
   }
  },
  {
   "cell_type": "markdown",
   "source": [
    "## Data type STRING to Number"
   ],
   "metadata": {
    "collapsed": false
   }
  },
  {
   "cell_type": "code",
   "execution_count": 32,
   "outputs": [],
   "source": [
    "def change_data_type(path, provider, mol_type):\n",
    "    cols = {\"cna\": [\"log10r_cna\", \"log2r_cna\"],\n",
    "            \"mut\": [\"read_depth\"], ## \"allele_frequency\" and \"seq_start_position: cant be set as 0\n",
    "            \"expression\": [\"z_score\", \"rnaseq_tpm\", \"rnaseq_fpkm\", \"rnaseq_count\",\n",
    "                           \"affy_hgea_expression_value\", \"illumina_hgea_expression_value\"]} ## \"rnaseq_coverage\" cant be set as 0\n",
    "\n",
    "    file_list = get_files(path)\n",
    "    files_to_extract = [f for f in file_list if f.endswith('.tsv')]\n",
    "    fillcols = cols[mol_type]\n",
    "    if len(files_to_extract)>0:\n",
    "        print(\"Reading Patient sample for: \"+ provider)\n",
    "        for f in files_to_extract:\n",
    "            ## Implement some checks for expression columns\n",
    "            file_path = join(path, f)\n",
    "            metadata = read_metadata_without_fields(file_path)\n",
    "            metadata[fillcols] = metadata[fillcols].fillna(0)\n",
    "            metadata.to_csv(file_path, sep='\\t', index=False)\n",
    "    else:\n",
    "        print(provider + \": No file found.\")"
   ],
   "metadata": {
    "collapsed": false,
    "ExecuteTime": {
     "end_time": "2023-11-13T12:27:37.698155Z",
     "start_time": "2023-11-13T12:27:37.667453Z"
    }
   }
  },
  {
   "cell_type": "code",
   "execution_count": 33,
   "outputs": [
    {
     "name": "stdout",
     "output_type": "stream",
     "text": [
      "BROD: No file found.\n",
      "Reading Patient sample for: CCIA\n",
      "Reading Patient sample for: CHOP\n",
      "Reading Patient sample for: CMP\n",
      "Reading Patient sample for: CRL\n",
      "CSHL: No file found.\n",
      "Reading Patient sample for: CUIMC\n",
      "Curie-BC: No file found.\n",
      "Reading Patient sample for: Curie-LC\n",
      "Curie-OC: No file found.\n",
      "DFCI-CPDM: No file found.\n",
      "Reading Patient sample for: GCCRI\n",
      "HCI-BCM: No file found.\n",
      "HKU: No file found.\n",
      "Reading Patient sample for: IRCC-CRC\n",
      "Reading Patient sample for: IRCC-GC\n",
      "Reading Patient sample for: JAX\n",
      "Reading Patient sample for: LIH\n",
      "Reading Patient sample for: LurieChildrens\n",
      "MDAnderson: No file found.\n",
      "Reading Patient sample for: MDAnderson-CCH\n",
      "Reading Patient sample for: NKI\n",
      "PDMR: No file found.\n",
      "Reading Patient sample for: PMLB\n",
      "PMLB-Organoid: No file found.\n",
      "SANG: No file found.\n",
      "SJCRH: No file found.\n",
      "TRACE: No file found.\n",
      "UCD: No file found.\n",
      "UMCG: No file found.\n",
      "Reading Patient sample for: UOC-BC\n",
      "UOM-BC: No file found.\n",
      "VHIO-BC: No file found.\n",
      "VHIO-CRC: No file found.\n",
      "VHIO-PC: No file found.\n",
      "WUSTL: No file found.\n",
      "Wistar-MDAnderson-Penn: No file found.\n",
      "BROD: No file found.\n",
      "Reading Patient sample for: CCIA\n",
      "Reading Patient sample for: CHOP\n",
      "Reading Patient sample for: CMP\n",
      "Reading Patient sample for: CRL\n",
      "CSHL: No file found.\n",
      "Reading Patient sample for: CUIMC\n",
      "Curie-BC: No file found.\n",
      "Curie-LC: No file found.\n",
      "Curie-OC: No file found.\n",
      "DFCI-CPDM: No file found.\n",
      "Reading Patient sample for: GCCRI\n",
      "HCI-BCM: No file found.\n",
      "HKU: No file found.\n",
      "Reading Patient sample for: IRCC-CRC\n",
      "IRCC-GC: No file found.\n",
      "Reading Patient sample for: JAX\n",
      "Reading Patient sample for: LIH\n",
      "Reading Patient sample for: LurieChildrens\n",
      "MDAnderson: No file found.\n",
      "Reading Patient sample for: MDAnderson-CCH\n",
      "Reading Patient sample for: NKI\n",
      "Reading Patient sample for: PDMR\n",
      "PMLB: No file found.\n",
      "PMLB-Organoid: No file found.\n",
      "SANG: No file found.\n",
      "SJCRH: No file found.\n",
      "TRACE: No file found.\n",
      "UCD: No file found.\n",
      "UMCG: No file found.\n",
      "Reading Patient sample for: UOC-BC\n",
      "Reading Patient sample for: UOM-BC\n",
      "VHIO-BC: No file found.\n",
      "VHIO-CRC: No file found.\n",
      "VHIO-PC: No file found.\n",
      "WUSTL: No file found.\n",
      "Wistar-MDAnderson-Penn: No file found.\n"
     ]
    }
   ],
   "source": [
    "mol_types = [\"cna\", \"mut\", \"expression\"]\n",
    "for mol_type in mol_types:\n",
    "    for provider in sorted(get_dirs(home)): ## get_dirs will get the provider dirs in updog\n",
    "        change_data_type(join(home, provider, mol_type), provider, mol_type) ## File rename: pdx_models to pdx_model using the"
   ],
   "metadata": {
    "collapsed": false,
    "ExecuteTime": {
     "end_time": "2023-11-13T13:20:54.361359Z",
     "start_time": "2023-11-13T12:27:38.031933Z"
    }
   }
  },
  {
   "cell_type": "code",
   "execution_count": 41,
   "outputs": [
    {
     "name": "stdout",
     "output_type": "stream",
     "text": [
      "1. BROD: 42\n",
      "2. CCIA: 1\n",
      "3. CHOP: 1\n",
      "4. CMP: 2\n",
      "5. CRL: 1\n",
      "6. CSHL: 38\n",
      "7. CUIMC: 2\n",
      "8. Curie-BC: 5\n",
      "9. Curie-LC: 2\n",
      "10. GCCRI: 1\n",
      "11. IRCC-CRC: 1\n",
      "12. IRCC-GC: 1\n",
      "13. JAX: 354\n",
      "14. LIH: 2\n",
      "15. LurieChildrens: 1\n",
      "16. MDAnderson-CCH: 1\n",
      "17. NKI: 7\n",
      "18. PDMR: 2\n",
      "19. PMLB: 3\n",
      "20. TRACE: 2\n",
      "21. UOC-BC: 2\n",
      "22. UOM-BC: 1\n",
      "23. VHIO-CRC: 2\n",
      "49.375\n"
     ]
    }
   ],
   "source": [],
   "metadata": {
    "collapsed": false,
    "ExecuteTime": {
     "end_time": "2023-11-13T15:14:23.146850Z",
     "start_time": "2023-11-13T15:14:23.089394Z"
    }
   }
  },
  {
   "cell_type": "code",
   "execution_count": null,
   "outputs": [],
   "source": [],
   "metadata": {
    "collapsed": false
   }
  },
  {
   "cell_type": "markdown",
   "source": [
    "## JAX Histology Images\n",
    "### Generate file list"
   ],
   "metadata": {
    "collapsed": false
   }
  },
  {
   "cell_type": "code",
   "execution_count": 55,
   "outputs": [],
   "source": [
    "JAX_Image_file_path = \"/Users/tushar/CancerModels/submission/JAX - BIA/JAXPDXHistologyImageDetails.xlsx\"\n",
    "JAX_BIA_fileList_path = \"/Users/tushar/CancerModels/submission/JAX - BIA/JAX_PDX_BIA_fileList.xlsx\"\n",
    "input_path = \"/Users/tushar/CancerModels/submission/JAX - BIA/uploads\"\n",
    "output_path = \"/Users/tushar/CancerModels/submission/JAX - BIA/submission\""
   ],
   "metadata": {
    "collapsed": false,
    "ExecuteTime": {
     "end_time": "2023-08-16T20:53:47.645645Z",
     "start_time": "2023-08-16T20:53:47.632413Z"
    }
   }
  },
  {
   "cell_type": "code",
   "execution_count": 45,
   "outputs": [],
   "source": [
    "def process_JAX_histology_excel(excel_in):\n",
    "    JAX_BIA_file = pd.read_excel(excel_in).sort_values(\"model_id\").reset_index(drop=True)\n",
    "    JAX_BIA_file.loc[JAX_BIA_file.description.str.contains(\"PDX\"), \"sample_type\"] = \"pdx\"\n",
    "    JAX_BIA_file.loc[JAX_BIA_file.description.str.contains(\"Patient\"), \"sample_type\"] = \"patient\"\n",
    "    JAX_BIA_file['passage'] = JAX_BIA_file['description'].str[:2]\n",
    "    JAX_BIA_file.loc[JAX_BIA_file.sample_type == 'patient', \"passage\"] = \"-\"\n",
    "    JAX_BIA_file = JAX_BIA_file[JAX_BIA_file.sample_type == \"pdx\"]\n",
    "    return JAX_BIA_file\n",
    "\n",
    "def convert_JPEG_to_TIFF(in_file, out_file):\n",
    "    im = Image.open(in_file)\n",
    "    im.save(out_file, 'TIFF')\n",
    "\n",
    "\n",
    "def generate_TIFF_and_fileList(dataframe, in_path, out_path, df_out_file):\n",
    "    if not exists(out_path):\n",
    "        makedirs(out_path)\n",
    "    dataframe['Files'] = 'submission/'+ dataframe['model_id'] +\"/\"+ dataframe['file'].str.replace(\".jpg\", \".tiff\")\n",
    "    unique_models = dataframe.model_id.unique()\n",
    "    for i in tqdm(range(0, len(unique_models)), desc =\"Processing model images: \"):\n",
    "        model = unique_models[i]\n",
    "        new_path = join(out_path, model)\n",
    "        if not exists(new_path):\n",
    "            makedirs(new_path)\n",
    "        subset = dataframe[dataframe.model_id == model]\n",
    "        files = list(subset.file)\n",
    "        for file in files:\n",
    "            out_file = file.replace(\".jpg\", \".tiff\")\n",
    "            convert_JPEG_to_TIFF(join(in_path, file), join(new_path, out_file))\n",
    "    dataframe.to_excel(df_out_file, index=False)\n",
    "\n",
    "def organise_data_for_BIA_submission(excel_in, excel_out, file_in, file_out):\n",
    "    dataframe = process_JAX_histology_excel(excel_in)\n",
    "    generate_TIFF_and_fileList(dataframe, file_in, file_out, excel_out)\n"
   ],
   "metadata": {
    "collapsed": false,
    "ExecuteTime": {
     "end_time": "2023-11-22T11:32:57.756818Z",
     "start_time": "2023-11-22T11:32:57.721794Z"
    }
   }
  },
  {
   "cell_type": "code",
   "execution_count": 52,
   "outputs": [],
   "source": [
    "organise_data_for_BIA_submission(JAX_Image_file_path, JAX_BIA_fileList_path, input_path, output_path)"
   ],
   "metadata": {
    "collapsed": false,
    "ExecuteTime": {
     "end_time": "2023-11-23T16:45:05.129955Z",
     "start_time": "2023-11-23T16:45:05.052844Z"
    }
   }
  },
  {
   "cell_type": "code",
   "execution_count": 53,
   "outputs": [
    {
     "name": "stderr",
     "output_type": "stream",
     "text": [
      "Processing model images: 100%|██████████| 433/433 [00:56<00:00,  7.73it/s]\n"
     ]
    }
   ],
   "source": [
    "JAX_BIA_file['file'].str.replace(\".jpg\", \".tiff\")"
   ],
   "metadata": {
    "collapsed": false,
    "ExecuteTime": {
     "end_time": "2023-11-23T16:46:05.782253Z",
     "start_time": "2023-11-23T16:45:05.891257Z"
    }
   }
  },
  {
   "cell_type": "code",
   "execution_count": null,
   "outputs": [],
   "source": [],
   "metadata": {
    "collapsed": false,
    "ExecuteTime": {
     "end_time": "2023-11-23T16:44:56.638715Z",
     "start_time": "2023-11-23T16:44:56.610369Z"
    }
   }
  },
  {
   "cell_type": "markdown",
   "source": [
    "## LIH Gene expression data"
   ],
   "metadata": {
    "collapsed": false
   }
  },
  {
   "cell_type": "code",
   "execution_count": 30,
   "outputs": [],
   "source": [
    "path = \"/Users/tushar/CancerModels/submission/LIH/NORLUX_PDOX_gene_Expression/\"\n",
    "files = get_files(path)\n",
    "mol_sample = pd.read_csv(\"/Users/tushar/CancerModels/pdxfinder-data/data/UPDOG/LIH/LIH_molecular_metadata-sample.tsv\", sep='\\t')"
   ],
   "metadata": {
    "collapsed": false,
    "ExecuteTime": {
     "end_time": "2023-08-24T16:30:56.972051Z",
     "start_time": "2023-08-24T16:30:56.952096Z"
    }
   }
  },
  {
   "cell_type": "code",
   "execution_count": 34,
   "outputs": [
    {
     "name": "stderr",
     "output_type": "stream",
     "text": [
      "Processing gene expression data: 100%|██████████| 28/28 [04:00<00:00,  8.60s/it]\n"
     ]
    }
   ],
   "source": [
    "for i in tqdm(range(0, len(files)), desc =\"Processing gene expression data: \"):\n",
    "    f = files[i]\n",
    "    out_data = pd.read_csv(\"/Users/tushar/CancerModels/pdxfinder-data/template/active_templates/expression/expression_template-sheet.tsv\", sep=\"\\t\")\n",
    "    model = pd.read_excel(join(path, f))\n",
    "    out_data[out_data.columns] = model[out_data.columns]\n",
    "    out_data[\"platform_id\"] = \"expression_NovaSeq_6000\"\n",
    "    out_data.drop(['platform'], axis=1).to_csv( join(path, \"LIH_expression_\" + f.replace(\".xlsx\", \".tsv\")), sep=\"\\t\", index=False)\n",
    "    #print(model.iloc[0, [\"model_id\", \"sample_id\", \"sample_origin\", \"passage\", \"host_strain_nomenclature\"]])"
   ],
   "metadata": {
    "collapsed": false,
    "ExecuteTime": {
     "end_time": "2023-08-24T16:43:51.155037Z",
     "start_time": "2023-08-24T16:39:50.372193Z"
    }
   }
  },
  {
   "cell_type": "markdown",
   "source": [
    "# PIVOT mol data cleanup"
   ],
   "metadata": {
    "collapsed": false
   }
  },
  {
   "cell_type": "code",
   "execution_count": 7,
   "outputs": [],
   "source": [
    "PIVOT = [\"CCIA\",\"CHOP\", \"GCCRI\", \"LurieChildrens\", \"MDAnderson-CCH\"]"
   ],
   "metadata": {
    "collapsed": false,
    "ExecuteTime": {
     "end_time": "2023-10-13T15:32:41.605138Z",
     "start_time": "2023-10-13T15:32:41.541747Z"
    }
   }
  },
  {
   "cell_type": "code",
   "execution_count": 8,
   "outputs": [],
   "source": [
    "def float_2_int(col):\n",
    "    return [int(x) if x!= '' else x for x in col.fillna('')]\n",
    "def convert_amino_acid_position(value):\n",
    "    if isinstance(value, str):\n",
    "        # Split the string by non-numeric characters and take the first part\n",
    "        position_str = value[1:-1]  \n",
    "        if position_str.__contains__('-'):\n",
    "            return value[0] + str(position_str) + value[-1]\n",
    "        return value[0] + str(int(float(position_str))) + value[-1]\n",
    "    # Return NaN for non-matching or NaN values\n",
    "    return ''\n",
    "\n",
    "def drop_dec(path, dt):\n",
    "    for file in get_files(path):\n",
    "        fp = join(path, file)\n",
    "        data = pd.read_csv(fp, sep='\\t')\n",
    "        if dt == 'cna':\n",
    "          data.strand = data.strand.fillna(1.0).astype(int)\n",
    "          data.seq_start_position = float_2_int(data.seq_start_position)\n",
    "          data.seq_end_position = float_2_int(data.seq_end_position)\n",
    "          data.ncbi_gene_id = float_2_int(data.ncbi_gene_id)\n",
    "        elif dt == 'expression':\n",
    "            data.ensembl_gene_id = float_2_int(data.ensembl_gene_id)\n",
    "        elif dt == 'mut':\n",
    "            data['amino_acid_change'] = data['amino_acid_change'].apply(convert_amino_acid_position)\n",
    "        data = data.iloc[:, 1:]\n",
    "        data.to_csv(fp, sep='\\t', index=False)\n",
    "def drop_decimal(provider):\n",
    "    dirs = get_dirs(provider)\n",
    "    dt = ['cna', 'expression', 'mut']\n",
    "    for d in dt:\n",
    "        if d in dirs:\n",
    "            new_path = join(provider, d)\n",
    "            drop_dec(new_path, d)    "
   ],
   "metadata": {
    "collapsed": false,
    "ExecuteTime": {
     "end_time": "2023-10-13T15:32:42.012480Z",
     "start_time": "2023-10-13T15:32:41.981820Z"
    }
   }
  },
  {
   "cell_type": "code",
   "execution_count": 9,
   "outputs": [
    {
     "name": "stderr",
     "output_type": "stream",
     "text": [
      "Processing PIVOT data: 100%|██████████| 5/5 [03:29<00:00, 41.87s/it]\n"
     ]
    }
   ],
   "source": [
    "for i in tqdm(range(0, len(PIVOT)), desc =\"Processing PIVOT data: \"):\n",
    "    provider = PIVOT[i]\n",
    "    drop_decimal(join(home, provider))"
   ],
   "metadata": {
    "collapsed": false,
    "ExecuteTime": {
     "end_time": "2023-10-13T15:36:56.321656Z",
     "start_time": "2023-10-13T15:33:26.907669Z"
    }
   }
  },
  {
   "cell_type": "code",
   "execution_count": null,
   "outputs": [],
   "source": [],
   "metadata": {
    "collapsed": false
   }
  },
  {
   "cell_type": "code",
   "execution_count": 10,
   "outputs": [],
   "source": [
    "PDMR_path = join(home, \"PDMR/expression/\")"
   ],
   "metadata": {
    "collapsed": false,
    "ExecuteTime": {
     "end_time": "2023-10-30T12:50:06.814445Z",
     "start_time": "2023-10-30T12:50:06.788487Z"
    }
   }
  },
  {
   "cell_type": "code",
   "execution_count": 12,
   "outputs": [],
   "source": [
    "for f in get_files(PDMR_path):\n",
    "    data = read_metadata_with_fields(join(PDMR_path, f))\n",
    "    data.drop(\"platform\", axis=1, inplace=True)\n",
    "    data.to_csv(join(PDMR_path, f), index=False, sep='\\t')"
   ],
   "metadata": {
    "collapsed": false,
    "ExecuteTime": {
     "end_time": "2023-10-30T12:58:29.224985Z",
     "start_time": "2023-10-30T12:55:38.323354Z"
    }
   }
  },
  {
   "cell_type": "code",
   "execution_count": null,
   "outputs": [],
   "source": [],
   "metadata": {
    "collapsed": false
   }
  },
  {
   "cell_type": "code",
   "execution_count": 11,
   "outputs": [],
   "source": [
    "missing_ids = \"/Users/tushar/Downloads/model_molecular_metadata_202310301437.csv\"\n",
    "missing_ids = pd.read_csv(missing_ids).sort_values(\"data_source\").reset_index(drop=True)"
   ],
   "metadata": {
    "collapsed": false,
    "ExecuteTime": {
     "end_time": "2023-10-31T10:55:02.126004Z",
     "start_time": "2023-10-31T10:55:02.093397Z"
    }
   }
  },
  {
   "cell_type": "code",
   "execution_count": 36,
   "outputs": [
    {
     "data": {
      "text/plain": "          model_id data_source     source                sample_id  \\\n0         CRL-3044         CRL  xenograft  A4632_(GenomeWideSNP_6)   \n1         CRL-3039         CRL  xenograft  A6297_(GenomeWideSNP_6)   \n2         CRL-3040         CRL  xenograft  A8251_(GenomeWideSNP_6)   \n3         CRL-3036         CRL  xenograft  A9492_(GenomeWideSNP_6)   \n4         CRL-3039         CRL  xenograft  A8445_(GenomeWideSNP_6)   \n..             ...         ...        ...                      ...   \n240   834989-109-R        PDMR  xenograft      834989-109-R-G5YVH2   \n241   395191-088-T        PDMR  xenograft   395191-088-T-H5QU77W68   \n242  K41856-061-R2        PDMR  xenograft     K41856-061-R2-C61FU2   \n243   428932-153-R        PDMR    patient             428932-153-R   \n244   355891-322-R        PDMR  xenograft      355891-322-R-G9UG85   \n\n     xenograft_passage                 raw_data_url               data_type  \\\n0                  2.0  A4632_(GenomeWideSNP_6).CEL  copy number alteration   \n1                  0.0  A6297_(GenomeWideSNP_6).CEL  copy number alteration   \n2                  0.0  A8251_(GenomeWideSNP_6).CEL  copy number alteration   \n3                  1.0  A9492_(GenomeWideSNP_6).CEL  copy number alteration   \n4                  2.0  A8445_(GenomeWideSNP_6).CEL  copy number alteration   \n..                 ...                          ...                     ...   \n240                1.0                          NaN                mutation   \n241                2.0                          NaN                mutation   \n242               25.0                          NaN                mutation   \n243                NaN                   ERR4627966                mutation   \n244                1.0                          NaN                mutation   \n\n                                  platform_name  data_exists  data_restricted  \\\n0    Affymetrix Genome-Wide Human SNP Array 6.0        False             True   \n1    Affymetrix Genome-Wide Human SNP Array 6.0        False             True   \n2    Affymetrix Genome-Wide Human SNP Array 6.0        False             True   \n3    Affymetrix Genome-Wide Human SNP Array 6.0        False             True   \n4    Affymetrix Genome-Wide Human SNP Array 6.0        False             True   \n..                                          ...          ...              ...   \n240                    Illumina HiSeq 2000/2500        False            False   \n241                    Illumina HiSeq 2000/2500        False            False   \n242                    Illumina HiSeq 2000/2500        False            False   \n243                    Illumina HiSeq 2000/2500        False            False   \n244                    Illumina HiSeq 2000/2500        False            False   \n\n     molecular_characterization_id  \\\n0                    1726576853006   \n1                    3281355014163   \n2                    2972117368850   \n3                    3083786518542   \n4                    3118146256916   \n..                             ...   \n240                  3350074490895   \n241                  3375844294660   \n242                  1812476198916   \n243                   816043786241   \n244                  2336462209028   \n\n                                     external_db_links  \n0                                                   []  \n1                                                   []  \n2                                                   []  \n3                                                   []  \n4                                                   []  \n..                                                 ...  \n240                                                NaN  \n241                                                NaN  \n242                                                NaN  \n243  [{\"column\": \"raw_data_url\", \"resource\": \"ENA\",...  \n244                                                NaN  \n\n[245 rows x 12 columns]",
      "text/html": "<div>\n<style scoped>\n    .dataframe tbody tr th:only-of-type {\n        vertical-align: middle;\n    }\n\n    .dataframe tbody tr th {\n        vertical-align: top;\n    }\n\n    .dataframe thead th {\n        text-align: right;\n    }\n</style>\n<table border=\"1\" class=\"dataframe\">\n  <thead>\n    <tr style=\"text-align: right;\">\n      <th></th>\n      <th>model_id</th>\n      <th>data_source</th>\n      <th>source</th>\n      <th>sample_id</th>\n      <th>xenograft_passage</th>\n      <th>raw_data_url</th>\n      <th>data_type</th>\n      <th>platform_name</th>\n      <th>data_exists</th>\n      <th>data_restricted</th>\n      <th>molecular_characterization_id</th>\n      <th>external_db_links</th>\n    </tr>\n  </thead>\n  <tbody>\n    <tr>\n      <th>0</th>\n      <td>CRL-3044</td>\n      <td>CRL</td>\n      <td>xenograft</td>\n      <td>A4632_(GenomeWideSNP_6)</td>\n      <td>2.0</td>\n      <td>A4632_(GenomeWideSNP_6).CEL</td>\n      <td>copy number alteration</td>\n      <td>Affymetrix Genome-Wide Human SNP Array 6.0</td>\n      <td>False</td>\n      <td>True</td>\n      <td>1726576853006</td>\n      <td>[]</td>\n    </tr>\n    <tr>\n      <th>1</th>\n      <td>CRL-3039</td>\n      <td>CRL</td>\n      <td>xenograft</td>\n      <td>A6297_(GenomeWideSNP_6)</td>\n      <td>0.0</td>\n      <td>A6297_(GenomeWideSNP_6).CEL</td>\n      <td>copy number alteration</td>\n      <td>Affymetrix Genome-Wide Human SNP Array 6.0</td>\n      <td>False</td>\n      <td>True</td>\n      <td>3281355014163</td>\n      <td>[]</td>\n    </tr>\n    <tr>\n      <th>2</th>\n      <td>CRL-3040</td>\n      <td>CRL</td>\n      <td>xenograft</td>\n      <td>A8251_(GenomeWideSNP_6)</td>\n      <td>0.0</td>\n      <td>A8251_(GenomeWideSNP_6).CEL</td>\n      <td>copy number alteration</td>\n      <td>Affymetrix Genome-Wide Human SNP Array 6.0</td>\n      <td>False</td>\n      <td>True</td>\n      <td>2972117368850</td>\n      <td>[]</td>\n    </tr>\n    <tr>\n      <th>3</th>\n      <td>CRL-3036</td>\n      <td>CRL</td>\n      <td>xenograft</td>\n      <td>A9492_(GenomeWideSNP_6)</td>\n      <td>1.0</td>\n      <td>A9492_(GenomeWideSNP_6).CEL</td>\n      <td>copy number alteration</td>\n      <td>Affymetrix Genome-Wide Human SNP Array 6.0</td>\n      <td>False</td>\n      <td>True</td>\n      <td>3083786518542</td>\n      <td>[]</td>\n    </tr>\n    <tr>\n      <th>4</th>\n      <td>CRL-3039</td>\n      <td>CRL</td>\n      <td>xenograft</td>\n      <td>A8445_(GenomeWideSNP_6)</td>\n      <td>2.0</td>\n      <td>A8445_(GenomeWideSNP_6).CEL</td>\n      <td>copy number alteration</td>\n      <td>Affymetrix Genome-Wide Human SNP Array 6.0</td>\n      <td>False</td>\n      <td>True</td>\n      <td>3118146256916</td>\n      <td>[]</td>\n    </tr>\n    <tr>\n      <th>...</th>\n      <td>...</td>\n      <td>...</td>\n      <td>...</td>\n      <td>...</td>\n      <td>...</td>\n      <td>...</td>\n      <td>...</td>\n      <td>...</td>\n      <td>...</td>\n      <td>...</td>\n      <td>...</td>\n      <td>...</td>\n    </tr>\n    <tr>\n      <th>240</th>\n      <td>834989-109-R</td>\n      <td>PDMR</td>\n      <td>xenograft</td>\n      <td>834989-109-R-G5YVH2</td>\n      <td>1.0</td>\n      <td>NaN</td>\n      <td>mutation</td>\n      <td>Illumina HiSeq 2000/2500</td>\n      <td>False</td>\n      <td>False</td>\n      <td>3350074490895</td>\n      <td>NaN</td>\n    </tr>\n    <tr>\n      <th>241</th>\n      <td>395191-088-T</td>\n      <td>PDMR</td>\n      <td>xenograft</td>\n      <td>395191-088-T-H5QU77W68</td>\n      <td>2.0</td>\n      <td>NaN</td>\n      <td>mutation</td>\n      <td>Illumina HiSeq 2000/2500</td>\n      <td>False</td>\n      <td>False</td>\n      <td>3375844294660</td>\n      <td>NaN</td>\n    </tr>\n    <tr>\n      <th>242</th>\n      <td>K41856-061-R2</td>\n      <td>PDMR</td>\n      <td>xenograft</td>\n      <td>K41856-061-R2-C61FU2</td>\n      <td>25.0</td>\n      <td>NaN</td>\n      <td>mutation</td>\n      <td>Illumina HiSeq 2000/2500</td>\n      <td>False</td>\n      <td>False</td>\n      <td>1812476198916</td>\n      <td>NaN</td>\n    </tr>\n    <tr>\n      <th>243</th>\n      <td>428932-153-R</td>\n      <td>PDMR</td>\n      <td>patient</td>\n      <td>428932-153-R</td>\n      <td>NaN</td>\n      <td>ERR4627966</td>\n      <td>mutation</td>\n      <td>Illumina HiSeq 2000/2500</td>\n      <td>False</td>\n      <td>False</td>\n      <td>816043786241</td>\n      <td>[{\"column\": \"raw_data_url\", \"resource\": \"ENA\",...</td>\n    </tr>\n    <tr>\n      <th>244</th>\n      <td>355891-322-R</td>\n      <td>PDMR</td>\n      <td>xenograft</td>\n      <td>355891-322-R-G9UG85</td>\n      <td>1.0</td>\n      <td>NaN</td>\n      <td>mutation</td>\n      <td>Illumina HiSeq 2000/2500</td>\n      <td>False</td>\n      <td>False</td>\n      <td>2336462209028</td>\n      <td>NaN</td>\n    </tr>\n  </tbody>\n</table>\n<p>245 rows × 12 columns</p>\n</div>"
     },
     "execution_count": 36,
     "metadata": {},
     "output_type": "execute_result"
    }
   ],
   "source": [
    "missing_ids"
   ],
   "metadata": {
    "collapsed": false,
    "ExecuteTime": {
     "end_time": "2023-11-01T11:26:44.984698Z",
     "start_time": "2023-11-01T11:26:44.935096Z"
    }
   }
  },
  {
   "cell_type": "code",
   "execution_count": 57,
   "outputs": [
    {
     "name": "stdout",
     "output_type": "stream",
     "text": [
      "CRL\n",
      "Curie-BC\n",
      "IRCC-CRC\n",
      "JAX\n",
      "LIH\n",
      "PDMR\n"
     ]
    },
    {
     "name": "stderr",
     "output_type": "stream",
     "text": [
      "/var/folders/_2/g5d3zf4s41g0tvlqkc3_8wjr0000gp/T/ipykernel_23946/4241553392.py:8: SettingWithCopyWarning: \n",
      "A value is trying to be set on a copy of a slice from a DataFrame.\n",
      "Try using .loc[row_indexer,col_indexer] = value instead\n",
      "\n",
      "See the caveats in the documentation: https://pandas.pydata.org/pandas-docs/stable/user_guide/indexing.html#returning-a-view-versus-a-copy\n",
      "  missing_meta['molecular_characterisation_type'], missing_meta['instrument_model'] = missing_meta['data_type'], missing_meta['platform_name']\n",
      "/var/folders/_2/g5d3zf4s41g0tvlqkc3_8wjr0000gp/T/ipykernel_23946/4241553392.py:8: SettingWithCopyWarning: \n",
      "A value is trying to be set on a copy of a slice from a DataFrame.\n",
      "Try using .loc[row_indexer,col_indexer] = value instead\n",
      "\n",
      "See the caveats in the documentation: https://pandas.pydata.org/pandas-docs/stable/user_guide/indexing.html#returning-a-view-versus-a-copy\n",
      "  missing_meta['molecular_characterisation_type'], missing_meta['instrument_model'] = missing_meta['data_type'], missing_meta['platform_name']\n",
      "/var/folders/_2/g5d3zf4s41g0tvlqkc3_8wjr0000gp/T/ipykernel_23946/4241553392.py:8: SettingWithCopyWarning: \n",
      "A value is trying to be set on a copy of a slice from a DataFrame.\n",
      "Try using .loc[row_indexer,col_indexer] = value instead\n",
      "\n",
      "See the caveats in the documentation: https://pandas.pydata.org/pandas-docs/stable/user_guide/indexing.html#returning-a-view-versus-a-copy\n",
      "  missing_meta['molecular_characterisation_type'], missing_meta['instrument_model'] = missing_meta['data_type'], missing_meta['platform_name']\n",
      "/var/folders/_2/g5d3zf4s41g0tvlqkc3_8wjr0000gp/T/ipykernel_23946/4241553392.py:8: SettingWithCopyWarning: \n",
      "A value is trying to be set on a copy of a slice from a DataFrame.\n",
      "Try using .loc[row_indexer,col_indexer] = value instead\n",
      "\n",
      "See the caveats in the documentation: https://pandas.pydata.org/pandas-docs/stable/user_guide/indexing.html#returning-a-view-versus-a-copy\n",
      "  missing_meta['molecular_characterisation_type'], missing_meta['instrument_model'] = missing_meta['data_type'], missing_meta['platform_name']\n",
      "/var/folders/_2/g5d3zf4s41g0tvlqkc3_8wjr0000gp/T/ipykernel_23946/4241553392.py:8: SettingWithCopyWarning: \n",
      "A value is trying to be set on a copy of a slice from a DataFrame.\n",
      "Try using .loc[row_indexer,col_indexer] = value instead\n",
      "\n",
      "See the caveats in the documentation: https://pandas.pydata.org/pandas-docs/stable/user_guide/indexing.html#returning-a-view-versus-a-copy\n",
      "  missing_meta['molecular_characterisation_type'], missing_meta['instrument_model'] = missing_meta['data_type'], missing_meta['platform_name']\n",
      "/var/folders/_2/g5d3zf4s41g0tvlqkc3_8wjr0000gp/T/ipykernel_23946/4241553392.py:8: SettingWithCopyWarning: \n",
      "A value is trying to be set on a copy of a slice from a DataFrame.\n",
      "Try using .loc[row_indexer,col_indexer] = value instead\n",
      "\n",
      "See the caveats in the documentation: https://pandas.pydata.org/pandas-docs/stable/user_guide/indexing.html#returning-a-view-versus-a-copy\n",
      "  missing_meta['molecular_characterisation_type'], missing_meta['instrument_model'] = missing_meta['data_type'], missing_meta['platform_name']\n",
      "/var/folders/_2/g5d3zf4s41g0tvlqkc3_8wjr0000gp/T/ipykernel_23946/4241553392.py:8: SettingWithCopyWarning: \n",
      "A value is trying to be set on a copy of a slice from a DataFrame.\n",
      "Try using .loc[row_indexer,col_indexer] = value instead\n",
      "\n",
      "See the caveats in the documentation: https://pandas.pydata.org/pandas-docs/stable/user_guide/indexing.html#returning-a-view-versus-a-copy\n",
      "  missing_meta['molecular_characterisation_type'], missing_meta['instrument_model'] = missing_meta['data_type'], missing_meta['platform_name']\n",
      "/var/folders/_2/g5d3zf4s41g0tvlqkc3_8wjr0000gp/T/ipykernel_23946/4241553392.py:8: SettingWithCopyWarning: \n",
      "A value is trying to be set on a copy of a slice from a DataFrame.\n",
      "Try using .loc[row_indexer,col_indexer] = value instead\n",
      "\n",
      "See the caveats in the documentation: https://pandas.pydata.org/pandas-docs/stable/user_guide/indexing.html#returning-a-view-versus-a-copy\n",
      "  missing_meta['molecular_characterisation_type'], missing_meta['instrument_model'] = missing_meta['data_type'], missing_meta['platform_name']\n",
      "/var/folders/_2/g5d3zf4s41g0tvlqkc3_8wjr0000gp/T/ipykernel_23946/4241553392.py:8: SettingWithCopyWarning: \n",
      "A value is trying to be set on a copy of a slice from a DataFrame.\n",
      "Try using .loc[row_indexer,col_indexer] = value instead\n",
      "\n",
      "See the caveats in the documentation: https://pandas.pydata.org/pandas-docs/stable/user_guide/indexing.html#returning-a-view-versus-a-copy\n",
      "  missing_meta['molecular_characterisation_type'], missing_meta['instrument_model'] = missing_meta['data_type'], missing_meta['platform_name']\n",
      "/var/folders/_2/g5d3zf4s41g0tvlqkc3_8wjr0000gp/T/ipykernel_23946/4241553392.py:8: SettingWithCopyWarning: \n",
      "A value is trying to be set on a copy of a slice from a DataFrame.\n",
      "Try using .loc[row_indexer,col_indexer] = value instead\n",
      "\n",
      "See the caveats in the documentation: https://pandas.pydata.org/pandas-docs/stable/user_guide/indexing.html#returning-a-view-versus-a-copy\n",
      "  missing_meta['molecular_characterisation_type'], missing_meta['instrument_model'] = missing_meta['data_type'], missing_meta['platform_name']\n",
      "/var/folders/_2/g5d3zf4s41g0tvlqkc3_8wjr0000gp/T/ipykernel_23946/4241553392.py:8: SettingWithCopyWarning: \n",
      "A value is trying to be set on a copy of a slice from a DataFrame.\n",
      "Try using .loc[row_indexer,col_indexer] = value instead\n",
      "\n",
      "See the caveats in the documentation: https://pandas.pydata.org/pandas-docs/stable/user_guide/indexing.html#returning-a-view-versus-a-copy\n",
      "  missing_meta['molecular_characterisation_type'], missing_meta['instrument_model'] = missing_meta['data_type'], missing_meta['platform_name']\n",
      "/var/folders/_2/g5d3zf4s41g0tvlqkc3_8wjr0000gp/T/ipykernel_23946/4241553392.py:8: SettingWithCopyWarning: \n",
      "A value is trying to be set on a copy of a slice from a DataFrame.\n",
      "Try using .loc[row_indexer,col_indexer] = value instead\n",
      "\n",
      "See the caveats in the documentation: https://pandas.pydata.org/pandas-docs/stable/user_guide/indexing.html#returning-a-view-versus-a-copy\n",
      "  missing_meta['molecular_characterisation_type'], missing_meta['instrument_model'] = missing_meta['data_type'], missing_meta['platform_name']\n"
     ]
    }
   ],
   "source": [
    "for pro in missing_ids.data_source.unique():\n",
    "    pro_path = join(home, pro)\n",
    "    print(pro)\n",
    "    missing_meta = missing_ids[missing_ids['data_source'] == pro]\n",
    "    sample = read_metadata_with_fields(join(pro_path, pro+\"_molecular_metadata-sample.tsv\"))\n",
    "    platform = read_metadata_with_fields(join(pro_path, pro+\"_molecular_metadata-platform.tsv\"))\n",
    "    joined = sample.merge(platform[[\"platform_id\", \"molecular_characterisation_type\", \"instrument_model\"]], on='platform_id', how='left')\n",
    "    missing_meta['molecular_characterisation_type'], missing_meta['instrument_model'] = missing_meta['data_type'], missing_meta['platform_name']\n",
    "    joined = joined.merge(missing_meta[['sample_id', 'molecular_characterisation_type', 'instrument_model', 'data_exists']], on =['sample_id', 'molecular_characterisation_type', 'instrument_model'], how='left', indicator=True)\n",
    "    joined = joined[joined['_merge'] == 'left_only']    #joined = joined[~joined['sample_id'].isin(missing_meta['sample_id'])]\n",
    "    joined = joined[sample.columns].reset_index(drop=True)\n",
    "    joined.to_csv(join(pro_path, pro+\"_molecular_metadata-sample.tsv\"), sep='\\t', index=False)"
   ],
   "metadata": {
    "collapsed": false,
    "ExecuteTime": {
     "end_time": "2023-11-01T11:48:54.381852Z",
     "start_time": "2023-11-01T11:48:54.113054Z"
    }
   }
  },
  {
   "cell_type": "code",
   "execution_count": 55,
   "outputs": [
    {
     "name": "stdout",
     "output_type": "stream",
     "text": [
      "CRL\n",
      "['mutation_Illumina_WES' 'copy_number_alteration_Affymetrix_SNP6.0'\n",
      " 'mutation_RNA_sequencing' 'expression_Affymetrix_HGU133plus2'\n",
      " 'expression_ILLUMINA' 'cytogenetics_Immunohistochemistry']\n",
      "(1910, 10)\n",
      "(1910, 12)\n",
      "(1895, 10)\n",
      "Curie-BC\n",
      "['cytogenetics_immunohistochemistry' 'mutation_NGS_ESOPE'\n",
      " 'mutation_NGS_DRAGON']\n",
      "(85, 10)\n",
      "(85, 12)\n",
      "(56, 10)\n",
      "IRCC-CRC\n",
      "['expression_Illumina_HT-12_v4_microarray' 'mutation_TargetedNGS_MUT'\n",
      " 'mutation_whole_exome_sequencing'\n",
      " 'copy_number_alteration_whole_exome_sequencing']\n",
      "(1407, 10)\n",
      "(1407, 12)\n",
      "(1404, 10)\n",
      "JAX\n",
      "['mutation_CTP' 'mutation_Whole_Exome' 'mutation_Truseq_JAX'\n",
      " 'mutation_Other:_ddPCR' 'mutation_Actionseq20' 'mutation_Other:_FISH'\n",
      " 'mutation_TEX_DFCI' 'mutation_CTPTN' 'mutation_Other:_DFCI_RHP20'\n",
      " 'copy_number_alteration_SNP' 'expression_RNA_Seq' 'expression_stRNA_Seq'\n",
      " 'expression_hg10st' 'expression_hu133']\n",
      "(1722, 10)\n",
      "(1722, 12)\n",
      "(1605, 10)\n",
      "LIH\n",
      "['copy_number_alteration_Agilent_aCGH_2x400k'\n",
      " 'copy_number_alteration_Agilent_aCGH_4x180k' 'mutation_MiSeq_panel1'\n",
      " 'mutation_MiSeq_panel2' 'cytogenetics_NORLUX_IHC'\n",
      " 'expression_NovaSeq_6000']\n",
      "(158, 10)\n",
      "(158, 12)\n",
      "(156, 10)\n",
      "PDMR\n",
      "['mutation_OncoKB_Gene_Panel' 'expression_RNASEQ_Illumina_NGS']\n",
      "(3816, 10)\n",
      "(3816, 12)\n",
      "(3786, 10)\n"
     ]
    },
    {
     "name": "stderr",
     "output_type": "stream",
     "text": [
      "/var/folders/_2/g5d3zf4s41g0tvlqkc3_8wjr0000gp/T/ipykernel_23946/2803976612.py:11: SettingWithCopyWarning: \n",
      "A value is trying to be set on a copy of a slice from a DataFrame.\n",
      "Try using .loc[row_indexer,col_indexer] = value instead\n",
      "\n",
      "See the caveats in the documentation: https://pandas.pydata.org/pandas-docs/stable/user_guide/indexing.html#returning-a-view-versus-a-copy\n",
      "  missing_meta['molecular_characterisation_type'], missing_meta['instrument_model'] = missing_meta['data_type'], missing_meta['platform_name']\n",
      "/var/folders/_2/g5d3zf4s41g0tvlqkc3_8wjr0000gp/T/ipykernel_23946/2803976612.py:11: SettingWithCopyWarning: \n",
      "A value is trying to be set on a copy of a slice from a DataFrame.\n",
      "Try using .loc[row_indexer,col_indexer] = value instead\n",
      "\n",
      "See the caveats in the documentation: https://pandas.pydata.org/pandas-docs/stable/user_guide/indexing.html#returning-a-view-versus-a-copy\n",
      "  missing_meta['molecular_characterisation_type'], missing_meta['instrument_model'] = missing_meta['data_type'], missing_meta['platform_name']\n",
      "/var/folders/_2/g5d3zf4s41g0tvlqkc3_8wjr0000gp/T/ipykernel_23946/2803976612.py:11: SettingWithCopyWarning: \n",
      "A value is trying to be set on a copy of a slice from a DataFrame.\n",
      "Try using .loc[row_indexer,col_indexer] = value instead\n",
      "\n",
      "See the caveats in the documentation: https://pandas.pydata.org/pandas-docs/stable/user_guide/indexing.html#returning-a-view-versus-a-copy\n",
      "  missing_meta['molecular_characterisation_type'], missing_meta['instrument_model'] = missing_meta['data_type'], missing_meta['platform_name']\n",
      "/var/folders/_2/g5d3zf4s41g0tvlqkc3_8wjr0000gp/T/ipykernel_23946/2803976612.py:11: SettingWithCopyWarning: \n",
      "A value is trying to be set on a copy of a slice from a DataFrame.\n",
      "Try using .loc[row_indexer,col_indexer] = value instead\n",
      "\n",
      "See the caveats in the documentation: https://pandas.pydata.org/pandas-docs/stable/user_guide/indexing.html#returning-a-view-versus-a-copy\n",
      "  missing_meta['molecular_characterisation_type'], missing_meta['instrument_model'] = missing_meta['data_type'], missing_meta['platform_name']\n",
      "/var/folders/_2/g5d3zf4s41g0tvlqkc3_8wjr0000gp/T/ipykernel_23946/2803976612.py:11: SettingWithCopyWarning: \n",
      "A value is trying to be set on a copy of a slice from a DataFrame.\n",
      "Try using .loc[row_indexer,col_indexer] = value instead\n",
      "\n",
      "See the caveats in the documentation: https://pandas.pydata.org/pandas-docs/stable/user_guide/indexing.html#returning-a-view-versus-a-copy\n",
      "  missing_meta['molecular_characterisation_type'], missing_meta['instrument_model'] = missing_meta['data_type'], missing_meta['platform_name']\n",
      "/var/folders/_2/g5d3zf4s41g0tvlqkc3_8wjr0000gp/T/ipykernel_23946/2803976612.py:11: SettingWithCopyWarning: \n",
      "A value is trying to be set on a copy of a slice from a DataFrame.\n",
      "Try using .loc[row_indexer,col_indexer] = value instead\n",
      "\n",
      "See the caveats in the documentation: https://pandas.pydata.org/pandas-docs/stable/user_guide/indexing.html#returning-a-view-versus-a-copy\n",
      "  missing_meta['molecular_characterisation_type'], missing_meta['instrument_model'] = missing_meta['data_type'], missing_meta['platform_name']\n",
      "/var/folders/_2/g5d3zf4s41g0tvlqkc3_8wjr0000gp/T/ipykernel_23946/2803976612.py:11: SettingWithCopyWarning: \n",
      "A value is trying to be set on a copy of a slice from a DataFrame.\n",
      "Try using .loc[row_indexer,col_indexer] = value instead\n",
      "\n",
      "See the caveats in the documentation: https://pandas.pydata.org/pandas-docs/stable/user_guide/indexing.html#returning-a-view-versus-a-copy\n",
      "  missing_meta['molecular_characterisation_type'], missing_meta['instrument_model'] = missing_meta['data_type'], missing_meta['platform_name']\n",
      "/var/folders/_2/g5d3zf4s41g0tvlqkc3_8wjr0000gp/T/ipykernel_23946/2803976612.py:11: SettingWithCopyWarning: \n",
      "A value is trying to be set on a copy of a slice from a DataFrame.\n",
      "Try using .loc[row_indexer,col_indexer] = value instead\n",
      "\n",
      "See the caveats in the documentation: https://pandas.pydata.org/pandas-docs/stable/user_guide/indexing.html#returning-a-view-versus-a-copy\n",
      "  missing_meta['molecular_characterisation_type'], missing_meta['instrument_model'] = missing_meta['data_type'], missing_meta['platform_name']\n",
      "/var/folders/_2/g5d3zf4s41g0tvlqkc3_8wjr0000gp/T/ipykernel_23946/2803976612.py:11: SettingWithCopyWarning: \n",
      "A value is trying to be set on a copy of a slice from a DataFrame.\n",
      "Try using .loc[row_indexer,col_indexer] = value instead\n",
      "\n",
      "See the caveats in the documentation: https://pandas.pydata.org/pandas-docs/stable/user_guide/indexing.html#returning-a-view-versus-a-copy\n",
      "  missing_meta['molecular_characterisation_type'], missing_meta['instrument_model'] = missing_meta['data_type'], missing_meta['platform_name']\n",
      "/var/folders/_2/g5d3zf4s41g0tvlqkc3_8wjr0000gp/T/ipykernel_23946/2803976612.py:11: SettingWithCopyWarning: \n",
      "A value is trying to be set on a copy of a slice from a DataFrame.\n",
      "Try using .loc[row_indexer,col_indexer] = value instead\n",
      "\n",
      "See the caveats in the documentation: https://pandas.pydata.org/pandas-docs/stable/user_guide/indexing.html#returning-a-view-versus-a-copy\n",
      "  missing_meta['molecular_characterisation_type'], missing_meta['instrument_model'] = missing_meta['data_type'], missing_meta['platform_name']\n",
      "/var/folders/_2/g5d3zf4s41g0tvlqkc3_8wjr0000gp/T/ipykernel_23946/2803976612.py:11: SettingWithCopyWarning: \n",
      "A value is trying to be set on a copy of a slice from a DataFrame.\n",
      "Try using .loc[row_indexer,col_indexer] = value instead\n",
      "\n",
      "See the caveats in the documentation: https://pandas.pydata.org/pandas-docs/stable/user_guide/indexing.html#returning-a-view-versus-a-copy\n",
      "  missing_meta['molecular_characterisation_type'], missing_meta['instrument_model'] = missing_meta['data_type'], missing_meta['platform_name']\n",
      "/var/folders/_2/g5d3zf4s41g0tvlqkc3_8wjr0000gp/T/ipykernel_23946/2803976612.py:11: SettingWithCopyWarning: \n",
      "A value is trying to be set on a copy of a slice from a DataFrame.\n",
      "Try using .loc[row_indexer,col_indexer] = value instead\n",
      "\n",
      "See the caveats in the documentation: https://pandas.pydata.org/pandas-docs/stable/user_guide/indexing.html#returning-a-view-versus-a-copy\n",
      "  missing_meta['molecular_characterisation_type'], missing_meta['instrument_model'] = missing_meta['data_type'], missing_meta['platform_name']\n"
     ]
    }
   ],
   "source": [
    "for pro in missing_ids.data_source.unique():\n",
    "    pro_path = join(home, pro)\n",
    "    print(pro)\n",
    "    missing_meta = missing_ids[missing_ids['data_source'] == pro]\n",
    "    sample = read_metadata_with_fields(join(pro_path, pro+\"_molecular_metadata-sample.tsv\"))\n",
    "    platform = read_metadata_with_fields(join(pro_path, pro+\"_molecular_metadata-platform.tsv\"))\n",
    "    joined = sample.merge(platform[[\"platform_id\", \"molecular_characterisation_type\", \"instrument_model\"]], on='platform_id', how='left')\n",
    "    missing_meta['molecular_characterisation_type'], missing_meta['instrument_model'] = missing_meta['data_type'], missing_meta['platform_name']\n",
    "    joined = joined.merge(missing_meta[['sample_id', 'molecular_characterisation_type', 'instrument_model', 'data_exists']], on =['sample_id', 'molecular_characterisation_type', 'instrument_model'], how='left', indicator=True)\n",
    "    joined = joined[joined['_merge'] == 'left_only']    #joined = joined[~joined['sample_id'].isin(missing_meta['sample_id'])]\n",
    "    joined = joined[sample.columns].reset_index(drop=True)\n",
    "    joined.to_csv(join(pro_path, pro+\"_molecular_metadata-sample.tsv\"), sep='\\t', index=False)"
   ],
   "metadata": {
    "collapsed": false,
    "ExecuteTime": {
     "end_time": "2023-11-01T11:47:05.797275Z",
     "start_time": "2023-11-01T11:47:05.524847Z"
    }
   }
  },
  {
   "cell_type": "code",
   "execution_count": null,
   "outputs": [],
   "source": [],
   "metadata": {
    "collapsed": false
   }
  },
  {
   "cell_type": "code",
   "execution_count": null,
   "outputs": [],
   "source": [],
   "metadata": {
    "collapsed": false
   }
  },
  {
   "cell_type": "code",
   "execution_count": 9,
   "outputs": [],
   "source": [
    "normal = pd.read_csv(\"/Users/tushar/Downloads/TCGA-LUAD.htseq_fpkm.tsv\", sep='\\t').iloc[:,0:15]"
   ],
   "metadata": {
    "collapsed": false,
    "ExecuteTime": {
     "end_time": "2023-11-03T07:38:47.987006Z",
     "start_time": "2023-11-03T07:38:44.609493Z"
    }
   }
  },
  {
   "cell_type": "code",
   "execution_count": 14,
   "outputs": [],
   "source": [
    "normal[normal['Ensembl_ID'].str.contains(\"133703\")].reset_index(drop=True).to_csv(\"/Users/tushar/Downloads/Normal-FPKM-COLON.tsv\",sep='\\t',index=False)"
   ],
   "metadata": {
    "collapsed": false,
    "ExecuteTime": {
     "end_time": "2023-11-03T07:41:00.020644Z",
     "start_time": "2023-11-03T07:41:00.005727Z"
    }
   }
  },
  {
   "cell_type": "code",
   "execution_count": null,
   "outputs": [],
   "source": [
    "ENSG00000146648.14\n",
    "ENSG00000171094.14\n"
   ],
   "metadata": {
    "collapsed": false
   }
  },
  {
   "cell_type": "code",
   "execution_count": 12,
   "outputs": [],
   "source": [
    "normal[normal['Ensembl_ID'].isin([\"ENSG00000146648.14\", \"ENSG00000171094.14\"])].reset_index(drop=True).to_csv(\"/Users/tushar/Downloads/Normal-FPKM-LUNG.tsv\",sep='\\t',index=False)"
   ],
   "metadata": {
    "collapsed": false,
    "ExecuteTime": {
     "end_time": "2023-11-03T07:40:26.767131Z",
     "start_time": "2023-11-03T07:40:26.743595Z"
    }
   }
  },
  {
   "cell_type": "markdown",
   "source": [
    "# Immune markers \n",
    "### Addition of immune markers -specifically model genomics in the data as not provided\n",
    "MSI, TMB, MMR, Ploidy, Mutations per mb\n",
    "- MSI: immune_msi\n",
    "- MMR: immune_mmr \n",
    "- TMB: immune_tmb\n",
    "- MPM: immune_mpm\n",
    "- Ploidy: immune_ploidy\n",
    "\n",
    "[['PDMR', ['immune_msi', 'immune_HLA_type']],\n",
    " ['JAX', ['immune_tmb', 'immune_msi']],\n",
    " ['CMP', ['immune_mpm', 'immune_ploidy', 'immune_msi']],\n",
    " ['CUIMC', ['immune_tmb']]]\n",
    " \n",
    "\n",
    "[['PDMR', ['immune_msi', 'immune_HLA_type']],\n",
    " ['CRL', ['immune_HLA_type']],\n",
    " ['JAX', ['immune_tmb', 'immune_msi']],\n",
    " ['SJCRH', ['immune_hla_type']],\n",
    " ['CMP', ['immune_mpm', 'immune_ploidy', 'immune_msi']],\n",
    " ['DFCI-CPDM', ['immune_HLA_type']],\n",
    " ['CUIMC', ['immune_tmb']]]\n"
   ],
   "metadata": {
    "collapsed": false
   }
  },
  {
   "cell_type": "code",
   "execution_count": 93,
   "outputs": [],
   "source": [
    "model_genomics_markers = pd.read_json('https://dev.cancermodels.org/api/immunemarker_data_extended?marker_type=eq.Model%20Genomics')"
   ],
   "metadata": {
    "collapsed": false,
    "ExecuteTime": {
     "end_time": "2023-12-06T14:53:19.194850Z",
     "start_time": "2023-12-06T14:53:18.852757Z"
    }
   }
  },
  {
   "cell_type": "code",
   "execution_count": 95,
   "outputs": [],
   "source": [
    "marker_type = list(model_genomics_markers.marker_name.unique())\n",
    "na_str = \"Not provided\"\n",
    "marker_type.append('MMR')\n",
    "marker_type_platform_dict = {'MSI': 'immune_msi', 'MMR': 'immune_mmr', \n",
    "                             'TMB': 'immune_tmb', 'Mutations per mb': 'immune_mpm', \n",
    "                             'Ploidy': 'immune_ploidy'}\n",
    "platform_marker_type_dict = dict(zip(marker_type_platform_dict.values(), marker_type_platform_dict.keys()))\n",
    "providers = list(model_genomics_markers.data_source.unique())\n",
    "platform_ids = []"
   ],
   "metadata": {
    "collapsed": false,
    "ExecuteTime": {
     "end_time": "2023-12-06T14:53:29.192506Z",
     "start_time": "2023-12-06T14:53:29.168001Z"
    }
   }
  },
  {
   "cell_type": "code",
   "execution_count": 134,
   "outputs": [
    {
     "name": "stdout",
     "output_type": "stream",
     "text": [
      "PDMR\n",
      "['immune_mmr', 'immune_tmb', 'immune_mpm', 'immune_ploidy']\n"
     ]
    },
    {
     "name": "stderr",
     "output_type": "stream",
     "text": [
      "Adding immune marker data for PDMR: 100%|██████████| 510/510 [00:22<00:00, 23.17it/s]\n"
     ]
    },
    {
     "name": "stdout",
     "output_type": "stream",
     "text": [
      "JAX\n",
      "['immune_mmr', 'immune_mpm', 'immune_ploidy']\n"
     ]
    },
    {
     "name": "stderr",
     "output_type": "stream",
     "text": [
      "Adding immune marker data for JAX: 100%|██████████| 296/296 [00:06<00:00, 43.74it/s]\n"
     ]
    },
    {
     "name": "stdout",
     "output_type": "stream",
     "text": [
      "CMP\n",
      "['immune_mmr', 'immune_tmb']\n"
     ]
    },
    {
     "name": "stderr",
     "output_type": "stream",
     "text": [
      "Adding immune marker data for CMP: 100%|██████████| 1174/1174 [00:32<00:00, 36.55it/s]\n"
     ]
    },
    {
     "name": "stdout",
     "output_type": "stream",
     "text": [
      "CUIMC\n",
      "['immune_msi', 'immune_mmr', 'immune_mpm', 'immune_ploidy']\n"
     ]
    },
    {
     "name": "stderr",
     "output_type": "stream",
     "text": [
      "Adding immune marker data for CUIMC: 100%|██████████| 32/32 [00:00<00:00, 35.11it/s]\n"
     ]
    }
   ],
   "source": [
    "def get_available_marker_for_sample_id(sample_id, df, platform_list):\n",
    "    temp = df[df['sample_id'] == sample_id]\n",
    "    pids = temp['platform_id'].unique()\n",
    "    add_markers = [x for x in platform_list if x not in pids]\n",
    "    return [[sample_id, x] for x in add_markers]\n",
    "    \n",
    "    \n",
    "def get_ms_row(sample_id, df, platform):\n",
    "    df2 = df\n",
    "    df = df.drop_duplicates(subset=['model_id', 'sample_id']).reset_index(drop=True)\n",
    "    df = df[df['sample_id'] == sample_id].reset_index(drop=True)\n",
    "    try:\n",
    "        mid = df['model_id'][0]\n",
    "    except:\n",
    "        print(df)\n",
    "        print(sample_id)\n",
    "        print(df2[sample_id].unique())\n",
    "    so = df['sample_origin'][0]\n",
    "    pa = df['passage'][0]\n",
    "    hsn = df['host_strain_name'][0]\n",
    "    hsno = df['host_strain_nomenclature'][0]\n",
    "    etcs = df['engrafted_tumor_collection_site'][0]\n",
    "    rdu = df['raw_data_url'][0]\n",
    "    #print(mid)\n",
    "    \n",
    "    # ['Field', 'model_id', 'sample_id', 'sample_origin', 'passage', 'host_strain_name', 'host_strain_nomenclature', 'engrafted_tumor_collection_site', 'raw_data_url', 'platform_id']\n",
    "    temp = ['', mid, sample_id, so, pa, hsn, hsno, etcs, rdu, platform]\n",
    "    return temp\n",
    "    \n",
    "def get_im_row(sample_id, na_str, marker_dict, platform):\n",
    "    #['Field', 'sample_id', 'marker_type', 'marker_name', 'marker_value', 'essential_or_additional_details', 'platform_id']\n",
    "    marker_name = marker_dict[platform]\n",
    "    temp = ['', sample_id, 'Model Genomics', marker_name, na_str, '', platform]\n",
    "    return temp\n",
    "    \n",
    "def append_to_df(row, df):\n",
    "    row = pd.DataFrame([row], columns=df.columns)\n",
    "    return pd.concat([df, row]).reset_index(drop=True)\n",
    "            \n",
    "for i in range(len(providers)):\n",
    "    provider = providers[i]\n",
    "    print(provider)\n",
    "    provider_path = join(home, provider)\n",
    "    mol_sample_sheet = read_metadata_with_fields(join(provider_path, provider+\"_molecular_metadata-sample.tsv\"))\n",
    "    mol_platform = read_metadata_with_fields(join(provider_path, provider+\"_molecular_metadata-platform.tsv\"))\n",
    "    mol_platform_web = read_metadata_with_fields(join(provider_path, provider+\"_molecular_metadata-platform_web.tsv\"))\n",
    "    immunemarker = read_metadata_with_fields(join(provider_path, 'immunemarker', provider+\"_immunemarker-Sheet1.tsv\"))\n",
    "\n",
    "    pids_in_sheet = list(immunemarker.platform_id.unique())\n",
    "    add_markers = [x for x in marker_type_platform_dict.values() if x not in pids_in_sheet]\n",
    "    print(add_markers)\n",
    "    if len(add_markers)>0:\n",
    "        sample_ids = immunemarker['sample_id'].unique()\n",
    "        for j in tqdm(range(len(sample_ids)), f'Adding immune marker data for {provider}: '):\n",
    "            sample_id = sample_ids[j]\n",
    "            to_be_added = get_available_marker_for_sample_id(sample_id, immunemarker, marker_type_platform_dict.values())\n",
    "            for row in to_be_added:\n",
    "                immunemarker = append_to_df(get_im_row(row[0], na_str, platform_marker_type_dict, row[1]), immunemarker)            \n",
    "                mol_sample_sheet = append_to_df(get_ms_row(row[0], mol_sample_sheet, row[1]), mol_sample_sheet)\n",
    "        for mark in add_markers:\n",
    "            mol_platform = append_to_df(['', mark, 'immunemarker', na_str, na_str, '', '', ''], mol_platform)\n",
    "            mol_platform_web = append_to_df(['', mark, '', '', ''], mol_platform_web)\n",
    "    \n",
    "    mol_sample_sheet.to_csv(join(provider_path, provider+\"_molecular_metadata-sample.tsv\"), sep='\\t', index=False)\n",
    "    mol_platform.to_csv(join(provider_path, provider+\"_molecular_metadata-platform.tsv\"), sep='\\t', index=False)\n",
    "    mol_platform_web.to_csv(join(provider_path, provider+\"_molecular_metadata-platform_web.tsv\"), sep='\\t', index=False)\n",
    "    immunemarker.to_csv(join(provider_path, 'immunemarker', provider+\"_immunemarker-Sheet1.tsv\"), sep='\\t', index=False)\n",
    "    \n",
    "        \n",
    "    platform_id = mol_sample_sheet['platform_id'].iloc[4:].unique()\n",
    "    platform_id =  [x for x in platform_id if x.__contains__('immune')]\n",
    "    platform_ids.append([provider, platform_id])"
   ],
   "metadata": {
    "collapsed": false,
    "ExecuteTime": {
     "end_time": "2023-12-06T15:38:15.792120Z",
     "start_time": "2023-12-06T15:37:13.613905Z"
    }
   }
  },
  {
   "cell_type": "code",
   "execution_count": 130,
   "outputs": [
    {
     "data": {
      "text/plain": "Index(['Field', 'platform_id', 'molecular_methods_description',\n       'analysis_description', 'data_acquisition_description', 'table'],\n      dtype='object')"
     },
     "execution_count": 130,
     "metadata": {},
     "output_type": "execute_result"
    }
   ],
   "source": [
    "mol_platform_web.columns"
   ],
   "metadata": {
    "collapsed": false,
    "ExecuteTime": {
     "end_time": "2023-12-06T15:27:16.066167Z",
     "start_time": "2023-12-06T15:27:15.986681Z"
    }
   }
  },
  {
   "cell_type": "code",
   "execution_count": 132,
   "outputs": [
    {
     "data": {
      "text/plain": "['PDMR', 'JAX', 'CMP', 'CUIMC']"
     },
     "execution_count": 132,
     "metadata": {},
     "output_type": "execute_result"
    }
   ],
   "source": [
    "providers"
   ],
   "metadata": {
    "collapsed": false,
    "ExecuteTime": {
     "end_time": "2023-12-06T15:28:39.118389Z",
     "start_time": "2023-12-06T15:28:39.037451Z"
    }
   }
  },
  {
   "cell_type": "code",
   "execution_count": null,
   "outputs": [],
   "source": [
    "from os import listdir\n",
    "from os.path import isfile, join\n",
    "import pandas as pd\n",
    "\n",
    "CMP_path = '/hps/nobackup/tudor/pdcm/pdxfinder-data/data/UPDOG/CMP/'\n",
    "CMP_mut_path = '/hps/nobackup/tudor/pdcm/pdxfinder-data/data/UPDOG/CMP/mut'\n",
    "\n",
    "def get_files(path):\n",
    "    return [join(path, f) for f in listdir(path) if isfile(join(path, f))]\n",
    "\n",
    "def read_metadata_with_fields(path):\n",
    "    metadata = pd.read_csv(path, sep='\\t', na_values=\"\", low_memory=False)\n",
    "    return metadata\n",
    "\n",
    "def read_metadata_without_fields(path):\n",
    "    metadata = pd.read_csv(path, sep='\\t', na_values=\"\", low_memory=False)\n",
    "    if 'Field' in metadata.columns:\n",
    "        metadata = metadata.loc[metadata.Field.str.startswith('#') != True,].reset_index(drop=True)\n",
    "        metadata = metadata.drop('Field', axis=1)\n",
    "    return metadata\n",
    "\n",
    "#mms_header = read_metadata_with_fields(join(CMP_path, 'CMP_molecular_metadata-sample.tsv')).iloc[0:4]\n",
    "#ps = read_metadata_without_fields(join(CMP_path, 'CMP_molecular_metadata-sample.tsv'))[['sample_id', 'model_id']]\n",
    "#ps = ps.drop_duplicates().reset_index(drop=True)\n",
    "#ps = dict(zip(ps['sample_id'], ps['model_id']))\n",
    "mms = read_metadata_without_fields(join(CMP_path, 'CMP_molecular_metadata-sample.tsv'))[['sample_id', 'model_id']]\n",
    "mms = mms.drop_duplicates().reset_index(drop=True)\n",
    "mms_mapper = dict(zip(mms['sample_id'], mms['model_id']))\n",
    "#replaced_mms = mms[['model_id', 'sample_id']].replace(ps)\n",
    "#mms['model_id'] = replaced_mms['sample_id']\n",
    "mut_file = read_metadata_with_fields(join(CMP_mut_path, 'CMP_mut.tsv'))\n",
    "samples = mms['sample_id'].unique()\n",
    "for i in tqdm(range(len(samples))):\n",
    "    s = samples[i]\n",
    "    temp = mut_file[mut_file['sample_id'] == s].reset_index(drop=True)\n",
    "    if len(temp) > 0:\n",
    "        file_name = join(CMP_mut_path, f\"CMP_mut_{s}.tsv\")\n",
    "        temp.to_csv(file_name, sep='\\t', index=False)"
   ],
   "metadata": {
    "collapsed": false
   }
  }
 ],
 "metadata": {
  "kernelspec": {
   "display_name": "Python 3",
   "language": "python",
   "name": "python3"
  },
  "language_info": {
   "codemirror_mode": {
    "name": "ipython",
    "version": 2
   },
   "file_extension": ".py",
   "mimetype": "text/x-python",
   "name": "python",
   "nbconvert_exporter": "python",
   "pygments_lexer": "ipython2",
   "version": "2.7.6"
  }
 },
 "nbformat": 4,
 "nbformat_minor": 4
}
