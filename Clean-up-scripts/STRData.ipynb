{
 "cells": [
  {
   "cell_type": "code",
   "execution_count": 1,
   "id": "initial_id",
   "metadata": {
    "collapsed": true,
    "ExecuteTime": {
     "end_time": "2024-04-23T10:53:04.274870Z",
     "start_time": "2024-04-23T10:53:01.529090Z"
    }
   },
   "outputs": [],
   "source": [
    "import pandas as pd\n",
    "\n",
    "from utils import *"
   ]
  },
  {
   "cell_type": "code",
   "outputs": [
    {
     "data": {
      "text/plain": "'STR Profile: Amelogenin: X; CSF1PO: 10; D1S1656: 13; D2S441: 10,12; D2S1338: 18,26; D3S1358: 14,17 (KCLB)  17 (Genomics_Center_BCF_Technion); D5S818: 13; D7S820: 11,12 (Genomics_Center_BCF_Technion; PubMed=25926053)  12 (KCLB); D8S1179: 12,13; D10S1248: 13,15; D12S391: 18,21; D13S317: 10; D16S539: 9; D18S51: 13; D19S433: 13,14; D21S11: 29,30; D22S1045: 17; FGA: 23; Penta D: 11,12; Penta E: 11; TH01: 9; TPOX: 11; vWA: 17,19'"
     },
     "execution_count": 6,
     "metadata": {},
     "output_type": "execute_result"
    }
   ],
   "source": [
    "cmp_data = read_metadata_without_fields(join(home, \"CMP\", \"CMP_metadata-cell_model.tsv\"))\n"
   ],
   "metadata": {
    "collapsed": false,
    "ExecuteTime": {
     "end_time": "2024-04-23T10:54:15.598922Z",
     "start_time": "2024-04-23T10:54:15.538179Z"
    }
   },
   "id": "6b2c9659ce2bb3d6",
   "execution_count": 6
  },
  {
   "cell_type": "code",
   "outputs": [
    {
     "data": {
      "text/plain": "       model_id Amelogenin CSF1PO D3S1358 D5S818 D7S820 D8S1179 D13S317  \\\n0     SIDM01774          X     10      18     11      8      11   10,12   \n1     SIDM00192          X     10   14,17     11      8   12,13      10   \n2     SIDM01447        X,Y     12   15,18   7,12  10,12   12,13    8,12   \n3     SIDM01554        X,Y  10,11   15,18  12,13     10   12,13      13   \n4     SIDM01689          X    8,9      15     11     10   10,11   10,12   \n...         ...        ...    ...     ...    ...    ...     ...     ...   \n1927  SIDM02153        X,Y  10,11   14,17  12,13   9,11      14      11   \n1928  SIDM02155        X,Y  10,11   14,17  12,13   9,11      14      11   \n1929  SIDM02157        X,Y  10,11   14,17  12,13   9,11      14      11   \n1930  SIDM02159        X,Y  10,11   14,17  12,13   9,11      14      11   \n1931  SIDM01339          X  10,12   14,17     12      8      14   11,12   \n\n     D16S539 D18S51  ... D19S433 D22S1045 D6S1043 DXS101 SE33 DYS391 F13A01  \\\n0      11,12     13  ...                                                      \n1          9     13  ...   13,14       17                                     \n2          9     13  ...   13,14       17                                     \n3         11     13  ...   13,14       17                                     \n4         10  14,15  ...   14,17       17                                     \n...      ...    ...  ...     ...      ...     ...    ...  ...    ...    ...   \n1927   10,11  12,13  ...      14    16,17   12,18  23,24   19     10    6,7   \n1928   10,11  12,13  ...      14    16,17   12,18  23,24   19     10    6,7   \n1929   10,11  12,13  ...      14    16,17   12,18  23,24   19     10    6,7   \n1930   10,11  12,13  ...      14    16,17   12,18  23,24   19     10    6,7   \n1931      11  12,13  ...      14    16,17   12,18  23,24   19     10    6,7   \n\n     F13B FESFPS   LPL  \n0                       \n1                       \n2                       \n3                       \n4                       \n...   ...    ...   ...  \n1927   10  11,12  9,10  \n1928   10  11,12  9,10  \n1929   10  11,12  9,10  \n1930   10  11,12  9,10  \n1931   10  11,12  9,10  \n\n[1932 rows x 32 columns]",
      "text/html": "<div>\n<style scoped>\n    .dataframe tbody tr th:only-of-type {\n        vertical-align: middle;\n    }\n\n    .dataframe tbody tr th {\n        vertical-align: top;\n    }\n\n    .dataframe thead th {\n        text-align: right;\n    }\n</style>\n<table border=\"1\" class=\"dataframe\">\n  <thead>\n    <tr style=\"text-align: right;\">\n      <th></th>\n      <th>model_id</th>\n      <th>Amelogenin</th>\n      <th>CSF1PO</th>\n      <th>D3S1358</th>\n      <th>D5S818</th>\n      <th>D7S820</th>\n      <th>D8S1179</th>\n      <th>D13S317</th>\n      <th>D16S539</th>\n      <th>D18S51</th>\n      <th>...</th>\n      <th>D19S433</th>\n      <th>D22S1045</th>\n      <th>D6S1043</th>\n      <th>DXS101</th>\n      <th>SE33</th>\n      <th>DYS391</th>\n      <th>F13A01</th>\n      <th>F13B</th>\n      <th>FESFPS</th>\n      <th>LPL</th>\n    </tr>\n  </thead>\n  <tbody>\n    <tr>\n      <th>0</th>\n      <td>SIDM01774</td>\n      <td>X</td>\n      <td>10</td>\n      <td>18</td>\n      <td>11</td>\n      <td>8</td>\n      <td>11</td>\n      <td>10,12</td>\n      <td>11,12</td>\n      <td>13</td>\n      <td>...</td>\n      <td></td>\n      <td></td>\n      <td></td>\n      <td></td>\n      <td></td>\n      <td></td>\n      <td></td>\n      <td></td>\n      <td></td>\n      <td></td>\n    </tr>\n    <tr>\n      <th>1</th>\n      <td>SIDM00192</td>\n      <td>X</td>\n      <td>10</td>\n      <td>14,17</td>\n      <td>11</td>\n      <td>8</td>\n      <td>12,13</td>\n      <td>10</td>\n      <td>9</td>\n      <td>13</td>\n      <td>...</td>\n      <td>13,14</td>\n      <td>17</td>\n      <td></td>\n      <td></td>\n      <td></td>\n      <td></td>\n      <td></td>\n      <td></td>\n      <td></td>\n      <td></td>\n    </tr>\n    <tr>\n      <th>2</th>\n      <td>SIDM01447</td>\n      <td>X,Y</td>\n      <td>12</td>\n      <td>15,18</td>\n      <td>7,12</td>\n      <td>10,12</td>\n      <td>12,13</td>\n      <td>8,12</td>\n      <td>9</td>\n      <td>13</td>\n      <td>...</td>\n      <td>13,14</td>\n      <td>17</td>\n      <td></td>\n      <td></td>\n      <td></td>\n      <td></td>\n      <td></td>\n      <td></td>\n      <td></td>\n      <td></td>\n    </tr>\n    <tr>\n      <th>3</th>\n      <td>SIDM01554</td>\n      <td>X,Y</td>\n      <td>10,11</td>\n      <td>15,18</td>\n      <td>12,13</td>\n      <td>10</td>\n      <td>12,13</td>\n      <td>13</td>\n      <td>11</td>\n      <td>13</td>\n      <td>...</td>\n      <td>13,14</td>\n      <td>17</td>\n      <td></td>\n      <td></td>\n      <td></td>\n      <td></td>\n      <td></td>\n      <td></td>\n      <td></td>\n      <td></td>\n    </tr>\n    <tr>\n      <th>4</th>\n      <td>SIDM01689</td>\n      <td>X</td>\n      <td>8,9</td>\n      <td>15</td>\n      <td>11</td>\n      <td>10</td>\n      <td>10,11</td>\n      <td>10,12</td>\n      <td>10</td>\n      <td>14,15</td>\n      <td>...</td>\n      <td>14,17</td>\n      <td>17</td>\n      <td></td>\n      <td></td>\n      <td></td>\n      <td></td>\n      <td></td>\n      <td></td>\n      <td></td>\n      <td></td>\n    </tr>\n    <tr>\n      <th>...</th>\n      <td>...</td>\n      <td>...</td>\n      <td>...</td>\n      <td>...</td>\n      <td>...</td>\n      <td>...</td>\n      <td>...</td>\n      <td>...</td>\n      <td>...</td>\n      <td>...</td>\n      <td>...</td>\n      <td>...</td>\n      <td>...</td>\n      <td>...</td>\n      <td>...</td>\n      <td>...</td>\n      <td>...</td>\n      <td>...</td>\n      <td>...</td>\n      <td>...</td>\n      <td>...</td>\n    </tr>\n    <tr>\n      <th>1927</th>\n      <td>SIDM02153</td>\n      <td>X,Y</td>\n      <td>10,11</td>\n      <td>14,17</td>\n      <td>12,13</td>\n      <td>9,11</td>\n      <td>14</td>\n      <td>11</td>\n      <td>10,11</td>\n      <td>12,13</td>\n      <td>...</td>\n      <td>14</td>\n      <td>16,17</td>\n      <td>12,18</td>\n      <td>23,24</td>\n      <td>19</td>\n      <td>10</td>\n      <td>6,7</td>\n      <td>10</td>\n      <td>11,12</td>\n      <td>9,10</td>\n    </tr>\n    <tr>\n      <th>1928</th>\n      <td>SIDM02155</td>\n      <td>X,Y</td>\n      <td>10,11</td>\n      <td>14,17</td>\n      <td>12,13</td>\n      <td>9,11</td>\n      <td>14</td>\n      <td>11</td>\n      <td>10,11</td>\n      <td>12,13</td>\n      <td>...</td>\n      <td>14</td>\n      <td>16,17</td>\n      <td>12,18</td>\n      <td>23,24</td>\n      <td>19</td>\n      <td>10</td>\n      <td>6,7</td>\n      <td>10</td>\n      <td>11,12</td>\n      <td>9,10</td>\n    </tr>\n    <tr>\n      <th>1929</th>\n      <td>SIDM02157</td>\n      <td>X,Y</td>\n      <td>10,11</td>\n      <td>14,17</td>\n      <td>12,13</td>\n      <td>9,11</td>\n      <td>14</td>\n      <td>11</td>\n      <td>10,11</td>\n      <td>12,13</td>\n      <td>...</td>\n      <td>14</td>\n      <td>16,17</td>\n      <td>12,18</td>\n      <td>23,24</td>\n      <td>19</td>\n      <td>10</td>\n      <td>6,7</td>\n      <td>10</td>\n      <td>11,12</td>\n      <td>9,10</td>\n    </tr>\n    <tr>\n      <th>1930</th>\n      <td>SIDM02159</td>\n      <td>X,Y</td>\n      <td>10,11</td>\n      <td>14,17</td>\n      <td>12,13</td>\n      <td>9,11</td>\n      <td>14</td>\n      <td>11</td>\n      <td>10,11</td>\n      <td>12,13</td>\n      <td>...</td>\n      <td>14</td>\n      <td>16,17</td>\n      <td>12,18</td>\n      <td>23,24</td>\n      <td>19</td>\n      <td>10</td>\n      <td>6,7</td>\n      <td>10</td>\n      <td>11,12</td>\n      <td>9,10</td>\n    </tr>\n    <tr>\n      <th>1931</th>\n      <td>SIDM01339</td>\n      <td>X</td>\n      <td>10,12</td>\n      <td>14,17</td>\n      <td>12</td>\n      <td>8</td>\n      <td>14</td>\n      <td>11,12</td>\n      <td>11</td>\n      <td>12,13</td>\n      <td>...</td>\n      <td>14</td>\n      <td>16,17</td>\n      <td>12,18</td>\n      <td>23,24</td>\n      <td>19</td>\n      <td>10</td>\n      <td>6,7</td>\n      <td>10</td>\n      <td>11,12</td>\n      <td>9,10</td>\n    </tr>\n  </tbody>\n</table>\n<p>1932 rows × 32 columns</p>\n</div>"
     },
     "execution_count": 65,
     "metadata": {},
     "output_type": "execute_result"
    }
   ],
   "source": [
    "cmp_data['str_data'] = [f if f.__contains__('STR Profile') else 'Not provided' for f in cmp_data['comments'].fillna('Not provided')]\n",
    "cmp_str_data = cmp_data['str_data'].str.replace('STR Profile: ', '').str.replace('\\(.*\\)', '', regex=True).str.split(';', expand=True)\n",
    "cmp_str_data['model_id'] = cmp_data['model_id']\n",
    "column_names = set()\n",
    "for index, row in cmp_str_data.iterrows():\n",
    "    [column_names.add(f) for f in row[:-1].str.replace(' ', '').str.split(':', expand=True)[0].fillna('') if f!='' and f!='Notprovided']\n",
    "    \n",
    "str_data = pd.DataFrame()\n",
    "temp_str_data = pd.DataFrame()\n",
    "for index, row in cmp_str_data.iterrows():\n",
    "    temp_str_data['model_id'] = [row['model_id']]\n",
    "    temp = row[:-1].str.replace(' ', '').str.split(':', expand=True).fillna('')\n",
    "    for ind, r in temp.iterrows():\n",
    "        if r[0] in column_names:\n",
    "            temp_str_data[r[0]] = r[1]\n",
    "    str_data = pd.concat([str_data, temp_str_data]).fillna('').reset_index(drop=True)\n",
    "str_data"
   ],
   "metadata": {
    "collapsed": false,
    "ExecuteTime": {
     "end_time": "2024-04-23T13:43:46.201653Z",
     "start_time": "2024-04-23T13:43:24.363466Z"
    }
   },
   "id": "c81c62968ea270e9",
   "execution_count": 65
  },
  {
   "cell_type": "code",
   "outputs": [],
   "source": [
    "str_data"
   ],
   "metadata": {
    "collapsed": false,
    "ExecuteTime": {
     "end_time": "2024-04-23T13:44:20.234965Z",
     "start_time": "2024-04-23T13:44:20.197150Z"
    }
   },
   "id": "6166d71d1c8d84a5",
   "execution_count": 66
  },
  {
   "cell_type": "code",
   "outputs": [],
   "source": [
    "cols = ['model_id']\n",
    "[cols.append(f) for f in sorted(column_names)]\n",
    "str_data[cols].to_csv('CMP_str_data.csv',index=False)"
   ],
   "metadata": {
    "collapsed": false,
    "ExecuteTime": {
     "end_time": "2024-04-23T14:33:15.044684Z",
     "start_time": "2024-04-23T14:33:15.020093Z"
    }
   },
   "id": "c132d0bd44b7bcf3",
   "execution_count": 72
  },
  {
   "cell_type": "code",
   "outputs": [],
   "source": [],
   "metadata": {
    "collapsed": false
   },
   "id": "2cdfbcbb2b3ea072"
  }
 ],
 "metadata": {
  "kernelspec": {
   "display_name": "Python 3",
   "language": "python",
   "name": "python3"
  },
  "language_info": {
   "codemirror_mode": {
    "name": "ipython",
    "version": 2
   },
   "file_extension": ".py",
   "mimetype": "text/x-python",
   "name": "python",
   "nbconvert_exporter": "python",
   "pygments_lexer": "ipython2",
   "version": "2.7.6"
  }
 },
 "nbformat": 4,
 "nbformat_minor": 5
}
