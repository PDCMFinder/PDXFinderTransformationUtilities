{
 "cells": [
  {
   "cell_type": "code",
   "id": "initial_id",
   "metadata": {
    "collapsed": true,
    "ExecuteTime": {
     "end_time": "2024-10-04T15:45:39.680125Z",
     "start_time": "2024-10-04T15:45:39.388005Z"
    }
   },
   "source": [
    "from utils import home, templates, read_metadata_with_fields, join, create_cols_in_df\n",
    "import pandas as pd"
   ],
   "outputs": [],
   "execution_count": 1
  },
  {
   "metadata": {
    "ExecuteTime": {
     "end_time": "2024-10-03T19:22:43.109733Z",
     "start_time": "2024-10-03T19:22:42.139969Z"
    }
   },
   "cell_type": "code",
   "source": [
    "import requests\n",
    "\n",
    "# Function to map chromosomal location to gene symbol using Ensembl API (GRCh37)\n",
    "def map_location_to_gene(chrom, start, end=None):\n",
    "    # Ensembl API endpoint for GRCh37\n",
    "    server = \"https://grch37.rest.ensembl.org\"\n",
    "    ext = f\"/overlap/region/human/{chrom}:{start-100}\"\n",
    "    \n",
    "    # Add the end position to the query if provided\n",
    "    if end:\n",
    "        ext += f\"-{end}\"\n",
    "    else:\n",
    "        ext += f\"-{start+100}\"\n",
    "    \n",
    "    # Add type of feature to return (gene)\n",
    "    ext += \"?feature=gene\"\n",
    "    \n",
    "    # Set headers to accept JSON format\n",
    "    headers = {\"Content-Type\": \"application/json\"}\n",
    "    \n",
    "    # Make the request to Ensembl API\n",
    "    response = requests.get(server + ext, headers=headers)\n",
    "    \n",
    "    # Check for a successful response\n",
    "    if not response.ok:\n",
    "        return f\"Error {response.status_code}: {response.text}\"\n",
    "    \n",
    "    # Parse the JSON response\n",
    "    decoded = response.json()\n",
    "    \n",
    "    # Check if any genes are found\n",
    "    if decoded:\n",
    "        # Return the first gene symbol found\n",
    "        return decoded[0].get('gene_symbol', 'No gene symbol found')\n",
    "    else:\n",
    "        return \"No gene found for this location\"\n",
    "\n",
    "# Example usage:\n",
    "chromosome = \"12\"\n",
    "start_position = 84374201\n",
    "\n",
    "gene_symbol = map_location_to_gene(chromosome, start_position)\n",
    "print(f\"Gene symbol for chr{chromosome}:{start_position} (hg19) is: {gene_symbol}\")\n"
   ],
   "id": "303360c262d0ce9c",
   "outputs": [
    {
     "name": "stdout",
     "output_type": "stream",
     "text": [
      "Gene symbol for chr12:84374201 (hg19) is: No gene found for this location\n"
     ]
    }
   ],
   "execution_count": 12
  },
  {
   "metadata": {
    "ExecuteTime": {
     "end_time": "2024-10-03T19:53:50.194647Z",
     "start_time": "2024-10-03T19:53:49.538554Z"
    }
   },
   "cell_type": "code",
   "source": [
    "mut = read_metadata_with_fields(join(templates, 'mut/mutation_template_internal-Sheet1.tsv'))\n",
    "raw = pd.read_csv('whims_mutation.csv', sep=',').rename({'Sample': 'sample_id', 'Chr': 'chromosome', 'Pos': 'seq_start_position', 'Ref': 'ref_allele', 'Var': 'alt_allele', 'Gene': 'symbol', 'Xeno VAF': 'allele_frequency'}, axis=1)\n",
    "temp = create_cols_in_df(raw, mut.columns)[mut.columns]\n",
    "temp['platform_id'] = \"mut_wgs_illumina\"\n",
    "temp.to_csv('WUST_mut.tsv', sep='\\t', index=False)"
   ],
   "id": "cea5ead9b5dbca2a",
   "outputs": [
    {
     "name": "stderr",
     "output_type": "stream",
     "text": [
      "/var/folders/_2/g5d3zf4s41g0tvlqkc3_8wjr0000gp/T/ipykernel_81062/1915386916.py:4: SettingWithCopyWarning: \n",
      "A value is trying to be set on a copy of a slice from a DataFrame.\n",
      "Try using .loc[row_indexer,col_indexer] = value instead\n",
      "\n",
      "See the caveats in the documentation: https://pandas.pydata.org/pandas-docs/stable/user_guide/indexing.html#returning-a-view-versus-a-copy\n",
      "  temp['platform_id'] = \"mut_wgs_illumina\"\n"
     ]
    }
   ],
   "execution_count": 36
  },
  {
   "metadata": {
    "ExecuteTime": {
     "end_time": "2024-10-04T16:19:05.064868Z",
     "start_time": "2024-10-04T16:19:04.089441Z"
    }
   },
   "cell_type": "code",
   "source": [
    "logfile = pd.read_csv(join(home, 'WUSTL/mut/annotations/annotater.log'), header=None)\n",
    "vepIn = logfile[0].str.split(':', expand=True)[1].str.split('(', expand=True)[1].str.split(' ', expand=True).iloc[:, 0:5].drop_duplicates()\n",
    "vepIn = vepIn.reset_index(drop=True)\n",
    "vepIn['vepInput'] = vepIn[0].str.replace('chr', '') + ' ' + vepIn[1] + ' ' + vepIn[1] + ' ' + vepIn[3] + '/' + vepIn[4]\n",
    "vepIn.dropna(subset=['vepInput'], inplace=True)\n",
    "vepIn['chr'] = vepIn[0].str.replace('chr', '')\n",
    "vepIn[1] = vepIn[1].astype(int)\n",
    "vepIn.sort_values(by=['chr', 1], inplace=True)\n",
    "vepIn.to_csv('vepIn.tsv', sep='\\t', index=False)\n",
    "vepIn"
   ],
   "id": "c5ef0ddb6f781b96",
   "outputs": [
    {
     "data": {
      "text/plain": [
       "          0          1                   2  3  4                   vepInput  \\\n",
       "8      chr1     768629     chr1_768629_G_A  G  A        1 768629 768629 G/A   \n",
       "9      chr1     864981     chr1_864981_G_C  G  C        1 864981 864981 G/C   \n",
       "10     chr1    1001212    chr1_1001212_A_G  A  G      1 1001212 1001212 A/G   \n",
       "16     chr1    1662614    chr1_1662614_G_A  G  A      1 1662614 1662614 G/A   \n",
       "26     chr1    1673928    chr1_1673928_G_T  G  T      1 1673928 1673928 G/T   \n",
       "...     ...        ...                 ... .. ..                        ...   \n",
       "39519  chrX  155251249  chrX_155251249_C_A  C  A  X 155251249 155251249 C/A   \n",
       "39520  chrX  155267632  chrX_155267632_A_G  A  G  X 155267632 155267632 A/G   \n",
       "39521  chrX  155428030  chrX_155428030_C_G  C  G  X 155428030 155428030 C/G   \n",
       "39522  chrX  155452207  chrX_155452207_G_C  G  C  X 155452207 155452207 G/C   \n",
       "39523  chrX  155548762  chrX_155548762_G_T  G  T  X 155548762 155548762 G/T   \n",
       "\n",
       "      chr  \n",
       "8       1  \n",
       "9       1  \n",
       "10      1  \n",
       "16      1  \n",
       "26      1  \n",
       "...    ..  \n",
       "39519   X  \n",
       "39520   X  \n",
       "39521   X  \n",
       "39522   X  \n",
       "39523   X  \n",
       "\n",
       "[39516 rows x 7 columns]"
      ],
      "text/html": [
       "<div>\n",
       "<style scoped>\n",
       "    .dataframe tbody tr th:only-of-type {\n",
       "        vertical-align: middle;\n",
       "    }\n",
       "\n",
       "    .dataframe tbody tr th {\n",
       "        vertical-align: top;\n",
       "    }\n",
       "\n",
       "    .dataframe thead th {\n",
       "        text-align: right;\n",
       "    }\n",
       "</style>\n",
       "<table border=\"1\" class=\"dataframe\">\n",
       "  <thead>\n",
       "    <tr style=\"text-align: right;\">\n",
       "      <th></th>\n",
       "      <th>0</th>\n",
       "      <th>1</th>\n",
       "      <th>2</th>\n",
       "      <th>3</th>\n",
       "      <th>4</th>\n",
       "      <th>vepInput</th>\n",
       "      <th>chr</th>\n",
       "    </tr>\n",
       "  </thead>\n",
       "  <tbody>\n",
       "    <tr>\n",
       "      <th>8</th>\n",
       "      <td>chr1</td>\n",
       "      <td>768629</td>\n",
       "      <td>chr1_768629_G_A</td>\n",
       "      <td>G</td>\n",
       "      <td>A</td>\n",
       "      <td>1 768629 768629 G/A</td>\n",
       "      <td>1</td>\n",
       "    </tr>\n",
       "    <tr>\n",
       "      <th>9</th>\n",
       "      <td>chr1</td>\n",
       "      <td>864981</td>\n",
       "      <td>chr1_864981_G_C</td>\n",
       "      <td>G</td>\n",
       "      <td>C</td>\n",
       "      <td>1 864981 864981 G/C</td>\n",
       "      <td>1</td>\n",
       "    </tr>\n",
       "    <tr>\n",
       "      <th>10</th>\n",
       "      <td>chr1</td>\n",
       "      <td>1001212</td>\n",
       "      <td>chr1_1001212_A_G</td>\n",
       "      <td>A</td>\n",
       "      <td>G</td>\n",
       "      <td>1 1001212 1001212 A/G</td>\n",
       "      <td>1</td>\n",
       "    </tr>\n",
       "    <tr>\n",
       "      <th>16</th>\n",
       "      <td>chr1</td>\n",
       "      <td>1662614</td>\n",
       "      <td>chr1_1662614_G_A</td>\n",
       "      <td>G</td>\n",
       "      <td>A</td>\n",
       "      <td>1 1662614 1662614 G/A</td>\n",
       "      <td>1</td>\n",
       "    </tr>\n",
       "    <tr>\n",
       "      <th>26</th>\n",
       "      <td>chr1</td>\n",
       "      <td>1673928</td>\n",
       "      <td>chr1_1673928_G_T</td>\n",
       "      <td>G</td>\n",
       "      <td>T</td>\n",
       "      <td>1 1673928 1673928 G/T</td>\n",
       "      <td>1</td>\n",
       "    </tr>\n",
       "    <tr>\n",
       "      <th>...</th>\n",
       "      <td>...</td>\n",
       "      <td>...</td>\n",
       "      <td>...</td>\n",
       "      <td>...</td>\n",
       "      <td>...</td>\n",
       "      <td>...</td>\n",
       "      <td>...</td>\n",
       "    </tr>\n",
       "    <tr>\n",
       "      <th>39519</th>\n",
       "      <td>chrX</td>\n",
       "      <td>155251249</td>\n",
       "      <td>chrX_155251249_C_A</td>\n",
       "      <td>C</td>\n",
       "      <td>A</td>\n",
       "      <td>X 155251249 155251249 C/A</td>\n",
       "      <td>X</td>\n",
       "    </tr>\n",
       "    <tr>\n",
       "      <th>39520</th>\n",
       "      <td>chrX</td>\n",
       "      <td>155267632</td>\n",
       "      <td>chrX_155267632_A_G</td>\n",
       "      <td>A</td>\n",
       "      <td>G</td>\n",
       "      <td>X 155267632 155267632 A/G</td>\n",
       "      <td>X</td>\n",
       "    </tr>\n",
       "    <tr>\n",
       "      <th>39521</th>\n",
       "      <td>chrX</td>\n",
       "      <td>155428030</td>\n",
       "      <td>chrX_155428030_C_G</td>\n",
       "      <td>C</td>\n",
       "      <td>G</td>\n",
       "      <td>X 155428030 155428030 C/G</td>\n",
       "      <td>X</td>\n",
       "    </tr>\n",
       "    <tr>\n",
       "      <th>39522</th>\n",
       "      <td>chrX</td>\n",
       "      <td>155452207</td>\n",
       "      <td>chrX_155452207_G_C</td>\n",
       "      <td>G</td>\n",
       "      <td>C</td>\n",
       "      <td>X 155452207 155452207 G/C</td>\n",
       "      <td>X</td>\n",
       "    </tr>\n",
       "    <tr>\n",
       "      <th>39523</th>\n",
       "      <td>chrX</td>\n",
       "      <td>155548762</td>\n",
       "      <td>chrX_155548762_G_T</td>\n",
       "      <td>G</td>\n",
       "      <td>T</td>\n",
       "      <td>X 155548762 155548762 G/T</td>\n",
       "      <td>X</td>\n",
       "    </tr>\n",
       "  </tbody>\n",
       "</table>\n",
       "<p>39516 rows × 7 columns</p>\n",
       "</div>"
      ]
     },
     "execution_count": 36,
     "metadata": {},
     "output_type": "execute_result"
    }
   ],
   "execution_count": 36
  },
  {
   "metadata": {
    "ExecuteTime": {
     "end_time": "2024-10-04T16:13:04.765748Z",
     "start_time": "2024-10-04T16:13:04.431933Z"
    }
   },
   "cell_type": "code",
   "source": [
    "\n",
    "vepIn.sort_values(by=[0, 1], inplace=True)\n",
    "vepIn.to_csv('vepIn.tsv', sep='\\t', index=False)"
   ],
   "id": "66e8dc4c7443ae4c",
   "outputs": [],
   "execution_count": 29
  },
  {
   "metadata": {
    "ExecuteTime": {
     "end_time": "2024-10-04T16:17:20.786904Z",
     "start_time": "2024-10-04T16:17:20.734059Z"
    }
   },
   "cell_type": "code",
   "source": "",
   "id": "53a0ecdee7f8b84d",
   "outputs": [],
   "execution_count": 32
  },
  {
   "metadata": {
    "ExecuteTime": {
     "end_time": "2024-10-04T16:17:39.389080Z",
     "start_time": "2024-10-04T16:17:39.371535Z"
    }
   },
   "cell_type": "code",
   "source": "",
   "id": "a8cb28c77f0a3878",
   "outputs": [
    {
     "data": {
      "text/plain": [
       "8        100039881\n",
       "9          1001212\n",
       "10       100296079\n",
       "11       100667108\n",
       "12       100752587\n",
       "           ...    \n",
       "39519     99832273\n",
       "39520     99870774\n",
       "39521     99915253\n",
       "39522     99956121\n",
       "39523     99958169\n",
       "Name: 1, Length: 39516, dtype: int64"
      ]
     },
     "execution_count": 33,
     "metadata": {},
     "output_type": "execute_result"
    }
   ],
   "execution_count": 33
  },
  {
   "metadata": {
    "ExecuteTime": {
     "end_time": "2024-10-04T17:47:33.344183Z",
     "start_time": "2024-10-04T17:47:33.282087Z"
    }
   },
   "cell_type": "code",
   "source": "mut = read_metadata_with_fields(join(home, 'WUSTL/mut/WUSTL_mut.tsv'))",
   "id": "45977ecc9e8653c2",
   "outputs": [],
   "execution_count": 37
  },
  {
   "metadata": {
    "ExecuteTime": {
     "end_time": "2024-10-04T17:47:41.991492Z",
     "start_time": "2024-10-04T17:47:41.982737Z"
    }
   },
   "cell_type": "code",
   "source": "mut.sample_id.unique()",
   "id": "7b9bc16e81d2b1e6",
   "outputs": [
    {
     "data": {
      "text/plain": [
       "array(['WHIM5', 'WHIM6', 'WHIM8', 'WHIM9', 'WHIM11', 'WHIM12', 'WHIM13',\n",
       "       'WHIM14', 'WHIM16', 'WHIM18', 'WHIM20', 'WHIM21'], dtype=object)"
      ]
     },
     "execution_count": 39,
     "metadata": {},
     "output_type": "execute_result"
    }
   ],
   "execution_count": 39
  },
  {
   "metadata": {},
   "cell_type": "code",
   "outputs": [],
   "execution_count": null,
   "source": "",
   "id": "e4bfb5bf0bbdca61"
  }
 ],
 "metadata": {
  "kernelspec": {
   "display_name": "Python 3",
   "language": "python",
   "name": "python3"
  },
  "language_info": {
   "codemirror_mode": {
    "name": "ipython",
    "version": 2
   },
   "file_extension": ".py",
   "mimetype": "text/x-python",
   "name": "python",
   "nbconvert_exporter": "python",
   "pygments_lexer": "ipython2",
   "version": "2.7.6"
  }
 },
 "nbformat": 4,
 "nbformat_minor": 5
}
