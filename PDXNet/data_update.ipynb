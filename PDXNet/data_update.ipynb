{
 "cells": [
  {
   "cell_type": "code",
   "execution_count": 88,
   "id": "initial_id",
   "metadata": {
    "collapsed": true,
    "ExecuteTime": {
     "end_time": "2023-11-24T12:44:46.233003Z",
     "start_time": "2023-11-24T12:44:46.225487Z"
    }
   },
   "outputs": [],
   "source": [
    "import pandas as pd\n",
    "from utils import get_dirs, get_files\n",
    "from os.path import join\n",
    "from tqdm import tqdm"
   ]
  },
  {
   "cell_type": "code",
   "execution_count": 89,
   "outputs": [],
   "source": [
    "def read_metadata(path):\n",
    "    df = pd.read_excel(path, skiprows=1, header=1)\n",
    "    df = df[df['Model Type'] == \"PDX\"]\n",
    "    return df\n",
    "\n",
    "def pdxnet_model_ids(df):\n",
    "    id_col = 'model_id'\n",
    "    df[id_col] = df['ContributorPDX.ID']\n",
    "    df[id_col] = df[id_col].str.split('[,;]')\n",
    "    df = df.explode(id_col)\n",
    "    df.reset_index(drop=True, inplace=True)\n",
    "    df[id_col] = df[id_col].str.replace('\\s+\\(.*\\)', '', regex=True).str.replace(\"HCI0\", \"HCI-0\").str.replace(\" \", '')\n",
    "    condition = (df['Contributor'] == 'BCM') & (~df[id_col].astype(str).str.startswith('BCM-')) & (\n",
    "        df[id_col].astype(str).str.isnumeric())\n",
    "    df.loc[condition, id_col] = 'BCM-' + df.loc[condition, id_col].astype(str)\n",
    "    return df"
   ],
   "metadata": {
    "collapsed": false,
    "ExecuteTime": {
     "end_time": "2023-11-24T12:44:46.254925Z",
     "start_time": "2023-11-24T12:44:46.238871Z"
    }
   },
   "id": "3b086363f3211898"
  },
  {
   "cell_type": "code",
   "execution_count": 90,
   "outputs": [],
   "source": [
    "files = {'raw_all': '/Users/tushar/CancerModels/submission/PDXNet/raw/PDXNet Portal - Seven Bridges.csv',\n",
    "         'raw_dir': '/Users/tushar/CancerModels/submission/PDXNet/raw/'}"
   ],
   "metadata": {
    "collapsed": false,
    "ExecuteTime": {
     "end_time": "2023-11-24T12:44:46.255249Z",
     "start_time": "2023-11-24T12:44:46.244963Z"
    }
   },
   "id": "20176bf56ce584ca"
  },
  {
   "cell_type": "code",
   "execution_count": 91,
   "outputs": [
    {
     "name": "stderr",
     "output_type": "stream",
     "text": [
      "For HCI processing 1 excel files: 100%|██████████| 1/1 [00:00<00:00, 17.21it/s]\n",
      "For WUSTL processing 1 excel files:   0%|          | 0/1 [00:00<?, ?it/s]/Users/tushar/Library/Python/3.9/lib/python/site-packages/openpyxl/worksheet/_reader.py:329: UserWarning: Unknown extension is not supported and will be removed\n",
      "  warn(msg)\n",
      "For WUSTL processing 1 excel files: 100%|██████████| 1/1 [00:00<00:00,  9.33it/s]\n",
      "For MDACC processing 2 excel files: 100%|██████████| 2/2 [00:00<00:00, 13.94it/s]\n",
      "For BCM processing 1 excel files: 100%|██████████| 1/1 [00:00<00:00, 12.38it/s]\n",
      "For WISTAR processing 1 excel files: 100%|██████████| 1/1 [00:00<00:00, 14.49it/s]\n"
     ]
    }
   ],
   "source": [
    "providers = get_dirs(files['raw_dir'])\n",
    "raw_data = pdxnet_model_ids(pd.read_csv(files['raw_all']).drop('Unnamed: 0', axis=1))\n",
    "\n",
    "for i in range(len(providers)):\n",
    "    provider = providers[i]\n",
    "    p_path = join(files['raw_dir'], provider)\n",
    "    raw_files = [f for f in get_files(p_path) if f.endswith('.xlsx')]\n",
    "    for f in tqdm(raw_files, f'For {provider} processing {len(raw_files)} excel files'):\n",
    "        df = read_metadata(join(p_path, f))\n",
    "        temp = raw_data[raw_data['Contributor']==provider]\n",
    "        df = df.merge(temp, left_on='Model ID', right_on='model_id', how='outer')\n",
    "        df.to_csv(join(p_path, f + '-merged.tsv'), sep='\\t', index=False)"
   ],
   "metadata": {
    "collapsed": false,
    "ExecuteTime": {
     "end_time": "2023-11-24T12:44:46.778273Z",
     "start_time": "2023-11-24T12:44:46.258921Z"
    }
   },
   "id": "8c2806451ff589a5"
  },
  {
   "cell_type": "code",
   "execution_count": 91,
   "outputs": [],
   "source": [],
   "metadata": {
    "collapsed": false,
    "ExecuteTime": {
     "end_time": "2023-11-24T12:44:46.787975Z",
     "start_time": "2023-11-24T12:44:46.781346Z"
    }
   },
   "id": "5a701c5bfe93e672"
  }
 ],
 "metadata": {
  "kernelspec": {
   "display_name": "Python 3",
   "language": "python",
   "name": "python3"
  },
  "language_info": {
   "codemirror_mode": {
    "name": "ipython",
    "version": 2
   },
   "file_extension": ".py",
   "mimetype": "text/x-python",
   "name": "python",
   "nbconvert_exporter": "python",
   "pygments_lexer": "ipython2",
   "version": "2.7.6"
  }
 },
 "nbformat": 4,
 "nbformat_minor": 5
}
