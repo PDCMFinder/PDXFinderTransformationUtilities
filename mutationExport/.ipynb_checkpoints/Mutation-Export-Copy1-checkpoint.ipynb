{
 "cells": [
  {
   "cell_type": "code",
   "execution_count": 1,
   "metadata": {},
   "outputs": [],
   "source": [
    "%%bash\n",
    "#Cypher query to export patient samples in cypher-shell\n",
    "cypher-shell -u neo4j -p neo5j \"MATCH (p:Patient)--(ps:PatientSnapshot)--(s:Sample)--(mod:ModelCreation) \n",
    "with ps, mod, s, p\n",
    "MATCH (s)-[:CHARACTERIZED_BY]-(mc:MolecularCharacterization)-[:ASSOCIATED_WITH]-(ma:MarkerAssociation)\n",
    "WHERE mc.type = 'mutation'\n",
    "OPTIONAL MATCH (s)--(on:OntologyTerm) \n",
    "OPTIONAL MATCH (s)--(tt:TumorType) \n",
    "\n",
    "return distinct mod.dataSource,mod.sourcePdxId,s.sourceSampleId,on.label,tt.name, ma.molecularDataString;\" > patientSamplesMut"
   ]
  },
  {
   "cell_type": "code",
   "execution_count": 9,
   "metadata": {},
   "outputs": [],
   "source": [
    "%%bash\n",
    "#Cypher query to export xenograft information for samples in cypher-shell\n",
    "cypher-shell -u neo4j -p neo5j \"MATCH (p:Patient)--(ps:PatientSnapshot)--(pss:Sample)--(mod:ModelCreation) \n",
    "WITH p,ps,pss,mod\n",
    "MATCH (mod)--(sp:Specimen)--(s:Sample)-[:CHARACTERIZED_BY]-(mc:MolecularCharacterization)-[:ASSOCIATED_WITH]-(ma:MarkerAssociation)\n",
    "WHERE mc.type = 'mutation' \n",
    "WITH p, ps, pss, mod, s, mc, ma\n",
    "OPTIONAL MATCH (pss)--(on:OntologyTerm) \n",
    "OPTIONAL MATCH (pss)--(tt:TumorType)  \n",
    "return distinct mod.dataSource, mod.sourcePdxId,s.sourceSampleId, on.label, tt.name, ma.molecularDataString;\" > xenograftSampleMutes\n",
    "\n"
   ]
  },
  {
   "cell_type": "code",
   "execution_count": 6,
   "metadata": {},
   "outputs": [],
   "source": [
    "%%bash \n",
    "cat patientSamplesMut\n"
   ]
  },
  {
   "cell_type": "code",
   "execution_count": null,
   "metadata": {},
   "outputs": [],
   "source": []
  }
 ],
 "metadata": {
  "kernelspec": {
   "display_name": "Python 3",
   "language": "python",
   "name": "python3"
  },
  "language_info": {
   "codemirror_mode": {
    "name": "ipython",
    "version": 3
   },
   "file_extension": ".py",
   "mimetype": "text/x-python",
   "name": "python",
   "nbconvert_exporter": "python",
   "pygments_lexer": "ipython3",
   "version": "3.6.9"
  }
 },
 "nbformat": 4,
 "nbformat_minor": 2
}
