{
 "cells": [
  {
   "cell_type": "code",
   "metadata": {
    "collapsed": true,
    "ExecuteTime": {
     "end_time": "2024-11-20T11:05:02.346279Z",
     "start_time": "2024-11-20T11:05:02.339306Z"
    }
   },
   "source": [
    "import os\n",
    "\n",
    "import pandas as pd\n",
    "import requests\n",
    "from os import remove\n",
    "import logging\n",
    "from math import isnan\n",
    "\n",
    "from hdfs.config import catch\n",
    "from tqdm import tqdm\n",
    "\n",
    "log = logging.getLogger(__name__)\n",
    "logging.basicConfig(filename='Fetch_RNASEQ_expression_PDMR.log', level=logging.INFO, format='%(levelname)s:%(asctime)s: %(message)s', datefmt='%d/%m/%Y %I:%M %p')"
   ],
   "outputs": [],
   "execution_count": 11
  },
  {
   "cell_type": "code",
   "source": [
    "def extract_ensembleid_from_dbxrefs(row):\n",
    "    row = row.split(\"|\")\n",
    "    id = [x.split(\":\")[1] for x in row if \"Ensembl\" in x]\n",
    "    if len(id)>0:\n",
    "        return id[0]\n",
    "    else:\n",
    "        return \"\"\n",
    "\n",
    "def extract_hgncid_from_dbxrefs(row):\n",
    "    row = row.split(\"|\")\n",
    "    id = [x.split(\":\")[2] for x in row if \"HGNC\" in x]\n",
    "    if len(id)>0:\n",
    "        return \"HGNC:\"+str(id[0])\n",
    "    else:\n",
    "        return \"\"\n",
    "\n",
    "def convert_cytoband2coord(row, cytobands):\n",
    "    if not row.start > 0:\n",
    "        sample = cytobands[cytobands.chromosome == \"chr\"+str(row.chromosome)]\n",
    "        sample.cytoband = sample.chromosome.replace(\"chr\", \"\", regex=True) + sample.cytoband\n",
    "        if len(sample[sample.cytoband == row.map_location])==1:\n",
    "                    row['start'] = sample[sample.cytoband == row.map_location]['start_pos'].reset_index(drop=True)[0]\n",
    "                    row['end'] = sample[sample.cytoband == row.map_location]['end_pos'].reset_index(drop=True)[0]\n",
    "                    row['strand'] = 1.0\n",
    "    return row\n",
    "\n",
    "def get_geneSymbol_locations():\n",
    "    Reference = pd.read_json(\"/Users/tushar/Downloads/homo_sapiens_genes.json\")\n",
    "    Reference = Reference[[\"id\",\"name\", \"seq_region_name\", \"strand\", \"start\", \"end\", \"coord_system\", \"synonyms\"]]\n",
    "    Reference = pd.concat([Reference, Reference.coord_system.apply(pd.Series)], axis=1).drop(\"coord_system\", axis=1)\n",
    "    Reference[\"symbol\"] = Reference.iloc[:,1]\n",
    "    Reference = Reference[Reference[\"symbol\"].isna() == False]\n",
    "    Reference = Reference[Reference[\"version\"] == \"GRCh38\"]\n",
    "\n",
    "    NCBI_ref = pd.read_csv(\"/Users/tushar/Downloads/Homo_sapiens.gene_info\",sep='\\t')\n",
    "    NCBI_ref['ensembl_id'] = NCBI_ref.dbXrefs.apply(lambda x: extract_ensembleid_from_dbxrefs(x))\n",
    "    NCBI_ref['hgnc_id'] = NCBI_ref.dbXrefs.apply(lambda x: extract_hgncid_from_dbxrefs(x))\n",
    "    NCBI_ref = NCBI_ref[[\"Symbol\", \"Synonyms\", \"chromosome\", \"map_location\", \"GeneID\", \"ensembl_id\"]]\n",
    "\n",
    "    cyto2coordinates = pd.read_csv(\"/Users/tushar/pdx/update-data/cytoBand.txt\", sep='\\t', names=[\"chromosome\", \"start_pos\", \"end_pos\", \"cytoband\", \"info\"])\n",
    "    cyto2coordinates = cyto2coordinates[cyto2coordinates.cytoband.isna() == False]\n",
    "\n",
    "    GeneSymbol_Locations = NCBI_ref.merge(Reference, left_on=\"ensembl_id\", right_on=\"id\", how=\"left\").apply(convert_cytoband2coord, cytobands=cyto2coordinates, axis=1)\n",
    "    GeneSymbol_Locations = GeneSymbol_Locations[[\"Symbol\", \"Synonyms\", \"chromosome\", \"strand\", \"start\", \"end\", \"GeneID\", \"ensembl_id\"]]\n",
    "    GeneSymbol_Locations = GeneSymbol_Locations[GeneSymbol_Locations.start.isna() ==False]\n",
    "    GeneSymbol_Locations = GeneSymbol_Locations.drop_duplicates(subset=['Symbol'])\n",
    "    return GeneSymbol_Locations"
   ],
   "metadata": {
    "collapsed": false,
    "ExecuteTime": {
     "end_time": "2024-11-20T11:05:02.668694Z",
     "start_time": "2024-11-20T11:05:02.637526Z"
    }
   },
   "outputs": [],
   "execution_count": 12
  },
  {
   "cell_type": "code",
   "source": [
    "def get_location_from_synonym(row, GeneSymbol_Locations):\n",
    "    if not isinstance(row['Symbol'], str) and isnan(row['Symbol']):\n",
    "        pattern = \"(^|\\|)\"+row[\"gene_id\"]+\"($|\\|)\"\n",
    "        match = GeneSymbol_Locations.loc[GeneSymbol_Locations.Synonyms.str.contains(pattern)].reset_index(drop=True)\n",
    "        if len(match) > 1:\n",
    "            match = match.iloc[0]\n",
    "        if len(match) == 1:\n",
    "            row['Symbol'], row['chromosome'], row['strand'], row['start'], row['end'], row['GeneID'], row['ensembl_id'] = match['Symbol'][0], match['chromosome'][0], match['strand'][0], match['start'][0], match['end'][0], match['GeneID'][0], match['ensembl_id'][0]\n",
    "    return row\n",
    "\n",
    "def process_RSEM(sample_id, out_path, GeneSymbol_Locations):\n",
    "    RSEM = pd.read_csv(out_path+\"raw_exp/PDMR_expression_\"+sample_id+\".tsv\", sep=\"\\t\")\n",
    "    template = pd.read_csv(\"expression_template-sheet.tsv\", sep=\"\\t\")\n",
    "\n",
    "    #RSEM = RSEM.merge(GeneSymbol_Locations, how='left', left_on='gene_id', right_on='Symbol')\n",
    "    #RSEM = RSEM.apply(get_location_from_synonym, GeneSymbol_Locations=GeneSymbol_Locations, axis=1)\n",
    "    #RSEM = RSEM[['gene_id','expected_count','TPM','FPKM','chromosome','strand','start','end','GeneID','ensembl_id']].fillna('')\n",
    "\n",
    "    template[\"symbol\"] = RSEM[\"gene_id\"]\n",
    "    template[\"sample_id\"] = sample_id\n",
    "    template[\"rnaseq_tpm\"], template[\"rnaseq_fpkm\"], template[\"rnaseq_count\"] = RSEM[\"TPM\"], RSEM[\"FPKM\"], RSEM[\"expected_count\"]\n",
    "    #template[\"strand\"], template[\"ncbi_gene_id\"], template[\"ensembl_gene_id\"], template[\"chromosome\"] = RSEM[\"strand\"], RSEM[\"GeneID\"], RSEM[\"ensembl_id\"], RSEM[\"chromosome\"]\n",
    "    #template[\"seq_start_position\"], template[\"seq_end_position\"] = RSEM[\"start\"], RSEM[\"end\"]\n",
    "    template[\"platform_id\"] = \"expression_RNASEQ_Illumina_NGS\"\n",
    "    #template.dropna(subset=['chromosome'], inplace=True)\n",
    "    #template[template[\"chromosome\"]!=\"\"]\n",
    "    template.to_csv(out_path+\"expression/PDMR_expression_\"+sample_id+\".tsv\", sep=\"\\t\", index=False)\n",
    "\n",
    "def fetch_rnaseq_RSEM(URL, sample_id, out_path):\n",
    "    PDMR_domain = \"https://pdmdb.cancer.gov/\"\n",
    "    URL = PDMR_domain + URL #PDMR_rnaseq_sheet[\"RSEM(genes)\"].iloc[0]\n",
    "    response = requests.get(URL)\n",
    "    open(\"gene_rnaseq.tsv\", \"wb\").write(response.content)\n",
    "    merge_raw_RSEM_files(sample_id, out_path)\n",
    "    remove(\"gene_rnaseq.tsv\")\n",
    "\n",
    "def merge_raw_RSEM_files(sample_id, out_path):\n",
    "    RSEM = pd.read_csv(\"gene_rnaseq.tsv\", sep=\"\\t\")\n",
    "    #final_df = pd.read_csv(\"gene_rnaseq_final.tsv\", sep=\"\\t\")\n",
    "    RSEM[\"sample_id\"] = sample_id\n",
    "    #final_df = final_df.append(RSEM[final_df.columns])\n",
    "    RSEM[['sample_id', 'gene_id', 'TPM', 'FPKM', 'expected_count']].to_csv(out_path+\"raw_exp/PDMR_expression_\"+sample_id+\".tsv\", sep=\"\\t\", index=False)\n",
    "\n",
    "def PDMR_RNASEQ(path, sample_path, mol_sample_path, out_path, GeneSymbol_Locations):\n",
    "    PDMR_rnaseq_sheet = pd.read_csv(path, header=0)\n",
    "    sample_sheet = pd.read_csv(sample_path, sep=\"\\t\")\n",
    "    mol_sample_sheet = pd.read_csv(mol_sample_path, sep=\"\\t\")\n",
    "    PDMR_rnaseq_sheet['model_id'] = ['-'+r if r.__contains__('PDC') or r.__contains__('organoid') else '' for r in PDMR_rnaseq_sheet['Sample ID']]\n",
    "    PDMR_rnaseq_sheet['model_id'] = PDMR_rnaseq_sheet['Patient ID'] + '-'+ PDMR_rnaseq_sheet['Specimen ID'] + PDMR_rnaseq_sheet['model_id']\n",
    "    PDMR_rnaseq_sheet = PDMR_rnaseq_sheet[[True if m in sample_sheet['model_id'].unique() else False for m in PDMR_rnaseq_sheet['model_id']]] \n",
    "    \n",
    "    mol_sample_sheet_subset = mol_sample_sheet[mol_sample_sheet['platform_id'].fillna('').str.contains('expression') ]\n",
    "    PDMR_rnaseq_sheet = PDMR_rnaseq_sheet[[True if m not in mol_sample_sheet_subset['model_id'].unique() else False for m in PDMR_rnaseq_sheet['model_id']]] \n",
    "    \n",
    "    for i in tqdm(range(0, PDMR_rnaseq_sheet.shape[0])):\n",
    "        URL = PDMR_rnaseq_sheet[\"RSEM(genes)\"].iloc[i]\n",
    "        sample_id = str(PDMR_rnaseq_sheet[\"Patient ID\"].iloc[i])+\"-\"+str(PDMR_rnaseq_sheet[\"Specimen ID\"].iloc[i])\n",
    "        model_type = PDMR_rnaseq_sheet[\"PDM Type\"].iloc[i]\n",
    "        if model_type.__contains__(\"Organoid\") or model_type.__contains__(\"PDC\"):\n",
    "            ps_id = sample_id+\"-\"+str(PDMR_rnaseq_sheet[\"Sample ID\"].iloc[i])\n",
    "        else:\n",
    "            ps_id = sample_id\n",
    "        if str(PDMR_rnaseq_sheet[\"Sample ID\"].iloc[i]) != \"ORIGINATOR\":\n",
    "            sample_id = sample_id+\"-\"+str(PDMR_rnaseq_sheet[\"Sample ID\"].iloc[i])\n",
    "        if ps_id in list(sample_sheet[\"sample_id\"]) and ps_id not in mol_sample_sheet[\"sample_id\"]:\n",
    "            try:\n",
    "                log.info(\"Fetching expression data for \"+sample_id + \".\")\n",
    "                fetch_rnaseq_RSEM(URL, sample_id, out_path)\n",
    "                process_RSEM(sample_id, out_path, GeneSymbol_Locations)\n",
    "                mol_sample_sheet = add_to_mol_sample(sample_id, model_type, mol_sample_sheet)\n",
    "            except Exception as e:\n",
    "                log.info(f\"Error: {sample_id} : {e}\")\n",
    "    mol_sample_sheet.to_csv(out_path + \"PDMR_molecular_metadata-sample.tsv\", sep=\"\\t\", index=False)\n",
    "\n",
    "def add_to_mol_sample(sample_id, model_type, df):\n",
    "    # Field\tmodel_id\tsample_id\tsample_origin\tpassage\thost_strain_name\thost_strain_nomenclature\tengrafted_tumor_collection_site\traw_data_url\tplatform_id\n",
    "    if model_type.__contains__(\"Organoid\") or  model_type.__contains__(\"PDC\"):\n",
    "        sample_origin = \"cell\"\n",
    "        model = sample_id\n",
    "    elif model_type == \"Patient/Originator Specimen\":\n",
    "        sample_origin = \"patient\"\n",
    "        model = sample_id\n",
    "    elif model_type == \"PDX\": \n",
    "        sample_origin = \"xenograft\"\n",
    "        model = \"-\".join(sample_id.split(\"-\")[:-1])\n",
    "    platform = \"expression_RNASEQ_Illumina_NGS\"\n",
    "    row = [\"\", model, sample_id, sample_origin, \"\", \"\", \"\", \"\", \"\", platform]\n",
    "    return pd.concat([df, pd.DataFrame(row)]).reset_index(drop=True)"
   ],
   "metadata": {
    "collapsed": false,
    "ExecuteTime": {
     "end_time": "2024-11-20T11:18:36.151792Z",
     "start_time": "2024-11-20T11:18:36.116773Z"
    }
   },
   "outputs": [],
   "execution_count": 32
  },
  {
   "cell_type": "code",
   "source": [
    "PDMR_rnaseq_sheet_path = 'rnasequence.csv'\n",
    "sample_path = '/Users/tushar/CancerModels/pdxfinder-data/data/UPDOG/PDMR/PDMR_metadata-patient_sample.tsv'\n",
    "mol_sample_path = '/Users/tushar/CancerModels/pdxfinder-data/data/UPDOG/PDMR/PDMR_molecular_metadata-sample.tsv'\n",
    "out_path = \"/Users/tushar/CancerModels/submission/PDMR/\"\n",
    "GeneSymbol_Locations = \"\"#get_geneSymbol_locations()\n",
    "log.info(\"Fetching RNASeq RSEM data from PDMR...\\n\")"
   ],
   "metadata": {
    "collapsed": false,
    "ExecuteTime": {
     "end_time": "2024-11-20T11:18:36.553829Z",
     "start_time": "2024-11-20T11:18:36.547476Z"
    }
   },
   "outputs": [],
   "execution_count": 33
  },
  {
   "cell_type": "code",
   "source": [
    "PDMR_RNASEQ(PDMR_rnaseq_sheet_path, sample_path, mol_sample_path, out_path, GeneSymbol_Locations)"
   ],
   "metadata": {
    "collapsed": false,
    "ExecuteTime": {
     "end_time": "2024-11-20T12:41:09.768265Z",
     "start_time": "2024-11-20T11:18:37.117278Z"
    }
   },
   "outputs": [
    {
     "name": "stderr",
     "output_type": "stream",
     "text": [
      "100%|██████████| 2080/2080 [1:22:25<00:00,  2.38s/it]\n"
     ]
    }
   ],
   "execution_count": 34
  },
  {
   "cell_type": "code",
   "execution_count": 21,
   "outputs": [],
   "source": [
    "mol_sample_sheet = pd.read_csv(out_path + \"PDMR_molecular_metadata-sample.tsv\", sep=\"\\t\")\n",
    "sample_passage = pd.read_csv('pdm_samples.csv')\n",
    "sample_passage['sample_id'] = sample_passage['Patient ID']+'-'+sample_passage[\"Specimen ID\"]+\"-\"+sample_passage['Sample ID']"
   ],
   "metadata": {
    "collapsed": false,
    "ExecuteTime": {
     "end_time": "2023-10-09T13:19:35.898973Z",
     "start_time": "2023-10-09T13:19:35.844944Z"
    }
   }
  },
  {
   "cell_type": "code",
   "execution_count": 22,
   "outputs": [],
   "source": [
    "def get_passage(row):\n",
    "    if row['platform_id'] == \"expression_RNASEQ_Illumina_NGS\" and row['sample_origin']==\"xenograft\":\n",
    "        row['passage'] = sample_passage[sample_passage['sample_id'] == row['sample_id']]['Passage'].reset_index(drop=True)[0]\n",
    "        return row\n",
    "    else:\n",
    "        return row\n",
    "mol_sample_sheet.apply(get_passage, axis=1).to_csv(out_path + \"PDMR_molecular_metadata-sample.tsv\", sep=\"\\t\", index=False)"
   ],
   "metadata": {
    "collapsed": false,
    "ExecuteTime": {
     "end_time": "2023-10-09T13:19:52.129714Z",
     "start_time": "2023-10-09T13:19:47.176381Z"
    }
   }
  },
  {
   "cell_type": "code",
   "execution_count": 26,
   "outputs": [],
   "source": [
    "mol_sample_sheet = pd.read_csv(out_path + \"PDMR_molecular_metadata-sample.tsv\", sep=\"\\t\")\n",
    "rnaseq = pd.read_csv(PDMR_rnaseq_sheet_path)\n",
    "rnaseq['sample_id'] = rnaseq['Patient ID']+'-'+rnaseq[\"Specimen ID\"]+\"-\"+rnaseq['Sample ID']"
   ],
   "metadata": {
    "collapsed": false,
    "ExecuteTime": {
     "end_time": "2023-10-09T13:24:27.579191Z",
     "start_time": "2023-10-09T13:24:27.508620Z"
    }
   }
  },
  {
   "cell_type": "code",
   "execution_count": 27,
   "outputs": [],
   "source": [
    "def get_passage(row):\n",
    "    if row['platform_id'] == \"expression_RNASEQ_Illumina_NGS\" and row['sample_origin']!=\"patient\":\n",
    "        row['raw_data_url'] = \"https://pdmdb.cancer.gov/\"+rnaseq[rnaseq['sample_id'] == row['sample_id']]['RSEM(genes)'].reset_index(drop=True)[0]\n",
    "        return row\n",
    "    else:\n",
    "        return row\n",
    "mol_sample_sheet.apply(get_passage, axis=1).to_csv(out_path + \"PDMR_molecular_metadata-sample.tsv\", sep=\"\\t\", index=False)"
   ],
   "metadata": {
    "collapsed": false,
    "ExecuteTime": {
     "end_time": "2023-10-09T13:24:32.821912Z",
     "start_time": "2023-10-09T13:24:27.995887Z"
    }
   }
  },
  {
   "cell_type": "code",
   "execution_count": 6,
   "outputs": [],
   "source": [
    "from utils import get_files, get_dirs\n",
    "home = \"/Users/tushar/CancerModels/pdxfinder-data/data/UPDOG/\""
   ],
   "metadata": {
    "collapsed": false,
    "ExecuteTime": {
     "end_time": "2024-04-08T15:39:18.185091Z",
     "start_time": "2024-04-08T15:39:18.070040Z"
    }
   }
  },
  {
   "cell_type": "code",
   "outputs": [],
   "source": [
    "expression_files = get_files(os.path.join(home, 'PDMR', 'expression'))\n",
    "template = pd.read_csv('expression_template-sheet.tsv', sep='\\t')\n",
    "for f in expression_files:\n",
    "    df = pd.read_csv(os.path.join(home, 'PDMR', 'expression', f), sep='\\t')[template.columns]\n",
    "    df.to_csv(os.path.join(home, 'PDMR', 'expression', f), sep='\\t', index=False)"
   ],
   "metadata": {
    "collapsed": false,
    "ExecuteTime": {
     "end_time": "2024-04-08T16:02:52.048668Z",
     "start_time": "2024-04-08T15:41:40.028504Z"
    }
   },
   "execution_count": 11
  },
  {
   "cell_type": "code",
   "outputs": [],
   "source": [],
   "metadata": {
    "collapsed": false
   },
   "execution_count": null
  }
 ],
 "metadata": {
  "kernelspec": {
   "display_name": "Python 3",
   "language": "python",
   "name": "python3"
  },
  "language_info": {
   "codemirror_mode": {
    "name": "ipython",
    "version": 2
   },
   "file_extension": ".py",
   "mimetype": "text/x-python",
   "name": "python",
   "nbconvert_exporter": "python",
   "pygments_lexer": "ipython2",
   "version": "2.7.6"
  }
 },
 "nbformat": 4,
 "nbformat_minor": 0
}
