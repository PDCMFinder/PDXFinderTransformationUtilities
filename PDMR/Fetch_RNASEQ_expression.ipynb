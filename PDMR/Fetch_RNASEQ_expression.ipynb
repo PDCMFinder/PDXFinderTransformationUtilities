{
 "cells": [
  {
   "cell_type": "code",
   "execution_count": 2,
   "metadata": {
    "collapsed": true
   },
   "outputs": [],
   "source": [
    "import os\n",
    "\n",
    "import pandas as pd\n",
    "import requests\n",
    "from os import remove\n",
    "import logging\n",
    "from math import isnan\n",
    "from tqdm import tqdm\n",
    "\n",
    "log = logging.getLogger(__name__)\n",
    "logging.basicConfig(filename='Fetch_RNASEQ_expression_PDMR.log', level=logging.INFO, format='%(levelname)s:%(asctime)s: %(message)s', datefmt='%d/%m/%Y %I:%M %p')"
   ]
  },
  {
   "cell_type": "code",
   "execution_count": 3,
   "outputs": [],
   "source": [
    "def extract_ensembleid_from_dbxrefs(row):\n",
    "    row = row.split(\"|\")\n",
    "    id = [x.split(\":\")[1] for x in row if \"Ensembl\" in x]\n",
    "    if len(id)>0:\n",
    "        return id[0]\n",
    "    else:\n",
    "        return \"\"\n",
    "\n",
    "def extract_hgncid_from_dbxrefs(row):\n",
    "    row = row.split(\"|\")\n",
    "    id = [x.split(\":\")[2] for x in row if \"HGNC\" in x]\n",
    "    if len(id)>0:\n",
    "        return \"HGNC:\"+str(id[0])\n",
    "    else:\n",
    "        return \"\"\n",
    "\n",
    "def convert_cytoband2coord(row, cytobands):\n",
    "    if not row.start > 0:\n",
    "        sample = cytobands[cytobands.chromosome == \"chr\"+str(row.chromosome)]\n",
    "        sample.cytoband = sample.chromosome.replace(\"chr\", \"\", regex=True) + sample.cytoband\n",
    "        if len(sample[sample.cytoband == row.map_location])==1:\n",
    "                    row['start'] = sample[sample.cytoband == row.map_location]['start_pos'].reset_index(drop=True)[0]\n",
    "                    row['end'] = sample[sample.cytoband == row.map_location]['end_pos'].reset_index(drop=True)[0]\n",
    "                    row['strand'] = 1.0\n",
    "    return row\n",
    "\n",
    "def get_geneSymbol_locations():\n",
    "    Reference = pd.read_json(\"/Users/tushar/Downloads/homo_sapiens_genes.json\")\n",
    "    Reference = Reference[[\"id\",\"name\", \"seq_region_name\", \"strand\", \"start\", \"end\", \"coord_system\", \"synonyms\"]]\n",
    "    Reference = pd.concat([Reference, Reference.coord_system.apply(pd.Series)], axis=1).drop(\"coord_system\", axis=1)\n",
    "    Reference[\"symbol\"] = Reference.iloc[:,1]\n",
    "    Reference = Reference[Reference[\"symbol\"].isna() == False]\n",
    "    Reference = Reference[Reference[\"version\"] == \"GRCh38\"]\n",
    "\n",
    "    NCBI_ref = pd.read_csv(\"/Users/tushar/Downloads/Homo_sapiens.gene_info\",sep='\\t')\n",
    "    NCBI_ref['ensembl_id'] = NCBI_ref.dbXrefs.apply(lambda x: extract_ensembleid_from_dbxrefs(x))\n",
    "    NCBI_ref['hgnc_id'] = NCBI_ref.dbXrefs.apply(lambda x: extract_hgncid_from_dbxrefs(x))\n",
    "    NCBI_ref = NCBI_ref[[\"Symbol\", \"Synonyms\", \"chromosome\", \"map_location\", \"GeneID\", \"ensembl_id\"]]\n",
    "\n",
    "    cyto2coordinates = pd.read_csv(\"/Users/tushar/pdx/update-data/cytoBand.txt\", sep='\\t', names=[\"chromosome\", \"start_pos\", \"end_pos\", \"cytoband\", \"info\"])\n",
    "    cyto2coordinates = cyto2coordinates[cyto2coordinates.cytoband.isna() == False]\n",
    "\n",
    "    GeneSymbol_Locations = NCBI_ref.merge(Reference, left_on=\"ensembl_id\", right_on=\"id\", how=\"left\").apply(convert_cytoband2coord, cytobands=cyto2coordinates, axis=1)\n",
    "    GeneSymbol_Locations = GeneSymbol_Locations[[\"Symbol\", \"Synonyms\", \"chromosome\", \"strand\", \"start\", \"end\", \"GeneID\", \"ensembl_id\"]]\n",
    "    GeneSymbol_Locations = GeneSymbol_Locations[GeneSymbol_Locations.start.isna() ==False]\n",
    "    GeneSymbol_Locations = GeneSymbol_Locations.drop_duplicates(subset=['Symbol'])\n",
    "    return GeneSymbol_Locations"
   ],
   "metadata": {
    "collapsed": false
   }
  },
  {
   "cell_type": "code",
   "execution_count": 6,
   "outputs": [],
   "source": [
    "def get_location_from_synonym(row, GeneSymbol_Locations):\n",
    "    if not isinstance(row['Symbol'], str) and isnan(row['Symbol']):\n",
    "        pattern = \"(^|\\|)\"+row[\"gene_id\"]+\"($|\\|)\"\n",
    "        match = GeneSymbol_Locations.loc[GeneSymbol_Locations.Synonyms.str.contains(pattern)].reset_index(drop=True)\n",
    "        if len(match) > 1:\n",
    "            match = match.iloc[0]\n",
    "        if len(match) == 1:\n",
    "            row['Symbol'], row['chromosome'], row['strand'], row['start'], row['end'], row['GeneID'], row['ensembl_id'] = match['Symbol'][0], match['chromosome'][0], match['strand'][0], match['start'][0], match['end'][0], match['GeneID'][0], match['ensembl_id'][0]\n",
    "    return row\n",
    "\n",
    "def process_RSEM(sample_id, GeneSymbol_Locations):\n",
    "    RSEM = pd.read_csv(\"raw_exp/PDMR_expression_\"+sample_id+\".tsv\", sep=\"\\t\")\n",
    "    template = pd.read_csv(\"expression_template-sheet.tsv\", sep=\"\\t\")\n",
    "\n",
    "    RSEM = RSEM.merge(GeneSymbol_Locations, how='left', left_on='gene_id', right_on='Symbol')\n",
    "    RSEM = RSEM.apply(get_location_from_synonym, GeneSymbol_Locations=GeneSymbol_Locations, axis=1)\n",
    "    RSEM = RSEM[['gene_id','expected_count','TPM','FPKM','chromosome','strand','start','end','GeneID','ensembl_id']].fillna('')\n",
    "\n",
    "    template[\"symbol\"] = RSEM[\"gene_id\"]\n",
    "    template[\"sample_id\"] = sample_id\n",
    "    template[\"rnaseq_tpm\"], template[\"rnaseq_fpkm\"], template[\"rnaseq_count\"], template[\"chromosome\"] = RSEM[\"TPM\"], RSEM[\"FPKM\"], RSEM[\"expected_count\"], RSEM[\"chromosome\"]\n",
    "    template[\"strand\"], template[\"ncbi_gene_id\"], template[\"ensembl_gene_id\"] = RSEM[\"strand\"], RSEM[\"GeneID\"], RSEM[\"ensembl_id\"]\n",
    "    template[\"seq_start_position\"], template[\"seq_end_position\"] = RSEM[\"start\"], RSEM[\"end\"]\n",
    "    template[\"platform_id\"] = \"expression_RNASEQ_Illumina_NGS\"\n",
    "    #template.dropna(subset=['chromosome'], inplace=True)\n",
    "    template[template[\"chromosome\"]!=\"\"].to_csv(\"expression/PDMR_expression_\"+sample_id+\".tsv\", sep=\"\\t\", index=False)\n",
    "\n",
    "def fetch_rnaseq_RSEM(URL, sample_id, GeneSymbol_Locations):\n",
    "    #PDMR_domain = \"https://pdmdb.cancer.gov/\"\n",
    "    #URL = PDMR_domain + URL #PDMR_rnaseq_sheet[\"RSEM(genes)\"].iloc[0]\n",
    "    #response = requests.get(URL)\n",
    "    #open(\"gene_rnaseq.tsv\", \"wb\").write(response.content)\n",
    "    #merge_raw_RSEM_files(sample_id)\n",
    "    process_RSEM(sample_id, GeneSymbol_Locations)\n",
    "    #remove(\"gene_rnaseq.tsv\")\n",
    "\n",
    "def merge_raw_RSEM_files(sample_id):\n",
    "    RSEM = pd.read_csv(\"gene_rnaseq.tsv\", sep=\"\\t\")\n",
    "    #final_df = pd.read_csv(\"gene_rnaseq_final.tsv\", sep=\"\\t\")\n",
    "    RSEM[\"sample_id\"] = sample_id\n",
    "    #final_df = final_df.append(RSEM[final_df.columns])\n",
    "    RSEM[['sample_id', 'gene_id', 'TPM', 'FPKM', 'expected_count']].to_csv(\"raw_exp/PDMR_expression_\"+sample_id+\".tsv\", sep=\"\\t\", index=False)\n",
    "\n",
    "def PDMR_RNASEQ(path, mol_meta_sample_path, GeneSymbol_Locations):\n",
    "    PDMR_rnaseq_sheet = pd.read_csv(path, header=0)\n",
    "    sample_sheet = pd.read_csv(mol_meta_sample_path, sep=\"\\t\")\n",
    "    for i in tqdm(range(0, PDMR_rnaseq_sheet.shape[0])):\n",
    "        URL = PDMR_rnaseq_sheet[\"RSEM(genes)\"].iloc[i]\n",
    "        sample_id = str(PDMR_rnaseq_sheet[\"Patient ID\"].iloc[i])+\"-\"+str(PDMR_rnaseq_sheet[\"Specimen ID\"].iloc[i])\n",
    "        if str(PDMR_rnaseq_sheet[\"Sample ID\"].iloc[i]) != \"ORIGINATOR\":\n",
    "            sample_id = sample_id+\"-\"+str(PDMR_rnaseq_sheet[\"Sample ID\"].iloc[i])\n",
    "        sample_in_sample_sheet = sample_sheet[sample_sheet[\"sample_id\"].str.contains(sample_id)]\n",
    "        #sample_in_sample_sheet[\"platform_id\"] = \"expression_RNASEQ_Illumina_NGS\"\n",
    "        if len(sample_in_sample_sheet) > 0:\n",
    "            #print(\"Fetching expression data for \"+sample_id + \".\")\n",
    "            log.info(\"Fetching expression data for \"+sample_id + \".\")\n",
    "            fetch_rnaseq_RSEM(URL, sample_id, GeneSymbol_Locations)\n",
    "            #sample_sheet = sample_sheet.append(sample_in_sample_sheet)\n",
    "            #sample_sheet.to_csv(\"PDMR_molecular_metadata-sample.tsv\", sep=\"\\t\", index=False)"
   ],
   "metadata": {
    "collapsed": false
   }
  },
  {
   "cell_type": "code",
   "execution_count": 5,
   "outputs": [],
   "source": [
    "PDMR_rnaseq_sheet_path = '/Users/tushar/pdx/update-data/data-repo/PCMEXPORT_09062022/rnasequence.csv'\n",
    "mol_meta_sample_path = '/Users/tushar/pdx/pdxfinder-data/data/UPDOG/PDMR/PDMR_molecular_metadata-sample.tsv'\n",
    "GeneSymbol_Locations = get_geneSymbol_locations()\n",
    "log.info(\"Fetching RNASeq RSEM data from PDMR...\\n\")"
   ],
   "metadata": {
    "collapsed": false
   }
  },
  {
   "cell_type": "code",
   "execution_count": 7,
   "outputs": [
    {
     "name": "stderr",
     "output_type": "stream",
     "text": [
      "  0%|          | 0/4431 [00:00<?, ?it/s]/Library/Frameworks/Python.framework/Versions/3.7/lib/python3.7/site-packages/ipykernel_launcher.py:53: SettingWithCopyWarning: \n",
      "A value is trying to be set on a copy of a slice from a DataFrame.\n",
      "Try using .loc[row_indexer,col_indexer] = value instead\n",
      "\n",
      "See the caveats in the documentation: https://pandas.pydata.org/pandas-docs/stable/user_guide/indexing.html#returning-a-view-versus-a-copy\n",
      "100%|██████████| 4431/4431 [1:47:06<00:00,  1.45s/it]  \n"
     ]
    }
   ],
   "source": [
    "PDMR_RNASEQ(PDMR_rnaseq_sheet_path, mol_meta_sample_path, GeneSymbol_Locations)"
   ],
   "metadata": {
    "collapsed": false
   }
  },
  {
   "cell_type": "code",
   "execution_count": 7,
   "outputs": [
    {
     "name": "stderr",
     "output_type": "stream",
     "text": [
      "  0%|          | 0/4431 [00:00<?, ?it/s]/Library/Frameworks/Python.framework/Versions/3.7/lib/python3.7/site-packages/ipykernel_launcher.py:4: UserWarning: This pattern has match groups. To actually get the groups, use str.extract.\n",
      "  after removing the cwd from sys.path.\n",
      "  0%|          | 22/4431 [1:10:24<235:09:12, 192.01s/it]\n"
     ]
    },
    {
     "ename": "KeyboardInterrupt",
     "evalue": "",
     "output_type": "error",
     "traceback": [
      "\u001B[0;31m---------------------------------------------------------------------------\u001B[0m",
      "\u001B[0;31mKeyboardInterrupt\u001B[0m                         Traceback (most recent call last)",
      "\u001B[0;32m/var/folders/76/s92t3hn16kxddcj6_lhz56c40000gp/T/ipykernel_9005/2689560499.py\u001B[0m in \u001B[0;36m<module>\u001B[0;34m\u001B[0m\n\u001B[0;32m----> 1\u001B[0;31m \u001B[0mPDMR_RNASEQ\u001B[0m\u001B[0;34m(\u001B[0m\u001B[0mPDMR_rnaseq_sheet_path\u001B[0m\u001B[0;34m,\u001B[0m \u001B[0mmol_meta_sample_path\u001B[0m\u001B[0;34m,\u001B[0m \u001B[0mGeneSymbol_Locations\u001B[0m\u001B[0;34m)\u001B[0m\u001B[0;34m\u001B[0m\u001B[0;34m\u001B[0m\u001B[0m\n\u001B[0m",
      "\u001B[0;32m/var/folders/76/s92t3hn16kxddcj6_lhz56c40000gp/T/ipykernel_9005/2402073122.py\u001B[0m in \u001B[0;36mPDMR_RNASEQ\u001B[0;34m(path, mol_meta_sample_path, GeneSymbol_Locations)\u001B[0m\n\u001B[1;32m     55\u001B[0m             \u001B[0;31m#print(\"Fetching expression data for \"+sample_id + \".\")\u001B[0m\u001B[0;34m\u001B[0m\u001B[0;34m\u001B[0m\u001B[0;34m\u001B[0m\u001B[0m\n\u001B[1;32m     56\u001B[0m             \u001B[0mlog\u001B[0m\u001B[0;34m.\u001B[0m\u001B[0minfo\u001B[0m\u001B[0;34m(\u001B[0m\u001B[0;34m\"Fetching expression data for \"\u001B[0m\u001B[0;34m+\u001B[0m\u001B[0msample_id\u001B[0m \u001B[0;34m+\u001B[0m \u001B[0;34m\".\"\u001B[0m\u001B[0;34m)\u001B[0m\u001B[0;34m\u001B[0m\u001B[0;34m\u001B[0m\u001B[0m\n\u001B[0;32m---> 57\u001B[0;31m             \u001B[0mfetch_rnaseq_RSEM\u001B[0m\u001B[0;34m(\u001B[0m\u001B[0mURL\u001B[0m\u001B[0;34m,\u001B[0m \u001B[0msample_id\u001B[0m\u001B[0;34m,\u001B[0m \u001B[0mGeneSymbol_Locations\u001B[0m\u001B[0;34m)\u001B[0m\u001B[0;34m\u001B[0m\u001B[0;34m\u001B[0m\u001B[0m\n\u001B[0m\u001B[1;32m     58\u001B[0m             \u001B[0;31m#sample_sheet = sample_sheet.append(sample_in_sample_sheet)\u001B[0m\u001B[0;34m\u001B[0m\u001B[0;34m\u001B[0m\u001B[0;34m\u001B[0m\u001B[0m\n\u001B[1;32m     59\u001B[0m             \u001B[0;31m#sample_sheet.to_csv(\"PDMR_molecular_metadata-sample.tsv\", sep=\"\\t\", index=False)\u001B[0m\u001B[0;34m\u001B[0m\u001B[0;34m\u001B[0m\u001B[0;34m\u001B[0m\u001B[0m\n",
      "\u001B[0;32m/var/folders/76/s92t3hn16kxddcj6_lhz56c40000gp/T/ipykernel_9005/2402073122.py\u001B[0m in \u001B[0;36mfetch_rnaseq_RSEM\u001B[0;34m(URL, sample_id, GeneSymbol_Locations)\u001B[0m\n\u001B[1;32m     32\u001B[0m     \u001B[0;31m#open(\"gene_rnaseq.tsv\", \"wb\").write(response.content)\u001B[0m\u001B[0;34m\u001B[0m\u001B[0;34m\u001B[0m\u001B[0;34m\u001B[0m\u001B[0m\n\u001B[1;32m     33\u001B[0m     \u001B[0;31m#merge_raw_RSEM_files(sample_id)\u001B[0m\u001B[0;34m\u001B[0m\u001B[0;34m\u001B[0m\u001B[0;34m\u001B[0m\u001B[0m\n\u001B[0;32m---> 34\u001B[0;31m     \u001B[0mprocess_RSEM\u001B[0m\u001B[0;34m(\u001B[0m\u001B[0msample_id\u001B[0m\u001B[0;34m,\u001B[0m \u001B[0mGeneSymbol_Locations\u001B[0m\u001B[0;34m)\u001B[0m\u001B[0;34m\u001B[0m\u001B[0;34m\u001B[0m\u001B[0m\n\u001B[0m\u001B[1;32m     35\u001B[0m     \u001B[0;31m#remove(\"gene_rnaseq.tsv\")\u001B[0m\u001B[0;34m\u001B[0m\u001B[0;34m\u001B[0m\u001B[0;34m\u001B[0m\u001B[0m\n\u001B[1;32m     36\u001B[0m \u001B[0;34m\u001B[0m\u001B[0m\n",
      "\u001B[0;32m/var/folders/76/s92t3hn16kxddcj6_lhz56c40000gp/T/ipykernel_9005/2402073122.py\u001B[0m in \u001B[0;36mprocess_RSEM\u001B[0;34m(sample_id, GeneSymbol_Locations)\u001B[0m\n\u001B[1;32m     14\u001B[0m \u001B[0;34m\u001B[0m\u001B[0m\n\u001B[1;32m     15\u001B[0m     \u001B[0mRSEM\u001B[0m \u001B[0;34m=\u001B[0m \u001B[0mRSEM\u001B[0m\u001B[0;34m.\u001B[0m\u001B[0mmerge\u001B[0m\u001B[0;34m(\u001B[0m\u001B[0mGeneSymbol_Locations\u001B[0m\u001B[0;34m,\u001B[0m \u001B[0mhow\u001B[0m\u001B[0;34m=\u001B[0m\u001B[0;34m'left'\u001B[0m\u001B[0;34m,\u001B[0m \u001B[0mleft_on\u001B[0m\u001B[0;34m=\u001B[0m\u001B[0;34m'gene_id'\u001B[0m\u001B[0;34m,\u001B[0m \u001B[0mright_on\u001B[0m\u001B[0;34m=\u001B[0m\u001B[0;34m'Symbol'\u001B[0m\u001B[0;34m)\u001B[0m\u001B[0;34m\u001B[0m\u001B[0;34m\u001B[0m\u001B[0m\n\u001B[0;32m---> 16\u001B[0;31m     \u001B[0mRSEM\u001B[0m \u001B[0;34m=\u001B[0m \u001B[0mRSEM\u001B[0m\u001B[0;34m.\u001B[0m\u001B[0mapply\u001B[0m\u001B[0;34m(\u001B[0m\u001B[0mget_location_from_synonym\u001B[0m\u001B[0;34m,\u001B[0m \u001B[0mGeneSymbol_Locations\u001B[0m\u001B[0;34m=\u001B[0m\u001B[0mGeneSymbol_Locations\u001B[0m\u001B[0;34m,\u001B[0m \u001B[0maxis\u001B[0m\u001B[0;34m=\u001B[0m\u001B[0;36m1\u001B[0m\u001B[0;34m)\u001B[0m\u001B[0;34m\u001B[0m\u001B[0;34m\u001B[0m\u001B[0m\n\u001B[0m\u001B[1;32m     17\u001B[0m     \u001B[0mRSEM\u001B[0m \u001B[0;34m=\u001B[0m \u001B[0mRSEM\u001B[0m\u001B[0;34m[\u001B[0m\u001B[0;34m[\u001B[0m\u001B[0;34m'gene_id'\u001B[0m\u001B[0;34m,\u001B[0m\u001B[0;34m'expected_count'\u001B[0m\u001B[0;34m,\u001B[0m\u001B[0;34m'TPM'\u001B[0m\u001B[0;34m,\u001B[0m\u001B[0;34m'FPKM'\u001B[0m\u001B[0;34m,\u001B[0m\u001B[0;34m'chromosome'\u001B[0m\u001B[0;34m,\u001B[0m\u001B[0;34m'strand'\u001B[0m\u001B[0;34m,\u001B[0m\u001B[0;34m'start'\u001B[0m\u001B[0;34m,\u001B[0m\u001B[0;34m'end'\u001B[0m\u001B[0;34m,\u001B[0m\u001B[0;34m'GeneID'\u001B[0m\u001B[0;34m,\u001B[0m\u001B[0;34m'ensembl_id'\u001B[0m\u001B[0;34m]\u001B[0m\u001B[0;34m]\u001B[0m\u001B[0;34m.\u001B[0m\u001B[0mfillna\u001B[0m\u001B[0;34m(\u001B[0m\u001B[0;34m''\u001B[0m\u001B[0;34m)\u001B[0m\u001B[0;34m\u001B[0m\u001B[0;34m\u001B[0m\u001B[0m\n\u001B[1;32m     18\u001B[0m \u001B[0;34m\u001B[0m\u001B[0m\n",
      "\u001B[0;32m/Library/Frameworks/Python.framework/Versions/3.7/lib/python3.7/site-packages/pandas/core/frame.py\u001B[0m in \u001B[0;36mapply\u001B[0;34m(self, func, axis, raw, result_type, args, **kwargs)\u001B[0m\n\u001B[1;32m   8738\u001B[0m             \u001B[0mkwargs\u001B[0m\u001B[0;34m=\u001B[0m\u001B[0mkwargs\u001B[0m\u001B[0;34m,\u001B[0m\u001B[0;34m\u001B[0m\u001B[0;34m\u001B[0m\u001B[0m\n\u001B[1;32m   8739\u001B[0m         )\n\u001B[0;32m-> 8740\u001B[0;31m         \u001B[0;32mreturn\u001B[0m \u001B[0mop\u001B[0m\u001B[0;34m.\u001B[0m\u001B[0mapply\u001B[0m\u001B[0;34m(\u001B[0m\u001B[0;34m)\u001B[0m\u001B[0;34m\u001B[0m\u001B[0;34m\u001B[0m\u001B[0m\n\u001B[0m\u001B[1;32m   8741\u001B[0m \u001B[0;34m\u001B[0m\u001B[0m\n\u001B[1;32m   8742\u001B[0m     def applymap(\n",
      "\u001B[0;32m/Library/Frameworks/Python.framework/Versions/3.7/lib/python3.7/site-packages/pandas/core/apply.py\u001B[0m in \u001B[0;36mapply\u001B[0;34m(self)\u001B[0m\n\u001B[1;32m    686\u001B[0m             \u001B[0;32mreturn\u001B[0m \u001B[0mself\u001B[0m\u001B[0;34m.\u001B[0m\u001B[0mapply_raw\u001B[0m\u001B[0;34m(\u001B[0m\u001B[0;34m)\u001B[0m\u001B[0;34m\u001B[0m\u001B[0;34m\u001B[0m\u001B[0m\n\u001B[1;32m    687\u001B[0m \u001B[0;34m\u001B[0m\u001B[0m\n\u001B[0;32m--> 688\u001B[0;31m         \u001B[0;32mreturn\u001B[0m \u001B[0mself\u001B[0m\u001B[0;34m.\u001B[0m\u001B[0mapply_standard\u001B[0m\u001B[0;34m(\u001B[0m\u001B[0;34m)\u001B[0m\u001B[0;34m\u001B[0m\u001B[0;34m\u001B[0m\u001B[0m\n\u001B[0m\u001B[1;32m    689\u001B[0m \u001B[0;34m\u001B[0m\u001B[0m\n\u001B[1;32m    690\u001B[0m     \u001B[0;32mdef\u001B[0m \u001B[0magg\u001B[0m\u001B[0;34m(\u001B[0m\u001B[0mself\u001B[0m\u001B[0;34m)\u001B[0m\u001B[0;34m:\u001B[0m\u001B[0;34m\u001B[0m\u001B[0;34m\u001B[0m\u001B[0m\n",
      "\u001B[0;32m/Library/Frameworks/Python.framework/Versions/3.7/lib/python3.7/site-packages/pandas/core/apply.py\u001B[0m in \u001B[0;36mapply_standard\u001B[0;34m(self)\u001B[0m\n\u001B[1;32m    810\u001B[0m \u001B[0;34m\u001B[0m\u001B[0m\n\u001B[1;32m    811\u001B[0m     \u001B[0;32mdef\u001B[0m \u001B[0mapply_standard\u001B[0m\u001B[0;34m(\u001B[0m\u001B[0mself\u001B[0m\u001B[0;34m)\u001B[0m\u001B[0;34m:\u001B[0m\u001B[0;34m\u001B[0m\u001B[0;34m\u001B[0m\u001B[0m\n\u001B[0;32m--> 812\u001B[0;31m         \u001B[0mresults\u001B[0m\u001B[0;34m,\u001B[0m \u001B[0mres_index\u001B[0m \u001B[0;34m=\u001B[0m \u001B[0mself\u001B[0m\u001B[0;34m.\u001B[0m\u001B[0mapply_series_generator\u001B[0m\u001B[0;34m(\u001B[0m\u001B[0;34m)\u001B[0m\u001B[0;34m\u001B[0m\u001B[0;34m\u001B[0m\u001B[0m\n\u001B[0m\u001B[1;32m    813\u001B[0m \u001B[0;34m\u001B[0m\u001B[0m\n\u001B[1;32m    814\u001B[0m         \u001B[0;31m# wrap results\u001B[0m\u001B[0;34m\u001B[0m\u001B[0;34m\u001B[0m\u001B[0;34m\u001B[0m\u001B[0m\n",
      "\u001B[0;32m/Library/Frameworks/Python.framework/Versions/3.7/lib/python3.7/site-packages/pandas/core/apply.py\u001B[0m in \u001B[0;36mapply_series_generator\u001B[0;34m(self)\u001B[0m\n\u001B[1;32m    826\u001B[0m             \u001B[0;32mfor\u001B[0m \u001B[0mi\u001B[0m\u001B[0;34m,\u001B[0m \u001B[0mv\u001B[0m \u001B[0;32min\u001B[0m \u001B[0menumerate\u001B[0m\u001B[0;34m(\u001B[0m\u001B[0mseries_gen\u001B[0m\u001B[0;34m)\u001B[0m\u001B[0;34m:\u001B[0m\u001B[0;34m\u001B[0m\u001B[0;34m\u001B[0m\u001B[0m\n\u001B[1;32m    827\u001B[0m                 \u001B[0;31m# ignore SettingWithCopy here in case the user mutates\u001B[0m\u001B[0;34m\u001B[0m\u001B[0;34m\u001B[0m\u001B[0;34m\u001B[0m\u001B[0m\n\u001B[0;32m--> 828\u001B[0;31m                 \u001B[0mresults\u001B[0m\u001B[0;34m[\u001B[0m\u001B[0mi\u001B[0m\u001B[0;34m]\u001B[0m \u001B[0;34m=\u001B[0m \u001B[0mself\u001B[0m\u001B[0;34m.\u001B[0m\u001B[0mf\u001B[0m\u001B[0;34m(\u001B[0m\u001B[0mv\u001B[0m\u001B[0;34m)\u001B[0m\u001B[0;34m\u001B[0m\u001B[0;34m\u001B[0m\u001B[0m\n\u001B[0m\u001B[1;32m    829\u001B[0m                 \u001B[0;32mif\u001B[0m \u001B[0misinstance\u001B[0m\u001B[0;34m(\u001B[0m\u001B[0mresults\u001B[0m\u001B[0;34m[\u001B[0m\u001B[0mi\u001B[0m\u001B[0;34m]\u001B[0m\u001B[0;34m,\u001B[0m \u001B[0mABCSeries\u001B[0m\u001B[0;34m)\u001B[0m\u001B[0;34m:\u001B[0m\u001B[0;34m\u001B[0m\u001B[0;34m\u001B[0m\u001B[0m\n\u001B[1;32m    830\u001B[0m                     \u001B[0;31m# If we have a view on v, we need to make a copy because\u001B[0m\u001B[0;34m\u001B[0m\u001B[0;34m\u001B[0m\u001B[0;34m\u001B[0m\u001B[0m\n",
      "\u001B[0;32m/Library/Frameworks/Python.framework/Versions/3.7/lib/python3.7/site-packages/pandas/core/apply.py\u001B[0m in \u001B[0;36mf\u001B[0;34m(x)\u001B[0m\n\u001B[1;32m    129\u001B[0m \u001B[0;34m\u001B[0m\u001B[0m\n\u001B[1;32m    130\u001B[0m             \u001B[0;32mdef\u001B[0m \u001B[0mf\u001B[0m\u001B[0;34m(\u001B[0m\u001B[0mx\u001B[0m\u001B[0;34m)\u001B[0m\u001B[0;34m:\u001B[0m\u001B[0;34m\u001B[0m\u001B[0;34m\u001B[0m\u001B[0m\n\u001B[0;32m--> 131\u001B[0;31m                 \u001B[0;32mreturn\u001B[0m \u001B[0mfunc\u001B[0m\u001B[0;34m(\u001B[0m\u001B[0mx\u001B[0m\u001B[0;34m,\u001B[0m \u001B[0;34m*\u001B[0m\u001B[0margs\u001B[0m\u001B[0;34m,\u001B[0m \u001B[0;34m**\u001B[0m\u001B[0mkwargs\u001B[0m\u001B[0;34m)\u001B[0m\u001B[0;34m\u001B[0m\u001B[0;34m\u001B[0m\u001B[0m\n\u001B[0m\u001B[1;32m    132\u001B[0m \u001B[0;34m\u001B[0m\u001B[0m\n\u001B[1;32m    133\u001B[0m         \u001B[0;32melse\u001B[0m\u001B[0;34m:\u001B[0m\u001B[0;34m\u001B[0m\u001B[0;34m\u001B[0m\u001B[0m\n",
      "\u001B[0;32m/var/folders/76/s92t3hn16kxddcj6_lhz56c40000gp/T/ipykernel_9005/2402073122.py\u001B[0m in \u001B[0;36mget_location_from_synonym\u001B[0;34m(row, GeneSymbol_Locations)\u001B[0m\n\u001B[1;32m      2\u001B[0m     \u001B[0;32mif\u001B[0m \u001B[0;32mnot\u001B[0m \u001B[0misinstance\u001B[0m\u001B[0;34m(\u001B[0m\u001B[0mrow\u001B[0m\u001B[0;34m[\u001B[0m\u001B[0;34m'Symbol'\u001B[0m\u001B[0;34m]\u001B[0m\u001B[0;34m,\u001B[0m \u001B[0mstr\u001B[0m\u001B[0;34m)\u001B[0m \u001B[0;32mand\u001B[0m \u001B[0misnan\u001B[0m\u001B[0;34m(\u001B[0m\u001B[0mrow\u001B[0m\u001B[0;34m[\u001B[0m\u001B[0;34m'Symbol'\u001B[0m\u001B[0;34m]\u001B[0m\u001B[0;34m)\u001B[0m\u001B[0;34m:\u001B[0m\u001B[0;34m\u001B[0m\u001B[0;34m\u001B[0m\u001B[0m\n\u001B[1;32m      3\u001B[0m         \u001B[0mpattern\u001B[0m \u001B[0;34m=\u001B[0m \u001B[0;34m\"(^|\\|)\"\u001B[0m\u001B[0;34m+\u001B[0m\u001B[0mrow\u001B[0m\u001B[0;34m[\u001B[0m\u001B[0;34m\"gene_id\"\u001B[0m\u001B[0;34m]\u001B[0m\u001B[0;34m+\u001B[0m\u001B[0;34m\"($|\\|)\"\u001B[0m\u001B[0;34m\u001B[0m\u001B[0;34m\u001B[0m\u001B[0m\n\u001B[0;32m----> 4\u001B[0;31m         \u001B[0mmatch\u001B[0m \u001B[0;34m=\u001B[0m \u001B[0mGeneSymbol_Locations\u001B[0m\u001B[0;34m.\u001B[0m\u001B[0mloc\u001B[0m\u001B[0;34m[\u001B[0m\u001B[0mGeneSymbol_Locations\u001B[0m\u001B[0;34m.\u001B[0m\u001B[0mSynonyms\u001B[0m\u001B[0;34m.\u001B[0m\u001B[0mstr\u001B[0m\u001B[0;34m.\u001B[0m\u001B[0mcontains\u001B[0m\u001B[0;34m(\u001B[0m\u001B[0mpattern\u001B[0m\u001B[0;34m)\u001B[0m\u001B[0;34m]\u001B[0m\u001B[0;34m.\u001B[0m\u001B[0mreset_index\u001B[0m\u001B[0;34m(\u001B[0m\u001B[0mdrop\u001B[0m\u001B[0;34m=\u001B[0m\u001B[0;32mTrue\u001B[0m\u001B[0;34m)\u001B[0m\u001B[0;34m\u001B[0m\u001B[0;34m\u001B[0m\u001B[0m\n\u001B[0m\u001B[1;32m      5\u001B[0m         \u001B[0;32mif\u001B[0m \u001B[0mlen\u001B[0m\u001B[0;34m(\u001B[0m\u001B[0mmatch\u001B[0m\u001B[0;34m)\u001B[0m \u001B[0;34m>\u001B[0m \u001B[0;36m1\u001B[0m\u001B[0;34m:\u001B[0m\u001B[0;34m\u001B[0m\u001B[0;34m\u001B[0m\u001B[0m\n\u001B[1;32m      6\u001B[0m             \u001B[0mmatch\u001B[0m \u001B[0;34m=\u001B[0m \u001B[0mmatch\u001B[0m\u001B[0;34m.\u001B[0m\u001B[0miloc\u001B[0m\u001B[0;34m[\u001B[0m\u001B[0;36m0\u001B[0m\u001B[0;34m]\u001B[0m\u001B[0;34m\u001B[0m\u001B[0;34m\u001B[0m\u001B[0m\n",
      "\u001B[0;32m/Library/Frameworks/Python.framework/Versions/3.7/lib/python3.7/site-packages/pandas/core/strings/accessor.py\u001B[0m in \u001B[0;36mwrapper\u001B[0;34m(self, *args, **kwargs)\u001B[0m\n\u001B[1;32m    114\u001B[0m                 )\n\u001B[1;32m    115\u001B[0m                 \u001B[0;32mraise\u001B[0m \u001B[0mTypeError\u001B[0m\u001B[0;34m(\u001B[0m\u001B[0mmsg\u001B[0m\u001B[0;34m)\u001B[0m\u001B[0;34m\u001B[0m\u001B[0;34m\u001B[0m\u001B[0m\n\u001B[0;32m--> 116\u001B[0;31m             \u001B[0;32mreturn\u001B[0m \u001B[0mfunc\u001B[0m\u001B[0;34m(\u001B[0m\u001B[0mself\u001B[0m\u001B[0;34m,\u001B[0m \u001B[0;34m*\u001B[0m\u001B[0margs\u001B[0m\u001B[0;34m,\u001B[0m \u001B[0;34m**\u001B[0m\u001B[0mkwargs\u001B[0m\u001B[0;34m)\u001B[0m\u001B[0;34m\u001B[0m\u001B[0;34m\u001B[0m\u001B[0m\n\u001B[0m\u001B[1;32m    117\u001B[0m \u001B[0;34m\u001B[0m\u001B[0m\n\u001B[1;32m    118\u001B[0m         \u001B[0mwrapper\u001B[0m\u001B[0;34m.\u001B[0m\u001B[0m__name__\u001B[0m \u001B[0;34m=\u001B[0m \u001B[0mfunc_name\u001B[0m\u001B[0;34m\u001B[0m\u001B[0;34m\u001B[0m\u001B[0m\n",
      "\u001B[0;32m/Library/Frameworks/Python.framework/Versions/3.7/lib/python3.7/site-packages/pandas/core/strings/accessor.py\u001B[0m in \u001B[0;36mcontains\u001B[0;34m(self, pat, case, flags, na, regex)\u001B[0m\n\u001B[1;32m   1159\u001B[0m             )\n\u001B[1;32m   1160\u001B[0m \u001B[0;34m\u001B[0m\u001B[0m\n\u001B[0;32m-> 1161\u001B[0;31m         \u001B[0mresult\u001B[0m \u001B[0;34m=\u001B[0m \u001B[0mself\u001B[0m\u001B[0;34m.\u001B[0m\u001B[0m_data\u001B[0m\u001B[0;34m.\u001B[0m\u001B[0marray\u001B[0m\u001B[0;34m.\u001B[0m\u001B[0m_str_contains\u001B[0m\u001B[0;34m(\u001B[0m\u001B[0mpat\u001B[0m\u001B[0;34m,\u001B[0m \u001B[0mcase\u001B[0m\u001B[0;34m,\u001B[0m \u001B[0mflags\u001B[0m\u001B[0;34m,\u001B[0m \u001B[0mna\u001B[0m\u001B[0;34m,\u001B[0m \u001B[0mregex\u001B[0m\u001B[0;34m)\u001B[0m\u001B[0;34m\u001B[0m\u001B[0;34m\u001B[0m\u001B[0m\n\u001B[0m\u001B[1;32m   1162\u001B[0m         \u001B[0;32mreturn\u001B[0m \u001B[0mself\u001B[0m\u001B[0;34m.\u001B[0m\u001B[0m_wrap_result\u001B[0m\u001B[0;34m(\u001B[0m\u001B[0mresult\u001B[0m\u001B[0;34m,\u001B[0m \u001B[0mfill_value\u001B[0m\u001B[0;34m=\u001B[0m\u001B[0mna\u001B[0m\u001B[0;34m,\u001B[0m \u001B[0mreturns_string\u001B[0m\u001B[0;34m=\u001B[0m\u001B[0;32mFalse\u001B[0m\u001B[0;34m)\u001B[0m\u001B[0;34m\u001B[0m\u001B[0;34m\u001B[0m\u001B[0m\n\u001B[1;32m   1163\u001B[0m \u001B[0;34m\u001B[0m\u001B[0m\n",
      "\u001B[0;32m/Library/Frameworks/Python.framework/Versions/3.7/lib/python3.7/site-packages/pandas/core/strings/object_array.py\u001B[0m in \u001B[0;36m_str_contains\u001B[0;34m(self, pat, case, flags, na, regex)\u001B[0m\n\u001B[1;32m    127\u001B[0m                 \u001B[0mupper_pat\u001B[0m \u001B[0;34m=\u001B[0m \u001B[0mpat\u001B[0m\u001B[0;34m.\u001B[0m\u001B[0mupper\u001B[0m\u001B[0;34m(\u001B[0m\u001B[0;34m)\u001B[0m\u001B[0;34m\u001B[0m\u001B[0;34m\u001B[0m\u001B[0m\n\u001B[1;32m    128\u001B[0m                 \u001B[0mf\u001B[0m \u001B[0;34m=\u001B[0m \u001B[0;32mlambda\u001B[0m \u001B[0mx\u001B[0m\u001B[0;34m:\u001B[0m \u001B[0mupper_pat\u001B[0m \u001B[0;32min\u001B[0m \u001B[0mx\u001B[0m\u001B[0;34m.\u001B[0m\u001B[0mupper\u001B[0m\u001B[0;34m(\u001B[0m\u001B[0;34m)\u001B[0m\u001B[0;34m\u001B[0m\u001B[0;34m\u001B[0m\u001B[0m\n\u001B[0;32m--> 129\u001B[0;31m         \u001B[0;32mreturn\u001B[0m \u001B[0mself\u001B[0m\u001B[0;34m.\u001B[0m\u001B[0m_str_map\u001B[0m\u001B[0;34m(\u001B[0m\u001B[0mf\u001B[0m\u001B[0;34m,\u001B[0m \u001B[0mna\u001B[0m\u001B[0;34m,\u001B[0m \u001B[0mdtype\u001B[0m\u001B[0;34m=\u001B[0m\u001B[0mnp\u001B[0m\u001B[0;34m.\u001B[0m\u001B[0mdtype\u001B[0m\u001B[0;34m(\u001B[0m\u001B[0;34m\"bool\"\u001B[0m\u001B[0;34m)\u001B[0m\u001B[0;34m)\u001B[0m\u001B[0;34m\u001B[0m\u001B[0;34m\u001B[0m\u001B[0m\n\u001B[0m\u001B[1;32m    130\u001B[0m \u001B[0;34m\u001B[0m\u001B[0m\n\u001B[1;32m    131\u001B[0m     \u001B[0;32mdef\u001B[0m \u001B[0m_str_startswith\u001B[0m\u001B[0;34m(\u001B[0m\u001B[0mself\u001B[0m\u001B[0;34m,\u001B[0m \u001B[0mpat\u001B[0m\u001B[0;34m,\u001B[0m \u001B[0mna\u001B[0m\u001B[0;34m=\u001B[0m\u001B[0;32mNone\u001B[0m\u001B[0;34m)\u001B[0m\u001B[0;34m:\u001B[0m\u001B[0;34m\u001B[0m\u001B[0;34m\u001B[0m\u001B[0m\n",
      "\u001B[0;32m/Library/Frameworks/Python.framework/Versions/3.7/lib/python3.7/site-packages/pandas/core/strings/object_array.py\u001B[0m in \u001B[0;36m_str_map\u001B[0;34m(self, f, na_value, dtype, convert)\u001B[0m\n\u001B[1;32m     67\u001B[0m         \u001B[0mmap_convert\u001B[0m \u001B[0;34m=\u001B[0m \u001B[0mconvert\u001B[0m \u001B[0;32mand\u001B[0m \u001B[0;32mnot\u001B[0m \u001B[0mnp\u001B[0m\u001B[0;34m.\u001B[0m\u001B[0mall\u001B[0m\u001B[0;34m(\u001B[0m\u001B[0mmask\u001B[0m\u001B[0;34m)\u001B[0m\u001B[0;34m\u001B[0m\u001B[0;34m\u001B[0m\u001B[0m\n\u001B[1;32m     68\u001B[0m         \u001B[0;32mtry\u001B[0m\u001B[0;34m:\u001B[0m\u001B[0;34m\u001B[0m\u001B[0;34m\u001B[0m\u001B[0m\n\u001B[0;32m---> 69\u001B[0;31m             \u001B[0mresult\u001B[0m \u001B[0;34m=\u001B[0m \u001B[0mlib\u001B[0m\u001B[0;34m.\u001B[0m\u001B[0mmap_infer_mask\u001B[0m\u001B[0;34m(\u001B[0m\u001B[0marr\u001B[0m\u001B[0;34m,\u001B[0m \u001B[0mf\u001B[0m\u001B[0;34m,\u001B[0m \u001B[0mmask\u001B[0m\u001B[0;34m.\u001B[0m\u001B[0mview\u001B[0m\u001B[0;34m(\u001B[0m\u001B[0mnp\u001B[0m\u001B[0;34m.\u001B[0m\u001B[0muint8\u001B[0m\u001B[0;34m)\u001B[0m\u001B[0;34m,\u001B[0m \u001B[0mmap_convert\u001B[0m\u001B[0;34m)\u001B[0m\u001B[0;34m\u001B[0m\u001B[0;34m\u001B[0m\u001B[0m\n\u001B[0m\u001B[1;32m     70\u001B[0m         \u001B[0;32mexcept\u001B[0m \u001B[0;34m(\u001B[0m\u001B[0mTypeError\u001B[0m\u001B[0;34m,\u001B[0m \u001B[0mAttributeError\u001B[0m\u001B[0;34m)\u001B[0m \u001B[0;32mas\u001B[0m \u001B[0me\u001B[0m\u001B[0;34m:\u001B[0m\u001B[0;34m\u001B[0m\u001B[0;34m\u001B[0m\u001B[0m\n\u001B[1;32m     71\u001B[0m             \u001B[0;31m# Reraise the exception if callable `f` got wrong number of args.\u001B[0m\u001B[0;34m\u001B[0m\u001B[0;34m\u001B[0m\u001B[0;34m\u001B[0m\u001B[0m\n",
      "\u001B[0;31mKeyboardInterrupt\u001B[0m: "
     ]
    }
   ],
   "source": [
    "PDMR_RNASEQ(PDMR_rnaseq_sheet_path, mol_meta_sample_path, GeneSymbol_Locations)"
   ],
   "metadata": {
    "collapsed": false
   }
  },
  {
   "cell_type": "code",
   "execution_count": 9,
   "outputs": [],
   "source": [
    "import os"
   ],
   "metadata": {
    "collapsed": false
   }
  },
  {
   "cell_type": "code",
   "execution_count": 11,
   "outputs": [
    {
     "data": {
      "text/plain": "28"
     },
     "execution_count": 11,
     "metadata": {},
     "output_type": "execute_result"
    }
   ],
   "source": [
    "updog = \"/Users/tushar/pdx/pdxfinder-data/data/UPDOG/\"\n",
    "len(os.listdir(updog))"
   ],
   "metadata": {
    "collapsed": false
   }
  },
  {
   "cell_type": "code",
   "execution_count": 28,
   "outputs": [
    {
     "data": {
      "text/plain": "     provider                                email  \\\n0     VHIO-PC  jarribas@vhio.net; earenas@vhio.net   \n1     VHIO-PC  jarribas@vhio.net; earenas@vhio.net   \n2     VHIO-PC  jarribas@vhio.net; earenas@vhio.net   \n3     VHIO-PC  jarribas@vhio.net; earenas@vhio.net   \n4     VHIO-PC  jarribas@vhio.net; earenas@vhio.net   \n..        ...                                  ...   \n634  IRCC-CRC              andrea.bertotti@ircc.it   \n635  IRCC-CRC              andrea.bertotti@ircc.it   \n636  IRCC-CRC              andrea.bertotti@ircc.it   \n637  IRCC-CRC              andrea.bertotti@ircc.it   \n638  IRCC-CRC              andrea.bertotti@ircc.it   \n\n                                name europdx_access_modality  \n0    Joaquin Arribas; Enrique Arenas    transnational access  \n1    Joaquin Arribas; Enrique Arenas    transnational access  \n2    Joaquin Arribas; Enrique Arenas    transnational access  \n3    Joaquin Arribas; Enrique Arenas    transnational access  \n4    Joaquin Arribas; Enrique Arenas    transnational access  \n..                               ...                     ...  \n634                  andrea bertotti    transnational access  \n635                  andrea bertotti    transnational access  \n636                  andrea bertotti    transnational access  \n637                  andrea bertotti    transnational access  \n638                  andrea bertotti    transnational access  \n\n[7175 rows x 4 columns]",
      "text/html": "<div>\n<style scoped>\n    .dataframe tbody tr th:only-of-type {\n        vertical-align: middle;\n    }\n\n    .dataframe tbody tr th {\n        vertical-align: top;\n    }\n\n    .dataframe thead th {\n        text-align: right;\n    }\n</style>\n<table border=\"1\" class=\"dataframe\">\n  <thead>\n    <tr style=\"text-align: right;\">\n      <th></th>\n      <th>provider</th>\n      <th>email</th>\n      <th>name</th>\n      <th>europdx_access_modality</th>\n    </tr>\n  </thead>\n  <tbody>\n    <tr>\n      <th>0</th>\n      <td>VHIO-PC</td>\n      <td>jarribas@vhio.net; earenas@vhio.net</td>\n      <td>Joaquin Arribas; Enrique Arenas</td>\n      <td>transnational access</td>\n    </tr>\n    <tr>\n      <th>1</th>\n      <td>VHIO-PC</td>\n      <td>jarribas@vhio.net; earenas@vhio.net</td>\n      <td>Joaquin Arribas; Enrique Arenas</td>\n      <td>transnational access</td>\n    </tr>\n    <tr>\n      <th>2</th>\n      <td>VHIO-PC</td>\n      <td>jarribas@vhio.net; earenas@vhio.net</td>\n      <td>Joaquin Arribas; Enrique Arenas</td>\n      <td>transnational access</td>\n    </tr>\n    <tr>\n      <th>3</th>\n      <td>VHIO-PC</td>\n      <td>jarribas@vhio.net; earenas@vhio.net</td>\n      <td>Joaquin Arribas; Enrique Arenas</td>\n      <td>transnational access</td>\n    </tr>\n    <tr>\n      <th>4</th>\n      <td>VHIO-PC</td>\n      <td>jarribas@vhio.net; earenas@vhio.net</td>\n      <td>Joaquin Arribas; Enrique Arenas</td>\n      <td>transnational access</td>\n    </tr>\n    <tr>\n      <th>...</th>\n      <td>...</td>\n      <td>...</td>\n      <td>...</td>\n      <td>...</td>\n    </tr>\n    <tr>\n      <th>634</th>\n      <td>IRCC-CRC</td>\n      <td>andrea.bertotti@ircc.it</td>\n      <td>andrea bertotti</td>\n      <td>transnational access</td>\n    </tr>\n    <tr>\n      <th>635</th>\n      <td>IRCC-CRC</td>\n      <td>andrea.bertotti@ircc.it</td>\n      <td>andrea bertotti</td>\n      <td>transnational access</td>\n    </tr>\n    <tr>\n      <th>636</th>\n      <td>IRCC-CRC</td>\n      <td>andrea.bertotti@ircc.it</td>\n      <td>andrea bertotti</td>\n      <td>transnational access</td>\n    </tr>\n    <tr>\n      <th>637</th>\n      <td>IRCC-CRC</td>\n      <td>andrea.bertotti@ircc.it</td>\n      <td>andrea bertotti</td>\n      <td>transnational access</td>\n    </tr>\n    <tr>\n      <th>638</th>\n      <td>IRCC-CRC</td>\n      <td>andrea.bertotti@ircc.it</td>\n      <td>andrea bertotti</td>\n      <td>transnational access</td>\n    </tr>\n  </tbody>\n</table>\n<p>7175 rows × 4 columns</p>\n</div>"
     },
     "execution_count": 28,
     "metadata": {},
     "output_type": "execute_result"
    }
   ],
   "source": [
    "contact_sheet = pd.DataFrame()\n",
    "for provider in os.listdir(updog):\n",
    "    if provider == \".DS_Store\":\n",
    "        continue\n",
    "    contact = pd.read_csv(updog+provider+'/'+provider+\"_metadata-sharing.tsv\", sep='\\t',skiprows=[1,2,3,4])\n",
    "    contact['provider'] = provider\n",
    "    contact = contact[['provider','email', 'name', 'europdx_access_modality']]\n",
    "    contact_sheet = contact_sheet.append(contact)\n",
    "contact_sheet"
   ],
   "metadata": {
    "collapsed": false
   }
  },
  {
   "cell_type": "code",
   "execution_count": 29,
   "outputs": [
    {
     "data": {
      "text/plain": "                   provider  \\\n0                   VHIO-PC   \n0                      HCMI   \n0                    UOM-BC   \n0                       CMP   \n0                     PIVOT   \n64                    PIVOT   \n67                    PIVOT   \n108                   PIVOT   \n205                   PIVOT   \n0                  Curie-BC   \n0                     TRACE   \n23                    TRACE   \n0                     SJCRH   \n110                   SJCRH   \n127                   SJCRH   \n0    Wistar-MDAnderson-Penn   \n0                   HCI-BCM   \n0                   VHIO-BC   \n0                       LIH   \n0                   IRCC-GC   \n6                   IRCC-GC   \n0                       NKI   \n0                      UMCG   \n0                  Curie-OC   \n0                       CRL   \n459                     CRL   \n0                      PDMR   \n0                MDAnderson   \n0                     WUSTL   \n0                  Curie-LC   \n5                  Curie-LC   \n0                    UOC-BC   \n0                      PMLB   \n94                     PMLB   \n0                 DFCI-CPDM   \n0                  VHIO-CRC   \n0                       JAX   \n0                  IRCC-CRC   \n\n                                                 email  \\\n0                  jarribas@vhio.net; earenas@vhio.net   \n0                                     ocg@mail.nih.gov   \n0                       robert.clarke@manchester.ac.uk   \n0                                  depmap@sanger.ac.uk   \n0                                    RLock@ccia.org.au   \n64                               HoughtonP@uthscsa.edu   \n67    patrick.reynolds@ttuhsc.edu,maris@email.chop.edu   \n108                             xli@luriechildrens.org   \n205                            RGorlick@mdanderson.org   \n0                        elisabetta.marangoni@curie.fr   \n0    eleonora.leucci@kuleuven.be; mariafrancesca.ba...   \n23   eleonora.leucci@kuleuven.be; mariafrancesca.ba...   \n0                                         Not Provided   \n110                                       Not Provided   \n127                                       Not Provided   \n0            herlynm@Wistar.org,MDavies@mdanderson.org   \n0                              Alana.Welm@hci.utah.edu   \n0                  jarribas@vhio.net; earenas@vhio.net   \n0    simone.niclou@lih.lu; anna.golebiewska@lih.lu;...   \n0        silvia.giordano@ircc.it; simona.corso@ircc.it   \n6        silvia.giordano@ircc.it; simona.corso@ircc.it   \n0                  ro.d.bruijn@nki.nl; m.vd.ven@nki.nl   \n0                                    s.de.jong@umcg.nl   \n0                             didier.decaudin@curie.fr   \n0                       tumor-model-compendium@crl.com   \n459                     tumor-model-compendium@crl.com   \n0                                                  NaN   \n0                                 bfang@mdanderson.org   \n0    bvantine@wustl.edu,rcfields@wustl.edu,jmudd@wu...   \n0    didier.decaudin@curie.fr; elodie.montaudon@cur...   \n5    didier.decaudin@curie.fr; elodie.montaudon@cur...   \n0                                 bcape@cruk.cam.ac.uk   \n0                                 pmlb@uhnresearch.ca    \n94                                 pmlb@uhnresearch.ca   \n0                dfcipatientderivedmodels@partners.org   \n0    lramirez@vhio.net, ichicote@vhio.net, hgpalmer...   \n0                                     micetech@jax.org   \n0                              andrea.bertotti@ircc.it   \n\n                                                name  \\\n0                    Joaquin Arribas; Enrique Arenas   \n0                                                NaN   \n0                                      Robert Clarke   \n0                                                NaN   \n0                                       Richard Lock   \n64                                  Peter J Houghton   \n67                                   Reynolds, Maris   \n108                                      Li Xiao-Nan   \n205                                  Richard Gorlick   \n0                               Elisabetta Marangoni   \n0           Eleonora Leucci, Maria Francesca Baietti   \n23          Eleonora Leucci, Maria Francesca Baietti   \n0                      Childhood Solid Tumor Network   \n110                Childhood Solid Tumor Network+B27   \n127                Childhood Solid Tumor Network+B44   \n0                                                NaN   \n0                                         Alana Welm   \n0                    Joaquin Arribas; Enrique Arenas   \n0      Simone Niclou; Anna Golebiewska; Siu-Thinh Ho   \n0                      Silvia Giordano; Simona Corso   \n6                      Silvia Giordano; Simona Corso   \n0                Roebi de Bruijn; Marieke van de Ven   \n0                                     Steven de Jong   \n0                                    Didier Decaudin   \n0                        Julia Schueler, Hagen Klett   \n459                                   Julia Schueler   \n0                                                NaN   \n0                                       Not Provided   \n0                                       Not Provided   \n0                  Didier Decaudin; Elodie Montaudon   \n5                  Didier Decaudin; Elodie Montaudon   \n0                                              BCaPE   \n0                   Princess Margaret Living Biobank   \n94                  Princess Margaret Living Biobank   \n0                                      Abigail Ossip   \n0    Lorena Ramírez, Irene Chicote, Héctor G. Palmer   \n0                                           micetech   \n0                                    andrea bertotti   \n\n             europdx_access_modality  \n0               transnational access  \n0                                NaN  \n0               transnational access  \n0                                NaN  \n0                                NaN  \n64                               NaN  \n67                               NaN  \n108                              NaN  \n205                              NaN  \n0               transnational access  \n0                               test  \n23   Transnational access, test only  \n0                                NaN  \n110                              NaN  \n127                              NaN  \n0                       Not provided  \n0                                NaN  \n0               transnational access  \n0                 collaboration only  \n0               transnational access  \n6                 collaboration only  \n0                               Test  \n0                               test  \n0               transnational access  \n0                                NaN  \n459                              NaN  \n0                                NaN  \n0                                NaN  \n0                                NaN  \n0               transnational access  \n5                               test  \n0               transnational access  \n0                                NaN  \n94                               NaN  \n0                                NaN  \n0                 collaboration only  \n0                     Not Applicable  \n0               transnational access  ",
      "text/html": "<div>\n<style scoped>\n    .dataframe tbody tr th:only-of-type {\n        vertical-align: middle;\n    }\n\n    .dataframe tbody tr th {\n        vertical-align: top;\n    }\n\n    .dataframe thead th {\n        text-align: right;\n    }\n</style>\n<table border=\"1\" class=\"dataframe\">\n  <thead>\n    <tr style=\"text-align: right;\">\n      <th></th>\n      <th>provider</th>\n      <th>email</th>\n      <th>name</th>\n      <th>europdx_access_modality</th>\n    </tr>\n  </thead>\n  <tbody>\n    <tr>\n      <th>0</th>\n      <td>VHIO-PC</td>\n      <td>jarribas@vhio.net; earenas@vhio.net</td>\n      <td>Joaquin Arribas; Enrique Arenas</td>\n      <td>transnational access</td>\n    </tr>\n    <tr>\n      <th>0</th>\n      <td>HCMI</td>\n      <td>ocg@mail.nih.gov</td>\n      <td>NaN</td>\n      <td>NaN</td>\n    </tr>\n    <tr>\n      <th>0</th>\n      <td>UOM-BC</td>\n      <td>robert.clarke@manchester.ac.uk</td>\n      <td>Robert Clarke</td>\n      <td>transnational access</td>\n    </tr>\n    <tr>\n      <th>0</th>\n      <td>CMP</td>\n      <td>depmap@sanger.ac.uk</td>\n      <td>NaN</td>\n      <td>NaN</td>\n    </tr>\n    <tr>\n      <th>0</th>\n      <td>PIVOT</td>\n      <td>RLock@ccia.org.au</td>\n      <td>Richard Lock</td>\n      <td>NaN</td>\n    </tr>\n    <tr>\n      <th>64</th>\n      <td>PIVOT</td>\n      <td>HoughtonP@uthscsa.edu</td>\n      <td>Peter J Houghton</td>\n      <td>NaN</td>\n    </tr>\n    <tr>\n      <th>67</th>\n      <td>PIVOT</td>\n      <td>patrick.reynolds@ttuhsc.edu,maris@email.chop.edu</td>\n      <td>Reynolds, Maris</td>\n      <td>NaN</td>\n    </tr>\n    <tr>\n      <th>108</th>\n      <td>PIVOT</td>\n      <td>xli@luriechildrens.org</td>\n      <td>Li Xiao-Nan</td>\n      <td>NaN</td>\n    </tr>\n    <tr>\n      <th>205</th>\n      <td>PIVOT</td>\n      <td>RGorlick@mdanderson.org</td>\n      <td>Richard Gorlick</td>\n      <td>NaN</td>\n    </tr>\n    <tr>\n      <th>0</th>\n      <td>Curie-BC</td>\n      <td>elisabetta.marangoni@curie.fr</td>\n      <td>Elisabetta Marangoni</td>\n      <td>transnational access</td>\n    </tr>\n    <tr>\n      <th>0</th>\n      <td>TRACE</td>\n      <td>eleonora.leucci@kuleuven.be; mariafrancesca.ba...</td>\n      <td>Eleonora Leucci, Maria Francesca Baietti</td>\n      <td>test</td>\n    </tr>\n    <tr>\n      <th>23</th>\n      <td>TRACE</td>\n      <td>eleonora.leucci@kuleuven.be; mariafrancesca.ba...</td>\n      <td>Eleonora Leucci, Maria Francesca Baietti</td>\n      <td>Transnational access, test only</td>\n    </tr>\n    <tr>\n      <th>0</th>\n      <td>SJCRH</td>\n      <td>Not Provided</td>\n      <td>Childhood Solid Tumor Network</td>\n      <td>NaN</td>\n    </tr>\n    <tr>\n      <th>110</th>\n      <td>SJCRH</td>\n      <td>Not Provided</td>\n      <td>Childhood Solid Tumor Network+B27</td>\n      <td>NaN</td>\n    </tr>\n    <tr>\n      <th>127</th>\n      <td>SJCRH</td>\n      <td>Not Provided</td>\n      <td>Childhood Solid Tumor Network+B44</td>\n      <td>NaN</td>\n    </tr>\n    <tr>\n      <th>0</th>\n      <td>Wistar-MDAnderson-Penn</td>\n      <td>herlynm@Wistar.org,MDavies@mdanderson.org</td>\n      <td>NaN</td>\n      <td>Not provided</td>\n    </tr>\n    <tr>\n      <th>0</th>\n      <td>HCI-BCM</td>\n      <td>Alana.Welm@hci.utah.edu</td>\n      <td>Alana Welm</td>\n      <td>NaN</td>\n    </tr>\n    <tr>\n      <th>0</th>\n      <td>VHIO-BC</td>\n      <td>jarribas@vhio.net; earenas@vhio.net</td>\n      <td>Joaquin Arribas; Enrique Arenas</td>\n      <td>transnational access</td>\n    </tr>\n    <tr>\n      <th>0</th>\n      <td>LIH</td>\n      <td>simone.niclou@lih.lu; anna.golebiewska@lih.lu;...</td>\n      <td>Simone Niclou; Anna Golebiewska; Siu-Thinh Ho</td>\n      <td>collaboration only</td>\n    </tr>\n    <tr>\n      <th>0</th>\n      <td>IRCC-GC</td>\n      <td>silvia.giordano@ircc.it; simona.corso@ircc.it</td>\n      <td>Silvia Giordano; Simona Corso</td>\n      <td>transnational access</td>\n    </tr>\n    <tr>\n      <th>6</th>\n      <td>IRCC-GC</td>\n      <td>silvia.giordano@ircc.it; simona.corso@ircc.it</td>\n      <td>Silvia Giordano; Simona Corso</td>\n      <td>collaboration only</td>\n    </tr>\n    <tr>\n      <th>0</th>\n      <td>NKI</td>\n      <td>ro.d.bruijn@nki.nl; m.vd.ven@nki.nl</td>\n      <td>Roebi de Bruijn; Marieke van de Ven</td>\n      <td>Test</td>\n    </tr>\n    <tr>\n      <th>0</th>\n      <td>UMCG</td>\n      <td>s.de.jong@umcg.nl</td>\n      <td>Steven de Jong</td>\n      <td>test</td>\n    </tr>\n    <tr>\n      <th>0</th>\n      <td>Curie-OC</td>\n      <td>didier.decaudin@curie.fr</td>\n      <td>Didier Decaudin</td>\n      <td>transnational access</td>\n    </tr>\n    <tr>\n      <th>0</th>\n      <td>CRL</td>\n      <td>tumor-model-compendium@crl.com</td>\n      <td>Julia Schueler, Hagen Klett</td>\n      <td>NaN</td>\n    </tr>\n    <tr>\n      <th>459</th>\n      <td>CRL</td>\n      <td>tumor-model-compendium@crl.com</td>\n      <td>Julia Schueler</td>\n      <td>NaN</td>\n    </tr>\n    <tr>\n      <th>0</th>\n      <td>PDMR</td>\n      <td>NaN</td>\n      <td>NaN</td>\n      <td>NaN</td>\n    </tr>\n    <tr>\n      <th>0</th>\n      <td>MDAnderson</td>\n      <td>bfang@mdanderson.org</td>\n      <td>Not Provided</td>\n      <td>NaN</td>\n    </tr>\n    <tr>\n      <th>0</th>\n      <td>WUSTL</td>\n      <td>bvantine@wustl.edu,rcfields@wustl.edu,jmudd@wu...</td>\n      <td>Not Provided</td>\n      <td>NaN</td>\n    </tr>\n    <tr>\n      <th>0</th>\n      <td>Curie-LC</td>\n      <td>didier.decaudin@curie.fr; elodie.montaudon@cur...</td>\n      <td>Didier Decaudin; Elodie Montaudon</td>\n      <td>transnational access</td>\n    </tr>\n    <tr>\n      <th>5</th>\n      <td>Curie-LC</td>\n      <td>didier.decaudin@curie.fr; elodie.montaudon@cur...</td>\n      <td>Didier Decaudin; Elodie Montaudon</td>\n      <td>test</td>\n    </tr>\n    <tr>\n      <th>0</th>\n      <td>UOC-BC</td>\n      <td>bcape@cruk.cam.ac.uk</td>\n      <td>BCaPE</td>\n      <td>transnational access</td>\n    </tr>\n    <tr>\n      <th>0</th>\n      <td>PMLB</td>\n      <td>pmlb@uhnresearch.ca</td>\n      <td>Princess Margaret Living Biobank</td>\n      <td>NaN</td>\n    </tr>\n    <tr>\n      <th>94</th>\n      <td>PMLB</td>\n      <td>pmlb@uhnresearch.ca</td>\n      <td>Princess Margaret Living Biobank</td>\n      <td>NaN</td>\n    </tr>\n    <tr>\n      <th>0</th>\n      <td>DFCI-CPDM</td>\n      <td>dfcipatientderivedmodels@partners.org</td>\n      <td>Abigail Ossip</td>\n      <td>NaN</td>\n    </tr>\n    <tr>\n      <th>0</th>\n      <td>VHIO-CRC</td>\n      <td>lramirez@vhio.net, ichicote@vhio.net, hgpalmer...</td>\n      <td>Lorena Ramírez, Irene Chicote, Héctor G. Palmer</td>\n      <td>collaboration only</td>\n    </tr>\n    <tr>\n      <th>0</th>\n      <td>JAX</td>\n      <td>micetech@jax.org</td>\n      <td>micetech</td>\n      <td>Not Applicable</td>\n    </tr>\n    <tr>\n      <th>0</th>\n      <td>IRCC-CRC</td>\n      <td>andrea.bertotti@ircc.it</td>\n      <td>andrea bertotti</td>\n      <td>transnational access</td>\n    </tr>\n  </tbody>\n</table>\n</div>"
     },
     "execution_count": 29,
     "metadata": {},
     "output_type": "execute_result"
    }
   ],
   "source": [
    "contact_sheet.drop_duplicates()"
   ],
   "metadata": {
    "collapsed": false
   }
  },
  {
   "cell_type": "code",
   "execution_count": 32,
   "outputs": [],
   "source": [
    "contact_sheet.drop_duplicates().to_csv(\"Contact_sheet.tsv\", sep='\\t', index=False)"
   ],
   "metadata": {
    "collapsed": false
   }
  },
  {
   "cell_type": "code",
   "execution_count": null,
   "outputs": [],
   "source": [],
   "metadata": {
    "collapsed": false
   }
  }
 ],
 "metadata": {
  "kernelspec": {
   "display_name": "Python 3",
   "language": "python",
   "name": "python3"
  },
  "language_info": {
   "codemirror_mode": {
    "name": "ipython",
    "version": 2
   },
   "file_extension": ".py",
   "mimetype": "text/x-python",
   "name": "python",
   "nbconvert_exporter": "python",
   "pygments_lexer": "ipython2",
   "version": "2.7.6"
  }
 },
 "nbformat": 4,
 "nbformat_minor": 0
}
