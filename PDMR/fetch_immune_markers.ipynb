{
 "cells": [
  {
   "cell_type": "code",
   "id": "initial_id",
   "metadata": {
    "collapsed": true,
    "ExecuteTime": {
     "end_time": "2024-08-28T08:19:54.423842Z",
     "start_time": "2024-08-28T08:19:52.853055Z"
    }
   },
   "source": [
    "import os\n",
    "\n",
    "from utils import read_metadata_without_fields, read_metadata_with_fields,  request\n",
    "from os import getcwd\n",
    "import pandas as pd\n",
    "from tqdm import tqdm\n",
    "import re\n",
    "from bs4 import BeautifulSoup"
   ],
   "outputs": [],
   "execution_count": 1
  },
  {
   "cell_type": "code",
   "source": [
    "start_dir = getcwd()\n",
    "model_sharing = read_metadata_without_fields(\"/Users/tushar/CancerModels/pdxfinder-data/data/UPDOG/PDMR/PDMR_metadata-sharing.tsv\")\n",
    "mol_sample = read_metadata_without_fields(\"/Users/tushar/CancerModels/pdxfinder-data/data/UPDOG/PDMR/PDMR_molecular_metadata-sample.tsv\")\n",
    "merged = model_sharing.merge(mol_sample, on=\"model_id\", how=\"left\")\n",
    "merged = merged[merged.fillna(0)['sample_origin'] != 0]\n",
    "#merged = merged[merged['sample_origin'] != \"xenograft\"]\n",
    "merged = merged[[\"model_id\", \"sample_id\", \"sample_origin\", \"database_url\", 'raw_data_url', \"passage\", 'host_strain_name', \n",
    "                 'host_strain_nomenclature', 'engrafted_tumor_collection_site', 'platform_id']]\n",
    "merged = merged.drop_duplicates(['model_id', 'sample_id']).reset_index(drop=True)"
   ],
   "metadata": {
    "collapsed": false,
    "ExecuteTime": {
     "end_time": "2024-08-28T08:19:54.541704Z",
     "start_time": "2024-08-28T08:19:54.426796Z"
    }
   },
   "id": "a611c94634308cc7",
   "outputs": [],
   "execution_count": 2
  },
  {
   "cell_type": "code",
   "source": [
    "def parse_html(response):\n",
    "    soup = BeautifulSoup(response.text, 'html.parser')\n",
    "    table = soup.find('table')\n",
    "    data_rows = []\n",
    "    for row in table.find_all('tr')[2:]:  # Skip the first two rows (headers and separator)\n",
    "        data = [td.text.strip() for td in row.find_all('td')]\n",
    "        if len(data)>0 and data[0].__contains__(\"General Model Information\"):\n",
    "            data_rows.append(data)\n",
    "    m = re.search(\"MSI.*HLA.*\\n.*\\n.*\", re.sub(\"\\n+\", \"\\n\", data_rows[0][0]))\n",
    "    if m:\n",
    "        out = m.group()\n",
    "        out = out.replace('MSI Status', 'MSI Status: ')\n",
    "        out = out.replace(\"HLA Profile\", \"\\nHLA Profile: \")\n",
    "    else:\n",
    "        out = ''\n",
    "    if out.__contains__('MSI Status'):\n",
    "        msi = out.split(\"\\n\")[0].split(\" \")[2]\n",
    "    else:\n",
    "        msi = ''\n",
    "    if out.__contains__(\"HLA Profile\"):\n",
    "        out = re.sub(\"\\(s\\)\\n.*\\n\", \"\", out)\n",
    "        out = re.sub(\"./.\", \"\", out)\n",
    "        hla = out.split('\\n')[1].split(\" \")[2]\n",
    "    else:\n",
    "        hla = ''\n",
    "    return [msi, hla]\n",
    "\n",
    "ms_sheet = read_metadata_with_fields(\"/Users/tushar/CancerModels/pdxfinder-data/data/UPDOG/PDMR/PDMR_molecular_metadata-sample.tsv\")\n",
    "immune_sheet = pd.DataFrame(columns=['Field', 'sample_id', 'marker_type', 'marker_name', 'marker_value', 'essential_or_additional_details', 'platform_id'])\n",
    "types = [\"MMR\", \"TMB\",\"Mutations per mb\", \"Ploidy\"]\n",
    "pid = {\"MMR\": 'immune_mmr', \"TMB\": 'immune_tmb',\"Mutations per mb\": 'immune_mpm', \"Ploidy\": 'immune_ploidy'}\n",
    "for i in tqdm(range(merged.shape[0]), \"Fetch from PDMR\"):\n",
    "    mid = merged.iloc[i, 0]\n",
    "    sid = merged.iloc[i, 1]\n",
    "    so = merged.iloc[i, 2]\n",
    "    link = merged.iloc[i, 3]\n",
    "    rdu = merged.iloc[i, 4]\n",
    "    response = request(link, False, 'get')\n",
    "    dt = set()\n",
    "    if response.text is not None:\n",
    "        msi, hla = parse_html(response)\n",
    "        if msi.__contains__(\"MSI\"):\n",
    "            msi = msi.replace(\"MSI-\", \"\")\n",
    "            ms_sheet = pd.concat([ms_sheet, pd.DataFrame([['', mid, sid, so, merged.iloc[i, 6], merged.iloc[i, 7], merged.iloc[i, 8], merged.iloc[i, 9], rdu, 'immune_MSI']],  columns=ms_sheet.columns)])\n",
    "            row = [['', sid, 'Model Genomics', 'MSI', msi, '', 'immune_MSI']]\n",
    "            immune_sheet = pd.concat([immune_sheet, pd.DataFrame(row,  columns=immune_sheet.columns)])\n",
    "            dt.add('MSI')\n",
    "        if hla != '':\n",
    "            pattern = re.compile(r'([A-Z]\\*\\d{2}:\\d{2})')\n",
    "            hla_types = pattern.findall(hla)\n",
    "            hla_a_types = ['HLA-' + hla_type for hla_type in hla_types if hla_type.startswith('A')]\n",
    "            hla_b_types = ['HLA-' + hla_type for hla_type in hla_types if hla_type.startswith('B')]\n",
    "            hla_c_types = ['HLA-' + hla_type for hla_type in hla_types if hla_type.startswith('C')]\n",
    "            hla_a_string = ', '.join(hla_a_types)\n",
    "            hla_b_string = ', '.join(hla_b_types)\n",
    "            hla_c_string = ', '.join(hla_c_types)\n",
    "            row = [['', sid, 'HLA type', 'HLA-A', hla_a_string, '', 'immune_HLA_type'], ['', sid, 'HLA type','HLA-B', hla_b_string, '', 'immune_HLA_type'], ['', sid, 'HLA type','HLA-C', hla_c_string, '', 'immune_HLA_type']]\n",
    "            immune_sheet = pd.concat([immune_sheet, pd.DataFrame(row,  columns=immune_sheet.columns)])\n",
    "            ms_sheet = pd.concat([ms_sheet, pd.DataFrame([['', mid, sid, so, merged.iloc[i, 6], merged.iloc[i, 7], merged.iloc[i, 8], merged.iloc[i, 9], rdu, 'immune_HLA_type']],  columns=ms_sheet.columns)])\n",
    "            dt.add('HLA')\n",
    "    for t in types:\n",
    "        if t not in dt:\n",
    "            dt.add(t)\n",
    "            ms_sheet = pd.concat([ms_sheet, pd.DataFrame([['', mid, sid, so, merged.iloc[i, 6], merged.iloc[i, 7], merged.iloc[i, 8], merged.iloc[i, 9], rdu, pid[t]]],  columns=ms_sheet.columns)])\n",
    "            row = [['', sid, 'Model Genomics', t, 'Not provided', '', pid[t]]]\n",
    "            immune_sheet = pd.concat([immune_sheet, pd.DataFrame(row,  columns=immune_sheet.columns)])\n",
    "            \n",
    "immune_sheet.to_csv(\"/Users/tushar/CancerModels/pdxfinder-data/data/UPDOG/PDMR/PDMR_immunemarker-Sheet1_new.tsv\", sep='\\t', index=False)\n",
    "ms_sheet.drop_duplicates()\n",
    "ms_sheet.to_csv(\"/Users/tushar/CancerModels/pdxfinder-data/data/UPDOG/PDMR/PDMR_molecular_metadata-sample_2.tsv\", sep='\\t', index=False)"
   ],
   "metadata": {
    "collapsed": false,
    "jupyter": {
     "is_executing": true
    },
    "ExecuteTime": {
     "start_time": "2024-08-28T08:36:15.716074Z"
    }
   },
   "id": "8d2275bc069341ae",
   "outputs": [
    {
     "name": "stderr",
     "output_type": "stream",
     "text": [
      "Fetch from PDMR:   0%|          | 4/4270 [00:03<1:04:24,  1.10it/s]"
     ]
    }
   ],
   "execution_count": null
  },
  {
   "metadata": {
    "ExecuteTime": {
     "end_time": "2024-08-14T15:36:09.657686Z",
     "start_time": "2024-08-14T15:35:42.216951Z"
    }
   },
   "cell_type": "code",
   "source": [
    "sample_ids = immune_sheet.sample_id.unique()\n",
    "for s in sample_ids:\n",
    "     types = [\"MMR\", \"TMB\",\"Mutations per mb\", \"Ploidy\"]\n",
    "     pid = {\"MMR\": 'immune_mmr', \"TMB\": 'immune_tmb',\"Mutations per mb\": 'immune_mpm', \"Ploidy\": 'immune_ploidy'}\n",
    "     for t in types:\n",
    "         row = ['', s, 'Model Genomics', t, 'Not provided', '', pid[t]]\n",
    "         immune_sheet = pd.concat([immune_sheet, pd.DataFrame([row], columns=immune_sheet.columns)])\n",
    "immune_sheet"
   ],
   "id": "1b04298a3b0c5661",
   "outputs": [
    {
     "data": {
      "text/plain": [
       "   Field                 sample_id     marker_type       marker_name  \\\n",
       "0                     764851-200-R  Model Genomics               MSI   \n",
       "0                     764851-200-R        HLA type             HLA-A   \n",
       "1                     764851-200-R        HLA type             HLA-B   \n",
       "2                     764851-200-R        HLA type             HLA-C   \n",
       "0              764851-200-R-W9NP10  Model Genomics               MSI   \n",
       "..   ...                       ...             ...               ...   \n",
       "0         476673-061-R-V1-organoid  Model Genomics            Ploidy   \n",
       "0         487391-300-R-V3-organoid  Model Genomics               MMR   \n",
       "0         487391-300-R-V3-organoid  Model Genomics               TMB   \n",
       "0         487391-300-R-V3-organoid  Model Genomics  Mutations per mb   \n",
       "0         487391-300-R-V3-organoid  Model Genomics            Ploidy   \n",
       "\n",
       "                marker_value essential_or_additional_details      platform_id  \n",
       "0                     Stable                                       immune_MSI  \n",
       "0   HLA-A*01:01, HLA-A*23:01                                  immune_HLA_type  \n",
       "1   HLA-B*08:01, HLA-B*35:08                                  immune_HLA_type  \n",
       "2   HLA-C*04:01, HLA-C*07:01                                  immune_HLA_type  \n",
       "0                     Stable                                       immune_MSI  \n",
       "..                       ...                             ...              ...  \n",
       "0               Not provided                                    immune_ploidy  \n",
       "0               Not provided                                       immune_mmr  \n",
       "0               Not provided                                       immune_tmb  \n",
       "0               Not provided                                       immune_mpm  \n",
       "0               Not provided                                    immune_ploidy  \n",
       "\n",
       "[33246 rows x 7 columns]"
      ],
      "text/html": [
       "<div>\n",
       "<style scoped>\n",
       "    .dataframe tbody tr th:only-of-type {\n",
       "        vertical-align: middle;\n",
       "    }\n",
       "\n",
       "    .dataframe tbody tr th {\n",
       "        vertical-align: top;\n",
       "    }\n",
       "\n",
       "    .dataframe thead th {\n",
       "        text-align: right;\n",
       "    }\n",
       "</style>\n",
       "<table border=\"1\" class=\"dataframe\">\n",
       "  <thead>\n",
       "    <tr style=\"text-align: right;\">\n",
       "      <th></th>\n",
       "      <th>Field</th>\n",
       "      <th>sample_id</th>\n",
       "      <th>marker_type</th>\n",
       "      <th>marker_name</th>\n",
       "      <th>marker_value</th>\n",
       "      <th>essential_or_additional_details</th>\n",
       "      <th>platform_id</th>\n",
       "    </tr>\n",
       "  </thead>\n",
       "  <tbody>\n",
       "    <tr>\n",
       "      <th>0</th>\n",
       "      <td></td>\n",
       "      <td>764851-200-R</td>\n",
       "      <td>Model Genomics</td>\n",
       "      <td>MSI</td>\n",
       "      <td>Stable</td>\n",
       "      <td></td>\n",
       "      <td>immune_MSI</td>\n",
       "    </tr>\n",
       "    <tr>\n",
       "      <th>0</th>\n",
       "      <td></td>\n",
       "      <td>764851-200-R</td>\n",
       "      <td>HLA type</td>\n",
       "      <td>HLA-A</td>\n",
       "      <td>HLA-A*01:01, HLA-A*23:01</td>\n",
       "      <td></td>\n",
       "      <td>immune_HLA_type</td>\n",
       "    </tr>\n",
       "    <tr>\n",
       "      <th>1</th>\n",
       "      <td></td>\n",
       "      <td>764851-200-R</td>\n",
       "      <td>HLA type</td>\n",
       "      <td>HLA-B</td>\n",
       "      <td>HLA-B*08:01, HLA-B*35:08</td>\n",
       "      <td></td>\n",
       "      <td>immune_HLA_type</td>\n",
       "    </tr>\n",
       "    <tr>\n",
       "      <th>2</th>\n",
       "      <td></td>\n",
       "      <td>764851-200-R</td>\n",
       "      <td>HLA type</td>\n",
       "      <td>HLA-C</td>\n",
       "      <td>HLA-C*04:01, HLA-C*07:01</td>\n",
       "      <td></td>\n",
       "      <td>immune_HLA_type</td>\n",
       "    </tr>\n",
       "    <tr>\n",
       "      <th>0</th>\n",
       "      <td></td>\n",
       "      <td>764851-200-R-W9NP10</td>\n",
       "      <td>Model Genomics</td>\n",
       "      <td>MSI</td>\n",
       "      <td>Stable</td>\n",
       "      <td></td>\n",
       "      <td>immune_MSI</td>\n",
       "    </tr>\n",
       "    <tr>\n",
       "      <th>...</th>\n",
       "      <td>...</td>\n",
       "      <td>...</td>\n",
       "      <td>...</td>\n",
       "      <td>...</td>\n",
       "      <td>...</td>\n",
       "      <td>...</td>\n",
       "      <td>...</td>\n",
       "    </tr>\n",
       "    <tr>\n",
       "      <th>0</th>\n",
       "      <td></td>\n",
       "      <td>476673-061-R-V1-organoid</td>\n",
       "      <td>Model Genomics</td>\n",
       "      <td>Ploidy</td>\n",
       "      <td>Not provided</td>\n",
       "      <td></td>\n",
       "      <td>immune_ploidy</td>\n",
       "    </tr>\n",
       "    <tr>\n",
       "      <th>0</th>\n",
       "      <td></td>\n",
       "      <td>487391-300-R-V3-organoid</td>\n",
       "      <td>Model Genomics</td>\n",
       "      <td>MMR</td>\n",
       "      <td>Not provided</td>\n",
       "      <td></td>\n",
       "      <td>immune_mmr</td>\n",
       "    </tr>\n",
       "    <tr>\n",
       "      <th>0</th>\n",
       "      <td></td>\n",
       "      <td>487391-300-R-V3-organoid</td>\n",
       "      <td>Model Genomics</td>\n",
       "      <td>TMB</td>\n",
       "      <td>Not provided</td>\n",
       "      <td></td>\n",
       "      <td>immune_tmb</td>\n",
       "    </tr>\n",
       "    <tr>\n",
       "      <th>0</th>\n",
       "      <td></td>\n",
       "      <td>487391-300-R-V3-organoid</td>\n",
       "      <td>Model Genomics</td>\n",
       "      <td>Mutations per mb</td>\n",
       "      <td>Not provided</td>\n",
       "      <td></td>\n",
       "      <td>immune_mpm</td>\n",
       "    </tr>\n",
       "    <tr>\n",
       "      <th>0</th>\n",
       "      <td></td>\n",
       "      <td>487391-300-R-V3-organoid</td>\n",
       "      <td>Model Genomics</td>\n",
       "      <td>Ploidy</td>\n",
       "      <td>Not provided</td>\n",
       "      <td></td>\n",
       "      <td>immune_ploidy</td>\n",
       "    </tr>\n",
       "  </tbody>\n",
       "</table>\n",
       "<p>33246 rows × 7 columns</p>\n",
       "</div>"
      ]
     },
     "execution_count": 13,
     "metadata": {},
     "output_type": "execute_result"
    }
   ],
   "execution_count": 13
  },
  {
   "metadata": {
    "ExecuteTime": {
     "end_time": "2024-08-14T15:36:54.579633Z",
     "start_time": "2024-08-14T15:36:54.396265Z"
    }
   },
   "cell_type": "code",
   "source": "immune_sheet.to_csv(\"/Users/tushar/CancerModels/pdxfinder-data/data/UPDOG/PDMR/PDMR_immunemarker-Sheet1_new.tsv\", sep='\\t', index=False)",
   "id": "6d50080112ff6e52",
   "outputs": [],
   "execution_count": 14
  },
  {
   "cell_type": "code",
   "execution_count": 15,
   "outputs": [],
   "source": [
    "model_sharing = read_metadata_without_fields(\"/Users/tushar/CancerModels/pdxfinder-data/data/UPDOG/CRL/CRL_metadata-sharing.tsv\")\n",
    "mol_sample = read_metadata_without_fields(\"/Users/tushar/CancerModels/pdxfinder-data/data/UPDOG/CRL/CRL_molecular_metadata-sample.tsv\")\n",
    "\n",
    "merged = model_sharing.merge(mol_sample, on=\"model_id\", how=\"left\")\n",
    "merged = merged[merged.fillna(0)['sample_origin'] != 0]\n",
    "merged = merged[[\"model_id\", \"sample_id\", \"sample_origin\", \"database_url\", 'raw_data_url', \"passage\", 'host_strain_name', \n",
    "                 'host_strain_nomenclature', 'engrafted_tumor_collection_site', 'platform_id']]\n",
    "merged = merged.drop_duplicates(['model_id', 'sample_id']).reset_index(drop=True)\n",
    "# Assuming df is your DataFrame with 'sample_id' and 'passage_number' columns\n",
    "merged['passage_number'] = pd.to_numeric(merged['passage'], errors='coerce')  # Convert passage_number to numeric\n",
    "merged = merged.sort_values(by=['model_id', 'passage_number'])\n",
    "merged = merged.drop_duplicates(subset='model_id', keep='last').reset_index(drop=True)"
   ],
   "metadata": {
    "collapsed": false,
    "ExecuteTime": {
     "end_time": "2023-12-06T11:58:58.495833Z",
     "start_time": "2023-12-06T11:58:58.441454Z"
    }
   },
   "id": "832f2dddf93a58b9"
  },
  {
   "cell_type": "code",
   "execution_count": 22,
   "outputs": [
    {
     "data": {
      "text/plain": "        model_id       sample_id sample_origin  \\\n0       CRL-1003   RXF_1003-2005     xenograft   \n1       CRL-1012  LXFA_1012-1139     xenograft   \n2       CRL-1022  LXFE_1022-1122     xenograft   \n3       CRL-1023  OVXF_1023-5712     xenograft   \n4       CRL-1034   CXF_1034-4446     xenograft   \n..           ...             ...           ...   \n468  CRL-SMTCA88  Oncotest-R0057     xenograft   \n469  CRL-SMTCA96        A2874-08     xenograft   \n470   CRL-TH-001        A3559_51     xenograft   \n471   CRL-TH-005       CRL-R0215     xenograft   \n472   CRL-TH-007       CRL-R0266     xenograft   \n\n                                          database_url  \\\n0    https://compendium.criver.com/compendium2/mode...   \n1    https://compendium.criver.com/compendium2/mode...   \n2    https://compendium.criver.com/compendium2/mode...   \n3    https://compendium.criver.com/compendium2/mode...   \n4    https://compendium.criver.com/compendium2/mode...   \n..                                                 ...   \n468  https://compendium.criver.com/compendium2/mode...   \n469  https://compendium.criver.com/compendium2/mode...   \n470  https://compendium.criver.com/compendium2/mode...   \n471  https://compendium.criver.com/compendium2/mode...   \n472  https://compendium.criver.com/compendium2/mode...   \n\n                                          raw_data_url passage  \\\n0                                    RXF_1003-2005.cel      10   \n1                                   LXFA_1012-1139.cel       7   \n2                                   LXFE_1022-1122.cel       7   \n3                                   OVXF_1023-5712.cel      20   \n4                                    CXF_1034-4446.cel       7   \n..                                                 ...     ...   \n468  NG-9398_LYXFDLBC_SMTCA88_R_1735_lib121944_4532...       5   \n469                                       A2874-08.CEL       6   \n470                                                NaN       4   \n471        R_2188_TH_005_1.fq.gz|R_2188_TH_005_2.fq.gz       6   \n472                      R_2674_1.fq.gz|R_2674_2.fq.gz       4   \n\n    host_strain_name                           host_strain_nomenclature  \\\n0               NMRI                        Crl:NMRI-Foxn1<sup>nu</sup>   \n1               NMRI                        Crl:NMRI-Foxn1<sup>nu</sup>   \n2               NMRI                        Crl:NMRI-Foxn1<sup>nu</sup>   \n3               NMRI                        Crl:NMRI-Foxn1<sup>nu</sup>   \n4               NMRI                        Crl:NMRI-Foxn1<sup>nu</sup>   \n..               ...                                                ...   \n468          NOG/NSG  NOD.Cg-Prkdc<sup>scid</sup> Il2rg<sup>tm1Wjl</...   \n469             NMRI                        Crl:NMRI-Foxn1<sup>nu</sup>   \n470             NMRI                        Crl:NMRI-Foxn1<sup>nu</sup>   \n471             NMRI                        Crl:NMRI-Foxn1<sup>nu</sup>   \n472             NMRI                        Crl:NMRI-Foxn1<sup>nu</sup>   \n\n    engrafted_tumor_collection_site                               platform_id  \\\n0                               NaN  copy_number_alteration_Affymetrix_SNP6.0   \n1                               NaN  copy_number_alteration_Affymetrix_SNP6.0   \n2                               NaN  copy_number_alteration_Affymetrix_SNP6.0   \n3                               NaN  copy_number_alteration_Affymetrix_SNP6.0   \n4                               NaN  copy_number_alteration_Affymetrix_SNP6.0   \n..                              ...                                       ...   \n468                             NaN                   mutation_RNA_sequencing   \n469                             NaN  copy_number_alteration_Affymetrix_SNP6.0   \n470                             NaN         expression_Affymetrix_HGU133plus2   \n471                             NaN                   mutation_RNA_sequencing   \n472                             NaN                   mutation_RNA_sequencing   \n\n     passage_number  \n0              10.0  \n1               7.0  \n2               7.0  \n3              20.0  \n4               7.0  \n..              ...  \n468             5.0  \n469             6.0  \n470             4.0  \n471             6.0  \n472             4.0  \n\n[473 rows x 11 columns]",
      "text/html": "<div>\n<style scoped>\n    .dataframe tbody tr th:only-of-type {\n        vertical-align: middle;\n    }\n\n    .dataframe tbody tr th {\n        vertical-align: top;\n    }\n\n    .dataframe thead th {\n        text-align: right;\n    }\n</style>\n<table border=\"1\" class=\"dataframe\">\n  <thead>\n    <tr style=\"text-align: right;\">\n      <th></th>\n      <th>model_id</th>\n      <th>sample_id</th>\n      <th>sample_origin</th>\n      <th>database_url</th>\n      <th>raw_data_url</th>\n      <th>passage</th>\n      <th>host_strain_name</th>\n      <th>host_strain_nomenclature</th>\n      <th>engrafted_tumor_collection_site</th>\n      <th>platform_id</th>\n      <th>passage_number</th>\n    </tr>\n  </thead>\n  <tbody>\n    <tr>\n      <th>0</th>\n      <td>CRL-1003</td>\n      <td>RXF_1003-2005</td>\n      <td>xenograft</td>\n      <td>https://compendium.criver.com/compendium2/mode...</td>\n      <td>RXF_1003-2005.cel</td>\n      <td>10</td>\n      <td>NMRI</td>\n      <td>Crl:NMRI-Foxn1&lt;sup&gt;nu&lt;/sup&gt;</td>\n      <td>NaN</td>\n      <td>copy_number_alteration_Affymetrix_SNP6.0</td>\n      <td>10.0</td>\n    </tr>\n    <tr>\n      <th>1</th>\n      <td>CRL-1012</td>\n      <td>LXFA_1012-1139</td>\n      <td>xenograft</td>\n      <td>https://compendium.criver.com/compendium2/mode...</td>\n      <td>LXFA_1012-1139.cel</td>\n      <td>7</td>\n      <td>NMRI</td>\n      <td>Crl:NMRI-Foxn1&lt;sup&gt;nu&lt;/sup&gt;</td>\n      <td>NaN</td>\n      <td>copy_number_alteration_Affymetrix_SNP6.0</td>\n      <td>7.0</td>\n    </tr>\n    <tr>\n      <th>2</th>\n      <td>CRL-1022</td>\n      <td>LXFE_1022-1122</td>\n      <td>xenograft</td>\n      <td>https://compendium.criver.com/compendium2/mode...</td>\n      <td>LXFE_1022-1122.cel</td>\n      <td>7</td>\n      <td>NMRI</td>\n      <td>Crl:NMRI-Foxn1&lt;sup&gt;nu&lt;/sup&gt;</td>\n      <td>NaN</td>\n      <td>copy_number_alteration_Affymetrix_SNP6.0</td>\n      <td>7.0</td>\n    </tr>\n    <tr>\n      <th>3</th>\n      <td>CRL-1023</td>\n      <td>OVXF_1023-5712</td>\n      <td>xenograft</td>\n      <td>https://compendium.criver.com/compendium2/mode...</td>\n      <td>OVXF_1023-5712.cel</td>\n      <td>20</td>\n      <td>NMRI</td>\n      <td>Crl:NMRI-Foxn1&lt;sup&gt;nu&lt;/sup&gt;</td>\n      <td>NaN</td>\n      <td>copy_number_alteration_Affymetrix_SNP6.0</td>\n      <td>20.0</td>\n    </tr>\n    <tr>\n      <th>4</th>\n      <td>CRL-1034</td>\n      <td>CXF_1034-4446</td>\n      <td>xenograft</td>\n      <td>https://compendium.criver.com/compendium2/mode...</td>\n      <td>CXF_1034-4446.cel</td>\n      <td>7</td>\n      <td>NMRI</td>\n      <td>Crl:NMRI-Foxn1&lt;sup&gt;nu&lt;/sup&gt;</td>\n      <td>NaN</td>\n      <td>copy_number_alteration_Affymetrix_SNP6.0</td>\n      <td>7.0</td>\n    </tr>\n    <tr>\n      <th>...</th>\n      <td>...</td>\n      <td>...</td>\n      <td>...</td>\n      <td>...</td>\n      <td>...</td>\n      <td>...</td>\n      <td>...</td>\n      <td>...</td>\n      <td>...</td>\n      <td>...</td>\n      <td>...</td>\n    </tr>\n    <tr>\n      <th>468</th>\n      <td>CRL-SMTCA88</td>\n      <td>Oncotest-R0057</td>\n      <td>xenograft</td>\n      <td>https://compendium.criver.com/compendium2/mode...</td>\n      <td>NG-9398_LYXFDLBC_SMTCA88_R_1735_lib121944_4532...</td>\n      <td>5</td>\n      <td>NOG/NSG</td>\n      <td>NOD.Cg-Prkdc&lt;sup&gt;scid&lt;/sup&gt; Il2rg&lt;sup&gt;tm1Wjl&lt;/...</td>\n      <td>NaN</td>\n      <td>mutation_RNA_sequencing</td>\n      <td>5.0</td>\n    </tr>\n    <tr>\n      <th>469</th>\n      <td>CRL-SMTCA96</td>\n      <td>A2874-08</td>\n      <td>xenograft</td>\n      <td>https://compendium.criver.com/compendium2/mode...</td>\n      <td>A2874-08.CEL</td>\n      <td>6</td>\n      <td>NMRI</td>\n      <td>Crl:NMRI-Foxn1&lt;sup&gt;nu&lt;/sup&gt;</td>\n      <td>NaN</td>\n      <td>copy_number_alteration_Affymetrix_SNP6.0</td>\n      <td>6.0</td>\n    </tr>\n    <tr>\n      <th>470</th>\n      <td>CRL-TH-001</td>\n      <td>A3559_51</td>\n      <td>xenograft</td>\n      <td>https://compendium.criver.com/compendium2/mode...</td>\n      <td>NaN</td>\n      <td>4</td>\n      <td>NMRI</td>\n      <td>Crl:NMRI-Foxn1&lt;sup&gt;nu&lt;/sup&gt;</td>\n      <td>NaN</td>\n      <td>expression_Affymetrix_HGU133plus2</td>\n      <td>4.0</td>\n    </tr>\n    <tr>\n      <th>471</th>\n      <td>CRL-TH-005</td>\n      <td>CRL-R0215</td>\n      <td>xenograft</td>\n      <td>https://compendium.criver.com/compendium2/mode...</td>\n      <td>R_2188_TH_005_1.fq.gz|R_2188_TH_005_2.fq.gz</td>\n      <td>6</td>\n      <td>NMRI</td>\n      <td>Crl:NMRI-Foxn1&lt;sup&gt;nu&lt;/sup&gt;</td>\n      <td>NaN</td>\n      <td>mutation_RNA_sequencing</td>\n      <td>6.0</td>\n    </tr>\n    <tr>\n      <th>472</th>\n      <td>CRL-TH-007</td>\n      <td>CRL-R0266</td>\n      <td>xenograft</td>\n      <td>https://compendium.criver.com/compendium2/mode...</td>\n      <td>R_2674_1.fq.gz|R_2674_2.fq.gz</td>\n      <td>4</td>\n      <td>NMRI</td>\n      <td>Crl:NMRI-Foxn1&lt;sup&gt;nu&lt;/sup&gt;</td>\n      <td>NaN</td>\n      <td>mutation_RNA_sequencing</td>\n      <td>4.0</td>\n    </tr>\n  </tbody>\n</table>\n<p>473 rows × 11 columns</p>\n</div>"
     },
     "execution_count": 22,
     "metadata": {},
     "output_type": "execute_result"
    }
   ],
   "source": [
    "merged"
   ],
   "metadata": {
    "collapsed": false,
    "ExecuteTime": {
     "end_time": "2023-12-06T13:44:05.501557Z",
     "start_time": "2023-12-06T13:44:05.466297Z"
    }
   },
   "id": "5ecedd88b2ea166"
  },
  {
   "cell_type": "code",
   "execution_count": 29,
   "outputs": [
    {
     "name": "stderr",
     "output_type": "stream",
     "text": [
      "Fetch from CRL: 100%|██████████| 473/473 [04:10<00:00,  1.89it/s]\n"
     ]
    }
   ],
   "source": [
    "def parse_html(response):\n",
    "    soup = BeautifulSoup(response.text, 'html.parser')\n",
    "    table = soup.find_all('table')\n",
    "    table = [t for t in table if t.text.__contains__('HLA')]\n",
    "    hla = ''\n",
    "    if len(table) > 0:\n",
    "        data_rows = []\n",
    "        for row in table[0].find_all('tr'):  # Skip the first two rows (headers and separator)\n",
    "            data = [re.sub(\"\\(.*\", \"\", td.text.strip()) for td in row.find_all('td')]\n",
    "            data_rows.append(data)\n",
    "        if len(data_rows) > 0:\n",
    "            data_rows = pd.DataFrame(data_rows).drop_duplicates()\n",
    "            data_rows['HLA'] = data_rows[0] + ', ' + data_rows[1]\n",
    "            hla = list(data_rows['HLA'])  \n",
    "        else:\n",
    "            hla = ''\n",
    "    return hla\n",
    "\n",
    "ms_sheet = read_metadata_with_fields(\"/Users/tushar/CancerModels/pdxfinder-data/data/UPDOG/CRL/CRL_molecular_metadata-sample.tsv\")\n",
    "immune_sheet = pd.DataFrame(columns=['Field', 'sample_id', 'marker_type', 'marker_name', 'marker_value', 'essential_or_additional_details', 'platform_id'])\n",
    "for i in tqdm(range(merged.shape[0]), \"Fetch from CRL\"):\n",
    "    mid = merged.iloc[i, 0]\n",
    "    sid = merged.iloc[i, 1]\n",
    "    so = merged.iloc[i, 2]\n",
    "    link = merged.iloc[i, 3]\n",
    "    rdu = merged.iloc[i, 4]\n",
    "    passage = merged.iloc[i]['passage']\n",
    "    host_strain_name = merged.iloc[i]['host_strain_name']\n",
    "    host_strain_nomenclature = merged.iloc[i]['host_strain_nomenclature']\n",
    "    engrafted_tumor_collection_site = merged.iloc[i]['engrafted_tumor_collection_site']\n",
    "    \n",
    "    response = request(link, False, 'get')\n",
    "    if response.text is not None:\n",
    "        hla_types = parse_html(response)\n",
    "        if hla_types != '':\n",
    "            row = []\n",
    "            for hla in hla_types:\n",
    "                ht = re.search(\"\\, HLA-.*\\*\", hla).group()[2:-1]\n",
    "                row.append(['', sid, 'HLA type', ht, hla, '', 'immune_HLA_type'])\n",
    "            immune_sheet = pd.concat([immune_sheet, pd.DataFrame(row,  columns=immune_sheet.columns)]).reset_index(drop=True)\n",
    "            ms_sheet = pd.concat([ms_sheet, pd.DataFrame([['', mid, sid, so, passage, host_strain_name, host_strain_nomenclature, engrafted_tumor_collection_site, '', 'immune_HLA_type']],  columns=ms_sheet.columns)]).reset_index(drop=True)"
   ],
   "metadata": {
    "collapsed": false,
    "ExecuteTime": {
     "end_time": "2023-12-06T13:51:04.637388Z",
     "start_time": "2023-12-06T13:46:53.957040Z"
    }
   },
   "id": "cabd6161faedce26"
  },
  {
   "cell_type": "code",
   "execution_count": 31,
   "outputs": [],
   "source": [
    "immune_sheet.to_csv(\"/Users/tushar/CancerModels/pdxfinder-data/data/UPDOG/CRL/CRL_immunemarker-Sheet1.tsv\", sep='\\t', index=False)\n",
    "ms_sheet.to_csv(\"/Users/tushar/CancerModels/pdxfinder-data/data/UPDOG/CRL/CRL_molecular_metadata-sample.tsv\", sep='\\t', index=False)"
   ],
   "metadata": {
    "collapsed": false,
    "ExecuteTime": {
     "end_time": "2023-12-06T14:22:42.449997Z",
     "start_time": "2023-12-06T14:22:42.402757Z"
    }
   },
   "id": "24ba4492c9d655b9"
  },
  {
   "cell_type": "code",
   "execution_count": 30,
   "outputs": [
    {
     "data": {
      "text/plain": "                     Field                                           model_id  \\\n0             #Description  Unique identifier for all the PDXs derived fro...   \n1                 #Example                                          CRC0228PR   \n2     #Format Requirements                                free alphanumerical   \n3              #Essential?                                          essential   \n4                      NaN                                            CRL-984   \n...                    ...                                                ...   \n2574                                                              CRL-SMTCA88   \n2575                                                              CRL-SMTCA96   \n2576                                                               CRL-TH-001   \n2577                                                               CRL-TH-005   \n2578                                                               CRL-TH-007   \n\n                                              sample_id  \\\n0     Identifier of the sample from any patient tiss...   \n1                            CRC0228PRH0000000000D01000   \n2                                   free alphanumerical   \n3                                             essential   \n4                                          Oncotest-001   \n...                                                 ...   \n2574                                     Oncotest-R0057   \n2575                                           A2874-08   \n2576                                           A3559_51   \n2577                                          CRL-R0215   \n2578                                          CRL-R0266   \n\n                                          sample_origin  \\\n0     The orgin of the sample - xenograft (extracted...   \n1                                             xenograft   \n2                                    xenograft, patient   \n3                                             essential   \n4                                             xenograft   \n...                                                 ...   \n2574                                          xenograft   \n2575                                          xenograft   \n2576                                          xenograft   \n2577                                          xenograft   \n2578                                          xenograft   \n\n                                                passage  \\\n0     Indicate the passage number of the sample wher...   \n1                                                     0   \n2                                   numerical, or blank   \n3                                             essential   \n4                                                     9   \n...                                                 ...   \n2574                                                  5   \n2575                                                  6   \n2576                                                  4   \n2577                                                  6   \n2578                                                  4   \n\n                                       host_strain_name  \\\n0     Host mouse strain name (e.g. NOD-SCID, NSG, et...   \n1                                              NOD SCID   \n2      follow strain name or Not Specified (if unknown)   \n3                                             essential   \n4                                                  NMRI   \n...                                                 ...   \n2574                                            NOG/NSG   \n2575                                               NMRI   \n2576                                               NMRI   \n2577                                               NMRI   \n2578                                               NMRI   \n\n                               host_strain_nomenclature  \\\n0     The full nomenclature form of the host mouse s...   \n1                      NOD.Cg-Prkdcscid Il2rgtm1Wjl/SzJ   \n2     https://www.jax.org/jax-mice-and-services/cust...   \n3                                             essential   \n4                           Crl:NMRI-Foxn1<sup>nu</sup>   \n...                                                 ...   \n2574  NOD.Cg-Prkdc<sup>scid</sup> Il2rg<sup>tm1Wjl</...   \n2575                        Crl:NMRI-Foxn1<sup>nu</sup>   \n2576                        Crl:NMRI-Foxn1<sup>nu</sup>   \n2577                        Crl:NMRI-Foxn1<sup>nu</sup>   \n2578                        Crl:NMRI-Foxn1<sup>nu</sup>   \n\n                        engrafted_tumor_collection_site  \\\n0     The anatomical site from which the xenograft s...   \n1                                          mammary glad   \n2                                   free alphanumerical   \n3                                             desirable   \n4                                                   NaN   \n...                                                 ...   \n2574                                                NaN   \n2575                                                NaN   \n2576                                                NaN   \n2577                                                NaN   \n2578                                                NaN   \n\n                                           raw_data_url  \\\n0     Unique identify to platform metadata between s...   \n1                                             mutation1   \n2                                                   NaN   \n3                                             desirable   \n4         Oncotest-001.pe1.fq.gz|Oncotest-001.pe2.fq.gz   \n...                                                 ...   \n2574                                                      \n2575                                                      \n2576                                                      \n2577                                                      \n2578                                                      \n\n                                            platform_id  \n0     Unique identify to platform metadata between s...  \n1                                             mutation1  \n2                                                   NaN  \n3                                             essential  \n4                                 mutation_Illumina_WES  \n...                                                 ...  \n2574                                    immune_HLA_type  \n2575                                    immune_HLA_type  \n2576                                    immune_HLA_type  \n2577                                    immune_HLA_type  \n2578                                    immune_HLA_type  \n\n[2579 rows x 10 columns]",
      "text/html": "<div>\n<style scoped>\n    .dataframe tbody tr th:only-of-type {\n        vertical-align: middle;\n    }\n\n    .dataframe tbody tr th {\n        vertical-align: top;\n    }\n\n    .dataframe thead th {\n        text-align: right;\n    }\n</style>\n<table border=\"1\" class=\"dataframe\">\n  <thead>\n    <tr style=\"text-align: right;\">\n      <th></th>\n      <th>Field</th>\n      <th>model_id</th>\n      <th>sample_id</th>\n      <th>sample_origin</th>\n      <th>passage</th>\n      <th>host_strain_name</th>\n      <th>host_strain_nomenclature</th>\n      <th>engrafted_tumor_collection_site</th>\n      <th>raw_data_url</th>\n      <th>platform_id</th>\n    </tr>\n  </thead>\n  <tbody>\n    <tr>\n      <th>0</th>\n      <td>#Description</td>\n      <td>Unique identifier for all the PDXs derived fro...</td>\n      <td>Identifier of the sample from any patient tiss...</td>\n      <td>The orgin of the sample - xenograft (extracted...</td>\n      <td>Indicate the passage number of the sample wher...</td>\n      <td>Host mouse strain name (e.g. NOD-SCID, NSG, et...</td>\n      <td>The full nomenclature form of the host mouse s...</td>\n      <td>The anatomical site from which the xenograft s...</td>\n      <td>Unique identify to platform metadata between s...</td>\n      <td>Unique identify to platform metadata between s...</td>\n    </tr>\n    <tr>\n      <th>1</th>\n      <td>#Example</td>\n      <td>CRC0228PR</td>\n      <td>CRC0228PRH0000000000D01000</td>\n      <td>xenograft</td>\n      <td>0</td>\n      <td>NOD SCID</td>\n      <td>NOD.Cg-Prkdcscid Il2rgtm1Wjl/SzJ</td>\n      <td>mammary glad</td>\n      <td>mutation1</td>\n      <td>mutation1</td>\n    </tr>\n    <tr>\n      <th>2</th>\n      <td>#Format Requirements</td>\n      <td>free alphanumerical</td>\n      <td>free alphanumerical</td>\n      <td>xenograft, patient</td>\n      <td>numerical, or blank</td>\n      <td>follow strain name or Not Specified (if unknown)</td>\n      <td>https://www.jax.org/jax-mice-and-services/cust...</td>\n      <td>free alphanumerical</td>\n      <td>NaN</td>\n      <td>NaN</td>\n    </tr>\n    <tr>\n      <th>3</th>\n      <td>#Essential?</td>\n      <td>essential</td>\n      <td>essential</td>\n      <td>essential</td>\n      <td>essential</td>\n      <td>essential</td>\n      <td>essential</td>\n      <td>desirable</td>\n      <td>desirable</td>\n      <td>essential</td>\n    </tr>\n    <tr>\n      <th>4</th>\n      <td>NaN</td>\n      <td>CRL-984</td>\n      <td>Oncotest-001</td>\n      <td>xenograft</td>\n      <td>9</td>\n      <td>NMRI</td>\n      <td>Crl:NMRI-Foxn1&lt;sup&gt;nu&lt;/sup&gt;</td>\n      <td>NaN</td>\n      <td>Oncotest-001.pe1.fq.gz|Oncotest-001.pe2.fq.gz</td>\n      <td>mutation_Illumina_WES</td>\n    </tr>\n    <tr>\n      <th>...</th>\n      <td>...</td>\n      <td>...</td>\n      <td>...</td>\n      <td>...</td>\n      <td>...</td>\n      <td>...</td>\n      <td>...</td>\n      <td>...</td>\n      <td>...</td>\n      <td>...</td>\n    </tr>\n    <tr>\n      <th>2574</th>\n      <td></td>\n      <td>CRL-SMTCA88</td>\n      <td>Oncotest-R0057</td>\n      <td>xenograft</td>\n      <td>5</td>\n      <td>NOG/NSG</td>\n      <td>NOD.Cg-Prkdc&lt;sup&gt;scid&lt;/sup&gt; Il2rg&lt;sup&gt;tm1Wjl&lt;/...</td>\n      <td>NaN</td>\n      <td></td>\n      <td>immune_HLA_type</td>\n    </tr>\n    <tr>\n      <th>2575</th>\n      <td></td>\n      <td>CRL-SMTCA96</td>\n      <td>A2874-08</td>\n      <td>xenograft</td>\n      <td>6</td>\n      <td>NMRI</td>\n      <td>Crl:NMRI-Foxn1&lt;sup&gt;nu&lt;/sup&gt;</td>\n      <td>NaN</td>\n      <td></td>\n      <td>immune_HLA_type</td>\n    </tr>\n    <tr>\n      <th>2576</th>\n      <td></td>\n      <td>CRL-TH-001</td>\n      <td>A3559_51</td>\n      <td>xenograft</td>\n      <td>4</td>\n      <td>NMRI</td>\n      <td>Crl:NMRI-Foxn1&lt;sup&gt;nu&lt;/sup&gt;</td>\n      <td>NaN</td>\n      <td></td>\n      <td>immune_HLA_type</td>\n    </tr>\n    <tr>\n      <th>2577</th>\n      <td></td>\n      <td>CRL-TH-005</td>\n      <td>CRL-R0215</td>\n      <td>xenograft</td>\n      <td>6</td>\n      <td>NMRI</td>\n      <td>Crl:NMRI-Foxn1&lt;sup&gt;nu&lt;/sup&gt;</td>\n      <td>NaN</td>\n      <td></td>\n      <td>immune_HLA_type</td>\n    </tr>\n    <tr>\n      <th>2578</th>\n      <td></td>\n      <td>CRL-TH-007</td>\n      <td>CRL-R0266</td>\n      <td>xenograft</td>\n      <td>4</td>\n      <td>NMRI</td>\n      <td>Crl:NMRI-Foxn1&lt;sup&gt;nu&lt;/sup&gt;</td>\n      <td>NaN</td>\n      <td></td>\n      <td>immune_HLA_type</td>\n    </tr>\n  </tbody>\n</table>\n<p>2579 rows × 10 columns</p>\n</div>"
     },
     "execution_count": 30,
     "metadata": {},
     "output_type": "execute_result"
    }
   ],
   "source": [
    "ms_sheet"
   ],
   "metadata": {
    "collapsed": false,
    "ExecuteTime": {
     "end_time": "2023-12-06T14:22:29.296159Z",
     "start_time": "2023-12-06T14:22:29.203119Z"
    }
   },
   "id": "9e698da8d5f0156b"
  },
  {
   "cell_type": "code",
   "execution_count": 31,
   "outputs": [
    {
     "name": "stdout",
     "output_type": "stream",
     "text": [
      "PDX_HLA_A_ALLELES\n",
      "PDX_HLA_B_ALLELES\n",
      "PDX_HLA_C_ALLELES\n"
     ]
    }
   ],
   "source": [],
   "metadata": {
    "collapsed": false,
    "ExecuteTime": {
     "end_time": "2023-11-27T12:12:58.319446Z",
     "start_time": "2023-11-27T12:12:58.117650Z"
    }
   },
   "id": "af18c5b05eec8a75"
  },
  {
   "cell_type": "code",
   "execution_count": 34,
   "outputs": [],
   "source": [
    "model_sharing = read_metadata_without_fields(\"/Users/tushar/CancerModels/pdxfinder-data/data/UPDOG/CRL/CRL_metadata-sharing.tsv\")"
   ],
   "metadata": {
    "collapsed": false,
    "ExecuteTime": {
     "end_time": "2023-11-27T12:13:16.622863Z",
     "start_time": "2023-11-27T12:13:16.558427Z"
    }
   },
   "id": "9c46b79fe90e9815"
  },
  {
   "cell_type": "code",
   "execution_count": 33,
   "outputs": [
    {
     "data": {
      "text/plain": "                   Field                                           model_id  \\\n0           #Description  Unique identifier for all the PDXs derived fro...   \n1               #Example                                          CRC0228PR   \n2   #Format Requirements                                free alphanumerical   \n3            #Essential?                                          essential   \n4                                                             CBAB-10855-V2   \n..                   ...                                                ...   \n70                                                            DFBL-69487-V1   \n71                                                            DFBL-72516-R2   \n72                                                            DFBL-86381-R1   \n73                                                            DFTL-85005-V4   \n74                                                            DFTL-94393-V5   \n\n                                            sample_id  \\\n0   Identifier of the sample from any patient tiss...   \n1                          CRC0228PRH0000000000D01000   \n2                                free alphanumerical    \n3                                           essential   \n4                                          CBAB-10855   \n..                                                ...   \n70                                         DFBL-69487   \n71                                         DFBL-72516   \n72                                         DFBL-86381   \n73                                         DFTL-85005   \n74                                         DFTL-94393   \n\n                                        sample_origin  \\\n0   The orgin of the sample - xenograft (extracted...   \n1                                           xenograft   \n2                                  xenograft, patient   \n3                                           essential   \n4                                           xenograft   \n..                                                ...   \n70                                          xenograft   \n71                                          xenograft   \n72                                          xenograft   \n73                                          xenograft   \n74                                          xenograft   \n\n                                              passage  \\\n0   Indicate the passage number of the sample wher...   \n1                                                   0   \n2                                 numerical, or blank   \n3                                           essential   \n4                                                   0   \n..                                                ...   \n70                                                  0   \n71                                                  0   \n72                                                  0   \n73                                                  0   \n74                                                  0   \n\n                                     host_strain_name  \\\n0   Host mouse strain name (e.g. NOD-SCID, NSG, et...   \n1                                            NOD SCID   \n2    follow strain name or Not Specified (if unknown)   \n3                                           essential   \n4                                                 NSG   \n..                                                ...   \n70                                                NSG   \n71                                                NSG   \n72                                                NSG   \n73                                                NSG   \n74                                                NSG   \n\n                             host_strain_nomenclature  \\\n0   The full nomenclature form of the host mouse s...   \n1                   NOD.Cg-Prkdcscid Il2rgtm1Wjl/SzJ    \n2   https://www.jax.org/jax-mice-and-services/cust...   \n3                                           essential   \n4   NOD.Cg-Prkdc<sup>scid</sup> Il2rg<sup>tm1Wjl</...   \n..                                                ...   \n70  NOD.Cg-Prkdc<sup>scid</sup> Il2rg<sup>tm1Wjl</...   \n71  NOD.Cg-Prkdc<sup>scid</sup> Il2rg<sup>tm1Wjl</...   \n72  NOD.Cg-Prkdc<sup>scid</sup> Il2rg<sup>tm1Wjl</...   \n73  NOD.Cg-Prkdc<sup>scid</sup> Il2rg<sup>tm1Wjl</...   \n74  NOD.Cg-Prkdc<sup>scid</sup> Il2rg<sup>tm1Wjl</...   \n\n                      engrafted_tumor_collection_site  \\\n0   The anatomical site from which the xenograft s...   \n1                                        mammary glad   \n2                                 free alphanumerical   \n3                                         recommended   \n4                                         Intravenous   \n..                                                ...   \n70                                        Intravenous   \n71                         Renal Capsule, Intravenous   \n72                         Renal Capsule, Intravenous   \n73                         Renal Capsule, Intravenous   \n74                                        Intravenous   \n\n                                         raw_data_url  \\\n0   Unique identify to platform metadata between s...   \n1                                           mutation1   \n2                                                 NaN   \n3                                           desirable   \n4                                                       \n..                                                ...   \n70                                                      \n71                                                      \n72                                                      \n73                                                      \n74                                                      \n\n                                          platform_id  \n0   Unique identify to platform metadata between s...  \n1                                           mutation1  \n2                                                 NaN  \n3                                           essential  \n4                                     immune_HLA_type  \n..                                                ...  \n70                                    immune_HLA_type  \n71                                    immune_HLA_type  \n72                                    immune_HLA_type  \n73                                    immune_HLA_type  \n74                                    immune_HLA_type  \n\n[75 rows x 10 columns]",
      "text/html": "<div>\n<style scoped>\n    .dataframe tbody tr th:only-of-type {\n        vertical-align: middle;\n    }\n\n    .dataframe tbody tr th {\n        vertical-align: top;\n    }\n\n    .dataframe thead th {\n        text-align: right;\n    }\n</style>\n<table border=\"1\" class=\"dataframe\">\n  <thead>\n    <tr style=\"text-align: right;\">\n      <th></th>\n      <th>Field</th>\n      <th>model_id</th>\n      <th>sample_id</th>\n      <th>sample_origin</th>\n      <th>passage</th>\n      <th>host_strain_name</th>\n      <th>host_strain_nomenclature</th>\n      <th>engrafted_tumor_collection_site</th>\n      <th>raw_data_url</th>\n      <th>platform_id</th>\n    </tr>\n  </thead>\n  <tbody>\n    <tr>\n      <th>0</th>\n      <td>#Description</td>\n      <td>Unique identifier for all the PDXs derived fro...</td>\n      <td>Identifier of the sample from any patient tiss...</td>\n      <td>The orgin of the sample - xenograft (extracted...</td>\n      <td>Indicate the passage number of the sample wher...</td>\n      <td>Host mouse strain name (e.g. NOD-SCID, NSG, et...</td>\n      <td>The full nomenclature form of the host mouse s...</td>\n      <td>The anatomical site from which the xenograft s...</td>\n      <td>Unique identify to platform metadata between s...</td>\n      <td>Unique identify to platform metadata between s...</td>\n    </tr>\n    <tr>\n      <th>1</th>\n      <td>#Example</td>\n      <td>CRC0228PR</td>\n      <td>CRC0228PRH0000000000D01000</td>\n      <td>xenograft</td>\n      <td>0</td>\n      <td>NOD SCID</td>\n      <td>NOD.Cg-Prkdcscid Il2rgtm1Wjl/SzJ</td>\n      <td>mammary glad</td>\n      <td>mutation1</td>\n      <td>mutation1</td>\n    </tr>\n    <tr>\n      <th>2</th>\n      <td>#Format Requirements</td>\n      <td>free alphanumerical</td>\n      <td>free alphanumerical</td>\n      <td>xenograft, patient</td>\n      <td>numerical, or blank</td>\n      <td>follow strain name or Not Specified (if unknown)</td>\n      <td>https://www.jax.org/jax-mice-and-services/cust...</td>\n      <td>free alphanumerical</td>\n      <td>NaN</td>\n      <td>NaN</td>\n    </tr>\n    <tr>\n      <th>3</th>\n      <td>#Essential?</td>\n      <td>essential</td>\n      <td>essential</td>\n      <td>essential</td>\n      <td>essential</td>\n      <td>essential</td>\n      <td>essential</td>\n      <td>recommended</td>\n      <td>desirable</td>\n      <td>essential</td>\n    </tr>\n    <tr>\n      <th>4</th>\n      <td></td>\n      <td>CBAB-10855-V2</td>\n      <td>CBAB-10855</td>\n      <td>xenograft</td>\n      <td>0</td>\n      <td>NSG</td>\n      <td>NOD.Cg-Prkdc&lt;sup&gt;scid&lt;/sup&gt; Il2rg&lt;sup&gt;tm1Wjl&lt;/...</td>\n      <td>Intravenous</td>\n      <td></td>\n      <td>immune_HLA_type</td>\n    </tr>\n    <tr>\n      <th>...</th>\n      <td>...</td>\n      <td>...</td>\n      <td>...</td>\n      <td>...</td>\n      <td>...</td>\n      <td>...</td>\n      <td>...</td>\n      <td>...</td>\n      <td>...</td>\n      <td>...</td>\n    </tr>\n    <tr>\n      <th>70</th>\n      <td></td>\n      <td>DFBL-69487-V1</td>\n      <td>DFBL-69487</td>\n      <td>xenograft</td>\n      <td>0</td>\n      <td>NSG</td>\n      <td>NOD.Cg-Prkdc&lt;sup&gt;scid&lt;/sup&gt; Il2rg&lt;sup&gt;tm1Wjl&lt;/...</td>\n      <td>Intravenous</td>\n      <td></td>\n      <td>immune_HLA_type</td>\n    </tr>\n    <tr>\n      <th>71</th>\n      <td></td>\n      <td>DFBL-72516-R2</td>\n      <td>DFBL-72516</td>\n      <td>xenograft</td>\n      <td>0</td>\n      <td>NSG</td>\n      <td>NOD.Cg-Prkdc&lt;sup&gt;scid&lt;/sup&gt; Il2rg&lt;sup&gt;tm1Wjl&lt;/...</td>\n      <td>Renal Capsule, Intravenous</td>\n      <td></td>\n      <td>immune_HLA_type</td>\n    </tr>\n    <tr>\n      <th>72</th>\n      <td></td>\n      <td>DFBL-86381-R1</td>\n      <td>DFBL-86381</td>\n      <td>xenograft</td>\n      <td>0</td>\n      <td>NSG</td>\n      <td>NOD.Cg-Prkdc&lt;sup&gt;scid&lt;/sup&gt; Il2rg&lt;sup&gt;tm1Wjl&lt;/...</td>\n      <td>Renal Capsule, Intravenous</td>\n      <td></td>\n      <td>immune_HLA_type</td>\n    </tr>\n    <tr>\n      <th>73</th>\n      <td></td>\n      <td>DFTL-85005-V4</td>\n      <td>DFTL-85005</td>\n      <td>xenograft</td>\n      <td>0</td>\n      <td>NSG</td>\n      <td>NOD.Cg-Prkdc&lt;sup&gt;scid&lt;/sup&gt; Il2rg&lt;sup&gt;tm1Wjl&lt;/...</td>\n      <td>Renal Capsule, Intravenous</td>\n      <td></td>\n      <td>immune_HLA_type</td>\n    </tr>\n    <tr>\n      <th>74</th>\n      <td></td>\n      <td>DFTL-94393-V5</td>\n      <td>DFTL-94393</td>\n      <td>xenograft</td>\n      <td>0</td>\n      <td>NSG</td>\n      <td>NOD.Cg-Prkdc&lt;sup&gt;scid&lt;/sup&gt; Il2rg&lt;sup&gt;tm1Wjl&lt;/...</td>\n      <td>Intravenous</td>\n      <td></td>\n      <td>immune_HLA_type</td>\n    </tr>\n  </tbody>\n</table>\n<p>75 rows × 10 columns</p>\n</div>"
     },
     "execution_count": 33,
     "metadata": {},
     "output_type": "execute_result"
    }
   ],
   "source": [
    "model_sharing"
   ],
   "metadata": {
    "collapsed": false,
    "ExecuteTime": {
     "end_time": "2023-11-27T12:13:09.315022Z",
     "start_time": "2023-11-27T12:13:09.299673Z"
    }
   },
   "id": "2c077fe6b71ab622"
  },
  {
   "cell_type": "code",
   "execution_count": 2,
   "outputs": [],
   "source": [
    "def parse_html(response, mid):\n",
    "    soup = BeautifulSoup(response.text, 'html.parser')\n",
    "    # Find the div containing histology images\n",
    "    histo_images_div = soup.find('div', class_='row histo_images')\n",
    "    if histo_images_div:\n",
    "        # Find all image links within the div\n",
    "        image_links = histo_images_div.find_all('a', class_='histo_image_for_zoom')\n",
    "        headers = histo_images_div.find_all('h4')\n",
    "        # Extract and print the href attribute of each link\n",
    "        images = []\n",
    "        for l in range(len(image_links)):\n",
    "            image_href = image_links[l].get('href')\n",
    "            header = headers[l].get_text()\n",
    "            m = re.search(\"Passage: .*,\", header)\n",
    "            if m:\n",
    "                passage = m.group()[9:-1]\n",
    "                passage = re.sub('N\\d*', '', passage)\n",
    "            else:\n",
    "                passage = ''\n",
    "            m = re.search(\"Magnification: .*\", header)\n",
    "            if m:\n",
    "                mag = m.group()[15:]            \n",
    "            else:\n",
    "                mag = ''\n",
    "            images.append(['', mid, 'https://compendium.criver.com'+image_href, header, 'pdx', passage, mag, ''])\n",
    "            #f\"Image description: {header} \\nHistology Image Link: https://compendium.criver.com{image_href}\"\n",
    "        return images\n",
    "    else:\n",
    "        return ''    \n",
    "\n",
    "\n",
    "model_images = [\n",
    "[\"#Description\", \"Unique identifier for all the PDXs derived from the same tissue sample\",\"Link to the model image Description of the image on what was being imaged\", \"Type of sample being imaged Passage number imaging was performed.\", \"Passage 0 correspond to first engraftment (if this is not the case please define how passages are numbered).\", \"Magnification of the mode image Staining used for imaging the sample\"],\n",
    "[\"#Example\", \" J000077451\", \"https://www.ebi.ac.uk/biostudies/files/S-BIAD850/submission/J000077451/J000077451180207133606.tiff\", \"P2 tumor ID018 for PDX model J000077451 stained for H&E.\", \"pdx\", \"0\", \"20x\",\"H&E\"],\n",
    "[\"#Format Requirements\", \"free alphanumerical\", \"URL\", \"free text\", \"pdx, pateint, organoid, cell line\", \"numeric\", \"free text\", \"free text\"],\n",
    "[\"#Essential?\", \"desirable\", \"desirable\", \"desirable\", \"desirable\", \"desirable\", \"desirable\", \"desirable\"]]\n",
    "\n",
    "model_images = pd.DataFrame(model_images, columns=[\"Field\", \"model_id\", \"URL\", \"description\",\"sample_type\",\"passage\",\"magnification\", \"staining\"])\n",
    "\n",
    "for i in tqdm(range(model_sharing.shape[0]), \"Fetch from CRL\"):\n",
    "    mid = model_sharing.iloc[i, 0]\n",
    "    link = model_sharing.iloc[i, 6]\n",
    "    response = request(link, False, 'get')\n",
    "    row = parse_html(response, mid)\n",
    "    if row != '':\n",
    "        row = pd.DataFrame(row, columns=model_images.columns)\n",
    "        model_images = pd.concat([model_images, row]).reset_index(drop=True)\n",
    "model_images.to_csv(\"/Users/tushar/CancerModels/pdxfinder-data/data/UPDOG/CRL/CRL_metadata-model_image.tsv\", sep='\\t', index=False)"
   ],
   "metadata": {
    "collapsed": false,
    "ExecuteTime": {
     "end_time": "2023-11-27T11:19:12.189303Z",
     "start_time": "2023-11-27T11:19:12.156414Z"
    }
   },
   "id": "89ca5aaa507e19e0"
  },
  {
   "cell_type": "code",
   "execution_count": 71,
   "outputs": [
    {
     "data": {
      "text/plain": "       model_id  sample_id       id_x attributes.mutations_per_mb  \\\n0     SIDM00001  SIDS00001  SIDM00001                        35.5   \n1     SIDM00827  SIDS00002  SIDM00827                               \n2     SIDM00002  SIDS00781  SIDM00002                       34.97   \n3     SIDM00003  SIDS00780  SIDM00003                       138.0   \n4     SIDM00004  SIDS00779  SIDM00004                               \n...         ...        ...        ...                         ...   \n1545  SIDM01910  SIDS01725  SIDM01910                               \n1546  SIDM01970  SIDS01866  SIDM01970                               \n1547  SIDM01272  SIDS01192  SIDM01272                        8.04   \n1548  SIDM01959  SIDS01814  SIDM01959                        3.48   \n1549  SIDM01962  SIDS01811  SIDM01962                       12.82   \n\n     attributes.ploidy attributes.msi_status _merge  \n0                                     Stable   both  \n1                                              both  \n2             3.184795                Stable   both  \n3             2.888203                Stable   both  \n4                                              both  \n...                ...                   ...    ...  \n1545                                           both  \n1546                                           both  \n1547                                  Stable   both  \n1548                                  Stable   both  \n1549                                  Stable   both  \n\n[1549 rows x 7 columns]",
      "text/html": "<div>\n<style scoped>\n    .dataframe tbody tr th:only-of-type {\n        vertical-align: middle;\n    }\n\n    .dataframe tbody tr th {\n        vertical-align: top;\n    }\n\n    .dataframe thead th {\n        text-align: right;\n    }\n</style>\n<table border=\"1\" class=\"dataframe\">\n  <thead>\n    <tr style=\"text-align: right;\">\n      <th></th>\n      <th>model_id</th>\n      <th>sample_id</th>\n      <th>id_x</th>\n      <th>attributes.mutations_per_mb</th>\n      <th>attributes.ploidy</th>\n      <th>attributes.msi_status</th>\n      <th>_merge</th>\n    </tr>\n  </thead>\n  <tbody>\n    <tr>\n      <th>0</th>\n      <td>SIDM00001</td>\n      <td>SIDS00001</td>\n      <td>SIDM00001</td>\n      <td>35.5</td>\n      <td></td>\n      <td>Stable</td>\n      <td>both</td>\n    </tr>\n    <tr>\n      <th>1</th>\n      <td>SIDM00827</td>\n      <td>SIDS00002</td>\n      <td>SIDM00827</td>\n      <td></td>\n      <td></td>\n      <td></td>\n      <td>both</td>\n    </tr>\n    <tr>\n      <th>2</th>\n      <td>SIDM00002</td>\n      <td>SIDS00781</td>\n      <td>SIDM00002</td>\n      <td>34.97</td>\n      <td>3.184795</td>\n      <td>Stable</td>\n      <td>both</td>\n    </tr>\n    <tr>\n      <th>3</th>\n      <td>SIDM00003</td>\n      <td>SIDS00780</td>\n      <td>SIDM00003</td>\n      <td>138.0</td>\n      <td>2.888203</td>\n      <td>Stable</td>\n      <td>both</td>\n    </tr>\n    <tr>\n      <th>4</th>\n      <td>SIDM00004</td>\n      <td>SIDS00779</td>\n      <td>SIDM00004</td>\n      <td></td>\n      <td></td>\n      <td></td>\n      <td>both</td>\n    </tr>\n    <tr>\n      <th>...</th>\n      <td>...</td>\n      <td>...</td>\n      <td>...</td>\n      <td>...</td>\n      <td>...</td>\n      <td>...</td>\n      <td>...</td>\n    </tr>\n    <tr>\n      <th>1545</th>\n      <td>SIDM01910</td>\n      <td>SIDS01725</td>\n      <td>SIDM01910</td>\n      <td></td>\n      <td></td>\n      <td></td>\n      <td>both</td>\n    </tr>\n    <tr>\n      <th>1546</th>\n      <td>SIDM01970</td>\n      <td>SIDS01866</td>\n      <td>SIDM01970</td>\n      <td></td>\n      <td></td>\n      <td></td>\n      <td>both</td>\n    </tr>\n    <tr>\n      <th>1547</th>\n      <td>SIDM01272</td>\n      <td>SIDS01192</td>\n      <td>SIDM01272</td>\n      <td>8.04</td>\n      <td></td>\n      <td>Stable</td>\n      <td>both</td>\n    </tr>\n    <tr>\n      <th>1548</th>\n      <td>SIDM01959</td>\n      <td>SIDS01814</td>\n      <td>SIDM01959</td>\n      <td>3.48</td>\n      <td></td>\n      <td>Stable</td>\n      <td>both</td>\n    </tr>\n    <tr>\n      <th>1549</th>\n      <td>SIDM01962</td>\n      <td>SIDS01811</td>\n      <td>SIDM01962</td>\n      <td>12.82</td>\n      <td></td>\n      <td>Stable</td>\n      <td>both</td>\n    </tr>\n  </tbody>\n</table>\n<p>1549 rows × 7 columns</p>\n</div>"
     },
     "execution_count": 71,
     "metadata": {},
     "output_type": "execute_result"
    }
   ],
   "source": [
    "table = soup.find_all('table')\n",
    "soup"
   ],
   "metadata": {
    "collapsed": false,
    "ExecuteTime": {
     "end_time": "2023-11-27T14:37:55.019392Z",
     "start_time": "2023-11-27T14:37:54.475465Z"
    }
   },
   "id": "1ef6155f12d6d42e"
  },
  {
   "cell_type": "code",
   "execution_count": 84,
   "outputs": [
    {
     "name": "stdout",
     "output_type": "stream",
     "text": [
      "(3008, 10)\n"
     ]
    },
    {
     "name": "stderr",
     "output_type": "stream",
     "text": [
      "/var/folders/_2/g5d3zf4s41g0tvlqkc3_8wjr0000gp/T/ipykernel_62769/650031041.py:12: SettingWithCopyWarning: \n",
      "A value is trying to be set on a copy of a slice from a DataFrame.\n",
      "Try using .loc[row_indexer,col_indexer] = value instead\n",
      "\n",
      "See the caveats in the documentation: https://pandas.pydata.org/pandas-docs/stable/user_guide/indexing.html#returning-a-view-versus-a-copy\n",
      "  immune_data['Field'] = ''\n",
      "/var/folders/_2/g5d3zf4s41g0tvlqkc3_8wjr0000gp/T/ipykernel_62769/650031041.py:13: SettingWithCopyWarning: \n",
      "A value is trying to be set on a copy of a slice from a DataFrame.\n",
      "Try using .loc[row_indexer,col_indexer] = value instead\n",
      "\n",
      "See the caveats in the documentation: https://pandas.pydata.org/pandas-docs/stable/user_guide/indexing.html#returning-a-view-versus-a-copy\n",
      "  immune_data['marker_value'] = immune_data[it]\n",
      "/var/folders/_2/g5d3zf4s41g0tvlqkc3_8wjr0000gp/T/ipykernel_62769/650031041.py:14: SettingWithCopyWarning: \n",
      "A value is trying to be set on a copy of a slice from a DataFrame.\n",
      "Try using .loc[row_indexer,col_indexer] = value instead\n",
      "\n",
      "See the caveats in the documentation: https://pandas.pydata.org/pandas-docs/stable/user_guide/indexing.html#returning-a-view-versus-a-copy\n",
      "  immune_data['marker_name'] = marker_name\n",
      "/var/folders/_2/g5d3zf4s41g0tvlqkc3_8wjr0000gp/T/ipykernel_62769/650031041.py:15: SettingWithCopyWarning: \n",
      "A value is trying to be set on a copy of a slice from a DataFrame.\n",
      "Try using .loc[row_indexer,col_indexer] = value instead\n",
      "\n",
      "See the caveats in the documentation: https://pandas.pydata.org/pandas-docs/stable/user_guide/indexing.html#returning-a-view-versus-a-copy\n",
      "  immune_data['marker_type'] = marker_type\n",
      "/var/folders/_2/g5d3zf4s41g0tvlqkc3_8wjr0000gp/T/ipykernel_62769/650031041.py:20: SettingWithCopyWarning: \n",
      "A value is trying to be set on a copy of a slice from a DataFrame.\n",
      "Try using .loc[row_indexer,col_indexer] = value instead\n",
      "\n",
      "See the caveats in the documentation: https://pandas.pydata.org/pandas-docs/stable/user_guide/indexing.html#returning-a-view-versus-a-copy\n",
      "  immune_data['essential_or_additional_details'] = ''\n",
      "/var/folders/_2/g5d3zf4s41g0tvlqkc3_8wjr0000gp/T/ipykernel_62769/650031041.py:21: SettingWithCopyWarning: \n",
      "A value is trying to be set on a copy of a slice from a DataFrame.\n",
      "Try using .loc[row_indexer,col_indexer] = value instead\n",
      "\n",
      "See the caveats in the documentation: https://pandas.pydata.org/pandas-docs/stable/user_guide/indexing.html#returning-a-view-versus-a-copy\n",
      "  immune_data['platform_id'] = p_id\n",
      "/var/folders/_2/g5d3zf4s41g0tvlqkc3_8wjr0000gp/T/ipykernel_62769/650031041.py:22: SettingWithCopyWarning: \n",
      "A value is trying to be set on a copy of a slice from a DataFrame.\n",
      "Try using .loc[row_indexer,col_indexer] = value instead\n",
      "\n",
      "See the caveats in the documentation: https://pandas.pydata.org/pandas-docs/stable/user_guide/indexing.html#returning-a-view-versus-a-copy\n",
      "  immune_data['sample_origin'] = 'cell'\n",
      "/var/folders/_2/g5d3zf4s41g0tvlqkc3_8wjr0000gp/T/ipykernel_62769/650031041.py:23: SettingWithCopyWarning: \n",
      "A value is trying to be set on a copy of a slice from a DataFrame.\n",
      "Try using .loc[row_indexer,col_indexer] = value instead\n",
      "\n",
      "See the caveats in the documentation: https://pandas.pydata.org/pandas-docs/stable/user_guide/indexing.html#returning-a-view-versus-a-copy\n",
      "  immune_data[['passage', 'host_strain_name', 'host_strain_nomenclature', 'engrafted_tumor_collection_site', 'raw_data_url']] = ''\n",
      "/var/folders/_2/g5d3zf4s41g0tvlqkc3_8wjr0000gp/T/ipykernel_62769/650031041.py:18: SettingWithCopyWarning: \n",
      "A value is trying to be set on a copy of a slice from a DataFrame.\n",
      "Try using .loc[row_indexer,col_indexer] = value instead\n",
      "\n",
      "See the caveats in the documentation: https://pandas.pydata.org/pandas-docs/stable/user_guide/indexing.html#returning-a-view-versus-a-copy\n",
      "  immune_data['essential_or_additional_details'] = additional_data_MSI\n"
     ]
    }
   ],
   "source": [],
   "metadata": {
    "collapsed": false,
    "ExecuteTime": {
     "end_time": "2023-11-27T15:03:28.088544Z",
     "start_time": "2023-11-27T15:03:27.916375Z"
    }
   },
   "id": "62cc9fbcf2a15cb"
  },
  {
   "cell_type": "code",
   "execution_count": 83,
   "outputs": [
    {
     "data": {
      "text/plain": "                     Field                                           model_id  \\\n0             #Description  Unique identifier for all the PDXs derived fro...   \n1                 #Example                                          CRC0228PR   \n2     #Format Requirements                                free alphanumerical   \n3              #Essential?                                          essential   \n4                      NaN                                          SIDM01291   \n...                    ...                                                ...   \n3003                   NaN                                          SIDM00151   \n3004                   NaN                                          SIDM00282   \n3005                   NaN                                          SIDM00168   \n3006                   NaN                                          SIDM01690   \n3007                   NaN                                          SIDM00497   \n\n                                              sample_id  \\\n0     Identifier of the sample from any patient tiss...   \n1                            CRC0228PRH0000000000D01000   \n2                                   free alphanumerical   \n3                                             essential   \n4                                             SIDS01224   \n...                                                 ...   \n3003                                          SIDS00825   \n3004                                          SIDS00657   \n3005                                          SIDS00617   \n3006                                          SIDS01630   \n3007                                          SIDS00944   \n\n                                          sample_origin  \\\n0     The orgin of the sample - xenograft (extracted...   \n1                                             xenograft   \n2                                    xenograft, patient   \n3                                             essential   \n4                                                  cell   \n...                                                 ...   \n3003                                               cell   \n3004                                               cell   \n3005                                               cell   \n3006                                               cell   \n3007                                               cell   \n\n                                                passage  \\\n0     Indicate the passage number of the sample wher...   \n1                                                     0   \n2                                   numerical, or blank   \n3                                             essential   \n4                                                   NaN   \n...                                                 ...   \n3003                                                NaN   \n3004                                                NaN   \n3005                                                NaN   \n3006                                                NaN   \n3007                                                NaN   \n\n                                       host_strain_name  \\\n0     Host mouse strain name (e.g. NOD-SCID, NSG, et...   \n1                                              NOD SCID   \n2      follow strain name or Not Specified (if unknown)   \n3                                             essential   \n4                                                   NaN   \n...                                                 ...   \n3003                                                NaN   \n3004                                                NaN   \n3005                                                NaN   \n3006                                                NaN   \n3007                                                NaN   \n\n                               host_strain_nomenclature  \\\n0     The full nomenclature form of the host mouse s...   \n1                      NOD.Cg-Prkdcscid Il2rgtm1Wjl/SzJ   \n2     https://www.jax.org/jax-mice-and-services/cust...   \n3                                             essential   \n4                                                   NaN   \n...                                                 ...   \n3003                                                NaN   \n3004                                                NaN   \n3005                                                NaN   \n3006                                                NaN   \n3007                                                NaN   \n\n                        engrafted_tumor_collection_site  \\\n0     The anatomical site from which the xenograft s...   \n1                                          mammary glad   \n2                                   free alphanumerical   \n3                                             desirable   \n4                                                   NaN   \n...                                                 ...   \n3003                                                NaN   \n3004                                                NaN   \n3005                                                NaN   \n3006                                                NaN   \n3007                                                NaN   \n\n                                           raw_data_url  \\\n0     Unique identify to platform metadata between s...   \n1                                             mutation1   \n2                                                   NaN   \n3                                             desirable   \n4                                       EGAS00001002222   \n...                                                 ...   \n3003                                    EGAS00001000978   \n3004                                    EGAS00001000978   \n3005                                                NaN   \n3006                                                NaN   \n3007                                                NaN   \n\n                                            platform_id  \n0     Unique identify to platform metadata between s...  \n1                                             mutation1  \n2                                                   NaN  \n3                                             essential  \n4                             mutation_WGS_Illumina_NGS  \n...                                                 ...  \n3003                               cna_WES_Illumina_NGS  \n3004                               cna_WES_Illumina_NGS  \n3005                               cna_WES_Illumina_NGS  \n3006                               cna_WES_Illumina_NGS  \n3007                               cna_WES_Illumina_NGS  \n\n[3008 rows x 10 columns]",
      "text/html": "<div>\n<style scoped>\n    .dataframe tbody tr th:only-of-type {\n        vertical-align: middle;\n    }\n\n    .dataframe tbody tr th {\n        vertical-align: top;\n    }\n\n    .dataframe thead th {\n        text-align: right;\n    }\n</style>\n<table border=\"1\" class=\"dataframe\">\n  <thead>\n    <tr style=\"text-align: right;\">\n      <th></th>\n      <th>Field</th>\n      <th>model_id</th>\n      <th>sample_id</th>\n      <th>sample_origin</th>\n      <th>passage</th>\n      <th>host_strain_name</th>\n      <th>host_strain_nomenclature</th>\n      <th>engrafted_tumor_collection_site</th>\n      <th>raw_data_url</th>\n      <th>platform_id</th>\n    </tr>\n  </thead>\n  <tbody>\n    <tr>\n      <th>0</th>\n      <td>#Description</td>\n      <td>Unique identifier for all the PDXs derived fro...</td>\n      <td>Identifier of the sample from any patient tiss...</td>\n      <td>The orgin of the sample - xenograft (extracted...</td>\n      <td>Indicate the passage number of the sample wher...</td>\n      <td>Host mouse strain name (e.g. NOD-SCID, NSG, et...</td>\n      <td>The full nomenclature form of the host mouse s...</td>\n      <td>The anatomical site from which the xenograft s...</td>\n      <td>Unique identify to platform metadata between s...</td>\n      <td>Unique identify to platform metadata between s...</td>\n    </tr>\n    <tr>\n      <th>1</th>\n      <td>#Example</td>\n      <td>CRC0228PR</td>\n      <td>CRC0228PRH0000000000D01000</td>\n      <td>xenograft</td>\n      <td>0</td>\n      <td>NOD SCID</td>\n      <td>NOD.Cg-Prkdcscid Il2rgtm1Wjl/SzJ</td>\n      <td>mammary glad</td>\n      <td>mutation1</td>\n      <td>mutation1</td>\n    </tr>\n    <tr>\n      <th>2</th>\n      <td>#Format Requirements</td>\n      <td>free alphanumerical</td>\n      <td>free alphanumerical</td>\n      <td>xenograft, patient</td>\n      <td>numerical, or blank</td>\n      <td>follow strain name or Not Specified (if unknown)</td>\n      <td>https://www.jax.org/jax-mice-and-services/cust...</td>\n      <td>free alphanumerical</td>\n      <td>NaN</td>\n      <td>NaN</td>\n    </tr>\n    <tr>\n      <th>3</th>\n      <td>#Essential?</td>\n      <td>essential</td>\n      <td>essential</td>\n      <td>essential</td>\n      <td>essential</td>\n      <td>essential</td>\n      <td>essential</td>\n      <td>desirable</td>\n      <td>desirable</td>\n      <td>essential</td>\n    </tr>\n    <tr>\n      <th>4</th>\n      <td>NaN</td>\n      <td>SIDM01291</td>\n      <td>SIDS01224</td>\n      <td>cell</td>\n      <td>NaN</td>\n      <td>NaN</td>\n      <td>NaN</td>\n      <td>NaN</td>\n      <td>EGAS00001002222</td>\n      <td>mutation_WGS_Illumina_NGS</td>\n    </tr>\n    <tr>\n      <th>...</th>\n      <td>...</td>\n      <td>...</td>\n      <td>...</td>\n      <td>...</td>\n      <td>...</td>\n      <td>...</td>\n      <td>...</td>\n      <td>...</td>\n      <td>...</td>\n      <td>...</td>\n    </tr>\n    <tr>\n      <th>3003</th>\n      <td>NaN</td>\n      <td>SIDM00151</td>\n      <td>SIDS00825</td>\n      <td>cell</td>\n      <td>NaN</td>\n      <td>NaN</td>\n      <td>NaN</td>\n      <td>NaN</td>\n      <td>EGAS00001000978</td>\n      <td>cna_WES_Illumina_NGS</td>\n    </tr>\n    <tr>\n      <th>3004</th>\n      <td>NaN</td>\n      <td>SIDM00282</td>\n      <td>SIDS00657</td>\n      <td>cell</td>\n      <td>NaN</td>\n      <td>NaN</td>\n      <td>NaN</td>\n      <td>NaN</td>\n      <td>EGAS00001000978</td>\n      <td>cna_WES_Illumina_NGS</td>\n    </tr>\n    <tr>\n      <th>3005</th>\n      <td>NaN</td>\n      <td>SIDM00168</td>\n      <td>SIDS00617</td>\n      <td>cell</td>\n      <td>NaN</td>\n      <td>NaN</td>\n      <td>NaN</td>\n      <td>NaN</td>\n      <td>NaN</td>\n      <td>cna_WES_Illumina_NGS</td>\n    </tr>\n    <tr>\n      <th>3006</th>\n      <td>NaN</td>\n      <td>SIDM01690</td>\n      <td>SIDS01630</td>\n      <td>cell</td>\n      <td>NaN</td>\n      <td>NaN</td>\n      <td>NaN</td>\n      <td>NaN</td>\n      <td>NaN</td>\n      <td>cna_WES_Illumina_NGS</td>\n    </tr>\n    <tr>\n      <th>3007</th>\n      <td>NaN</td>\n      <td>SIDM00497</td>\n      <td>SIDS00944</td>\n      <td>cell</td>\n      <td>NaN</td>\n      <td>NaN</td>\n      <td>NaN</td>\n      <td>NaN</td>\n      <td>NaN</td>\n      <td>cna_WES_Illumina_NGS</td>\n    </tr>\n  </tbody>\n</table>\n<p>3008 rows × 10 columns</p>\n</div>"
     },
     "execution_count": 83,
     "metadata": {},
     "output_type": "execute_result"
    }
   ],
   "source": [],
   "metadata": {
    "collapsed": false,
    "ExecuteTime": {
     "end_time": "2023-11-27T15:02:36.782086Z",
     "start_time": "2023-11-27T15:02:36.720920Z"
    }
   },
   "id": "e3f5c37fae440a47"
  },
  {
   "cell_type": "code",
   "execution_count": 79,
   "outputs": [
    {
     "data": {
      "text/plain": "(3015, 7)"
     },
     "execution_count": 79,
     "metadata": {},
     "output_type": "execute_result"
    }
   ],
   "source": [],
   "metadata": {
    "collapsed": false,
    "ExecuteTime": {
     "end_time": "2023-11-27T15:00:15.637140Z",
     "start_time": "2023-11-27T15:00:15.624110Z"
    }
   },
   "id": "aed68c0932f87ee4"
  },
  {
   "cell_type": "code",
   "execution_count": 80,
   "outputs": [
    {
     "data": {
      "text/plain": "     Field  sample_id     marker_type       marker_name marker_value  \\\n0           SIDS00001  Model Genomics  Mutations per mb         35.5   \n1           SIDS00781  Model Genomics  Mutations per mb        34.97   \n2           SIDS00780  Model Genomics  Mutations per mb        138.0   \n3           SIDS01009  Model Genomics  Mutations per mb        27.97   \n4           SIDS00777  Model Genomics  Mutations per mb       145.29   \n...    ...        ...             ...               ...          ...   \n3010        SIDS00384  Model Genomics               MSI       Stable   \n3011        SIDS00380  Model Genomics               MSI       Stable   \n3012        SIDS01192  Model Genomics               MSI       Stable   \n3013        SIDS01814  Model Genomics               MSI       Stable   \n3014        SIDS01811  Model Genomics               MSI       Stable   \n\n                        essential_or_additional_details platform_id  \n0                                                        immune_mpm  \n1                                                        immune_mpm  \n2                                                        immune_mpm  \n3                                                        immune_mpm  \n4                                                        immune_mpm  \n...                                                 ...         ...  \n3010  Samples with an MSI score >=7 were marked as H...  immune_MSI  \n3011  Samples with an MSI score >=7 were marked as H...  immune_MSI  \n3012  Samples with an MSI score >=7 were marked as H...  immune_MSI  \n3013  Samples with an MSI score >=7 were marked as H...  immune_MSI  \n3014  Samples with an MSI score >=7 were marked as H...  immune_MSI  \n\n[3015 rows x 7 columns]",
      "text/html": "<div>\n<style scoped>\n    .dataframe tbody tr th:only-of-type {\n        vertical-align: middle;\n    }\n\n    .dataframe tbody tr th {\n        vertical-align: top;\n    }\n\n    .dataframe thead th {\n        text-align: right;\n    }\n</style>\n<table border=\"1\" class=\"dataframe\">\n  <thead>\n    <tr style=\"text-align: right;\">\n      <th></th>\n      <th>Field</th>\n      <th>sample_id</th>\n      <th>marker_type</th>\n      <th>marker_name</th>\n      <th>marker_value</th>\n      <th>essential_or_additional_details</th>\n      <th>platform_id</th>\n    </tr>\n  </thead>\n  <tbody>\n    <tr>\n      <th>0</th>\n      <td></td>\n      <td>SIDS00001</td>\n      <td>Model Genomics</td>\n      <td>Mutations per mb</td>\n      <td>35.5</td>\n      <td></td>\n      <td>immune_mpm</td>\n    </tr>\n    <tr>\n      <th>1</th>\n      <td></td>\n      <td>SIDS00781</td>\n      <td>Model Genomics</td>\n      <td>Mutations per mb</td>\n      <td>34.97</td>\n      <td></td>\n      <td>immune_mpm</td>\n    </tr>\n    <tr>\n      <th>2</th>\n      <td></td>\n      <td>SIDS00780</td>\n      <td>Model Genomics</td>\n      <td>Mutations per mb</td>\n      <td>138.0</td>\n      <td></td>\n      <td>immune_mpm</td>\n    </tr>\n    <tr>\n      <th>3</th>\n      <td></td>\n      <td>SIDS01009</td>\n      <td>Model Genomics</td>\n      <td>Mutations per mb</td>\n      <td>27.97</td>\n      <td></td>\n      <td>immune_mpm</td>\n    </tr>\n    <tr>\n      <th>4</th>\n      <td></td>\n      <td>SIDS00777</td>\n      <td>Model Genomics</td>\n      <td>Mutations per mb</td>\n      <td>145.29</td>\n      <td></td>\n      <td>immune_mpm</td>\n    </tr>\n    <tr>\n      <th>...</th>\n      <td>...</td>\n      <td>...</td>\n      <td>...</td>\n      <td>...</td>\n      <td>...</td>\n      <td>...</td>\n      <td>...</td>\n    </tr>\n    <tr>\n      <th>3010</th>\n      <td></td>\n      <td>SIDS00384</td>\n      <td>Model Genomics</td>\n      <td>MSI</td>\n      <td>Stable</td>\n      <td>Samples with an MSI score &gt;=7 were marked as H...</td>\n      <td>immune_MSI</td>\n    </tr>\n    <tr>\n      <th>3011</th>\n      <td></td>\n      <td>SIDS00380</td>\n      <td>Model Genomics</td>\n      <td>MSI</td>\n      <td>Stable</td>\n      <td>Samples with an MSI score &gt;=7 were marked as H...</td>\n      <td>immune_MSI</td>\n    </tr>\n    <tr>\n      <th>3012</th>\n      <td></td>\n      <td>SIDS01192</td>\n      <td>Model Genomics</td>\n      <td>MSI</td>\n      <td>Stable</td>\n      <td>Samples with an MSI score &gt;=7 were marked as H...</td>\n      <td>immune_MSI</td>\n    </tr>\n    <tr>\n      <th>3013</th>\n      <td></td>\n      <td>SIDS01814</td>\n      <td>Model Genomics</td>\n      <td>MSI</td>\n      <td>Stable</td>\n      <td>Samples with an MSI score &gt;=7 were marked as H...</td>\n      <td>immune_MSI</td>\n    </tr>\n    <tr>\n      <th>3014</th>\n      <td></td>\n      <td>SIDS01811</td>\n      <td>Model Genomics</td>\n      <td>MSI</td>\n      <td>Stable</td>\n      <td>Samples with an MSI score &gt;=7 were marked as H...</td>\n      <td>immune_MSI</td>\n    </tr>\n  </tbody>\n</table>\n<p>3015 rows × 7 columns</p>\n</div>"
     },
     "execution_count": 80,
     "metadata": {},
     "output_type": "execute_result"
    }
   ],
   "source": [
    "import requests\n",
    "\n",
    "# Define the target URL\n",
    "url = \n",
    "\n",
    "# Create a session\n",
    "session = requests.Session()\n",
    "\n",
    "# Perform a request to get the initial session ID\n",
    "response = session.get(url)\n",
    "\n",
    "# Extract and print the initial session ID\n",
    "initial_session_id = re.search('<script type=\"application/shiny-singletons\">.*<' , response.text)\n",
    "if initial_session_id:\n",
    "    print(f\"Initial Session ID: {initial_session_id.group()}\")"
   ],
   "metadata": {
    "collapsed": false,
    "ExecuteTime": {
     "end_time": "2023-11-27T15:00:17.068198Z",
     "start_time": "2023-11-27T15:00:17.043580Z"
    }
   },
   "id": "a56aca0a09e4c9b0"
  },
  {
   "cell_type": "code",
   "execution_count": 8,
   "outputs": [],
   "source": [
    "session = requests.Session()\n",
    "\n",
    "# Perform a request to get the initial session ID\n",
    "response = session.get(url)\n",
    "\n",
    "# Extract and print the initial session ID\n",
    "initial_session_id = re.search('<script type=\"application/shiny-singletons\">.*<' , response.text)\n",
    "if initial_session_id:\n",
    "    print(f\"Initial Session ID: {initial_session_id.group()}\")"
   ],
   "metadata": {
    "collapsed": false,
    "ExecuteTime": {
     "end_time": "2023-11-27T10:05:44.453725Z",
     "start_time": "2023-11-27T10:05:44.418047Z"
    }
   },
   "id": "b4d7e67a96186b12"
  },
  {
   "cell_type": "code",
   "execution_count": 8,
   "outputs": [],
   "source": [
    "response.cookies.keys()"
   ],
   "metadata": {
    "collapsed": false,
    "ExecuteTime": {
     "end_time": "2023-11-27T10:05:44.663777Z",
     "start_time": "2023-11-27T10:05:44.624855Z"
    }
   },
   "id": "8462892cfb3ddee5"
  },
  {
   "cell_type": "code",
   "execution_count": 8,
   "outputs": [],
   "source": [
    "response.content"
   ],
   "metadata": {
    "collapsed": false,
    "ExecuteTime": {
     "end_time": "2023-11-27T10:05:44.889463Z",
     "start_time": "2023-11-27T10:05:44.849295Z"
    }
   },
   "id": "f25eac34079f8d79"
  },
  {
   "cell_type": "code",
   "execution_count": 8,
   "outputs": [],
   "source": [
    "resp = request(url, False, 'get')"
   ],
   "metadata": {
    "collapsed": false,
    "ExecuteTime": {
     "end_time": "2023-11-27T10:05:45.079907Z",
     "start_time": "2023-11-27T10:05:45.030837Z"
    }
   },
   "id": "a70e860aa6865850"
  },
  {
   "cell_type": "code",
   "execution_count": 8,
   "outputs": [],
   "source": [
    "resp.text"
   ],
   "metadata": {
    "collapsed": false,
    "ExecuteTime": {
     "end_time": "2023-11-27T10:05:45.263336Z",
     "start_time": "2023-11-27T10:05:45.224648Z"
    }
   },
   "id": "29f5094e5822640c"
  },
  {
   "cell_type": "code",
   "execution_count": 8,
   "outputs": [],
   "source": [],
   "metadata": {
    "collapsed": false,
    "ExecuteTime": {
     "end_time": "2023-11-27T10:05:45.445781Z",
     "start_time": "2023-11-27T10:05:45.409845Z"
    }
   },
   "id": "71a7b89893864b96"
  },
  {
   "cell_type": "code",
   "execution_count": 8,
   "outputs": [],
   "source": [
    "url2 = 'https://portal.pdxnetwork.org/session/add739c82ab207ed2c80be4b7e4b181525eb7a75/dataobj/dt_model_submission?w=&nonce=9dbc654ffde57b04'"
   ],
   "metadata": {
    "collapsed": false,
    "ExecuteTime": {
     "end_time": "2023-11-27T10:05:45.656939Z",
     "start_time": "2023-11-27T10:05:45.610229Z"
    }
   },
   "id": "3388e126b5b1fc95"
  },
  {
   "cell_type": "code",
   "execution_count": 8,
   "outputs": [],
   "source": [
    "request(url2, False, 'get')"
   ],
   "metadata": {
    "collapsed": false,
    "ExecuteTime": {
     "end_time": "2023-11-27T10:05:45.831426Z",
     "start_time": "2023-11-27T10:05:45.794608Z"
    }
   },
   "id": "848b69f5f30215d1"
  },
  {
   "cell_type": "code",
   "execution_count": 8,
   "outputs": [],
   "source": [
    "from time import sleep\n",
    "from selenium import webdriver\n",
    "from selenium.webdriver.common.by import By\n",
    "from selenium.webdriver.support.ui import WebDriverWait\n",
    "from selenium.webdriver.support import expected_conditions as EC\n",
    "from selenium.webdriver.chrome.service import Service\n",
    "from webdriver_manager.chrome import ChromeDriverManager\n",
    "\n",
    "\n",
    "download_dir = getcwd()\n",
    "chrome_options = webdriver.ChromeOptions()\n",
    "#chrome_options.add_argument(\"--headless\")  # Run Chrome in headless mode if desired\n",
    "chrome_options.add_argument('--no-sandbox')\n",
    "chrome_options.add_argument('--disable-dev-shm-usage')\n",
    "chrome_options.add_experimental_option(\"prefs\", {\n",
    "    \"download.default_directory\": download_dir,\n",
    "    \"download.prompt_for_download\": False,\n",
    "    \"download.directory_upgrade\": True,\n",
    "    \"safebrowsing.enabled\": True\n",
    "})\n",
    "# Create a new instance of the Chrome driver\n",
    "driver = webdriver.Chrome(service=Service(ChromeDriverManager().install()), options=chrome_options)\n",
    "# Navigate to the URL\n",
    "driver.get(url)\n",
    "try:\n",
    "    # Specify the element you want to wait for (replace with the appropriate selector)\n",
    "    element = WebDriverWait(driver, 120).until(EC.presence_of_element_located((By.ID, \"btn_about\")))\n",
    "    # Click the element\n",
    "    element.click()\n",
    "    element = WebDriverWait(driver, 10).until(\n",
    "        EC.presence_of_element_located((By.ID, \"DataTables_Table_0_length\"))\n",
    "    )\n",
    "    element.click()\n",
    "    element = WebDriverWait(driver, 10).until(\n",
    "        EC.presence_of_element_located((By.XPATH, \"//option[@value='-1']\"))\n",
    "    )\n",
    "    element.click()\n",
    "    element = WebDriverWait(driver, 10).until(\n",
    "        EC.presence_of_element_located((By.XPATH, \"//span[contains(text(), 'Download')]\"))\n",
    "    )\n",
    "    element.click()\n",
    "    element = WebDriverWait(driver, 10).until(\n",
    "        EC.presence_of_element_located((By.XPATH, \"//a[contains(text(), 'CSV')]\"))\n",
    "    )\n",
    "    element.click()\n",
    "    print(\"File downloaded successfully!\")\n",
    "except Exception as e:\n",
    "    print(\"Error waiting for page to load:\", e)    \n",
    "sleep(15)\n",
    "print(\"Page title:\", driver.title)\n"
   ],
   "metadata": {
    "collapsed": false,
    "ExecuteTime": {
     "end_time": "2023-11-27T10:05:46.009934Z",
     "start_time": "2023-11-27T10:05:45.970859Z"
    }
   },
   "id": "f0784217c154202f"
  },
  {
   "cell_type": "code",
   "execution_count": 8,
   "outputs": [],
   "source": [
    "driver.quit()"
   ],
   "metadata": {
    "collapsed": false,
    "ExecuteTime": {
     "end_time": "2023-11-27T10:05:46.225881Z",
     "start_time": "2023-11-27T10:05:46.179004Z"
    }
   },
   "id": "ba6fd0ed27bfa04a"
  },
  {
   "cell_type": "code",
   "execution_count": 8,
   "outputs": [],
   "source": [
    "# Close the browser\n",
    "download_dir\n",
    "# https://portal.pdxnetwork.org/session/1e4830102cd9c61148244965750ffeee/dataobj/dt_model_submission?w=&nonce=2d3cc473dd9dc174"
   ],
   "metadata": {
    "collapsed": false,
    "ExecuteTime": {
     "end_time": "2023-11-27T10:05:46.416525Z",
     "start_time": "2023-11-27T10:05:46.371426Z"
    }
   },
   "id": "987e7d5530fa8e6b"
  },
  {
   "cell_type": "code",
   "execution_count": 8,
   "outputs": [],
   "source": [
    "t = 'https://portal.pdxnetwork.org/session/177c56c551e2efcbd189ff17d30594d2/dataobj/dt_model_submission?w=&nonce=9f024178893b04fa'\n",
    "request(t, False, 'post').text"
   ],
   "metadata": {
    "collapsed": false,
    "ExecuteTime": {
     "end_time": "2023-11-27T10:05:46.587472Z",
     "start_time": "2023-11-27T10:05:46.533041Z"
    }
   },
   "id": "1045c6712d2d6349"
  },
  {
   "cell_type": "code",
   "execution_count": 8,
   "outputs": [],
   "source": [
    "from requests_html import HTMLSession\n",
    "\n",
    "s = HTMLSession()\n",
    "response = s.get(url)\n",
    "response.html.render()\n",
    "\n",
    "print(response)"
   ],
   "metadata": {
    "collapsed": false,
    "ExecuteTime": {
     "end_time": "2023-11-27T10:05:51.079112Z",
     "start_time": "2023-11-27T10:05:51.070977Z"
    }
   },
   "id": "41f7efaa4424cac8"
  },
  {
   "cell_type": "code",
   "execution_count": 8,
   "outputs": [],
   "source": [],
   "metadata": {
    "collapsed": false,
    "ExecuteTime": {
     "end_time": "2023-11-27T10:05:46.957111Z",
     "start_time": "2023-11-27T10:05:46.918100Z"
    }
   },
   "id": "9e9035dd33422ac1"
  }
 ],
 "metadata": {
  "kernelspec": {
   "display_name": "Python 3",
   "language": "python",
   "name": "python3"
  },
  "language_info": {
   "codemirror_mode": {
    "name": "ipython",
    "version": 2
   },
   "file_extension": ".py",
   "mimetype": "text/x-python",
   "name": "python",
   "nbconvert_exporter": "python",
   "pygments_lexer": "ipython2",
   "version": "2.7.6"
  }
 },
 "nbformat": 4,
 "nbformat_minor": 5
}
