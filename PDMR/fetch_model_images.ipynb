{
 "cells": [
  {
   "cell_type": "code",
   "id": "initial_id",
   "metadata": {
    "collapsed": true,
    "ExecuteTime": {
     "end_time": "2024-08-28T08:13:49.574706Z",
     "start_time": "2024-08-28T08:13:49.242276Z"
    }
   },
   "source": [
    "import os\n",
    "\n",
    "from utils import read_metadata_without_fields, read_metadata_with_fields,  request\n",
    "from os import getcwd\n",
    "import pandas as pd\n",
    "from tqdm import tqdm\n",
    "import re\n",
    "from bs4 import BeautifulSoup"
   ],
   "outputs": [],
   "execution_count": 1
  },
  {
   "metadata": {
    "ExecuteTime": {
     "end_time": "2024-08-28T08:13:49.864596Z",
     "start_time": "2024-08-28T08:13:49.578186Z"
    }
   },
   "cell_type": "code",
   "source": [
    "start_dir = getcwd()\n",
    "model_metadata = pd.read_json(f\"https://www.cancermodels.org/api/model_metadata?data_source=eq.PDMR&select=model_id,type,source_database_url\")"
   ],
   "id": "d8b4b470e60d042b",
   "outputs": [
    {
     "data": {
      "text/plain": [
       "                      model_id       type  \\\n",
       "0     485977-131-R-V2-organoid   organoid   \n",
       "1          874868-142-R-J2-PDC  cell line   \n",
       "2                 445649-340-R        PDX   \n",
       "3                 994459-135-R        PDX   \n",
       "4          677734-321-R-J1-PDC  cell line   \n",
       "...                        ...        ...   \n",
       "1126  275375-350-R-V1-organoid   organoid   \n",
       "1127              649442-058-R        PDX   \n",
       "1128              285369-178-R        PDX   \n",
       "1129              381356-305-R        PDX   \n",
       "1130              483684-250-R        PDX   \n",
       "\n",
       "                                    source_database_url  \n",
       "0     https://pdmdb.cancer.gov/pls/apex/f?p=101:4:0:...  \n",
       "1     https://pdmdb.cancer.gov/pls/apex/f?p=101:4:0:...  \n",
       "2     https://pdmdb.cancer.gov/pls/apex/f?p=101:4:0:...  \n",
       "3     https://pdmdb.cancer.gov/pls/apex/f?p=101:4:0:...  \n",
       "4     https://pdmdb.cancer.gov/pls/apex/f?p=101:4:0:...  \n",
       "...                                                 ...  \n",
       "1126  https://pdmdb.cancer.gov/pls/apex/f?p=101:4:0:...  \n",
       "1127  https://pdmdb.cancer.gov/pls/apex/f?p=101:4:0:...  \n",
       "1128  https://pdmdb.cancer.gov/pls/apex/f?p=101:4:0:...  \n",
       "1129  https://pdmdb.cancer.gov/pls/apex/f?p=101:4:0:...  \n",
       "1130  https://pdmdb.cancer.gov/pls/apex/f?p=101:4:0:...  \n",
       "\n",
       "[1131 rows x 3 columns]"
      ],
      "text/html": [
       "<div>\n",
       "<style scoped>\n",
       "    .dataframe tbody tr th:only-of-type {\n",
       "        vertical-align: middle;\n",
       "    }\n",
       "\n",
       "    .dataframe tbody tr th {\n",
       "        vertical-align: top;\n",
       "    }\n",
       "\n",
       "    .dataframe thead th {\n",
       "        text-align: right;\n",
       "    }\n",
       "</style>\n",
       "<table border=\"1\" class=\"dataframe\">\n",
       "  <thead>\n",
       "    <tr style=\"text-align: right;\">\n",
       "      <th></th>\n",
       "      <th>model_id</th>\n",
       "      <th>type</th>\n",
       "      <th>source_database_url</th>\n",
       "    </tr>\n",
       "  </thead>\n",
       "  <tbody>\n",
       "    <tr>\n",
       "      <th>0</th>\n",
       "      <td>485977-131-R-V2-organoid</td>\n",
       "      <td>organoid</td>\n",
       "      <td>https://pdmdb.cancer.gov/pls/apex/f?p=101:4:0:...</td>\n",
       "    </tr>\n",
       "    <tr>\n",
       "      <th>1</th>\n",
       "      <td>874868-142-R-J2-PDC</td>\n",
       "      <td>cell line</td>\n",
       "      <td>https://pdmdb.cancer.gov/pls/apex/f?p=101:4:0:...</td>\n",
       "    </tr>\n",
       "    <tr>\n",
       "      <th>2</th>\n",
       "      <td>445649-340-R</td>\n",
       "      <td>PDX</td>\n",
       "      <td>https://pdmdb.cancer.gov/pls/apex/f?p=101:4:0:...</td>\n",
       "    </tr>\n",
       "    <tr>\n",
       "      <th>3</th>\n",
       "      <td>994459-135-R</td>\n",
       "      <td>PDX</td>\n",
       "      <td>https://pdmdb.cancer.gov/pls/apex/f?p=101:4:0:...</td>\n",
       "    </tr>\n",
       "    <tr>\n",
       "      <th>4</th>\n",
       "      <td>677734-321-R-J1-PDC</td>\n",
       "      <td>cell line</td>\n",
       "      <td>https://pdmdb.cancer.gov/pls/apex/f?p=101:4:0:...</td>\n",
       "    </tr>\n",
       "    <tr>\n",
       "      <th>...</th>\n",
       "      <td>...</td>\n",
       "      <td>...</td>\n",
       "      <td>...</td>\n",
       "    </tr>\n",
       "    <tr>\n",
       "      <th>1126</th>\n",
       "      <td>275375-350-R-V1-organoid</td>\n",
       "      <td>organoid</td>\n",
       "      <td>https://pdmdb.cancer.gov/pls/apex/f?p=101:4:0:...</td>\n",
       "    </tr>\n",
       "    <tr>\n",
       "      <th>1127</th>\n",
       "      <td>649442-058-R</td>\n",
       "      <td>PDX</td>\n",
       "      <td>https://pdmdb.cancer.gov/pls/apex/f?p=101:4:0:...</td>\n",
       "    </tr>\n",
       "    <tr>\n",
       "      <th>1128</th>\n",
       "      <td>285369-178-R</td>\n",
       "      <td>PDX</td>\n",
       "      <td>https://pdmdb.cancer.gov/pls/apex/f?p=101:4:0:...</td>\n",
       "    </tr>\n",
       "    <tr>\n",
       "      <th>1129</th>\n",
       "      <td>381356-305-R</td>\n",
       "      <td>PDX</td>\n",
       "      <td>https://pdmdb.cancer.gov/pls/apex/f?p=101:4:0:...</td>\n",
       "    </tr>\n",
       "    <tr>\n",
       "      <th>1130</th>\n",
       "      <td>483684-250-R</td>\n",
       "      <td>PDX</td>\n",
       "      <td>https://pdmdb.cancer.gov/pls/apex/f?p=101:4:0:...</td>\n",
       "    </tr>\n",
       "  </tbody>\n",
       "</table>\n",
       "<p>1131 rows × 3 columns</p>\n",
       "</div>"
      ]
     },
     "execution_count": 2,
     "metadata": {},
     "output_type": "execute_result"
    }
   ],
   "execution_count": 2
  },
  {
   "metadata": {
    "ExecuteTime": {
     "end_time": "2024-08-28T08:13:49.911651Z",
     "start_time": "2024-08-28T08:13:49.867633Z"
    }
   },
   "cell_type": "code",
   "source": [
    "def generate_image_sheet(model_metadata):\n",
    "    images = pd.DataFrame()\n",
    "    for i in tqdm(range(model_metadata.shape[0]), \"Fetch from PDMR\"):\n",
    "        originator_df = pd.DataFrame()\n",
    "        pdx_df = pd.DataFrame() \n",
    "        invitro_df = pd.DataFrame() \n",
    "        default_url = \"https://pdmdb.cancer.gov/web/apex/\"\n",
    "        mid = model_metadata.iloc[i, 0]\n",
    "        type = model_metadata.iloc[i, 1]\n",
    "        link = model_metadata.iloc[i, 2]\n",
    "        response = request(link, False, 'get')\n",
    "        try:\n",
    "            table = get_table_of_samples(response)\n",
    "            ## originator\n",
    "            originator_url = table[table['sampleID'] == 'ORIGINATOR'].reset_index(drop=True)['url']\n",
    "            if originator_url.shape[0] > 0:\n",
    "                originator_url = default_url + originator_url[0]\n",
    "                originator_df = pd.concat([originator_df, process_originator_images(request(originator_url, False, 'get'), mid)])\n",
    "            if type == \"PDX\":\n",
    "                ## PDX\n",
    "                pdx = table[table['pdm_type'] == 'PDX'].reset_index(drop=True)\n",
    "                pdx['url'] = default_url + pdx['url']\n",
    "                pdx_df = process_pdx_images(pdx, mid)\n",
    "            if type != \"PDX\":\n",
    "                sampleID = mid.split('-', 3)[-1]\n",
    "                invitro = table[table['sampleID'] == sampleID].reset_index(drop=True)\n",
    "                invitro['url'] = default_url + invitro['url']\n",
    "                invitro_df = process_invitro_images(invitro, mid)\n",
    "                invitro_df['type'] = type\n",
    "                invitro_df['Field'] = \"\"\n",
    "            temp = generate_image_df(originator_df, pdx_df, invitro_df)\n",
    "            images = pd.concat([images, temp]).reset_index(drop=True)\n",
    "        except Exception as e:\n",
    "            #print(f\"error for {mid}: {e}\")\n",
    "            continue\n",
    "    return images\n",
    "\n",
    "def get_table_of_samples(response):\n",
    "    soup = BeautifulSoup(response.text, 'html.parser')\n",
    "    data_rows = []\n",
    "    for div in soup.find_all('div'):\n",
    "        attrs = div.attrs\n",
    "        if 'class' in attrs.keys() and attrs['class'][0] == 'rc-title':\n",
    "            header = div.text.strip()\n",
    "            if header == \"Sample (PDX)\":\n",
    "                table = div.findNext().find_all('table')[0]\n",
    "                for row in table.find_all('tr')[2:]:  # Skip the first two rows (headers and separator)\n",
    "                    #print(row.find_all('td'))\n",
    "                    data = [td.find('a').attrs['href'] if td.find('a') else td.text.strip()  for td in row.find_all('td') if 'class' in td.attrs.keys() and td.attrs['class'][0] == 'data']\n",
    "                    if len(data)>0 :\n",
    "                        data_rows.append(data)\n",
    "    return pd.DataFrame(data_rows, columns=['url', 'pdm_type', 'sampleID', 'patient_origin', 'pdx_passage', 'images', 'mutation', 'wes', 'rnaseq'])\n",
    "\n",
    "\n",
    "def process_originator_images(response, mid):\n",
    "    soup = BeautifulSoup(response.text, 'html.parser')    \n",
    "    divs = [div.findNext().find_all('div') for div in soup.find_all('div') if\n",
    "            'class' in div.attrs.keys() and div.attrs['class'][0] == 'rc-title' and div.text.strip() == 'Sample']\n",
    "    table = [div.findNext().find_all('table') for div in divs[0] if\n",
    "             'class' in div.attrs.keys() and div.attrs['class'][0] == 'rc-title' and div.text.strip() == 'Pathology Data'][\n",
    "        0][0]\n",
    "    tt = pd.DataFrame([[td.find('a').attrs['href'] if td.find('a') else td.find('img').attrs['src'] if td.find('img') else td.text.strip() for row in table.find_all('tr') for td in row.find_all('td') if 'class' in td.attrs.keys() and td.attrs['class'][0] == 'data'][0:8]], columns=[\"View\",\"TumorGrade\",\"TumorContent\",\"Necrosis\",\"Stromal\",\"InflammatoryCells\",\"Low_res_image\", \"High_res_image\"]) \n",
    "    tt['sample_id'] = \"ORIGIN\"\n",
    "    tt['model_id'] = mid\n",
    "    tt['passage'] = \"ORIGIN\"\n",
    "    return tt\n",
    "\n",
    "def process_pdx_images(df, mid):\n",
    "    temp = pd.DataFrame()\n",
    "    for index, row in df.iterrows():\n",
    "        response = request(row['url'], False, 'get')\n",
    "        soup = BeautifulSoup(response.text, 'html.parser')    \n",
    "        divs = [div.findNext().find_all('div') for div in soup.find_all('div') if\n",
    "                'class' in div.attrs.keys() and div.attrs['class'][0] == 'rc-title' and div.text.strip() == 'Sample']\n",
    "        table = [div.findNext().find_all('table') for div in divs[0] if\n",
    "                 'class' in div.attrs.keys() and div.attrs['class'][0] == 'rc-title' and div.text.strip() == 'Pathology Data'][\n",
    "            0][0]\n",
    "        df_list = [td.find('a').attrs['href'] if td.find('a') else td.find('img').attrs['src'] if td.find('img') else td.text.strip() for row in table.find_all('tr') for td in row.find_all('td') if 'class' in td.attrs.keys() and td.attrs['class'][0] == 'data']\n",
    "        df_list = [df_list[i:i + 8] for i in range(0, len(df_list), 8)]\n",
    "        tt = pd.DataFrame(df_list, columns=[\"View\",\"TumorGrade\",\"TumorContent\",\"Necrosis\",\"Stromal\",\"InflammatoryCells\",\"Low_res_image\", \"High_res_image\"])\n",
    "        tt['sample_id'] = row['sampleID']\n",
    "        tt['model_id'] = mid\n",
    "        tt['passage'] = row['pdx_passage']\n",
    "        temp = pd.concat([temp, tt])\n",
    "    return temp.drop_duplicates()\n",
    "\n",
    "def list_to_dataframe(flat_list):\n",
    "    # Step 1: Convert flat list to 2D list with 4 elements per sub-list\n",
    "    two_d_list = [flat_list[i:i + 4] for i in range(0, len(flat_list), 4)]\n",
    "    \n",
    "    # Step 2: Convert 2D list to DataFrame\n",
    "    df = pd.DataFrame(two_d_list, columns=['Column1', 'Column2', 'Column3', 'Column4'])\n",
    "    \n",
    "    return df\n",
    "\n",
    "def process_invitro_images(df, mid):\n",
    "    temp = pd.DataFrame()\n",
    "    for index, row in df.iterrows():\n",
    "        response = request(row['url'], False, 'get')\n",
    "        soup = BeautifulSoup(response.text, 'html.parser')\n",
    "        divs = [div.findNext().find_all('div') for div in soup.find_all('div') if\n",
    "                'class' in div.attrs.keys() and div.attrs['class'][0] == 'rc-title' and div.text.strip() == 'Sample']\n",
    "        table = [div.findNext().find_all('table') for div in divs[0] if\n",
    "                 'class' in div.attrs.keys() and div.attrs['class'][0] == 'rc-title' and div.text.strip() == 'In Vitro Images'][\n",
    "            0][0]\n",
    "        df_list = [td.find('a').attrs['href'] if td.find('a') else td.find('img').attrs['src'] if td.find('img') else td.text.strip() for row in table.find_all('tr') for td in row.find_all('td') if 'class' in td.attrs.keys() and td.attrs['class'][0] == 'data']\n",
    "        df_list = [df_list[i:i + 4] for i in range(0, len(df_list), 4)]\n",
    "        tt = pd.DataFrame(df_list, columns=[\"View\",\"image_type\",\"notes\",\"image\"])\n",
    "        tt['sample_id'] = row['sampleID']\n",
    "        tt['model_id'] = mid\n",
    "        tt['passage'] = row['pdx_passage']\n",
    "        temp = pd.concat([temp, tt])\n",
    "    return temp.drop_duplicates()\n",
    "\n",
    "def melt_df(df):\n",
    "    df_melted = df.melt(id_vars=['View', 'TumorGrade', 'TumorContent', 'Necrosis', 'Stromal', 'InflammatoryCells', 'sample_id', 'model_id', 'passage'], value_vars=['Low_res_image', 'High_res_image'], var_name='magnification', value_name='URL')\n",
    "    df_melted['URL'] = \"https://pdmdb.cancer.gov/web/apex/\" + df_melted['URL']\n",
    "    df_melted['magnification'] = df_melted['magnification'].str.replace('Low_res_image', 'Low Magnification Image').str.replace('High_res_image', 'High Magnification Image')\n",
    "    df_melted['Field'] = \"\"\n",
    "    return df_melted\n",
    "\n",
    "\n",
    "def generate_image_df(og, pdx, invitro):\n",
    "    if og.shape[0] > 0:\n",
    "        og = melt_df(og)\n",
    "        og['description'] = og.apply(lambda x: f\"Tumor Grade: {x['TumorGrade']}, Tumor Content: {x['TumorContent']}, Necrosis: {x['Necrosis']}, Stromal: {x['Stromal']}, Inflammatory Cells: {x['InflammatoryCells']}, Sample Type: Patient, Staining: H&E\", axis=1)\n",
    "        og['sample_type'] = \"patient\"    \n",
    "        og['passage'] = \"\"\n",
    "        og['staining'] = \"H&E\"\n",
    "        og = og[['Field', 'model_id', 'URL', 'description', 'sample_type', 'passage', 'magnification', 'staining']]\n",
    "    else:\n",
    "        og = pd.DataFrame(columns=['Field', 'model_id', 'URL', 'description', 'sample_type', 'passage', 'magnification', 'staining'])\n",
    "    if pdx.shape[0] != 0:\n",
    "        pdx = melt_df(pdx)\n",
    "        pdx['description'] = pdx.apply(lambda x: f\"Tumor Grade: {x['TumorGrade']}, Tumor Content: {x['TumorContent']}, Necrosis: {x['Necrosis']}, Stromal: {x['Stromal']}, Inflammatory Cells: {x['InflammatoryCells']}, Sample Type: Patient, Staining: H&E\", axis=1)\n",
    "        pdx['sample_type'] = \"xenograft\"\n",
    "        pdx['staining'] = \"H&E\"\n",
    "        og = pd.concat([og, pdx[og.columns]]).reset_index(drop=True)\n",
    "    if invitro.shape[0] != 0:\n",
    "        invitro['URL'] = \"https://pdmdb.cancer.gov/web/apex/\" + invitro['image']\n",
    "        invitro['description'] =  invitro.apply(lambda x: f\"Staining: {x['image_type']}, Pathology notes: {x['notes']}\", axis=1)\n",
    "        invitro['sample_type'] = invitro['type']\n",
    "        invitro['staining'] = invitro['image_type']\n",
    "        invitro['passage'] = \"\"\n",
    "        invitro['magnification'] = \"\"\n",
    "        og = pd.concat([og, invitro[og.columns]]).reset_index(drop=True)\n",
    "    return og"
   ],
   "id": "335b1f0390e14e4f",
   "outputs": [],
   "execution_count": 3
  },
  {
   "metadata": {
    "jupyter": {
     "is_executing": true
    },
    "ExecuteTime": {
     "start_time": "2024-08-28T08:13:50.956781Z"
    }
   },
   "cell_type": "code",
   "source": [
    "image_df = generate_image_sheet(model_metadata)\n",
    "image_df"
   ],
   "id": "acac6110514e36e3",
   "outputs": [
    {
     "name": "stderr",
     "output_type": "stream",
     "text": [
      "Fetch from PDMR:   1%|          | 9/1131 [00:32<51:12,  2.74s/it]  "
     ]
    },
    {
     "name": "stdout",
     "output_type": "stream",
     "text": [
      "error for 946996-313-R: list index out of range\n"
     ]
    },
    {
     "name": "stderr",
     "output_type": "stream",
     "text": [
      "Fetch from PDMR:   2%|▏         | 19/1131 [01:13<1:04:13,  3.47s/it]"
     ]
    },
    {
     "name": "stdout",
     "output_type": "stream",
     "text": [
      "error for 223117-310-R: list index out of range\n"
     ]
    },
    {
     "name": "stderr",
     "output_type": "stream",
     "text": [
      "Fetch from PDMR:   3%|▎         | 30/1131 [02:04<51:26,  2.80s/it]  "
     ]
    },
    {
     "name": "stdout",
     "output_type": "stream",
     "text": [
      "error for 748385-122-R: list index out of range\n"
     ]
    },
    {
     "name": "stderr",
     "output_type": "stream",
     "text": [
      "Fetch from PDMR:   3%|▎         | 32/1131 [02:11<57:42,  3.15s/it]"
     ]
    },
    {
     "name": "stdout",
     "output_type": "stream",
     "text": [
      "error for 728994-017-R: list index out of range\n"
     ]
    },
    {
     "name": "stderr",
     "output_type": "stream",
     "text": [
      "Fetch from PDMR:   5%|▍         | 54/1131 [03:44<59:25,  3.31s/it]  "
     ]
    },
    {
     "name": "stdout",
     "output_type": "stream",
     "text": [
      "error for 381356-305-R-J1-PDC: list index out of range\n"
     ]
    },
    {
     "name": "stderr",
     "output_type": "stream",
     "text": [
      "Fetch from PDMR:   5%|▍         | 56/1131 [03:48<44:21,  2.48s/it]"
     ]
    },
    {
     "name": "stdout",
     "output_type": "stream",
     "text": [
      "error for 671287-276-R: list index out of range\n"
     ]
    },
    {
     "name": "stderr",
     "output_type": "stream",
     "text": [
      "Fetch from PDMR:   5%|▌         | 61/1131 [04:01<45:50,  2.57s/it]"
     ]
    },
    {
     "name": "stdout",
     "output_type": "stream",
     "text": [
      "error for K57222-313-R-J1-PDC: list index out of range\n"
     ]
    },
    {
     "name": "stderr",
     "output_type": "stream",
     "text": [
      "Fetch from PDMR:   7%|▋         | 84/1131 [05:49<1:26:03,  4.93s/it]"
     ]
    },
    {
     "name": "stdout",
     "output_type": "stream",
     "text": [
      "error for 967376-340-R: list index out of range\n"
     ]
    },
    {
     "name": "stderr",
     "output_type": "stream",
     "text": [
      "Fetch from PDMR:   8%|▊         | 90/1131 [06:24<1:23:49,  4.83s/it]"
     ]
    },
    {
     "name": "stdout",
     "output_type": "stream",
     "text": [
      "error for 361931-004-R: list index out of range\n"
     ]
    },
    {
     "name": "stderr",
     "output_type": "stream",
     "text": [
      "Fetch from PDMR:   8%|▊         | 94/1131 [06:43<1:14:39,  4.32s/it]"
     ]
    },
    {
     "name": "stdout",
     "output_type": "stream",
     "text": [
      "error for 987419-145-R-V1-organoid: list index out of range\n"
     ]
    },
    {
     "name": "stderr",
     "output_type": "stream",
     "text": [
      "Fetch from PDMR:  10%|▉         | 109/1131 [07:47<51:25,  3.02s/it]  "
     ]
    },
    {
     "name": "stdout",
     "output_type": "stream",
     "text": [
      "error for 276233-004-R: list index out of range\n"
     ]
    },
    {
     "name": "stderr",
     "output_type": "stream",
     "text": [
      "Fetch from PDMR:  10%|▉         | 110/1131 [07:55<1:15:53,  4.46s/it]"
     ]
    },
    {
     "name": "stdout",
     "output_type": "stream",
     "text": [
      "error for 919269-233-R1: list index out of range\n"
     ]
    },
    {
     "name": "stderr",
     "output_type": "stream",
     "text": [
      "Fetch from PDMR:  11%|█▏        | 128/1131 [09:26<1:45:21,  6.30s/it]"
     ]
    },
    {
     "name": "stdout",
     "output_type": "stream",
     "text": [
      "error for 636577-100-R: list index out of range\n"
     ]
    },
    {
     "name": "stderr",
     "output_type": "stream",
     "text": [
      "Fetch from PDMR:  12%|█▏        | 138/1131 [10:21<1:32:01,  5.56s/it]"
     ]
    },
    {
     "name": "stdout",
     "output_type": "stream",
     "text": [
      "error for K14711-072-R: list index out of range\n"
     ]
    },
    {
     "name": "stderr",
     "output_type": "stream",
     "text": [
      "Fetch from PDMR:  12%|█▏        | 140/1131 [10:28<1:16:58,  4.66s/it]"
     ]
    },
    {
     "name": "stdout",
     "output_type": "stream",
     "text": [
      "error for 941425-263-T: list index out of range\n"
     ]
    },
    {
     "name": "stderr",
     "output_type": "stream",
     "text": [
      "Fetch from PDMR:  15%|█▍        | 165/1131 [12:23<1:03:25,  3.94s/it]"
     ]
    },
    {
     "name": "stdout",
     "output_type": "stream",
     "text": [
      "error for 185487-224-T: list index out of range\n"
     ]
    },
    {
     "name": "stderr",
     "output_type": "stream",
     "text": [
      "Fetch from PDMR:  16%|█▌        | 177/1131 [13:11<48:27,  3.05s/it]  "
     ]
    },
    {
     "name": "stdout",
     "output_type": "stream",
     "text": [
      "error for 559244-337-R-J2-PDC: list index out of range\n"
     ]
    },
    {
     "name": "stderr",
     "output_type": "stream",
     "text": [
      "Fetch from PDMR:  16%|█▌        | 180/1131 [13:38<1:48:25,  6.84s/it]"
     ]
    },
    {
     "name": "stdout",
     "output_type": "stream",
     "text": [
      "error for 521955-158-R7: list index out of range\n"
     ]
    },
    {
     "name": "stderr",
     "output_type": "stream",
     "text": [
      "Fetch from PDMR:  16%|█▋        | 185/1131 [14:03<1:23:46,  5.31s/it]"
     ]
    },
    {
     "name": "stdout",
     "output_type": "stream",
     "text": [
      "error for 259778-044-R: list index out of range\n"
     ]
    },
    {
     "name": "stderr",
     "output_type": "stream",
     "text": [
      "Fetch from PDMR:  17%|█▋        | 194/1131 [14:44<1:06:41,  4.27s/it]"
     ]
    },
    {
     "name": "stdout",
     "output_type": "stream",
     "text": [
      "error for 521955-158-R5-V10-organoid: list index out of range\n"
     ]
    },
    {
     "name": "stderr",
     "output_type": "stream",
     "text": [
      "Fetch from PDMR:  17%|█▋        | 196/1131 [14:50<56:20,  3.62s/it]  "
     ]
    },
    {
     "name": "stdout",
     "output_type": "stream",
     "text": [
      "error for 669591-354-R: list index out of range\n"
     ]
    },
    {
     "name": "stderr",
     "output_type": "stream",
     "text": [
      "Fetch from PDMR:  18%|█▊        | 199/1131 [15:00<47:52,  3.08s/it]  "
     ]
    },
    {
     "name": "stdout",
     "output_type": "stream",
     "text": [
      "error for 381356-305-R-V2-organoid: list index out of range\n"
     ]
    },
    {
     "name": "stderr",
     "output_type": "stream",
     "text": [
      "Fetch from PDMR:  19%|█▉        | 214/1131 [16:25<1:29:08,  5.83s/it]"
     ]
    },
    {
     "name": "stdout",
     "output_type": "stream",
     "text": [
      "error for K41856-061-R2: list index out of range\n"
     ]
    },
    {
     "name": "stderr",
     "output_type": "stream",
     "text": [
      "Fetch from PDMR:  19%|█▉        | 218/1131 [16:54<1:48:28,  7.13s/it]"
     ]
    },
    {
     "name": "stdout",
     "output_type": "stream",
     "text": [
      "error for 295223-140-R: list index out of range\n"
     ]
    },
    {
     "name": "stderr",
     "output_type": "stream",
     "text": [
      "Fetch from PDMR:  19%|█▉        | 219/1131 [17:02<1:51:55,  7.36s/it]"
     ]
    },
    {
     "name": "stdout",
     "output_type": "stream",
     "text": [
      "error for 952719-076-R: list index out of range\n"
     ]
    },
    {
     "name": "stderr",
     "output_type": "stream",
     "text": [
      "Fetch from PDMR:  20%|█▉        | 224/1131 [17:28<1:17:23,  5.12s/it]"
     ]
    },
    {
     "name": "stdout",
     "output_type": "stream",
     "text": [
      "error for 967376-340-R-J2-PDC: list index out of range\n"
     ]
    },
    {
     "name": "stderr",
     "output_type": "stream",
     "text": [
      "Fetch from PDMR:  20%|█▉        | 225/1131 [17:29<58:15,  3.86s/it]  "
     ]
    },
    {
     "name": "stdout",
     "output_type": "stream",
     "text": [
      "error for K98449-230-R: list index out of range\n"
     ]
    },
    {
     "name": "stderr",
     "output_type": "stream",
     "text": [
      "Fetch from PDMR:  21%|██        | 239/1131 [18:38<1:06:11,  4.45s/it]"
     ]
    },
    {
     "name": "stdout",
     "output_type": "stream",
     "text": [
      "error for 756784-338-R: list index out of range\n"
     ]
    },
    {
     "name": "stderr",
     "output_type": "stream",
     "text": [
      "Fetch from PDMR:  22%|██▏       | 252/1131 [19:32<1:00:41,  4.14s/it]"
     ]
    },
    {
     "name": "stdout",
     "output_type": "stream",
     "text": [
      "error for 713683-067-R: list index out of range\n"
     ]
    },
    {
     "name": "stderr",
     "output_type": "stream",
     "text": [
      "Fetch from PDMR:  23%|██▎       | 255/1131 [19:40<43:44,  3.00s/it]  "
     ]
    },
    {
     "name": "stdout",
     "output_type": "stream",
     "text": [
      "error for 947725-317-R-V3-organoid: list index out of range\n"
     ]
    },
    {
     "name": "stderr",
     "output_type": "stream",
     "text": [
      "Fetch from PDMR:  23%|██▎       | 260/1131 [19:58<49:56,  3.44s/it]  "
     ]
    },
    {
     "name": "stdout",
     "output_type": "stream",
     "text": [
      "error for K79811-243-R: list index out of range\n"
     ]
    },
    {
     "name": "stderr",
     "output_type": "stream",
     "text": [
      "Fetch from PDMR:  25%|██▍       | 278/1131 [21:09<1:16:59,  5.42s/it]"
     ]
    },
    {
     "name": "stdout",
     "output_type": "stream",
     "text": [
      "error for 245324-029-R: list index out of range\n"
     ]
    },
    {
     "name": "stderr",
     "output_type": "stream",
     "text": [
      "Fetch from PDMR:  26%|██▋       | 298/1131 [22:36<1:10:17,  5.06s/it]"
     ]
    },
    {
     "name": "stdout",
     "output_type": "stream",
     "text": [
      "error for 241356-047-R: list index out of range\n"
     ]
    },
    {
     "name": "stderr",
     "output_type": "stream",
     "text": [
      "Fetch from PDMR:  27%|██▋       | 311/1131 [23:22<1:05:26,  4.79s/it]"
     ]
    },
    {
     "name": "stdout",
     "output_type": "stream",
     "text": [
      "error for 961994-133-R: list index out of range\n"
     ]
    },
    {
     "name": "stderr",
     "output_type": "stream",
     "text": [
      "Fetch from PDMR:  28%|██▊       | 315/1131 [23:49<1:24:51,  6.24s/it]"
     ]
    },
    {
     "name": "stdout",
     "output_type": "stream",
     "text": [
      "error for 936559-144-R: list index out of range\n"
     ]
    },
    {
     "name": "stderr",
     "output_type": "stream",
     "text": [
      "Fetch from PDMR:  28%|██▊       | 319/1131 [24:05<1:03:35,  4.70s/it]"
     ]
    }
   ],
   "execution_count": null
  },
  {
   "metadata": {},
   "cell_type": "code",
   "outputs": [],
   "execution_count": null,
   "source": "",
   "id": "5b7a405fcd05180e"
  }
 ],
 "metadata": {
  "kernelspec": {
   "display_name": "Python 3",
   "language": "python",
   "name": "python3"
  },
  "language_info": {
   "codemirror_mode": {
    "name": "ipython",
    "version": 2
   },
   "file_extension": ".py",
   "mimetype": "text/x-python",
   "name": "python",
   "nbconvert_exporter": "python",
   "pygments_lexer": "ipython2",
   "version": "2.7.6"
  }
 },
 "nbformat": 4,
 "nbformat_minor": 5
}
