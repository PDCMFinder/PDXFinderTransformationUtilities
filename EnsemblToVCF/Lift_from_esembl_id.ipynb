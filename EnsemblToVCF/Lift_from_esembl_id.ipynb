{
 "cells": [
  {
   "cell_type": "code",
   "execution_count": 1,
   "metadata": {
    "collapsed": true
   },
   "outputs": [],
   "source": [
    "import requests, sys\n",
    "from os import listdir\n",
    "from os.path import isfile, join, isdir, exists\n",
    "import pandas as pd\n",
    "import logging\n",
    "import pickle\n",
    "from tqdm.notebook import tqdm, trange\n",
    "\n",
    "log = logging.getLogger(__name__)\n",
    "logging.basicConfig(filename='Lift_from_esembl_id.log', level=logging.INFO, format='%(levelname)s:%(asctime)s: %(message)s', datefmt='%d/%m/%Y %I:%M %p')"
   ]
  },
  {
   "cell_type": "code",
   "execution_count": 11,
   "outputs": [],
   "source": [
    "def get_location_from_ENSEMBL(ensembl_id):\n",
    "    ext = \"/lookup/id/\"+ensembl_id+\"?\"\n",
    "    server = \"https://rest.ensembl.org\"\n",
    "    try:\n",
    "        r = requests.get(server+ext, headers={ \"Content-Type\" : \"application/json\"})\n",
    "\n",
    "        if not r.ok:\n",
    "          r.raise_for_status()\n",
    "          sys.exit()\n",
    "\n",
    "        decoded = r.json()\n",
    "        #print(repr(decoded))\n",
    "        if \"species\" in list(decoded.keys()) and decoded[\"species\"] ==\"homo_sapiens\" and \"assembly_name\" in list(decoded.keys()) and decoded['assembly_name'] == \"GRCh38\"\\\n",
    "                and 'seq_region_name' in list(decoded.keys()) and 'end' in list(decoded.keys()) and 'start' in list(decoded.keys()) and 'strand' in list(decoded.keys()):\n",
    "            chromosome, start, end, strand = decoded[\"seq_region_name\"], decoded[\"start\"], decoded[\"end\"], decoded[\"strand\"]\n",
    "            return list([ensembl_id, chromosome, start, end, strand])\n",
    "        else:\n",
    "            log.info(\"No coordinates for ID: \"+ ensembl_id)\n",
    "            return list([ensembl_id, \"\", \"\", \"\", \"\"])\n",
    "    except:\n",
    "        log.info(\"Request failed for ID: \"+ensembl_id)\n",
    "        return list([ensembl_id, \"\", \"\", \"\", \"\"])\n"
   ],
   "metadata": {
    "collapsed": false
   }
  },
  {
   "cell_type": "code",
   "execution_count": 19,
   "outputs": [],
   "source": [
    "home = \"/Users/tushar/pdx/pdxfinder-data/data/UPDOG\"\n",
    "\n",
    "def get_dirs(path):\n",
    "    return [f for f in listdir(path) if isdir(join(path, f))]\n",
    "def get_files(path, files):\n",
    "    [files.append(join(path, f)) if isfile(join(path, f)) else get_files(join(path,f), files) for f in listdir(path)]\n",
    "    return files\n",
    "def flatten_list(list_of_list):\n",
    "    return [x2 for x1 in list_of_list for x2 in x1]"
   ],
   "metadata": {
    "collapsed": false
   }
  },
  {
   "cell_type": "code",
   "execution_count": 3,
   "outputs": [],
   "source": [
    "def get_gene_ids(path, total_gene_ids):\n",
    "    tsv_files = [f for f in get_files(path, []) if f.endswith('.tsv')]\n",
    "    if len(tsv_files)>0:\n",
    "        for f in tsv_files:\n",
    "            metadata = pd.read_csv(f, sep='\\t', na_values=\"\", low_memory=False).fillna('****')\n",
    "            if 'Field' in metadata.columns:\n",
    "                metadata = metadata.loc[metadata.Field.str.startswith('#') != True,].reset_index(drop=True)\n",
    "                metadata = metadata.drop('Field', axis=1)\n",
    "            total_gene_ids.append(list(pd.unique(metadata.ensembl_gene_id.to_numpy().flatten().astype(str))))\n",
    "    return list(set(flatten_list(total_gene_ids)))"
   ],
   "metadata": {
    "collapsed": false
   }
  },
  {
   "cell_type": "code",
   "execution_count": 4,
   "outputs": [],
   "source": [
    "def construct_gene_ids(home):\n",
    "    total_gene_ids = list()\n",
    "    for provider in get_dirs(home): ## get_dirs will get the provider dirs in updog\n",
    "        cna_path= join(home, provider, 'cna')\n",
    "        if exists(cna_path):\n",
    "            log.info(\"Working on provider: \"+provider)\n",
    "            total_gene_ids.append(get_gene_ids(cna_path, total_gene_ids))\n",
    "    ensembl = \"ENS\"\n",
    "    filtered_list = [sample.split(\".\")[0] for sample in list(set(flatten_list(total_gene_ids))) if ensembl in sample ]\n",
    "    return list(set(filtered_list))\n",
    "\n",
    "def convert_geneList_to_df(flat_gene_list):\n",
    "    genomic_data = list()\n",
    "    for ensembl_id in flat_gene_list:\n",
    "        coordinates = get_location_from_ENSEMBL(ensembl_id)\n",
    "        genomic_data.append(coordinates)\n",
    "    return genomic_data"
   ],
   "metadata": {
    "collapsed": false
   }
  },
  {
   "cell_type": "code",
   "execution_count": 17,
   "outputs": [],
   "source": [
    "flat_gene_list = construct_gene_ids(home)\n",
    "with open('/Users/tushar/pdx/update-data/outfile', 'wb') as fp:\n",
    "    pickle.dump(flat_gene_list, fp)\n",
    "#df = convert_geneList_to_df(flat_gene_list)"
   ],
   "metadata": {
    "collapsed": false
   }
  },
  {
   "cell_type": "code",
   "execution_count": 5,
   "outputs": [],
   "source": [
    "with open ('/Users/tushar/pdx/update-data/outfile', 'rb') as fp:\n",
    "    flat_gene_list = pickle.load(fp)"
   ],
   "metadata": {
    "collapsed": false
   }
  },
  {
   "cell_type": "code",
   "execution_count": 2,
   "outputs": [],
   "source": [
    "Reference = pd.read_json(\"/Users/tushar/Downloads/homo_sapiens_genes.json\")"
   ],
   "metadata": {
    "collapsed": false
   }
  },
  {
   "cell_type": "code",
   "execution_count": 15,
   "outputs": [
    {
     "data": {
      "text/plain": "               source                                seq_region_synonyms  \\\n0              havana  [{'db': 'INSDC', 'id': 'CM000682.2'}, {'db': '...   \n1      ensembl_havana  [{'db': 'INSDC', 'id': 'CM000685.2'}, {'db': '...   \n2              havana  [{'db': 'ensembl_internal_synonym', 'id': 'HSC...   \n3              havana  [{'db': 'INSDC', 'id': 'CM000678.2'}, {'db': '...   \n4              havana  [{'db': 'INSDC', 'id': 'CM000664.2'}, {'db': '...   \n...               ...                                                ...   \n69335          havana  [{'db': 'INSDC', 'id': 'CM000664.2'}, {'db': '...   \n69336          havana  [{'db': 'INSDC', 'id': 'CM000664.2'}, {'db': '...   \n69337   havana_tagene  [{'db': 'INSDC', 'id': 'CM000669.2'}, {'db': '...   \n69338  ensembl_havana  [{'db': 'INSDC', 'id': 'CM000671.2'}, {'db': '...   \n69339          havana  [{'db': 'INSDC', 'id': 'CM000667.2'}, {'db': '...   \n\n                              seq_region_name      analysis_display  strand  \\\n0                                          20                Havana       1   \n1                                           X  Ensembl/Havana merge      -1   \n2      CHR_HSCHR19KIR_ABC08_AB_HAP_T_P_CTG3_1                Havana       1   \n3                                          16                Havana      -1   \n4                                           2                Havana       1   \n...                                       ...                   ...     ...   \n69335                                       2                Havana       1   \n69336                                       2                Havana      -1   \n69337                                       7         Havana TAGENE      -1   \n69338                                       9  Ensembl/Havana merge       1   \n69339                                       5                Havana       1   \n\n      ensembl_object_type               id  \\\n0                    gene  ENSG00000275852   \n1                    gene  ENSG00000224440   \n2                    gene  ENSG00000276974   \n3                    gene  ENSG00000261140   \n4                    gene  ENSG00000236211   \n...                   ...              ...   \n69335                gene  ENSG00000228784   \n69336                gene  ENSG00000231336   \n69337                gene  ENSG00000287093   \n69338                gene  ENSG00000119509   \n69339                gene  ENSG00000248195   \n\n                                             transcripts  version       name  \\\n0      [{'seq_region_synonyms': [{'db': 'INSDC', 'id'...        1  LINC01742   \n1      [{'previous_ids': ['ENST00000593386'], 'seq_re...        2   CXorf51A   \n2      [{'seq_region_synonyms': [{'db': 'ensembl_inte...        1       None   \n3      [{'seq_region_synonyms': [{'db': 'INSDC', 'id'...        1       None   \n4      [{'seq_region_synonyms': [{'db': 'INSDC', 'id'...        1    MTCO1P7   \n...                                                  ...      ...        ...   \n69335  [{'seq_region_synonyms': [{'db': 'INSDC', 'id'...        9  LINC00954   \n69336  [{'seq_region_synonyms': [{'db': 'INSDC', 'id'...        1       None   \n69337  [{'seq_region_synonyms': [{'db': 'INSDC', 'id'...        1       None   \n69338  [{'seq_region_synonyms': [{'db': 'INSDC', 'id'...       13       INVS   \n69339  [{'seq_region_synonyms': [{'db': 'INSDC', 'id'...        1       None   \n\n       ...                          analysis        end  \\\n0      ...               havana_homo_sapiens   58004648   \n1      ...  ensembl_havana_gene_homo_sapiens  146814744   \n2      ...               havana_homo_sapiens   54704235   \n3      ...               havana_homo_sapiens    2571936   \n4      ...               havana_homo_sapiens  130275449   \n...    ...                               ...        ...   \n69335  ...               havana_homo_sapiens   19885047   \n69336  ...               havana_homo_sapiens   46167978   \n69337  ...        havana_tagene_homo_sapiens   24795496   \n69338  ...  ensembl_havana_gene_homo_sapiens  100302175   \n69339  ...               havana_homo_sapiens   86335808   \n\n                      biotype              so_term  \\\n0                      lncRNA           ncRNA_gene   \n1              protein_coding  protein_coding_gene   \n2      unprocessed_pseudogene           pseudogene   \n3                      lncRNA           ncRNA_gene   \n4      unprocessed_pseudogene           pseudogene   \n...                       ...                  ...   \n69335                  lncRNA           ncRNA_gene   \n69336                  lncRNA           ncRNA_gene   \n69337                  lncRNA           ncRNA_gene   \n69338          protein_coding  protein_coding_gene   \n69339                  lncRNA           ncRNA_gene   \n\n                                            coord_system  \\\n0      {'seq_length': 64444167, 'version': 'GRCh38', ...   \n1      {'seq_length': 156040895, 'version': 'GRCh38',...   \n2      {'seq_length': 58617636, 'version': 'GRCh38', ...   \n3      {'seq_length': 90338345, 'version': 'GRCh38', ...   \n4      {'seq_length': 242193529, 'version': 'GRCh38',...   \n...                                                  ...   \n69335  {'seq_length': 242193529, 'version': 'GRCh38',...   \n69336  {'seq_length': 242193529, 'version': 'GRCh38',...   \n69337  {'seq_length': 159345973, 'version': 'GRCh38',...   \n69338  {'seq_length': 138394717, 'version': 'GRCh38',...   \n69339  {'seq_length': 181538259, 'version': 'GRCh38',...   \n\n                                                   xrefs      start  \\\n0      [{'display_id': 'ENSG00000275852', 'primary_id...   58003904   \n1      [{'display_id': 'ENSG00000224440', 'primary_id...  146814106   \n2      [{'display_id': 'ENSG00000276974', 'primary_id...   54703952   \n3      [{'display_id': 'ENSG00000261140', 'primary_id...    2569043   \n4      [{'display_id': 'ENSG00000236211', 'primary_id...  130273908   \n...                                                  ...        ...   \n69335  [{'display_id': 'ENSG00000228784', 'primary_id...   19868860   \n69336  [{'display_id': 'ENSG00000231336', 'primary_id...   46166789   \n69337  [{'display_id': 'ENSG00000287093', 'primary_id...   24778444   \n69338  [{'display_id': 'ENSG00000119509', 'primary_id...  100099243   \n69339  [{'display_id': 'ENSG00000248195', 'primary_id...   86335024   \n\n            previous_ids    synonyms is_haplotype  \n0                    NaN         NaN          NaN  \n1      [ENSG00000268774]   [CXorf51]          NaN  \n2                    NaN         NaN          1.0  \n3                    NaN         NaN          NaN  \n4                    NaN         NaN          NaN  \n...                  ...         ...          ...  \n69335                NaN  [FLJ12334]          NaN  \n69336                NaN         NaN          NaN  \n69337                NaN         NaN          NaN  \n69338                NaN     [NPHP2]          NaN  \n69339                NaN         NaN          NaN  \n\n[69340 rows x 21 columns]",
      "text/html": "<div>\n<style scoped>\n    .dataframe tbody tr th:only-of-type {\n        vertical-align: middle;\n    }\n\n    .dataframe tbody tr th {\n        vertical-align: top;\n    }\n\n    .dataframe thead th {\n        text-align: right;\n    }\n</style>\n<table border=\"1\" class=\"dataframe\">\n  <thead>\n    <tr style=\"text-align: right;\">\n      <th></th>\n      <th>source</th>\n      <th>seq_region_synonyms</th>\n      <th>seq_region_name</th>\n      <th>analysis_display</th>\n      <th>strand</th>\n      <th>ensembl_object_type</th>\n      <th>id</th>\n      <th>transcripts</th>\n      <th>version</th>\n      <th>name</th>\n      <th>...</th>\n      <th>analysis</th>\n      <th>end</th>\n      <th>biotype</th>\n      <th>so_term</th>\n      <th>coord_system</th>\n      <th>xrefs</th>\n      <th>start</th>\n      <th>previous_ids</th>\n      <th>synonyms</th>\n      <th>is_haplotype</th>\n    </tr>\n  </thead>\n  <tbody>\n    <tr>\n      <th>0</th>\n      <td>havana</td>\n      <td>[{'db': 'INSDC', 'id': 'CM000682.2'}, {'db': '...</td>\n      <td>20</td>\n      <td>Havana</td>\n      <td>1</td>\n      <td>gene</td>\n      <td>ENSG00000275852</td>\n      <td>[{'seq_region_synonyms': [{'db': 'INSDC', 'id'...</td>\n      <td>1</td>\n      <td>LINC01742</td>\n      <td>...</td>\n      <td>havana_homo_sapiens</td>\n      <td>58004648</td>\n      <td>lncRNA</td>\n      <td>ncRNA_gene</td>\n      <td>{'seq_length': 64444167, 'version': 'GRCh38', ...</td>\n      <td>[{'display_id': 'ENSG00000275852', 'primary_id...</td>\n      <td>58003904</td>\n      <td>NaN</td>\n      <td>NaN</td>\n      <td>NaN</td>\n    </tr>\n    <tr>\n      <th>1</th>\n      <td>ensembl_havana</td>\n      <td>[{'db': 'INSDC', 'id': 'CM000685.2'}, {'db': '...</td>\n      <td>X</td>\n      <td>Ensembl/Havana merge</td>\n      <td>-1</td>\n      <td>gene</td>\n      <td>ENSG00000224440</td>\n      <td>[{'previous_ids': ['ENST00000593386'], 'seq_re...</td>\n      <td>2</td>\n      <td>CXorf51A</td>\n      <td>...</td>\n      <td>ensembl_havana_gene_homo_sapiens</td>\n      <td>146814744</td>\n      <td>protein_coding</td>\n      <td>protein_coding_gene</td>\n      <td>{'seq_length': 156040895, 'version': 'GRCh38',...</td>\n      <td>[{'display_id': 'ENSG00000224440', 'primary_id...</td>\n      <td>146814106</td>\n      <td>[ENSG00000268774]</td>\n      <td>[CXorf51]</td>\n      <td>NaN</td>\n    </tr>\n    <tr>\n      <th>2</th>\n      <td>havana</td>\n      <td>[{'db': 'ensembl_internal_synonym', 'id': 'HSC...</td>\n      <td>CHR_HSCHR19KIR_ABC08_AB_HAP_T_P_CTG3_1</td>\n      <td>Havana</td>\n      <td>1</td>\n      <td>gene</td>\n      <td>ENSG00000276974</td>\n      <td>[{'seq_region_synonyms': [{'db': 'ensembl_inte...</td>\n      <td>1</td>\n      <td>None</td>\n      <td>...</td>\n      <td>havana_homo_sapiens</td>\n      <td>54704235</td>\n      <td>unprocessed_pseudogene</td>\n      <td>pseudogene</td>\n      <td>{'seq_length': 58617636, 'version': 'GRCh38', ...</td>\n      <td>[{'display_id': 'ENSG00000276974', 'primary_id...</td>\n      <td>54703952</td>\n      <td>NaN</td>\n      <td>NaN</td>\n      <td>1.0</td>\n    </tr>\n    <tr>\n      <th>3</th>\n      <td>havana</td>\n      <td>[{'db': 'INSDC', 'id': 'CM000678.2'}, {'db': '...</td>\n      <td>16</td>\n      <td>Havana</td>\n      <td>-1</td>\n      <td>gene</td>\n      <td>ENSG00000261140</td>\n      <td>[{'seq_region_synonyms': [{'db': 'INSDC', 'id'...</td>\n      <td>1</td>\n      <td>None</td>\n      <td>...</td>\n      <td>havana_homo_sapiens</td>\n      <td>2571936</td>\n      <td>lncRNA</td>\n      <td>ncRNA_gene</td>\n      <td>{'seq_length': 90338345, 'version': 'GRCh38', ...</td>\n      <td>[{'display_id': 'ENSG00000261140', 'primary_id...</td>\n      <td>2569043</td>\n      <td>NaN</td>\n      <td>NaN</td>\n      <td>NaN</td>\n    </tr>\n    <tr>\n      <th>4</th>\n      <td>havana</td>\n      <td>[{'db': 'INSDC', 'id': 'CM000664.2'}, {'db': '...</td>\n      <td>2</td>\n      <td>Havana</td>\n      <td>1</td>\n      <td>gene</td>\n      <td>ENSG00000236211</td>\n      <td>[{'seq_region_synonyms': [{'db': 'INSDC', 'id'...</td>\n      <td>1</td>\n      <td>MTCO1P7</td>\n      <td>...</td>\n      <td>havana_homo_sapiens</td>\n      <td>130275449</td>\n      <td>unprocessed_pseudogene</td>\n      <td>pseudogene</td>\n      <td>{'seq_length': 242193529, 'version': 'GRCh38',...</td>\n      <td>[{'display_id': 'ENSG00000236211', 'primary_id...</td>\n      <td>130273908</td>\n      <td>NaN</td>\n      <td>NaN</td>\n      <td>NaN</td>\n    </tr>\n    <tr>\n      <th>...</th>\n      <td>...</td>\n      <td>...</td>\n      <td>...</td>\n      <td>...</td>\n      <td>...</td>\n      <td>...</td>\n      <td>...</td>\n      <td>...</td>\n      <td>...</td>\n      <td>...</td>\n      <td>...</td>\n      <td>...</td>\n      <td>...</td>\n      <td>...</td>\n      <td>...</td>\n      <td>...</td>\n      <td>...</td>\n      <td>...</td>\n      <td>...</td>\n      <td>...</td>\n      <td>...</td>\n    </tr>\n    <tr>\n      <th>69335</th>\n      <td>havana</td>\n      <td>[{'db': 'INSDC', 'id': 'CM000664.2'}, {'db': '...</td>\n      <td>2</td>\n      <td>Havana</td>\n      <td>1</td>\n      <td>gene</td>\n      <td>ENSG00000228784</td>\n      <td>[{'seq_region_synonyms': [{'db': 'INSDC', 'id'...</td>\n      <td>9</td>\n      <td>LINC00954</td>\n      <td>...</td>\n      <td>havana_homo_sapiens</td>\n      <td>19885047</td>\n      <td>lncRNA</td>\n      <td>ncRNA_gene</td>\n      <td>{'seq_length': 242193529, 'version': 'GRCh38',...</td>\n      <td>[{'display_id': 'ENSG00000228784', 'primary_id...</td>\n      <td>19868860</td>\n      <td>NaN</td>\n      <td>[FLJ12334]</td>\n      <td>NaN</td>\n    </tr>\n    <tr>\n      <th>69336</th>\n      <td>havana</td>\n      <td>[{'db': 'INSDC', 'id': 'CM000664.2'}, {'db': '...</td>\n      <td>2</td>\n      <td>Havana</td>\n      <td>-1</td>\n      <td>gene</td>\n      <td>ENSG00000231336</td>\n      <td>[{'seq_region_synonyms': [{'db': 'INSDC', 'id'...</td>\n      <td>1</td>\n      <td>None</td>\n      <td>...</td>\n      <td>havana_homo_sapiens</td>\n      <td>46167978</td>\n      <td>lncRNA</td>\n      <td>ncRNA_gene</td>\n      <td>{'seq_length': 242193529, 'version': 'GRCh38',...</td>\n      <td>[{'display_id': 'ENSG00000231336', 'primary_id...</td>\n      <td>46166789</td>\n      <td>NaN</td>\n      <td>NaN</td>\n      <td>NaN</td>\n    </tr>\n    <tr>\n      <th>69337</th>\n      <td>havana_tagene</td>\n      <td>[{'db': 'INSDC', 'id': 'CM000669.2'}, {'db': '...</td>\n      <td>7</td>\n      <td>Havana TAGENE</td>\n      <td>-1</td>\n      <td>gene</td>\n      <td>ENSG00000287093</td>\n      <td>[{'seq_region_synonyms': [{'db': 'INSDC', 'id'...</td>\n      <td>1</td>\n      <td>None</td>\n      <td>...</td>\n      <td>havana_tagene_homo_sapiens</td>\n      <td>24795496</td>\n      <td>lncRNA</td>\n      <td>ncRNA_gene</td>\n      <td>{'seq_length': 159345973, 'version': 'GRCh38',...</td>\n      <td>[{'display_id': 'ENSG00000287093', 'primary_id...</td>\n      <td>24778444</td>\n      <td>NaN</td>\n      <td>NaN</td>\n      <td>NaN</td>\n    </tr>\n    <tr>\n      <th>69338</th>\n      <td>ensembl_havana</td>\n      <td>[{'db': 'INSDC', 'id': 'CM000671.2'}, {'db': '...</td>\n      <td>9</td>\n      <td>Ensembl/Havana merge</td>\n      <td>1</td>\n      <td>gene</td>\n      <td>ENSG00000119509</td>\n      <td>[{'seq_region_synonyms': [{'db': 'INSDC', 'id'...</td>\n      <td>13</td>\n      <td>INVS</td>\n      <td>...</td>\n      <td>ensembl_havana_gene_homo_sapiens</td>\n      <td>100302175</td>\n      <td>protein_coding</td>\n      <td>protein_coding_gene</td>\n      <td>{'seq_length': 138394717, 'version': 'GRCh38',...</td>\n      <td>[{'display_id': 'ENSG00000119509', 'primary_id...</td>\n      <td>100099243</td>\n      <td>NaN</td>\n      <td>[NPHP2]</td>\n      <td>NaN</td>\n    </tr>\n    <tr>\n      <th>69339</th>\n      <td>havana</td>\n      <td>[{'db': 'INSDC', 'id': 'CM000667.2'}, {'db': '...</td>\n      <td>5</td>\n      <td>Havana</td>\n      <td>1</td>\n      <td>gene</td>\n      <td>ENSG00000248195</td>\n      <td>[{'seq_region_synonyms': [{'db': 'INSDC', 'id'...</td>\n      <td>1</td>\n      <td>None</td>\n      <td>...</td>\n      <td>havana_homo_sapiens</td>\n      <td>86335808</td>\n      <td>lncRNA</td>\n      <td>ncRNA_gene</td>\n      <td>{'seq_length': 181538259, 'version': 'GRCh38',...</td>\n      <td>[{'display_id': 'ENSG00000248195', 'primary_id...</td>\n      <td>86335024</td>\n      <td>NaN</td>\n      <td>NaN</td>\n      <td>NaN</td>\n    </tr>\n  </tbody>\n</table>\n<p>69340 rows × 21 columns</p>\n</div>"
     },
     "execution_count": 15,
     "metadata": {},
     "output_type": "execute_result"
    }
   ],
   "source": [
    "Reference"
   ],
   "metadata": {
    "collapsed": false
   }
  },
  {
   "cell_type": "code",
   "execution_count": 17,
   "outputs": [
    {
     "ename": "ValueError",
     "evalue": "Unmatched ''\"' when when decoding 'string'",
     "output_type": "error",
     "traceback": [
      "\u001B[0;31m---------------------------------------------------------------------------\u001B[0m",
      "\u001B[0;31mValueError\u001B[0m                                Traceback (most recent call last)",
      "\u001B[0;32m/var/folders/76/s92t3hn16kxddcj6_lhz56c40000gp/T/ipykernel_71215/3202959291.py\u001B[0m in \u001B[0;36m<module>\u001B[0;34m\u001B[0m\n\u001B[0;32m----> 1\u001B[0;31m \u001B[0mprobesets\u001B[0m \u001B[0;34m=\u001B[0m \u001B[0mpd\u001B[0m\u001B[0;34m.\u001B[0m\u001B[0mread_json\u001B[0m\u001B[0;34m(\u001B[0m\u001B[0;34m\"/Users/tushar/pdx/update-data/homo_sapiens_probesets.json\"\u001B[0m\u001B[0;34m)\u001B[0m\u001B[0;34m\u001B[0m\u001B[0;34m\u001B[0m\u001B[0m\n\u001B[0m",
      "\u001B[0;32m/Library/Frameworks/Python.framework/Versions/3.7/lib/python3.7/site-packages/pandas/util/_decorators.py\u001B[0m in \u001B[0;36mwrapper\u001B[0;34m(*args, **kwargs)\u001B[0m\n\u001B[1;32m    205\u001B[0m                 \u001B[0;32melse\u001B[0m\u001B[0;34m:\u001B[0m\u001B[0;34m\u001B[0m\u001B[0;34m\u001B[0m\u001B[0m\n\u001B[1;32m    206\u001B[0m                     \u001B[0mkwargs\u001B[0m\u001B[0;34m[\u001B[0m\u001B[0mnew_arg_name\u001B[0m\u001B[0;34m]\u001B[0m \u001B[0;34m=\u001B[0m \u001B[0mnew_arg_value\u001B[0m\u001B[0;34m\u001B[0m\u001B[0;34m\u001B[0m\u001B[0m\n\u001B[0;32m--> 207\u001B[0;31m             \u001B[0;32mreturn\u001B[0m \u001B[0mfunc\u001B[0m\u001B[0;34m(\u001B[0m\u001B[0;34m*\u001B[0m\u001B[0margs\u001B[0m\u001B[0;34m,\u001B[0m \u001B[0;34m**\u001B[0m\u001B[0mkwargs\u001B[0m\u001B[0;34m)\u001B[0m\u001B[0;34m\u001B[0m\u001B[0;34m\u001B[0m\u001B[0m\n\u001B[0m\u001B[1;32m    208\u001B[0m \u001B[0;34m\u001B[0m\u001B[0m\n\u001B[1;32m    209\u001B[0m         \u001B[0;32mreturn\u001B[0m \u001B[0mcast\u001B[0m\u001B[0;34m(\u001B[0m\u001B[0mF\u001B[0m\u001B[0;34m,\u001B[0m \u001B[0mwrapper\u001B[0m\u001B[0;34m)\u001B[0m\u001B[0;34m\u001B[0m\u001B[0;34m\u001B[0m\u001B[0m\n",
      "\u001B[0;32m/Library/Frameworks/Python.framework/Versions/3.7/lib/python3.7/site-packages/pandas/util/_decorators.py\u001B[0m in \u001B[0;36mwrapper\u001B[0;34m(*args, **kwargs)\u001B[0m\n\u001B[1;32m    309\u001B[0m                     \u001B[0mstacklevel\u001B[0m\u001B[0;34m=\u001B[0m\u001B[0mstacklevel\u001B[0m\u001B[0;34m,\u001B[0m\u001B[0;34m\u001B[0m\u001B[0;34m\u001B[0m\u001B[0m\n\u001B[1;32m    310\u001B[0m                 )\n\u001B[0;32m--> 311\u001B[0;31m             \u001B[0;32mreturn\u001B[0m \u001B[0mfunc\u001B[0m\u001B[0;34m(\u001B[0m\u001B[0;34m*\u001B[0m\u001B[0margs\u001B[0m\u001B[0;34m,\u001B[0m \u001B[0;34m**\u001B[0m\u001B[0mkwargs\u001B[0m\u001B[0;34m)\u001B[0m\u001B[0;34m\u001B[0m\u001B[0;34m\u001B[0m\u001B[0m\n\u001B[0m\u001B[1;32m    312\u001B[0m \u001B[0;34m\u001B[0m\u001B[0m\n\u001B[1;32m    313\u001B[0m         \u001B[0;32mreturn\u001B[0m \u001B[0mwrapper\u001B[0m\u001B[0;34m\u001B[0m\u001B[0;34m\u001B[0m\u001B[0m\n",
      "\u001B[0;32m/Library/Frameworks/Python.framework/Versions/3.7/lib/python3.7/site-packages/pandas/io/json/_json.py\u001B[0m in \u001B[0;36mread_json\u001B[0;34m(path_or_buf, orient, typ, dtype, convert_axes, convert_dates, keep_default_dates, numpy, precise_float, date_unit, encoding, encoding_errors, lines, chunksize, compression, nrows, storage_options)\u001B[0m\n\u001B[1;32m    612\u001B[0m \u001B[0;34m\u001B[0m\u001B[0m\n\u001B[1;32m    613\u001B[0m     \u001B[0;32mwith\u001B[0m \u001B[0mjson_reader\u001B[0m\u001B[0;34m:\u001B[0m\u001B[0;34m\u001B[0m\u001B[0;34m\u001B[0m\u001B[0m\n\u001B[0;32m--> 614\u001B[0;31m         \u001B[0;32mreturn\u001B[0m \u001B[0mjson_reader\u001B[0m\u001B[0;34m.\u001B[0m\u001B[0mread\u001B[0m\u001B[0;34m(\u001B[0m\u001B[0;34m)\u001B[0m\u001B[0;34m\u001B[0m\u001B[0;34m\u001B[0m\u001B[0m\n\u001B[0m\u001B[1;32m    615\u001B[0m \u001B[0;34m\u001B[0m\u001B[0m\n\u001B[1;32m    616\u001B[0m \u001B[0;34m\u001B[0m\u001B[0m\n",
      "\u001B[0;32m/Library/Frameworks/Python.framework/Versions/3.7/lib/python3.7/site-packages/pandas/io/json/_json.py\u001B[0m in \u001B[0;36mread\u001B[0;34m(self)\u001B[0m\n\u001B[1;32m    746\u001B[0m                 \u001B[0mobj\u001B[0m \u001B[0;34m=\u001B[0m \u001B[0mself\u001B[0m\u001B[0;34m.\u001B[0m\u001B[0m_get_object_parser\u001B[0m\u001B[0;34m(\u001B[0m\u001B[0mself\u001B[0m\u001B[0;34m.\u001B[0m\u001B[0m_combine_lines\u001B[0m\u001B[0;34m(\u001B[0m\u001B[0mdata_lines\u001B[0m\u001B[0;34m)\u001B[0m\u001B[0;34m)\u001B[0m\u001B[0;34m\u001B[0m\u001B[0;34m\u001B[0m\u001B[0m\n\u001B[1;32m    747\u001B[0m         \u001B[0;32melse\u001B[0m\u001B[0;34m:\u001B[0m\u001B[0;34m\u001B[0m\u001B[0;34m\u001B[0m\u001B[0m\n\u001B[0;32m--> 748\u001B[0;31m             \u001B[0mobj\u001B[0m \u001B[0;34m=\u001B[0m \u001B[0mself\u001B[0m\u001B[0;34m.\u001B[0m\u001B[0m_get_object_parser\u001B[0m\u001B[0;34m(\u001B[0m\u001B[0mself\u001B[0m\u001B[0;34m.\u001B[0m\u001B[0mdata\u001B[0m\u001B[0;34m)\u001B[0m\u001B[0;34m\u001B[0m\u001B[0;34m\u001B[0m\u001B[0m\n\u001B[0m\u001B[1;32m    749\u001B[0m         \u001B[0mself\u001B[0m\u001B[0;34m.\u001B[0m\u001B[0mclose\u001B[0m\u001B[0;34m(\u001B[0m\u001B[0;34m)\u001B[0m\u001B[0;34m\u001B[0m\u001B[0;34m\u001B[0m\u001B[0m\n\u001B[1;32m    750\u001B[0m         \u001B[0;32mreturn\u001B[0m \u001B[0mobj\u001B[0m\u001B[0;34m\u001B[0m\u001B[0;34m\u001B[0m\u001B[0m\n",
      "\u001B[0;32m/Library/Frameworks/Python.framework/Versions/3.7/lib/python3.7/site-packages/pandas/io/json/_json.py\u001B[0m in \u001B[0;36m_get_object_parser\u001B[0;34m(self, json)\u001B[0m\n\u001B[1;32m    768\u001B[0m         \u001B[0mobj\u001B[0m \u001B[0;34m=\u001B[0m \u001B[0;32mNone\u001B[0m\u001B[0;34m\u001B[0m\u001B[0;34m\u001B[0m\u001B[0m\n\u001B[1;32m    769\u001B[0m         \u001B[0;32mif\u001B[0m \u001B[0mtyp\u001B[0m \u001B[0;34m==\u001B[0m \u001B[0;34m\"frame\"\u001B[0m\u001B[0;34m:\u001B[0m\u001B[0;34m\u001B[0m\u001B[0;34m\u001B[0m\u001B[0m\n\u001B[0;32m--> 770\u001B[0;31m             \u001B[0mobj\u001B[0m \u001B[0;34m=\u001B[0m \u001B[0mFrameParser\u001B[0m\u001B[0;34m(\u001B[0m\u001B[0mjson\u001B[0m\u001B[0;34m,\u001B[0m \u001B[0;34m**\u001B[0m\u001B[0mkwargs\u001B[0m\u001B[0;34m)\u001B[0m\u001B[0;34m.\u001B[0m\u001B[0mparse\u001B[0m\u001B[0;34m(\u001B[0m\u001B[0;34m)\u001B[0m\u001B[0;34m\u001B[0m\u001B[0;34m\u001B[0m\u001B[0m\n\u001B[0m\u001B[1;32m    771\u001B[0m \u001B[0;34m\u001B[0m\u001B[0m\n\u001B[1;32m    772\u001B[0m         \u001B[0;32mif\u001B[0m \u001B[0mtyp\u001B[0m \u001B[0;34m==\u001B[0m \u001B[0;34m\"series\"\u001B[0m \u001B[0;32mor\u001B[0m \u001B[0mobj\u001B[0m \u001B[0;32mis\u001B[0m \u001B[0;32mNone\u001B[0m\u001B[0;34m:\u001B[0m\u001B[0;34m\u001B[0m\u001B[0;34m\u001B[0m\u001B[0m\n",
      "\u001B[0;32m/Library/Frameworks/Python.framework/Versions/3.7/lib/python3.7/site-packages/pandas/io/json/_json.py\u001B[0m in \u001B[0;36mparse\u001B[0;34m(self)\u001B[0m\n\u001B[1;32m    883\u001B[0m \u001B[0;34m\u001B[0m\u001B[0m\n\u001B[1;32m    884\u001B[0m         \u001B[0;32melse\u001B[0m\u001B[0;34m:\u001B[0m\u001B[0;34m\u001B[0m\u001B[0;34m\u001B[0m\u001B[0m\n\u001B[0;32m--> 885\u001B[0;31m             \u001B[0mself\u001B[0m\u001B[0;34m.\u001B[0m\u001B[0m_parse_no_numpy\u001B[0m\u001B[0;34m(\u001B[0m\u001B[0;34m)\u001B[0m\u001B[0;34m\u001B[0m\u001B[0;34m\u001B[0m\u001B[0m\n\u001B[0m\u001B[1;32m    886\u001B[0m \u001B[0;34m\u001B[0m\u001B[0m\n\u001B[1;32m    887\u001B[0m         \u001B[0;32mif\u001B[0m \u001B[0mself\u001B[0m\u001B[0;34m.\u001B[0m\u001B[0mobj\u001B[0m \u001B[0;32mis\u001B[0m \u001B[0;32mNone\u001B[0m\u001B[0;34m:\u001B[0m\u001B[0;34m\u001B[0m\u001B[0;34m\u001B[0m\u001B[0m\n",
      "\u001B[0;32m/Library/Frameworks/Python.framework/Versions/3.7/lib/python3.7/site-packages/pandas/io/json/_json.py\u001B[0m in \u001B[0;36m_parse_no_numpy\u001B[0;34m(self)\u001B[0m\n\u001B[1;32m   1138\u001B[0m         \u001B[0;32mif\u001B[0m \u001B[0morient\u001B[0m \u001B[0;34m==\u001B[0m \u001B[0;34m\"columns\"\u001B[0m\u001B[0;34m:\u001B[0m\u001B[0;34m\u001B[0m\u001B[0;34m\u001B[0m\u001B[0m\n\u001B[1;32m   1139\u001B[0m             self.obj = DataFrame(\n\u001B[0;32m-> 1140\u001B[0;31m                 \u001B[0mloads\u001B[0m\u001B[0;34m(\u001B[0m\u001B[0mjson\u001B[0m\u001B[0;34m,\u001B[0m \u001B[0mprecise_float\u001B[0m\u001B[0;34m=\u001B[0m\u001B[0mself\u001B[0m\u001B[0;34m.\u001B[0m\u001B[0mprecise_float\u001B[0m\u001B[0;34m)\u001B[0m\u001B[0;34m,\u001B[0m \u001B[0mdtype\u001B[0m\u001B[0;34m=\u001B[0m\u001B[0;32mNone\u001B[0m\u001B[0;34m\u001B[0m\u001B[0;34m\u001B[0m\u001B[0m\n\u001B[0m\u001B[1;32m   1141\u001B[0m             )\n\u001B[1;32m   1142\u001B[0m         \u001B[0;32melif\u001B[0m \u001B[0morient\u001B[0m \u001B[0;34m==\u001B[0m \u001B[0;34m\"split\"\u001B[0m\u001B[0;34m:\u001B[0m\u001B[0;34m\u001B[0m\u001B[0;34m\u001B[0m\u001B[0m\n",
      "\u001B[0;31mValueError\u001B[0m: Unmatched ''\"' when when decoding 'string'"
     ]
    }
   ],
   "source": [
    "probesets = pd.read_json(\"/Users/tushar/pdx/update-data/homo_sapiens_probesets.json\")"
   ],
   "metadata": {
    "collapsed": false
   }
  },
  {
   "cell_type": "code",
   "execution_count": 4,
   "outputs": [],
   "source": [
    "hgnc2ensembl = pd.read_csv(\"/Users/tushar/pdx/update-data/HGNC_2_ENSEMBL.txt\", sep='\\t')\n"
   ],
   "metadata": {
    "collapsed": false
   }
  },
  {
   "cell_type": "code",
   "execution_count": 14,
   "outputs": [
    {
     "data": {
      "text/plain": "   tax_id  GeneID Symbol LocusTag                   Synonyms  \\\n0    9606       1   A1BG        -       A1B|ABG|GAB|HYST2477   \n1    9606       2    A2M        -  A2MD|CPAMD5|FWP007|S863-7   \n2    9606       3  A2MP1        -                       A2MP   \n3    9606       9   NAT1        -       AAC1|MNAT|NAT-1|NATI   \n4    9606      10   NAT2        -            AAC2|NAT-2|PNAT   \n\n                                             dbXrefs chromosome map_location  \\\n0  MIM:138670|HGNC:HGNC:5|Ensembl:ENSG00000121410...         19     19q13.43   \n1  MIM:103950|HGNC:HGNC:7|Ensembl:ENSG00000175899...         12     12p13.31   \n2  HGNC:HGNC:8|Ensembl:ENSG00000256069|AllianceGe...         12     12p13.31   \n3  MIM:108345|HGNC:HGNC:7645|Ensembl:ENSG00000171...          8         8p22   \n4  MIM:612182|HGNC:HGNC:7646|Ensembl:ENSG00000156...          8         8p22   \n\n                          description    type_of_gene  \\\n0              alpha-1-B glycoprotein  protein-coding   \n1               alpha-2-macroglobulin  protein-coding   \n2  alpha-2-macroglobulin pseudogene 1          pseudo   \n3               N-acetyltransferase 1  protein-coding   \n4               N-acetyltransferase 2  protein-coding   \n\n  Symbol_from_nomenclature_authority Full_name_from_nomenclature_authority  \\\n0                               A1BG                alpha-1-B glycoprotein   \n1                                A2M                 alpha-2-macroglobulin   \n2                              A2MP1    alpha-2-macroglobulin pseudogene 1   \n3                               NAT1                 N-acetyltransferase 1   \n4                               NAT2                 N-acetyltransferase 2   \n\n  Nomenclature_status                                 Other_designations  \\\n0                   O  alpha-1B-glycoprotein|HEL-S-163pA|epididymis s...   \n1                   O  alpha-2-macroglobulin|C3 and PZP-like alpha-2-...   \n2                   O                  pregnancy-zone protein pseudogene   \n3                   O  arylamine N-acetyltransferase 1|N-acetyltransf...   \n4                   O  arylamine N-acetyltransferase 2|N-acetyltransf...   \n\n   Modification_date Feature_type       ensembl_id    hgnc_id  \n0           20220605            -  ENSG00000121410     HGNC:5  \n1           20220605            -  ENSG00000175899     HGNC:7  \n2           20220513            -  ENSG00000256069     HGNC:8  \n3           20220522            -  ENSG00000171428  HGNC:7645  \n4           20220522            -  ENSG00000156006  HGNC:7646  ",
      "text/html": "<div>\n<style scoped>\n    .dataframe tbody tr th:only-of-type {\n        vertical-align: middle;\n    }\n\n    .dataframe tbody tr th {\n        vertical-align: top;\n    }\n\n    .dataframe thead th {\n        text-align: right;\n    }\n</style>\n<table border=\"1\" class=\"dataframe\">\n  <thead>\n    <tr style=\"text-align: right;\">\n      <th></th>\n      <th>tax_id</th>\n      <th>GeneID</th>\n      <th>Symbol</th>\n      <th>LocusTag</th>\n      <th>Synonyms</th>\n      <th>dbXrefs</th>\n      <th>chromosome</th>\n      <th>map_location</th>\n      <th>description</th>\n      <th>type_of_gene</th>\n      <th>Symbol_from_nomenclature_authority</th>\n      <th>Full_name_from_nomenclature_authority</th>\n      <th>Nomenclature_status</th>\n      <th>Other_designations</th>\n      <th>Modification_date</th>\n      <th>Feature_type</th>\n      <th>ensembl_id</th>\n      <th>hgnc_id</th>\n    </tr>\n  </thead>\n  <tbody>\n    <tr>\n      <th>0</th>\n      <td>9606</td>\n      <td>1</td>\n      <td>A1BG</td>\n      <td>-</td>\n      <td>A1B|ABG|GAB|HYST2477</td>\n      <td>MIM:138670|HGNC:HGNC:5|Ensembl:ENSG00000121410...</td>\n      <td>19</td>\n      <td>19q13.43</td>\n      <td>alpha-1-B glycoprotein</td>\n      <td>protein-coding</td>\n      <td>A1BG</td>\n      <td>alpha-1-B glycoprotein</td>\n      <td>O</td>\n      <td>alpha-1B-glycoprotein|HEL-S-163pA|epididymis s...</td>\n      <td>20220605</td>\n      <td>-</td>\n      <td>ENSG00000121410</td>\n      <td>HGNC:5</td>\n    </tr>\n    <tr>\n      <th>1</th>\n      <td>9606</td>\n      <td>2</td>\n      <td>A2M</td>\n      <td>-</td>\n      <td>A2MD|CPAMD5|FWP007|S863-7</td>\n      <td>MIM:103950|HGNC:HGNC:7|Ensembl:ENSG00000175899...</td>\n      <td>12</td>\n      <td>12p13.31</td>\n      <td>alpha-2-macroglobulin</td>\n      <td>protein-coding</td>\n      <td>A2M</td>\n      <td>alpha-2-macroglobulin</td>\n      <td>O</td>\n      <td>alpha-2-macroglobulin|C3 and PZP-like alpha-2-...</td>\n      <td>20220605</td>\n      <td>-</td>\n      <td>ENSG00000175899</td>\n      <td>HGNC:7</td>\n    </tr>\n    <tr>\n      <th>2</th>\n      <td>9606</td>\n      <td>3</td>\n      <td>A2MP1</td>\n      <td>-</td>\n      <td>A2MP</td>\n      <td>HGNC:HGNC:8|Ensembl:ENSG00000256069|AllianceGe...</td>\n      <td>12</td>\n      <td>12p13.31</td>\n      <td>alpha-2-macroglobulin pseudogene 1</td>\n      <td>pseudo</td>\n      <td>A2MP1</td>\n      <td>alpha-2-macroglobulin pseudogene 1</td>\n      <td>O</td>\n      <td>pregnancy-zone protein pseudogene</td>\n      <td>20220513</td>\n      <td>-</td>\n      <td>ENSG00000256069</td>\n      <td>HGNC:8</td>\n    </tr>\n    <tr>\n      <th>3</th>\n      <td>9606</td>\n      <td>9</td>\n      <td>NAT1</td>\n      <td>-</td>\n      <td>AAC1|MNAT|NAT-1|NATI</td>\n      <td>MIM:108345|HGNC:HGNC:7645|Ensembl:ENSG00000171...</td>\n      <td>8</td>\n      <td>8p22</td>\n      <td>N-acetyltransferase 1</td>\n      <td>protein-coding</td>\n      <td>NAT1</td>\n      <td>N-acetyltransferase 1</td>\n      <td>O</td>\n      <td>arylamine N-acetyltransferase 1|N-acetyltransf...</td>\n      <td>20220522</td>\n      <td>-</td>\n      <td>ENSG00000171428</td>\n      <td>HGNC:7645</td>\n    </tr>\n    <tr>\n      <th>4</th>\n      <td>9606</td>\n      <td>10</td>\n      <td>NAT2</td>\n      <td>-</td>\n      <td>AAC2|NAT-2|PNAT</td>\n      <td>MIM:612182|HGNC:HGNC:7646|Ensembl:ENSG00000156...</td>\n      <td>8</td>\n      <td>8p22</td>\n      <td>N-acetyltransferase 2</td>\n      <td>protein-coding</td>\n      <td>NAT2</td>\n      <td>N-acetyltransferase 2</td>\n      <td>O</td>\n      <td>arylamine N-acetyltransferase 2|N-acetyltransf...</td>\n      <td>20220522</td>\n      <td>-</td>\n      <td>ENSG00000156006</td>\n      <td>HGNC:7646</td>\n    </tr>\n  </tbody>\n</table>\n</div>"
     },
     "execution_count": 14,
     "metadata": {},
     "output_type": "execute_result"
    }
   ],
   "source": [
    "NCBI_ref = pd.read_csv(\"/Users/tushar/Downloads/Homo_sapiens.gene_info\",sep='\\t')\n",
    "NCBI_ref['ensembl_id'] = NCBI_ref.dbXrefs.apply(lambda x: extract_ensembleid_from_dbxrefs(x))\n",
    "NCBI_ref['hgnc_id'] = NCBI_ref.dbXrefs.apply(lambda x: extract_hgncid_from_dbxrefs(x))\n",
    "NCBI_ref"
   ],
   "metadata": {
    "collapsed": false
   }
  },
  {
   "cell_type": "code",
   "execution_count": 18,
   "outputs": [
    {
     "data": {
      "text/plain": "       tax_id   GeneID    Symbol LocusTag                   Synonyms  \\\n0        9606        1      A1BG        -       A1B|ABG|GAB|HYST2477   \n1        9606        2       A2M        -  A2MD|CPAMD5|FWP007|S863-7   \n2        9606        3     A2MP1        -                       A2MP   \n3        9606        9      NAT1        -       AAC1|MNAT|NAT-1|NATI   \n4        9606       10      NAT2        -            AAC2|NAT-2|PNAT   \n...       ...      ...       ...      ...                        ...   \n75486  741158  8923215      trnD        -                          -   \n75487  741158  8923216      trnP        -                          -   \n75488  741158  8923217      trnA        -                          -   \n75489  741158  8923218      COX1        -                          -   \n75490  741158  8923219  16S rRNA        -                          -   \n\n                                                 dbXrefs chromosome  \\\n0      MIM:138670|HGNC:HGNC:5|Ensembl:ENSG00000121410...         19   \n1      MIM:103950|HGNC:HGNC:7|Ensembl:ENSG00000175899...         12   \n2      HGNC:HGNC:8|Ensembl:ENSG00000256069|AllianceGe...         12   \n3      MIM:108345|HGNC:HGNC:7645|Ensembl:ENSG00000171...          8   \n4      MIM:612182|HGNC:HGNC:7646|Ensembl:ENSG00000156...          8   \n...                                                  ...        ...   \n75486                                                  -         MT   \n75487                                                  -         MT   \n75488                                                  -         MT   \n75489                                                  -         MT   \n75490                                                  -         MT   \n\n      map_location                         description    type_of_gene  \\\n0         19q13.43              alpha-1-B glycoprotein  protein-coding   \n1         12p13.31               alpha-2-macroglobulin  protein-coding   \n2         12p13.31  alpha-2-macroglobulin pseudogene 1          pseudo   \n3             8p22               N-acetyltransferase 1  protein-coding   \n4             8p22               N-acetyltransferase 2  protein-coding   \n...            ...                                 ...             ...   \n75486            -                            tRNA-Asp            tRNA   \n75487            -                            tRNA-Pro            tRNA   \n75488            -                            tRNA-Ala            tRNA   \n75489            -      cytochrome c oxidase subunit I  protein-coding   \n75490            -                              l-rRNA            rRNA   \n\n      Symbol_from_nomenclature_authority  \\\n0                                   A1BG   \n1                                    A2M   \n2                                  A2MP1   \n3                                   NAT1   \n4                                   NAT2   \n...                                  ...   \n75486                                  -   \n75487                                  -   \n75488                                  -   \n75489                                  -   \n75490                                  -   \n\n      Full_name_from_nomenclature_authority Nomenclature_status  \\\n0                    alpha-1-B glycoprotein                   O   \n1                     alpha-2-macroglobulin                   O   \n2        alpha-2-macroglobulin pseudogene 1                   O   \n3                     N-acetyltransferase 1                   O   \n4                     N-acetyltransferase 2                   O   \n...                                     ...                 ...   \n75486                                     -                   -   \n75487                                     -                   -   \n75488                                     -                   -   \n75489                                     -                   -   \n75490                                     -                   -   \n\n                                      Other_designations  Modification_date  \\\n0      alpha-1B-glycoprotein|HEL-S-163pA|epididymis s...           20220605   \n1      alpha-2-macroglobulin|C3 and PZP-like alpha-2-...           20220605   \n2                      pregnancy-zone protein pseudogene           20220513   \n3      arylamine N-acetyltransferase 1|N-acetyltransf...           20220522   \n4      arylamine N-acetyltransferase 2|N-acetyltransf...           20220522   \n...                                                  ...                ...   \n75486                                                  -           20200909   \n75487                                                  -           20200909   \n75488                                                  -           20200909   \n75489                     cytochrome c oxidase subunit I           20200909   \n75490                                                  -           20200909   \n\n      Feature_type       ensembl_id    hgnc_id  \n0                -  ENSG00000121410     HGNC:5  \n1                -  ENSG00000175899     HGNC:7  \n2                -  ENSG00000256069     HGNC:8  \n3                -  ENSG00000171428  HGNC:7645  \n4                -  ENSG00000156006  HGNC:7646  \n...            ...              ...        ...  \n75486            -                              \n75487            -                              \n75488            -                              \n75489            -                              \n75490            -                              \n\n[75491 rows x 18 columns]",
      "text/html": "<div>\n<style scoped>\n    .dataframe tbody tr th:only-of-type {\n        vertical-align: middle;\n    }\n\n    .dataframe tbody tr th {\n        vertical-align: top;\n    }\n\n    .dataframe thead th {\n        text-align: right;\n    }\n</style>\n<table border=\"1\" class=\"dataframe\">\n  <thead>\n    <tr style=\"text-align: right;\">\n      <th></th>\n      <th>tax_id</th>\n      <th>GeneID</th>\n      <th>Symbol</th>\n      <th>LocusTag</th>\n      <th>Synonyms</th>\n      <th>dbXrefs</th>\n      <th>chromosome</th>\n      <th>map_location</th>\n      <th>description</th>\n      <th>type_of_gene</th>\n      <th>Symbol_from_nomenclature_authority</th>\n      <th>Full_name_from_nomenclature_authority</th>\n      <th>Nomenclature_status</th>\n      <th>Other_designations</th>\n      <th>Modification_date</th>\n      <th>Feature_type</th>\n      <th>ensembl_id</th>\n      <th>hgnc_id</th>\n    </tr>\n  </thead>\n  <tbody>\n    <tr>\n      <th>0</th>\n      <td>9606</td>\n      <td>1</td>\n      <td>A1BG</td>\n      <td>-</td>\n      <td>A1B|ABG|GAB|HYST2477</td>\n      <td>MIM:138670|HGNC:HGNC:5|Ensembl:ENSG00000121410...</td>\n      <td>19</td>\n      <td>19q13.43</td>\n      <td>alpha-1-B glycoprotein</td>\n      <td>protein-coding</td>\n      <td>A1BG</td>\n      <td>alpha-1-B glycoprotein</td>\n      <td>O</td>\n      <td>alpha-1B-glycoprotein|HEL-S-163pA|epididymis s...</td>\n      <td>20220605</td>\n      <td>-</td>\n      <td>ENSG00000121410</td>\n      <td>HGNC:5</td>\n    </tr>\n    <tr>\n      <th>1</th>\n      <td>9606</td>\n      <td>2</td>\n      <td>A2M</td>\n      <td>-</td>\n      <td>A2MD|CPAMD5|FWP007|S863-7</td>\n      <td>MIM:103950|HGNC:HGNC:7|Ensembl:ENSG00000175899...</td>\n      <td>12</td>\n      <td>12p13.31</td>\n      <td>alpha-2-macroglobulin</td>\n      <td>protein-coding</td>\n      <td>A2M</td>\n      <td>alpha-2-macroglobulin</td>\n      <td>O</td>\n      <td>alpha-2-macroglobulin|C3 and PZP-like alpha-2-...</td>\n      <td>20220605</td>\n      <td>-</td>\n      <td>ENSG00000175899</td>\n      <td>HGNC:7</td>\n    </tr>\n    <tr>\n      <th>2</th>\n      <td>9606</td>\n      <td>3</td>\n      <td>A2MP1</td>\n      <td>-</td>\n      <td>A2MP</td>\n      <td>HGNC:HGNC:8|Ensembl:ENSG00000256069|AllianceGe...</td>\n      <td>12</td>\n      <td>12p13.31</td>\n      <td>alpha-2-macroglobulin pseudogene 1</td>\n      <td>pseudo</td>\n      <td>A2MP1</td>\n      <td>alpha-2-macroglobulin pseudogene 1</td>\n      <td>O</td>\n      <td>pregnancy-zone protein pseudogene</td>\n      <td>20220513</td>\n      <td>-</td>\n      <td>ENSG00000256069</td>\n      <td>HGNC:8</td>\n    </tr>\n    <tr>\n      <th>3</th>\n      <td>9606</td>\n      <td>9</td>\n      <td>NAT1</td>\n      <td>-</td>\n      <td>AAC1|MNAT|NAT-1|NATI</td>\n      <td>MIM:108345|HGNC:HGNC:7645|Ensembl:ENSG00000171...</td>\n      <td>8</td>\n      <td>8p22</td>\n      <td>N-acetyltransferase 1</td>\n      <td>protein-coding</td>\n      <td>NAT1</td>\n      <td>N-acetyltransferase 1</td>\n      <td>O</td>\n      <td>arylamine N-acetyltransferase 1|N-acetyltransf...</td>\n      <td>20220522</td>\n      <td>-</td>\n      <td>ENSG00000171428</td>\n      <td>HGNC:7645</td>\n    </tr>\n    <tr>\n      <th>4</th>\n      <td>9606</td>\n      <td>10</td>\n      <td>NAT2</td>\n      <td>-</td>\n      <td>AAC2|NAT-2|PNAT</td>\n      <td>MIM:612182|HGNC:HGNC:7646|Ensembl:ENSG00000156...</td>\n      <td>8</td>\n      <td>8p22</td>\n      <td>N-acetyltransferase 2</td>\n      <td>protein-coding</td>\n      <td>NAT2</td>\n      <td>N-acetyltransferase 2</td>\n      <td>O</td>\n      <td>arylamine N-acetyltransferase 2|N-acetyltransf...</td>\n      <td>20220522</td>\n      <td>-</td>\n      <td>ENSG00000156006</td>\n      <td>HGNC:7646</td>\n    </tr>\n    <tr>\n      <th>...</th>\n      <td>...</td>\n      <td>...</td>\n      <td>...</td>\n      <td>...</td>\n      <td>...</td>\n      <td>...</td>\n      <td>...</td>\n      <td>...</td>\n      <td>...</td>\n      <td>...</td>\n      <td>...</td>\n      <td>...</td>\n      <td>...</td>\n      <td>...</td>\n      <td>...</td>\n      <td>...</td>\n      <td>...</td>\n      <td>...</td>\n    </tr>\n    <tr>\n      <th>75486</th>\n      <td>741158</td>\n      <td>8923215</td>\n      <td>trnD</td>\n      <td>-</td>\n      <td>-</td>\n      <td>-</td>\n      <td>MT</td>\n      <td>-</td>\n      <td>tRNA-Asp</td>\n      <td>tRNA</td>\n      <td>-</td>\n      <td>-</td>\n      <td>-</td>\n      <td>-</td>\n      <td>20200909</td>\n      <td>-</td>\n      <td></td>\n      <td></td>\n    </tr>\n    <tr>\n      <th>75487</th>\n      <td>741158</td>\n      <td>8923216</td>\n      <td>trnP</td>\n      <td>-</td>\n      <td>-</td>\n      <td>-</td>\n      <td>MT</td>\n      <td>-</td>\n      <td>tRNA-Pro</td>\n      <td>tRNA</td>\n      <td>-</td>\n      <td>-</td>\n      <td>-</td>\n      <td>-</td>\n      <td>20200909</td>\n      <td>-</td>\n      <td></td>\n      <td></td>\n    </tr>\n    <tr>\n      <th>75488</th>\n      <td>741158</td>\n      <td>8923217</td>\n      <td>trnA</td>\n      <td>-</td>\n      <td>-</td>\n      <td>-</td>\n      <td>MT</td>\n      <td>-</td>\n      <td>tRNA-Ala</td>\n      <td>tRNA</td>\n      <td>-</td>\n      <td>-</td>\n      <td>-</td>\n      <td>-</td>\n      <td>20200909</td>\n      <td>-</td>\n      <td></td>\n      <td></td>\n    </tr>\n    <tr>\n      <th>75489</th>\n      <td>741158</td>\n      <td>8923218</td>\n      <td>COX1</td>\n      <td>-</td>\n      <td>-</td>\n      <td>-</td>\n      <td>MT</td>\n      <td>-</td>\n      <td>cytochrome c oxidase subunit I</td>\n      <td>protein-coding</td>\n      <td>-</td>\n      <td>-</td>\n      <td>-</td>\n      <td>cytochrome c oxidase subunit I</td>\n      <td>20200909</td>\n      <td>-</td>\n      <td></td>\n      <td></td>\n    </tr>\n    <tr>\n      <th>75490</th>\n      <td>741158</td>\n      <td>8923219</td>\n      <td>16S rRNA</td>\n      <td>-</td>\n      <td>-</td>\n      <td>-</td>\n      <td>MT</td>\n      <td>-</td>\n      <td>l-rRNA</td>\n      <td>rRNA</td>\n      <td>-</td>\n      <td>-</td>\n      <td>-</td>\n      <td>-</td>\n      <td>20200909</td>\n      <td>-</td>\n      <td></td>\n      <td></td>\n    </tr>\n  </tbody>\n</table>\n<p>75491 rows × 18 columns</p>\n</div>"
     },
     "execution_count": 18,
     "metadata": {},
     "output_type": "execute_result"
    }
   ],
   "source": [
    "NCBI_ref"
   ],
   "metadata": {
    "collapsed": false
   }
  },
  {
   "cell_type": "code",
   "execution_count": 5,
   "outputs": [
    {
     "data": {
      "text/plain": "      HGNC ID Approved symbol  \\\n0   HGNC:2781            DFN8   \n1  HGNC:48698         ENPP7P6   \n2   HGNC:2821          DFNB15   \n3  HGNC:12740            WBS2   \n4    HGNC:109           ACHM1   \n\n                                       Approved name            Status  \\\n0                               deafness, X-linked 8   Entry Withdrawn   \n1  ectonucleotide pyrophosphatase/phosphodiestera...          Approved   \n2  symbol withdrawn, see [HGNC:18183](/data/gene-...  Symbol Withdrawn   \n3                    Williams-Beuren syndrome type 2   Entry Withdrawn   \n4  symbol withdrawn, see [HGNC:2153](/data/gene-s...  Symbol Withdrawn   \n\n  Previous symbols Alias symbols  Chromosome Accession numbers RefSeq IDs  \\\n0              NaN           NaN    reserved               NaN        NaN   \n1              NaN           NaN      8p23.1               NaN        NaN   \n2              NaN           NaN     3 or 19               NaN        NaN   \n3              WBS            WS  4q33-q35.1               NaN        NaN   \n4             RMCH           NaN          14               NaN        NaN   \n\n  Ensembl ID(supplied by Ensembl)  NCBI Gene ID(supplied by NCBI)  \\\n0                             NaN                             NaN   \n1                 ENSG00000255549                     107133511.0   \n2                             NaN                             NaN   \n3                             NaN                             NaN   \n4                             NaN                             NaN   \n\n   Ensembl gene ID      Locus type Locus group  NCBI Gene ID  \n0              NaN  phenotype only   phenotype           NaN  \n1  ENSG00000255549      pseudogene  pseudogene           NaN  \n2              NaN  phenotype only   phenotype           NaN  \n3              NaN  phenotype only   phenotype           NaN  \n4              NaN  phenotype only   phenotype           NaN  ",
      "text/html": "<div>\n<style scoped>\n    .dataframe tbody tr th:only-of-type {\n        vertical-align: middle;\n    }\n\n    .dataframe tbody tr th {\n        vertical-align: top;\n    }\n\n    .dataframe thead th {\n        text-align: right;\n    }\n</style>\n<table border=\"1\" class=\"dataframe\">\n  <thead>\n    <tr style=\"text-align: right;\">\n      <th></th>\n      <th>HGNC ID</th>\n      <th>Approved symbol</th>\n      <th>Approved name</th>\n      <th>Status</th>\n      <th>Previous symbols</th>\n      <th>Alias symbols</th>\n      <th>Chromosome</th>\n      <th>Accession numbers</th>\n      <th>RefSeq IDs</th>\n      <th>Ensembl ID(supplied by Ensembl)</th>\n      <th>NCBI Gene ID(supplied by NCBI)</th>\n      <th>Ensembl gene ID</th>\n      <th>Locus type</th>\n      <th>Locus group</th>\n      <th>NCBI Gene ID</th>\n    </tr>\n  </thead>\n  <tbody>\n    <tr>\n      <th>0</th>\n      <td>HGNC:2781</td>\n      <td>DFN8</td>\n      <td>deafness, X-linked 8</td>\n      <td>Entry Withdrawn</td>\n      <td>NaN</td>\n      <td>NaN</td>\n      <td>reserved</td>\n      <td>NaN</td>\n      <td>NaN</td>\n      <td>NaN</td>\n      <td>NaN</td>\n      <td>NaN</td>\n      <td>phenotype only</td>\n      <td>phenotype</td>\n      <td>NaN</td>\n    </tr>\n    <tr>\n      <th>1</th>\n      <td>HGNC:48698</td>\n      <td>ENPP7P6</td>\n      <td>ectonucleotide pyrophosphatase/phosphodiestera...</td>\n      <td>Approved</td>\n      <td>NaN</td>\n      <td>NaN</td>\n      <td>8p23.1</td>\n      <td>NaN</td>\n      <td>NaN</td>\n      <td>ENSG00000255549</td>\n      <td>107133511.0</td>\n      <td>ENSG00000255549</td>\n      <td>pseudogene</td>\n      <td>pseudogene</td>\n      <td>NaN</td>\n    </tr>\n    <tr>\n      <th>2</th>\n      <td>HGNC:2821</td>\n      <td>DFNB15</td>\n      <td>symbol withdrawn, see [HGNC:18183](/data/gene-...</td>\n      <td>Symbol Withdrawn</td>\n      <td>NaN</td>\n      <td>NaN</td>\n      <td>3 or 19</td>\n      <td>NaN</td>\n      <td>NaN</td>\n      <td>NaN</td>\n      <td>NaN</td>\n      <td>NaN</td>\n      <td>phenotype only</td>\n      <td>phenotype</td>\n      <td>NaN</td>\n    </tr>\n    <tr>\n      <th>3</th>\n      <td>HGNC:12740</td>\n      <td>WBS2</td>\n      <td>Williams-Beuren syndrome type 2</td>\n      <td>Entry Withdrawn</td>\n      <td>WBS</td>\n      <td>WS</td>\n      <td>4q33-q35.1</td>\n      <td>NaN</td>\n      <td>NaN</td>\n      <td>NaN</td>\n      <td>NaN</td>\n      <td>NaN</td>\n      <td>phenotype only</td>\n      <td>phenotype</td>\n      <td>NaN</td>\n    </tr>\n    <tr>\n      <th>4</th>\n      <td>HGNC:109</td>\n      <td>ACHM1</td>\n      <td>symbol withdrawn, see [HGNC:2153](/data/gene-s...</td>\n      <td>Symbol Withdrawn</td>\n      <td>RMCH</td>\n      <td>NaN</td>\n      <td>14</td>\n      <td>NaN</td>\n      <td>NaN</td>\n      <td>NaN</td>\n      <td>NaN</td>\n      <td>NaN</td>\n      <td>phenotype only</td>\n      <td>phenotype</td>\n      <td>NaN</td>\n    </tr>\n  </tbody>\n</table>\n</div>"
     },
     "execution_count": 5,
     "metadata": {},
     "output_type": "execute_result"
    }
   ],
   "source": [
    "hgnc2ensembl.head()"
   ],
   "metadata": {
    "collapsed": false
   }
  },
  {
   "cell_type": "code",
   "execution_count": 16,
   "outputs": [
    {
     "data": {
      "text/plain": "[[{'display_id': 'ENSG00000279719',\n   'primary_id': 'ENSG00000279719',\n   'info_text': '',\n   'info_type': 'DIRECT',\n   'db_display': 'Expression Atlas',\n   'description': None,\n   'dbname': 'ArrayExpress'}]]"
     },
     "execution_count": 16,
     "metadata": {},
     "output_type": "execute_result"
    }
   ],
   "source": [
    "Reference[Reference.id == 'ENSG00000279719']['xrefs'].to_list()"
   ],
   "metadata": {
    "collapsed": false
   }
  },
  {
   "cell_type": "code",
   "execution_count": 11,
   "outputs": [],
   "source": [
    "hgnc2ensembl = pd.read_csv(\"/Users/tushar/pdx/update-data/HGNC_2_ENSEMBL.txt\", sep='\\t')\n",
    "hgnc2ensembl = hgnc2ensembl[['HGNC ID', \"Approved symbol\",\"Ensembl gene ID\", \"Status\"]].rename({\"HGNC ID\":'hgnc_id',\"Ensembl gene ID\":'ensembl_id',\"Approved symbol\":'symbol'},axis=1)\n",
    "hgnc2ensembl = hgnc2ensembl[hgnc2ensembl[\"Status\"]==\"Approved\"]"
   ],
   "metadata": {
    "collapsed": false
   }
  },
  {
   "cell_type": "code",
   "execution_count": 12,
   "outputs": [],
   "source": [
    "def extract_ensembleid_from_dbxrefs(row):\n",
    "    row = row.split(\"|\")\n",
    "    id = [x.split(\":\")[1] for x in row if \"Ensembl\" in x]\n",
    "    if len(id)>0:\n",
    "        return id[0]\n",
    "    else:\n",
    "        return \"\"\n",
    "def extract_hgncid_from_dbxrefs(row):\n",
    "    row = row.split(\"|\")\n",
    "    id = [x.split(\":\")[2] for x in row if \"HGNC\" in x]\n",
    "    if len(id)>0:\n",
    "        return \"HGNC:\"+str(id[0])\n",
    "    else:\n",
    "        return \"\"\n",
    "def find_missing(row, hgnc2ensembl):\n",
    "    if row.ensembl_id==\"\":\n",
    "        match = hgnc2ensembl[hgnc2ensembl.hgnc_id==row.hgnc_id]\n",
    "        if len(match)>0:\n",
    "            row.ensembl_id = match.iloc[0,2]\n",
    "    return row\n",
    "NCBI_ref = pd.read_csv(\"/Users/tushar/Downloads/Homo_sapiens.gene_info\",sep='\\t')\n",
    "NCBI_ref['ensembl_id'] = NCBI_ref.dbXrefs.apply(lambda x: extract_ensembleid_from_dbxrefs(x))\n",
    "NCBI_ref['hgnc_id'] = NCBI_ref.dbXrefs.apply(lambda x: extract_hgncid_from_dbxrefs(x))\n",
    "NCBI_ref = NCBI_ref.apply(find_missing, hgnc2ensembl=hgnc2ensembl, axis=1)"
   ],
   "metadata": {
    "collapsed": false
   }
  },
  {
   "cell_type": "code",
   "execution_count": 13,
   "outputs": [
    {
     "data": {
      "text/plain": "   tax_id  GeneID Symbol LocusTag                   Synonyms  \\\n0    9606       1   A1BG        -       A1B|ABG|GAB|HYST2477   \n1    9606       2    A2M        -  A2MD|CPAMD5|FWP007|S863-7   \n2    9606       3  A2MP1        -                       A2MP   \n3    9606       9   NAT1        -       AAC1|MNAT|NAT-1|NATI   \n4    9606      10   NAT2        -            AAC2|NAT-2|PNAT   \n\n                                             dbXrefs chromosome map_location  \\\n0  MIM:138670|HGNC:HGNC:5|Ensembl:ENSG00000121410...         19     19q13.43   \n1  MIM:103950|HGNC:HGNC:7|Ensembl:ENSG00000175899...         12     12p13.31   \n2  HGNC:HGNC:8|Ensembl:ENSG00000256069|AllianceGe...         12     12p13.31   \n3  MIM:108345|HGNC:HGNC:7645|Ensembl:ENSG00000171...          8         8p22   \n4  MIM:612182|HGNC:HGNC:7646|Ensembl:ENSG00000156...          8         8p22   \n\n                          description    type_of_gene  \\\n0              alpha-1-B glycoprotein  protein-coding   \n1               alpha-2-macroglobulin  protein-coding   \n2  alpha-2-macroglobulin pseudogene 1          pseudo   \n3               N-acetyltransferase 1  protein-coding   \n4               N-acetyltransferase 2  protein-coding   \n\n  Symbol_from_nomenclature_authority Full_name_from_nomenclature_authority  \\\n0                               A1BG                alpha-1-B glycoprotein   \n1                                A2M                 alpha-2-macroglobulin   \n2                              A2MP1    alpha-2-macroglobulin pseudogene 1   \n3                               NAT1                 N-acetyltransferase 1   \n4                               NAT2                 N-acetyltransferase 2   \n\n  Nomenclature_status                                 Other_designations  \\\n0                   O  alpha-1B-glycoprotein|HEL-S-163pA|epididymis s...   \n1                   O  alpha-2-macroglobulin|C3 and PZP-like alpha-2-...   \n2                   O                  pregnancy-zone protein pseudogene   \n3                   O  arylamine N-acetyltransferase 1|N-acetyltransf...   \n4                   O  arylamine N-acetyltransferase 2|N-acetyltransf...   \n\n   Modification_date Feature_type       ensembl_id    hgnc_id  \n0           20220605            -  ENSG00000121410     HGNC:5  \n1           20220605            -  ENSG00000175899     HGNC:7  \n2           20220513            -  ENSG00000256069     HGNC:8  \n3           20220522            -  ENSG00000171428  HGNC:7645  \n4           20220522            -  ENSG00000156006  HGNC:7646  ",
      "text/html": "<div>\n<style scoped>\n    .dataframe tbody tr th:only-of-type {\n        vertical-align: middle;\n    }\n\n    .dataframe tbody tr th {\n        vertical-align: top;\n    }\n\n    .dataframe thead th {\n        text-align: right;\n    }\n</style>\n<table border=\"1\" class=\"dataframe\">\n  <thead>\n    <tr style=\"text-align: right;\">\n      <th></th>\n      <th>tax_id</th>\n      <th>GeneID</th>\n      <th>Symbol</th>\n      <th>LocusTag</th>\n      <th>Synonyms</th>\n      <th>dbXrefs</th>\n      <th>chromosome</th>\n      <th>map_location</th>\n      <th>description</th>\n      <th>type_of_gene</th>\n      <th>Symbol_from_nomenclature_authority</th>\n      <th>Full_name_from_nomenclature_authority</th>\n      <th>Nomenclature_status</th>\n      <th>Other_designations</th>\n      <th>Modification_date</th>\n      <th>Feature_type</th>\n      <th>ensembl_id</th>\n      <th>hgnc_id</th>\n    </tr>\n  </thead>\n  <tbody>\n    <tr>\n      <th>0</th>\n      <td>9606</td>\n      <td>1</td>\n      <td>A1BG</td>\n      <td>-</td>\n      <td>A1B|ABG|GAB|HYST2477</td>\n      <td>MIM:138670|HGNC:HGNC:5|Ensembl:ENSG00000121410...</td>\n      <td>19</td>\n      <td>19q13.43</td>\n      <td>alpha-1-B glycoprotein</td>\n      <td>protein-coding</td>\n      <td>A1BG</td>\n      <td>alpha-1-B glycoprotein</td>\n      <td>O</td>\n      <td>alpha-1B-glycoprotein|HEL-S-163pA|epididymis s...</td>\n      <td>20220605</td>\n      <td>-</td>\n      <td>ENSG00000121410</td>\n      <td>HGNC:5</td>\n    </tr>\n    <tr>\n      <th>1</th>\n      <td>9606</td>\n      <td>2</td>\n      <td>A2M</td>\n      <td>-</td>\n      <td>A2MD|CPAMD5|FWP007|S863-7</td>\n      <td>MIM:103950|HGNC:HGNC:7|Ensembl:ENSG00000175899...</td>\n      <td>12</td>\n      <td>12p13.31</td>\n      <td>alpha-2-macroglobulin</td>\n      <td>protein-coding</td>\n      <td>A2M</td>\n      <td>alpha-2-macroglobulin</td>\n      <td>O</td>\n      <td>alpha-2-macroglobulin|C3 and PZP-like alpha-2-...</td>\n      <td>20220605</td>\n      <td>-</td>\n      <td>ENSG00000175899</td>\n      <td>HGNC:7</td>\n    </tr>\n    <tr>\n      <th>2</th>\n      <td>9606</td>\n      <td>3</td>\n      <td>A2MP1</td>\n      <td>-</td>\n      <td>A2MP</td>\n      <td>HGNC:HGNC:8|Ensembl:ENSG00000256069|AllianceGe...</td>\n      <td>12</td>\n      <td>12p13.31</td>\n      <td>alpha-2-macroglobulin pseudogene 1</td>\n      <td>pseudo</td>\n      <td>A2MP1</td>\n      <td>alpha-2-macroglobulin pseudogene 1</td>\n      <td>O</td>\n      <td>pregnancy-zone protein pseudogene</td>\n      <td>20220513</td>\n      <td>-</td>\n      <td>ENSG00000256069</td>\n      <td>HGNC:8</td>\n    </tr>\n    <tr>\n      <th>3</th>\n      <td>9606</td>\n      <td>9</td>\n      <td>NAT1</td>\n      <td>-</td>\n      <td>AAC1|MNAT|NAT-1|NATI</td>\n      <td>MIM:108345|HGNC:HGNC:7645|Ensembl:ENSG00000171...</td>\n      <td>8</td>\n      <td>8p22</td>\n      <td>N-acetyltransferase 1</td>\n      <td>protein-coding</td>\n      <td>NAT1</td>\n      <td>N-acetyltransferase 1</td>\n      <td>O</td>\n      <td>arylamine N-acetyltransferase 1|N-acetyltransf...</td>\n      <td>20220522</td>\n      <td>-</td>\n      <td>ENSG00000171428</td>\n      <td>HGNC:7645</td>\n    </tr>\n    <tr>\n      <th>4</th>\n      <td>9606</td>\n      <td>10</td>\n      <td>NAT2</td>\n      <td>-</td>\n      <td>AAC2|NAT-2|PNAT</td>\n      <td>MIM:612182|HGNC:HGNC:7646|Ensembl:ENSG00000156...</td>\n      <td>8</td>\n      <td>8p22</td>\n      <td>N-acetyltransferase 2</td>\n      <td>protein-coding</td>\n      <td>NAT2</td>\n      <td>N-acetyltransferase 2</td>\n      <td>O</td>\n      <td>arylamine N-acetyltransferase 2|N-acetyltransf...</td>\n      <td>20220522</td>\n      <td>-</td>\n      <td>ENSG00000156006</td>\n      <td>HGNC:7646</td>\n    </tr>\n  </tbody>\n</table>\n</div>"
     },
     "execution_count": 13,
     "metadata": {},
     "output_type": "execute_result"
    }
   ],
   "source": [
    "NCBI_ref.head()"
   ],
   "metadata": {
    "collapsed": false
   }
  },
  {
   "cell_type": "code",
   "execution_count": 10,
   "outputs": [],
   "source": [
    "subset = Reference[[\"id\",\"name\", \"seq_region_name\", \"strand\", \"start\", \"end\", \"coord_system\", \"synonyms\"]]\n",
    "subset = pd.concat([subset, subset.coord_system.apply(pd.Series)], axis=1).drop(\"coord_system\", axis=1)\n",
    "matched_genes = subset.loc[subset[\"id\"].isin(flat_gene_list)]\n",
    "ncbi_ensemble = NCBI_ref[[\"GeneID\", \"Symbol\", \"ensembl_id\", \"chromosome\",\"map_location\"]].rename({'ensembl_id':'id'}, axis=1).merge(subset, on='id', how='left')\n",
    "#with open('/Users/tushar/pdx/update-data/outfile_json', 'wb') as fp:\n",
    "#    pickle.dump(matched_genes, fp)"
   ],
   "metadata": {
    "collapsed": false
   }
  },
  {
   "cell_type": "code",
   "execution_count": 8,
   "outputs": [],
   "source": [
    "with open ('/Users/tushar/pdx/update-data/outfile_json', 'rb') as fp:\n",
    "   matched_genes = pickle.load(fp)"
   ],
   "metadata": {
    "collapsed": false
   }
  },
  {
   "cell_type": "code",
   "execution_count": 9,
   "outputs": [],
   "source": [
    "def lift_genomic_coordinates(path, matched_genes):\n",
    "    tsv_files = [f for f in get_files(path, []) if f.endswith('.tsv')]\n",
    "    if len(tsv_files)>0:\n",
    "        for f in tsv_files:\n",
    "            metadata = pd.read_csv(f, sep='\\t', na_values=\"\", low_memory=False)\n",
    "            cols = metadata.columns.insert(2,'strand')\n",
    "            metadata['id'] = metadata.ensembl_gene_id.str.split('.', expand=True)[0].astype(str)\n",
    "            merged = metadata.merge(matched_genes, on='id', how='left')\n",
    "            merged[['chromosome', 'seq_start_position','seq_end_position']] = merged[['seq_name','start','end']]\n",
    "            merged[cols].to_csv(f,sep='\\t', index=False)"
   ],
   "metadata": {
    "collapsed": false
   }
  },
  {
   "cell_type": "code",
   "execution_count": 18,
   "outputs": [],
   "source": [
    "def find_gene_id(row, ncbi_ref):\n",
    "    match = ncbi_ref[ncbi_ref.Symbol.str.lower() == row.loc['symbol'].lower()]\n",
    "    if len(match)>0:\n",
    "        row.ncbi_gene_id = match.iloc[0,1]\n",
    "    else:\n",
    "        pattern = \"(^|\\|)\"+row.loc['symbol'].lower()+\"($|\\|)\"\n",
    "        synonym_match = ncbi_ref.loc[ncbi_ref['Synonyms'].str.lower().str.contains(pattern)]\n",
    "        if len(synonym_match) == 1:\n",
    "            row.ncbi_gene_id = synonym_match.iloc[0,1]\n",
    "    return row\n",
    "\n",
    "def find_ensembl_id_from_synonym(row, gene_synonyms):\n",
    "    match = gene_synonyms[gene_synonyms.iloc[:,1].str.lower() == row.loc['symbol'].lower()]\n",
    "    if len(match)>0:\n",
    "        match = match.reset_index(drop=True)\n",
    "        row.chromosome, row.seq_start_position,row.seq_end_position, row.ensembl_gene_id = match['seq_name'][0],match['start'][0],match['end'][0], match['id'][0]\n",
    "    else:\n",
    "        pattern = \"(^|,)\"+row.loc['symbol'].lower()+\"($|,)\"\n",
    "        synonym_match = gene_synonyms.loc[gene_synonyms['synonyms'].str.lower().str.contains(pattern)]\n",
    "        if len(synonym_match) == 1:\n",
    "            synonym_match = synonym_match.reset_index(drop=True)\n",
    "            row.chromosome, row.seq_start_position,row.seq_end_position, row.ensembl_gene_id = synonym_match['seq_name'][0],synonym_match['start'][0],synonym_match['end'][0], synonym_match['id'][0]\n",
    "    return row\n",
    "\n",
    "def lift_cna_data(file, ncbi_ensemble, gene_synonyms, log2):\n",
    "    metadata = pd.read_csv(file, sep='\\t', na_values=\"\", low_memory=False)\n",
    "    if 'strand' not in metadata.columns:\n",
    "        cols = metadata.columns.insert(2,'strand')\n",
    "    else:\n",
    "        cols = metadata.columns\n",
    "        metadata = metadata.rename({'strand':'strand_temp'},axis=1)\n",
    "    if \"PIVOT\" in file:\n",
    "        metadata['temp'] = metadata['ensembl_gene_id']\n",
    "        metadata['ensembl_gene_id'] = metadata['ncbi_gene_id']\n",
    "        metadata['ncbi_gene_id'] = metadata['temp']\n",
    "    if len(metadata[metadata.ncbi_gene_id.isna()])>0:\n",
    "        metadata[metadata.ncbi_gene_id.isna()] = metadata[metadata.ncbi_gene_id.isna()].apply(find_gene_id, ncbi_ref=NCBI_ref, axis=1)\n",
    "    metadata['GeneID'] = metadata['ncbi_gene_id']\n",
    "    merged = metadata.merge(ncbi_ensemble, on='GeneID', how='left')\n",
    "    merged[['chromosome', 'seq_start_position','seq_end_position', 'ensembl_gene_id']] = merged[['seq_name','start','end', 'id']]\n",
    "    missed = merged[['chromosome','seq_start_position']].isnull().any(axis=1)\n",
    "    if len(merged[missed])>0:\n",
    "        merged[missed] = merged[missed].apply(find_ensembl_id_from_synonym, gene_synonyms=gene_synonyms, axis=1)\n",
    "    missed = merged[merged[['seq_region_name', 'start']].isnull().any(axis=1)].symbol\n",
    "    if len(missed)>0:\n",
    "        log2.info(\"Could not lift \"+str(len(missed))+\" out of \"+str(len(merged))+\" data points with gene symbol: [\\'\"+ \"\\', \\'\".join(missed)+'\\']')\n",
    "    merged[cols].to_csv(file,sep='\\t', index=False)\n",
    "\n",
    "def lift_genomic_coordinates_ncbi(path, ncbi_ensemble, gene_synonyms, log2):\n",
    "    tsv_files = [f for f in get_files(path, []) if f.endswith('.tsv')]\n",
    "    if len(tsv_files)>0:\n",
    "        for f in tsv_files:\n",
    "            if \"PIVOT_cna_ALL-02.tsv\" not in f and \"PIVOT_cna_ALL-16.tsv\" not in f:\n",
    "                print(\"Lifting: \"+f)\n",
    "                log2.info(\"Lifting: \"+f)\n",
    "                lift_cna_data(f, ncbi_ensemble, gene_synonyms, log2)"
   ],
   "metadata": {
    "collapsed": false
   }
  },
  {
   "cell_type": "code",
   "execution_count": 86,
   "outputs": [],
   "source": [
    "provider_list = [\"CRL\"]\n",
    "for provider in get_dirs(home): ## get_dirs will get the provider dirs in updog\n",
    "    if provider in provider_list:\n",
    "        cna_path= join(home, provider, 'cna')\n",
    "        if exists(cna_path):\n",
    "            log.info(\"Working on provider: \"+provider)\n",
    "            lift_genomic_coordinates(cna_path, matched_genes)"
   ],
   "metadata": {
    "collapsed": false
   }
  },
  {
   "cell_type": "code",
   "execution_count": 21,
   "outputs": [
    {
     "name": "stdout",
     "output_type": "stream",
     "text": [
      "Lifting: /Users/tushar/pdx/pdxfinder-data/data/UPDOG/IRCC-GC/cna/IRCC-GC_cna.tsv\n"
     ]
    },
    {
     "name": "stderr",
     "output_type": "stream",
     "text": [
      "/Library/Frameworks/Python.framework/Versions/3.7/lib/python3.7/site-packages/ipykernel_launcher.py:7: UserWarning: This pattern has match groups. To actually get the groups, use str.extract.\n",
      "  import sys\n",
      "/Library/Frameworks/Python.framework/Versions/3.7/lib/python3.7/site-packages/ipykernel_launcher.py:19: UserWarning: This pattern has match groups. To actually get the groups, use str.extract.\n"
     ]
    }
   ],
   "source": [
    "provider_list = [\"IRCC-GC\"]\n",
    "gene_synonyms = subset[['id','name', 'synonyms', 'seq_name', 'strand', 'start', 'end']].dropna(axis=0).reset_index(drop=True)\n",
    "gene_synonyms['synonyms'] = gene_synonyms.synonyms.apply(lambda x: ', '.join(x))\n",
    "for provider in get_dirs(home): ## get_dirs will get the provider dirs in updog\n",
    "    if provider in provider_list:\n",
    "        log2 = logging.getLogger(__name__)\n",
    "        logging.basicConfig(filename= provider+'_cna.log', level=logging.INFO, format='%(levelname)s:%(asctime)s: %(message)s', datefmt='%d/%m/%Y %I:%M %p')\n",
    "        log2.info(\"\\n\\nWorking on provider: \"+provider)\n",
    "        cna_path= join(home, provider, 'cna')\n",
    "        if exists(cna_path):\n",
    "            lift_genomic_coordinates_ncbi(cna_path, ncbi_ensemble, gene_synonyms, log2)"
   ],
   "metadata": {
    "collapsed": false
   }
  },
  {
   "cell_type": "code",
   "execution_count": 75,
   "outputs": [
    {
     "name": "stdout",
     "output_type": "stream",
     "text": [
      "Lifting: /Users/tushar/pdx/pdxfinder-data/data_quarantine/UPDOG/LIH/cna/LIH_cna_T361.tsv\n",
      "Lifting: /Users/tushar/pdx/pdxfinder-data/data_quarantine/UPDOG/LIH/cna/LIH_cna_T407.tsv\n",
      "Lifting: /Users/tushar/pdx/pdxfinder-data/data_quarantine/UPDOG/LIH/cna/LIH_cna_T188.tsv\n",
      "Lifting: /Users/tushar/pdx/pdxfinder-data/data_quarantine/UPDOG/LIH/cna/LIH_cna_T158.tsv\n",
      "Lifting: /Users/tushar/pdx/pdxfinder-data/data_quarantine/UPDOG/LIH/cna/LIH_cna_T239.tsv\n",
      "Lifting: /Users/tushar/pdx/pdxfinder-data/data_quarantine/UPDOG/LIH/cna/LIH_cna_P13.tsv\n",
      "Lifting: /Users/tushar/pdx/pdxfinder-data/data_quarantine/UPDOG/LIH/cna/LIH_cna_T238.tsv\n",
      "Lifting: /Users/tushar/pdx/pdxfinder-data/data_quarantine/UPDOG/LIH/cna/LIH_cna_T16.tsv\n",
      "Lifting: /Users/tushar/pdx/pdxfinder-data/data_quarantine/UPDOG/LIH/cna/LIH_cna_T101.tsv\n",
      "Lifting: /Users/tushar/pdx/pdxfinder-data/data_quarantine/UPDOG/LIH/cna/LIH_cna_T470.tsv\n",
      "Lifting: /Users/tushar/pdx/pdxfinder-data/data_quarantine/UPDOG/LIH/cna/LIH_cna_P3.tsv\n",
      "Lifting: /Users/tushar/pdx/pdxfinder-data/data_quarantine/UPDOG/LIH/cna/LIH_cna_T476.tsv\n",
      "Lifting: /Users/tushar/pdx/pdxfinder-data/data_quarantine/UPDOG/LIH/cna/LIH_cna_P8.tsv\n",
      "Lifting: /Users/tushar/pdx/pdxfinder-data/data_quarantine/UPDOG/LIH/cna/LIH_cna_T251.tsv\n",
      "Lifting: /Users/tushar/pdx/pdxfinder-data/data_quarantine/UPDOG/LIH/cna/LIH_cna_T331.tsv\n",
      "Lifting: /Users/tushar/pdx/pdxfinder-data/data_quarantine/UPDOG/LIH/cna/LIH_cna_T341.tsv\n",
      "Lifting: /Users/tushar/pdx/pdxfinder-data/data_quarantine/UPDOG/LIH/cna/LIH_cna_T394.tsv\n",
      "Lifting: /Users/tushar/pdx/pdxfinder-data/data_quarantine/UPDOG/LIH/cna/LIH_cna_T186.tsv\n",
      "Lifting: /Users/tushar/pdx/pdxfinder-data/data_quarantine/UPDOG/LIH/cna/LIH_cna_T192.tsv\n",
      "Lifting: /Users/tushar/pdx/pdxfinder-data/data_quarantine/UPDOG/LIH/cna/LIH_cna_T347.tsv\n",
      "Lifting: /Users/tushar/pdx/pdxfinder-data/data_quarantine/UPDOG/LIH/cna/LIH_cna_T233.tsv\n",
      "Lifting: /Users/tushar/pdx/pdxfinder-data/data_quarantine/UPDOG/LIH/cna/LIH_cna_T434.tsv\n",
      "Lifting: /Users/tushar/pdx/pdxfinder-data/data_quarantine/UPDOG/LIH/cna/LIH_cna_T185.tsv\n"
     ]
    }
   ],
   "source": [
    "cyto2coordinates = pd.read_csv(\"/Users/tushar/pdx/update-data/cytoBand.txt\", sep='\\t', names=[\"chromosome\", \"start_pos\", \"end_pos\", \"cytoband\", \"info\"])\n",
    "cyto2coordinates = cyto2coordinates[cyto2coordinates.cytoband.isna() == False]\n",
    "\n",
    "def convert_cytoband2coord(row, cytobands):\n",
    "    sample = cytobands[cytobands.chromosome == 'chr'+str(row.chromosome)]\n",
    "    if len(sample[sample.cytoband == row.chromosome_band_end])==1 and len(sample[sample.cytoband == row.chromosome_band_start])==1:\n",
    "        row['seq_start_position'], row['seq_end_position'] = sample[sample.cytoband == row.chromosome_band_start]['start_pos'].reset_index(drop=True)[0], sample[sample.cytoband == row.chromosome_band_end]['end_pos'].reset_index(drop=True)[0]\n",
    "    return row\n",
    "\n",
    "def convert_cytobands(file_path, cytobands, log3):\n",
    "    metadata = pd.read_csv(file_path, sep='\\t', na_values=\"\", low_memory=False)\n",
    "    if 'strand' not in metadata.columns:\n",
    "        cols = metadata.columns.insert(2,'strand').drop([\"chromosome_band_start\", \"chromosome_band_end\"])\n",
    "        metadata['strand'] = ''\n",
    "    metadata = metadata.apply(convert_cytoband2coord, cytobands=cytobands, axis=1)\n",
    "    missed = metadata[metadata[['chromosome','seq_start_position']].isnull().any(axis=1)]\n",
    "    if len(missed)>0:\n",
    "        log3.info(\"Could not lift \"+str(len(missed))+\" out of \"+str(len(metadata))+\" data points.\")\n",
    "    metadata[cols].to_csv(file_path,sep='\\t', index=False)\n",
    "\n",
    "def fetch_LIH(path, cytobands):\n",
    "    log3 = logging.getLogger(__name__)\n",
    "    logging.basicConfig(filename= 'LIH_cna.log', level=logging.INFO, format='%(levelname)s:%(asctime)s: %(message)s', datefmt='%d/%m/%Y %I:%M %p')\n",
    "    log3.info(\"\\n\\nWorking on provider: LIH\")\n",
    "    tsv_files = [f for f in get_files(path, []) if f.endswith('.tsv')]\n",
    "    if len(tsv_files)>0:\n",
    "        for f in tsv_files:\n",
    "            print(\"Lifting: \"+f)\n",
    "            log2.info(\"Lifting: \"+f)\n",
    "            convert_cytobands(f, cytobands,log3)\n",
    "\n",
    "LIH_path = '/Users/tushar/pdx/pdxfinder-data/data_quarantine/UPDOG/LIH/cna/'\n",
    "fetch_LIH(LIH_path, cyto2coordinates)"
   ],
   "metadata": {
    "collapsed": false
   }
  },
  {
   "cell_type": "markdown",
   "source": [
    "Remove not lifted rows for PIVOT, PMLB, IRCC-GC"
   ],
   "metadata": {
    "collapsed": false
   }
  },
  {
   "cell_type": "code",
   "execution_count": 45,
   "outputs": [],
   "source": [
    "def drop_not_lifted_rows(path):\n",
    "    tsv_files = [f for f in get_files(path, []) if f.endswith('.tsv')]\n",
    "    missing = pd.DataFrame([])\n",
    "    if len(tsv_files)>0:\n",
    "        for f in tsv_files:\n",
    "            metadata = pd.read_csv(f, sep='\\t', na_values=\"\", low_memory=False)\n",
    "            temp = metadata[metadata.chromosome.isnull()]\n",
    "            log.info(\"Dropped %s rows from %s\" %(str(temp.shape[0]), f))\n",
    "            metadata = metadata[metadata.chromosome.isnull() == False]\n",
    "            metadata.to_csv(f,sep='\\t', index=False)\n",
    "            missing = missing.append(temp).reset_index(drop=True)\n",
    "        missing.to_csv(join(path, '_dropped.tsv'),sep='\\t', index=False)"
   ],
   "metadata": {
    "collapsed": false
   }
  },
  {
   "cell_type": "code",
   "execution_count": 46,
   "outputs": [],
   "source": [
    "provider_list = [\"CRL\", \"PMLB\", \"PIVOT\"]\n",
    "for provider in get_dirs(home): ## get_dirs will get the provider dirs in updog\n",
    "    if provider in provider_list:\n",
    "        log.info(\"Provider: \"+ provider+'\\n')\n",
    "        drop_not_lifted_rows(join(home, provider, 'cna'))"
   ],
   "metadata": {
    "collapsed": false
   }
  }
 ],
 "metadata": {
  "kernelspec": {
   "display_name": "Python 3",
   "language": "python",
   "name": "python3"
  },
  "language_info": {
   "codemirror_mode": {
    "name": "ipython",
    "version": 2
   },
   "file_extension": ".py",
   "mimetype": "text/x-python",
   "name": "python",
   "nbconvert_exporter": "python",
   "pygments_lexer": "ipython2",
   "version": "2.7.6"
  }
 },
 "nbformat": 4,
 "nbformat_minor": 0
}
