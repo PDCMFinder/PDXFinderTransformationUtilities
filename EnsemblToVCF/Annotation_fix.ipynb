{
 "cells": [
  {
   "cell_type": "code",
   "execution_count": 1,
   "metadata": {},
   "outputs": [],
   "source": [
    "import pandas as ps\n",
    "import sys\n",
    "from pysam import FastaFile\n",
    "from Bio.Seq import Seq\n",
    "from IPython.core.debugger import set_trace"
   ]
  },
  {
   "cell_type": "code",
   "execution_count": 2,
   "metadata": {},
   "outputs": [],
   "source": [
    "if len(sys.argv) < 2:\n",
    "    print(\"Please pass the new annotations and the previous annotations to do a test merge\")\n",
    "else:\n",
    "    indels1 = sys.argv[0]\n",
    "    indels2 = sys.argv[1]"
   ]
  },
  {
   "cell_type": "code",
   "execution_count": 3,
   "metadata": {},
   "outputs": [],
   "source": [
    "sequence_object = FastaFile('hg38.fa')"
   ]
  },
  {
   "cell_type": "code",
   "execution_count": 298,
   "metadata": {},
   "outputs": [],
   "source": [
    "#Delete when converted to a script\n",
    "indel1 = \"PMLB_indels_mut.tsv\"\n",
    "indel2 = \"PMLB_Indels_annotated.tsv\""
   ]
  },
  {
   "cell_type": "code",
   "execution_count": 299,
   "metadata": {},
   "outputs": [],
   "source": [
    "original_annos = ps.read_csv(indel1, sep='\\t')\n",
    "reannotated_annos = ps.read_csv(indel2, sep='\\t').iloc[:,5:].drop_duplicates()"
   ]
  },
  {
   "cell_type": "code",
   "execution_count": 300,
   "metadata": {},
   "outputs": [],
   "source": [
    "def convertToVcfFormat(row):\n",
    "    chromo = \"chr\" + row['chromosome']\n",
    "    pos = row['seq_start_position']\n",
    "    ref = row['ref_allele']\n",
    "    alt = row['alt_allele']\n",
    "    if ref == '-':\n",
    "        ref = ''\n",
    "    if alt == '-':\n",
    "        alt = ''\n",
    "    previousBaseStartInterval = pos - 2\n",
    "    previousBasseEndInterval = pos - 1\n",
    "    previousBaseByBaseCount = pos - 1\n",
    "    previousSeq = sequence_object.fetch(chromo,previousBaseStartInterval,previousBasseEndInterval).upper()\n",
    "    vcf_ref = previousSeq + ref\n",
    "    vcf_alt = previousSeq + alt\n",
    "    #print(\"Converted pos:ref:alt {}:{}:{} to {}:{}:{}\".format(pos,ref,alt, previousBasePos,vcf_ref,vcf_alt))\n",
    "    return previousBaseByBaseCount, vcf_ref, vcf_alt"
   ]
  },
  {
   "cell_type": "code",
   "execution_count": 301,
   "metadata": {
    "scrolled": true
   },
   "outputs": [],
   "source": [
    "fixedOriginalAnnos = original_annos.join(original_annos.apply(convertToVcfFormat, axis=1, result_type='expand')).rename(columns = \n",
    "        { 'seq_start_position' : 'prev_seq_start_position', \n",
    "         'ref_allele' :'prev_ref', \n",
    "         'alt_allele' : 'prev_alt', \n",
    "         0 : 'seq_start_position',\n",
    "         1 : 'ref_allele', 2 : 'alt_allele', \n",
    "         'codon_change' : 'original_codon_change'}\n",
    "       )"
   ]
  },
  {
   "cell_type": "code",
   "execution_count": 302,
   "metadata": {},
   "outputs": [
    {
     "data": {
      "text/plain": [
       "(3529, 30)"
      ]
     },
     "execution_count": 302,
     "metadata": {},
     "output_type": "execute_result"
    }
   ],
   "source": [
    "fixedOriginalAnnos.shape"
   ]
  },
  {
   "cell_type": "code",
   "execution_count": 303,
   "metadata": {},
   "outputs": [
    {
     "data": {
      "text/plain": [
       "(3429, 25)"
      ]
     },
     "execution_count": 303,
     "metadata": {},
     "output_type": "execute_result"
    }
   ],
   "source": [
    "fixedOriginalAnnos.iloc[:,5:].drop_duplicates().shape"
   ]
  },
  {
   "cell_type": "code",
   "execution_count": 304,
   "metadata": {},
   "outputs": [
    {
     "data": {
      "text/plain": [
       "(3426, 22)"
      ]
     },
     "execution_count": 304,
     "metadata": {},
     "output_type": "execute_result"
    }
   ],
   "source": [
    "reannotated_annos.shape"
   ]
  },
  {
   "cell_type": "code",
   "execution_count": 305,
   "metadata": {},
   "outputs": [],
   "source": [
    "mergedTables = fixedOriginalAnnos.merge(reannotated_annos, on=['read_depth', 'chromosome', 'seq_start_position', 'ref_allele', 'alt_allele'], how='left')"
   ]
  },
  {
   "cell_type": "code",
   "execution_count": 306,
   "metadata": {},
   "outputs": [
    {
     "data": {
      "text/plain": [
       "Index(['model_id', 'sample_id', 'sample_origin', 'host_strain_nomenclature',\n",
       "       'passage', 'symbol_x', 'biotype_x', 'coding_sequence_change_x',\n",
       "       'variant_class_x', 'original_codon_change', 'amino_acid_change_x',\n",
       "       'consequence_x', 'functional_prediction_x', 'read_depth',\n",
       "       'allele_frequency_x', 'chromosome', 'prev_seq_start_position',\n",
       "       'prev_ref', 'prev_alt', 'ucsc_gene_id_x', 'ncbi_gene_id_x',\n",
       "       'ncbi_transcript_id_x', 'ensembl_gene_id_x', 'ensembl_transcript_id_x',\n",
       "       'variation_id_x', 'genome_assembly_x', 'platform_x',\n",
       "       'seq_start_position', 'ref_allele', 'alt_allele', 'symbol_y',\n",
       "       'biotype_y', 'coding_sequence_change_y', 'variant_class_y',\n",
       "       'codon_change', 'amino_acid_change_y', 'consequence_y',\n",
       "       'functional_prediction_y', 'allele_frequency_y', 'ucsc_gene_id_y',\n",
       "       'ncbi_gene_id_y', 'ncbi_transcript_id_y', 'ensembl_gene_id_y',\n",
       "       'ensembl_transcript_id_y', 'variation_id_y', 'genome_assembly_y',\n",
       "       'platform_y'],\n",
       "      dtype='object')"
      ]
     },
     "execution_count": 306,
     "metadata": {},
     "output_type": "execute_result"
    }
   ],
   "source": [
    "mergedTables.columns"
   ]
  },
  {
   "cell_type": "code",
   "execution_count": 307,
   "metadata": {},
   "outputs": [],
   "source": [
    "comparisonTable = mergedTables[['model_id', 'sample_id','symbol_x', 'symbol_y', 'read_depth', 'chromosome', 'seq_start_position', 'original_codon_change', 'codon_change', 'ref_allele', 'alt_allele']]"
   ]
  },
  {
   "cell_type": "code",
   "execution_count": 289,
   "metadata": {},
   "outputs": [],
   "source": [
    "comparisonTable.to_csv('comparison_all.tsv', sep='\\t', index=False)"
   ]
  },
  {
   "cell_type": "code",
   "execution_count": 308,
   "metadata": {},
   "outputs": [],
   "source": [
    "mergedTables[[\"model_id\",\"sample_id\",\"sample_origin\",\"host_strain_nomenclature\",\"passage\",\"symbol_x\",\"biotype_y\",\"coding_sequence_change_y\",\"variant_class_y\",\"codon_change\",\"amino_acid_change_y\",\"consequence_y\",\"functional_prediction_y\",\"read_depth\",\"allele_frequency_x\",\"chromosome\",\"seq_start_position\",\"ref_allele\",\"alt_allele\",\"ucsc_gene_id_y\",\"ncbi_gene_id_y\",\"ncbi_transcript_id_y\",\"ensembl_gene_id_y\",\"ensembl_transcript_id_y\",\"variation_id_y\",\"genome_assembly_x\",\"platform_x\"]].to_csv('fixed_indels', sep='\\t')"
   ]
  },
  {
   "cell_type": "code",
   "execution_count": null,
   "metadata": {},
   "outputs": [],
   "source": []
  }
 ],
 "metadata": {
  "kernelspec": {
   "display_name": "Python 3",
   "language": "python",
   "name": "python3"
  },
  "language_info": {
   "codemirror_mode": {
    "name": "ipython",
    "version": 3
   },
   "file_extension": ".py",
   "mimetype": "text/x-python",
   "name": "python",
   "nbconvert_exporter": "python",
   "pygments_lexer": "ipython3",
   "version": "3.8.5"
  }
 },
 "nbformat": 4,
 "nbformat_minor": 4
}
