{
 "cells": [
  {
   "cell_type": "code",
   "execution_count": 1,
   "id": "initial_id",
   "metadata": {
    "collapsed": true,
    "ExecuteTime": {
     "end_time": "2024-05-22T10:50:07.759071Z",
     "start_time": "2024-05-22T10:50:07.377763Z"
    }
   },
   "outputs": [],
   "source": [
    "from utils import *\n",
    "from pandas import read_excel"
   ]
  },
  {
   "cell_type": "code",
   "outputs": [],
   "source": [
    "def generate_pdcm_sheet(df, path, provider, sheet_name):\n",
    "    sheet_path = join(templates, 'metadata', f'metadata_template-{sheet_name}.tsv')\n",
    "    sheet = read_metadata_with_fields(sheet_path)\n",
    "    for col in sheet.columns:\n",
    "        if col not in df.columns:\n",
    "            df[col] = ''\n",
    "    temp = pd.concat([sheet, df[sheet.columns]])\n",
    "    temp.to_csv(join(path, f'{provider}_metadata-{sheet_name}.tsv'), sep='\\t', index=False)\n",
    "\n",
    "def input_to_pdcm(df, out_path, provider):\n",
    "    df['Field'] = ''\n",
    "    sheets = ['patient', 'patient_sample', 'model_validation', 'pdx_model', 'cell_model', 'sharing']\n",
    "    for sheet in sheets:\n",
    "        generate_pdcm_sheet(df, out_path, provider, sheet)"
   ],
   "metadata": {
    "collapsed": false,
    "ExecuteTime": {
     "end_time": "2024-05-22T10:49:49.573198Z",
     "start_time": "2024-05-22T10:49:49.567479Z"
    }
   },
   "id": "ab73e21d4718ec19",
   "execution_count": 4
  },
  {
   "cell_type": "markdown",
   "source": [
    "## "
   ],
   "metadata": {
    "collapsed": false
   },
   "id": "e87ae629d4410d01"
  },
  {
   "cell_type": "code",
   "outputs": [],
   "source": [
    "input_data_path = \"/Users/tushar/CancerModels/submission/Biobank/\"\n",
    "input_data_files = {'biomarker':'1-s2.0-S0092867417313193-mmc3 (1).xlsx', 'media': '1-s2.0-S0092867417313193-mmc2.xlsx', 'main': '1-s2.0-S0092867417313193-mmc1 (1).xlsx'}\n",
    "\n",
    "metadata = read_excel(join(input_data_path, input_data_files['main']), skiprows=1).dropna(subset=['Case no'])\n",
    "column_mapper = {'Case no': \"model_id\", 'Patient consent signed': 'sharable', 'Date': 'collection_date', 'Organoids established': 'model_available',\n",
    "    'Organoids biobanked\\n(HUB code)': 'model_name','Histological type': 'initial_diagnosis',  'Gender': 'sex', 'Primary or relapse tumor': 'tumour_type', 'Organ': 'collection_site', \n",
    "    'Organ.1': 'primary_site', 'TNM edition': 'staging_system', 'Stage': 'stage', 'Grading': 'grade', 'Morphology': 'diagnosis', \n",
    "    'Chemotherapy received': 'chemo_treatment', 'Hormone therapy received': 'hormone_treat', 'Unnamed: 57': 'response_to_treatment'}\n",
    "\n",
    "df = metadata[column_mapper.keys()]\n",
    "df = df.rename(columns=column_mapper)\n",
    "df['patient_id'] = df['model_id']\n",
    "df['sample_id'] = df['model_id']\n",
    "df['collection_date'] = [f'{d[4:6]}/{d[2:4]}/20{d[0:2]}' if d!= '0' else 'Not provided' for d in df['collection_date'].fillna(0).astype(int).astype(str)]\n",
    "df['collection_date'] = pd.to_datetime(df['collection_date'], dayfirst=True, errors='coerce', format=\"%d/%m/%Y\")\n",
    "df['treatment_naive_at_collection'] = ['Yes' if t else 'No' for t in (df['chemo_treatment'] == \"n\") & (df['hormone_treat'] == 'n')]\n",
    "df['treated_prior_to_collection'] = ['No' if t else 'Yes' for t in (df['chemo_treatment'] == \"n\") & (df['hormone_treat'] == 'n')]\n",
    "df['treated_at_collection'] = ['No' if t else 'Yes' for t in (df['chemo_treatment'] == \"n\") & (df['hormone_treat'] == 'n')]\n",
    "df['type'] = 'Organoids'\n",
    "df['publications'] = 'PMID: 29224780'\n",
    "df['catalog_number'] = df['model_name'].fillna('Not provided')\n",
    "df['supplier_type'] = 'Commercial'\n",
    "df['supplier'] = 'HUB-Organoids'\n",
    "df['sex'] = df['sex'].str.replace('m', 'Male').str.replace('f', 'Female') \n"
   ],
   "metadata": {
    "collapsed": false,
    "ExecuteTime": {
     "end_time": "2024-05-22T10:52:55.285046Z",
     "start_time": "2024-05-22T10:52:55.027331Z"
    }
   },
   "id": "786adfa6786863df",
   "execution_count": 4
  },
  {
   "cell_type": "code",
   "outputs": [],
   "source": [
    "input_to_pdcm(df, \"/Users/tushar/CancerModels/submission/Biobank/UMCU\", \"UMCU\")"
   ],
   "metadata": {
    "collapsed": false,
    "ExecuteTime": {
     "end_time": "2024-05-22T10:53:03.020957Z",
     "start_time": "2024-05-22T10:53:02.958727Z"
    }
   },
   "id": "205ba8f9b1fbac00",
   "execution_count": 5
  },
  {
   "cell_type": "code",
   "outputs": [
    {
     "data": {
      "text/plain": "['Yes',\n 'Yes',\n 'Yes',\n 'Yes',\n 'Yes',\n 'Yes',\n 'Yes',\n 'Yes',\n 'Yes',\n 'Yes',\n 'Yes',\n 'Yes',\n 'Yes',\n 'No',\n 'Yes',\n 'No',\n 'Yes',\n 'Yes',\n 'Yes',\n 'No',\n 'Yes',\n 'Yes',\n 'Yes',\n 'Yes',\n 'Yes',\n 'Yes',\n 'Yes',\n 'Yes',\n 'Yes',\n 'Yes',\n 'Yes',\n 'Yes',\n 'No',\n 'No',\n 'No',\n 'No',\n 'Yes',\n 'No',\n 'Yes',\n 'No',\n 'No',\n 'Yes',\n 'Yes',\n 'No',\n 'No',\n 'Yes',\n 'No',\n 'No',\n 'No',\n 'Yes',\n 'No',\n 'No',\n 'Yes',\n 'No',\n 'No',\n 'No',\n 'No',\n 'Yes',\n 'No',\n 'No',\n 'Yes',\n 'No',\n 'Yes',\n 'No',\n 'Yes',\n 'No',\n 'No',\n 'No',\n 'No',\n 'No',\n 'No',\n 'No',\n 'No',\n 'No',\n 'No',\n 'No',\n 'Yes',\n 'No',\n 'Yes',\n 'Yes',\n 'Yes',\n 'Yes',\n 'Yes',\n 'Yes',\n 'Yes',\n 'No',\n 'No',\n 'Yes',\n 'Yes',\n 'No',\n 'No',\n 'No',\n 'Yes',\n 'No',\n 'Yes',\n 'No',\n 'Yes',\n 'No',\n 'No',\n 'No',\n 'Yes',\n 'Yes',\n 'Yes',\n 'Yes',\n 'Yes',\n 'Yes',\n 'Yes',\n 'No',\n 'Yes',\n 'Yes',\n 'Yes',\n 'Yes',\n 'Yes',\n 'Yes',\n 'Yes',\n 'No',\n 'Yes',\n 'Yes',\n 'Yes',\n 'No',\n 'No',\n 'No',\n 'No',\n 'No',\n 'No',\n 'No',\n 'No',\n 'No',\n 'No',\n 'No',\n 'No',\n 'No',\n 'No',\n 'No',\n 'No',\n 'No',\n 'No',\n 'No',\n 'No',\n 'No',\n 'No',\n 'No',\n 'No',\n 'No',\n 'No',\n 'No',\n 'No',\n 'No',\n 'No',\n 'No',\n 'No',\n 'No',\n 'No',\n 'No',\n 'No',\n 'No',\n 'No',\n 'No',\n 'No',\n 'No',\n 'No',\n 'No',\n 'No',\n 'No',\n 'No',\n 'No',\n 'No',\n 'No']"
     },
     "execution_count": 77,
     "metadata": {},
     "output_type": "execute_result"
    }
   ],
   "source": [
    "['Yes' if t else 'No' for t in (df['chemo_treatment'] == \"n\") & (df['hormone_treat'] == 'n')]"
   ],
   "metadata": {
    "collapsed": false,
    "ExecuteTime": {
     "end_time": "2024-05-22T10:35:49.729997Z",
     "start_time": "2024-05-22T10:35:49.693012Z"
    }
   },
   "id": "c5f83132daff8f1b",
   "execution_count": 77
  },
  {
   "cell_type": "code",
   "outputs": [
    {
     "data": {
      "text/plain": "'/Users/tushar/CancerModels/pdxfinder-data/templates/active_templates'"
     },
     "execution_count": 28,
     "metadata": {},
     "output_type": "execute_result"
    }
   ],
   "source": [
    "templates"
   ],
   "metadata": {
    "collapsed": false,
    "ExecuteTime": {
     "end_time": "2024-05-22T10:03:02.244349Z",
     "start_time": "2024-05-22T10:03:02.236126Z"
    }
   },
   "id": "cca00faa66737ad4",
   "execution_count": 28
  },
  {
   "cell_type": "code",
   "outputs": [
    {
     "ename": "AttributeError",
     "evalue": "'Series' object has no attribute 'datetime'",
     "output_type": "error",
     "traceback": [
      "\u001B[0;31m---------------------------------------------------------------------------\u001B[0m",
      "\u001B[0;31mAttributeError\u001B[0m                            Traceback (most recent call last)",
      "\u001B[0;32m/var/folders/_2/g5d3zf4s41g0tvlqkc3_8wjr0000gp/T/ipykernel_39837/1807659441.py\u001B[0m in \u001B[0;36m?\u001B[0;34m()\u001B[0m\n\u001B[0;32m----> 1\u001B[0;31m \u001B[0mpd\u001B[0m\u001B[0;34m.\u001B[0m\u001B[0mto_datetime\u001B[0m\u001B[0;34m(\u001B[0m\u001B[0mdf\u001B[0m\u001B[0;34m[\u001B[0m\u001B[0;34m'collection_date'\u001B[0m\u001B[0;34m]\u001B[0m\u001B[0;34m,\u001B[0m \u001B[0mdayfirst\u001B[0m\u001B[0;34m=\u001B[0m\u001B[0;32mTrue\u001B[0m\u001B[0;34m,\u001B[0m \u001B[0merrors\u001B[0m\u001B[0;34m=\u001B[0m\u001B[0;34m'coerce'\u001B[0m\u001B[0;34m,\u001B[0m \u001B[0mformat\u001B[0m\u001B[0;34m=\u001B[0m\u001B[0;34m\"%d/%m/%Y\"\u001B[0m\u001B[0;34m)\u001B[0m\u001B[0;34m.\u001B[0m\u001B[0mdatetime\u001B[0m\u001B[0;34m.\u001B[0m\u001B[0mstrftime\u001B[0m\u001B[0;34m(\u001B[0m\u001B[0;34m'%a %d %b %Y'\u001B[0m\u001B[0;34m)\u001B[0m\u001B[0;34m\u001B[0m\u001B[0;34m\u001B[0m\u001B[0m\n\u001B[0m",
      "\u001B[0;32m~/Library/Python/3.9/lib/python/site-packages/pandas/core/generic.py\u001B[0m in \u001B[0;36m?\u001B[0;34m(self, name)\u001B[0m\n\u001B[1;32m   5898\u001B[0m             \u001B[0;32mand\u001B[0m \u001B[0mname\u001B[0m \u001B[0;32mnot\u001B[0m \u001B[0;32min\u001B[0m \u001B[0mself\u001B[0m\u001B[0;34m.\u001B[0m\u001B[0m_accessors\u001B[0m\u001B[0;34m\u001B[0m\u001B[0;34m\u001B[0m\u001B[0m\n\u001B[1;32m   5899\u001B[0m             \u001B[0;32mand\u001B[0m \u001B[0mself\u001B[0m\u001B[0;34m.\u001B[0m\u001B[0m_info_axis\u001B[0m\u001B[0;34m.\u001B[0m\u001B[0m_can_hold_identifiers_and_holds_name\u001B[0m\u001B[0;34m(\u001B[0m\u001B[0mname\u001B[0m\u001B[0;34m)\u001B[0m\u001B[0;34m\u001B[0m\u001B[0;34m\u001B[0m\u001B[0m\n\u001B[1;32m   5900\u001B[0m         ):\n\u001B[1;32m   5901\u001B[0m             \u001B[0;32mreturn\u001B[0m \u001B[0mself\u001B[0m\u001B[0;34m[\u001B[0m\u001B[0mname\u001B[0m\u001B[0;34m]\u001B[0m\u001B[0;34m\u001B[0m\u001B[0;34m\u001B[0m\u001B[0m\n\u001B[0;32m-> 5902\u001B[0;31m         \u001B[0;32mreturn\u001B[0m \u001B[0mobject\u001B[0m\u001B[0;34m.\u001B[0m\u001B[0m__getattribute__\u001B[0m\u001B[0;34m(\u001B[0m\u001B[0mself\u001B[0m\u001B[0;34m,\u001B[0m \u001B[0mname\u001B[0m\u001B[0;34m)\u001B[0m\u001B[0;34m\u001B[0m\u001B[0;34m\u001B[0m\u001B[0m\n\u001B[0m",
      "\u001B[0;31mAttributeError\u001B[0m: 'Series' object has no attribute 'datetime'"
     ]
    }
   ],
   "source": [],
   "metadata": {
    "collapsed": false,
    "ExecuteTime": {
     "end_time": "2024-05-22T10:30:12.353337Z",
     "start_time": "2024-05-22T10:30:12.334351Z"
    }
   },
   "id": "256c61e5d5b75e27",
   "execution_count": 74
  },
  {
   "cell_type": "code",
   "outputs": [
    {
     "data": {
      "text/plain": "['28/01/2014',\n '03/02/2014',\n '04/02/2014',\n '05/02/2014',\n '10/02/2014',\n '13/02/2014',\n '06/03/2014',\n '29/04/2014',\n '06/05/2014',\n '27/05/2014',\n '03/06/2014',\n '05/06/2014',\n '10/06/2014',\n '10/06/2014',\n 'Not provided',\n 'Not provided',\n '17/06/2014',\n '20/06/2014',\n '25/06/2014',\n '26/06/2014',\n '02/07/2014',\n '07/07/2014',\n '30/09/2014',\n '07/10/2014',\n '23/10/2014',\n '27/10/2014',\n '31/10/2014',\n '04/11/2014',\n '25/11/2014',\n '26/11/2014',\n '02/12/2014',\n '05/12/2014',\n '23/12/2014',\n '08/01/2015',\n '20/01/2015',\n '22/01/2015',\n '23/01/2015',\n '27/01/2015',\n '28/01/2015',\n '30/01/2015',\n '04/02/2015',\n '05/02/2015',\n '06/02/2015',\n '10/02/2015',\n '17/02/2015',\n '18/02/2015',\n '23/02/2015',\n '25/02/2015',\n '03/03/2015',\n '05/03/2015',\n '06/03/2015',\n '11/03/2015',\n '12/03/2015',\n 'Not provided',\n 'Not provided',\n '12/03/2015',\n '13/03/2015',\n '13/03/2015',\n '17/03/2015',\n '18/03/2015',\n '19/03/2015',\n '19/03/2015',\n '24/03/2015',\n '24/03/2015',\n '25/03/2015',\n '26/03/2015',\n '26/03/2015',\n '27/03/2015',\n '27/03/2015',\n '27/03/2015',\n '01/04/2015',\n 'Not provided',\n 'Not provided',\n '02/04/2015',\n '07/04/2015',\n '08/04/2015',\n '08/04/2015',\n '09/04/2015',\n '10/04/2015',\n '15/04/2015',\n '15/04/2015',\n '15/04/2015',\n '22/04/2015',\n '22/04/2015',\n '23/04/2015',\n '28/04/2015',\n '28/04/2015',\n '29/04/2015',\n '29/04/2015',\n '06/05/2015',\n '06/05/2015',\n '12/05/2015',\n '13/05/2015',\n '19/05/2015',\n '20/05/2015',\n '20/05/2015',\n '21/05/2015',\n '28/05/2015',\n '03/06/2015',\n '05/06/2015',\n '10/06/2015',\n '17/06/2015',\n '17/06/2015',\n '23/06/2015',\n '30/06/2015',\n '30/06/2015',\n '01/07/2015',\n '15/07/2015',\n '17/07/2015',\n '24/07/2015',\n '05/08/2015',\n '07/08/2015',\n '25/08/2015',\n '26/08/2015',\n '09/09/2015',\n '16/09/2015',\n '16/09/2015',\n '02/10/2015',\n '09/10/2015',\n '20/10/2015',\n '06/11/2015',\n '09/11/2015',\n '11/11/2015',\n '11/11/2015',\n '13/11/2015',\n '13/11/2015',\n '04/12/2015',\n '04/12/2015',\n '16/12/2015',\n '16/12/2015',\n '18/12/2015',\n '29/12/2015',\n '29/12/2015',\n '29/12/2015',\n '29/12/2015',\n '08/01/2016',\n '11/01/2016',\n '14/01/2016',\n '22/01/2016',\n '26/01/2016',\n '29/01/2016',\n '29/01/2016',\n '05/02/2016',\n '12/02/2016',\n '12/02/2016',\n '19/02/2016',\n '24/03/2016',\n '24/03/2016',\n '01/04/2016',\n '15/04/2016',\n '10/05/2016',\n '10/05/2016',\n '20/05/2016',\n '20/05/2016',\n '01/06/2016',\n '22/07/2016',\n '09/09/2016',\n '19/01/2017',\n '24/01/2017',\n '08/02/2017',\n '13/02/2017',\n 'Not provided',\n '19/09/2014',\n '27/03/2015',\n '24/06/2015',\n '24/06/2015',\n '24/07/2015',\n '09/09/2015',\n '07/01/2016',\n '10/08/2016',\n '27/10/2016',\n '16/11/2016',\n '06/01/2017',\n '12/01/2017',\n '24/01/2017']"
     },
     "execution_count": 46,
     "metadata": {},
     "output_type": "execute_result"
    }
   ],
   "source": [],
   "metadata": {
    "collapsed": false,
    "ExecuteTime": {
     "end_time": "2024-05-22T10:22:02.720227Z",
     "start_time": "2024-05-22T10:22:02.712875Z"
    }
   },
   "id": "10e01589dee1f670",
   "execution_count": 46
  },
  {
   "cell_type": "code",
   "outputs": [],
   "source": [],
   "metadata": {
    "collapsed": false
   },
   "id": "1acc2a40b587d22a",
   "execution_count": null
  }
 ],
 "metadata": {
  "kernelspec": {
   "display_name": "Python 3",
   "language": "python",
   "name": "python3"
  },
  "language_info": {
   "codemirror_mode": {
    "name": "ipython",
    "version": 2
   },
   "file_extension": ".py",
   "mimetype": "text/x-python",
   "name": "python",
   "nbconvert_exporter": "python",
   "pygments_lexer": "ipython2",
   "version": "2.7.6"
  }
 },
 "nbformat": 4,
 "nbformat_minor": 5
}
