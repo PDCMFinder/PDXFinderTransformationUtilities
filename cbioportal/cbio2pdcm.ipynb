{
 "cells": [
  {
   "cell_type": "code",
   "id": "initial_id",
   "metadata": {
    "collapsed": true,
    "ExecuteTime": {
     "end_time": "2024-10-14T10:44:37.714519Z",
     "start_time": "2024-10-14T10:44:36.165850Z"
    }
   },
   "source": [
    "import pandas as pd\n",
    "from rdflib.tools.csv2rdf import column\n",
    "\n",
    "from utils import *"
   ],
   "outputs": [],
   "execution_count": 1
  },
  {
   "metadata": {
    "ExecuteTime": {
     "end_time": "2024-10-14T10:45:18.866347Z",
     "start_time": "2024-10-14T10:45:18.852550Z"
    }
   },
   "cell_type": "code",
   "source": [
    "input_dir = 'cbioportal_data'\n",
    "potential_provider = get_dirs(input_dir)"
   ],
   "id": "aea749cc006a2bec",
   "outputs": [
    {
     "data": {
      "text/plain": [
       "['prad_p1000']"
      ]
     },
     "execution_count": 2,
     "metadata": {},
     "output_type": "execute_result"
    }
   ],
   "execution_count": 2
  },
  {
   "metadata": {
    "ExecuteTime": {
     "end_time": "2024-10-14T11:00:25.323433Z",
     "start_time": "2024-10-14T11:00:25.316747Z"
    }
   },
   "cell_type": "code",
   "source": [
    "def read_meta_files(path):\n",
    "    x = pd.read_csv(path, sep=':', names=['key', 'value'])\n",
    "    return dict(zip(x['key'], x['value']))\n",
    "\n",
    "\n",
    "def cbio2pdcm(provider_dict, output_dir):\n",
    "    study = read_meta_files(provider_dict['meta_study'])\n",
    "    print(study)\n",
    "    provider_abbreviation = input(f\"Enter provider abbreviation: \")"
   ],
   "id": "c3189530926a7067",
   "outputs": [],
   "execution_count": 31
  },
  {
   "metadata": {},
   "cell_type": "code",
   "outputs": [],
   "execution_count": null,
   "source": "",
   "id": "83efbd7b43328ebe"
  },
  {
   "metadata": {},
   "cell_type": "code",
   "outputs": [],
   "execution_count": null,
   "source": "",
   "id": "860d23c40ba04d78"
  },
  {
   "metadata": {
    "ExecuteTime": {
     "end_time": "2024-10-14T11:00:42.652991Z",
     "start_time": "2024-10-14T11:00:27.132986Z"
    }
   },
   "cell_type": "code",
   "source": [
    "for provider in potential_provider:\n",
    "    provider_dict = {}\n",
    "    provider_path = join(input_dir, provider)\n",
    "    provider_dict = {f.replace('.txt', ''): join(provider_path, f)  for f in get_files(provider_path)}\n",
    "    cbio2pdcm(provider_dict, home)\n",
    "    break"
   ],
   "id": "74dd53e0f6527c42",
   "outputs": [
    {
     "name": "stdout",
     "output_type": "stream",
     "text": [
      "{'type_of_cancer': ' prad', 'cancer_study_identifier': ' prad_p1000', 'name': ' Prostate Adenocarcinoma (MSK/DFCI, Nature Genetics 2018)', 'short_name': ' PRAD (MSKCC/DFCI 2018)', 'description': ' Whole exome Sequencing of 1013 prostate cancer samples and their matched normals.', 'pmid': ' 29610475', 'citation': ' Armenia et al. Nat Genet 2018'}\n"
     ]
    }
   ],
   "execution_count": 32
  },
  {
   "metadata": {
    "ExecuteTime": {
     "end_time": "2024-10-14T11:01:57.902906Z",
     "start_time": "2024-10-14T11:01:57.895565Z"
    }
   },
   "cell_type": "code",
   "source": "provider_dict.keys()",
   "id": "1da82598305f3a11",
   "outputs": [
    {
     "data": {
      "text/plain": [
       "dict_keys(['meta_cna', 'meta_clinical_sample', 'meta_sv', 'data_cna', 'LICENSE', 'data_clinical_patient', 'data_cna_hg19.seg', 'data_clinical_sample', 'data_sv', 'meta_cna_hg19_seg', 'meta_gene_panel_matrix', 'meta_study', 'data_gene_panel_matrix', 'data_mutations', 'meta_mutations', 'meta_clinical_patient'])"
      ]
     },
     "execution_count": 34,
     "metadata": {},
     "output_type": "execute_result"
    }
   ],
   "execution_count": 34
  },
  {
   "metadata": {
    "ExecuteTime": {
     "end_time": "2024-10-14T11:02:24.996385Z",
     "start_time": "2024-10-14T11:02:24.985339Z"
    }
   },
   "cell_type": "code",
   "source": "read_meta_files(provider_dict['meta_clinical_patient'])",
   "id": "c313353db2b01bdf",
   "outputs": [
    {
     "data": {
      "text/plain": [
       "{'cancer_study_identifier': ' prad_p1000',\n",
       " 'genetic_alteration_type': ' CLINICAL',\n",
       " 'datatype': ' PATIENT_ATTRIBUTES',\n",
       " 'data_filename': ' data_clinical_patient.txt'}"
      ]
     },
     "execution_count": 36,
     "metadata": {},
     "output_type": "execute_result"
    }
   ],
   "execution_count": 36
  },
  {
   "metadata": {
    "ExecuteTime": {
     "end_time": "2024-10-14T11:03:22.130580Z",
     "start_time": "2024-10-14T11:03:22.111658Z"
    }
   },
   "cell_type": "code",
   "source": "pd.read_csv(provider_dict['data_clinical_patient'], sep='\\t', comment='#')",
   "id": "47b247826031eeca",
   "outputs": [
    {
     "data": {
      "text/plain": [
       "                             #Patient Identifier     Sex  \\\n",
       "0     #Identifier to uniquely specify a patient.     Sex   \n",
       "1                                        #STRING  STRING   \n",
       "2                                             #1       1   \n",
       "3                                     PATIENT_ID     SEX   \n",
       "4             AAPC-STID0000011640-Tumor-SM-2XU1H    Male   \n",
       "...                                          ...     ...   \n",
       "1012                                TCGA-V1-A8MF    Male   \n",
       "1013                                TCGA-V1-A8WV    Male   \n",
       "1014                                TCGA-V1-A8WW    Male   \n",
       "1015                                TCGA-XQ-A8TA    Male   \n",
       "1016                                TCGA-YJ-A8SW    Male   \n",
       "\n",
       "                                          Diagnosis Age  Data Source  \n",
       "0     Age at which a condition or disease was first ...  Data Source  \n",
       "1                                                NUMBER       STRING  \n",
       "2                                                     1            1  \n",
       "3                                                   AGE  DATA_SOURCE  \n",
       "4                                                    40         AAPC  \n",
       "...                                                 ...          ...  \n",
       "1012                                                NaN         TCGA  \n",
       "1013                                                NaN         TCGA  \n",
       "1014                                                NaN         TCGA  \n",
       "1015                                                NaN         TCGA  \n",
       "1016                                                NaN         TCGA  \n",
       "\n",
       "[1017 rows x 4 columns]"
      ],
      "text/html": [
       "<div>\n",
       "<style scoped>\n",
       "    .dataframe tbody tr th:only-of-type {\n",
       "        vertical-align: middle;\n",
       "    }\n",
       "\n",
       "    .dataframe tbody tr th {\n",
       "        vertical-align: top;\n",
       "    }\n",
       "\n",
       "    .dataframe thead th {\n",
       "        text-align: right;\n",
       "    }\n",
       "</style>\n",
       "<table border=\"1\" class=\"dataframe\">\n",
       "  <thead>\n",
       "    <tr style=\"text-align: right;\">\n",
       "      <th></th>\n",
       "      <th>#Patient Identifier</th>\n",
       "      <th>Sex</th>\n",
       "      <th>Diagnosis Age</th>\n",
       "      <th>Data Source</th>\n",
       "    </tr>\n",
       "  </thead>\n",
       "  <tbody>\n",
       "    <tr>\n",
       "      <th>0</th>\n",
       "      <td>#Identifier to uniquely specify a patient.</td>\n",
       "      <td>Sex</td>\n",
       "      <td>Age at which a condition or disease was first ...</td>\n",
       "      <td>Data Source</td>\n",
       "    </tr>\n",
       "    <tr>\n",
       "      <th>1</th>\n",
       "      <td>#STRING</td>\n",
       "      <td>STRING</td>\n",
       "      <td>NUMBER</td>\n",
       "      <td>STRING</td>\n",
       "    </tr>\n",
       "    <tr>\n",
       "      <th>2</th>\n",
       "      <td>#1</td>\n",
       "      <td>1</td>\n",
       "      <td>1</td>\n",
       "      <td>1</td>\n",
       "    </tr>\n",
       "    <tr>\n",
       "      <th>3</th>\n",
       "      <td>PATIENT_ID</td>\n",
       "      <td>SEX</td>\n",
       "      <td>AGE</td>\n",
       "      <td>DATA_SOURCE</td>\n",
       "    </tr>\n",
       "    <tr>\n",
       "      <th>4</th>\n",
       "      <td>AAPC-STID0000011640-Tumor-SM-2XU1H</td>\n",
       "      <td>Male</td>\n",
       "      <td>40</td>\n",
       "      <td>AAPC</td>\n",
       "    </tr>\n",
       "    <tr>\n",
       "      <th>...</th>\n",
       "      <td>...</td>\n",
       "      <td>...</td>\n",
       "      <td>...</td>\n",
       "      <td>...</td>\n",
       "    </tr>\n",
       "    <tr>\n",
       "      <th>1012</th>\n",
       "      <td>TCGA-V1-A8MF</td>\n",
       "      <td>Male</td>\n",
       "      <td>NaN</td>\n",
       "      <td>TCGA</td>\n",
       "    </tr>\n",
       "    <tr>\n",
       "      <th>1013</th>\n",
       "      <td>TCGA-V1-A8WV</td>\n",
       "      <td>Male</td>\n",
       "      <td>NaN</td>\n",
       "      <td>TCGA</td>\n",
       "    </tr>\n",
       "    <tr>\n",
       "      <th>1014</th>\n",
       "      <td>TCGA-V1-A8WW</td>\n",
       "      <td>Male</td>\n",
       "      <td>NaN</td>\n",
       "      <td>TCGA</td>\n",
       "    </tr>\n",
       "    <tr>\n",
       "      <th>1015</th>\n",
       "      <td>TCGA-XQ-A8TA</td>\n",
       "      <td>Male</td>\n",
       "      <td>NaN</td>\n",
       "      <td>TCGA</td>\n",
       "    </tr>\n",
       "    <tr>\n",
       "      <th>1016</th>\n",
       "      <td>TCGA-YJ-A8SW</td>\n",
       "      <td>Male</td>\n",
       "      <td>NaN</td>\n",
       "      <td>TCGA</td>\n",
       "    </tr>\n",
       "  </tbody>\n",
       "</table>\n",
       "<p>1017 rows × 4 columns</p>\n",
       "</div>"
      ]
     },
     "execution_count": 40,
     "metadata": {},
     "output_type": "execute_result"
    }
   ],
   "execution_count": 40
  },
  {
   "metadata": {},
   "cell_type": "code",
   "outputs": [],
   "execution_count": null,
   "source": "",
   "id": "acec30c877c0ab41"
  }
 ],
 "metadata": {
  "kernelspec": {
   "display_name": "Python 3",
   "language": "python",
   "name": "python3"
  },
  "language_info": {
   "codemirror_mode": {
    "name": "ipython",
    "version": 2
   },
   "file_extension": ".py",
   "mimetype": "text/x-python",
   "name": "python",
   "nbconvert_exporter": "python",
   "pygments_lexer": "ipython2",
   "version": "2.7.6"
  }
 },
 "nbformat": 4,
 "nbformat_minor": 5
}
