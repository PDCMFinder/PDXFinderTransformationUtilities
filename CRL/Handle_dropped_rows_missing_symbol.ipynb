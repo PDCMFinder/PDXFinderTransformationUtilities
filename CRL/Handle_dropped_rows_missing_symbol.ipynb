{
 "cells": [
  {
   "cell_type": "code",
   "execution_count": 2,
   "metadata": {
    "collapsed": true,
    "pycharm": {
     "name": "#%%\n"
    }
   },
   "outputs": [],
   "source": [
    "import requests, sys\n",
    "from os import listdir\n",
    "from os.path import isfile, join, isdir, exists\n",
    "import pandas as pd\n",
    "import logging\n",
    "import pickle\n",
    "from tqdm.notebook import tqdm, trange\n",
    "\n",
    "log = logging.getLogger(__name__)\n",
    "logging.basicConfig(filename='CRL_expression_map_symbols_to_probe_id.log', level=logging.INFO, format='%(levelname)s:%(asctime)s: %(message)s', datefmt='%d/%m/%Y %I:%M %p')"
   ]
  },
  {
   "cell_type": "code",
   "execution_count": 3,
   "outputs": [],
   "source": [
    "home = \"/Users/tushar/pdx/update-data/data-repo/CRL_dropped_rows/CRL/expression/microarray/\"\n",
    "template = \"/Users/tushar/pdx/pdxfinder-data/template/active_templates/expression/expression_template-sheet.tsv\"\n",
    "template=pd.read_csv(template, sep='\\t', na_values=\"\", low_memory=False).fillna(\"\").rename({\"platform\":\"platform_id\"},axis=1)\n",
    "lookup_table = \"/Users/tushar/pdx/update-data/data-repo/CRL_dropped_rows/Probe_symbol_lookup_table.tsv\"\n",
    "lookup_table = pd.read_csv(lookup_table, sep='\\t', na_values=\"\", low_memory=False).fillna(\"\")\n",
    "def get_dirs(path):\n",
    "    return [f for f in listdir(path) if isdir(join(path, f))]\n",
    "def get_files(path, files):\n",
    "    [files.append(join(path, f)) if isfile(join(path, f)) else get_files(join(path,f), files) for f in listdir(path)]\n",
    "    return files\n",
    "def flatten_list(list_of_list):\n",
    "    return [x2 for x1 in list_of_list for x2 in x1]"
   ],
   "metadata": {
    "collapsed": false,
    "pycharm": {
     "name": "#%%\n"
    }
   }
  },
  {
   "cell_type": "code",
   "execution_count": 4,
   "outputs": [],
   "source": [
    "tsv_files = [f for f in get_files(home, []) if f.endswith('.tsv')]"
   ],
   "metadata": {
    "collapsed": false,
    "pycharm": {
     "name": "#%%\n"
    }
   }
  },
  {
   "cell_type": "code",
   "execution_count": 5,
   "outputs": [],
   "source": [
    "def preprocess_file(f, template):\n",
    "    data = pd.read_csv(f, sep='\\t', na_values=\"\").rename({\"hgnc_symbol\":\"symbol\",'transcript_id':'ensembl_transcript_id'},axis=1).fillna(\"\")\n",
    "    data[\"platform_id\"] = \"expression_Affymetrix_HGU133plus2\"\n",
    "    data = data[template.columns]\n",
    "    data['chromosome'] = data.chromosome.replace({\"chr\":\"\"},regex=True)\n",
    "    return data\n",
    "def match_with_lookup_table(row, lookup):\n",
    "    if row.symbol==\"\":\n",
    "        match=lookup_table[lookup_table.PROBEID==row.affy_hgea_probe_id]\n",
    "        if len(match)>0:\n",
    "            row.symbol=match.iloc[0,2]\n",
    "            row.ensembl_gene_id=match.iloc[0,1]\n",
    "    return row"
   ],
   "metadata": {
    "collapsed": false,
    "pycharm": {
     "name": "#%%\n"
    }
   }
  },
  {
   "cell_type": "code",
   "execution_count": 6,
   "outputs": [],
   "source": [
    "log.info(\"Find missing symbol\")\n",
    "for f in tsv_files:\n",
    "    log.info(\"Working on %s\" %f)\n",
    "    data = preprocess_file(f, template)\n",
    "    row_num_before = len(data)\n",
    "    data = data.apply(match_with_lookup_table, lookup=lookup_table,axis=1)\n",
    "    data = data[data.symbol!=\"\"]\n",
    "    data.to_csv(f,sep='\\t', index=False)\n",
    "    row_num_after = len(data)\n",
    "    log.info(\"Total rows %s and number of probe ids with gene symbol %s\" %(row_num_before, row_num_after))"
   ],
   "metadata": {
    "collapsed": false,
    "pycharm": {
     "name": "#%%\n"
    }
   }
  }
 ],
 "metadata": {
  "kernelspec": {
   "display_name": "Python 3",
   "language": "python",
   "name": "python3"
  },
  "language_info": {
   "codemirror_mode": {
    "name": "ipython",
    "version": 2
   },
   "file_extension": ".py",
   "mimetype": "text/x-python",
   "name": "python",
   "nbconvert_exporter": "python",
   "pygments_lexer": "ipython2",
   "version": "2.7.6"
  }
 },
 "nbformat": 4,
 "nbformat_minor": 0
}