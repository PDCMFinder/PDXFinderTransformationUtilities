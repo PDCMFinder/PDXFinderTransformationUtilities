{
 "cells": [
  {
   "cell_type": "code",
   "execution_count": 5,
   "id": "b3b5874b",
   "metadata": {},
   "outputs": [],
   "source": [
    "import pandas as pd\n",
    "import sys\n",
    "import math"
   ]
  },
  {
   "cell_type": "code",
   "execution_count": 6,
   "id": "e4b77b70",
   "metadata": {},
   "outputs": [
    {
     "data": {
      "text/html": [
       "<style>.container { width:100% !important; }</style>"
      ],
      "text/plain": [
       "<IPython.core.display.HTML object>"
      ]
     },
     "metadata": {},
     "output_type": "display_data"
    }
   ],
   "source": [
    "from IPython.core.display import display, HTML\n",
    "display(HTML(\"<style>.container { width:100% !important; }</style>\"))"
   ]
  },
  {
   "cell_type": "code",
   "execution_count": 7,
   "id": "392d500d",
   "metadata": {},
   "outputs": [],
   "source": [
    "def align_and_append_sheet(template, other_sheet):\n",
    "    alignment = template.align(other_sheet, join=\"outer\")[1]\n",
    "    return template.append(alignment).dropna(axis=0, how='all')"
   ]
  },
  {
   "cell_type": "code",
   "execution_count": 8,
   "id": "a2f16d97",
   "metadata": {},
   "outputs": [],
   "source": [
    "def transformCellPassport_patient(cellPassportDf, pateint_template):\n",
    "    patient_columns = [\"patient_id\", \"gender\", \"smoking_status\", \"ethnicity\"]\n",
    "    # No direct value changes are needed for the patient sheet\n",
    "    patient_column_name_changes = {\"gender\":\"sex\", \"smoking_status\":\"history\"}\n",
    "    cell_passport_patient_sheet = cellPassportDf.loc[:, patient_columns].rename(columns = patient_column_name_changes)\n",
    "    align_and_append_sheet(patient_template, cell_passport_patient_sheet).to_csv(\"HCMI_metadata-patient.tsv\", sep='\\t', index=False)"
   ]
  },
  {
   "cell_type": "code",
   "execution_count": 9,
   "id": "694d45d3",
   "metadata": {},
   "outputs": [],
   "source": [
    "def numToMon(num):\n",
    "    month_str = \"\"\n",
    "    if not math.isnan(num):\n",
    "        num_int = int(num)\n",
    "        months = [\"jan\",\"feb\",\"mar\",\"apr\",\"may\",\"jun\",\"jul\",\"aug\",\"sep\",\"oct\",\"nov\",\"dec\" ]\n",
    "        month_str = months[num_int - 1]\n",
    "    return month_str\n",
    "        "
   ]
  },
  {
   "cell_type": "code",
   "execution_count": 12,
   "id": "6033bc76",
   "metadata": {},
   "outputs": [],
   "source": [
    "def transformCellPassport_sample(cellPassportDf):\n",
    "    sample_columns = [\"patient_id\", \"sample_id\", \"model_id\", \"sampling_year\", \"sampling_month\", \"age_at_sampling\", \"cancer_type_detail\", \"tissue_status\", \"tissue\", \"sample_site\", \"tnm_t\", \"tnm_n\", \"tnm_m\", \"tumour_grade\", \"sample_treatment\"]\n",
    "    cell_passport_columns = cellPassportDf.loc[:, sample_columns] \n",
    "    cell_passport_sample_sheet = pd.DataFrame()\n",
    "    columns_To_Drop = [\"sampling_year\", \"sampling_month\", \"tnm_t\", \"tnm_n\", \"tnm_m\", \"sample_treatment\"]\n",
    "    sample_rename_mapping = { \"age_at_sampling\" : \"age_in_years_at_collection\", \"cancer_type_detail\":\"diagnosis\", \"tissue_status\":\"tumour_type\", \"tissue\" : \"primary_site\", \"sample_site\":\"collection_site\", \"tumour_grade\":  \"grade\" }\n",
    "    cell_passport_sample_sheet = cell_passport_columns.drop(columns=columns_To_Drop).rename(columns=sample_rename_mapping)\n",
    "    #Format collection date\n",
    "    cell_passport_columns[\"sampling_month\"] = cell_passport_columns[\"sampling_month\"].apply(numToMon)\n",
    "    cell_passport_sample_sheet['collection_date'] = cell_passport_columns[\"sampling_month\"] + \" \" + cell_passport_columns[\"sampling_year\"].astype(str)\n",
    "    cell_passport_sample_sheet['collection_date'] = cell_passport_sample_sheet['collection_date'].str.replace(\" nan\", \"\")\n",
    "    #Cat TNM staging system\n",
    "    cell_passport_sample_sheet['stage'] =  cell_passport_columns[\"tnm_t\"] + \",\" + cell_passport_columns[\"tnm_n\"] + \",\" +  cell_passport_columns[\"tnm_m\"]\n",
    "    #Hard coded values\n",
    "    cell_passport_sample_sheet[\"staging_system\"] = \"TNM staging system\"\n",
    "    cell_passport_sample_sheet[\"sharable\"] = \"yes\"\n",
    "    tumour_type_filter = [\"Metastasis\", \"Unknown\", \"Tumour\"]\n",
    "    filtered_passport = cell_passport_sample_sheet[cell_passport_sample_sheet[\"tumour_type\"].isin(tumour_type_filter)]\n",
    "    #Need to proccess sample_treatment as well still\n",
    "    align_and_append_sheet(sample_template,filtered_passport).to_csv(\"HCMI_metadata-sample.tsv\", sep='\\t', index=False)\n"
   ]
  },
  {
   "cell_type": "code",
   "execution_count": 10,
   "id": "be7ba88b",
   "metadata": {},
   "outputs": [],
   "source": [
    "cellPassportDf = pd.read_excel(\"model_list_20210310.xlsx\", engine=\"openpyxl\")\n",
    "patient_template = pd.read_csv(\"metadata_template-patient.tsv\", sep='\\t').dropna(axis=0, how='all')\n",
    "sample_template = pd.read_csv(\"metadata_template-sample.tsv\", sep='\\t').dropna(axis=0, how='all')"
   ]
  },
  {
   "cell_type": "code",
   "execution_count": 181,
   "id": "fd846ad2",
   "metadata": {},
   "outputs": [],
   "source": [
    "transformCellPassport_patient(cellPassportDf, pateint_template)\n"
   ]
  },
  {
   "cell_type": "code",
   "execution_count": null,
   "id": "96cf199b",
   "metadata": {},
   "outputs": [],
   "source": []
  }
 ],
 "metadata": {
  "kernelspec": {
   "display_name": "Python 3",
   "language": "python",
   "name": "python3"
  },
  "language_info": {
   "codemirror_mode": {
    "name": "ipython",
    "version": 3
   },
   "file_extension": ".py",
   "mimetype": "text/x-python",
   "name": "python",
   "nbconvert_exporter": "python",
   "pygments_lexer": "ipython3",
   "version": "3.6.9"
  }
 },
 "nbformat": 4,
 "nbformat_minor": 5
}
