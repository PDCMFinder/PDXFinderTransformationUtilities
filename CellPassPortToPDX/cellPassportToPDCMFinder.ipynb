{
 "cells": [
  {
   "cell_type": "code",
   "execution_count": 222,
   "outputs": [],
   "source": [
    "import pandas as pd\n",
    "import sys\n",
    "import math"
   ],
   "metadata": {
    "collapsed": false,
    "pycharm": {
     "name": "#%%\n"
    }
   }
  },
  {
   "cell_type": "code",
   "execution_count": 223,
   "outputs": [],
   "source": [
    "def align_and_append_sheet(template, other_sheet):\n",
    "    alignment = template.align(other_sheet, join=\"outer\")[1]\n",
    "    return template.append(alignment).dropna(axis=0, how='all').dropna(axis=1, how='all')"
   ],
   "metadata": {
    "collapsed": false,
    "pycharm": {
     "name": "#%%\n"
    }
   }
  },
  {
   "cell_type": "code",
   "execution_count": 224,
   "outputs": [],
   "source": [
    "def transformCellPassport_patient(cellPassportDf):\n",
    "    patient_columns = [\"patient_id\", \"gender\", \"smoking_status\", \"ethnicity\"]\n",
    "    # No direct value changes are needed for the patient sheet\n",
    "    patient_column_name_changes = {\"gender\":\"sex\", \"smoking_status\":\"history\"}\n",
    "    cell_passport_patient_sheet = cellPassportDf.loc[:, patient_columns].rename(columns = patient_column_name_changes)\n",
    "    align_and_append_sheet(patient_template, cell_passport_patient_sheet).to_csv(\"HCMI_metadata-patient.tsv\", sep='\\t', index=False)"
   ],
   "metadata": {
    "collapsed": false,
    "pycharm": {
     "name": "#%%\n"
    }
   }
  },
  {
   "cell_type": "code",
   "execution_count": 225,
   "outputs": [],
   "source": [
    "def numToMon(num):\n",
    "    month_str = \"\"\n",
    "    if not math.isnan(num):\n",
    "        num_int = int(num)\n",
    "        months = [\"jan\",\"feb\",\"mar\",\"apr\",\"may\",\"jun\",\"jul\",\"aug\",\"sep\",\"oct\",\"nov\",\"dec\" ]\n",
    "        month_str = months[num_int - 1]\n",
    "    return month_str"
   ],
   "metadata": {
    "collapsed": false,
    "pycharm": {
     "name": "#%%\n"
    }
   }
  },
  {
   "cell_type": "code",
   "execution_count": 226,
   "outputs": [],
   "source": [
    "def transformCellPassport_sample(cellPassportDf, sample_template):\n",
    "    sample_columns = [\"patient_id\", \"sample_id\", \"model_id\", \"sampling_year\", \"sampling_month\", \"age_at_sampling\", \"cancer_type_detail\", \"tissue_status\", \"tissue\", \"sample_site\", \"tnm_t\", \"tnm_n\", \"tnm_m\", \"tumour_grade\", \"sample_treatment\"]\n",
    "    cell_passport_columns = cellPassportDf.loc[:, sample_columns]\n",
    "    columns_To_Drop = [\"sampling_year\", \"sampling_month\", \"tnm_t\", \"tnm_n\", \"tnm_m\", \"sample_treatment\"]\n",
    "    sample_rename_mapping = { \"age_at_sampling\" : \"age_in_years_at_collection\", \"cancer_type_detail\":\"diagnosis\", \"tissue_status\":\"tumour_type\", \"tissue\" : \"primary_site\", \"sample_site\":\"collection_site\", \"tumour_grade\":  \"grade\" }\n",
    "    cell_passport_sample_sheet = cell_passport_columns.drop(columns=columns_To_Drop).rename(columns=sample_rename_mapping)\n",
    "    #Format collection date\n",
    "    cell_passport_columns[\"sampling_month\"] = cell_passport_columns[\"sampling_month\"].apply(numToMon)\n",
    "    cell_passport_sample_sheet['collection_date'] = cell_passport_columns[\"sampling_month\"] + \" \" + cell_passport_columns[\"sampling_year\"].astype(str)\n",
    "    cell_passport_sample_sheet['collection_date'] = cell_passport_sample_sheet['collection_date'].str.replace(\" nan\", \"\")\n",
    "    #Cat TNM staging system\n",
    "    cell_passport_sample_sheet['stage'] =  cell_passport_columns[\"tnm_t\"] + \",\" + cell_passport_columns[\"tnm_n\"] + \",\" +  cell_passport_columns[\"tnm_m\"]\n",
    "    #Hard coded values\n",
    "    cell_passport_sample_sheet[\"staging_system\"] = \"TNM staging system\"\n",
    "    cell_passport_sample_sheet[\"sharable\"] = \"yes\"\n",
    "    filtered_passport = cell_passport_sample_sheet[cell_passport_sample_sheet[\"tumour_type\"].isin(tumour_type_filter)]\n",
    "    #Need to proccess sample_treatment as well still\n",
    "    align_and_append_sheet(sample_template,filtered_passport).to_csv(\"HCMI_metadata-sample.tsv\", sep='\\t', index=False)"
   ],
   "metadata": {
    "collapsed": false,
    "pycharm": {
     "name": "#%%\n"
    }
   }
  },
  {
   "cell_type": "code",
   "execution_count": 227,
   "outputs": [],
   "source": [
    "def transformCellPassport_other_models(cellPassportDf, other_models_template):\n",
    "    other_models_columns = [\"model_id\", \"sample_id\", \"parent_id\", \"model_name\", \"model_type\", \"growth_properties\",\\\n",
    "                            \"model_comments\", \"model_relations_comment\", \"suppliers\", \"COSMIC_ID\", \"BROAD_ID\", \"RRID\", \\\n",
    "                            \"CCLE_ID\", \"pmed\"]\n",
    "    cp_other_models_columns =  cellPassportDf.loc[:, other_models_columns]\n",
    "    other_models_rename_map = {\"model_name\":\"name\", \"model_type\":\"type\", \"sample_id\": \"origin_patient_sample_id\",  \\\n",
    "                           \"suppliers\":\"supplier\", \"pmed\":\"publications\" }\n",
    "    cp_other_models_sheet = cp_other_models_columns.rename(columns=other_models_rename_map)#%%\n",
    "    cp_other_models_sheet['comments'] = cp_other_models_columns[[\"model_comments\", \"model_relations_comment\"]]\\\n",
    "        .fillna('')\\\n",
    "        .agg(' '.join, axis=1)\n",
    "    cp_other_models_columns['prepended_cosmic_id'] = cp_other_models_columns['COSMIC_ID'].astype(str).apply(lambda x: if_str_not_na_prepend_str(x, \"COSMIC\"))\n",
    "    cp_other_models_columns['prepended_CCLE_id'] = cp_other_models_columns['CCLE_ID'].astype(str).apply(lambda x: if_str_not_na_prepend_str(x, \"CCLE_Name:\"))\n",
    "    cp_other_models_sheet['external_ids'] = cp_other_models_columns[['prepended_cosmic_id', 'BROAD_ID', 'RRID', \"prepended_CCLE_id\"]]\\\n",
    "        .fillna('')\\\n",
    "        .astype(str)\\\n",
    "        .agg(','.join, axis=1)\n",
    "    cp_other_models_sheet['external_ids'] = cp_other_models_sheet['external_ids'].str.replace(r'^,+', '', regex=True)\n",
    "    cp_other_models_sheet['external_ids'] = cp_other_models_sheet['external_ids'].str.replace(r',+$', '', regex=True)\n",
    "    cp_other_models_sheet.loc[cp_other_models_sheet[\"parent_id\"].isna() ,\"origin_patient_sample_id\"] = \"\"\n",
    "    cp_other_models_sheet.loc[cp_other_models_sheet[\"parent_id\"].isna() ,\"origin_patient_sample_id\"] = \"\"\n",
    "    columns_to_drop = [\"model_comments\", \"model_relations_comment\", \"COSMIC_ID\", \"BROAD_ID\", \"RRID\", \"CCLE_ID\"]\n",
    "    cp_cleaned_other_model_sheet = cp_other_models_sheet.drop(columns= columns_to_drop)\n",
    "    align_and_append_sheet(other_models_template, cp_cleaned_other_model_sheet).to_csv(\"CellModelPasport_other_models_metadata.tsv\", sep='\\t', index=False)\n"
   ],
   "metadata": {
    "collapsed": false,
    "pycharm": {
     "name": "#%%\n"
    }
   }
  },
  {
   "cell_type": "code",
   "execution_count": 228,
   "outputs": [],
   "source": [
    "def if_str_not_na_prepend_str(str_to_check, str_to_prepend):\n",
    "    built_str = ''\n",
    "    str_to_check_arr = str_to_check.split(\";\")\n",
    "    space = \" \"\n",
    "    count = 0\n",
    "    for str_to_check in str_to_check_arr:\n",
    "        if str_to_check != 'nan' or str_to_check_arr != '':\n",
    "            built_str += f'{str_to_prepend}{str_to_check}{space*count}'\n",
    "    return built_str"
   ],
   "metadata": {
    "collapsed": false,
    "pycharm": {
     "name": "#%%\n"
    }
   }
  },
  {
   "cell_type": "code",
   "execution_count": 229,
   "outputs": [],
   "source": [
    "cellPassportDf = pd.read_excel(\"model_list_20210310.xlsx\", engine=\"openpyxl\").dropna(axis=0, how='all')"
   ],
   "metadata": {
    "collapsed": false,
    "pycharm": {
     "name": "#%%\n"
    }
   }
  },
  {
   "cell_type": "code",
   "execution_count": 230,
   "outputs": [],
   "source": [
    "tumour_type_filter = [\"Metastasis\", \"Unknown\", \"Tumour\"]\n",
    "filteredCpDf = cellPassportDf[cellPassportDf['HCMI'].isna() & cellPassportDf['tissue_status'].isin(tumour_type_filter) ]"
   ],
   "metadata": {
    "collapsed": false,
    "pycharm": {
     "name": "#%%\n"
    }
   }
  },
  {
   "cell_type": "code",
   "execution_count": 231,
   "outputs": [],
   "source": [
    "patient_template = pd.read_csv(\"metadata_template-patient.tsv\", sep='\\t').dropna(axis=0, how='all')\n",
    "sample_template = pd.read_csv(\"metadata_template-sample.tsv\", sep='\\t').dropna(axis=0, how='all')\n",
    "other_models_template = pd.read_csv(\"cell_and_organoid_metadata_template-other_models.tsv\", sep='\\t').dropna(axis=0, how='all')\n",
    "model_validation_template = pd.read_csv(\"metadata_template-model_validation.tsv\", sep='\\t').dropna(axis=0, how='all')\n"
   ],
   "metadata": {
    "collapsed": false,
    "pycharm": {
     "name": "#%%\n"
    }
   }
  },
  {
   "cell_type": "code",
   "execution_count": 233,
   "outputs": [],
   "source": [
    "final_columns_to_drop = [\"patient_id\", \"sample_id\", \"model_id\", \"sampling_year\", \\\n",
    "                                 \"sampling_month\", \"age_at_sampling\",\\\n",
    "                                 \"cancer_type_detail\", \"tissue_status\", \"tissue\", \\\n",
    "                                 \"sample_site\", \"tnm_t\", \"tnm_n\", \"tnm_m\", \"tumour_grade\",\\\n",
    "                                 \"sample_treatment\",\"model_name\", \"model_type\", \"growth_properties\", \\\n",
    "                                 \"model_comments\", \"model_relations_comment\", \"suppliers\", \"COSMIC_ID\",\\\n",
    "                                 \"BROAD_ID\", \"RRID\",  \"CCLE_ID\", \"pmed\", \"gender\", \"smoking_status\", \"ethnicity\"]\n",
    "cellPassportDf.drop(columns=final_columns_to_drop).to_csv(\"final_leftovers.tsv\", sep='\\t', index=False)"
   ],
   "metadata": {
    "collapsed": false,
    "pycharm": {
     "name": "#%%\n"
    }
   }
  },
  {
   "cell_type": "code",
   "execution_count": null,
   "outputs": [],
   "source": [
    "dropped = cellPassportDf.drop(columns=final_columns_to_drop)"
   ],
   "metadata": {
    "collapsed": false,
    "pycharm": {
     "name": "#%%\n"
    }
   }
  },
  {
   "cell_type": "code",
   "execution_count": null,
   "outputs": [],
   "source": [],
   "metadata": {
    "collapsed": false,
    "pycharm": {
     "name": "#%%\n"
    }
   }
  }
 ],
 "metadata": {
  "kernelspec": {
   "display_name": "Python 3",
   "language": "python",
   "name": "python3"
  },
  "language_info": {
   "codemirror_mode": {
    "name": "ipython",
    "version": 3
   },
   "file_extension": ".py",
   "mimetype": "text/x-python",
   "name": "python",
   "nbconvert_exporter": "python",
   "pygments_lexer": "ipython3",
   "version": "3.6.9"
  }
 },
 "nbformat": 4,
 "nbformat_minor": 5
}