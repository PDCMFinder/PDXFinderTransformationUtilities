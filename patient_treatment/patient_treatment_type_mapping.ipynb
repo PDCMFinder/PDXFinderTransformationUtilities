{
 "cells": [
  {
   "cell_type": "code",
   "execution_count": 4,
   "outputs": [
    {
     "name": "stderr",
     "output_type": "stream",
     "text": [
      "/Users/tushar/Library/Python/3.9/lib/python/site-packages/urllib3/__init__.py:34: NotOpenSSLWarning: urllib3 v2.0 only supports OpenSSL 1.1.1+, currently the 'ssl' module is compiled with 'LibreSSL 2.8.3'. See: https://github.com/urllib3/urllib3/issues/3020\n",
      "  warnings.warn(\n"
     ]
    }
   ],
   "source": [
    "from os import listdir, getcwd, rename, makedirs, remove, walk\n",
    "from os.path import isfile, join, isdir, exists\n",
    "from owlready2 import *\n",
    "import json\n",
    "import rdflib\n",
    "import requests\n",
    "import pandas as pd\n",
    "import logging, itertools\n",
    "from tqdm import tqdm\n",
    "import matplotlib.pyplot as plt\n",
    "\n",
    "log = logging.getLogger(__name__)\n",
    "logging.basicConfig(filename='patient_treatment_type.log', level=logging.INFO, format='%(levelname)s:%(asctime)s: %(message)s', datefmt='%d/%m/%Y %I:%M %p')"
   ],
   "metadata": {
    "collapsed": false,
    "ExecuteTime": {
     "end_time": "2023-10-10T13:35:37.665024Z",
     "start_time": "2023-10-10T13:35:35.347740Z"
    }
   },
   "id": "94c0e6c936bd8d26"
  },
  {
   "cell_type": "markdown",
   "source": [
    "### Common functions"
   ],
   "metadata": {
    "collapsed": false
   },
   "id": "d30ff94b833623b7"
  },
  {
   "cell_type": "code",
   "execution_count": 5,
   "outputs": [],
   "source": [
    "def get_dirs(path):\n",
    "    return [f for f in listdir(path) if isdir(join(path, f))]\n",
    "\n",
    "\n",
    "def get_files(path):\n",
    "    return [join(path, f) for f in listdir(path) if isfile(join(path, f)) and f.endswith(\".tsv\")]\n",
    "\n",
    "\n",
    "def read_metadata_without_fields(path):\n",
    "    metadata = pd.read_csv(path, sep='\\t', na_values=\"\", low_memory=False)\n",
    "    if 'Field' in metadata.columns:\n",
    "        metadata = metadata.loc[metadata.Field.str.startswith('#') != True,].reset_index(drop=True)\n",
    "        metadata = metadata.drop('Field', axis=1)\n",
    "    return metadata\n",
    "\n",
    "\n",
    "def read_metadata_with_fields(path):\n",
    "    metadata = pd.read_csv(path, sep='\\t', na_values=\"\", low_memory=False)\n",
    "    return metadata\n",
    "\n",
    "\n",
    "def sort_case_insensitive(sort_list):\n",
    "    return sorted(sort_list, key=str.casefold)\n",
    "\n",
    "\n",
    "start_dir = getcwd()\n",
    "home = \"/Users/tushar/CancerModels/pdxfinder-data/data/UPDOG/\"\n",
    "# out_path = \"/Users/tushar/CancerModels/pdxfinder-data/data/UPDOG/\"\n",
    "providers = sorted(get_dirs(home))\n"
   ],
   "metadata": {
    "collapsed": false,
    "ExecuteTime": {
     "end_time": "2023-10-10T13:35:37.693750Z",
     "start_time": "2023-10-10T13:35:37.667562Z"
    }
   },
   "id": "7b6566f92ed7d2ac"
  },
  {
   "cell_type": "code",
   "execution_count": 6,
   "outputs": [],
   "source": [
    "mappings = pd.read_json(\"/Users/tushar/CancerModels/pdxfinder-data/mapping/treatment_mappings.json\")\n",
    "mappings = pd.concat([mappings, mappings['mappingValues'].apply(pd.Series)], axis=1)\n",
    "#onto = World()\n",
    "#onto.get_ontology(\"file://ncit.owl\").load() #path to the owl file is given here\n",
    "#graph = onto.as_rdflib_graph()"
   ],
   "metadata": {
    "collapsed": false,
    "ExecuteTime": {
     "end_time": "2023-10-10T13:35:37.853887Z",
     "start_time": "2023-10-10T13:35:37.680110Z"
    }
   },
   "id": "d2f9a39046b45f58"
  },
  {
   "cell_type": "code",
   "execution_count": 7,
   "outputs": [],
   "source": [
    "treatment = pd.DataFrame()\n",
    "for root, dirs, files in walk(home):\n",
    "    for file in files:\n",
    "        if file.endswith(\"treatment-Sheet1.tsv\"):\n",
    "             data = pd.read_csv(join(root, file),sep='\\t')\n",
    "             if 'Field' in data.columns:\n",
    "                 data = data.loc[data['Field'].astype(str).str.startswith('#') != True,].reset_index(drop=True)\n",
    "                 data = data.drop('Field', axis=1)\n",
    "             data['provider'] = file.replace('_patienttreatment-Sheet1.tsv','')\n",
    "             treatment = pd.concat([treatment, data])\n",
    "treatment = treatment.fillna('')\n",
    "t_names = list(treatment.treatment_name.unique())\n",
    "# Initialize an empty list to store individual drugs\n",
    "individual_drugs = []\n",
    "\n",
    "# Iterate through the elements in the drug_list\n",
    "for element in t_names:\n",
    "    # Split the element using \"+\" as the separator\n",
    "    element = element.replace(\" + \", \"+\")\n",
    "    drugs = element.split(\"+\")\n",
    "    # Extend the individual_drugs list with the split drugs\n",
    "    individual_drugs.extend(drugs)\n",
    "individual_drugs = list(set(individual_drugs))"
   ],
   "metadata": {
    "collapsed": false,
    "ExecuteTime": {
     "end_time": "2023-10-10T13:35:39.509746Z",
     "start_time": "2023-10-10T13:35:39.254560Z"
    }
   },
   "id": "a14cf558af47248d"
  },
  {
   "cell_type": "code",
   "execution_count": 8,
   "outputs": [],
   "source": [
    "drugs = pd.DataFrame()\n",
    "for root, dirs, files in walk(home):\n",
    "    for file in files:\n",
    "        if file.endswith(\"drugdosing-Sheet1.tsv\"):\n",
    "             data = pd.read_csv(join(root, file),sep='\\t')\n",
    "             if 'Field' in data.columns:\n",
    "                 data = data.loc[data['Field'].astype(str).str.startswith('#') != True,].reset_index(drop=True)\n",
    "                 data = data.drop('Field', axis=1)\n",
    "             data['provider'] = file.replace('_drugdosing-Sheet1.tsv','')\n",
    "             drugs = pd.concat([drugs, data])\n",
    "drugs = drugs.fillna('')\n",
    "t_names = list(drugs.treatment_name.unique())\n",
    "# Initialize an empty list to store individual drugs\n",
    "dosing_individual_drugs = []\n",
    "\n",
    "# Iterate through the elements in the drug_list\n",
    "for element in t_names:\n",
    "    # Split the element using \"+\" as the separator\n",
    "    element = element.replace(\" + \", \"+\")\n",
    "    drug = element.split(\"+\")\n",
    "    # Extend the individual_drugs list with the split drugs\n",
    "    dosing_individual_drugs.extend(drug)\n",
    "dosing_individual_drugs = list(set(dosing_individual_drugs))"
   ],
   "metadata": {
    "collapsed": false,
    "ExecuteTime": {
     "end_time": "2023-10-10T13:35:40.413517Z",
     "start_time": "2023-10-10T13:35:40.208339Z"
    }
   },
   "id": "6f83b6688fed113b"
  },
  {
   "cell_type": "code",
   "execution_count": 10,
   "outputs": [],
   "source": [
    "set_a = set(dosing_individual_drugs)\n",
    "set_b = set(individual_drugs)\n",
    "\n",
    "result = list(set_a - set_b)\n",
    "individual_drugs = individual_drugs + result"
   ],
   "metadata": {
    "collapsed": false,
    "ExecuteTime": {
     "end_time": "2023-10-10T13:36:13.476607Z",
     "start_time": "2023-10-10T13:36:13.463618Z"
    }
   },
   "id": "4a99f9ea692ed1e0"
  },
  {
   "cell_type": "code",
   "execution_count": 58,
   "outputs": [],
   "source": [
    "treatment = treatment.replace(\"\", \"Not provided\")"
   ],
   "metadata": {
    "collapsed": false,
    "ExecuteTime": {
     "end_time": "2023-10-05T07:19:18.575143Z",
     "start_time": "2023-10-05T07:19:18.547048Z"
    }
   },
   "id": "573cdfcfa8e7eb23"
  },
  {
   "cell_type": "code",
   "execution_count": 101,
   "outputs": [
    {
     "data": {
      "text/plain": "<Figure size 640x480 with 1 Axes>",
      "image/png": "[encoded data removed]"
     },
     "metadata": {},
     "output_type": "display_data"
    }
   ],
   "source": [
    "x = treatment['treatment_duration'].str.replace(\".*cycle.*\", \"Cycles\", regex=True).str.replace(\"\\d.*\", \"Months\", regex=True).str.replace(\"Not.*\", \"Null values\", regex=True).replace(\"Ongoing\", \"Null values\").value_counts()/len(treatment['treatment_duration'])*100\n",
    "ax = x.plot(kind='bar')\n",
    "# Add labels and title\n",
    "plt.xlabel('Treatment duration')\n",
    "plt.ylabel('Percentage')\n",
    "plt.title('Overview of Treatment duration types')\n",
    "# Show the counts on top of the bars\n",
    "for i, count in enumerate(x):\n",
    "    ax.text(i, count, str(round(count, 2)), ha='center', va='bottom')\n",
    "# Show the plot\n",
    "plt.show()"
   ],
   "metadata": {
    "collapsed": false,
    "ExecuteTime": {
     "end_time": "2023-10-05T08:11:42.751176Z",
     "start_time": "2023-10-05T08:11:42.511667Z"
    }
   },
   "id": "2d5feda97988518d"
  },
  {
   "cell_type": "code",
   "execution_count": 102,
   "outputs": [
    {
     "data": {
      "text/plain": "<Figure size 640x480 with 1 Axes>",
      "image/png": "[encoded data removed]"
     },
     "metadata": {},
     "output_type": "display_data"
    }
   ],
   "source": [
    "x = treatment['treatment_starting_date'].str.replace(\"\\d*/\\d*/\\d*\", \"Date\", regex=True).str.replace(\"\\w*-\\d*\", \"Date\", regex=True).str.replace(\"\\d+\", \"Year\", regex=True).replace(\"Not provided\", \"Null value\").value_counts()/len(treatment['treatment_starting_date'])*100\n",
    "ax = x.plot(kind='bar')\n",
    "# Add labels and title\n",
    "plt.xlabel('Treatment starting date type')\n",
    "plt.ylabel('Percentage')\n",
    "plt.title('Overview of Treatment starting date types')\n",
    "# Show the counts on top of the bars\n",
    "for i, count in enumerate(x):\n",
    "    ax.text(i, count, str(round(count, 2)), ha='center', va='bottom')\n",
    "# Show the plot\n",
    "plt.show()"
   ],
   "metadata": {
    "collapsed": false,
    "ExecuteTime": {
     "end_time": "2023-10-05T08:12:54.105288Z",
     "start_time": "2023-10-05T08:12:53.920612Z"
    }
   },
   "id": "8856d68e48101273"
  },
  {
   "cell_type": "code",
   "execution_count": 93,
   "outputs": [
    {
     "data": {
      "text/plain": "treatment_starting_date\nNot provided    91.929382\nMay-15           0.126103\nMar-13           0.126103\n01/12/2018       0.126103\nJun-16           0.108089\n                  ...    \nMar-10           0.018015\nDec-19           0.018015\nDec-06           0.018015\nOct-05           0.018015\n28/11/2012       0.018015\nName: count, Length: 242, dtype: float64"
     },
     "execution_count": 93,
     "metadata": {},
     "output_type": "execute_result"
    }
   ],
   "source": [
    "treatment['treatment_starting_date'].value_counts()/len(treatment['treatment_starting_date'])*100"
   ],
   "metadata": {
    "collapsed": false,
    "ExecuteTime": {
     "end_time": "2023-10-05T08:02:44.257579Z",
     "start_time": "2023-10-05T08:02:44.231049Z"
    }
   },
   "id": "aeee6921cd8e24b6"
  },
  {
   "cell_type": "code",
   "execution_count": null,
   "outputs": [],
   "source": [],
   "metadata": {
    "collapsed": false
   },
   "id": "8a92c581ad999bec"
  },
  {
   "cell_type": "code",
   "execution_count": null,
   "outputs": [],
   "source": [],
   "metadata": {
    "collapsed": false
   },
   "id": "aab428efab90005e"
  },
  {
   "cell_type": "code",
   "execution_count": null,
   "outputs": [],
   "source": [
    "no_duration_df = treatment[[True if len(td)>2 else False for td in list(treatment['treatment_duration'].replace('', 'Not provided'))]].replace('', 'Not provided').reset_index(drop=True)\n",
    "no_duration_df"
   ],
   "metadata": {
    "collapsed": false
   },
   "id": "10828a41d098b739"
  },
  {
   "cell_type": "code",
   "execution_count": 11,
   "outputs": [],
   "source": [
    "mappings = mappings[['TreatmentName', 'mappedTermUrl', 'mappedTermLabel']].drop_duplicates(subset=['TreatmentName']).reset_index(drop=True)\n",
    "mapped = pd.DataFrame()\n",
    "not_mapped = []\n",
    "for drug in individual_drugs:\n",
    "    temp = mappings[mappings['TreatmentName'] == drug]\n",
    "    if len(temp)>0:\n",
    "        mapped = pd.concat([mapped, temp])\n",
    "    else:\n",
    "        not_mapped.append(drug)\n",
    "mapped = mapped.reset_index(drop=True)"
   ],
   "metadata": {
    "collapsed": false,
    "ExecuteTime": {
     "end_time": "2023-10-10T13:36:22.458506Z",
     "start_time": "2023-10-10T13:36:22.308407Z"
    }
   },
   "id": "7f1f70154edeb3c6"
  },
  {
   "cell_type": "code",
   "execution_count": null,
   "outputs": [],
   "source": [
    "no_duration_df.treatment_name.unique()"
   ],
   "metadata": {
    "collapsed": false
   },
   "id": "68e0bb0ded57beef"
  },
  {
   "cell_type": "code",
   "execution_count": 12,
   "outputs": [],
   "source": [
    "def read_file_as_list(file_path):\n",
    "    try:\n",
    "        with open(file_path, \"r\") as file:\n",
    "            # Read each line from the file and convert it to an integer, then append to the list\n",
    "            my_list = [str(line.strip()) for line in file]\n",
    "        return my_list\n",
    "    except FileNotFoundError:\n",
    "        print(f\"File '{file_path}' not found.\")\n",
    "    except Exception as e:\n",
    "        print(f\"An error occurred: {e}\")\n",
    "\n",
    "def read_file_as_dict(file_path):\n",
    "    # Open the JSON file for reading\n",
    "    try:\n",
    "        with open(file_path, \"r\") as file:\n",
    "            # Load the JSON data into a Python dictionary\n",
    "            my_dict = json.load(file)\n",
    "        return my_dict\n",
    "    except FileNotFoundError:\n",
    "        print(f\"File '{file_path}' not found.\")\n",
    "    except json.JSONDecodeError as e:\n",
    "        print(f\"JSON decoding error: {e}\")\n",
    "    except Exception as e:\n",
    "        print(f\"An error occurred: {e}\")"
   ],
   "metadata": {
    "collapsed": false,
    "ExecuteTime": {
     "end_time": "2023-10-10T13:36:24.806919Z",
     "start_time": "2023-10-10T13:36:24.799774Z"
    }
   },
   "id": "3e692980d661495a"
  },
  {
   "cell_type": "code",
   "execution_count": 21,
   "outputs": [],
   "source": [
    "class map_treatment_to_treatment_type:\n",
    "    def __init__(self, drug_list, mapped, drug_map):\n",
    "        self.label = \"\"\n",
    "        self.drug = None\n",
    "        self.data = list()\n",
    "        self.treatment_type = \"NA\"\n",
    "        self.mapped = mapped\n",
    "        self.drug_list = drug_list\n",
    "        self.map_d = drug_map\n",
    "        self.drug_info = list()\n",
    "        ## Keywords\n",
    "        self.targeted, self.hormone, self.immune = read_file_as_list(\"targeted_keywords.txt\"), read_file_as_list(\"hormone_keywords.txt\"), read_file_as_list(\"immune_keywords.txt\")\n",
    "        self.radiation = read_file_as_list(\"radiation_keywords.txt\")\n",
    "        self.chemo = [\"chemotherapy\", \"antineoplastic agent\", \"chemotherapeutic agent\", \"cytotoxic drug\", \"antineoplastic therapy\", \"chemo\"]\n",
    "    \n",
    "        ## Drugs \n",
    "        self.drug_skip_list = read_file_as_list(\"skip_list.txt\")\n",
    "        ## Drug names\n",
    "        self.surgery = [\"Biopsy\", \"surgery\", \"Surgery\", \"Lymphadenectomy\", \"Mastectomy\", \"Mastectomy\", \"Vertebroplasty\"]\n",
    "        self.stem_trans = [\"Autologous Hematopoietic Stem Cell Transplantation\"]\n",
    "        \n",
    "        self.unkown = read_file_as_list(\"no_mapping.txt\")\n",
    "        self.immune_drug = read_file_as_list(\"immune_drug.txt\")\n",
    "        self.hormone_drugs = read_file_as_list(\"hormone_drug.txt\")\n",
    "        self.targeted_drugs = read_file_as_list(\"targeted_drug.txt\")\n",
    "        self.chemo_drugs = read_file_as_list(\"chemo_drug.txt\")\n",
    "    def get_drug_info(self):\n",
    "        try:\n",
    "            self.drug_info = list(default_world.sparql(\"SELECT ?class ?dn ?desc WHERE {?class rdf:type owl:Class . ?class rdfs:label '\"+self.drug+\"' ?class obo:NCIT_P302 ?desc . ?class obo:NCIT_P107 ?dn . } \"))\n",
    "        except:\n",
    "            self.drug_info = []\n",
    "        if len(self.drug_info)>1:\n",
    "            temp_str = \"\"\n",
    "            for s in self.drug_info:\n",
    "                temp_str = temp_str + s[2]\n",
    "            self.drug_info = [self.drug_info[0][0], self.drug_info[0][1], temp_str]\n",
    "        elif len(self.drug_info) == 1:\n",
    "            self.drug_info = self.drug_info[0]\n",
    "        \n",
    "    def fetch_drug_OLS(self):\n",
    "        url = \"https://www.ebi.ac.uk/ols/api/search?q=\"+self.drug+\"&ontology=ncit\"\n",
    "        response = requests.get(url)\n",
    "        response = response.json()\n",
    "        if len(response['response']['docs'])>0:\n",
    "            response = response['response']['docs'][0]\n",
    "            try:\n",
    "                description = response['description'][0] \n",
    "            except:\n",
    "                description = ''\n",
    "                log.info(\"No description: \"+url+\"\\n\\n\")\n",
    "            self.drug_info = [response['iri'], response['label'], description]\n",
    "        else:\n",
    "            log.info(\"Not found in OLS: \"+url+\"\\n\\n\\n\")\n",
    "            self.drug_info = []\n",
    "\n",
    "    def get_ontology_rdf(self, url):\n",
    "        # You can now query the graph or extract information from it\n",
    "        # For example, let's print all triples in the graph:\n",
    "        treatment_type = \"NA\"\n",
    "        ht, tt, it, ct, rt = \"Hormone therapy\", \"Targeted therapy\", \"Immunotherapy\", \"Chemotherapy\", \"Radiation therapy\"\n",
    "        \n",
    "        if self.drug in self.unkown or self.drug.lower() in self.unkown:\n",
    "            treatment_type = \"Not provided\"\n",
    "        elif self.drug.__contains__(\"Radiation\") or self.drug in [\"Brachytherapy\"]:\n",
    "            treatment_type = rt\n",
    "        elif self.drug in self.hormone_drugs or self.drug.lower() in self.hormone_drugs or self.drug.capitalize() in self.hormone_drugs:\n",
    "            treatment_type = ht\n",
    "        elif self.drug in self.targeted_drugs or self.drug.lower() in self.targeted_drugs or self.drug.capitalize() in self.targeted_drugs:\n",
    "            treatment_type = tt\n",
    "        elif self.drug in self.chemo_drugs or self.drug.lower() in self.chemo_drugs or self.drug.capitalize() in self.chemo_drugs:\n",
    "            treatment_type = ct\n",
    "        elif self.drug in self.immune_drug or self.drug.lower() in self.immune_drug or self.drug.capitalize() in self.immune_drug:\n",
    "            treatment_type = it\n",
    "        elif self.drug in self.stem_trans:\n",
    "            treatment_type = \"Stem Cell or Bone Marrow Transplantation\"\n",
    "        elif self.drug in self.surgery:\n",
    "            treatment_type = \"Surgery\"\n",
    "           \n",
    "        # url = 'http://purl.obolibrary.org/obo/NCIT_C138044'\n",
    "        response = requests.get(url)\n",
    "        # Create a new RDF Graph\n",
    "        graph = rdflib.Graph()\n",
    "        # Parse the RDF/XML data\n",
    "        # Load RDF/XML data into the graph\n",
    "        graph.parse(data=response.text, format=\"xml\")  \n",
    "        for subj, pred, obj in graph:\n",
    "            #print(f\"Subject: {subj}\\nPredicate: {pred}\\nObject: {obj}\\n\")\n",
    "            if str(subj) == url and str(pred).__contains__(\"rdf-schema#label\"):\n",
    "                label = obj\n",
    "                if treatment_type != \"NA\":\n",
    "                    break            \n",
    "            if treatment_type == \"NA\":\n",
    "                obj = str(obj).lower()\n",
    "                if obj in self.targeted or any([obj.__contains__(t) for t in self.targeted]):\n",
    "                    treatment_type = tt\n",
    "                elif obj in self.hormone or any([obj.__contains__(h) for h in self.hormone]) :\n",
    "                    treatment_type = ht\n",
    "                elif obj in self.immune or any([obj.__contains__(i) for i in self.immune]):\n",
    "                    treatment_type = it\n",
    "                elif obj==\"chemotherapy_regimen_has_component\" or obj in self.chemo:\n",
    "                    treatment_type = ct\n",
    "                elif obj in self.radiation or any([obj.__contains__(i) for i in self.radiation]):\n",
    "                    treatment_type = rt\n",
    "        \n",
    "        if treatment_type == \"NA\":\n",
    "            log.info('No treatment type found for: '+ self.drug + ' | URL: '+url + \" | Label: \"+ label)\n",
    "        self.label = label\n",
    "        self.treatment_type = treatment_type\n",
    "        \n",
    "    def get_treatment_type(self):\n",
    "        onto_drug = str(self.drug_info[0])\n",
    "        if onto_drug.__contains__(\"obo.NCIT\"):\n",
    "            onto_drug = onto_drug.replace(\"obo.\", \"obo/\")\n",
    "            onto_drug = \"http://purl.obolibrary.org/\"+onto_drug\n",
    "        self.get_ontology_rdf(onto_drug)\n",
    "\n",
    "    def fetch_drug_information(self):\n",
    "        \n",
    "        for i in tqdm(range(0, len(self.drug_list)), desc =\"Collecting drug information: \"): \n",
    "            self.drug = self.drug_list[i]\n",
    "            self.label = \"\"\n",
    "            mappedURL = self.mapped[self.mapped['TreatmentName']==self.drug.lower()]['mappedTermUrl'].reset_index(drop=True)\n",
    "            if len(mappedURL) == 0 and self.drug not in self.drug_skip_list:\n",
    "                if self.drug in self.map_d:\n",
    "                    self.drug = self.map_d[self.drug]\n",
    "                self.get_drug_info()\n",
    "                if len(self.drug_info) == 0:\n",
    "                    self.fetch_drug_OLS()\n",
    "            else:\n",
    "                if self.drug in self.drug_skip_list:\n",
    "                    self.drug_info = []\n",
    "                else:\n",
    "                    self.drug_info = [mappedURL[0], self.drug, \"\"]\n",
    "            if len(self.drug_info) > 0:\n",
    "                self.get_treatment_type()\n",
    "                self.drug_info.append(self.treatment_type)\n",
    "                self.drug_info.append(self.label)\n",
    "                self.drug_info.append(self.drug_list[i])\n",
    "                self.data.append(self.drug_info)\n",
    "            else:\n",
    "                log.info(\"Skipped drug: \"+self.drug)\n",
    "                \n",
    "    def generate_df(self):\n",
    "        drug_info = pd.DataFrame(self.data, columns=['NCIT', 'treatment_name', 'description', 'treatment_type', 'drug_name', \"NCIT_label\"])\n",
    "        drug_info.to_csv('/Users/tushar/CancerModels/treatment_type.tsv', sep='\\t', index=False)\n",
    "    \n",
    "    def main(self):\n",
    "        self.fetch_drug_information()\n",
    "        self.generate_df()\n",
    "    "
   ],
   "metadata": {
    "collapsed": false,
    "ExecuteTime": {
     "end_time": "2023-10-10T13:41:12.302175Z",
     "start_time": "2023-10-10T13:41:12.294590Z"
    }
   },
   "id": "f611b78d7e9aee4c"
  },
  {
   "cell_type": "code",
   "execution_count": 22,
   "outputs": [
    {
     "name": "stderr",
     "output_type": "stream",
     "text": [
      "Collecting drug information: 100%|██████████| 337/337 [10:59<00:00,  1.96s/it]\n"
     ]
    }
   ],
   "source": [
    "drug_map = read_file_as_dict(\"drug_map.json\")\n",
    "get_treatment_type = map_treatment_to_treatment_type(sorted(individual_drugs), mapped, drug_map)\n",
    "get_treatment_type.main()"
   ],
   "metadata": {
    "collapsed": false,
    "ExecuteTime": {
     "end_time": "2023-10-10T13:52:12.031808Z",
     "start_time": "2023-10-10T13:41:12.639294Z"
    }
   },
   "id": "2feffe633c2f4b91"
  },
  {
   "cell_type": "markdown",
   "source": [
    "# Add treatment type"
   ],
   "metadata": {
    "collapsed": false
   },
   "id": "d16902bed662d625"
  },
  {
   "cell_type": "code",
   "execution_count": 24,
   "outputs": [],
   "source": [
    "treatment_mappings = pd.read_csv(\"/Users/tushar/CancerModels/treatment_type.tsv\", sep='\\t')"
   ],
   "metadata": {
    "collapsed": false,
    "ExecuteTime": {
     "end_time": "2023-10-10T13:56:37.999234Z",
     "start_time": "2023-10-10T13:56:37.976700Z"
    }
   },
   "id": "910570da61bece75"
  },
  {
   "cell_type": "markdown",
   "source": [
    "## Drug dosing"
   ],
   "metadata": {
    "collapsed": false
   },
   "id": "f95993d94c866012"
  },
  {
   "cell_type": "code",
   "execution_count": 25,
   "outputs": [],
   "source": [
    "def map_treatment_to_type(row):\n",
    "    drugs = row.replace(\" + \", \"+\")\n",
    "    drugs = drugs.split(\"+\")\n",
    "    treatment_type = \"\"\n",
    "    for drug in drugs:\n",
    "        tt = treatment_mappings[treatment_mappings[\"drug_name\"]==drug][\"treatment_type\"].reset_index(drop=True)\n",
    "        if len(tt)>1:\n",
    "            tt = tt[0]\n",
    "        if len(tt)>0:\n",
    "            if len(tt)==1:\n",
    "                tt = tt[0]\n",
    "            treatment_type = treatment_type + \"+\" +tt\n",
    "    if treatment_type == \"\":\n",
    "        treatment_type = \"Not provided\"\n",
    "    else:\n",
    "        treatment_type = treatment_type[1:]\n",
    "    treatment_list = treatment_type.split(\"+\")\n",
    "    all_same = all(element == treatment_list[0] for element in treatment_list)\n",
    "    if all_same:\n",
    "        return treatment_list[0]\n",
    "    return treatment_type\n",
    "    \n",
    "#new_col = \"treatment_type\"\n",
    "for root, dirs, files in walk(home):\n",
    "    for file in files:\n",
    "        if file.endswith(\"drugdosing-Sheet1.tsv\"):\n",
    "            data = pd.read_csv(join(root, file),sep='\\t')\n",
    "            columns = data.columns\n",
    "            data[\"treatment_type\"] = data['treatment_name'].apply(map_treatment_to_type)\n",
    "            data = data[columns]\n",
    "            data.to_csv(join(root, file),sep='\\t', index=False)\n",
    "            log.info(\"added treatment type to \"+ file)\n"
   ],
   "metadata": {
    "collapsed": false,
    "ExecuteTime": {
     "end_time": "2023-10-10T13:56:43.036611Z",
     "start_time": "2023-10-10T13:56:38.921776Z"
    }
   },
   "id": "83116924b1de284d"
  },
  {
   "cell_type": "markdown",
   "source": [
    "## Patient treatment"
   ],
   "metadata": {
    "collapsed": false
   },
   "id": "16e373b208446ca2"
  },
  {
   "cell_type": "code",
   "execution_count": null,
   "outputs": [],
   "source": [
    "def map_treatment_to_type(row):\n",
    "    drugs = row.replace(\" + \", \"+\")\n",
    "    drugs = drugs.split(\"+\")\n",
    "    treatment_type = \"\"\n",
    "    for drug in drugs:\n",
    "        tt = treatment_mappings[treatment_mappings[\"NCIT_label\"]==drug][\"treatment_type\"].reset_index(drop=True)\n",
    "        if len(tt)>1:\n",
    "            tt = tt[0]\n",
    "        if len(tt)>0:\n",
    "            if len(tt)==1:\n",
    "                tt = tt[0]\n",
    "            treatment_type = treatment_type + \"+\" +tt\n",
    "    if treatment_type == \"\":\n",
    "        treatment_type = \"Not provided\"\n",
    "    else:\n",
    "        treatment_type = treatment_type[1:]\n",
    "    treatment_list = treatment_type.split(\"+\")\n",
    "    all_same = all(element == treatment_list[0] for element in treatment_list)\n",
    "    if all_same:\n",
    "        return treatment_list[0]\n",
    "    return treatment_type\n",
    "    \n",
    "#new_col = \"treatment_type\"\n",
    "for root, dirs, files in walk(home):\n",
    "    for file in files:\n",
    "        if file.endswith(\"treatment-Sheet1.tsv\"):\n",
    "            #try:\n",
    "            data = pd.read_csv(join(root, file),sep='\\t')\n",
    "            columns = data.columns\n",
    "            #columns = columns.insert(3, new_col)\n",
    "            header = data[0:4]\n",
    "            #header[new_col] = [\"Treatment type categorised as Surgery, Radiation Therapy, Chemotherapy, Immunotherapy, Targeted Therapy, Hormone Therapy\",\n",
    "            #                   \"Chemotherapy\", \"[Surgery, Radiation Therapy, Chemotherapy, Immunotherapy, Targeted Therapy, Hormone Therapy]\", \"essential\"]\n",
    "            data = data[4:]\n",
    "            data[\"treatment_type\"] = data['treatment_name'].apply(map_treatment_to_type)\n",
    "            \n",
    "            data = pd.concat([header, data]).reset_index(drop=True)\n",
    "            data = data[columns]\n",
    "            data.to_csv(join(root, file),sep='\\t', index=False)\n",
    "            log.info(\"added treatment type to \"+ file)\n",
    "            #except Exception as e:\n",
    "            #    print(f\"Error processing {file}: {str(e)}\")"
   ],
   "metadata": {
    "collapsed": false
   },
   "id": "17911b1db23c944a"
  },
  {
   "cell_type": "code",
   "execution_count": null,
   "outputs": [],
   "source": [
    "def map_treatment_to_NCIT(row):\n",
    "    drugs = row.replace(\" + \", \"+\")\n",
    "    drugs = drugs.split(\"+\")\n",
    "    d = \"\"\n",
    "    if row.__contains__(\"FEC (\"):\n",
    "        d = \"FEC regimen\"\n",
    "    else:\n",
    "        for drug in drugs:\n",
    "            tt = treatment_mappings[treatment_mappings[\"drug_name\"]==drug][\"NCIT_label\"].reset_index(drop=True)\n",
    "            if len(tt)>1:\n",
    "                tt = tt[0]\n",
    "            if len(tt)>0:\n",
    "                tt = tt[0]\n",
    "            else:\n",
    "                tt = drug        \n",
    "            d = d + \"+\" +tt  \n",
    "        d = d[1:]\n",
    "    log.info(\"Remapped: \"+row+\" to \"+ d)\n",
    "    return d\n",
    "    \n",
    "for root, dirs, files in walk(home):\n",
    "    for file in files:\n",
    "        if file.endswith(\"treatment-Sheet1.tsv\"):\n",
    "            log.info(\"added treatment type to \"+ file)\n",
    "            data = pd.read_csv(join(root, file),sep='\\t')\n",
    "            header = data[0:4]\n",
    "            data = data[4:]\n",
    "            data[\"treatment_name\"] = data['treatment_name'].apply(map_treatment_to_NCIT)            \n",
    "            data = pd.concat([header, data]).reset_index(drop=True)\n",
    "            data.to_csv(join(root, file),sep='\\t', index=False)\n",
    "            "
   ],
   "metadata": {
    "collapsed": false
   },
   "id": "b45db13c4473988c"
  },
  {
   "cell_type": "markdown",
   "source": [
    "# Rename treaments/Mapping treatments\n",
    "- Curie-BC:\n",
    "    - rename EC100 to FEC100\n",
    "    - 3FUN\n",
    "    - 3TAC\n",
    "- CRL:\n",
    "    - rename leuvocorin to Leucovorin "
   ],
   "metadata": {
    "collapsed": false,
    "ExecuteTime": {
     "end_time": "2023-09-29T11:18:01.020494Z",
     "start_time": "2023-09-29T11:18:00.993635Z"
    }
   },
   "id": "7f409ed7bec946d8"
  },
  {
   "cell_type": "markdown",
   "source": [
    "treatment[treatment['treatment_name'].str.contains('Surgery')]"
   ],
   "metadata": {
    "collapsed": false,
    "ExecuteTime": {
     "end_time": "2023-09-29T11:20:01.612437Z",
     "start_time": "2023-09-29T11:20:01.466466Z"
    }
   },
   "id": "87b6ca01e0fcb553"
  },
  {
   "cell_type": "markdown",
   "source": [
    "list(onto.world.sparql(\"\"\"\n",
    "\n",
    "SELECT ?class ?dn\n",
    "WHERE {\n",
    "    ?class rdf:type owl:Class . \n",
    "    ?class rdfs:label ?label .\n",
    "    ?class obo:NCIT_P302 ?desc . \n",
    "    ?class obo:NCIT_P107 ?dn .\n",
    "    FILTER (regex(str(?label), \"regimen\", \"i\"))\n",
    "    OPTIONAL {}\n",
    "\n",
    "    } \n",
    "\"\"\"\n",
    "))\n",
    "\"\"\"\n",
    "SELECT ?class ?description\n",
    "WHERE {\n",
    "  ?class rdf:type owl:Class ;\n",
    "         rdfs:label \"Dasatinib\" .\n",
    "  OPTIONAL {\n",
    "    ?class oboInOwl:hasExactSynonym ?synonym .\n",
    "    FILTER(STR(?synonym) CONTAINS \"Dasatinib\")\n",
    "  }\n",
    "  OPTIONAL {\n",
    "    ?class obo:NCIT_P302 ?description .\n",
    "  }\n",
    "}\n",
    "\"\"\"\n",
    "list(default_world.sparql(\"SELECT ?class ?desc ?dn WHERE {?class rdf:type owl:Class . ?class rdfs:label 'Etoposide' ?class obo:NCIT_P107 'Etoposide'  ?class obo:NCIT_P302 ?desc . ?class obo:NCIT_P107 ?dn . } \"))\n",
    "list(default_world.sparql(\n",
    "    \"SELECT ?class ?dn  ?desc WHERE {?class rdf:type owl:Class ?class owl:Class obo:NCIT_C138044 ?class obo:NCIT_P302 ?desc . ?class obo:NCIT_P107 ?dn . }\"))\n",
    "list(default_world.sparql(\"\"\"\n",
    "            SELECT ?class ?onProperty\n",
    "            WHERE {\n",
    "              ?class rdfs:subClassOf [\n",
    "                rdf:type owl:Restriction ;\n",
    "                owl:onProperty ?onProperty ;\n",
    "                owl:someValuesFrom obo:NCIT_C2152\n",
    "              ] .\n",
    "            }\n",
    "    \"\"\"))\n",
    "list(default_world.sparql(\"\"\"\n",
    "            SELECT ?class ?onProperty\n",
    "            WHERE {\n",
    "              ?class rdfs:subClassOf [\n",
    "                rdf:type owl:Restriction ;\n",
    "                owl:onProperty ?onProperty ;\n",
    "                owl:someValuesFrom obo:NCIT_C38713\n",
    "              ] .\n",
    "            }\n",
    "    \"\"\"))\n",
    "\n",
    "\n",
    "import requests\n",
    "\n",
    "# Define a list of drug names\n",
    "drugs = list(treatment.treatment_name.unique())\n",
    "\n",
    "# Define a function to query NCIT and get drug information\n",
    "def get_drug_info(drug_name):\n",
    "    base_url = \"https://ncit.nci.nih.gov/ncitbrowser/api/ncitbrowser/vocabulary/term\"\n",
    "    params = {\n",
    "        \"type\": \"properties\",\n",
    "        \"format\": \"json\",\n",
    "        \"name\": drug_name\n",
    "    }\n",
    "    response = requests.get(base_url, params=params)\n",
    "    if response.status_code == 200:\n",
    "        data = response.json()\n",
    "        return data\n",
    "    else:\n",
    "        return None\n",
    "\n",
    "# Define a function to check if a drug is a chemotherapy drug based on NCIT\n",
    "def is_chemotherapy_drug(drug_info):\n",
    "    if drug_info and 'properties' in drug_info:\n",
    "        for prop in drug_info['properties']:\n",
    "            if 'label' in prop and prop['label'] == \"Chemotherapy Regimen Component\":\n",
    "                return True\n",
    "    return False\n",
    "\n",
    "# Iterate through the list of drugs and fetch drug information\n",
    "for drug in drugs:\n",
    "    drug_info = get_drug_info(drug)\n",
    "    if drug_info:\n",
    "        is_chemo = is_chemotherapy_drug(drug_info)\n",
    "        if is_chemo:\n",
    "            print(f\"{drug} is a chemotherapy drug.\")\n",
    "        else:\n",
    "            print(f\"{drug} is not a chemotherapy drug.\")\n",
    "    else:\n",
    "        print(f\"Information not found for {drug}.\")\n",
    "\n"
   ],
   "metadata": {
    "collapsed": false,
    "ExecuteTime": {
     "end_time": "2023-09-29T07:22:24.102866Z",
     "start_time": "2023-09-29T07:22:24.088140Z"
    }
   },
   "id": "ada465196e992386"
  }
 ],
 "metadata": {
  "kernelspec": {
   "display_name": "Python 3",
   "language": "python",
   "name": "python3"
  },
  "language_info": {
   "codemirror_mode": {
    "name": "ipython",
    "version": 2
   },
   "file_extension": ".py",
   "mimetype": "text/x-python",
   "name": "python",
   "nbconvert_exporter": "python",
   "pygments_lexer": "ipython2",
   "version": "2.7.6"
  }
 },
 "nbformat": 4,
 "nbformat_minor": 5
}
