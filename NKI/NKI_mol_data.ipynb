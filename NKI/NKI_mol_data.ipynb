{
 "cells": [
  {
   "metadata": {
    "ExecuteTime": {
     "end_time": "2024-08-09T12:32:55.831735Z",
     "start_time": "2024-08-09T12:32:55.612882Z"
    }
   },
   "cell_type": "code",
   "source": [
    "import pandas as pd\n",
    "from utils import *\n",
    "\n",
    "NKI_submission = \"/Users/tushar/CancerModels/submission/NKI/IDC\"\n",
    "NKI_dir = \"/Users/tushar/CancerModels/pdxfinder-data/data/UPDOG/NKI\"\n",
    "template = \"/Users/tushar/CancerModels/pdxfinder-data/template/active_templates/\""
   ],
   "id": "760e679cf554e6e2",
   "outputs": [],
   "execution_count": 1
  },
  {
   "metadata": {},
   "cell_type": "markdown",
   "source": "## Mutation VCF",
   "id": "eef7142575d65b80"
  },
  {
   "metadata": {
    "jupyter": {
     "is_executing": true
    },
    "ExecuteTime": {
     "start_time": "2024-08-09T12:32:56.740210Z"
    }
   },
   "cell_type": "code",
   "source": [
    "panelseq_columns = [\"CHROM\", \"POS\", \"ID\", \"REF\", \"ALT\", \"QUAL\", \"FILTER\", \"INFO\", \"FORMAT\", \"IDC025PanelSeqPDX\", \"IDC026PanelSeqPDX\", \"IDC029PanelSeqPDX\", \"IDC031PanelSeqPDX\", \"IDC032PanelSeqPDX\", \"IDC038PPanelSeqDX\", \"IDC057PanelSeqPDX\", \"IDC062PanelSeqPDX\", \"IDC065PanelSeqPDX\", \"IDC069PanelSeqPDX\", \"IDC072PanelSeqPDX\", \"IDC090BPanelSeqPDX\", \"IDC092PanelSeqPDX\", \"IDC097PanelSeqPDX\", \"IDC099PanelSeqPDX\", \"IDC107PanelSeqPDX\", \"IDC113PanelSeqPDX\", \"IDC117PanelSeqPDX\", \"IDC143PanelSeqPDX\", \"IDC152PanelSeqPDX\", \"IDC159APanelSeqPDX\", \"IDC159BPanelSeqPDX\", \"IDC180PanelSeqPDX\", \"IDC186PanelSeqPDX\", \"IDC192PanelSeqPDX\", \"IDC197PanelSeqPDX\", \"IDC198PanelSeqPDX\", \"IDC207PanelSeqPDX\", \"IDC209PanelSeqPDX\", \"IDC216PanelSeqPDX\", \"IDC218PanelSeqPDX\", \"IDC222PanelSeqPDX\", \"IDC223BPanelSeqPDX\", \"IDC229PanelSeqPDX\", \"IDC232PanelSeqPDX\", \"IDC274PanelSeqPDX\", \"IDC282PanelSeqPDX\", \"IDC290PanelSeqPDX\", \"IDC299PanelSeqPDX\", \"IDC307PanelSeqPDX\", \"IDC338PanelSeqPDX\", \"IDC344PanelSeqPDX\", \"IDC346PanelSeqPDX\", \"ILC006PanelSeqPDX\", \"ILC012PanelSeqPDX\", \"ILC083PanelSeqPDX\", \"ILC248PanelSeqPDX\"]\n",
    "mutation_raw_panel_seq = pd.read_csv(join(NKI_submission, 'cm_idc_nki_panelseq_newnames.vcf'),sep='\\t', comment='#',low_memory=False, names=panelseq_columns, header=None)"
   ],
   "id": "b56270c119bcb948",
   "outputs": [],
   "execution_count": null
  },
  {
   "metadata": {
    "jupyter": {
     "is_executing": true
    }
   },
   "cell_type": "code",
   "source": [
    "mutation_raw_panel_seq = mutation_raw_panel_seq.replace('./.:.:.:.:.:.:.:.:.:.', '').replace('./.:.:.:.:.:.:.', '')\n",
    "mutation_raw_panel_seq"
   ],
   "id": "343d6af8aa3dcf47",
   "outputs": [],
   "execution_count": null
  },
  {
   "metadata": {
    "jupyter": {
     "is_executing": true
    }
   },
   "cell_type": "code",
   "source": [
    "mutation_melted = mutation_raw_panel_seq[['CHROM', 'POS', 'ID', 'REF', 'ALT', \"IDC025PanelSeqPDX\", \"IDC026PanelSeqPDX\", \"IDC029PanelSeqPDX\", \"IDC031PanelSeqPDX\", \"IDC032PanelSeqPDX\", \"IDC038PPanelSeqDX\", \"IDC057PanelSeqPDX\", \"IDC062PanelSeqPDX\", \"IDC065PanelSeqPDX\", \"IDC069PanelSeqPDX\", \"IDC072PanelSeqPDX\", \"IDC090BPanelSeqPDX\", \"IDC092PanelSeqPDX\", \"IDC097PanelSeqPDX\", \"IDC099PanelSeqPDX\", \"IDC107PanelSeqPDX\", \"IDC113PanelSeqPDX\", \"IDC117PanelSeqPDX\", \"IDC143PanelSeqPDX\", \"IDC152PanelSeqPDX\", \"IDC159APanelSeqPDX\", \"IDC159BPanelSeqPDX\", \"IDC180PanelSeqPDX\", \"IDC186PanelSeqPDX\", \"IDC192PanelSeqPDX\", \"IDC197PanelSeqPDX\", \"IDC198PanelSeqPDX\", \"IDC207PanelSeqPDX\", \"IDC209PanelSeqPDX\", \"IDC216PanelSeqPDX\", \"IDC218PanelSeqPDX\", \"IDC222PanelSeqPDX\", \"IDC223BPanelSeqPDX\", \"IDC229PanelSeqPDX\", \"IDC232PanelSeqPDX\", \"IDC274PanelSeqPDX\", \"IDC282PanelSeqPDX\", \"IDC290PanelSeqPDX\", \"IDC299PanelSeqPDX\", \"IDC307PanelSeqPDX\", \"IDC338PanelSeqPDX\", \"IDC344PanelSeqPDX\", \"IDC346PanelSeqPDX\", \"ILC006PanelSeqPDX\", \"ILC012PanelSeqPDX\", \"ILC083PanelSeqPDX\", \"ILC248PanelSeqPDX\"]]\n",
    "dcis_columns = [col for col in mutation_melted.columns if 'DCIS' in col]\n",
    "mutation_melted = pd.melt(mutation_melted, id_vars=['CHROM', 'POS', 'ID', 'REF', 'ALT'], value_vars=dcis_columns, var_name='sample_id', value_name='value')\n",
    "mutation_melted = mutation_melted[mutation_melted['value'] != '']\n",
    "column_mapper = {'CHROM': 'chromosome', 'POS': 'seq_start_position', 'REF': 'ref_allele', 'ALT':'alt_allele'}\n",
    "mutation_melted.rename(columns=column_mapper, inplace=True)\n",
    "mutation_template = read_metadata_with_fields(join(template, 'mut/mutation_template_internal-Sheet1.tsv'))\n",
    "mutation_melted['strand'] = '+'\n",
    "mutation_melted['platform_id'] = 'mutation_panel_seq'\n",
    "chromosomes = ['1', '10', '11', '12', '13', '14', '15', '16', '17', '18', '19', '2', '20', '21', '22', '3', '4', '5', '6', '7', '8', '9', 'X', 'Y']\n",
    "mutation_melted = mutation_melted[mutation_melted['chromosome'].isin(chromosomes)]\n",
    "for col in mutation_template.columns:\n",
    "    if col not in mutation_melted:\n",
    "        mutation_melted[col] = ''"
   ],
   "id": "b2ead11b94093168",
   "outputs": [],
   "execution_count": null
  },
  {
   "metadata": {
    "jupyter": {
     "is_executing": true
    }
   },
   "cell_type": "code",
   "source": [
    "submission_mms = read_metadata_with_fields(join(NKI_dir, 'NKI_molecular_metadata-sample.tsv'))\n",
    "submission_model_sample_dict = submission_mms[['model_id', 'sample_id']].drop_duplicates().groupby(['model_id'])['sample_id'].apply(set).to_dict()"
   ],
   "id": "a5aad0a3e92abd1",
   "outputs": [],
   "execution_count": null
  },
  {
   "metadata": {},
   "cell_type": "code",
   "outputs": [],
   "execution_count": null,
   "source": [
    "sample_ids = [\"IDC025PanelSeqPDX\", \"IDC026PanelSeqPDX\", \"IDC029PanelSeqPDX\", \"IDC031PanelSeqPDX\", \"IDC032PanelSeqPDX\", \"IDC038PPanelSeqDX\", \"IDC057PanelSeqPDX\", \"IDC062PanelSeqPDX\", \"IDC065PanelSeqPDX\", \"IDC069PanelSeqPDX\", \"IDC072PanelSeqPDX\", \"IDC090BPanelSeqPDX\", \"IDC092PanelSeqPDX\", \"IDC097PanelSeqPDX\", \"IDC099PanelSeqPDX\", \"IDC107PanelSeqPDX\", \"IDC113PanelSeqPDX\", \"IDC117PanelSeqPDX\", \"IDC143PanelSeqPDX\", \"IDC152PanelSeqPDX\", \"IDC159APanelSeqPDX\", \"IDC159BPanelSeqPDX\", \"IDC180PanelSeqPDX\", \"IDC186PanelSeqPDX\", \"IDC192PanelSeqPDX\", \"IDC197PanelSeqPDX\", \"IDC198PanelSeqPDX\", \"IDC207PanelSeqPDX\", \"IDC209PanelSeqPDX\", \"IDC216PanelSeqPDX\", \"IDC218PanelSeqPDX\", \"IDC222PanelSeqPDX\", \"IDC223BPanelSeqPDX\", \"IDC229PanelSeqPDX\", \"IDC232PanelSeqPDX\", \"IDC274PanelSeqPDX\", \"IDC282PanelSeqPDX\", \"IDC290PanelSeqPDX\", \"IDC299PanelSeqPDX\", \"IDC307PanelSeqPDX\", \"IDC338PanelSeqPDX\", \"IDC344PanelSeqPDX\", \"IDC346PanelSeqPDX\", \"ILC006PanelSeqPDX\", \"ILC012PanelSeqPDX\", \"ILC083PanelSeqPDX\", \"ILC248PanelSeqPDX\"]\n",
    "\n",
    "for mid in submission_model_sample_dict.keys():\n",
    "    temp = mutation_melted[[sid in submission_model_sample_dict[mid] for sid in mutation_melted['sample_id']]]\n",
    "    #model_id = [mid for mid in submission_model_sample_dict if s in submission_model_sample_dict[mid]][0]\n",
    "    #temp = mutation_melted[mutation_melted['sample_id'] == s]\n",
    "    temp[mutation_template.columns].to_csv(join(NKI_submission, f'mut/NKI_mut_{mid}.tsv'), sep='\\t', index=False)"
   ],
   "id": "507ae8c348897758"
  },
  {
   "metadata": {},
   "cell_type": "code",
   "outputs": [],
   "execution_count": null,
   "source": "",
   "id": "8510a4b27998852d"
  },
  {
   "metadata": {},
   "cell_type": "markdown",
   "source": "## CNA data",
   "id": "8f680ff494acee6a"
  },
  {
   "metadata": {},
   "cell_type": "code",
   "outputs": [],
   "execution_count": null,
   "source": [
    "from utils import *\n",
    "\n",
    "NKI_submission = \"/Users/tushar/CancerModels/submission/NKI/IDC\"\n",
    "NKI_dir = \"/Users/tushar/CancerModels/pdxfinder-data/data/UPDOG/NKI\"\n",
    "template = \"/Users/tushar/CancerModels/pdxfinder-data/template/active_templates/\"\n",
    "\n",
    "\n",
    "def get_location_from_synonym(row):\n",
    "    symbol = row['symbol']\n",
    "    if isinstance(symbol, str):\n",
    "        pattern = \"(^|\\|)\" + symbol + \"($|\\|)\"\n",
    "        match = geneSymbol_location.loc[geneSymbol_location.Synonyms.str.contains(pattern)].reset_index(drop=True)\n",
    "        if len(match) > 1:\n",
    "            match = match.iloc[:1]\n",
    "        if len(match) > 0:\n",
    "            row['chromosome'], row['strand'], row['seq_start_position'], row['seq_end_position'], row['ncbi_gene_id'], \\\n",
    "            row['ensembl_gene_id'] = match['chromosome'][0], match['strand'][0], match['start'][0], match['end'][0], \\\n",
    "            match['GeneID'][0], match['ensembl_id'][0]\n",
    "    return row\n",
    "\n",
    "\n",
    "import requests\n",
    "import re\n",
    "\n",
    "\n",
    "def fetch_location_from_ucsc(url):\n",
    "    chr, location = None, None\n",
    "    try:\n",
    "        response = requests.get(url)\n",
    "        if response.ok:\n",
    "            response = response.json()\n",
    "            if \"positionMatches\" in response.keys() and 'matches' in response[\"positionMatches\"][\n",
    "                0].keys() and \"position\" in response[\"positionMatches\"][0]['matches'][0].keys():\n",
    "                response = response[\"positionMatches\"][0]['matches'][0]['position']\n",
    "                chr, location = response.split(':')\n",
    "                location = location.split('-')\n",
    "        return chr, location\n",
    "    except Exception as e:\n",
    "        print(f\"failed for symbol {url}\")\n",
    "        return None, None\n",
    "\n",
    "\n",
    "def get_location_from_ucsc_api(row):\n",
    "    if row['chromosome'] != '':\n",
    "        return row\n",
    "    url = f\"https://api.genome.ucsc.edu/search?search={row['symbol']}&genome=hg38\"\n",
    "    chr, location = fetch_location_from_ucsc(url)\n",
    "    if chr is not None and location is not None:\n",
    "        row['chromosome'] = chr.replace('chr', '')\n",
    "        row['seq_start_position'] = int(location[0])\n",
    "        row['seq_end_position'] = int(location[1])\n",
    "    if chr is None or location is None:\n",
    "        symbol = re.sub('\\.\\d*', '', row['symbol'])\n",
    "        url = f\"https://api.genome.ucsc.edu/search?search={symbol}&genome=hg38\"\n",
    "        chr, location = fetch_location_from_ucsc(url)\n",
    "        if chr is not None and location is not None:\n",
    "            row['chromosome'] = chr.replace('chr', '')\n",
    "            row['seq_start_position'] = int(location[0])\n",
    "            row['seq_end_position'] = int(location[1])\n",
    "    return row\n",
    "\n",
    "\n",
    "import numpy as np\n",
    "from tqdm import tqdm\n",
    "\n",
    "tqdm.pandas()\n",
    "\n",
    "\n",
    "# Define a function to convert log2 ratio to fold change\n",
    "def log2_to_fold_change(log2_ratio):\n",
    "    return 2 ** log2_ratio\n",
    "\n",
    "\n",
    "# Define a function to convert log2 ratio to log10 ratio\n",
    "def log2_to_log10(log2_ratio):\n",
    "    return log2_ratio / np.log10(2)\n",
    "\n",
    "\n",
    "genes = pd.read_csv('../resources/genes.tsv', sep='\\t')\n",
    "cna_matrix = read_metadata_with_fields(join(NKI_submission, 'cna/cna_cm_dcis_nki.txt'))\n",
    "cna_long_format = cna_matrix.melt(id_vars=[\"index\"], var_name=\"sample_id\", value_name=\"log2r_cna\").rename(\n",
    "    columns={\"index\": \"symbol\"})\n",
    "cna_long_format['log10r_cna'] = cna_long_format['log2r_cna'].apply(log2_to_log10)\n",
    "cna_long_format['fold_change'] = cna_long_format['log2r_cna'].apply(log2_to_fold_change)\n",
    "cna_long_format = cna_long_format.merge(\n",
    "    genes[['Symbol', 'chromosome', 'strand', 'start', 'end', 'GeneID', 'ensembl_id']], left_on='symbol',\n",
    "    right_on='Symbol', how='left').rename(\n",
    "    columns={'start': 'seq_start_position', 'end': 'seq_end_position', 'ensembl_id': 'ensembl_gene_id',\n",
    "             'GeneID': 'ncbi_gene_id'})\n",
    "#cna_long_format = cna_long_format.apply(get_location_from_synonym, axis=1)\n",
    "cna_long_format[cna_long_format['chromosome'].isna()].drop_duplicates('symbol')\n",
    "mapping = cna_long_format[['symbol', 'chromosome', 'strand', 'seq_start_position', 'seq_end_position', 'ncbi_gene_id',\n",
    "                           'ensembl_gene_id']].drop_duplicates().progress_apply(get_location_from_synonym, axis=1)\n",
    "other_mapping = mapping[mapping['chromosome'].isna()]\n",
    "other_mapping = other_mapping.fillna('').progress_apply(get_location_from_ucsc_api, axis=1)\n",
    "other_mapping = other_mapping.fillna('').progress_apply(get_location_from_ucsc_api, axis=1)\n",
    "other_mapping['strand'] = '+'\n",
    "mapping = pd.concat([other_mapping, mapping]).drop_duplicates(subset='symbol').reset_index(drop=True)\n",
    "# Perform an outer merge\n",
    "merged_df = pd.merge(cna_long_format, mapping, on=['symbol'], how='left', suffixes=('_df1', '_df2'))"
   ],
   "id": "initial_id"
  },
  {
   "metadata": {},
   "cell_type": "code",
   "outputs": [],
   "execution_count": null,
   "source": "",
   "id": "d621d64b83708760"
  },
  {
   "metadata": {},
   "cell_type": "code",
   "outputs": [],
   "execution_count": null,
   "source": "",
   "id": "80c8aebb2e84aea6"
  },
  {
   "metadata": {},
   "cell_type": "code",
   "outputs": [],
   "execution_count": null,
   "source": "",
   "id": "22517117e4405b8a"
  },
  {
   "metadata": {},
   "cell_type": "code",
   "outputs": [],
   "execution_count": null,
   "source": "",
   "id": "724460276075678b"
  },
  {
   "metadata": {},
   "cell_type": "code",
   "outputs": [],
   "execution_count": null,
   "source": "",
   "id": "47d70719b48fa108"
  },
  {
   "metadata": {},
   "cell_type": "code",
   "outputs": [],
   "execution_count": null,
   "source": [
    "cols = ['chromosome', 'strand', 'seq_start_position', 'seq_end_position', 'ncbi_gene_id', 'ensembl_gene_id']\n",
    "# Fill missing values in df1 columns with corresponding df2 columns\n",
    "for column in cols:\n",
    "    merged_df[column] = merged_df[f'{column}_df1'].combine_first(merged_df[f'{column}_df2'])\n",
    "\n",
    "# Drop the temporary columns used for merging\n",
    "merged_df.drop(columns=[f'{col}_df1' for col in cols], inplace=True)\n",
    "merged_df.drop(columns=[f'{col}_df2' for col in cols], inplace=True)\n",
    "merged_df.strand = merged_df.strand.astype(str).str.replace('-1.0', '-').str.replace('1.0', '+')\n",
    "merged_df.strand.unique()\n",
    "merged_df[merged_df['chromosome'] == ''].drop_duplicates(subset=['symbol'])\n",
    "merged_df[merged_df['chromosome'] == ''].shape[0] / merged_df.shape[0] * 100\n",
    "cna_long_format = merged_df[merged_df['chromosome'] != '']\n",
    "mapping[(mapping['chromosome'] != '') & (mapping['strand'] == '')]\n",
    "mapping\n"
   ],
   "id": "a1ff998ed6859418"
  },
  {
   "metadata": {},
   "cell_type": "code",
   "outputs": [],
   "execution_count": null,
   "source": [
    "submission_mms = read_metadata_with_fields(join(NKI_submission, 'molecular data/NKI_molecular_metadata_DCIS-sample.tsv'))\n",
    "submission_model_sample_dict = submission_mms[['model_id', 'sample_id']].drop_duplicates().groupby(['model_id'])['sample_id'].apply(set).to_dict()\n",
    "\n",
    "cna_template = read_metadata_with_fields(join(template, 'cna/cna_template-sheet.tsv'))\n",
    "cna_long_format = cna_long_format.merge(submission_mms[['sample_id', 'platform_id']], on='sample_id', how='left')\n",
    "for col in cna_template.columns:\n",
    "    if col not in cna_long_format.columns:\n",
    "        cna_long_format[col] = ''\n",
    "cna_long_format['platform_id'] = 'cna_' + cna_long_format['platform_id']\n",
    "for mid in submission_model_sample_dict.keys():\n",
    "    temp = cna_long_format[[sid in submission_model_sample_dict[mid] for sid in cna_long_format['sample_id']]]\n",
    "    temp[cna_template.columns].to_csv(join(NKI_submission, f'cna/NKI_cna_{mid}.tsv'), sep='\\t', index=False)"
   ],
   "id": "3da585a6053a0e1c"
  },
  {
   "metadata": {},
   "cell_type": "code",
   "outputs": [],
   "execution_count": null,
   "source": "",
   "id": "9cbbe29ff68e656f"
  },
  {
   "metadata": {},
   "cell_type": "code",
   "outputs": [],
   "execution_count": null,
   "source": "",
   "id": "88ca8932627982ad"
  },
  {
   "metadata": {},
   "cell_type": "code",
   "outputs": [],
   "execution_count": null,
   "source": "",
   "id": "ffdd401c7014c894"
  },
  {
   "metadata": {},
   "cell_type": "markdown",
   "source": "## Expression",
   "id": "8f545a638778c9f2"
  },
  {
   "metadata": {},
   "cell_type": "code",
   "outputs": [],
   "execution_count": 13,
   "source": [
    "NKI_mms = join(NKI_dir, 'NKI_molecular_metadata-sample.tsv')\n",
    "NKI_mms = read_metadata_without_fields(NKI_mms)\n",
    "NKI_exp = read_metadata_with_fields(join(NKI_dir, 'expression/NKI_expression.tsv'))\n",
    "NKI_exp['strand'] = NKI_exp['strand'].str.replace('plus', '+').str.replace('minus', '-')"
   ],
   "id": "7dd42b4566a917e6"
  },
  {
   "metadata": {},
   "cell_type": "code",
   "outputs": [],
   "execution_count": 53,
   "source": [
    "submission_mms = read_metadata_with_fields(join(NKI_submission, 'molecular data/NKI_molecular_metadata_DCIS-sample.tsv'))\n",
    "submission_model_sample_dict = submission_mms[['model_id', 'sample_id']].drop_duplicates().groupby(['model_id'])['sample_id'].apply(set).to_dict()\n",
    "expression_matrix = read_metadata_with_fields(join(NKI_submission, 'expression/tpm_cm_dcis_nki.txt'))\n",
    "tpm_long_format = expression_matrix.melt(id_vars=[\"Gene name\", \"Geneid\"], var_name=\"sample_id\", value_name=\"rnaseq_tpm\").rename(columns={\"Gene name\": \"symbol\", \"Geneid\": \"ensembl_gene_id\"})\n",
    "expression_template = read_metadata_with_fields(join(template, 'expression/expression_template-sheet.tsv'))\n",
    "tpm_long_format = tpm_long_format.merge(submission_mms[['sample_id', 'platform_id']], on='sample_id', how='left')\n",
    "for col in expression_template.columns:\n",
    "    if col not in tpm_long_format.columns:\n",
    "        tpm_long_format[col] = ''\n",
    "tpm_long_format['platform_id'] = 'expression_' + tpm_long_format['platform_id']\n",
    "for mid in submission_model_sample_dict.keys():\n",
    "    temp = tpm_long_format[[sid in submission_model_sample_dict[mid] for sid in tpm_long_format['sample_id']]]\n",
    "    temp[expression_template.columns].to_csv(join(NKI_submission, f'expression/NKI_expression_{mid}.tsv'), sep='\\t', index=False)\n",
    "\n",
    "    "
   ],
   "id": "7e18abfd79b09c57"
  }
 ],
 "metadata": {
  "kernelspec": {
   "display_name": "Python 3",
   "language": "python",
   "name": "python3"
  },
  "language_info": {
   "codemirror_mode": {
    "name": "ipython",
    "version": 2
   },
   "file_extension": ".py",
   "mimetype": "text/x-python",
   "name": "python",
   "nbconvert_exporter": "python",
   "pygments_lexer": "ipython2",
   "version": "2.7.6"
  }
 },
 "nbformat": 4,
 "nbformat_minor": 5
}
