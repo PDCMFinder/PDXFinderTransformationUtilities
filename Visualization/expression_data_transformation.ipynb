{
 "cells": [
  {
   "cell_type": "code",
   "id": "initial_id",
   "metadata": {
    "collapsed": true,
    "ExecuteTime": {
     "end_time": "2024-07-24T08:15:53.028813Z",
     "start_time": "2024-07-24T08:15:53.025045Z"
    }
   },
   "source": "from utils import *",
   "outputs": [],
   "execution_count": 29
  },
  {
   "metadata": {
    "ExecuteTime": {
     "end_time": "2024-07-24T08:32:58.113720Z",
     "start_time": "2024-07-24T08:32:58.107398Z"
    }
   },
   "cell_type": "code",
   "source": [
    "def tpm2fpkm(tpm):\n",
    "    scaling_factor = tpm.sum() / 1e6\n",
    "    fpkm = round((tpm * scaling_factor), 2)\n",
    "    return fpkm\n",
    "\n",
    "def fpkm2tpm(fpkm):\n",
    "    scaling_factor = fpkm.sum() / 1e6\n",
    "    tpm = round((fpkm / scaling_factor) , 2)\n",
    "    return tpm"
   ],
   "id": "eec65c426c17ad4e",
   "outputs": [],
   "execution_count": 70
  },
  {
   "metadata": {
    "ExecuteTime": {
     "end_time": "2024-07-24T08:27:38.148034Z",
     "start_time": "2024-07-24T08:27:38.011387Z"
    }
   },
   "cell_type": "code",
   "source": [
    "path = join(home, 'CMP/expression/rnaseq')\n",
    "files = get_files(path)\n",
    "expression_df = read_metadata_with_fields(join(path, files[0]))\n",
    "temp = expression_df[['sample_id', 'symbol', 'rnaseq_fpkm', 'rnaseq_tpm']]\n",
    "temp"
   ],
   "id": "397926ad1146f68a",
   "outputs": [
    {
     "data": {
      "text/plain": [
       "       sample_id    symbol  rnaseq_fpkm  rnaseq_tpm\n",
       "0      SIDS00694    TSPAN6         8.98        3.70\n",
       "1      SIDS00694      TNMD         0.01        0.01\n",
       "2      SIDS00694      DPM1        37.26        5.67\n",
       "3      SIDS00694     SCYL3         4.62        2.85\n",
       "4      SIDS00694  C1orf112        15.21        4.42\n",
       "...          ...       ...          ...         ...\n",
       "38120  SIDS00694    PTCSC1         0.00        0.00\n",
       "38121  SIDS00694   FAM106B         0.23        0.38\n",
       "38122  SIDS00694   FAM106C         1.02        1.24\n",
       "38123  SIDS00694   ZNF75CP         0.10        0.19\n",
       "38124  SIDS00694    SMIM42         0.01        0.01\n",
       "\n",
       "[38125 rows x 4 columns]"
      ],
      "text/html": [
       "<div>\n",
       "<style scoped>\n",
       "    .dataframe tbody tr th:only-of-type {\n",
       "        vertical-align: middle;\n",
       "    }\n",
       "\n",
       "    .dataframe tbody tr th {\n",
       "        vertical-align: top;\n",
       "    }\n",
       "\n",
       "    .dataframe thead th {\n",
       "        text-align: right;\n",
       "    }\n",
       "</style>\n",
       "<table border=\"1\" class=\"dataframe\">\n",
       "  <thead>\n",
       "    <tr style=\"text-align: right;\">\n",
       "      <th></th>\n",
       "      <th>sample_id</th>\n",
       "      <th>symbol</th>\n",
       "      <th>rnaseq_fpkm</th>\n",
       "      <th>rnaseq_tpm</th>\n",
       "    </tr>\n",
       "  </thead>\n",
       "  <tbody>\n",
       "    <tr>\n",
       "      <th>0</th>\n",
       "      <td>SIDS00694</td>\n",
       "      <td>TSPAN6</td>\n",
       "      <td>8.98</td>\n",
       "      <td>3.70</td>\n",
       "    </tr>\n",
       "    <tr>\n",
       "      <th>1</th>\n",
       "      <td>SIDS00694</td>\n",
       "      <td>TNMD</td>\n",
       "      <td>0.01</td>\n",
       "      <td>0.01</td>\n",
       "    </tr>\n",
       "    <tr>\n",
       "      <th>2</th>\n",
       "      <td>SIDS00694</td>\n",
       "      <td>DPM1</td>\n",
       "      <td>37.26</td>\n",
       "      <td>5.67</td>\n",
       "    </tr>\n",
       "    <tr>\n",
       "      <th>3</th>\n",
       "      <td>SIDS00694</td>\n",
       "      <td>SCYL3</td>\n",
       "      <td>4.62</td>\n",
       "      <td>2.85</td>\n",
       "    </tr>\n",
       "    <tr>\n",
       "      <th>4</th>\n",
       "      <td>SIDS00694</td>\n",
       "      <td>C1orf112</td>\n",
       "      <td>15.21</td>\n",
       "      <td>4.42</td>\n",
       "    </tr>\n",
       "    <tr>\n",
       "      <th>...</th>\n",
       "      <td>...</td>\n",
       "      <td>...</td>\n",
       "      <td>...</td>\n",
       "      <td>...</td>\n",
       "    </tr>\n",
       "    <tr>\n",
       "      <th>38120</th>\n",
       "      <td>SIDS00694</td>\n",
       "      <td>PTCSC1</td>\n",
       "      <td>0.00</td>\n",
       "      <td>0.00</td>\n",
       "    </tr>\n",
       "    <tr>\n",
       "      <th>38121</th>\n",
       "      <td>SIDS00694</td>\n",
       "      <td>FAM106B</td>\n",
       "      <td>0.23</td>\n",
       "      <td>0.38</td>\n",
       "    </tr>\n",
       "    <tr>\n",
       "      <th>38122</th>\n",
       "      <td>SIDS00694</td>\n",
       "      <td>FAM106C</td>\n",
       "      <td>1.02</td>\n",
       "      <td>1.24</td>\n",
       "    </tr>\n",
       "    <tr>\n",
       "      <th>38123</th>\n",
       "      <td>SIDS00694</td>\n",
       "      <td>ZNF75CP</td>\n",
       "      <td>0.10</td>\n",
       "      <td>0.19</td>\n",
       "    </tr>\n",
       "    <tr>\n",
       "      <th>38124</th>\n",
       "      <td>SIDS00694</td>\n",
       "      <td>SMIM42</td>\n",
       "      <td>0.01</td>\n",
       "      <td>0.01</td>\n",
       "    </tr>\n",
       "  </tbody>\n",
       "</table>\n",
       "<p>38125 rows × 4 columns</p>\n",
       "</div>"
      ]
     },
     "execution_count": 60,
     "metadata": {},
     "output_type": "execute_result"
    }
   ],
   "execution_count": 60
  },
  {
   "metadata": {
    "ExecuteTime": {
     "end_time": "2024-07-24T08:32:29.097144Z",
     "start_time": "2024-07-24T08:32:29.082773Z"
    }
   },
   "cell_type": "code",
   "source": "fpkm2tpm(temp['rnaseq_fpkm'])",
   "id": "dec873271638e49e",
   "outputs": [
    {
     "data": {
      "text/plain": [
       "0        12.24\n",
       "1         0.01\n",
       "2        50.79\n",
       "3         6.30\n",
       "4        20.73\n",
       "         ...  \n",
       "38120     0.00\n",
       "38121     0.31\n",
       "38122     1.39\n",
       "38123     0.14\n",
       "38124     0.01\n",
       "Name: rnaseq_fpkm, Length: 38125, dtype: float64"
      ]
     },
     "execution_count": 69,
     "metadata": {},
     "output_type": "execute_result"
    }
   ],
   "execution_count": 69
  },
  {
   "metadata": {
    "ExecuteTime": {
     "end_time": "2024-07-24T08:33:00.722251Z",
     "start_time": "2024-07-24T08:33:00.710128Z"
    }
   },
   "cell_type": "code",
   "source": "tpm2fpkm(temp['rnaseq_tpm'])",
   "id": "f05e9ae38b02f2e3",
   "outputs": [
    {
     "data": {
      "text/plain": [
       "0        0.22\n",
       "1        0.00\n",
       "2        0.33\n",
       "3        0.17\n",
       "4        0.26\n",
       "         ... \n",
       "38120    0.00\n",
       "38121    0.02\n",
       "38122    0.07\n",
       "38123    0.01\n",
       "38124    0.00\n",
       "Name: rnaseq_tpm, Length: 38125, dtype: float64"
      ]
     },
     "execution_count": 71,
     "metadata": {},
     "output_type": "execute_result"
    }
   ],
   "execution_count": 71
  },
  {
   "metadata": {
    "ExecuteTime": {
     "end_time": "2024-07-24T08:12:22.948707Z",
     "start_time": "2024-07-24T08:12:22.943408Z"
    }
   },
   "cell_type": "code",
   "source": "sum_tpm",
   "id": "a274147911c87147",
   "outputs": [
    {
     "data": {
      "text/plain": [
       "1000000.22"
      ]
     },
     "execution_count": 15,
     "metadata": {},
     "output_type": "execute_result"
    }
   ],
   "execution_count": 15
  },
  {
   "metadata": {},
   "cell_type": "code",
   "outputs": [],
   "execution_count": null,
   "source": "",
   "id": "7b7bc286abbd46b2"
  }
 ],
 "metadata": {
  "kernelspec": {
   "display_name": "Python 3",
   "language": "python",
   "name": "python3"
  },
  "language_info": {
   "codemirror_mode": {
    "name": "ipython",
    "version": 2
   },
   "file_extension": ".py",
   "mimetype": "text/x-python",
   "name": "python",
   "nbconvert_exporter": "python",
   "pygments_lexer": "ipython2",
   "version": "2.7.6"
  }
 },
 "nbformat": 4,
 "nbformat_minor": 5
}
