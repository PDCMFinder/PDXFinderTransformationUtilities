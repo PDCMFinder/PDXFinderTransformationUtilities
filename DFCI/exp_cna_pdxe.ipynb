{
 "cells": [
  {
   "cell_type": "code",
   "id": "initial_id",
   "metadata": {
    "collapsed": true,
    "ExecuteTime": {
     "end_time": "2024-07-05T13:08:03.861607Z",
     "start_time": "2024-07-05T13:08:02.474749Z"
    }
   },
   "source": [
    "import pandas as pd\n",
    "from utils import home, join, get_files, read_metadata_without_fields, read_metadata_with_fields\n",
    "import numpy as np"
   ],
   "outputs": [],
   "execution_count": 1
  },
  {
   "metadata": {
    "ExecuteTime": {
     "end_time": "2024-07-05T13:13:02.667715Z",
     "start_time": "2024-07-05T13:08:03.865154Z"
    }
   },
   "cell_type": "code",
   "source": [
    "rna_seq = pd.read_excel('pdxe_mol_data.xlsx', sheet_name='RNAseq_fpkm')\n",
    "cna = pd.read_excel('pdxe_mol_data.xlsx', sheet_name='copy number')"
   ],
   "id": "85e430feac55281c",
   "outputs": [],
   "execution_count": 2
  },
  {
   "metadata": {
    "ExecuteTime": {
     "end_time": "2024-07-04T14:35:36.877695Z",
     "start_time": "2024-07-04T14:34:26.706644Z"
    }
   },
   "cell_type": "code",
   "source": [
    "dfci = join(home, 'DFCI-CPDM')\n",
    "files = [f for f in get_files(dfci) if f.endswith('tsv')]\n",
    "ps = read_metadata_without_fields(join(home, 'DFCI-CPDM/DFCI-CPDM_metadata-patient_sample.tsv'))\n",
    "pdx = read_metadata_without_fields(join(home, 'DFCI-CPDM/DFCI-CPDM_metadata-pdx_model.tsv'))\n",
    "mms = read_metadata_without_fields(join(home, 'DFCI-CPDM/DFCI-CPDM_molecular_metadata-sample.tsv'))\n",
    "mms_header = read_metadata_with_fields(join(home, 'DFCI-CPDM/DFCI-CPDM_molecular_metadata-sample.tsv')).iloc[0:4,:]\n",
    "\n",
    "expression_template = read_metadata_with_fields('expression_template-sheet.tsv')\n",
    "samples = 'NIBR' + rna_seq.columns\n",
    "matched_samples = rna_seq.columns[[True if s in ps.model_id.to_list() or s == 'NIBRSample' else False for s in samples]]\n",
    "df = rna_seq[matched_samples]\n",
    "\n",
    "for sample in df.columns[1:]:\n",
    "    out_df = pd.DataFrame(columns=expression_template.columns)\n",
    "    sample_id = 'NIBR' + sample.replace('X', '')\n",
    "    out_df['rnaseq_fpkm'] = df[sample]\n",
    "    out_df['symbol'] = df['Sample']\n",
    "    out_df['sample_id'] = sample_id\n",
    "    out_df['platform_id'] = 'expression_rna_seq'\n",
    "    sum_fpkm = out_df['rnaseq_fpkm'].sum()\n",
    "    out_df['rnaseq_tpm'] = (out_df['rnaseq_fpkm'] * 1e6) / sum_fpkm\n",
    "    pdx_row = pdx[pdx['model_id'] == 'NIBR' + sample].reset_index(drop=True)\n",
    "    mms_row = [['NIBR' + sample, sample_id, 'xenograft', pdx_row['passage_number'][0], pdx_row['host_strain_name'][0], pdx_row['host_strain_nomenclature'][0], pdx_row['engraftment_site'][0], '', 'expression_rna_seq']]\n",
    "    mms = pd.concat([mms, pd.DataFrame(mms_row, columns=mms.columns)])\n",
    "    out_df.to_csv(f'expression/DFCI-CPDM_expression_NIBR{sample}.tsv', sep='\\t', index=False)\n",
    "mms['Field'] = ''\n",
    "mms = pd.concat([mms_header, mms])"
   ],
   "id": "ab9cd252e073748f",
   "outputs": [],
   "execution_count": 80
  },
  {
   "metadata": {
    "ExecuteTime": {
     "end_time": "2024-07-04T14:29:09.779975Z",
     "start_time": "2024-07-04T14:29:09.763760Z"
    }
   },
   "cell_type": "code",
   "source": "mms.to_csv(join(home, 'DFCI-CPDM/DFCI-CPDM_molecular_metadata-sample.tsv'), sep='\\t', index=False)",
   "id": "438884d77b543069",
   "outputs": [],
   "execution_count": 79
  },
  {
   "metadata": {
    "ExecuteTime": {
     "end_time": "2024-07-05T13:13:37.778423Z",
     "start_time": "2024-07-05T13:13:37.724013Z"
    }
   },
   "cell_type": "code",
   "source": "cna.iloc[:,1:].max().max()",
   "id": "cea878a597a405fb",
   "outputs": [
    {
     "data": {
      "text/plain": [
       "173.65"
      ]
     },
     "execution_count": 7,
     "metadata": {},
     "output_type": "execute_result"
    }
   ],
   "execution_count": 7
  },
  {
   "metadata": {
    "ExecuteTime": {
     "end_time": "2024-07-05T13:13:48.419169Z",
     "start_time": "2024-07-05T13:13:48.369463Z"
    }
   },
   "cell_type": "code",
   "source": "cna.iloc[:,1:].min().min()",
   "id": "dc2b67e22ea95e1e",
   "outputs": [
    {
     "data": {
      "text/plain": [
       "0.02"
      ]
     },
     "execution_count": 8,
     "metadata": {},
     "output_type": "execute_result"
    }
   ],
   "execution_count": 8
  },
  {
   "metadata": {
    "ExecuteTime": {
     "end_time": "2024-07-05T13:14:07.202725Z",
     "start_time": "2024-07-05T13:14:07.154869Z"
    }
   },
   "cell_type": "code",
   "source": "cna.iloc[:,1:].min().max()",
   "id": "b587c341de15aeb8",
   "outputs": [
    {
     "data": {
      "text/plain": [
       "0.43"
      ]
     },
     "execution_count": 10,
     "metadata": {},
     "output_type": "execute_result"
    }
   ],
   "execution_count": 10
  },
  {
   "metadata": {
    "ExecuteTime": {
     "end_time": "2024-07-05T13:21:01.008230Z",
     "start_time": "2024-07-05T13:21:00.937469Z"
    }
   },
   "cell_type": "code",
   "source": "cna.max() [cna.max() == 173.65]",
   "id": "21ff0c776715e4c7",
   "outputs": [
    {
     "data": {
      "text/plain": [
       "X-4132    173.65\n",
       "dtype: object"
      ]
     },
     "execution_count": 14,
     "metadata": {},
     "output_type": "execute_result"
    }
   ],
   "execution_count": 14
  },
  {
   "metadata": {
    "ExecuteTime": {
     "end_time": "2024-07-05T13:21:20.000628Z",
     "start_time": "2024-07-05T13:21:19.983084Z"
    }
   },
   "cell_type": "code",
   "source": "cna[['Sample', 'X-4132']]",
   "id": "d05be111e9129321",
   "outputs": [
    {
     "data": {
      "text/plain": [
       "                Sample  X-4132\n",
       "0      ArmLevelCNScore    0.47\n",
       "1         FocalCNScore    0.18\n",
       "2                 A1BG    2.01\n",
       "3             A1BG-AS1    2.01\n",
       "4                 A1CF    1.42\n",
       "...                ...     ...\n",
       "23849           ZYG11A    1.39\n",
       "23850           ZYG11B    2.51\n",
       "23851              ZYX    2.01\n",
       "23852            ZZEF1    1.39\n",
       "23853             ZZZ3    1.51\n",
       "\n",
       "[23854 rows x 2 columns]"
      ],
      "text/html": [
       "<div>\n",
       "<style scoped>\n",
       "    .dataframe tbody tr th:only-of-type {\n",
       "        vertical-align: middle;\n",
       "    }\n",
       "\n",
       "    .dataframe tbody tr th {\n",
       "        vertical-align: top;\n",
       "    }\n",
       "\n",
       "    .dataframe thead th {\n",
       "        text-align: right;\n",
       "    }\n",
       "</style>\n",
       "<table border=\"1\" class=\"dataframe\">\n",
       "  <thead>\n",
       "    <tr style=\"text-align: right;\">\n",
       "      <th></th>\n",
       "      <th>Sample</th>\n",
       "      <th>X-4132</th>\n",
       "    </tr>\n",
       "  </thead>\n",
       "  <tbody>\n",
       "    <tr>\n",
       "      <th>0</th>\n",
       "      <td>ArmLevelCNScore</td>\n",
       "      <td>0.47</td>\n",
       "    </tr>\n",
       "    <tr>\n",
       "      <th>1</th>\n",
       "      <td>FocalCNScore</td>\n",
       "      <td>0.18</td>\n",
       "    </tr>\n",
       "    <tr>\n",
       "      <th>2</th>\n",
       "      <td>A1BG</td>\n",
       "      <td>2.01</td>\n",
       "    </tr>\n",
       "    <tr>\n",
       "      <th>3</th>\n",
       "      <td>A1BG-AS1</td>\n",
       "      <td>2.01</td>\n",
       "    </tr>\n",
       "    <tr>\n",
       "      <th>4</th>\n",
       "      <td>A1CF</td>\n",
       "      <td>1.42</td>\n",
       "    </tr>\n",
       "    <tr>\n",
       "      <th>...</th>\n",
       "      <td>...</td>\n",
       "      <td>...</td>\n",
       "    </tr>\n",
       "    <tr>\n",
       "      <th>23849</th>\n",
       "      <td>ZYG11A</td>\n",
       "      <td>1.39</td>\n",
       "    </tr>\n",
       "    <tr>\n",
       "      <th>23850</th>\n",
       "      <td>ZYG11B</td>\n",
       "      <td>2.51</td>\n",
       "    </tr>\n",
       "    <tr>\n",
       "      <th>23851</th>\n",
       "      <td>ZYX</td>\n",
       "      <td>2.01</td>\n",
       "    </tr>\n",
       "    <tr>\n",
       "      <th>23852</th>\n",
       "      <td>ZZEF1</td>\n",
       "      <td>1.39</td>\n",
       "    </tr>\n",
       "    <tr>\n",
       "      <th>23853</th>\n",
       "      <td>ZZZ3</td>\n",
       "      <td>1.51</td>\n",
       "    </tr>\n",
       "  </tbody>\n",
       "</table>\n",
       "<p>23854 rows × 2 columns</p>\n",
       "</div>"
      ]
     },
     "execution_count": 16,
     "metadata": {},
     "output_type": "execute_result"
    }
   ],
   "execution_count": 16
  },
  {
   "metadata": {},
   "cell_type": "code",
   "outputs": [],
   "execution_count": null,
   "source": "",
   "id": "a4d2d033fb48b02a"
  }
 ],
 "metadata": {
  "kernelspec": {
   "display_name": "Python 3",
   "language": "python",
   "name": "python3"
  },
  "language_info": {
   "codemirror_mode": {
    "name": "ipython",
    "version": 2
   },
   "file_extension": ".py",
   "mimetype": "text/x-python",
   "name": "python",
   "nbconvert_exporter": "python",
   "pygments_lexer": "ipython2",
   "version": "2.7.6"
  }
 },
 "nbformat": 4,
 "nbformat_minor": 5
}
